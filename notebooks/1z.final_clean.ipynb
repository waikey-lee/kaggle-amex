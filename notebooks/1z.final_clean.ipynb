{
 "cells": [
  {
   "cell_type": "markdown",
   "id": "af508e48-9169-4c06-a1a0-5a6cdad2cf14",
   "metadata": {},
   "source": [
    "### 1. Clean Parquet data from Kaggle (integer dtypes parquet)\n",
    "- This notebook aims to further clean the data taken from Kaggle's user, without affecting data quality"
   ]
  },
  {
   "cell_type": "code",
   "execution_count": 1,
   "id": "5dd2ca34-3410-4078-aa48-7adbba211ed5",
   "metadata": {},
   "outputs": [],
   "source": [
    "import pandas as pd\n",
    "pd.options.display.float_format = \"{:,.4f}\".format\n",
    "import matplotlib.pyplot as plt\n",
    "import gc\n",
    "import numpy as np\n",
    "import os\n",
    "import sys\n",
    "import warnings\n",
    "warnings.simplefilter(\"ignore\")\n",
    "warnings.filterwarnings(\"ignore\")"
   ]
  },
  {
   "cell_type": "code",
   "execution_count": 2,
   "id": "92df3e81-2387-417f-bbf6-2185b4d4b42f",
   "metadata": {},
   "outputs": [],
   "source": [
    "from pathlib import Path\n",
    "rootpath = Path.cwd().parent\n",
    "sys.path.append(os.path.join(rootpath))"
   ]
  },
  {
   "cell_type": "code",
   "execution_count": 4,
   "id": "9f28ba09-4781-4ccb-9e2b-897910a9d559",
   "metadata": {},
   "outputs": [],
   "source": [
    "from utils.eval_helpers import (\n",
    "    plot_roc_curves, plot_feature_importance, \n",
    "    amex_metric, get_final_metric_df, amex_metric_np, lgb_amex_metric\n",
    ")\n",
    "from utils.eda_helpers import (\n",
    "    plot_missing_proportion_barchart, get_cols, plot_scatterplot, plot_target_check, \n",
    "    plot_int_feature_distribution, plot_train_test_distribution, check_overlap_missing,\n",
    "    insert_row_number\n",
    ")\n",
    "from utils.extraction_helpers import read_file\n",
    "from utils.feature_group import (\n",
    "    CATEGORY_COLUMNS, CONTINUOUS_COLUMNS, BINARY_COLUMNS, \n",
    "    MEAN_FEATURES, MIN_FEATURES, MAX_FEATURES, LAST_FEATURES, NON_FEATURE_COLUMNS\n",
    ")\n",
    "from utils.constants import (\n",
    "    PROCESSED_DATA_PATH\n",
    ")\n",
    "from utils.feature_engineering_helpers import integerize"
   ]
  },
  {
   "cell_type": "code",
   "execution_count": 5,
   "id": "08cce559-a615-41c7-9d81-0a5e7b981931",
   "metadata": {},
   "outputs": [],
   "source": [
    "RAW_DATA_PATH = \"../raw_data\"\n",
    "PROCESSED_DATA_PATH = \"../processed_data\"\n",
    "SUBMISSION_DATA_PATH = \"../submissions\"\n",
    "EVALUATION_DATA_PATH = \"../evaluation_data\"\n",
    "MODELS_PATH = \"../models\""
   ]
  },
  {
   "cell_type": "code",
   "execution_count": 6,
   "id": "c269d752-15ce-49c1-9df5-6d7aa99bb23c",
   "metadata": {},
   "outputs": [],
   "source": [
    "RAW_TRAIN_PARQUET_PATH = os.path.join(RAW_DATA_PATH, \"train_parquet\")\n",
    "RAW_TRAIN_PICKLE_PATH = os.path.join(RAW_DATA_PATH, \"train_pickle\")\n",
    "RAW_TEST_PARQUET_PATH = os.path.join(RAW_DATA_PATH, \"test_parquet\")\n",
    "RAW_TEST_PICKLE_PATH = os.path.join(RAW_DATA_PATH, \"test_pickle\")"
   ]
  },
  {
   "cell_type": "code",
   "execution_count": 7,
   "id": "67194602-57fc-4e92-9801-8d600e52a5b2",
   "metadata": {},
   "outputs": [],
   "source": [
    "%load_ext autoreload\n",
    "%autoreload"
   ]
  },
  {
   "cell_type": "markdown",
   "id": "3885beac-e245-43b6-a2cc-73e9f871d132",
   "metadata": {},
   "source": [
    "### Read Data"
   ]
  },
  {
   "cell_type": "code",
   "execution_count": 8,
   "id": "731a013f-258f-49c1-b4e2-4c5fa0735d71",
   "metadata": {},
   "outputs": [
    {
     "name": "stdout",
     "output_type": "stream",
     "text": [
      "Shape of data: (5531451, 189)\n",
      "Shape of data: (11363762, 188)\n",
      "CPU times: user 16.5 s, sys: 19.2 s, total: 35.7 s\n",
      "Wall time: 23.5 s\n"
     ]
    }
   ],
   "source": [
    "%%time\n",
    "train = read_file(f\"{RAW_TRAIN_PARQUET_PATH}/train_bdpsr.parquet\", replace_negative_one=True)\n",
    "test = read_file(f\"{RAW_TEST_PARQUET_PATH}/test_bdpsr.parquet\", replace_negative_one=True)"
   ]
  },
  {
   "cell_type": "code",
   "execution_count": 9,
   "id": "f67603bc-4113-455c-b18e-a878003108e4",
   "metadata": {},
   "outputs": [],
   "source": [
    "labels = pd.read_csv(f\"{RAW_DATA_PATH}/train_labels.csv\")"
   ]
  },
  {
   "cell_type": "code",
   "execution_count": 10,
   "id": "bf30ad4a-4419-4517-9f0b-6f1a749b0628",
   "metadata": {},
   "outputs": [
    {
     "name": "stdout",
     "output_type": "stream",
     "text": [
      "CPU times: user 10 µs, sys: 35 µs, total: 45 µs\n",
      "Wall time: 46.7 µs\n"
     ]
    }
   ],
   "source": [
    "%%time\n",
    "if \"target\" not in train.columns:\n",
    "    train = train.merge(labels, on=\"customer_ID\", how=\"left\")"
   ]
  },
  {
   "cell_type": "code",
   "execution_count": 12,
   "id": "1f124212-ae9d-4ec2-9474-6df33a197702",
   "metadata": {},
   "outputs": [
    {
     "name": "stdout",
     "output_type": "stream",
     "text": [
      "CPU times: user 4.72 s, sys: 17.2 s, total: 21.9 s\n",
      "Wall time: 30 s\n"
     ]
    }
   ],
   "source": [
    "%%time\n",
    "train.loc[:, CATEGORY_COLUMNS] = train.loc[:, CATEGORY_COLUMNS].astype(\"category\")\n",
    "test.loc[:, CATEGORY_COLUMNS] = test.loc[:, CATEGORY_COLUMNS].astype(\"category\")"
   ]
  },
  {
   "cell_type": "code",
   "execution_count": 13,
   "id": "013bab7a-c44e-489b-aea8-24b5f8c14302",
   "metadata": {},
   "outputs": [
    {
     "name": "stdout",
     "output_type": "stream",
     "text": [
      "Done insertion\n",
      "Done insertion\n",
      "CPU times: user 34.6 s, sys: 508 ms, total: 35.1 s\n",
      "Wall time: 35.1 s\n"
     ]
    }
   ],
   "source": [
    "%%time\n",
    "insert_row_number(train)\n",
    "insert_row_number(test)"
   ]
  },
  {
   "cell_type": "code",
   "execution_count": 14,
   "id": "7b3ac121-3e17-463b-be9b-2faeeac70c7e",
   "metadata": {},
   "outputs": [],
   "source": [
    "train = train.drop(columns=\"temp\", errors=\"ignore\")\n",
    "test = test.drop(columns=\"temp\", errors=\"ignore\")"
   ]
  },
  {
   "cell_type": "code",
   "execution_count": 15,
   "id": "98746275-8ed2-4f8a-82a5-887e68466013",
   "metadata": {},
   "outputs": [
    {
     "data": {
      "text/plain": [
       "((5531451, 191), (11363762, 190))"
      ]
     },
     "execution_count": 15,
     "metadata": {},
     "output_type": "execute_result"
    }
   ],
   "source": [
    "train.shape, test.shape"
   ]
  },
  {
   "cell_type": "code",
   "execution_count": 17,
   "id": "b08a0678-4466-4221-a944-23ae0d30df2d",
   "metadata": {},
   "outputs": [
    {
     "name": "stdout",
     "output_type": "stream",
     "text": [
      "CPU times: user 823 ms, sys: 4.48 s, total: 5.3 s\n",
      "Wall time: 7.6 s\n"
     ]
    }
   ],
   "source": [
    "%%time\n",
    "train.to_pickle(f\"{RAW_TRAIN_PICKLE_PATH}/raw_train_bdpsr.pkl\")\n",
    "test.to_pickle(f\"{RAW_TEST_PICKLE_PATH}/raw_test_bdpsr.pkl\")"
   ]
  }
 ],
 "metadata": {
  "kernelspec": {
   "display_name": "amex",
   "language": "python",
   "name": "amex"
  },
  "language_info": {
   "codemirror_mode": {
    "name": "ipython",
    "version": 3
   },
   "file_extension": ".py",
   "mimetype": "text/x-python",
   "name": "python",
   "nbconvert_exporter": "python",
   "pygments_lexer": "ipython3",
   "version": "3.10.0"
  }
 },
 "nbformat": 4,
 "nbformat_minor": 5
}
