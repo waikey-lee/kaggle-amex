{
 "cells": [
  {
   "cell_type": "code",
   "execution_count": 2,
   "id": "5dd2ca34-3410-4078-aa48-7adbba211ed5",
   "metadata": {},
   "outputs": [],
   "source": [
    "import gc\n",
    "import joblib\n",
    "import matplotlib.pyplot as plt\n",
    "import pandas as pd\n",
    "import numpy as np\n",
    "import os\n",
    "import sys\n",
    "sys.path.append(\"../\")\n",
    "import time\n",
    "import warnings\n",
    "warnings.simplefilter(\"ignore\")\n",
    "from lightgbm import LGBMClassifier\n",
    "from sklearn.preprocessing import MinMaxScaler\n",
    "from sklearn.model_selection import train_test_split\n",
    "from tqdm import tqdm"
   ]
  },
  {
   "cell_type": "code",
   "execution_count": 3,
   "id": "88e773c8-793b-4771-85d2-80ad4e905510",
   "metadata": {},
   "outputs": [],
   "source": [
    "from utils.common import sigmoid, reverse_sigmoid\n",
    "from utils.constants import *\n",
    "from utils.extraction_helpers import read_file"
   ]
  },
  {
   "cell_type": "code",
   "execution_count": 4,
   "id": "e4698b61-dcd2-43c3-b5e3-cd5a350b5e4a",
   "metadata": {},
   "outputs": [],
   "source": [
    "%load_ext autoreload\n",
    "%autoreload"
   ]
  },
  {
   "cell_type": "markdown",
   "id": "884ad3df-d4d2-4c01-9066-8f6e70514295",
   "metadata": {},
   "source": [
    "### Gambling5"
   ]
  },
  {
   "cell_type": "code",
   "execution_count": 33,
   "id": "f542dc61-c076-4512-9a13-6a028ed5834f",
   "metadata": {},
   "outputs": [
    {
     "name": "stdout",
     "output_type": "stream",
     "text": [
      "Shape of data: (924621, 2)\n",
      "Shape of data: (924621, 2)\n",
      "Shape of data: (924621, 2)\n",
      "Shape of data: (924621, 2)\n",
      "Shape of data: (924621, 2)\n"
     ]
    }
   ],
   "source": [
    "chris  = read_file(f\"{SUBMISSION_DATA_PATH}/sorted_chris.csv\")\n",
    "waikey = read_file(f\"{SUBMISSION_DATA_PATH}/wk_seed_6666.csv\")\n",
    "ensemble = read_file(f\"{SUBMISSION_DATA_PATH}/others_ensemble.csv\")\n",
    "exp_ensemble = read_file(f\"{SUBMISSION_DATA_PATH}/others_exponential_ensemble.csv\")\n",
    "blend_trees = read_file(f\"{SUBMISSION_DATA_PATH}/others_blend_boosted_tree.csv\")"
   ]
  },
  {
   "cell_type": "code",
   "execution_count": 34,
   "id": "2deaa3db-da69-4f4d-8755-d461a410c0ad",
   "metadata": {},
   "outputs": [],
   "source": [
    "waikey[\"sigmoid_prediction\"] = waikey[\"prediction\"].apply(sigmoid)\n",
    "chris[\"reverse_sigmoid_prediction\"] = chris[\"prediction\"].apply(reverse_sigmoid)\n",
    "ensemble[\"reverse_sigmoid_prediction\"] = ensemble[\"prediction\"].apply(reverse_sigmoid)\n",
    "exp_ensemble[\"reverse_sigmoid_prediction\"] = exp_ensemble[\"prediction\"].apply(reverse_sigmoid)\n",
    "blend_trees[\"reverse_sigmoid_prediction\"] = blend_trees[\"prediction\"].apply(reverse_sigmoid)"
   ]
  },
  {
   "cell_type": "code",
   "execution_count": 35,
   "id": "e63b0be6-5102-441e-8801-52eabe0d72d2",
   "metadata": {},
   "outputs": [],
   "source": [
    "pre_blend_df = pd.DataFrame(\n",
    "    dict(\n",
    "        wk=waikey[\"sigmoid_prediction\"],\n",
    "        chris=chris[\"prediction\"],\n",
    "        ensemble=ensemble[\"prediction\"],\n",
    "        exp_ensemble=exp_ensemble[\"prediction\"],\n",
    "        blend_trees=blend_trees[\"prediction\"]\n",
    "    )\n",
    ")"
   ]
  },
  {
   "cell_type": "code",
   "execution_count": 36,
   "id": "5b4c2680-b1e1-41d8-8eb5-88f3b48407c1",
   "metadata": {},
   "outputs": [],
   "source": [
    "mscaler = MinMaxScaler()\n",
    "s1 = mscaler.fit_transform(pre_blend_df[[\"ensemble\"]])[:, 0]\n",
    "s2 = mscaler.fit_transform(pre_blend_df[[\"blend_trees\"]])[:, 0]"
   ]
  },
  {
   "cell_type": "code",
   "execution_count": 37,
   "id": "a2db5573-bdac-422d-a8a2-ace23254e3eb",
   "metadata": {},
   "outputs": [
    {
     "name": "stderr",
     "output_type": "stream",
     "text": [
      "100%|██████████████████████████████████████████████████████████████████████████████████████████████████████████████████████████████████████| 10/10 [00:00<00:00, 22.01it/s]\n"
     ]
    }
   ],
   "source": [
    "std_list = []\n",
    "for weight in tqdm(np.arange(0.5, 0.6, 0.01)):\n",
    "    pre_blend_df[\"tree_ensemble\"] = weight * s1 + (1 - weight) * s2\n",
    "    pre_blend_df = pre_blend_df.drop(columns=[\"blend_trees\", \"ensemble\"], errors=\"ignore\")\n",
    "    std_list.append(pre_blend_df[\"tree_ensemble\"])"
   ]
  },
  {
   "cell_type": "code",
   "execution_count": 38,
   "id": "82384fe9-0e41-4e70-a033-fe9c6b953ad7",
   "metadata": {},
   "outputs": [],
   "source": [
    "# t = pd.DataFrame(dict(weights=np.arange(0.01, 1, 0.01), std=std_list))\n",
    "# t.nsmallest(10, \"std\")"
   ]
  },
  {
   "cell_type": "code",
   "execution_count": 39,
   "id": "30ac7e51-e017-4635-bf3d-fda92961cc9f",
   "metadata": {},
   "outputs": [],
   "source": [
    "mscaler = MinMaxScaler()\n",
    "pre_blend_df[\"exp_ensemble\"] = mscaler.fit_transform(pre_blend_df[[\"exp_ensemble\"]])[:, 0]"
   ]
  },
  {
   "cell_type": "code",
   "execution_count": 40,
   "id": "877ffb83-f827-47fe-805e-1fc043cbdf4e",
   "metadata": {},
   "outputs": [
    {
     "data": {
      "text/html": [
       "<div>\n",
       "<style scoped>\n",
       "    .dataframe tbody tr th:only-of-type {\n",
       "        vertical-align: middle;\n",
       "    }\n",
       "\n",
       "    .dataframe tbody tr th {\n",
       "        vertical-align: top;\n",
       "    }\n",
       "\n",
       "    .dataframe thead th {\n",
       "        text-align: right;\n",
       "    }\n",
       "</style>\n",
       "<table border=\"1\" class=\"dataframe\">\n",
       "  <thead>\n",
       "    <tr style=\"text-align: right;\">\n",
       "      <th></th>\n",
       "      <th>wk</th>\n",
       "      <th>chris</th>\n",
       "      <th>exp_ensemble</th>\n",
       "      <th>tree_ensemble</th>\n",
       "    </tr>\n",
       "  </thead>\n",
       "  <tbody>\n",
       "    <tr>\n",
       "      <th>wk</th>\n",
       "      <td>1.000000</td>\n",
       "      <td>0.975540</td>\n",
       "      <td>0.984327</td>\n",
       "      <td>0.996912</td>\n",
       "    </tr>\n",
       "    <tr>\n",
       "      <th>chris</th>\n",
       "      <td>0.975540</td>\n",
       "      <td>1.000000</td>\n",
       "      <td>0.979640</td>\n",
       "      <td>0.974849</td>\n",
       "    </tr>\n",
       "    <tr>\n",
       "      <th>exp_ensemble</th>\n",
       "      <td>0.984327</td>\n",
       "      <td>0.979640</td>\n",
       "      <td>1.000000</td>\n",
       "      <td>0.989498</td>\n",
       "    </tr>\n",
       "    <tr>\n",
       "      <th>tree_ensemble</th>\n",
       "      <td>0.996912</td>\n",
       "      <td>0.974849</td>\n",
       "      <td>0.989498</td>\n",
       "      <td>1.000000</td>\n",
       "    </tr>\n",
       "  </tbody>\n",
       "</table>\n",
       "</div>"
      ],
      "text/plain": [
       "                     wk     chris  exp_ensemble  tree_ensemble\n",
       "wk             1.000000  0.975540      0.984327       0.996912\n",
       "chris          0.975540  1.000000      0.979640       0.974849\n",
       "exp_ensemble   0.984327  0.979640      1.000000       0.989498\n",
       "tree_ensemble  0.996912  0.974849      0.989498       1.000000"
      ]
     },
     "execution_count": 40,
     "metadata": {},
     "output_type": "execute_result"
    }
   ],
   "source": [
    "pre_blend_df.corr()"
   ]
  },
  {
   "cell_type": "code",
   "execution_count": 41,
   "id": "3c3aee5f-9596-4826-9f24-887f579ebcd8",
   "metadata": {},
   "outputs": [],
   "source": [
    "pre_blend_df[\"final1\"] = (\n",
    "    0.56 * pre_blend_df[\"wk\"] + 0.18 * pre_blend_df[\"chris\"] + 0.11 * pre_blend_df[\"tree_ensemble\"] + 0.15 * pre_blend_df[\"exp_ensemble\"]\n",
    ")"
   ]
  },
  {
   "cell_type": "code",
   "execution_count": 42,
   "id": "69a799ff-0907-4f8a-b153-0e4905b4e5db",
   "metadata": {},
   "outputs": [],
   "source": [
    "# sub = pd.read_csv(f\"{SUBMISSION_DATA_PATH}/empty.csv\")\n",
    "# sub[\"prediction\"] = pre_blend_df[\"final1\"].values\n",
    "# sub.to_csv(f\"{SUBMISSION_DATA_PATH}/gambling5.csv\", index=False)"
   ]
  },
  {
   "cell_type": "code",
   "execution_count": 20,
   "id": "94c2cc2f-df51-4776-a5ee-057b133340df",
   "metadata": {},
   "outputs": [
    {
     "name": "stdout",
     "output_type": "stream",
     "text": [
      "Shape of data: (924621, 2)\n"
     ]
    }
   ],
   "source": [
    "# gambling1 = read_file(f\"{SUBMISSION_DATA_PATH}/gambling5.csv\")"
   ]
  },
  {
   "cell_type": "markdown",
   "id": "52a4f6b2-7f5e-436d-a442-ab92b7cfcdf4",
   "metadata": {},
   "source": [
    "### Gambling6"
   ]
  },
  {
   "cell_type": "code",
   "execution_count": 43,
   "id": "765e55f1-9b99-4b12-bb7a-73c2137ef7d6",
   "metadata": {},
   "outputs": [
    {
     "name": "stdout",
     "output_type": "stream",
     "text": [
      "Shape of data: (924621, 2)\n",
      "Shape of data: (924621, 2)\n",
      "Shape of data: (924621, 2)\n",
      "Shape of data: (924621, 2)\n",
      "Shape of data: (924621, 2)\n"
     ]
    }
   ],
   "source": [
    "chris  = read_file(f\"{SUBMISSION_DATA_PATH}/sorted_chris.csv\")\n",
    "waikey = read_file(f\"{SUBMISSION_DATA_PATH}/wk_seed_6666.csv\")\n",
    "ensemble = read_file(f\"{SUBMISSION_DATA_PATH}/others_ensemble.csv\")\n",
    "exp_ensemble = read_file(f\"{SUBMISSION_DATA_PATH}/others_exponential_ensemble.csv\")\n",
    "blend_trees = read_file(f\"{SUBMISSION_DATA_PATH}/others_blend_boosted_tree.csv\")"
   ]
  },
  {
   "cell_type": "code",
   "execution_count": 44,
   "id": "868a2d48-6fbf-498e-9fe0-1c85828c2201",
   "metadata": {},
   "outputs": [],
   "source": [
    "waikey[\"sigmoid_prediction\"] = waikey[\"prediction\"].apply(sigmoid)\n",
    "chris[\"reverse_sigmoid_prediction\"] = chris[\"prediction\"].apply(reverse_sigmoid)\n",
    "ensemble[\"reverse_sigmoid_prediction\"] = ensemble[\"prediction\"].apply(reverse_sigmoid)\n",
    "exp_ensemble[\"reverse_sigmoid_prediction\"] = exp_ensemble[\"prediction\"].apply(reverse_sigmoid)\n",
    "blend_trees[\"reverse_sigmoid_prediction\"] = blend_trees[\"prediction\"].apply(reverse_sigmoid)"
   ]
  },
  {
   "cell_type": "code",
   "execution_count": 45,
   "id": "4ef064b5-0d94-4360-ac2e-4afb2439f51e",
   "metadata": {},
   "outputs": [],
   "source": [
    "pre_blend_df = pd.DataFrame(\n",
    "    dict(\n",
    "        wk=waikey[\"sigmoid_prediction\"],\n",
    "        chris=chris[\"prediction\"],\n",
    "        ensemble=ensemble[\"prediction\"],\n",
    "        exp_ensemble=exp_ensemble[\"prediction\"],\n",
    "        blend_trees=blend_trees[\"prediction\"]\n",
    "    )\n",
    ")"
   ]
  },
  {
   "cell_type": "code",
   "execution_count": 46,
   "id": "953724f3-83c3-4829-ba48-211b28e8b211",
   "metadata": {},
   "outputs": [],
   "source": [
    "mscaler = MinMaxScaler()\n",
    "s1 = mscaler.fit_transform(pre_blend_df[[\"ensemble\"]])[:, 0]\n",
    "s2 = mscaler.fit_transform(pre_blend_df[[\"blend_trees\"]])[:, 0]"
   ]
  },
  {
   "cell_type": "code",
   "execution_count": 47,
   "id": "9f9da5a9-09c3-4aca-95a8-c977a773346a",
   "metadata": {},
   "outputs": [
    {
     "name": "stderr",
     "output_type": "stream",
     "text": [
      "100%|██████████████████████████████████████████████████████████████████████████████████████████████████████████████████████████████████████| 10/10 [00:00<00:00, 32.83it/s]\n"
     ]
    }
   ],
   "source": [
    "std_list = []\n",
    "for weight in tqdm(np.arange(0.5, 0.6, 0.01)):\n",
    "    pre_blend_df[\"tree_ensemble\"] = weight * s1 + (1 - weight) * s2\n",
    "    pre_blend_df = pre_blend_df.drop(columns=[\"blend_trees\", \"ensemble\"], errors=\"ignore\")\n",
    "    std_list.append(pre_blend_df[\"tree_ensemble\"])"
   ]
  },
  {
   "cell_type": "code",
   "execution_count": 48,
   "id": "edb630e9-3dfe-4548-8404-3b0c0671bff1",
   "metadata": {},
   "outputs": [],
   "source": [
    "# t = pd.DataFrame(dict(weights=np.arange(0.01, 1, 0.01), std=std_list))\n",
    "# t.nsmallest(10, \"std\")"
   ]
  },
  {
   "cell_type": "code",
   "execution_count": 49,
   "id": "c36ddfcd-c0fe-4145-aeaa-1e5af86afd05",
   "metadata": {},
   "outputs": [],
   "source": [
    "mscaler = MinMaxScaler()\n",
    "pre_blend_df[\"exp_ensemble\"] = mscaler.fit_transform(pre_blend_df[[\"exp_ensemble\"]])[:, 0]"
   ]
  },
  {
   "cell_type": "code",
   "execution_count": 50,
   "id": "8f5a6f8c-e9a2-4ee1-a33b-5367efb1e495",
   "metadata": {},
   "outputs": [
    {
     "data": {
      "text/html": [
       "<div>\n",
       "<style scoped>\n",
       "    .dataframe tbody tr th:only-of-type {\n",
       "        vertical-align: middle;\n",
       "    }\n",
       "\n",
       "    .dataframe tbody tr th {\n",
       "        vertical-align: top;\n",
       "    }\n",
       "\n",
       "    .dataframe thead th {\n",
       "        text-align: right;\n",
       "    }\n",
       "</style>\n",
       "<table border=\"1\" class=\"dataframe\">\n",
       "  <thead>\n",
       "    <tr style=\"text-align: right;\">\n",
       "      <th></th>\n",
       "      <th>wk</th>\n",
       "      <th>chris</th>\n",
       "      <th>exp_ensemble</th>\n",
       "      <th>tree_ensemble</th>\n",
       "    </tr>\n",
       "  </thead>\n",
       "  <tbody>\n",
       "    <tr>\n",
       "      <th>wk</th>\n",
       "      <td>1.000000</td>\n",
       "      <td>0.975540</td>\n",
       "      <td>0.984327</td>\n",
       "      <td>0.996912</td>\n",
       "    </tr>\n",
       "    <tr>\n",
       "      <th>chris</th>\n",
       "      <td>0.975540</td>\n",
       "      <td>1.000000</td>\n",
       "      <td>0.979640</td>\n",
       "      <td>0.974849</td>\n",
       "    </tr>\n",
       "    <tr>\n",
       "      <th>exp_ensemble</th>\n",
       "      <td>0.984327</td>\n",
       "      <td>0.979640</td>\n",
       "      <td>1.000000</td>\n",
       "      <td>0.989498</td>\n",
       "    </tr>\n",
       "    <tr>\n",
       "      <th>tree_ensemble</th>\n",
       "      <td>0.996912</td>\n",
       "      <td>0.974849</td>\n",
       "      <td>0.989498</td>\n",
       "      <td>1.000000</td>\n",
       "    </tr>\n",
       "  </tbody>\n",
       "</table>\n",
       "</div>"
      ],
      "text/plain": [
       "                     wk     chris  exp_ensemble  tree_ensemble\n",
       "wk             1.000000  0.975540      0.984327       0.996912\n",
       "chris          0.975540  1.000000      0.979640       0.974849\n",
       "exp_ensemble   0.984327  0.979640      1.000000       0.989498\n",
       "tree_ensemble  0.996912  0.974849      0.989498       1.000000"
      ]
     },
     "execution_count": 50,
     "metadata": {},
     "output_type": "execute_result"
    }
   ],
   "source": [
    "pre_blend_df.corr()"
   ]
  },
  {
   "cell_type": "code",
   "execution_count": 53,
   "id": "211c2a37-c090-41fd-b2b9-1fd0e0f9a72c",
   "metadata": {},
   "outputs": [],
   "source": [
    "pre_blend_df[\"final1\"] = (\n",
    "    0.59 * pre_blend_df[\"wk\"] + 0.19 * pre_blend_df[\"chris\"] + 0.09 * pre_blend_df[\"tree_ensemble\"] + 0.13 * pre_blend_df[\"exp_ensemble\"]\n",
    ")"
   ]
  },
  {
   "cell_type": "code",
   "execution_count": 60,
   "id": "62e6f715-1bca-4722-8558-56d175dc01d5",
   "metadata": {},
   "outputs": [],
   "source": [
    "# sub = pd.read_csv(f\"{SUBMISSION_DATA_PATH}/empty.csv\")\n",
    "# sub[\"prediction\"] = pre_blend_df[\"final1\"].values\n",
    "# sub.to_csv(f\"{SUBMISSION_DATA_PATH}/gambling6.csv\", index=False)"
   ]
  },
  {
   "cell_type": "markdown",
   "id": "a7e73da8-62d9-42db-ad0b-861bd9742581",
   "metadata": {},
   "source": [
    "### Gambling7"
   ]
  },
  {
   "cell_type": "code",
   "execution_count": 61,
   "id": "be9c417f-8968-4d39-a8b4-dea212ebfa0e",
   "metadata": {},
   "outputs": [
    {
     "name": "stdout",
     "output_type": "stream",
     "text": [
      "Shape of data: (924621, 2)\n"
     ]
    }
   ],
   "source": [
    "gambling1 = read_file(f\"{SUBMISSION_DATA_PATH}/gambling1_0.801.csv\")"
   ]
  },
  {
   "cell_type": "code",
   "execution_count": 62,
   "id": "f91f6c5d-87fa-4595-be02-1e572f348fc9",
   "metadata": {},
   "outputs": [
    {
     "name": "stdout",
     "output_type": "stream",
     "text": [
      "Shape of data: (924621, 2)\n"
     ]
    }
   ],
   "source": [
    "gambling6 = read_file(f\"{SUBMISSION_DATA_PATH}/gambling6_0.801.csv\")"
   ]
  },
  {
   "cell_type": "code",
   "execution_count": 63,
   "id": "d1d2da40-24d7-41de-bf5f-fe5ad6cc56ab",
   "metadata": {},
   "outputs": [],
   "source": [
    "sub = pd.read_csv(f\"{SUBMISSION_DATA_PATH}/empty.csv\")\n",
    "sub[\"prediction\"] = 0.5 * gambling1[\"prediction\"] + 0.5 * gambling6[\"prediction\"]\n",
    "sub.to_csv(f\"{SUBMISSION_DATA_PATH}/gambling7.csv\", index=False)"
   ]
  },
  {
   "cell_type": "markdown",
   "id": "bf13a442-9839-4907-9166-f975b15b5db6",
   "metadata": {},
   "source": [
    "### Gambling8"
   ]
  },
  {
   "cell_type": "code",
   "execution_count": 4,
   "id": "bd6caa2f-735f-42b8-ab1d-16f6f544bde3",
   "metadata": {},
   "outputs": [
    {
     "name": "stdout",
     "output_type": "stream",
     "text": [
      "Shape of data: (924621, 2)\n",
      "Shape of data: (924621, 2)\n",
      "Shape of data: (924621, 2)\n",
      "Shape of data: (924621, 2)\n",
      "Shape of data: (924621, 2)\n"
     ]
    }
   ],
   "source": [
    "chris  = read_file(f\"{SUBMISSION_DATA_PATH}/sorted_chris.csv\")\n",
    "waikey = read_file(f\"{SUBMISSION_DATA_PATH}/wk_seed_6666.csv\")\n",
    "ensemble = read_file(f\"{SUBMISSION_DATA_PATH}/others_ensemble.csv\")\n",
    "exp_ensemble = read_file(f\"{SUBMISSION_DATA_PATH}/others_exponential_ensemble.csv\")\n",
    "blend_trees = read_file(f\"{SUBMISSION_DATA_PATH}/others_blend_boosted_tree.csv\")"
   ]
  },
  {
   "cell_type": "code",
   "execution_count": 5,
   "id": "6f025389-69ea-4143-a3f5-8fd4012be2b3",
   "metadata": {},
   "outputs": [],
   "source": [
    "waikey[\"sigmoid_prediction\"] = waikey[\"prediction\"].apply(sigmoid)\n",
    "chris[\"reverse_sigmoid_prediction\"] = chris[\"prediction\"].apply(reverse_sigmoid)\n",
    "ensemble[\"reverse_sigmoid_prediction\"] = ensemble[\"prediction\"].apply(reverse_sigmoid)\n",
    "exp_ensemble[\"reverse_sigmoid_prediction\"] = exp_ensemble[\"prediction\"].apply(reverse_sigmoid)\n",
    "blend_trees[\"reverse_sigmoid_prediction\"] = blend_trees[\"prediction\"].apply(reverse_sigmoid)"
   ]
  },
  {
   "cell_type": "code",
   "execution_count": 12,
   "id": "14375049-cbc6-4da4-8914-2b0e0bde6da0",
   "metadata": {},
   "outputs": [],
   "source": [
    "pre_blend_df = pd.DataFrame(\n",
    "    dict(\n",
    "        wk=waikey[\"sigmoid_prediction\"],\n",
    "        chris=chris[\"prediction\"],\n",
    "        ensemble=ensemble[\"prediction\"],\n",
    "        exp_ensemble=exp_ensemble[\"prediction\"],\n",
    "        blend_trees=blend_trees[\"prediction\"]\n",
    "    )\n",
    ")"
   ]
  },
  {
   "cell_type": "code",
   "execution_count": 13,
   "id": "82b200ed-d190-4d91-a513-c03c61efdd07",
   "metadata": {},
   "outputs": [],
   "source": [
    "mscaler = MinMaxScaler()\n",
    "s1 = mscaler.fit_transform(pre_blend_df[[\"ensemble\"]])[:, 0]\n",
    "s2 = mscaler.fit_transform(pre_blend_df[[\"blend_trees\"]])[:, 0]"
   ]
  },
  {
   "cell_type": "code",
   "execution_count": 14,
   "id": "41808ed2-cbf2-4ae6-b8c5-e7574673a037",
   "metadata": {},
   "outputs": [
    {
     "name": "stderr",
     "output_type": "stream",
     "text": [
      "100%|██████████████████████████████████████████████████████████████████████████████████████████████████████████████████████████████████████| 10/10 [00:00<00:00, 14.58it/s]\n"
     ]
    }
   ],
   "source": [
    "std_list = []\n",
    "for weight in tqdm(np.arange(0.5, 0.6, 0.01)):\n",
    "    pre_blend_df[\"tree_ensemble\"] = weight * s1 + (1 - weight) * s2\n",
    "    pre_blend_df = pre_blend_df.drop(columns=[\"blend_trees\", \"ensemble\"], errors=\"ignore\")\n",
    "    std_list.append(pre_blend_df[\"tree_ensemble\"])"
   ]
  },
  {
   "cell_type": "code",
   "execution_count": 15,
   "id": "e664a20f-63b9-486b-b60b-c1577de4cf6f",
   "metadata": {},
   "outputs": [],
   "source": [
    "# t = pd.DataFrame(dict(weights=np.arange(0.01, 1, 0.01), std=std_list))\n",
    "# t.nsmallest(10, \"std\")"
   ]
  },
  {
   "cell_type": "code",
   "execution_count": 16,
   "id": "c5e3f402-744c-4b2a-bc7c-c4896b780f9e",
   "metadata": {},
   "outputs": [],
   "source": [
    "mscaler = MinMaxScaler()\n",
    "pre_blend_df[\"exp_ensemble\"] = mscaler.fit_transform(pre_blend_df[[\"exp_ensemble\"]])[:, 0]"
   ]
  },
  {
   "cell_type": "code",
   "execution_count": 17,
   "id": "0ff38aad-933d-4422-8742-5ed33bb66481",
   "metadata": {},
   "outputs": [
    {
     "data": {
      "text/html": [
       "<div>\n",
       "<style scoped>\n",
       "    .dataframe tbody tr th:only-of-type {\n",
       "        vertical-align: middle;\n",
       "    }\n",
       "\n",
       "    .dataframe tbody tr th {\n",
       "        vertical-align: top;\n",
       "    }\n",
       "\n",
       "    .dataframe thead th {\n",
       "        text-align: right;\n",
       "    }\n",
       "</style>\n",
       "<table border=\"1\" class=\"dataframe\">\n",
       "  <thead>\n",
       "    <tr style=\"text-align: right;\">\n",
       "      <th></th>\n",
       "      <th>wk</th>\n",
       "      <th>chris</th>\n",
       "      <th>exp_ensemble</th>\n",
       "      <th>tree_ensemble</th>\n",
       "    </tr>\n",
       "  </thead>\n",
       "  <tbody>\n",
       "    <tr>\n",
       "      <th>wk</th>\n",
       "      <td>1.000000</td>\n",
       "      <td>0.975540</td>\n",
       "      <td>0.984327</td>\n",
       "      <td>0.996912</td>\n",
       "    </tr>\n",
       "    <tr>\n",
       "      <th>chris</th>\n",
       "      <td>0.975540</td>\n",
       "      <td>1.000000</td>\n",
       "      <td>0.979640</td>\n",
       "      <td>0.974849</td>\n",
       "    </tr>\n",
       "    <tr>\n",
       "      <th>exp_ensemble</th>\n",
       "      <td>0.984327</td>\n",
       "      <td>0.979640</td>\n",
       "      <td>1.000000</td>\n",
       "      <td>0.989498</td>\n",
       "    </tr>\n",
       "    <tr>\n",
       "      <th>tree_ensemble</th>\n",
       "      <td>0.996912</td>\n",
       "      <td>0.974849</td>\n",
       "      <td>0.989498</td>\n",
       "      <td>1.000000</td>\n",
       "    </tr>\n",
       "  </tbody>\n",
       "</table>\n",
       "</div>"
      ],
      "text/plain": [
       "                     wk     chris  exp_ensemble  tree_ensemble\n",
       "wk             1.000000  0.975540      0.984327       0.996912\n",
       "chris          0.975540  1.000000      0.979640       0.974849\n",
       "exp_ensemble   0.984327  0.979640      1.000000       0.989498\n",
       "tree_ensemble  0.996912  0.974849      0.989498       1.000000"
      ]
     },
     "execution_count": 17,
     "metadata": {},
     "output_type": "execute_result"
    }
   ],
   "source": [
    "pre_blend_df.corr()"
   ]
  },
  {
   "cell_type": "code",
   "execution_count": 20,
   "id": "7716548f-aaa0-4822-8ac2-ac4517c8bcf2",
   "metadata": {},
   "outputs": [],
   "source": [
    "cond1 = (pre_blend_df[\"wk\"] >= pre_blend_df[\"chris\"])"
   ]
  },
  {
   "cell_type": "code",
   "execution_count": 21,
   "id": "c0e24b05-76f6-47bb-b74b-bd86f21b58a9",
   "metadata": {},
   "outputs": [],
   "source": [
    "pre_blend_df.loc[cond1, \"mix\"] = (\n",
    "    0.64 * pre_blend_df.loc[cond1, \"wk\"] + 0.14 * pre_blend_df.loc[cond1, \"chris\"]\n",
    ")"
   ]
  },
  {
   "cell_type": "code",
   "execution_count": 22,
   "id": "d3605f21-3beb-43c1-b42e-23aaad73417c",
   "metadata": {},
   "outputs": [],
   "source": [
    "cond2 = (pre_blend_df[\"wk\"] < pre_blend_df[\"chris\"])"
   ]
  },
  {
   "cell_type": "code",
   "execution_count": 23,
   "id": "012351e3-439b-413e-a2ca-1de6cc18b582",
   "metadata": {},
   "outputs": [],
   "source": [
    "pre_blend_df.loc[cond2, \"mix\"] = (\n",
    "    0.57 * pre_blend_df.loc[cond2, \"wk\"] + 0.21 * pre_blend_df.loc[cond2, \"chris\"]\n",
    ")"
   ]
  },
  {
   "cell_type": "code",
   "execution_count": 24,
   "id": "9d5b7543-81c9-4cbb-93b7-8f69d9d98a0c",
   "metadata": {},
   "outputs": [],
   "source": [
    "pre_blend_df[\"final1\"] = (\n",
    "    0.78 * pre_blend_df[\"mix\"] + 0.09 * pre_blend_df[\"tree_ensemble\"] + 0.13 * pre_blend_df[\"exp_ensemble\"]\n",
    ")"
   ]
  },
  {
   "cell_type": "code",
   "execution_count": 25,
   "id": "0e1b8aae-86a3-4f02-97f3-9830b60b3380",
   "metadata": {},
   "outputs": [],
   "source": [
    "sub = pd.read_csv(f\"{SUBMISSION_DATA_PATH}/empty.csv\")\n",
    "sub[\"prediction\"] = pre_blend_df[\"final1\"].values\n",
    "sub.to_csv(f\"{SUBMISSION_DATA_PATH}/gambling8_chris_pro_larger.csv\", index=False)"
   ]
  },
  {
   "cell_type": "markdown",
   "id": "733b131f-7f34-4254-b830-132cfa77b6e8",
   "metadata": {},
   "source": [
    "### Gambling9"
   ]
  },
  {
   "cell_type": "code",
   "execution_count": 26,
   "id": "636a50cb-24c0-4202-9203-b0fce4afaac0",
   "metadata": {},
   "outputs": [
    {
     "name": "stdout",
     "output_type": "stream",
     "text": [
      "Shape of data: (924621, 2)\n",
      "Shape of data: (924621, 2)\n",
      "Shape of data: (924621, 2)\n",
      "Shape of data: (924621, 2)\n",
      "Shape of data: (924621, 2)\n"
     ]
    }
   ],
   "source": [
    "chris  = read_file(f\"{SUBMISSION_DATA_PATH}/sorted_chris.csv\")\n",
    "waikey = read_file(f\"{SUBMISSION_DATA_PATH}/wk_seed_6666.csv\")\n",
    "ensemble = read_file(f\"{SUBMISSION_DATA_PATH}/others_ensemble.csv\")\n",
    "exp_ensemble = read_file(f\"{SUBMISSION_DATA_PATH}/others_exponential_ensemble.csv\")\n",
    "blend_trees = read_file(f\"{SUBMISSION_DATA_PATH}/others_blend_boosted_tree.csv\")"
   ]
  },
  {
   "cell_type": "code",
   "execution_count": 27,
   "id": "8152bd6a-2758-442b-b406-a6c2d98b01c6",
   "metadata": {},
   "outputs": [],
   "source": [
    "waikey[\"sigmoid_prediction\"] = waikey[\"prediction\"].apply(sigmoid)\n",
    "chris[\"reverse_sigmoid_prediction\"] = chris[\"prediction\"].apply(reverse_sigmoid)\n",
    "ensemble[\"reverse_sigmoid_prediction\"] = ensemble[\"prediction\"].apply(reverse_sigmoid)\n",
    "exp_ensemble[\"reverse_sigmoid_prediction\"] = exp_ensemble[\"prediction\"].apply(reverse_sigmoid)\n",
    "blend_trees[\"reverse_sigmoid_prediction\"] = blend_trees[\"prediction\"].apply(reverse_sigmoid)"
   ]
  },
  {
   "cell_type": "code",
   "execution_count": 28,
   "id": "7005a4cd-6aab-4944-8a06-a4a32da3cf82",
   "metadata": {},
   "outputs": [],
   "source": [
    "pre_blend_df = pd.DataFrame(\n",
    "    dict(\n",
    "        wk=waikey[\"sigmoid_prediction\"],\n",
    "        chris=chris[\"prediction\"],\n",
    "        ensemble=ensemble[\"prediction\"],\n",
    "        exp_ensemble=exp_ensemble[\"prediction\"],\n",
    "        blend_trees=blend_trees[\"prediction\"]\n",
    "    )\n",
    ")"
   ]
  },
  {
   "cell_type": "code",
   "execution_count": 29,
   "id": "d58a9c9d-9728-45d8-a7a5-3856af19546b",
   "metadata": {},
   "outputs": [],
   "source": [
    "mscaler = MinMaxScaler()\n",
    "s1 = mscaler.fit_transform(pre_blend_df[[\"ensemble\"]])[:, 0]\n",
    "s2 = mscaler.fit_transform(pre_blend_df[[\"blend_trees\"]])[:, 0]"
   ]
  },
  {
   "cell_type": "code",
   "execution_count": 30,
   "id": "f1838bab-9979-42d6-8ee2-68f50a410933",
   "metadata": {},
   "outputs": [
    {
     "name": "stderr",
     "output_type": "stream",
     "text": [
      "100%|██████████████████████████████████████████████████████████████████████████████████████████████████████████████████████████████████████| 10/10 [00:00<00:00, 21.24it/s]\n"
     ]
    }
   ],
   "source": [
    "std_list = []\n",
    "for weight in tqdm(np.arange(0.5, 0.6, 0.01)):\n",
    "    pre_blend_df[\"tree_ensemble\"] = weight * s1 + (1 - weight) * s2\n",
    "    pre_blend_df = pre_blend_df.drop(columns=[\"blend_trees\", \"ensemble\"], errors=\"ignore\")\n",
    "    std_list.append(pre_blend_df[\"tree_ensemble\"])"
   ]
  },
  {
   "cell_type": "code",
   "execution_count": 31,
   "id": "43c01057-9d56-49c8-8b9d-6ed986820bef",
   "metadata": {},
   "outputs": [],
   "source": [
    "# t = pd.DataFrame(dict(weights=np.arange(0.01, 1, 0.01), std=std_list))\n",
    "# t.nsmallest(10, \"std\")"
   ]
  },
  {
   "cell_type": "code",
   "execution_count": 32,
   "id": "be499e09-248f-4095-98ec-ef7bd8721d59",
   "metadata": {},
   "outputs": [],
   "source": [
    "mscaler = MinMaxScaler()\n",
    "pre_blend_df[\"exp_ensemble\"] = mscaler.fit_transform(pre_blend_df[[\"exp_ensemble\"]])[:, 0]"
   ]
  },
  {
   "cell_type": "code",
   "execution_count": 33,
   "id": "14fbde8c-eb56-495b-a47f-5936ca8b8c16",
   "metadata": {},
   "outputs": [
    {
     "data": {
      "text/html": [
       "<div>\n",
       "<style scoped>\n",
       "    .dataframe tbody tr th:only-of-type {\n",
       "        vertical-align: middle;\n",
       "    }\n",
       "\n",
       "    .dataframe tbody tr th {\n",
       "        vertical-align: top;\n",
       "    }\n",
       "\n",
       "    .dataframe thead th {\n",
       "        text-align: right;\n",
       "    }\n",
       "</style>\n",
       "<table border=\"1\" class=\"dataframe\">\n",
       "  <thead>\n",
       "    <tr style=\"text-align: right;\">\n",
       "      <th></th>\n",
       "      <th>wk</th>\n",
       "      <th>chris</th>\n",
       "      <th>exp_ensemble</th>\n",
       "      <th>tree_ensemble</th>\n",
       "    </tr>\n",
       "  </thead>\n",
       "  <tbody>\n",
       "    <tr>\n",
       "      <th>wk</th>\n",
       "      <td>1.000000</td>\n",
       "      <td>0.975540</td>\n",
       "      <td>0.984327</td>\n",
       "      <td>0.996912</td>\n",
       "    </tr>\n",
       "    <tr>\n",
       "      <th>chris</th>\n",
       "      <td>0.975540</td>\n",
       "      <td>1.000000</td>\n",
       "      <td>0.979640</td>\n",
       "      <td>0.974849</td>\n",
       "    </tr>\n",
       "    <tr>\n",
       "      <th>exp_ensemble</th>\n",
       "      <td>0.984327</td>\n",
       "      <td>0.979640</td>\n",
       "      <td>1.000000</td>\n",
       "      <td>0.989498</td>\n",
       "    </tr>\n",
       "    <tr>\n",
       "      <th>tree_ensemble</th>\n",
       "      <td>0.996912</td>\n",
       "      <td>0.974849</td>\n",
       "      <td>0.989498</td>\n",
       "      <td>1.000000</td>\n",
       "    </tr>\n",
       "  </tbody>\n",
       "</table>\n",
       "</div>"
      ],
      "text/plain": [
       "                     wk     chris  exp_ensemble  tree_ensemble\n",
       "wk             1.000000  0.975540      0.984327       0.996912\n",
       "chris          0.975540  1.000000      0.979640       0.974849\n",
       "exp_ensemble   0.984327  0.979640      1.000000       0.989498\n",
       "tree_ensemble  0.996912  0.974849      0.989498       1.000000"
      ]
     },
     "execution_count": 33,
     "metadata": {},
     "output_type": "execute_result"
    }
   ],
   "source": [
    "pre_blend_df.corr()"
   ]
  },
  {
   "cell_type": "code",
   "execution_count": 35,
   "id": "f389ff78-a829-4600-9eb3-0b45f0cfd8af",
   "metadata": {},
   "outputs": [],
   "source": [
    "cond1 = (pre_blend_df[\"wk\"] >= pre_blend_df[\"chris\"])"
   ]
  },
  {
   "cell_type": "code",
   "execution_count": 36,
   "id": "d903ec3d-b3d3-4f05-88d8-c44b2900f194",
   "metadata": {},
   "outputs": [],
   "source": [
    "pre_blend_df.loc[cond1, \"mix\"] = (\n",
    "    0.57 * pre_blend_df.loc[cond1, \"wk\"] + 0.21 * pre_blend_df.loc[cond1, \"chris\"]\n",
    ")"
   ]
  },
  {
   "cell_type": "code",
   "execution_count": 37,
   "id": "75fddf89-1722-4ad9-8c5f-323c22706b10",
   "metadata": {},
   "outputs": [],
   "source": [
    "cond2 = (pre_blend_df[\"wk\"] < pre_blend_df[\"chris\"])"
   ]
  },
  {
   "cell_type": "code",
   "execution_count": 38,
   "id": "da11b837-6317-4a47-8424-3f1642f3a847",
   "metadata": {},
   "outputs": [],
   "source": [
    "pre_blend_df.loc[cond2, \"mix\"] = (\n",
    "    0.64 * pre_blend_df.loc[cond2, \"wk\"] + 0.14 * pre_blend_df.loc[cond2, \"chris\"]\n",
    ")"
   ]
  },
  {
   "cell_type": "code",
   "execution_count": 39,
   "id": "e086f7fb-dacc-43a3-8bf7-304befc9d76a",
   "metadata": {},
   "outputs": [],
   "source": [
    "pre_blend_df[\"final1\"] = (\n",
    "    0.78 * pre_blend_df[\"mix\"] + 0.09 * pre_blend_df[\"tree_ensemble\"] + 0.13 * pre_blend_df[\"exp_ensemble\"]\n",
    ")"
   ]
  },
  {
   "cell_type": "code",
   "execution_count": 40,
   "id": "feddae3b-58a5-4acd-ab65-fbce3b41cc9e",
   "metadata": {},
   "outputs": [],
   "source": [
    "sub = pd.read_csv(f\"{SUBMISSION_DATA_PATH}/empty.csv\")\n",
    "sub[\"prediction\"] = pre_blend_df[\"final1\"].values\n",
    "sub.to_csv(f\"{SUBMISSION_DATA_PATH}/gambling9_wk_pro_larger.csv\", index=False)"
   ]
  },
  {
   "cell_type": "markdown",
   "id": "30b5884a-a56c-4691-bb96-6664db347eeb",
   "metadata": {},
   "source": [
    "### Gambling10"
   ]
  },
  {
   "cell_type": "code",
   "execution_count": 17,
   "id": "fe418043-700c-4536-b927-41e1aa360531",
   "metadata": {},
   "outputs": [
    {
     "name": "stdout",
     "output_type": "stream",
     "text": [
      "Shape of data: (924621, 2)\n",
      "Shape of data: (924621, 2)\n",
      "Shape of data: (924621, 2)\n",
      "Shape of data: (924621, 2)\n",
      "Shape of data: (924621, 2)\n"
     ]
    }
   ],
   "source": [
    "chris  = read_file(f\"{SUBMISSION_DATA_PATH}/sorted_chris.csv\")\n",
    "waikey = read_file(f\"{SUBMISSION_DATA_PATH}/single_5fold_old_seed6666_dart.csv\")\n",
    "ensemble = read_file(f\"{SUBMISSION_DATA_PATH}/others_ensemble.csv\")\n",
    "exp_ensemble = read_file(f\"{SUBMISSION_DATA_PATH}/others_exponential_ensemble.csv\")\n",
    "blend_trees = read_file(f\"{SUBMISSION_DATA_PATH}/others_blend_boosted_tree.csv\")"
   ]
  },
  {
   "cell_type": "code",
   "execution_count": 18,
   "id": "5b754562-9559-4f70-beb0-d44f52119df6",
   "metadata": {},
   "outputs": [],
   "source": [
    "waikey[\"sigmoid_prediction\"] = waikey[\"prediction\"].apply(sigmoid)\n",
    "chris[\"reverse_sigmoid_prediction\"] = chris[\"prediction\"].apply(reverse_sigmoid)\n",
    "ensemble[\"reverse_sigmoid_prediction\"] = ensemble[\"prediction\"].apply(reverse_sigmoid)\n",
    "exp_ensemble[\"reverse_sigmoid_prediction\"] = exp_ensemble[\"prediction\"].apply(reverse_sigmoid)\n",
    "blend_trees[\"reverse_sigmoid_prediction\"] = blend_trees[\"prediction\"].apply(reverse_sigmoid)"
   ]
  },
  {
   "cell_type": "code",
   "execution_count": 19,
   "id": "624725f8-413c-406b-9273-c7873d5d97da",
   "metadata": {},
   "outputs": [],
   "source": [
    "pre_blend_df = pd.DataFrame(\n",
    "    dict(\n",
    "        wk=waikey[\"sigmoid_prediction\"],\n",
    "        chris=chris[\"prediction\"],\n",
    "        ensemble=ensemble[\"prediction\"],\n",
    "        exp_ensemble=exp_ensemble[\"prediction\"],\n",
    "        blend_trees=blend_trees[\"prediction\"]\n",
    "    )\n",
    ")"
   ]
  },
  {
   "cell_type": "code",
   "execution_count": 20,
   "id": "7e94a907-e6e9-4c52-ba34-6687e8e2e5a1",
   "metadata": {},
   "outputs": [],
   "source": [
    "mscaler = MinMaxScaler()\n",
    "s1 = mscaler.fit_transform(pre_blend_df[[\"ensemble\"]])[:, 0]\n",
    "s2 = mscaler.fit_transform(pre_blend_df[[\"blend_trees\"]])[:, 0]"
   ]
  },
  {
   "cell_type": "code",
   "execution_count": 21,
   "id": "1168290e-8ae0-4204-8d94-d0c9e0f82625",
   "metadata": {},
   "outputs": [
    {
     "name": "stderr",
     "output_type": "stream",
     "text": [
      "100%|██████████████████████████████████████████████████████████████████████████████████████████████████████████████████████████████████████| 10/10 [00:00<00:00, 48.22it/s]\n"
     ]
    }
   ],
   "source": [
    "std_list = []\n",
    "for weight in tqdm(np.arange(0.5, 0.6, 0.01)):\n",
    "    pre_blend_df[\"tree_ensemble\"] = weight * s1 + (1 - weight) * s2\n",
    "    pre_blend_df = pre_blend_df.drop(columns=[\"blend_trees\", \"ensemble\"], errors=\"ignore\")\n",
    "    std_list.append(pre_blend_df[\"tree_ensemble\"])"
   ]
  },
  {
   "cell_type": "code",
   "execution_count": 22,
   "id": "cb2f9196-e267-44a0-97f9-bc710fa5a8cd",
   "metadata": {},
   "outputs": [],
   "source": [
    "# t = pd.DataFrame(dict(weights=np.arange(0.01, 1, 0.01), std=std_list))\n",
    "# t.nsmallest(10, \"std\")"
   ]
  },
  {
   "cell_type": "code",
   "execution_count": 23,
   "id": "4b78f8d1-985e-4ff9-bb66-f5f1c21e6f47",
   "metadata": {},
   "outputs": [],
   "source": [
    "mscaler = MinMaxScaler()\n",
    "pre_blend_df[\"exp_ensemble\"] = mscaler.fit_transform(pre_blend_df[[\"exp_ensemble\"]])[:, 0]"
   ]
  },
  {
   "cell_type": "code",
   "execution_count": 24,
   "id": "a56ac952-6cb5-440e-82b7-907af1831c6b",
   "metadata": {},
   "outputs": [
    {
     "data": {
      "text/html": [
       "<div>\n",
       "<style scoped>\n",
       "    .dataframe tbody tr th:only-of-type {\n",
       "        vertical-align: middle;\n",
       "    }\n",
       "\n",
       "    .dataframe tbody tr th {\n",
       "        vertical-align: top;\n",
       "    }\n",
       "\n",
       "    .dataframe thead th {\n",
       "        text-align: right;\n",
       "    }\n",
       "</style>\n",
       "<table border=\"1\" class=\"dataframe\">\n",
       "  <thead>\n",
       "    <tr style=\"text-align: right;\">\n",
       "      <th></th>\n",
       "      <th>wk</th>\n",
       "      <th>chris</th>\n",
       "      <th>exp_ensemble</th>\n",
       "      <th>tree_ensemble</th>\n",
       "    </tr>\n",
       "  </thead>\n",
       "  <tbody>\n",
       "    <tr>\n",
       "      <th>wk</th>\n",
       "      <td>1.000000</td>\n",
       "      <td>0.975540</td>\n",
       "      <td>0.984327</td>\n",
       "      <td>0.996912</td>\n",
       "    </tr>\n",
       "    <tr>\n",
       "      <th>chris</th>\n",
       "      <td>0.975540</td>\n",
       "      <td>1.000000</td>\n",
       "      <td>0.979640</td>\n",
       "      <td>0.974849</td>\n",
       "    </tr>\n",
       "    <tr>\n",
       "      <th>exp_ensemble</th>\n",
       "      <td>0.984327</td>\n",
       "      <td>0.979640</td>\n",
       "      <td>1.000000</td>\n",
       "      <td>0.989498</td>\n",
       "    </tr>\n",
       "    <tr>\n",
       "      <th>tree_ensemble</th>\n",
       "      <td>0.996912</td>\n",
       "      <td>0.974849</td>\n",
       "      <td>0.989498</td>\n",
       "      <td>1.000000</td>\n",
       "    </tr>\n",
       "  </tbody>\n",
       "</table>\n",
       "</div>"
      ],
      "text/plain": [
       "                     wk     chris  exp_ensemble  tree_ensemble\n",
       "wk             1.000000  0.975540      0.984327       0.996912\n",
       "chris          0.975540  1.000000      0.979640       0.974849\n",
       "exp_ensemble   0.984327  0.979640      1.000000       0.989498\n",
       "tree_ensemble  0.996912  0.974849      0.989498       1.000000"
      ]
     },
     "execution_count": 24,
     "metadata": {},
     "output_type": "execute_result"
    }
   ],
   "source": [
    "pre_blend_df.corr()"
   ]
  },
  {
   "cell_type": "code",
   "execution_count": 14,
   "id": "c0c15930-50b2-485c-bc06-77962a34aae9",
   "metadata": {},
   "outputs": [
    {
     "data": {
      "text/html": [
       "<div>\n",
       "<style scoped>\n",
       "    .dataframe tbody tr th:only-of-type {\n",
       "        vertical-align: middle;\n",
       "    }\n",
       "\n",
       "    .dataframe tbody tr th {\n",
       "        vertical-align: top;\n",
       "    }\n",
       "\n",
       "    .dataframe thead th {\n",
       "        text-align: right;\n",
       "    }\n",
       "</style>\n",
       "<table border=\"1\" class=\"dataframe\">\n",
       "  <thead>\n",
       "    <tr style=\"text-align: right;\">\n",
       "      <th></th>\n",
       "      <th>wk</th>\n",
       "      <th>chris</th>\n",
       "      <th>exp_ensemble</th>\n",
       "      <th>tree_ensemble</th>\n",
       "    </tr>\n",
       "  </thead>\n",
       "  <tbody>\n",
       "    <tr>\n",
       "      <th>count</th>\n",
       "      <td>924621.000000</td>\n",
       "      <td>924621.000000</td>\n",
       "      <td>924621.000000</td>\n",
       "      <td>924621.000000</td>\n",
       "    </tr>\n",
       "    <tr>\n",
       "      <th>mean</th>\n",
       "      <td>0.259721</td>\n",
       "      <td>0.310571</td>\n",
       "      <td>0.327446</td>\n",
       "      <td>0.263018</td>\n",
       "    </tr>\n",
       "    <tr>\n",
       "      <th>std</th>\n",
       "      <td>0.353983</td>\n",
       "      <td>0.384566</td>\n",
       "      <td>0.323079</td>\n",
       "      <td>0.337093</td>\n",
       "    </tr>\n",
       "    <tr>\n",
       "      <th>min</th>\n",
       "      <td>0.000048</td>\n",
       "      <td>0.000488</td>\n",
       "      <td>0.000000</td>\n",
       "      <td>0.000044</td>\n",
       "    </tr>\n",
       "    <tr>\n",
       "      <th>25%</th>\n",
       "      <td>0.003226</td>\n",
       "      <td>0.003902</td>\n",
       "      <td>0.067369</td>\n",
       "      <td>0.018057</td>\n",
       "    </tr>\n",
       "    <tr>\n",
       "      <th>50%</th>\n",
       "      <td>0.030262</td>\n",
       "      <td>0.049972</td>\n",
       "      <td>0.195886</td>\n",
       "      <td>0.058354</td>\n",
       "    </tr>\n",
       "    <tr>\n",
       "      <th>75%</th>\n",
       "      <td>0.521581</td>\n",
       "      <td>0.712536</td>\n",
       "      <td>0.577492</td>\n",
       "      <td>0.493805</td>\n",
       "    </tr>\n",
       "    <tr>\n",
       "      <th>max</th>\n",
       "      <td>0.999805</td>\n",
       "      <td>0.999498</td>\n",
       "      <td>1.000000</td>\n",
       "      <td>0.999613</td>\n",
       "    </tr>\n",
       "  </tbody>\n",
       "</table>\n",
       "</div>"
      ],
      "text/plain": [
       "                  wk          chris   exp_ensemble  tree_ensemble\n",
       "count  924621.000000  924621.000000  924621.000000  924621.000000\n",
       "mean        0.259721       0.310571       0.327446       0.263018\n",
       "std         0.353983       0.384566       0.323079       0.337093\n",
       "min         0.000048       0.000488       0.000000       0.000044\n",
       "25%         0.003226       0.003902       0.067369       0.018057\n",
       "50%         0.030262       0.049972       0.195886       0.058354\n",
       "75%         0.521581       0.712536       0.577492       0.493805\n",
       "max         0.999805       0.999498       1.000000       0.999613"
      ]
     },
     "execution_count": 14,
     "metadata": {},
     "output_type": "execute_result"
    }
   ],
   "source": [
    "pre_blend_df.describe()"
   ]
  },
  {
   "cell_type": "code",
   "execution_count": 15,
   "id": "dd50d094-27ff-4a20-8c94-2e33bd0495d4",
   "metadata": {},
   "outputs": [],
   "source": [
    "pre_blend_df[\"final1\"] = (\n",
    "    0.59 * pre_blend_df[\"wk\"] + 0.19 * pre_blend_df[\"chris\"] + 0.09 * pre_blend_df[\"tree_ensemble\"] + 0.13 * pre_blend_df[\"exp_ensemble\"]\n",
    ")"
   ]
  },
  {
   "cell_type": "code",
   "execution_count": 16,
   "id": "27a26f60-7f86-4f39-8d22-c2c1966e24f1",
   "metadata": {},
   "outputs": [],
   "source": [
    "sub = pd.read_csv(f\"{SUBMISSION_DATA_PATH}/empty.csv\")\n",
    "sub[\"prediction\"] = pre_blend_df[\"final1\"].values\n",
    "sub.to_csv(f\"{SUBMISSION_DATA_PATH}/gambling10_with_new_seed6666.csv\", index=False)"
   ]
  },
  {
   "cell_type": "code",
   "execution_count": null,
   "id": "fc0bfab5-ec05-40e5-a421-4b06aa523291",
   "metadata": {},
   "outputs": [],
   "source": []
  },
  {
   "cell_type": "code",
   "execution_count": null,
   "id": "225b4613-3c3a-455c-9b97-5cec55a9de00",
   "metadata": {},
   "outputs": [],
   "source": []
  },
  {
   "cell_type": "code",
   "execution_count": null,
   "id": "936e98ba-6e95-4b6d-94a4-d31c9337beb8",
   "metadata": {},
   "outputs": [],
   "source": []
  },
  {
   "cell_type": "code",
   "execution_count": null,
   "id": "66df610d-76d0-4f2e-ac44-8886b6390bb4",
   "metadata": {},
   "outputs": [],
   "source": []
  },
  {
   "cell_type": "code",
   "execution_count": null,
   "id": "29acbd0c-3e39-4b49-9433-6aabc23cd9cd",
   "metadata": {},
   "outputs": [],
   "source": []
  },
  {
   "cell_type": "code",
   "execution_count": null,
   "id": "ff3993aa-79e7-4e92-a91d-f84409d132b1",
   "metadata": {},
   "outputs": [],
   "source": []
  },
  {
   "cell_type": "code",
   "execution_count": null,
   "id": "745b9f5b-f39d-4068-ae5a-86ed629f2c63",
   "metadata": {},
   "outputs": [],
   "source": []
  },
  {
   "cell_type": "code",
   "execution_count": 65,
   "id": "a3e291d8-d773-40bf-8a3f-11bf81fcd5c0",
   "metadata": {},
   "outputs": [
    {
     "data": {
      "image/png": "[encoded data removed]",
      "text/plain": [
       "<Figure size 864x864 with 1 Axes>"
      ]
     },
     "metadata": {
      "needs_background": "light"
     },
     "output_type": "display_data"
    }
   ],
   "source": [
    "fig, ax = plt.subplots(figsize=(12, 12))\n",
    "# plt.plot(np.arange(0, 1, 0.01), np.arange(0, 1, 0.01), color=\"orange\", linestyle=\"-\")\n",
    "# plt.xlabel(\"WK Blend\")\n",
    "# plt.ylabel(\"Chris best NN\")\n",
    "plt.scatter(gambling1[\"prediction\"], gambling6[\"prediction\"])\n",
    "# plt.scatter(ensemble[\"\"], blend_trees[\"prediction\"])\n",
    "# plt.scatter(s1, s3)\n",
    "plt.show()"
   ]
  },
  {
   "cell_type": "code",
   "execution_count": null,
   "id": "2049f254-d8c8-43c9-a283-d41d0fc65a08",
   "metadata": {},
   "outputs": [],
   "source": []
  }
 ],
 "metadata": {
  "kernelspec": {
   "display_name": "amex",
   "language": "python",
   "name": "amex"
  },
  "language_info": {
   "codemirror_mode": {
    "name": "ipython",
    "version": 3
   },
   "file_extension": ".py",
   "mimetype": "text/x-python",
   "name": "python",
   "nbconvert_exporter": "python",
   "pygments_lexer": "ipython3",
   "version": "3.10.0"
  }
 },
 "nbformat": 4,
 "nbformat_minor": 5
}
