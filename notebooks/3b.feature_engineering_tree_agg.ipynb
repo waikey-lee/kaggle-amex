{
 "cells": [
  {
   "cell_type": "code",
   "execution_count": 1,
   "id": "5dd2ca34-3410-4078-aa48-7adbba211ed5",
   "metadata": {},
   "outputs": [],
   "source": [
    "import datetime\n",
    "import gc\n",
    "import joblib\n",
    "import matplotlib.pyplot as plt\n",
    "import pandas as pd\n",
    "import numpy as np\n",
    "import os\n",
    "import scipy.stats\n",
    "import seaborn as sns\n",
    "import sys\n",
    "sys.path.append(\"../\")\n",
    "import time\n",
    "import warnings\n",
    "warnings.simplefilter(\"ignore\")\n",
    "from itertools import repeat\n",
    "from sklearn.preprocessing import StandardScaler\n",
    "from tqdm import tqdm"
   ]
  },
  {
   "cell_type": "code",
   "execution_count": 2,
   "id": "a084bef6-4434-40fb-bafc-d7d3e4c57a14",
   "metadata": {},
   "outputs": [],
   "source": [
    "from utils.common import (\n",
    "    sigmoid, pad_column_name\n",
    ")\n",
    "from utils.constants import (\n",
    "    RAW_DATA_PATH, PROCESSED_DATA_PATH\n",
    ")\n",
    "from utils.eval_helpers import (\n",
    "    plot_roc_curves, plot_feature_importance, \n",
    "    amex_metric, get_final_metric_df, amex_metric_np, lgb_amex_metric\n",
    ")\n",
    "from utils.eda_helpers import (\n",
    "    plot_missing_proportion_barchart, plot_heatmap,\n",
    "    get_cols, insert_row_number\n",
    ")\n",
    "from utils.extraction_helpers import read_file\n",
    "from utils.feature_group import (\n",
    "    CATEGORY_COLUMNS, CONTINUOUS_COLUMNS, NON_FEATURE_COLUMNS,\n",
    "    MEAN_FEATURES, MIN_FEATURES, MAX_FEATURES, LAST_FEATURES, FIRST_FEATURES,\n",
    "    RANGE_FEATURES, VELOCITY_FEATURES, SPEED_FEATURES\n",
    ")\n",
    "from utils.feature_engineering_helpers import (\n",
    "    feature_gen_pipeline,\n",
    "    filter_df_for_feature, \n",
    "    get_specific_row_df, \n",
    "    get_agg_df, get_ma_df\n",
    ")\n",
    "from utils.impute_helpers import impute_col"
   ]
  },
  {
   "cell_type": "code",
   "execution_count": 3,
   "id": "08cce559-a615-41c7-9d81-0a5e7b981931",
   "metadata": {
    "tags": []
   },
   "outputs": [],
   "source": [
    "RAW_DATA_PATH = \"../raw_data\"\n",
    "PROCESSED_DATA_PATH = \"../processed_data\"\n",
    "EVALUATION_DATA_PATH = \"../evaluation_data\"\n",
    "MODELS_PATH = \"../models\"\n",
    "EXP_PATH = \"../experiments\""
   ]
  },
  {
   "cell_type": "code",
   "execution_count": 4,
   "id": "79487a81-ce62-4847-974a-485a5ce1c515",
   "metadata": {},
   "outputs": [],
   "source": [
    "RAW_TRAIN_PICKLE_PATH = os.path.join(RAW_DATA_PATH, \"train_pickle\")\n",
    "RAW_TEST_PICKLE_PATH = os.path.join(RAW_DATA_PATH, \"test_pickle\")\n",
    "RAW_TRAIN_PARQUET_PATH = os.path.join(RAW_DATA_PATH, \"train_parquet\")\n",
    "RAW_TEST_PARQUET_PATH = os.path.join(RAW_DATA_PATH, \"test_parquet\")"
   ]
  },
  {
   "cell_type": "code",
   "execution_count": 5,
   "id": "67194602-57fc-4e92-9801-8d600e52a5b2",
   "metadata": {},
   "outputs": [],
   "source": [
    "%load_ext autoreload\n",
    "%autoreload"
   ]
  },
  {
   "cell_type": "code",
   "execution_count": 6,
   "id": "1f0163b6-0df1-4062-a177-b86c359dc4b7",
   "metadata": {},
   "outputs": [],
   "source": [
    "START = time.time()"
   ]
  },
  {
   "cell_type": "markdown",
   "id": "3885beac-e245-43b6-a2cc-73e9f871d132",
   "metadata": {},
   "source": [
    "## Feature Engineering"
   ]
  },
  {
   "cell_type": "markdown",
   "id": "ec0628c2-ceae-4f54-99a3-08d5b55bebfa",
   "metadata": {},
   "source": [
    "### Read master data & train labels"
   ]
  },
  {
   "cell_type": "code",
   "execution_count": 7,
   "id": "6735831d-0024-4122-9c7b-1280e519d03e",
   "metadata": {},
   "outputs": [
    {
     "name": "stdout",
     "output_type": "stream",
     "text": [
      "Shape of data: (5531451, 193)\n",
      "Shape of data: (458913, 2)\n",
      "CPU times: user 6.15 s, sys: 7.03 s, total: 13.2 s\n",
      "Wall time: 8.44 s\n"
     ]
    }
   ],
   "source": [
    "%%time\n",
    "raw_train = read_file(f\"{RAW_TRAIN_PARQUET_PATH}/train_psrbd.parquet\")\n",
    "labels = read_file(f\"{RAW_DATA_PATH}/train_labels.csv\")"
   ]
  },
  {
   "cell_type": "code",
   "execution_count": 8,
   "id": "5f2c45a1-99b8-4b26-ae0d-ee6168084709",
   "metadata": {},
   "outputs": [],
   "source": [
    "raw_train.loc[:, CATEGORY_COLUMNS] = raw_train.loc[:, CATEGORY_COLUMNS].astype(\"category\")"
   ]
  },
  {
   "cell_type": "code",
   "execution_count": 9,
   "id": "2179d692-baec-462d-aa54-3fa8bc038655",
   "metadata": {},
   "outputs": [
    {
     "name": "stdout",
     "output_type": "stream",
     "text": [
      "Average done\n",
      "Minimum done\n",
      "Maximum done\n",
      "Standard Deviation done\n",
      "Last entry done\n",
      "First entry done\n",
      "Second last entry done\n",
      "Third last entry done\n",
      "MA3 for Recency 1 done\n",
      "MA3 for Recency 2 done\n",
      "MA3 for Recency 3 done\n",
      "MA3 for Recency 4 done\n"
     ]
    },
    {
     "name": "stderr",
     "output_type": "stream",
     "text": [
      "100%|███████████████████████████████████████████████████████████████████████████████████████████████████████████████████████████████████| 177/177 [00:18<00:00,  9.50it/s]\n"
     ]
    },
    {
     "name": "stdout",
     "output_type": "stream",
     "text": [
      "CPU times: user 1min 8s, sys: 49 s, total: 1min 57s\n",
      "Wall time: 2min 26s\n"
     ]
    }
   ],
   "source": [
    "%%time\n",
    "train_agg = feature_gen_pipeline(raw_train)"
   ]
  },
  {
   "cell_type": "code",
   "execution_count": 10,
   "id": "d13e8aa6-2a43-4634-9845-65c06e43fc96",
   "metadata": {},
   "outputs": [],
   "source": [
    "train_agg[\"target\"] = labels[\"target\"].values"
   ]
  },
  {
   "cell_type": "code",
   "execution_count": 11,
   "id": "369cf1d7-93b9-4264-b9fd-56023f1cadf1",
   "metadata": {},
   "outputs": [
    {
     "data": {
      "text/plain": [
       "(11.985440005, (458913, 4294))"
      ]
     },
     "execution_count": 11,
     "metadata": {},
     "output_type": "execute_result"
    }
   ],
   "source": [
    "sys.getsizeof(train_agg) / 1e9, train_agg.shape"
   ]
  },
  {
   "cell_type": "code",
   "execution_count": 12,
   "id": "75f6cb55-1402-49dd-abe3-0386c711c315",
   "metadata": {},
   "outputs": [],
   "source": [
    "train_agg.to_pickle(f\"{PROCESSED_DATA_PATH}/train_agg.pkl\")"
   ]
  },
  {
   "cell_type": "code",
   "execution_count": 13,
   "id": "49083ba5-a573-423f-888f-de08f3302c73",
   "metadata": {},
   "outputs": [],
   "source": [
    "del raw_train, train_agg"
   ]
  },
  {
   "cell_type": "code",
   "execution_count": 14,
   "id": "574f292b-49cc-4150-8ecb-8ca51df06d2d",
   "metadata": {},
   "outputs": [
    {
     "name": "stdout",
     "output_type": "stream",
     "text": [
      "Shape of data: (11363762, 192)\n",
      "Average done\n",
      "Minimum done\n",
      "Maximum done\n",
      "Standard Deviation done\n",
      "Last entry done\n",
      "First entry done\n",
      "Second last entry done\n",
      "Third last entry done\n",
      "MA3 for Recency 1 done\n",
      "MA3 for Recency 2 done\n",
      "MA3 for Recency 3 done\n",
      "MA3 for Recency 4 done\n"
     ]
    },
    {
     "name": "stderr",
     "output_type": "stream",
     "text": [
      "100%|███████████████████████████████████████████████████████████████████████████████████████████████████████████████████████████████████| 177/177 [00:21<00:00,  8.31it/s]\n"
     ]
    }
   ],
   "source": [
    "%%time\n",
    "raw_test = read_file(f\"{RAW_TEST_PARQUET_PATH}/test_psrbd.parquet\")\n",
    "raw_test.loc[:, CATEGORY_COLUMNS] = raw_test.loc[:, CATEGORY_COLUMNS].astype(\"category\")\n",
    "test_agg = feature_gen_pipeline(raw_test)"
   ]
  },
  {
   "cell_type": "code",
   "execution_count": 15,
   "id": "b62c7b7a-7929-4755-8a38-2cf6e83b6d77",
   "metadata": {},
   "outputs": [
    {
     "data": {
      "text/plain": [
       "(24.076214571, (924621, 4293))"
      ]
     },
     "execution_count": 15,
     "metadata": {},
     "output_type": "execute_result"
    }
   ],
   "source": [
    "sys.getsizeof(test_agg) / 1e9, test_agg.shape"
   ]
  },
  {
   "cell_type": "code",
   "execution_count": 16,
   "id": "859a027e-a673-41af-8271-584f1aa52441",
   "metadata": {},
   "outputs": [],
   "source": [
    "test_agg.to_pickle(f\"{PROCESSED_DATA_PATH}/test_agg.pkl\")"
   ]
  },
  {
   "cell_type": "code",
   "execution_count": 17,
   "id": "bb7753c9-7e1d-4138-a75d-8b17fc6cce9e",
   "metadata": {
    "tags": []
   },
   "outputs": [],
   "source": [
    "END = time.time()"
   ]
  },
  {
   "cell_type": "code",
   "execution_count": 18,
   "id": "8e9d457c-3df8-4407-9267-6a4fa02ff08f",
   "metadata": {},
   "outputs": [
    {
     "name": "stdout",
     "output_type": "stream",
     "text": [
      "624.29 seconds elapsed\n"
     ]
    }
   ],
   "source": [
    "print(f\"{END - START:.2f} seconds elapsed\")"
   ]
  }
 ],
 "metadata": {
  "kernelspec": {
   "display_name": "amex",
   "language": "python",
   "name": "amex"
  },
  "language_info": {
   "codemirror_mode": {
    "name": "ipython",
    "version": 3
   },
   "file_extension": ".py",
   "mimetype": "text/x-python",
   "name": "python",
   "nbconvert_exporter": "python",
   "pygments_lexer": "ipython3",
   "version": "3.10.0"
  }
 },
 "nbformat": 4,
 "nbformat_minor": 5
}
