{
 "cells": [
  {
   "cell_type": "code",
   "execution_count": 1,
   "id": "aaabc149-2516-4f17-b087-a2fe275ee23b",
   "metadata": {},
   "outputs": [],
   "source": [
    "import sys\n",
    "sys.path.append(\"../\")\n",
    "# import cupy, cudf"
   ]
  },
  {
   "cell_type": "code",
   "execution_count": 2,
   "id": "5dd2ca34-3410-4078-aa48-7adbba211ed5",
   "metadata": {},
   "outputs": [],
   "source": [
    "import gc\n",
    "import matplotlib.pyplot as plt\n",
    "import numpy as np\n",
    "import os\n",
    "import pandas as pd\n",
    "import pickle\n",
    "import seaborn as sns\n",
    "from kneed import KneeLocator\n",
    "from lightgbm import LGBMClassifier\n",
    "from sklearn.model_selection import train_test_split\n",
    "from sklearn.metrics import roc_auc_score, silhouette_score\n",
    "from sklearn.cluster import KMeans\n",
    "from skopt import BayesSearchCV\n",
    "from statsmodels.tsa.stattools import adfuller, kpss, acf, pacf\n",
    "from tqdm import tqdm"
   ]
  },
  {
   "cell_type": "code",
   "execution_count": 3,
   "id": "673dd50e-8d01-4ab4-9ba2-ccc783f40d73",
   "metadata": {},
   "outputs": [],
   "source": [
    "from sklearn.decomposition import PCA"
   ]
  },
  {
   "cell_type": "code",
   "execution_count": 4,
   "id": "a084bef6-4434-40fb-bafc-d7d3e4c57a14",
   "metadata": {},
   "outputs": [],
   "source": [
    "from utils.eval_helpers import plot_roc_curves, plot_feature_importance, amex_metric\n",
    "from utils.eda_helpers import plot_missing_proportion_barchart"
   ]
  },
  {
   "cell_type": "code",
   "execution_count": 5,
   "id": "ee8b533a-591f-40e6-90a4-2357933bb83b",
   "metadata": {},
   "outputs": [
    {
     "data": {
      "text/plain": [
       "['train_labels.csv',\n",
       " '.DS_Store',\n",
       " 'train_data.parquet',\n",
       " 'test_data.parquet',\n",
       " 'test_data.ftr',\n",
       " 'train_data.csv',\n",
       " 'train_data.ftr',\n",
       " 'test_data.csv',\n",
       " 'sample_submission.csv']"
      ]
     },
     "execution_count": 5,
     "metadata": {},
     "output_type": "execute_result"
    }
   ],
   "source": [
    "RAW_DATA_PATH = \"../raw_data\"\n",
    "os.listdir(RAW_DATA_PATH)"
   ]
  },
  {
   "cell_type": "code",
   "execution_count": 6,
   "id": "08cce559-a615-41c7-9d81-0a5e7b981931",
   "metadata": {},
   "outputs": [],
   "source": [
    "PROCESSED_DATA_PATH = \"../processed_data\"\n",
    "EVALUATION_DATA_PATH = \"../evaluation_data\"\n",
    "SUBMISSION_DATA_PATH = \"../submissions\"\n",
    "MODELS_PATH = \"../models\"\n",
    "CATEGORY_COLUMNS = ['B_30', 'B_38', 'D_114', 'D_116', 'D_117', 'D_120', 'D_126', 'D_63', 'D_64', 'D_66', 'D_68']"
   ]
  },
  {
   "cell_type": "code",
   "execution_count": 7,
   "id": "67194602-57fc-4e92-9801-8d600e52a5b2",
   "metadata": {},
   "outputs": [],
   "source": [
    "%load_ext autoreload\n",
    "%autoreload"
   ]
  },
  {
   "cell_type": "markdown",
   "id": "3885beac-e245-43b6-a2cc-73e9f871d132",
   "metadata": {},
   "source": [
    "### Preprocessing Train"
   ]
  },
  {
   "cell_type": "code",
   "execution_count": 8,
   "id": "e39ca10f-6a62-4373-8b83-65875ac3f600",
   "metadata": {},
   "outputs": [],
   "source": [
    "train_data = pd.read_parquet(f\"{RAW_DATA_PATH}/train_data.parquet\")\n",
    "train_data[\"S_2\"] = pd.to_datetime(train_data[\"S_2\"])"
   ]
  },
  {
   "cell_type": "code",
   "execution_count": 9,
   "id": "2ec382aa-f899-4a0b-ae9d-a216c6dbbe83",
   "metadata": {},
   "outputs": [
    {
     "data": {
      "text/plain": [
       "(5531451, 190)"
      ]
     },
     "execution_count": 9,
     "metadata": {},
     "output_type": "execute_result"
    }
   ],
   "source": [
    "train_data.shape"
   ]
  },
  {
   "cell_type": "code",
   "execution_count": 10,
   "id": "9e9e2667-0fcb-48c0-b788-0b6f18f50a32",
   "metadata": {},
   "outputs": [
    {
     "data": {
      "text/plain": [
       "Index(['customer_ID', 'S_2', 'P_2', 'D_39', 'B_1', 'B_2', 'R_1', 'S_3', 'D_41',\n",
       "       'B_3',\n",
       "       ...\n",
       "       'D_136', 'D_137', 'D_138', 'D_139', 'D_140', 'D_141', 'D_142', 'D_143',\n",
       "       'D_144', 'D_145'],\n",
       "      dtype='object', length=190)"
      ]
     },
     "execution_count": 10,
     "metadata": {},
     "output_type": "execute_result"
    }
   ],
   "source": [
    "train_data.columns"
   ]
  },
  {
   "cell_type": "code",
   "execution_count": 11,
   "id": "f15b9fb8-5676-432f-a013-0b56c93de120",
   "metadata": {},
   "outputs": [],
   "source": [
    "train_labels = pd.read_csv(f\"{RAW_DATA_PATH}/train_labels.csv\")"
   ]
  },
  {
   "cell_type": "code",
   "execution_count": 12,
   "id": "e4c37563-9f0c-438e-b77b-5f388113578d",
   "metadata": {},
   "outputs": [
    {
     "data": {
      "text/plain": [
       "(458913, 2)"
      ]
     },
     "execution_count": 12,
     "metadata": {},
     "output_type": "execute_result"
    }
   ],
   "source": [
    "train_labels.shape"
   ]
  },
  {
   "cell_type": "code",
   "execution_count": 13,
   "id": "05634a3f-c83e-40fd-867b-3e1ea263cd19",
   "metadata": {},
   "outputs": [
    {
     "data": {
      "text/plain": [
       "Index(['customer_ID', 'target'], dtype='object')"
      ]
     },
     "execution_count": 13,
     "metadata": {},
     "output_type": "execute_result"
    }
   ],
   "source": [
    "train_labels.columns"
   ]
  },
  {
   "cell_type": "code",
   "execution_count": 14,
   "id": "3a7c9d02-5f96-4561-bdcd-3915ab1a7a6d",
   "metadata": {},
   "outputs": [],
   "source": [
    "train_data = train_data.sort_values(by=[\"customer_ID\", \"S_2\"])"
   ]
  },
  {
   "cell_type": "code",
   "execution_count": 15,
   "id": "0c4de3f5-a204-4410-bdd7-997fa60eaee0",
   "metadata": {},
   "outputs": [],
   "source": [
    "train_data = train_data.merge(train_labels, on=\"customer_ID\", how=\"left\")"
   ]
  },
  {
   "cell_type": "markdown",
   "id": "28f70acc-4e01-47cb-a362-76a83ac47568",
   "metadata": {},
   "source": [
    "### Preparation"
   ]
  },
  {
   "cell_type": "code",
   "execution_count": 16,
   "id": "3ecac652-250f-410a-9fe8-5b8fe3a1ff9c",
   "metadata": {},
   "outputs": [],
   "source": [
    "def get_cols(df, key):\n",
    "    return [col for col in df.columns if key in col]"
   ]
  },
  {
   "cell_type": "code",
   "execution_count": 17,
   "id": "a727009a-4e6e-4c89-9620-7edcf25e4773",
   "metadata": {},
   "outputs": [],
   "source": [
    "special_columns = ['customer_ID', 'S_2', 'target'] + get_cols(train_data, \"has\") + get_cols(train_data, \"sign\")"
   ]
  },
  {
   "cell_type": "code",
   "execution_count": 18,
   "id": "0bb78161-9b1a-4308-ba54-0fed27a3bead",
   "metadata": {},
   "outputs": [],
   "source": [
    "all_cols = [c for c in train_data.columns if c not in special_columns]\n",
    "cat_features = CATEGORY_COLUMNS\n",
    "num_features = [col for col in all_cols if col not in CATEGORY_COLUMNS]"
   ]
  },
  {
   "cell_type": "code",
   "execution_count": 19,
   "id": "13955cf8-67bb-4161-aff0-2872a8d786b3",
   "metadata": {},
   "outputs": [
    {
     "data": {
      "text/plain": [
       "(188, 11, 177)"
      ]
     },
     "execution_count": 19,
     "metadata": {},
     "output_type": "execute_result"
    }
   ],
   "source": [
    "len(all_cols), len(cat_features), len(num_features)"
   ]
  },
  {
   "cell_type": "code",
   "execution_count": 20,
   "id": "e0a84419-0dbb-46c5-9fa3-858b5226d352",
   "metadata": {},
   "outputs": [],
   "source": [
    "ground_truth_df = train_data.groupby(\"customer_ID\")[\"target\"].mean().reset_index()"
   ]
  },
  {
   "cell_type": "markdown",
   "id": "3f612160-9e2c-446c-9201-59c575e04391",
   "metadata": {},
   "source": [
    "#### Check Variances"
   ]
  },
  {
   "cell_type": "code",
   "execution_count": 21,
   "id": "5070eeb2-9344-412e-9a21-f5b6cde3d225",
   "metadata": {},
   "outputs": [],
   "source": [
    "num_feature_summary_stats = train_data.loc[:, num_features].describe()"
   ]
  },
  {
   "cell_type": "code",
   "execution_count": 22,
   "id": "f492bd33-0f36-46fa-b443-93ad746989a3",
   "metadata": {},
   "outputs": [],
   "source": [
    "num_feature_coef_of_vars = num_feature_summary_stats.loc[\"std\"] / num_feature_summary_stats.loc[\"mean\"]\n",
    "num_feature_coef_of_vars = num_feature_coef_of_vars.sort_values(ascending=False)"
   ]
  },
  {
   "cell_type": "code",
   "execution_count": 23,
   "id": "52c578e3-f3dd-4290-8a1b-52fc292d1a5d",
   "metadata": {},
   "outputs": [],
   "source": [
    "high_var_features = num_feature_coef_of_vars[num_feature_coef_of_vars > 1].index.tolist()\n",
    "high_var_features = sorted(high_var_features)"
   ]
  },
  {
   "cell_type": "markdown",
   "id": "0db2ca7b-a6f8-48ac-baa9-7b89fe0db0c7",
   "metadata": {},
   "source": [
    "#### Check Missing Value"
   ]
  },
  {
   "cell_type": "code",
   "execution_count": 24,
   "id": "de4f22aa-b7d7-44c8-b220-4a89d1148a03",
   "metadata": {},
   "outputs": [],
   "source": [
    "num_feature_missing_df = train_data.loc[:, num_features].isnull().sum()\n",
    "num_feature_missing_df = num_feature_missing_df / train_data.shape[0]"
   ]
  },
  {
   "cell_type": "code",
   "execution_count": 25,
   "id": "bb40067d-1b48-4481-8aa4-4fd889b27c73",
   "metadata": {},
   "outputs": [],
   "source": [
    "low_missing_features = num_feature_missing_df[num_feature_missing_df < 0.1].index.tolist()\n",
    "low_missing_features = sorted(low_missing_features)"
   ]
  },
  {
   "cell_type": "code",
   "execution_count": 26,
   "id": "b47deab0-5bb6-454d-8e41-d7263441a273",
   "metadata": {},
   "outputs": [],
   "source": [
    "high_var_low_missing_features = list(set(high_var_features).intersection(set(low_missing_features)))"
   ]
  },
  {
   "cell_type": "code",
   "execution_count": 27,
   "id": "3e54b8b1-24df-431b-b07d-b1985b59fd44",
   "metadata": {},
   "outputs": [
    {
     "data": {
      "text/plain": [
       "108"
      ]
     },
     "execution_count": 27,
     "metadata": {},
     "output_type": "execute_result"
    }
   ],
   "source": [
    "len(high_var_low_missing_features)"
   ]
  },
  {
   "cell_type": "markdown",
   "id": "c8571975-8c8c-4d63-a902-e60f4db4c96f",
   "metadata": {},
   "source": [
    "### Read Clustering + Aggregation Result"
   ]
  },
  {
   "cell_type": "code",
   "execution_count": null,
   "id": "b099c7fb-8e5b-4b9e-8a59-22cd9fdf2c88",
   "metadata": {},
   "outputs": [],
   "source": [
    "train_num_agg = pd.read_parquet(f\"{PROCESSED_DATA_PATH}/train_agg_data.parquet\")\n",
    "train_cluster_agg = pd.read_parquet(f\"{PROCESSED_DATA_PATH}/train_cluster_agg.parquet\")"
   ]
  },
  {
   "cell_type": "code",
   "execution_count": null,
   "id": "89d1546c-502e-4998-b0fc-088232f7555e",
   "metadata": {},
   "outputs": [],
   "source": [
    "train_num_agg.shape"
   ]
  },
  {
   "cell_type": "code",
   "execution_count": null,
   "id": "25b88faa-23de-4d8b-909c-a013fc6a66c7",
   "metadata": {},
   "outputs": [],
   "source": [
    "train_cluster_agg.shape"
   ]
  },
  {
   "cell_type": "code",
   "execution_count": null,
   "id": "a06589f2-a75d-4aed-909c-f8556c5b0a66",
   "metadata": {},
   "outputs": [],
   "source": [
    "train_data_all_agg = pd.concat([train_cluster_agg.set_index(\"customer_ID\"), train_num_agg], axis=1)"
   ]
  },
  {
   "cell_type": "code",
   "execution_count": null,
   "id": "10b9449c-f840-4572-9fcb-afa5e924a367",
   "metadata": {},
   "outputs": [],
   "source": [
    "train_data_all_agg = train_data_all_agg.reset_index()"
   ]
  },
  {
   "cell_type": "code",
   "execution_count": null,
   "id": "91cb1fa9-57c4-423b-8da6-6791421f829b",
   "metadata": {},
   "outputs": [],
   "source": [
    "train_data_all_agg[[\"D_63_last\", \"D_64_last\"]] = train_data_all_agg[[\"D_63_last\", \"D_64_last\"]].astype(\"category\")"
   ]
  },
  {
   "cell_type": "code",
   "execution_count": null,
   "id": "2739b822-460b-43c2-aeb1-1e1e4225534e",
   "metadata": {},
   "outputs": [],
   "source": [
    "del train_cluster_agg, train_num_agg"
   ]
  },
  {
   "cell_type": "code",
   "execution_count": null,
   "id": "32799ee6-cfe8-441f-9e6e-57a178e841b9",
   "metadata": {},
   "outputs": [],
   "source": [
    "cluster_cols = get_cols(train_data_all_agg, key=\"cluster\")"
   ]
  },
  {
   "cell_type": "code",
   "execution_count": null,
   "id": "de315edb-283e-4c0d-882e-8daa5d0646f0",
   "metadata": {},
   "outputs": [],
   "source": [
    "train_data_all_agg[cluster_cols] = train_data_all_agg[cluster_cols].astype(\"category\")"
   ]
  },
  {
   "cell_type": "code",
   "execution_count": null,
   "id": "32eb41c8-bcd7-427f-903b-3d1dde235340",
   "metadata": {},
   "outputs": [],
   "source": [
    "for column in tqdm(cluster_cols):\n",
    "    temp_dict = train_data_all_agg.groupby(column)[\"target\"].mean().to_dict()\n",
    "    train_data_all_agg.loc[:, f\"{column}_\"] = train_data_all_agg.loc[:, column].map(temp_dict).astype(float)\n",
    "    train_data_all_agg = train_data_all_agg.drop(columns=column)"
   ]
  },
  {
   "cell_type": "code",
   "execution_count": null,
   "id": "dfdd624b-d41a-4204-b374-2dd582259781",
   "metadata": {},
   "outputs": [],
   "source": []
  },
  {
   "cell_type": "code",
   "execution_count": null,
   "id": "ff9af6fd-ba30-45d0-806c-8995fe63406a",
   "metadata": {},
   "outputs": [],
   "source": []
  },
  {
   "cell_type": "markdown",
   "id": "0692ad7f-9007-40e6-ab7f-29ae9f8f238a",
   "metadata": {},
   "source": [
    "### Clustering"
   ]
  },
  {
   "cell_type": "code",
   "execution_count": 29,
   "id": "aeff1a44-efc3-49aa-9749-2ab7614b8a2c",
   "metadata": {},
   "outputs": [],
   "source": [
    "train_data[\"Date\"] = train_data[\"S_2\"].dt.to_period(\"M\")"
   ]
  },
  {
   "cell_type": "code",
   "execution_count": 33,
   "id": "36d5053a-153e-4161-9fad-ca3e046706ab",
   "metadata": {},
   "outputs": [],
   "source": [
    "train_data_agg = train_data.groupby(\"customer_ID\")[\"Date\"].count().reset_index()"
   ]
  },
  {
   "cell_type": "code",
   "execution_count": 37,
   "id": "a91d5b77-4b17-4f55-8ede-b3333d0bc318",
   "metadata": {},
   "outputs": [],
   "source": [
    "train_data_agg[\"target\"] = train_labels[\"target\"].to_list()"
   ]
  },
  {
   "cell_type": "code",
   "execution_count": 38,
   "id": "5ae82410-c1a9-4751-a4dd-0bf748d14b76",
   "metadata": {},
   "outputs": [
    {
     "name": "stdout",
     "output_type": "stream",
     "text": [
      "Models for column B_23 has already exists, skip the clustering\n",
      "Models for column R_28 has already exists, skip the clustering\n",
      "Models for column B_40 has already exists, skip the clustering\n",
      "Models for column D_143 has already exists, skip the clustering\n",
      "Models for column S_18 has already exists, skip the clustering\n",
      "Models for column D_80 has already exists, skip the clustering\n",
      "Models for column B_7 has already exists, skip the clustering\n",
      "Models for column D_75 has already exists, skip the clustering\n",
      "Models for column B_12 has already exists, skip the clustering\n",
      "Models for column D_70 has already exists, skip the clustering\n",
      "Models for column R_11 has already exists, skip the clustering\n",
      "Models for column R_23 has already exists, skip the clustering\n",
      "Models for column S_16 has already exists, skip the clustering\n",
      "Models for column B_25 has already exists, skip the clustering\n",
      "Column D_58:\n",
      "By using 2 of PCA features, we can explain 0.951 of the variation\n",
      "It has been divided into 4 clusters\n",
      "Its Kmeans cluster achieves min 0.18 and max 0.69 of positive proportion\n",
      "Successfully export both models & result\n",
      "\n",
      "Models for column D_51 has already exists, skip the clustering\n",
      "Models for column D_109 has already exists, skip the clustering\n",
      "Models for column D_71 has already exists, skip the clustering\n",
      "Column S_5:\n",
      "By using 4 of PCA features, we can explain 0.863 of the variation\n",
      "It has been divided into 5 clusters\n",
      "Its Kmeans cluster achieves min 0.00 and max 0.30 of positive proportion\n",
      "Successfully export both models & result\n",
      "\n",
      "Models for column R_6 has already exists, skip the clustering\n",
      "Models for column D_130 has already exists, skip the clustering\n",
      "Models for column D_65 has already exists, skip the clustering\n",
      "Models for column B_20 has already exists, skip the clustering\n",
      "Models for column D_81 has already exists, skip the clustering\n",
      "Models for column R_2 has already exists, skip the clustering\n",
      "Models for column B_9 has already exists, skip the clustering\n",
      "Models for column R_19 has already exists, skip the clustering\n",
      "Models for column D_86 has already exists, skip the clustering\n",
      "Models for column S_6 has already exists, skip the clustering\n",
      "Column D_93:\n",
      "By using 2 of PCA features, we can explain 0.921 of the variation\n",
      "It has been divided into 3 clusters\n",
      "Its Kmeans cluster achieves min 0.07 and max 0.26 of positive proportion\n",
      "Successfully export both models & result\n",
      "\n",
      "Models for column R_13 has already exists, skip the clustering\n",
      "Models for column D_129 has already exists, skip the clustering\n",
      "Models for column D_125 has already exists, skip the clustering\n",
      "Column D_74:\n",
      "By using 2 of PCA features, we can explain 0.972 of the variation\n",
      "It has been divided into 4 clusters\n",
      "Its Kmeans cluster achieves min 0.19 and max 0.81 of positive proportion\n",
      "Successfully export both models & result\n",
      "\n",
      "Models for column B_16 has already exists, skip the clustering\n",
      "Column R_15:\n",
      "By using 9 of PCA features, we can explain 0.884 of the variation\n",
      "It has been divided into 3 clusters\n",
      "Its Kmeans cluster achieves min 0.23 and max 0.66 of positive proportion\n",
      "Successfully export both models & result\n",
      "\n",
      "Models for column D_41 has already exists, skip the clustering\n",
      "Models for column B_21 has already exists, skip the clustering\n",
      "Models for column D_140 has already exists, skip the clustering\n",
      "Models for column D_131 has already exists, skip the clustering\n",
      "Models for column D_92 has already exists, skip the clustering\n",
      "Models for column B_14 has already exists, skip the clustering\n",
      "Models for column D_133 has already exists, skip the clustering\n",
      "Models for column B_28 has already exists, skip the clustering\n",
      "Models for column B_37 has already exists, skip the clustering\n",
      "Models for column D_39 has already exists, skip the clustering\n",
      "Models for column D_89 has already exists, skip the clustering\n",
      "Models for column D_83 has already exists, skip the clustering\n",
      "Models for column D_113 has already exists, skip the clustering\n",
      "Models for column D_123 has already exists, skip the clustering\n",
      "Models for column D_141 has already exists, skip the clustering\n",
      "Models for column S_26 has already exists, skip the clustering\n",
      "Models for column R_22 has already exists, skip the clustering\n",
      "Models for column D_72 has already exists, skip the clustering\n",
      "Models for column D_94 has already exists, skip the clustering\n",
      "Models for column B_13 has already exists, skip the clustering\n",
      "Models for column S_23 has already exists, skip the clustering\n",
      "Column S_12:\n",
      "By using 9 of PCA features, we can explain 0.851 of the variation\n",
      "It has been divided into 5 clusters\n",
      "Its Kmeans cluster achieves min 0.25 and max 0.50 of positive proportion\n",
      "Successfully export both models & result\n",
      "\n",
      "Models for column D_139 has already exists, skip the clustering\n",
      "Models for column B_8 has already exists, skip the clustering\n",
      "Models for column D_91 has already exists, skip the clustering\n",
      "Models for column R_24 has already exists, skip the clustering\n",
      "Models for column D_96 has already exists, skip the clustering\n",
      "Models for column B_4 has already exists, skip the clustering\n",
      "Models for column R_20 has already exists, skip the clustering\n",
      "Models for column R_4 has already exists, skip the clustering\n",
      "Models for column R_5 has already exists, skip the clustering\n",
      "Models for column B_22 has already exists, skip the clustering\n",
      "Column D_144:\n",
      "By using 2 of PCA features, we can explain 0.960 of the variation\n",
      "It has been divided into 4 clusters\n",
      "Its Kmeans cluster achieves min 0.19 and max 0.27 of positive proportion\n",
      "Successfully export both models & result\n",
      "\n",
      "Column D_102:\n",
      "By using 2 of PCA features, we can explain 0.923 of the variation\n",
      "It has been divided into 4 clusters\n",
      "Its Kmeans cluster achieves min 0.20 and max 0.28 of positive proportion\n",
      "Successfully export both models & result\n",
      "\n",
      "Models for column R_21 has already exists, skip the clustering\n",
      "Models for column B_6 has already exists, skip the clustering\n",
      "Column D_104:\n",
      "By using 2 of PCA features, we can explain 0.964 of the variation\n",
      "It has been divided into 3 clusters\n",
      "Its Kmeans cluster achieves min 0.22 and max 0.28 of positive proportion\n",
      "Successfully export both models & result\n",
      "\n",
      "Models for column B_3 has already exists, skip the clustering\n",
      "Models for column R_17 has already exists, skip the clustering\n",
      "Models for column D_44 has already exists, skip the clustering\n",
      "Models for column D_84 has already exists, skip the clustering\n",
      "Models for column B_5 has already exists, skip the clustering\n",
      "Models for column D_79 has already exists, skip the clustering\n",
      "Models for column D_127 has already exists, skip the clustering\n",
      "Models for column R_7 has already exists, skip the clustering\n",
      "Models for column R_10 has already exists, skip the clustering\n",
      "Models for column S_13 has already exists, skip the clustering\n",
      "Models for column R_3 has already exists, skip the clustering\n",
      "Models for column D_78 has already exists, skip the clustering\n",
      "Models for column S_20 has already exists, skip the clustering\n",
      "Models for column B_10 has already exists, skip the clustering\n",
      "Models for column B_26 has already exists, skip the clustering\n",
      "Models for column R_16 has already exists, skip the clustering\n",
      "Models for column R_25 has already exists, skip the clustering\n",
      "Models for column S_24 has already exists, skip the clustering\n",
      "Models for column B_41 has already exists, skip the clustering\n",
      "Models for column R_1 has already exists, skip the clustering\n",
      "Models for column R_8 has already exists, skip the clustering\n",
      "Models for column D_145 has already exists, skip the clustering\n",
      "Models for column D_103 has already exists, skip the clustering\n",
      "Models for column B_15 has already exists, skip the clustering\n",
      "Models for column B_19 has already exists, skip the clustering\n",
      "Models for column B_36 has already exists, skip the clustering\n",
      "Models for column D_69 has already exists, skip the clustering\n",
      "Models for column R_14 has already exists, skip the clustering\n",
      "Models for column B_1 has already exists, skip the clustering\n",
      "Models for column B_24 has already exists, skip the clustering\n",
      "Models for column P_4 has already exists, skip the clustering\n",
      "Models for column B_32 has already exists, skip the clustering\n",
      "Models for column S_17 has already exists, skip the clustering\n",
      "Models for column B_11 has already exists, skip the clustering\n",
      "Models for column D_107 has already exists, skip the clustering\n"
     ]
    }
   ],
   "source": [
    "for column in high_var_low_missing_features:\n",
    "    pca_model_filepath = f\"{MODELS_PATH}/pca/{column}.pkl\"\n",
    "    kmeans_model_filepath = f\"{MODELS_PATH}/kmeans/{column}.pkl\"\n",
    "    kmeans_result_filepath = f\"{EVALUATION_DATA_PATH}/kmeans/{column}.csv\"\n",
    "    \n",
    "    if all([os.path.exists(pca_model_filepath),\n",
    "            os.path.exists(kmeans_model_filepath),\n",
    "            os.path.exists(kmeans_result_filepath)]):\n",
    "        print(f\"Models for column {column} has already exists, skip the clustering\")\n",
    "        continue\n",
    "    else:\n",
    "        # Convert time series (column) to row\n",
    "        unstack_df = train_data.groupby(['customer_ID', 'Date'])[column].mean().unstack().reset_index()\n",
    "        unstack_df.columns = [\"customer_ID\"] + [f\"pre_pca_{i}\" for i in range(1, 14)]\n",
    "        unstack_df_bfilled = unstack_df.bfill(axis=1)\n",
    "        unstack_df_bfilled = unstack_df_bfilled.fillna(0)\n",
    "        print(f\"Column {column}:\")\n",
    "\n",
    "        # Fit PCA\n",
    "        X = unstack_df_bfilled.iloc[:, 1:].to_numpy()\n",
    "        pca = PCA(n_components=13)\n",
    "        pca.fit(X)\n",
    "        current_length = 1\n",
    "        explained_var = 0\n",
    "        while explained_var < 0.85:\n",
    "            current_length += 1\n",
    "            explained_var = pca.explained_variance_ratio_[:current_length].sum()\n",
    "            \n",
    "        print(f\"By using {current_length} of PCA features, we can explain {explained_var:.3f} of the variation\")\n",
    "\n",
    "        # Transform using PCA\n",
    "        pca_columns = [\"pca{i}\" for i in range(current_length)]\n",
    "        unstack_df_bfilled[pca_columns] = pca.transform(X)[:, :current_length]\n",
    "        unstack_df_bfilled = unstack_df_bfilled.merge(ground_truth_df, on=\"customer_ID\", how=\"left\")\n",
    "\n",
    "        # KMeans inertia find solution\n",
    "        kmeans_kwargs = dict(init=\"random\", n_init=10, max_iter=100, random_state=1020)\n",
    "        sse = []\n",
    "        experiment_cluster_numbers = range(2, 9)\n",
    "        scaled_features = unstack_df_bfilled[pca_columns]\n",
    "\n",
    "        for k in experiment_cluster_numbers:\n",
    "            kmeans = KMeans(n_clusters=k, **kmeans_kwargs)\n",
    "            kmeans.fit(scaled_features)\n",
    "            sse.append(kmeans.inertia_)\n",
    "        kl = KneeLocator(experiment_cluster_numbers, sse, curve=\"convex\", direction=\"decreasing\")\n",
    "        print(f\"It has been divided into {kl.elbow:.0f} clusters\")\n",
    "\n",
    "        # Refit with the best cluster number\n",
    "        kmeans = KMeans(n_clusters=kl.elbow, **kmeans_kwargs)\n",
    "        kmeans.fit(unstack_df_bfilled[pca_columns])\n",
    "        unstack_df_bfilled[\"cluster\"] = kmeans.labels_\n",
    "        train_data_agg[f\"{column}_kmeans_cluster\"] = kmeans.labels_\n",
    "\n",
    "        # Print the cluster preditive ability\n",
    "        max_pos_proportion = unstack_df_bfilled.groupby(\"cluster\")[\"target\"].mean().max()\n",
    "        min_pos_proportion = unstack_df_bfilled.groupby(\"cluster\")[\"target\"].mean().min()\n",
    "        print(f\"Its Kmeans cluster achieves min {min_pos_proportion:.2f} and max {max_pos_proportion:.2f} of positive proportion\")\n",
    "    \n",
    "    \n",
    "        # Calculate default probability for each cluster\n",
    "        target_dist_by_cluster = train_data_agg.groupby(f\"{column}_kmeans_cluster\").agg(default_prop=(\"target\", \"mean\"), \n",
    "                                                                                        size=(\"target\", \"count\")).reset_index()\n",
    "        # Export the model & data out\n",
    "        pickle.dump(pca, open(pca_model_filepath, 'wb'))\n",
    "        pickle.dump(kmeans, open(kmeans_model_filepath, 'wb'))\n",
    "        target_dist_by_cluster.to_csv(kmeans_result_filepath, index=False)\n",
    "\n",
    "        print(\"Successfully export both models & result\", end=\"\\n\\n\")"
   ]
  },
  {
   "cell_type": "code",
   "execution_count": 39,
   "id": "409af794-2441-4b4e-97ce-752f160a8acb",
   "metadata": {},
   "outputs": [],
   "source": [
    "include_kmeans_balance_columns = [\"B_1\", \"B_3\", \"B_4\", \"B_7\", \"B_9\", \"B_11\", \"B_16\", \"B_19\", \"B_20\", \"B_22\", \"B_23\", \"B_37\"]"
   ]
  },
  {
   "cell_type": "code",
   "execution_count": 42,
   "id": "b8770f2a-9b61-45b1-9f24-eeafa1bd1bcc",
   "metadata": {},
   "outputs": [],
   "source": [
    "include_kmeans_delinquency_columns = [\"D_39\", \"D_41\", \"D_44\", \"D_51\", \"D_58\", \"D_70\", \"D_74\", \"D_75\", \"D_78\", \"D_92\", \n",
    "                                      \"D_113\", \"D_127\", \"D_133\"]"
   ]
  },
  {
   "cell_type": "code",
   "execution_count": 43,
   "id": "7b0ce204-f3fe-490e-9c74-101620b74456",
   "metadata": {},
   "outputs": [],
   "source": [
    "include_kmeans_payment_risk_columns = [\"P_4\", \"R_1\", \"R_2\", \"R_3\", \"R_4\", \"R_10\", \"R_15\"]"
   ]
  },
  {
   "cell_type": "code",
   "execution_count": 44,
   "id": "b12a72f9-9b57-44b7-ba70-451efbca905c",
   "metadata": {},
   "outputs": [],
   "source": [
    "include_kmeans_spend_columns = [\"S_6\", \"S_13\"]"
   ]
  },
  {
   "cell_type": "code",
   "execution_count": null,
   "id": "7dca01d8-79eb-45de-8f5f-1d0607f00684",
   "metadata": {},
   "outputs": [],
   "source": [
    "train_data_agg.head()"
   ]
  },
  {
   "cell_type": "code",
   "execution_count": null,
   "id": "579a0e46-6a9f-47a2-a8f2-633631d572c8",
   "metadata": {},
   "outputs": [],
   "source": [
    "plt.style.use(\"fivethirtyeight\")\n",
    "plt.plot(experiment_cluster_numbers, sse)\n",
    "plt.xticks(experiment_cluster_numbers)\n",
    "plt.xlabel(\"Number of Clusters\")\n",
    "plt.ylabel(\"SSE\")\n",
    "plt.show()"
   ]
  },
  {
   "cell_type": "code",
   "execution_count": null,
   "id": "a6f423d5-80d6-4b17-92b9-7016bc66a12a",
   "metadata": {},
   "outputs": [],
   "source": [
    "b1_unstack_bfill_[\"pca1\"] = b1_unstack_bfill[\"pca1\"].apply(lambda x: min(x, 1))\n",
    "b1_unstack_bfill_[\"pca2\"] = b1_unstack_bfill[\"pca2\"].apply(lambda x: min(x, 1))"
   ]
  },
  {
   "cell_type": "code",
   "execution_count": null,
   "id": "163495a8-3312-40b1-b005-d4272d7d07b4",
   "metadata": {},
   "outputs": [],
   "source": [
    "b1_unstack_bfill_ = b1_unstack_bfill_.sort_values(by=\"target\", ascending=False)"
   ]
  },
  {
   "cell_type": "code",
   "execution_count": null,
   "id": "18bec62e-fcb4-4da3-acec-28cbd3d7f8ab",
   "metadata": {},
   "outputs": [],
   "source": [
    "plt.figure(figsize=(21, 10))\n",
    "sns.scatterplot(data=b1_unstack_bfill_, \n",
    "                x=b1_unstack_bfill_[\"pca1\"], \n",
    "                y=b1_unstack_bfill_[\"pca2\"],\n",
    "                hue=b1_unstack_bfill_[\"target\"],\n",
    "                s=5)\n",
    "plt.show()"
   ]
  },
  {
   "cell_type": "code",
   "execution_count": null,
   "id": "be5148eb-a5de-44d5-b456-961027cadb78",
   "metadata": {},
   "outputs": [],
   "source": [
    "# train_data_agg.to_parquet(f\"{PROCESSED_DATA_PATH}/train_cluster_agg.parquet\")"
   ]
  },
  {
   "cell_type": "markdown",
   "id": "6277c538-cc01-4b78-8149-cee14eb0d367",
   "metadata": {},
   "source": [
    "### Try Training"
   ]
  },
  {
   "cell_type": "code",
   "execution_count": null,
   "id": "812c297c-7f96-4013-82af-8cf685515b52",
   "metadata": {},
   "outputs": [],
   "source": [
    "train, val = train_test_split(train_data_all_agg, \n",
    "                              test_size=0.15, \n",
    "                              random_state=1020, \n",
    "                              stratify=train_data_all_agg[\"target\"])"
   ]
  },
  {
   "cell_type": "code",
   "execution_count": null,
   "id": "47556372-93d4-4951-92aa-f34b6107b102",
   "metadata": {},
   "outputs": [],
   "source": [
    "train[\"target\"].mean(), val[\"target\"].mean()"
   ]
  },
  {
   "cell_type": "code",
   "execution_count": null,
   "id": "31d30b3e-6002-4aad-a5ad-5322d763f4e8",
   "metadata": {},
   "outputs": [],
   "source": [
    "X_train = train.drop(columns=[\"customer_ID\", \"Date\", \"target\", \"max_date\", \"min_date\"])\n",
    "X_val = val.drop(columns=[\"customer_ID\", \"Date\", \"target\", \"max_date\", \"min_date\"])"
   ]
  },
  {
   "cell_type": "code",
   "execution_count": null,
   "id": "d491633b-59ad-462b-bcfd-8092dc6ef381",
   "metadata": {},
   "outputs": [],
   "source": [
    "y_train = train[\"target\"]\n",
    "y_val = val[\"target\"]"
   ]
  },
  {
   "cell_type": "code",
   "execution_count": null,
   "id": "c99bab20-f398-4339-8b89-ee56ac924be8",
   "metadata": {},
   "outputs": [],
   "source": [
    "best_params = {'boosting_type': 'gbdt',\n",
    " 'class_weight': None,\n",
    " 'colsample_bytree': 0.88,\n",
    " 'importance_type': 'split',\n",
    " 'learning_rate': 0.1,\n",
    " 'max_depth': 15,\n",
    " 'min_child_samples': 20,\n",
    " 'min_child_weight': 0.001,\n",
    " 'min_split_gain': 0.04,\n",
    " 'n_estimators': 120,\n",
    " 'n_jobs': -1,\n",
    " 'num_leaves': 68,\n",
    " 'objective': None,\n",
    " 'random_state': 1020,\n",
    " 'reg_alpha': 0,\n",
    " 'reg_lambda': 6,\n",
    " 'silent': True,\n",
    " 'subsample': 0.85,\n",
    " 'subsample_for_bin': 200000,\n",
    " 'subsample_freq': 5,\n",
    " 'scale_pos_weight': 6}"
   ]
  },
  {
   "cell_type": "code",
   "execution_count": null,
   "id": "10dc949d-3a8f-42d9-a287-2cd747eb646b",
   "metadata": {},
   "outputs": [],
   "source": [
    "final_lgbm_clf = LGBMClassifier(**best_params)"
   ]
  },
  {
   "cell_type": "code",
   "execution_count": null,
   "id": "cf3f31a2-5c8b-462b-8568-e35aaf8a2731",
   "metadata": {},
   "outputs": [],
   "source": [
    "final_lgbm_clf.fit(X_train, y_train)"
   ]
  },
  {
   "cell_type": "code",
   "execution_count": null,
   "id": "304f5796-4c03-4164-ae84-2833330b75a0",
   "metadata": {},
   "outputs": [],
   "source": [
    "imp_df = plot_feature_importance(final_lgbm_clf.feature_name_, \n",
    "                                 final_lgbm_clf.feature_importances_, \n",
    "                                 title=\"Feature Importance\",\n",
    "                                 limit=40)"
   ]
  },
  {
   "cell_type": "code",
   "execution_count": null,
   "id": "a671947b-6dc2-42b1-9940-86f1b307c697",
   "metadata": {},
   "outputs": [],
   "source": [
    "y_train_pred = final_lgbm_clf.predict_proba(X_train)[:, 1]\n",
    "y_val_pred = final_lgbm_clf.predict_proba(X_val)[:, 1]"
   ]
  },
  {
   "cell_type": "code",
   "execution_count": null,
   "id": "3ac788b2-c468-4485-bdb4-f5c2c672c3e8",
   "metadata": {},
   "outputs": [],
   "source": [
    "plot_roc_curves([y_train, y_val], \n",
    "                [y_train_pred, y_val_pred], \n",
    "                labels=[\"Train\", \"Validation\"], \n",
    "                title=\"Train Validation ROC AUC\")"
   ]
  },
  {
   "cell_type": "code",
   "execution_count": null,
   "id": "1acd1322-7a87-4abc-b9c9-24a0058681ca",
   "metadata": {},
   "outputs": [],
   "source": [
    "y_train_df = pd.DataFrame(y_train).reset_index(drop=True)\n",
    "y_train_pred_df = pd.DataFrame(y_train_pred).rename(columns={0: \"prediction\"})"
   ]
  },
  {
   "cell_type": "code",
   "execution_count": null,
   "id": "60a28b82-6d5b-4efd-bcc0-590d7e477583",
   "metadata": {},
   "outputs": [],
   "source": [
    "amex_metric(y_train_df, y_train_pred_df)"
   ]
  },
  {
   "cell_type": "code",
   "execution_count": null,
   "id": "41af5c40-f836-43ae-a553-9e6bb53aa21e",
   "metadata": {},
   "outputs": [],
   "source": [
    "y_val_df = pd.DataFrame(y_val).reset_index(drop=True)\n",
    "y_val_pred_df = pd.DataFrame(y_val_pred).rename(columns={0: \"prediction\"})"
   ]
  },
  {
   "cell_type": "code",
   "execution_count": null,
   "id": "90e262c8-2062-4e4d-aa7a-4499da846b3e",
   "metadata": {},
   "outputs": [],
   "source": [
    "amex_metric(y_val_df, y_val_pred_df)"
   ]
  },
  {
   "cell_type": "markdown",
   "id": "e642ee6e-0913-45f8-839e-7e270428e903",
   "metadata": {},
   "source": [
    "### Retrain"
   ]
  },
  {
   "cell_type": "code",
   "execution_count": null,
   "id": "66f91a54-15bf-4536-96be-e552f407befc",
   "metadata": {},
   "outputs": [],
   "source": [
    "selected_features = imp_df.loc[imp_df[\"feature_importance\"] > 2][\"feature\"].tolist()"
   ]
  },
  {
   "cell_type": "code",
   "execution_count": null,
   "id": "0004cadd-b91d-4458-ad22-c1800b823bd7",
   "metadata": {},
   "outputs": [],
   "source": [
    "X_train = train.loc[:, selected_features]\n",
    "X_val = val.loc[:, selected_features]"
   ]
  },
  {
   "cell_type": "code",
   "execution_count": null,
   "id": "56a3a7e3-e203-475d-b66f-1580eac72faf",
   "metadata": {},
   "outputs": [],
   "source": [
    "final_lgbm_clf = LGBMClassifier(**best_params)"
   ]
  },
  {
   "cell_type": "code",
   "execution_count": null,
   "id": "3c40f4cc-1611-4136-add3-d7047d3a6259",
   "metadata": {},
   "outputs": [],
   "source": [
    "final_lgbm_clf.fit(X_train, y_train)"
   ]
  },
  {
   "cell_type": "code",
   "execution_count": null,
   "id": "98acd5f5-566f-4e6b-98f3-f28103f97433",
   "metadata": {},
   "outputs": [],
   "source": [
    "y_train_pred = final_lgbm_clf.predict_proba(X_train)[:, 1]\n",
    "y_val_pred = final_lgbm_clf.predict_proba(X_val)[:, 1]"
   ]
  },
  {
   "cell_type": "code",
   "execution_count": null,
   "id": "a9efbe09-a4e1-44eb-bb81-078bdd6e3214",
   "metadata": {},
   "outputs": [],
   "source": [
    "plot_roc_curves([y_train, y_val], \n",
    "                [y_train_pred, y_val_pred], \n",
    "                labels=[\"Train\", \"Validation\"], \n",
    "                title=\"Train Validation ROC AUC\")"
   ]
  },
  {
   "cell_type": "code",
   "execution_count": null,
   "id": "34b40d29-8b40-4fcd-b442-16eba58c8466",
   "metadata": {},
   "outputs": [],
   "source": [
    "y_train_df = pd.DataFrame(y_train).reset_index(drop=True)\n",
    "y_train_pred_df = pd.DataFrame(y_train_pred).rename(columns={0: \"prediction\"})"
   ]
  },
  {
   "cell_type": "code",
   "execution_count": null,
   "id": "25df3af2-bc97-4f14-8206-e98faa0dc304",
   "metadata": {},
   "outputs": [],
   "source": [
    "amex_metric(y_train_df, y_train_pred_df)"
   ]
  },
  {
   "cell_type": "code",
   "execution_count": null,
   "id": "36ffc4f5-7019-4f2b-9ea6-6fafe769f224",
   "metadata": {},
   "outputs": [],
   "source": [
    "y_val_df = pd.DataFrame(y_val).reset_index(drop=True)\n",
    "y_val_pred_df = pd.DataFrame(y_val_pred).rename(columns={0: \"prediction\"})"
   ]
  },
  {
   "cell_type": "code",
   "execution_count": null,
   "id": "8e7074e7-257e-4e01-98cb-b11b69bc3f89",
   "metadata": {},
   "outputs": [],
   "source": [
    "amex_metric(y_val_df, y_val_pred_df)"
   ]
  },
  {
   "cell_type": "code",
   "execution_count": null,
   "id": "139d8f16-7d1d-4cd8-8bc4-83361fbae88e",
   "metadata": {},
   "outputs": [],
   "source": []
  },
  {
   "cell_type": "markdown",
   "id": "120dff97-101f-4377-b954-a36b57a9583b",
   "metadata": {},
   "source": [
    "### Revised Score"
   ]
  },
  {
   "cell_type": "code",
   "execution_count": null,
   "id": "5a857c86-ea76-49d9-941a-11a97747ada3",
   "metadata": {},
   "outputs": [],
   "source": [
    "y_val_pred_df[\"new_scores\"] = [max(min(1.06411*(x**1.05289) - 0.0219941, 1), 0) for x in y_val_pred]"
   ]
  },
  {
   "cell_type": "code",
   "execution_count": null,
   "id": "cc9b30a9-e7c7-4da2-91f2-64ce1ccf88fc",
   "metadata": {},
   "outputs": [],
   "source": [
    "plt.figure(figsize=(21, 10))\n",
    "sns.scatterplot(data=y_val_pred_df, \n",
    "                x=y_val_pred_df[\"prediction\"], \n",
    "                y=y_val_pred_df[\"new_scores\"],\n",
    "                s=5)\n",
    "plt.show()"
   ]
  },
  {
   "cell_type": "code",
   "execution_count": null,
   "id": "30ff9904-cbc1-41ae-86ea-c3eb1f7a9f3a",
   "metadata": {},
   "outputs": [],
   "source": [
    "y_val_pred_df"
   ]
  },
  {
   "cell_type": "code",
   "execution_count": null,
   "id": "3f020fd2-5f62-4853-ad9b-f594d45f1c25",
   "metadata": {},
   "outputs": [],
   "source": []
  },
  {
   "cell_type": "code",
   "execution_count": null,
   "id": "fd1b01f0-6ca9-4601-a95c-f78e9be6fa63",
   "metadata": {},
   "outputs": [],
   "source": []
  }
 ],
 "metadata": {
  "kernelspec": {
   "display_name": "amex",
   "language": "python",
   "name": "amex"
  },
  "language_info": {
   "codemirror_mode": {
    "name": "ipython",
    "version": 3
   },
   "file_extension": ".py",
   "mimetype": "text/x-python",
   "name": "python",
   "nbconvert_exporter": "python",
   "pygments_lexer": "ipython3",
   "version": "3.10.0"
  }
 },
 "nbformat": 4,
 "nbformat_minor": 5
}
