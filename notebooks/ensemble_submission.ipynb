{
 "cells": [
  {
   "cell_type": "code",
   "execution_count": 43,
   "id": "5dd2ca34-3410-4078-aa48-7adbba211ed5",
   "metadata": {},
   "outputs": [],
   "source": [
    "import gc\n",
    "import joblib\n",
    "import matplotlib.pyplot as plt\n",
    "import pandas as pd\n",
    "import numpy as np\n",
    "import os\n",
    "import sys\n",
    "sys.path.append(\"../\")\n",
    "import time\n",
    "import warnings\n",
    "warnings.simplefilter(\"ignore\")\n",
    "from lightgbm import LGBMClassifier\n",
    "from sklearn.model_selection import train_test_split\n",
    "from sklearn.metrics import roc_auc_score, fbeta_score, make_scorer\n",
    "from tqdm import tqdm"
   ]
  },
  {
   "cell_type": "code",
   "execution_count": 44,
   "id": "88e773c8-793b-4771-85d2-80ad4e905510",
   "metadata": {},
   "outputs": [],
   "source": [
    "from utils.common import sigmoid, reverse_sigmoid"
   ]
  },
  {
   "cell_type": "code",
   "execution_count": 45,
   "id": "6bf6f906-580f-4385-a9ab-954f842340d1",
   "metadata": {
    "tags": []
   },
   "outputs": [],
   "source": [
    "SUBMISSION_DATA_PATH = \"../submissions\"\n",
    "EVALUATION_DATA_PATH = \"../evaluation_data\"\n",
    "MODELS_PATH = \"../models\"\n",
    "EXP_PATH = \"../experiments\""
   ]
  },
  {
   "cell_type": "code",
   "execution_count": 46,
   "id": "e4698b61-dcd2-43c3-b5e3-cd5a350b5e4a",
   "metadata": {},
   "outputs": [
    {
     "name": "stdout",
     "output_type": "stream",
     "text": [
      "The autoreload extension is already loaded. To reload it, use:\n",
      "  %reload_ext autoreload\n"
     ]
    }
   ],
   "source": [
    "%load_ext autoreload\n",
    "%autoreload"
   ]
  },
  {
   "cell_type": "markdown",
   "id": "884ad3df-d4d2-4c01-9066-8f6e70514295",
   "metadata": {},
   "source": [
    "### Read Data"
   ]
  },
  {
   "cell_type": "code",
   "execution_count": 47,
   "id": "43a5797b-2f7a-4107-9dd4-03652f1acf73",
   "metadata": {},
   "outputs": [],
   "source": [
    "result_sub1 = pd.read_csv(f\"{SUBMISSION_DATA_PATH}/submission25_0.799.csv\")\n",
    "result_sub1[\"prediction\"] = result_sub1[\"prediction\"].apply(reverse_sigmoid)"
   ]
  },
  {
   "cell_type": "code",
   "execution_count": 48,
   "id": "c098854d-9975-4268-8567-ff70bb2bd8c4",
   "metadata": {},
   "outputs": [],
   "source": [
    "result_sub2 = pd.read_csv(f\"{SUBMISSION_DATA_PATH}/submission19_0.796.csv\")"
   ]
  },
  {
   "cell_type": "code",
   "execution_count": 49,
   "id": "475e4b55-622c-443a-a33e-14d7dec65b0f",
   "metadata": {},
   "outputs": [
    {
     "data": {
      "image/png": "[encoded data removed]",
      "text/plain": [
       "<Figure size 432x288 with 1 Axes>"
      ]
     },
     "metadata": {
      "needs_background": "light"
     },
     "output_type": "display_data"
    }
   ],
   "source": [
    "plt.scatter(result_sub2[\"prediction\"], result_sub1[\"prediction\"])\n",
    "plt.show()"
   ]
  },
  {
   "cell_type": "code",
   "execution_count": 50,
   "id": "b46d0936-652c-4150-9ad0-f6bbf08a1351",
   "metadata": {},
   "outputs": [
    {
     "data": {
      "text/plain": [
       "array([[1.        , 0.99493318],\n",
       "       [0.99493318, 1.        ]])"
      ]
     },
     "execution_count": 50,
     "metadata": {},
     "output_type": "execute_result"
    }
   ],
   "source": [
    "np.corrcoef(result_sub2[\"prediction\"], result_sub1[\"prediction\"])"
   ]
  },
  {
   "cell_type": "code",
   "execution_count": 51,
   "id": "498e9e72-6ab7-446a-9ba3-c5db7af4712a",
   "metadata": {},
   "outputs": [],
   "source": [
    "merged_result = result_sub1.merge(result_sub2, on=\"customer_ID\", how=\"left\")"
   ]
  },
  {
   "cell_type": "markdown",
   "id": "b49561e2-c833-4f57-8c41-75fbde78b302",
   "metadata": {},
   "source": [
    "#### Take weighted average of 2 prediction scores"
   ]
  },
  {
   "cell_type": "code",
   "execution_count": 52,
   "id": "ebc30008-0c76-4e13-8acc-486595ead6da",
   "metadata": {},
   "outputs": [],
   "source": [
    "merged_result[\"prediction\"] = merged_result[\"prediction_x\"].rank() * 0.7 + merged_result[\"prediction_y\"].rank() * 0.3\n",
    "# merged_result[\"prediction\"] = 0.6 * merged_result[\"prediction_x\"] + 0.4 * merged_result[\"prediction_y\"]"
   ]
  },
  {
   "cell_type": "code",
   "execution_count": 53,
   "id": "301e374b-562b-4bfe-b770-3639993b2f0b",
   "metadata": {},
   "outputs": [],
   "source": [
    "merged_result = merged_result.drop(columns=[\"prediction_x\", \"prediction_y\", \"x_positive\", \"y_positive\"], errors=\"ignore\")"
   ]
  },
  {
   "cell_type": "code",
   "execution_count": 54,
   "id": "4e6beb7e-52bb-491d-8030-33d0b2f3051b",
   "metadata": {},
   "outputs": [],
   "source": [
    "if merged_result.shape == (924621, 2) and merged_result.columns.tolist() == ['customer_ID', 'prediction']:\n",
    "    merged_result.to_csv(f\"{SUBMISSION_DATA_PATH}/submission31.csv\", index=False)"
   ]
  },
  {
   "cell_type": "code",
   "execution_count": null,
   "id": "ab525ef3-3bf4-4d81-9aa8-a0092adba3af",
   "metadata": {},
   "outputs": [],
   "source": []
  },
  {
   "cell_type": "code",
   "execution_count": 48,
   "id": "31e459d2-1b83-42df-8e56-85f2d572a9b6",
   "metadata": {},
   "outputs": [],
   "source": [
    "merged_result[\"x_positive\"] = (merged_result[\"prediction_x\"] >= 0)"
   ]
  },
  {
   "cell_type": "code",
   "execution_count": 49,
   "id": "1e4e58e3-43f3-4e3f-9071-03f4b97122ec",
   "metadata": {},
   "outputs": [],
   "source": [
    "merged_result[\"y_positive\"] = (merged_result[\"prediction_y\"] >= 0)"
   ]
  },
  {
   "cell_type": "code",
   "execution_count": 50,
   "id": "c919dcc9-3bb9-488a-92f1-65142b14980d",
   "metadata": {},
   "outputs": [],
   "source": [
    "neg_neg_indices = merged_result.loc[(~merged_result[\"x_positive\"]) & (~merged_result[\"y_positive\"])].index"
   ]
  },
  {
   "cell_type": "code",
   "execution_count": 51,
   "id": "5a2c13b5-e2ea-4efd-9878-3e994c0f9f2d",
   "metadata": {},
   "outputs": [],
   "source": [
    "merged_result.loc[neg_neg_indices, \"prediction\"] = merged_result.loc[neg_neg_indices, :].min(axis=1)"
   ]
  },
  {
   "cell_type": "code",
   "execution_count": 52,
   "id": "b08bd592-dc45-44c5-b724-20356e5963ab",
   "metadata": {},
   "outputs": [],
   "source": [
    "pos_pos_indices = merged_result.loc[(merged_result[\"x_positive\"]) & (merged_result[\"y_positive\"])].index"
   ]
  },
  {
   "cell_type": "code",
   "execution_count": 53,
   "id": "253d0f80-3055-4405-8300-7149d8c47605",
   "metadata": {},
   "outputs": [],
   "source": [
    "merged_result.loc[pos_pos_indices, \"prediction\"] = merged_result.loc[pos_pos_indices, :].max(axis=1)"
   ]
  },
  {
   "cell_type": "code",
   "execution_count": 54,
   "id": "f6e96911-4a57-4512-93b5-85435df0e7ab",
   "metadata": {},
   "outputs": [
    {
     "data": {
      "text/plain": [
       "25395"
      ]
     },
     "execution_count": 54,
     "metadata": {},
     "output_type": "execute_result"
    }
   ],
   "source": [
    "merged_result[\"prediction\"].isnull().sum()"
   ]
  },
  {
   "cell_type": "code",
   "execution_count": 55,
   "id": "4060abeb-c2ea-446f-b51b-67730ac5e3df",
   "metadata": {},
   "outputs": [],
   "source": [
    "merged_result.loc[merged_result[\"prediction\"].isnull(), \"prediction\"] = \\\n",
    "(merged_result.loc[merged_result[\"prediction\"].isnull(), \"prediction_x\"] + \\\n",
    "merged_result.loc[merged_result[\"prediction\"].isnull(), \"prediction_y\"]) / 2"
   ]
  },
  {
   "cell_type": "code",
   "execution_count": 56,
   "id": "4369ff32-61cd-4333-a552-cc27a02ca5bf",
   "metadata": {},
   "outputs": [],
   "source": [
    "merged_result = merged_result.drop(columns=[\"prediction_x\", \"prediction_y\", \"x_positive\", \"y_positive\"])"
   ]
  },
  {
   "cell_type": "code",
   "execution_count": 58,
   "id": "fac615f3-8ea5-4801-b64a-25040c05d8ef",
   "metadata": {},
   "outputs": [],
   "source": [
    "merged_result.to_csv(f\"{SUBMISSION_DATA_PATH}/submission24.csv\", index=False)"
   ]
  },
  {
   "cell_type": "code",
   "execution_count": null,
   "id": "00da3372-3ddc-4f18-bc12-c9af2fe87fe9",
   "metadata": {},
   "outputs": [],
   "source": []
  },
  {
   "cell_type": "code",
   "execution_count": 20,
   "id": "bb5a0052-3017-4a28-b2a3-369a811255df",
   "metadata": {},
   "outputs": [],
   "source": [
    "new_result_sub[\"prediction\"] = np.max([new_result_sub[\"prediction\"].values, old_result_sub[\"prediction\"].values], axis=0)"
   ]
  },
  {
   "cell_type": "code",
   "execution_count": 27,
   "id": "bbd2b6f8-52cb-4ac8-b0f1-b51725f6e5ec",
   "metadata": {},
   "outputs": [],
   "source": [
    "new_result_sub[\"prediction\"] += old_result_sub[\"prediction\"]"
   ]
  },
  {
   "cell_type": "code",
   "execution_count": 28,
   "id": "54b939aa-6eea-46b4-b5f5-f0cf005a8e01",
   "metadata": {},
   "outputs": [],
   "source": [
    "new_result_sub[\"prediction\"] /= 2"
   ]
  },
  {
   "cell_type": "code",
   "execution_count": 30,
   "id": "be0884cb-d299-44f6-97d6-2bd1af32ee4f",
   "metadata": {},
   "outputs": [],
   "source": [
    "new_result_sub.to_csv(f\"{SUBMISSION_DATA_PATH}/submission22.csv\", index=False)"
   ]
  },
  {
   "cell_type": "code",
   "execution_count": null,
   "id": "b4e53b25-dd12-44b0-ada2-af4b9e005cf6",
   "metadata": {},
   "outputs": [],
   "source": [
    "result_sub = test_agg.loc[:, [c for c in test_agg.columns if c.startswith(\"score\")]].mean(axis=1).reset_index()"
   ]
  },
  {
   "cell_type": "code",
   "execution_count": null,
   "id": "cafc84f8-7dfa-4917-86ea-3848cab07849",
   "metadata": {},
   "outputs": [],
   "source": [
    "result_sub.columns = [\"customer_ID\", \"prediction\"]"
   ]
  },
  {
   "cell_type": "code",
   "execution_count": null,
   "id": "d2230bf7-95e6-4c06-add1-6a465a7ab16a",
   "metadata": {},
   "outputs": [],
   "source": [
    "result_sub.to_csv(\"submission20.csv\", index=False)"
   ]
  },
  {
   "cell_type": "code",
   "execution_count": null,
   "id": "9d4433d5-5173-48da-bd65-58a886d0e631",
   "metadata": {},
   "outputs": [],
   "source": [
    "single_record_index = test_agg.loc[test_agg[\"num_records\"] == 1].index.tolist()"
   ]
  },
  {
   "cell_type": "code",
   "execution_count": null,
   "id": "210c491c-e001-44c3-adb3-f203f9bb1fe4",
   "metadata": {},
   "outputs": [],
   "source": [
    "final_df13 = pd.read_csv(f\"{SUBMISSION_DATA_PATH}/submission13_0.796.csv\")\n",
    "final_df13[\"prediction_13\"] = sigmoid(final_df13[\"prediction\"])\n",
    "final_df13 = final_df13.drop(columns=\"prediction\")"
   ]
  },
  {
   "cell_type": "code",
   "execution_count": null,
   "id": "8b6081fe-a2e3-4d68-94d2-452c486fc565",
   "metadata": {},
   "outputs": [],
   "source": [
    "final_df16 = pd.read_csv(f\"{SUBMISSION_DATA_PATH}/submission16_0.782.csv\")\n",
    "final_df16[\"prediction_16\"] = sigmoid(final_df16[\"prediction\"])\n",
    "final_df16 = final_df16.drop(columns=\"prediction\")"
   ]
  },
  {
   "cell_type": "code",
   "execution_count": null,
   "id": "3bcfc991-a1e8-4a5f-b136-5d45a0137ac2",
   "metadata": {},
   "outputs": [],
   "source": [
    "mega_df = final_df13.merge(final_df16, on=\"customer_ID\", how=\"left\")"
   ]
  },
  {
   "cell_type": "code",
   "execution_count": null,
   "id": "5b14c35f-df5b-4ba0-aba2-986ecfe8ed30",
   "metadata": {},
   "outputs": [],
   "source": [
    "mega_df.loc[:, \"prediction\"] = (\n",
    "    mega_df.loc[:, \"prediction_16\"] * 0.1 \\\n",
    "    + mega_df.loc[:, \"prediction_13\"] * 0.9\n",
    ")"
   ]
  },
  {
   "cell_type": "code",
   "execution_count": null,
   "id": "4b3e0943-6ad1-4233-8723-97514f0375f6",
   "metadata": {},
   "outputs": [],
   "source": [
    "mega_df.loc[single_record_index, \"prediction\"] = (\n",
    "    mega_df.loc[single_record_index, \"prediction_16\"] * 0.8 \\\n",
    "    + mega_df.loc[single_record_index, \"prediction_13\"] * 0.2\n",
    ")"
   ]
  },
  {
   "cell_type": "code",
   "execution_count": null,
   "id": "d9788303-5207-490c-8365-97ae5fefc5f9",
   "metadata": {},
   "outputs": [],
   "source": [
    "mega_df = mega_df.drop(columns=[\"prediction_13\", \"prediction_16\"])"
   ]
  },
  {
   "cell_type": "code",
   "execution_count": null,
   "id": "d98d6c65-7208-4d3a-9690-1ab201c68843",
   "metadata": {},
   "outputs": [],
   "source": [
    "mega_df[\"prediction\"] = 0.55 * mega_df[\"prediction_x\"] + 0.45 * mega_df[\"prediction_y\"]\n",
    "mega_df = mega_df.drop(columns=[\"prediction_x\", \"prediction_y\"])"
   ]
  },
  {
   "cell_type": "code",
   "execution_count": null,
   "id": "93046afe-1096-450a-96f0-961064442cf8",
   "metadata": {},
   "outputs": [],
   "source": [
    "mega_df.to_csv(f\"{SUBMISSION_DATA_PATH}/submission18.csv\", index=False)"
   ]
  },
  {
   "cell_type": "code",
   "execution_count": null,
   "id": "e2f48222-f9ba-4a3f-879d-245372479ac6",
   "metadata": {},
   "outputs": [],
   "source": []
  },
  {
   "cell_type": "code",
   "execution_count": null,
   "id": "69c62759-40ea-42bf-9650-937c9ed6e19e",
   "metadata": {},
   "outputs": [],
   "source": []
  },
  {
   "cell_type": "code",
   "execution_count": null,
   "id": "d64d7573-dbbc-40f2-ad49-118f2a408525",
   "metadata": {},
   "outputs": [],
   "source": []
  }
 ],
 "metadata": {
  "kernelspec": {
   "display_name": "amex",
   "language": "python",
   "name": "amex"
  },
  "language_info": {
   "codemirror_mode": {
    "name": "ipython",
    "version": 3
   },
   "file_extension": ".py",
   "mimetype": "text/x-python",
   "name": "python",
   "nbconvert_exporter": "python",
   "pygments_lexer": "ipython3",
   "version": "3.10.0"
  }
 },
 "nbformat": 4,
 "nbformat_minor": 5
}
