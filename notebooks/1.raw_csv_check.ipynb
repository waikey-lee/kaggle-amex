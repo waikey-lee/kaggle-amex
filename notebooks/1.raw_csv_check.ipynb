{
 "cells": [
  {
   "cell_type": "markdown",
   "id": "af508e48-9169-4c06-a1a0-5a6cdad2cf14",
   "metadata": {},
   "source": [
    "### 1. Clean Parquet data from Kaggle (integer dtypes parquet)\n",
    "- This notebook aims to further clean the data taken from Kaggle's user, without affecting data quality"
   ]
  },
  {
   "cell_type": "code",
   "execution_count": 1,
   "id": "5dd2ca34-3410-4078-aa48-7adbba211ed5",
   "metadata": {},
   "outputs": [],
   "source": [
    "import gc\n",
    "import matplotlib.pyplot as plt\n",
    "import numpy as np\n",
    "import os\n",
    "import pandas as pd\n",
    "pd.options.display.float_format = \"{:,.4f}\".format\n",
    "import random\n",
    "import sys\n",
    "import time\n",
    "import warnings\n",
    "warnings.simplefilter(\"ignore\")\n",
    "warnings.filterwarnings(\"ignore\")"
   ]
  },
  {
   "cell_type": "code",
   "execution_count": 2,
   "id": "92df3e81-2387-417f-bbf6-2185b4d4b42f",
   "metadata": {},
   "outputs": [],
   "source": [
    "from pathlib import Path\n",
    "rootpath = Path.cwd().parent\n",
    "sys.path.append(os.path.join(rootpath))"
   ]
  },
  {
   "cell_type": "code",
   "execution_count": 3,
   "id": "9f28ba09-4781-4ccb-9e2b-897910a9d559",
   "metadata": {},
   "outputs": [],
   "source": [
    "from utils.constants import *\n",
    "from utils.eda_helpers import (\n",
    "    plot_missing_proportion_barchart, get_cols, plot_scatterplot, plot_target_check, \n",
    "    plot_int_feature_distribution, plot_train_test_distribution, check_overlap_missing,\n",
    "    insert_row_number, plot_sampled_time_series\n",
    ")\n",
    "from utils.eval_helpers import (\n",
    "    plot_roc_curves, plot_feature_importance, \n",
    "    amex_metric, get_final_metric_df, amex_metric_np, lgb_amex_metric\n",
    ")\n",
    "from utils.extraction_helpers import read_file\n",
    "from utils.feature_engineering_helpers import integerize\n",
    "from utils.feature_group import (\n",
    "    CATEGORY_COLUMNS, CONTINUOUS_COLUMNS, BINARY_COLUMNS,\n",
    "    MEAN_FEATURES, MIN_FEATURES, MAX_FEATURES, LAST_FEATURES, NON_FEATURE_COLUMNS\n",
    ")"
   ]
  },
  {
   "cell_type": "code",
   "execution_count": 4,
   "id": "67194602-57fc-4e92-9801-8d600e52a5b2",
   "metadata": {},
   "outputs": [],
   "source": [
    "%load_ext autoreload\n",
    "%autoreload"
   ]
  },
  {
   "cell_type": "code",
   "execution_count": 5,
   "id": "025fb7cf-4a31-4f3d-a3f0-edf19227552d",
   "metadata": {},
   "outputs": [],
   "source": [
    "START = time.time()"
   ]
  },
  {
   "cell_type": "code",
   "execution_count": 8,
   "id": "312eb0ae-f581-408d-bac1-6967d22e7357",
   "metadata": {},
   "outputs": [
    {
     "data": {
      "text/plain": [
       "18"
      ]
     },
     "execution_count": 8,
     "metadata": {},
     "output_type": "execute_result"
    }
   ],
   "source": [
    "gc.collect()"
   ]
  },
  {
   "cell_type": "markdown",
   "id": "26f1696b-0c88-4adf-9350-c5e85ce3eb07",
   "metadata": {},
   "source": [
    "### Select Column"
   ]
  },
  {
   "cell_type": "code",
   "execution_count": 9,
   "id": "14538430-eed2-4539-9a91-31aec52ffa3f",
   "metadata": {},
   "outputs": [],
   "source": [
    "columns = [\"P_4\", \"S_11\", \"S_15\"]"
   ]
  },
  {
   "cell_type": "markdown",
   "id": "3885beac-e245-43b6-a2cc-73e9f871d132",
   "metadata": {},
   "source": [
    "### Replace Train"
   ]
  },
  {
   "cell_type": "code",
   "execution_count": null,
   "id": "731a013f-258f-49c1-b4e2-4c5fa0735d71",
   "metadata": {},
   "outputs": [],
   "source": [
    "%%time\n",
    "train = read_file(f\"{RAW_DATA_PATH}/train_data.csv\")"
   ]
  },
  {
   "cell_type": "code",
   "execution_count": null,
   "id": "8f17e360-08e5-483b-a474-5d8758ca07bb",
   "metadata": {},
   "outputs": [],
   "source": [
    "%%time\n",
    "train_ = read_file(f\"{RAW_TRAIN_PARQUET_PATH}/train.parquet\", replace_negative_one=False)\n",
    "for column in tqdm(columns):\n",
    "    train_[column] = train[column].values\n",
    "train_.to_parquet(f\"{RAW_TRAIN_PARQUET_PATH}/train.parquet\")"
   ]
  },
  {
   "cell_type": "code",
   "execution_count": null,
   "id": "a5ad13ed-a23d-4abd-b996-6b27604601e4",
   "metadata": {},
   "outputs": [],
   "source": [
    "del train, train_"
   ]
  },
  {
   "cell_type": "markdown",
   "id": "908ec6e9-7138-4ada-ab78-b088475aba79",
   "metadata": {},
   "source": [
    "### Replace Test"
   ]
  },
  {
   "cell_type": "code",
   "execution_count": 22,
   "id": "89152994-2055-4502-9618-7c455288aadf",
   "metadata": {},
   "outputs": [
    {
     "name": "stdout",
     "output_type": "stream",
     "text": [
      "Shape of data: (11363762, 26)\n",
      "CPU times: user 2.38 s, sys: 5 s, total: 7.38 s\n",
      "Wall time: 6.66 s\n"
     ]
    }
   ],
   "source": [
    "%%time\n",
    "test = read_file(f\"{RAW_DATA_PATH}/test_data_sp.parquet\")"
   ]
  },
  {
   "cell_type": "code",
   "execution_count": 25,
   "id": "8041dbfe-adbe-4289-b920-39f282c93e89",
   "metadata": {},
   "outputs": [
    {
     "name": "stdout",
     "output_type": "stream",
     "text": [
      "Shape of data: (5531451, 192)\n",
      "CPU times: user 20.3 s, sys: 15.2 s, total: 35.5 s\n",
      "Wall time: 52.3 s\n"
     ]
    }
   ],
   "source": [
    "%%time\n",
    "test_ = read_file(f\"{RAW_TEST_PARQUET_PATH}/test.parquet\", replace_negative_one=False)\n",
    "for column in tqdm(columns):\n",
    "    test_[column] = test[column].values\n",
    "test_.to_parquet(f\"{RAW_TEST_PARQUET_PATH}/test.parquet\")"
   ]
  },
  {
   "cell_type": "code",
   "execution_count": 26,
   "id": "19527952-029e-43c7-a05c-bbc27307d09b",
   "metadata": {},
   "outputs": [
    {
     "name": "stdout",
     "output_type": "stream",
     "text": [
      "Shape of data: (11363762, 190)\n"
     ]
    },
    {
     "ename": "KeyboardInterrupt",
     "evalue": "",
     "output_type": "error",
     "traceback": [
      "\u001b[0;31m---------------------------------------------------------------------------\u001b[0m",
      "\u001b[0;31mKeyboardInterrupt\u001b[0m                         Traceback (most recent call last)",
      "File \u001b[0;32m<timed exec>:3\u001b[0m, in \u001b[0;36m<module>\u001b[0;34m\u001b[0m\n",
      "File \u001b[0;32m~/miniconda3/envs/amex/lib/python3.10/site-packages/pandas/util/_decorators.py:207\u001b[0m, in \u001b[0;36mdeprecate_kwarg.<locals>._deprecate_kwarg.<locals>.wrapper\u001b[0;34m(*args, **kwargs)\u001b[0m\n\u001b[1;32m    205\u001b[0m     \u001b[38;5;28;01melse\u001b[39;00m:\n\u001b[1;32m    206\u001b[0m         kwargs[new_arg_name] \u001b[38;5;241m=\u001b[39m new_arg_value\n\u001b[0;32m--> 207\u001b[0m \u001b[38;5;28;01mreturn\u001b[39;00m \u001b[43mfunc\u001b[49m\u001b[43m(\u001b[49m\u001b[38;5;241;43m*\u001b[39;49m\u001b[43margs\u001b[49m\u001b[43m,\u001b[49m\u001b[43m \u001b[49m\u001b[38;5;241;43m*\u001b[39;49m\u001b[38;5;241;43m*\u001b[39;49m\u001b[43mkwargs\u001b[49m\u001b[43m)\u001b[49m\n",
      "File \u001b[0;32m~/miniconda3/envs/amex/lib/python3.10/site-packages/pandas/core/frame.py:2835\u001b[0m, in \u001b[0;36mDataFrame.to_parquet\u001b[0;34m(self, path, engine, compression, index, partition_cols, storage_options, **kwargs)\u001b[0m\n\u001b[1;32m   2749\u001b[0m \u001b[38;5;124;03m\"\"\"\u001b[39;00m\n\u001b[1;32m   2750\u001b[0m \u001b[38;5;124;03mWrite a DataFrame to the binary parquet format.\u001b[39;00m\n\u001b[1;32m   2751\u001b[0m \n\u001b[0;32m   (...)\u001b[0m\n\u001b[1;32m   2831\u001b[0m \u001b[38;5;124;03m>>> content = f.read()\u001b[39;00m\n\u001b[1;32m   2832\u001b[0m \u001b[38;5;124;03m\"\"\"\u001b[39;00m\n\u001b[1;32m   2833\u001b[0m \u001b[38;5;28;01mfrom\u001b[39;00m \u001b[38;5;21;01mpandas\u001b[39;00m\u001b[38;5;21;01m.\u001b[39;00m\u001b[38;5;21;01mio\u001b[39;00m\u001b[38;5;21;01m.\u001b[39;00m\u001b[38;5;21;01mparquet\u001b[39;00m \u001b[38;5;28;01mimport\u001b[39;00m to_parquet\n\u001b[0;32m-> 2835\u001b[0m \u001b[38;5;28;01mreturn\u001b[39;00m \u001b[43mto_parquet\u001b[49m\u001b[43m(\u001b[49m\n\u001b[1;32m   2836\u001b[0m \u001b[43m    \u001b[49m\u001b[38;5;28;43mself\u001b[39;49m\u001b[43m,\u001b[49m\n\u001b[1;32m   2837\u001b[0m \u001b[43m    \u001b[49m\u001b[43mpath\u001b[49m\u001b[43m,\u001b[49m\n\u001b[1;32m   2838\u001b[0m \u001b[43m    \u001b[49m\u001b[43mengine\u001b[49m\u001b[43m,\u001b[49m\n\u001b[1;32m   2839\u001b[0m \u001b[43m    \u001b[49m\u001b[43mcompression\u001b[49m\u001b[38;5;241;43m=\u001b[39;49m\u001b[43mcompression\u001b[49m\u001b[43m,\u001b[49m\n\u001b[1;32m   2840\u001b[0m \u001b[43m    \u001b[49m\u001b[43mindex\u001b[49m\u001b[38;5;241;43m=\u001b[39;49m\u001b[43mindex\u001b[49m\u001b[43m,\u001b[49m\n\u001b[1;32m   2841\u001b[0m \u001b[43m    \u001b[49m\u001b[43mpartition_cols\u001b[49m\u001b[38;5;241;43m=\u001b[39;49m\u001b[43mpartition_cols\u001b[49m\u001b[43m,\u001b[49m\n\u001b[1;32m   2842\u001b[0m \u001b[43m    \u001b[49m\u001b[43mstorage_options\u001b[49m\u001b[38;5;241;43m=\u001b[39;49m\u001b[43mstorage_options\u001b[49m\u001b[43m,\u001b[49m\n\u001b[1;32m   2843\u001b[0m \u001b[43m    \u001b[49m\u001b[38;5;241;43m*\u001b[39;49m\u001b[38;5;241;43m*\u001b[39;49m\u001b[43mkwargs\u001b[49m\u001b[43m,\u001b[49m\n\u001b[1;32m   2844\u001b[0m \u001b[43m\u001b[49m\u001b[43m)\u001b[49m\n",
      "File \u001b[0;32m~/miniconda3/envs/amex/lib/python3.10/site-packages/pandas/io/parquet.py:420\u001b[0m, in \u001b[0;36mto_parquet\u001b[0;34m(df, path, engine, compression, index, storage_options, partition_cols, **kwargs)\u001b[0m\n\u001b[1;32m    416\u001b[0m impl \u001b[38;5;241m=\u001b[39m get_engine(engine)\n\u001b[1;32m    418\u001b[0m path_or_buf: FilePath \u001b[38;5;241m|\u001b[39m WriteBuffer[\u001b[38;5;28mbytes\u001b[39m] \u001b[38;5;241m=\u001b[39m io\u001b[38;5;241m.\u001b[39mBytesIO() \u001b[38;5;28;01mif\u001b[39;00m path \u001b[38;5;129;01mis\u001b[39;00m \u001b[38;5;28;01mNone\u001b[39;00m \u001b[38;5;28;01melse\u001b[39;00m path\n\u001b[0;32m--> 420\u001b[0m \u001b[43mimpl\u001b[49m\u001b[38;5;241;43m.\u001b[39;49m\u001b[43mwrite\u001b[49m\u001b[43m(\u001b[49m\n\u001b[1;32m    421\u001b[0m \u001b[43m    \u001b[49m\u001b[43mdf\u001b[49m\u001b[43m,\u001b[49m\n\u001b[1;32m    422\u001b[0m \u001b[43m    \u001b[49m\u001b[43mpath_or_buf\u001b[49m\u001b[43m,\u001b[49m\n\u001b[1;32m    423\u001b[0m \u001b[43m    \u001b[49m\u001b[43mcompression\u001b[49m\u001b[38;5;241;43m=\u001b[39;49m\u001b[43mcompression\u001b[49m\u001b[43m,\u001b[49m\n\u001b[1;32m    424\u001b[0m \u001b[43m    \u001b[49m\u001b[43mindex\u001b[49m\u001b[38;5;241;43m=\u001b[39;49m\u001b[43mindex\u001b[49m\u001b[43m,\u001b[49m\n\u001b[1;32m    425\u001b[0m \u001b[43m    \u001b[49m\u001b[43mpartition_cols\u001b[49m\u001b[38;5;241;43m=\u001b[39;49m\u001b[43mpartition_cols\u001b[49m\u001b[43m,\u001b[49m\n\u001b[1;32m    426\u001b[0m \u001b[43m    \u001b[49m\u001b[43mstorage_options\u001b[49m\u001b[38;5;241;43m=\u001b[39;49m\u001b[43mstorage_options\u001b[49m\u001b[43m,\u001b[49m\n\u001b[1;32m    427\u001b[0m \u001b[43m    \u001b[49m\u001b[38;5;241;43m*\u001b[39;49m\u001b[38;5;241;43m*\u001b[39;49m\u001b[43mkwargs\u001b[49m\u001b[43m,\u001b[49m\n\u001b[1;32m    428\u001b[0m \u001b[43m\u001b[49m\u001b[43m)\u001b[49m\n\u001b[1;32m    430\u001b[0m \u001b[38;5;28;01mif\u001b[39;00m path \u001b[38;5;129;01mis\u001b[39;00m \u001b[38;5;28;01mNone\u001b[39;00m:\n\u001b[1;32m    431\u001b[0m     \u001b[38;5;28;01massert\u001b[39;00m \u001b[38;5;28misinstance\u001b[39m(path_or_buf, io\u001b[38;5;241m.\u001b[39mBytesIO)\n",
      "File \u001b[0;32m~/miniconda3/envs/amex/lib/python3.10/site-packages/pandas/io/parquet.py:195\u001b[0m, in \u001b[0;36mPyArrowImpl.write\u001b[0;34m(self, df, path, compression, index, storage_options, partition_cols, **kwargs)\u001b[0m\n\u001b[1;32m    186\u001b[0m         \u001b[38;5;28mself\u001b[39m\u001b[38;5;241m.\u001b[39mapi\u001b[38;5;241m.\u001b[39mparquet\u001b[38;5;241m.\u001b[39mwrite_to_dataset(\n\u001b[1;32m    187\u001b[0m             table,\n\u001b[1;32m    188\u001b[0m             path_or_handle,\n\u001b[0;32m   (...)\u001b[0m\n\u001b[1;32m    191\u001b[0m             \u001b[38;5;241m*\u001b[39m\u001b[38;5;241m*\u001b[39mkwargs,\n\u001b[1;32m    192\u001b[0m         )\n\u001b[1;32m    193\u001b[0m     \u001b[38;5;28;01melse\u001b[39;00m:\n\u001b[1;32m    194\u001b[0m         \u001b[38;5;66;03m# write to single output file\u001b[39;00m\n\u001b[0;32m--> 195\u001b[0m         \u001b[38;5;28;43mself\u001b[39;49m\u001b[38;5;241;43m.\u001b[39;49m\u001b[43mapi\u001b[49m\u001b[38;5;241;43m.\u001b[39;49m\u001b[43mparquet\u001b[49m\u001b[38;5;241;43m.\u001b[39;49m\u001b[43mwrite_table\u001b[49m\u001b[43m(\u001b[49m\n\u001b[1;32m    196\u001b[0m \u001b[43m            \u001b[49m\u001b[43mtable\u001b[49m\u001b[43m,\u001b[49m\u001b[43m \u001b[49m\u001b[43mpath_or_handle\u001b[49m\u001b[43m,\u001b[49m\u001b[43m \u001b[49m\u001b[43mcompression\u001b[49m\u001b[38;5;241;43m=\u001b[39;49m\u001b[43mcompression\u001b[49m\u001b[43m,\u001b[49m\u001b[43m \u001b[49m\u001b[38;5;241;43m*\u001b[39;49m\u001b[38;5;241;43m*\u001b[39;49m\u001b[43mkwargs\u001b[49m\n\u001b[1;32m    197\u001b[0m \u001b[43m        \u001b[49m\u001b[43m)\u001b[49m\n\u001b[1;32m    198\u001b[0m \u001b[38;5;28;01mfinally\u001b[39;00m:\n\u001b[1;32m    199\u001b[0m     \u001b[38;5;28;01mif\u001b[39;00m handles \u001b[38;5;129;01mis\u001b[39;00m \u001b[38;5;129;01mnot\u001b[39;00m \u001b[38;5;28;01mNone\u001b[39;00m:\n",
      "File \u001b[0;32m~/miniconda3/envs/amex/lib/python3.10/site-packages/pyarrow/parquet/__init__.py:2894\u001b[0m, in \u001b[0;36mwrite_table\u001b[0;34m(table, where, row_group_size, version, use_dictionary, compression, write_statistics, use_deprecated_int96_timestamps, coerce_timestamps, allow_truncated_timestamps, data_page_size, flavor, filesystem, compression_level, use_byte_stream_split, column_encoding, data_page_version, use_compliant_nested_type, encryption_properties, write_batch_size, dictionary_pagesize_limit, **kwargs)\u001b[0m\n\u001b[1;32m   2872\u001b[0m \u001b[38;5;28;01mtry\u001b[39;00m:\n\u001b[1;32m   2873\u001b[0m     \u001b[38;5;28;01mwith\u001b[39;00m ParquetWriter(\n\u001b[1;32m   2874\u001b[0m             where, table\u001b[38;5;241m.\u001b[39mschema,\n\u001b[1;32m   2875\u001b[0m             filesystem\u001b[38;5;241m=\u001b[39mfilesystem,\n\u001b[0;32m   (...)\u001b[0m\n\u001b[1;32m   2892\u001b[0m             dictionary_pagesize_limit\u001b[38;5;241m=\u001b[39mdictionary_pagesize_limit,\n\u001b[1;32m   2893\u001b[0m             \u001b[38;5;241m*\u001b[39m\u001b[38;5;241m*\u001b[39mkwargs) \u001b[38;5;28;01mas\u001b[39;00m writer:\n\u001b[0;32m-> 2894\u001b[0m         \u001b[43mwriter\u001b[49m\u001b[38;5;241;43m.\u001b[39;49m\u001b[43mwrite_table\u001b[49m\u001b[43m(\u001b[49m\u001b[43mtable\u001b[49m\u001b[43m,\u001b[49m\u001b[43m \u001b[49m\u001b[43mrow_group_size\u001b[49m\u001b[38;5;241;43m=\u001b[39;49m\u001b[43mrow_group_size\u001b[49m\u001b[43m)\u001b[49m\n\u001b[1;32m   2895\u001b[0m \u001b[38;5;28;01mexcept\u001b[39;00m \u001b[38;5;167;01mException\u001b[39;00m:\n\u001b[1;32m   2896\u001b[0m     \u001b[38;5;28;01mif\u001b[39;00m _is_path_like(where):\n",
      "File \u001b[0;32m~/miniconda3/envs/amex/lib/python3.10/site-packages/pyarrow/parquet/__init__.py:1006\u001b[0m, in \u001b[0;36mParquetWriter.write_table\u001b[0;34m(self, table, row_group_size)\u001b[0m\n\u001b[1;32m   1001\u001b[0m     msg \u001b[38;5;241m=\u001b[39m (\u001b[38;5;124m'\u001b[39m\u001b[38;5;124mTable schema does not match schema used to create file: \u001b[39m\u001b[38;5;124m'\u001b[39m\n\u001b[1;32m   1002\u001b[0m            \u001b[38;5;124m'\u001b[39m\u001b[38;5;130;01m\\n\u001b[39;00m\u001b[38;5;124mtable:\u001b[39m\u001b[38;5;130;01m\\n\u001b[39;00m\u001b[38;5;132;01m{!s}\u001b[39;00m\u001b[38;5;124m vs. \u001b[39m\u001b[38;5;130;01m\\n\u001b[39;00m\u001b[38;5;124mfile:\u001b[39m\u001b[38;5;130;01m\\n\u001b[39;00m\u001b[38;5;132;01m{!s}\u001b[39;00m\u001b[38;5;124m'\u001b[39m\n\u001b[1;32m   1003\u001b[0m            \u001b[38;5;241m.\u001b[39mformat(table\u001b[38;5;241m.\u001b[39mschema, \u001b[38;5;28mself\u001b[39m\u001b[38;5;241m.\u001b[39mschema))\n\u001b[1;32m   1004\u001b[0m     \u001b[38;5;28;01mraise\u001b[39;00m \u001b[38;5;167;01mValueError\u001b[39;00m(msg)\n\u001b[0;32m-> 1006\u001b[0m \u001b[38;5;28;43mself\u001b[39;49m\u001b[38;5;241;43m.\u001b[39;49m\u001b[43mwriter\u001b[49m\u001b[38;5;241;43m.\u001b[39;49m\u001b[43mwrite_table\u001b[49m\u001b[43m(\u001b[49m\u001b[43mtable\u001b[49m\u001b[43m,\u001b[49m\u001b[43m \u001b[49m\u001b[43mrow_group_size\u001b[49m\u001b[38;5;241;43m=\u001b[39;49m\u001b[43mrow_group_size\u001b[49m\u001b[43m)\u001b[49m\n",
      "File \u001b[0;32m~/miniconda3/envs/amex/lib/python3.10/site-packages/pyarrow/_parquet.pyx:1752\u001b[0m, in \u001b[0;36mpyarrow._parquet.ParquetWriter.write_table\u001b[0;34m()\u001b[0m\n",
      "\u001b[0;31mKeyboardInterrupt\u001b[0m: "
     ]
    }
   ],
   "source": [
    "del test, test_"
   ]
  },
  {
   "cell_type": "code",
   "execution_count": null,
   "id": "8df97f6e-27a8-4444-8fc9-b6d5bf94f411",
   "metadata": {},
   "outputs": [],
   "source": []
  },
  {
   "cell_type": "code",
   "execution_count": null,
   "id": "f58057c5-4f56-46ef-9684-66664e17261e",
   "metadata": {},
   "outputs": [],
   "source": []
  },
  {
   "cell_type": "code",
   "execution_count": null,
   "id": "4de8da0c-8d22-4f90-a8fc-f5742f6ab230",
   "metadata": {},
   "outputs": [],
   "source": []
  },
  {
   "cell_type": "code",
   "execution_count": null,
   "id": "3782fda1-59b0-4787-88b8-f8d4220c4551",
   "metadata": {},
   "outputs": [],
   "source": []
  },
  {
   "cell_type": "code",
   "execution_count": null,
   "id": "27450be8-17cc-4c8b-904a-81340ce982b6",
   "metadata": {},
   "outputs": [],
   "source": [
    "%%time\n",
    "if \"target\" not in train_.columns:\n",
    "    train_ = train_.merge(labels, on=\"customer_ID\", how=\"left\")"
   ]
  },
  {
   "cell_type": "code",
   "execution_count": null,
   "id": "bf30ad4a-4419-4517-9f0b-6f1a749b0628",
   "metadata": {},
   "outputs": [],
   "source": [
    "%%time\n",
    "labels = pd.read_csv(f\"{RAW_DATA_PATH}/train_labels.csv\")\n",
    "if \"target\" not in train.columns:\n",
    "    train = train.merge(labels, on=\"customer_ID\", how=\"left\")"
   ]
  },
  {
   "cell_type": "code",
   "execution_count": null,
   "id": "12d62425-0d37-4881-b24f-6c45e15bf9bf",
   "metadata": {},
   "outputs": [],
   "source": [
    "train_cid_list = train[\"customer_ID\"].unique().tolist()"
   ]
  },
  {
   "cell_type": "code",
   "execution_count": null,
   "id": "b896e737-494e-4bd2-a90f-10da3e62d981",
   "metadata": {},
   "outputs": [],
   "source": [
    "print(sorted(get_cols(train, [\"P_\", \"S_\"])))"
   ]
  },
  {
   "cell_type": "code",
   "execution_count": null,
   "id": "b111edd3-8906-45e0-bbb2-60fd1b668af8",
   "metadata": {},
   "outputs": [],
   "source": [
    "train_[\"S_17\"].describe()"
   ]
  },
  {
   "cell_type": "code",
   "execution_count": null,
   "id": "f195c40c-bac1-4db8-bf9a-06c75ca34d80",
   "metadata": {},
   "outputs": [],
   "source": [
    "train[\"S_17\"].describe()"
   ]
  },
  {
   "cell_type": "code",
   "execution_count": null,
   "id": "990d90fc-eef4-40c3-8898-1696accb7b01",
   "metadata": {},
   "outputs": [],
   "source": [
    "plot_target_check(train, \"S_15\", q=50, use_raw_bin=True)"
   ]
  },
  {
   "cell_type": "code",
   "execution_count": null,
   "id": "efe3dc76-eb20-457b-bddc-538176c0d1ec",
   "metadata": {},
   "outputs": [],
   "source": [
    "plot_target_check(train_, \"S_15\", q=50, use_raw_bin=True)"
   ]
  },
  {
   "cell_type": "code",
   "execution_count": null,
   "id": "1b31cfcd-5f5a-4a78-b116-5902f2864b86",
   "metadata": {},
   "outputs": [],
   "source": [
    "t = train[\"S_11\"].round(2).value_counts()"
   ]
  },
  {
   "cell_type": "code",
   "execution_count": null,
   "id": "0164ea40-de56-46fe-8c73-f4fe9fe56aed",
   "metadata": {},
   "outputs": [],
   "source": [
    "t.reset_index().sort_values(by=\"S_11\")"
   ]
  },
  {
   "cell_type": "markdown",
   "id": "2ffc9b14-07d9-46b4-9c4a-bc8b574386bc",
   "metadata": {},
   "source": [
    "### P_2"
   ]
  },
  {
   "cell_type": "code",
   "execution_count": null,
   "id": "c4dff549-d004-4964-a352-33571ad2faf4",
   "metadata": {},
   "outputs": [],
   "source": [
    "plot_target_check(train, \"P_2\", q=50, use_raw_bin=True)"
   ]
  },
  {
   "cell_type": "code",
   "execution_count": null,
   "id": "e4164e2f-cb1a-4eec-83ae-8d258b2b6133",
   "metadata": {},
   "outputs": [],
   "source": [
    "train[\"P_2\"] = train[\"P_2\"].round(2)\n",
    "test[\"P_2\"] = test[\"P_2\"].round(2)"
   ]
  },
  {
   "cell_type": "code",
   "execution_count": null,
   "id": "43dadf36-a65d-402b-a3b0-3d306ef152b9",
   "metadata": {},
   "outputs": [],
   "source": [
    "plot_target_check(train, \"P_2\", q=50, use_raw_bin=True, nunique_thr=150, strfy_x=True, figsize=(25, 10))"
   ]
  },
  {
   "cell_type": "code",
   "execution_count": null,
   "id": "6143b432-5bd9-446f-9b64-389ca8e7f5ca",
   "metadata": {},
   "outputs": [],
   "source": [
    "train_test_ = plot_train_test_distribution(train, test, \"P_2\", nunique_thr=150, figsize=(24, 10), return_df=True)"
   ]
  },
  {
   "cell_type": "code",
   "execution_count": null,
   "id": "d9f7471c-7dcd-4428-9fce-0ab7e2c5c4bf",
   "metadata": {},
   "outputs": [],
   "source": [
    "from scipy.stats import ks_2samp\n",
    "import numpy as np"
   ]
  },
  {
   "cell_type": "code",
   "execution_count": null,
   "id": "25527394-332a-4d57-a449-a9358437265b",
   "metadata": {},
   "outputs": [],
   "source": [
    "ks_2samp(train[\"S_6\"].dropna(), test[\"S_6\"].dropna())"
   ]
  },
  {
   "cell_type": "code",
   "execution_count": null,
   "id": "ccb086d1-587b-4cd7-999e-3c2121fafb81",
   "metadata": {},
   "outputs": [],
   "source": [
    "# plot_sampled_time_series(train, labels, \"S_3\", 50)"
   ]
  },
  {
   "cell_type": "markdown",
   "id": "7c466f82-3cbe-4fe9-b55e-434c9c656094",
   "metadata": {},
   "source": [
    "### P_3"
   ]
  },
  {
   "cell_type": "code",
   "execution_count": null,
   "id": "f256998f-1fcb-4e5f-8000-906fdcac8c4a",
   "metadata": {},
   "outputs": [],
   "source": [
    "plot_target_check(train, \"P_3\", q=50, use_raw_bin=True)"
   ]
  },
  {
   "cell_type": "code",
   "execution_count": null,
   "id": "43da05a0-becf-4cdb-80d1-6c6e4ecff55c",
   "metadata": {},
   "outputs": [],
   "source": [
    "train[\"P_3\"] = train[\"P_3\"].round(2)\n",
    "test[\"P_3\"] = test[\"P_3\"].round(2)"
   ]
  },
  {
   "cell_type": "code",
   "execution_count": null,
   "id": "818c1478-2eed-43f4-a7bf-2736cd6072db",
   "metadata": {},
   "outputs": [],
   "source": [
    "p3_summary = plot_target_check(train, \"P_3\", q=50, use_raw_bin=True, nunique_thr=340, strfy_x=True, figsize=(25, 10), \n",
    "                               drop_outlier=True, return_df=True)"
   ]
  },
  {
   "cell_type": "code",
   "execution_count": null,
   "id": "cad57785-9c3c-4b31-97d3-c19ccc1308ed",
   "metadata": {},
   "outputs": [],
   "source": [
    "plot_train_test_distribution(train, test, \"P_3\", nunique_thr=340, figsize=(24, 10))"
   ]
  },
  {
   "cell_type": "markdown",
   "id": "f116fde4-7aa8-47e9-a327-b80c28c5823f",
   "metadata": {},
   "source": [
    "### P_4"
   ]
  },
  {
   "cell_type": "code",
   "execution_count": null,
   "id": "7be14dee-1930-49f5-bc34-19dd6d9161cd",
   "metadata": {},
   "outputs": [],
   "source": [
    "plot_target_check(train, \"P_4\", q=50, use_raw_bin=True)"
   ]
  },
  {
   "cell_type": "code",
   "execution_count": null,
   "id": "836841be-39ad-4d0a-a891-5918266864b4",
   "metadata": {},
   "outputs": [],
   "source": [
    "train[\"P_4\"] = train[\"P_4\"].round(2)\n",
    "test[\"P_4\"] = test[\"P_4\"].round(2)"
   ]
  },
  {
   "cell_type": "code",
   "execution_count": null,
   "id": "d597bf1c-3f4e-4206-8b3c-e2222dd40b4c",
   "metadata": {},
   "outputs": [],
   "source": [
    "plot_target_check(train, \"P_4\", q=50, use_raw_bin=True, strfy_x=True)"
   ]
  },
  {
   "cell_type": "code",
   "execution_count": null,
   "id": "43f0942d-037c-4d27-aea4-336f0cd69cd4",
   "metadata": {},
   "outputs": [],
   "source": [
    "train[\"P_4\"] = train[\"P_4\"].replace(0, np.nan)\n",
    "test[\"P_4\"] = test[\"P_4\"].replace(0, np.nan)"
   ]
  },
  {
   "cell_type": "code",
   "execution_count": null,
   "id": "70aa6ac1-6284-48e3-b2af-c7ab72ef311b",
   "metadata": {},
   "outputs": [],
   "source": [
    "plot_target_check(train, \"P_4\", q=50, use_raw_bin=True, strfy_x=True)"
   ]
  },
  {
   "cell_type": "code",
   "execution_count": null,
   "id": "2cbd72a1-c746-4625-889a-0846c22c4a0b",
   "metadata": {},
   "outputs": [],
   "source": [
    "plot_train_test_distribution(train, test, \"P_4\")"
   ]
  },
  {
   "cell_type": "markdown",
   "id": "be12ccb1-40f3-4d77-a2f6-ae2050e30b06",
   "metadata": {},
   "source": [
    "**Train Test Skew: Slight**"
   ]
  },
  {
   "cell_type": "markdown",
   "id": "5f4a0973-e533-490c-8f0c-5899aa82e524",
   "metadata": {},
   "source": [
    "### S_3"
   ]
  },
  {
   "cell_type": "code",
   "execution_count": null,
   "id": "b41fb901-b739-4272-9753-fbdf47c4a9b2",
   "metadata": {},
   "outputs": [],
   "source": [
    "plot_target_check(train, \"S_3\", q=50, use_raw_bin=True)"
   ]
  },
  {
   "cell_type": "code",
   "execution_count": null,
   "id": "d7336c09-e166-4b02-9a2e-e4808e2c21d9",
   "metadata": {},
   "outputs": [],
   "source": [
    "train[\"S_3\"] = train[\"S_3\"].round(2)\n",
    "test[\"S_3\"] = test[\"S_3\"].round(2)"
   ]
  },
  {
   "cell_type": "code",
   "execution_count": null,
   "id": "99a05b90-7ebb-4be5-8258-534bf4dd8a2f",
   "metadata": {},
   "outputs": [],
   "source": [
    "plot_target_check(train, \"S_3\", q=50, use_raw_bin=True, nunique_thr=400, strfy_x=True)"
   ]
  },
  {
   "cell_type": "code",
   "execution_count": null,
   "id": "19720cb5-e999-4f38-b3db-c338b9848588",
   "metadata": {},
   "outputs": [],
   "source": [
    "plot_train_test_distribution(train, test, \"S_3\", nunique_thr=500)"
   ]
  },
  {
   "cell_type": "markdown",
   "id": "5c07e06b-db01-41c3-bbc2-da1a9f782ac8",
   "metadata": {},
   "source": [
    "### S_5"
   ]
  },
  {
   "cell_type": "code",
   "execution_count": null,
   "id": "24863539-fee7-4f74-a298-fa259bd1b330",
   "metadata": {},
   "outputs": [],
   "source": [
    "plot_target_check(train, \"S_5\", q=50, use_raw_bin=True)"
   ]
  },
  {
   "cell_type": "code",
   "execution_count": null,
   "id": "6b7edaa0-0afb-4f5e-b50a-115066a23294",
   "metadata": {},
   "outputs": [],
   "source": [
    "train[\"S_5\"] = train[\"S_5\"].round(2)\n",
    "test[\"S_5\"] = test[\"S_5\"].round(2)"
   ]
  },
  {
   "cell_type": "code",
   "execution_count": null,
   "id": "67a94ac7-aeeb-4291-ae72-c1439df55a63",
   "metadata": {},
   "outputs": [],
   "source": [
    "plot_target_check(train, \"S_5\", q=50, use_raw_bin=True, nunique_thr=5000, strfy_x=True)"
   ]
  },
  {
   "cell_type": "code",
   "execution_count": null,
   "id": "5266f612-ab5d-4bb1-8e42-9991e7c70646",
   "metadata": {},
   "outputs": [],
   "source": [
    "plot_train_test_distribution(train, test, \"S_5\", nunique_thr=5000)"
   ]
  },
  {
   "cell_type": "code",
   "execution_count": null,
   "id": "5cf693a5-5675-4549-950a-9f339a81db67",
   "metadata": {},
   "outputs": [],
   "source": [
    "# a = train.groupby(\"customer_ID\")[\"S_5\"].max() - train.groupby(\"customer_ID\")[\"S_5\"].min()\n",
    "# b = train.groupby(\"customer_ID\")[\"S_5\"].min()\n",
    "# c = pd.concat([a, b], axis=1)\n",
    "# c.columns = [\"range\", \"min\"]\n",
    "# c.loc[(c[\"range\"] > 0) & (c[\"min\"] <= 0.01)]"
   ]
  },
  {
   "cell_type": "code",
   "execution_count": null,
   "id": "e0802d17-1f9b-4498-ad32-5c51e7c7e086",
   "metadata": {},
   "outputs": [],
   "source": [
    "# train.loc[train[\"customer_ID\"] == \"0000099d6bd597052cdcda90ffabf56573fe9d7c79be5fbac11a8ed792feb62a\", \"S_5\"].replace((0, 0.01), np.nan)"
   ]
  },
  {
   "cell_type": "markdown",
   "id": "8783de11-826d-42f4-bde7-a6757400f82e",
   "metadata": {},
   "source": [
    "### S_6"
   ]
  },
  {
   "cell_type": "code",
   "execution_count": null,
   "id": "716e0688-d6e0-4fa3-93cb-a2de11e08f61",
   "metadata": {},
   "outputs": [],
   "source": [
    "plot_target_check(train, \"S_6\", q=50, use_raw_bin=True, nunique_thr=5000, strfy_x=True)"
   ]
  },
  {
   "cell_type": "code",
   "execution_count": null,
   "id": "94ac9ac1-5733-4a6e-b689-16908210236e",
   "metadata": {},
   "outputs": [],
   "source": [
    "plot_train_test_distribution(train, test, \"S_6\", nunique_thr=5000)"
   ]
  },
  {
   "cell_type": "markdown",
   "id": "1abbba66-638a-4c4b-92b4-59bbac25d063",
   "metadata": {},
   "source": [
    "### S_7"
   ]
  },
  {
   "cell_type": "code",
   "execution_count": null,
   "id": "8ee56d63-6bc5-48a7-ad44-d2fe83846592",
   "metadata": {},
   "outputs": [],
   "source": [
    "plot_target_check(train, \"S_7\", q=50, use_raw_bin=True)"
   ]
  },
  {
   "cell_type": "code",
   "execution_count": null,
   "id": "47c632ef-6855-4cca-a73a-56e8ce48a59a",
   "metadata": {},
   "outputs": [],
   "source": [
    "train[\"S_7\"] = train[\"S_7\"].round(2)\n",
    "test[\"S_7\"] = test[\"S_7\"].round(2)"
   ]
  },
  {
   "cell_type": "code",
   "execution_count": null,
   "id": "81fc6526-562e-4d9d-ad8f-41c38f797857",
   "metadata": {},
   "outputs": [],
   "source": [
    "plot_target_check(train, \"S_7\", q=50, use_raw_bin=True, nunique_thr=360, strfy_x=True)"
   ]
  },
  {
   "cell_type": "code",
   "execution_count": null,
   "id": "2ec8c325-7c52-46e5-8dda-03f318cae0af",
   "metadata": {},
   "outputs": [],
   "source": [
    "plot_train_test_distribution(train, test, \"S_7\", nunique_thr=5000)"
   ]
  },
  {
   "cell_type": "markdown",
   "id": "435dc7f5-c031-47d7-b1d7-7bdd78e4a9f1",
   "metadata": {},
   "source": [
    "### S_8"
   ]
  },
  {
   "cell_type": "code",
   "execution_count": null,
   "id": "b249e588-81ce-4186-afec-340b4d4a9f97",
   "metadata": {},
   "outputs": [],
   "source": [
    "plot_target_check(train, \"S_8\", q=50, use_raw_bin=True, nunique_thr=1000, strfy_x=True)"
   ]
  },
  {
   "cell_type": "code",
   "execution_count": null,
   "id": "b23d4918-a404-46de-8f93-2f169b917e46",
   "metadata": {},
   "outputs": [],
   "source": [
    "plot_train_test_distribution(train, test, \"S_8\", nunique_thr=500)"
   ]
  },
  {
   "cell_type": "code",
   "execution_count": null,
   "id": "88641875-1eac-4b07-9939-7c6b03639341",
   "metadata": {},
   "outputs": [],
   "source": [
    "s8_mapping_dict = dict(zip(sorted(train[\"S_8\"].unique()), range(train[\"S_8\"].nunique())))"
   ]
  },
  {
   "cell_type": "code",
   "execution_count": null,
   "id": "f3b7a83f-02aa-40df-81b9-a1a021e5ae5b",
   "metadata": {},
   "outputs": [],
   "source": [
    "train[\"S_8\"] = train[\"S_8\"].map(s8_mapping_dict).replace(0, np.nan)\n",
    "test[\"S_8\"] = test[\"S_8\"].map(s8_mapping_dict).replace(0, np.nan)"
   ]
  },
  {
   "cell_type": "code",
   "execution_count": null,
   "id": "3d73118d-c536-4da7-b83d-c400ba111b15",
   "metadata": {},
   "outputs": [],
   "source": [
    "plot_target_check(train, \"S_8\", q=50, use_raw_bin=True, nunique_thr=100, strfy_x=True)"
   ]
  },
  {
   "cell_type": "code",
   "execution_count": null,
   "id": "f338022b-5312-4379-90d5-195d15bc51db",
   "metadata": {},
   "outputs": [],
   "source": [
    "plot_train_test_distribution(train, test, \"S_8\", nunique_thr=100)"
   ]
  },
  {
   "cell_type": "markdown",
   "id": "223b8e37-d8af-4e52-8932-abc40a0d5f1b",
   "metadata": {},
   "source": [
    "### S_9"
   ]
  },
  {
   "cell_type": "code",
   "execution_count": null,
   "id": "30c15f17-4cc1-46f0-9ff8-d781ed984a34",
   "metadata": {},
   "outputs": [],
   "source": [
    "plot_target_check(train, \"S_9\", q=50, use_raw_bin=True)"
   ]
  },
  {
   "cell_type": "code",
   "execution_count": null,
   "id": "d3cb8c8b-c00a-40ed-9809-a2fc618ccc77",
   "metadata": {},
   "outputs": [],
   "source": [
    "train[\"S_9\"] = train[\"S_9\"].round(2)\n",
    "test[\"S_9\"] = test[\"S_9\"].round(2)"
   ]
  },
  {
   "cell_type": "code",
   "execution_count": null,
   "id": "230d6b5b-6a10-4378-b370-a575791e9ee6",
   "metadata": {},
   "outputs": [],
   "source": [
    "plot_target_check(train, \"S_9\", q=50, use_raw_bin=True, nunique_thr=300, strfy_x=True)"
   ]
  },
  {
   "cell_type": "code",
   "execution_count": null,
   "id": "a5dbb7e7-5d8f-40e5-8752-967d7a228dc9",
   "metadata": {},
   "outputs": [],
   "source": [
    "plot_train_test_distribution(train, test, \"S_9\", nunique_thr=300)"
   ]
  },
  {
   "cell_type": "markdown",
   "id": "461d0b2d-079e-41b3-be7e-444fb4638d98",
   "metadata": {},
   "source": [
    "**Train Test Skew: Slight**"
   ]
  },
  {
   "cell_type": "markdown",
   "id": "d90c4d3b-5e2b-4eb3-9c18-c100561c127a",
   "metadata": {},
   "source": [
    "### S_11"
   ]
  },
  {
   "cell_type": "code",
   "execution_count": null,
   "id": "496be1ed-7b48-4b01-b47c-5ac7e990d9d7",
   "metadata": {},
   "outputs": [],
   "source": [
    "plot_target_check(train, \"S_11\", q=50, use_raw_bin=True)"
   ]
  },
  {
   "cell_type": "markdown",
   "id": "d64e6b3a-fce7-42b8-a477-0858c4f1cd7f",
   "metadata": {},
   "source": [
    "**Check: Identify if there is some 12 originated from the raw data is actually a missing value / NaN**"
   ]
  },
  {
   "cell_type": "code",
   "execution_count": null,
   "id": "6712c352-fb0b-4ef4-b2b5-72d5afdb5bf8",
   "metadata": {},
   "outputs": [],
   "source": [
    "plot_train_test_distribution(train, test, \"S_11\", nunique_thr=500)"
   ]
  },
  {
   "cell_type": "markdown",
   "id": "3cd953e8-ce38-4c95-988d-5ad31eabb71c",
   "metadata": {},
   "source": [
    "**Train Test Skew: Heavy**"
   ]
  },
  {
   "cell_type": "markdown",
   "id": "87305877-7f89-45d1-a825-c0bcb7a1b212",
   "metadata": {},
   "source": [
    "### S_12"
   ]
  },
  {
   "cell_type": "code",
   "execution_count": null,
   "id": "a14ef3d0-f3fa-48ff-b95d-8d0acc13aa3f",
   "metadata": {},
   "outputs": [],
   "source": [
    "plot_target_check(train, \"S_12\", q=50, use_raw_bin=True)"
   ]
  },
  {
   "cell_type": "code",
   "execution_count": null,
   "id": "0788c469-8226-4b77-927f-0f2ef7cc0da5",
   "metadata": {},
   "outputs": [],
   "source": [
    "temp = train.loc[train[\"S_12\"].between(0.17, 0.21)]\n",
    "plot_target_check(temp, \"S_12\", q=100, use_raw_bin=True)"
   ]
  },
  {
   "cell_type": "code",
   "execution_count": null,
   "id": "123e679d-250f-4027-ac7a-279a66dfd9ff",
   "metadata": {},
   "outputs": [],
   "source": [
    "train.loc[train[\"S_12\"].between(0.1835, 0.1945), \"S_12\"] = np.nan\n",
    "test.loc[test[\"S_12\"].between(0.1835, 0.1945), \"S_12\"] = np.nan"
   ]
  },
  {
   "cell_type": "code",
   "execution_count": null,
   "id": "859a0bf1-063c-4752-b2ac-8887c5dab567",
   "metadata": {},
   "outputs": [],
   "source": [
    "train[\"S_12\"] = train[\"S_12\"].round(2)\n",
    "test[\"S_12\"] = test[\"S_12\"].round(2)"
   ]
  },
  {
   "cell_type": "code",
   "execution_count": null,
   "id": "8a74a6c4-6404-4cb0-bc5f-a6a9ea0c5864",
   "metadata": {},
   "outputs": [],
   "source": [
    "s12_summary = plot_target_check(train, \"S_12\", q=50, use_raw_bin=True, nunique_thr=10000, strfy_x=True, return_df=True)"
   ]
  },
  {
   "cell_type": "markdown",
   "id": "d953f329-cfe0-44cb-92d5-76df465ddc9a",
   "metadata": {},
   "source": [
    "### S_13"
   ]
  },
  {
   "cell_type": "code",
   "execution_count": null,
   "id": "f99b5ff1-d0e5-40ae-844b-3117483542a7",
   "metadata": {},
   "outputs": [],
   "source": [
    "plot_target_check(train, \"S_13\", q=50, use_raw_bin=True, nunique_thr=100, strfy_x=True)"
   ]
  },
  {
   "cell_type": "code",
   "execution_count": null,
   "id": "3176ab50-24de-4d9d-8637-b5a74727e7bd",
   "metadata": {},
   "outputs": [],
   "source": [
    "plot_train_test_distribution(train, test, \"S_13\", nunique_thr=500)"
   ]
  },
  {
   "cell_type": "code",
   "execution_count": null,
   "id": "94c55ef7-a694-4341-817d-f58f8ce6d15d",
   "metadata": {},
   "outputs": [],
   "source": [
    "s13_mapping_dict = dict(zip(sorted(train[\"S_13\"].unique()), range(train[\"S_13\"].nunique())))"
   ]
  },
  {
   "cell_type": "code",
   "execution_count": null,
   "id": "86db168b-1208-449e-b473-671cc763556c",
   "metadata": {},
   "outputs": [],
   "source": [
    "train[\"S_13\"] = train[\"S_13\"].map(s13_mapping_dict)\n",
    "test[\"S_13\"] = test[\"S_13\"].map(s13_mapping_dict)"
   ]
  },
  {
   "cell_type": "code",
   "execution_count": null,
   "id": "35bf873c-36dc-45a7-8902-4f69c7cdfad8",
   "metadata": {},
   "outputs": [],
   "source": [
    "plot_target_check(train, \"S_13\", q=50, use_raw_bin=True, nunique_thr=100, strfy_x=True)"
   ]
  },
  {
   "cell_type": "code",
   "execution_count": null,
   "id": "c56b26a1-c482-458d-a68f-fed5f8391b3c",
   "metadata": {},
   "outputs": [],
   "source": [
    "plot_train_test_distribution(train, test, \"S_13\", nunique_thr=500)"
   ]
  },
  {
   "cell_type": "markdown",
   "id": "9b541bf7-1ef3-4b05-97cf-705b14e230e3",
   "metadata": {},
   "source": [
    "### S_15"
   ]
  },
  {
   "cell_type": "code",
   "execution_count": null,
   "id": "ff85ce4f-90c1-4cf6-a718-b49535b0ba78",
   "metadata": {},
   "outputs": [],
   "source": [
    "plot_target_check(train, \"S_15\", q=50, use_raw_bin=True)"
   ]
  },
  {
   "cell_type": "markdown",
   "id": "fe8775a2-14a5-408e-930d-02e401ad6181",
   "metadata": {},
   "source": [
    "**Check: Identify if there is some 8 originated from the raw data is actually a missing value / NaN**"
   ]
  },
  {
   "cell_type": "code",
   "execution_count": null,
   "id": "764a4e3d-ebe1-4148-a836-d94fccaa5455",
   "metadata": {},
   "outputs": [],
   "source": [
    "plot_train_test_distribution(train, test, \"S_15\", nunique_thr=500)"
   ]
  },
  {
   "cell_type": "markdown",
   "id": "006bb700-a331-4ffd-a002-cb41558783dc",
   "metadata": {},
   "source": [
    "**Train Test Skew: Moderate**"
   ]
  },
  {
   "cell_type": "markdown",
   "id": "d61508f6-3141-4e2f-90da-51265c2cdd94",
   "metadata": {},
   "source": [
    "### S_16"
   ]
  },
  {
   "cell_type": "code",
   "execution_count": null,
   "id": "4c914d5c-720e-4e04-835c-f86b40418f3d",
   "metadata": {},
   "outputs": [],
   "source": [
    "plot_target_check(train, \"S_16\", q=50, use_raw_bin=True)"
   ]
  },
  {
   "cell_type": "code",
   "execution_count": null,
   "id": "3d998713-d8ff-4cb6-bf9a-81a049221d74",
   "metadata": {},
   "outputs": [],
   "source": [
    "train[\"S_16\"] = train[\"S_16\"].round(2).replace(0, 0.01)\n",
    "test[\"S_16\"] = test[\"S_16\"].round(2).replace(0, 0.01)"
   ]
  },
  {
   "cell_type": "code",
   "execution_count": null,
   "id": "9277cfe7-76a0-436b-af6e-364f8d411e12",
   "metadata": {},
   "outputs": [],
   "source": [
    "plot_target_check(train, \"S_16\", q=50, use_raw_bin=True, nunique_thr=15000, strfy_x=True)"
   ]
  },
  {
   "cell_type": "code",
   "execution_count": null,
   "id": "57a6182f-bed5-46e2-b8bf-eb15d18b4e06",
   "metadata": {},
   "outputs": [],
   "source": [
    "plot_train_test_distribution(train, test, \"S_16\", nunique_thr=15000)"
   ]
  },
  {
   "cell_type": "markdown",
   "id": "28650da3-bdf0-4da0-88a8-3bab6488448e",
   "metadata": {},
   "source": [
    "### S_17"
   ]
  },
  {
   "cell_type": "code",
   "execution_count": null,
   "id": "f914374b-be4d-4be0-bfbf-18a049a51182",
   "metadata": {},
   "outputs": [],
   "source": [
    "plot_target_check(train, \"S_17\", q=50, use_raw_bin=True)"
   ]
  },
  {
   "cell_type": "code",
   "execution_count": null,
   "id": "0e7d7251-9b55-46f6-9f0c-c81dc19c9826",
   "metadata": {},
   "outputs": [],
   "source": [
    "train[\"S_17\"] = train[\"S_17\"].round(2)\n",
    "test[\"S_17\"] = test[\"S_17\"].round(2)"
   ]
  },
  {
   "cell_type": "code",
   "execution_count": null,
   "id": "59412631-c887-4694-ad6a-c9b7c0c6c9f6",
   "metadata": {},
   "outputs": [],
   "source": [
    "s17_summary = plot_target_check(train, \"S_17\", q=50, use_raw_bin=True, nunique_thr=15000, strfy_x=True, return_df=True)"
   ]
  },
  {
   "cell_type": "code",
   "execution_count": null,
   "id": "0118ba19-cf5b-4b32-bd63-40b2590f5183",
   "metadata": {},
   "outputs": [],
   "source": [
    "train[\"S_17\"] = train[\"S_17\"].replace(0.01, 0)\n",
    "test[\"S_17\"] = test[\"S_17\"].replace(0.01, 0)"
   ]
  },
  {
   "cell_type": "code",
   "execution_count": null,
   "id": "fcd7cb3a-6b1c-4dd0-ad8a-c2d53dd5832e",
   "metadata": {},
   "outputs": [],
   "source": [
    "train[\"S_17\"] = train[\"S_17\"].replace(0, np.nan)\n",
    "test[\"S_17\"] = test[\"S_17\"].replace(0, np.nan)"
   ]
  },
  {
   "cell_type": "code",
   "execution_count": null,
   "id": "ba29d302-1887-4ee0-9e3b-2fcde9e05463",
   "metadata": {},
   "outputs": [],
   "source": [
    "plot_target_check(train, \"S_17\", q=50, use_raw_bin=True, nunique_thr=15000, strfy_x=True)"
   ]
  },
  {
   "cell_type": "code",
   "execution_count": null,
   "id": "7c1f51cc-728f-46fe-99dc-331d984fd365",
   "metadata": {},
   "outputs": [],
   "source": [
    "plot_train_test_distribution(\n",
    "    train.loc[train[\"S_17\"] <= 1], \n",
    "    test.loc[test[\"S_17\"] <= 1], \n",
    "    \"S_17\", \n",
    "    nunique_thr=15000\n",
    ")"
   ]
  },
  {
   "cell_type": "markdown",
   "id": "827854d4-f5e1-4f87-9ce1-c62d26b894fc",
   "metadata": {},
   "source": [
    "**Train Test Skew: Heavy**"
   ]
  },
  {
   "cell_type": "markdown",
   "id": "6543a950-9588-4c06-bd79-607b1e3aaed5",
   "metadata": {},
   "source": [
    "### S_18"
   ]
  },
  {
   "cell_type": "code",
   "execution_count": null,
   "id": "cf5bfe06-c925-4974-8622-5eda80e28fca",
   "metadata": {
    "tags": []
   },
   "outputs": [],
   "source": [
    "plot_target_check(train, \"S_18\", q=50, use_raw_bin=True)"
   ]
  },
  {
   "cell_type": "code",
   "execution_count": null,
   "id": "5a03a310-b04a-49c0-a044-8014c129f516",
   "metadata": {},
   "outputs": [],
   "source": [
    "plot_train_test_distribution(train, test, \"S_18\", nunique_thr=150)"
   ]
  },
  {
   "cell_type": "markdown",
   "id": "44e85c37-26e3-4bba-9443-8cafc93ef8b9",
   "metadata": {},
   "source": [
    "### S_19"
   ]
  },
  {
   "cell_type": "code",
   "execution_count": null,
   "id": "41e0b752-e64a-4970-b395-d9620b0c602e",
   "metadata": {},
   "outputs": [],
   "source": [
    "plot_target_check(train, \"S_19\", q=50, use_raw_bin=True)"
   ]
  },
  {
   "cell_type": "code",
   "execution_count": null,
   "id": "337be80b-e8e7-4b60-b377-b25175f8d93e",
   "metadata": {},
   "outputs": [],
   "source": [
    "train[\"S_19\"] = train[\"S_19\"].round(2)\n",
    "test[\"S_19\"] = test[\"S_19\"].round(2)"
   ]
  },
  {
   "cell_type": "code",
   "execution_count": null,
   "id": "1670bc4c-6bc6-4179-8663-7db0cc85c01f",
   "metadata": {},
   "outputs": [],
   "source": [
    "train[\"S_19\"] = train[\"S_19\"].replace((0, 0.01), np.nan)\n",
    "test[\"S_19\"] = test[\"S_19\"].replace((0, 0.01), np.nan)"
   ]
  },
  {
   "cell_type": "code",
   "execution_count": null,
   "id": "c32ad64b-3905-407f-9f0f-4d25dde9a91a",
   "metadata": {},
   "outputs": [],
   "source": [
    "plot_target_check(train, \"S_19\", q=50, use_raw_bin=True, strfy_x=True, nunique_thr=50)"
   ]
  },
  {
   "cell_type": "code",
   "execution_count": null,
   "id": "d71c4a42-cda2-4346-90b6-6bb39aa4d2d2",
   "metadata": {},
   "outputs": [],
   "source": [
    "plot_train_test_distribution(train, test, \"S_19\", nunique_thr=50)"
   ]
  },
  {
   "cell_type": "markdown",
   "id": "48802cba-cc15-4367-971f-c80c3c8a5795",
   "metadata": {},
   "source": [
    "**Train Test Skew: Moderate**"
   ]
  },
  {
   "cell_type": "markdown",
   "id": "fdea6484-5d4b-4ace-9686-5b8663a0669b",
   "metadata": {},
   "source": [
    "### S_20"
   ]
  },
  {
   "cell_type": "code",
   "execution_count": null,
   "id": "ad29c006-2939-4ce6-bc19-26b41b16bdee",
   "metadata": {},
   "outputs": [],
   "source": [
    "plot_target_check(train, \"S_20\", q=50, use_raw_bin=True, nunique_thr=200)"
   ]
  },
  {
   "cell_type": "code",
   "execution_count": null,
   "id": "f335fef7-b361-4773-aa68-1a76ff8d09e5",
   "metadata": {},
   "outputs": [],
   "source": [
    "plot_train_test_distribution(train, test, \"S_20\", nunique_thr=50)"
   ]
  },
  {
   "cell_type": "markdown",
   "id": "61427adb-12b1-45f4-819e-71e3bee1e7c7",
   "metadata": {},
   "source": [
    "### S_22"
   ]
  },
  {
   "cell_type": "code",
   "execution_count": null,
   "id": "f2778ff2-d73e-4ec6-850c-fcf4e15a30cf",
   "metadata": {},
   "outputs": [],
   "source": [
    "plot_target_check(train, \"S_22\", q=50, use_raw_bin=True)"
   ]
  },
  {
   "cell_type": "code",
   "execution_count": null,
   "id": "f4c7ce1e-b06b-4126-a57b-1af9b357b980",
   "metadata": {},
   "outputs": [],
   "source": [
    "train[\"S_22\"] = train[\"S_22\"].round(2)\n",
    "test[\"S_22\"] = test[\"S_22\"].round(2)"
   ]
  },
  {
   "cell_type": "code",
   "execution_count": null,
   "id": "87a574a6-ed23-4a3a-b367-68519cc84675",
   "metadata": {},
   "outputs": [],
   "source": [
    "plot_target_check(train, \"S_22\", q=50, use_raw_bin=True, nunique_thr=777, strfy_x=True)"
   ]
  },
  {
   "cell_type": "markdown",
   "id": "8893afbe-5e77-461a-b2b0-689445788564",
   "metadata": {},
   "source": [
    "**Relationship is ambigious**"
   ]
  },
  {
   "cell_type": "code",
   "execution_count": null,
   "id": "e9223909-e9e5-40d1-b0e2-ba460f45c9b0",
   "metadata": {},
   "outputs": [],
   "source": [
    "plot_train_test_distribution(train, test, \"S_22\", nunique_thr=777)"
   ]
  },
  {
   "cell_type": "markdown",
   "id": "b8d53f0f-0cb0-45a5-af14-ccc5de2f5c58",
   "metadata": {},
   "source": [
    "### S_23"
   ]
  },
  {
   "cell_type": "code",
   "execution_count": null,
   "id": "652721fb-87dd-444a-986c-284abbd16971",
   "metadata": {},
   "outputs": [],
   "source": [
    "plot_target_check(train, \"S_23\", q=50, use_raw_bin=True)"
   ]
  },
  {
   "cell_type": "code",
   "execution_count": null,
   "id": "15d3f65c-b059-4a2f-821d-a0a1f32c1d59",
   "metadata": {},
   "outputs": [],
   "source": [
    "train[\"S_23\"] = train[\"S_23\"].round(2)\n",
    "test[\"S_23\"] = test[\"S_23\"].round(2)"
   ]
  },
  {
   "cell_type": "code",
   "execution_count": null,
   "id": "a843155a-934d-4f96-aefe-23ba05193398",
   "metadata": {},
   "outputs": [],
   "source": [
    "plot_target_check(train, \"S_23\", q=50, use_raw_bin=True, strfy_x=True, nunique_thr=1600)"
   ]
  },
  {
   "cell_type": "code",
   "execution_count": null,
   "id": "3dd8cb1e-f679-4e98-a0f6-912ea0c156b4",
   "metadata": {},
   "outputs": [],
   "source": [
    "plot_train_test_distribution(train, test, \"S_23\", nunique_thr=1600)"
   ]
  },
  {
   "cell_type": "code",
   "execution_count": null,
   "id": "a3ef6ac9-e164-4e0e-9745-b657543a9ee2",
   "metadata": {},
   "outputs": [],
   "source": [
    "train.loc[train[\"S_23\"].between(0.129, 0.141), \"S_23\"] = np.nan\n",
    "test.loc[test[\"S_23\"].between(0.129, 0.141), \"S_23\"] = np.nan"
   ]
  },
  {
   "cell_type": "code",
   "execution_count": null,
   "id": "8a38e60e-8493-4d26-86c1-3b429a5243fe",
   "metadata": {},
   "outputs": [],
   "source": [
    "plot_target_check(train, \"S_23\", q=50, use_raw_bin=True, strfy_x=True, nunique_thr=1600)"
   ]
  },
  {
   "cell_type": "code",
   "execution_count": null,
   "id": "e97c97ef-445a-40ab-b33b-9c99d78feeb4",
   "metadata": {},
   "outputs": [],
   "source": [
    "plot_train_test_distribution(train, test, \"S_23\", nunique_thr=1600)"
   ]
  },
  {
   "cell_type": "markdown",
   "id": "2b444024-529a-491c-9001-76faecc81a3c",
   "metadata": {},
   "source": [
    "### S_23a"
   ]
  },
  {
   "cell_type": "code",
   "execution_count": null,
   "id": "9f6c19d0-894c-4a93-a2db-ea3b936bad4b",
   "metadata": {},
   "outputs": [],
   "source": [
    "train[\"S_23a\"] = 0\n",
    "test[\"S_23a\"] = 0"
   ]
  },
  {
   "cell_type": "code",
   "execution_count": null,
   "id": "efaf725a-3d59-41aa-9aee-c54c9798ef65",
   "metadata": {},
   "outputs": [],
   "source": [
    "train.loc[~train[\"S_23\"].isnull(), \"S_23a\"] = 1\n",
    "test.loc[~test[\"S_23\"].isnull(), \"S_23a\"] = 1"
   ]
  },
  {
   "cell_type": "code",
   "execution_count": null,
   "id": "b3bdde3b-44aa-409e-a160-da45e0692605",
   "metadata": {},
   "outputs": [],
   "source": [
    "plot_target_check(train, \"S_23a\", q=50, use_raw_bin=True, strfy_x=True, nunique_thr=1600)"
   ]
  },
  {
   "cell_type": "code",
   "execution_count": null,
   "id": "ee9775b1-4550-4add-a44f-79eda2a1483d",
   "metadata": {},
   "outputs": [],
   "source": [
    "plot_train_test_distribution(train, test, \"S_23a\", nunique_thr=1600)"
   ]
  },
  {
   "cell_type": "markdown",
   "id": "4988d81a-5093-4b6d-86d1-506937a05566",
   "metadata": {},
   "source": [
    "### S_24"
   ]
  },
  {
   "cell_type": "code",
   "execution_count": null,
   "id": "f9d6f93d-5b84-40cd-82e7-6b8019b184c7",
   "metadata": {},
   "outputs": [],
   "source": [
    "plot_target_check(train, \"S_24\", q=50, use_raw_bin=True)"
   ]
  },
  {
   "cell_type": "code",
   "execution_count": null,
   "id": "cc97c1d0-4561-4daa-9c87-014b998b37ab",
   "metadata": {},
   "outputs": [],
   "source": [
    "train[\"S_24\"] = train[\"S_24\"].round(2)\n",
    "test[\"S_24\"] = test[\"S_24\"].round(2)"
   ]
  },
  {
   "cell_type": "code",
   "execution_count": null,
   "id": "0fff6df4-00e6-4431-a59b-739d99b45c57",
   "metadata": {},
   "outputs": [],
   "source": [
    "plot_target_check(train, \"S_24\", q=50, use_raw_bin=True, nunique_thr=650, strfy_x=True)"
   ]
  },
  {
   "cell_type": "code",
   "execution_count": null,
   "id": "96597446-c08d-4db2-9987-8513e2529a81",
   "metadata": {},
   "outputs": [],
   "source": [
    "plot_train_test_distribution(train, test, \"S_24\", nunique_thr=650)"
   ]
  },
  {
   "cell_type": "markdown",
   "id": "ad4a3e30-ad3c-467f-9b50-5c88141ed856",
   "metadata": {},
   "source": [
    "**Train Test Skew: Heavy**"
   ]
  },
  {
   "cell_type": "markdown",
   "id": "a2cc3c35-f861-491a-8184-0a4367d5fbda",
   "metadata": {},
   "source": [
    "### S_25"
   ]
  },
  {
   "cell_type": "code",
   "execution_count": null,
   "id": "f0047b6b-84cc-4328-9f54-bc5970ff6169",
   "metadata": {},
   "outputs": [],
   "source": [
    "plot_target_check(train, \"S_25\", q=50, use_raw_bin=True)"
   ]
  },
  {
   "cell_type": "code",
   "execution_count": null,
   "id": "24db9d68-94ec-49a8-915e-de0943a300e3",
   "metadata": {},
   "outputs": [],
   "source": [
    "train[\"S_25\"] = train[\"S_25\"].round(2)\n",
    "test[\"S_25\"] = test[\"S_25\"].round(2)"
   ]
  },
  {
   "cell_type": "code",
   "execution_count": null,
   "id": "9d309ce8-cfeb-46f5-982f-400e9aa2610e",
   "metadata": {},
   "outputs": [],
   "source": [
    "plot_target_check(train, \"S_25\", q=50, use_raw_bin=True)"
   ]
  },
  {
   "cell_type": "code",
   "execution_count": null,
   "id": "ca695614-852f-4f15-a6cd-7e48158bf5a0",
   "metadata": {},
   "outputs": [],
   "source": [
    "train.loc[train[\"S_25\"].between(0.979, 0.991), \"S_25\"] = np.nan\n",
    "test.loc[test[\"S_25\"].between(0.979, 0.991), \"S_25\"] = np.nan"
   ]
  },
  {
   "cell_type": "code",
   "execution_count": null,
   "id": "e11b4157-d6ed-462c-b27c-5562baf59a78",
   "metadata": {},
   "outputs": [],
   "source": [
    "plot_target_check(train, \"S_25\", q=50, use_raw_bin=True, nunique_thr=1500, strfy_x=True)"
   ]
  },
  {
   "cell_type": "code",
   "execution_count": null,
   "id": "1577cc3b-2761-43a6-9af2-f8bd3a1a65a2",
   "metadata": {},
   "outputs": [],
   "source": [
    "plot_train_test_distribution(train, test, \"S_25\", nunique_thr=1500)"
   ]
  },
  {
   "cell_type": "code",
   "execution_count": null,
   "id": "ca4e735f-a0e2-4b68-a0f4-bfbdada8fdeb",
   "metadata": {},
   "outputs": [],
   "source": [
    "train.loc[train[\"S_25\"].between(0.97, 0.99), \"S_25\"] = np.nan\n",
    "test.loc[test[\"S_25\"].between(0.97, 0.99), \"S_25\"] = np.nan"
   ]
  },
  {
   "cell_type": "code",
   "execution_count": null,
   "id": "a50cb619-cea2-4ebd-a4a9-c9b868dc0499",
   "metadata": {},
   "outputs": [],
   "source": [
    "plot_target_check(train, \"S_25\", q=50, use_raw_bin=True, nunique_thr=1500, strfy_x=True)"
   ]
  },
  {
   "cell_type": "code",
   "execution_count": null,
   "id": "82e15d28-cc9c-494a-b2de-490ebb825e1b",
   "metadata": {},
   "outputs": [],
   "source": [
    "plot_train_test_distribution(train, test, \"S_25\", nunique_thr=1500)"
   ]
  },
  {
   "cell_type": "markdown",
   "id": "030ad166-b983-4baf-9090-8ec9147abca4",
   "metadata": {},
   "source": [
    "**Train Test Skew: Moderate**"
   ]
  },
  {
   "cell_type": "markdown",
   "id": "0e1ff84f-0663-4fcb-8688-8593eb5dea88",
   "metadata": {},
   "source": [
    "### S_26"
   ]
  },
  {
   "cell_type": "code",
   "execution_count": null,
   "id": "4f9d98f2-e97d-4c07-93f1-6f2c66cd3595",
   "metadata": {},
   "outputs": [],
   "source": [
    "plot_target_check(train, \"S_26\", q=50, use_raw_bin=True)"
   ]
  },
  {
   "cell_type": "code",
   "execution_count": null,
   "id": "b72f8e8d-0c11-4123-afb0-e8f277f07b2c",
   "metadata": {},
   "outputs": [],
   "source": [
    "train[\"S_26\"] = train[\"S_26\"].round(2)\n",
    "test[\"S_26\"] = test[\"S_26\"].round(2)"
   ]
  },
  {
   "cell_type": "code",
   "execution_count": null,
   "id": "7af1d618-d87e-49f6-8db2-524c0181f887",
   "metadata": {},
   "outputs": [],
   "source": [
    "plot_target_check(train, \"S_26\", q=50, use_raw_bin=True, nunique_thr=2000, strfy_x=True)"
   ]
  },
  {
   "cell_type": "code",
   "execution_count": null,
   "id": "a719b2af-b21f-4613-b205-2fbf4776025a",
   "metadata": {},
   "outputs": [],
   "source": [
    "plot_train_test_distribution(train, test, \"S_26\", nunique_thr=2000)"
   ]
  },
  {
   "cell_type": "markdown",
   "id": "5e867f80-bed1-4839-aae6-03ba72b28893",
   "metadata": {
    "tags": []
   },
   "source": [
    "### S_27"
   ]
  },
  {
   "cell_type": "code",
   "execution_count": null,
   "id": "d7ef4a9f-1f76-4c0d-bd0a-60e2f7cc8d4f",
   "metadata": {},
   "outputs": [],
   "source": [
    "plot_target_check(train, \"S_27\", q=50, use_raw_bin=True)"
   ]
  },
  {
   "cell_type": "code",
   "execution_count": null,
   "id": "c130c2fd-a239-46a9-a0e5-cb1c3961bcc7",
   "metadata": {},
   "outputs": [],
   "source": [
    "train[\"S_27\"] = train[\"S_27\"].round(2)\n",
    "test[\"S_27\"] = test[\"S_27\"].round(2)"
   ]
  },
  {
   "cell_type": "code",
   "execution_count": null,
   "id": "c30ed606-14cb-4540-af43-7e51466c619c",
   "metadata": {},
   "outputs": [],
   "source": [
    "plot_target_check(train, \"S_27\", q=50, use_raw_bin=True, nunique_thr=1500, strfy_x=True)"
   ]
  },
  {
   "cell_type": "code",
   "execution_count": null,
   "id": "df6c2ba3-7896-4733-90cb-f15e94408e9c",
   "metadata": {},
   "outputs": [],
   "source": [
    "train.loc[train[\"S_27\"].between(0, 0.02), \"S_27\"] = np.nan\n",
    "test.loc[test[\"S_27\"].between(0, 0.02), \"S_27\"] = np.nan"
   ]
  },
  {
   "cell_type": "code",
   "execution_count": null,
   "id": "0e036824-a198-4ec7-a6a2-2c11b59943c4",
   "metadata": {},
   "outputs": [],
   "source": [
    "plot_target_check(train, \"S_27\", q=50, use_raw_bin=True, nunique_thr=1500, strfy_x=True)"
   ]
  },
  {
   "cell_type": "code",
   "execution_count": null,
   "id": "70125f1e-6682-43f8-87cd-b060c45b0120",
   "metadata": {},
   "outputs": [],
   "source": [
    "plot_train_test_distribution(train, test, \"S_27\", nunique_thr=1500)"
   ]
  },
  {
   "cell_type": "markdown",
   "id": "af285de4-6d51-4a67-91eb-791dbff9461f",
   "metadata": {},
   "source": [
    "**Train Test Skew: Heavy**"
   ]
  },
  {
   "cell_type": "markdown",
   "id": "ea23a268-6543-4fd7-9e0a-83fd6c04eae2",
   "metadata": {},
   "source": [
    "### S_27a"
   ]
  },
  {
   "cell_type": "code",
   "execution_count": null,
   "id": "c6331808-816f-489d-88c6-21bf36c8c74b",
   "metadata": {},
   "outputs": [],
   "source": [
    "train[\"S_27a\"] = 0\n",
    "test[\"S_27a\"] = 0"
   ]
  },
  {
   "cell_type": "code",
   "execution_count": null,
   "id": "6fd50566-b95a-4402-ae2d-4cc9e9e2a5e9",
   "metadata": {},
   "outputs": [],
   "source": [
    "train.loc[~train[\"S_27\"].isnull(), \"S_27a\"] = 1\n",
    "test.loc[~test[\"S_27\"].isnull(), \"S_27a\"] = 1"
   ]
  },
  {
   "cell_type": "code",
   "execution_count": null,
   "id": "979c0578-180f-4b63-a769-53148a5a1e9f",
   "metadata": {},
   "outputs": [],
   "source": [
    "plot_target_check(train, \"S_27a\", q=50, use_raw_bin=True, strfy_x=True, nunique_thr=5000)"
   ]
  },
  {
   "cell_type": "code",
   "execution_count": null,
   "id": "9d194fd4-a413-4590-b8a0-5650c685aa81",
   "metadata": {},
   "outputs": [],
   "source": [
    "plot_train_test_distribution(train, test, \"S_27a\", nunique_thr=1600)"
   ]
  },
  {
   "cell_type": "code",
   "execution_count": null,
   "id": "ac12900c-f499-4bf1-947e-7df03e424d9d",
   "metadata": {},
   "outputs": [],
   "source": []
  },
  {
   "cell_type": "markdown",
   "id": "301ef8e5-cc3d-474c-aaaa-001b9628c869",
   "metadata": {},
   "source": [
    "### Column checking"
   ]
  },
  {
   "cell_type": "code",
   "execution_count": null,
   "id": "3c80e051-c51c-4397-bf8e-3414a0536aaa",
   "metadata": {},
   "outputs": [],
   "source": [
    "from tqdm import tqdm"
   ]
  },
  {
   "cell_type": "code",
   "execution_count": null,
   "id": "2ca89efa-582b-48e3-a2b4-01dd3556fcab",
   "metadata": {},
   "outputs": [],
   "source": [
    "all_columns = get_cols(train, [\"P_\", \"S_\"])"
   ]
  },
  {
   "cell_type": "code",
   "execution_count": null,
   "id": "5c08964e-59e5-461e-8415-4a3e445c96c2",
   "metadata": {},
   "outputs": [],
   "source": [
    "for d in tqdm(all_columns):\n",
    "    neg1_series = train.loc[train[d] == -1, d]\n",
    "    if len(neg1_series) > 0:\n",
    "        print(\"Train\", d, len(neg1_series))\n",
    "        train[d] = train[d].replace(-1, -999)\n",
    "    neg1_series = test.loc[test[d] == -1, d]\n",
    "    if len(neg1_series) > 0:\n",
    "        print(\"Test\", d, len(neg1_series))\n",
    "        test[d] = test[d].replace(-1, -999)"
   ]
  },
  {
   "cell_type": "code",
   "execution_count": null,
   "id": "16c20a0f-a4e9-4883-8cb0-20e3a74d8315",
   "metadata": {},
   "outputs": [],
   "source": [
    "for d in tqdm(all_columns):\n",
    "    train[d] = train[d].fillna(-127)\n",
    "    test[d] = test[d].fillna(-127)"
   ]
  },
  {
   "cell_type": "code",
   "execution_count": null,
   "id": "8370e501-811f-43bf-b12e-6ce79f2b7429",
   "metadata": {},
   "outputs": [],
   "source": [
    "for d in tqdm(all_columns):\n",
    "    neg1_series = train.loc[train[d] == -999, d]\n",
    "    if len(neg1_series) > 0:\n",
    "        print(\"Train\", d, len(neg1_series))\n",
    "        train[d] = train[d].replace(-999, -1)\n",
    "    neg1_series = test.loc[test[d] == -999, d]\n",
    "    if len(neg1_series) > 0:\n",
    "        print(\"Test\", d, len(neg1_series))\n",
    "        test[d] = test[d].replace(-999, -1)"
   ]
  },
  {
   "cell_type": "code",
   "execution_count": null,
   "id": "0e8c9533-8183-471f-807b-eb4c09aea7e6",
   "metadata": {},
   "outputs": [],
   "source": [
    "d_col_nunique = train[all_columns].nunique()"
   ]
  },
  {
   "cell_type": "code",
   "execution_count": null,
   "id": "c11f719a-0506-479d-bc20-28ce779f9b93",
   "metadata": {},
   "outputs": [],
   "source": [
    "less_unique_d_cols = d_col_nunique[d_col_nunique < 64].index.tolist()"
   ]
  },
  {
   "cell_type": "code",
   "execution_count": null,
   "id": "dc50c403-f058-49a5-9666-383b8b16fd6c",
   "metadata": {},
   "outputs": [],
   "source": [
    "for d in less_unique_d_cols:\n",
    "    print(d, \":\", train[d].dtype, \"\\n\", sorted(train[d].unique().tolist()), \"\\n\")"
   ]
  },
  {
   "cell_type": "code",
   "execution_count": null,
   "id": "2cfcbb9c-5c70-4ad0-947a-45f9e83e6a00",
   "metadata": {},
   "outputs": [],
   "source": [
    "# for col in tqdm(less_unique_d_cols):\n",
    "#     train[col] = integerize(train[col])\n",
    "#     test[col] = integerize(test[col])"
   ]
  },
  {
   "cell_type": "code",
   "execution_count": null,
   "id": "7b3ac121-3e17-463b-be9b-2faeeac70c7e",
   "metadata": {},
   "outputs": [],
   "source": [
    "train = train.drop(columns=\"temp\", errors=\"ignore\")\n",
    "test = test.drop(columns=\"temp\", errors=\"ignore\")"
   ]
  },
  {
   "cell_type": "code",
   "execution_count": null,
   "id": "98746275-8ed2-4f8a-82a5-887e68466013",
   "metadata": {},
   "outputs": [],
   "source": [
    "train.shape, test.shape"
   ]
  },
  {
   "cell_type": "code",
   "execution_count": null,
   "id": "b08a0678-4466-4221-a944-23ae0d30df2d",
   "metadata": {},
   "outputs": [],
   "source": [
    "%%time\n",
    "train.to_parquet(f\"{RAW_TRAIN_PARQUET_PATH}/train_ps.parquet\")\n",
    "test.to_parquet(f\"{RAW_TEST_PARQUET_PATH}/test_ps.parquet\")"
   ]
  },
  {
   "cell_type": "code",
   "execution_count": null,
   "id": "2de32c3b-3f3b-4524-b5ed-d292b183f45a",
   "metadata": {
    "tags": []
   },
   "outputs": [],
   "source": [
    "END = time.time()"
   ]
  },
  {
   "cell_type": "code",
   "execution_count": null,
   "id": "6088aa88-c997-4560-bb7c-1e9d4bc12670",
   "metadata": {},
   "outputs": [],
   "source": [
    "print(f\"{END - START:.2f} seconds elapsed\")"
   ]
  },
  {
   "cell_type": "code",
   "execution_count": null,
   "id": "2872d5b1-4f79-4be1-abb1-40badb882368",
   "metadata": {},
   "outputs": [],
   "source": [
    "missing_df = plot_missing_proportion_barchart(train)"
   ]
  },
  {
   "cell_type": "markdown",
   "id": "7e8cf529-daed-499b-bf76-a642bf0e56ee",
   "metadata": {},
   "source": [
    "### Check Column"
   ]
  },
  {
   "cell_type": "code",
   "execution_count": null,
   "id": "bc0e70e5-293b-4d69-9d83-a6002ff341e2",
   "metadata": {},
   "outputs": [],
   "source": [
    "(train[\"D_106\"].round(1) - train[\"D_106\"]).fillna(0).sum()"
   ]
  }
 ],
 "metadata": {
  "kernelspec": {
   "display_name": "amex",
   "language": "python",
   "name": "amex"
  },
  "language_info": {
   "codemirror_mode": {
    "name": "ipython",
    "version": 3
   },
   "file_extension": ".py",
   "mimetype": "text/x-python",
   "name": "python",
   "nbconvert_exporter": "python",
   "pygments_lexer": "ipython3",
   "version": "3.10.0"
  }
 },
 "nbformat": 4,
 "nbformat_minor": 5
}
