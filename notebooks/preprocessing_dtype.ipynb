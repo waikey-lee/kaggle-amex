{
 "cells": [
  {
   "cell_type": "code",
   "execution_count": 9,
   "id": "c5eea12c-6a38-44a7-b4ac-2e02eb4a0cdf",
   "metadata": {},
   "outputs": [],
   "source": [
    "import pandas as pd\n",
    "import matplotlib.pyplot as plt\n",
    "import gc\n",
    "import numpy as np\n",
    "import os\n",
    "import sys\n",
    "import warnings\n",
    "warnings.simplefilter(\"ignore\")\n",
    "warnings.filterwarnings(\"ignore\")\n",
    "from tqdm import tqdm"
   ]
  },
  {
   "cell_type": "code",
   "execution_count": 10,
   "id": "e90e406e-1613-4b77-90fd-fffd7117098d",
   "metadata": {},
   "outputs": [],
   "source": [
    "from pathlib import Path\n",
    "rootpath = Path.cwd().parent\n",
    "sys.path.append(os.path.join(rootpath))"
   ]
  },
  {
   "cell_type": "code",
   "execution_count": 46,
   "id": "478815b3-9030-4b2b-aae7-4bac1fc2ede5",
   "metadata": {},
   "outputs": [],
   "source": [
    "from utils.eval_helpers import (\n",
    "    plot_roc_curves, plot_feature_importance, \n",
    "    amex_metric, get_final_metric_df, amex_metric_np, lgb_amex_metric\n",
    ")\n",
    "from utils.eda_helpers import plot_missing_proportion_barchart, get_cols\n",
    "from utils.extraction_helpers import read_file\n",
    "from utils.feature_group import (\n",
    "    CATEGORY_COLUMNS, CONTINUOUS_COLUMNS, SPECIAL_INT_COLUMNS, BINARY_COLUMNS,\n",
    "    MEAN_FEATURES, MIN_FEATURES, MAX_FEATURES, LAST_FEATURES, CONFIRM_DROP_FEATURES\n",
    ")"
   ]
  },
  {
   "cell_type": "code",
   "execution_count": 41,
   "id": "02241400-dab6-4ac0-9097-8820fb43a93e",
   "metadata": {},
   "outputs": [],
   "source": [
    "RAW_DATA_PATH = \"../raw_data\"\n",
    "PROCESSED_DATA_PATH = \"../processed_data\"\n",
    "SUBMISSION_DATA_PATH = \"../submissions\"\n",
    "EVALUATION_DATA_PATH = \"../evaluation_data\"\n",
    "MODELS_PATH = \"../models\""
   ]
  },
  {
   "cell_type": "code",
   "execution_count": 42,
   "id": "a23622ac-8d7f-4631-8740-1dd5ac94cec9",
   "metadata": {},
   "outputs": [],
   "source": [
    "RAW_TRAIN_PARQUET_PATH = os.path.join(RAW_DATA_PATH, \"train_parquet\")\n",
    "RAW_TRAIN_PICKLE_PATH = os.path.join(RAW_DATA_PATH, \"train_pickle\")\n",
    "RAW_TEST_PARQUET_PATH = os.path.join(RAW_DATA_PATH, \"test_parquet\")\n",
    "RAW_TEST_PICKLE_PATH = os.path.join(RAW_DATA_PATH, \"test_pickle\")"
   ]
  },
  {
   "cell_type": "code",
   "execution_count": 43,
   "id": "c37c94a4-934c-4e72-838c-a658f8c4a96c",
   "metadata": {},
   "outputs": [
    {
     "name": "stdout",
     "output_type": "stream",
     "text": [
      "The autoreload extension is already loaded. To reload it, use:\n",
      "  %reload_ext autoreload\n"
     ]
    }
   ],
   "source": [
    "%load_ext autoreload\n",
    "%autoreload"
   ]
  },
  {
   "cell_type": "markdown",
   "id": "eebfeb04-b7d3-41fa-95d8-5379749e4ba5",
   "metadata": {},
   "source": [
    "### Read Data"
   ]
  },
  {
   "cell_type": "code",
   "execution_count": 15,
   "id": "d8543ad4-758d-4f73-88a8-57d5552fb50b",
   "metadata": {},
   "outputs": [
    {
     "name": "stdout",
     "output_type": "stream",
     "text": [
      "Shape of data: (5531451, 191)\n"
     ]
    }
   ],
   "source": [
    "train = read_file(f\"{RAW_TRAIN_PARQUET_PATH}/train_data.parquet\")\n",
    "# test = read_file(f\"{RAW_TEST_PICKLE_PATH}/test_data.pkl\")"
   ]
  },
  {
   "cell_type": "code",
   "execution_count": 17,
   "id": "19956319-71fb-4198-a97e-3e22c3e2bfb0",
   "metadata": {},
   "outputs": [
    {
     "data": {
      "text/html": [
       "<div>\n",
       "<style scoped>\n",
       "    .dataframe tbody tr th:only-of-type {\n",
       "        vertical-align: middle;\n",
       "    }\n",
       "\n",
       "    .dataframe tbody tr th {\n",
       "        vertical-align: top;\n",
       "    }\n",
       "\n",
       "    .dataframe thead th {\n",
       "        text-align: right;\n",
       "    }\n",
       "</style>\n",
       "<table border=\"1\" class=\"dataframe\">\n",
       "  <thead>\n",
       "    <tr style=\"text-align: right;\">\n",
       "      <th></th>\n",
       "      <th>customer_ID</th>\n",
       "      <th>S_2</th>\n",
       "      <th>P_2</th>\n",
       "      <th>D_39</th>\n",
       "      <th>B_1</th>\n",
       "      <th>B_2</th>\n",
       "      <th>R_1</th>\n",
       "      <th>S_3</th>\n",
       "      <th>D_41</th>\n",
       "      <th>B_3</th>\n",
       "      <th>...</th>\n",
       "      <th>D_137</th>\n",
       "      <th>D_138</th>\n",
       "      <th>D_139</th>\n",
       "      <th>D_140</th>\n",
       "      <th>D_141</th>\n",
       "      <th>D_142</th>\n",
       "      <th>D_143</th>\n",
       "      <th>D_144</th>\n",
       "      <th>D_145</th>\n",
       "      <th>target</th>\n",
       "    </tr>\n",
       "  </thead>\n",
       "  <tbody>\n",
       "    <tr>\n",
       "      <th>0</th>\n",
       "      <td>0000099d6bd597052cdcda90ffabf56573fe9d7c79be5f...</td>\n",
       "      <td>2017-03-09</td>\n",
       "      <td>0.938469</td>\n",
       "      <td>0.001733</td>\n",
       "      <td>0.008724</td>\n",
       "      <td>1.006838</td>\n",
       "      <td>0.009228</td>\n",
       "      <td>0.124035</td>\n",
       "      <td>0.008771</td>\n",
       "      <td>0.004709</td>\n",
       "      <td>...</td>\n",
       "      <td>NaN</td>\n",
       "      <td>NaN</td>\n",
       "      <td>0.002427</td>\n",
       "      <td>0.003706</td>\n",
       "      <td>0.003818</td>\n",
       "      <td>NaN</td>\n",
       "      <td>0.000569</td>\n",
       "      <td>0.000610</td>\n",
       "      <td>0.002674</td>\n",
       "      <td>0</td>\n",
       "    </tr>\n",
       "    <tr>\n",
       "      <th>1</th>\n",
       "      <td>0000099d6bd597052cdcda90ffabf56573fe9d7c79be5f...</td>\n",
       "      <td>2017-04-07</td>\n",
       "      <td>0.936665</td>\n",
       "      <td>0.005775</td>\n",
       "      <td>0.004923</td>\n",
       "      <td>1.000653</td>\n",
       "      <td>0.006151</td>\n",
       "      <td>0.126750</td>\n",
       "      <td>0.000798</td>\n",
       "      <td>0.002714</td>\n",
       "      <td>...</td>\n",
       "      <td>NaN</td>\n",
       "      <td>NaN</td>\n",
       "      <td>0.003954</td>\n",
       "      <td>0.003167</td>\n",
       "      <td>0.005032</td>\n",
       "      <td>NaN</td>\n",
       "      <td>0.009576</td>\n",
       "      <td>0.005492</td>\n",
       "      <td>0.009217</td>\n",
       "      <td>0</td>\n",
       "    </tr>\n",
       "    <tr>\n",
       "      <th>2</th>\n",
       "      <td>0000099d6bd597052cdcda90ffabf56573fe9d7c79be5f...</td>\n",
       "      <td>2017-05-28</td>\n",
       "      <td>0.954180</td>\n",
       "      <td>0.091505</td>\n",
       "      <td>0.021655</td>\n",
       "      <td>1.009672</td>\n",
       "      <td>0.006815</td>\n",
       "      <td>0.123977</td>\n",
       "      <td>0.007598</td>\n",
       "      <td>0.009423</td>\n",
       "      <td>...</td>\n",
       "      <td>NaN</td>\n",
       "      <td>NaN</td>\n",
       "      <td>0.003269</td>\n",
       "      <td>0.007329</td>\n",
       "      <td>0.000427</td>\n",
       "      <td>NaN</td>\n",
       "      <td>0.003429</td>\n",
       "      <td>0.006986</td>\n",
       "      <td>0.002603</td>\n",
       "      <td>0</td>\n",
       "    </tr>\n",
       "    <tr>\n",
       "      <th>3</th>\n",
       "      <td>0000099d6bd597052cdcda90ffabf56573fe9d7c79be5f...</td>\n",
       "      <td>2017-06-13</td>\n",
       "      <td>0.960384</td>\n",
       "      <td>0.002455</td>\n",
       "      <td>0.013683</td>\n",
       "      <td>1.002700</td>\n",
       "      <td>0.001373</td>\n",
       "      <td>0.117169</td>\n",
       "      <td>0.000685</td>\n",
       "      <td>0.005531</td>\n",
       "      <td>...</td>\n",
       "      <td>NaN</td>\n",
       "      <td>NaN</td>\n",
       "      <td>0.006117</td>\n",
       "      <td>0.004516</td>\n",
       "      <td>0.003200</td>\n",
       "      <td>NaN</td>\n",
       "      <td>0.008419</td>\n",
       "      <td>0.006527</td>\n",
       "      <td>0.009600</td>\n",
       "      <td>0</td>\n",
       "    </tr>\n",
       "    <tr>\n",
       "      <th>4</th>\n",
       "      <td>0000099d6bd597052cdcda90ffabf56573fe9d7c79be5f...</td>\n",
       "      <td>2017-07-16</td>\n",
       "      <td>0.947248</td>\n",
       "      <td>0.002483</td>\n",
       "      <td>0.015193</td>\n",
       "      <td>1.000727</td>\n",
       "      <td>0.007605</td>\n",
       "      <td>0.117325</td>\n",
       "      <td>0.004653</td>\n",
       "      <td>0.009312</td>\n",
       "      <td>...</td>\n",
       "      <td>NaN</td>\n",
       "      <td>NaN</td>\n",
       "      <td>0.003671</td>\n",
       "      <td>0.004946</td>\n",
       "      <td>0.008889</td>\n",
       "      <td>NaN</td>\n",
       "      <td>0.001670</td>\n",
       "      <td>0.008126</td>\n",
       "      <td>0.009827</td>\n",
       "      <td>0</td>\n",
       "    </tr>\n",
       "  </tbody>\n",
       "</table>\n",
       "<p>5 rows × 191 columns</p>\n",
       "</div>"
      ],
      "text/plain": [
       "                                         customer_ID        S_2       P_2  \\\n",
       "0  0000099d6bd597052cdcda90ffabf56573fe9d7c79be5f... 2017-03-09  0.938469   \n",
       "1  0000099d6bd597052cdcda90ffabf56573fe9d7c79be5f... 2017-04-07  0.936665   \n",
       "2  0000099d6bd597052cdcda90ffabf56573fe9d7c79be5f... 2017-05-28  0.954180   \n",
       "3  0000099d6bd597052cdcda90ffabf56573fe9d7c79be5f... 2017-06-13  0.960384   \n",
       "4  0000099d6bd597052cdcda90ffabf56573fe9d7c79be5f... 2017-07-16  0.947248   \n",
       "\n",
       "       D_39       B_1       B_2       R_1       S_3      D_41       B_3  ...  \\\n",
       "0  0.001733  0.008724  1.006838  0.009228  0.124035  0.008771  0.004709  ...   \n",
       "1  0.005775  0.004923  1.000653  0.006151  0.126750  0.000798  0.002714  ...   \n",
       "2  0.091505  0.021655  1.009672  0.006815  0.123977  0.007598  0.009423  ...   \n",
       "3  0.002455  0.013683  1.002700  0.001373  0.117169  0.000685  0.005531  ...   \n",
       "4  0.002483  0.015193  1.000727  0.007605  0.117325  0.004653  0.009312  ...   \n",
       "\n",
       "   D_137  D_138     D_139     D_140     D_141  D_142     D_143     D_144  \\\n",
       "0    NaN    NaN  0.002427  0.003706  0.003818    NaN  0.000569  0.000610   \n",
       "1    NaN    NaN  0.003954  0.003167  0.005032    NaN  0.009576  0.005492   \n",
       "2    NaN    NaN  0.003269  0.007329  0.000427    NaN  0.003429  0.006986   \n",
       "3    NaN    NaN  0.006117  0.004516  0.003200    NaN  0.008419  0.006527   \n",
       "4    NaN    NaN  0.003671  0.004946  0.008889    NaN  0.001670  0.008126   \n",
       "\n",
       "      D_145  target  \n",
       "0  0.002674       0  \n",
       "1  0.009217       0  \n",
       "2  0.002603       0  \n",
       "3  0.009600       0  \n",
       "4  0.009827       0  \n",
       "\n",
       "[5 rows x 191 columns]"
      ]
     },
     "execution_count": 17,
     "metadata": {},
     "output_type": "execute_result"
    }
   ],
   "source": [
    "train.head(3)"
   ]
  },
  {
   "cell_type": "code",
   "execution_count": 22,
   "id": "0b85d2fe-6c2c-4307-88f5-8198430b3027",
   "metadata": {},
   "outputs": [],
   "source": [
    "def insert_row_number(df):\n",
    "    if \"row_number\" not in df.columns:\n",
    "        df.insert(1, \"row_number\", train.groupby(\"customer_ID\")[\"S_2\"].rank(method=\"first\", ascending=False).astype(int))\n",
    "    if \"row_number_inv\" not in df.columns:\n",
    "        df.insert(1, \"row_number_inv\", train.groupby(\"customer_ID\")[\"S_2\"].rank(method=\"first\", ascending=True).astype(int))\n",
    "    return df"
   ]
  },
  {
   "cell_type": "code",
   "execution_count": 24,
   "id": "09a1584d-75cb-45e7-a1ab-ba7c1665a0b4",
   "metadata": {},
   "outputs": [],
   "source": [
    "train = insert_row_number(train)"
   ]
  },
  {
   "cell_type": "code",
   "execution_count": 26,
   "id": "43d1494d-303d-4ca9-b718-1fe019f2c433",
   "metadata": {},
   "outputs": [
    {
     "data": {
      "text/html": [
       "<div>\n",
       "<style scoped>\n",
       "    .dataframe tbody tr th:only-of-type {\n",
       "        vertical-align: middle;\n",
       "    }\n",
       "\n",
       "    .dataframe tbody tr th {\n",
       "        vertical-align: top;\n",
       "    }\n",
       "\n",
       "    .dataframe thead th {\n",
       "        text-align: right;\n",
       "    }\n",
       "</style>\n",
       "<table border=\"1\" class=\"dataframe\">\n",
       "  <thead>\n",
       "    <tr style=\"text-align: right;\">\n",
       "      <th></th>\n",
       "      <th>customer_ID</th>\n",
       "      <th>row_number_inv</th>\n",
       "      <th>row_number</th>\n",
       "      <th>S_2</th>\n",
       "      <th>P_2</th>\n",
       "      <th>D_39</th>\n",
       "      <th>B_1</th>\n",
       "      <th>B_2</th>\n",
       "      <th>R_1</th>\n",
       "      <th>S_3</th>\n",
       "      <th>...</th>\n",
       "      <th>D_137</th>\n",
       "      <th>D_138</th>\n",
       "      <th>D_139</th>\n",
       "      <th>D_140</th>\n",
       "      <th>D_141</th>\n",
       "      <th>D_142</th>\n",
       "      <th>D_143</th>\n",
       "      <th>D_144</th>\n",
       "      <th>D_145</th>\n",
       "      <th>target</th>\n",
       "    </tr>\n",
       "  </thead>\n",
       "  <tbody>\n",
       "    <tr>\n",
       "      <th>0</th>\n",
       "      <td>0000099d6bd597052cdcda90ffabf56573fe9d7c79be5f...</td>\n",
       "      <td>1</td>\n",
       "      <td>13</td>\n",
       "      <td>2017-03-09</td>\n",
       "      <td>0.938469</td>\n",
       "      <td>0.001733</td>\n",
       "      <td>0.008724</td>\n",
       "      <td>1.006838</td>\n",
       "      <td>0.009228</td>\n",
       "      <td>0.124035</td>\n",
       "      <td>...</td>\n",
       "      <td>NaN</td>\n",
       "      <td>NaN</td>\n",
       "      <td>0.002427</td>\n",
       "      <td>0.003706</td>\n",
       "      <td>0.003818</td>\n",
       "      <td>NaN</td>\n",
       "      <td>0.000569</td>\n",
       "      <td>0.000610</td>\n",
       "      <td>0.002674</td>\n",
       "      <td>0</td>\n",
       "    </tr>\n",
       "    <tr>\n",
       "      <th>1</th>\n",
       "      <td>0000099d6bd597052cdcda90ffabf56573fe9d7c79be5f...</td>\n",
       "      <td>2</td>\n",
       "      <td>12</td>\n",
       "      <td>2017-04-07</td>\n",
       "      <td>0.936665</td>\n",
       "      <td>0.005775</td>\n",
       "      <td>0.004923</td>\n",
       "      <td>1.000653</td>\n",
       "      <td>0.006151</td>\n",
       "      <td>0.126750</td>\n",
       "      <td>...</td>\n",
       "      <td>NaN</td>\n",
       "      <td>NaN</td>\n",
       "      <td>0.003954</td>\n",
       "      <td>0.003167</td>\n",
       "      <td>0.005032</td>\n",
       "      <td>NaN</td>\n",
       "      <td>0.009576</td>\n",
       "      <td>0.005492</td>\n",
       "      <td>0.009217</td>\n",
       "      <td>0</td>\n",
       "    </tr>\n",
       "    <tr>\n",
       "      <th>2</th>\n",
       "      <td>0000099d6bd597052cdcda90ffabf56573fe9d7c79be5f...</td>\n",
       "      <td>3</td>\n",
       "      <td>11</td>\n",
       "      <td>2017-05-28</td>\n",
       "      <td>0.954180</td>\n",
       "      <td>0.091505</td>\n",
       "      <td>0.021655</td>\n",
       "      <td>1.009672</td>\n",
       "      <td>0.006815</td>\n",
       "      <td>0.123977</td>\n",
       "      <td>...</td>\n",
       "      <td>NaN</td>\n",
       "      <td>NaN</td>\n",
       "      <td>0.003269</td>\n",
       "      <td>0.007329</td>\n",
       "      <td>0.000427</td>\n",
       "      <td>NaN</td>\n",
       "      <td>0.003429</td>\n",
       "      <td>0.006986</td>\n",
       "      <td>0.002603</td>\n",
       "      <td>0</td>\n",
       "    </tr>\n",
       "  </tbody>\n",
       "</table>\n",
       "<p>3 rows × 193 columns</p>\n",
       "</div>"
      ],
      "text/plain": [
       "                                         customer_ID  row_number_inv  \\\n",
       "0  0000099d6bd597052cdcda90ffabf56573fe9d7c79be5f...               1   \n",
       "1  0000099d6bd597052cdcda90ffabf56573fe9d7c79be5f...               2   \n",
       "2  0000099d6bd597052cdcda90ffabf56573fe9d7c79be5f...               3   \n",
       "\n",
       "   row_number        S_2       P_2      D_39       B_1       B_2       R_1  \\\n",
       "0          13 2017-03-09  0.938469  0.001733  0.008724  1.006838  0.009228   \n",
       "1          12 2017-04-07  0.936665  0.005775  0.004923  1.000653  0.006151   \n",
       "2          11 2017-05-28  0.954180  0.091505  0.021655  1.009672  0.006815   \n",
       "\n",
       "        S_3  ...  D_137  D_138     D_139     D_140     D_141  D_142     D_143  \\\n",
       "0  0.124035  ...    NaN    NaN  0.002427  0.003706  0.003818    NaN  0.000569   \n",
       "1  0.126750  ...    NaN    NaN  0.003954  0.003167  0.005032    NaN  0.009576   \n",
       "2  0.123977  ...    NaN    NaN  0.003269  0.007329  0.000427    NaN  0.003429   \n",
       "\n",
       "      D_144     D_145  target  \n",
       "0  0.000610  0.002674       0  \n",
       "1  0.005492  0.009217       0  \n",
       "2  0.006986  0.002603       0  \n",
       "\n",
       "[3 rows x 193 columns]"
      ]
     },
     "execution_count": 26,
     "metadata": {},
     "output_type": "execute_result"
    }
   ],
   "source": [
    "train.head(3)"
   ]
  },
  {
   "cell_type": "markdown",
   "id": "9ad55d1a-f1ab-495c-83c3-f7edf106fe38",
   "metadata": {},
   "source": [
    "### Check Data Type"
   ]
  },
  {
   "cell_type": "code",
   "execution_count": 29,
   "id": "7ac7f247-52e0-4223-b797-f35318efe705",
   "metadata": {},
   "outputs": [
    {
     "data": {
      "text/plain": [
       "float32           185\n",
       "int64               4\n",
       "object              3\n",
       "datetime64[ns]      1\n",
       "dtype: int64"
      ]
     },
     "execution_count": 29,
     "metadata": {},
     "output_type": "execute_result"
    }
   ],
   "source": [
    "train.dtypes.value_counts()"
   ]
  },
  {
   "cell_type": "code",
   "execution_count": null,
   "id": "ae1c8044-a1e4-44f8-878a-471b09ca4744",
   "metadata": {},
   "outputs": [],
   "source": [
    "def set_binary_columns(df, column_list=BINARY_COLUMNS):\n",
    "    for column in tqdm(column_list):\n",
    "        if df[column].dtype != \"float16\":\n",
    "            df[column] = df[column].round().astype(\"float16\")"
   ]
  },
  {
   "cell_type": "code",
   "execution_count": 49,
   "id": "115662c9-d4e6-4954-8dd2-0b8831e117b8",
   "metadata": {},
   "outputs": [
    {
     "data": {
      "text/plain": [
       "101548"
      ]
     },
     "execution_count": 49,
     "metadata": {},
     "output_type": "execute_result"
    }
   ],
   "source": []
  },
  {
   "cell_type": "code",
   "execution_count": 50,
   "id": "b0f6844d-65ce-446f-a158-a1211c87eb86",
   "metadata": {},
   "outputs": [
    {
     "name": "stderr",
     "output_type": "stream",
     "text": [
      " 18%|█████████████████████████▊                                                                                                                    | 6/33 [00:00<00:00, 51.70it/s]"
     ]
    },
    {
     "name": "stdout",
     "output_type": "stream",
     "text": [
      "float32 22268\n",
      "int64 0\n",
      "float32 0\n",
      "float32 2016\n",
      "float32 0\n",
      "float32 0\n",
      "float32 0\n",
      "float32 0\n",
      "float32 0\n",
      "float32 0\n",
      "float32 0\n"
     ]
    },
    {
     "name": "stderr",
     "output_type": "stream",
     "text": [
      " 52%|████████████████████████████████████████████████████████████████████████▋                                                                    | 17/33 [00:00<00:00, 48.08it/s]"
     ]
    },
    {
     "name": "stdout",
     "output_type": "stream",
     "text": [
      "float32 0\n",
      "float32 0\n",
      "float32 128703\n",
      "float32 0\n",
      "float32 0\n",
      "float32 0\n",
      "float32 0\n",
      "float32 2016\n",
      "float32 0\n"
     ]
    },
    {
     "name": "stderr",
     "output_type": "stream",
     "text": [
      "100%|█████████████████████████████████████████████████████████████████████████████████████████████████████████████████████████████████████████████| 33/33 [00:00<00:00, 55.66it/s]"
     ]
    },
    {
     "name": "stdout",
     "output_type": "stream",
     "text": [
      "float32 0\n",
      "float32 0\n",
      "float32 0\n",
      "float32 101548\n",
      "float32 1597\n",
      "float32 0\n",
      "float32 101548\n",
      "float32 101548\n",
      "float32 101548\n",
      "float32 5336752\n",
      "float32 101548\n",
      "float32 40632\n",
      "float32 101548\n"
     ]
    },
    {
     "name": "stderr",
     "output_type": "stream",
     "text": [
      "\n"
     ]
    }
   ],
   "source": [
    "for column in tqdm(BINARY_COLUMNS):\n",
    "    print(train[column].dtype, train[column].isnull().sum())"
   ]
  },
  {
   "cell_type": "code",
   "execution_count": 44,
   "id": "f85591f6-4960-45f9-a3ea-130032f0eaf9",
   "metadata": {},
   "outputs": [
    {
     "data": {
      "text/plain": [
       "['target', 'row_number', 'row_number_inv']"
      ]
     },
     "execution_count": 44,
     "metadata": {},
     "output_type": "execute_result"
    }
   ],
   "source": [
    "SPECIAL_INT_COLUMNS"
   ]
  },
  {
   "cell_type": "code",
   "execution_count": 31,
   "id": "19397608-429d-4aba-8c98-96834018afe3",
   "metadata": {},
   "outputs": [
    {
     "data": {
      "text/html": [
       "<div>\n",
       "<style scoped>\n",
       "    .dataframe tbody tr th:only-of-type {\n",
       "        vertical-align: middle;\n",
       "    }\n",
       "\n",
       "    .dataframe tbody tr th {\n",
       "        vertical-align: top;\n",
       "    }\n",
       "\n",
       "    .dataframe thead th {\n",
       "        text-align: right;\n",
       "    }\n",
       "</style>\n",
       "<table border=\"1\" class=\"dataframe\">\n",
       "  <thead>\n",
       "    <tr style=\"text-align: right;\">\n",
       "      <th></th>\n",
       "      <th>row_number_inv</th>\n",
       "      <th>row_number</th>\n",
       "      <th>B_31</th>\n",
       "      <th>target</th>\n",
       "    </tr>\n",
       "  </thead>\n",
       "  <tbody>\n",
       "    <tr>\n",
       "      <th>0</th>\n",
       "      <td>1</td>\n",
       "      <td>13</td>\n",
       "      <td>1</td>\n",
       "      <td>0</td>\n",
       "    </tr>\n",
       "    <tr>\n",
       "      <th>1</th>\n",
       "      <td>2</td>\n",
       "      <td>12</td>\n",
       "      <td>1</td>\n",
       "      <td>0</td>\n",
       "    </tr>\n",
       "    <tr>\n",
       "      <th>2</th>\n",
       "      <td>3</td>\n",
       "      <td>11</td>\n",
       "      <td>1</td>\n",
       "      <td>0</td>\n",
       "    </tr>\n",
       "    <tr>\n",
       "      <th>3</th>\n",
       "      <td>4</td>\n",
       "      <td>10</td>\n",
       "      <td>1</td>\n",
       "      <td>0</td>\n",
       "    </tr>\n",
       "    <tr>\n",
       "      <th>4</th>\n",
       "      <td>5</td>\n",
       "      <td>9</td>\n",
       "      <td>1</td>\n",
       "      <td>0</td>\n",
       "    </tr>\n",
       "    <tr>\n",
       "      <th>...</th>\n",
       "      <td>...</td>\n",
       "      <td>...</td>\n",
       "      <td>...</td>\n",
       "      <td>...</td>\n",
       "    </tr>\n",
       "    <tr>\n",
       "      <th>5531446</th>\n",
       "      <td>9</td>\n",
       "      <td>5</td>\n",
       "      <td>1</td>\n",
       "      <td>0</td>\n",
       "    </tr>\n",
       "    <tr>\n",
       "      <th>5531447</th>\n",
       "      <td>10</td>\n",
       "      <td>4</td>\n",
       "      <td>1</td>\n",
       "      <td>0</td>\n",
       "    </tr>\n",
       "    <tr>\n",
       "      <th>5531448</th>\n",
       "      <td>11</td>\n",
       "      <td>3</td>\n",
       "      <td>1</td>\n",
       "      <td>0</td>\n",
       "    </tr>\n",
       "    <tr>\n",
       "      <th>5531449</th>\n",
       "      <td>12</td>\n",
       "      <td>2</td>\n",
       "      <td>1</td>\n",
       "      <td>0</td>\n",
       "    </tr>\n",
       "    <tr>\n",
       "      <th>5531450</th>\n",
       "      <td>13</td>\n",
       "      <td>1</td>\n",
       "      <td>1</td>\n",
       "      <td>0</td>\n",
       "    </tr>\n",
       "  </tbody>\n",
       "</table>\n",
       "<p>5531451 rows × 4 columns</p>\n",
       "</div>"
      ],
      "text/plain": [
       "         row_number_inv  row_number  B_31  target\n",
       "0                     1          13     1       0\n",
       "1                     2          12     1       0\n",
       "2                     3          11     1       0\n",
       "3                     4          10     1       0\n",
       "4                     5           9     1       0\n",
       "...                 ...         ...   ...     ...\n",
       "5531446               9           5     1       0\n",
       "5531447              10           4     1       0\n",
       "5531448              11           3     1       0\n",
       "5531449              12           2     1       0\n",
       "5531450              13           1     1       0\n",
       "\n",
       "[5531451 rows x 4 columns]"
      ]
     },
     "execution_count": 31,
     "metadata": {},
     "output_type": "execute_result"
    }
   ],
   "source": [
    "train.select_dtypes(\"int64\")"
   ]
  },
  {
   "cell_type": "code",
   "execution_count": null,
   "id": "01f2c446-bfb9-4eac-854b-4ffb8ae5068f",
   "metadata": {
    "tags": []
   },
   "outputs": [],
   "source": [
    "for column in tqdm(BINARY_COLUMNS):\n",
    "    if df[column].dtype != \"float16\":\n",
    "        df[column] = df[column].round().astype(\"float16\")"
   ]
  },
  {
   "cell_type": "code",
   "execution_count": null,
   "id": "812c297c-7f96-4013-82af-8cf685515b52",
   "metadata": {},
   "outputs": [],
   "source": [
    "def process_and_feature_engineer(df):\n",
    "    all_cols = [c for c in list(df.columns) if c not in ['customer_ID', 'S_2']]\n",
    "    cat_features = [\"B_30\", \"B_38\", \"D_114\", \"D_116\", \"D_117\", \"D_120\", \"D_126\", \"D_63\", \"D_64\", \"D_66\", \"D_68\"]\n",
    "    num_features = [col for col in all_cols if col not in cat_features]\n",
    "\n",
    "    test_num_agg = df.groupby(\"customer_ID\")[num_features].agg(['mean', 'std', 'min', 'max'])\n",
    "    test_num_agg.columns = ['_'.join(x) for x in test_num_agg.columns]\n",
    "    \n",
    "    test_num_agg2 = df.groupby(\"customer_ID\")[num_features].agg(['first', 'last'])\n",
    "    test_num_agg2.columns = ['_'.join(x) for x in test_num_agg2.columns]\n",
    "\n",
    "    test_cat_agg = df.groupby(\"customer_ID\")[cat_features].agg(['count', 'last', 'nunique'])\n",
    "    test_cat_agg.columns = ['_'.join(x) for x in test_cat_agg.columns]\n",
    "\n",
    "    df = pd.concat([test_num_agg, test_num_agg2, test_cat_agg], axis=1).reset_index()\n",
    "    print(df.columns)\n",
    "    del test_num_agg, test_num_agg2, test_cat_agg\n",
    "    print('shape after engineering', df.shape )\n",
    "    \n",
    "    min_features = [col for col in df.columns if col.endswith(\"_min\")]\n",
    "    max_features = [col for col in df.columns if col.endswith(\"_max\")]\n",
    "    for mini, maxi in zip(min_features, max_features):\n",
    "        df.loc[:, maxi.replace(\"_max\", \"_range\")] = df[maxi] - df[mini]\n",
    "    \n",
    "    first_features = [col for col in df.columns if col.endswith(\"_first\")]\n",
    "    last_features = [col for col in df.columns if col.endswith(\"_last\")]\n",
    "    for first, last in zip(first_features, last_features):\n",
    "        df.loc[:, first.replace(\"_first\", \"_disp\")] = df[last] - df[first]\n",
    "        \n",
    "    mean_features = [col for col in df.columns if col.endswith(\"_mean\")]\n",
    "    std_features = [col for col in df.columns if col.endswith(\"_std\")]\n",
    "    for mean, std in zip(mean_features, std_features):\n",
    "        # CV stands for dispersion ratio => Coefficient of Variation\n",
    "        df.loc[:, mean.replace(\"_mean\", \"_cv\")] = df[std] / df[mean]\n",
    "    \n",
    "    range_features = [col for col in df.columns if col.endswith(\"_range\")]\n",
    "    for range_, std in zip(range_features, std_features):\n",
    "        # DR stands for dispersion ratio => Standard Deviation / Range\n",
    "        df.loc[:, range_.replace(\"_range\", \"_dr\")] = df[std] / df[range_]\n",
    "    return df"
   ]
  }
 ],
 "metadata": {
  "kernelspec": {
   "display_name": "play",
   "language": "python",
   "name": "play"
  },
  "language_info": {
   "codemirror_mode": {
    "name": "ipython",
    "version": 3
   },
   "file_extension": ".py",
   "mimetype": "text/x-python",
   "name": "python",
   "nbconvert_exporter": "python",
   "pygments_lexer": "ipython3",
   "version": "3.10.0"
  }
 },
 "nbformat": 4,
 "nbformat_minor": 5
}
