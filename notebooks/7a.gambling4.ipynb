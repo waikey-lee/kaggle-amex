{
 "cells": [
  {
   "cell_type": "code",
   "execution_count": 2,
   "id": "5dd2ca34-3410-4078-aa48-7adbba211ed5",
   "metadata": {},
   "outputs": [],
   "source": [
    "import gc\n",
    "import joblib\n",
    "import matplotlib.pyplot as plt\n",
    "import pandas as pd\n",
    "import numpy as np\n",
    "import os\n",
    "import sys\n",
    "sys.path.append(\"../\")\n",
    "import time\n",
    "import warnings\n",
    "warnings.simplefilter(\"ignore\")\n",
    "from lightgbm import LGBMClassifier\n",
    "from sklearn.preprocessing import MinMaxScaler\n",
    "from sklearn.model_selection import train_test_split\n",
    "from tqdm import tqdm"
   ]
  },
  {
   "cell_type": "code",
   "execution_count": 3,
   "id": "88e773c8-793b-4771-85d2-80ad4e905510",
   "metadata": {},
   "outputs": [],
   "source": [
    "from utils.common import sigmoid, reverse_sigmoid\n",
    "from utils.constants import *\n",
    "from utils.extraction_helpers import read_file"
   ]
  },
  {
   "cell_type": "code",
   "execution_count": 4,
   "id": "e4698b61-dcd2-43c3-b5e3-cd5a350b5e4a",
   "metadata": {},
   "outputs": [],
   "source": [
    "%load_ext autoreload\n",
    "%autoreload"
   ]
  },
  {
   "cell_type": "markdown",
   "id": "884ad3df-d4d2-4c01-9066-8f6e70514295",
   "metadata": {},
   "source": [
    "### Gambling13"
   ]
  },
  {
   "cell_type": "code",
   "execution_count": 29,
   "id": "64d9f88a-6942-4ab2-bae6-dcac78cb4122",
   "metadata": {},
   "outputs": [
    {
     "name": "stdout",
     "output_type": "stream",
     "text": [
      "Shape of data: (924621, 2)\n"
     ]
    }
   ],
   "source": [
    "gambling6 = read_file(f\"{SUBMISSION_DATA_PATH}/gambling6_0.801.csv\")\n",
    "# waikey[\"prediction2\"] = read_file(f\"{EXP_PATH}/16.lgbm_dart_6666_new/scores_df.csv\").mean(axis=1)"
   ]
  },
  {
   "cell_type": "code",
   "execution_count": 30,
   "id": "a3461faf-ef47-4b31-af0a-33804b1cfe88",
   "metadata": {},
   "outputs": [],
   "source": [
    "gambling6[\"prediction\"] = gambling6[\"prediction\"].apply(reverse_sigmoid)"
   ]
  },
  {
   "cell_type": "code",
   "execution_count": 31,
   "id": "3522e285-70af-473b-b53a-8b132544a662",
   "metadata": {},
   "outputs": [
    {
     "name": "stdout",
     "output_type": "stream",
     "text": [
      "Shape of data: (924621, 2)\n"
     ]
    }
   ],
   "source": [
    "new = read_file(f\"{SUBMISSION_DATA_PATH}/first_real_blending_of_dart_and_rnn.csv\")"
   ]
  },
  {
   "cell_type": "code",
   "execution_count": 32,
   "id": "7b0d6c4e-8e39-46a6-9e8f-baa956a46eeb",
   "metadata": {},
   "outputs": [],
   "source": [
    "new[\"prediction\"] = new[\"prediction\"].apply(reverse_sigmoid)"
   ]
  },
  {
   "cell_type": "code",
   "execution_count": 33,
   "id": "bfdd27fe-fb45-4f70-bc5b-b1dd558c8565",
   "metadata": {},
   "outputs": [
    {
     "data": {
      "text/html": [
       "<div>\n",
       "<style scoped>\n",
       "    .dataframe tbody tr th:only-of-type {\n",
       "        vertical-align: middle;\n",
       "    }\n",
       "\n",
       "    .dataframe tbody tr th {\n",
       "        vertical-align: top;\n",
       "    }\n",
       "\n",
       "    .dataframe thead th {\n",
       "        text-align: right;\n",
       "    }\n",
       "</style>\n",
       "<table border=\"1\" class=\"dataframe\">\n",
       "  <thead>\n",
       "    <tr style=\"text-align: right;\">\n",
       "      <th></th>\n",
       "      <th>prediction</th>\n",
       "      <th>prediction</th>\n",
       "    </tr>\n",
       "  </thead>\n",
       "  <tbody>\n",
       "    <tr>\n",
       "      <th>count</th>\n",
       "      <td>924621.000000</td>\n",
       "      <td>924621.000000</td>\n",
       "    </tr>\n",
       "    <tr>\n",
       "      <th>mean</th>\n",
       "      <td>-1.992362</td>\n",
       "      <td>-2.328824</td>\n",
       "    </tr>\n",
       "    <tr>\n",
       "      <th>std</th>\n",
       "      <td>2.999725</td>\n",
       "      <td>2.578517</td>\n",
       "    </tr>\n",
       "    <tr>\n",
       "      <th>min</th>\n",
       "      <td>-8.275958</td>\n",
       "      <td>-4.422692</td>\n",
       "    </tr>\n",
       "    <tr>\n",
       "      <th>25%</th>\n",
       "      <td>-4.334694</td>\n",
       "      <td>-4.372735</td>\n",
       "    </tr>\n",
       "    <tr>\n",
       "      <th>50%</th>\n",
       "      <td>-2.842264</td>\n",
       "      <td>-3.908100</td>\n",
       "    </tr>\n",
       "    <tr>\n",
       "      <th>75%</th>\n",
       "      <td>0.238266</td>\n",
       "      <td>0.139720</td>\n",
       "    </tr>\n",
       "    <tr>\n",
       "      <th>max</th>\n",
       "      <td>7.539622</td>\n",
       "      <td>2.917358</td>\n",
       "    </tr>\n",
       "  </tbody>\n",
       "</table>\n",
       "</div>"
      ],
      "text/plain": [
       "          prediction     prediction\n",
       "count  924621.000000  924621.000000\n",
       "mean       -1.992362      -2.328824\n",
       "std         2.999725       2.578517\n",
       "min        -8.275958      -4.422692\n",
       "25%        -4.334694      -4.372735\n",
       "50%        -2.842264      -3.908100\n",
       "75%         0.238266       0.139720\n",
       "max         7.539622       2.917358"
      ]
     },
     "execution_count": 33,
     "metadata": {},
     "output_type": "execute_result"
    }
   ],
   "source": [
    "pd.concat([gambling6[\"prediction\"], new[\"prediction\"]], axis=1).describe()"
   ]
  },
  {
   "cell_type": "code",
   "execution_count": 25,
   "id": "86f902a1-905b-4746-9faa-934c9158cb90",
   "metadata": {},
   "outputs": [],
   "source": [
    "# fig, ax = plt.subplots(figsize=(12, 12))\n",
    "# # plt.plot(np.arange(0, 1, 0.01), np.arange(0, 1, 0.01), color=\"orange\", linestyle=\"-\")\n",
    "# # plt.xlabel(\"WK Blend\")\n",
    "# # plt.ylabel(\"Chris best NN\")\n",
    "# plt.scatter(gambling6[\"prediction\"], new[\"prediction\"])\n",
    "# # plt.scatter(s1, s3)\n",
    "# plt.show()"
   ]
  },
  {
   "cell_type": "code",
   "execution_count": 34,
   "id": "387d9d38-2b84-48b9-ad85-7350124eb4c8",
   "metadata": {},
   "outputs": [],
   "source": [
    "w = 0.85 * (gambling6[\"prediction\"] - 0.33).apply(sigmoid) + 0.15 * new[\"prediction\"].apply(sigmoid)"
   ]
  },
  {
   "cell_type": "code",
   "execution_count": 35,
   "id": "9f6bda5e-a479-4479-abef-5f65ee9c29c2",
   "metadata": {},
   "outputs": [],
   "source": [
    "sub = pd.read_csv(f\"{SUBMISSION_DATA_PATH}/empty.csv\")\n",
    "sub[\"prediction\"] = w\n",
    "sub.to_csv(f\"{SUBMISSION_DATA_PATH}/0.85_gambling6_0.15_blend.csv\", index=False)"
   ]
  },
  {
   "cell_type": "markdown",
   "id": "305771dd-fbe8-47fd-8401-ac8f935e1f5b",
   "metadata": {},
   "source": [
    "### Gambling15"
   ]
  },
  {
   "cell_type": "code",
   "execution_count": 102,
   "id": "1f232291-09ad-4e85-94f6-6ef63275be1c",
   "metadata": {},
   "outputs": [
    {
     "name": "stdout",
     "output_type": "stream",
     "text": [
      "Shape of data: (924621, 2)\n",
      "Shape of data: (924621, 2)\n",
      "Shape of data: (924621, 2)\n",
      "Shape of data: (924621, 2)\n",
      "Shape of data: (924621, 2)\n",
      "Shape of data: (924621, 2)\n",
      "Shape of data: (924621, 2)\n"
     ]
    }
   ],
   "source": [
    "chris  = read_file(f\"{SUBMISSION_DATA_PATH}/sorted_chris.csv\")\n",
    "chris_best  = read_file(f\"{SUBMISSION_DATA_PATH}/chris_best.csv\")\n",
    "waikey = read_file(f\"{SUBMISSION_DATA_PATH}/wk_seed_6666.csv\")\n",
    "waikey2 = read_file(f\"{SUBMISSION_DATA_PATH}/wk_seed_1020.csv\")\n",
    "ensemble = read_file(f\"{SUBMISSION_DATA_PATH}/others_ensemble.csv\")\n",
    "exp_ensemble = read_file(f\"{SUBMISSION_DATA_PATH}/others_exponential_ensemble.csv\")\n",
    "blend_trees = read_file(f\"{SUBMISSION_DATA_PATH}/others_blend_boosted_tree.csv\")"
   ]
  },
  {
   "cell_type": "code",
   "execution_count": 103,
   "id": "7ef8dede-82af-4d4a-a32b-22d473f0e68f",
   "metadata": {},
   "outputs": [],
   "source": [
    "chris[\"prediction\"] = 0.5 * chris[\"prediction\"] + 0.5 * chris_best[\"prediction\"]"
   ]
  },
  {
   "cell_type": "code",
   "execution_count": 104,
   "id": "0823d5c2-1a25-4628-8a55-5e0dce2d751a",
   "metadata": {},
   "outputs": [],
   "source": [
    "waikey[\"sigmoid_prediction\"] = (0.5 * waikey[\"prediction\"] + 0.5 * waikey2[\"prediction\"]).apply(sigmoid)"
   ]
  },
  {
   "cell_type": "code",
   "execution_count": 105,
   "id": "ddefa4d3-b05e-498b-990d-1e1a593f2505",
   "metadata": {},
   "outputs": [],
   "source": [
    "pre_blend_df = pd.DataFrame(\n",
    "    dict(\n",
    "        wk=waikey[\"sigmoid_prediction\"],\n",
    "        chris=chris[\"prediction\"],\n",
    "        ensemble=ensemble[\"prediction\"],\n",
    "        exp_ensemble=exp_ensemble[\"prediction\"],\n",
    "        blend_trees=blend_trees[\"prediction\"]\n",
    "    )\n",
    ")"
   ]
  },
  {
   "cell_type": "code",
   "execution_count": 106,
   "id": "667b17bf-1a2a-4e4a-9f84-1abf1f7ff211",
   "metadata": {},
   "outputs": [
    {
     "data": {
      "text/html": [
       "<div>\n",
       "<style scoped>\n",
       "    .dataframe tbody tr th:only-of-type {\n",
       "        vertical-align: middle;\n",
       "    }\n",
       "\n",
       "    .dataframe tbody tr th {\n",
       "        vertical-align: top;\n",
       "    }\n",
       "\n",
       "    .dataframe thead th {\n",
       "        text-align: right;\n",
       "    }\n",
       "</style>\n",
       "<table border=\"1\" class=\"dataframe\">\n",
       "  <thead>\n",
       "    <tr style=\"text-align: right;\">\n",
       "      <th></th>\n",
       "      <th>wk</th>\n",
       "      <th>chris</th>\n",
       "      <th>ensemble</th>\n",
       "      <th>exp_ensemble</th>\n",
       "      <th>blend_trees</th>\n",
       "    </tr>\n",
       "  </thead>\n",
       "  <tbody>\n",
       "    <tr>\n",
       "      <th>count</th>\n",
       "      <td>924621.000000</td>\n",
       "      <td>924621.000000</td>\n",
       "      <td>924621.000000</td>\n",
       "      <td>924621.000000</td>\n",
       "      <td>924621.000000</td>\n",
       "    </tr>\n",
       "    <tr>\n",
       "      <th>mean</th>\n",
       "      <td>0.260169</td>\n",
       "      <td>0.312166</td>\n",
       "      <td>0.248046</td>\n",
       "      <td>0.288500</td>\n",
       "      <td>0.348032</td>\n",
       "    </tr>\n",
       "    <tr>\n",
       "      <th>std</th>\n",
       "      <td>0.355040</td>\n",
       "      <td>0.383688</td>\n",
       "      <td>0.346811</td>\n",
       "      <td>0.245436</td>\n",
       "      <td>0.381211</td>\n",
       "    </tr>\n",
       "    <tr>\n",
       "      <th>min</th>\n",
       "      <td>0.000042</td>\n",
       "      <td>0.000539</td>\n",
       "      <td>0.000052</td>\n",
       "      <td>0.039747</td>\n",
       "      <td>0.013028</td>\n",
       "    </tr>\n",
       "    <tr>\n",
       "      <th>25%</th>\n",
       "      <td>0.003120</td>\n",
       "      <td>0.004756</td>\n",
       "      <td>0.002750</td>\n",
       "      <td>0.090925</td>\n",
       "      <td>0.059964</td>\n",
       "    </tr>\n",
       "    <tr>\n",
       "      <th>50%</th>\n",
       "      <td>0.029607</td>\n",
       "      <td>0.054550</td>\n",
       "      <td>0.025503</td>\n",
       "      <td>0.188557</td>\n",
       "      <td>0.137505</td>\n",
       "    </tr>\n",
       "    <tr>\n",
       "      <th>75%</th>\n",
       "      <td>0.524124</td>\n",
       "      <td>0.711801</td>\n",
       "      <td>0.476758</td>\n",
       "      <td>0.478454</td>\n",
       "      <td>0.622834</td>\n",
       "    </tr>\n",
       "    <tr>\n",
       "      <th>max</th>\n",
       "      <td>0.999833</td>\n",
       "      <td>0.999426</td>\n",
       "      <td>0.999906</td>\n",
       "      <td>0.799423</td>\n",
       "      <td>1.190193</td>\n",
       "    </tr>\n",
       "  </tbody>\n",
       "</table>\n",
       "</div>"
      ],
      "text/plain": [
       "                  wk          chris       ensemble   exp_ensemble  \\\n",
       "count  924621.000000  924621.000000  924621.000000  924621.000000   \n",
       "mean        0.260169       0.312166       0.248046       0.288500   \n",
       "std         0.355040       0.383688       0.346811       0.245436   \n",
       "min         0.000042       0.000539       0.000052       0.039747   \n",
       "25%         0.003120       0.004756       0.002750       0.090925   \n",
       "50%         0.029607       0.054550       0.025503       0.188557   \n",
       "75%         0.524124       0.711801       0.476758       0.478454   \n",
       "max         0.999833       0.999426       0.999906       0.799423   \n",
       "\n",
       "         blend_trees  \n",
       "count  924621.000000  \n",
       "mean        0.348032  \n",
       "std         0.381211  \n",
       "min         0.013028  \n",
       "25%         0.059964  \n",
       "50%         0.137505  \n",
       "75%         0.622834  \n",
       "max         1.190193  "
      ]
     },
     "execution_count": 106,
     "metadata": {},
     "output_type": "execute_result"
    }
   ],
   "source": [
    "pre_blend_df.describe()"
   ]
  },
  {
   "cell_type": "code",
   "execution_count": 107,
   "id": "2fd6b0b2-d7e9-4412-83ac-1e352e9ef1e9",
   "metadata": {},
   "outputs": [],
   "source": [
    "mscaler = MinMaxScaler()\n",
    "pp = mscaler.fit_transform(pre_blend_df)"
   ]
  },
  {
   "cell_type": "code",
   "execution_count": 108,
   "id": "4289007a-557b-45cc-af7d-d66c128a3775",
   "metadata": {},
   "outputs": [],
   "source": [
    "pre_blend_df = pd.DataFrame(pp, columns=pre_blend_df.columns)"
   ]
  },
  {
   "cell_type": "code",
   "execution_count": 109,
   "id": "6cbd0404-22e6-49fb-a445-32fe3c237841",
   "metadata": {},
   "outputs": [
    {
     "data": {
      "text/html": [
       "<div>\n",
       "<style scoped>\n",
       "    .dataframe tbody tr th:only-of-type {\n",
       "        vertical-align: middle;\n",
       "    }\n",
       "\n",
       "    .dataframe tbody tr th {\n",
       "        vertical-align: top;\n",
       "    }\n",
       "\n",
       "    .dataframe thead th {\n",
       "        text-align: right;\n",
       "    }\n",
       "</style>\n",
       "<table border=\"1\" class=\"dataframe\">\n",
       "  <thead>\n",
       "    <tr style=\"text-align: right;\">\n",
       "      <th></th>\n",
       "      <th>wk</th>\n",
       "      <th>chris</th>\n",
       "      <th>ensemble</th>\n",
       "      <th>exp_ensemble</th>\n",
       "      <th>blend_trees</th>\n",
       "    </tr>\n",
       "  </thead>\n",
       "  <tbody>\n",
       "    <tr>\n",
       "      <th>count</th>\n",
       "      <td>924621.000000</td>\n",
       "      <td>924621.000000</td>\n",
       "      <td>924621.000000</td>\n",
       "      <td>924621.000000</td>\n",
       "      <td>924621.000000</td>\n",
       "    </tr>\n",
       "    <tr>\n",
       "      <th>mean</th>\n",
       "      <td>0.260181</td>\n",
       "      <td>0.311974</td>\n",
       "      <td>0.248030</td>\n",
       "      <td>0.327446</td>\n",
       "      <td>0.284585</td>\n",
       "    </tr>\n",
       "    <tr>\n",
       "      <th>std</th>\n",
       "      <td>0.355114</td>\n",
       "      <td>0.384115</td>\n",
       "      <td>0.346861</td>\n",
       "      <td>0.323079</td>\n",
       "      <td>0.323838</td>\n",
       "    </tr>\n",
       "    <tr>\n",
       "      <th>min</th>\n",
       "      <td>0.000000</td>\n",
       "      <td>0.000000</td>\n",
       "      <td>0.000000</td>\n",
       "      <td>0.000000</td>\n",
       "      <td>0.000000</td>\n",
       "    </tr>\n",
       "    <tr>\n",
       "      <th>25%</th>\n",
       "      <td>0.003078</td>\n",
       "      <td>0.004222</td>\n",
       "      <td>0.002699</td>\n",
       "      <td>0.067369</td>\n",
       "      <td>0.039872</td>\n",
       "    </tr>\n",
       "    <tr>\n",
       "      <th>50%</th>\n",
       "      <td>0.029571</td>\n",
       "      <td>0.054071</td>\n",
       "      <td>0.025454</td>\n",
       "      <td>0.195886</td>\n",
       "      <td>0.105743</td>\n",
       "    </tr>\n",
       "    <tr>\n",
       "      <th>75%</th>\n",
       "      <td>0.524192</td>\n",
       "      <td>0.712055</td>\n",
       "      <td>0.476776</td>\n",
       "      <td>0.577492</td>\n",
       "      <td>0.518029</td>\n",
       "    </tr>\n",
       "    <tr>\n",
       "      <th>max</th>\n",
       "      <td>1.000000</td>\n",
       "      <td>1.000000</td>\n",
       "      <td>1.000000</td>\n",
       "      <td>1.000000</td>\n",
       "      <td>1.000000</td>\n",
       "    </tr>\n",
       "  </tbody>\n",
       "</table>\n",
       "</div>"
      ],
      "text/plain": [
       "                  wk          chris       ensemble   exp_ensemble  \\\n",
       "count  924621.000000  924621.000000  924621.000000  924621.000000   \n",
       "mean        0.260181       0.311974       0.248030       0.327446   \n",
       "std         0.355114       0.384115       0.346861       0.323079   \n",
       "min         0.000000       0.000000       0.000000       0.000000   \n",
       "25%         0.003078       0.004222       0.002699       0.067369   \n",
       "50%         0.029571       0.054071       0.025454       0.195886   \n",
       "75%         0.524192       0.712055       0.476776       0.577492   \n",
       "max         1.000000       1.000000       1.000000       1.000000   \n",
       "\n",
       "         blend_trees  \n",
       "count  924621.000000  \n",
       "mean        0.284585  \n",
       "std         0.323838  \n",
       "min         0.000000  \n",
       "25%         0.039872  \n",
       "50%         0.105743  \n",
       "75%         0.518029  \n",
       "max         1.000000  "
      ]
     },
     "execution_count": 109,
     "metadata": {},
     "output_type": "execute_result"
    }
   ],
   "source": [
    "pre_blend_df.describe()"
   ]
  },
  {
   "cell_type": "code",
   "execution_count": 110,
   "id": "4f1adecb-4890-4332-b164-9f80ea6514f0",
   "metadata": {},
   "outputs": [
    {
     "data": {
      "text/html": [
       "<div>\n",
       "<style scoped>\n",
       "    .dataframe tbody tr th:only-of-type {\n",
       "        vertical-align: middle;\n",
       "    }\n",
       "\n",
       "    .dataframe tbody tr th {\n",
       "        vertical-align: top;\n",
       "    }\n",
       "\n",
       "    .dataframe thead th {\n",
       "        text-align: right;\n",
       "    }\n",
       "</style>\n",
       "<table border=\"1\" class=\"dataframe\">\n",
       "  <thead>\n",
       "    <tr style=\"text-align: right;\">\n",
       "      <th></th>\n",
       "      <th>wk</th>\n",
       "      <th>chris</th>\n",
       "      <th>ensemble</th>\n",
       "      <th>exp_ensemble</th>\n",
       "      <th>blend_trees</th>\n",
       "    </tr>\n",
       "  </thead>\n",
       "  <tbody>\n",
       "    <tr>\n",
       "      <th>wk</th>\n",
       "      <td>1.000000</td>\n",
       "      <td>0.977604</td>\n",
       "      <td>0.996852</td>\n",
       "      <td>0.985572</td>\n",
       "      <td>0.995336</td>\n",
       "    </tr>\n",
       "    <tr>\n",
       "      <th>chris</th>\n",
       "      <td>0.977604</td>\n",
       "      <td>1.000000</td>\n",
       "      <td>0.970849</td>\n",
       "      <td>0.980694</td>\n",
       "      <td>0.979953</td>\n",
       "    </tr>\n",
       "    <tr>\n",
       "      <th>ensemble</th>\n",
       "      <td>0.996852</td>\n",
       "      <td>0.970849</td>\n",
       "      <td>1.000000</td>\n",
       "      <td>0.984296</td>\n",
       "      <td>0.995912</td>\n",
       "    </tr>\n",
       "    <tr>\n",
       "      <th>exp_ensemble</th>\n",
       "      <td>0.985572</td>\n",
       "      <td>0.980694</td>\n",
       "      <td>0.984296</td>\n",
       "      <td>1.000000</td>\n",
       "      <td>0.995063</td>\n",
       "    </tr>\n",
       "    <tr>\n",
       "      <th>blend_trees</th>\n",
       "      <td>0.995336</td>\n",
       "      <td>0.979953</td>\n",
       "      <td>0.995912</td>\n",
       "      <td>0.995063</td>\n",
       "      <td>1.000000</td>\n",
       "    </tr>\n",
       "  </tbody>\n",
       "</table>\n",
       "</div>"
      ],
      "text/plain": [
       "                    wk     chris  ensemble  exp_ensemble  blend_trees\n",
       "wk            1.000000  0.977604  0.996852      0.985572     0.995336\n",
       "chris         0.977604  1.000000  0.970849      0.980694     0.979953\n",
       "ensemble      0.996852  0.970849  1.000000      0.984296     0.995912\n",
       "exp_ensemble  0.985572  0.980694  0.984296      1.000000     0.995063\n",
       "blend_trees   0.995336  0.979953  0.995912      0.995063     1.000000"
      ]
     },
     "execution_count": 110,
     "metadata": {},
     "output_type": "execute_result"
    }
   ],
   "source": [
    "pre_blend_df.corr()"
   ]
  },
  {
   "cell_type": "code",
   "execution_count": 111,
   "id": "16db7cbd-b2bf-4c11-97d7-9ea0e869c623",
   "metadata": {},
   "outputs": [],
   "source": [
    "pre_blend_df[\"final1\"] = (\n",
    "    0.57 * pre_blend_df[\"wk\"] + 0.17 * pre_blend_df[\"chris\"] + 0.26 * pre_blend_df[\"ensemble\"]\n",
    ")"
   ]
  },
  {
   "cell_type": "code",
   "execution_count": 112,
   "id": "555fbc0c-6ab8-4764-96b0-8d2feb57775f",
   "metadata": {},
   "outputs": [],
   "source": [
    "sub = pd.read_csv(f\"{SUBMISSION_DATA_PATH}/empty.csv\")\n",
    "sub[\"prediction\"] = pre_blend_df[\"final1\"]\n",
    "sub.to_csv(f\"{SUBMISSION_DATA_PATH}/gambling16.csv\", index=False)"
   ]
  },
  {
   "cell_type": "code",
   "execution_count": null,
   "id": "786d299c-3e61-49e0-9570-26d81c42b590",
   "metadata": {},
   "outputs": [],
   "source": []
  }
 ],
 "metadata": {
  "kernelspec": {
   "display_name": "amex",
   "language": "python",
   "name": "amex"
  },
  "language_info": {
   "codemirror_mode": {
    "name": "ipython",
    "version": 3
   },
   "file_extension": ".py",
   "mimetype": "text/x-python",
   "name": "python",
   "nbconvert_exporter": "python",
   "pygments_lexer": "ipython3",
   "version": "3.10.0"
  }
 },
 "nbformat": 4,
 "nbformat_minor": 5
}
