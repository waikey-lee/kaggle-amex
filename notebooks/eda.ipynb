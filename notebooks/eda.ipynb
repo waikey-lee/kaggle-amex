{
 "cells": [
  {
   "cell_type": "code",
   "execution_count": null,
   "id": "aaabc149-2516-4f17-b087-a2fe275ee23b",
   "metadata": {},
   "outputs": [],
   "source": [
    "import matplotlib.pyplot as plt\n",
    "import gc\n",
    "import os\n",
    "import sys"
   ]
  },
  {
   "cell_type": "code",
   "execution_count": null,
   "id": "c7cf49a8-0311-4382-bf1e-f74f4f35c8db",
   "metadata": {},
   "outputs": [],
   "source": [
    "sys.path.append(\"../\")"
   ]
  },
  {
   "cell_type": "code",
   "execution_count": null,
   "id": "5dd2ca34-3410-4078-aa48-7adbba211ed5",
   "metadata": {},
   "outputs": [],
   "source": [
    "import pandas as pd\n",
    "import numpy as np\n",
    "from lightgbm import LGBMClassifier\n",
    "from sklearn.model_selection import train_test_split\n",
    "from sklearn.metrics import roc_auc_score\n",
    "from skopt import BayesSearchCV\n",
    "from tqdm import tqdm"
   ]
  },
  {
   "cell_type": "code",
   "execution_count": null,
   "id": "a084bef6-4434-40fb-bafc-d7d3e4c57a14",
   "metadata": {},
   "outputs": [],
   "source": [
    "from utils.eval_helpers import plot_roc_curves, plot_feature_importance, amex_metric, amex_metric_np\n",
    "from utils.eda_helpers import plot_missing_proportion_barchart"
   ]
  },
  {
   "cell_type": "code",
   "execution_count": null,
   "id": "ee8b533a-591f-40e6-90a4-2357933bb83b",
   "metadata": {},
   "outputs": [],
   "source": [
    "DATA_PATH = \"../raw_data\"\n",
    "os.listdir(DATA_PATH)"
   ]
  },
  {
   "cell_type": "code",
   "execution_count": null,
   "id": "08cce559-a615-41c7-9d81-0a5e7b981931",
   "metadata": {},
   "outputs": [],
   "source": [
    "PROCESSED_DATA_PATH = \"../processed_data\"\n",
    "SUBMISSION_DATA_PATH = \"../submissions\"\n",
    "CATEGORY_COLUMNS = ['B_30', 'B_38', 'D_114', 'D_116', 'D_117', 'D_120', 'D_126', 'D_63', 'D_64', 'D_66', 'D_68']"
   ]
  },
  {
   "cell_type": "code",
   "execution_count": null,
   "id": "67194602-57fc-4e92-9801-8d600e52a5b2",
   "metadata": {},
   "outputs": [],
   "source": [
    "%load_ext autoreload\n",
    "%autoreload"
   ]
  },
  {
   "cell_type": "markdown",
   "id": "3885beac-e245-43b6-a2cc-73e9f871d132",
   "metadata": {},
   "source": [
    "### Read Data"
   ]
  },
  {
   "cell_type": "code",
   "execution_count": null,
   "id": "731a013f-258f-49c1-b4e2-4c5fa0735d71",
   "metadata": {},
   "outputs": [],
   "source": [
    "train_data = pd.read_feather(f\"{DATA_PATH}/train_data.ftr\")\n",
    "test_data = pd.read_feather(f\"{DATA_PATH}/test_data.ftr\")"
   ]
  },
  {
   "cell_type": "code",
   "execution_count": null,
   "id": "2ec382aa-f899-4a0b-ae9d-a216c6dbbe83",
   "metadata": {},
   "outputs": [],
   "source": [
    "train_data[\"S_2\"] = pd.to_datetime(train_data[\"S_2\"])\n",
    "test_data[\"S_2\"] = pd.to_datetime(test_data[\"S_2\"])"
   ]
  },
  {
   "cell_type": "code",
   "execution_count": null,
   "id": "8d4a2dcf-d21f-43a6-8355-83f4160c4ab9",
   "metadata": {},
   "outputs": [],
   "source": [
    "train_data.shape, test_data.shape"
   ]
  },
  {
   "cell_type": "code",
   "execution_count": null,
   "id": "8de42a8f-1cb1-4f24-92d1-04bc19863d03",
   "metadata": {},
   "outputs": [],
   "source": [
    "train_data.columns"
   ]
  },
  {
   "cell_type": "code",
   "execution_count": null,
   "id": "33479f5d-117e-4d3f-a9fc-8757e70e6017",
   "metadata": {},
   "outputs": [],
   "source": [
    "train_labels = pd.read_csv(f\"{DATA_PATH}/train_labels.csv\")"
   ]
  },
  {
   "cell_type": "code",
   "execution_count": null,
   "id": "0936cd1e-8778-4360-a3f2-1d71502eb6b7",
   "metadata": {},
   "outputs": [],
   "source": [
    "train_labels.shape"
   ]
  },
  {
   "cell_type": "code",
   "execution_count": null,
   "id": "0535aa02-a4d2-4c85-a719-62198519981d",
   "metadata": {},
   "outputs": [],
   "source": [
    "train_labels.columns"
   ]
  },
  {
   "cell_type": "markdown",
   "id": "2c31452a-9792-4614-be24-bebdef42f84f",
   "metadata": {},
   "source": [
    "### Simple Preprocessing"
   ]
  },
  {
   "cell_type": "code",
   "execution_count": null,
   "id": "226181e7-5c17-4a2b-9f88-d3ea9813c44b",
   "metadata": {},
   "outputs": [],
   "source": [
    "train_data = train_data.sort_values(by=[\"customer_ID\", \"S_2\"])\n",
    "test_data = test_data.sort_values(by=[\"customer_ID\", \"S_2\"])"
   ]
  },
  {
   "cell_type": "code",
   "execution_count": null,
   "id": "4f1410f6-643d-4cae-ac62-0e2ad81cb7be",
   "metadata": {},
   "outputs": [],
   "source": [
    "train_data = train_data.merge(train_labels, on=\"customer_ID\", how=\"left\")"
   ]
  },
  {
   "cell_type": "code",
   "execution_count": null,
   "id": "cedd528d-c399-4db2-a989-b6f2e441c835",
   "metadata": {},
   "outputs": [],
   "source": [
    "train = train_data.copy()\n",
    "test = test_data.copy()"
   ]
  },
  {
   "cell_type": "markdown",
   "id": "a4567e32-62f0-4cf0-96d5-b8aa536faa86",
   "metadata": {},
   "source": [
    "#### EDA & Data Cleaning"
   ]
  },
  {
   "cell_type": "markdown",
   "id": "aaa4573e-7910-4220-8809-137351c0d205",
   "metadata": {
    "tags": []
   },
   "source": [
    "#### Missing value analysis (Pre Simple Imputation)"
   ]
  },
  {
   "cell_type": "code",
   "execution_count": null,
   "id": "ad3d896d-d764-489e-8bf4-c4c18a13fa42",
   "metadata": {},
   "outputs": [],
   "source": [
    "missing_prop_df = plot_missing_proportion_barchart(train)"
   ]
  },
  {
   "cell_type": "markdown",
   "id": "8e99c88f-23c5-44bb-b00c-739430285eb3",
   "metadata": {},
   "source": [
    "#### Simple Imputation"
   ]
  },
  {
   "cell_type": "code",
   "execution_count": null,
   "id": "b6ed5e93-3506-4f8e-9ebb-d214b988338c",
   "metadata": {
    "tags": []
   },
   "outputs": [],
   "source": [
    "def create_has_col(df, col):\n",
    "    has_col = f\"has_{col}\"\n",
    "    df.loc[:, has_col] = 0\n",
    "    df.loc[~df[col].isnull(), has_col] = 1\n",
    "    return df"
   ]
  },
  {
   "cell_type": "code",
   "execution_count": null,
   "id": "cf5802ce-2d4d-46b9-8e12-627e4e3964f7",
   "metadata": {},
   "outputs": [],
   "source": [
    "def create_sign_col(df, col):\n",
    "    sign_col = f\"{col}_sign\"\n",
    "    df[sign_col] = df[col].apply(lambda x: 0 if x == 0 else x / abs(x))\n",
    "    return df"
   ]
  },
  {
   "cell_type": "code",
   "execution_count": null,
   "id": "ab22f3f0-e23a-43f7-9435-380b1a7486e2",
   "metadata": {},
   "outputs": [],
   "source": [
    "def apply_all_fillna(df):\n",
    "    # Simple Fill NA with 0\n",
    "    for col in [\"D_87\", \"D_88\", \"B_39\", \"B_42\"]:\n",
    "        df[col] = df[col].fillna(0)  # .apply(lambda x: (abs(x) + x) / 2).fillna(0)\n",
    "    # Create has column\n",
    "    for col in [\"D_110\", \"D_111\", \"D_132\", \"D_134\", \"D_135\", \"D_136\", \"D_137\", \"D_138\", \n",
    "                \"R_9\"]:\n",
    "        df = create_has_col(df, col=col)\n",
    "    # Create sign column\n",
    "    for col in [\"B_39\"]:\n",
    "        df = create_sign_col(df, col=col)\n",
    "    return df"
   ]
  },
  {
   "cell_type": "code",
   "execution_count": null,
   "id": "7b24b323-6fcf-4e20-88c9-0efbcb07cc74",
   "metadata": {},
   "outputs": [],
   "source": [
    "# ! Fill NA\n",
    "train = apply_all_fillna(train)\n",
    "test = apply_all_fillna(test)"
   ]
  },
  {
   "cell_type": "code",
   "execution_count": null,
   "id": "1b884be4-25b8-4e17-9bc3-92df196b9cf3",
   "metadata": {},
   "outputs": [],
   "source": [
    "train.loc[~train[\"D_134\"].isnull()][[\"D_134\", \"D_135\", \"D_136\", \"D_137\", \"D_138\"]]"
   ]
  },
  {
   "cell_type": "code",
   "execution_count": null,
   "id": "3e8411b4-b5f5-489b-89a7-b34b023d53b3",
   "metadata": {},
   "outputs": [],
   "source": [
    "train[[\"has_D_132\", \"has_D_134\", \"has_D_135\", \"has_D_136\", \"has_D_137\", \"has_D_138\"]].corr()"
   ]
  },
  {
   "cell_type": "code",
   "execution_count": null,
   "id": "b0fd5f63-79ae-43c3-b170-930cf2123832",
   "metadata": {},
   "outputs": [],
   "source": [
    "amex_metric_np"
   ]
  },
  {
   "cell_type": "code",
   "execution_count": null,
   "id": "09ecf7cb-3cef-4dd6-a17a-396c033bc466",
   "metadata": {},
   "outputs": [],
   "source": [
    "train.shape"
   ]
  },
  {
   "cell_type": "code",
   "execution_count": null,
   "id": "01132bff-231f-435e-bdff-ed36a531d114",
   "metadata": {},
   "outputs": [],
   "source": [
    "train.groupby(\"target\")[\"B_29\"].mean()"
   ]
  },
  {
   "cell_type": "code",
   "execution_count": null,
   "id": "629d0a16-511e-4b0c-8e7b-e9a51c6ee9c1",
   "metadata": {},
   "outputs": [],
   "source": [
    "train.loc[train[\"R_9\"].isnull()][\"target\"].mean()"
   ]
  },
  {
   "cell_type": "code",
   "execution_count": null,
   "id": "dbe4bf8f-a370-4793-9f45-b7b0782f7683",
   "metadata": {},
   "outputs": [],
   "source": [
    "train.loc[~train[\"R_9\"].isnull()][\"target\"].mean()"
   ]
  },
  {
   "cell_type": "code",
   "execution_count": null,
   "id": "0fce21d3-3ee7-421f-93db-2e756e61d167",
   "metadata": {},
   "outputs": [],
   "source": [
    "train.loc[train[\"B_39\"].apply(lambda x: abs(x - 0) < 1e-5)][\"B_39\"]"
   ]
  },
  {
   "cell_type": "code",
   "execution_count": null,
   "id": "1a29cf2b-5ed9-4d31-bbb6-3c047a9d9c85",
   "metadata": {},
   "outputs": [],
   "source": [
    "train[\"R_9\"].describe()"
   ]
  },
  {
   "cell_type": "code",
   "execution_count": null,
   "id": "1db1273e-1e94-4b07-b72c-b1cd47e2900b",
   "metadata": {},
   "outputs": [],
   "source": [
    "test[\"D_73\"].describe()"
   ]
  },
  {
   "cell_type": "code",
   "execution_count": null,
   "id": "d185e8dc-af09-447b-8efa-5f1cef6e2cd0",
   "metadata": {},
   "outputs": [],
   "source": [
    "train[\"B_39\"].value_counts()"
   ]
  },
  {
   "cell_type": "markdown",
   "id": "00f670df-4717-4b4e-9772-11ae39ceae5f",
   "metadata": {
    "tags": []
   },
   "source": [
    "#### Missing value analysis (Post Simple Imputation)"
   ]
  },
  {
   "cell_type": "code",
   "execution_count": null,
   "id": "c09824a7-c908-49eb-a1c5-624660d80e0a",
   "metadata": {},
   "outputs": [],
   "source": [
    "missing_prop_df = plot_missing_proportion_barchart(train)"
   ]
  },
  {
   "cell_type": "code",
   "execution_count": null,
   "id": "a7e84c1a-051b-4567-9b93-f98028cea521",
   "metadata": {},
   "outputs": [],
   "source": [
    "for column in missing_prop_df.iloc[:20][\"column\"].tolist():\n",
    "    print(column, \"\\n\", high_missing_train_df[column].value_counts(), \"\\n\")"
   ]
  },
  {
   "cell_type": "code",
   "execution_count": null,
   "id": "be82e2ae-dac9-4923-b680-248b48721d72",
   "metadata": {},
   "outputs": [],
   "source": [
    "high_missing_count_columns = "
   ]
  },
  {
   "cell_type": "code",
   "execution_count": null,
   "id": "a11ac290-e22c-4943-870e-4a367cb86df7",
   "metadata": {},
   "outputs": [],
   "source": [
    "high_missing_train_df = train_data.loc[:, high_missing_count_columns + [\"target\"]]"
   ]
  },
  {
   "cell_type": "code",
   "execution_count": null,
   "id": "4d0ab5a9-c71c-42e0-b15d-a4184291f5d7",
   "metadata": {},
   "outputs": [],
   "source": [
    "high_missing_train_df.loc[high_missing_train_df[\"D_87\"].isnull()][\"target\"].mean()"
   ]
  },
  {
   "cell_type": "code",
   "execution_count": null,
   "id": "1123227b-5da6-4561-b318-1dc7c1dd615a",
   "metadata": {},
   "outputs": [],
   "source": []
  },
  {
   "cell_type": "code",
   "execution_count": null,
   "id": "3157a573-ec23-49a8-bbfa-516cc23891fe",
   "metadata": {},
   "outputs": [],
   "source": [
    "high_missing_train_df.loc[~high_missing_train_df[\"D_87\"].isnull()][\"target\"].mean()"
   ]
  },
  {
   "cell_type": "code",
   "execution_count": null,
   "id": "dbe10d49-cbb8-4bcd-9f99-617df382ef99",
   "metadata": {},
   "outputs": [],
   "source": [
    "train_cols_unique_count = train_data.nunique()"
   ]
  },
  {
   "cell_type": "code",
   "execution_count": null,
   "id": "8ae24fd9-3cb0-4881-b169-059cfe13e12a",
   "metadata": {},
   "outputs": [],
   "source": [
    "less_unique_columns = train_cols_unique_count[train_cols_unique_count <= 300].index.tolist()\n",
    "print(less_unique_columns)"
   ]
  },
  {
   "cell_type": "code",
   "execution_count": null,
   "id": "3440da91-4d85-430b-8fb6-00addbe2152c",
   "metadata": {},
   "outputs": [],
   "source": [
    "for column in less_unique_columns:\n",
    "    print(f\"Column {column}\")\n",
    "    print(train_data[column].unique(), end=\"\\n\\n\")"
   ]
  },
  {
   "cell_type": "code",
   "execution_count": null,
   "id": "0bb78161-9b1a-4308-ba54-0fed27a3bead",
   "metadata": {},
   "outputs": [],
   "source": [
    "all_cols = [c for c in train_data.columns if c not in ['customer_ID', 'S_2']]\n",
    "cat_features = less_unique_columns\n",
    "num_features = [col for col in all_cols if col not in less_unique_columns]"
   ]
  },
  {
   "cell_type": "code",
   "execution_count": null,
   "id": "13955cf8-67bb-4161-aff0-2872a8d786b3",
   "metadata": {},
   "outputs": [],
   "source": [
    "len(all_cols), len(cat_features), len(num_features)"
   ]
  },
  {
   "cell_type": "code",
   "execution_count": null,
   "id": "16e0378a-3eee-4909-8c40-7035428c07cf",
   "metadata": {},
   "outputs": [],
   "source": [
    "def get_agg_summary(original_df):\n",
    "    agg_summary = original_df.groupby(\"customer_ID\").agg(num_records=(\"S_2\", \"count\"), \n",
    "                                                         max_date=(\"S_2\", \"max\"),\n",
    "                                                         min_date=(\"S_2\", \"min\"))\n",
    "    agg_summary = agg_summary.reset_index()\n",
    "    agg_summary[\"days\"] = (agg_summary[\"max_date\"] - agg_summary[\"min_date\"]).dt.days\n",
    "    agg_summary[\"record_per_day\"] = agg_summary[\"days\"] / agg_summary[\"num_records\"]\n",
    "    return agg_summary"
   ]
  },
  {
   "cell_type": "code",
   "execution_count": null,
   "id": "443470ef-bc85-4487-bb35-2602e2821a1f",
   "metadata": {},
   "outputs": [],
   "source": [
    "train_agg_summary = get_agg_summary(train_data)\n",
    "test_agg_summary = get_agg_summary(test_data)"
   ]
  },
  {
   "cell_type": "code",
   "execution_count": null,
   "id": "5c2057b4-180a-42c5-870a-3a6f01dc59e8",
   "metadata": {},
   "outputs": [],
   "source": [
    "def set_category_columns(df):\n",
    "    pass"
   ]
  },
  {
   "cell_type": "code",
   "execution_count": null,
   "id": "09edc57e-b91d-40c1-ae13-dbf7e5bb005e",
   "metadata": {},
   "outputs": [],
   "source": [
    "train_data.loc[:, cat_features]."
   ]
  },
  {
   "cell_type": "markdown",
   "id": "5b49bdba-fe90-4f17-b253-f09214d11f2a",
   "metadata": {},
   "source": [
    "#### Aggregation"
   ]
  },
  {
   "cell_type": "markdown",
   "id": "46252ee5-3f50-4db8-939c-b43e1e80634a",
   "metadata": {},
   "source": [
    "#### Numeric features"
   ]
  },
  {
   "cell_type": "code",
   "execution_count": null,
   "id": "85fe0dca-5fc4-43c2-8904-bbe1fffc9ad7",
   "metadata": {},
   "outputs": [],
   "source": [
    "train_data_agg = train_data.groupby(\"cid\")[num_features].agg(['mean', 'std', 'min', 'max', 'last'])"
   ]
  },
  {
   "cell_type": "code",
   "execution_count": null,
   "id": "020ec071-1337-4891-8ad7-58615e41fd8b",
   "metadata": {},
   "outputs": [],
   "source": [
    "train_data_agg.columns = ['_'.join(x) for x in train_data_agg.columns]"
   ]
  },
  {
   "cell_type": "code",
   "execution_count": null,
   "id": "178a545a-21b3-472f-ba7f-f1790b70342f",
   "metadata": {},
   "outputs": [],
   "source": [
    "test_data_agg = test_data.groupby(\"cid\")[num_features].agg(['mean', 'std', 'min', 'max', 'last'])"
   ]
  },
  {
   "cell_type": "code",
   "execution_count": null,
   "id": "fefdf4fe-0981-4c16-986a-010e643a3e8b",
   "metadata": {},
   "outputs": [],
   "source": [
    "test_data_agg.columns = ['_'.join(x) for x in test_data_agg.columns]"
   ]
  },
  {
   "cell_type": "markdown",
   "id": "7e34f35c-e905-4035-b626-ba4f2bede9ca",
   "metadata": {},
   "source": [
    "#### Categorical features"
   ]
  },
  {
   "cell_type": "code",
   "execution_count": null,
   "id": "e388ae42-9bc1-4b27-96f0-58bb32f095e0",
   "metadata": {},
   "outputs": [],
   "source": [
    "train_cat_agg = train_data.groupby(\"cid\")[cat_features].agg(['count', 'last', 'nunique'])\n",
    "test_cat_agg = test_data.groupby(\"cid\")[cat_features].agg(['count', 'last', 'nunique'])"
   ]
  },
  {
   "cell_type": "code",
   "execution_count": null,
   "id": "9c261929-357c-4b0e-aaa3-5ed403058852",
   "metadata": {},
   "outputs": [],
   "source": [
    "train_cat_agg.columns = ['_'.join(x) for x in train_cat_agg.columns]\n",
    "test_cat_agg.columns = ['_'.join(x) for x in test_cat_agg.columns]"
   ]
  },
  {
   "cell_type": "code",
   "execution_count": null,
   "id": "a027899b-d597-47ed-886a-5589b94af80a",
   "metadata": {},
   "outputs": [],
   "source": [
    "train_agg = pd.concat([train_data_agg, train_cat_agg], axis=1)\n",
    "del train_data_agg, train_cat_agg"
   ]
  },
  {
   "cell_type": "code",
   "execution_count": null,
   "id": "81590dc9-4ec5-4c2d-93c6-24357b43121b",
   "metadata": {},
   "outputs": [],
   "source": [
    "train_agg = train_agg.reset_index()"
   ]
  },
  {
   "cell_type": "code",
   "execution_count": null,
   "id": "28780df8-a352-4d76-a3c3-76d33d16b522",
   "metadata": {},
   "outputs": [],
   "source": [
    "train_agg.shape"
   ]
  },
  {
   "cell_type": "code",
   "execution_count": null,
   "id": "e4e972f4-84ea-442a-b5c9-56e468353f64",
   "metadata": {},
   "outputs": [],
   "source": [
    "test_agg = pd.concat([test_data_agg, test_cat_agg], axis=1)\n",
    "del test_data_agg, test_cat_agg"
   ]
  },
  {
   "cell_type": "code",
   "execution_count": null,
   "id": "a0d594e4-f9d1-4706-ac40-3082aa24ac42",
   "metadata": {},
   "outputs": [],
   "source": [
    "test_agg = test_agg.reset_index()"
   ]
  },
  {
   "cell_type": "code",
   "execution_count": null,
   "id": "5ecd7883-1332-4a02-8ab8-96fbed3c7633",
   "metadata": {},
   "outputs": [],
   "source": [
    "test_agg.shape"
   ]
  },
  {
   "cell_type": "markdown",
   "id": "6fc921e1-b9ac-4391-8ee5-b75587bbbe6b",
   "metadata": {},
   "source": [
    "### Train Val Split"
   ]
  },
  {
   "cell_type": "code",
   "execution_count": null,
   "id": "fd860277-1810-4bdd-9e56-84c1870e17ce",
   "metadata": {},
   "outputs": [],
   "source": [
    "train_labels.insert(0, \"cid\", train_labels['customer_ID'].apply(hash).astype('int64'))\n",
    "train_labels.head(5)"
   ]
  },
  {
   "cell_type": "code",
   "execution_count": null,
   "id": "cc3ce8e6-edff-4d51-8110-0b881db3e484",
   "metadata": {},
   "outputs": [],
   "source": [
    "train_labels = train_labels.sort_values(by=\"cid\").reset_index(drop=True)"
   ]
  },
  {
   "cell_type": "code",
   "execution_count": null,
   "id": "e99ab607-5673-42d9-bc9d-2ff3683974c8",
   "metadata": {},
   "outputs": [],
   "source": [
    "train_ = train_agg.merge(train_labels[[\"cid\", \"target\"]], on=\"cid\", how=\"left\")"
   ]
  },
  {
   "cell_type": "code",
   "execution_count": null,
   "id": "5144cc8a-305d-41d7-8cea-baf5f0f3f0ba",
   "metadata": {},
   "outputs": [],
   "source": [
    "train_[\"dummy\"] = np.random.randn(train_.shape[0])"
   ]
  },
  {
   "cell_type": "code",
   "execution_count": null,
   "id": "9695a902-a0b2-4365-ba90-3fa70ed69844",
   "metadata": {},
   "outputs": [],
   "source": [
    "train, val = train_test_split(train_, test_size=0.2, random_state=1020, stratify=train_[\"target\"])"
   ]
  },
  {
   "cell_type": "code",
   "execution_count": null,
   "id": "33c79210-4f9a-4500-9ba2-2a61850acd3f",
   "metadata": {},
   "outputs": [],
   "source": [
    "train[\"target\"].mean(), val[\"target\"].mean()"
   ]
  },
  {
   "cell_type": "markdown",
   "id": "fa7ce3fd-bac0-4364-b611-819042c19358",
   "metadata": {},
   "source": [
    "### LGBM Model"
   ]
  },
  {
   "cell_type": "code",
   "execution_count": null,
   "id": "0eaf02d5-b112-401a-9346-908cb0e61369",
   "metadata": {},
   "outputs": [],
   "source": [
    "X_train = train.drop(columns=[\"cid\", \"target\"])\n",
    "X_val = val.drop(columns=[\"cid\", \"target\"])"
   ]
  },
  {
   "cell_type": "code",
   "execution_count": null,
   "id": "3b147ed3-595d-49c9-b6a2-87773d961f92",
   "metadata": {},
   "outputs": [],
   "source": [
    "y_train = train[\"target\"]\n",
    "y_val = val[\"target\"]"
   ]
  },
  {
   "cell_type": "code",
   "execution_count": null,
   "id": "41135e8f-1549-4612-a9c4-fa70ae39b4cd",
   "metadata": {},
   "outputs": [],
   "source": [
    "opt = BayesSearchCV(\n",
    "    LGBMClassifier(random_state=1020),\n",
    "    {\n",
    "        'learning_rate': (0.01, 0.1),\n",
    "        'num_leaves': (31, 127),\n",
    "        'max_depth': (4, 15),\n",
    "        'min_child_samples': (15, 63),\n",
    "        'n_estimators': (50, 150),\n",
    "        'subsample': (0.7, 0.9),\n",
    "        'subsample_freq': (2, 5),\n",
    "        'colsample_bytree': (0.7, 0.9),\n",
    "        'reg_lambda': (0, 10),\n",
    "        'min_split_gain': (0, 0.05),\n",
    "    },\n",
    "    n_iter=10,\n",
    "    cv=5,\n",
    "    scoring=make_scorer(fbeta_score, beta=2)\n",
    ")"
   ]
  },
  {
   "cell_type": "code",
   "execution_count": null,
   "id": "295cb663-b522-4e61-be30-959e45c88f53",
   "metadata": {},
   "outputs": [],
   "source": [
    "opt.fit(X_train, y_train)"
   ]
  },
  {
   "cell_type": "code",
   "execution_count": null,
   "id": "ff687f1c-0639-49ae-b0ab-e4e0d4975e33",
   "metadata": {},
   "outputs": [],
   "source": []
  },
  {
   "cell_type": "code",
   "execution_count": null,
   "id": "41235181-df82-4aa4-8476-aa0be762a82b",
   "metadata": {},
   "outputs": [],
   "source": []
  },
  {
   "cell_type": "code",
   "execution_count": null,
   "id": "eadba069-b404-4e7d-8064-0c46ecb95e4d",
   "metadata": {},
   "outputs": [],
   "source": [
    "lgbm_clf = LGBMClassifier(random_state=1020)"
   ]
  },
  {
   "cell_type": "code",
   "execution_count": null,
   "id": "2d1db025-9a3d-4d2b-a5bf-dec2fb63e423",
   "metadata": {},
   "outputs": [],
   "source": [
    "lgbm_clf.fit(X_train, y_train)"
   ]
  },
  {
   "cell_type": "code",
   "execution_count": null,
   "id": "4d32ab96-3177-4042-a8ca-d92d82c35524",
   "metadata": {},
   "outputs": [],
   "source": [
    "y_train_pred = lgbm_clf.predict_proba(X_train)[:, 1]\n",
    "y_val_pred = lgbm_clf.predict_proba(X_val)[:, 1]"
   ]
  },
  {
   "cell_type": "code",
   "execution_count": null,
   "id": "d7ef1dac-33bd-425e-abb7-1423dae456a9",
   "metadata": {},
   "outputs": [],
   "source": [
    "plot_roc_curves([y_train, y_val], \n",
    "                [y_train_pred, y_val_pred], \n",
    "                labels=[\"Train\", \"Test\"], \n",
    "                title=\"Train Test ROC AUC\")"
   ]
  },
  {
   "cell_type": "code",
   "execution_count": null,
   "id": "b5ec7d16-e398-4fe9-bd13-3e412807bee9",
   "metadata": {},
   "outputs": [],
   "source": [
    "imp_df = plot_feature_importance(lgbm_clf.feature_name_, \n",
    "                                 lgbm_clf.feature_importances_, \n",
    "                                 title=\"Feature Importance\",\n",
    "                                 limit=50)"
   ]
  },
  {
   "cell_type": "code",
   "execution_count": null,
   "id": "392cced2-205e-4d54-b3f4-37cf7c2ec0e3",
   "metadata": {},
   "outputs": [],
   "source": [
    "num_list, num_features_list, train_score_list, val_score_list = [], [], [], []\n",
    "for i in tqdm(range(30)):\n",
    "    selected_features = imp_df.loc[imp_df[\"feature_importance\"] > i][\"feature\"].tolist()\n",
    "    print(f\"# of features: {len(selected_features)}\")\n",
    "    \n",
    "    X_train_new = train.loc[:, selected_features]\n",
    "    X_val_new = val.loc[:, selected_features]\n",
    "    \n",
    "    lgbm_clf = LGBMClassifier(random_state=1020)\n",
    "    lgbm_clf.fit(X_train_new, y_train)\n",
    "    \n",
    "    y_train_pred = lgbm_clf.predict_proba(X_train_new)[:, 1]\n",
    "    y_val_pred = lgbm_clf.predict_proba(X_val_new)[:, 1]\n",
    "    \n",
    "    y_train_df = pd.DataFrame(y_train).reset_index(drop=True)\n",
    "    y_train_pred_df = pd.DataFrame(y_train_pred).rename(columns={0: \"prediction\"})\n",
    "    y_val_df = pd.DataFrame(y_val).reset_index(drop=True)\n",
    "    y_val_pred_df = pd.DataFrame(y_val_pred).rename(columns={0: \"prediction\"})\n",
    "    \n",
    "    train_score = amex_metric(y_train_df, y_train_pred_df)\n",
    "    val_score = amex_metric(y_val_df, y_val_pred_df)\n",
    "    num_list.append(i)\n",
    "    num_features_list.append(len(selected_features))\n",
    "    train_score_list.append(train_score)\n",
    "    val_score_list.append(val_score)"
   ]
  },
  {
   "cell_type": "code",
   "execution_count": null,
   "id": "9bf0fe35-d7a6-433d-ae53-c0b86f6d5e99",
   "metadata": {},
   "outputs": [],
   "source": [
    "eval_df = pd.DataFrame(dict(index_=num_list, \n",
    "                            num_feature=num_features_list, \n",
    "                            train_score=train_score_list, \n",
    "                            val_score=val_score_list))"
   ]
  },
  {
   "cell_type": "code",
   "execution_count": null,
   "id": "1662baa7-df09-4ba1-ae1c-49837274ce4f",
   "metadata": {},
   "outputs": [],
   "source": [
    "# eval_df"
   ]
  },
  {
   "cell_type": "code",
   "execution_count": null,
   "id": "cc7e16e2-c874-4af3-a0e8-418aae96441e",
   "metadata": {},
   "outputs": [],
   "source": [
    "plt.figure(figsize=(17, 6))\n",
    "plt.plot(eval_df[\"index_\"], eval_df[\"train_score\"], label=\"Train\")\n",
    "plt.plot(eval_df[\"index_\"], eval_df[\"val_score\"], label=\"Validation\")\n",
    "plt.legend()\n",
    "plt.show()"
   ]
  },
  {
   "cell_type": "code",
   "execution_count": null,
   "id": "9d189585-7029-4c81-bb98-ab44585261fe",
   "metadata": {},
   "outputs": [],
   "source": [
    "selected_features = imp_df.loc[imp_df[\"feature_importance\"] > 5][\"feature\"].tolist()\n",
    "len(selected_features)"
   ]
  },
  {
   "cell_type": "code",
   "execution_count": null,
   "id": "563f783e-d22d-4e1b-bcab-2d86c92053a4",
   "metadata": {},
   "outputs": [],
   "source": [
    "X_train_new = train.loc[:, selected_features]\n",
    "X_val_new = val.loc[:, selected_features]"
   ]
  },
  {
   "cell_type": "code",
   "execution_count": null,
   "id": "6a88d8e6-3097-446a-aea2-e8224901a83f",
   "metadata": {},
   "outputs": [],
   "source": [
    "lgbm_clf.fit(X_train_new, y_train)"
   ]
  },
  {
   "cell_type": "code",
   "execution_count": null,
   "id": "f6ae6a0f-a5e6-4fd5-b631-2cc0a6991784",
   "metadata": {},
   "outputs": [],
   "source": [
    "y_train_pred = lgbm_clf.predict_proba(X_train_new)[:, 1]\n",
    "y_val_pred = lgbm_clf.predict_proba(X_val_new)[:, 1]"
   ]
  },
  {
   "cell_type": "code",
   "execution_count": null,
   "id": "37e4a3d1-9cbc-4b65-a71a-8e72a71b17ea",
   "metadata": {},
   "outputs": [],
   "source": [
    "plot_roc_curves([y_train, y_val], \n",
    "                [y_train_pred, y_val_pred], \n",
    "                labels=[\"Train\", \"Test\"], \n",
    "                title=\"Train Test ROC AUC\")"
   ]
  },
  {
   "cell_type": "code",
   "execution_count": null,
   "id": "9d4a8791-645f-43ed-89b4-25a038fae2da",
   "metadata": {},
   "outputs": [],
   "source": [
    "y_train_df = pd.DataFrame(y_train).reset_index(drop=True)\n",
    "y_train_pred_df = pd.DataFrame(y_train_pred).rename(columns={0: \"prediction\"})"
   ]
  },
  {
   "cell_type": "code",
   "execution_count": null,
   "id": "5867a017-4684-474c-8aa3-1d31a5b684d3",
   "metadata": {},
   "outputs": [],
   "source": [
    "amex_metric(y_train_df, y_train_pred_df)"
   ]
  },
  {
   "cell_type": "code",
   "execution_count": null,
   "id": "457c75e8-dfd4-4eb3-a594-9e0547d1ee49",
   "metadata": {},
   "outputs": [],
   "source": [
    "y_val_df = pd.DataFrame(y_val).reset_index(drop=True)\n",
    "y_val_pred_df = pd.DataFrame(y_val_pred).rename(columns={0: \"prediction\"})"
   ]
  },
  {
   "cell_type": "code",
   "execution_count": null,
   "id": "bd5bd4be-0e36-45cc-b658-73686b4412f7",
   "metadata": {},
   "outputs": [],
   "source": [
    "amex_metric(y_val_df, y_val_pred_df)"
   ]
  },
  {
   "cell_type": "markdown",
   "id": "b10febac-45a5-4dfe-8e90-679a7b6c58af",
   "metadata": {},
   "source": [
    "### Inference"
   ]
  },
  {
   "cell_type": "code",
   "execution_count": null,
   "id": "fcb65a0e-6b15-43b7-97cf-92d012ae980c",
   "metadata": {},
   "outputs": [],
   "source": [
    "X_test = test_agg.drop(columns=[\"cid\"])"
   ]
  },
  {
   "cell_type": "code",
   "execution_count": null,
   "id": "b57fb03d-129a-4315-81e8-8360136281f0",
   "metadata": {},
   "outputs": [],
   "source": [
    "X_test = test_agg.loc[:, selected_features]"
   ]
  },
  {
   "cell_type": "code",
   "execution_count": null,
   "id": "8187a541-375c-4ade-80ae-aea068907536",
   "metadata": {},
   "outputs": [],
   "source": [
    "y_test_pred = lgbm_clf.predict_proba(X_test)[:, 1]"
   ]
  },
  {
   "cell_type": "code",
   "execution_count": null,
   "id": "c88b8d00-9901-4db0-b50a-4ac1d5213b52",
   "metadata": {},
   "outputs": [],
   "source": [
    "test_agg[\"prediction\"] = y_test_pred"
   ]
  },
  {
   "cell_type": "markdown",
   "id": "0f4349f8-2223-4495-9ac0-9271161d2ad7",
   "metadata": {},
   "source": [
    "#### Submission"
   ]
  },
  {
   "cell_type": "code",
   "execution_count": null,
   "id": "b8a09504-d53b-4605-a513-e759d3591ba4",
   "metadata": {},
   "outputs": [],
   "source": [
    "submission = pd.read_csv(f\"{DATA_PATH}/sample_submission.csv\")"
   ]
  },
  {
   "cell_type": "code",
   "execution_count": null,
   "id": "4b44d52a-25e4-4c57-a521-e0abb56dc442",
   "metadata": {},
   "outputs": [],
   "source": [
    "submission[\"cid\"] = submission['customer_ID'].apply(hash).astype('int64')\n",
    "submission = submission.drop(columns=\"prediction\")"
   ]
  },
  {
   "cell_type": "code",
   "execution_count": null,
   "id": "50e49caa-6672-4477-90b1-bad365f41dcd",
   "metadata": {},
   "outputs": [],
   "source": [
    "result = submission.merge(test_agg[[\"cid\", \"prediction\"]], on=\"cid\").drop(columns=\"cid\")"
   ]
  },
  {
   "cell_type": "code",
   "execution_count": null,
   "id": "57e977c8-3c57-4efe-b766-f8ea82b5849a",
   "metadata": {},
   "outputs": [],
   "source": [
    "result.to_csv(f\"{SUBMISSION_DATA_PATH}/submission3.csv\", index=False)"
   ]
  },
  {
   "cell_type": "code",
   "execution_count": null,
   "id": "5fbb5848-efd4-4724-b6a8-0cb3951abb4b",
   "metadata": {},
   "outputs": [],
   "source": []
  }
 ],
 "metadata": {
  "kernelspec": {
   "display_name": "amex",
   "language": "python",
   "name": "amex"
  },
  "language_info": {
   "codemirror_mode": {
    "name": "ipython",
    "version": 3
   },
   "file_extension": ".py",
   "mimetype": "text/x-python",
   "name": "python",
   "nbconvert_exporter": "python",
   "pygments_lexer": "ipython3",
   "version": "3.10.0"
  }
 },
 "nbformat": 4,
 "nbformat_minor": 5
}
