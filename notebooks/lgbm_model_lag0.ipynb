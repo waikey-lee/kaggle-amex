{
 "cells": [
  {
   "cell_type": "code",
   "execution_count": 113,
   "id": "5dd2ca34-3410-4078-aa48-7adbba211ed5",
   "metadata": {},
   "outputs": [],
   "source": [
    "import gc\n",
    "import joblib\n",
    "import matplotlib.pyplot as plt\n",
    "import pandas as pd\n",
    "import numpy as np\n",
    "import optuna\n",
    "import os\n",
    "import seaborn as sns\n",
    "import sys\n",
    "sys.path.append(\"../\")\n",
    "import time\n",
    "import warnings\n",
    "warnings.simplefilter(\"ignore\")\n",
    "from lightgbm import LGBMClassifier\n",
    "from scipy.stats import randint as sp_randint\n",
    "from scipy.stats import uniform as sp_uniform\n",
    "from sklearn.model_selection import train_test_split, RandomizedSearchCV\n",
    "from sklearn.metrics import roc_auc_score, fbeta_score, make_scorer, average_precision_score, precision_score, mean_squared_error\n",
    "from sklearn.linear_model import LogisticRegression\n",
    "from skopt import BayesSearchCV\n",
    "from tqdm import tqdm"
   ]
  },
  {
   "cell_type": "code",
   "execution_count": 114,
   "id": "7ef6394d-049c-4cd2-84b9-83f9b7ed3cd3",
   "metadata": {},
   "outputs": [],
   "source": [
    "from matplotlib.ticker import MaxNLocator\n",
    "from matplotlib.colors import ListedColormap\n",
    "from cycler import cycler\n",
    "from IPython.display import display\n",
    "import datetime\n",
    "import scipy.stats\n",
    "import warnings\n",
    "from colorama import Fore, Back, Style\n",
    "import gc\n",
    "from sklearn.model_selection import StratifiedKFold\n",
    "from sklearn.calibration import CalibrationDisplay\n",
    "from lightgbm import log_evaluation\n",
    "\n",
    "plt.rcParams['axes.facecolor'] = '#0057b8' # blue\n",
    "plt.rcParams['axes.prop_cycle'] = cycler(color=['#ffd700'] +\n",
    "                                         plt.rcParams['axes.prop_cycle'].by_key()['color'][1:])\n",
    "plt.rcParams['text.color'] = 'w'"
   ]
  },
  {
   "cell_type": "code",
   "execution_count": 115,
   "id": "a084bef6-4434-40fb-bafc-d7d3e4c57a14",
   "metadata": {},
   "outputs": [],
   "source": [
    "from utils.eval_helpers import (\n",
    "    plot_roc_curves, plot_feature_importance, \n",
    "    amex_metric, get_final_metric_df, amex_metric_np, lgb_amex_metric\n",
    ")\n",
    "from utils.eda_helpers import plot_missing_proportion_barchart, get_cols\n",
    "from utils.extraction_helpers import read_file\n",
    "from utils.feature_group import (\n",
    "    CATEGORY_COLUMNS, INTEGER_COLUMNS,\n",
    "    MEAN_FEATURES, MIN_FEATURES, MAX_FEATURES, LAST_FEATURES, CONFIRM_DROP_FEATURES\n",
    ")"
   ]
  },
  {
   "cell_type": "code",
   "execution_count": 116,
   "id": "ee8b533a-591f-40e6-90a4-2357933bb83b",
   "metadata": {},
   "outputs": [
    {
     "data": {
      "text/plain": [
       "['train_ftr',\n",
       " 'train_labels.csv',\n",
       " '.DS_Store',\n",
       " 'train_pickle',\n",
       " 'train_csv',\n",
       " 'test_ftr',\n",
       " 'test_csv',\n",
       " '.ipynb_checkpoints',\n",
       " 'test_parquet',\n",
       " 'train_parquet',\n",
       " 'sample_submission.csv',\n",
       " 'test_pickle']"
      ]
     },
     "execution_count": 116,
     "metadata": {},
     "output_type": "execute_result"
    }
   ],
   "source": [
    "DATA_PATH = \"../raw_data\"\n",
    "os.listdir(DATA_PATH)"
   ]
  },
  {
   "cell_type": "code",
   "execution_count": 117,
   "id": "08cce559-a615-41c7-9d81-0a5e7b981931",
   "metadata": {
    "tags": []
   },
   "outputs": [],
   "source": [
    "RAW_DATA_PATH = \"../raw_data\"\n",
    "PROCESSED_DATA_PATH = \"../processed_data\"\n",
    "SUBMISSION_DATA_PATH = \"../submissions\"\n",
    "EVALUATION_DATA_PATH = \"../evaluation_data\"\n",
    "MODELS_PATH = \"../models\""
   ]
  },
  {
   "cell_type": "code",
   "execution_count": 118,
   "id": "67194602-57fc-4e92-9801-8d600e52a5b2",
   "metadata": {},
   "outputs": [
    {
     "name": "stdout",
     "output_type": "stream",
     "text": [
      "The autoreload extension is already loaded. To reload it, use:\n",
      "  %reload_ext autoreload\n"
     ]
    }
   ],
   "source": [
    "%load_ext autoreload\n",
    "%autoreload"
   ]
  },
  {
   "cell_type": "code",
   "execution_count": 122,
   "id": "79487a81-ce62-4847-974a-485a5ce1c515",
   "metadata": {},
   "outputs": [],
   "source": [
    "RAW_TRAIN_CSV_PATH = os.path.join(RAW_DATA_PATH, \"train_csv\")\n",
    "RAW_TRAIN_PARQUET_PATH = os.path.join(RAW_DATA_PATH, \"train_parquet\")\n",
    "RAW_TRAIN_PICKLE_PATH = os.path.join(RAW_DATA_PATH, \"train_pickle\")\n",
    "RAW_TRAIN_FEATHER_PATH = os.path.join(RAW_DATA_PATH, \"train_ftr\")\n",
    "RAW_TEST_PARQUET_PATH = os.path.join(RAW_DATA_PATH, \"test_parquet\")\n",
    "RAW_TEST_PICKLE_PATH = os.path.join(RAW_DATA_PATH, \"test_pickle\")"
   ]
  },
  {
   "cell_type": "markdown",
   "id": "3885beac-e245-43b6-a2cc-73e9f871d132",
   "metadata": {},
   "source": [
    "### Read Data"
   ]
  },
  {
   "cell_type": "code",
   "execution_count": 120,
   "id": "149ef949-1433-40a1-a9fd-42781c21bae2",
   "metadata": {},
   "outputs": [],
   "source": [
    "id_mapping_df = pd.read_csv(f\"{PROCESSED_DATA_PATH}/id_mapping_df.csv\")"
   ]
  },
  {
   "cell_type": "code",
   "execution_count": 123,
   "id": "0bb7b35b-d163-40cd-948a-ca98da114005",
   "metadata": {},
   "outputs": [
    {
     "name": "stdout",
     "output_type": "stream",
     "text": [
      "Shape of data: (5531451, 190)\n",
      "CPU times: user 1min 6s, sys: 24.5 s, total: 1min 30s\n",
      "Wall time: 2min 26s\n"
     ]
    }
   ],
   "source": [
    "%%time\n",
    "df = read_file(f\"{RAW_TRAIN_CSV_PATH}/train_data.csv\")\n",
    "# df = read_file(f\"{RAW_TEST_PICKLE_PATH}/test_data.pkl\")"
   ]
  },
  {
   "cell_type": "code",
   "execution_count": 126,
   "id": "eb3b8be6-d1cb-4beb-a17a-005bc8bd3058",
   "metadata": {},
   "outputs": [
    {
     "data": {
      "text/plain": [
       "1    5514544\n",
       "0      16907\n",
       "Name: B_31, dtype: int64"
      ]
     },
     "execution_count": 126,
     "metadata": {},
     "output_type": "execute_result"
    }
   ],
   "source": [
    "df[\"B_31\"].value_counts()"
   ]
  },
  {
   "cell_type": "code",
   "execution_count": 124,
   "id": "ace0c7c2-cdd0-45a2-8d26-5f10e7c676d6",
   "metadata": {},
   "outputs": [
    {
     "data": {
      "text/html": [
       "<div>\n",
       "<style scoped>\n",
       "    .dataframe tbody tr th:only-of-type {\n",
       "        vertical-align: middle;\n",
       "    }\n",
       "\n",
       "    .dataframe tbody tr th {\n",
       "        vertical-align: top;\n",
       "    }\n",
       "\n",
       "    .dataframe thead th {\n",
       "        text-align: right;\n",
       "    }\n",
       "</style>\n",
       "<table border=\"1\" class=\"dataframe\">\n",
       "  <thead>\n",
       "    <tr style=\"text-align: right;\">\n",
       "      <th></th>\n",
       "      <th>B_31</th>\n",
       "    </tr>\n",
       "  </thead>\n",
       "  <tbody>\n",
       "    <tr>\n",
       "      <th>0</th>\n",
       "      <td>1</td>\n",
       "    </tr>\n",
       "    <tr>\n",
       "      <th>1</th>\n",
       "      <td>1</td>\n",
       "    </tr>\n",
       "    <tr>\n",
       "      <th>2</th>\n",
       "      <td>1</td>\n",
       "    </tr>\n",
       "    <tr>\n",
       "      <th>3</th>\n",
       "      <td>1</td>\n",
       "    </tr>\n",
       "    <tr>\n",
       "      <th>4</th>\n",
       "      <td>1</td>\n",
       "    </tr>\n",
       "    <tr>\n",
       "      <th>...</th>\n",
       "      <td>...</td>\n",
       "    </tr>\n",
       "    <tr>\n",
       "      <th>5531446</th>\n",
       "      <td>1</td>\n",
       "    </tr>\n",
       "    <tr>\n",
       "      <th>5531447</th>\n",
       "      <td>1</td>\n",
       "    </tr>\n",
       "    <tr>\n",
       "      <th>5531448</th>\n",
       "      <td>1</td>\n",
       "    </tr>\n",
       "    <tr>\n",
       "      <th>5531449</th>\n",
       "      <td>1</td>\n",
       "    </tr>\n",
       "    <tr>\n",
       "      <th>5531450</th>\n",
       "      <td>1</td>\n",
       "    </tr>\n",
       "  </tbody>\n",
       "</table>\n",
       "<p>5531451 rows × 1 columns</p>\n",
       "</div>"
      ],
      "text/plain": [
       "         B_31\n",
       "0           1\n",
       "1           1\n",
       "2           1\n",
       "3           1\n",
       "4           1\n",
       "...       ...\n",
       "5531446     1\n",
       "5531447     1\n",
       "5531448     1\n",
       "5531449     1\n",
       "5531450     1\n",
       "\n",
       "[5531451 rows x 1 columns]"
      ]
     },
     "execution_count": 124,
     "metadata": {},
     "output_type": "execute_result"
    }
   ],
   "source": [
    "df.select_dtypes((\"int8\", \"int\", \"int16\"))"
   ]
  },
  {
   "cell_type": "code",
   "execution_count": 127,
   "id": "a14d2b8f-0446-4d4b-b5e9-4de2be139bf0",
   "metadata": {},
   "outputs": [],
   "source": [
    "if \"row_number\" not in df.columns:\n",
    "    df.insert(1, \"row_number\", df.groupby(\"customer_ID\")[\"S_2\"].rank(method=\"first\", ascending=False).astype(int))"
   ]
  },
  {
   "cell_type": "code",
   "execution_count": 13,
   "id": "8bb3b486-1b38-46f2-92b3-efba6f34a663",
   "metadata": {},
   "outputs": [],
   "source": [
    "corr_df = df.iloc[:, 3:-1].corr()"
   ]
  },
  {
   "cell_type": "code",
   "execution_count": 14,
   "id": "1efd7b73-1878-47b6-9cd7-191c2c859ca8",
   "metadata": {},
   "outputs": [],
   "source": [
    "null_count_df = df.iloc[:, 3:-1].isnull().sum().sort_values()"
   ]
  },
  {
   "cell_type": "code",
   "execution_count": 15,
   "id": "bcdb311e-af77-4eda-b237-3eb9429a1a64",
   "metadata": {},
   "outputs": [],
   "source": [
    "potential_to_impute_columns = null_count_df[(null_count_df > 0) & (null_count_df < df.shape[0] * 0.2)].index.tolist()\n",
    "potential_to_impute_null_counts = null_count_df[(null_count_df > 0) & (null_count_df < df.shape[0] * 0.2)].values.tolist()"
   ]
  },
  {
   "cell_type": "code",
   "execution_count": 16,
   "id": "c56325f0-c8b1-4beb-b662-f6065c5858f2",
   "metadata": {},
   "outputs": [],
   "source": [
    "impute_col_index = 0"
   ]
  },
  {
   "cell_type": "code",
   "execution_count": 17,
   "id": "a4739aed-1c52-45f0-b52f-03f2cbfa78af",
   "metadata": {},
   "outputs": [
    {
     "data": {
      "text/plain": [
       "'R_12'"
      ]
     },
     "execution_count": 17,
     "metadata": {},
     "output_type": "execute_result"
    }
   ],
   "source": [
    "target_impute_column = potential_to_impute_columns[impute_col_index]\n",
    "target_impute_column"
   ]
  },
  {
   "cell_type": "code",
   "execution_count": 18,
   "id": "6488d2d6-97fd-4181-8710-2cadf1d7ecdf",
   "metadata": {},
   "outputs": [
    {
     "data": {
      "text/plain": [
       "3"
      ]
     },
     "execution_count": 18,
     "metadata": {},
     "output_type": "execute_result"
    }
   ],
   "source": [
    "target_impute_null_count = potential_to_impute_null_counts[impute_col_index]\n",
    "target_impute_null_count"
   ]
  },
  {
   "cell_type": "code",
   "execution_count": 19,
   "id": "41307b61-51a7-4b38-b6e7-f932a4e37e4e",
   "metadata": {},
   "outputs": [
    {
     "data": {
      "text/plain": [
       "R_12    1.000000\n",
       "B_24    0.671908\n",
       "B_41    0.452534\n",
       "Name: R_12, dtype: float64"
      ]
     },
     "execution_count": 19,
     "metadata": {},
     "output_type": "execute_result"
    }
   ],
   "source": [
    "high_corr_df = corr_df.loc[\n",
    "    ~corr_df[target_impute_column].between(-0.4, 0.4) & ~corr_df[target_impute_column].isnull(),\n",
    "    target_impute_column\n",
    "]\n",
    "high_corr_df = high_corr_df.abs().sort_values(ascending=False)\n",
    "high_corr_df"
   ]
  },
  {
   "cell_type": "code",
   "execution_count": 20,
   "id": "6a0108ef-2816-44ff-a19f-463139f6dd29",
   "metadata": {},
   "outputs": [
    {
     "name": "stdout",
     "output_type": "stream",
     "text": [
      "['B_24', 'B_41']\n"
     ]
    }
   ],
   "source": [
    "potential_features = high_corr_df.index.tolist()\n",
    "potential_features.remove(target_impute_column)\n",
    "print(potential_features)"
   ]
  },
  {
   "cell_type": "code",
   "execution_count": 21,
   "id": "2a7c09c3-9c16-479f-802b-83c65b76bc45",
   "metadata": {},
   "outputs": [
    {
     "data": {
      "text/plain": [
       "['B_24']"
      ]
     },
     "execution_count": 21,
     "metadata": {},
     "output_type": "execute_result"
    }
   ],
   "source": [
    "potential_features_null_count = df.loc[:, potential_features].isnull().sum()\n",
    "potential_features = potential_features_null_count[potential_features_null_count == 0].index.tolist()\n",
    "if len(potential_features) > 10:\n",
    "    potential_features = potential_features[:10]\n",
    "potential_features"
   ]
  },
  {
   "cell_type": "code",
   "execution_count": 22,
   "id": "d9725cd2-d009-48ab-a71a-46aec3d13cb9",
   "metadata": {},
   "outputs": [
    {
     "name": "stdout",
     "output_type": "stream",
     "text": [
      "1 potential feature(s), showing the target column against the first feature\n"
     ]
    },
    {
     "data": {
      "image/png": "[encoded data removed]",
      "text/plain": [
       "<Figure size 432x288 with 1 Axes>"
      ]
     },
     "metadata": {
      "needs_background": "light"
     },
     "output_type": "display_data"
    }
   ],
   "source": [
    "if len(potential_features) > 0:\n",
    "    temp = df.loc[df[target_impute_column].isnull(), potential_features + [target_impute_column]]\n",
    "    print(f\"{len(potential_features)} potential feature(s), showing the target column against the first feature\")\n",
    "    sns.scatterplot(data=df, \n",
    "                    x=potential_features[0], \n",
    "                    y=target_impute_column)\n",
    "    plt.show()\n",
    "else:\n",
    "    temp = df.loc[df[target_impute_column].isnull(), [\"customer_ID\", \"row_number\", target_impute_column]]\n",
    "    print(\"No potential features, proceed with mean imputation\")\n",
    "    df.loc[df[target_impute_column].isnull(), target_impute_column] = df[target_impute_column].mean()\n",
    "    print(f\"Imputed {len(temp.index)} rows of data\")"
   ]
  },
  {
   "cell_type": "code",
   "execution_count": 23,
   "id": "be532225-7179-4315-9d39-1a2e466145e1",
   "metadata": {},
   "outputs": [],
   "source": [
    "# df[target_impute_column].plot.box()"
   ]
  },
  {
   "cell_type": "code",
   "execution_count": 24,
   "id": "2c252222-ce61-4076-87ec-fcbd329e134d",
   "metadata": {},
   "outputs": [],
   "source": [
    "from sklearn.neighbors import KNeighborsRegressor"
   ]
  },
  {
   "cell_type": "code",
   "execution_count": 25,
   "id": "00e5a272-d9b5-49c0-a701-d4bb6ff8402d",
   "metadata": {},
   "outputs": [],
   "source": [
    "all_data = df.loc[:, [\"customer_ID\"] + potential_features + [target_impute_column]]"
   ]
  },
  {
   "cell_type": "code",
   "execution_count": 26,
   "id": "19c3e109-9339-448f-aa58-79ac9c00cfee",
   "metadata": {},
   "outputs": [],
   "source": [
    "train_val = all_data.loc[~all_data[target_impute_column].isnull()]\n",
    "test = all_data.loc[all_data[target_impute_column].isnull()]"
   ]
  },
  {
   "cell_type": "code",
   "execution_count": 27,
   "id": "d8793bb6-e80f-4133-8ec4-3df868257dfb",
   "metadata": {},
   "outputs": [],
   "source": [
    "train, val = train_test_split(train_val, test_size=0.2, random_state=1)"
   ]
  },
  {
   "cell_type": "code",
   "execution_count": 28,
   "id": "b1d73125-93b0-43e2-b4aa-268592cc4446",
   "metadata": {},
   "outputs": [
    {
     "data": {
      "text/html": [
       "<div>\n",
       "<style scoped>\n",
       "    .dataframe tbody tr th:only-of-type {\n",
       "        vertical-align: middle;\n",
       "    }\n",
       "\n",
       "    .dataframe tbody tr th {\n",
       "        vertical-align: top;\n",
       "    }\n",
       "\n",
       "    .dataframe thead th {\n",
       "        text-align: right;\n",
       "    }\n",
       "</style>\n",
       "<table border=\"1\" class=\"dataframe\">\n",
       "  <thead>\n",
       "    <tr style=\"text-align: right;\">\n",
       "      <th></th>\n",
       "      <th>customer_ID</th>\n",
       "      <th>B_24</th>\n",
       "      <th>R_12</th>\n",
       "    </tr>\n",
       "  </thead>\n",
       "  <tbody>\n",
       "    <tr>\n",
       "      <th>186272</th>\n",
       "      <td>15440</td>\n",
       "      <td>0.007140</td>\n",
       "      <td>NaN</td>\n",
       "    </tr>\n",
       "    <tr>\n",
       "      <th>194624</th>\n",
       "      <td>16135</td>\n",
       "      <td>2.264658</td>\n",
       "      <td>NaN</td>\n",
       "    </tr>\n",
       "    <tr>\n",
       "      <th>256962</th>\n",
       "      <td>21307</td>\n",
       "      <td>0.000158</td>\n",
       "      <td>NaN</td>\n",
       "    </tr>\n",
       "  </tbody>\n",
       "</table>\n",
       "</div>"
      ],
      "text/plain": [
       "        customer_ID      B_24  R_12\n",
       "186272        15440  0.007140   NaN\n",
       "194624        16135  2.264658   NaN\n",
       "256962        21307  0.000158   NaN"
      ]
     },
     "execution_count": 28,
     "metadata": {},
     "output_type": "execute_result"
    }
   ],
   "source": [
    "test"
   ]
  },
  {
   "cell_type": "code",
   "execution_count": 29,
   "id": "87d97121-8863-49cd-b515-5da6b9766a43",
   "metadata": {},
   "outputs": [
    {
     "data": {
      "text/plain": [
       "((442506, 3), (110627, 3), (3, 3))"
      ]
     },
     "execution_count": 29,
     "metadata": {},
     "output_type": "execute_result"
    }
   ],
   "source": [
    "train.shape, val.shape, test.shape"
   ]
  },
  {
   "cell_type": "code",
   "execution_count": null,
   "id": "21c70ffd-ad4e-4381-bbb0-2d9525834030",
   "metadata": {},
   "outputs": [],
   "source": [
    "X_train = train.loc[:, potential_features]\n",
    "X_val = val.loc[:, potential_features]\n",
    "X_test = test.loc[:, potential_features]\n",
    "y_train = train[target_impute_column]\n",
    "y_val = val[target_impute_column]\n",
    "y_test = test[target_impute_column]"
   ]
  },
  {
   "cell_type": "code",
   "execution_count": null,
   "id": "a8703c52-175b-4c93-8c25-c64ec010148f",
   "metadata": {},
   "outputs": [],
   "source": [
    "%%time\n",
    "min_mse = np.inf\n",
    "for k in [3, 5, 9, 13]:\n",
    "    knn_model = KNeighborsRegressor(n_neighbors=5).fit(X_train, y_train)\n",
    "    y_val_pred = knn_model.predict(X_val)\n",
    "    mse = mean_squared_error(y_val, y_val_pred)\n",
    "    if mse < min_mse:\n",
    "        min_mse = mse\n",
    "        best_knn_model = knn_model\n",
    "        print(f\"K: {k}, Validation MSE: {min_mse:.6f}\")"
   ]
  },
  {
   "cell_type": "code",
   "execution_count": null,
   "id": "e0dc73c1-e9e3-4c02-803d-1175befa750c",
   "metadata": {},
   "outputs": [],
   "source": [
    "y_test"
   ]
  },
  {
   "cell_type": "code",
   "execution_count": null,
   "id": "3cadb294-da3a-4bdc-b253-2986552d8476",
   "metadata": {},
   "outputs": [],
   "source": [
    "df.loc[y_test.index, target_impute_column] = knn_model.predict(X_test)"
   ]
  },
  {
   "cell_type": "code",
   "execution_count": null,
   "id": "5b6df07a-d601-4cee-a342-8953ce0f3f4f",
   "metadata": {},
   "outputs": [],
   "source": [
    "df.loc[y_test.index, target_impute_column]"
   ]
  },
  {
   "cell_type": "code",
   "execution_count": null,
   "id": "1225254a-882a-4c30-babc-512652d99a47",
   "metadata": {},
   "outputs": [],
   "source": [
    "end"
   ]
  },
  {
   "cell_type": "markdown",
   "id": "718aed95-bd04-4d38-acd0-b52e7abe8cdf",
   "metadata": {},
   "source": [
    "### END"
   ]
  },
  {
   "cell_type": "code",
   "execution_count": 128,
   "id": "b6999aff-343a-4d89-9ae6-a98e28232e47",
   "metadata": {},
   "outputs": [],
   "source": [
    "df_lag0 = df.loc[df[\"row_number\"] == 1].reset_index(drop=True)"
   ]
  },
  {
   "cell_type": "code",
   "execution_count": 129,
   "id": "86a9dafa-6770-450b-a617-25f8a274760d",
   "metadata": {},
   "outputs": [],
   "source": [
    "del df"
   ]
  },
  {
   "cell_type": "code",
   "execution_count": 144,
   "id": "ca4ae7e9-b0b2-4dc7-94de-d850e5930e48",
   "metadata": {},
   "outputs": [],
   "source": [
    "labels_df = pd.read_csv(f\"{RAW_DATA_PATH}/train_labels.csv\")"
   ]
  },
  {
   "cell_type": "code",
   "execution_count": 145,
   "id": "8c713f62-57c4-4d2e-9a5e-1374d2fb1488",
   "metadata": {},
   "outputs": [],
   "source": [
    "# labels_df = labels_df.merge(id_mapping_df, \n",
    "#                             on=\"customer_ID\", \n",
    "#                             how=\"left\").drop(columns=\"customer_ID\").rename(columns={\"id\": \"customer_ID\"})"
   ]
  },
  {
   "cell_type": "code",
   "execution_count": 147,
   "id": "26c66483-81b9-4783-8975-d77e585e7f4c",
   "metadata": {},
   "outputs": [],
   "source": [
    "df_lag0 = df_lag0.merge(\n",
    "    labels_df, \n",
    "    on=\"customer_ID\", \n",
    "    how=\"left\"\n",
    ")"
   ]
  },
  {
   "cell_type": "code",
   "execution_count": 162,
   "id": "c17810ab-7a19-48ee-93f3-2c24e74c61d2",
   "metadata": {},
   "outputs": [],
   "source": [
    "df_lag0.loc[:, CATEGORY_COLUMNS] = df_lag0.loc[:, CATEGORY_COLUMNS].astype(\"category\")"
   ]
  },
  {
   "cell_type": "code",
   "execution_count": 163,
   "id": "2cafdaeb-a0f1-4df6-ac8a-cb6fdcb8f430",
   "metadata": {},
   "outputs": [],
   "source": [
    "train, val = train_test_split(df_lag0, test_size=0.15, random_state=923, stratify=df_lag0[\"target\"])"
   ]
  },
  {
   "cell_type": "code",
   "execution_count": 164,
   "id": "28941980-56f5-4b76-b7ec-a26e168a2df3",
   "metadata": {},
   "outputs": [
    {
     "data": {
      "text/plain": [
       "((390076, 192), (68837, 192))"
      ]
     },
     "execution_count": 164,
     "metadata": {},
     "output_type": "execute_result"
    }
   ],
   "source": [
    "train.shape, val.shape"
   ]
  },
  {
   "cell_type": "code",
   "execution_count": 165,
   "id": "e0159683-df3f-4434-aba8-aac34c0b62aa",
   "metadata": {},
   "outputs": [],
   "source": [
    "target = train[\"target\"].values"
   ]
  },
  {
   "cell_type": "code",
   "execution_count": 166,
   "id": "a09a428b-0f43-44a0-834d-c42542beea93",
   "metadata": {},
   "outputs": [],
   "source": [
    "features = train.columns[3: -1].tolist()"
   ]
  },
  {
   "cell_type": "code",
   "execution_count": 194,
   "id": "ca04142d-6323-4388-8e1b-1d2500f1e5fa",
   "metadata": {},
   "outputs": [],
   "source": [
    "def objective(trial):\n",
    "    kf = StratifiedKFold(n_splits=5)\n",
    "    params = {\n",
    "        \"objective\": \"binary\",\n",
    "        \"verbosity\": -1,\n",
    "        \"boosting_type\": \"gbdt\",\n",
    "        \"reg_alpha\": trial.suggest_float(\"reg_alpha\", 2, 10.0, log=True),\n",
    "        \"reg_lambda\": trial.suggest_float(\"reg_lambda\", 2, 10.0, log=True),\n",
    "        # \"learning_rate\": trial.suggest_float(\"learning_rate\", 0.03, 0.1, log=True),\n",
    "        \"n_estimators\": trial.suggest_int(\"n_estimators\", 125, 200),\n",
    "        \"colsample_bytree\": trial.suggest_float(\"colsample_bytree\", 0.35, 0.6),\n",
    "        \"subsample\": trial.suggest_float(\"subsample\", 0.65, 0.8),\n",
    "        \"subsample_freq\": trial.suggest_int(\"subsample_freq\", 2, 6),\n",
    "        \"min_child_samples\": trial.suggest_int(\"min_child_samples\", 125, 200),\n",
    "        \"scale_pos_weight\": trial.suggest_float(\"scale_pos_weight\", 1.5, 2.5),\n",
    "        \"max_bins\": trial.suggest_int(\"max_bins\", 100, 200),\n",
    "        \"max_depth\": trial.suggest_int(\"max_depth\", 10, 20),\n",
    "    }\n",
    "    \n",
    "    score_list = []\n",
    "    params[\"learning_rate\"] = 0.05\n",
    "    params[\"num_leaves\"] = int(2 ** (params[\"max_depth\"] - 2))\n",
    "    print(params)\n",
    "    for fold, (idx_tr, idx_va) in zip(range(1, 5+1), kf.split(train, target)):\n",
    "        X_train, X_val, y_train, y_val, model = None, None, None, None, None\n",
    "        X_train = train.iloc[idx_tr][features]\n",
    "        X_val = train.iloc[idx_va][features]\n",
    "        y_train = target[idx_tr]\n",
    "        y_val = target[idx_va]\n",
    "        model = LGBMClassifier(**params)\n",
    "        with warnings.catch_warnings():\n",
    "            warnings.filterwarnings('ignore', category=UserWarning)\n",
    "            model.fit(\n",
    "                X_train,\n",
    "                y_train,\n",
    "                eval_set=[(X_val, y_val)], \n",
    "                eval_metric=[lgb_amex_metric],\n",
    "                verbose=-1\n",
    "                # callbacks=[log_evaluation(params[\"n_estimators\"])]\n",
    "            )\n",
    "        y_train_pred = model.predict_proba(X_train, raw_score=True)\n",
    "        train_score = amex_metric(y_train, y_train_pred)\n",
    "        X_train, y_train = None, None\n",
    "        y_val_pred = model.predict_proba(X_val, raw_score=True)\n",
    "        val_score = amex_metric(y_val, y_val_pred)\n",
    "        print(f\"Fold {fold} | Train Score = {train_score:.5f}\")\n",
    "        print(f\"{Fore.GREEN}{Style.BRIGHT}Fold {fold} | Val   Score = {val_score:.5f}{Style.RESET_ALL}\")\n",
    "        score_list.append(val_score)\n",
    "\n",
    "    return np.mean(score_list)"
   ]
  },
  {
   "cell_type": "code",
   "execution_count": 195,
   "id": "0773d1b0-2b9a-4560-bbdd-5d91daf03d05",
   "metadata": {},
   "outputs": [],
   "source": [
    "# study = optuna.create_study(direction=\"maximize\")"
   ]
  },
  {
   "cell_type": "code",
   "execution_count": null,
   "id": "ed62daff-4234-4c3b-987a-cc460ea78434",
   "metadata": {},
   "outputs": [
    {
     "name": "stdout",
     "output_type": "stream",
     "text": [
      "{'objective': 'binary', 'verbosity': -1, 'boosting_type': 'gbdt', 'reg_alpha': 2.4681159545560205, 'reg_lambda': 5.190857174621658, 'n_estimators': 141, 'colsample_bytree': 0.35256475892197536, 'subsample': 0.6964515362934189, 'subsample_freq': 5, 'min_child_samples': 170, 'scale_pos_weight': 1.778914541643943, 'max_bins': 138, 'max_depth': 11, 'learning_rate': 0.05, 'num_leaves': 512}\n"
     ]
    }
   ],
   "source": [
    "study.optimize(objective, n_trials=50)"
   ]
  },
  {
   "cell_type": "code",
   "execution_count": 191,
   "id": "8a51c208-0a29-4cc0-8ecf-0cd57934f312",
   "metadata": {},
   "outputs": [],
   "source": [
    "trial_df = study.trials_dataframe()"
   ]
  },
  {
   "cell_type": "code",
   "execution_count": 192,
   "id": "d3e937d5-802d-44ac-b212-0439e73584c1",
   "metadata": {},
   "outputs": [
    {
     "data": {
      "image/png": "[encoded data removed]",
      "text/plain": [
       "<Figure size 1152x576 with 1 Axes>"
      ]
     },
     "metadata": {
      "needs_background": "light"
     },
     "output_type": "display_data"
    },
    {
     "data": {
      "image/png": "[encoded data removed]",
      "text/plain": [
       "<Figure size 1152x576 with 1 Axes>"
      ]
     },
     "metadata": {
      "needs_background": "light"
     },
     "output_type": "display_data"
    },
    {
     "data": {
      "image/png": "[encoded data removed]",
      "text/plain": [
       "<Figure size 1152x576 with 1 Axes>"
      ]
     },
     "metadata": {
      "needs_background": "light"
     },
     "output_type": "display_data"
    },
    {
     "data": {
      "image/png": "[encoded data removed]",
      "text/plain": [
       "<Figure size 1152x576 with 1 Axes>"
      ]
     },
     "metadata": {
      "needs_background": "light"
     },
     "output_type": "display_data"
    },
    {
     "data": {
      "image/png": "[encoded data removed]",
      "text/plain": [
       "<Figure size 1152x576 with 1 Axes>"
      ]
     },
     "metadata": {
      "needs_background": "light"
     },
     "output_type": "display_data"
    },
    {
     "data": {
      "image/png": "[encoded data removed]",
      "text/plain": [
       "<Figure size 1152x576 with 1 Axes>"
      ]
     },
     "metadata": {
      "needs_background": "light"
     },
     "output_type": "display_data"
    },
    {
     "data": {
      "image/png": "[encoded data removed]",
      "text/plain": [
       "<Figure size 1152x576 with 1 Axes>"
      ]
     },
     "metadata": {
      "needs_background": "light"
     },
     "output_type": "display_data"
    },
    {
     "data": {
      "image/png": "[encoded data removed]",
      "text/plain": [
       "<Figure size 1152x576 with 1 Axes>"
      ]
     },
     "metadata": {
      "needs_background": "light"
     },
     "output_type": "display_data"
    },
    {
     "data": {
      "image/png": "[encoded data removed]",
      "text/plain": [
       "<Figure size 1152x576 with 1 Axes>"
      ]
     },
     "metadata": {
      "needs_background": "light"
     },
     "output_type": "display_data"
    },
    {
     "data": {
      "image/png": "[encoded data removed]",
      "text/plain": [
       "<Figure size 1152x576 with 1 Axes>"
      ]
     },
     "metadata": {
      "needs_background": "light"
     },
     "output_type": "display_data"
    }
   ],
   "source": [
    "for col in trial_df.columns[5:-1]:\n",
    "    plt.figure(figsize=(16, 8))\n",
    "    sns.scatterplot(data=trial_df.dropna(), x=col, y=\"value\")\n",
    "    plt.title(f\"{col}\")\n",
    "    plt.show()"
   ]
  },
  {
   "cell_type": "code",
   "execution_count": null,
   "id": "3e5ec93e-c8af-4262-9457-25b8f9b30557",
   "metadata": {},
   "outputs": [],
   "source": []
  },
  {
   "cell_type": "markdown",
   "id": "e6d8e03d-e2b0-4b33-b15d-3353a244c438",
   "metadata": {},
   "source": [
    "### Copy from Kaggle"
   ]
  },
  {
   "cell_type": "code",
   "execution_count": null,
   "id": "d77739fc-dee3-4677-ae94-6dd8d25608ff",
   "metadata": {},
   "outputs": [],
   "source": []
  },
  {
   "cell_type": "code",
   "execution_count": null,
   "id": "96798724-2290-45e7-a903-fc9b84f3e4e9",
   "metadata": {},
   "outputs": [],
   "source": [
    "mean_features = [f\"{col}_mean\" for col in MEAN_FEATURES]\n",
    "mean_features[:3]"
   ]
  },
  {
   "cell_type": "code",
   "execution_count": null,
   "id": "18451ff7-5c38-4cac-87a5-934e797ef769",
   "metadata": {},
   "outputs": [],
   "source": [
    "min_features = [f\"{col}_min\" for col in MIN_FEATURES]\n",
    "min_features[:3]"
   ]
  },
  {
   "cell_type": "code",
   "execution_count": null,
   "id": "e361898d-6302-4ea1-b81e-a33acee5bd0c",
   "metadata": {},
   "outputs": [],
   "source": [
    "max_features = [f\"{col}_max\" for col in MAX_FEATURES]\n",
    "max_features[:3]"
   ]
  },
  {
   "cell_type": "code",
   "execution_count": null,
   "id": "6049a797-3d2c-41e5-b334-0be5c67f26c5",
   "metadata": {},
   "outputs": [],
   "source": [
    "last_features = [f\"{col}_last\" for col in LAST_FEATURES]\n",
    "last_features[:3]"
   ]
  },
  {
   "cell_type": "code",
   "execution_count": null,
   "id": "0fd6a65c-ef04-481c-be34-cf2e2c1892d3",
   "metadata": {},
   "outputs": [],
   "source": [
    "ma_features = [col for col in train_data.columns if col.endswith(\"_ma\")]\n",
    "ma_features[:3]"
   ]
  },
  {
   "cell_type": "code",
   "execution_count": null,
   "id": "3254eb35-afdc-4c9b-a9c0-82154acbbd9a",
   "metadata": {},
   "outputs": [],
   "source": [
    "target = train_data[\"target\"].values.astype(int)"
   ]
  },
  {
   "cell_type": "code",
   "execution_count": null,
   "id": "6c56c37c-2dbf-4696-a6d3-0869caef81b0",
   "metadata": {},
   "outputs": [],
   "source": [
    "%%time\n",
    "# Cross-validation of the classifier\n",
    "ONLY_FIRST_FOLD = False\n",
    "features = min_features + max_features + last_features + ma_features # mean_features + \n",
    "excluded_columns = ['B_30_mean', 'B_38_mean', 'D_114_mean', 'D_117_mean', 'D_120_mean', 'D_126_mean', \n",
    "                    'B_30_max', 'B_38_max', 'D_63_max', 'D_64_max', 'D_116_max', 'D_117_max', 'D_126_max',\n",
    "                    'D_68_last', 'D_117_last']\n",
    "features = [f for f in features if f not in excluded_columns]\n",
    "print(f\"{len(features)} features\")"
   ]
  },
  {
   "cell_type": "code",
   "execution_count": null,
   "id": "e18be2ee-9a04-4e89-af57-32979b8cd77e",
   "metadata": {},
   "outputs": [],
   "source": [
    "def my_booster(random_state=1, n_estimators=1400):\n",
    "    return LGBMClassifier(n_estimators=n_estimators,\n",
    "                          learning_rate=0.03, \n",
    "                          reg_alpha=10, \n",
    "                          reg_lambda=40,\n",
    "                          min_child_samples=2200,\n",
    "                          num_leaves=100,\n",
    "                          colsample_bytree=0.18,\n",
    "                          subsample=0.85,\n",
    "                          max_bins=500, \n",
    "                          scale_pos_weight=2.5,\n",
    "                          random_state=1)"
   ]
  },
  {
   "cell_type": "code",
   "execution_count": null,
   "id": "f3e940ac-9217-4177-bdd7-0c400f1dcadf",
   "metadata": {},
   "outputs": [],
   "source": [
    "# train[[\"D_63_last\", \"D_64_last\"]] = train[[\"D_63_last\", \"D_64_last\"]].astype(\"category\")"
   ]
  },
  {
   "cell_type": "code",
   "execution_count": null,
   "id": "1c64eae5-d3fd-4958-8d38-6598d16742c9",
   "metadata": {},
   "outputs": [],
   "source": [
    "# train = train_data.copy()\n",
    "# del train_data"
   ]
  },
  {
   "cell_type": "code",
   "execution_count": null,
   "id": "5f4210ae-b94c-47bf-a76e-3744c4f8171a",
   "metadata": {},
   "outputs": [],
   "source": [
    "n_est_list = [2200, 1500, 2000, 1000, 1600, 1800, 1800, 1200, 1400, 1000]"
   ]
  },
  {
   "cell_type": "code",
   "execution_count": null,
   "id": "bed2de5f-ca9d-4b2b-99ed-4c33c5a33a87",
   "metadata": {},
   "outputs": [],
   "source": [
    "%%time\n",
    "model_list, score_list, y_pred_list, held_out_index_list = [], [], [], []\n",
    "model_dict = {}\n",
    "X_val_dict = {}\n",
    "y_val_dict = {}\n",
    "y_score_dict = {}\n",
    "kf = StratifiedKFold(n_splits=10)\n",
    "for fold, (idx_tr, idx_va), n_est in zip(range(1, 10+1), kf.split(train, target), n_est_list):\n",
    "    model_dict[fold] = joblib.load(f\"{MODELS_PATH}/lgbm_models/model_{fold}.pkl\")\n",
    "    X_val_dict[fold] = train.iloc[idx_va][features]\n",
    "    y_val_dict[fold] = target[idx_va]\n",
    "    y_score_dict[fold] = model_dict[fold].predict_proba(X_val_dict[fold], raw_score=True)"
   ]
  },
  {
   "cell_type": "code",
   "execution_count": null,
   "id": "647e2ea6-c065-4730-bb16-daf6cb6c3a7d",
   "metadata": {},
   "outputs": [],
   "source": [
    "for i in range(1, 11):\n",
    "    print(i)\n",
    "    raw_score_ = y_score_dict[i]\n",
    "    target_ = y_val_dict[i]\n",
    "    main_metric, gini, top4 = amex_metric_np(raw_score_, target_)\n",
    "    print(f\"Main metric: {main_metric:.3f}, Gini: {gini:.3f}, Top4: {top4:.3f}\")\n",
    "    prob_score_ = sigmoid(raw_score_)\n",
    "    print(f\"ROC AUC: {roc_auc_score(target_, prob_score_):.3f}\")\n",
    "    print(f\"Average Precision: {average_precision_score(target_, prob_score_):.3f}\")"
   ]
  },
  {
   "cell_type": "code",
   "execution_count": null,
   "id": "a65d26a2-8821-47e9-a926-133148712b00",
   "metadata": {},
   "outputs": [],
   "source": [
    "full_train = pd.concat(list(X_val_dict.values()))\n",
    "full_train.shape"
   ]
  },
  {
   "cell_type": "code",
   "execution_count": null,
   "id": "d5795c76-f1ae-420d-b1ac-26c7ae102239",
   "metadata": {},
   "outputs": [],
   "source": [
    "full_train_gt = np.concatenate(list(y_val_dict.values()))\n",
    "len(full_train_gt)"
   ]
  },
  {
   "cell_type": "code",
   "execution_count": null,
   "id": "2ac46e0f-76dd-4d0f-97e8-9e4cd47a21d7",
   "metadata": {},
   "outputs": [],
   "source": [
    "full_train_scores = np.concatenate(list(y_score_dict.values()))\n",
    "len(full_train_scores)"
   ]
  },
  {
   "cell_type": "code",
   "execution_count": null,
   "id": "422d6f6d-4b0b-4e6e-87f0-d866d7b2d4ae",
   "metadata": {},
   "outputs": [],
   "source": [
    "full_train.loc[:, \"target\"] = full_train_gt\n",
    "full_train.loc[:, \"score\"] = full_train_scores"
   ]
  },
  {
   "cell_type": "code",
   "execution_count": null,
   "id": "2455b863-d5d7-45a4-b856-f44112861f04",
   "metadata": {},
   "outputs": [],
   "source": [
    "def sigmoid(log_odds):\n",
    "    return 1 / (1 + np.exp(-log_odds))"
   ]
  },
  {
   "cell_type": "code",
   "execution_count": null,
   "id": "9565d936-aa8a-42f3-8a79-e1e81fd28b16",
   "metadata": {},
   "outputs": [],
   "source": [
    "full_train[\"prob_score\"] = sigmoid(full_train[\"score\"])"
   ]
  },
  {
   "cell_type": "code",
   "execution_count": null,
   "id": "31c7820b-63d3-4463-8ac1-1d239f0e0af4",
   "metadata": {},
   "outputs": [],
   "source": [
    "roc_auc_score(full_train[\"target\"], full_train[\"prob_score\"])"
   ]
  },
  {
   "cell_type": "code",
   "execution_count": null,
   "id": "48ba496c-cf37-4206-8308-1ba3ad7d1451",
   "metadata": {},
   "outputs": [],
   "source": [
    "# full_train.to_csv(f\"{EVALUATION_DATA_PATH}/train_single_raw_score.csv\", index=False)"
   ]
  },
  {
   "cell_type": "code",
   "execution_count": null,
   "id": "16a9e1ac-e175-4d24-ba1d-323864dbd075",
   "metadata": {},
   "outputs": [],
   "source": [
    "full_train = full_train.sort_values('score', ascending=False)"
   ]
  },
  {
   "cell_type": "code",
   "execution_count": null,
   "id": "a3007342-c0e6-4288-8f32-ce770f2cfe4e",
   "metadata": {},
   "outputs": [],
   "source": [
    "full_train['weight'] = full_train['target'].apply(lambda x: 20 if x==0 else 1)"
   ]
  },
  {
   "cell_type": "code",
   "execution_count": null,
   "id": "c838a78f-5074-49ce-ae7b-5a66cae67b43",
   "metadata": {},
   "outputs": [],
   "source": [
    "four_pct_cutoff = int(0.04 * full_train['weight'].sum())\n",
    "full_train['weight_cumsum'] = full_train['weight'].cumsum()\n",
    "full_train[\"is_cutoff\"] = 0\n",
    "full_train.loc[full_train['weight_cumsum'] <= four_pct_cutoff, \"is_cutoff\"] = 1"
   ]
  },
  {
   "cell_type": "code",
   "execution_count": null,
   "id": "adc6bb51-6948-48ac-a0a2-ad1839c9ef2c",
   "metadata": {},
   "outputs": [],
   "source": [
    "top_four_pct_df = full_train.loc[full_train[\"is_cutoff\"] == 1]"
   ]
  },
  {
   "cell_type": "code",
   "execution_count": null,
   "id": "88e22769-b329-4657-872d-2d4359526203",
   "metadata": {},
   "outputs": [],
   "source": [
    "full_train.shape, top_four_pct_df.shape"
   ]
  },
  {
   "cell_type": "code",
   "execution_count": null,
   "id": "65132c65-ddd3-4cb6-83ca-99422f726514",
   "metadata": {},
   "outputs": [],
   "source": [
    "top_four_pct_df[\"target\"].mean()"
   ]
  },
  {
   "cell_type": "code",
   "execution_count": null,
   "id": "b3b7efb2-bb8e-4eac-9b94-0fa6f6915d85",
   "metadata": {},
   "outputs": [],
   "source": [
    "full_train.describe().iloc[:, :-5].reset_index().to_csv(f\"{EVALUATION_DATA_PATH}/train_description.csv\", index=False)"
   ]
  },
  {
   "cell_type": "code",
   "execution_count": null,
   "id": "45a34001-bfef-466c-bd57-313ed0671884",
   "metadata": {},
   "outputs": [],
   "source": [
    "all_neg = full_train.loc[full_train[\"target\"] == 0]\n",
    "all_pos = full_train.loc[full_train[\"target\"] == 1]"
   ]
  },
  {
   "cell_type": "code",
   "execution_count": null,
   "id": "76b70f9d-a9da-4914-a83d-ad0758af218c",
   "metadata": {},
   "outputs": [],
   "source": [
    "wrong_top = top_four_pct_df.loc[top_four_pct_df[\"target\"] == 0]\n",
    "correct_top = top_four_pct_df.loc[top_four_pct_df[\"target\"] == 1]"
   ]
  },
  {
   "cell_type": "code",
   "execution_count": null,
   "id": "cfa1050c-2104-4657-ae0b-11e689415b46",
   "metadata": {},
   "outputs": [],
   "source": [
    "wrong_top.shape, correct_top.shape"
   ]
  },
  {
   "cell_type": "code",
   "execution_count": null,
   "id": "11291926-c535-484d-83a3-e67e84a7532d",
   "metadata": {},
   "outputs": [],
   "source": [
    "col = \"B_2_min\"\n",
    "plt.figure(figsize=(14, 8))\n",
    "sns.distplot(wrong_top[col], kde=True, hist=False, label=\"Wrong\")\n",
    "sns.distplot(correct_top[col], kde=True, hist=False, label=\"Right\")\n",
    "plt.legend()\n",
    "plt.show()"
   ]
  },
  {
   "cell_type": "code",
   "execution_count": null,
   "id": "8d9b89f5-9988-444c-bef0-89420b54fa9f",
   "metadata": {},
   "outputs": [],
   "source": [
    "wrong_top[\"B_2_min\"].min(), correct_top[\"B_2_min\"].min()"
   ]
  },
  {
   "cell_type": "code",
   "execution_count": null,
   "id": "e1895aaf-0725-488c-8bd2-5a2c6bb5b771",
   "metadata": {},
   "outputs": [],
   "source": [
    "rule_list = []\n",
    "for col in wrong_top.columns:\n",
    "    try:\n",
    "        pos_minimum = all_pos[col].min()\n",
    "        temp = wrong_top.loc[wrong_top[col] < pos_minimum]\n",
    "        if temp.shape[0] > 0:\n",
    "            # print(col, f\"Minimum bound for positive class {pos_minimum}\")\n",
    "            rule_list.append((col, \"Minimun\", pos_minimum))\n",
    "        pos_maximum = all_pos[col].max()\n",
    "        temp = wrong_top.loc[wrong_top[col] > pos_maximum]\n",
    "        if temp.shape[0] > 0:\n",
    "            # print(col, f\"Maximum bound for positive class {pos_maximum}\")\n",
    "            rule_list.append((col, \"Maximum\", pos_maximum))\n",
    "    except:\n",
    "        continue"
   ]
  },
  {
   "cell_type": "code",
   "execution_count": null,
   "id": "76cb0d15-ad91-4eb5-aa67-467001e23239",
   "metadata": {},
   "outputs": [],
   "source": [
    "rule_df = pd.DataFrame(rule_list, columns=[\"feature\", \"type\", \"value\"])"
   ]
  },
  {
   "cell_type": "code",
   "execution_count": null,
   "id": "23fe7553-42f5-46a6-8eb4-d8c37569db48",
   "metadata": {},
   "outputs": [],
   "source": [
    "# rule_df.to_csv(f\"{EVALUATION_DATA_PATH}/rule_df.csv\", index=False)"
   ]
  },
  {
   "cell_type": "code",
   "execution_count": null,
   "id": "f88475d5-3da3-45f2-9a69-8261c183ab45",
   "metadata": {},
   "outputs": [],
   "source": [
    "correct_top.describe()"
   ]
  },
  {
   "cell_type": "code",
   "execution_count": null,
   "id": "94415365-917f-4199-beea-1636b39f3610",
   "metadata": {},
   "outputs": [],
   "source": [
    "full_train"
   ]
  },
  {
   "cell_type": "code",
   "execution_count": null,
   "id": "4f1d445b-92a9-4a91-8794-ba78b8930772",
   "metadata": {},
   "outputs": [],
   "source": [
    "X = top_four_pct_df.iloc[:, :-5].select_dtypes(\"float\").reset_index(drop=True)\n",
    "y = top_four_pct_df[\"target\"].reset_index(drop=True)"
   ]
  },
  {
   "cell_type": "code",
   "execution_count": null,
   "id": "9ed4626e-3774-4e21-998c-25a63eb2ef71",
   "metadata": {},
   "outputs": [],
   "source": [
    "# for col in X.columns:\n",
    "#     if X[col].isnull().sum() > 0:\n",
    "#         X[col] = X[col].fillna(X[col].mean())\n",
    "#         print(col, X[col].mean())"
   ]
  },
  {
   "cell_type": "code",
   "execution_count": null,
   "id": "9d120a30-e09b-44e1-b9de-fe7ec4079584",
   "metadata": {},
   "outputs": [],
   "source": [
    "y_val_pred"
   ]
  },
  {
   "cell_type": "code",
   "execution_count": null,
   "id": "a75c66ee-32b5-46f9-b154-e0fb3fe3b377",
   "metadata": {},
   "outputs": [],
   "source": [
    "%%time\n",
    "model_list, score_list, y_pred_list, held_out_index_list = [], [], [], []\n",
    "kf = StratifiedKFold(n_splits=10)\n",
    "for fold, (idx_tr, idx_va) in zip(range(1, 10+1), kf.split(X, y)):\n",
    "    X_train, X_val, y_train, y_val, model = None, None, None, None, None\n",
    "    start_time = datetime.datetime.now()\n",
    "    X_train = X.iloc[idx_tr]\n",
    "    X_val = X.iloc[idx_va]\n",
    "    y_train = y[idx_tr]\n",
    "    y_val = y[idx_va]\n",
    "    \n",
    "    model = LogisticRegression(random_state=1020)\n",
    "    with warnings.catch_warnings():\n",
    "        warnings.filterwarnings('ignore', category=UserWarning)\n",
    "        model.fit(X_train, \n",
    "                  y_train)\n",
    "    \n",
    "    X_train, y_train = None, None\n",
    "    y_val_pred = model.predict_proba(X_val)[:, 1]\n",
    "    # print(precision_score(y_val, sigmoid(y_val_pred)))\n",
    "    score = amex_metric(np.array(y_val), y_val_pred)\n",
    "    print(f\"{Fore.GREEN}{Style.BRIGHT}Fold {fold} | {str(datetime.datetime.now() - start_time)[-12:-7]} |\"\n",
    "          f\"                Score = {score:.5f}{Style.RESET_ALL}\")\n",
    "    score_list.append(score)\n",
    "    model_list.append(model)\n",
    "    held_out_index_list.append(idx_va)\n",
    "    \n",
    "print(f\"{Fore.GREEN}{Style.BRIGHT}OOF Score:                       {np.mean(score_list):.5f}{Style.RESET_ALL}\")"
   ]
  },
  {
   "cell_type": "code",
   "execution_count": null,
   "id": "595c184d-3cc7-47b8-b7bb-cfbf853a6cd3",
   "metadata": {},
   "outputs": [],
   "source": [
    "%%time\n",
    "model_list, score_list, y_pred_list, held_out_index_list = [], [], [], []\n",
    "kf = StratifiedKFold(n_splits=10)\n",
    "for fold, (idx_tr, idx_va), n_est in zip(range(1, 10+1), kf.split(train, target), n_est_list):\n",
    "    X_train, X_val, y_train, y_val, model = None, None, None, None, None\n",
    "    start_time = datetime.datetime.now()\n",
    "    X_train = train.iloc[idx_tr][features]\n",
    "    X_val = train.iloc[idx_va][features]\n",
    "    y_train = target[idx_tr]\n",
    "    y_val = target[idx_va]\n",
    "    \n",
    "    model = my_booster(n_estimators=n_est)\n",
    "    with warnings.catch_warnings():\n",
    "        warnings.filterwarnings('ignore', category=UserWarning)\n",
    "        model.fit(X_train, \n",
    "                  y_train,\n",
    "                  eval_set=[(X_val, y_val)], \n",
    "                  eval_metric=[lgb_amex_metric],\n",
    "                  callbacks=[log_evaluation(200)])\n",
    "    X_train, y_train = None, None\n",
    "    y_val_pred = model.predict_proba(X_val, raw_score=True)\n",
    "    score = amex_metric(y_val, y_val_pred)\n",
    "    n_trees = model.best_iteration_\n",
    "    if n_trees is None: \n",
    "        n_trees = model.n_estimators\n",
    "    print(f\"{Fore.GREEN}{Style.BRIGHT}Fold {fold} | {str(datetime.datetime.now() - start_time)[-12:-7]} |\"\n",
    "          f\" {n_trees:5} trees |\"\n",
    "          f\"                Score = {score:.5f}{Style.RESET_ALL}\")\n",
    "    score_list.append(score)\n",
    "    model_list.append(model)\n",
    "    held_out_index_list.append(idx_va)\n",
    "    # if INFERENCE:\n",
    "    #     y_pred_list.append(model.predict_proba(test[features], raw_score=True))\n",
    "        \n",
    "    # if ONLY_FIRST_FOLD:\n",
    "    #     break # we only want the first fold\n",
    "    \n",
    "print(f\"{Fore.GREEN}{Style.BRIGHT}OOF Score:                       {np.mean(score_list):.5f}{Style.RESET_ALL}\")"
   ]
  },
  {
   "cell_type": "code",
   "execution_count": null,
   "id": "8d33e83b-d336-4355-bbea-8fc3e3835fe2",
   "metadata": {},
   "outputs": [],
   "source": [
    "for idx, model in enumerate(model_list):\n",
    "    joblib.dump(model, f'../models/lgbm_models/model_{idx+1}.pkl')"
   ]
  },
  {
   "cell_type": "markdown",
   "id": "6fc921e1-b9ac-4391-8ee5-b75587bbbe6b",
   "metadata": {},
   "source": [
    "### Train Val Split"
   ]
  },
  {
   "cell_type": "code",
   "execution_count": null,
   "id": "9695a902-a0b2-4365-ba90-3fa70ed69844",
   "metadata": {},
   "outputs": [],
   "source": [
    "train, val = train_test_split(train_data, test_size=0.175, random_state=923, stratify=train_data[\"target\"])"
   ]
  },
  {
   "cell_type": "code",
   "execution_count": null,
   "id": "33c79210-4f9a-4500-9ba2-2a61850acd3f",
   "metadata": {},
   "outputs": [],
   "source": [
    "train[\"target\"].mean(), val[\"target\"].mean()"
   ]
  },
  {
   "cell_type": "code",
   "execution_count": null,
   "id": "e8b3d1e4-211b-45f8-b0ef-0af54bc1b6ae",
   "metadata": {},
   "outputs": [],
   "source": [
    "special_columns = ['customer_ID', 'S_2', 'target', \"Date\", \"min_date\", \"max_date\", \"num_records\", \"days\", \"record_per_day\"]"
   ]
  },
  {
   "cell_type": "code",
   "execution_count": null,
   "id": "b8843d38-b099-4dcc-9ca6-7b009c2df109",
   "metadata": {},
   "outputs": [],
   "source": [
    "all_cols = [c for c in train.columns if c not in special_columns]\n",
    "cat_features = train.select_dtypes(\"category\").columns.tolist()\n",
    "num_features = [col for col in all_cols if col not in cat_features]"
   ]
  },
  {
   "cell_type": "code",
   "execution_count": null,
   "id": "b87420d8-41e4-437e-94b3-90902e3d1010",
   "metadata": {},
   "outputs": [],
   "source": [
    "len(all_cols), len(cat_features), len(num_features)"
   ]
  },
  {
   "cell_type": "code",
   "execution_count": null,
   "id": "1229dc40-14a1-4584-81e4-65505aef8ba8",
   "metadata": {},
   "outputs": [],
   "source": [
    "cluster_columns = get_cols(train, \"_cluster\")\n",
    "nunique_columns = get_cols(train, \"_nunique\")\n",
    "non_D66_count_columns = [col for col in get_cols(train, \"_count\") if \"D_66\" not in col]"
   ]
  },
  {
   "cell_type": "code",
   "execution_count": null,
   "id": "56fe1254-1210-4efb-b157-1e46ee6161ec",
   "metadata": {},
   "outputs": [],
   "source": [
    "selected_features = list(set(all_cols) - set(cluster_columns) - set(nunique_columns) - set(non_D66_count_columns))"
   ]
  },
  {
   "cell_type": "code",
   "execution_count": null,
   "id": "ff6ebc37-99da-425e-b8da-bf6240df5ae4",
   "metadata": {},
   "outputs": [],
   "source": [
    "len(all_cols), len(selected_features)"
   ]
  },
  {
   "cell_type": "code",
   "execution_count": null,
   "id": "0eaf02d5-b112-401a-9346-908cb0e61369",
   "metadata": {},
   "outputs": [],
   "source": [
    "X_train = train.loc[:, selected_features]\n",
    "X_val = val.loc[:, selected_features]"
   ]
  },
  {
   "cell_type": "code",
   "execution_count": null,
   "id": "3b147ed3-595d-49c9-b6a2-87773d961f92",
   "metadata": {},
   "outputs": [],
   "source": [
    "y_train = train[\"target\"]\n",
    "y_val = val[\"target\"]"
   ]
  },
  {
   "cell_type": "code",
   "execution_count": null,
   "id": "110516c6-e21d-4384-b0ef-11d254a7fafd",
   "metadata": {},
   "outputs": [],
   "source": [
    "def _amex_metric(dy_true, dy_pred):\n",
    "    \"\"\"An eval metric that always returns the same value\"\"\"\n",
    "    metric_name = 'Amex Metric'\n",
    "    value = amex_metric_np(dy_pred, dy_true)\n",
    "    is_higher_better = True\n",
    "    return metric_name, value, is_higher_better"
   ]
  },
  {
   "cell_type": "code",
   "execution_count": null,
   "id": "a2914342-c0c6-47f5-aa00-274cda16442a",
   "metadata": {},
   "outputs": [],
   "source": [
    "fit_params = {\"early_stopping_rounds\" : 200, \n",
    "              # \"eval_metric\" : 'auc', \n",
    "              \"eval_set\" : [(X_val, y_val)],\n",
    "              'eval_names': ['valid'],\n",
    "              'verbose': 1,\n",
    "              'categorical_feature': 'auto'}"
   ]
  },
  {
   "cell_type": "code",
   "execution_count": null,
   "id": "6f90c1c1-902f-40c2-a469-ac85f04a3bfb",
   "metadata": {},
   "outputs": [],
   "source": [
    "param_test = {'learning_rate' : [0.01, 0.03, 0.05, 0.07, 0.08, 0.1, 0.12],\n",
    "              'n_estimators' : [100, 200, 300, 400, 500, 600, 800, 1000, 1500, 2000],\n",
    "              'num_leaves': sp_randint(10, 150), \n",
    "              'min_child_samples': sp_randint(25, 300), \n",
    "              'min_child_weight': [1e-3, 3e-3, 1e-2, 3e-2, 1e-1, 3e-1, 1],\n",
    "              'min_split_gain': [0.001, 0.003, 0.01, 0.025, 0.05, 0.1],\n",
    "              'subsample': sp_uniform(loc=0.4, scale=0.6), \n",
    "              # 'subsample_freq': [5, 10, 15],\n",
    "              'max_depth': [-1, 3, 5, 7, 9, 11, 13, 15],\n",
    "              'colsample_bytree': sp_uniform(loc=0.4, scale=0.6),\n",
    "              'reg_alpha': [0, 1e-1, 3e-1, 1, 3, 6, 10, 20, 50],\n",
    "              'reg_lambda': [0, 1e-1, 3e-1, 1, 3, 6, 10, 20, 50],\n",
    "              'scale_pos_weight': [0, 1, 2, 3, 4],\n",
    "              'xgboost_dart_mode': [True, False]\n",
    "              }\n",
    "\n",
    "# Number of combinations\n",
    "n_iter = 50 "
   ]
  },
  {
   "cell_type": "code",
   "execution_count": null,
   "id": "3dac40d9-8a91-4f72-83b5-2caa1128d8d2",
   "metadata": {},
   "outputs": [],
   "source": [
    "# Intializing lgbm and lunching the search\n",
    "lgbm_clf = LGBMClassifier(random_state=1020, \n",
    "                          objective=\"binary\", \n",
    "                          boosting_type='dart', \n",
    "                          n_jobs=-1) # silent=True, "
   ]
  },
  {
   "cell_type": "code",
   "execution_count": null,
   "id": "74eb1840-ef01-4416-9737-7707e32fafe3",
   "metadata": {},
   "outputs": [],
   "source": [
    "grid_search = RandomizedSearchCV(\n",
    "    estimator=lgbm_clf, \n",
    "    param_distributions=param_test, \n",
    "    n_iter=n_iter,\n",
    "    scoring=_amex_metric,\n",
    "    cv=5,\n",
    "    refit=True,\n",
    "    random_state=923,\n",
    "    verbose=True)"
   ]
  },
  {
   "cell_type": "code",
   "execution_count": null,
   "id": "62c8400e-efea-445d-adde-52149b24c7dc",
   "metadata": {},
   "outputs": [],
   "source": [
    "grid_search.fit(X_train, y_train, **fit_params)\n",
    "opt_parameters = grid_search.best_params_"
   ]
  },
  {
   "cell_type": "code",
   "execution_count": null,
   "id": "b544e638-39f3-40b2-b7c8-621d82dc6555",
   "metadata": {},
   "outputs": [],
   "source": [
    "best_params = {\n",
    "    'boosting_type': 'gbdt',\n",
    "    'colsample_bytree': 0.8,\n",
    "    'importance_type': 'split',\n",
    "    'learning_rate': 0.07,\n",
    "    'max_depth': 12,\n",
    "    'min_child_samples': 30,\n",
    "    'min_child_weight': 0.003,\n",
    "    'min_split_gain': 0.02,\n",
    "    'n_estimators': 110,\n",
    "    'n_jobs': -1,\n",
    "    'num_leaves': 80,\n",
    "    'objective': \"binary\",\n",
    "    'random_state': 923,\n",
    "    'reg_alpha': 1,\n",
    "    'reg_lambda': 4,\n",
    "    'silent': True,\n",
    "    'subsample': 0.85,\n",
    "    'subsample_for_bin': 100000,\n",
    "    'subsample_freq': 5,\n",
    "    'scale_pos_weight': 4\n",
    "}"
   ]
  },
  {
   "cell_type": "code",
   "execution_count": null,
   "id": "78dcbade-cfb2-4d93-a398-2d656c79824c",
   "metadata": {},
   "outputs": [],
   "source": [
    "lgbm_clf = LGBMClassifier(**best_params)"
   ]
  },
  {
   "cell_type": "code",
   "execution_count": null,
   "id": "e1e54e02-6856-4d45-a0f0-7229a5576e91",
   "metadata": {},
   "outputs": [],
   "source": [
    "lgbm_clf.fit(X_train, y_train)"
   ]
  },
  {
   "cell_type": "code",
   "execution_count": null,
   "id": "6849a5e0-f40a-44a5-9dd5-5c2ded2cab65",
   "metadata": {},
   "outputs": [],
   "source": [
    "y_train_pred = lgbm_clf.predict_proba(X_train)[:, 1]\n",
    "y_val_pred = lgbm_clf.predict_proba(X_val)[:, 1]"
   ]
  },
  {
   "cell_type": "code",
   "execution_count": null,
   "id": "c847011f-c194-43f6-909e-4abce0f43fbf",
   "metadata": {},
   "outputs": [],
   "source": [
    "plot_roc_curves([y_train, y_val], \n",
    "                [y_train_pred, y_val_pred], \n",
    "                labels=[\"Train\", \"Validation\"], \n",
    "                title=\"Train Validation ROC AUC\")"
   ]
  },
  {
   "cell_type": "code",
   "execution_count": null,
   "id": "2264f284-6c04-44de-90d3-5f9f7e1273e8",
   "metadata": {},
   "outputs": [],
   "source": [
    "imp_df = plot_feature_importance(lgbm_clf.feature_name_, \n",
    "                                 lgbm_clf.feature_importances_, \n",
    "                                 title=\"Feature Importance\",\n",
    "                                 limit=50)"
   ]
  },
  {
   "cell_type": "code",
   "execution_count": null,
   "id": "f8b4f8a8-649a-4bd7-a04a-432f98af21ff",
   "metadata": {},
   "outputs": [],
   "source": [
    "result = pd.DataFrame()\n",
    "for keyword in [\"_mean\", \"std\", \"min\", \"max\", \"first\", \"last\", \"count\"]:\n",
    "    temp = imp_df.loc[imp_df[\"feature\"].str.contains(keyword)].describe().rename(columns={\"feature_importance\": keyword})\n",
    "    result = pd.concat([result, temp], axis=1)"
   ]
  },
  {
   "cell_type": "code",
   "execution_count": null,
   "id": "ea7be8df-5fe4-431a-ac45-ad5237885bef",
   "metadata": {},
   "outputs": [],
   "source": [
    "result"
   ]
  },
  {
   "cell_type": "code",
   "execution_count": null,
   "id": "91c1a37b-583c-404d-93b9-3528d4ae68f7",
   "metadata": {},
   "outputs": [],
   "source": [
    "cluster_feature_imp_df = imp_df.loc[imp_df[\"feature\"].str.contains(\"count\")]"
   ]
  },
  {
   "cell_type": "code",
   "execution_count": null,
   "id": "8cc93d82-481d-47df-9c4c-5ead8956a622",
   "metadata": {},
   "outputs": [],
   "source": [
    "cluster_result = pd.DataFrame()\n",
    "for keyword in [\"B_\", \"S_\", \"R_\", \"P_\", \"D_\"]:\n",
    "    temp = cluster_feature_imp_df.loc[cluster_feature_imp_df[\"feature\"].str.contains(keyword)].describe().rename(columns={\n",
    "        \"feature_importance\": keyword\n",
    "    })\n",
    "    cluster_result = pd.concat([cluster_result, temp], axis=1)"
   ]
  },
  {
   "cell_type": "code",
   "execution_count": null,
   "id": "e853ca94-08b3-423a-81a5-b244aea8ebff",
   "metadata": {},
   "outputs": [],
   "source": [
    "imp_df.shape[0], result.loc[\"count\"].sum()"
   ]
  },
  {
   "cell_type": "markdown",
   "id": "40bb7ed4-6176-4b52-9ecb-83fb6dc73d85",
   "metadata": {},
   "source": [
    "### Test Metric"
   ]
  },
  {
   "cell_type": "code",
   "execution_count": null,
   "id": "23b137f9-ca61-4d83-9ff9-a21305eb6698",
   "metadata": {},
   "outputs": [],
   "source": [
    "y_val_df = pd.DataFrame(y_val).reset_index(drop=True)\n",
    "y_val_pred_df = pd.DataFrame(y_val_pred).rename(columns={0: \"prediction\"})"
   ]
  },
  {
   "cell_type": "code",
   "execution_count": null,
   "id": "1a37b3ca-c9f3-414c-bbc6-b1e94814472b",
   "metadata": {},
   "outputs": [],
   "source": [
    "# feature_imp_thr = imp_df.loc[imp_df[\"feature\"] == \"dummy\"][\"feature_importance\"].values[0]\n",
    "# feature_imp_thr"
   ]
  },
  {
   "cell_type": "code",
   "execution_count": null,
   "id": "331673eb-0dca-4a75-8f18-0af50246332d",
   "metadata": {},
   "outputs": [],
   "source": [
    "selected_features = imp_df.loc[imp_df[\"feature_importance\"] > 0][\"feature\"].tolist()\n",
    "len(selected_features)"
   ]
  },
  {
   "cell_type": "markdown",
   "id": "16a5a448-9c68-431d-8a7a-b1f322f9e27e",
   "metadata": {},
   "source": [
    "### Train once"
   ]
  },
  {
   "cell_type": "code",
   "execution_count": null,
   "id": "d81012a5-1980-49fd-9a86-8765bc20f115",
   "metadata": {},
   "outputs": [],
   "source": [
    "best_params = {'boosting_type': 'gbdt',\n",
    " 'class_weight': None,\n",
    " 'colsample_bytree': 0.7,\n",
    " 'importance_type': 'split',\n",
    " 'learning_rate': 0.07,\n",
    " 'max_depth': 7,\n",
    " 'min_child_samples': 50,\n",
    " 'min_child_weight': 0.05,\n",
    " 'min_split_gain': 0.04,\n",
    " 'n_estimators': 100,\n",
    " 'n_jobs': -1,\n",
    " 'num_leaves': 80,\n",
    " 'objective': None,\n",
    " 'random_state': 1020,\n",
    " 'reg_alpha': 5,\n",
    " 'reg_lambda': 15,\n",
    " 'silent': True,\n",
    " 'subsample': 0.7,\n",
    " 'subsample_for_bin': 20000,\n",
    " 'subsample_freq': 5,\n",
    " 'scale_pos_weight': 1}"
   ]
  },
  {
   "cell_type": "code",
   "execution_count": null,
   "id": "41235181-df82-4aa4-8476-aa0be762a82b",
   "metadata": {},
   "outputs": [],
   "source": [
    "final_lgbm_clf = LGBMClassifier(**best_params)"
   ]
  },
  {
   "cell_type": "code",
   "execution_count": null,
   "id": "2d1db025-9a3d-4d2b-a5bf-dec2fb63e423",
   "metadata": {},
   "outputs": [],
   "source": [
    "final_lgbm_clf.fit(X_train, y_train)"
   ]
  },
  {
   "cell_type": "code",
   "execution_count": null,
   "id": "4d32ab96-3177-4042-a8ca-d92d82c35524",
   "metadata": {},
   "outputs": [],
   "source": [
    "y_train_pred = final_lgbm_clf.predict_proba(X_train)[:, 1]\n",
    "y_val_pred = final_lgbm_clf.predict_proba(X_val)[:, 1]"
   ]
  },
  {
   "cell_type": "code",
   "execution_count": null,
   "id": "d7ef1dac-33bd-425e-abb7-1423dae456a9",
   "metadata": {},
   "outputs": [],
   "source": [
    "plot_roc_curves([y_train, y_val], \n",
    "                [y_train_pred, y_val_pred], \n",
    "                labels=[\"Train\", \"Validation\"], \n",
    "                title=\"Train Validation ROC AUC\")"
   ]
  },
  {
   "cell_type": "code",
   "execution_count": null,
   "id": "b5ec7d16-e398-4fe9-bd13-3e412807bee9",
   "metadata": {},
   "outputs": [],
   "source": [
    "imp_df = plot_feature_importance(final_lgbm_clf.feature_name_, \n",
    "                                 final_lgbm_clf.feature_importances_, \n",
    "                                 title=\"Feature Importance\",\n",
    "                                 limit=50)"
   ]
  },
  {
   "cell_type": "code",
   "execution_count": null,
   "id": "55610023-caa6-4a4f-a0fa-61a927d9e876",
   "metadata": {},
   "outputs": [],
   "source": [
    "# feature_imp_thr = imp_df.loc[imp_df[\"feature\"] == \"dummy\"][\"feature_importance\"].values[0]\n",
    "# feature_imp_thr"
   ]
  },
  {
   "cell_type": "code",
   "execution_count": null,
   "id": "e040c798-77a1-49ee-b197-09589cfe6b75",
   "metadata": {},
   "outputs": [],
   "source": [
    "selected_features = imp_df.loc[imp_df[\"feature_importance\"] > 0][\"feature\"].tolist()\n",
    "len(selected_features)"
   ]
  },
  {
   "cell_type": "markdown",
   "id": "6ca42564-43bb-4cb5-b3c6-16a15a1c23bc",
   "metadata": {},
   "source": [
    "#### Final x2 LGBM"
   ]
  },
  {
   "cell_type": "code",
   "execution_count": null,
   "id": "80cee1a2-55a5-4421-90b2-d449124d7eb9",
   "metadata": {},
   "outputs": [],
   "source": [
    "selected_features = [col for col in selected_features if \"first\" not in col]\n",
    "len(selected_features)"
   ]
  },
  {
   "cell_type": "code",
   "execution_count": null,
   "id": "029f03db-71d7-4859-a5a4-9ca2e76200d4",
   "metadata": {},
   "outputs": [],
   "source": [
    "final_lgbm_clf = LGBMClassifier(**best_params)"
   ]
  },
  {
   "cell_type": "code",
   "execution_count": null,
   "id": "10a9c91e-926c-4411-a02d-98c352fa340b",
   "metadata": {},
   "outputs": [],
   "source": [
    "X_train_ = X_train.loc[:, selected_features]\n",
    "X_val_ = X_val.loc[:, selected_features]"
   ]
  },
  {
   "cell_type": "code",
   "execution_count": null,
   "id": "2d7df427-cc7f-4949-bf4e-9ca9a30ef7bf",
   "metadata": {},
   "outputs": [],
   "source": [
    "final_lgbm_clf.fit(X_train_, y_train)"
   ]
  },
  {
   "cell_type": "code",
   "execution_count": null,
   "id": "cbe79c65-0dc5-43c7-9572-e6663e9f95e6",
   "metadata": {},
   "outputs": [],
   "source": [
    "y_train_pred_ = final_lgbm_clf.predict_proba(X_train_)[:, 1]\n",
    "y_val_pred_ = final_lgbm_clf.predict_proba(X_val_)[:, 1]"
   ]
  },
  {
   "cell_type": "code",
   "execution_count": null,
   "id": "0b5ff830-7ce4-46ec-80ef-eb3b309d688d",
   "metadata": {},
   "outputs": [],
   "source": [
    "plot_roc_curves([y_train, y_val], \n",
    "                [y_train_pred_, y_val_pred_], \n",
    "                labels=[\"Train\", \"Validation\"], \n",
    "                title=\"Train Validation ROC AUC\")"
   ]
  },
  {
   "cell_type": "code",
   "execution_count": null,
   "id": "b20871d1-6189-44db-b78c-5d72a697f565",
   "metadata": {},
   "outputs": [],
   "source": [
    "y_res_df = pd.DataFrame(y_res).reset_index(drop=True)\n",
    "y_res_pred_df = pd.DataFrame(y_res_pred_).rename(columns={0: \"prediction\"})"
   ]
  },
  {
   "cell_type": "code",
   "execution_count": null,
   "id": "0d444d3a-c211-488d-a413-05fb4897c1ab",
   "metadata": {},
   "outputs": [],
   "source": [
    "amex_metric(y_res_df, y_res_pred_df)"
   ]
  },
  {
   "cell_type": "code",
   "execution_count": null,
   "id": "c0a2c3d5-d1da-4d0c-a342-a2be238c797f",
   "metadata": {},
   "outputs": [],
   "source": [
    "y_val.values[:40]"
   ]
  },
  {
   "cell_type": "code",
   "execution_count": null,
   "id": "1dbb8996-c77f-47b4-8687-383a95d440bd",
   "metadata": {},
   "outputs": [],
   "source": [
    "temp_ = [1 if c > 0.95 else c for c in y_val_pred_]\n",
    "# temp_[:40]"
   ]
  },
  {
   "cell_type": "code",
   "execution_count": null,
   "id": "442d9f35-976d-47ba-953c-58db62338cb2",
   "metadata": {},
   "outputs": [],
   "source": [
    "y_val_df = pd.DataFrame(y_val).reset_index(drop=True)\n",
    "y_val_pred_df = pd.DataFrame(y_val_pred_).rename(columns={0: \"prediction\"})"
   ]
  },
  {
   "cell_type": "code",
   "execution_count": null,
   "id": "d9743759-7c75-431a-a134-ed84f9104490",
   "metadata": {},
   "outputs": [],
   "source": [
    "amex_metric(y_val_df, y_val_pred_df)"
   ]
  },
  {
   "cell_type": "markdown",
   "id": "0cdaac36-22b6-44f4-8687-e3bf6938ce93",
   "metadata": {},
   "source": [
    "### END"
   ]
  },
  {
   "cell_type": "markdown",
   "id": "fa7ce3fd-bac0-4364-b611-819042c19358",
   "metadata": {},
   "source": [
    "### LGBM Model"
   ]
  },
  {
   "cell_type": "code",
   "execution_count": null,
   "id": "41135e8f-1549-4612-a9c4-fa70ae39b4cd",
   "metadata": {},
   "outputs": [],
   "source": [
    "opt = BayesSearchCV(\n",
    "    LGBMClassifier(random_state=1020),\n",
    "    {\n",
    "        'learning_rate': (0.04, 0.1),\n",
    "        'num_leaves': (31, 127),\n",
    "        'max_depth': (5, 20),\n",
    "        'min_child_samples': (15, 63),\n",
    "        'n_estimators': (80, 160),\n",
    "        'subsample': (0.7, 0.9),\n",
    "        'subsample_freq': (2, 5),\n",
    "        'colsample_bytree': (0.6, 0.95),\n",
    "        'reg_alpha': (0, 15),\n",
    "        'reg_lambda': (0, 15),\n",
    "        'min_split_gain': (0, 0.05),\n",
    "        'scale_pos_weight': (0.1, 10)\n",
    "    },\n",
    "    n_iter=5,\n",
    "    cv=5,\n",
    "    scoring=make_scorer(fbeta_score, beta=2)\n",
    ")"
   ]
  },
  {
   "cell_type": "code",
   "execution_count": null,
   "id": "295cb663-b522-4e61-be30-959e45c88f53",
   "metadata": {},
   "outputs": [],
   "source": [
    "start = time.time()\n",
    "opt.fit(X_train, y_train, verbose=1)\n",
    "end = time.time()\n",
    "print(f\"Done in {end - start:.2f} seconds\")"
   ]
  },
  {
   "cell_type": "code",
   "execution_count": null,
   "id": "ff687f1c-0639-49ae-b0ab-e4e0d4975e33",
   "metadata": {},
   "outputs": [],
   "source": [
    "best_params = opt.best_estimator_.get_params()"
   ]
  },
  {
   "cell_type": "code",
   "execution_count": null,
   "id": "1b086005-ed1a-445e-97b2-20dea2fc4747",
   "metadata": {},
   "outputs": [],
   "source": [
    "best_params"
   ]
  },
  {
   "cell_type": "code",
   "execution_count": null,
   "id": "a966c482-cfcc-47b1-925f-9cfb2c1f4a43",
   "metadata": {},
   "outputs": [],
   "source": [
    "imp_df = plot_feature_importance(final_lgbm_clf.feature_name_, \n",
    "                                 final_lgbm_clf.feature_importances_, \n",
    "                                 title=\"Feature Importance\",\n",
    "                                 limit=50)"
   ]
  },
  {
   "cell_type": "code",
   "execution_count": null,
   "id": "392cced2-205e-4d54-b3f4-37cf7c2ec0e3",
   "metadata": {},
   "outputs": [],
   "source": [
    "num_features_list, train_score_list, val_score_list = [], [], []\n",
    "for imp_value in tqdm(sorted(imp_df[\"feature_importance\"].unique())):\n",
    "    selected_features = imp_df.loc[imp_df[\"feature_importance\"] > imp_value][\"feature\"].tolist()\n",
    "    print(f\"# of features: {len(selected_features)}\")\n",
    "    \n",
    "    X_train_new = train.loc[:, selected_features]\n",
    "    X_val_new = val.loc[:, selected_features]\n",
    "    \n",
    "    lgbm_clf = LGBMClassifier(**params)\n",
    "    lgbm_clf.fit(X_train_new, y_train)\n",
    "    \n",
    "    y_train_pred = lgbm_clf.predict_proba(X_train_new)[:, 1]\n",
    "    y_val_pred = lgbm_clf.predict_proba(X_val_new)[:, 1]\n",
    "    \n",
    "    y_train_df = pd.DataFrame(y_train).reset_index(drop=True)\n",
    "    y_train_pred_df = pd.DataFrame(y_train_pred).rename(columns={0: \"prediction\"})\n",
    "    y_val_df = pd.DataFrame(y_val).reset_index(drop=True)\n",
    "    y_val_pred_df = pd.DataFrame(y_val_pred).rename(columns={0: \"prediction\"})\n",
    "    \n",
    "    train_score = amex_metric(y_train_df, y_train_pred_df)\n",
    "    val_score = amex_metric(y_val_df, y_val_pred_df)\n",
    "    num_features_list.append(len(selected_features))\n",
    "    train_score_list.append(train_score)\n",
    "    val_score_list.append(val_score)"
   ]
  },
  {
   "cell_type": "code",
   "execution_count": null,
   "id": "c085bc1b-3955-4410-8c71-6a392990830f",
   "metadata": {},
   "outputs": [],
   "source": [
    "train_scores = [i[0] for i in train_score_list]\n",
    "val_scores = [i[0] for i in val_score_list]"
   ]
  },
  {
   "cell_type": "code",
   "execution_count": null,
   "id": "08dc1b24-b119-4289-a2e1-ea6dd661ad52",
   "metadata": {},
   "outputs": [],
   "source": [
    "eval_df = pd.DataFrame(dict(num_feature=num_features_list, \n",
    "                            train_score=train_scores, \n",
    "                            val_score=val_scores)).iloc[:-10]"
   ]
  },
  {
   "cell_type": "code",
   "execution_count": null,
   "id": "cc7e16e2-c874-4af3-a0e8-418aae96441e",
   "metadata": {},
   "outputs": [],
   "source": [
    "plt.figure(figsize=(17, 6))\n",
    "plt.plot(eval_df[\"num_feature\"], eval_df[\"train_score\"], label=\"Train\")\n",
    "plt.plot(eval_df[\"num_feature\"], eval_df[\"val_score\"], label=\"Validation\")\n",
    "plt.legend()\n",
    "plt.show()"
   ]
  },
  {
   "cell_type": "markdown",
   "id": "3a26e5c7-b521-46c9-acf1-58ac2b292e5c",
   "metadata": {},
   "source": [
    "### LGBM Error Analysis"
   ]
  },
  {
   "cell_type": "code",
   "execution_count": null,
   "id": "df50053b-db40-4121-b419-f68a30367de2",
   "metadata": {},
   "outputs": [],
   "source": [
    "X_validation = X_val_.reset_index(drop=True)"
   ]
  },
  {
   "cell_type": "code",
   "execution_count": null,
   "id": "6fb0761c-95a1-4a3c-aba9-99c9a188adbb",
   "metadata": {},
   "outputs": [],
   "source": [
    "top4_pct_df, gini_df = get_final_metric_df(X_validation, y_val_df, y_val_pred_df)"
   ]
  },
  {
   "cell_type": "code",
   "execution_count": null,
   "id": "00f48288-eb31-4a9f-b345-65ebd8e13a93",
   "metadata": {},
   "outputs": [],
   "source": [
    "failed_top4_pct_indices = top4_pct_df.loc[(top4_pct_df[\"is_cutoff\"] == 1) & (top4_pct_df[\"target\"] == 0)].index"
   ]
  },
  {
   "cell_type": "code",
   "execution_count": null,
   "id": "f3c324f1-2a79-4433-9ee2-199a06d3c3e8",
   "metadata": {},
   "outputs": [],
   "source": [
    "# failed_top4_pct_indices"
   ]
  },
  {
   "cell_type": "code",
   "execution_count": null,
   "id": "fcc0db8d-3726-46a8-910b-eb4adb995e61",
   "metadata": {},
   "outputs": [],
   "source": [
    "failed_top4_pct_indices"
   ]
  },
  {
   "cell_type": "code",
   "execution_count": null,
   "id": "9fd108b7-81f8-44c4-a16c-fc87a144f4e6",
   "metadata": {},
   "outputs": [],
   "source": [
    "success_top4 = top4_pct_df.loc[~top4_pct_df.index.isin(failed_top4_pct_indices)]\n",
    "failed_top4 = top4_pct_df.loc[failed_top4_pct_indices]"
   ]
  },
  {
   "cell_type": "code",
   "execution_count": null,
   "id": "4721278a-b219-404b-bba3-6e748f795a7b",
   "metadata": {},
   "outputs": [],
   "source": [
    "success_top4.shape, failed_top4.shape"
   ]
  },
  {
   "cell_type": "code",
   "execution_count": null,
   "id": "a93bbfd3-8f1a-45cd-96fc-2362b2d032df",
   "metadata": {},
   "outputs": [],
   "source": [
    "column = \"P_2_last\""
   ]
  },
  {
   "cell_type": "code",
   "execution_count": null,
   "id": "a1380398-93cb-413f-9cec-90302cb78a57",
   "metadata": {},
   "outputs": [],
   "source": [
    "top4_pct_df.groupby(\"target\")[column].mean()"
   ]
  },
  {
   "cell_type": "code",
   "execution_count": null,
   "id": "9d5aa82a-5ca2-4e32-8f3e-9f052f7181c1",
   "metadata": {
    "tags": []
   },
   "outputs": [],
   "source": [
    "success_top4[column].describe()"
   ]
  },
  {
   "cell_type": "code",
   "execution_count": null,
   "id": "72acb797-ffa3-40a8-a44f-f2b0096cb048",
   "metadata": {},
   "outputs": [],
   "source": [
    "failed_top4[column].describe()"
   ]
  },
  {
   "cell_type": "code",
   "execution_count": null,
   "id": "02c03b2c-f793-47f5-abf6-299a67264708",
   "metadata": {},
   "outputs": [],
   "source": [
    "# save model\n",
    "# joblib.dump(final_lgbm_clf, '../models/lgbm_version1.pkl')"
   ]
  },
  {
   "cell_type": "code",
   "execution_count": null,
   "id": "caf067ed-6593-4b8f-8999-c6857e541c43",
   "metadata": {},
   "outputs": [],
   "source": [
    "# load model\n",
    "loaded_lgbm_model = joblib.load('../models/lgbm_version1.pkl')"
   ]
  },
  {
   "cell_type": "markdown",
   "id": "30905057-4997-4150-8b5e-95131a2a8c4f",
   "metadata": {},
   "source": [
    "### SMOTE"
   ]
  },
  {
   "cell_type": "code",
   "execution_count": null,
   "id": "358300d2-baee-465f-a6cb-98d6d7f8e64b",
   "metadata": {},
   "outputs": [],
   "source": [
    "train.loc[:, num_features] = train.loc[:, num_features].fillna(0)"
   ]
  },
  {
   "cell_type": "code",
   "execution_count": null,
   "id": "46564e53-653f-4ee0-8b7a-f78080f017ce",
   "metadata": {},
   "outputs": [],
   "source": [
    "from imblearn.over_sampling import SMOTE\n",
    "sm = SMOTE(random_state=923)\n",
    "X_res, y_res = sm.fit_resample(train.loc[:, num_features], \n",
    "                               train[\"target\"])"
   ]
  },
  {
   "cell_type": "code",
   "execution_count": null,
   "id": "53c5c2b0-ef4a-408e-8eb8-e2043ec132b5",
   "metadata": {},
   "outputs": [],
   "source": [
    "X_res.shape, y_res.shape"
   ]
  },
  {
   "cell_type": "markdown",
   "id": "b10febac-45a5-4dfe-8e90-679a7b6c58af",
   "metadata": {},
   "source": [
    "### Inference"
   ]
  },
  {
   "cell_type": "code",
   "execution_count": null,
   "id": "b57fb03d-129a-4315-81e8-8360136281f0",
   "metadata": {},
   "outputs": [],
   "source": [
    "X_test = test_data.loc[:, selected_features]"
   ]
  },
  {
   "cell_type": "code",
   "execution_count": null,
   "id": "8187a541-375c-4ade-80ae-aea068907536",
   "metadata": {},
   "outputs": [],
   "source": [
    "y_test_pred = loaded_lgbm_model.predict_proba(X_test)[:, 1]"
   ]
  },
  {
   "cell_type": "code",
   "execution_count": null,
   "id": "c88b8d00-9901-4db0-b50a-4ac1d5213b52",
   "metadata": {},
   "outputs": [],
   "source": [
    "test_data[\"prediction\"] = y_test_pred"
   ]
  },
  {
   "cell_type": "code",
   "execution_count": null,
   "id": "ce4d1072-3e79-4ef6-a985-cb3e9db254b9",
   "metadata": {},
   "outputs": [],
   "source": [
    "test_data.head()"
   ]
  },
  {
   "cell_type": "markdown",
   "id": "0f4349f8-2223-4495-9ac0-9271161d2ad7",
   "metadata": {},
   "source": [
    "#### Submission"
   ]
  },
  {
   "cell_type": "code",
   "execution_count": null,
   "id": "b8a09504-d53b-4605-a513-e759d3591ba4",
   "metadata": {},
   "outputs": [],
   "source": [
    "submission = pd.read_csv(f\"{DATA_PATH}/sample_submission.csv\")"
   ]
  },
  {
   "cell_type": "code",
   "execution_count": null,
   "id": "4b44d52a-25e4-4c57-a521-e0abb56dc442",
   "metadata": {},
   "outputs": [],
   "source": [
    "submission = submission.drop(columns=\"prediction\")"
   ]
  },
  {
   "cell_type": "code",
   "execution_count": null,
   "id": "50e49caa-6672-4477-90b1-bad365f41dcd",
   "metadata": {},
   "outputs": [],
   "source": [
    "result = submission.merge(test_data[[\"customer_ID\", \"prediction\"]], on=\"customer_ID\")"
   ]
  },
  {
   "cell_type": "code",
   "execution_count": null,
   "id": "57e977c8-3c57-4efe-b766-f8ea82b5849a",
   "metadata": {},
   "outputs": [],
   "source": [
    "# result.to_csv(f\"{SUBMISSION_DATA_PATH}/submission4.csv\", index=False)"
   ]
  },
  {
   "cell_type": "code",
   "execution_count": null,
   "id": "5fbb5848-efd4-4724-b6a8-0cb3951abb4b",
   "metadata": {},
   "outputs": [],
   "source": []
  },
  {
   "cell_type": "markdown",
   "id": "11d7f134-a17d-4e3f-980a-243a857ee51f",
   "metadata": {},
   "source": [
    "#### Convert Data to Integer Type"
   ]
  },
  {
   "cell_type": "code",
   "execution_count": null,
   "id": "c8f738a5-d6ec-4281-b9ab-d4da0203c65f",
   "metadata": {},
   "outputs": [],
   "source": [
    "# for i in range(1, 11):\n",
    "#     # df = read_file(f\"{RAW_TRAIN_PICKLE_PATH}/train_data_{i}.pkl\")\n",
    "#     # df = read_file(f\"{RAW_TEST_PICKLE_PATH}/test_data_{i}.pkl\")\n",
    "#     print(df.shape)\n",
    "#     for int_col in INTEGER_COLUMNS:\n",
    "#         print(f\"{df[int_col].isnull().sum()} cells will be imputed\")\n",
    "#         df.loc[df[int_col].isnull(), int_col] = df.loc[df[int_col].isnull(), int_col].fillna(df[int_col].mean())\n",
    "#         if df[int_col].isnull().sum() > 100:\n",
    "#             print(\"Too many missing values\")\n",
    "#             sys.exit()\n",
    "#         df[int_col] = df[int_col].round().astype(np.int8)\n",
    "#     # df.to_pickle(f\"{RAW_TRAIN_PICKLE_PATH}/train_data_{i}.pkl\")\n",
    "#     # df.to_pickle(f\"{RAW_TEST_PICKLE_PATH}/test_data_{i}.pkl\")\n",
    "#     print(f\"Test {i} done\")"
   ]
  }
 ],
 "metadata": {
  "kernelspec": {
   "display_name": "amex",
   "language": "python",
   "name": "amex"
  },
  "language_info": {
   "codemirror_mode": {
    "name": "ipython",
    "version": 3
   },
   "file_extension": ".py",
   "mimetype": "text/x-python",
   "name": "python",
   "nbconvert_exporter": "python",
   "pygments_lexer": "ipython3",
   "version": "3.10.0"
  }
 },
 "nbformat": 4,
 "nbformat_minor": 5
}
