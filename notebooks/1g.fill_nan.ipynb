{
 "cells": [
  {
   "cell_type": "code",
   "execution_count": 87,
   "id": "5a7dc743-3003-43ac-81d8-08020f4a270e",
   "metadata": {},
   "outputs": [],
   "source": [
    "import gc\n",
    "import lightgbm as lgb\n",
    "import math\n",
    "import matplotlib.pyplot as plt\n",
    "import numpy as np\n",
    "import os\n",
    "import pandas as pd\n",
    "pd.options.display.float_format = \"{:,.4f}\".format\n",
    "import random\n",
    "import sys\n",
    "import time\n",
    "import warnings\n",
    "warnings.simplefilter(\"ignore\")\n",
    "warnings.filterwarnings(\"ignore\")\n",
    "from pandarallel import pandarallel\n",
    "from sklearn.model_selection import train_test_split\n",
    "from tqdm import tqdm"
   ]
  },
  {
   "cell_type": "code",
   "execution_count": 46,
   "id": "8dc9036e-30f9-4621-a87c-bd7494886b33",
   "metadata": {},
   "outputs": [],
   "source": [
    "from pathlib import Path\n",
    "rootpath = Path.cwd().parent\n",
    "sys.path.append(os.path.join(rootpath))"
   ]
  },
  {
   "cell_type": "code",
   "execution_count": 66,
   "id": "3b4bc030-2ea3-4e0d-81cb-9b7b6fb708b6",
   "metadata": {},
   "outputs": [],
   "source": [
    "from utils.constants import *\n",
    "from utils.eda_helpers import (\n",
    "    plot_missing_proportion_barchart, get_cols, plot_scatterplot, plot_target_check, \n",
    "    plot_int_feature_distribution, plot_train_test_distribution, check_overlap_missing,\n",
    "    insert_row_number, plot_sampled_time_series, plot_heatmap\n",
    ")\n",
    "from utils.eval_helpers import (\n",
    "    plot_roc_curves, plot_feature_importance, \n",
    "    amex_metric, get_final_metric_df, amex_metric_np, lgb_amex_metric\n",
    ")\n",
    "from utils.extraction_helpers import read_file\n",
    "from utils.feature_group import (\n",
    "    CATEGORY_COLUMNS, CONTINUOUS_COLUMNS, BINARY_COLUMNS,\n",
    "    MEAN_FEATURES, MIN_FEATURES, MAX_FEATURES, LAST_FEATURES, NON_FEATURE_COLUMNS\n",
    ")\n",
    "from utils.preprocess_helpers import *\n",
    "from utils.feature_engineering_helpers import feature_gen_pipeline"
   ]
  },
  {
   "cell_type": "code",
   "execution_count": 67,
   "id": "83eed68e-ed02-4eb8-9db6-560600bfb389",
   "metadata": {},
   "outputs": [
    {
     "name": "stdout",
     "output_type": "stream",
     "text": [
      "The autoreload extension is already loaded. To reload it, use:\n",
      "  %reload_ext autoreload\n"
     ]
    }
   ],
   "source": [
    "%load_ext autoreload\n",
    "%autoreload"
   ]
  },
  {
   "cell_type": "markdown",
   "id": "7224a714-4700-46d7-8d13-83b352730bf1",
   "metadata": {},
   "source": [
    "### Setup"
   ]
  },
  {
   "cell_type": "code",
   "execution_count": 5,
   "id": "07664dc8-0b21-42ab-a9f0-73d955062e2b",
   "metadata": {},
   "outputs": [
    {
     "name": "stdout",
     "output_type": "stream",
     "text": [
      "Shape of data: (5531451, 190)\n",
      "CPU times: user 4.49 s, sys: 4.99 s, total: 9.48 s\n",
      "Wall time: 7.18 s\n"
     ]
    }
   ],
   "source": [
    "%%time\n",
    "integer_train = read_file(f\"{INTERIM_DATA_PATH}/v0/train_integer_master.parquet\")"
   ]
  },
  {
   "cell_type": "code",
   "execution_count": 6,
   "id": "6259f5cc-adba-4740-91e2-bf64a6b5b6ad",
   "metadata": {},
   "outputs": [
    {
     "name": "stdout",
     "output_type": "stream",
     "text": [
      "CPU times: user 1.33 s, sys: 784 ms, total: 2.11 s\n",
      "Wall time: 2.54 s\n"
     ]
    }
   ],
   "source": [
    "%%time\n",
    "labels = pd.read_csv(f\"{RAW_DATA_PATH}/train_labels.csv\")\n",
    "if \"target\" not in integer_train.columns:\n",
    "    integer_train = integer_train.merge(labels, on=\"customer_ID\", how=\"left\")"
   ]
  },
  {
   "cell_type": "code",
   "execution_count": 7,
   "id": "c4b5cee7-b327-47b1-9b41-f809799bdedb",
   "metadata": {},
   "outputs": [
    {
     "name": "stdout",
     "output_type": "stream",
     "text": [
      "Shape of data: (5531451, 190)\n",
      "Shape of data: (11363762, 189)\n",
      "CPU times: user 17 s, sys: 29.8 s, total: 46.9 s\n",
      "Wall time: 33.3 s\n"
     ]
    }
   ],
   "source": [
    "%%time\n",
    "train = read_file(f\"{INTERIM_DATA_PATH}/v2/train_parquet/train_all_variables.parquet\")\n",
    "test = read_file(f\"{INTERIM_DATA_PATH}/v2/test_parquet/test_all_variables.parquet\")"
   ]
  },
  {
   "cell_type": "code",
   "execution_count": 8,
   "id": "be24516d-abd4-449c-a906-5883ce5fd6fb",
   "metadata": {},
   "outputs": [
    {
     "name": "stdout",
     "output_type": "stream",
     "text": [
      "Public size: 5719469, Private size: 5644293\n",
      "CPU times: user 4.72 s, sys: 10.1 s, total: 14.8 s\n",
      "Wall time: 21.3 s\n"
     ]
    }
   ],
   "source": [
    "%%time\n",
    "public_test, private_test = split_public_private(test)"
   ]
  },
  {
   "cell_type": "code",
   "execution_count": 9,
   "id": "ac5842d1-54cb-4a41-8c6c-a2421fceca8b",
   "metadata": {},
   "outputs": [],
   "source": [
    "del test"
   ]
  },
  {
   "cell_type": "code",
   "execution_count": 10,
   "id": "2f53740c-4091-4d0b-9030-ac643700c29a",
   "metadata": {},
   "outputs": [],
   "source": [
    "df_list = [train, public_test, private_test]"
   ]
  },
  {
   "cell_type": "code",
   "execution_count": 52,
   "id": "ad2c0af0-0dd8-46b3-a7db-c85603452913",
   "metadata": {},
   "outputs": [
    {
     "name": "stdout",
     "output_type": "stream",
     "text": [
      "Done insertion\n",
      "Done insertion\n",
      "Done insertion\n"
     ]
    }
   ],
   "source": [
    "for df in df_list:\n",
    "    insert_row_number(df)"
   ]
  },
  {
   "cell_type": "code",
   "execution_count": null,
   "id": "ffebf2c3-97c7-4edc-89b5-5c0708f349b0",
   "metadata": {},
   "outputs": [],
   "source": [
    "params = {\n",
    "    'objective': 'binary',\n",
    "    'metric': \"binary_logloss\",\n",
    "    'boosting': 'dart',\n",
    "    'seed': 1020,\n",
    "    'num_leaves': 60,\n",
    "    'learning_rate': 0.02,\n",
    "    'feature_fraction': 0.25,\n",
    "    'bagging_freq': 10,\n",
    "    'bagging_fraction': 0.6,\n",
    "    'n_jobs': -1,\n",
    "    'lambda_l2': 15,\n",
    "    'min_data_in_leaf': 100,\n",
    "    'scale_pos_weight': 1.4\n",
    "}"
   ]
  },
  {
   "cell_type": "code",
   "execution_count": 98,
   "id": "c0d0a21d-170f-4c1c-92bc-2865420649a1",
   "metadata": {},
   "outputs": [],
   "source": [
    "strong_columns = [\"P_2\", \"B_4\", \"D_39\", \"D_43\", \"S_3\", \"D_48\", \"B_3\", \"D_46\", \"P_3\", \"S_7\", \"B_40\"]"
   ]
  },
  {
   "cell_type": "code",
   "execution_count": 11,
   "id": "b2732127-f7b4-41a9-8eeb-0ef0ce4ca509",
   "metadata": {},
   "outputs": [],
   "source": [
    "train_corr_df = pd.read_csv(f\"{PROCESSED_DATA_PATH}/raw_column_correlation/train_corr_df.csv\")\n",
    "train_corr_df.insert(0, \"column\", train_corr_df.columns.tolist())"
   ]
  },
  {
   "cell_type": "code",
   "execution_count": 13,
   "id": "cfdd94a3-b293-494e-8cf5-38088c86de85",
   "metadata": {},
   "outputs": [
    {
     "data": {
      "image/png": "[encoded data removed]",
      "text/plain": [
       "<Figure size 1080x576 with 1 Axes>"
      ]
     },
     "metadata": {
      "needs_background": "light"
     },
     "output_type": "display_data"
    }
   ],
   "source": [
    "m = plot_missing_proportion_barchart(train)"
   ]
  },
  {
   "cell_type": "code",
   "execution_count": 21,
   "id": "87779d82-e571-464c-944b-e29a88c7395b",
   "metadata": {},
   "outputs": [],
   "source": [
    "missing_group_df = m.groupby(\"missing_proportion\")[\"column\"].count().sort_values(ascending=False).reset_index()"
   ]
  },
  {
   "cell_type": "markdown",
   "id": "6caefcf2-664b-454e-9a9b-91e011442b2c",
   "metadata": {},
   "source": [
    "### Missing Feature Group 1"
   ]
  },
  {
   "cell_type": "code",
   "execution_count": 30,
   "id": "dc827074-c44f-4f9a-9bde-6095a2d5a2b0",
   "metadata": {},
   "outputs": [
    {
     "data": {
      "text/plain": [
       "3.1947494427773107"
      ]
     },
     "execution_count": 30,
     "metadata": {},
     "output_type": "execute_result"
    }
   ],
   "source": [
    "index = 0\n",
    "m_prop = missing_group_df[\"missing_proportion\"][index]\n",
    "m_prop"
   ]
  },
  {
   "cell_type": "code",
   "execution_count": 181,
   "id": "3bde45d8-fd84-4eb5-8277-7e1f07a365f9",
   "metadata": {},
   "outputs": [
    {
     "data": {
      "text/plain": [
       "['D_113',\n",
       " 'D_114',\n",
       " 'D_115',\n",
       " 'D_116',\n",
       " 'D_117',\n",
       " 'D_118',\n",
       " 'D_119',\n",
       " 'D_120',\n",
       " 'D_121',\n",
       " 'D_122',\n",
       " 'D_123',\n",
       " 'D_124',\n",
       " 'D_125']"
      ]
     },
     "execution_count": 181,
     "metadata": {},
     "output_type": "execute_result"
    }
   ],
   "source": [
    "sorted(missing_feature_g1)"
   ]
  },
  {
   "cell_type": "code",
   "execution_count": 31,
   "id": "f3ef2e00-3a7b-4934-980c-6ea06e55fc23",
   "metadata": {},
   "outputs": [],
   "source": [
    "missing_feature_g1 = m.loc[m[\"missing_proportion\"] == m_prop, \"column\"].tolist()"
   ]
  },
  {
   "cell_type": "code",
   "execution_count": 100,
   "id": "aa696935-a639-4afa-a697-e6d4625dcc2c",
   "metadata": {},
   "outputs": [],
   "source": [
    "# plot_heatmap(temp.loc[:, missing_feature_g1].corr(), annot=True, fmt=\".2f\", figsize=(18, 12))"
   ]
  },
  {
   "cell_type": "code",
   "execution_count": 101,
   "id": "8afa2cde-c9d1-473a-86cd-dc4692993c3b",
   "metadata": {},
   "outputs": [],
   "source": [
    "missing_cid_list = temp.loc[temp[\"D_124\"].isnull(), \"customer_ID\"].tolist()"
   ]
  },
  {
   "cell_type": "code",
   "execution_count": 145,
   "id": "4cb0e3dd-af25-45b5-8b01-343dc89b43a0",
   "metadata": {},
   "outputs": [],
   "source": [
    "# plot_target_check(train, \"D_124\", q=50, use_raw_bin=True, nunique_thr=500, strfy_x=True, without_drop_tail=True)"
   ]
  },
  {
   "cell_type": "code",
   "execution_count": 124,
   "id": "0c8eda84-a6fe-4ea0-8478-d0f32afd3f2e",
   "metadata": {},
   "outputs": [],
   "source": [
    "# temp.loc[temp[\"customer_ID\"].isin(missing_cid_list)]"
   ]
  },
  {
   "cell_type": "code",
   "execution_count": 226,
   "id": "eec688fa-844f-4e2e-83c9-89f9e2dec45b",
   "metadata": {},
   "outputs": [],
   "source": [
    "temp = train.loc[:, [\"customer_ID\", \"S_2\", \"row_number\", \"target\"] + missing_feature_g1 + strong_columns]"
   ]
  },
  {
   "cell_type": "code",
   "execution_count": 227,
   "id": "e6bbbd9f-068a-4fe8-9d26-9334e9502add",
   "metadata": {},
   "outputs": [],
   "source": [
    "# for d_col in tqdm(missing_feature_g1):\n",
    "#     temp[d_col] = temp.groupby(\"customer_ID\")[d_col].apply(lambda x: x.interpolate(\"linear\"))"
   ]
  },
  {
   "cell_type": "code",
   "execution_count": null,
   "id": "77f972f1-30d9-4adb-888f-a336906dd91e",
   "metadata": {},
   "outputs": [
    {
     "name": "stderr",
     "output_type": "stream",
     "text": [
      " 31%|█████████████████████████████████████████▏                                                                                            | 4/13 [01:58<04:25, 29.55s/it]"
     ]
    }
   ],
   "source": [
    "for d_col in tqdm(missing_feature_g1):\n",
    "    temp[d_col] = temp.groupby(\"customer_ID\")[d_col].apply(lambda x: x.ffill().bfill())"
   ]
  },
  {
   "cell_type": "code",
   "execution_count": 188,
   "id": "daefa85e-621f-4fd9-a343-84f32278f902",
   "metadata": {
    "tags": []
   },
   "outputs": [],
   "source": [
    "# for col in missing_feature_g1:\n",
    "#     if col not in CATEGORY_COLUMNS:\n",
    "#         print(col)\n",
    "#         plot_target_check(temp, col, q=50, use_raw_bin=True, nunique_thr=500, strfy_x=True, without_drop_tail=True)"
   ]
  },
  {
   "cell_type": "code",
   "execution_count": 207,
   "id": "c69fc682-3bd1-44cb-844e-b359c18fac03",
   "metadata": {},
   "outputs": [
    {
     "name": "stderr",
     "output_type": "stream",
     "text": [
      "100%|█████████████████████████████████████████████████████████████████████████████████████████████████████████████████████████████████████| 13/13 [00:00<00:00, 29.21it/s]\n"
     ]
    }
   ],
   "source": [
    "for d_col in tqdm(missing_feature_g1):\n",
    "    temp[d_col] = temp[d_col].fillna(temp[d_col].mode)"
   ]
  },
  {
   "cell_type": "code",
   "execution_count": 208,
   "id": "80261b6f-2eb3-4b90-93ad-8dc7c2b7c396",
   "metadata": {},
   "outputs": [
    {
     "name": "stdout",
     "output_type": "stream",
     "text": [
      "Done insertion\n",
      "Average done\n",
      "Minimum done\n",
      "Maximum done\n",
      "Standard Deviation done\n",
      "Last entry done\n",
      "First entry done\n",
      "Second last entry done\n",
      "Third last entry done\n",
      "MA2 for Recency 1 done\n",
      "MA2 for Recency 2 done\n",
      "MA2 for Recency 3 done\n",
      "MA2 for least Recency done\n",
      "MA3 for Recency 1 done\n",
      "MA3 for Recency 2 done\n"
     ]
    },
    {
     "name": "stderr",
     "output_type": "stream",
     "text": [
      "100%|█████████████████████████████████████████████████████████████████████████████████████████████████████████████████████████████████████| 21/21 [00:41<00:00,  1.97s/it]\n"
     ]
    },
    {
     "name": "stdout",
     "output_type": "stream",
     "text": [
      "CPU times: user 30.1 s, sys: 22.1 s, total: 52.3 s\n",
      "Wall time: 56 s\n"
     ]
    }
   ],
   "source": [
    "%%time\n",
    "cat_features = set(CATEGORY_COLUMNS).intersection(temp.columns)\n",
    "temp.loc[:, cat_features] = temp.loc[:, cat_features].astype(\"category\")\n",
    "temp_agg = feature_gen_pipeline(temp)"
   ]
  },
  {
   "cell_type": "code",
   "execution_count": 209,
   "id": "8f2dfe31-10b0-4223-bdf4-e4de30ddfabb",
   "metadata": {},
   "outputs": [
    {
     "data": {
      "text/plain": [
       "((458913, 499), (458913, 2))"
      ]
     },
     "execution_count": 209,
     "metadata": {},
     "output_type": "execute_result"
    }
   ],
   "source": [
    "temp_agg.shape, labels.shape"
   ]
  },
  {
   "cell_type": "code",
   "execution_count": 222,
   "id": "2791c5b6-5b0a-4eb7-973e-eb72a28a8118",
   "metadata": {},
   "outputs": [],
   "source": [
    "X_train, X_val, y_train, y_val = train_test_split(temp_agg, labels[\"target\"], test_size=0.22, random_state=6846)"
   ]
  },
  {
   "cell_type": "code",
   "execution_count": 223,
   "id": "288c041c-b47e-44a4-931f-f4e14195302d",
   "metadata": {},
   "outputs": [],
   "source": [
    "cat_features = set(CATEGORY_COLUMNS).intersection(X_train.columns)"
   ]
  },
  {
   "cell_type": "code",
   "execution_count": 224,
   "id": "3cebbc67-e071-48bf-aa20-60ceef45ae07",
   "metadata": {},
   "outputs": [
    {
     "name": "stdout",
     "output_type": "stream",
     "text": [
      "[LightGBM] [Info] Number of positive: 92555, number of negative: 265397\n",
      "[LightGBM] [Warning] Auto-choosing row-wise multi-threading, the overhead of testing was 0.080132 seconds.\n",
      "You can set `force_row_wise=true` to remove the overhead.\n",
      "And if memory is not enough, you can set `force_col_wise=true`.\n",
      "[LightGBM] [Info] Total Bins 88548\n",
      "[LightGBM] [Info] Number of data points in the train set: 357952, number of used features: 496\n",
      "[LightGBM] [Info] [binary:BoostFromScore]: pavg=0.258568 -> initscore=-1.053424\n",
      "[LightGBM] [Info] Start training from score -1.053424\n",
      "[50]\ttraining's binary_logloss: 0.420464\ttraining's amex: 0.73827\tvalid_1's binary_logloss: 0.42229\tvalid_1's amex: 0.732003\n",
      "[100]\ttraining's binary_logloss: 0.354024\ttraining's amex: 0.744692\tvalid_1's binary_logloss: 0.356503\tvalid_1's amex: 0.73861\n",
      "[150]\ttraining's binary_logloss: 0.346472\ttraining's amex: 0.747214\tvalid_1's binary_logloss: 0.349102\tvalid_1's amex: 0.741212\n",
      "[200]\ttraining's binary_logloss: 0.32418\ttraining's amex: 0.749476\tvalid_1's binary_logloss: 0.327286\tvalid_1's amex: 0.7428\n",
      "[250]\ttraining's binary_logloss: 0.324016\ttraining's amex: 0.751121\tvalid_1's binary_logloss: 0.32716\tvalid_1's amex: 0.743929\n",
      "[300]\ttraining's binary_logloss: 0.307402\ttraining's amex: 0.753293\tvalid_1's binary_logloss: 0.310929\tvalid_1's amex: 0.745869\n",
      "[350]\ttraining's binary_logloss: 0.298266\ttraining's amex: 0.754735\tvalid_1's binary_logloss: 0.302109\tvalid_1's amex: 0.746446\n",
      "[400]\ttraining's binary_logloss: 0.289893\ttraining's amex: 0.756235\tvalid_1's binary_logloss: 0.294055\tvalid_1's amex: 0.747911\n",
      "[450]\ttraining's binary_logloss: 0.273881\ttraining's amex: 0.758176\tvalid_1's binary_logloss: 0.278724\tvalid_1's amex: 0.749268\n",
      "[500]\ttraining's binary_logloss: 0.262112\ttraining's amex: 0.761348\tvalid_1's binary_logloss: 0.267657\tvalid_1's amex: 0.752085\n"
     ]
    }
   ],
   "source": [
    "lgb_train = lgb.Dataset(X_train, y_train, categorical_feature=cat_features)\n",
    "lgb_valid = lgb.Dataset(X_val, y_val, categorical_feature=cat_features)\n",
    "model = lgb.train(\n",
    "    params = params,\n",
    "    train_set = lgb_train,\n",
    "    num_boost_round = 500,\n",
    "    valid_sets = [lgb_train, lgb_valid],\n",
    "    early_stopping_rounds = 300,\n",
    "    verbose_eval = 50,\n",
    "    feval = lgb_amex_metric\n",
    ")"
   ]
  },
  {
   "cell_type": "code",
   "execution_count": 225,
   "id": "b2b4b27e-6b4f-4d59-846f-55d24cfb1fc9",
   "metadata": {},
   "outputs": [
    {
     "data": {
      "text/plain": [
       "(0.7517767257542728, 0.9013001877015955, 0.6022532638069501)"
      ]
     },
     "execution_count": 225,
     "metadata": {},
     "output_type": "execute_result"
    }
   ],
   "source": [
    "y_val_pred = model.predict(X_val, raw_score=True)\n",
    "val_score, val_g, val_t4 = amex_metric(y_val.values, y_val_pred)\n",
    "val_score, val_g, val_t4"
   ]
  },
  {
   "cell_type": "code",
   "execution_count": 109,
   "id": "0ea4a2cc-cc3e-4074-b3a6-e5b4723112cf",
   "metadata": {},
   "outputs": [],
   "source": [
    "# plot_scatterplot(train, \"D_118\", \"D_119\")\n",
    "# plt.show()"
   ]
  },
  {
   "cell_type": "code",
   "execution_count": null,
   "id": "170fe121-cc0b-4b0f-b64a-202c5e78d6dd",
   "metadata": {},
   "outputs": [],
   "source": []
  },
  {
   "cell_type": "code",
   "execution_count": null,
   "id": "504163bc-73ad-43f7-a6e5-9c246972dc9f",
   "metadata": {},
   "outputs": [],
   "source": []
  },
  {
   "cell_type": "code",
   "execution_count": null,
   "id": "96b92319-c109-4829-8c49-74e11f2483d2",
   "metadata": {},
   "outputs": [],
   "source": []
  },
  {
   "cell_type": "code",
   "execution_count": null,
   "id": "5192d7fa-ade9-46a6-8f51-f410844d8d8c",
   "metadata": {},
   "outputs": [],
   "source": []
  },
  {
   "cell_type": "code",
   "execution_count": null,
   "id": "d6706105-8d48-4a6f-b8b2-11c9525bb496",
   "metadata": {},
   "outputs": [],
   "source": []
  },
  {
   "cell_type": "code",
   "execution_count": null,
   "id": "0532ee14-01d5-4ed8-9c41-bc2e4aa5afaf",
   "metadata": {},
   "outputs": [],
   "source": []
  },
  {
   "cell_type": "code",
   "execution_count": null,
   "id": "d5391cdc-9178-48ac-9d49-af60a146445b",
   "metadata": {},
   "outputs": [],
   "source": []
  },
  {
   "cell_type": "code",
   "execution_count": null,
   "id": "1a7a1a03-7c68-474f-9d52-95a080478242",
   "metadata": {},
   "outputs": [],
   "source": []
  },
  {
   "cell_type": "markdown",
   "id": "90479e12-7420-4456-8d34-75e51cf046da",
   "metadata": {},
   "source": [
    "### S_11"
   ]
  },
  {
   "cell_type": "code",
   "execution_count": null,
   "id": "0178f63c-ede1-4880-9a47-6841d15cede4",
   "metadata": {},
   "outputs": [],
   "source": [
    "plot_target_check(train, \"S_11\", q=50, use_raw_bin=True, nunique_thr=5000, strfy_x=True)"
   ]
  },
  {
   "cell_type": "code",
   "execution_count": null,
   "id": "c033a4f0-c895-43d4-b373-ba00aecbc839",
   "metadata": {},
   "outputs": [],
   "source": [
    "plot_train_test_distribution(df_list, \"S_11\", nunique_thr=150, figsize=(24, 9))"
   ]
  },
  {
   "cell_type": "code",
   "execution_count": null,
   "id": "dfe17730-0646-4c15-9ba2-46703c9eec1a",
   "metadata": {},
   "outputs": [],
   "source": [
    "train_corr_df[\"temp\"] = train_corr_df[\"S_11\"].abs()\n",
    "train_corr_df.nlargest(5, \"temp\")[[\"column\", \"temp\"]]"
   ]
  },
  {
   "cell_type": "code",
   "execution_count": null,
   "id": "069d6b73-4b4a-4483-8c91-7b475a04a143",
   "metadata": {},
   "outputs": [],
   "source": [
    "train[\"S_13\"].value_counts().iloc[:15]"
   ]
  },
  {
   "cell_type": "code",
   "execution_count": null,
   "id": "19594785-25f0-41d4-be7a-1b54e1baa49a",
   "metadata": {},
   "outputs": [],
   "source": [
    "temp = train.loc[train[\"S_13\"] == 1]"
   ]
  },
  {
   "cell_type": "code",
   "execution_count": null,
   "id": "a19d21a3-89d2-4b23-906c-f8e9dd45d46f",
   "metadata": {},
   "outputs": [],
   "source": [
    "# temp[\"S_11\"].value_counts()"
   ]
  },
  {
   "cell_type": "code",
   "execution_count": null,
   "id": "1418dbce-c640-42aa-97e6-aa0f23caa21b",
   "metadata": {
    "jupyter": {
     "source_hidden": true
    },
    "tags": []
   },
   "outputs": [],
   "source": [
    "for value in sorted(train[\"S_13\"].unique().tolist()):\n",
    "    if value != value:\n",
    "        continue\n",
    "    print(value)\n",
    "    temp = train.loc[train[\"S_13\"] == value]\n",
    "    print(temp.shape)\n",
    "    plot_target_check(temp, \"S_11\", q=50, use_raw_bin=True, nunique_thr=5000, strfy_x=True, figsize=(14, 6))"
   ]
  },
  {
   "cell_type": "code",
   "execution_count": null,
   "id": "fcdb368e-67d9-45c9-8fed-283dac0b6f6b",
   "metadata": {},
   "outputs": [],
   "source": [
    "# train[\"temp\"] = train[\"S_11\"] / train[\"S_13\"]\n",
    "# train[\"temp_mean\"] = train[\"S_13\"].map(dict(train.groupby([\"S_13\"])[\"S_11\"].mean()))\n",
    "# train[\"S_11a\"] = train[\"S_11\"] / train[\"temp_mean\"]"
   ]
  },
  {
   "cell_type": "code",
   "execution_count": null,
   "id": "bb01caf4-4bdf-42a7-baee-75ea70cb124c",
   "metadata": {},
   "outputs": [],
   "source": [
    "# plot_scatterplot(train, \"S_13\", \"S_11\", hue_column=\"target\", ticksize=12, figsize=(12, 7))"
   ]
  },
  {
   "cell_type": "code",
   "execution_count": null,
   "id": "fa04fa43-1a4c-4b0a-8641-c10a7db06302",
   "metadata": {},
   "outputs": [],
   "source": [
    "# plot_scatterplot(integer_train, \"S_13\", \"S_11\", hue_column=\"target\", ticksize=12, figsize=(12, 7))"
   ]
  },
  {
   "cell_type": "markdown",
   "id": "3949be6f-009f-4c0d-8755-72cf89f5dd43",
   "metadata": {},
   "source": [
    "### S_12"
   ]
  },
  {
   "cell_type": "code",
   "execution_count": null,
   "id": "4a2791cc-8c82-42a1-8d36-6dcf442f447b",
   "metadata": {},
   "outputs": [],
   "source": [
    "plot_target_check(train, \"S_12\", q=50, use_raw_bin=True, nunique_thr=5000, strfy_x=True)"
   ]
  },
  {
   "cell_type": "code",
   "execution_count": null,
   "id": "5007a4d9-ce63-43d2-bc29-bf98b816b3f6",
   "metadata": {},
   "outputs": [],
   "source": [
    "train_corr_df[\"temp\"] = train_corr_df[\"S_12\"].abs()\n",
    "train_corr_df.nlargest(5, \"temp\")[[\"column\", \"temp\"]]"
   ]
  },
  {
   "cell_type": "code",
   "execution_count": null,
   "id": "78568a21-6e62-4d42-8f3b-2125f197d8c3",
   "metadata": {},
   "outputs": [],
   "source": [
    "train[\"S_12\"].describe()"
   ]
  },
  {
   "cell_type": "code",
   "execution_count": null,
   "id": "64a7bc38-142f-44a5-9aa6-d49d79242280",
   "metadata": {},
   "outputs": [],
   "source": [
    "# plot_scatterplot(train.loc[train[\"S_12\"].between(0, 1)], \"S_12\", \"S_13\")#, size=\"pop\")"
   ]
  },
  {
   "cell_type": "code",
   "execution_count": null,
   "id": "06d86e7a-5b41-4144-8379-de526ba31e32",
   "metadata": {
    "tags": []
   },
   "outputs": [],
   "source": [
    "s12_min_max_df = train.groupby(\"customer_ID\").agg(\n",
    "    s12_max=(\"S_12\", \"max\"), \n",
    "    s12_min=(\"S_12\", \"min\")\n",
    ")"
   ]
  },
  {
   "cell_type": "code",
   "execution_count": null,
   "id": "e31a7995-2760-4263-b2a8-ce1c4e44c703",
   "metadata": {},
   "outputs": [],
   "source": [
    "s12_min_max_df.shape"
   ]
  },
  {
   "cell_type": "code",
   "execution_count": null,
   "id": "63b89dcf-6c34-438b-81ef-53f656f9b990",
   "metadata": {},
   "outputs": [],
   "source": [
    "s12_min_max_df"
   ]
  },
  {
   "cell_type": "code",
   "execution_count": null,
   "id": "f96c797f-33bd-4c9a-a482-f09e9f22391a",
   "metadata": {},
   "outputs": [],
   "source": [
    "pass_cid_list = s12_min_max_df.loc[(s12_min_max_df[\"s12_min\"] >= 0.18) & (s12_min_max_df[\"s12_max\"] <= 0.19)].index.tolist()"
   ]
  },
  {
   "cell_type": "code",
   "execution_count": null,
   "id": "27d5a40f-72be-4a3e-b4a0-36e00c29bce7",
   "metadata": {},
   "outputs": [],
   "source": [
    "train[\"S_12_\"] = train[\"S_12\"].values"
   ]
  },
  {
   "cell_type": "code",
   "execution_count": null,
   "id": "624fff85-5a5d-428c-b7b6-a1a0642c08af",
   "metadata": {},
   "outputs": [],
   "source": [
    "train.shape"
   ]
  },
  {
   "cell_type": "code",
   "execution_count": null,
   "id": "c8b0edef-5dd0-402c-b993-cbad7c5c1fec",
   "metadata": {},
   "outputs": [],
   "source": [
    "train.loc[~train[\"customer_ID\"].isin(pass_cid_list), \"S_12_\"].shape"
   ]
  },
  {
   "cell_type": "code",
   "execution_count": null,
   "id": "efc461c1-3285-47d1-8607-fad105587618",
   "metadata": {},
   "outputs": [],
   "source": [
    "train.loc[~train[\"customer_ID\"].isin(pass_cid_list), \"S_12_\"] = train.loc[\n",
    "    ~train[\"customer_ID\"].isin(pass_cid_list), \"S_12_\"\n",
    "].replace((0.18, 0.19), np.nan)"
   ]
  },
  {
   "cell_type": "code",
   "execution_count": null,
   "id": "1fde529a-0257-4179-9fa4-bd4b0778f4d4",
   "metadata": {},
   "outputs": [],
   "source": [
    "plot_target_check(train, \"S_12_\", q=50, use_raw_bin=True, nunique_thr=5000, strfy_x=True)"
   ]
  },
  {
   "cell_type": "code",
   "execution_count": null,
   "id": "178f649d-b95c-47bd-8221-968b4b65def2",
   "metadata": {},
   "outputs": [],
   "source": [
    "t = s12_min_max_df.loc[s12_min_max_df[\"s12_max\"] == s12_min_max_df[\"s12_min\"]]\n",
    "sus_cid_list = t.loc[t[\"s12_min\"].between(0.18, 0.19)].index.tolist()"
   ]
  },
  {
   "cell_type": "code",
   "execution_count": null,
   "id": "d705c024-ff0b-423e-9d66-a274fce5c3bc",
   "metadata": {},
   "outputs": [],
   "source": []
  },
  {
   "cell_type": "code",
   "execution_count": null,
   "id": "64b728df-5d90-4ded-b0aa-7a05fd3745b7",
   "metadata": {},
   "outputs": [],
   "source": [
    "train.loc[train[\"customer_ID\"].isin(sus_cid_list), \"S_12_\"] = np.nan"
   ]
  },
  {
   "cell_type": "code",
   "execution_count": null,
   "id": "c33ffc9f-5213-4f7d-a8b4-c065a3a886c9",
   "metadata": {},
   "outputs": [],
   "source": [
    "train[\"S_12\"]"
   ]
  },
  {
   "cell_type": "code",
   "execution_count": null,
   "id": "630a44ae-a01f-486f-9f8c-659fae7b5ba0",
   "metadata": {},
   "outputs": [],
   "source": []
  },
  {
   "cell_type": "code",
   "execution_count": null,
   "id": "3cf063b0-e1ae-443e-9bab-ed64428b3753",
   "metadata": {},
   "outputs": [],
   "source": []
  }
 ],
 "metadata": {
  "kernelspec": {
   "display_name": "amex",
   "language": "python",
   "name": "amex"
  },
  "language_info": {
   "codemirror_mode": {
    "name": "ipython",
    "version": 3
   },
   "file_extension": ".py",
   "mimetype": "text/x-python",
   "name": "python",
   "nbconvert_exporter": "python",
   "pygments_lexer": "ipython3",
   "version": "3.10.0"
  }
 },
 "nbformat": 4,
 "nbformat_minor": 5
}
