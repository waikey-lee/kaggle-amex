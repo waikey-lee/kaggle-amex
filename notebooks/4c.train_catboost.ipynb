{
 "cells": [
  {
   "cell_type": "code",
   "execution_count": 1,
   "id": "5dd2ca34-3410-4078-aa48-7adbba211ed5",
   "metadata": {},
   "outputs": [],
   "source": [
    "import catboost as cb\n",
    "import gc\n",
    "import joblib\n",
    "import json\n",
    "import matplotlib.pyplot as plt\n",
    "import numpy as np\n",
    "import optuna\n",
    "import pandas as pd\n",
    "import seaborn as sns\n",
    "import sys\n",
    "sys.path.append(\"../\")\n",
    "import warnings\n",
    "warnings.simplefilter(\"ignore\")\n",
    "from catboost import CatBoostClassifier, Pool\n",
    "from sklearn.metrics import roc_auc_score, fbeta_score, make_scorer\n",
    "from sklearn.model_selection import train_test_split, RandomizedSearchCV, StratifiedKFold\n",
    "from sklearn.preprocessing import StandardScaler\n",
    "from tqdm import tqdm"
   ]
  },
  {
   "cell_type": "code",
   "execution_count": 2,
   "id": "a084bef6-4434-40fb-bafc-d7d3e4c57a14",
   "metadata": {},
   "outputs": [],
   "source": [
    "from utils.common import (\n",
    "    sigmoid, pad_column_name\n",
    ")\n",
    "from utils.constants import *\n",
    "from utils.eval_helpers import (\n",
    "    plot_roc_curves, plot_feature_importance, \n",
    "    amex_metric, get_final_metric_df, amex_metric_np, lgb_amex_metric\n",
    ")\n",
    "from utils.eda_helpers import (\n",
    "    plot_missing_proportion_barchart, \n",
    "    get_cols\n",
    ")\n",
    "from utils.extraction_helpers import read_file\n",
    "from utils.feature_group import (\n",
    "    CATEGORY_COLUMNS, CONTINUOUS_COLUMNS, NON_FEATURE_COLUMNS\n",
    ")\n",
    "from utils.feature_engineering_helpers import feature_gen_pipeline"
   ]
  },
  {
   "cell_type": "code",
   "execution_count": 3,
   "id": "581d8181-e2f6-4a5d-b0d3-c99d7f6e0228",
   "metadata": {},
   "outputs": [],
   "source": [
    "from matplotlib.ticker import MaxNLocator\n",
    "from matplotlib.colors import ListedColormap\n",
    "from cycler import cycler\n",
    "from IPython.display import display\n",
    "from colorama import Fore, Back, Style\n",
    "plt.rcParams['axes.facecolor'] = '#0057b8' # blue\n",
    "plt.rcParams['axes.prop_cycle'] = cycler(color=['#ffd700'] +\n",
    "                                         plt.rcParams['axes.prop_cycle'].by_key()['color'][1:])\n",
    "plt.rcParams['text.color'] = 'w'"
   ]
  },
  {
   "cell_type": "code",
   "execution_count": 4,
   "id": "67194602-57fc-4e92-9801-8d600e52a5b2",
   "metadata": {},
   "outputs": [],
   "source": [
    "%load_ext autoreload\n",
    "%autoreload"
   ]
  },
  {
   "cell_type": "markdown",
   "id": "2e6f8367-cde1-4153-b19e-8c32ed293a8a",
   "metadata": {},
   "source": [
    "### Read Data"
   ]
  },
  {
   "cell_type": "code",
   "execution_count": 5,
   "id": "c6394181-899f-44b6-8c05-69fb9ea46dea",
   "metadata": {},
   "outputs": [
    {
     "name": "stdout",
     "output_type": "stream",
     "text": [
      "Shape of data: (458913, 4083)\n"
     ]
    }
   ],
   "source": [
    "train_agg = read_file(f\"{PROCESSED_DATA_PATH}/v2/train_agg.pkl\")\n"
   ]
  },
  {
   "cell_type": "code",
   "execution_count": 6,
   "id": "c3cdd6cc-9fd0-4783-94a6-4882f9b25dd8",
   "metadata": {},
   "outputs": [
    {
     "name": "stdout",
     "output_type": "stream",
     "text": [
      "Shape of data: (458913, 2)\n"
     ]
    }
   ],
   "source": [
    "labels = read_file(f\"{RAW_DATA_PATH}/train_labels.csv\")"
   ]
  },
  {
   "cell_type": "code",
   "execution_count": 7,
   "id": "626ceb6b-c5c0-41aa-a4b4-3a411c737322",
   "metadata": {},
   "outputs": [],
   "source": [
    "# %%time\n",
    "# train = pd.concat([\n",
    "#     spend_payment_df, \n",
    "#     risk_df.loc[:, get_cols(risk_df, \"R_\")]\n",
    "# ], axis=1)"
   ]
  },
  {
   "cell_type": "code",
   "execution_count": 8,
   "id": "541b0d18-376b-49d0-9759-27ea2551d7ee",
   "metadata": {},
   "outputs": [],
   "source": [
    "# train.loc[:, get_cols(train, \"R_\")] = train.loc[:, get_cols(train, \"R_\")].fillna(-127)"
   ]
  },
  {
   "cell_type": "markdown",
   "id": "5e6a2580-62d6-4d8b-b80c-3d913d3203d9",
   "metadata": {},
   "source": [
    "#### Generate Feature"
   ]
  },
  {
   "cell_type": "code",
   "execution_count": 9,
   "id": "b315162a-ccbd-48af-be45-4733fd9bc4dd",
   "metadata": {},
   "outputs": [],
   "source": [
    "# %%time\n",
    "# train_agg, keep_column = feature_gen_pipeline(train)"
   ]
  },
  {
   "cell_type": "code",
   "execution_count": 10,
   "id": "78fff7d1-3fca-48ed-bca5-fb0a74273960",
   "metadata": {},
   "outputs": [],
   "source": [
    "# train_agg.head(3)"
   ]
  },
  {
   "cell_type": "code",
   "execution_count": 11,
   "id": "f7149c32-2f57-4d9c-a23f-299729c5e4f4",
   "metadata": {},
   "outputs": [],
   "source": [
    "# len(features_to_drop)\n",
    "# train_agg = train_agg.drop(columns=list(features_to_drop), errors=\"ignore\")"
   ]
  },
  {
   "cell_type": "code",
   "execution_count": 12,
   "id": "65b0dbdd-fe83-467e-9704-73ab2ec952d9",
   "metadata": {},
   "outputs": [],
   "source": [
    "target = labels[\"target\"].values"
   ]
  },
  {
   "cell_type": "code",
   "execution_count": 13,
   "id": "885c10fa-ad38-47d7-8d29-e2a2c2764cbb",
   "metadata": {},
   "outputs": [
    {
     "name": "stdout",
     "output_type": "stream",
     "text": [
      "CPU times: user 1.33 s, sys: 9.64 s, total: 11 s\n",
      "Wall time: 25.2 s\n"
     ]
    },
    {
     "data": {
      "text/plain": [
       "4"
      ]
     },
     "execution_count": 13,
     "metadata": {},
     "output_type": "execute_result"
    }
   ],
   "source": [
    "%%time\n",
    "train_agg = train_agg.drop(columns=NON_FEATURE_COLUMNS + [\"target\"], errors=\"ignore\")\n",
    "gc.collect()"
   ]
  },
  {
   "cell_type": "code",
   "execution_count": 17,
   "id": "e9a275f5-3c10-4062-9da2-f8955193753d",
   "metadata": {},
   "outputs": [],
   "source": [
    "# feature_imp = dict(zip(model.feature_names_, model.feature_importances_))"
   ]
  },
  {
   "cell_type": "code",
   "execution_count": null,
   "id": "d9756831-41c9-4108-94ee-56d0de092a1c",
   "metadata": {},
   "outputs": [],
   "source": [
    "noob_features = [k for k, v in feature_imp.items() if v < 0.005]"
   ]
  },
  {
   "cell_type": "code",
   "execution_count": null,
   "id": "4ef245a0-de43-4f06-8053-c236030f6d35",
   "metadata": {},
   "outputs": [],
   "source": [
    "len(noob_features)"
   ]
  },
  {
   "cell_type": "code",
   "execution_count": null,
   "id": "1ccd075e-5e95-40e0-ad25-b2276eb6e435",
   "metadata": {},
   "outputs": [],
   "source": [
    "train_agg = train_agg.drop(noob_features, errors=\"ignore\")"
   ]
  },
  {
   "cell_type": "markdown",
   "id": "60f01254-a420-4b71-87a0-f424c776c491",
   "metadata": {},
   "source": [
    "### Tune Catboost"
   ]
  },
  {
   "cell_type": "code",
   "execution_count": 21,
   "id": "518e34ae-7eb0-49ea-bd74-559b7d9def27",
   "metadata": {},
   "outputs": [],
   "source": [
    "def objective(trial):\n",
    "    kf = StratifiedKFold(n_splits=5, shuffle=True, random_state=1020)\n",
    "\n",
    "    param = {\n",
    "        \"objective\": \"Logloss\",\n",
    "        \"colsample_bylevel\": trial.suggest_float(\"colsample_bylevel\", 0.03, 0.1, log=True),\n",
    "        \"depth\": trial.suggest_int(\"depth\", 8, 15),\n",
    "        \"random_strength\": trial.suggest_float(\"random_strength\", 1.1, 1.5),\n",
    "        \"class_weights\": trial.suggest_categorical(\"class_weights\", [[1, 1.25], [1, 1.5], [1, 2]]),\n",
    "        \"n_estimators\": trial.suggest_categorical(\"n_estimators\", [500, 750, 1000]),\n",
    "        \"l2_leaf_reg\": trial.suggest_float(\"l2_leaf_reg\", 2, 8, log=True),\n",
    "        \"min_data_in_leaf\": trial.suggest_categorical(\"min_data_in_leaf\", [1024, 2048, 3072]),\n",
    "        \"learning_rate\": trial.suggest_categorical(\"learning_rate\", [0.03, 0.05, 0.08]),\n",
    "        \"max_bin\": trial.suggest_categorical(\"max_bin\", [63, 127, 255]),\n",
    "        \"used_ram_limit\": \"16gb\",\n",
    "        \"bootstrap_type\": \"MVS\",\n",
    "        # \"boosting_type\": trial.suggest_categorical(\"boosting_type\", [\"Ordered\", \"Plain\"]),\n",
    "        \"grow_policy\": \"Depthwise\"\n",
    "    }\n",
    "\n",
    "    if param[\"bootstrap_type\"] == \"Bernoulli\":\n",
    "        param[\"subsample\"] = trial.suggest_float(\"subsample\", 0.6, 0.85)\n",
    "    \n",
    "    print(param)\n",
    "    train_score_list, val_score_list = [], []\n",
    "    for fold, (idx_tr, idx_va) in zip(range(1, 5+1), kf.split(train_agg, target)):\n",
    "        fold = str(fold)\n",
    "        X_train, y_train = train_agg.iloc[idx_tr], target[idx_tr]\n",
    "        X_val, y_val = train_agg.iloc[idx_va], target[idx_va]\n",
    "        with warnings.catch_warnings():\n",
    "            warnings.filterwarnings('ignore', category=UserWarning)\n",
    "            model = cb.CatBoostClassifier(**param)\n",
    "            model.fit(\n",
    "                X_train, \n",
    "                y_train, \n",
    "                eval_set=[(X_val, y_val)], \n",
    "                verbose=0, \n",
    "                cat_features=cat_features,\n",
    "                early_stopping_rounds=100\n",
    "            )\n",
    "        y_train_pred = model.predict(X_train, prediction_type='RawFormulaVal')\n",
    "        train_score, train_g, train_t4 = amex_metric(y_train, y_train_pred)\n",
    "        train_data, X_train, y_train = None, None, None\n",
    "        y_val_pred = model.predict(X_val, prediction_type='RawFormulaVal')\n",
    "        val_score, val_g, val_t4 = amex_metric(y_val, y_val_pred)\n",
    "        valid_data, X_val, y_val = None, None, None\n",
    "        train_score_list.append(train_score)\n",
    "        val_score_list.append(val_score)\n",
    "        # if val_score > best_scores_json[\"validation\"][fold]:\n",
    "        #     best_scores_json[\"train\"][fold] = train_score\n",
    "        #     best_scores_json[\"validation\"][fold] = val_score\n",
    "        #     with open(f'{CURRENT_EXP_PATH}/best_scores.json', \"w\") as outfile:\n",
    "        #         json.dump(best_scores_json, outfile)\n",
    "        #     joblib.dump(model, f'{CURRENT_EXP_PATH}/models/model{fold}.pkl')\n",
    "        # elif np.mean(train_score_list) >= np.mean(list(best_scores_json[\"train\"].values())) + 0.02:\n",
    "        #     print(f\"Train score too high (overfitting), start a new trial\")\n",
    "        #     return np.mean(val_score_list)\n",
    "        joblib.dump(model, f'{EXP_PATH}/catboost_exp/models/model{fold}_seed1020_{val_score:.5f}.pkl')\n",
    "        print(f\"{Fore.BLUE}{Style.BRIGHT}Fold {fold} | Train Score = {train_score:.5f} ({train_g:.4f}, {train_t4:.4f})\")\n",
    "        print(f\"{Fore.GREEN}{Style.BRIGHT}Fold {fold} | Val Score = {val_score:.5f} ({val_g:.4f}, {val_t4:.4f}){Style.RESET_ALL}\")\n",
    "        print(f\"Clear cache {gc.collect()}\")\n",
    "        \n",
    "    return np.mean(val_score_list)"
   ]
  },
  {
   "cell_type": "code",
   "execution_count": 22,
   "id": "aaee1a06-79a7-452e-84d8-674c051daffb",
   "metadata": {},
   "outputs": [],
   "source": [
    "# study = joblib.load(f\"{CURRENT_EXP_PATH}/optuna_study.pkl\")"
   ]
  },
  {
   "cell_type": "code",
   "execution_count": 23,
   "id": "f7f96d14-76be-4e64-af39-498a9e21d9e1",
   "metadata": {},
   "outputs": [
    {
     "name": "stderr",
     "output_type": "stream",
     "text": [
      "\u001b[32m[I 2022-08-22 03:05:12,622]\u001b[0m A new study created in memory with name: no-name-b960f36f-1831-4b57-aeab-3c18afed776a\u001b[0m\n"
     ]
    }
   ],
   "source": [
    "study = optuna.create_study(direction=\"maximize\")"
   ]
  },
  {
   "cell_type": "code",
   "execution_count": 24,
   "id": "c644f203-12c6-416d-8785-93d31dd8d949",
   "metadata": {},
   "outputs": [
    {
     "name": "stdout",
     "output_type": "stream",
     "text": [
      "{'objective': 'Logloss', 'colsample_bylevel': 0.07996767207704472, 'depth': 15, 'random_strength': 1.1383999051610745, 'class_weights': [1, 1.5], 'n_estimators': 1000, 'l2_leaf_reg': 3.385613504354621, 'min_data_in_leaf': 1024, 'learning_rate': 0.05, 'max_bin': 255, 'used_ram_limit': '16gb', 'bootstrap_type': 'MVS', 'grow_policy': 'Depthwise'}\n",
      "\u001b[34m\u001b[1mFold 1 | Train Score = 0.93139 (0.9748, 0.8880)\n",
      "\u001b[32m\u001b[1mFold 1 | Val Score = 0.79156 (0.9216, 0.6615)\u001b[0m\n",
      "Clear cache 0\n",
      "\u001b[34m\u001b[1mFold 2 | Train Score = 0.93222 (0.9750, 0.8895)\n",
      "\u001b[32m\u001b[1mFold 2 | Val Score = 0.79208 (0.9229, 0.6613)\u001b[0m\n",
      "Clear cache 0\n",
      "\u001b[34m\u001b[1mFold 3 | Train Score = 0.93716 (0.9767, 0.8977)\n",
      "\u001b[32m\u001b[1mFold 3 | Val Score = 0.79357 (0.9243, 0.6629)\u001b[0m\n",
      "Clear cache 0\n",
      "\u001b[34m\u001b[1mFold 4 | Train Score = 0.93660 (0.9766, 0.8966)\n",
      "\u001b[32m\u001b[1mFold 4 | Val Score = 0.79715 (0.9241, 0.6702)\u001b[0m\n",
      "Clear cache 0\n"
     ]
    },
    {
     "name": "stderr",
     "output_type": "stream",
     "text": [
      "\u001b[32m[I 2022-08-22 04:22:40,531]\u001b[0m Trial 0 finished with value: 0.7939853451203132 and parameters: {'colsample_bylevel': 0.07996767207704472, 'depth': 15, 'random_strength': 1.1383999051610745, 'class_weights': [1, 1.5], 'n_estimators': 1000, 'l2_leaf_reg': 3.385613504354621, 'min_data_in_leaf': 1024, 'learning_rate': 0.05, 'max_bin': 255}. Best is trial 0 with value: 0.7939853451203132.\u001b[0m\n"
     ]
    },
    {
     "name": "stdout",
     "output_type": "stream",
     "text": [
      "\u001b[34m\u001b[1mFold 5 | Train Score = 0.93520 (0.9759, 0.8945)\n",
      "\u001b[32m\u001b[1mFold 5 | Val Score = 0.79557 (0.9251, 0.6661)\u001b[0m\n",
      "Clear cache 0\n",
      "{'objective': 'Logloss', 'colsample_bylevel': 0.06861115112895604, 'depth': 10, 'random_strength': 1.1496130055769387, 'class_weights': [1, 1.25], 'n_estimators': 750, 'l2_leaf_reg': 4.659639396354976, 'min_data_in_leaf': 2048, 'learning_rate': 0.05, 'max_bin': 127, 'used_ram_limit': '16gb', 'bootstrap_type': 'MVS', 'grow_policy': 'Depthwise'}\n",
      "\u001b[34m\u001b[1mFold 1 | Train Score = 0.88410 (0.9575, 0.8107)\n",
      "\u001b[32m\u001b[1mFold 1 | Val Score = 0.79177 (0.9220, 0.6615)\u001b[0m\n",
      "Clear cache 0\n",
      "\u001b[34m\u001b[1mFold 2 | Train Score = 0.88272 (0.9571, 0.8084)\n",
      "\u001b[32m\u001b[1mFold 2 | Val Score = 0.79258 (0.9232, 0.6620)\u001b[0m\n",
      "Clear cache 0\n",
      "\u001b[34m\u001b[1mFold 3 | Train Score = 0.88032 (0.9561, 0.8046)\n",
      "\u001b[32m\u001b[1mFold 3 | Val Score = 0.79460 (0.9246, 0.6646)\u001b[0m\n",
      "Clear cache 0\n",
      "\u001b[34m\u001b[1mFold 4 | Train Score = 0.87961 (0.9561, 0.8032)\n",
      "\u001b[32m\u001b[1mFold 4 | Val Score = 0.79744 (0.9242, 0.6707)\u001b[0m\n",
      "Clear cache 0\n"
     ]
    },
    {
     "name": "stderr",
     "output_type": "stream",
     "text": [
      "\u001b[32m[I 2022-08-22 05:15:06,196]\u001b[0m Trial 1 finished with value: 0.7944883370440556 and parameters: {'colsample_bylevel': 0.06861115112895604, 'depth': 10, 'random_strength': 1.1496130055769387, 'class_weights': [1, 1.25], 'n_estimators': 750, 'l2_leaf_reg': 4.659639396354976, 'min_data_in_leaf': 2048, 'learning_rate': 0.05, 'max_bin': 127}. Best is trial 1 with value: 0.7944883370440556.\u001b[0m\n"
     ]
    },
    {
     "name": "stdout",
     "output_type": "stream",
     "text": [
      "\u001b[34m\u001b[1mFold 5 | Train Score = 0.88036 (0.9561, 0.8046)\n",
      "\u001b[32m\u001b[1mFold 5 | Val Score = 0.79605 (0.9252, 0.6669)\u001b[0m\n",
      "Clear cache 0\n",
      "{'objective': 'Logloss', 'colsample_bylevel': 0.04765602557412835, 'depth': 14, 'random_strength': 1.4548330556514888, 'class_weights': [1, 1.5], 'n_estimators': 1000, 'l2_leaf_reg': 2.217173179895009, 'min_data_in_leaf': 2048, 'learning_rate': 0.05, 'max_bin': 255, 'used_ram_limit': '16gb', 'bootstrap_type': 'MVS', 'grow_policy': 'Depthwise'}\n",
      "\u001b[34m\u001b[1mFold 1 | Train Score = 0.91501 (0.9694, 0.8607)\n",
      "\u001b[32m\u001b[1mFold 1 | Val Score = 0.79160 (0.9218, 0.6614)\u001b[0m\n",
      "Clear cache 0\n",
      "\u001b[34m\u001b[1mFold 2 | Train Score = 0.90037 (0.9645, 0.8362)\n",
      "\u001b[32m\u001b[1mFold 2 | Val Score = 0.79239 (0.9232, 0.6616)\u001b[0m\n",
      "Clear cache 0\n",
      "\u001b[34m\u001b[1mFold 3 | Train Score = 0.92197 (0.9716, 0.8723)\n",
      "\u001b[32m\u001b[1mFold 3 | Val Score = 0.79625 (0.9246, 0.6679)\u001b[0m\n",
      "Clear cache 0\n",
      "\u001b[34m\u001b[1mFold 4 | Train Score = 0.90053 (0.9645, 0.8366)\n",
      "\u001b[32m\u001b[1mFold 4 | Val Score = 0.79586 (0.9244, 0.6673)\u001b[0m\n",
      "Clear cache 0\n"
     ]
    },
    {
     "name": "stderr",
     "output_type": "stream",
     "text": [
      "\u001b[32m[I 2022-08-22 06:12:43,139]\u001b[0m Trial 2 finished with value: 0.79449853467745 and parameters: {'colsample_bylevel': 0.04765602557412835, 'depth': 14, 'random_strength': 1.4548330556514888, 'class_weights': [1, 1.5], 'n_estimators': 1000, 'l2_leaf_reg': 2.217173179895009, 'min_data_in_leaf': 2048, 'learning_rate': 0.05, 'max_bin': 255}. Best is trial 2 with value: 0.79449853467745.\u001b[0m\n"
     ]
    },
    {
     "name": "stdout",
     "output_type": "stream",
     "text": [
      "\u001b[34m\u001b[1mFold 5 | Train Score = 0.89514 (0.9626, 0.8277)\n",
      "\u001b[32m\u001b[1mFold 5 | Val Score = 0.79639 (0.9253, 0.6675)\u001b[0m\n",
      "Clear cache 0\n",
      "{'objective': 'Logloss', 'colsample_bylevel': 0.058792782540413084, 'depth': 11, 'random_strength': 1.1671245090432862, 'class_weights': [1, 2], 'n_estimators': 500, 'l2_leaf_reg': 5.502101613895891, 'min_data_in_leaf': 3072, 'learning_rate': 0.08, 'max_bin': 127, 'used_ram_limit': '16gb', 'bootstrap_type': 'MVS', 'grow_policy': 'Depthwise'}\n",
      "\u001b[34m\u001b[1mFold 1 | Train Score = 0.86942 (0.9551, 0.7838)\n",
      "\u001b[32m\u001b[1mFold 1 | Val Score = 0.79004 (0.9210, 0.6591)\u001b[0m\n",
      "Clear cache 0\n",
      "\u001b[34m\u001b[1mFold 2 | Train Score = 0.87118 (0.9558, 0.7866)\n",
      "\u001b[32m\u001b[1mFold 2 | Val Score = 0.79057 (0.9225, 0.6586)\u001b[0m\n",
      "Clear cache 0\n",
      "\u001b[34m\u001b[1mFold 3 | Train Score = 0.86920 (0.9552, 0.7832)\n",
      "\u001b[32m\u001b[1mFold 3 | Val Score = 0.79255 (0.9238, 0.6613)\u001b[0m\n",
      "Clear cache 0\n",
      "\u001b[34m\u001b[1mFold 4 | Train Score = 0.86686 (0.9544, 0.7793)\n",
      "\u001b[32m\u001b[1mFold 4 | Val Score = 0.79444 (0.9239, 0.6650)\u001b[0m\n",
      "Clear cache 0\n"
     ]
    },
    {
     "name": "stderr",
     "output_type": "stream",
     "text": [
      "\u001b[32m[I 2022-08-22 06:47:11,073]\u001b[0m Trial 3 finished with value: 0.792027363872952 and parameters: {'colsample_bylevel': 0.058792782540413084, 'depth': 11, 'random_strength': 1.1671245090432862, 'class_weights': [1, 2], 'n_estimators': 500, 'l2_leaf_reg': 5.502101613895891, 'min_data_in_leaf': 3072, 'learning_rate': 0.08, 'max_bin': 127}. Best is trial 2 with value: 0.79449853467745.\u001b[0m\n"
     ]
    },
    {
     "name": "stdout",
     "output_type": "stream",
     "text": [
      "\u001b[34m\u001b[1mFold 5 | Train Score = 0.87103 (0.9560, 0.7861)\n",
      "\u001b[32m\u001b[1mFold 5 | Val Score = 0.79254 (0.9243, 0.6608)\u001b[0m\n",
      "Clear cache 0\n",
      "{'objective': 'Logloss', 'colsample_bylevel': 0.05108481543244202, 'depth': 14, 'random_strength': 1.3742087146430397, 'class_weights': [1, 2], 'n_estimators': 750, 'l2_leaf_reg': 5.324168370666481, 'min_data_in_leaf': 1024, 'learning_rate': 0.08, 'max_bin': 255, 'used_ram_limit': '16gb', 'bootstrap_type': 'MVS', 'grow_policy': 'Depthwise'}\n",
      "\u001b[34m\u001b[1mFold 1 | Train Score = 0.89067 (0.9627, 0.8186)\n",
      "\u001b[32m\u001b[1mFold 1 | Val Score = 0.78818 (0.9203, 0.6561)\u001b[0m\n",
      "Clear cache 0\n",
      "\u001b[34m\u001b[1mFold 2 | Train Score = 0.88853 (0.9619, 0.8152)\n",
      "\u001b[32m\u001b[1mFold 2 | Val Score = 0.78872 (0.9214, 0.6561)\u001b[0m\n",
      "Clear cache 0\n",
      "\u001b[34m\u001b[1mFold 3 | Train Score = 0.91553 (0.9708, 0.8602)\n",
      "\u001b[32m\u001b[1mFold 3 | Val Score = 0.79435 (0.9234, 0.6653)\u001b[0m\n",
      "Clear cache 0\n",
      "\u001b[34m\u001b[1mFold 4 | Train Score = 0.90238 (0.9667, 0.8380)\n",
      "\u001b[32m\u001b[1mFold 4 | Val Score = 0.79269 (0.9228, 0.6626)\u001b[0m\n",
      "Clear cache 0\n"
     ]
    },
    {
     "name": "stderr",
     "output_type": "stream",
     "text": [
      "\u001b[32m[I 2022-08-22 07:26:31,007]\u001b[0m Trial 4 finished with value: 0.7911820231862878 and parameters: {'colsample_bylevel': 0.05108481543244202, 'depth': 14, 'random_strength': 1.3742087146430397, 'class_weights': [1, 2], 'n_estimators': 750, 'l2_leaf_reg': 5.324168370666481, 'min_data_in_leaf': 1024, 'learning_rate': 0.08, 'max_bin': 255}. Best is trial 2 with value: 0.79449853467745.\u001b[0m\n"
     ]
    },
    {
     "name": "stdout",
     "output_type": "stream",
     "text": [
      "\u001b[34m\u001b[1mFold 5 | Train Score = 0.89949 (0.9658, 0.8332)\n",
      "\u001b[32m\u001b[1mFold 5 | Val Score = 0.79197 (0.9239, 0.6600)\u001b[0m\n",
      "Clear cache 0\n",
      "{'objective': 'Logloss', 'colsample_bylevel': 0.059498578092856726, 'depth': 15, 'random_strength': 1.3071491569450584, 'class_weights': [1, 2], 'n_estimators': 500, 'l2_leaf_reg': 5.843687137532123, 'min_data_in_leaf': 2048, 'learning_rate': 0.03, 'max_bin': 127, 'used_ram_limit': '16gb', 'bootstrap_type': 'MVS', 'grow_policy': 'Depthwise'}\n",
      "\u001b[34m\u001b[1mFold 1 | Train Score = 0.84830 (0.9472, 0.7494)\n",
      "\u001b[32m\u001b[1mFold 1 | Val Score = 0.79025 (0.9213, 0.6592)\u001b[0m\n",
      "Clear cache 0\n",
      "\u001b[34m\u001b[1mFold 2 | Train Score = 0.84699 (0.9467, 0.7473)\n",
      "\u001b[32m\u001b[1mFold 2 | Val Score = 0.79169 (0.9227, 0.6607)\u001b[0m\n",
      "Clear cache 0\n",
      "\u001b[34m\u001b[1mFold 3 | Train Score = 0.84723 (0.9468, 0.7477)\n",
      "\u001b[32m\u001b[1mFold 3 | Val Score = 0.79389 (0.9241, 0.6637)\u001b[0m\n",
      "Clear cache 0\n",
      "\u001b[34m\u001b[1mFold 4 | Train Score = 0.84595 (0.9466, 0.7453)\n",
      "\u001b[32m\u001b[1mFold 4 | Val Score = 0.79458 (0.9237, 0.6655)\u001b[0m\n",
      "Clear cache 0\n"
     ]
    },
    {
     "name": "stderr",
     "output_type": "stream",
     "text": [
      "\u001b[32m[I 2022-08-22 08:23:40,560]\u001b[0m Trial 5 finished with value: 0.792893588415201 and parameters: {'colsample_bylevel': 0.059498578092856726, 'depth': 15, 'random_strength': 1.3071491569450584, 'class_weights': [1, 2], 'n_estimators': 500, 'l2_leaf_reg': 5.843687137532123, 'min_data_in_leaf': 2048, 'learning_rate': 0.03, 'max_bin': 127}. Best is trial 2 with value: 0.79449853467745.\u001b[0m\n"
     ]
    },
    {
     "name": "stdout",
     "output_type": "stream",
     "text": [
      "\u001b[34m\u001b[1mFold 5 | Train Score = 0.84576 (0.9464, 0.7451)\n",
      "\u001b[32m\u001b[1mFold 5 | Val Score = 0.79407 (0.9249, 0.6632)\u001b[0m\n",
      "Clear cache 0\n",
      "{'objective': 'Logloss', 'colsample_bylevel': 0.037012726383805004, 'depth': 15, 'random_strength': 1.314425232089429, 'class_weights': [1, 1.25], 'n_estimators': 750, 'l2_leaf_reg': 7.288068275796802, 'min_data_in_leaf': 2048, 'learning_rate': 0.03, 'max_bin': 127, 'used_ram_limit': '16gb', 'bootstrap_type': 'MVS', 'grow_policy': 'Depthwise'}\n",
      "\u001b[34m\u001b[1mFold 1 | Train Score = 0.89369 (0.9611, 0.8263)\n",
      "\u001b[32m\u001b[1mFold 1 | Val Score = 0.79322 (0.9219, 0.6645)\u001b[0m\n",
      "Clear cache 0\n",
      "\u001b[34m\u001b[1mFold 2 | Train Score = 0.89400 (0.9611, 0.8269)\n",
      "\u001b[32m\u001b[1mFold 2 | Val Score = 0.79259 (0.9234, 0.6617)\u001b[0m\n",
      "Clear cache 0\n",
      "\u001b[34m\u001b[1mFold 3 | Train Score = 0.89479 (0.9611, 0.8285)\n",
      "\u001b[32m\u001b[1mFold 3 | Val Score = 0.79711 (0.9251, 0.6691)\u001b[0m\n",
      "Clear cache 0\n",
      "\u001b[34m\u001b[1mFold 4 | Train Score = 0.89371 (0.9609, 0.8265)\n",
      "\u001b[32m\u001b[1mFold 4 | Val Score = 0.79692 (0.9246, 0.6693)\u001b[0m\n",
      "Clear cache 0\n"
     ]
    },
    {
     "name": "stderr",
     "output_type": "stream",
     "text": [
      "\u001b[32m[I 2022-08-22 09:25:18,362]\u001b[0m Trial 6 finished with value: 0.7951733682088421 and parameters: {'colsample_bylevel': 0.037012726383805004, 'depth': 15, 'random_strength': 1.314425232089429, 'class_weights': [1, 1.25], 'n_estimators': 750, 'l2_leaf_reg': 7.288068275796802, 'min_data_in_leaf': 2048, 'learning_rate': 0.03, 'max_bin': 127}. Best is trial 6 with value: 0.7951733682088421.\u001b[0m\n"
     ]
    },
    {
     "name": "stdout",
     "output_type": "stream",
     "text": [
      "\u001b[34m\u001b[1mFold 5 | Train Score = 0.89375 (0.9607, 0.8267)\n",
      "\u001b[32m\u001b[1mFold 5 | Val Score = 0.79602 (0.9257, 0.6663)\u001b[0m\n",
      "Clear cache 0\n",
      "{'objective': 'Logloss', 'colsample_bylevel': 0.0303377100038264, 'depth': 15, 'random_strength': 1.1431218357244004, 'class_weights': [1, 2], 'n_estimators': 1000, 'l2_leaf_reg': 5.024136281118513, 'min_data_in_leaf': 2048, 'learning_rate': 0.08, 'max_bin': 255, 'used_ram_limit': '16gb', 'bootstrap_type': 'MVS', 'grow_policy': 'Depthwise'}\n",
      "\u001b[34m\u001b[1mFold 1 | Train Score = 0.88582 (0.9615, 0.8101)\n",
      "\u001b[32m\u001b[1mFold 1 | Val Score = 0.78911 (0.9208, 0.6574)\u001b[0m\n",
      "Clear cache 0\n",
      "\u001b[34m\u001b[1mFold 2 | Train Score = 0.88595 (0.9612, 0.8107)\n",
      "\u001b[32m\u001b[1mFold 2 | Val Score = 0.78912 (0.9220, 0.6562)\u001b[0m\n",
      "Clear cache 0\n",
      "\u001b[34m\u001b[1mFold 3 | Train Score = 0.89050 (0.9625, 0.8185)\n",
      "\u001b[32m\u001b[1mFold 3 | Val Score = 0.79424 (0.9240, 0.6645)\u001b[0m\n",
      "Clear cache 0\n",
      "\u001b[34m\u001b[1mFold 4 | Train Score = 0.89835 (0.9654, 0.8313)\n",
      "\u001b[32m\u001b[1mFold 4 | Val Score = 0.79306 (0.9235, 0.6626)\u001b[0m\n",
      "Clear cache 0\n",
      "\u001b[34m\u001b[1mFold 5 | Train Score = 0.87735 (0.9578, 0.7969)\n",
      "\u001b[32m\u001b[1mFold 5 | Val Score = 0.79197 (0.9239, 0.6600)\u001b[0m\n",
      "Clear cache 0\n"
     ]
    },
    {
     "name": "stderr",
     "output_type": "stream",
     "text": [
      "\u001b[32m[I 2022-08-22 09:56:50,239]\u001b[0m Trial 7 finished with value: 0.7914996180678676 and parameters: {'colsample_bylevel': 0.0303377100038264, 'depth': 15, 'random_strength': 1.1431218357244004, 'class_weights': [1, 2], 'n_estimators': 1000, 'l2_leaf_reg': 5.024136281118513, 'min_data_in_leaf': 2048, 'learning_rate': 0.08, 'max_bin': 255}. Best is trial 6 with value: 0.7951733682088421.\u001b[0m\n"
     ]
    },
    {
     "name": "stdout",
     "output_type": "stream",
     "text": [
      "{'objective': 'Logloss', 'colsample_bylevel': 0.04911094180345822, 'depth': 11, 'random_strength': 1.113375484463458, 'class_weights': [1, 1.5], 'n_estimators': 1000, 'l2_leaf_reg': 5.884720669253448, 'min_data_in_leaf': 2048, 'learning_rate': 0.08, 'max_bin': 127, 'used_ram_limit': '16gb', 'bootstrap_type': 'MVS', 'grow_policy': 'Depthwise'}\n",
      "\u001b[34m\u001b[1mFold 1 | Train Score = 0.87623 (0.9559, 0.7966)\n",
      "\u001b[32m\u001b[1mFold 1 | Val Score = 0.78906 (0.9207, 0.6574)\u001b[0m\n",
      "Clear cache 0\n",
      "\u001b[34m\u001b[1mFold 2 | Train Score = 0.88296 (0.9582, 0.8077)\n",
      "\u001b[32m\u001b[1mFold 2 | Val Score = 0.78920 (0.9224, 0.6560)\u001b[0m\n",
      "Clear cache 0\n",
      "\u001b[34m\u001b[1mFold 3 | Train Score = 0.91180 (0.9678, 0.8558)\n",
      "\u001b[32m\u001b[1mFold 3 | Val Score = 0.79381 (0.9237, 0.6639)\u001b[0m\n",
      "Clear cache 0\n",
      "\u001b[34m\u001b[1mFold 4 | Train Score = 0.88854 (0.9603, 0.8168)\n",
      "\u001b[32m\u001b[1mFold 4 | Val Score = 0.79479 (0.9241, 0.6655)\u001b[0m\n",
      "Clear cache 0\n",
      "\u001b[34m\u001b[1mFold 5 | Train Score = 0.87173 (0.9544, 0.7891)\n",
      "\u001b[32m\u001b[1mFold 5 | Val Score = 0.79453 (0.9249, 0.6642)\u001b[0m\n",
      "Clear cache 0\n"
     ]
    },
    {
     "name": "stderr",
     "output_type": "stream",
     "text": [
      "\u001b[32m[I 2022-08-22 10:33:05,706]\u001b[0m Trial 8 finished with value: 0.792276153840165 and parameters: {'colsample_bylevel': 0.04911094180345822, 'depth': 11, 'random_strength': 1.113375484463458, 'class_weights': [1, 1.5], 'n_estimators': 1000, 'l2_leaf_reg': 5.884720669253448, 'min_data_in_leaf': 2048, 'learning_rate': 0.08, 'max_bin': 127}. Best is trial 6 with value: 0.7951733682088421.\u001b[0m\n"
     ]
    },
    {
     "name": "stdout",
     "output_type": "stream",
     "text": [
      "{'objective': 'Logloss', 'colsample_bylevel': 0.07380057074910772, 'depth': 12, 'random_strength': 1.3006359729951702, 'class_weights': [1, 2], 'n_estimators': 750, 'l2_leaf_reg': 2.313422208449659, 'min_data_in_leaf': 1024, 'learning_rate': 0.05, 'max_bin': 127, 'used_ram_limit': '16gb', 'bootstrap_type': 'MVS', 'grow_policy': 'Depthwise'}\n"
     ]
    },
    {
     "ename": "KeyboardInterrupt",
     "evalue": "",
     "output_type": "error",
     "traceback": [
      "\u001b[0;31m---------------------------------------------------------------------------\u001b[0m",
      "\u001b[0;31mKeyboardInterrupt\u001b[0m                         Traceback (most recent call last)",
      "Input \u001b[0;32mIn [24]\u001b[0m, in \u001b[0;36m<cell line: 1>\u001b[0;34m()\u001b[0m\n\u001b[0;32m----> 1\u001b[0m \u001b[43mstudy\u001b[49m\u001b[38;5;241;43m.\u001b[39;49m\u001b[43moptimize\u001b[49m\u001b[43m(\u001b[49m\u001b[43mobjective\u001b[49m\u001b[43m,\u001b[49m\u001b[43m \u001b[49m\u001b[43mn_trials\u001b[49m\u001b[38;5;241;43m=\u001b[39;49m\u001b[38;5;241;43m20\u001b[39;49m\u001b[43m)\u001b[49m\n",
      "File \u001b[0;32m~/miniconda3/envs/amex/lib/python3.10/site-packages/optuna/study/study.py:400\u001b[0m, in \u001b[0;36mStudy.optimize\u001b[0;34m(self, func, n_trials, timeout, n_jobs, catch, callbacks, gc_after_trial, show_progress_bar)\u001b[0m\n\u001b[1;32m    392\u001b[0m \u001b[38;5;28;01mif\u001b[39;00m n_jobs \u001b[38;5;241m!=\u001b[39m \u001b[38;5;241m1\u001b[39m:\n\u001b[1;32m    393\u001b[0m     warnings\u001b[38;5;241m.\u001b[39mwarn(\n\u001b[1;32m    394\u001b[0m         \u001b[38;5;124m\"\u001b[39m\u001b[38;5;124m`n_jobs` argument has been deprecated in v2.7.0. \u001b[39m\u001b[38;5;124m\"\u001b[39m\n\u001b[1;32m    395\u001b[0m         \u001b[38;5;124m\"\u001b[39m\u001b[38;5;124mThis feature will be removed in v4.0.0. \u001b[39m\u001b[38;5;124m\"\u001b[39m\n\u001b[1;32m    396\u001b[0m         \u001b[38;5;124m\"\u001b[39m\u001b[38;5;124mSee https://github.com/optuna/optuna/releases/tag/v2.7.0.\u001b[39m\u001b[38;5;124m\"\u001b[39m,\n\u001b[1;32m    397\u001b[0m         \u001b[38;5;167;01mFutureWarning\u001b[39;00m,\n\u001b[1;32m    398\u001b[0m     )\n\u001b[0;32m--> 400\u001b[0m \u001b[43m_optimize\u001b[49m\u001b[43m(\u001b[49m\n\u001b[1;32m    401\u001b[0m \u001b[43m    \u001b[49m\u001b[43mstudy\u001b[49m\u001b[38;5;241;43m=\u001b[39;49m\u001b[38;5;28;43mself\u001b[39;49m\u001b[43m,\u001b[49m\n\u001b[1;32m    402\u001b[0m \u001b[43m    \u001b[49m\u001b[43mfunc\u001b[49m\u001b[38;5;241;43m=\u001b[39;49m\u001b[43mfunc\u001b[49m\u001b[43m,\u001b[49m\n\u001b[1;32m    403\u001b[0m \u001b[43m    \u001b[49m\u001b[43mn_trials\u001b[49m\u001b[38;5;241;43m=\u001b[39;49m\u001b[43mn_trials\u001b[49m\u001b[43m,\u001b[49m\n\u001b[1;32m    404\u001b[0m \u001b[43m    \u001b[49m\u001b[43mtimeout\u001b[49m\u001b[38;5;241;43m=\u001b[39;49m\u001b[43mtimeout\u001b[49m\u001b[43m,\u001b[49m\n\u001b[1;32m    405\u001b[0m \u001b[43m    \u001b[49m\u001b[43mn_jobs\u001b[49m\u001b[38;5;241;43m=\u001b[39;49m\u001b[43mn_jobs\u001b[49m\u001b[43m,\u001b[49m\n\u001b[1;32m    406\u001b[0m \u001b[43m    \u001b[49m\u001b[43mcatch\u001b[49m\u001b[38;5;241;43m=\u001b[39;49m\u001b[43mcatch\u001b[49m\u001b[43m,\u001b[49m\n\u001b[1;32m    407\u001b[0m \u001b[43m    \u001b[49m\u001b[43mcallbacks\u001b[49m\u001b[38;5;241;43m=\u001b[39;49m\u001b[43mcallbacks\u001b[49m\u001b[43m,\u001b[49m\n\u001b[1;32m    408\u001b[0m \u001b[43m    \u001b[49m\u001b[43mgc_after_trial\u001b[49m\u001b[38;5;241;43m=\u001b[39;49m\u001b[43mgc_after_trial\u001b[49m\u001b[43m,\u001b[49m\n\u001b[1;32m    409\u001b[0m \u001b[43m    \u001b[49m\u001b[43mshow_progress_bar\u001b[49m\u001b[38;5;241;43m=\u001b[39;49m\u001b[43mshow_progress_bar\u001b[49m\u001b[43m,\u001b[49m\n\u001b[1;32m    410\u001b[0m \u001b[43m\u001b[49m\u001b[43m)\u001b[49m\n",
      "File \u001b[0;32m~/miniconda3/envs/amex/lib/python3.10/site-packages/optuna/study/_optimize.py:66\u001b[0m, in \u001b[0;36m_optimize\u001b[0;34m(study, func, n_trials, timeout, n_jobs, catch, callbacks, gc_after_trial, show_progress_bar)\u001b[0m\n\u001b[1;32m     64\u001b[0m \u001b[38;5;28;01mtry\u001b[39;00m:\n\u001b[1;32m     65\u001b[0m     \u001b[38;5;28;01mif\u001b[39;00m n_jobs \u001b[38;5;241m==\u001b[39m \u001b[38;5;241m1\u001b[39m:\n\u001b[0;32m---> 66\u001b[0m         \u001b[43m_optimize_sequential\u001b[49m\u001b[43m(\u001b[49m\n\u001b[1;32m     67\u001b[0m \u001b[43m            \u001b[49m\u001b[43mstudy\u001b[49m\u001b[43m,\u001b[49m\n\u001b[1;32m     68\u001b[0m \u001b[43m            \u001b[49m\u001b[43mfunc\u001b[49m\u001b[43m,\u001b[49m\n\u001b[1;32m     69\u001b[0m \u001b[43m            \u001b[49m\u001b[43mn_trials\u001b[49m\u001b[43m,\u001b[49m\n\u001b[1;32m     70\u001b[0m \u001b[43m            \u001b[49m\u001b[43mtimeout\u001b[49m\u001b[43m,\u001b[49m\n\u001b[1;32m     71\u001b[0m \u001b[43m            \u001b[49m\u001b[43mcatch\u001b[49m\u001b[43m,\u001b[49m\n\u001b[1;32m     72\u001b[0m \u001b[43m            \u001b[49m\u001b[43mcallbacks\u001b[49m\u001b[43m,\u001b[49m\n\u001b[1;32m     73\u001b[0m \u001b[43m            \u001b[49m\u001b[43mgc_after_trial\u001b[49m\u001b[43m,\u001b[49m\n\u001b[1;32m     74\u001b[0m \u001b[43m            \u001b[49m\u001b[43mreseed_sampler_rng\u001b[49m\u001b[38;5;241;43m=\u001b[39;49m\u001b[38;5;28;43;01mFalse\u001b[39;49;00m\u001b[43m,\u001b[49m\n\u001b[1;32m     75\u001b[0m \u001b[43m            \u001b[49m\u001b[43mtime_start\u001b[49m\u001b[38;5;241;43m=\u001b[39;49m\u001b[38;5;28;43;01mNone\u001b[39;49;00m\u001b[43m,\u001b[49m\n\u001b[1;32m     76\u001b[0m \u001b[43m            \u001b[49m\u001b[43mprogress_bar\u001b[49m\u001b[38;5;241;43m=\u001b[39;49m\u001b[43mprogress_bar\u001b[49m\u001b[43m,\u001b[49m\n\u001b[1;32m     77\u001b[0m \u001b[43m        \u001b[49m\u001b[43m)\u001b[49m\n\u001b[1;32m     78\u001b[0m     \u001b[38;5;28;01melse\u001b[39;00m:\n\u001b[1;32m     79\u001b[0m         \u001b[38;5;28;01mif\u001b[39;00m show_progress_bar:\n",
      "File \u001b[0;32m~/miniconda3/envs/amex/lib/python3.10/site-packages/optuna/study/_optimize.py:163\u001b[0m, in \u001b[0;36m_optimize_sequential\u001b[0;34m(study, func, n_trials, timeout, catch, callbacks, gc_after_trial, reseed_sampler_rng, time_start, progress_bar)\u001b[0m\n\u001b[1;32m    160\u001b[0m         \u001b[38;5;28;01mbreak\u001b[39;00m\n\u001b[1;32m    162\u001b[0m \u001b[38;5;28;01mtry\u001b[39;00m:\n\u001b[0;32m--> 163\u001b[0m     trial \u001b[38;5;241m=\u001b[39m \u001b[43m_run_trial\u001b[49m\u001b[43m(\u001b[49m\u001b[43mstudy\u001b[49m\u001b[43m,\u001b[49m\u001b[43m \u001b[49m\u001b[43mfunc\u001b[49m\u001b[43m,\u001b[49m\u001b[43m \u001b[49m\u001b[43mcatch\u001b[49m\u001b[43m)\u001b[49m\n\u001b[1;32m    164\u001b[0m \u001b[38;5;28;01mexcept\u001b[39;00m \u001b[38;5;167;01mException\u001b[39;00m:\n\u001b[1;32m    165\u001b[0m     \u001b[38;5;28;01mraise\u001b[39;00m\n",
      "File \u001b[0;32m~/miniconda3/envs/amex/lib/python3.10/site-packages/optuna/study/_optimize.py:213\u001b[0m, in \u001b[0;36m_run_trial\u001b[0;34m(study, func, catch)\u001b[0m\n\u001b[1;32m    210\u001b[0m     thread\u001b[38;5;241m.\u001b[39mstart()\n\u001b[1;32m    212\u001b[0m \u001b[38;5;28;01mtry\u001b[39;00m:\n\u001b[0;32m--> 213\u001b[0m     value_or_values \u001b[38;5;241m=\u001b[39m \u001b[43mfunc\u001b[49m\u001b[43m(\u001b[49m\u001b[43mtrial\u001b[49m\u001b[43m)\u001b[49m\n\u001b[1;32m    214\u001b[0m \u001b[38;5;28;01mexcept\u001b[39;00m exceptions\u001b[38;5;241m.\u001b[39mTrialPruned \u001b[38;5;28;01mas\u001b[39;00m e:\n\u001b[1;32m    215\u001b[0m     \u001b[38;5;66;03m# TODO(mamu): Handle multi-objective cases.\u001b[39;00m\n\u001b[1;32m    216\u001b[0m     state \u001b[38;5;241m=\u001b[39m TrialState\u001b[38;5;241m.\u001b[39mPRUNED\n",
      "Input \u001b[0;32mIn [21]\u001b[0m, in \u001b[0;36mobjective\u001b[0;34m(trial)\u001b[0m\n\u001b[1;32m     26\u001b[0m \u001b[38;5;28;01mfor\u001b[39;00m fold, (idx_tr, idx_va) \u001b[38;5;129;01min\u001b[39;00m \u001b[38;5;28mzip\u001b[39m(\u001b[38;5;28mrange\u001b[39m(\u001b[38;5;241m1\u001b[39m, \u001b[38;5;241m5\u001b[39m\u001b[38;5;241m+\u001b[39m\u001b[38;5;241m1\u001b[39m), kf\u001b[38;5;241m.\u001b[39msplit(train_agg, target)):\n\u001b[1;32m     27\u001b[0m     fold \u001b[38;5;241m=\u001b[39m \u001b[38;5;28mstr\u001b[39m(fold)\n\u001b[0;32m---> 28\u001b[0m     X_train, y_train \u001b[38;5;241m=\u001b[39m \u001b[43mtrain_agg\u001b[49m\u001b[38;5;241;43m.\u001b[39;49m\u001b[43miloc\u001b[49m\u001b[43m[\u001b[49m\u001b[43midx_tr\u001b[49m\u001b[43m]\u001b[49m, target[idx_tr]\n\u001b[1;32m     29\u001b[0m     X_val, y_val \u001b[38;5;241m=\u001b[39m train_agg\u001b[38;5;241m.\u001b[39miloc[idx_va], target[idx_va]\n\u001b[1;32m     30\u001b[0m     \u001b[38;5;28;01mwith\u001b[39;00m warnings\u001b[38;5;241m.\u001b[39mcatch_warnings():\n",
      "File \u001b[0;32m~/miniconda3/envs/amex/lib/python3.10/site-packages/pandas/core/indexing.py:967\u001b[0m, in \u001b[0;36m_LocationIndexer.__getitem__\u001b[0;34m(self, key)\u001b[0m\n\u001b[1;32m    964\u001b[0m axis \u001b[38;5;241m=\u001b[39m \u001b[38;5;28mself\u001b[39m\u001b[38;5;241m.\u001b[39maxis \u001b[38;5;129;01mor\u001b[39;00m \u001b[38;5;241m0\u001b[39m\n\u001b[1;32m    966\u001b[0m maybe_callable \u001b[38;5;241m=\u001b[39m com\u001b[38;5;241m.\u001b[39mapply_if_callable(key, \u001b[38;5;28mself\u001b[39m\u001b[38;5;241m.\u001b[39mobj)\n\u001b[0;32m--> 967\u001b[0m \u001b[38;5;28;01mreturn\u001b[39;00m \u001b[38;5;28;43mself\u001b[39;49m\u001b[38;5;241;43m.\u001b[39;49m\u001b[43m_getitem_axis\u001b[49m\u001b[43m(\u001b[49m\u001b[43mmaybe_callable\u001b[49m\u001b[43m,\u001b[49m\u001b[43m \u001b[49m\u001b[43maxis\u001b[49m\u001b[38;5;241;43m=\u001b[39;49m\u001b[43maxis\u001b[49m\u001b[43m)\u001b[49m\n",
      "File \u001b[0;32m~/miniconda3/envs/amex/lib/python3.10/site-packages/pandas/core/indexing.py:1511\u001b[0m, in \u001b[0;36m_iLocIndexer._getitem_axis\u001b[0;34m(self, key, axis)\u001b[0m\n\u001b[1;32m   1509\u001b[0m \u001b[38;5;66;03m# a list of integers\u001b[39;00m\n\u001b[1;32m   1510\u001b[0m \u001b[38;5;28;01melif\u001b[39;00m is_list_like_indexer(key):\n\u001b[0;32m-> 1511\u001b[0m     \u001b[38;5;28;01mreturn\u001b[39;00m \u001b[38;5;28;43mself\u001b[39;49m\u001b[38;5;241;43m.\u001b[39;49m\u001b[43m_get_list_axis\u001b[49m\u001b[43m(\u001b[49m\u001b[43mkey\u001b[49m\u001b[43m,\u001b[49m\u001b[43m \u001b[49m\u001b[43maxis\u001b[49m\u001b[38;5;241;43m=\u001b[39;49m\u001b[43maxis\u001b[49m\u001b[43m)\u001b[49m\n\u001b[1;32m   1513\u001b[0m \u001b[38;5;66;03m# a single integer\u001b[39;00m\n\u001b[1;32m   1514\u001b[0m \u001b[38;5;28;01melse\u001b[39;00m:\n\u001b[1;32m   1515\u001b[0m     key \u001b[38;5;241m=\u001b[39m item_from_zerodim(key)\n",
      "File \u001b[0;32m~/miniconda3/envs/amex/lib/python3.10/site-packages/pandas/core/indexing.py:1482\u001b[0m, in \u001b[0;36m_iLocIndexer._get_list_axis\u001b[0;34m(self, key, axis)\u001b[0m\n\u001b[1;32m   1465\u001b[0m \u001b[38;5;124;03m\"\"\"\u001b[39;00m\n\u001b[1;32m   1466\u001b[0m \u001b[38;5;124;03mReturn Series values by list or array of integers.\u001b[39;00m\n\u001b[1;32m   1467\u001b[0m \n\u001b[0;32m   (...)\u001b[0m\n\u001b[1;32m   1479\u001b[0m \u001b[38;5;124;03m`axis` can only be zero.\u001b[39;00m\n\u001b[1;32m   1480\u001b[0m \u001b[38;5;124;03m\"\"\"\u001b[39;00m\n\u001b[1;32m   1481\u001b[0m \u001b[38;5;28;01mtry\u001b[39;00m:\n\u001b[0;32m-> 1482\u001b[0m     \u001b[38;5;28;01mreturn\u001b[39;00m \u001b[38;5;28;43mself\u001b[39;49m\u001b[38;5;241;43m.\u001b[39;49m\u001b[43mobj\u001b[49m\u001b[38;5;241;43m.\u001b[39;49m\u001b[43m_take_with_is_copy\u001b[49m\u001b[43m(\u001b[49m\u001b[43mkey\u001b[49m\u001b[43m,\u001b[49m\u001b[43m \u001b[49m\u001b[43maxis\u001b[49m\u001b[38;5;241;43m=\u001b[39;49m\u001b[43maxis\u001b[49m\u001b[43m)\u001b[49m\n\u001b[1;32m   1483\u001b[0m \u001b[38;5;28;01mexcept\u001b[39;00m \u001b[38;5;167;01mIndexError\u001b[39;00m \u001b[38;5;28;01mas\u001b[39;00m err:\n\u001b[1;32m   1484\u001b[0m     \u001b[38;5;66;03m# re-raise with different error message\u001b[39;00m\n\u001b[1;32m   1485\u001b[0m     \u001b[38;5;28;01mraise\u001b[39;00m \u001b[38;5;167;01mIndexError\u001b[39;00m(\u001b[38;5;124m\"\u001b[39m\u001b[38;5;124mpositional indexers are out-of-bounds\u001b[39m\u001b[38;5;124m\"\u001b[39m) \u001b[38;5;28;01mfrom\u001b[39;00m \u001b[38;5;21;01merr\u001b[39;00m\n",
      "File \u001b[0;32m~/miniconda3/envs/amex/lib/python3.10/site-packages/pandas/core/generic.py:3716\u001b[0m, in \u001b[0;36mNDFrame._take_with_is_copy\u001b[0;34m(self, indices, axis)\u001b[0m\n\u001b[1;32m   3708\u001b[0m \u001b[38;5;28;01mdef\u001b[39;00m \u001b[38;5;21m_take_with_is_copy\u001b[39m(\u001b[38;5;28mself\u001b[39m: NDFrameT, indices, axis\u001b[38;5;241m=\u001b[39m\u001b[38;5;241m0\u001b[39m) \u001b[38;5;241m-\u001b[39m\u001b[38;5;241m>\u001b[39m NDFrameT:\n\u001b[1;32m   3709\u001b[0m     \u001b[38;5;124;03m\"\"\"\u001b[39;00m\n\u001b[1;32m   3710\u001b[0m \u001b[38;5;124;03m    Internal version of the `take` method that sets the `_is_copy`\u001b[39;00m\n\u001b[1;32m   3711\u001b[0m \u001b[38;5;124;03m    attribute to keep track of the parent dataframe (using in indexing\u001b[39;00m\n\u001b[0;32m   (...)\u001b[0m\n\u001b[1;32m   3714\u001b[0m \u001b[38;5;124;03m    See the docstring of `take` for full explanation of the parameters.\u001b[39;00m\n\u001b[1;32m   3715\u001b[0m \u001b[38;5;124;03m    \"\"\"\u001b[39;00m\n\u001b[0;32m-> 3716\u001b[0m     result \u001b[38;5;241m=\u001b[39m \u001b[38;5;28;43mself\u001b[39;49m\u001b[38;5;241;43m.\u001b[39;49m\u001b[43mtake\u001b[49m\u001b[43m(\u001b[49m\u001b[43mindices\u001b[49m\u001b[38;5;241;43m=\u001b[39;49m\u001b[43mindices\u001b[49m\u001b[43m,\u001b[49m\u001b[43m \u001b[49m\u001b[43maxis\u001b[49m\u001b[38;5;241;43m=\u001b[39;49m\u001b[43maxis\u001b[49m\u001b[43m)\u001b[49m\n\u001b[1;32m   3717\u001b[0m     \u001b[38;5;66;03m# Maybe set copy if we didn't actually change the index.\u001b[39;00m\n\u001b[1;32m   3718\u001b[0m     \u001b[38;5;28;01mif\u001b[39;00m \u001b[38;5;129;01mnot\u001b[39;00m result\u001b[38;5;241m.\u001b[39m_get_axis(axis)\u001b[38;5;241m.\u001b[39mequals(\u001b[38;5;28mself\u001b[39m\u001b[38;5;241m.\u001b[39m_get_axis(axis)):\n",
      "File \u001b[0;32m~/miniconda3/envs/amex/lib/python3.10/site-packages/pandas/core/generic.py:3703\u001b[0m, in \u001b[0;36mNDFrame.take\u001b[0;34m(self, indices, axis, is_copy, **kwargs)\u001b[0m\n\u001b[1;32m   3699\u001b[0m nv\u001b[38;5;241m.\u001b[39mvalidate_take((), kwargs)\n\u001b[1;32m   3701\u001b[0m \u001b[38;5;28mself\u001b[39m\u001b[38;5;241m.\u001b[39m_consolidate_inplace()\n\u001b[0;32m-> 3703\u001b[0m new_data \u001b[38;5;241m=\u001b[39m \u001b[38;5;28;43mself\u001b[39;49m\u001b[38;5;241;43m.\u001b[39;49m\u001b[43m_mgr\u001b[49m\u001b[38;5;241;43m.\u001b[39;49m\u001b[43mtake\u001b[49m\u001b[43m(\u001b[49m\n\u001b[1;32m   3704\u001b[0m \u001b[43m    \u001b[49m\u001b[43mindices\u001b[49m\u001b[43m,\u001b[49m\u001b[43m \u001b[49m\u001b[43maxis\u001b[49m\u001b[38;5;241;43m=\u001b[39;49m\u001b[38;5;28;43mself\u001b[39;49m\u001b[38;5;241;43m.\u001b[39;49m\u001b[43m_get_block_manager_axis\u001b[49m\u001b[43m(\u001b[49m\u001b[43maxis\u001b[49m\u001b[43m)\u001b[49m\u001b[43m,\u001b[49m\u001b[43m \u001b[49m\u001b[43mverify\u001b[49m\u001b[38;5;241;43m=\u001b[39;49m\u001b[38;5;28;43;01mTrue\u001b[39;49;00m\n\u001b[1;32m   3705\u001b[0m \u001b[43m\u001b[49m\u001b[43m)\u001b[49m\n\u001b[1;32m   3706\u001b[0m \u001b[38;5;28;01mreturn\u001b[39;00m \u001b[38;5;28mself\u001b[39m\u001b[38;5;241m.\u001b[39m_constructor(new_data)\u001b[38;5;241m.\u001b[39m__finalize__(\u001b[38;5;28mself\u001b[39m, method\u001b[38;5;241m=\u001b[39m\u001b[38;5;124m\"\u001b[39m\u001b[38;5;124mtake\u001b[39m\u001b[38;5;124m\"\u001b[39m)\n",
      "File \u001b[0;32m~/miniconda3/envs/amex/lib/python3.10/site-packages/pandas/core/internals/managers.py:900\u001b[0m, in \u001b[0;36mBaseBlockManager.take\u001b[0;34m(self, indexer, axis, verify)\u001b[0m\n\u001b[1;32m    897\u001b[0m indexer \u001b[38;5;241m=\u001b[39m maybe_convert_indices(indexer, n, verify\u001b[38;5;241m=\u001b[39mverify)\n\u001b[1;32m    899\u001b[0m new_labels \u001b[38;5;241m=\u001b[39m \u001b[38;5;28mself\u001b[39m\u001b[38;5;241m.\u001b[39maxes[axis]\u001b[38;5;241m.\u001b[39mtake(indexer)\n\u001b[0;32m--> 900\u001b[0m \u001b[38;5;28;01mreturn\u001b[39;00m \u001b[38;5;28;43mself\u001b[39;49m\u001b[38;5;241;43m.\u001b[39;49m\u001b[43mreindex_indexer\u001b[49m\u001b[43m(\u001b[49m\n\u001b[1;32m    901\u001b[0m \u001b[43m    \u001b[49m\u001b[43mnew_axis\u001b[49m\u001b[38;5;241;43m=\u001b[39;49m\u001b[43mnew_labels\u001b[49m\u001b[43m,\u001b[49m\n\u001b[1;32m    902\u001b[0m \u001b[43m    \u001b[49m\u001b[43mindexer\u001b[49m\u001b[38;5;241;43m=\u001b[39;49m\u001b[43mindexer\u001b[49m\u001b[43m,\u001b[49m\n\u001b[1;32m    903\u001b[0m \u001b[43m    \u001b[49m\u001b[43maxis\u001b[49m\u001b[38;5;241;43m=\u001b[39;49m\u001b[43maxis\u001b[49m\u001b[43m,\u001b[49m\n\u001b[1;32m    904\u001b[0m \u001b[43m    \u001b[49m\u001b[43mallow_dups\u001b[49m\u001b[38;5;241;43m=\u001b[39;49m\u001b[38;5;28;43;01mTrue\u001b[39;49;00m\u001b[43m,\u001b[49m\n\u001b[1;32m    905\u001b[0m \u001b[43m    \u001b[49m\u001b[43mconsolidate\u001b[49m\u001b[38;5;241;43m=\u001b[39;49m\u001b[38;5;28;43;01mFalse\u001b[39;49;00m\u001b[43m,\u001b[49m\n\u001b[1;32m    906\u001b[0m \u001b[43m\u001b[49m\u001b[43m)\u001b[49m\n",
      "File \u001b[0;32m~/miniconda3/envs/amex/lib/python3.10/site-packages/pandas/core/internals/managers.py:692\u001b[0m, in \u001b[0;36mBaseBlockManager.reindex_indexer\u001b[0;34m(self, new_axis, indexer, axis, fill_value, allow_dups, copy, consolidate, only_slice, use_na_proxy)\u001b[0m\n\u001b[1;32m    685\u001b[0m     new_blocks \u001b[38;5;241m=\u001b[39m \u001b[38;5;28mself\u001b[39m\u001b[38;5;241m.\u001b[39m_slice_take_blocks_ax0(\n\u001b[1;32m    686\u001b[0m         indexer,\n\u001b[1;32m    687\u001b[0m         fill_value\u001b[38;5;241m=\u001b[39mfill_value,\n\u001b[1;32m    688\u001b[0m         only_slice\u001b[38;5;241m=\u001b[39monly_slice,\n\u001b[1;32m    689\u001b[0m         use_na_proxy\u001b[38;5;241m=\u001b[39muse_na_proxy,\n\u001b[1;32m    690\u001b[0m     )\n\u001b[1;32m    691\u001b[0m \u001b[38;5;28;01melse\u001b[39;00m:\n\u001b[0;32m--> 692\u001b[0m     new_blocks \u001b[38;5;241m=\u001b[39m [\n\u001b[1;32m    693\u001b[0m         blk\u001b[38;5;241m.\u001b[39mtake_nd(\n\u001b[1;32m    694\u001b[0m             indexer,\n\u001b[1;32m    695\u001b[0m             axis\u001b[38;5;241m=\u001b[39m\u001b[38;5;241m1\u001b[39m,\n\u001b[1;32m    696\u001b[0m             fill_value\u001b[38;5;241m=\u001b[39m(\n\u001b[1;32m    697\u001b[0m                 fill_value \u001b[38;5;28;01mif\u001b[39;00m fill_value \u001b[38;5;129;01mis\u001b[39;00m \u001b[38;5;129;01mnot\u001b[39;00m \u001b[38;5;28;01mNone\u001b[39;00m \u001b[38;5;28;01melse\u001b[39;00m blk\u001b[38;5;241m.\u001b[39mfill_value\n\u001b[1;32m    698\u001b[0m             ),\n\u001b[1;32m    699\u001b[0m         )\n\u001b[1;32m    700\u001b[0m         \u001b[38;5;28;01mfor\u001b[39;00m blk \u001b[38;5;129;01min\u001b[39;00m \u001b[38;5;28mself\u001b[39m\u001b[38;5;241m.\u001b[39mblocks\n\u001b[1;32m    701\u001b[0m     ]\n\u001b[1;32m    703\u001b[0m new_axes \u001b[38;5;241m=\u001b[39m \u001b[38;5;28mlist\u001b[39m(\u001b[38;5;28mself\u001b[39m\u001b[38;5;241m.\u001b[39maxes)\n\u001b[1;32m    704\u001b[0m new_axes[axis] \u001b[38;5;241m=\u001b[39m new_axis\n",
      "File \u001b[0;32m~/miniconda3/envs/amex/lib/python3.10/site-packages/pandas/core/internals/managers.py:693\u001b[0m, in \u001b[0;36m<listcomp>\u001b[0;34m(.0)\u001b[0m\n\u001b[1;32m    685\u001b[0m     new_blocks \u001b[38;5;241m=\u001b[39m \u001b[38;5;28mself\u001b[39m\u001b[38;5;241m.\u001b[39m_slice_take_blocks_ax0(\n\u001b[1;32m    686\u001b[0m         indexer,\n\u001b[1;32m    687\u001b[0m         fill_value\u001b[38;5;241m=\u001b[39mfill_value,\n\u001b[1;32m    688\u001b[0m         only_slice\u001b[38;5;241m=\u001b[39monly_slice,\n\u001b[1;32m    689\u001b[0m         use_na_proxy\u001b[38;5;241m=\u001b[39muse_na_proxy,\n\u001b[1;32m    690\u001b[0m     )\n\u001b[1;32m    691\u001b[0m \u001b[38;5;28;01melse\u001b[39;00m:\n\u001b[1;32m    692\u001b[0m     new_blocks \u001b[38;5;241m=\u001b[39m [\n\u001b[0;32m--> 693\u001b[0m         \u001b[43mblk\u001b[49m\u001b[38;5;241;43m.\u001b[39;49m\u001b[43mtake_nd\u001b[49m\u001b[43m(\u001b[49m\n\u001b[1;32m    694\u001b[0m \u001b[43m            \u001b[49m\u001b[43mindexer\u001b[49m\u001b[43m,\u001b[49m\n\u001b[1;32m    695\u001b[0m \u001b[43m            \u001b[49m\u001b[43maxis\u001b[49m\u001b[38;5;241;43m=\u001b[39;49m\u001b[38;5;241;43m1\u001b[39;49m\u001b[43m,\u001b[49m\n\u001b[1;32m    696\u001b[0m \u001b[43m            \u001b[49m\u001b[43mfill_value\u001b[49m\u001b[38;5;241;43m=\u001b[39;49m\u001b[43m(\u001b[49m\n\u001b[1;32m    697\u001b[0m \u001b[43m                \u001b[49m\u001b[43mfill_value\u001b[49m\u001b[43m \u001b[49m\u001b[38;5;28;43;01mif\u001b[39;49;00m\u001b[43m \u001b[49m\u001b[43mfill_value\u001b[49m\u001b[43m \u001b[49m\u001b[38;5;129;43;01mis\u001b[39;49;00m\u001b[43m \u001b[49m\u001b[38;5;129;43;01mnot\u001b[39;49;00m\u001b[43m \u001b[49m\u001b[38;5;28;43;01mNone\u001b[39;49;00m\u001b[43m \u001b[49m\u001b[38;5;28;43;01melse\u001b[39;49;00m\u001b[43m \u001b[49m\u001b[43mblk\u001b[49m\u001b[38;5;241;43m.\u001b[39;49m\u001b[43mfill_value\u001b[49m\n\u001b[1;32m    698\u001b[0m \u001b[43m            \u001b[49m\u001b[43m)\u001b[49m\u001b[43m,\u001b[49m\n\u001b[1;32m    699\u001b[0m \u001b[43m        \u001b[49m\u001b[43m)\u001b[49m\n\u001b[1;32m    700\u001b[0m         \u001b[38;5;28;01mfor\u001b[39;00m blk \u001b[38;5;129;01min\u001b[39;00m \u001b[38;5;28mself\u001b[39m\u001b[38;5;241m.\u001b[39mblocks\n\u001b[1;32m    701\u001b[0m     ]\n\u001b[1;32m    703\u001b[0m new_axes \u001b[38;5;241m=\u001b[39m \u001b[38;5;28mlist\u001b[39m(\u001b[38;5;28mself\u001b[39m\u001b[38;5;241m.\u001b[39maxes)\n\u001b[1;32m    704\u001b[0m new_axes[axis] \u001b[38;5;241m=\u001b[39m new_axis\n",
      "File \u001b[0;32m~/miniconda3/envs/amex/lib/python3.10/site-packages/pandas/core/internals/blocks.py:1137\u001b[0m, in \u001b[0;36mBlock.take_nd\u001b[0;34m(self, indexer, axis, new_mgr_locs, fill_value)\u001b[0m\n\u001b[1;32m   1134\u001b[0m \u001b[38;5;28;01melse\u001b[39;00m:\n\u001b[1;32m   1135\u001b[0m     allow_fill \u001b[38;5;241m=\u001b[39m \u001b[38;5;28;01mTrue\u001b[39;00m\n\u001b[0;32m-> 1137\u001b[0m new_values \u001b[38;5;241m=\u001b[39m \u001b[43malgos\u001b[49m\u001b[38;5;241;43m.\u001b[39;49m\u001b[43mtake_nd\u001b[49m\u001b[43m(\u001b[49m\n\u001b[1;32m   1138\u001b[0m \u001b[43m    \u001b[49m\u001b[43mvalues\u001b[49m\u001b[43m,\u001b[49m\u001b[43m \u001b[49m\u001b[43mindexer\u001b[49m\u001b[43m,\u001b[49m\u001b[43m \u001b[49m\u001b[43maxis\u001b[49m\u001b[38;5;241;43m=\u001b[39;49m\u001b[43maxis\u001b[49m\u001b[43m,\u001b[49m\u001b[43m \u001b[49m\u001b[43mallow_fill\u001b[49m\u001b[38;5;241;43m=\u001b[39;49m\u001b[43mallow_fill\u001b[49m\u001b[43m,\u001b[49m\u001b[43m \u001b[49m\u001b[43mfill_value\u001b[49m\u001b[38;5;241;43m=\u001b[39;49m\u001b[43mfill_value\u001b[49m\n\u001b[1;32m   1139\u001b[0m \u001b[43m\u001b[49m\u001b[43m)\u001b[49m\n\u001b[1;32m   1141\u001b[0m \u001b[38;5;66;03m# Called from three places in managers, all of which satisfy\u001b[39;00m\n\u001b[1;32m   1142\u001b[0m \u001b[38;5;66;03m#  this assertion\u001b[39;00m\n\u001b[1;32m   1143\u001b[0m \u001b[38;5;28;01massert\u001b[39;00m \u001b[38;5;129;01mnot\u001b[39;00m (axis \u001b[38;5;241m==\u001b[39m \u001b[38;5;241m0\u001b[39m \u001b[38;5;129;01mand\u001b[39;00m new_mgr_locs \u001b[38;5;129;01mis\u001b[39;00m \u001b[38;5;28;01mNone\u001b[39;00m)\n",
      "File \u001b[0;32m~/miniconda3/envs/amex/lib/python3.10/site-packages/pandas/core/array_algos/take.py:117\u001b[0m, in \u001b[0;36mtake_nd\u001b[0;34m(arr, indexer, axis, fill_value, allow_fill)\u001b[0m\n\u001b[1;32m    114\u001b[0m     \u001b[38;5;28;01mreturn\u001b[39;00m arr\u001b[38;5;241m.\u001b[39mtake(indexer, fill_value\u001b[38;5;241m=\u001b[39mfill_value, allow_fill\u001b[38;5;241m=\u001b[39mallow_fill)\n\u001b[1;32m    116\u001b[0m arr \u001b[38;5;241m=\u001b[39m np\u001b[38;5;241m.\u001b[39masarray(arr)\n\u001b[0;32m--> 117\u001b[0m \u001b[38;5;28;01mreturn\u001b[39;00m \u001b[43m_take_nd_ndarray\u001b[49m\u001b[43m(\u001b[49m\u001b[43marr\u001b[49m\u001b[43m,\u001b[49m\u001b[43m \u001b[49m\u001b[43mindexer\u001b[49m\u001b[43m,\u001b[49m\u001b[43m \u001b[49m\u001b[43maxis\u001b[49m\u001b[43m,\u001b[49m\u001b[43m \u001b[49m\u001b[43mfill_value\u001b[49m\u001b[43m,\u001b[49m\u001b[43m \u001b[49m\u001b[43mallow_fill\u001b[49m\u001b[43m)\u001b[49m\n",
      "File \u001b[0;32m~/miniconda3/envs/amex/lib/python3.10/site-packages/pandas/core/array_algos/take.py:163\u001b[0m, in \u001b[0;36m_take_nd_ndarray\u001b[0;34m(arr, indexer, axis, fill_value, allow_fill)\u001b[0m\n\u001b[1;32m    158\u001b[0m     out \u001b[38;5;241m=\u001b[39m np\u001b[38;5;241m.\u001b[39mempty(out_shape, dtype\u001b[38;5;241m=\u001b[39mdtype)\n\u001b[1;32m    160\u001b[0m func \u001b[38;5;241m=\u001b[39m _get_take_nd_function(\n\u001b[1;32m    161\u001b[0m     arr\u001b[38;5;241m.\u001b[39mndim, arr\u001b[38;5;241m.\u001b[39mdtype, out\u001b[38;5;241m.\u001b[39mdtype, axis\u001b[38;5;241m=\u001b[39maxis, mask_info\u001b[38;5;241m=\u001b[39mmask_info\n\u001b[1;32m    162\u001b[0m )\n\u001b[0;32m--> 163\u001b[0m \u001b[43mfunc\u001b[49m\u001b[43m(\u001b[49m\u001b[43marr\u001b[49m\u001b[43m,\u001b[49m\u001b[43m \u001b[49m\u001b[43mindexer\u001b[49m\u001b[43m,\u001b[49m\u001b[43m \u001b[49m\u001b[43mout\u001b[49m\u001b[43m,\u001b[49m\u001b[43m \u001b[49m\u001b[43mfill_value\u001b[49m\u001b[43m)\u001b[49m\n\u001b[1;32m    165\u001b[0m \u001b[38;5;28;01mif\u001b[39;00m flip_order:\n\u001b[1;32m    166\u001b[0m     out \u001b[38;5;241m=\u001b[39m out\u001b[38;5;241m.\u001b[39mT\n",
      "\u001b[0;31mKeyboardInterrupt\u001b[0m: "
     ]
    }
   ],
   "source": [
    "study.optimize(objective, n_trials=20)"
   ]
  },
  {
   "cell_type": "code",
   "execution_count": 25,
   "id": "235f8ae9-f1c7-4fc5-af60-bb9a98698960",
   "metadata": {},
   "outputs": [
    {
     "data": {
      "text/plain": [
       "['../experiments/catboost_exp/catboost_optuna_study.pkl']"
      ]
     },
     "execution_count": 25,
     "metadata": {},
     "output_type": "execute_result"
    }
   ],
   "source": [
    "joblib.dump(study, f\"{EXP_PATH}/catboost_exp/catboost_optuna_study.pkl\")"
   ]
  },
  {
   "cell_type": "code",
   "execution_count": null,
   "id": "a80997c8-1d45-4a33-9142-3b3b949855da",
   "metadata": {},
   "outputs": [],
   "source": []
  },
  {
   "cell_type": "code",
   "execution_count": null,
   "id": "a0078d66-9b5c-4c20-99d6-b7637f0a9c58",
   "metadata": {},
   "outputs": [],
   "source": []
  },
  {
   "cell_type": "code",
   "execution_count": 169,
   "id": "b095fc05-4281-4b74-acb5-c23ee96cd479",
   "metadata": {},
   "outputs": [
    {
     "name": "stdout",
     "output_type": "stream",
     "text": [
      "{'objective': 'Logloss', 'colsample_bylevel': 0.04102624715853323, 'depth': 11, 'random_strength': 1.2633436553615531, 'class_weights': [1, 2], 'n_estimators': 1000, 'l2_leaf_reg': 7.532364531307307, 'min_data_in_leaf': 3072, 'learning_rate': 0.03, 'max_bin': 255, 'used_ram_limit': '16gb', 'bootstrap_type': 'MVS', 'grow_policy': 'Depthwise'}\n",
      "\u001b[34m\u001b[1mFold 1 | Train Score = 0.85778 (0.9509, 0.7646)\n",
      "\u001b[32m\u001b[1mFold 1 | Val Score = 0.79111 (0.9217, 0.6606)\u001b[0m\n",
      "Clear cache 85219\n",
      "\u001b[34m\u001b[1mFold 2 | Train Score = 0.85752 (0.9509, 0.7641)\n",
      "\u001b[32m\u001b[1mFold 2 | Val Score = 0.79243 (0.9229, 0.6620)\u001b[0m\n",
      "Clear cache 0\n",
      "\u001b[34m\u001b[1mFold 3 | Train Score = 0.85710 (0.9506, 0.7636)\n",
      "\u001b[32m\u001b[1mFold 3 | Val Score = 0.79440 (0.9244, 0.6644)\u001b[0m\n",
      "Clear cache 0\n",
      "\u001b[34m\u001b[1mFold 4 | Train Score = 0.85682 (0.9505, 0.7632)\n",
      "\u001b[32m\u001b[1mFold 4 | Val Score = 0.79502 (0.9245, 0.6656)\u001b[0m\n",
      "Clear cache 0\n"
     ]
    },
    {
     "name": "stderr",
     "output_type": "stream",
     "text": [
      "\u001b[32m[I 2022-08-20 08:36:29,594]\u001b[0m Trial 0 finished with value: 0.7938155963625977 and parameters: {'colsample_bylevel': 0.04102624715853323, 'depth': 11, 'random_strength': 1.2633436553615531, 'class_weights': [1, 2], 'n_estimators': 1000, 'l2_leaf_reg': 7.532364531307307, 'min_data_in_leaf': 3072, 'learning_rate': 0.03, 'max_bin': 255}. Best is trial 0 with value: 0.7938155963625977.\u001b[0m\n"
     ]
    },
    {
     "name": "stdout",
     "output_type": "stream",
     "text": [
      "\u001b[34m\u001b[1mFold 5 | Train Score = 0.85823 (0.9511, 0.7653)\n",
      "\u001b[32m\u001b[1mFold 5 | Val Score = 0.79612 (0.9253, 0.6669)\u001b[0m\n",
      "Clear cache 0\n",
      "{'objective': 'Logloss', 'colsample_bylevel': 0.05402675785295788, 'depth': 11, 'random_strength': 1.219098359987579, 'class_weights': [1, 1.25], 'n_estimators': 750, 'l2_leaf_reg': 4.280904816220738, 'min_data_in_leaf': 3072, 'learning_rate': 0.03, 'max_bin': 63, 'used_ram_limit': '16gb', 'bootstrap_type': 'MVS', 'grow_policy': 'Depthwise'}\n",
      "\u001b[34m\u001b[1mFold 1 | Train Score = 0.85091 (0.9461, 0.7557)\n",
      "\u001b[32m\u001b[1mFold 1 | Val Score = 0.79088 (0.9211, 0.6606)\u001b[0m\n",
      "Clear cache 0\n",
      "\u001b[34m\u001b[1mFold 2 | Train Score = 0.85169 (0.9459, 0.7575)\n",
      "\u001b[32m\u001b[1mFold 2 | Val Score = 0.79087 (0.9226, 0.6592)\u001b[0m\n",
      "Clear cache 0\n",
      "\u001b[34m\u001b[1mFold 3 | Train Score = 0.85210 (0.9462, 0.7580)\n",
      "\u001b[32m\u001b[1mFold 3 | Val Score = 0.79501 (0.9240, 0.6660)\u001b[0m\n",
      "Clear cache 0\n",
      "\u001b[34m\u001b[1mFold 4 | Train Score = 0.85088 (0.9458, 0.7560)\n",
      "\u001b[32m\u001b[1mFold 4 | Val Score = 0.79431 (0.9237, 0.6649)\u001b[0m\n",
      "Clear cache 0\n"
     ]
    },
    {
     "name": "stderr",
     "output_type": "stream",
     "text": [
      "\u001b[32m[I 2022-08-20 09:22:46,751]\u001b[0m Trial 1 finished with value: 0.793635049670822 and parameters: {'colsample_bylevel': 0.05402675785295788, 'depth': 11, 'random_strength': 1.219098359987579, 'class_weights': [1, 1.25], 'n_estimators': 750, 'l2_leaf_reg': 4.280904816220738, 'min_data_in_leaf': 3072, 'learning_rate': 0.03, 'max_bin': 63}. Best is trial 0 with value: 0.7938155963625977.\u001b[0m\n"
     ]
    },
    {
     "name": "stdout",
     "output_type": "stream",
     "text": [
      "\u001b[34m\u001b[1mFold 5 | Train Score = 0.85071 (0.9457, 0.7557)\n",
      "\u001b[32m\u001b[1mFold 5 | Val Score = 0.79711 (0.9250, 0.6692)\u001b[0m\n",
      "Clear cache 0\n",
      "{'objective': 'Logloss', 'colsample_bylevel': 0.034570851765460854, 'depth': 12, 'random_strength': 1.3064973233129076, 'class_weights': [1, 1.25], 'n_estimators': 1000, 'l2_leaf_reg': 5.216846250136881, 'min_data_in_leaf': 1024, 'learning_rate': 0.03, 'max_bin': 127, 'used_ram_limit': '16gb', 'bootstrap_type': 'MVS', 'grow_policy': 'Depthwise'}\n",
      "\u001b[34m\u001b[1mFold 1 | Train Score = 0.91794 (0.9688, 0.8670)\n",
      "\u001b[32m\u001b[1mFold 1 | Val Score = 0.79359 (0.9220, 0.6652)\u001b[0m\n",
      "Clear cache 0\n",
      "\u001b[34m\u001b[1mFold 2 | Train Score = 0.91769 (0.9691, 0.8663)\n",
      "\u001b[32m\u001b[1mFold 2 | Val Score = 0.79064 (0.9233, 0.6580)\u001b[0m\n",
      "Clear cache 0\n"
     ]
    },
    {
     "name": "stderr",
     "output_type": "stream",
     "text": [
      "\n",
      "KeyboardInterrupt\n",
      "\n"
     ]
    }
   ],
   "source": [
    "study.optimize(objective, n_trials=20)"
   ]
  },
  {
   "cell_type": "code",
   "execution_count": null,
   "id": "4fab5108-e211-4245-8b9c-3cfacbd5b117",
   "metadata": {},
   "outputs": [],
   "source": []
  },
  {
   "cell_type": "code",
   "execution_count": 121,
   "id": "f6641429-03ec-4d6c-8b92-760156257db6",
   "metadata": {},
   "outputs": [],
   "source": [
    "df = study.trials_dataframe()"
   ]
  },
  {
   "cell_type": "code",
   "execution_count": 129,
   "id": "cb078f49-6d2d-453b-b729-3b906ca8ee93",
   "metadata": {},
   "outputs": [],
   "source": [
    "df[\"params_class_weights\"] = df[\"params_class_weights\"].astype(str)"
   ]
  },
  {
   "cell_type": "code",
   "execution_count": 130,
   "id": "0db58417-d38c-44ac-bd9f-e2c3399179b2",
   "metadata": {},
   "outputs": [
    {
     "data": {
      "text/plain": [
       "Index(['number', 'value', 'datetime_start', 'datetime_complete', 'duration',\n",
       "       'params_bootstrap_type', 'params_class_weights',\n",
       "       'params_colsample_bylevel', 'params_depth', 'params_l2_leaf_reg',\n",
       "       'params_learning_rate', 'params_max_bin', 'params_min_data_in_leaf',\n",
       "       'params_n_estimators', 'params_objective', 'params_random_strength',\n",
       "       'params_subsample', 'state'],\n",
       "      dtype='object')"
      ]
     },
     "execution_count": 130,
     "metadata": {},
     "output_type": "execute_result"
    }
   ],
   "source": [
    "df.columns"
   ]
  },
  {
   "cell_type": "code",
   "execution_count": 145,
   "id": "a719b0a4-e5f9-4d64-a574-3fc65fefa0d9",
   "metadata": {},
   "outputs": [
    {
     "data": {
      "text/plain": [
       "params_subsample\n",
       "0.600639    0.790795\n",
       "0.769839    0.787349\n",
       "0.795663    0.791467\n",
       "Name: value, dtype: float64"
      ]
     },
     "execution_count": 145,
     "metadata": {},
     "output_type": "execute_result"
    }
   ],
   "source": [
    "df.groupby(\"params_subsample\")[\"value\"].mean()"
   ]
  },
  {
   "cell_type": "code",
   "execution_count": 113,
   "id": "16fbb293-e4e3-44a6-87eb-4f72916a2f74",
   "metadata": {},
   "outputs": [
    {
     "data": {
      "text/plain": [
       "FrozenTrial(number=1, values=[0.7933261197848103], datetime_start=datetime.datetime(2022, 8, 19, 23, 9, 1, 229942), datetime_complete=datetime.datetime(2022, 8, 19, 23, 43, 0, 470587), params={'objective': 'Logloss', 'colsample_bylevel': 0.048626854325478676, 'depth': 11, 'bootstrap_type': 'MVS', 'random_strength': 1.2897439703972426, 'class_weights': [1, 1.5], 'n_estimators': 500, 'l2_leaf_reg': 4.176816737398486, 'min_data_in_leaf': 2048, 'learning_rate': 0.05, 'max_bin': 63}, distributions={'objective': CategoricalDistribution(choices=('Logloss',)), 'colsample_bylevel': LogUniformDistribution(high=0.1, low=0.03), 'depth': IntUniformDistribution(high=12, low=4, step=1), 'bootstrap_type': CategoricalDistribution(choices=('Bernoulli', 'MVS')), 'random_strength': UniformDistribution(high=2.0, low=1.0), 'class_weights': CategoricalDistribution(choices=([1, 1.25], [1, 1.5], [1, 2])), 'n_estimators': CategoricalDistribution(choices=(500, 750, 1000)), 'l2_leaf_reg': LogUniformDistribution(high=10.0, low=1.0), 'min_data_in_leaf': CategoricalDistribution(choices=(512, 1024, 2048)), 'learning_rate': CategoricalDistribution(choices=(0.025, 0.05, 0.1)), 'max_bin': CategoricalDistribution(choices=(63, 127))}, user_attrs={}, system_attrs={}, intermediate_values={}, trial_id=1, state=TrialState.COMPLETE, value=None)"
      ]
     },
     "execution_count": 113,
     "metadata": {},
     "output_type": "execute_result"
    }
   ],
   "source": [
    "study.best_trial"
   ]
  },
  {
   "cell_type": "code",
   "execution_count": 117,
   "id": "b90ff90e-1c8c-433f-8245-b30fb874603a",
   "metadata": {},
   "outputs": [],
   "source": []
  },
  {
   "cell_type": "code",
   "execution_count": 62,
   "id": "106b434b-feab-4875-9b73-85c2f68515bb",
   "metadata": {},
   "outputs": [],
   "source": [
    "study_df = study.trials_dataframe()"
   ]
  },
  {
   "cell_type": "code",
   "execution_count": 11,
   "id": "23051304-fff2-4d65-863e-80b07728c41b",
   "metadata": {},
   "outputs": [],
   "source": [
    "# for col in get_cols(study_df, \"params\"):\n",
    "#     sns.scatterplot(data=study_df, x=study_df[col], y=study_df[\"value\"])\n",
    "#     plt.show()"
   ]
  },
  {
   "cell_type": "code",
   "execution_count": null,
   "id": "5251c937-d85d-48ee-86e6-395c7ae68ce2",
   "metadata": {},
   "outputs": [],
   "source": []
  },
  {
   "cell_type": "markdown",
   "id": "e630ed1b-0f33-4eed-82cd-d7757d993942",
   "metadata": {
    "tags": []
   },
   "source": [
    "### Train Catboost"
   ]
  },
  {
   "cell_type": "code",
   "execution_count": 77,
   "id": "d83f134a-c331-4565-b49b-86320bed917a",
   "metadata": {},
   "outputs": [],
   "source": [
    "param = {\n",
    "    \"objective\": \"Logloss\",\n",
    "    \"colsample_bylevel\": 0.05,\n",
    "    \"depth\": 6,\n",
    "    \"boosting_type\": \"Ordered\",\n",
    "    \"bootstrap_type\": \"MVS\",\n",
    "    \"n_estimators\": 1000,\n",
    "    \"l2_leaf_reg\": 3,\n",
    "    \"min_data_in_leaf\": 1024,\n",
    "    \"learning_rate\": 0.05,\n",
    "    \"max_bin\": 127,\n",
    "    \"used_ram_limit\": \"16gb\",\n",
    "}"
   ]
  },
  {
   "cell_type": "code",
   "execution_count": 78,
   "id": "1800405f-674e-40f5-8e64-105128a203f3",
   "metadata": {},
   "outputs": [],
   "source": [
    "kf = StratifiedKFold(n_splits=5, shuffle=True, random_state=1020)"
   ]
  },
  {
   "cell_type": "code",
   "execution_count": 79,
   "id": "314098c9-8bfd-447a-b437-124273c3072a",
   "metadata": {},
   "outputs": [
    {
     "name": "stdout",
     "output_type": "stream",
     "text": [
      "0:\tlearn: 0.6434646\ttest: 0.6435511\tbest: 0.6435511 (0)\ttotal: 231ms\tremaining: 3m 50s\n",
      "100:\tlearn: 0.2661354\ttest: 0.2709502\tbest: 0.2709502 (100)\ttotal: 15s\tremaining: 2m 13s\n",
      "200:\tlearn: 0.2598474\ttest: 0.2656707\tbest: 0.2656707 (200)\ttotal: 29.7s\tremaining: 1m 58s\n",
      "300:\tlearn: 0.2562077\ttest: 0.2629458\tbest: 0.2629458 (300)\ttotal: 44.2s\tremaining: 1m 42s\n",
      "400:\tlearn: 0.2535508\ttest: 0.2614296\tbest: 0.2614296 (400)\ttotal: 59s\tremaining: 1m 28s\n",
      "500:\tlearn: 0.2514180\ttest: 0.2604717\tbest: 0.2604717 (500)\ttotal: 1m 13s\tremaining: 1m 13s\n",
      "600:\tlearn: 0.2495896\ttest: 0.2598555\tbest: 0.2598555 (600)\ttotal: 1m 28s\tremaining: 58.7s\n",
      "700:\tlearn: 0.2479837\ttest: 0.2593157\tbest: 0.2593157 (700)\ttotal: 1m 43s\tremaining: 44s\n",
      "800:\tlearn: 0.2464774\ttest: 0.2588889\tbest: 0.2588889 (800)\ttotal: 1m 58s\tremaining: 29.3s\n",
      "900:\tlearn: 0.2450839\ttest: 0.2586632\tbest: 0.2586565 (897)\ttotal: 2m 13s\tremaining: 14.6s\n",
      "999:\tlearn: 0.2438038\ttest: 0.2584054\tbest: 0.2584054 (999)\ttotal: 2m 27s\tremaining: 0us\n",
      "\n",
      "bestTest = 0.2584053933\n",
      "bestIteration = 999\n",
      "\n",
      "\u001b[34m\u001b[1mFold 1 | Train Score = 0.76258 (0.9023, 0.6228)\n",
      "\u001b[32m\u001b[1mFold 1 | Val Score = 0.73787 (0.8899, 0.5859)\u001b[0m\n",
      "Clear cache 0\n",
      "0:\tlearn: 0.6431714\ttest: 0.6432601\tbest: 0.6432601 (0)\ttotal: 270ms\tremaining: 4m 29s\n",
      "100:\tlearn: 0.2666413\ttest: 0.2678728\tbest: 0.2678728 (100)\ttotal: 15.2s\tremaining: 2m 15s\n",
      "200:\tlearn: 0.2605734\ttest: 0.2626050\tbest: 0.2626050 (200)\ttotal: 30.5s\tremaining: 2m 1s\n",
      "300:\tlearn: 0.2569573\ttest: 0.2599881\tbest: 0.2599881 (300)\ttotal: 45.8s\tremaining: 1m 46s\n",
      "400:\tlearn: 0.2541460\ttest: 0.2584847\tbest: 0.2584847 (400)\ttotal: 1m 1s\tremaining: 1m 31s\n",
      "500:\tlearn: 0.2519941\ttest: 0.2575779\tbest: 0.2575779 (500)\ttotal: 1m 16s\tremaining: 1m 16s\n",
      "600:\tlearn: 0.2501872\ttest: 0.2569443\tbest: 0.2569443 (600)\ttotal: 1m 31s\tremaining: 1m\n",
      "700:\tlearn: 0.2485847\ttest: 0.2565854\tbest: 0.2565823 (699)\ttotal: 1m 46s\tremaining: 45.5s\n",
      "800:\tlearn: 0.2470894\ttest: 0.2562535\tbest: 0.2562535 (800)\ttotal: 2m 1s\tremaining: 30.3s\n",
      "900:\tlearn: 0.2456453\ttest: 0.2559351\tbest: 0.2559351 (900)\ttotal: 2m 17s\tremaining: 15.1s\n",
      "999:\tlearn: 0.2443266\ttest: 0.2556742\tbest: 0.2556724 (998)\ttotal: 2m 32s\tremaining: 0us\n",
      "\n",
      "bestTest = 0.2556724131\n",
      "bestIteration = 998\n",
      "\n",
      "Shrink model to first 999 iterations.\n",
      "\u001b[34m\u001b[1mFold 2 | Train Score = 0.76188 (0.9019, 0.6219)\n",
      "\u001b[32m\u001b[1mFold 2 | Val Score = 0.73735 (0.8923, 0.5823)\u001b[0m\n",
      "Clear cache 0\n",
      "0:\tlearn: 0.6413809\ttest: 0.6414117\tbest: 0.6414117 (0)\ttotal: 232ms\tremaining: 3m 52s\n",
      "100:\tlearn: 0.2669284\ttest: 0.2669410\tbest: 0.2669410 (100)\ttotal: 15s\tremaining: 2m 13s\n",
      "200:\tlearn: 0.2605841\ttest: 0.2616990\tbest: 0.2616990 (200)\ttotal: 30.2s\tremaining: 2m\n",
      "300:\tlearn: 0.2571077\ttest: 0.2593229\tbest: 0.2593229 (300)\ttotal: 45.5s\tremaining: 1m 45s\n",
      "400:\tlearn: 0.2542089\ttest: 0.2577186\tbest: 0.2577186 (400)\ttotal: 1m\tremaining: 1m 31s\n",
      "500:\tlearn: 0.2520491\ttest: 0.2567919\tbest: 0.2567919 (500)\ttotal: 1m 17s\tremaining: 1m 16s\n",
      "600:\tlearn: 0.2501728\ttest: 0.2562212\tbest: 0.2562212 (600)\ttotal: 1m 33s\tremaining: 1m 1s\n",
      "700:\tlearn: 0.2485111\ttest: 0.2557786\tbest: 0.2557786 (700)\ttotal: 1m 48s\tremaining: 46.5s\n",
      "800:\tlearn: 0.2469866\ttest: 0.2554376\tbest: 0.2554376 (800)\ttotal: 2m 5s\tremaining: 31.2s\n",
      "900:\tlearn: 0.2455398\ttest: 0.2550982\tbest: 0.2550982 (900)\ttotal: 2m 20s\tremaining: 15.5s\n",
      "999:\tlearn: 0.2441800\ttest: 0.2548949\tbest: 0.2548935 (997)\ttotal: 2m 36s\tremaining: 0us\n",
      "\n",
      "bestTest = 0.2548935373\n",
      "bestIteration = 997\n",
      "\n",
      "Shrink model to first 998 iterations.\n",
      "\u001b[34m\u001b[1mFold 3 | Train Score = 0.76211 (0.9020, 0.6222)\n",
      "\u001b[32m\u001b[1mFold 3 | Val Score = 0.73894 (0.8930, 0.5849)\u001b[0m\n",
      "Clear cache 0\n",
      "0:\tlearn: 0.6403078\ttest: 0.6402102\tbest: 0.6402102 (0)\ttotal: 192ms\tremaining: 3m 11s\n",
      "100:\tlearn: 0.2674049\ttest: 0.2672317\tbest: 0.2672317 (100)\ttotal: 15.6s\tremaining: 2m 18s\n",
      "200:\tlearn: 0.2611760\ttest: 0.2617313\tbest: 0.2617313 (200)\ttotal: 31.2s\tremaining: 2m 4s\n",
      "300:\tlearn: 0.2574267\ttest: 0.2589593\tbest: 0.2589593 (300)\ttotal: 46.9s\tremaining: 1m 48s\n",
      "400:\tlearn: 0.2546185\ttest: 0.2573676\tbest: 0.2573676 (400)\ttotal: 1m 2s\tremaining: 1m 33s\n",
      "500:\tlearn: 0.2525096\ttest: 0.2563477\tbest: 0.2563477 (500)\ttotal: 1m 18s\tremaining: 1m 17s\n",
      "600:\tlearn: 0.2506319\ttest: 0.2556543\tbest: 0.2556543 (600)\ttotal: 1m 33s\tremaining: 1m 2s\n",
      "700:\tlearn: 0.2490113\ttest: 0.2552632\tbest: 0.2552632 (700)\ttotal: 1m 49s\tremaining: 46.7s\n",
      "800:\tlearn: 0.2474814\ttest: 0.2548718\tbest: 0.2548718 (800)\ttotal: 2m 5s\tremaining: 31.1s\n",
      "900:\tlearn: 0.2460249\ttest: 0.2545430\tbest: 0.2545430 (900)\ttotal: 2m 21s\tremaining: 15.5s\n",
      "999:\tlearn: 0.2446877\ttest: 0.2543337\tbest: 0.2543337 (999)\ttotal: 2m 37s\tremaining: 0us\n",
      "\n",
      "bestTest = 0.2543336763\n",
      "bestIteration = 999\n",
      "\n",
      "\u001b[34m\u001b[1mFold 4 | Train Score = 0.76203 (0.9016, 0.6225)\n",
      "\u001b[32m\u001b[1mFold 4 | Val Score = 0.74132 (0.8934, 0.5892)\u001b[0m\n",
      "Clear cache 0\n",
      "0:\tlearn: 0.6444653\ttest: 0.6443728\tbest: 0.6443728 (0)\ttotal: 197ms\tremaining: 3m 16s\n",
      "100:\tlearn: 0.2671374\ttest: 0.2665460\tbest: 0.2665460 (100)\ttotal: 15.2s\tremaining: 2m 15s\n",
      "200:\tlearn: 0.2609191\ttest: 0.2612089\tbest: 0.2612089 (200)\ttotal: 30.9s\tremaining: 2m 2s\n",
      "300:\tlearn: 0.2573279\ttest: 0.2585474\tbest: 0.2585474 (300)\ttotal: 46.6s\tremaining: 1m 48s\n",
      "400:\tlearn: 0.2545290\ttest: 0.2569514\tbest: 0.2569514 (400)\ttotal: 1m 2s\tremaining: 1m 33s\n",
      "500:\tlearn: 0.2524537\ttest: 0.2559671\tbest: 0.2559671 (500)\ttotal: 1m 18s\tremaining: 1m 18s\n",
      "600:\tlearn: 0.2506507\ttest: 0.2552825\tbest: 0.2552825 (600)\ttotal: 1m 34s\tremaining: 1m 2s\n",
      "700:\tlearn: 0.2490414\ttest: 0.2548012\tbest: 0.2548012 (700)\ttotal: 1m 49s\tremaining: 46.9s\n",
      "800:\tlearn: 0.2476056\ttest: 0.2544920\tbest: 0.2544920 (800)\ttotal: 2m 5s\tremaining: 31.2s\n",
      "900:\tlearn: 0.2462166\ttest: 0.2541977\tbest: 0.2541977 (900)\ttotal: 2m 21s\tremaining: 15.5s\n",
      "999:\tlearn: 0.2449841\ttest: 0.2539973\tbest: 0.2539945 (998)\ttotal: 2m 36s\tremaining: 0us\n",
      "\n",
      "bestTest = 0.2539945164\n",
      "bestIteration = 998\n",
      "\n",
      "Shrink model to first 999 iterations.\n",
      "\u001b[34m\u001b[1mFold 5 | Train Score = 0.76062 (0.9013, 0.6200)\n",
      "\u001b[32m\u001b[1mFold 5 | Val Score = 0.74049 (0.8939, 0.5871)\u001b[0m\n",
      "Clear cache 0\n"
     ]
    }
   ],
   "source": [
    "train_score_list, val_score_list = [], []\n",
    "for fold, (idx_tr, idx_va) in zip(range(1, 5+1), kf.split(train_agg, target)):\n",
    "    fold = str(fold)\n",
    "    X_train, y_train = train_agg.iloc[idx_tr], target[idx_tr]\n",
    "    X_val, y_val = train_agg.iloc[idx_va], target[idx_va]\n",
    "    with warnings.catch_warnings():\n",
    "        warnings.filterwarnings('ignore', category=UserWarning)\n",
    "        model = cb.CatBoostClassifier(**param)\n",
    "        model.fit(\n",
    "            X_train, \n",
    "            y_train, \n",
    "            eval_set=[(X_val, y_val)], \n",
    "            verbose=100, \n",
    "            cat_features=cat_features,\n",
    "            early_stopping_rounds=100\n",
    "        )\n",
    "    y_train_pred = model.predict(X_train, prediction_type='RawFormulaVal')\n",
    "    train_score, train_g, train_t4 = amex_metric(y_train, y_train_pred)\n",
    "    train_data, X_train, y_train = None, None, None\n",
    "    y_val_pred = model.predict(X_val, prediction_type='RawFormulaVal')\n",
    "    val_score, val_g, val_t4 = amex_metric(y_val, y_val_pred)\n",
    "    valid_data, X_val, y_val = None, None, None\n",
    "    train_score_list.append(train_score)\n",
    "    val_score_list.append(val_score)\n",
    "    print(f\"{Fore.BLUE}{Style.BRIGHT}Fold {fold} | Train Score = {train_score:.5f} ({train_g:.4f}, {train_t4:.4f})\")\n",
    "    print(f\"{Fore.GREEN}{Style.BRIGHT}Fold {fold} | Val Score = {val_score:.5f} ({val_g:.4f}, {val_t4:.4f}){Style.RESET_ALL}\")\n",
    "    print(f\"Clear cache {gc.collect()}\")"
   ]
  },
  {
   "cell_type": "code",
   "execution_count": 64,
   "id": "da4afb82-f237-40e2-beeb-7f78cf3286b7",
   "metadata": {},
   "outputs": [],
   "source": [
    "# experiment_dict = {}"
   ]
  },
  {
   "cell_type": "code",
   "execution_count": 80,
   "id": "ee81ddb4-4d06-4aa6-b993-a0948f3153db",
   "metadata": {},
   "outputs": [],
   "source": [
    "# experiment_dict[\"fill_negative_127\"] = {\"train_scores\": train_score_list, \"val_scores\": val_score_list}"
   ]
  },
  {
   "cell_type": "code",
   "execution_count": 49,
   "id": "20bde860-2f68-4af8-97ed-db62f002dc32",
   "metadata": {},
   "outputs": [
    {
     "data": {
      "text/plain": [
       "(0.7618067142207205, 0.7390578755925745)"
      ]
     },
     "execution_count": 49,
     "metadata": {},
     "output_type": "execute_result"
    }
   ],
   "source": [
    "np.mean(experiment_dict[\"no_impute\"][\"train_scores\"]), np.mean(experiment_dict[\"no_impute\"][\"val_scores\"])"
   ]
  },
  {
   "cell_type": "code",
   "execution_count": 50,
   "id": "862e9bf6-2a1c-4a3e-9a0f-43e90e24ff4e",
   "metadata": {},
   "outputs": [
    {
     "data": {
      "text/plain": [
       "(0.7618417595776765, 0.7386932469726997)"
      ]
     },
     "execution_count": 50,
     "metadata": {},
     "output_type": "execute_result"
    }
   ],
   "source": [
    "np.mean(experiment_dict[\"fill_zero\"][\"train_scores\"]), np.mean(experiment_dict[\"fill_zero\"][\"val_scores\"])"
   ]
  },
  {
   "cell_type": "code",
   "execution_count": 66,
   "id": "46ee29c6-61e1-4d87-bd33-6a4e5d000f3f",
   "metadata": {},
   "outputs": [
    {
     "data": {
      "text/plain": [
       "(0.7618861119180279, 0.7385532351690534)"
      ]
     },
     "execution_count": 66,
     "metadata": {},
     "output_type": "execute_result"
    }
   ],
   "source": [
    "np.mean(experiment_dict[\"fill_negative_one\"][\"train_scores\"]), np.mean(experiment_dict[\"fill_negative_one\"][\"val_scores\"])"
   ]
  },
  {
   "cell_type": "code",
   "execution_count": 81,
   "id": "bf241f5c-00f6-4686-9103-f95f521719d2",
   "metadata": {},
   "outputs": [
    {
     "data": {
      "text/plain": [
       "(0.7618463586373094, 0.7391923808237963)"
      ]
     },
     "execution_count": 81,
     "metadata": {},
     "output_type": "execute_result"
    }
   ],
   "source": [
    "np.mean(experiment_dict[\"fill_negative_127\"][\"train_scores\"]), np.mean(experiment_dict[\"fill_negative_127\"][\"val_scores\"])"
   ]
  },
  {
   "cell_type": "code",
   "execution_count": null,
   "id": "703f14e1-5b85-48ce-928f-feb2dfa9dac2",
   "metadata": {},
   "outputs": [],
   "source": []
  }
 ],
 "metadata": {
  "kernelspec": {
   "display_name": "amex",
   "language": "python",
   "name": "amex"
  },
  "language_info": {
   "codemirror_mode": {
    "name": "ipython",
    "version": 3
   },
   "file_extension": ".py",
   "mimetype": "text/x-python",
   "name": "python",
   "nbconvert_exporter": "python",
   "pygments_lexer": "ipython3",
   "version": "3.10.0"
  }
 },
 "nbformat": 4,
 "nbformat_minor": 5
}
