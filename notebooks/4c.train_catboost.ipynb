{
 "cells": [
  {
   "cell_type": "code",
   "execution_count": 9,
   "id": "5dd2ca34-3410-4078-aa48-7adbba211ed5",
   "metadata": {},
   "outputs": [],
   "source": [
    "import catboost as cb\n",
    "import gc\n",
    "import joblib\n",
    "import json\n",
    "import matplotlib.pyplot as plt\n",
    "import numpy as np\n",
    "import optuna\n",
    "import pandas as pd\n",
    "import seaborn as sns\n",
    "import sys\n",
    "sys.path.append(\"../\")\n",
    "import warnings\n",
    "warnings.simplefilter(\"ignore\")\n",
    "from catboost import CatBoostClassifier, Pool\n",
    "from sklearn.metrics import roc_auc_score, fbeta_score, make_scorer\n",
    "from sklearn.model_selection import train_test_split, RandomizedSearchCV, StratifiedKFold\n",
    "from sklearn.preprocessing import StandardScaler\n",
    "from tqdm import tqdm"
   ]
  },
  {
   "cell_type": "code",
   "execution_count": 2,
   "id": "a084bef6-4434-40fb-bafc-d7d3e4c57a14",
   "metadata": {},
   "outputs": [],
   "source": [
    "from utils.common import (\n",
    "    sigmoid, pad_column_name\n",
    ")\n",
    "from utils.constants import *\n",
    "from utils.eval_helpers import (\n",
    "    plot_roc_curves, plot_feature_importance, \n",
    "    amex_metric, get_final_metric_df, amex_metric_np, lgb_amex_metric\n",
    ")\n",
    "from utils.eda_helpers import (\n",
    "    plot_missing_proportion_barchart, \n",
    "    get_cols\n",
    ")\n",
    "from utils.extraction_helpers import read_file\n",
    "from utils.feature_group import (\n",
    "    CATEGORY_COLUMNS, CONTINUOUS_COLUMNS, NON_FEATURE_COLUMNS\n",
    ")\n",
    "from utils.feature_engineering_helpers import feature_gen_pipeline"
   ]
  },
  {
   "cell_type": "code",
   "execution_count": 3,
   "id": "581d8181-e2f6-4a5d-b0d3-c99d7f6e0228",
   "metadata": {},
   "outputs": [],
   "source": [
    "from matplotlib.ticker import MaxNLocator\n",
    "from matplotlib.colors import ListedColormap\n",
    "from cycler import cycler\n",
    "from IPython.display import display\n",
    "from colorama import Fore, Back, Style\n",
    "plt.rcParams['axes.facecolor'] = '#0057b8' # blue\n",
    "plt.rcParams['axes.prop_cycle'] = cycler(color=['#ffd700'] +\n",
    "                                         plt.rcParams['axes.prop_cycle'].by_key()['color'][1:])\n",
    "plt.rcParams['text.color'] = 'w'"
   ]
  },
  {
   "cell_type": "code",
   "execution_count": 4,
   "id": "67194602-57fc-4e92-9801-8d600e52a5b2",
   "metadata": {},
   "outputs": [],
   "source": [
    "%load_ext autoreload\n",
    "%autoreload"
   ]
  },
  {
   "cell_type": "markdown",
   "id": "2e6f8367-cde1-4153-b19e-8c32ed293a8a",
   "metadata": {},
   "source": [
    "### Read Data"
   ]
  },
  {
   "cell_type": "code",
   "execution_count": 5,
   "id": "40649d56-6faf-44c0-a067-419ef5e020b2",
   "metadata": {},
   "outputs": [
    {
     "name": "stdout",
     "output_type": "stream",
     "text": [
      "Shape of data: (5531451, 31)\n",
      "Shape of data: (5531451, 24)\n",
      "CPU times: user 5.47 s, sys: 3.23 s, total: 8.7 s\n",
      "Wall time: 3.95 s\n"
     ]
    }
   ],
   "source": [
    "%%time\n",
    "risk_df = read_file(f\"{INTERIM_DATA_PATH}/v6/train_parquet/train_risk.parquet\")\n",
    "spend_payment_df = read_file(f\"{INTERIM_DATA_PATH}/v6/train_parquet/train_spend_payment.parquet\")"
   ]
  },
  {
   "cell_type": "code",
   "execution_count": 84,
   "id": "c6394181-899f-44b6-8c05-69fb9ea46dea",
   "metadata": {},
   "outputs": [
    {
     "name": "stdout",
     "output_type": "stream",
     "text": [
      "Shape of data: (458913, 5064)\n"
     ]
    }
   ],
   "source": [
    "train_agg = read_file(f\"{PROCESSED_DATA_PATH}/v6/train_agg.parquet\")\n"
   ]
  },
  {
   "cell_type": "code",
   "execution_count": 85,
   "id": "c3cdd6cc-9fd0-4783-94a6-4882f9b25dd8",
   "metadata": {},
   "outputs": [
    {
     "name": "stdout",
     "output_type": "stream",
     "text": [
      "Shape of data: (458913, 2)\n"
     ]
    }
   ],
   "source": [
    "labels = read_file(f\"{RAW_DATA_PATH}/train_labels.csv\")"
   ]
  },
  {
   "cell_type": "code",
   "execution_count": 86,
   "id": "626ceb6b-c5c0-41aa-a4b4-3a411c737322",
   "metadata": {},
   "outputs": [],
   "source": [
    "# %%time\n",
    "# train = pd.concat([\n",
    "#     spend_payment_df, \n",
    "#     risk_df.loc[:, get_cols(risk_df, \"R_\")]\n",
    "# ], axis=1)"
   ]
  },
  {
   "cell_type": "code",
   "execution_count": 87,
   "id": "541b0d18-376b-49d0-9759-27ea2551d7ee",
   "metadata": {},
   "outputs": [],
   "source": [
    "# train.loc[:, get_cols(train, \"R_\")] = train.loc[:, get_cols(train, \"R_\")].fillna(-127)"
   ]
  },
  {
   "cell_type": "markdown",
   "id": "5e6a2580-62d6-4d8b-b80c-3d913d3203d9",
   "metadata": {},
   "source": [
    "#### Generate Feature"
   ]
  },
  {
   "cell_type": "code",
   "execution_count": 88,
   "id": "b315162a-ccbd-48af-be45-4733fd9bc4dd",
   "metadata": {},
   "outputs": [],
   "source": [
    "# %%time\n",
    "# train_agg, keep_column = feature_gen_pipeline(train)"
   ]
  },
  {
   "cell_type": "code",
   "execution_count": 89,
   "id": "78fff7d1-3fca-48ed-bca5-fb0a74273960",
   "metadata": {},
   "outputs": [],
   "source": [
    "# train_agg.head(3)"
   ]
  },
  {
   "cell_type": "code",
   "execution_count": 71,
   "id": "f7149c32-2f57-4d9c-a23f-299729c5e4f4",
   "metadata": {},
   "outputs": [],
   "source": [
    "# len(features_to_drop)\n",
    "# train_agg = train_agg.drop(columns=list(features_to_drop), errors=\"ignore\")"
   ]
  },
  {
   "cell_type": "code",
   "execution_count": 91,
   "id": "65b0dbdd-fe83-467e-9704-73ab2ec952d9",
   "metadata": {},
   "outputs": [],
   "source": [
    "target = labels[\"target\"].values"
   ]
  },
  {
   "cell_type": "code",
   "execution_count": 92,
   "id": "885c10fa-ad38-47d7-8d29-e2a2c2764cbb",
   "metadata": {},
   "outputs": [
    {
     "name": "stdout",
     "output_type": "stream",
     "text": [
      "CPU times: user 4.96 s, sys: 19.6 s, total: 24.5 s\n",
      "Wall time: 35.3 s\n"
     ]
    },
    {
     "data": {
      "text/plain": [
       "642"
      ]
     },
     "execution_count": 92,
     "metadata": {},
     "output_type": "execute_result"
    }
   ],
   "source": [
    "%%time\n",
    "train_agg = train_agg.drop(columns=NON_FEATURE_COLUMNS + [\"target\"], errors=\"ignore\")\n",
    "gc.collect()"
   ]
  },
  {
   "cell_type": "code",
   "execution_count": 93,
   "id": "af82a7d3-f8fa-404d-8f05-3d4d2a31b059",
   "metadata": {},
   "outputs": [],
   "source": [
    "cat_features = train_agg.select_dtypes(\"category\").columns.tolist()"
   ]
  },
  {
   "cell_type": "code",
   "execution_count": 94,
   "id": "a9bb4cf3-4ba5-4925-8f2c-5b860b130478",
   "metadata": {},
   "outputs": [],
   "source": [
    "train_agg.loc[:, cat_features] = train_agg.loc[:, cat_features].astype(float).fillna(-1).astype(int).astype(\"category\")"
   ]
  },
  {
   "cell_type": "code",
   "execution_count": 158,
   "id": "e9a275f5-3c10-4062-9da2-f8955193753d",
   "metadata": {},
   "outputs": [],
   "source": [
    "feature_imp = dict(zip(model.feature_names_, model.feature_importances_))"
   ]
  },
  {
   "cell_type": "code",
   "execution_count": 164,
   "id": "d9756831-41c9-4108-94ee-56d0de092a1c",
   "metadata": {},
   "outputs": [],
   "source": [
    "noob_features = [k for k, v in feature_imp.items() if v < 0.005]"
   ]
  },
  {
   "cell_type": "code",
   "execution_count": 165,
   "id": "4ef245a0-de43-4f06-8053-c236030f6d35",
   "metadata": {},
   "outputs": [
    {
     "data": {
      "text/plain": [
       "600"
      ]
     },
     "execution_count": 165,
     "metadata": {},
     "output_type": "execute_result"
    }
   ],
   "source": [
    "len(noob_features)"
   ]
  },
  {
   "cell_type": "code",
   "execution_count": 166,
   "id": "1ccd075e-5e95-40e0-ad25-b2276eb6e435",
   "metadata": {},
   "outputs": [],
   "source": [
    "train_agg = train_agg.drop(noob_features, errors=\"ignore\")"
   ]
  },
  {
   "cell_type": "markdown",
   "id": "60f01254-a420-4b71-87a0-f424c776c491",
   "metadata": {},
   "source": [
    "### Tune Catboost"
   ]
  },
  {
   "cell_type": "code",
   "execution_count": 167,
   "id": "518e34ae-7eb0-49ea-bd74-559b7d9def27",
   "metadata": {},
   "outputs": [],
   "source": [
    "def objective(trial):\n",
    "    kf = StratifiedKFold(n_splits=5, shuffle=True, random_state=1020)\n",
    "\n",
    "    param = {\n",
    "        \"objective\": \"Logloss\",\n",
    "        \"colsample_bylevel\": trial.suggest_float(\"colsample_bylevel\", 0.03, 0.1, log=True),\n",
    "        \"depth\": trial.suggest_int(\"depth\", 8, 15),\n",
    "        \"random_strength\": trial.suggest_float(\"random_strength\", 1.1, 1.5),\n",
    "        \"class_weights\": trial.suggest_categorical(\"class_weights\", [[1, 1.25], [1, 1.5], [1, 2]]),\n",
    "        \"n_estimators\": trial.suggest_categorical(\"n_estimators\", [500, 750, 1000]),\n",
    "        \"l2_leaf_reg\": trial.suggest_float(\"l2_leaf_reg\", 2, 8, log=True),\n",
    "        \"min_data_in_leaf\": trial.suggest_categorical(\"min_data_in_leaf\", [1024, 2048, 3072]),\n",
    "        \"learning_rate\": trial.suggest_categorical(\"learning_rate\", [0.03, 0.05, 0.08]),\n",
    "        \"max_bin\": trial.suggest_categorical(\"max_bin\", [63, 127, 255]),\n",
    "        \"used_ram_limit\": \"16gb\",\n",
    "        \"bootstrap_type\": \"MVS\",\n",
    "        # \"boosting_type\": trial.suggest_categorical(\"boosting_type\", [\"Ordered\", \"Plain\"]),\n",
    "        \"grow_policy\": \"Depthwise\"\n",
    "    }\n",
    "\n",
    "    if param[\"bootstrap_type\"] == \"Bernoulli\":\n",
    "        param[\"subsample\"] = trial.suggest_float(\"subsample\", 0.6, 0.85)\n",
    "    \n",
    "    print(param)\n",
    "    train_score_list, val_score_list = [], []\n",
    "    for fold, (idx_tr, idx_va) in zip(range(1, 5+1), kf.split(train_agg, target)):\n",
    "        fold = str(fold)\n",
    "        X_train, y_train = train_agg.iloc[idx_tr], target[idx_tr]\n",
    "        X_val, y_val = train_agg.iloc[idx_va], target[idx_va]\n",
    "        with warnings.catch_warnings():\n",
    "            warnings.filterwarnings('ignore', category=UserWarning)\n",
    "            model = cb.CatBoostClassifier(**param)\n",
    "            model.fit(\n",
    "                X_train, \n",
    "                y_train, \n",
    "                eval_set=[(X_val, y_val)], \n",
    "                verbose=0, \n",
    "                cat_features=cat_features,\n",
    "                early_stopping_rounds=100\n",
    "            )\n",
    "        y_train_pred = model.predict(X_train, prediction_type='RawFormulaVal')\n",
    "        train_score, train_g, train_t4 = amex_metric(y_train, y_train_pred)\n",
    "        train_data, X_train, y_train = None, None, None\n",
    "        y_val_pred = model.predict(X_val, prediction_type='RawFormulaVal')\n",
    "        val_score, val_g, val_t4 = amex_metric(y_val, y_val_pred)\n",
    "        valid_data, X_val, y_val = None, None, None\n",
    "        train_score_list.append(train_score)\n",
    "        val_score_list.append(val_score)\n",
    "        # if val_score > best_scores_json[\"validation\"][fold]:\n",
    "        #     best_scores_json[\"train\"][fold] = train_score\n",
    "        #     best_scores_json[\"validation\"][fold] = val_score\n",
    "        #     with open(f'{CURRENT_EXP_PATH}/best_scores.json', \"w\") as outfile:\n",
    "        #         json.dump(best_scores_json, outfile)\n",
    "        #     joblib.dump(model, f'{CURRENT_EXP_PATH}/models/model{fold}.pkl')\n",
    "        # elif np.mean(train_score_list) >= np.mean(list(best_scores_json[\"train\"].values())) + 0.02:\n",
    "        #     print(f\"Train score too high (overfitting), start a new trial\")\n",
    "        #     return np.mean(val_score_list)\n",
    "        print(f\"{Fore.BLUE}{Style.BRIGHT}Fold {fold} | Train Score = {train_score:.5f} ({train_g:.4f}, {train_t4:.4f})\")\n",
    "        print(f\"{Fore.GREEN}{Style.BRIGHT}Fold {fold} | Val Score = {val_score:.5f} ({val_g:.4f}, {val_t4:.4f}){Style.RESET_ALL}\")\n",
    "        print(f\"Clear cache {gc.collect()}\")\n",
    "        \n",
    "    return np.mean(val_score_list)"
   ]
  },
  {
   "cell_type": "code",
   "execution_count": 110,
   "id": "aaee1a06-79a7-452e-84d8-674c051daffb",
   "metadata": {},
   "outputs": [],
   "source": [
    "# study = joblib.load(f\"{CURRENT_EXP_PATH}/optuna_study.pkl\")"
   ]
  },
  {
   "cell_type": "code",
   "execution_count": 168,
   "id": "f7f96d14-76be-4e64-af39-498a9e21d9e1",
   "metadata": {},
   "outputs": [
    {
     "name": "stderr",
     "output_type": "stream",
     "text": [
      "\u001b[32m[I 2022-08-20 07:47:35,410]\u001b[0m A new study created in memory with name: no-name-babff6bd-89f7-4787-8910-ed8fc676e224\u001b[0m\n"
     ]
    }
   ],
   "source": [
    "study = optuna.create_study(direction=\"maximize\")"
   ]
  },
  {
   "cell_type": "code",
   "execution_count": 169,
   "id": "b095fc05-4281-4b74-acb5-c23ee96cd479",
   "metadata": {},
   "outputs": [
    {
     "name": "stdout",
     "output_type": "stream",
     "text": [
      "{'objective': 'Logloss', 'colsample_bylevel': 0.04102624715853323, 'depth': 11, 'random_strength': 1.2633436553615531, 'class_weights': [1, 2], 'n_estimators': 1000, 'l2_leaf_reg': 7.532364531307307, 'min_data_in_leaf': 3072, 'learning_rate': 0.03, 'max_bin': 255, 'used_ram_limit': '16gb', 'bootstrap_type': 'MVS', 'grow_policy': 'Depthwise'}\n",
      "\u001b[34m\u001b[1mFold 1 | Train Score = 0.85778 (0.9509, 0.7646)\n",
      "\u001b[32m\u001b[1mFold 1 | Val Score = 0.79111 (0.9217, 0.6606)\u001b[0m\n",
      "Clear cache 85219\n",
      "\u001b[34m\u001b[1mFold 2 | Train Score = 0.85752 (0.9509, 0.7641)\n",
      "\u001b[32m\u001b[1mFold 2 | Val Score = 0.79243 (0.9229, 0.6620)\u001b[0m\n",
      "Clear cache 0\n",
      "\u001b[34m\u001b[1mFold 3 | Train Score = 0.85710 (0.9506, 0.7636)\n",
      "\u001b[32m\u001b[1mFold 3 | Val Score = 0.79440 (0.9244, 0.6644)\u001b[0m\n",
      "Clear cache 0\n",
      "\u001b[34m\u001b[1mFold 4 | Train Score = 0.85682 (0.9505, 0.7632)\n",
      "\u001b[32m\u001b[1mFold 4 | Val Score = 0.79502 (0.9245, 0.6656)\u001b[0m\n",
      "Clear cache 0\n"
     ]
    },
    {
     "name": "stderr",
     "output_type": "stream",
     "text": [
      "\u001b[32m[I 2022-08-20 08:36:29,594]\u001b[0m Trial 0 finished with value: 0.7938155963625977 and parameters: {'colsample_bylevel': 0.04102624715853323, 'depth': 11, 'random_strength': 1.2633436553615531, 'class_weights': [1, 2], 'n_estimators': 1000, 'l2_leaf_reg': 7.532364531307307, 'min_data_in_leaf': 3072, 'learning_rate': 0.03, 'max_bin': 255}. Best is trial 0 with value: 0.7938155963625977.\u001b[0m\n"
     ]
    },
    {
     "name": "stdout",
     "output_type": "stream",
     "text": [
      "\u001b[34m\u001b[1mFold 5 | Train Score = 0.85823 (0.9511, 0.7653)\n",
      "\u001b[32m\u001b[1mFold 5 | Val Score = 0.79612 (0.9253, 0.6669)\u001b[0m\n",
      "Clear cache 0\n",
      "{'objective': 'Logloss', 'colsample_bylevel': 0.05402675785295788, 'depth': 11, 'random_strength': 1.219098359987579, 'class_weights': [1, 1.25], 'n_estimators': 750, 'l2_leaf_reg': 4.280904816220738, 'min_data_in_leaf': 3072, 'learning_rate': 0.03, 'max_bin': 63, 'used_ram_limit': '16gb', 'bootstrap_type': 'MVS', 'grow_policy': 'Depthwise'}\n",
      "\u001b[34m\u001b[1mFold 1 | Train Score = 0.85091 (0.9461, 0.7557)\n",
      "\u001b[32m\u001b[1mFold 1 | Val Score = 0.79088 (0.9211, 0.6606)\u001b[0m\n",
      "Clear cache 0\n",
      "\u001b[34m\u001b[1mFold 2 | Train Score = 0.85169 (0.9459, 0.7575)\n",
      "\u001b[32m\u001b[1mFold 2 | Val Score = 0.79087 (0.9226, 0.6592)\u001b[0m\n",
      "Clear cache 0\n",
      "\u001b[34m\u001b[1mFold 3 | Train Score = 0.85210 (0.9462, 0.7580)\n",
      "\u001b[32m\u001b[1mFold 3 | Val Score = 0.79501 (0.9240, 0.6660)\u001b[0m\n",
      "Clear cache 0\n",
      "\u001b[34m\u001b[1mFold 4 | Train Score = 0.85088 (0.9458, 0.7560)\n",
      "\u001b[32m\u001b[1mFold 4 | Val Score = 0.79431 (0.9237, 0.6649)\u001b[0m\n",
      "Clear cache 0\n"
     ]
    },
    {
     "name": "stderr",
     "output_type": "stream",
     "text": [
      "\u001b[32m[I 2022-08-20 09:22:46,751]\u001b[0m Trial 1 finished with value: 0.793635049670822 and parameters: {'colsample_bylevel': 0.05402675785295788, 'depth': 11, 'random_strength': 1.219098359987579, 'class_weights': [1, 1.25], 'n_estimators': 750, 'l2_leaf_reg': 4.280904816220738, 'min_data_in_leaf': 3072, 'learning_rate': 0.03, 'max_bin': 63}. Best is trial 0 with value: 0.7938155963625977.\u001b[0m\n"
     ]
    },
    {
     "name": "stdout",
     "output_type": "stream",
     "text": [
      "\u001b[34m\u001b[1mFold 5 | Train Score = 0.85071 (0.9457, 0.7557)\n",
      "\u001b[32m\u001b[1mFold 5 | Val Score = 0.79711 (0.9250, 0.6692)\u001b[0m\n",
      "Clear cache 0\n",
      "{'objective': 'Logloss', 'colsample_bylevel': 0.034570851765460854, 'depth': 12, 'random_strength': 1.3064973233129076, 'class_weights': [1, 1.25], 'n_estimators': 1000, 'l2_leaf_reg': 5.216846250136881, 'min_data_in_leaf': 1024, 'learning_rate': 0.03, 'max_bin': 127, 'used_ram_limit': '16gb', 'bootstrap_type': 'MVS', 'grow_policy': 'Depthwise'}\n",
      "\u001b[34m\u001b[1mFold 1 | Train Score = 0.91794 (0.9688, 0.8670)\n",
      "\u001b[32m\u001b[1mFold 1 | Val Score = 0.79359 (0.9220, 0.6652)\u001b[0m\n",
      "Clear cache 0\n",
      "\u001b[34m\u001b[1mFold 2 | Train Score = 0.91769 (0.9691, 0.8663)\n",
      "\u001b[32m\u001b[1mFold 2 | Val Score = 0.79064 (0.9233, 0.6580)\u001b[0m\n",
      "Clear cache 0\n"
     ]
    },
    {
     "name": "stderr",
     "output_type": "stream",
     "text": [
      "\n",
      "KeyboardInterrupt\n",
      "\n"
     ]
    }
   ],
   "source": [
    "study.optimize(objective, n_trials=20)"
   ]
  },
  {
   "cell_type": "code",
   "execution_count": null,
   "id": "4fab5108-e211-4245-8b9c-3cfacbd5b117",
   "metadata": {},
   "outputs": [],
   "source": []
  },
  {
   "cell_type": "code",
   "execution_count": 121,
   "id": "f6641429-03ec-4d6c-8b92-760156257db6",
   "metadata": {},
   "outputs": [],
   "source": [
    "df = study.trials_dataframe()"
   ]
  },
  {
   "cell_type": "code",
   "execution_count": 129,
   "id": "cb078f49-6d2d-453b-b729-3b906ca8ee93",
   "metadata": {},
   "outputs": [],
   "source": [
    "df[\"params_class_weights\"] = df[\"params_class_weights\"].astype(str)"
   ]
  },
  {
   "cell_type": "code",
   "execution_count": 130,
   "id": "0db58417-d38c-44ac-bd9f-e2c3399179b2",
   "metadata": {},
   "outputs": [
    {
     "data": {
      "text/plain": [
       "Index(['number', 'value', 'datetime_start', 'datetime_complete', 'duration',\n",
       "       'params_bootstrap_type', 'params_class_weights',\n",
       "       'params_colsample_bylevel', 'params_depth', 'params_l2_leaf_reg',\n",
       "       'params_learning_rate', 'params_max_bin', 'params_min_data_in_leaf',\n",
       "       'params_n_estimators', 'params_objective', 'params_random_strength',\n",
       "       'params_subsample', 'state'],\n",
       "      dtype='object')"
      ]
     },
     "execution_count": 130,
     "metadata": {},
     "output_type": "execute_result"
    }
   ],
   "source": [
    "df.columns"
   ]
  },
  {
   "cell_type": "code",
   "execution_count": 145,
   "id": "a719b0a4-e5f9-4d64-a574-3fc65fefa0d9",
   "metadata": {},
   "outputs": [
    {
     "data": {
      "text/plain": [
       "params_subsample\n",
       "0.600639    0.790795\n",
       "0.769839    0.787349\n",
       "0.795663    0.791467\n",
       "Name: value, dtype: float64"
      ]
     },
     "execution_count": 145,
     "metadata": {},
     "output_type": "execute_result"
    }
   ],
   "source": [
    "df.groupby(\"params_subsample\")[\"value\"].mean()"
   ]
  },
  {
   "cell_type": "code",
   "execution_count": 113,
   "id": "16fbb293-e4e3-44a6-87eb-4f72916a2f74",
   "metadata": {},
   "outputs": [
    {
     "data": {
      "text/plain": [
       "FrozenTrial(number=1, values=[0.7933261197848103], datetime_start=datetime.datetime(2022, 8, 19, 23, 9, 1, 229942), datetime_complete=datetime.datetime(2022, 8, 19, 23, 43, 0, 470587), params={'objective': 'Logloss', 'colsample_bylevel': 0.048626854325478676, 'depth': 11, 'bootstrap_type': 'MVS', 'random_strength': 1.2897439703972426, 'class_weights': [1, 1.5], 'n_estimators': 500, 'l2_leaf_reg': 4.176816737398486, 'min_data_in_leaf': 2048, 'learning_rate': 0.05, 'max_bin': 63}, distributions={'objective': CategoricalDistribution(choices=('Logloss',)), 'colsample_bylevel': LogUniformDistribution(high=0.1, low=0.03), 'depth': IntUniformDistribution(high=12, low=4, step=1), 'bootstrap_type': CategoricalDistribution(choices=('Bernoulli', 'MVS')), 'random_strength': UniformDistribution(high=2.0, low=1.0), 'class_weights': CategoricalDistribution(choices=([1, 1.25], [1, 1.5], [1, 2])), 'n_estimators': CategoricalDistribution(choices=(500, 750, 1000)), 'l2_leaf_reg': LogUniformDistribution(high=10.0, low=1.0), 'min_data_in_leaf': CategoricalDistribution(choices=(512, 1024, 2048)), 'learning_rate': CategoricalDistribution(choices=(0.025, 0.05, 0.1)), 'max_bin': CategoricalDistribution(choices=(63, 127))}, user_attrs={}, system_attrs={}, intermediate_values={}, trial_id=1, state=TrialState.COMPLETE, value=None)"
      ]
     },
     "execution_count": 113,
     "metadata": {},
     "output_type": "execute_result"
    }
   ],
   "source": [
    "study.best_trial"
   ]
  },
  {
   "cell_type": "code",
   "execution_count": 117,
   "id": "b90ff90e-1c8c-433f-8245-b30fb874603a",
   "metadata": {},
   "outputs": [],
   "source": [
    "# joblib.dump(study, f\"../catboost_optuna_study.pkl\")"
   ]
  },
  {
   "cell_type": "code",
   "execution_count": 62,
   "id": "106b434b-feab-4875-9b73-85c2f68515bb",
   "metadata": {},
   "outputs": [],
   "source": [
    "study_df = study.trials_dataframe()"
   ]
  },
  {
   "cell_type": "code",
   "execution_count": 11,
   "id": "23051304-fff2-4d65-863e-80b07728c41b",
   "metadata": {},
   "outputs": [],
   "source": [
    "# for col in get_cols(study_df, \"params\"):\n",
    "#     sns.scatterplot(data=study_df, x=study_df[col], y=study_df[\"value\"])\n",
    "#     plt.show()"
   ]
  },
  {
   "cell_type": "code",
   "execution_count": null,
   "id": "5251c937-d85d-48ee-86e6-395c7ae68ce2",
   "metadata": {},
   "outputs": [],
   "source": []
  },
  {
   "cell_type": "markdown",
   "id": "e630ed1b-0f33-4eed-82cd-d7757d993942",
   "metadata": {
    "tags": []
   },
   "source": [
    "### Train Catboost"
   ]
  },
  {
   "cell_type": "code",
   "execution_count": 77,
   "id": "d83f134a-c331-4565-b49b-86320bed917a",
   "metadata": {},
   "outputs": [],
   "source": [
    "param = {\n",
    "    \"objective\": \"Logloss\",\n",
    "    \"colsample_bylevel\": 0.05,\n",
    "    \"depth\": 6,\n",
    "    \"boosting_type\": \"Ordered\",\n",
    "    \"bootstrap_type\": \"MVS\",\n",
    "    \"n_estimators\": 1000,\n",
    "    \"l2_leaf_reg\": 3,\n",
    "    \"min_data_in_leaf\": 1024,\n",
    "    \"learning_rate\": 0.05,\n",
    "    \"max_bin\": 127,\n",
    "    \"used_ram_limit\": \"16gb\",\n",
    "}"
   ]
  },
  {
   "cell_type": "code",
   "execution_count": 78,
   "id": "1800405f-674e-40f5-8e64-105128a203f3",
   "metadata": {},
   "outputs": [],
   "source": [
    "kf = StratifiedKFold(n_splits=5, shuffle=True, random_state=1020)"
   ]
  },
  {
   "cell_type": "code",
   "execution_count": 79,
   "id": "314098c9-8bfd-447a-b437-124273c3072a",
   "metadata": {},
   "outputs": [
    {
     "name": "stdout",
     "output_type": "stream",
     "text": [
      "0:\tlearn: 0.6434646\ttest: 0.6435511\tbest: 0.6435511 (0)\ttotal: 231ms\tremaining: 3m 50s\n",
      "100:\tlearn: 0.2661354\ttest: 0.2709502\tbest: 0.2709502 (100)\ttotal: 15s\tremaining: 2m 13s\n",
      "200:\tlearn: 0.2598474\ttest: 0.2656707\tbest: 0.2656707 (200)\ttotal: 29.7s\tremaining: 1m 58s\n",
      "300:\tlearn: 0.2562077\ttest: 0.2629458\tbest: 0.2629458 (300)\ttotal: 44.2s\tremaining: 1m 42s\n",
      "400:\tlearn: 0.2535508\ttest: 0.2614296\tbest: 0.2614296 (400)\ttotal: 59s\tremaining: 1m 28s\n",
      "500:\tlearn: 0.2514180\ttest: 0.2604717\tbest: 0.2604717 (500)\ttotal: 1m 13s\tremaining: 1m 13s\n",
      "600:\tlearn: 0.2495896\ttest: 0.2598555\tbest: 0.2598555 (600)\ttotal: 1m 28s\tremaining: 58.7s\n",
      "700:\tlearn: 0.2479837\ttest: 0.2593157\tbest: 0.2593157 (700)\ttotal: 1m 43s\tremaining: 44s\n",
      "800:\tlearn: 0.2464774\ttest: 0.2588889\tbest: 0.2588889 (800)\ttotal: 1m 58s\tremaining: 29.3s\n",
      "900:\tlearn: 0.2450839\ttest: 0.2586632\tbest: 0.2586565 (897)\ttotal: 2m 13s\tremaining: 14.6s\n",
      "999:\tlearn: 0.2438038\ttest: 0.2584054\tbest: 0.2584054 (999)\ttotal: 2m 27s\tremaining: 0us\n",
      "\n",
      "bestTest = 0.2584053933\n",
      "bestIteration = 999\n",
      "\n",
      "\u001b[34m\u001b[1mFold 1 | Train Score = 0.76258 (0.9023, 0.6228)\n",
      "\u001b[32m\u001b[1mFold 1 | Val Score = 0.73787 (0.8899, 0.5859)\u001b[0m\n",
      "Clear cache 0\n",
      "0:\tlearn: 0.6431714\ttest: 0.6432601\tbest: 0.6432601 (0)\ttotal: 270ms\tremaining: 4m 29s\n",
      "100:\tlearn: 0.2666413\ttest: 0.2678728\tbest: 0.2678728 (100)\ttotal: 15.2s\tremaining: 2m 15s\n",
      "200:\tlearn: 0.2605734\ttest: 0.2626050\tbest: 0.2626050 (200)\ttotal: 30.5s\tremaining: 2m 1s\n",
      "300:\tlearn: 0.2569573\ttest: 0.2599881\tbest: 0.2599881 (300)\ttotal: 45.8s\tremaining: 1m 46s\n",
      "400:\tlearn: 0.2541460\ttest: 0.2584847\tbest: 0.2584847 (400)\ttotal: 1m 1s\tremaining: 1m 31s\n",
      "500:\tlearn: 0.2519941\ttest: 0.2575779\tbest: 0.2575779 (500)\ttotal: 1m 16s\tremaining: 1m 16s\n",
      "600:\tlearn: 0.2501872\ttest: 0.2569443\tbest: 0.2569443 (600)\ttotal: 1m 31s\tremaining: 1m\n",
      "700:\tlearn: 0.2485847\ttest: 0.2565854\tbest: 0.2565823 (699)\ttotal: 1m 46s\tremaining: 45.5s\n",
      "800:\tlearn: 0.2470894\ttest: 0.2562535\tbest: 0.2562535 (800)\ttotal: 2m 1s\tremaining: 30.3s\n",
      "900:\tlearn: 0.2456453\ttest: 0.2559351\tbest: 0.2559351 (900)\ttotal: 2m 17s\tremaining: 15.1s\n",
      "999:\tlearn: 0.2443266\ttest: 0.2556742\tbest: 0.2556724 (998)\ttotal: 2m 32s\tremaining: 0us\n",
      "\n",
      "bestTest = 0.2556724131\n",
      "bestIteration = 998\n",
      "\n",
      "Shrink model to first 999 iterations.\n",
      "\u001b[34m\u001b[1mFold 2 | Train Score = 0.76188 (0.9019, 0.6219)\n",
      "\u001b[32m\u001b[1mFold 2 | Val Score = 0.73735 (0.8923, 0.5823)\u001b[0m\n",
      "Clear cache 0\n",
      "0:\tlearn: 0.6413809\ttest: 0.6414117\tbest: 0.6414117 (0)\ttotal: 232ms\tremaining: 3m 52s\n",
      "100:\tlearn: 0.2669284\ttest: 0.2669410\tbest: 0.2669410 (100)\ttotal: 15s\tremaining: 2m 13s\n",
      "200:\tlearn: 0.2605841\ttest: 0.2616990\tbest: 0.2616990 (200)\ttotal: 30.2s\tremaining: 2m\n",
      "300:\tlearn: 0.2571077\ttest: 0.2593229\tbest: 0.2593229 (300)\ttotal: 45.5s\tremaining: 1m 45s\n",
      "400:\tlearn: 0.2542089\ttest: 0.2577186\tbest: 0.2577186 (400)\ttotal: 1m\tremaining: 1m 31s\n",
      "500:\tlearn: 0.2520491\ttest: 0.2567919\tbest: 0.2567919 (500)\ttotal: 1m 17s\tremaining: 1m 16s\n",
      "600:\tlearn: 0.2501728\ttest: 0.2562212\tbest: 0.2562212 (600)\ttotal: 1m 33s\tremaining: 1m 1s\n",
      "700:\tlearn: 0.2485111\ttest: 0.2557786\tbest: 0.2557786 (700)\ttotal: 1m 48s\tremaining: 46.5s\n",
      "800:\tlearn: 0.2469866\ttest: 0.2554376\tbest: 0.2554376 (800)\ttotal: 2m 5s\tremaining: 31.2s\n",
      "900:\tlearn: 0.2455398\ttest: 0.2550982\tbest: 0.2550982 (900)\ttotal: 2m 20s\tremaining: 15.5s\n",
      "999:\tlearn: 0.2441800\ttest: 0.2548949\tbest: 0.2548935 (997)\ttotal: 2m 36s\tremaining: 0us\n",
      "\n",
      "bestTest = 0.2548935373\n",
      "bestIteration = 997\n",
      "\n",
      "Shrink model to first 998 iterations.\n",
      "\u001b[34m\u001b[1mFold 3 | Train Score = 0.76211 (0.9020, 0.6222)\n",
      "\u001b[32m\u001b[1mFold 3 | Val Score = 0.73894 (0.8930, 0.5849)\u001b[0m\n",
      "Clear cache 0\n",
      "0:\tlearn: 0.6403078\ttest: 0.6402102\tbest: 0.6402102 (0)\ttotal: 192ms\tremaining: 3m 11s\n",
      "100:\tlearn: 0.2674049\ttest: 0.2672317\tbest: 0.2672317 (100)\ttotal: 15.6s\tremaining: 2m 18s\n",
      "200:\tlearn: 0.2611760\ttest: 0.2617313\tbest: 0.2617313 (200)\ttotal: 31.2s\tremaining: 2m 4s\n",
      "300:\tlearn: 0.2574267\ttest: 0.2589593\tbest: 0.2589593 (300)\ttotal: 46.9s\tremaining: 1m 48s\n",
      "400:\tlearn: 0.2546185\ttest: 0.2573676\tbest: 0.2573676 (400)\ttotal: 1m 2s\tremaining: 1m 33s\n",
      "500:\tlearn: 0.2525096\ttest: 0.2563477\tbest: 0.2563477 (500)\ttotal: 1m 18s\tremaining: 1m 17s\n",
      "600:\tlearn: 0.2506319\ttest: 0.2556543\tbest: 0.2556543 (600)\ttotal: 1m 33s\tremaining: 1m 2s\n",
      "700:\tlearn: 0.2490113\ttest: 0.2552632\tbest: 0.2552632 (700)\ttotal: 1m 49s\tremaining: 46.7s\n",
      "800:\tlearn: 0.2474814\ttest: 0.2548718\tbest: 0.2548718 (800)\ttotal: 2m 5s\tremaining: 31.1s\n",
      "900:\tlearn: 0.2460249\ttest: 0.2545430\tbest: 0.2545430 (900)\ttotal: 2m 21s\tremaining: 15.5s\n",
      "999:\tlearn: 0.2446877\ttest: 0.2543337\tbest: 0.2543337 (999)\ttotal: 2m 37s\tremaining: 0us\n",
      "\n",
      "bestTest = 0.2543336763\n",
      "bestIteration = 999\n",
      "\n",
      "\u001b[34m\u001b[1mFold 4 | Train Score = 0.76203 (0.9016, 0.6225)\n",
      "\u001b[32m\u001b[1mFold 4 | Val Score = 0.74132 (0.8934, 0.5892)\u001b[0m\n",
      "Clear cache 0\n",
      "0:\tlearn: 0.6444653\ttest: 0.6443728\tbest: 0.6443728 (0)\ttotal: 197ms\tremaining: 3m 16s\n",
      "100:\tlearn: 0.2671374\ttest: 0.2665460\tbest: 0.2665460 (100)\ttotal: 15.2s\tremaining: 2m 15s\n",
      "200:\tlearn: 0.2609191\ttest: 0.2612089\tbest: 0.2612089 (200)\ttotal: 30.9s\tremaining: 2m 2s\n",
      "300:\tlearn: 0.2573279\ttest: 0.2585474\tbest: 0.2585474 (300)\ttotal: 46.6s\tremaining: 1m 48s\n",
      "400:\tlearn: 0.2545290\ttest: 0.2569514\tbest: 0.2569514 (400)\ttotal: 1m 2s\tremaining: 1m 33s\n",
      "500:\tlearn: 0.2524537\ttest: 0.2559671\tbest: 0.2559671 (500)\ttotal: 1m 18s\tremaining: 1m 18s\n",
      "600:\tlearn: 0.2506507\ttest: 0.2552825\tbest: 0.2552825 (600)\ttotal: 1m 34s\tremaining: 1m 2s\n",
      "700:\tlearn: 0.2490414\ttest: 0.2548012\tbest: 0.2548012 (700)\ttotal: 1m 49s\tremaining: 46.9s\n",
      "800:\tlearn: 0.2476056\ttest: 0.2544920\tbest: 0.2544920 (800)\ttotal: 2m 5s\tremaining: 31.2s\n",
      "900:\tlearn: 0.2462166\ttest: 0.2541977\tbest: 0.2541977 (900)\ttotal: 2m 21s\tremaining: 15.5s\n",
      "999:\tlearn: 0.2449841\ttest: 0.2539973\tbest: 0.2539945 (998)\ttotal: 2m 36s\tremaining: 0us\n",
      "\n",
      "bestTest = 0.2539945164\n",
      "bestIteration = 998\n",
      "\n",
      "Shrink model to first 999 iterations.\n",
      "\u001b[34m\u001b[1mFold 5 | Train Score = 0.76062 (0.9013, 0.6200)\n",
      "\u001b[32m\u001b[1mFold 5 | Val Score = 0.74049 (0.8939, 0.5871)\u001b[0m\n",
      "Clear cache 0\n"
     ]
    }
   ],
   "source": [
    "train_score_list, val_score_list = [], []\n",
    "for fold, (idx_tr, idx_va) in zip(range(1, 5+1), kf.split(train_agg, target)):\n",
    "    fold = str(fold)\n",
    "    X_train, y_train = train_agg.iloc[idx_tr], target[idx_tr]\n",
    "    X_val, y_val = train_agg.iloc[idx_va], target[idx_va]\n",
    "    with warnings.catch_warnings():\n",
    "        warnings.filterwarnings('ignore', category=UserWarning)\n",
    "        model = cb.CatBoostClassifier(**param)\n",
    "        model.fit(\n",
    "            X_train, \n",
    "            y_train, \n",
    "            eval_set=[(X_val, y_val)], \n",
    "            verbose=100, \n",
    "            cat_features=cat_features,\n",
    "            early_stopping_rounds=100\n",
    "        )\n",
    "    y_train_pred = model.predict(X_train, prediction_type='RawFormulaVal')\n",
    "    train_score, train_g, train_t4 = amex_metric(y_train, y_train_pred)\n",
    "    train_data, X_train, y_train = None, None, None\n",
    "    y_val_pred = model.predict(X_val, prediction_type='RawFormulaVal')\n",
    "    val_score, val_g, val_t4 = amex_metric(y_val, y_val_pred)\n",
    "    valid_data, X_val, y_val = None, None, None\n",
    "    train_score_list.append(train_score)\n",
    "    val_score_list.append(val_score)\n",
    "    print(f\"{Fore.BLUE}{Style.BRIGHT}Fold {fold} | Train Score = {train_score:.5f} ({train_g:.4f}, {train_t4:.4f})\")\n",
    "    print(f\"{Fore.GREEN}{Style.BRIGHT}Fold {fold} | Val Score = {val_score:.5f} ({val_g:.4f}, {val_t4:.4f}){Style.RESET_ALL}\")\n",
    "    print(f\"Clear cache {gc.collect()}\")"
   ]
  },
  {
   "cell_type": "code",
   "execution_count": 64,
   "id": "da4afb82-f237-40e2-beeb-7f78cf3286b7",
   "metadata": {},
   "outputs": [],
   "source": [
    "# experiment_dict = {}"
   ]
  },
  {
   "cell_type": "code",
   "execution_count": 80,
   "id": "ee81ddb4-4d06-4aa6-b993-a0948f3153db",
   "metadata": {},
   "outputs": [],
   "source": [
    "# experiment_dict[\"fill_negative_127\"] = {\"train_scores\": train_score_list, \"val_scores\": val_score_list}"
   ]
  },
  {
   "cell_type": "code",
   "execution_count": 49,
   "id": "20bde860-2f68-4af8-97ed-db62f002dc32",
   "metadata": {},
   "outputs": [
    {
     "data": {
      "text/plain": [
       "(0.7618067142207205, 0.7390578755925745)"
      ]
     },
     "execution_count": 49,
     "metadata": {},
     "output_type": "execute_result"
    }
   ],
   "source": [
    "np.mean(experiment_dict[\"no_impute\"][\"train_scores\"]), np.mean(experiment_dict[\"no_impute\"][\"val_scores\"])"
   ]
  },
  {
   "cell_type": "code",
   "execution_count": 50,
   "id": "862e9bf6-2a1c-4a3e-9a0f-43e90e24ff4e",
   "metadata": {},
   "outputs": [
    {
     "data": {
      "text/plain": [
       "(0.7618417595776765, 0.7386932469726997)"
      ]
     },
     "execution_count": 50,
     "metadata": {},
     "output_type": "execute_result"
    }
   ],
   "source": [
    "np.mean(experiment_dict[\"fill_zero\"][\"train_scores\"]), np.mean(experiment_dict[\"fill_zero\"][\"val_scores\"])"
   ]
  },
  {
   "cell_type": "code",
   "execution_count": 66,
   "id": "46ee29c6-61e1-4d87-bd33-6a4e5d000f3f",
   "metadata": {},
   "outputs": [
    {
     "data": {
      "text/plain": [
       "(0.7618861119180279, 0.7385532351690534)"
      ]
     },
     "execution_count": 66,
     "metadata": {},
     "output_type": "execute_result"
    }
   ],
   "source": [
    "np.mean(experiment_dict[\"fill_negative_one\"][\"train_scores\"]), np.mean(experiment_dict[\"fill_negative_one\"][\"val_scores\"])"
   ]
  },
  {
   "cell_type": "code",
   "execution_count": 81,
   "id": "bf241f5c-00f6-4686-9103-f95f521719d2",
   "metadata": {},
   "outputs": [
    {
     "data": {
      "text/plain": [
       "(0.7618463586373094, 0.7391923808237963)"
      ]
     },
     "execution_count": 81,
     "metadata": {},
     "output_type": "execute_result"
    }
   ],
   "source": [
    "np.mean(experiment_dict[\"fill_negative_127\"][\"train_scores\"]), np.mean(experiment_dict[\"fill_negative_127\"][\"val_scores\"])"
   ]
  },
  {
   "cell_type": "code",
   "execution_count": null,
   "id": "703f14e1-5b85-48ce-928f-feb2dfa9dac2",
   "metadata": {},
   "outputs": [],
   "source": []
  }
 ],
 "metadata": {
  "kernelspec": {
   "display_name": "play",
   "language": "python",
   "name": "play"
  },
  "language_info": {
   "codemirror_mode": {
    "name": "ipython",
    "version": 3
   },
   "file_extension": ".py",
   "mimetype": "text/x-python",
   "name": "python",
   "nbconvert_exporter": "python",
   "pygments_lexer": "ipython3",
   "version": "3.10.0"
  }
 },
 "nbformat": 4,
 "nbformat_minor": 5
}
