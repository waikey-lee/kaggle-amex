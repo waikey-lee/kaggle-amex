{
 "cells": [
  {
   "cell_type": "code",
   "execution_count": 9,
   "id": "5dd2ca34-3410-4078-aa48-7adbba211ed5",
   "metadata": {},
   "outputs": [],
   "source": [
    "import catboost as cb\n",
    "import gc\n",
    "import joblib\n",
    "import json\n",
    "import matplotlib.pyplot as plt\n",
    "import numpy as np\n",
    "import optuna\n",
    "import pandas as pd\n",
    "import seaborn as sns\n",
    "import sys\n",
    "sys.path.append(\"../\")\n",
    "import warnings\n",
    "warnings.simplefilter(\"ignore\")\n",
    "from catboost import CatBoostClassifier, Pool\n",
    "from sklearn.metrics import roc_auc_score, fbeta_score, make_scorer\n",
    "from sklearn.model_selection import train_test_split, RandomizedSearchCV, StratifiedKFold\n",
    "from sklearn.preprocessing import StandardScaler\n",
    "from tqdm import tqdm"
   ]
  },
  {
   "cell_type": "code",
   "execution_count": 2,
   "id": "a084bef6-4434-40fb-bafc-d7d3e4c57a14",
   "metadata": {},
   "outputs": [],
   "source": [
    "from utils.common import (\n",
    "    sigmoid, pad_column_name\n",
    ")\n",
    "from utils.constants import *\n",
    "from utils.eval_helpers import (\n",
    "    plot_roc_curves, plot_feature_importance, \n",
    "    amex_metric, get_final_metric_df, amex_metric_np, lgb_amex_metric\n",
    ")\n",
    "from utils.eda_helpers import (\n",
    "    plot_missing_proportion_barchart, \n",
    "    get_cols\n",
    ")\n",
    "from utils.extraction_helpers import read_file\n",
    "from utils.feature_group import (\n",
    "    CATEGORY_COLUMNS, CONTINUOUS_COLUMNS, NON_FEATURE_COLUMNS\n",
    ")\n",
    "from utils.feature_engineering_helpers import feature_gen_pipeline"
   ]
  },
  {
   "cell_type": "code",
   "execution_count": 3,
   "id": "581d8181-e2f6-4a5d-b0d3-c99d7f6e0228",
   "metadata": {},
   "outputs": [],
   "source": [
    "from matplotlib.ticker import MaxNLocator\n",
    "from matplotlib.colors import ListedColormap\n",
    "from cycler import cycler\n",
    "from IPython.display import display\n",
    "from colorama import Fore, Back, Style\n",
    "plt.rcParams['axes.facecolor'] = '#0057b8' # blue\n",
    "plt.rcParams['axes.prop_cycle'] = cycler(color=['#ffd700'] +\n",
    "                                         plt.rcParams['axes.prop_cycle'].by_key()['color'][1:])\n",
    "plt.rcParams['text.color'] = 'w'"
   ]
  },
  {
   "cell_type": "code",
   "execution_count": 4,
   "id": "67194602-57fc-4e92-9801-8d600e52a5b2",
   "metadata": {},
   "outputs": [],
   "source": [
    "%load_ext autoreload\n",
    "%autoreload"
   ]
  },
  {
   "cell_type": "markdown",
   "id": "2e6f8367-cde1-4153-b19e-8c32ed293a8a",
   "metadata": {},
   "source": [
    "### Read Data"
   ]
  },
  {
   "cell_type": "code",
   "execution_count": 5,
   "id": "40649d56-6faf-44c0-a067-419ef5e020b2",
   "metadata": {},
   "outputs": [
    {
     "name": "stdout",
     "output_type": "stream",
     "text": [
      "Shape of data: (5531451, 31)\n",
      "Shape of data: (5531451, 24)\n",
      "CPU times: user 5.47 s, sys: 3.23 s, total: 8.7 s\n",
      "Wall time: 3.95 s\n"
     ]
    }
   ],
   "source": [
    "%%time\n",
    "risk_df = read_file(f\"{INTERIM_DATA_PATH}/v6/train_parquet/train_risk.parquet\")\n",
    "spend_payment_df = read_file(f\"{INTERIM_DATA_PATH}/v6/train_parquet/train_spend_payment.parquet\")"
   ]
  },
  {
   "cell_type": "code",
   "execution_count": 6,
   "id": "c3cdd6cc-9fd0-4783-94a6-4882f9b25dd8",
   "metadata": {},
   "outputs": [
    {
     "name": "stdout",
     "output_type": "stream",
     "text": [
      "Shape of data: (458913, 2)\n"
     ]
    }
   ],
   "source": [
    "labels = read_file(f\"{RAW_DATA_PATH}/train_labels.csv\")"
   ]
  },
  {
   "cell_type": "code",
   "execution_count": 7,
   "id": "626ceb6b-c5c0-41aa-a4b4-3a411c737322",
   "metadata": {},
   "outputs": [
    {
     "name": "stdout",
     "output_type": "stream",
     "text": [
      "CPU times: user 1.22 s, sys: 927 ms, total: 2.15 s\n",
      "Wall time: 2.15 s\n"
     ]
    }
   ],
   "source": [
    "%%time\n",
    "train = pd.concat([\n",
    "    spend_payment_df, \n",
    "    risk_df.loc[:, get_cols(risk_df, \"R_\")]\n",
    "], axis=1)"
   ]
  },
  {
   "cell_type": "code",
   "execution_count": 10,
   "id": "b315162a-ccbd-48af-be45-4733fd9bc4dd",
   "metadata": {},
   "outputs": [
    {
     "name": "stdout",
     "output_type": "stream",
     "text": [
      "Done insertion\n",
      "Average done\n",
      "Minimum done\n",
      "Maximum done\n",
      "Standard Deviation done\n",
      "Last entry done\n",
      "First entry done\n",
      "Second last entry done\n",
      "Third last entry done\n",
      "MA2 for Recency 1 done\n",
      "MA2 for Recency 2 done\n",
      "MA2 for Recency 3 done\n",
      "MA3 for Recency 1 done\n",
      "MA3 for Recency 2 done\n",
      "MA3 for least Recency done\n"
     ]
    },
    {
     "name": "stderr",
     "output_type": "stream",
     "text": [
      "100%|█████████████████████████████████████████████████████████████████████████████████████████████████████████████████████████████| 47/47 [00:24<00:00,  1.92it/s]\n"
     ]
    },
    {
     "name": "stdout",
     "output_type": "stream",
     "text": [
      "CPU times: user 47.3 s, sys: 10.2 s, total: 57.6 s\n",
      "Wall time: 57.9 s\n"
     ]
    }
   ],
   "source": [
    "%%time\n",
    "train_agg, keep_column = feature_gen_pipeline(train)"
   ]
  },
  {
   "cell_type": "code",
   "execution_count": 12,
   "id": "78fff7d1-3fca-48ed-bca5-fb0a74273960",
   "metadata": {},
   "outputs": [
    {
     "data": {
      "text/html": [
       "<div>\n",
       "<style scoped>\n",
       "    .dataframe tbody tr th:only-of-type {\n",
       "        vertical-align: middle;\n",
       "    }\n",
       "\n",
       "    .dataframe tbody tr th {\n",
       "        vertical-align: top;\n",
       "    }\n",
       "\n",
       "    .dataframe thead th {\n",
       "        text-align: right;\n",
       "    }\n",
       "</style>\n",
       "<table border=\"1\" class=\"dataframe\">\n",
       "  <thead>\n",
       "    <tr style=\"text-align: right;\">\n",
       "      <th></th>\n",
       "      <th>P_2_last</th>\n",
       "      <th>S_3_last</th>\n",
       "      <th>P_3_last</th>\n",
       "      <th>S_5_last</th>\n",
       "      <th>S_6_last</th>\n",
       "      <th>S_7_last</th>\n",
       "      <th>S_8_last</th>\n",
       "      <th>S_12_last</th>\n",
       "      <th>S_13_last</th>\n",
       "      <th>S_15_last</th>\n",
       "      <th>...</th>\n",
       "      <th>R_5_previous_sprint</th>\n",
       "      <th>R_5_acceleration</th>\n",
       "      <th>R_5_range</th>\n",
       "      <th>R_5_displacement</th>\n",
       "      <th>R_5_displacement_ratio</th>\n",
       "      <th>R_5_velocity</th>\n",
       "      <th>R_5_last_minus_avg</th>\n",
       "      <th>R_5_last_minus_midpoint</th>\n",
       "      <th>R_5_coef_var</th>\n",
       "      <th>R_5_trend_index</th>\n",
       "    </tr>\n",
       "    <tr>\n",
       "      <th>customer_ID</th>\n",
       "      <th></th>\n",
       "      <th></th>\n",
       "      <th></th>\n",
       "      <th></th>\n",
       "      <th></th>\n",
       "      <th></th>\n",
       "      <th></th>\n",
       "      <th></th>\n",
       "      <th></th>\n",
       "      <th></th>\n",
       "      <th></th>\n",
       "      <th></th>\n",
       "      <th></th>\n",
       "      <th></th>\n",
       "      <th></th>\n",
       "      <th></th>\n",
       "      <th></th>\n",
       "      <th></th>\n",
       "      <th></th>\n",
       "      <th></th>\n",
       "      <th></th>\n",
       "    </tr>\n",
       "  </thead>\n",
       "  <tbody>\n",
       "    <tr>\n",
       "      <th>0000099d6bd597052cdcda90ffabf56573fe9d7c79be5fbac11a8ed792feb62a</th>\n",
       "      <td>0.93</td>\n",
       "      <td>0.13</td>\n",
       "      <td>0.62</td>\n",
       "      <td>0.03</td>\n",
       "      <td>0</td>\n",
       "      <td>0.1</td>\n",
       "      <td>0.48</td>\n",
       "      <td>0.18</td>\n",
       "      <td>8.0</td>\n",
       "      <td>0.4</td>\n",
       "      <td>...</td>\n",
       "      <td>NaN</td>\n",
       "      <td>NaN</td>\n",
       "      <td>NaN</td>\n",
       "      <td>NaN</td>\n",
       "      <td>NaN</td>\n",
       "      <td>NaN</td>\n",
       "      <td>NaN</td>\n",
       "      <td>NaN</td>\n",
       "      <td>NaN</td>\n",
       "      <td>NaN</td>\n",
       "    </tr>\n",
       "    <tr>\n",
       "      <th>00000fd6641609c6ece5454664794f0340ad84dddce9a267a310b5ae68e9d8e5</th>\n",
       "      <td>0.88</td>\n",
       "      <td>0.16</td>\n",
       "      <td>0.57</td>\n",
       "      <td>0.04</td>\n",
       "      <td>0</td>\n",
       "      <td>0.2</td>\n",
       "      <td>0.40</td>\n",
       "      <td>0.19</td>\n",
       "      <td>2.0</td>\n",
       "      <td>0.4</td>\n",
       "      <td>...</td>\n",
       "      <td>NaN</td>\n",
       "      <td>NaN</td>\n",
       "      <td>NaN</td>\n",
       "      <td>NaN</td>\n",
       "      <td>NaN</td>\n",
       "      <td>NaN</td>\n",
       "      <td>NaN</td>\n",
       "      <td>NaN</td>\n",
       "      <td>NaN</td>\n",
       "      <td>NaN</td>\n",
       "    </tr>\n",
       "    <tr>\n",
       "      <th>00001b22f846c82c51f6e3958ccd81970162bae8b007e80662ef27519fcc18c1</th>\n",
       "      <td>0.88</td>\n",
       "      <td>NaN</td>\n",
       "      <td>0.62</td>\n",
       "      <td>0.00</td>\n",
       "      <td>1</td>\n",
       "      <td>NaN</td>\n",
       "      <td>NaN</td>\n",
       "      <td>0.19</td>\n",
       "      <td>NaN</td>\n",
       "      <td>NaN</td>\n",
       "      <td>...</td>\n",
       "      <td>NaN</td>\n",
       "      <td>NaN</td>\n",
       "      <td>NaN</td>\n",
       "      <td>NaN</td>\n",
       "      <td>NaN</td>\n",
       "      <td>NaN</td>\n",
       "      <td>NaN</td>\n",
       "      <td>NaN</td>\n",
       "      <td>NaN</td>\n",
       "      <td>NaN</td>\n",
       "    </tr>\n",
       "  </tbody>\n",
       "</table>\n",
       "<p>3 rows × 1364 columns</p>\n",
       "</div>"
      ],
      "text/plain": [
       "                                                    P_2_last  S_3_last  \\\n",
       "customer_ID                                                              \n",
       "0000099d6bd597052cdcda90ffabf56573fe9d7c79be5fb...      0.93      0.13   \n",
       "00000fd6641609c6ece5454664794f0340ad84dddce9a26...      0.88      0.16   \n",
       "00001b22f846c82c51f6e3958ccd81970162bae8b007e80...      0.88       NaN   \n",
       "\n",
       "                                                    P_3_last  S_5_last  \\\n",
       "customer_ID                                                              \n",
       "0000099d6bd597052cdcda90ffabf56573fe9d7c79be5fb...      0.62      0.03   \n",
       "00000fd6641609c6ece5454664794f0340ad84dddce9a26...      0.57      0.04   \n",
       "00001b22f846c82c51f6e3958ccd81970162bae8b007e80...      0.62      0.00   \n",
       "\n",
       "                                                    S_6_last  S_7_last  \\\n",
       "customer_ID                                                              \n",
       "0000099d6bd597052cdcda90ffabf56573fe9d7c79be5fb...         0       0.1   \n",
       "00000fd6641609c6ece5454664794f0340ad84dddce9a26...         0       0.2   \n",
       "00001b22f846c82c51f6e3958ccd81970162bae8b007e80...         1       NaN   \n",
       "\n",
       "                                                    S_8_last  S_12_last  \\\n",
       "customer_ID                                                               \n",
       "0000099d6bd597052cdcda90ffabf56573fe9d7c79be5fb...      0.48       0.18   \n",
       "00000fd6641609c6ece5454664794f0340ad84dddce9a26...      0.40       0.19   \n",
       "00001b22f846c82c51f6e3958ccd81970162bae8b007e80...       NaN       0.19   \n",
       "\n",
       "                                                    S_13_last  S_15_last  ...  \\\n",
       "customer_ID                                                               ...   \n",
       "0000099d6bd597052cdcda90ffabf56573fe9d7c79be5fb...        8.0        0.4  ...   \n",
       "00000fd6641609c6ece5454664794f0340ad84dddce9a26...        2.0        0.4  ...   \n",
       "00001b22f846c82c51f6e3958ccd81970162bae8b007e80...        NaN        NaN  ...   \n",
       "\n",
       "                                                    R_5_previous_sprint  \\\n",
       "customer_ID                                                               \n",
       "0000099d6bd597052cdcda90ffabf56573fe9d7c79be5fb...                  NaN   \n",
       "00000fd6641609c6ece5454664794f0340ad84dddce9a26...                  NaN   \n",
       "00001b22f846c82c51f6e3958ccd81970162bae8b007e80...                  NaN   \n",
       "\n",
       "                                                    R_5_acceleration  \\\n",
       "customer_ID                                                            \n",
       "0000099d6bd597052cdcda90ffabf56573fe9d7c79be5fb...               NaN   \n",
       "00000fd6641609c6ece5454664794f0340ad84dddce9a26...               NaN   \n",
       "00001b22f846c82c51f6e3958ccd81970162bae8b007e80...               NaN   \n",
       "\n",
       "                                                    R_5_range  \\\n",
       "customer_ID                                                     \n",
       "0000099d6bd597052cdcda90ffabf56573fe9d7c79be5fb...        NaN   \n",
       "00000fd6641609c6ece5454664794f0340ad84dddce9a26...        NaN   \n",
       "00001b22f846c82c51f6e3958ccd81970162bae8b007e80...        NaN   \n",
       "\n",
       "                                                    R_5_displacement  \\\n",
       "customer_ID                                                            \n",
       "0000099d6bd597052cdcda90ffabf56573fe9d7c79be5fb...               NaN   \n",
       "00000fd6641609c6ece5454664794f0340ad84dddce9a26...               NaN   \n",
       "00001b22f846c82c51f6e3958ccd81970162bae8b007e80...               NaN   \n",
       "\n",
       "                                                    R_5_displacement_ratio  \\\n",
       "customer_ID                                                                  \n",
       "0000099d6bd597052cdcda90ffabf56573fe9d7c79be5fb...                     NaN   \n",
       "00000fd6641609c6ece5454664794f0340ad84dddce9a26...                     NaN   \n",
       "00001b22f846c82c51f6e3958ccd81970162bae8b007e80...                     NaN   \n",
       "\n",
       "                                                    R_5_velocity  \\\n",
       "customer_ID                                                        \n",
       "0000099d6bd597052cdcda90ffabf56573fe9d7c79be5fb...           NaN   \n",
       "00000fd6641609c6ece5454664794f0340ad84dddce9a26...           NaN   \n",
       "00001b22f846c82c51f6e3958ccd81970162bae8b007e80...           NaN   \n",
       "\n",
       "                                                    R_5_last_minus_avg  \\\n",
       "customer_ID                                                              \n",
       "0000099d6bd597052cdcda90ffabf56573fe9d7c79be5fb...                 NaN   \n",
       "00000fd6641609c6ece5454664794f0340ad84dddce9a26...                 NaN   \n",
       "00001b22f846c82c51f6e3958ccd81970162bae8b007e80...                 NaN   \n",
       "\n",
       "                                                    R_5_last_minus_midpoint  \\\n",
       "customer_ID                                                                   \n",
       "0000099d6bd597052cdcda90ffabf56573fe9d7c79be5fb...                      NaN   \n",
       "00000fd6641609c6ece5454664794f0340ad84dddce9a26...                      NaN   \n",
       "00001b22f846c82c51f6e3958ccd81970162bae8b007e80...                      NaN   \n",
       "\n",
       "                                                    R_5_coef_var  \\\n",
       "customer_ID                                                        \n",
       "0000099d6bd597052cdcda90ffabf56573fe9d7c79be5fb...           NaN   \n",
       "00000fd6641609c6ece5454664794f0340ad84dddce9a26...           NaN   \n",
       "00001b22f846c82c51f6e3958ccd81970162bae8b007e80...           NaN   \n",
       "\n",
       "                                                    R_5_trend_index  \n",
       "customer_ID                                                          \n",
       "0000099d6bd597052cdcda90ffabf56573fe9d7c79be5fb...              NaN  \n",
       "00000fd6641609c6ece5454664794f0340ad84dddce9a26...              NaN  \n",
       "00001b22f846c82c51f6e3958ccd81970162bae8b007e80...              NaN  \n",
       "\n",
       "[3 rows x 1364 columns]"
      ]
     },
     "execution_count": 12,
     "metadata": {},
     "output_type": "execute_result"
    }
   ],
   "source": [
    "train_agg.head(3)"
   ]
  },
  {
   "cell_type": "code",
   "execution_count": 13,
   "id": "f7149c32-2f57-4d9c-a23f-299729c5e4f4",
   "metadata": {},
   "outputs": [],
   "source": [
    "# len(features_to_drop)\n",
    "# train_agg = train_agg.drop(columns=list(features_to_drop), errors=\"ignore\")"
   ]
  },
  {
   "cell_type": "code",
   "execution_count": 14,
   "id": "65b0dbdd-fe83-467e-9704-73ab2ec952d9",
   "metadata": {},
   "outputs": [],
   "source": [
    "target = labels[\"target\"].values"
   ]
  },
  {
   "cell_type": "code",
   "execution_count": 15,
   "id": "885c10fa-ad38-47d7-8d29-e2a2c2764cbb",
   "metadata": {},
   "outputs": [
    {
     "name": "stdout",
     "output_type": "stream",
     "text": [
      "CPU times: user 5.09 s, sys: 11.2 s, total: 16.3 s\n",
      "Wall time: 21.6 s\n"
     ]
    },
    {
     "data": {
      "text/plain": [
       "0"
      ]
     },
     "execution_count": 15,
     "metadata": {},
     "output_type": "execute_result"
    }
   ],
   "source": [
    "%%time\n",
    "train_agg = train_agg.drop(columns=NON_FEATURE_COLUMNS + [\"target\"], errors=\"ignore\")\n",
    "gc.collect()"
   ]
  },
  {
   "cell_type": "code",
   "execution_count": 16,
   "id": "af82a7d3-f8fa-404d-8f05-3d4d2a31b059",
   "metadata": {},
   "outputs": [],
   "source": [
    "cat_features = train_agg.select_dtypes(\"category\").columns.tolist()"
   ]
  },
  {
   "cell_type": "code",
   "execution_count": 17,
   "id": "a9bb4cf3-4ba5-4925-8f2c-5b860b130478",
   "metadata": {},
   "outputs": [],
   "source": [
    "train_agg.loc[:, cat_features] = train_agg.loc[:, cat_features].astype(float).fillna(-1).astype(int).astype(\"category\")"
   ]
  },
  {
   "cell_type": "code",
   "execution_count": 18,
   "id": "9092d667-38f7-4684-83a3-aeec018393d7",
   "metadata": {},
   "outputs": [
    {
     "data": {
      "text/plain": [
       "((458913, 1364), (458913,))"
      ]
     },
     "execution_count": 18,
     "metadata": {},
     "output_type": "execute_result"
    }
   ],
   "source": [
    "train_agg.shape, target.shape"
   ]
  },
  {
   "cell_type": "markdown",
   "id": "e630ed1b-0f33-4eed-82cd-d7757d993942",
   "metadata": {},
   "source": [
    "### Train Catboost"
   ]
  },
  {
   "cell_type": "code",
   "execution_count": 20,
   "id": "d83f134a-c331-4565-b49b-86320bed917a",
   "metadata": {},
   "outputs": [],
   "source": [
    "param = {\n",
    "    \"objective\": \"Logloss\",\n",
    "    \"colsample_bylevel\": 0.05,\n",
    "    \"depth\": 6,\n",
    "    \"boosting_type\": \"Ordered\",\n",
    "    \"bootstrap_type\": \"MVS\",\n",
    "    \"n_estimators\": 1000,\n",
    "    \"l2_leaf_reg\": 3,\n",
    "    \"min_data_in_leaf\": 1024,\n",
    "    \"learning_rate\": 0.05,\n",
    "    \"max_bin\": 127,\n",
    "    \"used_ram_limit\": \"16gb\",\n",
    "}"
   ]
  },
  {
   "cell_type": "code",
   "execution_count": 21,
   "id": "1800405f-674e-40f5-8e64-105128a203f3",
   "metadata": {},
   "outputs": [],
   "source": [
    "kf = StratifiedKFold(n_splits=5, shuffle=True, random_state=1020)"
   ]
  },
  {
   "cell_type": "code",
   "execution_count": null,
   "id": "314098c9-8bfd-447a-b437-124273c3072a",
   "metadata": {},
   "outputs": [
    {
     "name": "stdout",
     "output_type": "stream",
     "text": [
      "0:\tlearn: 0.6404905\ttest: 0.6407026\tbest: 0.6407026 (0)\ttotal: 237ms\tremaining: 3m 57s\n",
      "100:\tlearn: 0.2659042\ttest: 0.2709228\tbest: 0.2709228 (100)\ttotal: 14.7s\tremaining: 2m 10s\n",
      "200:\tlearn: 0.2595988\ttest: 0.2657067\tbest: 0.2657067 (200)\ttotal: 29.4s\tremaining: 1m 57s\n",
      "300:\tlearn: 0.2560411\ttest: 0.2630463\tbest: 0.2630463 (300)\ttotal: 45s\tremaining: 1m 44s\n",
      "400:\tlearn: 0.2533009\ttest: 0.2614200\tbest: 0.2614200 (400)\ttotal: 59.3s\tremaining: 1m 28s\n",
      "500:\tlearn: 0.2511526\ttest: 0.2604382\tbest: 0.2604382 (500)\ttotal: 1m 15s\tremaining: 1m 15s\n",
      "600:\tlearn: 0.2493851\ttest: 0.2597818\tbest: 0.2597818 (600)\ttotal: 1m 31s\tremaining: 1m\n",
      "700:\tlearn: 0.2478715\ttest: 0.2593069\tbest: 0.2593069 (700)\ttotal: 1m 47s\tremaining: 45.7s\n",
      "800:\tlearn: 0.2463750\ttest: 0.2589566\tbest: 0.2589540 (799)\ttotal: 2m 6s\tremaining: 31.3s\n",
      "900:\tlearn: 0.2450116\ttest: 0.2586375\tbest: 0.2586375 (900)\ttotal: 2m 24s\tremaining: 15.9s\n",
      "999:\tlearn: 0.2436309\ttest: 0.2583618\tbest: 0.2583618 (999)\ttotal: 2m 41s\tremaining: 0us\n",
      "\n",
      "bestTest = 0.2583618297\n",
      "bestIteration = 999\n",
      "\n",
      "0:\tlearn: 0.6411588\ttest: 0.6411659\tbest: 0.6411659 (0)\ttotal: 171ms\tremaining: 2m 50s\n",
      "100:\tlearn: 0.2667793\ttest: 0.2680483\tbest: 0.2680483 (100)\ttotal: 18s\tremaining: 2m 40s\n",
      "200:\tlearn: 0.2605523\ttest: 0.2626212\tbest: 0.2626212 (200)\ttotal: 37.2s\tremaining: 2m 27s\n",
      "300:\tlearn: 0.2569629\ttest: 0.2598845\tbest: 0.2598845 (300)\ttotal: 55.5s\tremaining: 2m 8s\n",
      "400:\tlearn: 0.2542457\ttest: 0.2584028\tbest: 0.2584028 (400)\ttotal: 1m 12s\tremaining: 1m 48s\n",
      "500:\tlearn: 0.2520585\ttest: 0.2573407\tbest: 0.2573407 (500)\ttotal: 1m 31s\tremaining: 1m 31s\n",
      "600:\tlearn: 0.2502182\ttest: 0.2566601\tbest: 0.2566601 (600)\ttotal: 2m 2s\tremaining: 1m 21s\n",
      "700:\tlearn: 0.2486009\ttest: 0.2562224\tbest: 0.2562224 (700)\ttotal: 2m 21s\tremaining: 1m\n",
      "800:\tlearn: 0.2471020\ttest: 0.2558743\tbest: 0.2558740 (799)\ttotal: 2m 39s\tremaining: 39.6s\n",
      "900:\tlearn: 0.2456812\ttest: 0.2555779\tbest: 0.2555779 (900)\ttotal: 3m 2s\tremaining: 20.1s\n",
      "999:\tlearn: 0.2443195\ttest: 0.2552978\tbest: 0.2552974 (996)\ttotal: 3m 21s\tremaining: 0us\n",
      "\n",
      "bestTest = 0.2552973856\n",
      "bestIteration = 996\n",
      "\n",
      "Shrink model to first 997 iterations.\n",
      "0:\tlearn: 0.6417770\ttest: 0.6417774\tbest: 0.6417774 (0)\ttotal: 289ms\tremaining: 4m 48s\n",
      "100:\tlearn: 0.2669624\ttest: 0.2669840\tbest: 0.2669840 (100)\ttotal: 21s\tremaining: 3m 6s\n",
      "200:\tlearn: 0.2605231\ttest: 0.2616773\tbest: 0.2616773 (200)\ttotal: 39.8s\tremaining: 2m 38s\n",
      "300:\tlearn: 0.2570515\ttest: 0.2592647\tbest: 0.2592647 (300)\ttotal: 58.8s\tremaining: 2m 16s\n",
      "400:\tlearn: 0.2542201\ttest: 0.2577002\tbest: 0.2577002 (400)\ttotal: 1m 18s\tremaining: 1m 57s\n",
      "500:\tlearn: 0.2520888\ttest: 0.2567794\tbest: 0.2567794 (500)\ttotal: 1m 38s\tremaining: 1m 38s\n",
      "600:\tlearn: 0.2502715\ttest: 0.2561719\tbest: 0.2561719 (600)\ttotal: 1m 58s\tremaining: 1m 18s\n",
      "700:\tlearn: 0.2486069\ttest: 0.2557118\tbest: 0.2557118 (700)\ttotal: 2m 18s\tremaining: 59.1s\n",
      "800:\tlearn: 0.2470782\ttest: 0.2553827\tbest: 0.2553827 (800)\ttotal: 2m 37s\tremaining: 39.2s\n",
      "900:\tlearn: 0.2456184\ttest: 0.2550951\tbest: 0.2550951 (900)\ttotal: 2m 57s\tremaining: 19.5s\n",
      "999:\tlearn: 0.2442830\ttest: 0.2548465\tbest: 0.2548465 (999)\ttotal: 3m 18s\tremaining: 0us\n",
      "\n",
      "bestTest = 0.2548465493\n",
      "bestIteration = 999\n",
      "\n",
      "0:\tlearn: 0.6321795\ttest: 0.6320597\tbest: 0.6320597 (0)\ttotal: 299ms\tremaining: 4m 58s\n",
      "100:\tlearn: 0.2669336\ttest: 0.2669018\tbest: 0.2669018 (100)\ttotal: 21.4s\tremaining: 3m 10s\n",
      "200:\tlearn: 0.2607263\ttest: 0.2614180\tbest: 0.2614180 (200)\ttotal: 42.3s\tremaining: 2m 48s\n",
      "300:\tlearn: 0.2570948\ttest: 0.2588221\tbest: 0.2588221 (300)\ttotal: 1m 2s\tremaining: 2m 26s\n",
      "400:\tlearn: 0.2544056\ttest: 0.2572978\tbest: 0.2572978 (400)\ttotal: 1m 24s\tremaining: 2m 6s\n",
      "500:\tlearn: 0.2523152\ttest: 0.2563197\tbest: 0.2563197 (500)\ttotal: 1m 44s\tremaining: 1m 43s\n",
      "600:\tlearn: 0.2505569\ttest: 0.2557351\tbest: 0.2557351 (600)\ttotal: 2m 5s\tremaining: 1m 23s\n",
      "700:\tlearn: 0.2489260\ttest: 0.2551916\tbest: 0.2551901 (699)\ttotal: 2m 26s\tremaining: 1m 2s\n",
      "800:\tlearn: 0.2474097\ttest: 0.2548316\tbest: 0.2548316 (800)\ttotal: 2m 47s\tremaining: 41.7s\n",
      "900:\tlearn: 0.2459540\ttest: 0.2544876\tbest: 0.2544876 (900)\ttotal: 3m 8s\tremaining: 20.8s\n",
      "999:\tlearn: 0.2446014\ttest: 0.2542244\tbest: 0.2542244 (999)\ttotal: 3m 35s\tremaining: 0us\n",
      "\n",
      "bestTest = 0.2542243793\n",
      "bestIteration = 999\n",
      "\n",
      "0:\tlearn: 0.6446198\ttest: 0.6446311\tbest: 0.6446311 (0)\ttotal: 465ms\tremaining: 7m 44s\n",
      "100:\tlearn: 0.2672132\ttest: 0.2665878\tbest: 0.2665878 (100)\ttotal: 23.2s\tremaining: 3m 26s\n",
      "200:\tlearn: 0.2610079\ttest: 0.2612935\tbest: 0.2612935 (200)\ttotal: 46.7s\tremaining: 3m 5s\n",
      "300:\tlearn: 0.2573076\ttest: 0.2586548\tbest: 0.2586548 (300)\ttotal: 1m 9s\tremaining: 2m 42s\n",
      "400:\tlearn: 0.2544989\ttest: 0.2570374\tbest: 0.2570374 (400)\ttotal: 1m 33s\tremaining: 2m 19s\n"
     ]
    }
   ],
   "source": [
    "train_score_list, val_score_list = [], []\n",
    "for fold, (idx_tr, idx_va) in zip(range(1, 5+1), kf.split(train_agg, target)):\n",
    "    fold = str(fold)\n",
    "    X_train, y_train = train_agg.iloc[idx_tr], target[idx_tr]\n",
    "    X_val, y_val = train_agg.iloc[idx_va], target[idx_va]\n",
    "    with warnings.catch_warnings():\n",
    "        warnings.filterwarnings('ignore', category=UserWarning)\n",
    "        model = cb.CatBoostClassifier(**param)\n",
    "        model.fit(\n",
    "            X_train, \n",
    "            y_train, \n",
    "            eval_set=[(X_val, y_val)], \n",
    "            verbose=100, \n",
    "            cat_features=cat_features,\n",
    "            early_stopping_rounds=100\n",
    "        )\n",
    "    y_train_pred = model.predict(X_train, prediction_type='RawFormulaVal')\n",
    "    train_score, train_g, train_t4 = amex_metric(y_train, y_train_pred)\n",
    "    train_data, X_train, y_train = None, None, None\n",
    "    y_val_pred = model.predict(X_val, prediction_type='RawFormulaVal')\n",
    "    val_score, val_g, val_t4 = amex_metric(y_val, y_val_pred)\n",
    "    valid_data, X_val, y_val = None, None, None\n",
    "    train_score_list.append(train_score)\n",
    "    val_score_list.append(val_score)\n",
    "    print(f\"{Fore.BLUE}{Style.BRIGHT}Fold {fold} | Train Score = {train_score:.5f} ({train_g:.4f}, {train_t4:.4f})\")\n",
    "    print(f\"{Fore.GREEN}{Style.BRIGHT}Fold {fold} | Val Score = {val_score:.5f} ({val_g:.4f}, {val_t4:.4f}){Style.RESET_ALL}\")\n",
    "    print(f\"Clear cache {gc.collect()}\")"
   ]
  },
  {
   "cell_type": "markdown",
   "id": "c5a9c833-5974-4795-80a1-7ec9b3353581",
   "metadata": {},
   "source": [
    "### Tune Catboost using Optuna (KFold)"
   ]
  },
  {
   "cell_type": "code",
   "execution_count": 53,
   "id": "518e34ae-7eb0-49ea-bd74-559b7d9def27",
   "metadata": {},
   "outputs": [],
   "source": [
    "def objective(trial):\n",
    "    kf = StratifiedKFold(n_splits=5, shuffle=True, random_state=1020)\n",
    "\n",
    "    param = {\n",
    "        \"objective\": trial.suggest_categorical(\"objective\", [\"Logloss\"]),\n",
    "        \"colsample_bylevel\": trial.suggest_float(\"colsample_bylevel\", 0.03, 0.1, log=True),\n",
    "        \"depth\": trial.suggest_int(\"depth\", 4, 12),\n",
    "        \"boosting_type\": trial.suggest_categorical(\"boosting_type\", [\"Ordered\", \"Plain\"]),\n",
    "        \"bootstrap_type\": trial.suggest_categorical(\n",
    "            \"bootstrap_type\", [\"Bernoulli\", \"MVS\"]\n",
    "        ),\n",
    "        \"n_estimators\": trial.suggest_categorical(\"n_estimators\", [1000, 1200, 1400]),\n",
    "        \"l2_leaf_reg\": trial.suggest_float(\"l2_leaf_reg\", 1, 10, log=True),\n",
    "        \"min_data_in_leaf\": trial.suggest_categorical(\"min_data_in_leaf\", [512, 1024, 2048]),\n",
    "        \"learning_rate\": trial.suggest_categorical(\"learning_rate\", [0.025, 0.05, 0.1]),\n",
    "        \"max_bin\": trial.suggest_categorical(\"max_bin\", [63, 127, 255]),\n",
    "        \"used_ram_limit\": \"12gb\",\n",
    "    }\n",
    "\n",
    "    if param[\"bootstrap_type\"] == \"Bernoulli\":\n",
    "        param[\"subsample\"] = trial.suggest_float(\"subsample\", 0.6, 0.85)\n",
    "    \n",
    "    print(param)\n",
    "    train_score_list, val_score_list = [], []\n",
    "    for fold, (idx_tr, idx_va) in zip(range(1, 5+1), kf.split(train_agg, target)):\n",
    "        fold = str(fold)\n",
    "        X_train, y_train = train_agg.iloc[idx_tr], target[idx_tr]\n",
    "        X_val, y_val = train_agg.iloc[idx_va], target[idx_va]\n",
    "        with warnings.catch_warnings():\n",
    "            warnings.filterwarnings('ignore', category=UserWarning)\n",
    "            model = cb.CatBoostClassifier(**param)\n",
    "            model.fit(\n",
    "                X_train, \n",
    "                y_train, \n",
    "                eval_set=[(X_val, y_val)], \n",
    "                verbose=0, \n",
    "                cat_features=cat_features,\n",
    "                early_stopping_rounds=100\n",
    "            )\n",
    "        y_train_pred = model.predict(X_train, prediction_type='RawFormulaVal')\n",
    "        train_score, train_g, train_t4 = amex_metric(y_train, y_train_pred)\n",
    "        train_data, X_train, y_train = None, None, None\n",
    "        y_val_pred = model.predict(X_val, prediction_type='RawFormulaVal')\n",
    "        val_score, val_g, val_t4 = amex_metric(y_val, y_val_pred)\n",
    "        valid_data, X_val, y_val = None, None, None\n",
    "        train_score_list.append(train_score)\n",
    "        val_score_list.append(val_score)\n",
    "        if val_score > best_scores_json[\"validation\"][fold]:\n",
    "            best_scores_json[\"train\"][fold] = train_score\n",
    "            best_scores_json[\"validation\"][fold] = val_score\n",
    "            with open(f'{CURRENT_EXP_PATH}/best_scores.json', \"w\") as outfile:\n",
    "                json.dump(best_scores_json, outfile)\n",
    "            joblib.dump(model, f'{CURRENT_EXP_PATH}/models/model{fold}.pkl')\n",
    "        elif np.mean(train_score_list) >= np.mean(list(best_scores_json[\"train\"].values())) + 0.02:\n",
    "            print(f\"Train score too high (overfitting), start a new trial\")\n",
    "            return np.mean(val_score_list)\n",
    "        print(f\"{Fore.BLUE}{Style.BRIGHT}Fold {fold} | Train Score = {train_score:.5f} ({train_g:.4f}, {train_t4:.4f})\")\n",
    "        print(f\"{Fore.GREEN}{Style.BRIGHT}Fold {fold} | Val Score = {val_score:.5f} ({val_g:.4f}, {val_t4:.4f}){Style.RESET_ALL}\")\n",
    "        print(f\"Clear cache {gc.collect()}\")\n",
    "        \n",
    "    return np.mean(val_score_list)"
   ]
  },
  {
   "cell_type": "code",
   "execution_count": 54,
   "id": "aaee1a06-79a7-452e-84d8-674c051daffb",
   "metadata": {},
   "outputs": [],
   "source": [
    "# study = joblib.load(f\"{CURRENT_EXP_PATH}/optuna_study.pkl\")"
   ]
  },
  {
   "cell_type": "code",
   "execution_count": 57,
   "id": "f7f96d14-76be-4e64-af39-498a9e21d9e1",
   "metadata": {},
   "outputs": [],
   "source": [
    "# study = optuna.create_study(direction=\"maximize\")"
   ]
  },
  {
   "cell_type": "code",
   "execution_count": 59,
   "id": "325db876-d6f5-4aed-a99e-97541299f8b5",
   "metadata": {},
   "outputs": [
    {
     "name": "stdout",
     "output_type": "stream",
     "text": [
      "{'objective': 'Logloss', 'colsample_bylevel': 0.06079765732099717, 'depth': 6, 'boosting_type': 'Ordered', 'bootstrap_type': 'MVS', 'n_estimators': 1400, 'l2_leaf_reg': 7.6044718629016215, 'min_data_in_leaf': 2048, 'learning_rate': 0.07, 'max_bin': 63, 'used_ram_limit': '12gb'}\n",
      "\u001b[34m\u001b[1mFold 1 | Train Score = 0.84184 (0.9419, 0.7417)\n",
      "\u001b[32m\u001b[1mFold 1 | Val Score = 0.79243 (0.9219, 0.6629)\u001b[0m\n",
      "Clear cache 0\n",
      "\u001b[34m\u001b[1mFold 2 | Train Score = 0.84106 (0.9414, 0.7407)\n",
      "\u001b[32m\u001b[1mFold 2 | Val Score = 0.79242 (0.9233, 0.6616)\u001b[0m\n",
      "Clear cache 0\n",
      "\u001b[34m\u001b[1mFold 3 | Train Score = 0.84232 (0.9417, 0.7429)\n",
      "\u001b[32m\u001b[1mFold 3 | Val Score = 0.79439 (0.9242, 0.6646)\u001b[0m\n",
      "Clear cache 0\n",
      "\u001b[34m\u001b[1mFold 4 | Train Score = 0.84181 (0.9416, 0.7420)\n",
      "\u001b[32m\u001b[1mFold 4 | Val Score = 0.79802 (0.9246, 0.6714)\u001b[0m\n",
      "Clear cache 0\n"
     ]
    },
    {
     "name": "stderr",
     "output_type": "stream",
     "text": [
      "\u001b[32m[I 2022-07-30 10:29:18,789]\u001b[0m Trial 23 finished with value: 0.7944563728274476 and parameters: {'objective': 'Logloss', 'colsample_bylevel': 0.06079765732099717, 'depth': 6, 'boosting_type': 'Ordered', 'bootstrap_type': 'MVS', 'n_estimators': 1400, 'l2_leaf_reg': 7.6044718629016215, 'min_data_in_leaf': 2048, 'learning_rate': 0.07, 'max_bin': 63}. Best is trial 17 with value: 0.7952103875641641.\u001b[0m\n"
     ]
    },
    {
     "name": "stdout",
     "output_type": "stream",
     "text": [
      "\u001b[34m\u001b[1mFold 5 | Train Score = 0.84108 (0.9411, 0.7411)\n",
      "\u001b[32m\u001b[1mFold 5 | Val Score = 0.79502 (0.9254, 0.6647)\u001b[0m\n",
      "Clear cache 0\n",
      "{'objective': 'Logloss', 'colsample_bylevel': 0.06678481135488246, 'depth': 7, 'boosting_type': 'Ordered', 'bootstrap_type': 'MVS', 'n_estimators': 1400, 'l2_leaf_reg': 5.523346450477207, 'min_data_in_leaf': 2048, 'learning_rate': 0.07, 'max_bin': 63, 'used_ram_limit': '12gb'}\n",
      "\u001b[34m\u001b[1mFold 1 | Train Score = 0.85918 (0.9482, 0.7702)\n",
      "\u001b[32m\u001b[1mFold 1 | Val Score = 0.79167 (0.9219, 0.6615)\u001b[0m\n",
      "Clear cache 0\n",
      "\u001b[34m\u001b[1mFold 2 | Train Score = 0.85973 (0.9483, 0.7712)\n",
      "\u001b[32m\u001b[1mFold 2 | Val Score = 0.79354 (0.9238, 0.6633)\u001b[0m\n",
      "Clear cache 0\n",
      "\u001b[34m\u001b[1mFold 3 | Train Score = 0.85960 (0.9480, 0.7712)\n",
      "\u001b[32m\u001b[1mFold 3 | Val Score = 0.79511 (0.9243, 0.6659)\u001b[0m\n",
      "Clear cache 0\n",
      "\u001b[34m\u001b[1mFold 4 | Train Score = 0.86155 (0.9486, 0.7745)\n",
      "\u001b[32m\u001b[1mFold 4 | Val Score = 0.79594 (0.9243, 0.6675)\u001b[0m\n",
      "Clear cache 0\n"
     ]
    },
    {
     "name": "stderr",
     "output_type": "stream",
     "text": [
      "\u001b[32m[I 2022-07-30 11:00:49,370]\u001b[0m Trial 24 finished with value: 0.794272749764656 and parameters: {'objective': 'Logloss', 'colsample_bylevel': 0.06678481135488246, 'depth': 7, 'boosting_type': 'Ordered', 'bootstrap_type': 'MVS', 'n_estimators': 1400, 'l2_leaf_reg': 5.523346450477207, 'min_data_in_leaf': 2048, 'learning_rate': 0.07, 'max_bin': 63}. Best is trial 17 with value: 0.7952103875641641.\u001b[0m\n"
     ]
    },
    {
     "name": "stdout",
     "output_type": "stream",
     "text": [
      "\u001b[34m\u001b[1mFold 5 | Train Score = 0.85856 (0.9474, 0.7697)\n",
      "\u001b[32m\u001b[1mFold 5 | Val Score = 0.79510 (0.9253, 0.6649)\u001b[0m\n",
      "Clear cache 0\n",
      "{'objective': 'Logloss', 'colsample_bylevel': 0.06047710022425621, 'depth': 5, 'boosting_type': 'Ordered', 'bootstrap_type': 'MVS', 'n_estimators': 1400, 'l2_leaf_reg': 3.2517951534674845, 'min_data_in_leaf': 2048, 'learning_rate': 0.07, 'max_bin': 63, 'used_ram_limit': '12gb'}\n",
      "\u001b[34m\u001b[1mFold 1 | Train Score = 0.82766 (0.9366, 0.7187)\n",
      "\u001b[32m\u001b[1mFold 1 | Val Score = 0.79261 (0.9216, 0.6636)\u001b[0m\n",
      "Clear cache 0\n",
      "\u001b[34m\u001b[1mFold 2 | Train Score = 0.82760 (0.9364, 0.7188)\n",
      "\u001b[32m\u001b[1mFold 2 | Val Score = 0.79267 (0.9232, 0.6621)\u001b[0m\n",
      "Clear cache 0\n",
      "\u001b[34m\u001b[1mFold 3 | Train Score = 0.82670 (0.9361, 0.7173)\n",
      "\u001b[32m\u001b[1mFold 3 | Val Score = 0.79450 (0.9240, 0.6650)\u001b[0m\n",
      "Clear cache 0\n",
      "\u001b[34m\u001b[1mFold 4 | Train Score = 0.82698 (0.9362, 0.7178)\n",
      "\u001b[32m\u001b[1mFold 4 | Val Score = 0.79628 (0.9243, 0.6683)\u001b[0m\n",
      "Clear cache 0\n"
     ]
    },
    {
     "name": "stderr",
     "output_type": "stream",
     "text": [
      "\u001b[32m[I 2022-07-30 11:24:51,893]\u001b[0m Trial 25 finished with value: 0.7939775782040914 and parameters: {'objective': 'Logloss', 'colsample_bylevel': 0.06047710022425621, 'depth': 5, 'boosting_type': 'Ordered', 'bootstrap_type': 'MVS', 'n_estimators': 1400, 'l2_leaf_reg': 3.2517951534674845, 'min_data_in_leaf': 2048, 'learning_rate': 0.07, 'max_bin': 63}. Best is trial 17 with value: 0.7952103875641641.\u001b[0m\n"
     ]
    },
    {
     "name": "stdout",
     "output_type": "stream",
     "text": [
      "\u001b[34m\u001b[1mFold 5 | Train Score = 0.82590 (0.9355, 0.7163)\n",
      "\u001b[32m\u001b[1mFold 5 | Val Score = 0.79382 (0.9249, 0.6628)\u001b[0m\n",
      "Clear cache 0\n",
      "{'objective': 'Logloss', 'colsample_bylevel': 0.04908284819520433, 'depth': 8, 'boosting_type': 'Ordered', 'bootstrap_type': 'MVS', 'n_estimators': 1400, 'l2_leaf_reg': 5.434230248807744, 'min_data_in_leaf': 2048, 'learning_rate': 0.07, 'max_bin': 63, 'used_ram_limit': '12gb'}\n"
     ]
    },
    {
     "name": "stderr",
     "output_type": "stream",
     "text": [
      "\u001b[32m[I 2022-07-30 11:30:36,238]\u001b[0m Trial 26 finished with value: 0.7909718881330039 and parameters: {'objective': 'Logloss', 'colsample_bylevel': 0.04908284819520433, 'depth': 8, 'boosting_type': 'Ordered', 'bootstrap_type': 'MVS', 'n_estimators': 1400, 'l2_leaf_reg': 5.434230248807744, 'min_data_in_leaf': 2048, 'learning_rate': 0.07, 'max_bin': 63}. Best is trial 17 with value: 0.7952103875641641.\u001b[0m\n"
     ]
    },
    {
     "name": "stdout",
     "output_type": "stream",
     "text": [
      "Train score too high (overfitting), start a new trial\n",
      "{'objective': 'Logloss', 'colsample_bylevel': 0.06570054164595929, 'depth': 6, 'boosting_type': 'Ordered', 'bootstrap_type': 'MVS', 'n_estimators': 1400, 'l2_leaf_reg': 8.137437799887632, 'min_data_in_leaf': 2048, 'learning_rate': 0.07, 'max_bin': 63, 'used_ram_limit': '12gb'}\n",
      "\u001b[34m\u001b[1mFold 1 | Train Score = 0.84124 (0.9416, 0.7409)\n",
      "\u001b[32m\u001b[1mFold 1 | Val Score = 0.79141 (0.9221, 0.6607)\u001b[0m\n",
      "Clear cache 0\n",
      "\u001b[34m\u001b[1mFold 2 | Train Score = 0.84096 (0.9415, 0.7404)\n",
      "\u001b[32m\u001b[1mFold 2 | Val Score = 0.79307 (0.9232, 0.6629)\u001b[0m\n",
      "Clear cache 0\n",
      "\u001b[34m\u001b[1mFold 3 | Train Score = 0.84252 (0.9416, 0.7434)\n",
      "\u001b[32m\u001b[1mFold 3 | Val Score = 0.79429 (0.9241, 0.6645)\u001b[0m\n",
      "Clear cache 0\n",
      "\u001b[34m\u001b[1mFold 4 | Train Score = 0.84215 (0.9417, 0.7426)\n",
      "\u001b[32m\u001b[1mFold 4 | Val Score = 0.79702 (0.9245, 0.6696)\u001b[0m\n",
      "Clear cache 0\n"
     ]
    },
    {
     "name": "stderr",
     "output_type": "stream",
     "text": [
      "\u001b[32m[I 2022-07-30 11:58:03,546]\u001b[0m Trial 27 finished with value: 0.7942823266592958 and parameters: {'objective': 'Logloss', 'colsample_bylevel': 0.06570054164595929, 'depth': 6, 'boosting_type': 'Ordered', 'bootstrap_type': 'MVS', 'n_estimators': 1400, 'l2_leaf_reg': 8.137437799887632, 'min_data_in_leaf': 2048, 'learning_rate': 0.07, 'max_bin': 63}. Best is trial 17 with value: 0.7952103875641641.\u001b[0m\n"
     ]
    },
    {
     "name": "stdout",
     "output_type": "stream",
     "text": [
      "\u001b[34m\u001b[1mFold 5 | Train Score = 0.83998 (0.9407, 0.7393)\n",
      "\u001b[32m\u001b[1mFold 5 | Val Score = 0.79563 (0.9252, 0.6660)\u001b[0m\n",
      "Clear cache 0\n",
      "{'objective': 'Logloss', 'colsample_bylevel': 0.0837160779709254, 'depth': 7, 'boosting_type': 'Ordered', 'bootstrap_type': 'MVS', 'n_estimators': 1000, 'l2_leaf_reg': 2.343770232125307, 'min_data_in_leaf': 1024, 'learning_rate': 0.07, 'max_bin': 63, 'used_ram_limit': '12gb'}\n",
      "\u001b[34m\u001b[1mFold 1 | Train Score = 0.84491 (0.9430, 0.7468)\n",
      "\u001b[32m\u001b[1mFold 1 | Val Score = 0.79096 (0.9214, 0.6605)\u001b[0m\n",
      "Clear cache 0\n",
      "\u001b[34m\u001b[1mFold 2 | Train Score = 0.84360 (0.9424, 0.7448)\n",
      "\u001b[32m\u001b[1mFold 2 | Val Score = 0.79384 (0.9229, 0.6648)\u001b[0m\n",
      "Clear cache 0\n",
      "\u001b[34m\u001b[1mFold 3 | Train Score = 0.84411 (0.9425, 0.7457)\n",
      "\u001b[32m\u001b[1mFold 3 | Val Score = 0.79467 (0.9240, 0.6653)\u001b[0m\n",
      "Clear cache 0\n",
      "\u001b[34m\u001b[1mFold 4 | Train Score = 0.84537 (0.9426, 0.7482)\n",
      "\u001b[32m\u001b[1mFold 4 | Val Score = 0.79766 (0.9240, 0.6713)\u001b[0m\n",
      "Clear cache 0\n"
     ]
    },
    {
     "name": "stderr",
     "output_type": "stream",
     "text": [
      "\u001b[32m[I 2022-07-30 12:24:43,439]\u001b[0m Trial 28 finished with value: 0.7944391089288791 and parameters: {'objective': 'Logloss', 'colsample_bylevel': 0.0837160779709254, 'depth': 7, 'boosting_type': 'Ordered', 'bootstrap_type': 'MVS', 'n_estimators': 1000, 'l2_leaf_reg': 2.343770232125307, 'min_data_in_leaf': 1024, 'learning_rate': 0.07, 'max_bin': 63}. Best is trial 17 with value: 0.7952103875641641.\u001b[0m\n"
     ]
    },
    {
     "name": "stdout",
     "output_type": "stream",
     "text": [
      "\u001b[34m\u001b[1mFold 5 | Train Score = 0.84201 (0.9416, 0.7424)\n",
      "\u001b[32m\u001b[1mFold 5 | Val Score = 0.79507 (0.9248, 0.6653)\u001b[0m\n",
      "Clear cache 0\n",
      "{'objective': 'Logloss', 'colsample_bylevel': 0.04965290518703426, 'depth': 5, 'boosting_type': 'Plain', 'bootstrap_type': 'Bernoulli', 'n_estimators': 1400, 'l2_leaf_reg': 3.465301482672618, 'min_data_in_leaf': 2048, 'learning_rate': 0.12, 'max_bin': 255, 'used_ram_limit': '12gb', 'subsample': 0.7391571541401726}\n",
      "\u001b[34m\u001b[1mFold 1 | Train Score = 0.84434 (0.9424, 0.7463)\n",
      "\u001b[32m\u001b[1mFold 1 | Val Score = 0.79152 (0.9212, 0.6619)\u001b[0m\n",
      "Clear cache 0\n",
      "\u001b[34m\u001b[1mFold 2 | Train Score = 0.84453 (0.9423, 0.7468)\n",
      "\u001b[32m\u001b[1mFold 2 | Val Score = 0.79059 (0.9224, 0.6588)\u001b[0m\n",
      "Clear cache 0\n",
      "\u001b[34m\u001b[1mFold 3 | Train Score = 0.83903 (0.9401, 0.7380)\n",
      "\u001b[32m\u001b[1mFold 3 | Val Score = 0.79170 (0.9233, 0.6601)\u001b[0m\n",
      "Clear cache 0\n",
      "\u001b[34m\u001b[1mFold 4 | Train Score = 0.83623 (0.9393, 0.7332)\n",
      "\u001b[32m\u001b[1mFold 4 | Val Score = 0.79576 (0.9235, 0.6680)\u001b[0m\n",
      "Clear cache 0\n"
     ]
    },
    {
     "name": "stderr",
     "output_type": "stream",
     "text": [
      "\u001b[32m[I 2022-07-30 12:36:24,158]\u001b[0m Trial 29 finished with value: 0.7932383610999546 and parameters: {'objective': 'Logloss', 'colsample_bylevel': 0.04965290518703426, 'depth': 5, 'boosting_type': 'Plain', 'bootstrap_type': 'Bernoulli', 'n_estimators': 1400, 'l2_leaf_reg': 3.465301482672618, 'min_data_in_leaf': 2048, 'learning_rate': 0.12, 'max_bin': 255, 'subsample': 0.7391571541401726}. Best is trial 17 with value: 0.7952103875641641.\u001b[0m\n"
     ]
    },
    {
     "name": "stdout",
     "output_type": "stream",
     "text": [
      "\u001b[34m\u001b[1mFold 5 | Train Score = 0.84400 (0.9417, 0.7463)\n",
      "\u001b[32m\u001b[1mFold 5 | Val Score = 0.79662 (0.9246, 0.6686)\u001b[0m\n",
      "Clear cache 0\n",
      "{'objective': 'Logloss', 'colsample_bylevel': 0.05608579858755569, 'depth': 9, 'boosting_type': 'Ordered', 'bootstrap_type': 'MVS', 'n_estimators': 1400, 'l2_leaf_reg': 5.024499794239676, 'min_data_in_leaf': 2048, 'learning_rate': 0.025, 'max_bin': 63, 'used_ram_limit': '12gb'}\n",
      "\u001b[34m\u001b[1mFold 1 | Train Score = 0.83525 (0.9394, 0.7311)\n",
      "\u001b[32m\u001b[1mFold 1 | Val Score = 0.79091 (0.9215, 0.6604)\u001b[0m\n",
      "Clear cache 0\n",
      "\u001b[34m\u001b[1mFold 2 | Train Score = 0.83446 (0.9391, 0.7298)\n",
      "\u001b[32m\u001b[1mFold 2 | Val Score = 0.79241 (0.9227, 0.6621)\u001b[0m\n",
      "Clear cache 0\n",
      "\u001b[34m\u001b[1mFold 3 | Train Score = 0.83448 (0.9389, 0.7301)\n",
      "\u001b[32m\u001b[1mFold 3 | Val Score = 0.79396 (0.9238, 0.6641)\u001b[0m\n",
      "Clear cache 0\n",
      "\u001b[34m\u001b[1mFold 4 | Train Score = 0.83534 (0.9392, 0.7315)\n",
      "\u001b[32m\u001b[1mFold 4 | Val Score = 0.79686 (0.9242, 0.6695)\u001b[0m\n",
      "Clear cache 0\n"
     ]
    },
    {
     "name": "stderr",
     "output_type": "stream",
     "text": [
      "\u001b[32m[I 2022-07-30 13:12:54,023]\u001b[0m Trial 30 finished with value: 0.7940054720852323 and parameters: {'objective': 'Logloss', 'colsample_bylevel': 0.05608579858755569, 'depth': 9, 'boosting_type': 'Ordered', 'bootstrap_type': 'MVS', 'n_estimators': 1400, 'l2_leaf_reg': 5.024499794239676, 'min_data_in_leaf': 2048, 'learning_rate': 0.025, 'max_bin': 63}. Best is trial 17 with value: 0.7952103875641641.\u001b[0m\n"
     ]
    },
    {
     "name": "stdout",
     "output_type": "stream",
     "text": [
      "\u001b[34m\u001b[1mFold 5 | Train Score = 0.83278 (0.9383, 0.7272)\n",
      "\u001b[32m\u001b[1mFold 5 | Val Score = 0.79590 (0.9250, 0.6668)\u001b[0m\n",
      "Clear cache 0\n",
      "{'objective': 'Logloss', 'colsample_bylevel': 0.07116391415625412, 'depth': 9, 'boosting_type': 'Plain', 'bootstrap_type': 'Bernoulli', 'n_estimators': 1400, 'l2_leaf_reg': 9.363798891875373, 'min_data_in_leaf': 2048, 'learning_rate': 0.07, 'max_bin': 127, 'used_ram_limit': '12gb', 'subsample': 0.7797815693954372}\n"
     ]
    },
    {
     "name": "stderr",
     "output_type": "stream",
     "text": [
      "\u001b[32m[I 2022-07-30 13:16:32,349]\u001b[0m Trial 31 finished with value: 0.7911730714704922 and parameters: {'objective': 'Logloss', 'colsample_bylevel': 0.07116391415625412, 'depth': 9, 'boosting_type': 'Plain', 'bootstrap_type': 'Bernoulli', 'n_estimators': 1400, 'l2_leaf_reg': 9.363798891875373, 'min_data_in_leaf': 2048, 'learning_rate': 0.07, 'max_bin': 127, 'subsample': 0.7797815693954372}. Best is trial 17 with value: 0.7952103875641641.\u001b[0m\n"
     ]
    },
    {
     "name": "stdout",
     "output_type": "stream",
     "text": [
      "Train score too high (overfitting), start a new trial\n",
      "{'objective': 'Logloss', 'colsample_bylevel': 0.039637123013675585, 'depth': 6, 'boosting_type': 'Ordered', 'bootstrap_type': 'MVS', 'n_estimators': 1400, 'l2_leaf_reg': 2.7715150269746607, 'min_data_in_leaf': 2048, 'learning_rate': 0.07, 'max_bin': 127, 'used_ram_limit': '12gb'}\n",
      "\u001b[34m\u001b[1mFold 1 | Train Score = 0.84167 (0.9418, 0.7415)\n",
      "\u001b[32m\u001b[1mFold 1 | Val Score = 0.79187 (0.9218, 0.6620)\u001b[0m\n",
      "Clear cache 0\n",
      "\u001b[34m\u001b[1mFold 2 | Train Score = 0.84117 (0.9415, 0.7408)\n",
      "\u001b[32m\u001b[1mFold 2 | Val Score = 0.79254 (0.9231, 0.6620)\u001b[0m\n",
      "Clear cache 0\n",
      "\u001b[34m\u001b[1mFold 3 | Train Score = 0.84114 (0.9414, 0.7409)\n",
      "\u001b[32m\u001b[1mFold 3 | Val Score = 0.79572 (0.9242, 0.6672)\u001b[0m\n",
      "Clear cache 0\n",
      "\u001b[34m\u001b[1mFold 4 | Train Score = 0.84133 (0.9413, 0.7414)\n",
      "\u001b[32m\u001b[1mFold 4 | Val Score = 0.79617 (0.9245, 0.6679)\u001b[0m\n",
      "Clear cache 0\n"
     ]
    },
    {
     "name": "stderr",
     "output_type": "stream",
     "text": [
      "\u001b[32m[I 2022-07-30 13:35:45,421]\u001b[0m Trial 32 finished with value: 0.7943868309116611 and parameters: {'objective': 'Logloss', 'colsample_bylevel': 0.039637123013675585, 'depth': 6, 'boosting_type': 'Ordered', 'bootstrap_type': 'MVS', 'n_estimators': 1400, 'l2_leaf_reg': 2.7715150269746607, 'min_data_in_leaf': 2048, 'learning_rate': 0.07, 'max_bin': 127}. Best is trial 17 with value: 0.7952103875641641.\u001b[0m\n"
     ]
    },
    {
     "name": "stdout",
     "output_type": "stream",
     "text": [
      "\u001b[34m\u001b[1mFold 5 | Train Score = 0.83971 (0.9408, 0.7386)\n",
      "\u001b[32m\u001b[1mFold 5 | Val Score = 0.79563 (0.9252, 0.6660)\u001b[0m\n",
      "Clear cache 0\n",
      "{'objective': 'Logloss', 'colsample_bylevel': 0.060974417323002454, 'depth': 6, 'boosting_type': 'Ordered', 'bootstrap_type': 'MVS', 'n_estimators': 1400, 'l2_leaf_reg': 7.515567484245174, 'min_data_in_leaf': 2048, 'learning_rate': 0.07, 'max_bin': 63, 'used_ram_limit': '12gb'}\n",
      "\u001b[34m\u001b[1mFold 1 | Train Score = 0.84232 (0.9421, 0.7426)\n",
      "\u001b[32m\u001b[1mFold 1 | Val Score = 0.79124 (0.9219, 0.6606)\u001b[0m\n",
      "Clear cache 0\n",
      "\u001b[34m\u001b[1mFold 2 | Train Score = 0.84123 (0.9415, 0.7409)\n",
      "\u001b[32m\u001b[1mFold 2 | Val Score = 0.79106 (0.9234, 0.6587)\u001b[0m\n",
      "Clear cache 0\n",
      "\u001b[34m\u001b[1mFold 3 | Train Score = 0.84169 (0.9416, 0.7417)\n",
      "\u001b[32m\u001b[1mFold 3 | Val Score = 0.79518 (0.9242, 0.6661)\u001b[0m\n",
      "Clear cache 0\n",
      "\u001b[34m\u001b[1mFold 4 | Train Score = 0.84133 (0.9416, 0.7411)\n",
      "\u001b[32m\u001b[1mFold 4 | Val Score = 0.79888 (0.9246, 0.6732)\u001b[0m\n",
      "Clear cache 0\n"
     ]
    },
    {
     "name": "stderr",
     "output_type": "stream",
     "text": [
      "\u001b[32m[I 2022-07-30 14:00:57,663]\u001b[0m Trial 33 finished with value: 0.7942373268847405 and parameters: {'objective': 'Logloss', 'colsample_bylevel': 0.060974417323002454, 'depth': 6, 'boosting_type': 'Ordered', 'bootstrap_type': 'MVS', 'n_estimators': 1400, 'l2_leaf_reg': 7.515567484245174, 'min_data_in_leaf': 2048, 'learning_rate': 0.07, 'max_bin': 63}. Best is trial 17 with value: 0.7952103875641641.\u001b[0m\n"
     ]
    },
    {
     "name": "stdout",
     "output_type": "stream",
     "text": [
      "\u001b[34m\u001b[1mFold 5 | Train Score = 0.84032 (0.9408, 0.7398)\n",
      "\u001b[32m\u001b[1mFold 5 | Val Score = 0.79482 (0.9253, 0.6644)\u001b[0m\n",
      "Clear cache 0\n",
      "{'objective': 'Logloss', 'colsample_bylevel': 0.05877618589761325, 'depth': 7, 'boosting_type': 'Ordered', 'bootstrap_type': 'MVS', 'n_estimators': 1400, 'l2_leaf_reg': 6.2418991237047035, 'min_data_in_leaf': 2048, 'learning_rate': 0.07, 'max_bin': 63, 'used_ram_limit': '12gb'}\n",
      "\u001b[34m\u001b[1mFold 1 | Train Score = 0.85985 (0.9483, 0.7714)\n",
      "\u001b[32m\u001b[1mFold 1 | Val Score = 0.79175 (0.9219, 0.6616)\u001b[0m\n",
      "Clear cache 0\n",
      "\u001b[34m\u001b[1mFold 2 | Train Score = 0.86004 (0.9480, 0.7721)\n",
      "\u001b[32m\u001b[1mFold 2 | Val Score = 0.79185 (0.9233, 0.6604)\u001b[0m\n",
      "Clear cache 0\n",
      "\u001b[34m\u001b[1mFold 3 | Train Score = 0.85944 (0.9479, 0.7709)\n",
      "\u001b[32m\u001b[1mFold 3 | Val Score = 0.79658 (0.9244, 0.6688)\u001b[0m\n",
      "Clear cache 0\n",
      "\u001b[34m\u001b[1mFold 4 | Train Score = 0.85858 (0.9473, 0.7698)\n",
      "\u001b[32m\u001b[1mFold 4 | Val Score = 0.79555 (0.9244, 0.6667)\u001b[0m\n",
      "Clear cache 0\n"
     ]
    },
    {
     "name": "stderr",
     "output_type": "stream",
     "text": [
      "\u001b[32m[I 2022-07-30 14:28:48,680]\u001b[0m Trial 34 finished with value: 0.794303120892953 and parameters: {'objective': 'Logloss', 'colsample_bylevel': 0.05877618589761325, 'depth': 7, 'boosting_type': 'Ordered', 'bootstrap_type': 'MVS', 'n_estimators': 1400, 'l2_leaf_reg': 6.2418991237047035, 'min_data_in_leaf': 2048, 'learning_rate': 0.07, 'max_bin': 63}. Best is trial 17 with value: 0.7952103875641641.\u001b[0m\n"
     ]
    },
    {
     "name": "stdout",
     "output_type": "stream",
     "text": [
      "\u001b[34m\u001b[1mFold 5 | Train Score = 0.85687 (0.9469, 0.7669)\n",
      "\u001b[32m\u001b[1mFold 5 | Val Score = 0.79578 (0.9254, 0.6662)\u001b[0m\n",
      "Clear cache 0\n",
      "{'objective': 'Logloss', 'colsample_bylevel': 0.062121687809993276, 'depth': 4, 'boosting_type': 'Ordered', 'bootstrap_type': 'MVS', 'n_estimators': 1000, 'l2_leaf_reg': 8.062065161055633, 'min_data_in_leaf': 2048, 'learning_rate': 0.07, 'max_bin': 63, 'used_ram_limit': '12gb'}\n",
      "\u001b[34m\u001b[1mFold 1 | Train Score = 0.80747 (0.9287, 0.6862)\n",
      "\u001b[32m\u001b[1mFold 1 | Val Score = 0.78969 (0.9203, 0.6591)\u001b[0m\n",
      "Clear cache 0\n",
      "\u001b[34m\u001b[1mFold 2 | Train Score = 0.80668 (0.9285, 0.6848)\n",
      "\u001b[32m\u001b[1mFold 2 | Val Score = 0.79026 (0.9218, 0.6587)\u001b[0m\n",
      "Clear cache 0\n",
      "\u001b[34m\u001b[1mFold 3 | Train Score = 0.80658 (0.9282, 0.6849)\n",
      "\u001b[32m\u001b[1mFold 3 | Val Score = 0.79190 (0.9230, 0.6608)\u001b[0m\n",
      "Clear cache 0\n",
      "\u001b[34m\u001b[1mFold 4 | Train Score = 0.80662 (0.9282, 0.6850)\n",
      "\u001b[32m\u001b[1mFold 4 | Val Score = 0.79531 (0.9233, 0.6674)\u001b[0m\n",
      "Clear cache 0\n"
     ]
    },
    {
     "name": "stderr",
     "output_type": "stream",
     "text": [
      "\u001b[32m[I 2022-07-30 14:43:14,424]\u001b[0m Trial 35 finished with value: 0.7917806109216808 and parameters: {'objective': 'Logloss', 'colsample_bylevel': 0.062121687809993276, 'depth': 4, 'boosting_type': 'Ordered', 'bootstrap_type': 'MVS', 'n_estimators': 1000, 'l2_leaf_reg': 8.062065161055633, 'min_data_in_leaf': 2048, 'learning_rate': 0.07, 'max_bin': 63}. Best is trial 17 with value: 0.7952103875641641.\u001b[0m\n"
     ]
    },
    {
     "name": "stdout",
     "output_type": "stream",
     "text": [
      "\u001b[34m\u001b[1mFold 5 | Train Score = 0.80586 (0.9279, 0.6838)\n",
      "\u001b[32m\u001b[1mFold 5 | Val Score = 0.79174 (0.9240, 0.6595)\u001b[0m\n",
      "Clear cache 0\n",
      "{'objective': 'Logloss', 'colsample_bylevel': 0.08047762169145241, 'depth': 6, 'boosting_type': 'Ordered', 'bootstrap_type': 'MVS', 'n_estimators': 1400, 'l2_leaf_reg': 3.9005756157948928, 'min_data_in_leaf': 2048, 'learning_rate': 0.07, 'max_bin': 63, 'used_ram_limit': '12gb'}\n",
      "\u001b[34m\u001b[1mFold 1 | Train Score = 0.84371 (0.9424, 0.7450)\n",
      "\u001b[32m\u001b[1mFold 1 | Val Score = 0.79211 (0.9219, 0.6623)\u001b[0m\n",
      "Clear cache 0\n",
      "\u001b[34m\u001b[1mFold 2 | Train Score = 0.84366 (0.9422, 0.7451)\n",
      "\u001b[32m\u001b[1mFold 2 | Val Score = 0.79354 (0.9231, 0.6639)\u001b[0m\n",
      "Clear cache 0\n",
      "\u001b[34m\u001b[1mFold 3 | Train Score = 0.84378 (0.9422, 0.7453)\n",
      "\u001b[32m\u001b[1mFold 3 | Val Score = 0.79445 (0.9241, 0.6648)\u001b[0m\n",
      "Clear cache 0\n",
      "\u001b[34m\u001b[1mFold 4 | Train Score = 0.84440 (0.9423, 0.7465)\n",
      "\u001b[32m\u001b[1mFold 4 | Val Score = 0.79678 (0.9243, 0.6692)\u001b[0m\n",
      "Clear cache 0\n"
     ]
    },
    {
     "name": "stderr",
     "output_type": "stream",
     "text": [
      "\u001b[32m[I 2022-07-30 15:14:15,492]\u001b[0m Trial 36 finished with value: 0.7945737558981614 and parameters: {'objective': 'Logloss', 'colsample_bylevel': 0.08047762169145241, 'depth': 6, 'boosting_type': 'Ordered', 'bootstrap_type': 'MVS', 'n_estimators': 1400, 'l2_leaf_reg': 3.9005756157948928, 'min_data_in_leaf': 2048, 'learning_rate': 0.07, 'max_bin': 63}. Best is trial 17 with value: 0.7952103875641641.\u001b[0m\n"
     ]
    },
    {
     "name": "stdout",
     "output_type": "stream",
     "text": [
      "\u001b[34m\u001b[1mFold 5 | Train Score = 0.84289 (0.9417, 0.7441)\n",
      "\u001b[32m\u001b[1mFold 5 | Val Score = 0.79599 (0.9253, 0.6667)\u001b[0m\n",
      "Clear cache 0\n",
      "{'objective': 'Logloss', 'colsample_bylevel': 0.08175173619297524, 'depth': 5, 'boosting_type': 'Plain', 'bootstrap_type': 'MVS', 'n_estimators': 1400, 'l2_leaf_reg': 3.775548147107601, 'min_data_in_leaf': 1024, 'learning_rate': 0.07, 'max_bin': 63, 'used_ram_limit': '12gb'}\n",
      "\u001b[34m\u001b[1mFold 1 | Train Score = 0.83212 (0.9380, 0.7262)\n",
      "\u001b[32m\u001b[1mFold 1 | Val Score = 0.79286 (0.9214, 0.6643)\u001b[0m\n",
      "Clear cache 0\n",
      "\u001b[34m\u001b[1mFold 2 | Train Score = 0.83241 (0.9377, 0.7271)\n",
      "\u001b[32m\u001b[1mFold 2 | Val Score = 0.79112 (0.9228, 0.6594)\u001b[0m\n",
      "Clear cache 0\n",
      "\u001b[34m\u001b[1mFold 3 | Train Score = 0.83128 (0.9372, 0.7253)\n",
      "\u001b[32m\u001b[1mFold 3 | Val Score = 0.79240 (0.9236, 0.6612)\u001b[0m\n",
      "Clear cache 0\n",
      "\u001b[34m\u001b[1mFold 4 | Train Score = 0.83052 (0.9372, 0.7238)\n",
      "\u001b[32m\u001b[1mFold 4 | Val Score = 0.79693 (0.9241, 0.6697)\u001b[0m\n",
      "Clear cache 0\n"
     ]
    },
    {
     "name": "stderr",
     "output_type": "stream",
     "text": [
      "\u001b[32m[I 2022-07-30 15:30:27,141]\u001b[0m Trial 37 finished with value: 0.7936453107776799 and parameters: {'objective': 'Logloss', 'colsample_bylevel': 0.08175173619297524, 'depth': 5, 'boosting_type': 'Plain', 'bootstrap_type': 'MVS', 'n_estimators': 1400, 'l2_leaf_reg': 3.775548147107601, 'min_data_in_leaf': 1024, 'learning_rate': 0.07, 'max_bin': 63}. Best is trial 17 with value: 0.7952103875641641.\u001b[0m\n"
     ]
    },
    {
     "name": "stdout",
     "output_type": "stream",
     "text": [
      "\u001b[34m\u001b[1mFold 5 | Train Score = 0.83174 (0.9372, 0.7263)\n",
      "\u001b[32m\u001b[1mFold 5 | Val Score = 0.79492 (0.9250, 0.6648)\u001b[0m\n",
      "Clear cache 0\n",
      "{'objective': 'Logloss', 'colsample_bylevel': 0.08480357641618297, 'depth': 8, 'boosting_type': 'Ordered', 'bootstrap_type': 'MVS', 'n_estimators': 1400, 'l2_leaf_reg': 3.9642360570080935, 'min_data_in_leaf': 2048, 'learning_rate': 0.025, 'max_bin': 255, 'used_ram_limit': '12gb'}\n",
      "\u001b[34m\u001b[1mFold 1 | Train Score = 0.82579 (0.9357, 0.7159)\n",
      "\u001b[32m\u001b[1mFold 1 | Val Score = 0.79083 (0.9211, 0.6606)\u001b[0m\n",
      "Clear cache 0\n",
      "\u001b[34m\u001b[1mFold 2 | Train Score = 0.82541 (0.9355, 0.7153)\n",
      "\u001b[32m\u001b[1mFold 2 | Val Score = 0.79092 (0.9224, 0.6594)\u001b[0m\n",
      "Clear cache 0\n",
      "\u001b[34m\u001b[1mFold 3 | Train Score = 0.82504 (0.9352, 0.7148)\n",
      "\u001b[32m\u001b[1mFold 3 | Val Score = 0.79436 (0.9236, 0.6651)\u001b[0m\n",
      "Clear cache 0\n",
      "\u001b[34m\u001b[1mFold 4 | Train Score = 0.82546 (0.9353, 0.7156)\n",
      "\u001b[32m\u001b[1mFold 4 | Val Score = 0.79529 (0.9239, 0.6667)\u001b[0m\n",
      "Clear cache 0\n"
     ]
    },
    {
     "name": "stderr",
     "output_type": "stream",
     "text": [
      "\u001b[32m[I 2022-07-30 16:22:24,503]\u001b[0m Trial 38 finished with value: 0.793411796209913 and parameters: {'objective': 'Logloss', 'colsample_bylevel': 0.08480357641618297, 'depth': 8, 'boosting_type': 'Ordered', 'bootstrap_type': 'MVS', 'n_estimators': 1400, 'l2_leaf_reg': 3.9642360570080935, 'min_data_in_leaf': 2048, 'learning_rate': 0.025, 'max_bin': 255}. Best is trial 17 with value: 0.7952103875641641.\u001b[0m\n"
     ]
    },
    {
     "name": "stdout",
     "output_type": "stream",
     "text": [
      "\u001b[34m\u001b[1mFold 5 | Train Score = 0.82320 (0.9345, 0.7119)\n",
      "\u001b[32m\u001b[1mFold 5 | Val Score = 0.79565 (0.9247, 0.6666)\u001b[0m\n",
      "Clear cache 0\n",
      "{'objective': 'Logloss', 'colsample_bylevel': 0.07367762695935444, 'depth': 7, 'boosting_type': 'Plain', 'bootstrap_type': 'MVS', 'n_estimators': 1000, 'l2_leaf_reg': 2.6757070778120884, 'min_data_in_leaf': 1024, 'learning_rate': 0.07, 'max_bin': 63, 'used_ram_limit': '12gb'}\n",
      "\u001b[34m\u001b[1mFold 1 | Train Score = 0.85351 (0.9455, 0.7615)\n",
      "\u001b[32m\u001b[1mFold 1 | Val Score = 0.79013 (0.9213, 0.6589)\u001b[0m\n",
      "Clear cache 0\n",
      "\u001b[34m\u001b[1mFold 2 | Train Score = 0.85760 (0.9467, 0.7685)\n",
      "\u001b[32m\u001b[1mFold 2 | Val Score = 0.79077 (0.9227, 0.6588)\u001b[0m\n",
      "Clear cache 0\n",
      "\u001b[34m\u001b[1mFold 3 | Train Score = 0.85523 (0.9457, 0.7647)\n",
      "\u001b[32m\u001b[1mFold 3 | Val Score = 0.79387 (0.9237, 0.6640)\u001b[0m\n",
      "Clear cache 0\n",
      "\u001b[34m\u001b[1mFold 4 | Train Score = 0.85669 (0.9462, 0.7671)\n",
      "\u001b[32m\u001b[1mFold 4 | Val Score = 0.79573 (0.9240, 0.6675)\u001b[0m\n",
      "Clear cache 0\n"
     ]
    },
    {
     "name": "stderr",
     "output_type": "stream",
     "text": [
      "\u001b[32m[I 2022-07-30 16:36:26,617]\u001b[0m Trial 39 finished with value: 0.7931127469142492 and parameters: {'objective': 'Logloss', 'colsample_bylevel': 0.07367762695935444, 'depth': 7, 'boosting_type': 'Plain', 'bootstrap_type': 'MVS', 'n_estimators': 1000, 'l2_leaf_reg': 2.6757070778120884, 'min_data_in_leaf': 1024, 'learning_rate': 0.07, 'max_bin': 63}. Best is trial 17 with value: 0.7952103875641641.\u001b[0m\n"
     ]
    },
    {
     "name": "stdout",
     "output_type": "stream",
     "text": [
      "\u001b[34m\u001b[1mFold 5 | Train Score = 0.85646 (0.9459, 0.7670)\n",
      "\u001b[32m\u001b[1mFold 5 | Val Score = 0.79506 (0.9248, 0.6653)\u001b[0m\n",
      "Clear cache 0\n",
      "{'objective': 'Logloss', 'colsample_bylevel': 0.07988368273714919, 'depth': 6, 'boosting_type': 'Ordered', 'bootstrap_type': 'MVS', 'n_estimators': 1400, 'l2_leaf_reg': 4.608556654802026, 'min_data_in_leaf': 2048, 'learning_rate': 0.07, 'max_bin': 63, 'used_ram_limit': '12gb'}\n",
      "\u001b[34m\u001b[1mFold 1 | Train Score = 0.84340 (0.9423, 0.7445)\n",
      "\u001b[32m\u001b[1mFold 1 | Val Score = 0.79240 (0.9218, 0.6630)\u001b[0m\n",
      "Clear cache 0\n",
      "\u001b[34m\u001b[1mFold 2 | Train Score = 0.84374 (0.9423, 0.7452)\n",
      "\u001b[32m\u001b[1mFold 2 | Val Score = 0.79371 (0.9234, 0.6640)\u001b[0m\n",
      "Clear cache 0\n",
      "\u001b[34m\u001b[1mFold 3 | Train Score = 0.84436 (0.9424, 0.7464)\n",
      "\u001b[32m\u001b[1mFold 3 | Val Score = 0.79478 (0.9244, 0.6652)\u001b[0m\n",
      "Clear cache 0\n",
      "\u001b[34m\u001b[1mFold 4 | Train Score = 0.84392 (0.9422, 0.7456)\n",
      "\u001b[32m\u001b[1mFold 4 | Val Score = 0.79535 (0.9246, 0.6661)\u001b[0m\n",
      "Clear cache 0\n"
     ]
    },
    {
     "name": "stderr",
     "output_type": "stream",
     "text": [
      "\u001b[32m[I 2022-07-30 17:07:16,820]\u001b[0m Trial 40 finished with value: 0.7944552577197597 and parameters: {'objective': 'Logloss', 'colsample_bylevel': 0.07988368273714919, 'depth': 6, 'boosting_type': 'Ordered', 'bootstrap_type': 'MVS', 'n_estimators': 1400, 'l2_leaf_reg': 4.608556654802026, 'min_data_in_leaf': 2048, 'learning_rate': 0.07, 'max_bin': 63}. Best is trial 17 with value: 0.7952103875641641.\u001b[0m\n"
     ]
    },
    {
     "name": "stdout",
     "output_type": "stream",
     "text": [
      "\u001b[34m\u001b[1mFold 5 | Train Score = 0.84131 (0.9413, 0.7414)\n",
      "\u001b[32m\u001b[1mFold 5 | Val Score = 0.79603 (0.9254, 0.6667)\u001b[0m\n",
      "Clear cache 0\n",
      "{'objective': 'Logloss', 'colsample_bylevel': 0.0989886016680892, 'depth': 5, 'boosting_type': 'Plain', 'bootstrap_type': 'MVS', 'n_estimators': 1200, 'l2_leaf_reg': 1.8646738874871054, 'min_data_in_leaf': 2048, 'learning_rate': 0.025, 'max_bin': 255, 'used_ram_limit': '12gb'}\n",
      "\u001b[34m\u001b[1mFold 1 | Train Score = 0.80194 (0.9264, 0.6775)\n",
      "\u001b[32m\u001b[1mFold 1 | Val Score = 0.78753 (0.9194, 0.6557)\u001b[0m\n",
      "Clear cache 0\n",
      "\u001b[34m\u001b[1mFold 2 | Train Score = 0.80185 (0.9261, 0.6776)\n",
      "\u001b[32m\u001b[1mFold 2 | Val Score = 0.78815 (0.9207, 0.6556)\u001b[0m\n",
      "Clear cache 0\n",
      "\u001b[34m\u001b[1mFold 3 | Train Score = 0.80109 (0.9258, 0.6764)\n",
      "\u001b[32m\u001b[1mFold 3 | Val Score = 0.79212 (0.9219, 0.6623)\u001b[0m\n",
      "Clear cache 0\n",
      "\u001b[34m\u001b[1mFold 4 | Train Score = 0.80130 (0.9257, 0.6769)\n",
      "\u001b[32m\u001b[1mFold 4 | Val Score = 0.79289 (0.9222, 0.6636)\u001b[0m\n",
      "Clear cache 0\n"
     ]
    },
    {
     "name": "stderr",
     "output_type": "stream",
     "text": [
      "\u001b[32m[I 2022-07-30 17:22:49,340]\u001b[0m Trial 41 finished with value: 0.7904884780715635 and parameters: {'objective': 'Logloss', 'colsample_bylevel': 0.0989886016680892, 'depth': 5, 'boosting_type': 'Plain', 'bootstrap_type': 'MVS', 'n_estimators': 1200, 'l2_leaf_reg': 1.8646738874871054, 'min_data_in_leaf': 2048, 'learning_rate': 0.025, 'max_bin': 255}. Best is trial 17 with value: 0.7952103875641641.\u001b[0m\n"
     ]
    },
    {
     "name": "stdout",
     "output_type": "stream",
     "text": [
      "\u001b[34m\u001b[1mFold 5 | Train Score = 0.80118 (0.9255, 0.6769)\n",
      "\u001b[32m\u001b[1mFold 5 | Val Score = 0.79175 (0.9230, 0.6605)\u001b[0m\n",
      "Clear cache 0\n",
      "{'objective': 'Logloss', 'colsample_bylevel': 0.05616704665524644, 'depth': 4, 'boosting_type': 'Ordered', 'bootstrap_type': 'Bernoulli', 'n_estimators': 1400, 'l2_leaf_reg': 5.645162332703834, 'min_data_in_leaf': 512, 'learning_rate': 0.07, 'max_bin': 63, 'used_ram_limit': '12gb', 'subsample': 0.6782154199057993}\n",
      "\u001b[34m\u001b[1mFold 1 | Train Score = 0.81002 (0.9298, 0.6902)\n",
      "\u001b[32m\u001b[1mFold 1 | Val Score = 0.79075 (0.9207, 0.6608)\u001b[0m\n",
      "Clear cache 0\n",
      "\u001b[34m\u001b[1mFold 2 | Train Score = 0.80955 (0.9295, 0.6896)\n",
      "\u001b[32m\u001b[1mFold 2 | Val Score = 0.78997 (0.9222, 0.6578)\u001b[0m\n",
      "Clear cache 0\n",
      "\u001b[34m\u001b[1mFold 3 | Train Score = 0.80899 (0.9292, 0.6888)\n",
      "\u001b[32m\u001b[1mFold 3 | Val Score = 0.79353 (0.9230, 0.6640)\u001b[0m\n",
      "Clear cache 0\n",
      "\u001b[34m\u001b[1mFold 4 | Train Score = 0.80909 (0.9293, 0.6889)\n",
      "\u001b[32m\u001b[1mFold 4 | Val Score = 0.79420 (0.9234, 0.6650)\u001b[0m\n",
      "Clear cache 0\n"
     ]
    },
    {
     "name": "stderr",
     "output_type": "stream",
     "text": [
      "\u001b[32m[I 2022-07-30 17:39:47,130]\u001b[0m Trial 42 finished with value: 0.7923990308642359 and parameters: {'objective': 'Logloss', 'colsample_bylevel': 0.05616704665524644, 'depth': 4, 'boosting_type': 'Ordered', 'bootstrap_type': 'Bernoulli', 'n_estimators': 1400, 'l2_leaf_reg': 5.645162332703834, 'min_data_in_leaf': 512, 'learning_rate': 0.07, 'max_bin': 63, 'subsample': 0.6782154199057993}. Best is trial 17 with value: 0.7952103875641641.\u001b[0m\n"
     ]
    },
    {
     "name": "stdout",
     "output_type": "stream",
     "text": [
      "\u001b[34m\u001b[1mFold 5 | Train Score = 0.80843 (0.9290, 0.6879)\n",
      "\u001b[32m\u001b[1mFold 5 | Val Score = 0.79355 (0.9244, 0.6627)\u001b[0m\n",
      "Clear cache 0\n",
      "{'objective': 'Logloss', 'colsample_bylevel': 0.07023158801166186, 'depth': 6, 'boosting_type': 'Ordered', 'bootstrap_type': 'MVS', 'n_estimators': 1400, 'l2_leaf_reg': 4.556031536624793, 'min_data_in_leaf': 2048, 'learning_rate': 0.07, 'max_bin': 63, 'used_ram_limit': '12gb'}\n",
      "\u001b[34m\u001b[1mFold 1 | Train Score = 0.84354 (0.9426, 0.7445)\n",
      "\u001b[32m\u001b[1mFold 1 | Val Score = 0.79298 (0.9220, 0.6640)\u001b[0m\n",
      "Clear cache 0\n",
      "\u001b[34m\u001b[1mFold 2 | Train Score = 0.84338 (0.9420, 0.7447)\n",
      "\u001b[32m\u001b[1mFold 2 | Val Score = 0.79320 (0.9233, 0.6631)\u001b[0m\n",
      "Clear cache 0\n",
      "\u001b[34m\u001b[1mFold 3 | Train Score = 0.84270 (0.9423, 0.7431)\n",
      "\u001b[32m\u001b[1mFold 3 | Val Score = 0.79507 (0.9244, 0.6657)\u001b[0m\n",
      "Clear cache 0\n",
      "\u001b[34m\u001b[1mFold 4 | Train Score = 0.84372 (0.9423, 0.7452)\n",
      "\u001b[32m\u001b[1mFold 4 | Val Score = 0.79585 (0.9242, 0.6675)\u001b[0m\n",
      "Clear cache 0\n"
     ]
    },
    {
     "name": "stderr",
     "output_type": "stream",
     "text": [
      "\u001b[32m[I 2022-07-30 18:07:45,300]\u001b[0m Trial 43 finished with value: 0.7945890354751909 and parameters: {'objective': 'Logloss', 'colsample_bylevel': 0.07023158801166186, 'depth': 6, 'boosting_type': 'Ordered', 'bootstrap_type': 'MVS', 'n_estimators': 1400, 'l2_leaf_reg': 4.556031536624793, 'min_data_in_leaf': 2048, 'learning_rate': 0.07, 'max_bin': 63}. Best is trial 17 with value: 0.7952103875641641.\u001b[0m\n"
     ]
    },
    {
     "name": "stdout",
     "output_type": "stream",
     "text": [
      "\u001b[34m\u001b[1mFold 5 | Train Score = 0.84075 (0.9411, 0.7404)\n",
      "\u001b[32m\u001b[1mFold 5 | Val Score = 0.79585 (0.9254, 0.6663)\u001b[0m\n",
      "Clear cache 0\n",
      "{'objective': 'Logloss', 'colsample_bylevel': 0.0655429990281379, 'depth': 6, 'boosting_type': 'Ordered', 'bootstrap_type': 'MVS', 'n_estimators': 1400, 'l2_leaf_reg': 4.3702033870970105, 'min_data_in_leaf': 2048, 'learning_rate': 0.07, 'max_bin': 63, 'used_ram_limit': '12gb'}\n",
      "\u001b[34m\u001b[1mFold 1 | Train Score = 0.84346 (0.9425, 0.7444)\n",
      "\u001b[32m\u001b[1mFold 1 | Val Score = 0.79208 (0.9217, 0.6624)\u001b[0m\n",
      "Clear cache 0\n",
      "\u001b[34m\u001b[1mFold 2 | Train Score = 0.84326 (0.9421, 0.7444)\n",
      "\u001b[32m\u001b[1mFold 2 | Val Score = 0.79343 (0.9233, 0.6636)\u001b[0m\n",
      "Clear cache 0\n",
      "\u001b[34m\u001b[1mFold 3 | Train Score = 0.84099 (0.9414, 0.7405)\n",
      "\u001b[32m\u001b[1mFold 3 | Val Score = 0.79606 (0.9244, 0.6678)\u001b[0m\n",
      "Clear cache 0\n",
      "\u001b[34m\u001b[1mFold 4 | Train Score = 0.84218 (0.9420, 0.7424)\n",
      "\u001b[32m\u001b[1mFold 4 | Val Score = 0.79671 (0.9244, 0.6690)\u001b[0m\n",
      "Clear cache 0\n"
     ]
    },
    {
     "name": "stderr",
     "output_type": "stream",
     "text": [
      "\u001b[32m[I 2022-07-30 18:34:20,419]\u001b[0m Trial 44 finished with value: 0.7948221291359064 and parameters: {'objective': 'Logloss', 'colsample_bylevel': 0.0655429990281379, 'depth': 6, 'boosting_type': 'Ordered', 'bootstrap_type': 'MVS', 'n_estimators': 1400, 'l2_leaf_reg': 4.3702033870970105, 'min_data_in_leaf': 2048, 'learning_rate': 0.07, 'max_bin': 63}. Best is trial 17 with value: 0.7952103875641641.\u001b[0m\n"
     ]
    },
    {
     "name": "stdout",
     "output_type": "stream",
     "text": [
      "\u001b[34m\u001b[1mFold 5 | Train Score = 0.84075 (0.9412, 0.7403)\n",
      "\u001b[32m\u001b[1mFold 5 | Val Score = 0.79583 (0.9253, 0.6663)\u001b[0m\n",
      "Clear cache 0\n",
      "{'objective': 'Logloss', 'colsample_bylevel': 0.06979340031334746, 'depth': 7, 'boosting_type': 'Ordered', 'bootstrap_type': 'MVS', 'n_estimators': 1400, 'l2_leaf_reg': 4.567838891813107, 'min_data_in_leaf': 2048, 'learning_rate': 0.07, 'max_bin': 63, 'used_ram_limit': '12gb'}\n",
      "\u001b[34m\u001b[1mFold 1 | Train Score = 0.85933 (0.9479, 0.7707)\n",
      "\u001b[32m\u001b[1mFold 1 | Val Score = 0.79128 (0.9220, 0.6606)\u001b[0m\n",
      "Clear cache 0\n",
      "\u001b[34m\u001b[1mFold 2 | Train Score = 0.85958 (0.9482, 0.7710)\n",
      "\u001b[32m\u001b[1mFold 2 | Val Score = 0.79445 (0.9234, 0.6655)\u001b[0m\n",
      "Clear cache 0\n",
      "\u001b[34m\u001b[1mFold 3 | Train Score = 0.86162 (0.9487, 0.7745)\n",
      "\u001b[32m\u001b[1mFold 3 | Val Score = 0.79620 (0.9244, 0.6680)\u001b[0m\n",
      "Clear cache 0\n",
      "\u001b[34m\u001b[1mFold 4 | Train Score = 0.85974 (0.9479, 0.7716)\n",
      "\u001b[32m\u001b[1mFold 4 | Val Score = 0.79765 (0.9246, 0.6707)\u001b[0m\n",
      "Clear cache 0\n"
     ]
    },
    {
     "name": "stderr",
     "output_type": "stream",
     "text": [
      "\u001b[32m[I 2022-07-30 19:06:00,529]\u001b[0m Trial 45 finished with value: 0.7947811644048677 and parameters: {'objective': 'Logloss', 'colsample_bylevel': 0.06979340031334746, 'depth': 7, 'boosting_type': 'Ordered', 'bootstrap_type': 'MVS', 'n_estimators': 1400, 'l2_leaf_reg': 4.567838891813107, 'min_data_in_leaf': 2048, 'learning_rate': 0.07, 'max_bin': 63}. Best is trial 17 with value: 0.7952103875641641.\u001b[0m\n"
     ]
    },
    {
     "name": "stdout",
     "output_type": "stream",
     "text": [
      "\u001b[34m\u001b[1mFold 5 | Train Score = 0.85877 (0.9474, 0.7701)\n",
      "\u001b[32m\u001b[1mFold 5 | Val Score = 0.79433 (0.9253, 0.6633)\u001b[0m\n",
      "Clear cache 0\n",
      "{'objective': 'Logloss', 'colsample_bylevel': 0.06442995370203353, 'depth': 7, 'boosting_type': 'Ordered', 'bootstrap_type': 'MVS', 'n_estimators': 1400, 'l2_leaf_reg': 5.010947575435621, 'min_data_in_leaf': 2048, 'learning_rate': 0.07, 'max_bin': 63, 'used_ram_limit': '12gb'}\n",
      "\u001b[34m\u001b[1mFold 1 | Train Score = 0.85987 (0.9486, 0.7711)\n",
      "\u001b[32m\u001b[1mFold 1 | Val Score = 0.78997 (0.9219, 0.6580)\u001b[0m\n",
      "Clear cache 0\n",
      "\u001b[34m\u001b[1mFold 2 | Train Score = 0.85708 (0.9473, 0.7668)\n",
      "\u001b[32m\u001b[1mFold 2 | Val Score = 0.79252 (0.9231, 0.6620)\u001b[0m\n",
      "Clear cache 0\n",
      "\u001b[34m\u001b[1mFold 3 | Train Score = 0.86052 (0.9483, 0.7727)\n",
      "\u001b[32m\u001b[1mFold 3 | Val Score = 0.79570 (0.9242, 0.6672)\u001b[0m\n",
      "Clear cache 0\n",
      "\u001b[34m\u001b[1mFold 4 | Train Score = 0.86111 (0.9484, 0.7738)\n",
      "\u001b[32m\u001b[1mFold 4 | Val Score = 0.79756 (0.9247, 0.6704)\u001b[0m\n",
      "Clear cache 0\n"
     ]
    },
    {
     "name": "stderr",
     "output_type": "stream",
     "text": [
      "\u001b[32m[I 2022-07-30 19:35:41,162]\u001b[0m Trial 46 finished with value: 0.7943159026677569 and parameters: {'objective': 'Logloss', 'colsample_bylevel': 0.06442995370203353, 'depth': 7, 'boosting_type': 'Ordered', 'bootstrap_type': 'MVS', 'n_estimators': 1400, 'l2_leaf_reg': 5.010947575435621, 'min_data_in_leaf': 2048, 'learning_rate': 0.07, 'max_bin': 63}. Best is trial 17 with value: 0.7952103875641641.\u001b[0m\n"
     ]
    },
    {
     "name": "stdout",
     "output_type": "stream",
     "text": [
      "\u001b[34m\u001b[1mFold 5 | Train Score = 0.85967 (0.9476, 0.7717)\n",
      "\u001b[32m\u001b[1mFold 5 | Val Score = 0.79583 (0.9258, 0.6659)\u001b[0m\n",
      "Clear cache 0\n",
      "{'objective': 'Logloss', 'colsample_bylevel': 0.0570134937001418, 'depth': 8, 'boosting_type': 'Ordered', 'bootstrap_type': 'MVS', 'n_estimators': 1000, 'l2_leaf_reg': 6.025731640557671, 'min_data_in_leaf': 1024, 'learning_rate': 0.12, 'max_bin': 63, 'used_ram_limit': '12gb'}\n",
      "\u001b[34m\u001b[1mFold 1 | Train Score = 0.85424 (0.9462, 0.7623)\n",
      "\u001b[32m\u001b[1mFold 1 | Val Score = 0.78927 (0.9211, 0.6575)\u001b[0m\n",
      "Clear cache 0\n",
      "\u001b[34m\u001b[1mFold 2 | Train Score = 0.86562 (0.9502, 0.7810)\n",
      "\u001b[32m\u001b[1mFold 2 | Val Score = 0.79037 (0.9225, 0.6582)\u001b[0m\n",
      "Clear cache 0\n"
     ]
    },
    {
     "name": "stderr",
     "output_type": "stream",
     "text": [
      "\u001b[32m[I 2022-07-30 19:47:02,636]\u001b[0m Trial 47 finished with value: 0.7909344709464196 and parameters: {'objective': 'Logloss', 'colsample_bylevel': 0.0570134937001418, 'depth': 8, 'boosting_type': 'Ordered', 'bootstrap_type': 'MVS', 'n_estimators': 1000, 'l2_leaf_reg': 6.025731640557671, 'min_data_in_leaf': 1024, 'learning_rate': 0.12, 'max_bin': 63}. Best is trial 17 with value: 0.7952103875641641.\u001b[0m\n"
     ]
    },
    {
     "name": "stdout",
     "output_type": "stream",
     "text": [
      "Train score too high (overfitting), start a new trial\n",
      "{'objective': 'Logloss', 'colsample_bylevel': 0.06413298980628422, 'depth': 7, 'boosting_type': 'Ordered', 'bootstrap_type': 'MVS', 'n_estimators': 1400, 'l2_leaf_reg': 4.2290041321509095, 'min_data_in_leaf': 2048, 'learning_rate': 0.07, 'max_bin': 63, 'used_ram_limit': '12gb'}\n",
      "\u001b[34m\u001b[1mFold 1 | Train Score = 0.85551 (0.9470, 0.7640)\n",
      "\u001b[32m\u001b[1mFold 1 | Val Score = 0.79263 (0.9220, 0.6633)\u001b[0m\n",
      "Clear cache 0\n",
      "\u001b[34m\u001b[1mFold 2 | Train Score = 0.85988 (0.9481, 0.7716)\n",
      "\u001b[32m\u001b[1mFold 2 | Val Score = 0.79343 (0.9233, 0.6636)\u001b[0m\n",
      "Clear cache 0\n",
      "\u001b[34m\u001b[1mFold 3 | Train Score = 0.86080 (0.9485, 0.7731)\n",
      "\u001b[32m\u001b[1mFold 3 | Val Score = 0.79555 (0.9244, 0.6667)\u001b[0m\n",
      "Clear cache 0\n",
      "\u001b[34m\u001b[1mFold 4 | Train Score = 0.86082 (0.9486, 0.7730)\n",
      "\u001b[32m\u001b[1mFold 4 | Val Score = 0.79749 (0.9245, 0.6704)\u001b[0m\n",
      "Clear cache 0\n"
     ]
    },
    {
     "name": "stderr",
     "output_type": "stream",
     "text": [
      "\u001b[32m[I 2022-07-30 20:16:32,872]\u001b[0m Trial 48 finished with value: 0.7952443121251143 and parameters: {'objective': 'Logloss', 'colsample_bylevel': 0.06413298980628422, 'depth': 7, 'boosting_type': 'Ordered', 'bootstrap_type': 'MVS', 'n_estimators': 1400, 'l2_leaf_reg': 4.2290041321509095, 'min_data_in_leaf': 2048, 'learning_rate': 0.07, 'max_bin': 63}. Best is trial 48 with value: 0.7952443121251143.\u001b[0m\n"
     ]
    },
    {
     "name": "stdout",
     "output_type": "stream",
     "text": [
      "\u001b[34m\u001b[1mFold 5 | Train Score = 0.85779 (0.9473, 0.7683)\n",
      "\u001b[32m\u001b[1mFold 5 | Val Score = 0.79712 (0.9256, 0.6686)\u001b[0m\n",
      "Clear cache 0\n",
      "{'objective': 'Logloss', 'colsample_bylevel': 0.046381264317842424, 'depth': 7, 'boosting_type': 'Ordered', 'bootstrap_type': 'MVS', 'n_estimators': 1200, 'l2_leaf_reg': 4.251454591452709, 'min_data_in_leaf': 512, 'learning_rate': 0.07, 'max_bin': 63, 'used_ram_limit': '12gb'}\n",
      "\u001b[34m\u001b[1mFold 1 | Train Score = 0.85083 (0.9450, 0.7567)\n",
      "\u001b[32m\u001b[1mFold 1 | Val Score = 0.79227 (0.9217, 0.6628)\u001b[0m\n",
      "Clear cache 0\n",
      "\u001b[34m\u001b[1mFold 2 | Train Score = 0.84886 (0.9445, 0.7532)\n",
      "\u001b[32m\u001b[1mFold 2 | Val Score = 0.79247 (0.9230, 0.6620)\u001b[0m\n",
      "Clear cache 0\n",
      "\u001b[34m\u001b[1mFold 3 | Train Score = 0.85078 (0.9450, 0.7565)\n",
      "\u001b[32m\u001b[1mFold 3 | Val Score = 0.79433 (0.9241, 0.6645)\u001b[0m\n",
      "Clear cache 0\n",
      "\u001b[34m\u001b[1mFold 4 | Train Score = 0.85193 (0.9450, 0.7588)\n",
      "\u001b[32m\u001b[1mFold 4 | Val Score = 0.79784 (0.9245, 0.6712)\u001b[0m\n",
      "Clear cache 0\n"
     ]
    },
    {
     "name": "stderr",
     "output_type": "stream",
     "text": [
      "\u001b[32m[I 2022-07-30 20:36:46,714]\u001b[0m Trial 49 finished with value: 0.7942939188499372 and parameters: {'objective': 'Logloss', 'colsample_bylevel': 0.046381264317842424, 'depth': 7, 'boosting_type': 'Ordered', 'bootstrap_type': 'MVS', 'n_estimators': 1200, 'l2_leaf_reg': 4.251454591452709, 'min_data_in_leaf': 512, 'learning_rate': 0.07, 'max_bin': 63}. Best is trial 48 with value: 0.7952443121251143.\u001b[0m\n"
     ]
    },
    {
     "name": "stdout",
     "output_type": "stream",
     "text": [
      "\u001b[34m\u001b[1mFold 5 | Train Score = 0.84979 (0.9444, 0.7552)\n",
      "\u001b[32m\u001b[1mFold 5 | Val Score = 0.79455 (0.9252, 0.6639)\u001b[0m\n",
      "Clear cache 0\n",
      "{'objective': 'Logloss', 'colsample_bylevel': 0.05223923375100958, 'depth': 11, 'boosting_type': 'Ordered', 'bootstrap_type': 'MVS', 'n_estimators': 1400, 'l2_leaf_reg': 2.948491321381945, 'min_data_in_leaf': 2048, 'learning_rate': 0.07, 'max_bin': 127, 'used_ram_limit': '12gb'}\n"
     ]
    },
    {
     "name": "stderr",
     "output_type": "stream",
     "text": [
      "\u001b[32m[I 2022-07-30 20:47:32,653]\u001b[0m Trial 50 finished with value: 0.7907951759985923 and parameters: {'objective': 'Logloss', 'colsample_bylevel': 0.05223923375100958, 'depth': 11, 'boosting_type': 'Ordered', 'bootstrap_type': 'MVS', 'n_estimators': 1400, 'l2_leaf_reg': 2.948491321381945, 'min_data_in_leaf': 2048, 'learning_rate': 0.07, 'max_bin': 127}. Best is trial 48 with value: 0.7952443121251143.\u001b[0m\n"
     ]
    },
    {
     "name": "stdout",
     "output_type": "stream",
     "text": [
      "Train score too high (overfitting), start a new trial\n",
      "{'objective': 'Logloss', 'colsample_bylevel': 0.07023946651028405, 'depth': 8, 'boosting_type': 'Ordered', 'bootstrap_type': 'Bernoulli', 'n_estimators': 1400, 'l2_leaf_reg': 3.574750536251403, 'min_data_in_leaf': 2048, 'learning_rate': 0.12, 'max_bin': 63, 'used_ram_limit': '12gb', 'subsample': 0.6017678682672237}\n",
      "\u001b[34m\u001b[1mFold 1 | Train Score = 0.86627 (0.9507, 0.7818)\n",
      "\u001b[32m\u001b[1mFold 1 | Val Score = 0.79046 (0.9212, 0.6597)\u001b[0m\n",
      "Clear cache 0\n",
      "\u001b[34m\u001b[1mFold 2 | Train Score = 0.85899 (0.9481, 0.7699)\n",
      "\u001b[32m\u001b[1mFold 2 | Val Score = 0.79097 (0.9220, 0.6599)\u001b[0m\n",
      "Clear cache 0\n",
      "\u001b[34m\u001b[1mFold 3 | Train Score = 0.84463 (0.9427, 0.7466)\n",
      "\u001b[32m\u001b[1mFold 3 | Val Score = 0.79180 (0.9232, 0.6604)\u001b[0m\n",
      "Clear cache 0\n",
      "\u001b[34m\u001b[1mFold 4 | Train Score = 0.86416 (0.9497, 0.7786)\n",
      "\u001b[32m\u001b[1mFold 4 | Val Score = 0.79550 (0.9234, 0.6676)\u001b[0m\n",
      "Clear cache 0\n"
     ]
    },
    {
     "name": "stderr",
     "output_type": "stream",
     "text": [
      "\u001b[32m[I 2022-07-30 21:09:01,752]\u001b[0m Trial 51 finished with value: 0.792042845019161 and parameters: {'objective': 'Logloss', 'colsample_bylevel': 0.07023946651028405, 'depth': 8, 'boosting_type': 'Ordered', 'bootstrap_type': 'Bernoulli', 'n_estimators': 1400, 'l2_leaf_reg': 3.574750536251403, 'min_data_in_leaf': 2048, 'learning_rate': 0.12, 'max_bin': 63, 'subsample': 0.6017678682672237}. Best is trial 48 with value: 0.7952443121251143.\u001b[0m\n"
     ]
    },
    {
     "name": "stdout",
     "output_type": "stream",
     "text": [
      "\u001b[34m\u001b[1mFold 5 | Train Score = 0.85546 (0.9468, 0.7641)\n",
      "\u001b[32m\u001b[1mFold 5 | Val Score = 0.79149 (0.9241, 0.6589)\u001b[0m\n",
      "Clear cache 0\n",
      "{'objective': 'Logloss', 'colsample_bylevel': 0.042751802624111254, 'depth': 7, 'boosting_type': 'Ordered', 'bootstrap_type': 'MVS', 'n_estimators': 1200, 'l2_leaf_reg': 2.074222982786614, 'min_data_in_leaf': 2048, 'learning_rate': 0.07, 'max_bin': 255, 'used_ram_limit': '12gb'}\n",
      "\u001b[34m\u001b[1mFold 1 | Train Score = 0.84983 (0.9447, 0.7549)\n",
      "\u001b[32m\u001b[1mFold 1 | Val Score = 0.78913 (0.9214, 0.6569)\u001b[0m\n",
      "Clear cache 0\n",
      "\u001b[34m\u001b[1mFold 2 | Train Score = 0.85007 (0.9446, 0.7556)\n",
      "\u001b[32m\u001b[1mFold 2 | Val Score = 0.79269 (0.9229, 0.6625)\u001b[0m\n",
      "Clear cache 0\n",
      "\u001b[34m\u001b[1mFold 3 | Train Score = 0.85026 (0.9446, 0.7559)\n",
      "\u001b[32m\u001b[1mFold 3 | Val Score = 0.79519 (0.9241, 0.6662)\u001b[0m\n",
      "Clear cache 0\n",
      "\u001b[34m\u001b[1mFold 4 | Train Score = 0.84987 (0.9445, 0.7553)\n",
      "\u001b[32m\u001b[1mFold 4 | Val Score = 0.79602 (0.9241, 0.6679)\u001b[0m\n",
      "Clear cache 0\n"
     ]
    },
    {
     "name": "stderr",
     "output_type": "stream",
     "text": [
      "\u001b[32m[I 2022-07-30 21:31:13,346]\u001b[0m Trial 52 finished with value: 0.7934968062672549 and parameters: {'objective': 'Logloss', 'colsample_bylevel': 0.042751802624111254, 'depth': 7, 'boosting_type': 'Ordered', 'bootstrap_type': 'MVS', 'n_estimators': 1200, 'l2_leaf_reg': 2.074222982786614, 'min_data_in_leaf': 2048, 'learning_rate': 0.07, 'max_bin': 255}. Best is trial 48 with value: 0.7952443121251143.\u001b[0m\n"
     ]
    },
    {
     "name": "stdout",
     "output_type": "stream",
     "text": [
      "\u001b[34m\u001b[1mFold 5 | Train Score = 0.84784 (0.9434, 0.7523)\n",
      "\u001b[32m\u001b[1mFold 5 | Val Score = 0.79445 (0.9250, 0.6639)\u001b[0m\n",
      "Clear cache 0\n",
      "{'objective': 'Logloss', 'colsample_bylevel': 0.06424643294980259, 'depth': 6, 'boosting_type': 'Ordered', 'bootstrap_type': 'MVS', 'n_estimators': 1400, 'l2_leaf_reg': 5.108272805150234, 'min_data_in_leaf': 2048, 'learning_rate': 0.07, 'max_bin': 63, 'used_ram_limit': '12gb'}\n",
      "\u001b[34m\u001b[1mFold 1 | Train Score = 0.84267 (0.9424, 0.7430)\n",
      "\u001b[32m\u001b[1mFold 1 | Val Score = 0.79171 (0.9218, 0.6617)\u001b[0m\n",
      "Clear cache 0\n",
      "\u001b[34m\u001b[1mFold 2 | Train Score = 0.84232 (0.9419, 0.7428)\n",
      "\u001b[32m\u001b[1mFold 2 | Val Score = 0.79305 (0.9233, 0.6628)\u001b[0m\n",
      "Clear cache 0\n",
      "\u001b[34m\u001b[1mFold 3 | Train Score = 0.84319 (0.9420, 0.7444)\n",
      "\u001b[32m\u001b[1mFold 3 | Val Score = 0.79578 (0.9244, 0.6672)\u001b[0m\n",
      "Clear cache 0\n",
      "\u001b[34m\u001b[1mFold 4 | Train Score = 0.84342 (0.9421, 0.7448)\n",
      "\u001b[32m\u001b[1mFold 4 | Val Score = 0.79694 (0.9243, 0.6696)\u001b[0m\n",
      "Clear cache 0\n"
     ]
    },
    {
     "name": "stderr",
     "output_type": "stream",
     "text": [
      "\u001b[32m[I 2022-07-30 21:58:19,335]\u001b[0m Trial 53 finished with value: 0.794641883578542 and parameters: {'objective': 'Logloss', 'colsample_bylevel': 0.06424643294980259, 'depth': 6, 'boosting_type': 'Ordered', 'bootstrap_type': 'MVS', 'n_estimators': 1400, 'l2_leaf_reg': 5.108272805150234, 'min_data_in_leaf': 2048, 'learning_rate': 0.07, 'max_bin': 63}. Best is trial 48 with value: 0.7952443121251143.\u001b[0m\n"
     ]
    },
    {
     "name": "stdout",
     "output_type": "stream",
     "text": [
      "\u001b[34m\u001b[1mFold 5 | Train Score = 0.84165 (0.9415, 0.7418)\n",
      "\u001b[32m\u001b[1mFold 5 | Val Score = 0.79574 (0.9253, 0.6662)\u001b[0m\n",
      "Clear cache 0\n",
      "{'objective': 'Logloss', 'colsample_bylevel': 0.06809959507321718, 'depth': 7, 'boosting_type': 'Ordered', 'bootstrap_type': 'MVS', 'n_estimators': 1400, 'l2_leaf_reg': 4.168814994770979, 'min_data_in_leaf': 2048, 'learning_rate': 0.07, 'max_bin': 63, 'used_ram_limit': '12gb'}\n",
      "\u001b[34m\u001b[1mFold 1 | Train Score = 0.86072 (0.9485, 0.7729)\n",
      "\u001b[32m\u001b[1mFold 1 | Val Score = 0.79144 (0.9216, 0.6612)\u001b[0m\n",
      "Clear cache 0\n",
      "\u001b[34m\u001b[1mFold 2 | Train Score = 0.85640 (0.9470, 0.7658)\n",
      "\u001b[32m\u001b[1mFold 2 | Val Score = 0.79209 (0.9234, 0.6608)\u001b[0m\n",
      "Clear cache 0\n",
      "\u001b[34m\u001b[1mFold 3 | Train Score = 0.85363 (0.9458, 0.7614)\n",
      "\u001b[32m\u001b[1mFold 3 | Val Score = 0.79385 (0.9240, 0.6637)\u001b[0m\n",
      "Clear cache 0\n"
     ]
    },
    {
     "name": "stderr",
     "output_type": "stream",
     "text": [
      "\n",
      "KeyboardInterrupt\n",
      "\n"
     ]
    }
   ],
   "source": [
    "study.optimize(objective, n_trials=50)"
   ]
  },
  {
   "cell_type": "code",
   "execution_count": 60,
   "id": "16fbb293-e4e3-44a6-87eb-4f72916a2f74",
   "metadata": {},
   "outputs": [
    {
     "data": {
      "text/plain": [
       "FrozenTrial(number=48, values=[0.7952443121251143], datetime_start=datetime.datetime(2022, 7, 30, 19, 47, 2, 641815), datetime_complete=datetime.datetime(2022, 7, 30, 20, 16, 32, 872054), params={'objective': 'Logloss', 'colsample_bylevel': 0.06413298980628422, 'depth': 7, 'boosting_type': 'Ordered', 'bootstrap_type': 'MVS', 'n_estimators': 1400, 'l2_leaf_reg': 4.2290041321509095, 'min_data_in_leaf': 2048, 'learning_rate': 0.07, 'max_bin': 63}, distributions={'objective': CategoricalDistribution(choices=('Logloss',)), 'colsample_bylevel': LogUniformDistribution(high=0.1, low=0.03), 'depth': IntUniformDistribution(high=12, low=4, step=1), 'boosting_type': CategoricalDistribution(choices=('Ordered', 'Plain')), 'bootstrap_type': CategoricalDistribution(choices=('Bernoulli', 'MVS')), 'n_estimators': CategoricalDistribution(choices=(1000, 1200, 1400)), 'l2_leaf_reg': LogUniformDistribution(high=10.0, low=1.0), 'min_data_in_leaf': CategoricalDistribution(choices=(512, 1024, 2048)), 'learning_rate': CategoricalDistribution(choices=(0.025, 0.07, 0.12)), 'max_bin': CategoricalDistribution(choices=(63, 127, 255))}, user_attrs={}, system_attrs={}, intermediate_values={}, trial_id=48, state=TrialState.COMPLETE, value=None)"
      ]
     },
     "execution_count": 60,
     "metadata": {},
     "output_type": "execute_result"
    }
   ],
   "source": [
    "study.best_trial"
   ]
  },
  {
   "cell_type": "code",
   "execution_count": 61,
   "id": "b90ff90e-1c8c-433f-8245-b30fb874603a",
   "metadata": {},
   "outputs": [
    {
     "data": {
      "text/plain": [
       "['../experiments/catboost_new_exp/optuna_study.pkl']"
      ]
     },
     "execution_count": 61,
     "metadata": {},
     "output_type": "execute_result"
    }
   ],
   "source": [
    "joblib.dump(study, f\"{CURRENT_EXP_PATH}/optuna_study.pkl\")"
   ]
  },
  {
   "cell_type": "code",
   "execution_count": 62,
   "id": "106b434b-feab-4875-9b73-85c2f68515bb",
   "metadata": {},
   "outputs": [],
   "source": [
    "study_df = study.trials_dataframe()"
   ]
  },
  {
   "cell_type": "code",
   "execution_count": 11,
   "id": "23051304-fff2-4d65-863e-80b07728c41b",
   "metadata": {},
   "outputs": [],
   "source": [
    "# for col in get_cols(study_df, \"params\"):\n",
    "#     sns.scatterplot(data=study_df, x=study_df[col], y=study_df[\"value\"])\n",
    "#     plt.show()"
   ]
  },
  {
   "cell_type": "code",
   "execution_count": null,
   "id": "703f14e1-5b85-48ce-928f-feb2dfa9dac2",
   "metadata": {},
   "outputs": [],
   "source": []
  }
 ],
 "metadata": {
  "kernelspec": {
   "display_name": "play",
   "language": "python",
   "name": "play"
  },
  "language_info": {
   "codemirror_mode": {
    "name": "ipython",
    "version": 3
   },
   "file_extension": ".py",
   "mimetype": "text/x-python",
   "name": "python",
   "nbconvert_exporter": "python",
   "pygments_lexer": "ipython3",
   "version": "3.10.0"
  }
 },
 "nbformat": 4,
 "nbformat_minor": 5
}
