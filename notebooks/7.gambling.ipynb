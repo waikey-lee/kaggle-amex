{
 "cells": [
  {
   "cell_type": "code",
   "execution_count": 1,
   "id": "5dd2ca34-3410-4078-aa48-7adbba211ed5",
   "metadata": {},
   "outputs": [],
   "source": [
    "import gc\n",
    "import joblib\n",
    "import matplotlib.pyplot as plt\n",
    "import pandas as pd\n",
    "import numpy as np\n",
    "import os\n",
    "import sys\n",
    "sys.path.append(\"../\")\n",
    "import time\n",
    "import warnings\n",
    "warnings.simplefilter(\"ignore\")\n",
    "from lightgbm import LGBMClassifier\n",
    "from sklearn.preprocessing import MinMaxScaler\n",
    "from sklearn.model_selection import train_test_split\n",
    "from tqdm import tqdm"
   ]
  },
  {
   "cell_type": "code",
   "execution_count": 2,
   "id": "88e773c8-793b-4771-85d2-80ad4e905510",
   "metadata": {},
   "outputs": [],
   "source": [
    "from utils.common import sigmoid, reverse_sigmoid\n",
    "from utils.constants import *\n",
    "from utils.extraction_helpers import read_file"
   ]
  },
  {
   "cell_type": "code",
   "execution_count": 3,
   "id": "e4698b61-dcd2-43c3-b5e3-cd5a350b5e4a",
   "metadata": {},
   "outputs": [],
   "source": [
    "%load_ext autoreload\n",
    "%autoreload"
   ]
  },
  {
   "cell_type": "markdown",
   "id": "884ad3df-d4d2-4c01-9066-8f6e70514295",
   "metadata": {},
   "source": [
    "### Gambling1"
   ]
  },
  {
   "cell_type": "code",
   "execution_count": 4,
   "id": "f542dc61-c076-4512-9a13-6a028ed5834f",
   "metadata": {},
   "outputs": [
    {
     "name": "stdout",
     "output_type": "stream",
     "text": [
      "Shape of data: (924621, 2)\n",
      "Shape of data: (924621, 2)\n",
      "Shape of data: (924621, 2)\n",
      "Shape of data: (924621, 2)\n",
      "Shape of data: (924621, 2)\n"
     ]
    }
   ],
   "source": [
    "chris  = read_file(f\"{SUBMISSION_DATA_PATH}/sorted_chris.csv\")\n",
    "waikey = read_file(f\"{SUBMISSION_DATA_PATH}/wk_seed_6666.csv\")\n",
    "ensemble = read_file(f\"{SUBMISSION_DATA_PATH}/others_ensemble.csv\")\n",
    "exp_ensemble = read_file(f\"{SUBMISSION_DATA_PATH}/others_exponential_ensemble.csv\")\n",
    "blend_trees = read_file(f\"{SUBMISSION_DATA_PATH}/others_blend_boosted_tree.csv\")"
   ]
  },
  {
   "cell_type": "code",
   "execution_count": 5,
   "id": "2deaa3db-da69-4f4d-8755-d461a410c0ad",
   "metadata": {},
   "outputs": [],
   "source": [
    "waikey[\"sigmoid_prediction\"] = waikey[\"prediction\"].apply(sigmoid)\n",
    "chris[\"reverse_sigmoid_prediction\"] = chris[\"prediction\"].apply(reverse_sigmoid)\n",
    "ensemble[\"reverse_sigmoid_prediction\"] = ensemble[\"prediction\"].apply(reverse_sigmoid)\n",
    "exp_ensemble[\"reverse_sigmoid_prediction\"] = exp_ensemble[\"prediction\"].apply(reverse_sigmoid)\n",
    "blend_trees[\"reverse_sigmoid_prediction\"] = blend_trees[\"prediction\"].apply(reverse_sigmoid)"
   ]
  },
  {
   "cell_type": "code",
   "execution_count": 6,
   "id": "e63b0be6-5102-441e-8801-52eabe0d72d2",
   "metadata": {},
   "outputs": [],
   "source": [
    "pre_blend_df = pd.DataFrame(\n",
    "    dict(\n",
    "        wk=waikey[\"sigmoid_prediction\"],\n",
    "        chris=chris[\"prediction\"],\n",
    "        ensemble=ensemble[\"prediction\"],\n",
    "        exp_ensemble=exp_ensemble[\"prediction\"],\n",
    "        blend_trees=blend_trees[\"prediction\"]\n",
    "    )\n",
    ")"
   ]
  },
  {
   "cell_type": "code",
   "execution_count": 7,
   "id": "5b4c2680-b1e1-41d8-8eb5-88f3b48407c1",
   "metadata": {},
   "outputs": [],
   "source": [
    "mscaler = MinMaxScaler()\n",
    "s1 = mscaler.fit_transform(pre_blend_df[[\"ensemble\"]])[:, 0]\n",
    "s2 = mscaler.fit_transform(pre_blend_df[[\"blend_trees\"]])[:, 0]"
   ]
  },
  {
   "cell_type": "code",
   "execution_count": 8,
   "id": "a2db5573-bdac-422d-a8a2-ace23254e3eb",
   "metadata": {},
   "outputs": [],
   "source": [
    "pre_blend_df[\"tree_ensemble\"] = 0.5 * (s1 + s2)\n",
    "pre_blend_df = pre_blend_df.drop(columns=[\"blend_trees\", \"ensemble\"], errors=\"ignore\")"
   ]
  },
  {
   "cell_type": "code",
   "execution_count": 9,
   "id": "30ac7e51-e017-4635-bf3d-fda92961cc9f",
   "metadata": {},
   "outputs": [],
   "source": [
    "mscaler = MinMaxScaler()\n",
    "pre_blend_df[\"exp_ensemble\"] = mscaler.fit_transform(pre_blend_df[[\"exp_ensemble\"]])[:, 0]"
   ]
  },
  {
   "cell_type": "code",
   "execution_count": 10,
   "id": "877ffb83-f827-47fe-805e-1fc043cbdf4e",
   "metadata": {},
   "outputs": [
    {
     "data": {
      "text/html": [
       "<div>\n",
       "<style scoped>\n",
       "    .dataframe tbody tr th:only-of-type {\n",
       "        vertical-align: middle;\n",
       "    }\n",
       "\n",
       "    .dataframe tbody tr th {\n",
       "        vertical-align: top;\n",
       "    }\n",
       "\n",
       "    .dataframe thead th {\n",
       "        text-align: right;\n",
       "    }\n",
       "</style>\n",
       "<table border=\"1\" class=\"dataframe\">\n",
       "  <thead>\n",
       "    <tr style=\"text-align: right;\">\n",
       "      <th></th>\n",
       "      <th>wk</th>\n",
       "      <th>chris</th>\n",
       "      <th>exp_ensemble</th>\n",
       "      <th>tree_ensemble</th>\n",
       "    </tr>\n",
       "  </thead>\n",
       "  <tbody>\n",
       "    <tr>\n",
       "      <th>wk</th>\n",
       "      <td>1.000000</td>\n",
       "      <td>0.975540</td>\n",
       "      <td>0.984327</td>\n",
       "      <td>0.996770</td>\n",
       "    </tr>\n",
       "    <tr>\n",
       "      <th>chris</th>\n",
       "      <td>0.975540</td>\n",
       "      <td>1.000000</td>\n",
       "      <td>0.979640</td>\n",
       "      <td>0.975682</td>\n",
       "    </tr>\n",
       "    <tr>\n",
       "      <th>exp_ensemble</th>\n",
       "      <td>0.984327</td>\n",
       "      <td>0.979640</td>\n",
       "      <td>1.000000</td>\n",
       "      <td>0.990506</td>\n",
       "    </tr>\n",
       "    <tr>\n",
       "      <th>tree_ensemble</th>\n",
       "      <td>0.996770</td>\n",
       "      <td>0.975682</td>\n",
       "      <td>0.990506</td>\n",
       "      <td>1.000000</td>\n",
       "    </tr>\n",
       "  </tbody>\n",
       "</table>\n",
       "</div>"
      ],
      "text/plain": [
       "                     wk     chris  exp_ensemble  tree_ensemble\n",
       "wk             1.000000  0.975540      0.984327       0.996770\n",
       "chris          0.975540  1.000000      0.979640       0.975682\n",
       "exp_ensemble   0.984327  0.979640      1.000000       0.990506\n",
       "tree_ensemble  0.996770  0.975682      0.990506       1.000000"
      ]
     },
     "execution_count": 10,
     "metadata": {},
     "output_type": "execute_result"
    }
   ],
   "source": [
    "pre_blend_df.corr()"
   ]
  },
  {
   "cell_type": "code",
   "execution_count": 19,
   "id": "3c3aee5f-9596-4826-9f24-887f579ebcd8",
   "metadata": {},
   "outputs": [],
   "source": [
    "pre_blend_df[\"final1\"] = (\n",
    "    0.55 * pre_blend_df[\"wk\"] + 0.15 * (pre_blend_df[\"chris\"] + pre_blend_df[\"tree_ensemble\"] + pre_blend_df[\"exp_ensemble\"])\n",
    ")"
   ]
  },
  {
   "cell_type": "code",
   "execution_count": 20,
   "id": "94c2cc2f-df51-4776-a5ee-057b133340df",
   "metadata": {},
   "outputs": [
    {
     "name": "stdout",
     "output_type": "stream",
     "text": [
      "Shape of data: (924621, 2)\n"
     ]
    }
   ],
   "source": [
    "gambling1 = read_file(f\"{SUBMISSION_DATA_PATH}/gambling1_0.801.csv\")"
   ]
  },
  {
   "cell_type": "code",
   "execution_count": 22,
   "id": "32290c20-1e98-4571-9ccc-1088ae5d1859",
   "metadata": {},
   "outputs": [],
   "source": [
    "assert (pre_blend_df[\"final1\"] - gambling1[\"prediction\"]).max() < 1e-10"
   ]
  },
  {
   "cell_type": "markdown",
   "id": "27576b75-0cd2-45e4-bea0-8d7581af3009",
   "metadata": {},
   "source": [
    "### Gambling4"
   ]
  },
  {
   "cell_type": "code",
   "execution_count": 127,
   "id": "5ec71e52-9d40-4a58-be49-1a3351d31f8b",
   "metadata": {},
   "outputs": [
    {
     "name": "stdout",
     "output_type": "stream",
     "text": [
      "Shape of data: (924621, 2)\n",
      "Shape of data: (924621, 2)\n",
      "Shape of data: (924621, 2)\n",
      "Shape of data: (924621, 2)\n",
      "Shape of data: (924621, 2)\n"
     ]
    }
   ],
   "source": [
    "chris  = read_file(f\"{SUBMISSION_DATA_PATH}/sorted_chris.csv\")\n",
    "waikey = read_file(f\"{SUBMISSION_DATA_PATH}/wk_seed_923_6666.csv\")\n",
    "ensemble = read_file(f\"{SUBMISSION_DATA_PATH}/others_ensemble.csv\")\n",
    "exp_ensemble = read_file(f\"{SUBMISSION_DATA_PATH}/others_exponential_ensemble.csv\")\n",
    "blend_trees = read_file(f\"{SUBMISSION_DATA_PATH}/others_blend_boosted_tree.csv\")"
   ]
  },
  {
   "cell_type": "code",
   "execution_count": 128,
   "id": "557f8fe5-be79-4a7f-ae8a-1c1fef1b17a8",
   "metadata": {},
   "outputs": [],
   "source": [
    "waikey[\"sigmoid_prediction\"] = waikey[\"prediction\"].apply(sigmoid)"
   ]
  },
  {
   "cell_type": "code",
   "execution_count": 129,
   "id": "8d1afd07-4b8a-4996-9345-9926edc0b61a",
   "metadata": {},
   "outputs": [],
   "source": [
    "pre_blend_df = pd.DataFrame(\n",
    "    dict(\n",
    "        wk=waikey[\"sigmoid_prediction\"],\n",
    "        chris=chris[\"prediction\"],\n",
    "        ensemble=ensemble[\"prediction\"],\n",
    "        exp_ensemble=exp_ensemble[\"prediction\"],\n",
    "        blend_trees=blend_trees[\"prediction\"]\n",
    "    )\n",
    ")"
   ]
  },
  {
   "cell_type": "code",
   "execution_count": 130,
   "id": "d722a4f4-17fa-4113-9c0a-5a0b2d4e61ac",
   "metadata": {},
   "outputs": [],
   "source": [
    "mscaler = MinMaxScaler()\n",
    "s1 = mscaler.fit_transform(pre_blend_df[[\"ensemble\"]])[:, 0]\n",
    "s2 = mscaler.fit_transform(pre_blend_df[[\"blend_trees\"]])[:, 0]\n",
    "pre_blend_df[\"tree_ensemble\"] = 0.5 * (s1 + s2)\n",
    "pre_blend_df = pre_blend_df.drop(columns=[\"blend_trees\", \"ensemble\"], errors=\"ignore\")"
   ]
  },
  {
   "cell_type": "code",
   "execution_count": 133,
   "id": "ca35b78e-7265-4d5b-ad95-b980961745be",
   "metadata": {},
   "outputs": [],
   "source": [
    "pre_blend_df[\"exp_ensemble\"] = np.log(pre_blend_df[\"exp_ensemble\"])"
   ]
  },
  {
   "cell_type": "code",
   "execution_count": 136,
   "id": "eb6f523b-817e-4fa7-9bcd-a1f07879304f",
   "metadata": {},
   "outputs": [],
   "source": [
    "mscaler = MinMaxScaler()\n",
    "pre_blend_df[\"exp_ensemble\"] = mscaler.fit_transform(pre_blend_df[[\"exp_ensemble\"]])[:, 0]"
   ]
  },
  {
   "cell_type": "code",
   "execution_count": 137,
   "id": "bba7db5f-6724-4c95-9b56-b2303d623191",
   "metadata": {},
   "outputs": [
    {
     "data": {
      "text/html": [
       "<div>\n",
       "<style scoped>\n",
       "    .dataframe tbody tr th:only-of-type {\n",
       "        vertical-align: middle;\n",
       "    }\n",
       "\n",
       "    .dataframe tbody tr th {\n",
       "        vertical-align: top;\n",
       "    }\n",
       "\n",
       "    .dataframe thead th {\n",
       "        text-align: right;\n",
       "    }\n",
       "</style>\n",
       "<table border=\"1\" class=\"dataframe\">\n",
       "  <thead>\n",
       "    <tr style=\"text-align: right;\">\n",
       "      <th></th>\n",
       "      <th>wk</th>\n",
       "      <th>chris</th>\n",
       "      <th>exp_ensemble</th>\n",
       "      <th>tree_ensemble</th>\n",
       "    </tr>\n",
       "  </thead>\n",
       "  <tbody>\n",
       "    <tr>\n",
       "      <th>wk</th>\n",
       "      <td>1.000000</td>\n",
       "      <td>0.975652</td>\n",
       "      <td>0.886442</td>\n",
       "      <td>0.996895</td>\n",
       "    </tr>\n",
       "    <tr>\n",
       "      <th>chris</th>\n",
       "      <td>0.975652</td>\n",
       "      <td>1.000000</td>\n",
       "      <td>0.920305</td>\n",
       "      <td>0.975682</td>\n",
       "    </tr>\n",
       "    <tr>\n",
       "      <th>exp_ensemble</th>\n",
       "      <td>0.886442</td>\n",
       "      <td>0.920305</td>\n",
       "      <td>1.000000</td>\n",
       "      <td>0.898017</td>\n",
       "    </tr>\n",
       "    <tr>\n",
       "      <th>tree_ensemble</th>\n",
       "      <td>0.996895</td>\n",
       "      <td>0.975682</td>\n",
       "      <td>0.898017</td>\n",
       "      <td>1.000000</td>\n",
       "    </tr>\n",
       "  </tbody>\n",
       "</table>\n",
       "</div>"
      ],
      "text/plain": [
       "                     wk     chris  exp_ensemble  tree_ensemble\n",
       "wk             1.000000  0.975652      0.886442       0.996895\n",
       "chris          0.975652  1.000000      0.920305       0.975682\n",
       "exp_ensemble   0.886442  0.920305      1.000000       0.898017\n",
       "tree_ensemble  0.996895  0.975682      0.898017       1.000000"
      ]
     },
     "execution_count": 137,
     "metadata": {},
     "output_type": "execute_result"
    }
   ],
   "source": [
    "pre_blend_df.corr()"
   ]
  },
  {
   "cell_type": "code",
   "execution_count": 141,
   "id": "0a7134a3-896d-46b4-a654-9193aecf86ce",
   "metadata": {},
   "outputs": [],
   "source": [
    "pre_blend_df_copy = pre_blend_df.round(4).rank(method=\"dense\").rank(pct=True)"
   ]
  },
  {
   "cell_type": "code",
   "execution_count": 143,
   "id": "fc2b4ed9-96af-4bef-a588-3f8aac946d3a",
   "metadata": {},
   "outputs": [],
   "source": [
    "pre_blend_df_copy[\"final1\"] = (\n",
    "    0.55 * pre_blend_df_copy[\"wk\"] + 0.15 * (pre_blend_df_copy[\"chris\"] + pre_blend_df_copy[\"tree_ensemble\"] + pre_blend_df_copy[\"exp_ensemble\"])\n",
    ")"
   ]
  },
  {
   "cell_type": "code",
   "execution_count": 144,
   "id": "185bb1fd-6286-4ee3-9c6e-9e7fdfb4408d",
   "metadata": {},
   "outputs": [
    {
     "data": {
      "image/png": "[encoded data removed]",
      "text/plain": [
       "<Figure size 576x576 with 1 Axes>"
      ]
     },
     "metadata": {
      "needs_background": "light"
     },
     "output_type": "display_data"
    }
   ],
   "source": [
    "fig, ax = plt.subplots(figsize=(8, 8))\n",
    "# plt.plot(np.arange(0, 1, 0.01), np.arange(0, 1, 0.01), color=\"orange\", linestyle=\"-\")\n",
    "# plt.xlabel(\"WK Blend\")\n",
    "# plt.ylabel(\"Chris best NN\")\n",
    "# plt.scatter(pre_blend_df[\"ensemble\"], pre_blend_df[\"blend_trees\"])\n",
    "plt.scatter(pre_blend_df[\"wk\"], pre_blend_df_copy[\"final1\"])\n",
    "# plt.scatter(s2, s1)\n",
    "plt.show()"
   ]
  },
  {
   "cell_type": "code",
   "execution_count": 145,
   "id": "35b83e8c-0f2c-4dd7-914a-6c4948bcb389",
   "metadata": {},
   "outputs": [],
   "source": [
    "sub = pd.read_csv(f\"{SUBMISSION_DATA_PATH}/empty.csv\")\n",
    "sub[\"prediction\"] = pre_blend_df_copy[\"final1\"].values\n",
    "sub.to_csv(f\"{SUBMISSION_DATA_PATH}/gambling4.csv\", index=False)"
   ]
  },
  {
   "cell_type": "code",
   "execution_count": 147,
   "id": "63253fc9-8fdd-4d14-a639-fc429ce92426",
   "metadata": {},
   "outputs": [
    {
     "name": "stdout",
     "output_type": "stream",
     "text": [
      "Shape of data: (924621, 2)\n"
     ]
    }
   ],
   "source": [
    "gambling4 = read_file(f\"{SUBMISSION_DATA_PATH}/gambling4_0.800.csv\")"
   ]
  },
  {
   "cell_type": "code",
   "execution_count": 149,
   "id": "773d6fb7-7ff4-49fb-8012-6ae9e32aad4d",
   "metadata": {},
   "outputs": [],
   "source": [
    "assert (pre_blend_df_copy[\"final1\"] - gambling4[\"prediction\"]).max() < 1e-10"
   ]
  },
  {
   "cell_type": "markdown",
   "id": "92a4ecad-5323-4bcd-bc79-4951fd8e8e8b",
   "metadata": {},
   "source": [
    "### Next"
   ]
  },
  {
   "cell_type": "code",
   "execution_count": null,
   "id": "70b366e1-4191-4cdf-bdd8-710f68faba2f",
   "metadata": {},
   "outputs": [
    {
     "data": {
      "text/plain": [
       "array([[1.        , 0.99982234],\n",
       "       [0.99982234, 1.        ]])"
      ]
     },
     "execution_count": 97,
     "metadata": {},
     "output_type": "execute_result"
    }
   ],
   "source": [
    "np.corrcoef(pre_blend_df[\"final1\"], gambling1[\"prediction\"])"
   ]
  },
  {
   "cell_type": "code",
   "execution_count": 98,
   "id": "9946e17f-a67e-47e4-a359-d3462dd0db49",
   "metadata": {},
   "outputs": [],
   "source": [
    "# assert (pre_blend_df[\"final1\"] - gambling1[\"prediction\"]).max() < 1e-10"
   ]
  },
  {
   "cell_type": "code",
   "execution_count": 131,
   "id": "88c6ad34-58a2-452c-bc29-7a4dae55813a",
   "metadata": {},
   "outputs": [],
   "source": [
    "# fig, ax = plt.subplots(figsize=(8, 8))\n",
    "# # plt.plot(np.arange(0, 1, 0.01), np.arange(0, 1, 0.01), color=\"orange\", linestyle=\"-\")\n",
    "# # plt.xlabel(\"WK Blend\")\n",
    "# # plt.ylabel(\"Chris best NN\")\n",
    "# plt.scatter(pre_blend_df[\"exp_ensemble\"], pre_blend_df[\"final1\"])\n",
    "# # plt.scatter(pre_blend_df[\"chris\"], pre_blend_df[\"final\"])\n",
    "# # plt.scatter(pre_blend_df[\"tree_ensemble\"], pre_blend_df[\"final\"])\n",
    "# # plt.scatter(pre_blend_df[\"exp_ensemble\"], pre_blend_df[\"final\"])\n",
    "# # plt.scatter(ensemble[\"prediction\"], blend_trees[\"prediction\"])\n",
    "# # plt.scatter(s1, s3)\n",
    "# plt.show()"
   ]
  },
  {
   "cell_type": "code",
   "execution_count": 47,
   "id": "43a5797b-2f7a-4107-9dd4-03652f1acf73",
   "metadata": {},
   "outputs": [],
   "source": [
    "# result_sub1 = pd.read_csv(f\"{SUBMISSION_DATA_PATH}/submission105_blend_with_4seeds_hope_for_0.801_again.csv\")\n",
    "# result_sub1[\"prediction\"] = result_sub1[\"prediction\"].apply(reverse_sigmoid)"
   ]
  },
  {
   "cell_type": "code",
   "execution_count": 48,
   "id": "c098854d-9975-4268-8567-ff70bb2bd8c4",
   "metadata": {},
   "outputs": [],
   "source": [
    "# result_sub2 = pd.read_csv(f\"{SUBMISSION_DATA_PATH}/chris_nn_0.7933788_custom_embed.csv\")\n",
    "# result_sub2 = result_sub2.sort_values(by=\"customer_ID\").reset_index(drop=True)\n",
    "result_sub2[\"prediction\"] = result_sub2[\"prediction\"].apply(reverse_sigmoid)"
   ]
  },
  {
   "cell_type": "code",
   "execution_count": 54,
   "id": "7b913c21-1955-45c4-a426-1c5ce68666da",
   "metadata": {},
   "outputs": [],
   "source": [
    "# result_sub2[\"prediction\"] = pd.Series(s2).apply(sigmoid)"
   ]
  },
  {
   "cell_type": "code",
   "execution_count": 55,
   "id": "7ec2696b-bff4-42a4-b03a-c6d97a22f4ec",
   "metadata": {},
   "outputs": [],
   "source": [
    "# result_sub1[\"prediction\"] = np.where(result_sub1[\"prediction\"] > 15, 10, result_sub1[\"prediction\"])\n",
    "# result_sub1[\"prediction\"] = np.where(result_sub1[\"prediction\"] < -15, -10, result_sub1[\"prediction\"])"
   ]
  },
  {
   "cell_type": "code",
   "execution_count": 68,
   "id": "081426d8-56ea-4ef6-899e-0363fc18c047",
   "metadata": {},
   "outputs": [],
   "source": [
    "sub = pd.read_csv(f\"{SUBMISSION_DATA_PATH}/empty.csv\")"
   ]
  },
  {
   "cell_type": "code",
   "execution_count": 69,
   "id": "f3b1e337-6f40-409c-b5df-4951e3189ffb",
   "metadata": {},
   "outputs": [],
   "source": [
    "sub[\"prediction\"] = (\n",
    "    0.53 * result_sub1[\"prediction\"] + 0.13 * result_sub2[\"prediction\"] \n",
    "    + 0.13 * result_sub3[\"prediction\"] + 0.21 * result_sub4[\"prediction\"]\n",
    ")"
   ]
  },
  {
   "cell_type": "code",
   "execution_count": 70,
   "id": "cf2d22be-e714-4332-af06-7faaf6b63c9e",
   "metadata": {},
   "outputs": [],
   "source": [
    "sub.to_csv(f\"{SUBMISSION_DATA_PATH}/submission_blend_my_team_best_with_exponential_ensemble_5th.csv\", index=False)"
   ]
  },
  {
   "cell_type": "code",
   "execution_count": 67,
   "id": "c513f159-f67d-4719-98a0-b67e9d8ae7a9",
   "metadata": {},
   "outputs": [],
   "source": [
    "# np.corrcoef(sub[\"me\"], sub[\"other\"])"
   ]
  },
  {
   "cell_type": "code",
   "execution_count": 60,
   "id": "993cba76-aae6-4897-bea4-0f34b2fb2403",
   "metadata": {},
   "outputs": [
    {
     "data": {
      "text/html": [
       "<div>\n",
       "<style scoped>\n",
       "    .dataframe tbody tr th:only-of-type {\n",
       "        vertical-align: middle;\n",
       "    }\n",
       "\n",
       "    .dataframe tbody tr th {\n",
       "        vertical-align: top;\n",
       "    }\n",
       "\n",
       "    .dataframe thead th {\n",
       "        text-align: right;\n",
       "    }\n",
       "</style>\n",
       "<table border=\"1\" class=\"dataframe\">\n",
       "  <thead>\n",
       "    <tr style=\"text-align: right;\">\n",
       "      <th></th>\n",
       "      <th>me</th>\n",
       "      <th>other</th>\n",
       "    </tr>\n",
       "  </thead>\n",
       "  <tbody>\n",
       "    <tr>\n",
       "      <th>count</th>\n",
       "      <td>924621.000000</td>\n",
       "      <td>924621.000000</td>\n",
       "    </tr>\n",
       "    <tr>\n",
       "      <th>mean</th>\n",
       "      <td>-2.940645</td>\n",
       "      <td>-1.208755</td>\n",
       "    </tr>\n",
       "    <tr>\n",
       "      <th>std</th>\n",
       "      <td>3.575642</td>\n",
       "      <td>1.337941</td>\n",
       "    </tr>\n",
       "    <tr>\n",
       "      <th>min</th>\n",
       "      <td>-10.053445</td>\n",
       "      <td>-3.184661</td>\n",
       "    </tr>\n",
       "    <tr>\n",
       "      <th>25%</th>\n",
       "      <td>-5.984249</td>\n",
       "      <td>-2.302388</td>\n",
       "    </tr>\n",
       "    <tr>\n",
       "      <th>50%</th>\n",
       "      <td>-3.704030</td>\n",
       "      <td>-1.459412</td>\n",
       "    </tr>\n",
       "    <tr>\n",
       "      <th>75%</th>\n",
       "      <td>-0.120470</td>\n",
       "      <td>-0.086237</td>\n",
       "    </tr>\n",
       "    <tr>\n",
       "      <th>max</th>\n",
       "      <td>8.281089</td>\n",
       "      <td>1.382695</td>\n",
       "    </tr>\n",
       "  </tbody>\n",
       "</table>\n",
       "</div>"
      ],
      "text/plain": [
       "                  me          other\n",
       "count  924621.000000  924621.000000\n",
       "mean       -2.940645      -1.208755\n",
       "std         3.575642       1.337941\n",
       "min       -10.053445      -3.184661\n",
       "25%        -5.984249      -2.302388\n",
       "50%        -3.704030      -1.459412\n",
       "75%        -0.120470      -0.086237\n",
       "max         8.281089       1.382695"
      ]
     },
     "execution_count": 60,
     "metadata": {},
     "output_type": "execute_result"
    }
   ],
   "source": [
    "sub.describe()"
   ]
  },
  {
   "cell_type": "code",
   "execution_count": 61,
   "id": "b46d0936-652c-4150-9ad0-f6bbf08a1351",
   "metadata": {},
   "outputs": [
    {
     "data": {
      "text/plain": [
       "array([[1.       , 0.9895066],\n",
       "       [0.9895066, 1.       ]])"
      ]
     },
     "execution_count": 61,
     "metadata": {},
     "output_type": "execute_result"
    }
   ],
   "source": [
    "np.corrcoef(result_sub2[\"prediction\"], result_sub1[\"prediction\"])"
   ]
  },
  {
   "cell_type": "code",
   "execution_count": 105,
   "id": "e616f142-fd35-4d29-8de2-f755b7cdf407",
   "metadata": {},
   "outputs": [],
   "source": [
    "sub = pd.read_csv(f\"{SUBMISSION_DATA_PATH}/empty.csv\")\n",
    "sub[\"prediction\"] = 0.8 * s1 + 0.2 * s2\n",
    "sub.to_csv(f\"{SUBMISSION_DATA_PATH}/submission_109th_blend_best_with_chris_min_max_scaler.csv\", index=False)"
   ]
  },
  {
   "cell_type": "markdown",
   "id": "b49561e2-c833-4f57-8c41-75fbde78b302",
   "metadata": {},
   "source": [
    "#### Take weighted average of 2 prediction scores"
   ]
  },
  {
   "cell_type": "code",
   "execution_count": 52,
   "id": "ebc30008-0c76-4e13-8acc-486595ead6da",
   "metadata": {},
   "outputs": [],
   "source": [
    "merged_result[\"prediction\"] = merged_result[\"prediction_x\"].rank() * 0.7 + merged_result[\"prediction_y\"].rank() * 0.3\n",
    "# merged_result[\"prediction\"] = 0.6 * merged_result[\"prediction_x\"] + 0.4 * merged_result[\"prediction_y\"]"
   ]
  },
  {
   "cell_type": "code",
   "execution_count": 53,
   "id": "301e374b-562b-4bfe-b770-3639993b2f0b",
   "metadata": {},
   "outputs": [],
   "source": [
    "merged_result = merged_result.drop(columns=[\"prediction_x\", \"prediction_y\", \"x_positive\", \"y_positive\"], errors=\"ignore\")"
   ]
  },
  {
   "cell_type": "code",
   "execution_count": 54,
   "id": "4e6beb7e-52bb-491d-8030-33d0b2f3051b",
   "metadata": {},
   "outputs": [],
   "source": [
    "if merged_result.shape == (924621, 2) and merged_result.columns.tolist() == ['customer_ID', 'prediction']:\n",
    "    merged_result.to_csv(f\"{SUBMISSION_DATA_PATH}/submission31.csv\", index=False)"
   ]
  },
  {
   "cell_type": "code",
   "execution_count": null,
   "id": "ab525ef3-3bf4-4d81-9aa8-a0092adba3af",
   "metadata": {},
   "outputs": [],
   "source": []
  },
  {
   "cell_type": "code",
   "execution_count": null,
   "id": "ad17c636-6900-4392-a22b-2bf770045eec",
   "metadata": {},
   "outputs": [],
   "source": [
    "ori_columns = pre_blend_df.columns.tolist()"
   ]
  },
  {
   "cell_type": "code",
   "execution_count": null,
   "id": "9859e5de-3fde-46c4-b20f-ba39f356c069",
   "metadata": {},
   "outputs": [],
   "source": [
    "pre_blend_df[\"simple_average\"] = pre_blend_df[ori_columns].mean(axis=1)"
   ]
  },
  {
   "cell_type": "code",
   "execution_count": null,
   "id": "5065afaf-12f1-4a0d-a6a2-60a097bbf6f3",
   "metadata": {},
   "outputs": [
    {
     "data": {
      "text/html": [
       "<div>\n",
       "<style scoped>\n",
       "    .dataframe tbody tr th:only-of-type {\n",
       "        vertical-align: middle;\n",
       "    }\n",
       "\n",
       "    .dataframe tbody tr th {\n",
       "        vertical-align: top;\n",
       "    }\n",
       "\n",
       "    .dataframe thead th {\n",
       "        text-align: right;\n",
       "    }\n",
       "</style>\n",
       "<table border=\"1\" class=\"dataframe\">\n",
       "  <thead>\n",
       "    <tr style=\"text-align: right;\">\n",
       "      <th></th>\n",
       "      <th>wk</th>\n",
       "      <th>chris</th>\n",
       "      <th>exp_ensemble</th>\n",
       "      <th>tree_ensemble</th>\n",
       "    </tr>\n",
       "  </thead>\n",
       "  <tbody>\n",
       "    <tr>\n",
       "      <th>0</th>\n",
       "      <td>0.017929</td>\n",
       "      <td>0.050863</td>\n",
       "      <td>0.203048</td>\n",
       "      <td>0.069515</td>\n",
       "    </tr>\n",
       "    <tr>\n",
       "      <th>1</th>\n",
       "      <td>0.000551</td>\n",
       "      <td>0.001664</td>\n",
       "      <td>0.019959</td>\n",
       "      <td>0.005645</td>\n",
       "    </tr>\n",
       "    <tr>\n",
       "      <th>2</th>\n",
       "      <td>0.031305</td>\n",
       "      <td>0.027053</td>\n",
       "      <td>0.208046</td>\n",
       "      <td>0.071866</td>\n",
       "    </tr>\n",
       "    <tr>\n",
       "      <th>3</th>\n",
       "      <td>0.206866</td>\n",
       "      <td>0.688397</td>\n",
       "      <td>0.366104</td>\n",
       "      <td>0.235737</td>\n",
       "    </tr>\n",
       "    <tr>\n",
       "      <th>4</th>\n",
       "      <td>0.883933</td>\n",
       "      <td>0.949558</td>\n",
       "      <td>0.872776</td>\n",
       "      <td>0.861400</td>\n",
       "    </tr>\n",
       "    <tr>\n",
       "      <th>...</th>\n",
       "      <td>...</td>\n",
       "      <td>...</td>\n",
       "      <td>...</td>\n",
       "      <td>...</td>\n",
       "    </tr>\n",
       "    <tr>\n",
       "      <th>924616</th>\n",
       "      <td>0.014923</td>\n",
       "      <td>0.045180</td>\n",
       "      <td>0.121147</td>\n",
       "      <td>0.042261</td>\n",
       "    </tr>\n",
       "    <tr>\n",
       "      <th>924617</th>\n",
       "      <td>0.893580</td>\n",
       "      <td>0.931766</td>\n",
       "      <td>0.842889</td>\n",
       "      <td>0.820062</td>\n",
       "    </tr>\n",
       "    <tr>\n",
       "      <th>924618</th>\n",
       "      <td>0.449637</td>\n",
       "      <td>0.717965</td>\n",
       "      <td>0.570566</td>\n",
       "      <td>0.486275</td>\n",
       "    </tr>\n",
       "    <tr>\n",
       "      <th>924619</th>\n",
       "      <td>0.285664</td>\n",
       "      <td>0.552849</td>\n",
       "      <td>0.415526</td>\n",
       "      <td>0.289983</td>\n",
       "    </tr>\n",
       "    <tr>\n",
       "      <th>924620</th>\n",
       "      <td>0.039886</td>\n",
       "      <td>0.135471</td>\n",
       "      <td>0.245489</td>\n",
       "      <td>0.103185</td>\n",
       "    </tr>\n",
       "  </tbody>\n",
       "</table>\n",
       "<p>924621 rows × 4 columns</p>\n",
       "</div>"
      ],
      "text/plain": [
       "              wk     chris  exp_ensemble  tree_ensemble\n",
       "0       0.017929  0.050863      0.203048       0.069515\n",
       "1       0.000551  0.001664      0.019959       0.005645\n",
       "2       0.031305  0.027053      0.208046       0.071866\n",
       "3       0.206866  0.688397      0.366104       0.235737\n",
       "4       0.883933  0.949558      0.872776       0.861400\n",
       "...          ...       ...           ...            ...\n",
       "924616  0.014923  0.045180      0.121147       0.042261\n",
       "924617  0.893580  0.931766      0.842889       0.820062\n",
       "924618  0.449637  0.717965      0.570566       0.486275\n",
       "924619  0.285664  0.552849      0.415526       0.289983\n",
       "924620  0.039886  0.135471      0.245489       0.103185\n",
       "\n",
       "[924621 rows x 4 columns]"
      ]
     },
     "execution_count": 153,
     "metadata": {},
     "output_type": "execute_result"
    }
   ],
   "source": [
    "pre_blend_df[ori_columns]"
   ]
  },
  {
   "cell_type": "code",
   "execution_count": 127,
   "id": "9501175e-8c6b-4fa6-be42-2df19db393da",
   "metadata": {},
   "outputs": [],
   "source": [
    "# pre_blend_df[ori_columns].rank()"
   ]
  }
 ],
 "metadata": {
  "kernelspec": {
   "display_name": "amex",
   "language": "python",
   "name": "amex"
  },
  "language_info": {
   "codemirror_mode": {
    "name": "ipython",
    "version": 3
   },
   "file_extension": ".py",
   "mimetype": "text/x-python",
   "name": "python",
   "nbconvert_exporter": "python",
   "pygments_lexer": "ipython3",
   "version": "3.10.0"
  }
 },
 "nbformat": 4,
 "nbformat_minor": 5
}
