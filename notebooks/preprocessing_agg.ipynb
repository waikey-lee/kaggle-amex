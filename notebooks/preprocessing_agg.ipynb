{
 "cells": [
  {
   "cell_type": "code",
   "execution_count": 1,
   "id": "aaabc149-2516-4f17-b087-a2fe275ee23b",
   "metadata": {},
   "outputs": [],
   "source": [
    "import sys\n",
    "sys.path.append(\"../\")\n",
    "# import cupy, cudf"
   ]
  },
  {
   "cell_type": "code",
   "execution_count": 2,
   "id": "5dd2ca34-3410-4078-aa48-7adbba211ed5",
   "metadata": {},
   "outputs": [],
   "source": [
    "import gc\n",
    "import matplotlib.pyplot as plt\n",
    "import numpy as np\n",
    "import os\n",
    "import pandas as pd\n",
    "from lightgbm import LGBMClassifier\n",
    "from sklearn.model_selection import train_test_split\n",
    "from sklearn.metrics import roc_auc_score\n",
    "from skopt import BayesSearchCV\n",
    "from statsmodels.tsa.stattools import adfuller, kpss, acf, pacf\n",
    "from tqdm import tqdm"
   ]
  },
  {
   "cell_type": "code",
   "execution_count": 3,
   "id": "a084bef6-4434-40fb-bafc-d7d3e4c57a14",
   "metadata": {},
   "outputs": [],
   "source": [
    "from utils.eval_helpers import plot_roc_curves, plot_feature_importance, amex_metric\n",
    "from utils.eda_helpers import plot_missing_proportion_barchart"
   ]
  },
  {
   "cell_type": "code",
   "execution_count": 4,
   "id": "ee8b533a-591f-40e6-90a4-2357933bb83b",
   "metadata": {},
   "outputs": [
    {
     "data": {
      "text/plain": [
       "['train_labels.csv',\n",
       " '.DS_Store',\n",
       " 'train_data.parquet',\n",
       " 'test_data.parquet',\n",
       " 'test_data.ftr',\n",
       " 'train_data.csv',\n",
       " 'train_data.ftr',\n",
       " 'test_data.csv',\n",
       " 'sample_submission.csv']"
      ]
     },
     "execution_count": 4,
     "metadata": {},
     "output_type": "execute_result"
    }
   ],
   "source": [
    "RAW_DATA_PATH = \"../raw_data\"\n",
    "os.listdir(RAW_DATA_PATH)"
   ]
  },
  {
   "cell_type": "code",
   "execution_count": 5,
   "id": "08cce559-a615-41c7-9d81-0a5e7b981931",
   "metadata": {},
   "outputs": [],
   "source": [
    "PROCESSED_DATA_PATH = \"../processed_data\"\n",
    "SUBMISSION_DATA_PATH = \"../submissions\"\n",
    "CATEGORY_COLUMNS = ['B_30', 'B_38', 'D_114', 'D_116', 'D_117', 'D_120', 'D_126', 'D_63', 'D_64', 'D_66', 'D_68']"
   ]
  },
  {
   "cell_type": "code",
   "execution_count": 6,
   "id": "67194602-57fc-4e92-9801-8d600e52a5b2",
   "metadata": {},
   "outputs": [],
   "source": [
    "%load_ext autoreload\n",
    "%autoreload"
   ]
  },
  {
   "cell_type": "markdown",
   "id": "3885beac-e245-43b6-a2cc-73e9f871d132",
   "metadata": {},
   "source": [
    "### Preprocessing Train"
   ]
  },
  {
   "cell_type": "code",
   "execution_count": 7,
   "id": "e39ca10f-6a62-4373-8b83-65875ac3f600",
   "metadata": {},
   "outputs": [],
   "source": [
    "# train_data = pd.read_parquet(f\"{RAW_DATA_PATH}/train_data.parquet\")\n",
    "train_data = pd.read_feather(f\"{RAW_DATA_PATH}/train_data.ftr\")\n",
    "train_data[\"S_2\"] = pd.to_datetime(train_data[\"S_2\"])"
   ]
  },
  {
   "cell_type": "code",
   "execution_count": 8,
   "id": "2ec382aa-f899-4a0b-ae9d-a216c6dbbe83",
   "metadata": {},
   "outputs": [
    {
     "data": {
      "text/plain": [
       "(5531451, 190)"
      ]
     },
     "execution_count": 8,
     "metadata": {},
     "output_type": "execute_result"
    }
   ],
   "source": [
    "train_data.shape"
   ]
  },
  {
   "cell_type": "code",
   "execution_count": 9,
   "id": "9e9e2667-0fcb-48c0-b788-0b6f18f50a32",
   "metadata": {},
   "outputs": [
    {
     "data": {
      "text/plain": [
       "Index(['customer_ID', 'S_2', 'P_2', 'D_39', 'B_1', 'B_2', 'R_1', 'S_3', 'D_41',\n",
       "       'B_3',\n",
       "       ...\n",
       "       'D_136', 'D_137', 'D_138', 'D_139', 'D_140', 'D_141', 'D_142', 'D_143',\n",
       "       'D_144', 'D_145'],\n",
       "      dtype='object', length=190)"
      ]
     },
     "execution_count": 9,
     "metadata": {},
     "output_type": "execute_result"
    }
   ],
   "source": [
    "train_data.columns"
   ]
  },
  {
   "cell_type": "code",
   "execution_count": 10,
   "id": "f15b9fb8-5676-432f-a013-0b56c93de120",
   "metadata": {},
   "outputs": [],
   "source": [
    "train_labels = pd.read_csv(f\"{RAW_DATA_PATH}/train_labels.csv\")"
   ]
  },
  {
   "cell_type": "code",
   "execution_count": 11,
   "id": "e4c37563-9f0c-438e-b77b-5f388113578d",
   "metadata": {},
   "outputs": [
    {
     "data": {
      "text/plain": [
       "(458913, 2)"
      ]
     },
     "execution_count": 11,
     "metadata": {},
     "output_type": "execute_result"
    }
   ],
   "source": [
    "train_labels.shape"
   ]
  },
  {
   "cell_type": "code",
   "execution_count": 12,
   "id": "05634a3f-c83e-40fd-867b-3e1ea263cd19",
   "metadata": {},
   "outputs": [
    {
     "data": {
      "text/plain": [
       "Index(['customer_ID', 'target'], dtype='object')"
      ]
     },
     "execution_count": 12,
     "metadata": {},
     "output_type": "execute_result"
    }
   ],
   "source": [
    "train_labels.columns"
   ]
  },
  {
   "cell_type": "code",
   "execution_count": 13,
   "id": "3a7c9d02-5f96-4561-bdcd-3915ab1a7a6d",
   "metadata": {},
   "outputs": [],
   "source": [
    "train_data = train_data.sort_values(by=[\"customer_ID\", \"S_2\"])"
   ]
  },
  {
   "cell_type": "code",
   "execution_count": 14,
   "id": "0c4de3f5-a204-4410-bdd7-997fa60eaee0",
   "metadata": {},
   "outputs": [],
   "source": [
    "train_data = train_data.merge(train_labels, on=\"customer_ID\", how=\"left\")"
   ]
  },
  {
   "cell_type": "markdown",
   "id": "28f70acc-4e01-47cb-a362-76a83ac47568",
   "metadata": {},
   "source": [
    "### Preparation"
   ]
  },
  {
   "cell_type": "code",
   "execution_count": 15,
   "id": "3ecac652-250f-410a-9fe8-5b8fe3a1ff9c",
   "metadata": {},
   "outputs": [],
   "source": [
    "def get_cols(df, key):\n",
    "    return [col for col in df.columns if key in col]"
   ]
  },
  {
   "cell_type": "code",
   "execution_count": 16,
   "id": "a727009a-4e6e-4c89-9620-7edcf25e4773",
   "metadata": {},
   "outputs": [],
   "source": [
    "special_columns = ['customer_ID', 'S_2', 'target'] + get_cols(train_data, \"has\") + get_cols(train_data, \"sign\")"
   ]
  },
  {
   "cell_type": "code",
   "execution_count": 17,
   "id": "0bb78161-9b1a-4308-ba54-0fed27a3bead",
   "metadata": {},
   "outputs": [],
   "source": [
    "all_cols = [c for c in train_data.columns if c not in special_columns]\n",
    "cat_features = CATEGORY_COLUMNS\n",
    "num_features = [col for col in all_cols if col not in CATEGORY_COLUMNS]"
   ]
  },
  {
   "cell_type": "code",
   "execution_count": 18,
   "id": "13955cf8-67bb-4161-aff0-2872a8d786b3",
   "metadata": {},
   "outputs": [
    {
     "data": {
      "text/plain": [
       "(188, 11, 177)"
      ]
     },
     "execution_count": 18,
     "metadata": {},
     "output_type": "execute_result"
    }
   ],
   "source": [
    "len(all_cols), len(cat_features), len(num_features)"
   ]
  },
  {
   "cell_type": "markdown",
   "id": "e2f0e902-2cef-4851-85f9-2c44a4b65e85",
   "metadata": {
    "tags": []
   },
   "source": [
    "### Aggregation (Train)"
   ]
  },
  {
   "cell_type": "code",
   "execution_count": 19,
   "id": "8afa0370-7687-4c5b-af54-4410505aae81",
   "metadata": {},
   "outputs": [],
   "source": [
    "def get_agg_summary(original_df):\n",
    "    agg_summary = original_df.groupby(\"customer_ID\").agg(num_records=(\"S_2\", \"count\"), \n",
    "                                                         max_date=(\"S_2\", \"max\"),\n",
    "                                                         min_date=(\"S_2\", \"min\"))\n",
    "    agg_summary[\"days\"] = (agg_summary[\"max_date\"] - agg_summary[\"min_date\"]).dt.days\n",
    "    agg_summary[\"record_per_day\"] = agg_summary[\"days\"] / agg_summary[\"num_records\"]\n",
    "    return agg_summary"
   ]
  },
  {
   "cell_type": "code",
   "execution_count": 20,
   "id": "1558929e-68e6-4b60-9eb5-45f9763f82e4",
   "metadata": {},
   "outputs": [],
   "source": [
    "train_agg_summary = get_agg_summary(train_data)"
   ]
  },
  {
   "cell_type": "code",
   "execution_count": 21,
   "id": "dcbed204-d632-46dd-9afa-375fd522dc20",
   "metadata": {},
   "outputs": [],
   "source": [
    "train_data_agg = train_data.groupby(\"customer_ID\")[num_features].agg(['mean', 'std', 'min', 'max', 'last', 'first'])\n",
    "train_data_agg.columns = ['_'.join(x) for x in train_data_agg.columns]"
   ]
  },
  {
   "cell_type": "code",
   "execution_count": 22,
   "id": "1124d134-5065-4703-9e30-342309af28f2",
   "metadata": {},
   "outputs": [],
   "source": [
    "train_cat_agg = train_data.groupby(\"customer_ID\")[cat_features].agg(['count', 'last', 'nunique'])\n",
    "train_cat_agg.columns = ['_'.join(x) for x in train_cat_agg.columns]"
   ]
  },
  {
   "cell_type": "code",
   "execution_count": 23,
   "id": "3500f21b-c557-4750-b04e-b3acc10d5c0a",
   "metadata": {},
   "outputs": [],
   "source": [
    "train_agg = pd.concat([train_agg_summary, train_data_agg, train_cat_agg], axis=1)\n",
    "del train_agg_summary, train_data_agg, train_cat_agg"
   ]
  },
  {
   "cell_type": "code",
   "execution_count": 26,
   "id": "1cc8b64a-5d68-40a5-94fe-f287b197d8f4",
   "metadata": {},
   "outputs": [],
   "source": [
    "train_agg = train_agg.reset_index()"
   ]
  },
  {
   "cell_type": "code",
   "execution_count": 27,
   "id": "50f3098d-70fd-4813-be9d-3143991ab078",
   "metadata": {},
   "outputs": [
    {
     "data": {
      "text/plain": [
       "(458913, 1101)"
      ]
     },
     "execution_count": 27,
     "metadata": {},
     "output_type": "execute_result"
    }
   ],
   "source": [
    "train_agg.shape"
   ]
  },
  {
   "cell_type": "code",
   "execution_count": 28,
   "id": "ad7cbed6-c1f4-4dce-9181-2d43abd167e1",
   "metadata": {},
   "outputs": [
    {
     "data": {
      "text/html": [
       "<div>\n",
       "<style scoped>\n",
       "    .dataframe tbody tr th:only-of-type {\n",
       "        vertical-align: middle;\n",
       "    }\n",
       "\n",
       "    .dataframe tbody tr th {\n",
       "        vertical-align: top;\n",
       "    }\n",
       "\n",
       "    .dataframe thead th {\n",
       "        text-align: right;\n",
       "    }\n",
       "</style>\n",
       "<table border=\"1\" class=\"dataframe\">\n",
       "  <thead>\n",
       "    <tr style=\"text-align: right;\">\n",
       "      <th></th>\n",
       "      <th>customer_ID</th>\n",
       "      <th>num_records</th>\n",
       "      <th>max_date</th>\n",
       "      <th>min_date</th>\n",
       "      <th>days</th>\n",
       "      <th>record_per_day</th>\n",
       "      <th>P_2_mean</th>\n",
       "      <th>P_2_std</th>\n",
       "      <th>P_2_min</th>\n",
       "      <th>P_2_max</th>\n",
       "      <th>...</th>\n",
       "      <th>D_63_nunique</th>\n",
       "      <th>D_64_count</th>\n",
       "      <th>D_64_last</th>\n",
       "      <th>D_64_nunique</th>\n",
       "      <th>D_66_count</th>\n",
       "      <th>D_66_last</th>\n",
       "      <th>D_66_nunique</th>\n",
       "      <th>D_68_count</th>\n",
       "      <th>D_68_last</th>\n",
       "      <th>D_68_nunique</th>\n",
       "    </tr>\n",
       "  </thead>\n",
       "  <tbody>\n",
       "    <tr>\n",
       "      <th>0</th>\n",
       "      <td>0000099d6bd597052cdcda90ffabf56573fe9d7c79be5f...</td>\n",
       "      <td>13</td>\n",
       "      <td>2018-03-13</td>\n",
       "      <td>2017-03-09</td>\n",
       "      <td>369</td>\n",
       "      <td>28.384615</td>\n",
       "      <td>0.933594</td>\n",
       "      <td>0.024194</td>\n",
       "      <td>0.868652</td>\n",
       "      <td>0.960449</td>\n",
       "      <td>...</td>\n",
       "      <td>1</td>\n",
       "      <td>13</td>\n",
       "      <td>O</td>\n",
       "      <td>1</td>\n",
       "      <td>0</td>\n",
       "      <td>NaN</td>\n",
       "      <td>0</td>\n",
       "      <td>13</td>\n",
       "      <td>6.0</td>\n",
       "      <td>1</td>\n",
       "    </tr>\n",
       "    <tr>\n",
       "      <th>1</th>\n",
       "      <td>00000fd6641609c6ece5454664794f0340ad84dddce9a2...</td>\n",
       "      <td>13</td>\n",
       "      <td>2018-03-25</td>\n",
       "      <td>2017-03-01</td>\n",
       "      <td>389</td>\n",
       "      <td>29.923077</td>\n",
       "      <td>0.899902</td>\n",
       "      <td>0.022097</td>\n",
       "      <td>0.861328</td>\n",
       "      <td>0.929199</td>\n",
       "      <td>...</td>\n",
       "      <td>1</td>\n",
       "      <td>13</td>\n",
       "      <td>O</td>\n",
       "      <td>1</td>\n",
       "      <td>0</td>\n",
       "      <td>NaN</td>\n",
       "      <td>0</td>\n",
       "      <td>13</td>\n",
       "      <td>6.0</td>\n",
       "      <td>1</td>\n",
       "    </tr>\n",
       "    <tr>\n",
       "      <th>2</th>\n",
       "      <td>00001b22f846c82c51f6e3958ccd81970162bae8b007e8...</td>\n",
       "      <td>13</td>\n",
       "      <td>2018-03-12</td>\n",
       "      <td>2017-03-11</td>\n",
       "      <td>366</td>\n",
       "      <td>28.153846</td>\n",
       "      <td>0.878418</td>\n",
       "      <td>0.028837</td>\n",
       "      <td>0.797852</td>\n",
       "      <td>0.904297</td>\n",
       "      <td>...</td>\n",
       "      <td>1</td>\n",
       "      <td>13</td>\n",
       "      <td>R</td>\n",
       "      <td>1</td>\n",
       "      <td>0</td>\n",
       "      <td>NaN</td>\n",
       "      <td>0</td>\n",
       "      <td>13</td>\n",
       "      <td>6.0</td>\n",
       "      <td>1</td>\n",
       "    </tr>\n",
       "    <tr>\n",
       "      <th>3</th>\n",
       "      <td>000041bdba6ecadd89a52d11886e8eaaec9325906c9723...</td>\n",
       "      <td>13</td>\n",
       "      <td>2018-03-29</td>\n",
       "      <td>2017-03-31</td>\n",
       "      <td>363</td>\n",
       "      <td>27.923077</td>\n",
       "      <td>0.599121</td>\n",
       "      <td>0.020082</td>\n",
       "      <td>0.567383</td>\n",
       "      <td>0.623535</td>\n",
       "      <td>...</td>\n",
       "      <td>1</td>\n",
       "      <td>13</td>\n",
       "      <td>O</td>\n",
       "      <td>1</td>\n",
       "      <td>0</td>\n",
       "      <td>NaN</td>\n",
       "      <td>0</td>\n",
       "      <td>13</td>\n",
       "      <td>3.0</td>\n",
       "      <td>3</td>\n",
       "    </tr>\n",
       "    <tr>\n",
       "      <th>4</th>\n",
       "      <td>00007889e4fcd2614b6cbe7f8f3d2e5c728eca32d9eb8a...</td>\n",
       "      <td>13</td>\n",
       "      <td>2018-03-30</td>\n",
       "      <td>2017-03-30</td>\n",
       "      <td>365</td>\n",
       "      <td>28.076923</td>\n",
       "      <td>0.891602</td>\n",
       "      <td>0.042316</td>\n",
       "      <td>0.805176</td>\n",
       "      <td>0.940430</td>\n",
       "      <td>...</td>\n",
       "      <td>1</td>\n",
       "      <td>13</td>\n",
       "      <td>O</td>\n",
       "      <td>1</td>\n",
       "      <td>13</td>\n",
       "      <td>1.0</td>\n",
       "      <td>1</td>\n",
       "      <td>13</td>\n",
       "      <td>6.0</td>\n",
       "      <td>1</td>\n",
       "    </tr>\n",
       "  </tbody>\n",
       "</table>\n",
       "<p>5 rows × 1101 columns</p>\n",
       "</div>"
      ],
      "text/plain": [
       "                                         customer_ID  num_records   max_date  \\\n",
       "0  0000099d6bd597052cdcda90ffabf56573fe9d7c79be5f...           13 2018-03-13   \n",
       "1  00000fd6641609c6ece5454664794f0340ad84dddce9a2...           13 2018-03-25   \n",
       "2  00001b22f846c82c51f6e3958ccd81970162bae8b007e8...           13 2018-03-12   \n",
       "3  000041bdba6ecadd89a52d11886e8eaaec9325906c9723...           13 2018-03-29   \n",
       "4  00007889e4fcd2614b6cbe7f8f3d2e5c728eca32d9eb8a...           13 2018-03-30   \n",
       "\n",
       "    min_date  days  record_per_day  P_2_mean   P_2_std   P_2_min   P_2_max  \\\n",
       "0 2017-03-09   369       28.384615  0.933594  0.024194  0.868652  0.960449   \n",
       "1 2017-03-01   389       29.923077  0.899902  0.022097  0.861328  0.929199   \n",
       "2 2017-03-11   366       28.153846  0.878418  0.028837  0.797852  0.904297   \n",
       "3 2017-03-31   363       27.923077  0.599121  0.020082  0.567383  0.623535   \n",
       "4 2017-03-30   365       28.076923  0.891602  0.042316  0.805176  0.940430   \n",
       "\n",
       "   ...  D_63_nunique  D_64_count  D_64_last  D_64_nunique  D_66_count  \\\n",
       "0  ...             1          13          O             1           0   \n",
       "1  ...             1          13          O             1           0   \n",
       "2  ...             1          13          R             1           0   \n",
       "3  ...             1          13          O             1           0   \n",
       "4  ...             1          13          O             1          13   \n",
       "\n",
       "   D_66_last  D_66_nunique  D_68_count  D_68_last  D_68_nunique  \n",
       "0        NaN             0          13        6.0             1  \n",
       "1        NaN             0          13        6.0             1  \n",
       "2        NaN             0          13        6.0             1  \n",
       "3        NaN             0          13        3.0             3  \n",
       "4        1.0             1          13        6.0             1  \n",
       "\n",
       "[5 rows x 1101 columns]"
      ]
     },
     "execution_count": 28,
     "metadata": {},
     "output_type": "execute_result"
    }
   ],
   "source": [
    "train_agg.head()"
   ]
  },
  {
   "cell_type": "code",
   "execution_count": 29,
   "id": "d7a2d343-2f5b-4d00-af9b-17ce216d9cef",
   "metadata": {},
   "outputs": [],
   "source": [
    "# train_agg.to_parquet(f\"{PROCESSED_DATA_PATH}/train_agg_data.parquet\")\n",
    "train_agg.to_feather(f\"{PROCESSED_DATA_PATH}/train_agg_data.ftr\")"
   ]
  },
  {
   "cell_type": "code",
   "execution_count": null,
   "id": "de45ac89-2c06-446d-83cf-1e3677725d4d",
   "metadata": {},
   "outputs": [],
   "source": [
    "# train_agg_ = pd.read_parquet(f\"{PROCESSED_DATA_PATH}/train_agg_data.parquet\")"
   ]
  },
  {
   "cell_type": "code",
   "execution_count": 30,
   "id": "0f0baa30-e15f-479a-921a-18d980c48e4c",
   "metadata": {
    "tags": []
   },
   "outputs": [],
   "source": [
    "del train_agg"
   ]
  },
  {
   "cell_type": "markdown",
   "id": "2d18b0d8-b6f4-4c60-aac7-e5ffa81184bf",
   "metadata": {
    "tags": []
   },
   "source": [
    "### Aggregation (Test)"
   ]
  },
  {
   "cell_type": "code",
   "execution_count": 31,
   "id": "153f3e5b-c22b-4a2d-8b0f-564e0c18788c",
   "metadata": {},
   "outputs": [],
   "source": [
    "# test_data = pd.read_parquet(f\"{RAW_DATA_PATH}/test_data.parquet\")\n",
    "test_data = pd.read_feather(f\"{RAW_DATA_PATH}/test_data.ftr\")\n",
    "test_data[\"S_2\"] = pd.to_datetime(test_data[\"S_2\"])"
   ]
  },
  {
   "cell_type": "code",
   "execution_count": 32,
   "id": "95957d1c-2c25-42b4-88fd-64c4fa31f75a",
   "metadata": {},
   "outputs": [],
   "source": [
    "special_columns = ['customer_ID', 'S_2', 'target']"
   ]
  },
  {
   "cell_type": "code",
   "execution_count": 33,
   "id": "754362fb-dd4e-420b-b856-4e17ef7a4dd8",
   "metadata": {},
   "outputs": [],
   "source": [
    "all_cols = [c for c in test_data.columns if c not in special_columns]\n",
    "cat_features = CATEGORY_COLUMNS\n",
    "num_features = [col for col in all_cols if col not in CATEGORY_COLUMNS]"
   ]
  },
  {
   "cell_type": "code",
   "execution_count": 34,
   "id": "83669273-d3f4-4314-8d20-2235ee42f6bc",
   "metadata": {},
   "outputs": [
    {
     "data": {
      "text/plain": [
       "(188, 11, 177)"
      ]
     },
     "execution_count": 34,
     "metadata": {},
     "output_type": "execute_result"
    }
   ],
   "source": [
    "len(all_cols), len(cat_features), len(num_features)"
   ]
  },
  {
   "cell_type": "code",
   "execution_count": 35,
   "id": "8d4a2dcf-d21f-43a6-8355-83f4160c4ab9",
   "metadata": {},
   "outputs": [
    {
     "data": {
      "text/plain": [
       "(11363762, 190)"
      ]
     },
     "execution_count": 35,
     "metadata": {},
     "output_type": "execute_result"
    }
   ],
   "source": [
    "test_data.shape"
   ]
  },
  {
   "cell_type": "code",
   "execution_count": 36,
   "id": "8de42a8f-1cb1-4f24-92d1-04bc19863d03",
   "metadata": {},
   "outputs": [],
   "source": [
    "test_data = test_data.sort_values(by=[\"customer_ID\", \"S_2\"])"
   ]
  },
  {
   "cell_type": "code",
   "execution_count": 37,
   "id": "33479f5d-117e-4d3f-a9fc-8757e70e6017",
   "metadata": {},
   "outputs": [],
   "source": [
    "test_agg_summary = get_agg_summary(test_data)"
   ]
  },
  {
   "cell_type": "code",
   "execution_count": 38,
   "id": "8a58dd73-4929-4ed4-9d7a-5b7d9d814705",
   "metadata": {},
   "outputs": [],
   "source": [
    "test_data_agg = test_data.groupby(\"customer_ID\")[num_features].agg(['mean', 'std', 'min'])\n",
    "test_data_agg.columns = ['_'.join(x) for x in test_data_agg.columns]"
   ]
  },
  {
   "cell_type": "code",
   "execution_count": 39,
   "id": "4448cf03-a48f-4d03-a3bb-84060f22e0c6",
   "metadata": {},
   "outputs": [],
   "source": [
    "test_agg = pd.concat([test_agg_summary, test_data_agg], axis=1)\n",
    "del test_agg_summary, test_data_agg"
   ]
  },
  {
   "cell_type": "code",
   "execution_count": 40,
   "id": "5cda8837-6dfc-4fbe-b94f-99f814f48dad",
   "metadata": {},
   "outputs": [],
   "source": [
    "test_data_agg = test_data.groupby(\"customer_ID\")[num_features].agg(['max', 'last', 'first'])\n",
    "test_data_agg.columns = ['_'.join(x) for x in test_data_agg.columns]"
   ]
  },
  {
   "cell_type": "code",
   "execution_count": 41,
   "id": "7d504ec2-3300-448f-8cc3-9083096048a3",
   "metadata": {},
   "outputs": [],
   "source": [
    "test_cat_agg = test_data.groupby(\"customer_ID\")[cat_features].agg(['count', 'last', 'nunique'])\n",
    "test_cat_agg.columns = ['_'.join(x) for x in test_cat_agg.columns]"
   ]
  },
  {
   "cell_type": "code",
   "execution_count": 42,
   "id": "38f205cb-0d64-40c7-bd2c-96317a0c19a5",
   "metadata": {},
   "outputs": [],
   "source": [
    "test_agg = pd.concat([test_agg, test_data_agg, test_cat_agg], axis=1)\n",
    "del test_data_agg, test_cat_agg"
   ]
  },
  {
   "cell_type": "code",
   "execution_count": 43,
   "id": "6010caf4-416b-4d41-bbdd-e2f61ef1f496",
   "metadata": {},
   "outputs": [],
   "source": [
    "test_agg = test_agg.reset_index()"
   ]
  },
  {
   "cell_type": "code",
   "execution_count": 44,
   "id": "0535aa02-a4d2-4c85-a719-62198519981d",
   "metadata": {},
   "outputs": [
    {
     "data": {
      "text/plain": [
       "(924621, 1101)"
      ]
     },
     "execution_count": 44,
     "metadata": {},
     "output_type": "execute_result"
    }
   ],
   "source": [
    "test_agg.shape"
   ]
  },
  {
   "cell_type": "code",
   "execution_count": 45,
   "id": "714fb207-fe18-4e6c-8552-717125f622fb",
   "metadata": {},
   "outputs": [
    {
     "data": {
      "text/html": [
       "<div>\n",
       "<style scoped>\n",
       "    .dataframe tbody tr th:only-of-type {\n",
       "        vertical-align: middle;\n",
       "    }\n",
       "\n",
       "    .dataframe tbody tr th {\n",
       "        vertical-align: top;\n",
       "    }\n",
       "\n",
       "    .dataframe thead th {\n",
       "        text-align: right;\n",
       "    }\n",
       "</style>\n",
       "<table border=\"1\" class=\"dataframe\">\n",
       "  <thead>\n",
       "    <tr style=\"text-align: right;\">\n",
       "      <th></th>\n",
       "      <th>customer_ID</th>\n",
       "      <th>num_records</th>\n",
       "      <th>max_date</th>\n",
       "      <th>min_date</th>\n",
       "      <th>days</th>\n",
       "      <th>record_per_day</th>\n",
       "      <th>P_2_mean</th>\n",
       "      <th>P_2_std</th>\n",
       "      <th>P_2_min</th>\n",
       "      <th>D_39_mean</th>\n",
       "      <th>...</th>\n",
       "      <th>D_63_nunique</th>\n",
       "      <th>D_64_count</th>\n",
       "      <th>D_64_last</th>\n",
       "      <th>D_64_nunique</th>\n",
       "      <th>D_66_count</th>\n",
       "      <th>D_66_last</th>\n",
       "      <th>D_66_nunique</th>\n",
       "      <th>D_68_count</th>\n",
       "      <th>D_68_last</th>\n",
       "      <th>D_68_nunique</th>\n",
       "    </tr>\n",
       "  </thead>\n",
       "  <tbody>\n",
       "    <tr>\n",
       "      <th>0</th>\n",
       "      <td>00000469ba478561f23a92a868bd366de6f6527a684c9a...</td>\n",
       "      <td>9</td>\n",
       "      <td>2019-10-12</td>\n",
       "      <td>2019-02-19</td>\n",
       "      <td>235</td>\n",
       "      <td>26.111111</td>\n",
       "      <td>0.601562</td>\n",
       "      <td>0.020198</td>\n",
       "      <td>0.568848</td>\n",
       "      <td>0.069763</td>\n",
       "      <td>...</td>\n",
       "      <td>1</td>\n",
       "      <td>5</td>\n",
       "      <td>U</td>\n",
       "      <td>1</td>\n",
       "      <td>0</td>\n",
       "      <td>NaN</td>\n",
       "      <td>0</td>\n",
       "      <td>5</td>\n",
       "      <td>6.0</td>\n",
       "      <td>1</td>\n",
       "    </tr>\n",
       "    <tr>\n",
       "      <th>1</th>\n",
       "      <td>00001bf2e77ff879fab36aa4fac689b9ba411dae63ae39...</td>\n",
       "      <td>13</td>\n",
       "      <td>2019-04-15</td>\n",
       "      <td>2018-04-22</td>\n",
       "      <td>358</td>\n",
       "      <td>27.538462</td>\n",
       "      <td>0.862305</td>\n",
       "      <td>0.031432</td>\n",
       "      <td>0.794434</td>\n",
       "      <td>0.154297</td>\n",
       "      <td>...</td>\n",
       "      <td>1</td>\n",
       "      <td>13</td>\n",
       "      <td>O</td>\n",
       "      <td>1</td>\n",
       "      <td>0</td>\n",
       "      <td>NaN</td>\n",
       "      <td>0</td>\n",
       "      <td>13</td>\n",
       "      <td>6.0</td>\n",
       "      <td>1</td>\n",
       "    </tr>\n",
       "    <tr>\n",
       "      <th>2</th>\n",
       "      <td>0000210045da4f81e5f122c6bde5c2a617d03eef67f82c...</td>\n",
       "      <td>13</td>\n",
       "      <td>2019-10-16</td>\n",
       "      <td>2018-10-03</td>\n",
       "      <td>378</td>\n",
       "      <td>29.076923</td>\n",
       "      <td>0.749023</td>\n",
       "      <td>0.061435</td>\n",
       "      <td>0.673340</td>\n",
       "      <td>0.181885</td>\n",
       "      <td>...</td>\n",
       "      <td>1</td>\n",
       "      <td>13</td>\n",
       "      <td>U</td>\n",
       "      <td>2</td>\n",
       "      <td>13</td>\n",
       "      <td>1.0</td>\n",
       "      <td>1</td>\n",
       "      <td>13</td>\n",
       "      <td>4.0</td>\n",
       "      <td>2</td>\n",
       "    </tr>\n",
       "    <tr>\n",
       "      <th>3</th>\n",
       "      <td>00003b41e58ede33b8daf61ab56d9952f17c9ad1c3976c...</td>\n",
       "      <td>13</td>\n",
       "      <td>2019-04-22</td>\n",
       "      <td>2018-04-05</td>\n",
       "      <td>382</td>\n",
       "      <td>29.384615</td>\n",
       "      <td>0.474609</td>\n",
       "      <td>0.028883</td>\n",
       "      <td>0.428467</td>\n",
       "      <td>0.470459</td>\n",
       "      <td>...</td>\n",
       "      <td>1</td>\n",
       "      <td>13</td>\n",
       "      <td>R</td>\n",
       "      <td>1</td>\n",
       "      <td>0</td>\n",
       "      <td>NaN</td>\n",
       "      <td>0</td>\n",
       "      <td>13</td>\n",
       "      <td>5.0</td>\n",
       "      <td>1</td>\n",
       "    </tr>\n",
       "    <tr>\n",
       "      <th>4</th>\n",
       "      <td>00004b22eaeeeb0ec976890c1d9bfc14fd9427e98c4ee9...</td>\n",
       "      <td>13</td>\n",
       "      <td>2019-10-22</td>\n",
       "      <td>2018-10-17</td>\n",
       "      <td>370</td>\n",
       "      <td>28.461538</td>\n",
       "      <td>0.323975</td>\n",
       "      <td>0.049886</td>\n",
       "      <td>0.254395</td>\n",
       "      <td>0.353027</td>\n",
       "      <td>...</td>\n",
       "      <td>1</td>\n",
       "      <td>13</td>\n",
       "      <td>R</td>\n",
       "      <td>2</td>\n",
       "      <td>0</td>\n",
       "      <td>NaN</td>\n",
       "      <td>0</td>\n",
       "      <td>13</td>\n",
       "      <td>5.0</td>\n",
       "      <td>2</td>\n",
       "    </tr>\n",
       "  </tbody>\n",
       "</table>\n",
       "<p>5 rows × 1101 columns</p>\n",
       "</div>"
      ],
      "text/plain": [
       "                                         customer_ID  num_records   max_date  \\\n",
       "0  00000469ba478561f23a92a868bd366de6f6527a684c9a...            9 2019-10-12   \n",
       "1  00001bf2e77ff879fab36aa4fac689b9ba411dae63ae39...           13 2019-04-15   \n",
       "2  0000210045da4f81e5f122c6bde5c2a617d03eef67f82c...           13 2019-10-16   \n",
       "3  00003b41e58ede33b8daf61ab56d9952f17c9ad1c3976c...           13 2019-04-22   \n",
       "4  00004b22eaeeeb0ec976890c1d9bfc14fd9427e98c4ee9...           13 2019-10-22   \n",
       "\n",
       "    min_date  days  record_per_day  P_2_mean   P_2_std   P_2_min  D_39_mean  \\\n",
       "0 2019-02-19   235       26.111111  0.601562  0.020198  0.568848   0.069763   \n",
       "1 2018-04-22   358       27.538462  0.862305  0.031432  0.794434   0.154297   \n",
       "2 2018-10-03   378       29.076923  0.749023  0.061435  0.673340   0.181885   \n",
       "3 2018-04-05   382       29.384615  0.474609  0.028883  0.428467   0.470459   \n",
       "4 2018-10-17   370       28.461538  0.323975  0.049886  0.254395   0.353027   \n",
       "\n",
       "   ...  D_63_nunique  D_64_count  D_64_last  D_64_nunique  D_66_count  \\\n",
       "0  ...             1           5          U             1           0   \n",
       "1  ...             1          13          O             1           0   \n",
       "2  ...             1          13          U             2          13   \n",
       "3  ...             1          13          R             1           0   \n",
       "4  ...             1          13          R             2           0   \n",
       "\n",
       "   D_66_last  D_66_nunique  D_68_count  D_68_last  D_68_nunique  \n",
       "0        NaN             0           5        6.0             1  \n",
       "1        NaN             0          13        6.0             1  \n",
       "2        1.0             1          13        4.0             2  \n",
       "3        NaN             0          13        5.0             1  \n",
       "4        NaN             0          13        5.0             2  \n",
       "\n",
       "[5 rows x 1101 columns]"
      ]
     },
     "execution_count": 45,
     "metadata": {},
     "output_type": "execute_result"
    }
   ],
   "source": [
    "test_agg.head()"
   ]
  },
  {
   "cell_type": "code",
   "execution_count": 46,
   "id": "7b8426ae-e402-49fb-bffe-204bf490351e",
   "metadata": {},
   "outputs": [],
   "source": [
    "# test_agg.to_parquet(f\"{PROCESSED_DATA_PATH}/test_agg_data.parquet\")\n",
    "test_agg.to_feather(f\"{PROCESSED_DATA_PATH}/test_agg_data.ftr\")"
   ]
  },
  {
   "cell_type": "code",
   "execution_count": 47,
   "id": "c0790228-c5c8-4116-a762-319f8f1ee91e",
   "metadata": {},
   "outputs": [],
   "source": [
    "del test_agg"
   ]
  },
  {
   "cell_type": "code",
   "execution_count": 48,
   "id": "acff6af2-1f27-4cec-af8f-8b23dff4637c",
   "metadata": {},
   "outputs": [],
   "source": [
    "# test_agg_ = pd.read_parquet(f\"{PROCESSED_DATA_PATH}/test_agg_data.parquet\")"
   ]
  },
  {
   "cell_type": "markdown",
   "id": "a4567e32-62f0-4cf0-96d5-b8aa536faa86",
   "metadata": {},
   "source": [
    "#### EDA & Data Cleaning"
   ]
  },
  {
   "cell_type": "markdown",
   "id": "aaa4573e-7910-4220-8809-137351c0d205",
   "metadata": {
    "tags": []
   },
   "source": [
    "#### Missing value analysis (Pre Simple Imputation)"
   ]
  },
  {
   "cell_type": "code",
   "execution_count": null,
   "id": "ad3d896d-d764-489e-8bf4-c4c18a13fa42",
   "metadata": {},
   "outputs": [],
   "source": [
    "missing_prop_df = plot_missing_proportion_barchart(train_data)"
   ]
  },
  {
   "cell_type": "markdown",
   "id": "8e99c88f-23c5-44bb-b00c-739430285eb3",
   "metadata": {},
   "source": [
    "#### Simple Imputation"
   ]
  },
  {
   "cell_type": "code",
   "execution_count": null,
   "id": "b6ed5e93-3506-4f8e-9ebb-d214b988338c",
   "metadata": {
    "tags": []
   },
   "outputs": [],
   "source": [
    "def create_has_col(df, col):\n",
    "    has_col = f\"has_{col}\"\n",
    "    df.loc[:, has_col] = 0\n",
    "    df.loc[~df[col].isnull(), has_col] = 1\n",
    "    return df"
   ]
  },
  {
   "cell_type": "code",
   "execution_count": null,
   "id": "cf5802ce-2d4d-46b9-8e12-627e4e3964f7",
   "metadata": {},
   "outputs": [],
   "source": [
    "def create_sign_col(df, col):\n",
    "    sign_col = f\"{col}_sign\"\n",
    "    df[sign_col] = df[col].apply(lambda x: 0 if x == 0 else x / abs(x))\n",
    "    return df"
   ]
  },
  {
   "cell_type": "code",
   "execution_count": null,
   "id": "ab22f3f0-e23a-43f7-9435-380b1a7486e2",
   "metadata": {},
   "outputs": [],
   "source": [
    "def apply_all_fillna(df):\n",
    "    # Simple Fill NA with 0\n",
    "    for col in [\"D_87\", \"D_88\", \"B_39\", \"B_42\"]:\n",
    "        df[col] = df[col].fillna(0)  # .apply(lambda x: (abs(x) + x) / 2).fillna(0)\n",
    "    # Create has column\n",
    "    for col in [\"D_110\", \"D_111\", \"D_132\", \"D_134\", \"D_135\", \"D_136\", \"D_137\", \"D_138\"]:\n",
    "        df = create_has_col(df, col=col)\n",
    "    # Create sign column\n",
    "    for col in [\"B_39\"]:\n",
    "        df = create_sign_col(df, col=col)\n",
    "    return df"
   ]
  },
  {
   "cell_type": "code",
   "execution_count": null,
   "id": "7b24b323-6fcf-4e20-88c9-0efbcb07cc74",
   "metadata": {},
   "outputs": [],
   "source": [
    "# ! Fill NA\n",
    "train = apply_all_fillna(train)\n",
    "test = apply_all_fillna(test)"
   ]
  },
  {
   "cell_type": "code",
   "execution_count": null,
   "id": "b7161c42-cccd-4cc1-b09a-67c0d15d340d",
   "metadata": {},
   "outputs": [],
   "source": [
    "train[\"D_102\"].min(), train[\"D_102\"].mean(), train[\"D_102\"].max()"
   ]
  },
  {
   "cell_type": "code",
   "execution_count": null,
   "id": "9d9e2b8f-9c83-462d-898a-080f42c61121",
   "metadata": {},
   "outputs": [],
   "source": [
    "train[\"D_102\"].astype(\"float32\").describe()"
   ]
  },
  {
   "cell_type": "code",
   "execution_count": null,
   "id": "cc37ae4f-6741-40ca-b85d-7145b516eca2",
   "metadata": {},
   "outputs": [],
   "source": [
    "train.loc[train[\"D_102\"].isnull()][\"D_102\"]"
   ]
  },
  {
   "cell_type": "code",
   "execution_count": null,
   "id": "da835c02-b379-4a1e-9999-43ca896cd603",
   "metadata": {},
   "outputs": [],
   "source": [
    "train[\"D_102\"].describe()"
   ]
  },
  {
   "cell_type": "code",
   "execution_count": null,
   "id": "6de79be7-1b24-4635-81b7-a227636c0eaf",
   "metadata": {},
   "outputs": [],
   "source": [
    "train.loc[train[\"D_102\"].astype(str) == \"inf\"]"
   ]
  },
  {
   "cell_type": "markdown",
   "id": "0b274b19-4476-461d-8763-f9c92bd10448",
   "metadata": {
    "tags": []
   },
   "source": [
    "#### Missing value analysis (Post Simple Imputation)"
   ]
  },
  {
   "cell_type": "code",
   "execution_count": null,
   "id": "d882cb3b-3108-4b49-9e0d-a8b993d49b8b",
   "metadata": {},
   "outputs": [],
   "source": [
    "missing_prop_df = plot_missing_proportion_barchart(train)"
   ]
  },
  {
   "cell_type": "code",
   "execution_count": null,
   "id": "bb55694a-d568-4670-8ea2-9971005e481e",
   "metadata": {},
   "outputs": [],
   "source": [
    "array = train_data.loc[train_data[\"customer_ID\"] == train_data[\"customer_ID\"][540]][\"P_2\"].astype(\"float32\")"
   ]
  },
  {
   "cell_type": "code",
   "execution_count": null,
   "id": "da64be0b-5d0c-4b1c-88bd-c3828a5f3542",
   "metadata": {},
   "outputs": [],
   "source": [
    "np.polyfit(x=range(len(array)), y=array, deg=1)"
   ]
  },
  {
   "cell_type": "code",
   "execution_count": null,
   "id": "ba732606-df39-4051-b4c4-a55861e48ec7",
   "metadata": {},
   "outputs": [],
   "source": [
    "def calc_grad(array):\n",
    "    if len(array) >= 2:\n",
    "        gradient, y_intercept = np.polyfit(x=range(len(array)), y=array.astype(\"float32\"), deg=1)\n",
    "        return gradient\n",
    "    else:\n",
    "        return 0"
   ]
  },
  {
   "cell_type": "code",
   "execution_count": null,
   "id": "e0c9f06e-4f78-4ab8-9710-c840aae2cd74",
   "metadata": {},
   "outputs": [],
   "source": [
    "def calc_intercept(array):\n",
    "    if len(array) >= 2:\n",
    "        gradient, y_intercept = np.polyfit(x=range(len(array)), y=array.astype(\"float32\"), deg=1)\n",
    "        return y_intercept\n",
    "    else:\n",
    "        return array.values[0]"
   ]
  },
  {
   "cell_type": "code",
   "execution_count": null,
   "id": "9d82ecf4-0273-47e0-b404-3e0791807c37",
   "metadata": {},
   "outputs": [],
   "source": [
    "temp = train.groupby(\"customer_ID\").agg(P_2_grad=(\"P_2\", calc_grad),\n",
    "                                        P_2_intercept=(\"P_2\", calc_intercept)).reset_index()\n",
    "train_agg_summary = train_agg_summary.merge(temp, on=\"customer_ID\", how=\"left\")"
   ]
  },
  {
   "cell_type": "code",
   "execution_count": null,
   "id": "c50f1cad-77b4-47a5-abe4-ada71d727a14",
   "metadata": {},
   "outputs": [],
   "source": [
    "temp = test.groupby(\"customer_ID\").agg(P_2_grad=(\"P_2\", calc_grad),\n",
    "                                       P_2_intercept=(\"P_2\", calc_intercept)).reset_index()\n",
    "test_agg_summary = test_agg_summary.merge(temp, on=\"customer_ID\", how=\"left\")"
   ]
  },
  {
   "cell_type": "markdown",
   "id": "1169f001-e4e2-40d8-9604-75530a7627e8",
   "metadata": {},
   "source": [
    "### Has_xx col Agg"
   ]
  },
  {
   "cell_type": "code",
   "execution_count": null,
   "id": "26a1eb55-f1fc-46cc-a770-e000861a72a6",
   "metadata": {},
   "outputs": [],
   "source": [
    "train_has_col_mean_df = train[[\"customer_ID\"] + get_cols(train, \"has\") + get_cols(train, \"sign\")].groupby(\"customer_ID\").agg([\"mean\"])\n",
    "test_has_col_mean_df = test[[\"customer_ID\"] + get_cols(test, \"has\") + get_cols(test, \"sign\")].groupby(\"customer_ID\").agg([\"mean\"])"
   ]
  },
  {
   "cell_type": "code",
   "execution_count": null,
   "id": "e242b739-5a82-4774-a93f-a9d376e6ecc8",
   "metadata": {},
   "outputs": [],
   "source": [
    "train_has_col_mean_df.columns = ['_'.join(x) for x in train_has_col_mean_df.columns]\n",
    "test_has_col_mean_df.columns = ['_'.join(x) for x in test_has_col_mean_df.columns]"
   ]
  },
  {
   "cell_type": "code",
   "execution_count": null,
   "id": "62f4ab1d-bd70-445b-a69e-5186055390aa",
   "metadata": {},
   "outputs": [],
   "source": [
    "train_agg = train_agg.merge(train_has_col_mean_df, on=\"customer_ID\")\n",
    "test_agg = test_agg.merge(test_has_col_mean_df, on=\"customer_ID\")"
   ]
  },
  {
   "cell_type": "code",
   "execution_count": null,
   "id": "6dd2c507-830c-473f-9ea7-ece707d5aaa8",
   "metadata": {},
   "outputs": [],
   "source": [
    "train_agg.to_feather(f\"{PROCESSED_DATA_PATH}/train_agg_data.ftr\")"
   ]
  },
  {
   "cell_type": "code",
   "execution_count": null,
   "id": "dcf9982b-2996-4e0c-94e9-007481ed470d",
   "metadata": {},
   "outputs": [],
   "source": [
    "test_agg.to_feather(f\"{PROCESSED_DATA_PATH}/test_agg_data.ftr\")"
   ]
  },
  {
   "cell_type": "code",
   "execution_count": null,
   "id": "dbe10d49-cbb8-4bcd-9f99-617df382ef99",
   "metadata": {},
   "outputs": [],
   "source": [
    "train_cols_unique_count = train_data.nunique()"
   ]
  },
  {
   "cell_type": "code",
   "execution_count": null,
   "id": "8ae24fd9-3cb0-4881-b169-059cfe13e12a",
   "metadata": {},
   "outputs": [],
   "source": [
    "less_unique_columns = train_cols_unique_count[train_cols_unique_count <= 300].index.tolist()\n",
    "print(less_unique_columns)"
   ]
  },
  {
   "cell_type": "code",
   "execution_count": null,
   "id": "3440da91-4d85-430b-8fb6-00addbe2152c",
   "metadata": {},
   "outputs": [],
   "source": [
    "for column in less_unique_columns:\n",
    "    print(f\"Column {column}\")\n",
    "    print(train_data[column].unique(), end=\"\\n\\n\")"
   ]
  },
  {
   "cell_type": "code",
   "execution_count": null,
   "id": "5c2057b4-180a-42c5-870a-3a6f01dc59e8",
   "metadata": {},
   "outputs": [],
   "source": [
    "def set_category_columns(df):\n",
    "    pass"
   ]
  },
  {
   "cell_type": "code",
   "execution_count": null,
   "id": "09edc57e-b91d-40c1-ae13-dbf7e5bb005e",
   "metadata": {},
   "outputs": [],
   "source": [
    "train_data.loc[:, cat_features]."
   ]
  },
  {
   "cell_type": "markdown",
   "id": "6fc921e1-b9ac-4391-8ee5-b75587bbbe6b",
   "metadata": {},
   "source": [
    "### Train Val Split"
   ]
  },
  {
   "cell_type": "code",
   "execution_count": null,
   "id": "fd860277-1810-4bdd-9e56-84c1870e17ce",
   "metadata": {},
   "outputs": [],
   "source": [
    "train_labels.insert(0, \"cid\", train_labels['customer_ID'].apply(hash).astype('int64'))\n",
    "train_labels.head(5)"
   ]
  },
  {
   "cell_type": "code",
   "execution_count": null,
   "id": "cc3ce8e6-edff-4d51-8110-0b881db3e484",
   "metadata": {},
   "outputs": [],
   "source": [
    "train_labels = train_labels.sort_values(by=\"cid\").reset_index(drop=True)"
   ]
  },
  {
   "cell_type": "code",
   "execution_count": null,
   "id": "e99ab607-5673-42d9-bc9d-2ff3683974c8",
   "metadata": {},
   "outputs": [],
   "source": [
    "train_ = train_agg.merge(train_labels[[\"cid\", \"target\"]], on=\"cid\", how=\"left\")"
   ]
  },
  {
   "cell_type": "code",
   "execution_count": null,
   "id": "5144cc8a-305d-41d7-8cea-baf5f0f3f0ba",
   "metadata": {},
   "outputs": [],
   "source": [
    "train_[\"dummy\"] = np.random.randn(train_.shape[0])"
   ]
  },
  {
   "cell_type": "code",
   "execution_count": null,
   "id": "9695a902-a0b2-4365-ba90-3fa70ed69844",
   "metadata": {},
   "outputs": [],
   "source": [
    "train, val = train_test_split(train_, test_size=0.2, random_state=1020, stratify=train_[\"target\"])"
   ]
  },
  {
   "cell_type": "code",
   "execution_count": null,
   "id": "33c79210-4f9a-4500-9ba2-2a61850acd3f",
   "metadata": {},
   "outputs": [],
   "source": [
    "train[\"target\"].mean(), val[\"target\"].mean()"
   ]
  },
  {
   "cell_type": "code",
   "execution_count": null,
   "id": "bd50dba4-2400-4ba5-b0f9-d74832b470a7",
   "metadata": {},
   "outputs": [],
   "source": []
  },
  {
   "cell_type": "code",
   "execution_count": null,
   "id": "812c297c-7f96-4013-82af-8cf685515b52",
   "metadata": {},
   "outputs": [],
   "source": [
    "def process_and_feature_engineer(df):\n",
    "    all_cols = [c for c in list(df.columns) if c not in ['customer_ID', 'S_2']]\n",
    "    cat_features = [\"B_30\", \"B_38\", \"D_114\", \"D_116\", \"D_117\", \"D_120\", \"D_126\", \"D_63\", \"D_64\", \"D_66\", \"D_68\"]\n",
    "    num_features = [col for col in all_cols if col not in cat_features]\n",
    "\n",
    "    test_num_agg = df.groupby(\"customer_ID\")[num_features].agg(['mean', 'std', 'min', 'max'])\n",
    "    test_num_agg.columns = ['_'.join(x) for x in test_num_agg.columns]\n",
    "    \n",
    "    test_num_agg2 = df.groupby(\"customer_ID\")[num_features].agg(['first', 'last'])\n",
    "    test_num_agg2.columns = ['_'.join(x) for x in test_num_agg2.columns]\n",
    "\n",
    "    test_cat_agg = df.groupby(\"customer_ID\")[cat_features].agg(['count', 'last', 'nunique'])\n",
    "    test_cat_agg.columns = ['_'.join(x) for x in test_cat_agg.columns]\n",
    "\n",
    "    df = pd.concat([test_num_agg, test_num_agg2, test_cat_agg], axis=1).reset_index()\n",
    "    print(df.columns)\n",
    "    del test_num_agg, test_num_agg2, test_cat_agg\n",
    "    print('shape after engineering', df.shape )\n",
    "    \n",
    "    min_features = [col for col in df.columns if col.endswith(\"_min\")]\n",
    "    max_features = [col for col in df.columns if col.endswith(\"_max\")]\n",
    "    for mini, maxi in zip(min_features, max_features):\n",
    "        df.loc[:, maxi.replace(\"_max\", \"_range\")] = df[maxi] - df[mini]\n",
    "    \n",
    "    first_features = [col for col in df.columns if col.endswith(\"_first\")]\n",
    "    last_features = [col for col in df.columns if col.endswith(\"_last\")]\n",
    "    for first, last in zip(first_features, last_features):\n",
    "        df.loc[:, first.replace(\"_first\", \"_disp\")] = df[last] - df[first]\n",
    "        \n",
    "    mean_features = [col for col in df.columns if col.endswith(\"_mean\")]\n",
    "    std_features = [col for col in df.columns if col.endswith(\"_std\")]\n",
    "    for mean, std in zip(mean_features, std_features):\n",
    "        # CV stands for dispersion ratio => Coefficient of Variation\n",
    "        df.loc[:, mean.replace(\"_mean\", \"_cv\")] = df[std] / df[mean]\n",
    "    \n",
    "    range_features = [col for col in df.columns if col.endswith(\"_range\")]\n",
    "    for range_, std in zip(range_features, std_features):\n",
    "        # DR stands for dispersion ratio => Standard Deviation / Range\n",
    "        df.loc[:, range_.replace(\"_range\", \"_dr\")] = df[std] / df[range_]\n",
    "    return df"
   ]
  }
 ],
 "metadata": {
  "kernelspec": {
   "display_name": "amex",
   "language": "python",
   "name": "amex"
  },
  "language_info": {
   "codemirror_mode": {
    "name": "ipython",
    "version": 3
   },
   "file_extension": ".py",
   "mimetype": "text/x-python",
   "name": "python",
   "nbconvert_exporter": "python",
   "pygments_lexer": "ipython3",
   "version": "3.10.0"
  }
 },
 "nbformat": 4,
 "nbformat_minor": 5
}
