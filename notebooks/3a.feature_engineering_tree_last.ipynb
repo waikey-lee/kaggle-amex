{
 "cells": [
  {
   "cell_type": "code",
   "execution_count": 1,
   "id": "5dd2ca34-3410-4078-aa48-7adbba211ed5",
   "metadata": {},
   "outputs": [],
   "source": [
    "import datetime\n",
    "import gc\n",
    "import joblib\n",
    "import matplotlib.pyplot as plt\n",
    "import pandas as pd\n",
    "import numpy as np\n",
    "import os\n",
    "import scipy.stats\n",
    "import seaborn as sns\n",
    "import sys\n",
    "sys.path.append(\"../\")\n",
    "import time\n",
    "import warnings\n",
    "warnings.simplefilter(\"ignore\")\n",
    "from itertools import repeat\n",
    "from sklearn.preprocessing import StandardScaler\n",
    "from tqdm import tqdm"
   ]
  },
  {
   "cell_type": "code",
   "execution_count": 2,
   "id": "a084bef6-4434-40fb-bafc-d7d3e4c57a14",
   "metadata": {},
   "outputs": [],
   "source": [
    "from utils.common import (\n",
    "    sigmoid, pad_column_name\n",
    ")\n",
    "from utils.constants import (\n",
    "    RAW_DATA_PATH, PROCESSED_DATA_PATH\n",
    ")\n",
    "from utils.eval_helpers import (\n",
    "    plot_roc_curves, plot_feature_importance, \n",
    "    amex_metric, get_final_metric_df, amex_metric_np, lgb_amex_metric\n",
    ")\n",
    "from utils.eda_helpers import (\n",
    "    plot_missing_proportion_barchart, plot_heatmap,\n",
    "    get_cols, insert_row_number\n",
    ")\n",
    "from utils.extraction_helpers import read_file\n",
    "from utils.feature_group import (\n",
    "    CATEGORY_COLUMNS, CONTINUOUS_COLUMNS, NON_FEATURE_COLUMNS,\n",
    "    MEAN_FEATURES, MIN_FEATURES, MAX_FEATURES, LAST_FEATURES, FIRST_FEATURES,\n",
    "    RANGE_FEATURES, VELOCITY_FEATURES, SPEED_FEATURES\n",
    ")\n",
    "from utils.feature_engineering_helpers import (\n",
    "    feature_gen_pipeline,\n",
    "    filter_df_for_feature, \n",
    "    get_specific_row_df, \n",
    "    get_agg_df, get_ma_df\n",
    ")\n",
    "from utils.impute_helpers import impute_col"
   ]
  },
  {
   "cell_type": "code",
   "execution_count": 3,
   "id": "08cce559-a615-41c7-9d81-0a5e7b981931",
   "metadata": {
    "tags": []
   },
   "outputs": [],
   "source": [
    "RAW_DATA_PATH = \"../raw_data\"\n",
    "PROCESSED_DATA_PATH = \"../processed_data\"\n",
    "EVALUATION_DATA_PATH = \"../evaluation_data\"\n",
    "MODELS_PATH = \"../models\"\n",
    "EXP_PATH = \"../experiments\""
   ]
  },
  {
   "cell_type": "code",
   "execution_count": 4,
   "id": "79487a81-ce62-4847-974a-485a5ce1c515",
   "metadata": {},
   "outputs": [],
   "source": [
    "RAW_TRAIN_PICKLE_PATH = os.path.join(RAW_DATA_PATH, \"train_pickle\")\n",
    "RAW_TEST_PICKLE_PATH = os.path.join(RAW_DATA_PATH, \"test_pickle\")\n",
    "RAW_TRAIN_PARQUET_PATH = os.path.join(RAW_DATA_PATH, \"train_parquet\")"
   ]
  },
  {
   "cell_type": "code",
   "execution_count": 5,
   "id": "67194602-57fc-4e92-9801-8d600e52a5b2",
   "metadata": {},
   "outputs": [],
   "source": [
    "%load_ext autoreload\n",
    "%autoreload"
   ]
  },
  {
   "cell_type": "markdown",
   "id": "3885beac-e245-43b6-a2cc-73e9f871d132",
   "metadata": {},
   "source": [
    "## Feature Engineering on Train"
   ]
  },
  {
   "cell_type": "markdown",
   "id": "ec0628c2-ceae-4f54-99a3-08d5b55bebfa",
   "metadata": {},
   "source": [
    "### Read master data & train labels"
   ]
  },
  {
   "cell_type": "code",
   "execution_count": 6,
   "id": "6735831d-0024-4122-9c7b-1280e519d03e",
   "metadata": {},
   "outputs": [
    {
     "name": "stdout",
     "output_type": "stream",
     "text": [
      "Shape of data: (5531451, 189)\n",
      "Shape of data: (458913, 2)\n",
      "CPU times: user 5.68 s, sys: 4.61 s, total: 10.3 s\n",
      "Wall time: 5.89 s\n"
     ]
    }
   ],
   "source": [
    "%%time\n",
    "raw_train = read_file(f\"{RAW_TRAIN_PARQUET_PATH}/train_bdpsr.parquet\")\n",
    "labels = read_file(f\"{RAW_DATA_PATH}/train_labels.csv\")"
   ]
  },
  {
   "cell_type": "code",
   "execution_count": 8,
   "id": "27cde1f5-4719-4b7a-a35e-cdc4d05fd97b",
   "metadata": {},
   "outputs": [],
   "source": [
    "raw_train.loc[:, CATEGORY_COLUMNS] = raw_train.loc[:, CATEGORY_COLUMNS].astype(\"category\")"
   ]
  },
  {
   "cell_type": "code",
   "execution_count": 10,
   "id": "3f4722fe-58bd-4888-928b-6fa42129b783",
   "metadata": {},
   "outputs": [
    {
     "name": "stdout",
     "output_type": "stream",
     "text": [
      "Done insertion\n",
      "CPU times: user 10.7 s, sys: 177 ms, total: 10.9 s\n",
      "Wall time: 10.9 s\n"
     ]
    }
   ],
   "source": [
    "%%time\n",
    "insert_row_number(raw_train)"
   ]
  },
  {
   "cell_type": "code",
   "execution_count": 11,
   "id": "e784f3eb-ca6b-45ca-a6de-4fe554efc751",
   "metadata": {},
   "outputs": [],
   "source": [
    "# Get last value for all features\n",
    "last_df = filter_df_for_feature(\n",
    "    raw_train, \n",
    "    cond_col=\"row_number\", \n",
    "    equal_to=1, \n",
    "    rename_suffix=\"last\"\n",
    ")"
   ]
  },
  {
   "cell_type": "code",
   "execution_count": 12,
   "id": "0ed10f31-dbf0-4d5d-baee-265ba573622d",
   "metadata": {},
   "outputs": [
    {
     "data": {
      "text/html": [
       "<div>\n",
       "<style scoped>\n",
       "    .dataframe tbody tr th:only-of-type {\n",
       "        vertical-align: middle;\n",
       "    }\n",
       "\n",
       "    .dataframe tbody tr th {\n",
       "        vertical-align: top;\n",
       "    }\n",
       "\n",
       "    .dataframe thead th {\n",
       "        text-align: right;\n",
       "    }\n",
       "</style>\n",
       "<table border=\"1\" class=\"dataframe\">\n",
       "  <thead>\n",
       "    <tr style=\"text-align: right;\">\n",
       "      <th></th>\n",
       "      <th>P_2_last</th>\n",
       "      <th>D_39_last</th>\n",
       "      <th>B_1_last</th>\n",
       "      <th>B_2_last</th>\n",
       "      <th>R_1_last</th>\n",
       "      <th>S_3_last</th>\n",
       "      <th>D_41_last</th>\n",
       "      <th>B_3_last</th>\n",
       "      <th>D_42_last</th>\n",
       "      <th>D_43_last</th>\n",
       "      <th>...</th>\n",
       "      <th>D_136_last</th>\n",
       "      <th>D_137_last</th>\n",
       "      <th>D_138_last</th>\n",
       "      <th>D_139_last</th>\n",
       "      <th>D_140_last</th>\n",
       "      <th>D_141_last</th>\n",
       "      <th>D_142_last</th>\n",
       "      <th>D_143_last</th>\n",
       "      <th>D_144_last</th>\n",
       "      <th>D_145_last</th>\n",
       "    </tr>\n",
       "    <tr>\n",
       "      <th>customer_ID</th>\n",
       "      <th></th>\n",
       "      <th></th>\n",
       "      <th></th>\n",
       "      <th></th>\n",
       "      <th></th>\n",
       "      <th></th>\n",
       "      <th></th>\n",
       "      <th></th>\n",
       "      <th></th>\n",
       "      <th></th>\n",
       "      <th></th>\n",
       "      <th></th>\n",
       "      <th></th>\n",
       "      <th></th>\n",
       "      <th></th>\n",
       "      <th></th>\n",
       "      <th></th>\n",
       "      <th></th>\n",
       "      <th></th>\n",
       "      <th></th>\n",
       "      <th></th>\n",
       "    </tr>\n",
       "  </thead>\n",
       "  <tbody>\n",
       "    <tr>\n",
       "      <th>0000099d6bd597052cdcda90ffabf56573fe9d7c79be5fbac11a8ed792feb62a</th>\n",
       "      <td>0.934745</td>\n",
       "      <td>0</td>\n",
       "      <td>0.01</td>\n",
       "      <td>1.00</td>\n",
       "      <td>0.01</td>\n",
       "      <td>0.135</td>\n",
       "      <td>0.0</td>\n",
       "      <td>0.01</td>\n",
       "      <td>NaN</td>\n",
       "      <td>NaN</td>\n",
       "      <td>...</td>\n",
       "      <td>NaN</td>\n",
       "      <td>NaN</td>\n",
       "      <td>NaN</td>\n",
       "      <td>0.0</td>\n",
       "      <td>0.0</td>\n",
       "      <td>0.000000</td>\n",
       "      <td>NaN</td>\n",
       "      <td>0.0</td>\n",
       "      <td>0.1</td>\n",
       "      <td>0.0</td>\n",
       "    </tr>\n",
       "    <tr>\n",
       "      <th>00000fd6641609c6ece5454664794f0340ad84dddce9a267a310b5ae68e9d8e5</th>\n",
       "      <td>0.880519</td>\n",
       "      <td>6</td>\n",
       "      <td>0.03</td>\n",
       "      <td>1.00</td>\n",
       "      <td>0.01</td>\n",
       "      <td>0.166</td>\n",
       "      <td>0.0</td>\n",
       "      <td>0.01</td>\n",
       "      <td>NaN</td>\n",
       "      <td>0.061</td>\n",
       "      <td>...</td>\n",
       "      <td>NaN</td>\n",
       "      <td>NaN</td>\n",
       "      <td>NaN</td>\n",
       "      <td>0.0</td>\n",
       "      <td>0.0</td>\n",
       "      <td>0.000000</td>\n",
       "      <td>NaN</td>\n",
       "      <td>0.0</td>\n",
       "      <td>0.1</td>\n",
       "      <td>0.0</td>\n",
       "    </tr>\n",
       "    <tr>\n",
       "      <th>00001b22f846c82c51f6e3958ccd81970162bae8b007e80662ef27519fcc18c1</th>\n",
       "      <td>0.880875</td>\n",
       "      <td>0</td>\n",
       "      <td>0.00</td>\n",
       "      <td>0.81</td>\n",
       "      <td>0.01</td>\n",
       "      <td>NaN</td>\n",
       "      <td>0.0</td>\n",
       "      <td>0.01</td>\n",
       "      <td>NaN</td>\n",
       "      <td>NaN</td>\n",
       "      <td>...</td>\n",
       "      <td>NaN</td>\n",
       "      <td>NaN</td>\n",
       "      <td>NaN</td>\n",
       "      <td>0.0</td>\n",
       "      <td>0.0</td>\n",
       "      <td>0.000000</td>\n",
       "      <td>NaN</td>\n",
       "      <td>0.0</td>\n",
       "      <td>0.1</td>\n",
       "      <td>0.0</td>\n",
       "    </tr>\n",
       "    <tr>\n",
       "      <th>000041bdba6ecadd89a52d11886e8eaaec9325906c9723355abb5ca523658edc</th>\n",
       "      <td>0.621776</td>\n",
       "      <td>0</td>\n",
       "      <td>0.01</td>\n",
       "      <td>1.00</td>\n",
       "      <td>0.01</td>\n",
       "      <td>0.288</td>\n",
       "      <td>0.0</td>\n",
       "      <td>0.01</td>\n",
       "      <td>NaN</td>\n",
       "      <td>0.046</td>\n",
       "      <td>...</td>\n",
       "      <td>NaN</td>\n",
       "      <td>NaN</td>\n",
       "      <td>NaN</td>\n",
       "      <td>0.0</td>\n",
       "      <td>0.0</td>\n",
       "      <td>0.000000</td>\n",
       "      <td>NaN</td>\n",
       "      <td>0.0</td>\n",
       "      <td>0.1</td>\n",
       "      <td>0.0</td>\n",
       "    </tr>\n",
       "    <tr>\n",
       "      <th>00007889e4fcd2614b6cbe7f8f3d2e5c728eca32d9eb8ad51ca8b8c4a24cefed</th>\n",
       "      <td>0.871900</td>\n",
       "      <td>0</td>\n",
       "      <td>0.01</td>\n",
       "      <td>0.82</td>\n",
       "      <td>0.00</td>\n",
       "      <td>NaN</td>\n",
       "      <td>0.0</td>\n",
       "      <td>0.01</td>\n",
       "      <td>NaN</td>\n",
       "      <td>0.045</td>\n",
       "      <td>...</td>\n",
       "      <td>NaN</td>\n",
       "      <td>NaN</td>\n",
       "      <td>NaN</td>\n",
       "      <td>0.0</td>\n",
       "      <td>0.0</td>\n",
       "      <td>0.000000</td>\n",
       "      <td>NaN</td>\n",
       "      <td>0.0</td>\n",
       "      <td>0.1</td>\n",
       "      <td>0.0</td>\n",
       "    </tr>\n",
       "    <tr>\n",
       "      <th>...</th>\n",
       "      <td>...</td>\n",
       "      <td>...</td>\n",
       "      <td>...</td>\n",
       "      <td>...</td>\n",
       "      <td>...</td>\n",
       "      <td>...</td>\n",
       "      <td>...</td>\n",
       "      <td>...</td>\n",
       "      <td>...</td>\n",
       "      <td>...</td>\n",
       "      <td>...</td>\n",
       "      <td>...</td>\n",
       "      <td>...</td>\n",
       "      <td>...</td>\n",
       "      <td>...</td>\n",
       "      <td>...</td>\n",
       "      <td>...</td>\n",
       "      <td>...</td>\n",
       "      <td>...</td>\n",
       "      <td>...</td>\n",
       "      <td>...</td>\n",
       "    </tr>\n",
       "    <tr>\n",
       "      <th>ffff41c8a52833b56430603969b9ca48d208e7c192c6a4081a6acc28cf4f8af7</th>\n",
       "      <td>0.844229</td>\n",
       "      <td>15</td>\n",
       "      <td>0.03</td>\n",
       "      <td>1.00</td>\n",
       "      <td>0.00</td>\n",
       "      <td>0.129</td>\n",
       "      <td>0.0</td>\n",
       "      <td>0.01</td>\n",
       "      <td>NaN</td>\n",
       "      <td>0.113</td>\n",
       "      <td>...</td>\n",
       "      <td>NaN</td>\n",
       "      <td>NaN</td>\n",
       "      <td>NaN</td>\n",
       "      <td>0.0</td>\n",
       "      <td>0.0</td>\n",
       "      <td>0.000000</td>\n",
       "      <td>NaN</td>\n",
       "      <td>0.0</td>\n",
       "      <td>0.1</td>\n",
       "      <td>0.0</td>\n",
       "    </tr>\n",
       "    <tr>\n",
       "      <th>ffff518bb2075e4816ee3fe9f3b152c57fc0e6f01bf7fdd3e5b57cfcbee30286</th>\n",
       "      <td>0.831279</td>\n",
       "      <td>1</td>\n",
       "      <td>0.29</td>\n",
       "      <td>0.06</td>\n",
       "      <td>0.01</td>\n",
       "      <td>NaN</td>\n",
       "      <td>0.0</td>\n",
       "      <td>0.23</td>\n",
       "      <td>NaN</td>\n",
       "      <td>0.135</td>\n",
       "      <td>...</td>\n",
       "      <td>NaN</td>\n",
       "      <td>NaN</td>\n",
       "      <td>NaN</td>\n",
       "      <td>0.0</td>\n",
       "      <td>0.0</td>\n",
       "      <td>0.000000</td>\n",
       "      <td>NaN</td>\n",
       "      <td>0.0</td>\n",
       "      <td>0.1</td>\n",
       "      <td>0.0</td>\n",
       "    </tr>\n",
       "    <tr>\n",
       "      <th>ffff9984b999fccb2b6127635ed0736dda94e544e67e026eee4d20f680639ff6</th>\n",
       "      <td>0.800522</td>\n",
       "      <td>9</td>\n",
       "      <td>0.02</td>\n",
       "      <td>1.00</td>\n",
       "      <td>0.00</td>\n",
       "      <td>0.067</td>\n",
       "      <td>0.0</td>\n",
       "      <td>0.01</td>\n",
       "      <td>NaN</td>\n",
       "      <td>0.050</td>\n",
       "      <td>...</td>\n",
       "      <td>NaN</td>\n",
       "      <td>NaN</td>\n",
       "      <td>NaN</td>\n",
       "      <td>0.0</td>\n",
       "      <td>0.0</td>\n",
       "      <td>0.000000</td>\n",
       "      <td>NaN</td>\n",
       "      <td>0.0</td>\n",
       "      <td>0.1</td>\n",
       "      <td>0.0</td>\n",
       "    </tr>\n",
       "    <tr>\n",
       "      <th>ffffa5c46bc8de74f5a4554e74e239c8dee6b9baf388145b2c3d01967fcce461</th>\n",
       "      <td>0.754129</td>\n",
       "      <td>0</td>\n",
       "      <td>0.02</td>\n",
       "      <td>0.71</td>\n",
       "      <td>0.00</td>\n",
       "      <td>0.409</td>\n",
       "      <td>0.0</td>\n",
       "      <td>0.05</td>\n",
       "      <td>NaN</td>\n",
       "      <td>0.046</td>\n",
       "      <td>...</td>\n",
       "      <td>NaN</td>\n",
       "      <td>NaN</td>\n",
       "      <td>NaN</td>\n",
       "      <td>1.0</td>\n",
       "      <td>0.0</td>\n",
       "      <td>0.949723</td>\n",
       "      <td>0.45</td>\n",
       "      <td>1.0</td>\n",
       "      <td>0.1</td>\n",
       "      <td>2.0</td>\n",
       "    </tr>\n",
       "    <tr>\n",
       "      <th>fffff1d38b785cef84adeace64f8f83db3a0c31e8d92eaba8b115f71cab04681</th>\n",
       "      <td>0.982175</td>\n",
       "      <td>0</td>\n",
       "      <td>0.00</td>\n",
       "      <td>0.99</td>\n",
       "      <td>0.00</td>\n",
       "      <td>0.119</td>\n",
       "      <td>0.0</td>\n",
       "      <td>0.01</td>\n",
       "      <td>NaN</td>\n",
       "      <td>0.013</td>\n",
       "      <td>...</td>\n",
       "      <td>NaN</td>\n",
       "      <td>NaN</td>\n",
       "      <td>NaN</td>\n",
       "      <td>0.0</td>\n",
       "      <td>0.0</td>\n",
       "      <td>0.000000</td>\n",
       "      <td>NaN</td>\n",
       "      <td>0.0</td>\n",
       "      <td>0.1</td>\n",
       "      <td>0.0</td>\n",
       "    </tr>\n",
       "  </tbody>\n",
       "</table>\n",
       "<p>458913 rows × 186 columns</p>\n",
       "</div>"
      ],
      "text/plain": [
       "                                                    P_2_last  D_39_last  \\\n",
       "customer_ID                                                               \n",
       "0000099d6bd597052cdcda90ffabf56573fe9d7c79be5fb...  0.934745          0   \n",
       "00000fd6641609c6ece5454664794f0340ad84dddce9a26...  0.880519          6   \n",
       "00001b22f846c82c51f6e3958ccd81970162bae8b007e80...  0.880875          0   \n",
       "000041bdba6ecadd89a52d11886e8eaaec9325906c97233...  0.621776          0   \n",
       "00007889e4fcd2614b6cbe7f8f3d2e5c728eca32d9eb8ad...  0.871900          0   \n",
       "...                                                      ...        ...   \n",
       "ffff41c8a52833b56430603969b9ca48d208e7c192c6a40...  0.844229         15   \n",
       "ffff518bb2075e4816ee3fe9f3b152c57fc0e6f01bf7fdd...  0.831279          1   \n",
       "ffff9984b999fccb2b6127635ed0736dda94e544e67e026...  0.800522          9   \n",
       "ffffa5c46bc8de74f5a4554e74e239c8dee6b9baf388145...  0.754129          0   \n",
       "fffff1d38b785cef84adeace64f8f83db3a0c31e8d92eab...  0.982175          0   \n",
       "\n",
       "                                                    B_1_last  B_2_last  \\\n",
       "customer_ID                                                              \n",
       "0000099d6bd597052cdcda90ffabf56573fe9d7c79be5fb...      0.01      1.00   \n",
       "00000fd6641609c6ece5454664794f0340ad84dddce9a26...      0.03      1.00   \n",
       "00001b22f846c82c51f6e3958ccd81970162bae8b007e80...      0.00      0.81   \n",
       "000041bdba6ecadd89a52d11886e8eaaec9325906c97233...      0.01      1.00   \n",
       "00007889e4fcd2614b6cbe7f8f3d2e5c728eca32d9eb8ad...      0.01      0.82   \n",
       "...                                                      ...       ...   \n",
       "ffff41c8a52833b56430603969b9ca48d208e7c192c6a40...      0.03      1.00   \n",
       "ffff518bb2075e4816ee3fe9f3b152c57fc0e6f01bf7fdd...      0.29      0.06   \n",
       "ffff9984b999fccb2b6127635ed0736dda94e544e67e026...      0.02      1.00   \n",
       "ffffa5c46bc8de74f5a4554e74e239c8dee6b9baf388145...      0.02      0.71   \n",
       "fffff1d38b785cef84adeace64f8f83db3a0c31e8d92eab...      0.00      0.99   \n",
       "\n",
       "                                                    R_1_last  S_3_last  \\\n",
       "customer_ID                                                              \n",
       "0000099d6bd597052cdcda90ffabf56573fe9d7c79be5fb...      0.01     0.135   \n",
       "00000fd6641609c6ece5454664794f0340ad84dddce9a26...      0.01     0.166   \n",
       "00001b22f846c82c51f6e3958ccd81970162bae8b007e80...      0.01       NaN   \n",
       "000041bdba6ecadd89a52d11886e8eaaec9325906c97233...      0.01     0.288   \n",
       "00007889e4fcd2614b6cbe7f8f3d2e5c728eca32d9eb8ad...      0.00       NaN   \n",
       "...                                                      ...       ...   \n",
       "ffff41c8a52833b56430603969b9ca48d208e7c192c6a40...      0.00     0.129   \n",
       "ffff518bb2075e4816ee3fe9f3b152c57fc0e6f01bf7fdd...      0.01       NaN   \n",
       "ffff9984b999fccb2b6127635ed0736dda94e544e67e026...      0.00     0.067   \n",
       "ffffa5c46bc8de74f5a4554e74e239c8dee6b9baf388145...      0.00     0.409   \n",
       "fffff1d38b785cef84adeace64f8f83db3a0c31e8d92eab...      0.00     0.119   \n",
       "\n",
       "                                                    D_41_last  B_3_last  \\\n",
       "customer_ID                                                               \n",
       "0000099d6bd597052cdcda90ffabf56573fe9d7c79be5fb...        0.0      0.01   \n",
       "00000fd6641609c6ece5454664794f0340ad84dddce9a26...        0.0      0.01   \n",
       "00001b22f846c82c51f6e3958ccd81970162bae8b007e80...        0.0      0.01   \n",
       "000041bdba6ecadd89a52d11886e8eaaec9325906c97233...        0.0      0.01   \n",
       "00007889e4fcd2614b6cbe7f8f3d2e5c728eca32d9eb8ad...        0.0      0.01   \n",
       "...                                                       ...       ...   \n",
       "ffff41c8a52833b56430603969b9ca48d208e7c192c6a40...        0.0      0.01   \n",
       "ffff518bb2075e4816ee3fe9f3b152c57fc0e6f01bf7fdd...        0.0      0.23   \n",
       "ffff9984b999fccb2b6127635ed0736dda94e544e67e026...        0.0      0.01   \n",
       "ffffa5c46bc8de74f5a4554e74e239c8dee6b9baf388145...        0.0      0.05   \n",
       "fffff1d38b785cef84adeace64f8f83db3a0c31e8d92eab...        0.0      0.01   \n",
       "\n",
       "                                                    D_42_last  D_43_last  ...  \\\n",
       "customer_ID                                                               ...   \n",
       "0000099d6bd597052cdcda90ffabf56573fe9d7c79be5fb...        NaN        NaN  ...   \n",
       "00000fd6641609c6ece5454664794f0340ad84dddce9a26...        NaN      0.061  ...   \n",
       "00001b22f846c82c51f6e3958ccd81970162bae8b007e80...        NaN        NaN  ...   \n",
       "000041bdba6ecadd89a52d11886e8eaaec9325906c97233...        NaN      0.046  ...   \n",
       "00007889e4fcd2614b6cbe7f8f3d2e5c728eca32d9eb8ad...        NaN      0.045  ...   \n",
       "...                                                       ...        ...  ...   \n",
       "ffff41c8a52833b56430603969b9ca48d208e7c192c6a40...        NaN      0.113  ...   \n",
       "ffff518bb2075e4816ee3fe9f3b152c57fc0e6f01bf7fdd...        NaN      0.135  ...   \n",
       "ffff9984b999fccb2b6127635ed0736dda94e544e67e026...        NaN      0.050  ...   \n",
       "ffffa5c46bc8de74f5a4554e74e239c8dee6b9baf388145...        NaN      0.046  ...   \n",
       "fffff1d38b785cef84adeace64f8f83db3a0c31e8d92eab...        NaN      0.013  ...   \n",
       "\n",
       "                                                    D_136_last  D_137_last  \\\n",
       "customer_ID                                                                  \n",
       "0000099d6bd597052cdcda90ffabf56573fe9d7c79be5fb...         NaN         NaN   \n",
       "00000fd6641609c6ece5454664794f0340ad84dddce9a26...         NaN         NaN   \n",
       "00001b22f846c82c51f6e3958ccd81970162bae8b007e80...         NaN         NaN   \n",
       "000041bdba6ecadd89a52d11886e8eaaec9325906c97233...         NaN         NaN   \n",
       "00007889e4fcd2614b6cbe7f8f3d2e5c728eca32d9eb8ad...         NaN         NaN   \n",
       "...                                                        ...         ...   \n",
       "ffff41c8a52833b56430603969b9ca48d208e7c192c6a40...         NaN         NaN   \n",
       "ffff518bb2075e4816ee3fe9f3b152c57fc0e6f01bf7fdd...         NaN         NaN   \n",
       "ffff9984b999fccb2b6127635ed0736dda94e544e67e026...         NaN         NaN   \n",
       "ffffa5c46bc8de74f5a4554e74e239c8dee6b9baf388145...         NaN         NaN   \n",
       "fffff1d38b785cef84adeace64f8f83db3a0c31e8d92eab...         NaN         NaN   \n",
       "\n",
       "                                                    D_138_last  D_139_last  \\\n",
       "customer_ID                                                                  \n",
       "0000099d6bd597052cdcda90ffabf56573fe9d7c79be5fb...         NaN         0.0   \n",
       "00000fd6641609c6ece5454664794f0340ad84dddce9a26...         NaN         0.0   \n",
       "00001b22f846c82c51f6e3958ccd81970162bae8b007e80...         NaN         0.0   \n",
       "000041bdba6ecadd89a52d11886e8eaaec9325906c97233...         NaN         0.0   \n",
       "00007889e4fcd2614b6cbe7f8f3d2e5c728eca32d9eb8ad...         NaN         0.0   \n",
       "...                                                        ...         ...   \n",
       "ffff41c8a52833b56430603969b9ca48d208e7c192c6a40...         NaN         0.0   \n",
       "ffff518bb2075e4816ee3fe9f3b152c57fc0e6f01bf7fdd...         NaN         0.0   \n",
       "ffff9984b999fccb2b6127635ed0736dda94e544e67e026...         NaN         0.0   \n",
       "ffffa5c46bc8de74f5a4554e74e239c8dee6b9baf388145...         NaN         1.0   \n",
       "fffff1d38b785cef84adeace64f8f83db3a0c31e8d92eab...         NaN         0.0   \n",
       "\n",
       "                                                    D_140_last  D_141_last  \\\n",
       "customer_ID                                                                  \n",
       "0000099d6bd597052cdcda90ffabf56573fe9d7c79be5fb...         0.0    0.000000   \n",
       "00000fd6641609c6ece5454664794f0340ad84dddce9a26...         0.0    0.000000   \n",
       "00001b22f846c82c51f6e3958ccd81970162bae8b007e80...         0.0    0.000000   \n",
       "000041bdba6ecadd89a52d11886e8eaaec9325906c97233...         0.0    0.000000   \n",
       "00007889e4fcd2614b6cbe7f8f3d2e5c728eca32d9eb8ad...         0.0    0.000000   \n",
       "...                                                        ...         ...   \n",
       "ffff41c8a52833b56430603969b9ca48d208e7c192c6a40...         0.0    0.000000   \n",
       "ffff518bb2075e4816ee3fe9f3b152c57fc0e6f01bf7fdd...         0.0    0.000000   \n",
       "ffff9984b999fccb2b6127635ed0736dda94e544e67e026...         0.0    0.000000   \n",
       "ffffa5c46bc8de74f5a4554e74e239c8dee6b9baf388145...         0.0    0.949723   \n",
       "fffff1d38b785cef84adeace64f8f83db3a0c31e8d92eab...         0.0    0.000000   \n",
       "\n",
       "                                                    D_142_last  D_143_last  \\\n",
       "customer_ID                                                                  \n",
       "0000099d6bd597052cdcda90ffabf56573fe9d7c79be5fb...         NaN         0.0   \n",
       "00000fd6641609c6ece5454664794f0340ad84dddce9a26...         NaN         0.0   \n",
       "00001b22f846c82c51f6e3958ccd81970162bae8b007e80...         NaN         0.0   \n",
       "000041bdba6ecadd89a52d11886e8eaaec9325906c97233...         NaN         0.0   \n",
       "00007889e4fcd2614b6cbe7f8f3d2e5c728eca32d9eb8ad...         NaN         0.0   \n",
       "...                                                        ...         ...   \n",
       "ffff41c8a52833b56430603969b9ca48d208e7c192c6a40...         NaN         0.0   \n",
       "ffff518bb2075e4816ee3fe9f3b152c57fc0e6f01bf7fdd...         NaN         0.0   \n",
       "ffff9984b999fccb2b6127635ed0736dda94e544e67e026...         NaN         0.0   \n",
       "ffffa5c46bc8de74f5a4554e74e239c8dee6b9baf388145...        0.45         1.0   \n",
       "fffff1d38b785cef84adeace64f8f83db3a0c31e8d92eab...         NaN         0.0   \n",
       "\n",
       "                                                    D_144_last  D_145_last  \n",
       "customer_ID                                                                 \n",
       "0000099d6bd597052cdcda90ffabf56573fe9d7c79be5fb...         0.1         0.0  \n",
       "00000fd6641609c6ece5454664794f0340ad84dddce9a26...         0.1         0.0  \n",
       "00001b22f846c82c51f6e3958ccd81970162bae8b007e80...         0.1         0.0  \n",
       "000041bdba6ecadd89a52d11886e8eaaec9325906c97233...         0.1         0.0  \n",
       "00007889e4fcd2614b6cbe7f8f3d2e5c728eca32d9eb8ad...         0.1         0.0  \n",
       "...                                                        ...         ...  \n",
       "ffff41c8a52833b56430603969b9ca48d208e7c192c6a40...         0.1         0.0  \n",
       "ffff518bb2075e4816ee3fe9f3b152c57fc0e6f01bf7fdd...         0.1         0.0  \n",
       "ffff9984b999fccb2b6127635ed0736dda94e544e67e026...         0.1         0.0  \n",
       "ffffa5c46bc8de74f5a4554e74e239c8dee6b9baf388145...         0.1         2.0  \n",
       "fffff1d38b785cef84adeace64f8f83db3a0c31e8d92eab...         0.1         0.0  \n",
       "\n",
       "[458913 rows x 186 columns]"
      ]
     },
     "execution_count": 12,
     "metadata": {},
     "output_type": "execute_result"
    }
   ],
   "source": [
    "last_df"
   ]
  },
  {
   "cell_type": "code",
   "execution_count": 20,
   "id": "4741524f-ec59-457f-8d3e-53ac8d519d4d",
   "metadata": {},
   "outputs": [],
   "source": [
    "corr_df = last_df.corr()"
   ]
  },
  {
   "cell_type": "code",
   "execution_count": 31,
   "id": "7b23b101-9ca0-48ce-94c8-cc73f62def0a",
   "metadata": {},
   "outputs": [],
   "source": [
    "increase = [\"B_1\", \"B_3\", \"B_4\", \"B_7\", \"B_9\", \"B_11\", \"B_16\", \n",
    "            \"B_20\", \"B_21\", \"B_23\", \"B_24\", \"B_28\", \"B_29\", \"B_40\", \"B_41\", \n",
    "            \"D_39\", \"D_41\", \"D_42\", \"D_43\", \"D_48\", \"D_53\", \"D_55\", \"D_58\", \"D_59\", \n",
    "            \"D_61\", \"D_72\", \"D_111\", \"D_113\", \"D_124\", \"D_136\", \"D_145\", \n",
    "            \"S_3\", \"S_7\", \"S_9\", \"R_1\", \"R_11\"]"
   ]
  },
  {
   "cell_type": "code",
   "execution_count": 32,
   "id": "f79a7e20-0ccc-41b7-8b29-e2701b477109",
   "metadata": {},
   "outputs": [],
   "source": [
    "decrease = [\"B_2\", \"B_6\", \"B_10\", \"B_18\", \"B_42\", \n",
    "            \"D_47\", \"D_50\", \"D_51\", \"D_54\", \"D_56\", \"D_62\", \"D_76\", \"D_77\", \"D_91\", \n",
    "            \"D_112\", \"D_115\", \"D_132\", \"P_2\", \"P_3\"]"
   ]
  },
  {
   "cell_type": "code",
   "execution_count": 33,
   "id": "52980c52-628d-4c01-a866-71ef314c9426",
   "metadata": {},
   "outputs": [],
   "source": [
    "increase_bin = [\"B_8\", \"B_32\", \"B_36\", \"D_103\", \"D_116\", \"D_120\", \"D_130\", \"D_135\", \n",
    "                \"D_137\", \"D_139\", \"D_140\", \"D_143\", \"S_20\", \"S_26\", \"R_2\", \"R_4\", \n",
    "                \"R_7\", \"R_15\", \"R_19\", \"R_21\", \"R_22\", \"R_23\", \"R_24\", \"R_25\", \"R_28\"]"
   ]
  },
  {
   "cell_type": "code",
   "execution_count": 34,
   "id": "ab486728-4757-461d-bae4-b05f5bacb43b",
   "metadata": {},
   "outputs": [],
   "source": [
    "decrease_bin = [\"B_31\", \"B_33\", \"D_66\", \"D_86\", \"D_93\", \"D_94\", \"D_96\", \"D_109\", \"D_114\", \n",
    "                \"D_127\", \"D_128\", \"D_129\", \"S_6\", \"S_18\", \"R_12\"]"
   ]
  },
  {
   "cell_type": "code",
   "execution_count": 35,
   "id": "bbd8515a-4cf9-4b37-984e-c27d8b82683b",
   "metadata": {},
   "outputs": [
    {
     "data": {
      "text/plain": [
       "(36, 19)"
      ]
     },
     "execution_count": 35,
     "metadata": {},
     "output_type": "execute_result"
    }
   ],
   "source": [
    "len(increase), len(decrease)"
   ]
  },
  {
   "cell_type": "code",
   "execution_count": 36,
   "id": "1c4fc782-cd8c-4eb2-a1d2-3c01ca073658",
   "metadata": {},
   "outputs": [],
   "source": [
    "from itertools import product"
   ]
  },
  {
   "cell_type": "code",
   "execution_count": 37,
   "id": "c4f88a47-072c-4232-ace1-f11844f06600",
   "metadata": {},
   "outputs": [
    {
     "name": "stderr",
     "output_type": "stream",
     "text": [
      "684it [00:01, 657.29it/s] \n"
     ]
    }
   ],
   "source": [
    "for i, d in tqdm(product(increase, decrease)):\n",
    "    last_df[f\"{i}_{d}_ratio\"] = last_df[f\"{i}_last\"] / last_df[f\"{d}_last\"]"
   ]
  },
  {
   "cell_type": "code",
   "execution_count": 38,
   "id": "d13e8aa6-2a43-4634-9845-65c06e43fc96",
   "metadata": {},
   "outputs": [],
   "source": [
    "last_df[\"target\"] = labels[\"target\"].values\n"
   ]
  },
  {
   "cell_type": "code",
   "execution_count": 39,
   "id": "cce6fc84-7259-40d6-b99c-426c223b9288",
   "metadata": {},
   "outputs": [
    {
     "data": {
      "text/plain": [
       "2.094481072"
      ]
     },
     "execution_count": 39,
     "metadata": {},
     "output_type": "execute_result"
    }
   ],
   "source": [
    "sys.getsizeof(last_df) / 1e9"
   ]
  },
  {
   "cell_type": "code",
   "execution_count": 40,
   "id": "bd4003b1-aa71-4f7a-ab32-36c241b266db",
   "metadata": {},
   "outputs": [
    {
     "data": {
      "text/plain": [
       "(458913, 871)"
      ]
     },
     "execution_count": 40,
     "metadata": {},
     "output_type": "execute_result"
    }
   ],
   "source": [
    "last_df.shape"
   ]
  },
  {
   "cell_type": "code",
   "execution_count": 41,
   "id": "859a027e-a673-41af-8271-584f1aa52441",
   "metadata": {},
   "outputs": [],
   "source": [
    "last_df.to_pickle(f\"{PROCESSED_DATA_PATH}/train_last.pkl\")"
   ]
  },
  {
   "cell_type": "code",
   "execution_count": null,
   "id": "3d110ffc-9f60-41f3-9fd8-c3fc48706d67",
   "metadata": {},
   "outputs": [],
   "source": []
  },
  {
   "cell_type": "code",
   "execution_count": null,
   "id": "b55b3d80-181a-498a-bf11-7d1ee777e4c0",
   "metadata": {},
   "outputs": [],
   "source": []
  },
  {
   "cell_type": "code",
   "execution_count": null,
   "id": "dcb3896e-79a0-4a68-bece-9d3e98e2eb61",
   "metadata": {},
   "outputs": [],
   "source": []
  },
  {
   "cell_type": "code",
   "execution_count": null,
   "id": "58144a4f-37ff-427c-acfb-521d7c6c8e72",
   "metadata": {},
   "outputs": [],
   "source": []
  },
  {
   "cell_type": "markdown",
   "id": "6144bc52-209b-4c69-8c6b-7b9d9c542413",
   "metadata": {},
   "source": [
    "### Feature Engineering on Test"
   ]
  },
  {
   "cell_type": "code",
   "execution_count": 6,
   "id": "41150f31-a76e-4761-829a-1ad63241e626",
   "metadata": {},
   "outputs": [
    {
     "name": "stdout",
     "output_type": "stream",
     "text": [
      "Shape of data: (11363762, 192)\n",
      "CPU times: user 3.45 s, sys: 4.06 s, total: 7.51 s\n",
      "Wall time: 10.1 s\n"
     ]
    }
   ],
   "source": [
    "%%time\n",
    "raw_test = read_file(f\"{RAW_TEST_PICKLE_PATH}/raw_test_data.pkl\")"
   ]
  },
  {
   "cell_type": "code",
   "execution_count": 7,
   "id": "f7408b7b-908a-488d-8642-e8dbf984c945",
   "metadata": {},
   "outputs": [
    {
     "name": "stdout",
     "output_type": "stream",
     "text": [
      "Average done\n",
      "Minimum done\n",
      "Maximum done\n",
      "Standard Deviation done\n",
      "CPU times: user 1min 25s, sys: 25.5 s, total: 1min 50s\n",
      "Wall time: 2min 4s\n"
     ]
    }
   ],
   "source": [
    "%%time\n",
    "test_agg = get_agg_df(raw_test)"
   ]
  },
  {
   "cell_type": "code",
   "execution_count": 8,
   "id": "bef5def4-b6a5-447e-aff5-a8b098baec34",
   "metadata": {},
   "outputs": [
    {
     "name": "stdout",
     "output_type": "stream",
     "text": [
      "CPU times: user 348 ms, sys: 2.15 s, total: 2.5 s\n",
      "Wall time: 5.78 s\n"
     ]
    }
   ],
   "source": [
    "%%time\n",
    "test_agg[\"num_statements\"] = (\n",
    "    raw_test.loc[raw_test[\"row_number\"] == 1][[\"row_number\", \"row_number_inv\"]].sum(axis=1) - 1\n",
    ").reset_index(drop=True).values"
   ]
  },
  {
   "cell_type": "code",
   "execution_count": 9,
   "id": "22a374ae-a665-40e5-939c-c232bc806da3",
   "metadata": {},
   "outputs": [
    {
     "data": {
      "text/html": [
       "<div>\n",
       "<style scoped>\n",
       "    .dataframe tbody tr th:only-of-type {\n",
       "        vertical-align: middle;\n",
       "    }\n",
       "\n",
       "    .dataframe tbody tr th {\n",
       "        vertical-align: top;\n",
       "    }\n",
       "\n",
       "    .dataframe thead th {\n",
       "        text-align: right;\n",
       "    }\n",
       "</style>\n",
       "<table border=\"1\" class=\"dataframe\">\n",
       "  <thead>\n",
       "    <tr style=\"text-align: right;\">\n",
       "      <th></th>\n",
       "      <th>D_61_avg</th>\n",
       "      <th>D_139_avg</th>\n",
       "      <th>S_18_avg</th>\n",
       "      <th>D_75_avg</th>\n",
       "      <th>D_141_avg</th>\n",
       "      <th>D_145_avg</th>\n",
       "      <th>D_138_avg</th>\n",
       "      <th>D_96_avg</th>\n",
       "      <th>B_29_avg</th>\n",
       "      <th>B_28_avg</th>\n",
       "      <th>...</th>\n",
       "      <th>B_31_std</th>\n",
       "      <th>B_36_std</th>\n",
       "      <th>D_131_std</th>\n",
       "      <th>R_18_std</th>\n",
       "      <th>D_42_std</th>\n",
       "      <th>D_91_std</th>\n",
       "      <th>R_28_std</th>\n",
       "      <th>S_5_std</th>\n",
       "      <th>B_23_std</th>\n",
       "      <th>num_statements</th>\n",
       "    </tr>\n",
       "    <tr>\n",
       "      <th>customer_ID</th>\n",
       "      <th></th>\n",
       "      <th></th>\n",
       "      <th></th>\n",
       "      <th></th>\n",
       "      <th></th>\n",
       "      <th></th>\n",
       "      <th></th>\n",
       "      <th></th>\n",
       "      <th></th>\n",
       "      <th></th>\n",
       "      <th></th>\n",
       "      <th></th>\n",
       "      <th></th>\n",
       "      <th></th>\n",
       "      <th></th>\n",
       "      <th></th>\n",
       "      <th></th>\n",
       "      <th></th>\n",
       "      <th></th>\n",
       "      <th></th>\n",
       "      <th></th>\n",
       "    </tr>\n",
       "  </thead>\n",
       "  <tbody>\n",
       "    <tr>\n",
       "      <th>00000469ba478561f23a92a868bd366de6f6527a684c9a2e78fb826dcac3b9b7</th>\n",
       "      <td>0.597552</td>\n",
       "      <td>0.0</td>\n",
       "      <td>0.0</td>\n",
       "      <td>3.000000</td>\n",
       "      <td>0.000000</td>\n",
       "      <td>0.0</td>\n",
       "      <td>NaN</td>\n",
       "      <td>0.000000</td>\n",
       "      <td>0.003894</td>\n",
       "      <td>0.145220</td>\n",
       "      <td>...</td>\n",
       "      <td>0.0</td>\n",
       "      <td>0.0</td>\n",
       "      <td>0.0</td>\n",
       "      <td>0.0</td>\n",
       "      <td>0.006688</td>\n",
       "      <td>0.000000</td>\n",
       "      <td>0.0</td>\n",
       "      <td>0.003650</td>\n",
       "      <td>0.331327</td>\n",
       "      <td>9</td>\n",
       "    </tr>\n",
       "    <tr>\n",
       "      <th>00001bf2e77ff879fab36aa4fac689b9ba411dae63ae397d4263dafa1daedef5</th>\n",
       "      <td>0.070053</td>\n",
       "      <td>0.0</td>\n",
       "      <td>0.0</td>\n",
       "      <td>0.000000</td>\n",
       "      <td>0.000000</td>\n",
       "      <td>0.0</td>\n",
       "      <td>NaN</td>\n",
       "      <td>0.461538</td>\n",
       "      <td>NaN</td>\n",
       "      <td>0.033780</td>\n",
       "      <td>...</td>\n",
       "      <td>0.0</td>\n",
       "      <td>0.0</td>\n",
       "      <td>0.0</td>\n",
       "      <td>0.0</td>\n",
       "      <td>NaN</td>\n",
       "      <td>0.518875</td>\n",
       "      <td>0.0</td>\n",
       "      <td>0.016564</td>\n",
       "      <td>0.016254</td>\n",
       "      <td>13</td>\n",
       "    </tr>\n",
       "    <tr>\n",
       "      <th>0000210045da4f81e5f122c6bde5c2a617d03eef67f82c5e400fc98e7bd43ce8</th>\n",
       "      <td>0.317425</td>\n",
       "      <td>1.0</td>\n",
       "      <td>0.0</td>\n",
       "      <td>0.615385</td>\n",
       "      <td>0.887847</td>\n",
       "      <td>1.0</td>\n",
       "      <td>NaN</td>\n",
       "      <td>0.000000</td>\n",
       "      <td>0.002994</td>\n",
       "      <td>0.147394</td>\n",
       "      <td>...</td>\n",
       "      <td>0.0</td>\n",
       "      <td>0.0</td>\n",
       "      <td>0.0</td>\n",
       "      <td>0.0</td>\n",
       "      <td>NaN</td>\n",
       "      <td>0.000000</td>\n",
       "      <td>0.0</td>\n",
       "      <td>0.009604</td>\n",
       "      <td>0.032960</td>\n",
       "      <td>13</td>\n",
       "    </tr>\n",
       "  </tbody>\n",
       "</table>\n",
       "<p>3 rows × 717 columns</p>\n",
       "</div>"
      ],
      "text/plain": [
       "                                                    D_61_avg  D_139_avg  \\\n",
       "customer_ID                                                               \n",
       "00000469ba478561f23a92a868bd366de6f6527a684c9a2...  0.597552        0.0   \n",
       "00001bf2e77ff879fab36aa4fac689b9ba411dae63ae397...  0.070053        0.0   \n",
       "0000210045da4f81e5f122c6bde5c2a617d03eef67f82c5...  0.317425        1.0   \n",
       "\n",
       "                                                    S_18_avg  D_75_avg  \\\n",
       "customer_ID                                                              \n",
       "00000469ba478561f23a92a868bd366de6f6527a684c9a2...       0.0  3.000000   \n",
       "00001bf2e77ff879fab36aa4fac689b9ba411dae63ae397...       0.0  0.000000   \n",
       "0000210045da4f81e5f122c6bde5c2a617d03eef67f82c5...       0.0  0.615385   \n",
       "\n",
       "                                                    D_141_avg  D_145_avg  \\\n",
       "customer_ID                                                                \n",
       "00000469ba478561f23a92a868bd366de6f6527a684c9a2...   0.000000        0.0   \n",
       "00001bf2e77ff879fab36aa4fac689b9ba411dae63ae397...   0.000000        0.0   \n",
       "0000210045da4f81e5f122c6bde5c2a617d03eef67f82c5...   0.887847        1.0   \n",
       "\n",
       "                                                    D_138_avg  D_96_avg  \\\n",
       "customer_ID                                                               \n",
       "00000469ba478561f23a92a868bd366de6f6527a684c9a2...        NaN  0.000000   \n",
       "00001bf2e77ff879fab36aa4fac689b9ba411dae63ae397...        NaN  0.461538   \n",
       "0000210045da4f81e5f122c6bde5c2a617d03eef67f82c5...        NaN  0.000000   \n",
       "\n",
       "                                                    B_29_avg  B_28_avg  ...  \\\n",
       "customer_ID                                                             ...   \n",
       "00000469ba478561f23a92a868bd366de6f6527a684c9a2...  0.003894  0.145220  ...   \n",
       "00001bf2e77ff879fab36aa4fac689b9ba411dae63ae397...       NaN  0.033780  ...   \n",
       "0000210045da4f81e5f122c6bde5c2a617d03eef67f82c5...  0.002994  0.147394  ...   \n",
       "\n",
       "                                                    B_31_std  B_36_std  \\\n",
       "customer_ID                                                              \n",
       "00000469ba478561f23a92a868bd366de6f6527a684c9a2...       0.0       0.0   \n",
       "00001bf2e77ff879fab36aa4fac689b9ba411dae63ae397...       0.0       0.0   \n",
       "0000210045da4f81e5f122c6bde5c2a617d03eef67f82c5...       0.0       0.0   \n",
       "\n",
       "                                                    D_131_std  R_18_std  \\\n",
       "customer_ID                                                               \n",
       "00000469ba478561f23a92a868bd366de6f6527a684c9a2...        0.0       0.0   \n",
       "00001bf2e77ff879fab36aa4fac689b9ba411dae63ae397...        0.0       0.0   \n",
       "0000210045da4f81e5f122c6bde5c2a617d03eef67f82c5...        0.0       0.0   \n",
       "\n",
       "                                                    D_42_std  D_91_std  \\\n",
       "customer_ID                                                              \n",
       "00000469ba478561f23a92a868bd366de6f6527a684c9a2...  0.006688  0.000000   \n",
       "00001bf2e77ff879fab36aa4fac689b9ba411dae63ae397...       NaN  0.518875   \n",
       "0000210045da4f81e5f122c6bde5c2a617d03eef67f82c5...       NaN  0.000000   \n",
       "\n",
       "                                                    R_28_std   S_5_std  \\\n",
       "customer_ID                                                              \n",
       "00000469ba478561f23a92a868bd366de6f6527a684c9a2...       0.0  0.003650   \n",
       "00001bf2e77ff879fab36aa4fac689b9ba411dae63ae397...       0.0  0.016564   \n",
       "0000210045da4f81e5f122c6bde5c2a617d03eef67f82c5...       0.0  0.009604   \n",
       "\n",
       "                                                    B_23_std  num_statements  \n",
       "customer_ID                                                                   \n",
       "00000469ba478561f23a92a868bd366de6f6527a684c9a2...  0.331327               9  \n",
       "00001bf2e77ff879fab36aa4fac689b9ba411dae63ae397...  0.016254              13  \n",
       "0000210045da4f81e5f122c6bde5c2a617d03eef67f82c5...  0.032960              13  \n",
       "\n",
       "[3 rows x 717 columns]"
      ]
     },
     "execution_count": 9,
     "metadata": {},
     "output_type": "execute_result"
    }
   ],
   "source": [
    "test_agg.head(3)"
   ]
  },
  {
   "cell_type": "code",
   "execution_count": 10,
   "id": "c7354961-d4f9-4fd7-9d4a-a973bbdfbf71",
   "metadata": {},
   "outputs": [
    {
     "data": {
      "text/plain": [
       "(924621, 717)"
      ]
     },
     "execution_count": 10,
     "metadata": {},
     "output_type": "execute_result"
    }
   ],
   "source": [
    "test_agg.shape"
   ]
  },
  {
   "cell_type": "code",
   "execution_count": 11,
   "id": "7c96ab91-e131-4554-8ead-0563cae7335b",
   "metadata": {},
   "outputs": [
    {
     "name": "stdout",
     "output_type": "stream",
     "text": [
      "Last entry done\n",
      "First entry done\n",
      "Second last entry done\n",
      "Third last entry done\n",
      "CPU times: user 4.97 s, sys: 12.4 s, total: 17.4 s\n",
      "Wall time: 26 s\n"
     ]
    }
   ],
   "source": [
    "%%time\n",
    "test_last_etc = get_specific_row_df(raw_test)"
   ]
  },
  {
   "cell_type": "code",
   "execution_count": 12,
   "id": "8246fce1-b77c-4303-919b-adaf56542f0e",
   "metadata": {},
   "outputs": [
    {
     "data": {
      "text/html": [
       "<div>\n",
       "<style scoped>\n",
       "    .dataframe tbody tr th:only-of-type {\n",
       "        vertical-align: middle;\n",
       "    }\n",
       "\n",
       "    .dataframe tbody tr th {\n",
       "        vertical-align: top;\n",
       "    }\n",
       "\n",
       "    .dataframe thead th {\n",
       "        text-align: right;\n",
       "    }\n",
       "</style>\n",
       "<table border=\"1\" class=\"dataframe\">\n",
       "  <thead>\n",
       "    <tr style=\"text-align: right;\">\n",
       "      <th></th>\n",
       "      <th>P_2_last</th>\n",
       "      <th>D_39_last</th>\n",
       "      <th>B_1_last</th>\n",
       "      <th>B_2_last</th>\n",
       "      <th>R_1_last</th>\n",
       "      <th>S_3_last</th>\n",
       "      <th>D_41_last</th>\n",
       "      <th>B_3_last</th>\n",
       "      <th>D_42_last</th>\n",
       "      <th>D_43_last</th>\n",
       "      <th>...</th>\n",
       "      <th>D_136_first</th>\n",
       "      <th>D_137_first</th>\n",
       "      <th>D_138_first</th>\n",
       "      <th>D_139_first</th>\n",
       "      <th>D_140_first</th>\n",
       "      <th>D_141_first</th>\n",
       "      <th>D_142_first</th>\n",
       "      <th>D_143_first</th>\n",
       "      <th>D_144_first</th>\n",
       "      <th>D_145_first</th>\n",
       "    </tr>\n",
       "    <tr>\n",
       "      <th>customer_ID</th>\n",
       "      <th></th>\n",
       "      <th></th>\n",
       "      <th></th>\n",
       "      <th></th>\n",
       "      <th></th>\n",
       "      <th></th>\n",
       "      <th></th>\n",
       "      <th></th>\n",
       "      <th></th>\n",
       "      <th></th>\n",
       "      <th></th>\n",
       "      <th></th>\n",
       "      <th></th>\n",
       "      <th></th>\n",
       "      <th></th>\n",
       "      <th></th>\n",
       "      <th></th>\n",
       "      <th></th>\n",
       "      <th></th>\n",
       "      <th></th>\n",
       "      <th></th>\n",
       "    </tr>\n",
       "  </thead>\n",
       "  <tbody>\n",
       "    <tr>\n",
       "      <th>00000469ba478561f23a92a868bd366de6f6527a684c9a2e78fb826dcac3b9b7</th>\n",
       "      <td>0.568930</td>\n",
       "      <td>4</td>\n",
       "      <td>0.010779</td>\n",
       "      <td>1.009347</td>\n",
       "      <td>0</td>\n",
       "      <td>0.149413</td>\n",
       "      <td>0.0</td>\n",
       "      <td>0.003576</td>\n",
       "      <td>0.103745</td>\n",
       "      <td>0.007398</td>\n",
       "      <td>...</td>\n",
       "      <td>NaN</td>\n",
       "      <td>NaN</td>\n",
       "      <td>NaN</td>\n",
       "      <td>NaN</td>\n",
       "      <td>0.0</td>\n",
       "      <td>NaN</td>\n",
       "      <td>NaN</td>\n",
       "      <td>NaN</td>\n",
       "      <td>0.008281</td>\n",
       "      <td>NaN</td>\n",
       "    </tr>\n",
       "    <tr>\n",
       "      <th>00001bf2e77ff879fab36aa4fac689b9ba411dae63ae397d4263dafa1daedef5</th>\n",
       "      <td>0.841177</td>\n",
       "      <td>4</td>\n",
       "      <td>0.016562</td>\n",
       "      <td>1.009245</td>\n",
       "      <td>0</td>\n",
       "      <td>0.112195</td>\n",
       "      <td>0.0</td>\n",
       "      <td>0.011386</td>\n",
       "      <td>NaN</td>\n",
       "      <td>NaN</td>\n",
       "      <td>...</td>\n",
       "      <td>NaN</td>\n",
       "      <td>NaN</td>\n",
       "      <td>NaN</td>\n",
       "      <td>0.0</td>\n",
       "      <td>0.0</td>\n",
       "      <td>0.000000</td>\n",
       "      <td>NaN</td>\n",
       "      <td>0.0</td>\n",
       "      <td>0.008436</td>\n",
       "      <td>0.0</td>\n",
       "    </tr>\n",
       "    <tr>\n",
       "      <th>0000210045da4f81e5f122c6bde5c2a617d03eef67f82c5e400fc98e7bd43ce8</th>\n",
       "      <td>0.697522</td>\n",
       "      <td>0</td>\n",
       "      <td>0.001484</td>\n",
       "      <td>0.810072</td>\n",
       "      <td>0</td>\n",
       "      <td>0.166165</td>\n",
       "      <td>0.0</td>\n",
       "      <td>0.015938</td>\n",
       "      <td>NaN</td>\n",
       "      <td>0.105303</td>\n",
       "      <td>...</td>\n",
       "      <td>NaN</td>\n",
       "      <td>NaN</td>\n",
       "      <td>NaN</td>\n",
       "      <td>1.0</td>\n",
       "      <td>0.0</td>\n",
       "      <td>0.886598</td>\n",
       "      <td>0.103164</td>\n",
       "      <td>1.0</td>\n",
       "      <td>0.322121</td>\n",
       "      <td>1.0</td>\n",
       "    </tr>\n",
       "  </tbody>\n",
       "</table>\n",
       "<p>3 rows × 752 columns</p>\n",
       "</div>"
      ],
      "text/plain": [
       "                                                    P_2_last  D_39_last  \\\n",
       "customer_ID                                                               \n",
       "00000469ba478561f23a92a868bd366de6f6527a684c9a2...  0.568930          4   \n",
       "00001bf2e77ff879fab36aa4fac689b9ba411dae63ae397...  0.841177          4   \n",
       "0000210045da4f81e5f122c6bde5c2a617d03eef67f82c5...  0.697522          0   \n",
       "\n",
       "                                                    B_1_last  B_2_last  \\\n",
       "customer_ID                                                              \n",
       "00000469ba478561f23a92a868bd366de6f6527a684c9a2...  0.010779  1.009347   \n",
       "00001bf2e77ff879fab36aa4fac689b9ba411dae63ae397...  0.016562  1.009245   \n",
       "0000210045da4f81e5f122c6bde5c2a617d03eef67f82c5...  0.001484  0.810072   \n",
       "\n",
       "                                                    R_1_last  S_3_last  \\\n",
       "customer_ID                                                              \n",
       "00000469ba478561f23a92a868bd366de6f6527a684c9a2...         0  0.149413   \n",
       "00001bf2e77ff879fab36aa4fac689b9ba411dae63ae397...         0  0.112195   \n",
       "0000210045da4f81e5f122c6bde5c2a617d03eef67f82c5...         0  0.166165   \n",
       "\n",
       "                                                    D_41_last  B_3_last  \\\n",
       "customer_ID                                                               \n",
       "00000469ba478561f23a92a868bd366de6f6527a684c9a2...        0.0  0.003576   \n",
       "00001bf2e77ff879fab36aa4fac689b9ba411dae63ae397...        0.0  0.011386   \n",
       "0000210045da4f81e5f122c6bde5c2a617d03eef67f82c5...        0.0  0.015938   \n",
       "\n",
       "                                                    D_42_last  D_43_last  ...  \\\n",
       "customer_ID                                                               ...   \n",
       "00000469ba478561f23a92a868bd366de6f6527a684c9a2...   0.103745   0.007398  ...   \n",
       "00001bf2e77ff879fab36aa4fac689b9ba411dae63ae397...        NaN        NaN  ...   \n",
       "0000210045da4f81e5f122c6bde5c2a617d03eef67f82c5...        NaN   0.105303  ...   \n",
       "\n",
       "                                                    D_136_first  D_137_first  \\\n",
       "customer_ID                                                                    \n",
       "00000469ba478561f23a92a868bd366de6f6527a684c9a2...          NaN          NaN   \n",
       "00001bf2e77ff879fab36aa4fac689b9ba411dae63ae397...          NaN          NaN   \n",
       "0000210045da4f81e5f122c6bde5c2a617d03eef67f82c5...          NaN          NaN   \n",
       "\n",
       "                                                    D_138_first  D_139_first  \\\n",
       "customer_ID                                                                    \n",
       "00000469ba478561f23a92a868bd366de6f6527a684c9a2...          NaN          NaN   \n",
       "00001bf2e77ff879fab36aa4fac689b9ba411dae63ae397...          NaN          0.0   \n",
       "0000210045da4f81e5f122c6bde5c2a617d03eef67f82c5...          NaN          1.0   \n",
       "\n",
       "                                                    D_140_first  D_141_first  \\\n",
       "customer_ID                                                                    \n",
       "00000469ba478561f23a92a868bd366de6f6527a684c9a2...          0.0          NaN   \n",
       "00001bf2e77ff879fab36aa4fac689b9ba411dae63ae397...          0.0     0.000000   \n",
       "0000210045da4f81e5f122c6bde5c2a617d03eef67f82c5...          0.0     0.886598   \n",
       "\n",
       "                                                    D_142_first  D_143_first  \\\n",
       "customer_ID                                                                    \n",
       "00000469ba478561f23a92a868bd366de6f6527a684c9a2...          NaN          NaN   \n",
       "00001bf2e77ff879fab36aa4fac689b9ba411dae63ae397...          NaN          0.0   \n",
       "0000210045da4f81e5f122c6bde5c2a617d03eef67f82c5...     0.103164          1.0   \n",
       "\n",
       "                                                    D_144_first  D_145_first  \n",
       "customer_ID                                                                   \n",
       "00000469ba478561f23a92a868bd366de6f6527a684c9a2...     0.008281          NaN  \n",
       "00001bf2e77ff879fab36aa4fac689b9ba411dae63ae397...     0.008436          0.0  \n",
       "0000210045da4f81e5f122c6bde5c2a617d03eef67f82c5...     0.322121          1.0  \n",
       "\n",
       "[3 rows x 752 columns]"
      ]
     },
     "execution_count": 12,
     "metadata": {},
     "output_type": "execute_result"
    }
   ],
   "source": [
    "test_last_etc.head(3)"
   ]
  },
  {
   "cell_type": "code",
   "execution_count": 13,
   "id": "c2aa9473-96e4-4a1d-92a2-1810a5409de8",
   "metadata": {},
   "outputs": [
    {
     "name": "stdout",
     "output_type": "stream",
     "text": [
      "CPU times: user 456 ms, sys: 1.87 s, total: 2.32 s\n",
      "Wall time: 4.98 s\n"
     ]
    }
   ],
   "source": [
    "%%time\n",
    "test_agg = test_last_etc.merge(test_agg, left_index=True, right_index=True, how=\"inner\")\n",
    "del test_last_etc"
   ]
  },
  {
   "cell_type": "code",
   "execution_count": 14,
   "id": "7b8758d2-b11f-4e01-90e1-b3b3f894de39",
   "metadata": {},
   "outputs": [
    {
     "name": "stdout",
     "output_type": "stream",
     "text": [
      "MA3 for Recency 1 done\n",
      "MA3 for Recency 2 done\n",
      "MA3 for Recency 3 done\n",
      "MA3 for Recency 4 done\n",
      "CPU times: user 13.8 s, sys: 22.1 s, total: 35.9 s\n",
      "Wall time: 52.2 s\n"
     ]
    }
   ],
   "source": [
    "%%time\n",
    "test_ma_df = get_ma_df(raw_test)"
   ]
  },
  {
   "cell_type": "code",
   "execution_count": 15,
   "id": "03dc3182-b6dd-4b43-a1f0-9bad132e55bd",
   "metadata": {},
   "outputs": [
    {
     "name": "stdout",
     "output_type": "stream",
     "text": [
      "CPU times: user 543 ms, sys: 4.02 s, total: 4.56 s\n",
      "Wall time: 17.5 s\n"
     ]
    }
   ],
   "source": [
    "%%time\n",
    "test_agg = test_agg.merge(test_ma_df, left_index=True, right_index=True, how=\"inner\")\n",
    "del test_ma_df"
   ]
  },
  {
   "cell_type": "code",
   "execution_count": 16,
   "id": "ae2d13d8-3220-43c1-9b91-f81688706c10",
   "metadata": {},
   "outputs": [],
   "source": [
    "numeric_columns = list(set(raw_test.columns) - set(CATEGORY_COLUMNS) - set(NON_FEATURE_COLUMNS))\n",
    "all_columns = list(set(numeric_columns).union(set(CATEGORY_COLUMNS)))\n",
    "del raw_test"
   ]
  },
  {
   "cell_type": "code",
   "execution_count": 17,
   "id": "fb4fb1e8-5321-4838-aa85-95b13e4283d3",
   "metadata": {},
   "outputs": [
    {
     "data": {
      "text/plain": [
       "(924621, 2185)"
      ]
     },
     "execution_count": 17,
     "metadata": {},
     "output_type": "execute_result"
    }
   ],
   "source": [
    "test_agg.shape"
   ]
  },
  {
   "cell_type": "code",
   "execution_count": 18,
   "id": "886348f5-6bc0-4b1d-a52c-3347311477ae",
   "metadata": {},
   "outputs": [
    {
     "name": "stderr",
     "output_type": "stream",
     "text": [
      "100%|████████████████████████████████████████████████████████████████████████████████████████████████████████████████████████████████████| 179/179 [00:28<00:00,  6.33it/s]"
     ]
    },
    {
     "name": "stdout",
     "output_type": "stream",
     "text": [
      "CPU times: user 19 s, sys: 4.79 s, total: 23.8 s\n",
      "Wall time: 28.3 s\n"
     ]
    },
    {
     "name": "stderr",
     "output_type": "stream",
     "text": [
      "\n"
     ]
    }
   ],
   "source": [
    "%%time\n",
    "for col in tqdm(numeric_columns):\n",
    "    test_agg[f\"{col}_range\"] = test_agg[f\"{col}_max\"] - test_agg[f\"{col}_min\"]\n",
    "    test_agg[f\"{col}_displacement\"] = test_agg[f\"{col}_last\"] - test_agg[f\"{col}_first\"]\n",
    "    test_agg[f\"{col}_velocity\"] = test_agg[f\"{col}_displacement\"] / np.log(test_agg[\"num_statements\"])\n",
    "    test_agg[f\"{col}_sprint\"] = test_agg[f\"{col}_last\"] - test_agg[f\"{col}_second_last\"]\n",
    "    test_agg[f\"{col}_previous_sprint\"] = test_agg[f\"{col}_second_last\"] - test_agg[f\"{col}_third_last\"]\n",
    "    test_agg[f\"{col}_acceleration\"] = test_agg[f\"{col}_sprint\"] / (test_agg[f\"{col}_previous_sprint\"] * test_agg[f\"{col}_std\"]).replace(\n",
    "        [np.inf, -np.inf], np.nan\n",
    "    )\n",
    "    test_agg[f\"{col}_last_minus_avg\"] = test_agg[f\"{col}_last\"] - test_agg[f\"{col}_avg\"]\n",
    "    test_agg[f\"{col}_coef_var\"] = (test_agg[f\"{col}_std\"] / test_agg[f\"{col}_avg\"]).replace([np.inf, -np.inf], np.nan)\n",
    "    test_agg[f\"{col}_ma3_r1_r2\"] = test_agg[f\"{col}_ma3_r1\"] / test_agg[f\"{col}_ma3_r2\"]\n",
    "    test_agg[f\"{col}_ma3_r1_r3\"] = test_agg[f\"{col}_ma3_r1\"] / test_agg[f\"{col}_ma3_r3\"]\n",
    "    test_agg[f\"{col}_ma3_r1_r4\"] = test_agg[f\"{col}_ma3_r1\"] / test_agg[f\"{col}_ma3_r4\"]\n",
    "    test_agg[f\"{col}_general_trend\"] = 100 * (test_agg[f\"{col}_ma3_r1\"] - test_agg[f\"{col}_ma3_r4\"]) / test_agg[\"num_statements\"]\n",
    "    gc.collect()"
   ]
  },
  {
   "cell_type": "code",
   "execution_count": 19,
   "id": "b1e49788-7718-41f6-b998-83f81dd17e10",
   "metadata": {},
   "outputs": [
    {
     "data": {
      "text/plain": [
       "18"
      ]
     },
     "execution_count": 19,
     "metadata": {},
     "output_type": "execute_result"
    }
   ],
   "source": [
    "gc.collect()"
   ]
  },
  {
   "cell_type": "code",
   "execution_count": 20,
   "id": "3e42f76f-ce8c-4310-9627-17fd36a44391",
   "metadata": {},
   "outputs": [
    {
     "name": "stdout",
     "output_type": "stream",
     "text": [
      "CPU times: user 4.96 s, sys: 43.1 s, total: 48.1 s\n",
      "Wall time: 3min 13s\n"
     ]
    }
   ],
   "source": [
    "%%time\n",
    "test_agg = test_agg.reset_index().rename(columns={\"index\": \"customer_ID\"})\n",
    "test_agg = test_agg.drop(columns=NON_FEATURE_COLUMNS, errors='ignore')"
   ]
  },
  {
   "cell_type": "code",
   "execution_count": 21,
   "id": "22c27e42-d4f3-4af0-a0b9-5947b8c8b48c",
   "metadata": {},
   "outputs": [
    {
     "data": {
      "text/plain": [
       "(924621, 4333)"
      ]
     },
     "execution_count": 21,
     "metadata": {},
     "output_type": "execute_result"
    }
   ],
   "source": [
    "test_agg.shape"
   ]
  },
  {
   "cell_type": "code",
   "execution_count": 22,
   "id": "c118b95c-3d54-43a2-9587-e0bf9874260b",
   "metadata": {},
   "outputs": [
    {
     "data": {
      "text/plain": [
       "float64     2404\n",
       "float32     1634\n",
       "int8         228\n",
       "int16         30\n",
       "category      12\n",
       "category      12\n",
       "category       4\n",
       "category       4\n",
       "category       4\n",
       "int64          1\n",
       "dtype: int64"
      ]
     },
     "execution_count": 22,
     "metadata": {},
     "output_type": "execute_result"
    }
   ],
   "source": [
    "test_agg.dtypes.value_counts()"
   ]
  },
  {
   "cell_type": "code",
   "execution_count": 23,
   "id": "6604f84f-96d5-4d90-954e-1866a0c8486c",
   "metadata": {},
   "outputs": [
    {
     "name": "stdout",
     "output_type": "stream",
     "text": [
      "CPU times: user 4.28 ms, sys: 9.05 s, total: 9.05 s\n",
      "Wall time: 44.4 s\n"
     ]
    }
   ],
   "source": [
    "%%time\n",
    "test_agg.to_pickle(f\"{PROCESSED_DATA_PATH}/test_agg_complete2.pkl\")"
   ]
  },
  {
   "cell_type": "code",
   "execution_count": null,
   "id": "51dc292d-576b-46a2-a3ce-84b3daa59b7b",
   "metadata": {},
   "outputs": [],
   "source": []
  }
 ],
 "metadata": {
  "kernelspec": {
   "display_name": "amex",
   "language": "python",
   "name": "amex"
  },
  "language_info": {
   "codemirror_mode": {
    "name": "ipython",
    "version": 3
   },
   "file_extension": ".py",
   "mimetype": "text/x-python",
   "name": "python",
   "nbconvert_exporter": "python",
   "pygments_lexer": "ipython3",
   "version": "3.10.0"
  }
 },
 "nbformat": 4,
 "nbformat_minor": 5
}
