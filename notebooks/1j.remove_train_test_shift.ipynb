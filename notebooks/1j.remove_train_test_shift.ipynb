{
 "cells": [
  {
   "cell_type": "code",
   "execution_count": 1,
   "id": "fb9ee3cf-ce7f-4f48-a081-14c8e64ea435",
   "metadata": {},
   "outputs": [],
   "source": [
    "import pandas as pd\n",
    "pd.options.display.float_format = \"{:,.4f}\".format\n",
    "import matplotlib.pyplot as plt\n",
    "import gc\n",
    "import numpy as np\n",
    "import os\n",
    "import sys\n",
    "import warnings\n",
    "warnings.simplefilter(\"ignore\")\n",
    "warnings.filterwarnings(\"ignore\")"
   ]
  },
  {
   "cell_type": "code",
   "execution_count": 2,
   "id": "4e113da7-c6ae-4772-933c-c1e7d22fec45",
   "metadata": {},
   "outputs": [],
   "source": [
    "from pathlib import Path\n",
    "rootpath = Path.cwd().parent\n",
    "sys.path.append(os.path.join(rootpath))"
   ]
  },
  {
   "cell_type": "code",
   "execution_count": 3,
   "id": "f81b07b1-cc0e-4303-a9ed-a61c8f127bb7",
   "metadata": {},
   "outputs": [],
   "source": [
    "from utils.eval_helpers import (\n",
    "    plot_roc_curves, plot_feature_importance, \n",
    "    amex_metric, get_final_metric_df, amex_metric_np, lgb_amex_metric\n",
    ")\n",
    "from utils.eda_helpers import (\n",
    "    plot_missing_proportion_barchart, get_cols, plot_scatterplot, plot_target_check, \n",
    "    plot_int_feature_distribution, plot_train_test_distribution, check_overlap_missing,\n",
    "    insert_row_number\n",
    ")\n",
    "from utils.extraction_helpers import read_file\n",
    "from utils.feature_group import (\n",
    "    CATEGORY_COLUMNS, CONTINUOUS_COLUMNS, BINARY_COLUMNS, ROUND_COLUMNS,\n",
    "    MEAN_FEATURES, MIN_FEATURES, MAX_FEATURES, LAST_FEATURES, NON_FEATURE_COLUMNS\n",
    ")\n",
    "from utils.constants import (\n",
    "    PROCESSED_DATA_PATH\n",
    ")"
   ]
  },
  {
   "cell_type": "code",
   "execution_count": 4,
   "id": "7734144d-ba6d-4a6b-9883-249caede4b40",
   "metadata": {},
   "outputs": [],
   "source": [
    "RAW_DATA_PATH = \"../raw_data\"\n",
    "PROCESSED_DATA_PATH = \"../processed_data\"\n",
    "SUBMISSION_DATA_PATH = \"../submissions\"\n",
    "EVALUATION_DATA_PATH = \"../evaluation_data\"\n",
    "MODELS_PATH = \"../models\""
   ]
  },
  {
   "cell_type": "code",
   "execution_count": 5,
   "id": "cb1bb195-2ce5-445d-9000-74eb040f03a8",
   "metadata": {},
   "outputs": [],
   "source": [
    "RAW_TRAIN_PARQUET_PATH = os.path.join(RAW_DATA_PATH, \"train_parquet\")\n",
    "RAW_TRAIN_PICKLE_PATH = os.path.join(RAW_DATA_PATH, \"train_pickle\")\n",
    "RAW_TEST_PARQUET_PATH = os.path.join(RAW_DATA_PATH, \"test_parquet\")\n",
    "RAW_TEST_PICKLE_PATH = os.path.join(RAW_DATA_PATH, \"test_pickle\")"
   ]
  },
  {
   "cell_type": "code",
   "execution_count": 6,
   "id": "26206a81-9b22-4cb3-ac2f-1d5e9d9798eb",
   "metadata": {},
   "outputs": [],
   "source": [
    "%load_ext autoreload\n",
    "%autoreload"
   ]
  },
  {
   "cell_type": "code",
   "execution_count": 7,
   "id": "c4bc52cd-0af7-4c54-888d-5e81afc52792",
   "metadata": {},
   "outputs": [
    {
     "name": "stdout",
     "output_type": "stream",
     "text": [
      "Shape of data: (5531451, 193)\n",
      "Shape of data: (11363762, 192)\n",
      "CPU times: user 5.11 s, sys: 6.86 s, total: 12 s\n",
      "Wall time: 16.1 s\n"
     ]
    }
   ],
   "source": [
    "%%time\n",
    "train = read_file(f\"{RAW_TRAIN_PICKLE_PATH}/raw_train_data.pkl\")\n",
    "test = read_file(f\"{RAW_TEST_PICKLE_PATH}/raw_test_data.pkl\")"
   ]
  },
  {
   "cell_type": "markdown",
   "id": "3673b6da-d17f-4adb-8d0d-421cc8c73e48",
   "metadata": {},
   "source": [
    "### D_45"
   ]
  },
  {
   "cell_type": "code",
   "execution_count": 86,
   "id": "58838fb5-4b5c-4615-b7ae-5103fb9d5720",
   "metadata": {},
   "outputs": [
    {
     "data": {
      "text/plain": [
       "1357867.2076751622"
      ]
     },
     "execution_count": 86,
     "metadata": {},
     "output_type": "execute_result"
    }
   ],
   "source": [
    "test[\"D_45\"].var() * (test[\"D_45\"].shape[0] - 1) + (test[\"D_45\"].sum() ** 2 / test[\"D_45\"].shape[0])"
   ]
  },
  {
   "cell_type": "code",
   "execution_count": 89,
   "id": "88678541-9ae4-4d4a-a4b7-68c9edb0d3c7",
   "metadata": {},
   "outputs": [
    {
     "data": {
      "text/plain": [
       "676057.9745209047"
      ]
     },
     "execution_count": 89,
     "metadata": {},
     "output_type": "execute_result"
    }
   ],
   "source": [
    "train[\"D_45\"].var() * (train[\"D_45\"].shape[0] - 1) + (train[\"D_45\"].sum() ** 2 / train[\"D_45\"].shape[0])"
   ]
  },
  {
   "cell_type": "code",
   "execution_count": 71,
   "id": "167f2fa7-719c-4694-8a7b-d4e3dc36a41a",
   "metadata": {},
   "outputs": [
    {
     "data": {
      "text/plain": [
       "count   11,360,784.0000\n",
       "mean             0.2392\n",
       "std              0.2437\n",
       "min              0.0000\n",
       "25%              0.0611\n",
       "50%              0.1427\n",
       "75%              0.3692\n",
       "max              1.6504\n",
       "Name: D_45, dtype: float64"
      ]
     },
     "execution_count": 71,
     "metadata": {},
     "output_type": "execute_result"
    }
   ],
   "source": [
    "test[\"D_45\"].describe()"
   ]
  },
  {
   "cell_type": "code",
   "execution_count": 67,
   "id": "94a91f36-5f81-41ce-848d-72c81ccfdafd",
   "metadata": {},
   "outputs": [
    {
     "data": {
      "text/plain": [
       "[(0.0044562, 0.0044975], (0.0094901, 0.0095313], (0.0070144, 0.0070557], (0.0089124, 0.0089537], (0.0084998, 0.0085411], ..., (1.53186, 1.5319], (1.53388, 1.53393], (1.5404, 1.54044], (1.54989, 1.54993], (1.36348, 1.36352]]\n",
       "Length: 36678\n",
       "Categories (40000, interval[float64, right]): [(-0.0016504, 4.1269e-05] < (4.1269e-05, 8.253e-05] < (8.253e-05, 0.00012379] < (0.00012379, 0.00016505] ... (1.65028, 1.65032] < (1.65032, 1.65036] < (1.65036, 1.65041] < (1.65041, 1.65045]]"
      ]
     },
     "execution_count": 67,
     "metadata": {},
     "output_type": "execute_result"
    }
   ],
   "source": [
    "pd.cut(test[\"D_45\"].dropna(), 40000).unique()"
   ]
  },
  {
   "cell_type": "code",
   "execution_count": 68,
   "id": "77178d25-9bb6-49a6-9814-8dcb5e91372f",
   "metadata": {},
   "outputs": [],
   "source": [
    "t = pd.cut(train[\"D_45\"].dropna(), 40000)"
   ]
  },
  {
   "cell_type": "code",
   "execution_count": 69,
   "id": "45ac2049-510c-4e44-9db5-d76395f7b8cc",
   "metadata": {},
   "outputs": [
    {
     "data": {
      "text/plain": [
       "35591"
      ]
     },
     "execution_count": 69,
     "metadata": {},
     "output_type": "execute_result"
    }
   ],
   "source": [
    "t.cat.codes.nunique()"
   ]
  },
  {
   "cell_type": "code",
   "execution_count": 50,
   "id": "748e3350-ea45-4564-a814-651b42562e2e",
   "metadata": {},
   "outputs": [
    {
     "data": {
      "text/plain": [
       "82974"
      ]
     },
     "execution_count": 50,
     "metadata": {},
     "output_type": "execute_result"
    }
   ],
   "source": [
    "len(t.sort_values().unique().tolist())"
   ]
  },
  {
   "cell_type": "code",
   "execution_count": 44,
   "id": "a457c35d-9502-4183-a221-2557ec143ec9",
   "metadata": {},
   "outputs": [
    {
     "data": {
      "text/plain": [
       "0          44031\n",
       "1          44272\n",
       "2          44775\n",
       "3          44968\n",
       "4          44758\n",
       "           ...  \n",
       "5531446    45886\n",
       "5531447    46222\n",
       "5531448    46398\n",
       "5531449    46471\n",
       "5531450    46632\n",
       "Length: 5529434, dtype: int32"
      ]
     },
     "execution_count": 44,
     "metadata": {},
     "output_type": "execute_result"
    }
   ],
   "source": [
    "pd.DataFrame(dict(\n",
    "    train_bin=pd.cut(train[\"D_45\"].dropna(), 100000).cat.codes,\n",
    "    train_values"
   ]
  },
  {
   "cell_type": "code",
   "execution_count": 27,
   "id": "76f0bec1-cf08-4f32-9769-807e1f282d50",
   "metadata": {},
   "outputs": [
    {
     "name": "stderr",
     "output_type": "stream",
     "text": [
      "\n",
      "KeyboardInterrupt\n",
      "\n"
     ]
    }
   ],
   "source": [
    "d = [np.percentile(train[\"D_45\"], i*0.01) for i in range(10000)]"
   ]
  },
  {
   "cell_type": "code",
   "execution_count": 93,
   "id": "3d8baf3c-b5b3-4380-814d-69eb5722db1a",
   "metadata": {},
   "outputs": [],
   "source": [
    "train[\"temp\"] = (train[\"D_45\"] - train[\"D_45\"].min()) / (train[\"D_45\"].max() - train[\"D_45\"].min())"
   ]
  },
  {
   "cell_type": "code",
   "execution_count": 92,
   "id": "f3dc3d9b-c7b4-40e9-b222-e1c0a04479a6",
   "metadata": {},
   "outputs": [],
   "source": [
    "test[\"temp\"] = (test[\"D_45\"] - test[\"D_45\"].min()) / (test[\"D_45\"].max() - test[\"D_45\"].min())"
   ]
  },
  {
   "cell_type": "code",
   "execution_count": 117,
   "id": "14d85202-1134-40e2-9005-3d49b27faeeb",
   "metadata": {},
   "outputs": [],
   "source": [
    "train[\"temp\"] = train[\"D_45\"].copy()\n",
    "test[\"temp\"] = test[\"D_45\"].copy()"
   ]
  },
  {
   "cell_type": "code",
   "execution_count": 118,
   "id": "9e7a2ebc-c17c-4b7d-8387-6e17e96d3b31",
   "metadata": {},
   "outputs": [
    {
     "data": {
      "text/plain": [
       "count   5,529,434.0000\n",
       "mean            0.2508\n",
       "std             0.2422\n",
       "min             0.0000\n",
       "25%             0.0546\n",
       "50%             0.1808\n",
       "75%             0.3733\n",
       "max             1.6100\n",
       "Name: temp, dtype: float64"
      ]
     },
     "execution_count": 118,
     "metadata": {},
     "output_type": "execute_result"
    }
   ],
   "source": [
    "train[\"temp\"].describe()"
   ]
  },
  {
   "cell_type": "code",
   "execution_count": 120,
   "id": "a9e36013-b9e1-4e37-82dc-f2d687ad1949",
   "metadata": {},
   "outputs": [
    {
     "data": {
      "text/plain": [
       "0          0.0045\n",
       "1          0.0095\n",
       "2          0.0070\n",
       "3          0.0089\n",
       "4          0.0085\n",
       "            ...  \n",
       "11363757   0.0113\n",
       "11363758   0.0184\n",
       "11363759   0.0136\n",
       "11363760   0.0162\n",
       "11363761   0.0189\n",
       "Name: temp, Length: 11363762, dtype: float32"
      ]
     },
     "execution_count": 120,
     "metadata": {},
     "output_type": "execute_result"
    }
   ],
   "source": [
    "test[\"temp\"]"
   ]
  },
  {
   "cell_type": "code",
   "execution_count": 115,
   "id": "5458b82a-be1c-441c-b237-049a3bd13328",
   "metadata": {},
   "outputs": [
    {
     "data": {
      "text/plain": [
       "0          0.0084\n",
       "1          0.0135\n",
       "2          0.0110\n",
       "3          0.0129\n",
       "4          0.0125\n",
       "            ...  \n",
       "11363757   0.0153\n",
       "11363758   0.0224\n",
       "11363759   0.0176\n",
       "11363760   0.0202\n",
       "11363761   0.0228\n",
       "Name: temp, Length: 11363762, dtype: float64"
      ]
     },
     "execution_count": 115,
     "metadata": {},
     "output_type": "execute_result"
    }
   ],
   "source": [
    "test[\"temp\"] + (train[\"temp\"].mean() - test[\"temp\"].mean()) / (abs(train[\"temp\"].std() - test[\"temp\"].std()) * 500)"
   ]
  },
  {
   "cell_type": "code",
   "execution_count": 94,
   "id": "0a7ec39a-bfc1-404b-8106-bbf3c7fd468f",
   "metadata": {},
   "outputs": [
    {
     "data": {
      "image/png": "[encoded data removed]",
      "text/plain": [
       "<Figure size 1296x576 with 1 Axes>"
      ]
     },
     "metadata": {
      "needs_background": "light"
     },
     "output_type": "display_data"
    }
   ],
   "source": [
    "plot_train_test_distribution(train, test, col=\"temp\")"
   ]
  },
  {
   "cell_type": "code",
   "execution_count": 23,
   "id": "c70c3f97-16df-41fd-a723-6e6ea470b10e",
   "metadata": {},
   "outputs": [
    {
     "data": {
      "image/png": "[encoded data removed]",
      "text/plain": [
       "<Figure size 1296x576 with 1 Axes>"
      ]
     },
     "metadata": {
      "needs_background": "light"
     },
     "output_type": "display_data"
    }
   ],
   "source": [
    "plot_train_test_distribution(train, test, col=\"D_45\")"
   ]
  },
  {
   "cell_type": "code",
   "execution_count": 261,
   "id": "971ed800-c31b-4e69-b257-2a54bc14d645",
   "metadata": {},
   "outputs": [],
   "source": [
    "index = 1\n",
    "col = float_cols[index]"
   ]
  },
  {
   "cell_type": "code",
   "execution_count": 262,
   "id": "c3110479-b4d9-43f7-ac56-fbed87024a7e",
   "metadata": {},
   "outputs": [
    {
     "name": "stdout",
     "output_type": "stream",
     "text": [
      "count   5,531,451.000\n",
      "mean            0.229\n",
      "std             4.797\n",
      "min            -0.003\n",
      "25%             0.029\n",
      "50%             0.111\n",
      "75%             0.296\n",
      "max         4,097.441\n",
      "Name: B_10, dtype: float64\n"
     ]
    },
    {
     "data": {
      "image/png": "[encoded data removed]",
      "text/plain": [
       "<Figure size 432x288 with 1 Axes>"
      ]
     },
     "metadata": {
      "needs_background": "light"
     },
     "output_type": "display_data"
    },
    {
     "name": "stdout",
     "output_type": "stream",
     "text": [
      "count   11,363,762.000\n",
      "mean             0.239\n",
      "std              5.538\n",
      "min             -0.003\n",
      "25%              0.029\n",
      "50%              0.115\n",
      "75%              0.296\n",
      "max          4,660.357\n",
      "Name: B_10, dtype: float64\n"
     ]
    },
    {
     "data": {
      "image/png": "[encoded data removed]",
      "text/plain": [
       "<Figure size 432x288 with 1 Axes>"
      ]
     },
     "metadata": {
      "needs_background": "light"
     },
     "output_type": "display_data"
    }
   ],
   "source": [
    "compare_train_test_distribution(train, test, col)"
   ]
  },
  {
   "cell_type": "code",
   "execution_count": 263,
   "id": "b846d454-4d8f-4434-87ec-9f7022346ff9",
   "metadata": {},
   "outputs": [
    {
     "name": "stdout",
     "output_type": "stream",
     "text": [
      "Train missing proportion 0.00%\n",
      "Test missing proportion 0.00%\n"
     ]
    }
   ],
   "source": [
    "print(f\"Train missing proportion {train[col].isnull().sum() / train.shape[0]:.2%}\")\n",
    "print(f\"Test missing proportion {test[col].isnull().sum() / test.shape[0]:.2%}\")"
   ]
  },
  {
   "cell_type": "code",
   "execution_count": 264,
   "id": "9b1a67f9-786d-4f89-a7e2-6c229a70e1f6",
   "metadata": {},
   "outputs": [
    {
     "data": {
      "image/png": "[encoded data removed]",
      "text/plain": [
       "<Figure size 1224x504 with 1 Axes>"
      ]
     },
     "metadata": {
      "needs_background": "light"
     },
     "output_type": "display_data"
    }
   ],
   "source": [
    "plt.figure(figsize=(17, 7))\n",
    "train[\"group\"] = pd.qcut(train[col].drop_duplicates(), q=100).cat.codes + 1\n",
    "train.groupby([\"group\"])[\"target\"].mean().plot() # \"row_number\", \n",
    "plt.show()"
   ]
  },
  {
   "cell_type": "code",
   "execution_count": 271,
   "id": "82ebef28-bc84-4337-8972-5d21705f381c",
   "metadata": {},
   "outputs": [
    {
     "data": {
      "text/plain": [
       "2.4658042907714854"
      ]
     },
     "execution_count": 271,
     "metadata": {},
     "output_type": "execute_result"
    }
   ],
   "source": [
    "np.percentile(train[col].dropna(), 99.6)"
   ]
  },
  {
   "cell_type": "code",
   "execution_count": 248,
   "id": "76529f59-ada0-4f1c-9568-0fc086c9b870",
   "metadata": {},
   "outputs": [
    {
     "data": {
      "text/plain": [
       "(0.2264020309254558, 4333)"
      ]
     },
     "execution_count": 248,
     "metadata": {},
     "output_type": "execute_result"
    }
   ],
   "source": [
    "t1 = train.loc[train[col].between(3.2, 50)]\n",
    "t1[\"target\"].mean(), t1.shape[0]"
   ]
  },
  {
   "cell_type": "code",
   "execution_count": 249,
   "id": "92a26406-20da-4f57-a008-ce74c53d87ce",
   "metadata": {},
   "outputs": [
    {
     "data": {
      "text/plain": [
       "(0.33489607751211126, 44793)"
      ]
     },
     "execution_count": 249,
     "metadata": {},
     "output_type": "execute_result"
    }
   ],
   "source": [
    "t2 = train.loc[train[col].between(1, 2)]\n",
    "t2[\"target\"].mean(), t2.shape[0]"
   ]
  },
  {
   "cell_type": "code",
   "execution_count": 114,
   "id": "e9def356-9acb-40b2-ba7e-9c430ed43150",
   "metadata": {},
   "outputs": [
    {
     "data": {
      "text/plain": [
       "(0.26009246653816603, 148378)"
      ]
     },
     "execution_count": 114,
     "metadata": {},
     "output_type": "execute_result"
    }
   ],
   "source": [
    "t2 = train.loc[train[col].between(0.06, 0.07)]\n",
    "t2[\"target\"].mean(), t2.shape[0]"
   ]
  },
  {
   "cell_type": "code",
   "execution_count": 76,
   "id": "5423b26e-9341-4ab6-82f4-6820af91cc53",
   "metadata": {},
   "outputs": [
    {
     "data": {
      "text/plain": [
       "0.3005334772572064"
      ]
     },
     "execution_count": 76,
     "metadata": {},
     "output_type": "execute_result"
    }
   ],
   "source": [
    "train.loc[train[col].isnull()][\"target\"].mean()"
   ]
  },
  {
   "cell_type": "code",
   "execution_count": 241,
   "id": "0bc9ec97-5647-43d2-a819-98b0fdccd4aa",
   "metadata": {},
   "outputs": [
    {
     "data": {
      "text/plain": [
       "0.08370293532198828"
      ]
     },
     "execution_count": 241,
     "metadata": {},
     "output_type": "execute_result"
    }
   ],
   "source": [
    "train.loc[train[col].between(0.2, 0.3)][\"target\"].mean()"
   ]
  },
  {
   "cell_type": "code",
   "execution_count": 219,
   "id": "69ff4e2c-f275-4f7b-87d0-0abe9deb0ce2",
   "metadata": {},
   "outputs": [
    {
     "data": {
      "text/plain": [
       "0.2085656683224908"
      ]
     },
     "execution_count": 219,
     "metadata": {},
     "output_type": "execute_result"
    }
   ],
   "source": [
    "train.loc[train[col] == 0][\"target\"].mean()"
   ]
  },
  {
   "cell_type": "code",
   "execution_count": 220,
   "id": "5f66b3f6-8439-4612-8d27-1c05f3d40342",
   "metadata": {},
   "outputs": [
    {
     "data": {
      "text/plain": [
       "0.5203464529649717"
      ]
     },
     "execution_count": 220,
     "metadata": {},
     "output_type": "execute_result"
    }
   ],
   "source": [
    "train.loc[train[col] > 0][\"target\"].mean()"
   ]
  },
  {
   "cell_type": "code",
   "execution_count": 171,
   "id": "0175e585-08e8-4dd9-9abd-84e5dd0e7319",
   "metadata": {},
   "outputs": [
    {
     "data": {
      "text/plain": [
       "0.18761871376099448"
      ]
     },
     "execution_count": 171,
     "metadata": {},
     "output_type": "execute_result"
    }
   ],
   "source": [
    "train.loc[train[col].between(-1, 0.25)][\"target\"].mean()"
   ]
  },
  {
   "cell_type": "code",
   "execution_count": 158,
   "id": "813a9d01-4580-417f-9196-550f677b7f71",
   "metadata": {},
   "outputs": [
    {
     "data": {
      "text/plain": [
       "0.24909720794778803"
      ]
     },
     "execution_count": 158,
     "metadata": {},
     "output_type": "execute_result"
    }
   ],
   "source": [
    "train[\"target\"].mean()"
   ]
  },
  {
   "cell_type": "code",
   "execution_count": 56,
   "id": "d5e2aa84-dfe7-4740-bac0-56226b1820a9",
   "metadata": {},
   "outputs": [],
   "source": [
    "# test[col].isnull().sum()"
   ]
  },
  {
   "cell_type": "code",
   "execution_count": 57,
   "id": "c3f81976-0bba-4f02-bc49-a3899cb318f0",
   "metadata": {},
   "outputs": [],
   "source": [
    "# train.loc[train[col] > 0.0][col]  # .between(0.01, 0.99)"
   ]
  },
  {
   "cell_type": "code",
   "execution_count": 58,
   "id": "c797de69-ecee-403c-a1eb-9e59b92e879c",
   "metadata": {},
   "outputs": [],
   "source": [
    "# np.percentile(test[col], 99)"
   ]
  },
  {
   "cell_type": "code",
   "execution_count": 59,
   "id": "7ca29fcc-04bd-4d70-aa72-567d23d647ee",
   "metadata": {},
   "outputs": [],
   "source": [
    "# train.loc[train[col].between(0.001, 0.1)][\"target\"].mean()"
   ]
  },
  {
   "cell_type": "code",
   "execution_count": 60,
   "id": "da38ef68-2cfb-4c79-9da0-8e9ba7a005b6",
   "metadata": {},
   "outputs": [],
   "source": [
    "# train.loc[train[col] > 0][[\"customer_ID\", \"D_41\", \"target\"]].tail(50)"
   ]
  },
  {
   "cell_type": "code",
   "execution_count": null,
   "id": "95ab2982-5700-4327-b1ec-b72822cce2cd",
   "metadata": {},
   "outputs": [],
   "source": []
  },
  {
   "cell_type": "code",
   "execution_count": null,
   "id": "b31739a1-568b-4176-a0ec-2695c71e03c6",
   "metadata": {},
   "outputs": [],
   "source": []
  },
  {
   "cell_type": "code",
   "execution_count": null,
   "id": "5cd35267-6649-4181-89c4-f271e704d54e",
   "metadata": {},
   "outputs": [],
   "source": []
  },
  {
   "cell_type": "code",
   "execution_count": 24,
   "id": "fc32aff2-5a7e-4b48-9906-7766d1ed302f",
   "metadata": {},
   "outputs": [],
   "source": [
    "float_cols = train.select_dtypes(np.float).columns.tolist()\n",
    "float_cols = sorted(float_cols)"
   ]
  },
  {
   "cell_type": "markdown",
   "id": "efcfe459-277b-4fea-a821-74bea79fb508",
   "metadata": {},
   "source": [
    "### B_1"
   ]
  },
  {
   "cell_type": "code",
   "execution_count": 125,
   "id": "a9493d7e-9c9e-4303-ad5d-90d7f6ad7595",
   "metadata": {},
   "outputs": [],
   "source": [
    "column = \"B_1\""
   ]
  },
  {
   "cell_type": "code",
   "execution_count": 126,
   "id": "515e4ad6-e80e-4340-8eeb-eb56aea0725b",
   "metadata": {},
   "outputs": [],
   "source": [
    "b1_min_outlier_thr = -0.05"
   ]
  },
  {
   "cell_type": "code",
   "execution_count": 128,
   "id": "68f81a16-206a-41eb-9e76-f86e138b7d80",
   "metadata": {},
   "outputs": [],
   "source": [
    "train.loc[train[column] < b1_min_outlier_thr, column] = b1_min_outlier_thr\n",
    "test.loc[test[column] < b1_min_outlier_thr, column] = b1_min_outlier_thr"
   ]
  },
  {
   "cell_type": "markdown",
   "id": "b7d20069-5b63-4085-a1c6-86da439fa561",
   "metadata": {},
   "source": [
    "### B_9"
   ]
  },
  {
   "cell_type": "code",
   "execution_count": null,
   "id": "6c5f4443-8a5d-4c8f-81e5-1c0b32c6d466",
   "metadata": {},
   "outputs": [],
   "source": [
    "column = \"B_9\""
   ]
  },
  {
   "cell_type": "code",
   "execution_count": null,
   "id": "217aa785-ab3a-44df-bba8-b2a0ba0bce03",
   "metadata": {},
   "outputs": [
    {
     "name": "stdout",
     "output_type": "stream",
     "text": [
      "CPU times: user 32 ms, sys: 4.06 ms, total: 36 ms\n",
      "Wall time: 16.3 ms\n"
     ]
    }
   ],
   "source": [
    "%%time\n",
    "train.loc[train[column] > 1, column] = 1\n",
    "test.loc[test[column] > 1, column] = 1"
   ]
  },
  {
   "cell_type": "markdown",
   "id": "b4ebf9f3-a003-46a5-815f-42c81bdc91ae",
   "metadata": {},
   "source": [
    "### B_14"
   ]
  },
  {
   "cell_type": "code",
   "execution_count": 220,
   "id": "0ccdab6c-8da6-4d6c-8ab2-166f1e42f130",
   "metadata": {},
   "outputs": [],
   "source": [
    "column = \"B_14\""
   ]
  },
  {
   "cell_type": "code",
   "execution_count": 221,
   "id": "453a188a-e1e3-44cf-9535-11fe8224d279",
   "metadata": {},
   "outputs": [
    {
     "name": "stdout",
     "output_type": "stream",
     "text": [
      "CPU times: user 37.8 ms, sys: 9.93 ms, total: 47.8 ms\n",
      "Wall time: 28.5 ms\n"
     ]
    }
   ],
   "source": [
    "%%time\n",
    "train.loc[train[column] < 0, column] = 0\n",
    "test.loc[test[column] < 0, column] = 0"
   ]
  },
  {
   "cell_type": "code",
   "execution_count": 250,
   "id": "8c55456f-db2b-44b3-a621-13adf284ae31",
   "metadata": {},
   "outputs": [
    {
     "name": "stdout",
     "output_type": "stream",
     "text": [
      "CPU times: user 35.4 ms, sys: 5.98 ms, total: 41.4 ms\n",
      "Wall time: 19.9 ms\n"
     ]
    }
   ],
   "source": [
    "%%time\n",
    "value = 3\n",
    "train.loc[train[column] > value, column] = value\n",
    "test.loc[test[column] > value, column] = value"
   ]
  },
  {
   "cell_type": "markdown",
   "id": "e83d19d4-48c0-4cb5-a10f-9d4abfcb4b37",
   "metadata": {},
   "source": [
    "### B_27"
   ]
  },
  {
   "cell_type": "code",
   "execution_count": 32,
   "id": "aab19419-57f4-461e-98eb-15bee16bc7ae",
   "metadata": {},
   "outputs": [],
   "source": [
    "column = \"B_27\""
   ]
  },
  {
   "cell_type": "code",
   "execution_count": 33,
   "id": "efe5ea58-37d2-4c9a-82db-9f6e64628d16",
   "metadata": {},
   "outputs": [
    {
     "name": "stdout",
     "output_type": "stream",
     "text": [
      "CPU times: user 829 ms, sys: 3.03 s, total: 3.86 s\n",
      "Wall time: 6.3 s\n"
     ]
    }
   ],
   "source": [
    "%%time\n",
    "train = train.drop(columns=column, errors=\"ignore\")\n",
    "test = test.drop(columns=column, errors=\"ignore\")"
   ]
  },
  {
   "cell_type": "code",
   "execution_count": 34,
   "id": "c451d033-5a84-4f38-a819-ab2389c7efd3",
   "metadata": {},
   "outputs": [
    {
     "data": {
      "text/plain": [
       "10620"
      ]
     },
     "execution_count": 34,
     "metadata": {},
     "output_type": "execute_result"
    }
   ],
   "source": [
    "gc.collect()"
   ]
  },
  {
   "cell_type": "code",
   "execution_count": null,
   "id": "58742c18-f4b6-474c-8a8e-8ec12210d736",
   "metadata": {},
   "outputs": [],
   "source": []
  }
 ],
 "metadata": {
  "kernelspec": {
   "display_name": "amex",
   "language": "python",
   "name": "amex"
  },
  "language_info": {
   "codemirror_mode": {
    "name": "ipython",
    "version": 3
   },
   "file_extension": ".py",
   "mimetype": "text/x-python",
   "name": "python",
   "nbconvert_exporter": "python",
   "pygments_lexer": "ipython3",
   "version": "3.10.0"
  }
 },
 "nbformat": 4,
 "nbformat_minor": 5
}
