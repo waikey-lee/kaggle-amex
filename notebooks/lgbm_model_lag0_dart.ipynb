{
 "cells": [
  {
   "cell_type": "code",
   "execution_count": 1,
   "id": "5dd2ca34-3410-4078-aa48-7adbba211ed5",
   "metadata": {},
   "outputs": [],
   "source": [
    "import gc\n",
    "import joblib\n",
    "import matplotlib.pyplot as plt\n",
    "import pandas as pd\n",
    "import numpy as np\n",
    "import optuna\n",
    "import os\n",
    "import seaborn as sns\n",
    "import sys\n",
    "sys.path.append(\"../\")\n",
    "import time\n",
    "import warnings\n",
    "warnings.simplefilter(\"ignore\")\n",
    "from lightgbm import LGBMClassifier\n",
    "from scipy.stats import randint as sp_randint\n",
    "from scipy.stats import uniform as sp_uniform\n",
    "from sklearn.model_selection import train_test_split, RandomizedSearchCV\n",
    "from sklearn.metrics import roc_auc_score, fbeta_score, make_scorer, average_precision_score, precision_score, mean_squared_error\n",
    "from sklearn.linear_model import LogisticRegression\n",
    "from tqdm import tqdm"
   ]
  },
  {
   "cell_type": "code",
   "execution_count": 2,
   "id": "7ef6394d-049c-4cd2-84b9-83f9b7ed3cd3",
   "metadata": {},
   "outputs": [],
   "source": [
    "from matplotlib.ticker import MaxNLocator\n",
    "from matplotlib.colors import ListedColormap\n",
    "from cycler import cycler\n",
    "from IPython.display import display\n",
    "import datetime\n",
    "import scipy.stats\n",
    "import warnings\n",
    "from colorama import Fore, Back, Style\n",
    "import gc\n",
    "from sklearn.model_selection import StratifiedKFold\n",
    "from sklearn.calibration import CalibrationDisplay\n",
    "\n",
    "plt.rcParams['axes.facecolor'] = '#0057b8' # blue\n",
    "plt.rcParams['axes.prop_cycle'] = cycler(color=['#ffd700'] +\n",
    "                                         plt.rcParams['axes.prop_cycle'].by_key()['color'][1:])\n",
    "plt.rcParams['text.color'] = 'w'"
   ]
  },
  {
   "cell_type": "code",
   "execution_count": 3,
   "id": "a084bef6-4434-40fb-bafc-d7d3e4c57a14",
   "metadata": {},
   "outputs": [],
   "source": [
    "from utils.eval_helpers import (\n",
    "    plot_roc_curves, plot_feature_importance, \n",
    "    amex_metric, get_final_metric_df, amex_metric_np, lgb_amex_metric\n",
    ")\n",
    "from utils.eda_helpers import plot_missing_proportion_barchart, get_cols\n",
    "from utils.extraction_helpers import read_file\n",
    "from utils.feature_group import (\n",
    "    CATEGORY_COLUMNS, FILLNA_COLUMNS, HAS_VALUE_COLUMNS, BINARY_COLUMNS, CONTINUOUS_COLUMNS, \n",
    "    SPECIAL_COLUMNS, ROUND_COLUMNS,\n",
    "    MEAN_FEATURES, MIN_FEATURES, MAX_FEATURES, LAST_FEATURES, CONFIRM_DROP_FEATURES\n",
    ")"
   ]
  },
  {
   "cell_type": "code",
   "execution_count": 4,
   "id": "ee8b533a-591f-40e6-90a4-2357933bb83b",
   "metadata": {},
   "outputs": [
    {
     "data": {
      "text/plain": [
       "['train_labels.csv',\n",
       " '.DS_Store',\n",
       " 'train_post_format.pkl copy',\n",
       " 'test_post_format.pkl',\n",
       " 'train_lag0_post_format.pkl',\n",
       " 'train_post_format.pkl',\n",
       " 'train_lag0_pre_format.pkl',\n",
       " '.ipynb_checkpoints',\n",
       " 'test_parquet',\n",
       " 'train_parquet',\n",
       " 'sample_submission.csv',\n",
       " 'test_post_format.pkl copy']"
      ]
     },
     "execution_count": 4,
     "metadata": {},
     "output_type": "execute_result"
    }
   ],
   "source": [
    "DATA_PATH = \"../raw_data\"\n",
    "os.listdir(DATA_PATH)"
   ]
  },
  {
   "cell_type": "code",
   "execution_count": 5,
   "id": "08cce559-a615-41c7-9d81-0a5e7b981931",
   "metadata": {
    "tags": []
   },
   "outputs": [],
   "source": [
    "RAW_DATA_PATH = \"../raw_data\"\n",
    "PROCESSED_DATA_PATH = \"../processed_data\"\n",
    "SUBMISSION_DATA_PATH = \"../submissions\"\n",
    "EVALUATION_DATA_PATH = \"../evaluation_data\"\n",
    "MODELS_PATH = \"../models\""
   ]
  },
  {
   "cell_type": "code",
   "execution_count": 6,
   "id": "67194602-57fc-4e92-9801-8d600e52a5b2",
   "metadata": {},
   "outputs": [],
   "source": [
    "%load_ext autoreload\n",
    "%autoreload"
   ]
  },
  {
   "cell_type": "code",
   "execution_count": 7,
   "id": "79487a81-ce62-4847-974a-485a5ce1c515",
   "metadata": {},
   "outputs": [],
   "source": [
    "RAW_TRAIN_CSV_PATH = os.path.join(RAW_DATA_PATH, \"train_csv\")\n",
    "RAW_TRAIN_PARQUET_PATH = os.path.join(RAW_DATA_PATH, \"train_parquet\")\n",
    "RAW_TRAIN_PICKLE_PATH = os.path.join(RAW_DATA_PATH, \"train_pickle\")\n",
    "RAW_TRAIN_FEATHER_PATH = os.path.join(RAW_DATA_PATH, \"train_ftr\")\n",
    "RAW_TEST_PARQUET_PATH = os.path.join(RAW_DATA_PATH, \"test_parquet\")\n",
    "RAW_TEST_PICKLE_PATH = os.path.join(RAW_DATA_PATH, \"test_pickle\")"
   ]
  },
  {
   "cell_type": "markdown",
   "id": "3885beac-e245-43b6-a2cc-73e9f871d132",
   "metadata": {},
   "source": [
    "### Read Data"
   ]
  },
  {
   "cell_type": "code",
   "execution_count": 8,
   "id": "149ef949-1433-40a1-a9fd-42781c21bae2",
   "metadata": {},
   "outputs": [],
   "source": [
    "# id_mapping_df = pd.read_csv(f\"{PROCESSED_DATA_PATH}/id_mapping_df.csv\")"
   ]
  },
  {
   "cell_type": "code",
   "execution_count": 9,
   "id": "0bb7b35b-d163-40cd-948a-ca98da114005",
   "metadata": {},
   "outputs": [
    {
     "name": "stdout",
     "output_type": "stream",
     "text": [
      "Shape of data: (5531451, 191)\n",
      "CPU times: user 4.53 s, sys: 3.03 s, total: 7.55 s\n",
      "Wall time: 7.56 s\n"
     ]
    }
   ],
   "source": [
    "%%time\n",
    "# df = read_file(f\"{RAW_TRAIN_PARQUET_PATH}/train_data.parquet\")\n",
    "# df = read_file(f\"{RAW_TEST_PARQUET_PATH}/test_data.parquet\")\n",
    "# test = read_file(f\"{RAW_DATA_PATH}/test_post_format.pkl\")\n",
    "df = read_file(f\"{RAW_DATA_PATH}/train_post_format.pkl\")"
   ]
  },
  {
   "cell_type": "code",
   "execution_count": 10,
   "id": "79e4eba4-12c2-47b3-84d0-f59ddacb275c",
   "metadata": {},
   "outputs": [],
   "source": [
    "# for col in test.columns:\n",
    "#     if test[col].dtype != train[col].dtype:\n",
    "#         print(col)"
   ]
  },
  {
   "cell_type": "code",
   "execution_count": 11,
   "id": "77ee1bab-e0e0-4bb1-8877-87d40da12064",
   "metadata": {},
   "outputs": [
    {
     "data": {
      "text/plain": [
       "float32           107\n",
       "float16            34\n",
       "int8               34\n",
       "int64               3\n",
       "category            3\n",
       "object              1\n",
       "datetime64[ns]      1\n",
       "category            1\n",
       "category            1\n",
       "category            1\n",
       "category            1\n",
       "category            1\n",
       "category            1\n",
       "category            1\n",
       "category            1\n",
       "dtype: int64"
      ]
     },
     "execution_count": 11,
     "metadata": {},
     "output_type": "execute_result"
    }
   ],
   "source": [
    "df.dtypes.value_counts()"
   ]
  },
  {
   "cell_type": "code",
   "execution_count": 12,
   "id": "b25f6494-0899-47f1-a38d-2dbabdcd90c9",
   "metadata": {},
   "outputs": [],
   "source": [
    "# test.dtypes.value_counts()"
   ]
  },
  {
   "cell_type": "code",
   "execution_count": 13,
   "id": "a8a34e1f-aa71-4cd4-9a2e-736594e186b2",
   "metadata": {},
   "outputs": [],
   "source": [
    "# train.to_pickle(f\"{RAW_DATA_PATH}/train_post_format.pkl\")"
   ]
  },
  {
   "cell_type": "code",
   "execution_count": 14,
   "id": "a45b9d66-a8ef-4f27-add7-b7fce1683e46",
   "metadata": {},
   "outputs": [],
   "source": [
    "# test.to_pickle(f\"{RAW_DATA_PATH}/test_post_format.pkl\")"
   ]
  },
  {
   "cell_type": "code",
   "execution_count": 15,
   "id": "d47ae439-49e9-4f6e-a11b-829544ed0372",
   "metadata": {},
   "outputs": [],
   "source": [
    "# df[\"customer_ID\"] = df[\"customer_ID\"].astype(str)\n",
    "# df[\"S_2\"] = df[\"S_2\"].dt.date"
   ]
  },
  {
   "cell_type": "code",
   "execution_count": 16,
   "id": "a14d2b8f-0446-4d4b-b5e9-4de2be139bf0",
   "metadata": {},
   "outputs": [],
   "source": [
    "if \"row_number\" not in df.columns:\n",
    "    df.insert(1, \"row_number\", df.groupby(\"customer_ID\")[\"S_2\"].rank(method=\"first\", ascending=False).astype(int))"
   ]
  },
  {
   "cell_type": "code",
   "execution_count": 17,
   "id": "44120149-07c2-48d1-b152-d57a9614be3d",
   "metadata": {},
   "outputs": [],
   "source": [
    "# df.dtypes.value_counts()"
   ]
  },
  {
   "cell_type": "code",
   "execution_count": 18,
   "id": "b3f7e098-0735-4240-ae5b-aec8399d0291",
   "metadata": {},
   "outputs": [
    {
     "name": "stderr",
     "output_type": "stream",
     "text": [
      "100%|█████████████████████████████████████████████████████████████████████████████████████████████████████████████████████████████████████████████| 33/33 [00:01<00:00, 20.60it/s]\n"
     ]
    }
   ],
   "source": [
    "for column in tqdm(BINARY_COLUMNS):\n",
    "    if df[column].dtype != \"float16\":\n",
    "        df[column] = df[column].round().astype(\"float16\")"
   ]
  },
  {
   "cell_type": "code",
   "execution_count": 19,
   "id": "e3affeda-47f3-4034-82c0-82b3f459855e",
   "metadata": {},
   "outputs": [
    {
     "name": "stderr",
     "output_type": "stream",
     "text": [
      "100%|█████████████████████████████████████████████████████████████████████████████████████████████████████████████████████████████████████████████| 35/35 [00:00<00:00, 39.65it/s]\n"
     ]
    }
   ],
   "source": [
    "for column, multiplier in tqdm(ROUND_COLUMNS.items()):\n",
    "    if df[column].dtype != \"float16\":\n",
    "        df[column] = df[column] * multiplier\n",
    "        df[column] = df[column].round()\n",
    "        df[column] += abs(df[column].min())\n",
    "        df[column] = df[column].astype(\"float16\")\n",
    "        "
   ]
  },
  {
   "cell_type": "code",
   "execution_count": 20,
   "id": "f05488c1-367d-40b3-82a4-25cc0ca76ab4",
   "metadata": {},
   "outputs": [
    {
     "name": "stderr",
     "output_type": "stream",
     "text": [
      "100%|██████████████████████████████████████████████████████████████████████████████████████████████████████████████████████████████████████████| 11/11 [00:00<00:00, 19223.89it/s]\n"
     ]
    }
   ],
   "source": [
    "for column in tqdm(CATEGORY_COLUMNS):\n",
    "    if df[column].dtype != \"category\":\n",
    "        df[column] = df[column].astype(\"category\")"
   ]
  },
  {
   "cell_type": "code",
   "execution_count": 21,
   "id": "6b4dd323-5fe5-4858-bfa1-e8200fc0c4e4",
   "metadata": {},
   "outputs": [
    {
     "name": "stderr",
     "output_type": "stream",
     "text": [
      "100%|███████████████████████████████████████████████████████████████████████████████████████████████████████████████████████████████████████████████| 1/1 [00:01<00:00,  1.39s/it]\n"
     ]
    }
   ],
   "source": [
    "for column, fillna_value in tqdm(FILLNA_COLUMNS.items()):\n",
    "    df[column] = df[column].fillna(fillna_value)"
   ]
  },
  {
   "cell_type": "code",
   "execution_count": 22,
   "id": "97bd498f-e30a-42f0-9841-da10f3cfcae7",
   "metadata": {},
   "outputs": [
    {
     "name": "stderr",
     "output_type": "stream",
     "text": [
      "100%|██████████████████████████████████████████████████████████████████████████████████████████████████████████████████████████████████████████████| 1/1 [00:00<00:00, 168.81it/s]\n"
     ]
    }
   ],
   "source": [
    "for column in tqdm(HAS_VALUE_COLUMNS):\n",
    "    if df[column].isnull().sum() > 0:\n",
    "        df[column] = (~df[column].isnull()).astype(int)"
   ]
  },
  {
   "cell_type": "code",
   "execution_count": 23,
   "id": "49266532-b929-45f3-ba80-d4db2e0c3f6e",
   "metadata": {},
   "outputs": [
    {
     "name": "stderr",
     "output_type": "stream",
     "text": [
      "100%|█████████████████████████████████████████████████████████████████████████████████████████████████████████████████████████████████████████████| 68/68 [00:01<00:00, 45.94it/s]\n"
     ]
    }
   ],
   "source": [
    "for column in tqdm(list(ROUND_COLUMNS.keys()) + BINARY_COLUMNS):\n",
    "    missing_proportion = df[column].isnull().sum() / df.shape[0]\n",
    "    if missing_proportion == 0:\n",
    "        df[column] = df[column].astype(\"int8\")"
   ]
  },
  {
   "cell_type": "code",
   "execution_count": 24,
   "id": "afa8f4bf-0ceb-41d5-a3be-e4a0c4ab8967",
   "metadata": {},
   "outputs": [
    {
     "data": {
      "text/html": [
       "<div>\n",
       "<style scoped>\n",
       "    .dataframe tbody tr th:only-of-type {\n",
       "        vertical-align: middle;\n",
       "    }\n",
       "\n",
       "    .dataframe tbody tr th {\n",
       "        vertical-align: top;\n",
       "    }\n",
       "\n",
       "    .dataframe thead th {\n",
       "        text-align: right;\n",
       "    }\n",
       "</style>\n",
       "<table border=\"1\" class=\"dataframe\">\n",
       "  <thead>\n",
       "    <tr style=\"text-align: right;\">\n",
       "      <th></th>\n",
       "      <th>customer_ID</th>\n",
       "      <th>row_number</th>\n",
       "      <th>S_2</th>\n",
       "      <th>P_2</th>\n",
       "      <th>D_39</th>\n",
       "      <th>B_1</th>\n",
       "      <th>B_2</th>\n",
       "      <th>R_1</th>\n",
       "      <th>S_3</th>\n",
       "      <th>D_41</th>\n",
       "      <th>...</th>\n",
       "      <th>D_137</th>\n",
       "      <th>D_138</th>\n",
       "      <th>D_139</th>\n",
       "      <th>D_140</th>\n",
       "      <th>D_141</th>\n",
       "      <th>D_142</th>\n",
       "      <th>D_143</th>\n",
       "      <th>D_144</th>\n",
       "      <th>D_145</th>\n",
       "      <th>target</th>\n",
       "    </tr>\n",
       "  </thead>\n",
       "  <tbody>\n",
       "    <tr>\n",
       "      <th>0</th>\n",
       "      <td>0000099d6bd597052cdcda90ffabf56573fe9d7c79be5f...</td>\n",
       "      <td>13</td>\n",
       "      <td>2017-03-09</td>\n",
       "      <td>0.938469</td>\n",
       "      <td>0.001733</td>\n",
       "      <td>0.008724</td>\n",
       "      <td>1.006838</td>\n",
       "      <td>0.009228</td>\n",
       "      <td>0.124035</td>\n",
       "      <td>0.008771</td>\n",
       "      <td>...</td>\n",
       "      <td>1</td>\n",
       "      <td>NaN</td>\n",
       "      <td>0.0</td>\n",
       "      <td>0.0</td>\n",
       "      <td>0.003818</td>\n",
       "      <td>NaN</td>\n",
       "      <td>0.0</td>\n",
       "      <td>0.000610</td>\n",
       "      <td>0.0</td>\n",
       "      <td>0</td>\n",
       "    </tr>\n",
       "    <tr>\n",
       "      <th>1</th>\n",
       "      <td>0000099d6bd597052cdcda90ffabf56573fe9d7c79be5f...</td>\n",
       "      <td>12</td>\n",
       "      <td>2017-04-07</td>\n",
       "      <td>0.936665</td>\n",
       "      <td>0.005775</td>\n",
       "      <td>0.004923</td>\n",
       "      <td>1.000653</td>\n",
       "      <td>0.006151</td>\n",
       "      <td>0.126750</td>\n",
       "      <td>0.000798</td>\n",
       "      <td>...</td>\n",
       "      <td>1</td>\n",
       "      <td>NaN</td>\n",
       "      <td>0.0</td>\n",
       "      <td>0.0</td>\n",
       "      <td>0.005032</td>\n",
       "      <td>NaN</td>\n",
       "      <td>0.0</td>\n",
       "      <td>0.005492</td>\n",
       "      <td>0.0</td>\n",
       "      <td>0</td>\n",
       "    </tr>\n",
       "    <tr>\n",
       "      <th>2</th>\n",
       "      <td>0000099d6bd597052cdcda90ffabf56573fe9d7c79be5f...</td>\n",
       "      <td>11</td>\n",
       "      <td>2017-05-28</td>\n",
       "      <td>0.954180</td>\n",
       "      <td>0.091505</td>\n",
       "      <td>0.021655</td>\n",
       "      <td>1.009672</td>\n",
       "      <td>0.006815</td>\n",
       "      <td>0.123977</td>\n",
       "      <td>0.007598</td>\n",
       "      <td>...</td>\n",
       "      <td>1</td>\n",
       "      <td>NaN</td>\n",
       "      <td>0.0</td>\n",
       "      <td>0.0</td>\n",
       "      <td>0.000427</td>\n",
       "      <td>NaN</td>\n",
       "      <td>0.0</td>\n",
       "      <td>0.006986</td>\n",
       "      <td>0.0</td>\n",
       "      <td>0</td>\n",
       "    </tr>\n",
       "    <tr>\n",
       "      <th>3</th>\n",
       "      <td>0000099d6bd597052cdcda90ffabf56573fe9d7c79be5f...</td>\n",
       "      <td>10</td>\n",
       "      <td>2017-06-13</td>\n",
       "      <td>0.960384</td>\n",
       "      <td>0.002455</td>\n",
       "      <td>0.013683</td>\n",
       "      <td>1.002700</td>\n",
       "      <td>0.001373</td>\n",
       "      <td>0.117169</td>\n",
       "      <td>0.000685</td>\n",
       "      <td>...</td>\n",
       "      <td>1</td>\n",
       "      <td>NaN</td>\n",
       "      <td>0.0</td>\n",
       "      <td>0.0</td>\n",
       "      <td>0.003200</td>\n",
       "      <td>NaN</td>\n",
       "      <td>0.0</td>\n",
       "      <td>0.006527</td>\n",
       "      <td>0.0</td>\n",
       "      <td>0</td>\n",
       "    </tr>\n",
       "    <tr>\n",
       "      <th>4</th>\n",
       "      <td>0000099d6bd597052cdcda90ffabf56573fe9d7c79be5f...</td>\n",
       "      <td>9</td>\n",
       "      <td>2017-07-16</td>\n",
       "      <td>0.947248</td>\n",
       "      <td>0.002483</td>\n",
       "      <td>0.015193</td>\n",
       "      <td>1.000727</td>\n",
       "      <td>0.007605</td>\n",
       "      <td>0.117325</td>\n",
       "      <td>0.004653</td>\n",
       "      <td>...</td>\n",
       "      <td>1</td>\n",
       "      <td>NaN</td>\n",
       "      <td>0.0</td>\n",
       "      <td>0.0</td>\n",
       "      <td>0.008889</td>\n",
       "      <td>NaN</td>\n",
       "      <td>0.0</td>\n",
       "      <td>0.008126</td>\n",
       "      <td>0.0</td>\n",
       "      <td>0</td>\n",
       "    </tr>\n",
       "  </tbody>\n",
       "</table>\n",
       "<p>5 rows × 191 columns</p>\n",
       "</div>"
      ],
      "text/plain": [
       "                                         customer_ID  row_number        S_2  \\\n",
       "0  0000099d6bd597052cdcda90ffabf56573fe9d7c79be5f...          13 2017-03-09   \n",
       "1  0000099d6bd597052cdcda90ffabf56573fe9d7c79be5f...          12 2017-04-07   \n",
       "2  0000099d6bd597052cdcda90ffabf56573fe9d7c79be5f...          11 2017-05-28   \n",
       "3  0000099d6bd597052cdcda90ffabf56573fe9d7c79be5f...          10 2017-06-13   \n",
       "4  0000099d6bd597052cdcda90ffabf56573fe9d7c79be5f...           9 2017-07-16   \n",
       "\n",
       "        P_2      D_39       B_1       B_2       R_1       S_3      D_41  ...  \\\n",
       "0  0.938469  0.001733  0.008724  1.006838  0.009228  0.124035  0.008771  ...   \n",
       "1  0.936665  0.005775  0.004923  1.000653  0.006151  0.126750  0.000798  ...   \n",
       "2  0.954180  0.091505  0.021655  1.009672  0.006815  0.123977  0.007598  ...   \n",
       "3  0.960384  0.002455  0.013683  1.002700  0.001373  0.117169  0.000685  ...   \n",
       "4  0.947248  0.002483  0.015193  1.000727  0.007605  0.117325  0.004653  ...   \n",
       "\n",
       "   D_137  D_138  D_139  D_140     D_141  D_142  D_143     D_144  D_145  target  \n",
       "0      1    NaN    0.0    0.0  0.003818    NaN    0.0  0.000610    0.0       0  \n",
       "1      1    NaN    0.0    0.0  0.005032    NaN    0.0  0.005492    0.0       0  \n",
       "2      1    NaN    0.0    0.0  0.000427    NaN    0.0  0.006986    0.0       0  \n",
       "3      1    NaN    0.0    0.0  0.003200    NaN    0.0  0.006527    0.0       0  \n",
       "4      1    NaN    0.0    0.0  0.008889    NaN    0.0  0.008126    0.0       0  \n",
       "\n",
       "[5 rows x 191 columns]"
      ]
     },
     "execution_count": 24,
     "metadata": {},
     "output_type": "execute_result"
    }
   ],
   "source": [
    "df.head()"
   ]
  },
  {
   "cell_type": "code",
   "execution_count": 25,
   "id": "2fb092cf-1ebb-473a-8284-1517a858c612",
   "metadata": {},
   "outputs": [
    {
     "name": "stdout",
     "output_type": "stream",
     "text": [
      "B_18\n",
      "Data size: (5531451, 191)\n",
      "Missing proportion: 0.00\n"
     ]
    },
    {
     "data": {
      "image/png": "[encoded data removed]",
      "text/plain": [
       "<Figure size 1440x504 with 1 Axes>"
      ]
     },
     "metadata": {
      "needs_background": "light"
     },
     "output_type": "display_data"
    },
    {
     "name": "stdout",
     "output_type": "stream",
     "text": [
      "B_22\n",
      "Data size: (5531451, 191)\n",
      "Missing proportion: 0.00\n"
     ]
    },
    {
     "data": {
      "image/png": "[encoded data removed]",
      "text/plain": [
       "<Figure size 1440x504 with 1 Axes>"
      ]
     },
     "metadata": {
      "needs_background": "light"
     },
     "output_type": "display_data"
    },
    {
     "name": "stdout",
     "output_type": "stream",
     "text": [
      "B_41\n",
      "Data size: (5531451, 191)\n",
      "Missing proportion: 0.00\n"
     ]
    },
    {
     "name": "stderr",
     "output_type": "stream",
     "text": [
      "\n",
      "KeyboardInterrupt\n",
      "\n"
     ]
    }
   ],
   "source": [
    "for column in ROUND_COLUMNS:\n",
    "    print(column)\n",
    "    print(\"Data size:\", df.shape)\n",
    "    print(f\"Missing proportion: {df[column].isnull().sum() / df.shape[0]:.2f}\")\n",
    "    plt.figure(figsize=(20, 7))\n",
    "    plt.scatter(x=df[column], y=df[\"P_3\"])\n",
    "    plt.show()"
   ]
  },
  {
   "cell_type": "code",
   "execution_count": null,
   "id": "1ad1706f-c7ba-4d47-aafd-88368bbbb762",
   "metadata": {},
   "outputs": [],
   "source": [
    "def process_data_type_and_format(df):\n",
    "    for cat_col in CATEGORY_COLUMNS:\n",
    "        if df.loc[:, cat_col].dtype != \"category\":\n",
    "            df.loc[:, cat_col] = df.loc[:, cat_col].astype(\"category\")\n",
    "\n",
    "    for col in INTEGER_COLUMNS:\n",
    "        try:\n",
    "            df.loc[:, col] = df.loc[:, col].astype(\"int8\")\n",
    "        except:\n",
    "            df.loc[:, col] = df.loc[:, col].round(0)\n",
    "\n",
    "    for col in HAS_VALUE_COLUMNS:\n",
    "        df.loc[:, col] = (~df.loc[:, col].isnull()).astype(\"int8\")\n",
    "\n",
    "    for col in BINARY_COLUMNS:\n",
    "        try:\n",
    "            df.loc[:, col] = df.loc[:, col].astype(\"int8\")\n",
    "        except:\n",
    "            df.loc[:, col] = df.loc[:, col].round(0)\n",
    "\n",
    "    for col in FILLNA_COLUMNS:\n",
    "        df.loc[:, col] = df.loc[:, col].fillna(0).astype(\"int8\")\n",
    "        \n",
    "    return df"
   ]
  },
  {
   "cell_type": "code",
   "execution_count": null,
   "id": "f1ef1d38-f2f6-49f2-ac52-b57c06d78f61",
   "metadata": {},
   "outputs": [],
   "source": [
    "%%time\n",
    "df = process_data_type_and_format(df)"
   ]
  },
  {
   "cell_type": "code",
   "execution_count": null,
   "id": "47d64e4f-196b-4376-84c8-52ffb79b5b00",
   "metadata": {},
   "outputs": [],
   "source": [
    "# df.to_pickle(f\"{RAW_DATA_PATH}/te_post_format.pkl\")"
   ]
  },
  {
   "cell_type": "markdown",
   "id": "718aed95-bd04-4d38-acd0-b52e7abe8cdf",
   "metadata": {},
   "source": [
    "### END"
   ]
  },
  {
   "cell_type": "code",
   "execution_count": 26,
   "id": "b6999aff-343a-4d89-9ae6-a98e28232e47",
   "metadata": {},
   "outputs": [
    {
     "name": "stdout",
     "output_type": "stream",
     "text": [
      "CPU times: user 2.24 s, sys: 1.4 s, total: 3.64 s\n",
      "Wall time: 3.64 s\n"
     ]
    }
   ],
   "source": [
    "%%time\n",
    "df_lag0 = df.loc[df[\"row_number\"] == 1].reset_index(drop=True)"
   ]
  },
  {
   "cell_type": "code",
   "execution_count": 27,
   "id": "86a9dafa-6770-450b-a617-25f8a274760d",
   "metadata": {},
   "outputs": [],
   "source": [
    "# del train, val"
   ]
  },
  {
   "cell_type": "code",
   "execution_count": 28,
   "id": "ca4ae7e9-b0b2-4dc7-94de-d850e5930e48",
   "metadata": {},
   "outputs": [],
   "source": [
    "labels_df = pd.read_csv(f\"{RAW_DATA_PATH}/train_labels.csv\")"
   ]
  },
  {
   "cell_type": "code",
   "execution_count": 29,
   "id": "8c713f62-57c4-4d2e-9a5e-1374d2fb1488",
   "metadata": {},
   "outputs": [],
   "source": [
    "# labels_df = labels_df.merge(id_mapping_df, \n",
    "#                             on=\"customer_ID\", \n",
    "#                             how=\"left\").drop(columns=\"customer_ID\").rename(columns={\"id\": \"customer_ID\"})"
   ]
  },
  {
   "cell_type": "code",
   "execution_count": 30,
   "id": "26c66483-81b9-4783-8975-d77e585e7f4c",
   "metadata": {},
   "outputs": [],
   "source": [
    "# df_lag0 = df_lag0.merge(\n",
    "#     labels_df, \n",
    "#     on=\"customer_ID\", \n",
    "#     how=\"left\"\n",
    "# )"
   ]
  },
  {
   "cell_type": "code",
   "execution_count": 31,
   "id": "17448f5f-cd71-45df-95ac-05146822fba9",
   "metadata": {},
   "outputs": [],
   "source": [
    "settle_columns = sorted(\n",
    "    CATEGORY_COLUMNS + HAS_VALUE_COLUMNS + SPECIAL_COLUMNS + BINARY_COLUMNS + CONTINUOUS_COLUMNS + \\\n",
    "    list(FILLNA_COLUMNS) + list(ROUND_COLUMNS.keys())\n",
    ")"
   ]
  },
  {
   "cell_type": "code",
   "execution_count": 32,
   "id": "f9934cdc-90e0-407e-a22d-50f57ad3d4e5",
   "metadata": {},
   "outputs": [],
   "source": [
    "# %%time\n",
    "# df_lag0.loc[:, CATEGORY_COLUMNS] = df_lag0.loc[:, CATEGORY_COLUMNS].astype(\"category\")\n",
    "\n",
    "# for col in HAS_VALUE_COLUMNS:\n",
    "#     df_lag0.loc[:, col] = (~df_lag0.loc[:, col].isnull()).astype(\"int8\")\n",
    "\n",
    "# for col in BINARY_COLUMNS:\n",
    "#     try:\n",
    "#         df_lag0.loc[:, col] = df_lag0.loc[:, col].astype(\"int8\")\n",
    "#     except:\n",
    "#         df_lag0.loc[:, col] = df_lag0.loc[:, col].round(0)\n",
    "\n",
    "# for col in FILLNA_COLUMNS:\n",
    "#     df_lag0.loc[:, col] = df_lag0.loc[:, col].fillna(0).astype(\"int8\")"
   ]
  },
  {
   "cell_type": "code",
   "execution_count": 33,
   "id": "934b2de2-373a-453d-9632-f94f2a5e5c37",
   "metadata": {},
   "outputs": [],
   "source": [
    "# df_lag0.to_pickle(f\"{RAW_DATA_PATH}/train_lag0_post_format.pkl\")"
   ]
  },
  {
   "cell_type": "code",
   "execution_count": 34,
   "id": "602df670-0bc2-422b-b418-6b729a6e285c",
   "metadata": {},
   "outputs": [
    {
     "name": "stdout",
     "output_type": "stream",
     "text": [
      "[]\n"
     ]
    }
   ],
   "source": [
    "belum_settle_columns = sorted([col for col in df_lag0.columns[3:-1] if col not in settle_columns])\n",
    "print(belum_settle_columns)"
   ]
  },
  {
   "cell_type": "code",
   "execution_count": 35,
   "id": "bc3022c7-f550-4109-b68f-c1bfbf3550d8",
   "metadata": {},
   "outputs": [],
   "source": [
    "# index = 31\n",
    "# column = belum_settle_columns[index]\n",
    "# print(column)\n",
    "# print(\"Data size:\", df_lag0.shape)\n",
    "# print(\"Missing value:\", df_lag0[column].isnull().sum())\n",
    "# plt.figure(figsize=(20, 7))\n",
    "# plt.scatter(x=df_lag0[column], y=df_lag0[\"P_3\"])\n",
    "# plt.show()"
   ]
  },
  {
   "cell_type": "code",
   "execution_count": 36,
   "id": "15f04f00-cb83-46d8-93f9-4b5103758212",
   "metadata": {},
   "outputs": [
    {
     "data": {
      "text/plain": [
       "count    458913.0\n",
       "mean          0.0\n",
       "std           0.0\n",
       "min           0.0\n",
       "25%           0.0\n",
       "50%           0.0\n",
       "75%           0.0\n",
       "max          22.0\n",
       "Name: B_41, dtype: float64"
      ]
     },
     "execution_count": 36,
     "metadata": {},
     "output_type": "execute_result"
    }
   ],
   "source": [
    "df_lag0[column].round(1).describe()"
   ]
  },
  {
   "cell_type": "code",
   "execution_count": 37,
   "id": "c4407923-fee5-41d3-8eb3-e0fce4e068cb",
   "metadata": {},
   "outputs": [
    {
     "data": {
      "image/png": "[encoded data removed]",
      "text/plain": [
       "<Figure size 432x288 with 1 Axes>"
      ]
     },
     "metadata": {
      "needs_background": "light"
     },
     "output_type": "display_data"
    }
   ],
   "source": [
    "df_lag0[column].plot.hist()\n",
    "plt.show()"
   ]
  },
  {
   "cell_type": "markdown",
   "id": "715da6a8-14c3-4238-ae10-6ec4bdc6d456",
   "metadata": {},
   "source": [
    "### Dart Training"
   ]
  },
  {
   "cell_type": "code",
   "execution_count": 38,
   "id": "2cafdaeb-a0f1-4df6-ac8a-cb6fdcb8f430",
   "metadata": {},
   "outputs": [],
   "source": [
    "train, val = train_test_split(df_lag0, test_size=0.15, random_state=923, stratify=df_lag0[\"target\"])"
   ]
  },
  {
   "cell_type": "code",
   "execution_count": 39,
   "id": "28941980-56f5-4b76-b7ec-a26e168a2df3",
   "metadata": {},
   "outputs": [
    {
     "data": {
      "text/plain": [
       "((390076, 191), (68837, 191))"
      ]
     },
     "execution_count": 39,
     "metadata": {},
     "output_type": "execute_result"
    }
   ],
   "source": [
    "train.shape, val.shape"
   ]
  },
  {
   "cell_type": "code",
   "execution_count": 40,
   "id": "725cb11b-b956-490a-8513-17c959757141",
   "metadata": {},
   "outputs": [],
   "source": [
    "target = train[\"target\"].values"
   ]
  },
  {
   "cell_type": "code",
   "execution_count": 41,
   "id": "a09a428b-0f43-44a0-834d-c42542beea93",
   "metadata": {},
   "outputs": [],
   "source": [
    "features = [col for col in train.columns if col not in [\"customer_ID\", \"row_number\", \"S_2\", \"target\"]]"
   ]
  },
  {
   "cell_type": "code",
   "execution_count": 51,
   "id": "ca04142d-6323-4388-8e1b-1d2500f1e5fa",
   "metadata": {},
   "outputs": [],
   "source": [
    "def objective(trial):\n",
    "    kf = StratifiedKFold(n_splits=5)\n",
    "    params = {\n",
    "        \"objective\": \"binary\",\n",
    "        \"verbosity\": -1,\n",
    "        \"boosting_type\": \"dart\",\n",
    "        \"reg_alpha\": trial.suggest_float(\"reg_alpha\", 0.01, 3, log=True),\n",
    "        \"reg_lambda\": trial.suggest_float(\"reg_lambda\", 0.01, 3, log=True),\n",
    "        # \"learning_rate\": trial.suggest_float(\"learning_rate\", 0.03, 0.1, log=True),\n",
    "        \"n_estimators\": trial.suggest_int(\"n_estimators\", 280, 360),\n",
    "        \"colsample_bytree\": trial.suggest_float(\"colsample_bytree\", 0.3, 0.65),\n",
    "        \"subsample\": trial.suggest_float(\"subsample\", 0.5, 0.9),\n",
    "        \"subsample_freq\": trial.suggest_int(\"subsample_freq\", 3, 7),\n",
    "        \"min_child_samples\": trial.suggest_int(\"min_child_samples\", 150, 225),\n",
    "        \"scale_pos_weight\": trial.suggest_float(\"scale_pos_weight\", 1.9, 2.25),\n",
    "        # \"max_bins\": trial.suggest_int(\"max_bins\", 100, 200),\n",
    "        # \"max_depth\": trial.suggest_int(\"max_depth\", 10, 20),\n",
    "    }\n",
    "    \n",
    "    score_list = []\n",
    "    params[\"learning_rate\"] = 0.05\n",
    "    params[\"num_leaves\"] = 100000\n",
    "    print(params)\n",
    "    for fold, (idx_tr, idx_va) in zip(range(1, 5+1), kf.split(train, target)):\n",
    "        X_train, X_val, y_train, y_val, model = None, None, None, None, None\n",
    "        X_train = train.iloc[idx_tr][features]\n",
    "        X_val = train.iloc[idx_va][features]\n",
    "        y_train = target[idx_tr]\n",
    "        y_val = target[idx_va]\n",
    "        model = LGBMClassifier(**params)\n",
    "        with warnings.catch_warnings():\n",
    "            warnings.filterwarnings('ignore', category=UserWarning)\n",
    "            model.fit(\n",
    "                X_train,\n",
    "                y_train,\n",
    "                eval_set=[(X_val, y_val)], \n",
    "                eval_metric=[lgb_amex_metric],\n",
    "                verbose=-1\n",
    "                # callbacks=[log_evaluation(params[\"n_estimators\"])]\n",
    "            )\n",
    "        y_train_pred = model.predict_proba(X_train, raw_score=True)\n",
    "        train_score = amex_metric(y_train, y_train_pred)\n",
    "        X_train, y_train = None, None\n",
    "        y_val_pred = model.predict_proba(X_val, raw_score=True)\n",
    "        val_score = amex_metric(y_val, y_val_pred)\n",
    "        print(f\"Fold {fold} | Train Score = {train_score:.5f}\")\n",
    "        print(f\"{Fore.GREEN}{Style.BRIGHT}Fold {fold} | Val   Score = {val_score:.5f}{Style.RESET_ALL}\")\n",
    "        score_list.append(val_score)\n",
    "\n",
    "    return np.mean(score_list)"
   ]
  },
  {
   "cell_type": "code",
   "execution_count": 52,
   "id": "0773d1b0-2b9a-4560-bbdd-5d91daf03d05",
   "metadata": {},
   "outputs": [],
   "source": [
    "# study = optuna.create_study(direction=\"maximize\")"
   ]
  },
  {
   "cell_type": "code",
   "execution_count": 53,
   "id": "14983ee6-b08f-4a9f-952c-e9dbbcfccd4d",
   "metadata": {},
   "outputs": [
    {
     "name": "stdout",
     "output_type": "stream",
     "text": [
      "{'objective': 'binary', 'verbosity': -1, 'boosting_type': 'dart', 'reg_alpha': 0.05221046187839167, 'reg_lambda': 0.05529458963492882, 'n_estimators': 295, 'colsample_bytree': 0.32282318425268186, 'subsample': 0.5469636131652487, 'subsample_freq': 5, 'min_child_samples': 193, 'scale_pos_weight': 2.0818498921083166, 'learning_rate': 0.05, 'num_leaves': 100000}\n",
      "Fold 1 | Train Score = 0.84480\n",
      "\u001b[32m\u001b[1mFold 1 | Val   Score = 0.78127\u001b[0m\n",
      "Fold 2 | Train Score = 0.84513\n",
      "\u001b[32m\u001b[1mFold 2 | Val   Score = 0.77877\u001b[0m\n",
      "Fold 3 | Train Score = 0.84369\n",
      "\u001b[32m\u001b[1mFold 3 | Val   Score = 0.78488\u001b[0m\n",
      "Fold 4 | Train Score = 0.84485\n",
      "\u001b[32m\u001b[1mFold 4 | Val   Score = 0.78013\u001b[0m\n"
     ]
    },
    {
     "name": "stderr",
     "output_type": "stream",
     "text": [
      "\u001b[32m[I 2022-07-09 09:51:50,423]\u001b[0m Trial 30 finished with value: 0.7800692946733639 and parameters: {'reg_alpha': 0.05221046187839167, 'reg_lambda': 0.05529458963492882, 'n_estimators': 295, 'colsample_bytree': 0.32282318425268186, 'subsample': 0.5469636131652487, 'subsample_freq': 5, 'min_child_samples': 193, 'scale_pos_weight': 2.0818498921083166}. Best is trial 26 with value: 0.781032892376459.\u001b[0m\n"
     ]
    },
    {
     "name": "stdout",
     "output_type": "stream",
     "text": [
      "Fold 5 | Train Score = 0.84592\n",
      "\u001b[32m\u001b[1mFold 5 | Val   Score = 0.77529\u001b[0m\n",
      "{'objective': 'binary', 'verbosity': -1, 'boosting_type': 'dart', 'reg_alpha': 0.07047595415756429, 'reg_lambda': 0.0826101286266779, 'n_estimators': 289, 'colsample_bytree': 0.6374817483035293, 'subsample': 0.8338623453678681, 'subsample_freq': 5, 'min_child_samples': 193, 'scale_pos_weight': 2.1495696266726605, 'learning_rate': 0.05, 'num_leaves': 100000}\n",
      "Fold 1 | Train Score = 0.88170\n",
      "\u001b[32m\u001b[1mFold 1 | Val   Score = 0.78232\u001b[0m\n",
      "Fold 2 | Train Score = 0.88169\n",
      "\u001b[32m\u001b[1mFold 2 | Val   Score = 0.77886\u001b[0m\n",
      "Fold 3 | Train Score = 0.88222\n",
      "\u001b[32m\u001b[1mFold 3 | Val   Score = 0.78302\u001b[0m\n",
      "Fold 4 | Train Score = 0.88142\n",
      "\u001b[32m\u001b[1mFold 4 | Val   Score = 0.77966\u001b[0m\n"
     ]
    },
    {
     "name": "stderr",
     "output_type": "stream",
     "text": [
      "\u001b[32m[I 2022-07-09 10:04:44,969]\u001b[0m Trial 31 finished with value: 0.7797626884434999 and parameters: {'reg_alpha': 0.07047595415756429, 'reg_lambda': 0.0826101286266779, 'n_estimators': 289, 'colsample_bytree': 0.6374817483035293, 'subsample': 0.8338623453678681, 'subsample_freq': 5, 'min_child_samples': 193, 'scale_pos_weight': 2.1495696266726605}. Best is trial 26 with value: 0.781032892376459.\u001b[0m\n"
     ]
    },
    {
     "name": "stdout",
     "output_type": "stream",
     "text": [
      "Fold 5 | Train Score = 0.88285\n",
      "\u001b[32m\u001b[1mFold 5 | Val   Score = 0.77495\u001b[0m\n",
      "{'objective': 'binary', 'verbosity': -1, 'boosting_type': 'dart', 'reg_alpha': 0.029133121110540693, 'reg_lambda': 0.018254895262542932, 'n_estimators': 294, 'colsample_bytree': 0.4568954487318736, 'subsample': 0.8236590924765501, 'subsample_freq': 5, 'min_child_samples': 180, 'scale_pos_weight': 2.1409626120863003, 'learning_rate': 0.05, 'num_leaves': 100000}\n",
      "Fold 1 | Train Score = 0.88586\n",
      "\u001b[32m\u001b[1mFold 1 | Val   Score = 0.78091\u001b[0m\n",
      "Fold 2 | Train Score = 0.88492\n",
      "\u001b[32m\u001b[1mFold 2 | Val   Score = 0.77956\u001b[0m\n",
      "Fold 3 | Train Score = 0.88514\n",
      "\u001b[32m\u001b[1mFold 3 | Val   Score = 0.78577\u001b[0m\n",
      "Fold 4 | Train Score = 0.88475\n",
      "\u001b[32m\u001b[1mFold 4 | Val   Score = 0.78088\u001b[0m\n"
     ]
    },
    {
     "name": "stderr",
     "output_type": "stream",
     "text": [
      "\u001b[32m[I 2022-07-09 10:17:01,291]\u001b[0m Trial 32 finished with value: 0.780356664126467 and parameters: {'reg_alpha': 0.029133121110540693, 'reg_lambda': 0.018254895262542932, 'n_estimators': 294, 'colsample_bytree': 0.4568954487318736, 'subsample': 0.8236590924765501, 'subsample_freq': 5, 'min_child_samples': 180, 'scale_pos_weight': 2.1409626120863003}. Best is trial 26 with value: 0.781032892376459.\u001b[0m\n"
     ]
    },
    {
     "name": "stdout",
     "output_type": "stream",
     "text": [
      "Fold 5 | Train Score = 0.88682\n",
      "\u001b[32m\u001b[1mFold 5 | Val   Score = 0.77466\u001b[0m\n",
      "{'objective': 'binary', 'verbosity': -1, 'boosting_type': 'dart', 'reg_alpha': 0.011809819957965323, 'reg_lambda': 0.08940773758339725, 'n_estimators': 288, 'colsample_bytree': 0.5442166869937386, 'subsample': 0.5077037030770382, 'subsample_freq': 5, 'min_child_samples': 198, 'scale_pos_weight': 2.0589137358558656, 'learning_rate': 0.05, 'num_leaves': 100000}\n",
      "Fold 1 | Train Score = 0.84227\n",
      "\u001b[32m\u001b[1mFold 1 | Val   Score = 0.78263\u001b[0m\n",
      "Fold 2 | Train Score = 0.84235\n",
      "\u001b[32m\u001b[1mFold 2 | Val   Score = 0.77913\u001b[0m\n",
      "Fold 3 | Train Score = 0.84284\n",
      "\u001b[32m\u001b[1mFold 3 | Val   Score = 0.78653\u001b[0m\n",
      "Fold 4 | Train Score = 0.84264\n",
      "\u001b[32m\u001b[1mFold 4 | Val   Score = 0.78019\u001b[0m\n"
     ]
    },
    {
     "name": "stderr",
     "output_type": "stream",
     "text": [
      "\u001b[32m[I 2022-07-09 10:26:44,481]\u001b[0m Trial 33 finished with value: 0.780484593226733 and parameters: {'reg_alpha': 0.011809819957965323, 'reg_lambda': 0.08940773758339725, 'n_estimators': 288, 'colsample_bytree': 0.5442166869937386, 'subsample': 0.5077037030770382, 'subsample_freq': 5, 'min_child_samples': 198, 'scale_pos_weight': 2.0589137358558656}. Best is trial 26 with value: 0.781032892376459.\u001b[0m\n"
     ]
    },
    {
     "name": "stdout",
     "output_type": "stream",
     "text": [
      "Fold 5 | Train Score = 0.84332\n",
      "\u001b[32m\u001b[1mFold 5 | Val   Score = 0.77395\u001b[0m\n",
      "{'objective': 'binary', 'verbosity': -1, 'boosting_type': 'dart', 'reg_alpha': 0.07490651257805736, 'reg_lambda': 0.04203180233535071, 'n_estimators': 295, 'colsample_bytree': 0.5020395707649, 'subsample': 0.8638274860000448, 'subsample_freq': 6, 'min_child_samples': 205, 'scale_pos_weight': 2.094718226282311, 'learning_rate': 0.05, 'num_leaves': 100000}\n",
      "Fold 1 | Train Score = 0.87928\n",
      "\u001b[32m\u001b[1mFold 1 | Val   Score = 0.78267\u001b[0m\n",
      "Fold 2 | Train Score = 0.87934\n",
      "\u001b[32m\u001b[1mFold 2 | Val   Score = 0.78051\u001b[0m\n",
      "Fold 3 | Train Score = 0.87843\n",
      "\u001b[32m\u001b[1mFold 3 | Val   Score = 0.78652\u001b[0m\n",
      "Fold 4 | Train Score = 0.87899\n",
      "\u001b[32m\u001b[1mFold 4 | Val   Score = 0.78105\u001b[0m\n"
     ]
    },
    {
     "name": "stderr",
     "output_type": "stream",
     "text": [
      "\u001b[32m[I 2022-07-09 10:39:07,485]\u001b[0m Trial 34 finished with value: 0.7811815107570494 and parameters: {'reg_alpha': 0.07490651257805736, 'reg_lambda': 0.04203180233535071, 'n_estimators': 295, 'colsample_bytree': 0.5020395707649, 'subsample': 0.8638274860000448, 'subsample_freq': 6, 'min_child_samples': 205, 'scale_pos_weight': 2.094718226282311}. Best is trial 34 with value: 0.7811815107570494.\u001b[0m\n"
     ]
    },
    {
     "name": "stdout",
     "output_type": "stream",
     "text": [
      "Fold 5 | Train Score = 0.88032\n",
      "\u001b[32m\u001b[1mFold 5 | Val   Score = 0.77516\u001b[0m\n",
      "{'objective': 'binary', 'verbosity': -1, 'boosting_type': 'dart', 'reg_alpha': 0.04806928320505212, 'reg_lambda': 0.0486485045365051, 'n_estimators': 301, 'colsample_bytree': 0.5056740937370071, 'subsample': 0.8636400086026754, 'subsample_freq': 6, 'min_child_samples': 184, 'scale_pos_weight': 2.0939273928954347, 'learning_rate': 0.05, 'num_leaves': 100000}\n",
      "Fold 1 | Train Score = 0.89008\n",
      "\u001b[32m\u001b[1mFold 1 | Val   Score = 0.78365\u001b[0m\n",
      "Fold 2 | Train Score = 0.88949\n",
      "\u001b[32m\u001b[1mFold 2 | Val   Score = 0.77761\u001b[0m\n",
      "Fold 3 | Train Score = 0.89031\n",
      "\u001b[32m\u001b[1mFold 3 | Val   Score = 0.78517\u001b[0m\n",
      "Fold 4 | Train Score = 0.88993\n",
      "\u001b[32m\u001b[1mFold 4 | Val   Score = 0.78147\u001b[0m\n"
     ]
    },
    {
     "name": "stderr",
     "output_type": "stream",
     "text": [
      "\u001b[32m[I 2022-07-09 10:52:30,496]\u001b[0m Trial 35 finished with value: 0.7805430126926398 and parameters: {'reg_alpha': 0.04806928320505212, 'reg_lambda': 0.0486485045365051, 'n_estimators': 301, 'colsample_bytree': 0.5056740937370071, 'subsample': 0.8636400086026754, 'subsample_freq': 6, 'min_child_samples': 184, 'scale_pos_weight': 2.0939273928954347}. Best is trial 34 with value: 0.7811815107570494.\u001b[0m\n"
     ]
    },
    {
     "name": "stdout",
     "output_type": "stream",
     "text": [
      "Fold 5 | Train Score = 0.89116\n",
      "\u001b[32m\u001b[1mFold 5 | Val   Score = 0.77481\u001b[0m\n",
      "{'objective': 'binary', 'verbosity': -1, 'boosting_type': 'dart', 'reg_alpha': 0.07616986538186112, 'reg_lambda': 0.024957054298278266, 'n_estimators': 303, 'colsample_bytree': 0.3062999735105544, 'subsample': 0.8932831079331761, 'subsample_freq': 4, 'min_child_samples': 194, 'scale_pos_weight': 2.0240994776116854, 'learning_rate': 0.05, 'num_leaves': 100000}\n",
      "Fold 1 | Train Score = 0.88106\n",
      "\u001b[32m\u001b[1mFold 1 | Val   Score = 0.78285\u001b[0m\n",
      "Fold 2 | Train Score = 0.88203\n",
      "\u001b[32m\u001b[1mFold 2 | Val   Score = 0.78103\u001b[0m\n",
      "Fold 3 | Train Score = 0.88211\n",
      "\u001b[32m\u001b[1mFold 3 | Val   Score = 0.78621\u001b[0m\n",
      "Fold 4 | Train Score = 0.88135\n",
      "\u001b[32m\u001b[1mFold 4 | Val   Score = 0.78058\u001b[0m\n"
     ]
    },
    {
     "name": "stderr",
     "output_type": "stream",
     "text": [
      "\u001b[32m[I 2022-07-09 11:04:30,009]\u001b[0m Trial 36 finished with value: 0.7809456230822314 and parameters: {'reg_alpha': 0.07616986538186112, 'reg_lambda': 0.024957054298278266, 'n_estimators': 303, 'colsample_bytree': 0.3062999735105544, 'subsample': 0.8932831079331761, 'subsample_freq': 4, 'min_child_samples': 194, 'scale_pos_weight': 2.0240994776116854}. Best is trial 34 with value: 0.7811815107570494.\u001b[0m\n"
     ]
    },
    {
     "name": "stdout",
     "output_type": "stream",
     "text": [
      "Fold 5 | Train Score = 0.88252\n",
      "\u001b[32m\u001b[1mFold 5 | Val   Score = 0.77407\u001b[0m\n",
      "{'objective': 'binary', 'verbosity': -1, 'boosting_type': 'dart', 'reg_alpha': 0.023801701428866968, 'reg_lambda': 0.014197155528095789, 'n_estimators': 305, 'colsample_bytree': 0.30322241254931315, 'subsample': 0.896717566626187, 'subsample_freq': 4, 'min_child_samples': 191, 'scale_pos_weight': 2.0258602411842506, 'learning_rate': 0.05, 'num_leaves': 100000}\n",
      "Fold 1 | Train Score = 0.88314\n",
      "\u001b[32m\u001b[1mFold 1 | Val   Score = 0.78323\u001b[0m\n",
      "Fold 2 | Train Score = 0.88372\n",
      "\u001b[32m\u001b[1mFold 2 | Val   Score = 0.78149\u001b[0m\n",
      "Fold 3 | Train Score = 0.88267\n",
      "\u001b[32m\u001b[1mFold 3 | Val   Score = 0.78643\u001b[0m\n",
      "Fold 4 | Train Score = 0.88226\n",
      "\u001b[32m\u001b[1mFold 4 | Val   Score = 0.78086\u001b[0m\n"
     ]
    },
    {
     "name": "stderr",
     "output_type": "stream",
     "text": [
      "\u001b[32m[I 2022-07-09 11:17:03,598]\u001b[0m Trial 37 finished with value: 0.7813677686265533 and parameters: {'reg_alpha': 0.023801701428866968, 'reg_lambda': 0.014197155528095789, 'n_estimators': 305, 'colsample_bytree': 0.30322241254931315, 'subsample': 0.896717566626187, 'subsample_freq': 4, 'min_child_samples': 191, 'scale_pos_weight': 2.0258602411842506}. Best is trial 37 with value: 0.7813677686265533.\u001b[0m\n"
     ]
    },
    {
     "name": "stdout",
     "output_type": "stream",
     "text": [
      "Fold 5 | Train Score = 0.88339\n",
      "\u001b[32m\u001b[1mFold 5 | Val   Score = 0.77483\u001b[0m\n",
      "{'objective': 'binary', 'verbosity': -1, 'boosting_type': 'dart', 'reg_alpha': 0.021569257530308354, 'reg_lambda': 0.012673749125498608, 'n_estimators': 304, 'colsample_bytree': 0.3065088509039032, 'subsample': 0.8934697983904608, 'subsample_freq': 4, 'min_child_samples': 169, 'scale_pos_weight': 1.9800737014884005, 'learning_rate': 0.05, 'num_leaves': 100000}\n",
      "Fold 1 | Train Score = 0.89504\n",
      "\u001b[32m\u001b[1mFold 1 | Val   Score = 0.78266\u001b[0m\n",
      "Fold 2 | Train Score = 0.89438\n",
      "\u001b[32m\u001b[1mFold 2 | Val   Score = 0.77896\u001b[0m\n",
      "Fold 3 | Train Score = 0.89501\n",
      "\u001b[32m\u001b[1mFold 3 | Val   Score = 0.78617\u001b[0m\n",
      "Fold 4 | Train Score = 0.89414\n",
      "\u001b[32m\u001b[1mFold 4 | Val   Score = 0.78094\u001b[0m\n"
     ]
    },
    {
     "name": "stderr",
     "output_type": "stream",
     "text": [
      "\u001b[32m[I 2022-07-09 11:30:16,997]\u001b[0m Trial 38 finished with value: 0.7805961499826086 and parameters: {'reg_alpha': 0.021569257530308354, 'reg_lambda': 0.012673749125498608, 'n_estimators': 304, 'colsample_bytree': 0.3065088509039032, 'subsample': 0.8934697983904608, 'subsample_freq': 4, 'min_child_samples': 169, 'scale_pos_weight': 1.9800737014884005}. Best is trial 37 with value: 0.7813677686265533.\u001b[0m\n"
     ]
    },
    {
     "name": "stdout",
     "output_type": "stream",
     "text": [
      "Fold 5 | Train Score = 0.89495\n",
      "\u001b[32m\u001b[1mFold 5 | Val   Score = 0.77425\u001b[0m\n",
      "{'objective': 'binary', 'verbosity': -1, 'boosting_type': 'dart', 'reg_alpha': 0.02838743145900916, 'reg_lambda': 0.023377686359039553, 'n_estimators': 309, 'colsample_bytree': 0.30002154580342805, 'subsample': 0.891882051717208, 'subsample_freq': 4, 'min_child_samples': 194, 'scale_pos_weight': 2.0198875109892827, 'learning_rate': 0.05, 'num_leaves': 100000}\n",
      "Fold 1 | Train Score = 0.88139\n",
      "\u001b[32m\u001b[1mFold 1 | Val   Score = 0.78228\u001b[0m\n",
      "Fold 2 | Train Score = 0.88250\n",
      "\u001b[32m\u001b[1mFold 2 | Val   Score = 0.77994\u001b[0m\n",
      "Fold 3 | Train Score = 0.88150\n",
      "\u001b[32m\u001b[1mFold 3 | Val   Score = 0.78518\u001b[0m\n",
      "Fold 4 | Train Score = 0.88171\n",
      "\u001b[32m\u001b[1mFold 4 | Val   Score = 0.78103\u001b[0m\n"
     ]
    },
    {
     "name": "stderr",
     "output_type": "stream",
     "text": [
      "\u001b[32m[I 2022-07-09 11:43:05,981]\u001b[0m Trial 39 finished with value: 0.7803843942582931 and parameters: {'reg_alpha': 0.02838743145900916, 'reg_lambda': 0.023377686359039553, 'n_estimators': 309, 'colsample_bytree': 0.30002154580342805, 'subsample': 0.891882051717208, 'subsample_freq': 4, 'min_child_samples': 194, 'scale_pos_weight': 2.0198875109892827}. Best is trial 37 with value: 0.7813677686265533.\u001b[0m\n"
     ]
    },
    {
     "name": "stdout",
     "output_type": "stream",
     "text": [
      "Fold 5 | Train Score = 0.88304\n",
      "\u001b[32m\u001b[1mFold 5 | Val   Score = 0.77348\u001b[0m\n",
      "{'objective': 'binary', 'verbosity': -1, 'boosting_type': 'dart', 'reg_alpha': 0.06361385344617893, 'reg_lambda': 0.030389372440200586, 'n_estimators': 305, 'colsample_bytree': 0.32653055812983056, 'subsample': 0.8625394943481587, 'subsample_freq': 3, 'min_child_samples': 188, 'scale_pos_weight': 1.9385641913789469, 'learning_rate': 0.05, 'num_leaves': 100000}\n",
      "Fold 1 | Train Score = 0.88299\n",
      "\u001b[32m\u001b[1mFold 1 | Val   Score = 0.78293\u001b[0m\n",
      "Fold 2 | Train Score = 0.88214\n",
      "\u001b[32m\u001b[1mFold 2 | Val   Score = 0.78036\u001b[0m\n",
      "Fold 3 | Train Score = 0.88387\n",
      "\u001b[32m\u001b[1mFold 3 | Val   Score = 0.78572\u001b[0m\n",
      "Fold 4 | Train Score = 0.88204\n",
      "\u001b[32m\u001b[1mFold 4 | Val   Score = 0.78219\u001b[0m\n"
     ]
    },
    {
     "name": "stderr",
     "output_type": "stream",
     "text": [
      "\u001b[32m[I 2022-07-09 11:55:42,102]\u001b[0m Trial 40 finished with value: 0.7812369900248306 and parameters: {'reg_alpha': 0.06361385344617893, 'reg_lambda': 0.030389372440200586, 'n_estimators': 305, 'colsample_bytree': 0.32653055812983056, 'subsample': 0.8625394943481587, 'subsample_freq': 3, 'min_child_samples': 188, 'scale_pos_weight': 1.9385641913789469}. Best is trial 37 with value: 0.7813677686265533.\u001b[0m\n"
     ]
    },
    {
     "name": "stdout",
     "output_type": "stream",
     "text": [
      "Fold 5 | Train Score = 0.88329\n",
      "\u001b[32m\u001b[1mFold 5 | Val   Score = 0.77499\u001b[0m\n",
      "{'objective': 'binary', 'verbosity': -1, 'boosting_type': 'dart', 'reg_alpha': 0.07662719374578948, 'reg_lambda': 0.031249965531447346, 'n_estimators': 306, 'colsample_bytree': 0.32647769597626586, 'subsample': 0.8626572479386984, 'subsample_freq': 3, 'min_child_samples': 188, 'scale_pos_weight': 1.9476517254763042, 'learning_rate': 0.05, 'num_leaves': 100000}\n",
      "Fold 1 | Train Score = 0.88336\n",
      "\u001b[32m\u001b[1mFold 1 | Val   Score = 0.78301\u001b[0m\n",
      "Fold 2 | Train Score = 0.88147\n",
      "\u001b[32m\u001b[1mFold 2 | Val   Score = 0.78045\u001b[0m\n",
      "Fold 3 | Train Score = 0.88241\n",
      "\u001b[32m\u001b[1mFold 3 | Val   Score = 0.78480\u001b[0m\n",
      "Fold 4 | Train Score = 0.88280\n",
      "\u001b[32m\u001b[1mFold 4 | Val   Score = 0.78138\u001b[0m\n"
     ]
    },
    {
     "name": "stderr",
     "output_type": "stream",
     "text": [
      "\u001b[32m[I 2022-07-09 12:08:14,504]\u001b[0m Trial 41 finished with value: 0.7809439493570262 and parameters: {'reg_alpha': 0.07662719374578948, 'reg_lambda': 0.031249965531447346, 'n_estimators': 306, 'colsample_bytree': 0.32647769597626586, 'subsample': 0.8626572479386984, 'subsample_freq': 3, 'min_child_samples': 188, 'scale_pos_weight': 1.9476517254763042}. Best is trial 37 with value: 0.7813677686265533.\u001b[0m\n"
     ]
    },
    {
     "name": "stdout",
     "output_type": "stream",
     "text": [
      "Fold 5 | Train Score = 0.88283\n",
      "\u001b[32m\u001b[1mFold 5 | Val   Score = 0.77508\u001b[0m\n",
      "{'objective': 'binary', 'verbosity': -1, 'boosting_type': 'dart', 'reg_alpha': 0.04001635017337854, 'reg_lambda': 0.03492958343761291, 'n_estimators': 307, 'colsample_bytree': 0.3161907456429606, 'subsample': 0.8160376364317382, 'subsample_freq': 3, 'min_child_samples': 178, 'scale_pos_weight': 1.9128685928475226, 'learning_rate': 0.05, 'num_leaves': 100000}\n",
      "Fold 1 | Train Score = 0.88277\n",
      "\u001b[32m\u001b[1mFold 1 | Val   Score = 0.78272\u001b[0m\n",
      "Fold 2 | Train Score = 0.88157\n",
      "\u001b[32m\u001b[1mFold 2 | Val   Score = 0.78109\u001b[0m\n",
      "Fold 3 | Train Score = 0.88178\n",
      "\u001b[32m\u001b[1mFold 3 | Val   Score = 0.78464\u001b[0m\n",
      "Fold 4 | Train Score = 0.88145\n",
      "\u001b[32m\u001b[1mFold 4 | Val   Score = 0.77984\u001b[0m\n"
     ]
    },
    {
     "name": "stderr",
     "output_type": "stream",
     "text": [
      "\u001b[32m[I 2022-07-09 12:20:47,622]\u001b[0m Trial 42 finished with value: 0.7803222126485898 and parameters: {'reg_alpha': 0.04001635017337854, 'reg_lambda': 0.03492958343761291, 'n_estimators': 307, 'colsample_bytree': 0.3161907456429606, 'subsample': 0.8160376364317382, 'subsample_freq': 3, 'min_child_samples': 178, 'scale_pos_weight': 1.9128685928475226}. Best is trial 37 with value: 0.7813677686265533.\u001b[0m\n"
     ]
    },
    {
     "name": "stdout",
     "output_type": "stream",
     "text": [
      "Fold 5 | Train Score = 0.88267\n",
      "\u001b[32m\u001b[1mFold 5 | Val   Score = 0.77332\u001b[0m\n",
      "{'objective': 'binary', 'verbosity': -1, 'boosting_type': 'dart', 'reg_alpha': 0.014637272321971219, 'reg_lambda': 0.010699381535351488, 'n_estimators': 303, 'colsample_bytree': 0.33317670484126294, 'subsample': 0.863242966645032, 'subsample_freq': 4, 'min_child_samples': 188, 'scale_pos_weight': 1.9875506744404527, 'learning_rate': 0.05, 'num_leaves': 100000}\n",
      "Fold 1 | Train Score = 0.88332\n",
      "\u001b[32m\u001b[1mFold 1 | Val   Score = 0.78202\u001b[0m\n",
      "Fold 2 | Train Score = 0.88366\n",
      "\u001b[32m\u001b[1mFold 2 | Val   Score = 0.78018\u001b[0m\n",
      "Fold 3 | Train Score = 0.88298\n",
      "\u001b[32m\u001b[1mFold 3 | Val   Score = 0.78523\u001b[0m\n",
      "Fold 4 | Train Score = 0.88356\n",
      "\u001b[32m\u001b[1mFold 4 | Val   Score = 0.78218\u001b[0m\n"
     ]
    },
    {
     "name": "stderr",
     "output_type": "stream",
     "text": [
      "\u001b[32m[I 2022-07-09 12:33:37,410]\u001b[0m Trial 43 finished with value: 0.7811241377702365 and parameters: {'reg_alpha': 0.014637272321971219, 'reg_lambda': 0.010699381535351488, 'n_estimators': 303, 'colsample_bytree': 0.33317670484126294, 'subsample': 0.863242966645032, 'subsample_freq': 4, 'min_child_samples': 188, 'scale_pos_weight': 1.9875506744404527}. Best is trial 37 with value: 0.7813677686265533.\u001b[0m\n"
     ]
    },
    {
     "name": "stdout",
     "output_type": "stream",
     "text": [
      "Fold 5 | Train Score = 0.88441\n",
      "\u001b[32m\u001b[1mFold 5 | Val   Score = 0.77601\u001b[0m\n",
      "{'objective': 'binary', 'verbosity': -1, 'boosting_type': 'dart', 'reg_alpha': 0.01022787669749686, 'reg_lambda': 0.011611458146712059, 'n_estimators': 309, 'colsample_bytree': 0.33619409337846107, 'subsample': 0.8605422796693669, 'subsample_freq': 4, 'min_child_samples': 188, 'scale_pos_weight': 1.9365698989054796, 'learning_rate': 0.05, 'num_leaves': 100000}\n",
      "Fold 1 | Train Score = 0.88344\n",
      "\u001b[32m\u001b[1mFold 1 | Val   Score = 0.78355\u001b[0m\n",
      "Fold 2 | Train Score = 0.88290\n",
      "\u001b[32m\u001b[1mFold 2 | Val   Score = 0.78000\u001b[0m\n",
      "Fold 3 | Train Score = 0.88319\n",
      "\u001b[32m\u001b[1mFold 3 | Val   Score = 0.78574\u001b[0m\n",
      "Fold 4 | Train Score = 0.88331\n",
      "\u001b[32m\u001b[1mFold 4 | Val   Score = 0.78152\u001b[0m\n"
     ]
    },
    {
     "name": "stderr",
     "output_type": "stream",
     "text": [
      "\u001b[32m[I 2022-07-09 12:46:54,610]\u001b[0m Trial 44 finished with value: 0.7807283280665952 and parameters: {'reg_alpha': 0.01022787669749686, 'reg_lambda': 0.011611458146712059, 'n_estimators': 309, 'colsample_bytree': 0.33619409337846107, 'subsample': 0.8605422796693669, 'subsample_freq': 4, 'min_child_samples': 188, 'scale_pos_weight': 1.9365698989054796}. Best is trial 37 with value: 0.7813677686265533.\u001b[0m\n"
     ]
    },
    {
     "name": "stdout",
     "output_type": "stream",
     "text": [
      "Fold 5 | Train Score = 0.88477\n",
      "\u001b[32m\u001b[1mFold 5 | Val   Score = 0.77282\u001b[0m\n",
      "{'objective': 'binary', 'verbosity': -1, 'boosting_type': 'dart', 'reg_alpha': 0.01593091516912199, 'reg_lambda': 0.01580676622357857, 'n_estimators': 299, 'colsample_bytree': 0.48690291528682816, 'subsample': 0.8459670082801158, 'subsample_freq': 3, 'min_child_samples': 199, 'scale_pos_weight': 1.989109251049254, 'learning_rate': 0.05, 'num_leaves': 100000}\n",
      "Fold 1 | Train Score = 0.88151\n",
      "\u001b[32m\u001b[1mFold 1 | Val   Score = 0.78221\u001b[0m\n",
      "Fold 2 | Train Score = 0.88190\n",
      "\u001b[32m\u001b[1mFold 2 | Val   Score = 0.78106\u001b[0m\n",
      "Fold 3 | Train Score = 0.88156\n",
      "\u001b[32m\u001b[1mFold 3 | Val   Score = 0.78654\u001b[0m\n",
      "Fold 4 | Train Score = 0.88133\n",
      "\u001b[32m\u001b[1mFold 4 | Val   Score = 0.78096\u001b[0m\n"
     ]
    },
    {
     "name": "stderr",
     "output_type": "stream",
     "text": [
      "\u001b[32m[I 2022-07-09 13:00:34,921]\u001b[0m Trial 45 finished with value: 0.7811804439534414 and parameters: {'reg_alpha': 0.01593091516912199, 'reg_lambda': 0.01580676622357857, 'n_estimators': 299, 'colsample_bytree': 0.48690291528682816, 'subsample': 0.8459670082801158, 'subsample_freq': 3, 'min_child_samples': 199, 'scale_pos_weight': 1.989109251049254}. Best is trial 37 with value: 0.7813677686265533.\u001b[0m\n"
     ]
    },
    {
     "name": "stdout",
     "output_type": "stream",
     "text": [
      "Fold 5 | Train Score = 0.88196\n",
      "\u001b[32m\u001b[1mFold 5 | Val   Score = 0.77513\u001b[0m\n",
      "{'objective': 'binary', 'verbosity': -1, 'boosting_type': 'dart', 'reg_alpha': 0.014021637666937922, 'reg_lambda': 0.01488470757391118, 'n_estimators': 312, 'colsample_bytree': 0.5199074196281771, 'subsample': 0.8451537944632815, 'subsample_freq': 3, 'min_child_samples': 198, 'scale_pos_weight': 1.9849709132035764, 'learning_rate': 0.05, 'num_leaves': 100000}\n",
      "Fold 1 | Train Score = 0.88498\n",
      "\u001b[32m\u001b[1mFold 1 | Val   Score = 0.78249\u001b[0m\n",
      "Fold 2 | Train Score = 0.88483\n",
      "\u001b[32m\u001b[1mFold 2 | Val   Score = 0.78085\u001b[0m\n",
      "Fold 3 | Train Score = 0.88555\n",
      "\u001b[32m\u001b[1mFold 3 | Val   Score = 0.78485\u001b[0m\n",
      "Fold 4 | Train Score = 0.88506\n",
      "\u001b[32m\u001b[1mFold 4 | Val   Score = 0.78152\u001b[0m\n"
     ]
    },
    {
     "name": "stderr",
     "output_type": "stream",
     "text": [
      "\u001b[32m[I 2022-07-09 13:15:19,469]\u001b[0m Trial 46 finished with value: 0.7811132863742893 and parameters: {'reg_alpha': 0.014021637666937922, 'reg_lambda': 0.01488470757391118, 'n_estimators': 312, 'colsample_bytree': 0.5199074196281771, 'subsample': 0.8451537944632815, 'subsample_freq': 3, 'min_child_samples': 198, 'scale_pos_weight': 1.9849709132035764}. Best is trial 37 with value: 0.7813677686265533.\u001b[0m\n"
     ]
    },
    {
     "name": "stdout",
     "output_type": "stream",
     "text": [
      "Fold 5 | Train Score = 0.88643\n",
      "\u001b[32m\u001b[1mFold 5 | Val   Score = 0.77586\u001b[0m\n",
      "{'objective': 'binary', 'verbosity': -1, 'boosting_type': 'dart', 'reg_alpha': 0.015166924444291229, 'reg_lambda': 0.01711907876988801, 'n_estimators': 298, 'colsample_bytree': 0.48757308444110126, 'subsample': 0.8746379425019086, 'subsample_freq': 3, 'min_child_samples': 185, 'scale_pos_weight': 1.9694948344848204, 'learning_rate': 0.05, 'num_leaves': 100000}\n",
      "Fold 1 | Train Score = 0.89027\n",
      "\u001b[32m\u001b[1mFold 1 | Val   Score = 0.78232\u001b[0m\n",
      "Fold 2 | Train Score = 0.89092\n",
      "\u001b[32m\u001b[1mFold 2 | Val   Score = 0.77929\u001b[0m\n",
      "Fold 3 | Train Score = 0.89018\n",
      "\u001b[32m\u001b[1mFold 3 | Val   Score = 0.78628\u001b[0m\n",
      "Fold 4 | Train Score = 0.89052\n",
      "\u001b[32m\u001b[1mFold 4 | Val   Score = 0.78020\u001b[0m\n"
     ]
    },
    {
     "name": "stderr",
     "output_type": "stream",
     "text": [
      "\u001b[32m[I 2022-07-09 13:29:40,917]\u001b[0m Trial 47 finished with value: 0.7804507007634335 and parameters: {'reg_alpha': 0.015166924444291229, 'reg_lambda': 0.01711907876988801, 'n_estimators': 298, 'colsample_bytree': 0.48757308444110126, 'subsample': 0.8746379425019086, 'subsample_freq': 3, 'min_child_samples': 185, 'scale_pos_weight': 1.9694948344848204}. Best is trial 37 with value: 0.7813677686265533.\u001b[0m\n"
     ]
    },
    {
     "name": "stdout",
     "output_type": "stream",
     "text": [
      "Fold 5 | Train Score = 0.89184\n",
      "\u001b[32m\u001b[1mFold 5 | Val   Score = 0.77416\u001b[0m\n",
      "{'objective': 'binary', 'verbosity': -1, 'boosting_type': 'dart', 'reg_alpha': 0.020199493075660012, 'reg_lambda': 0.010861702466707692, 'n_estimators': 302, 'colsample_bytree': 0.44102232853235024, 'subsample': 0.8040562325682881, 'subsample_freq': 3, 'min_child_samples': 190, 'scale_pos_weight': 1.957754617885677, 'learning_rate': 0.05, 'num_leaves': 100000}\n"
     ]
    },
    {
     "ename": "KeyboardInterrupt",
     "evalue": "",
     "output_type": "error",
     "traceback": [
      "\u001b[0;31m---------------------------------------------------------------------------\u001b[0m",
      "\u001b[0;31mKeyboardInterrupt\u001b[0m                         Traceback (most recent call last)",
      "Input \u001b[0;32mIn [53]\u001b[0m, in \u001b[0;36m<cell line: 1>\u001b[0;34m()\u001b[0m\n\u001b[0;32m----> 1\u001b[0m \u001b[43mstudy\u001b[49m\u001b[38;5;241;43m.\u001b[39;49m\u001b[43moptimize\u001b[49m\u001b[43m(\u001b[49m\u001b[43mobjective\u001b[49m\u001b[43m,\u001b[49m\u001b[43m \u001b[49m\u001b[43mn_trials\u001b[49m\u001b[38;5;241;43m=\u001b[39;49m\u001b[38;5;241;43m30\u001b[39;49m\u001b[43m)\u001b[49m\n",
      "File \u001b[0;32m~/opt/anaconda3/envs/play/lib/python3.10/site-packages/optuna/study/study.py:400\u001b[0m, in \u001b[0;36mStudy.optimize\u001b[0;34m(self, func, n_trials, timeout, n_jobs, catch, callbacks, gc_after_trial, show_progress_bar)\u001b[0m\n\u001b[1;32m    392\u001b[0m \u001b[38;5;28;01mif\u001b[39;00m n_jobs \u001b[38;5;241m!=\u001b[39m \u001b[38;5;241m1\u001b[39m:\n\u001b[1;32m    393\u001b[0m     warnings\u001b[38;5;241m.\u001b[39mwarn(\n\u001b[1;32m    394\u001b[0m         \u001b[38;5;124m\"\u001b[39m\u001b[38;5;124m`n_jobs` argument has been deprecated in v2.7.0. \u001b[39m\u001b[38;5;124m\"\u001b[39m\n\u001b[1;32m    395\u001b[0m         \u001b[38;5;124m\"\u001b[39m\u001b[38;5;124mThis feature will be removed in v4.0.0. \u001b[39m\u001b[38;5;124m\"\u001b[39m\n\u001b[1;32m    396\u001b[0m         \u001b[38;5;124m\"\u001b[39m\u001b[38;5;124mSee https://github.com/optuna/optuna/releases/tag/v2.7.0.\u001b[39m\u001b[38;5;124m\"\u001b[39m,\n\u001b[1;32m    397\u001b[0m         \u001b[38;5;167;01mFutureWarning\u001b[39;00m,\n\u001b[1;32m    398\u001b[0m     )\n\u001b[0;32m--> 400\u001b[0m \u001b[43m_optimize\u001b[49m\u001b[43m(\u001b[49m\n\u001b[1;32m    401\u001b[0m \u001b[43m    \u001b[49m\u001b[43mstudy\u001b[49m\u001b[38;5;241;43m=\u001b[39;49m\u001b[38;5;28;43mself\u001b[39;49m\u001b[43m,\u001b[49m\n\u001b[1;32m    402\u001b[0m \u001b[43m    \u001b[49m\u001b[43mfunc\u001b[49m\u001b[38;5;241;43m=\u001b[39;49m\u001b[43mfunc\u001b[49m\u001b[43m,\u001b[49m\n\u001b[1;32m    403\u001b[0m \u001b[43m    \u001b[49m\u001b[43mn_trials\u001b[49m\u001b[38;5;241;43m=\u001b[39;49m\u001b[43mn_trials\u001b[49m\u001b[43m,\u001b[49m\n\u001b[1;32m    404\u001b[0m \u001b[43m    \u001b[49m\u001b[43mtimeout\u001b[49m\u001b[38;5;241;43m=\u001b[39;49m\u001b[43mtimeout\u001b[49m\u001b[43m,\u001b[49m\n\u001b[1;32m    405\u001b[0m \u001b[43m    \u001b[49m\u001b[43mn_jobs\u001b[49m\u001b[38;5;241;43m=\u001b[39;49m\u001b[43mn_jobs\u001b[49m\u001b[43m,\u001b[49m\n\u001b[1;32m    406\u001b[0m \u001b[43m    \u001b[49m\u001b[43mcatch\u001b[49m\u001b[38;5;241;43m=\u001b[39;49m\u001b[43mcatch\u001b[49m\u001b[43m,\u001b[49m\n\u001b[1;32m    407\u001b[0m \u001b[43m    \u001b[49m\u001b[43mcallbacks\u001b[49m\u001b[38;5;241;43m=\u001b[39;49m\u001b[43mcallbacks\u001b[49m\u001b[43m,\u001b[49m\n\u001b[1;32m    408\u001b[0m \u001b[43m    \u001b[49m\u001b[43mgc_after_trial\u001b[49m\u001b[38;5;241;43m=\u001b[39;49m\u001b[43mgc_after_trial\u001b[49m\u001b[43m,\u001b[49m\n\u001b[1;32m    409\u001b[0m \u001b[43m    \u001b[49m\u001b[43mshow_progress_bar\u001b[49m\u001b[38;5;241;43m=\u001b[39;49m\u001b[43mshow_progress_bar\u001b[49m\u001b[43m,\u001b[49m\n\u001b[1;32m    410\u001b[0m \u001b[43m\u001b[49m\u001b[43m)\u001b[49m\n",
      "File \u001b[0;32m~/opt/anaconda3/envs/play/lib/python3.10/site-packages/optuna/study/_optimize.py:66\u001b[0m, in \u001b[0;36m_optimize\u001b[0;34m(study, func, n_trials, timeout, n_jobs, catch, callbacks, gc_after_trial, show_progress_bar)\u001b[0m\n\u001b[1;32m     64\u001b[0m \u001b[38;5;28;01mtry\u001b[39;00m:\n\u001b[1;32m     65\u001b[0m     \u001b[38;5;28;01mif\u001b[39;00m n_jobs \u001b[38;5;241m==\u001b[39m \u001b[38;5;241m1\u001b[39m:\n\u001b[0;32m---> 66\u001b[0m         \u001b[43m_optimize_sequential\u001b[49m\u001b[43m(\u001b[49m\n\u001b[1;32m     67\u001b[0m \u001b[43m            \u001b[49m\u001b[43mstudy\u001b[49m\u001b[43m,\u001b[49m\n\u001b[1;32m     68\u001b[0m \u001b[43m            \u001b[49m\u001b[43mfunc\u001b[49m\u001b[43m,\u001b[49m\n\u001b[1;32m     69\u001b[0m \u001b[43m            \u001b[49m\u001b[43mn_trials\u001b[49m\u001b[43m,\u001b[49m\n\u001b[1;32m     70\u001b[0m \u001b[43m            \u001b[49m\u001b[43mtimeout\u001b[49m\u001b[43m,\u001b[49m\n\u001b[1;32m     71\u001b[0m \u001b[43m            \u001b[49m\u001b[43mcatch\u001b[49m\u001b[43m,\u001b[49m\n\u001b[1;32m     72\u001b[0m \u001b[43m            \u001b[49m\u001b[43mcallbacks\u001b[49m\u001b[43m,\u001b[49m\n\u001b[1;32m     73\u001b[0m \u001b[43m            \u001b[49m\u001b[43mgc_after_trial\u001b[49m\u001b[43m,\u001b[49m\n\u001b[1;32m     74\u001b[0m \u001b[43m            \u001b[49m\u001b[43mreseed_sampler_rng\u001b[49m\u001b[38;5;241;43m=\u001b[39;49m\u001b[38;5;28;43;01mFalse\u001b[39;49;00m\u001b[43m,\u001b[49m\n\u001b[1;32m     75\u001b[0m \u001b[43m            \u001b[49m\u001b[43mtime_start\u001b[49m\u001b[38;5;241;43m=\u001b[39;49m\u001b[38;5;28;43;01mNone\u001b[39;49;00m\u001b[43m,\u001b[49m\n\u001b[1;32m     76\u001b[0m \u001b[43m            \u001b[49m\u001b[43mprogress_bar\u001b[49m\u001b[38;5;241;43m=\u001b[39;49m\u001b[43mprogress_bar\u001b[49m\u001b[43m,\u001b[49m\n\u001b[1;32m     77\u001b[0m \u001b[43m        \u001b[49m\u001b[43m)\u001b[49m\n\u001b[1;32m     78\u001b[0m     \u001b[38;5;28;01melse\u001b[39;00m:\n\u001b[1;32m     79\u001b[0m         \u001b[38;5;28;01mif\u001b[39;00m show_progress_bar:\n",
      "File \u001b[0;32m~/opt/anaconda3/envs/play/lib/python3.10/site-packages/optuna/study/_optimize.py:163\u001b[0m, in \u001b[0;36m_optimize_sequential\u001b[0;34m(study, func, n_trials, timeout, catch, callbacks, gc_after_trial, reseed_sampler_rng, time_start, progress_bar)\u001b[0m\n\u001b[1;32m    160\u001b[0m         \u001b[38;5;28;01mbreak\u001b[39;00m\n\u001b[1;32m    162\u001b[0m \u001b[38;5;28;01mtry\u001b[39;00m:\n\u001b[0;32m--> 163\u001b[0m     trial \u001b[38;5;241m=\u001b[39m \u001b[43m_run_trial\u001b[49m\u001b[43m(\u001b[49m\u001b[43mstudy\u001b[49m\u001b[43m,\u001b[49m\u001b[43m \u001b[49m\u001b[43mfunc\u001b[49m\u001b[43m,\u001b[49m\u001b[43m \u001b[49m\u001b[43mcatch\u001b[49m\u001b[43m)\u001b[49m\n\u001b[1;32m    164\u001b[0m \u001b[38;5;28;01mexcept\u001b[39;00m \u001b[38;5;167;01mException\u001b[39;00m:\n\u001b[1;32m    165\u001b[0m     \u001b[38;5;28;01mraise\u001b[39;00m\n",
      "File \u001b[0;32m~/opt/anaconda3/envs/play/lib/python3.10/site-packages/optuna/study/_optimize.py:213\u001b[0m, in \u001b[0;36m_run_trial\u001b[0;34m(study, func, catch)\u001b[0m\n\u001b[1;32m    210\u001b[0m     thread\u001b[38;5;241m.\u001b[39mstart()\n\u001b[1;32m    212\u001b[0m \u001b[38;5;28;01mtry\u001b[39;00m:\n\u001b[0;32m--> 213\u001b[0m     value_or_values \u001b[38;5;241m=\u001b[39m \u001b[43mfunc\u001b[49m\u001b[43m(\u001b[49m\u001b[43mtrial\u001b[49m\u001b[43m)\u001b[49m\n\u001b[1;32m    214\u001b[0m \u001b[38;5;28;01mexcept\u001b[39;00m exceptions\u001b[38;5;241m.\u001b[39mTrialPruned \u001b[38;5;28;01mas\u001b[39;00m e:\n\u001b[1;32m    215\u001b[0m     \u001b[38;5;66;03m# TODO(mamu): Handle multi-objective cases.\u001b[39;00m\n\u001b[1;32m    216\u001b[0m     state \u001b[38;5;241m=\u001b[39m TrialState\u001b[38;5;241m.\u001b[39mPRUNED\n",
      "Input \u001b[0;32mIn [51]\u001b[0m, in \u001b[0;36mobjective\u001b[0;34m(trial)\u001b[0m\n\u001b[1;32m     31\u001b[0m \u001b[38;5;28;01mwith\u001b[39;00m warnings\u001b[38;5;241m.\u001b[39mcatch_warnings():\n\u001b[1;32m     32\u001b[0m     warnings\u001b[38;5;241m.\u001b[39mfilterwarnings(\u001b[38;5;124m'\u001b[39m\u001b[38;5;124mignore\u001b[39m\u001b[38;5;124m'\u001b[39m, category\u001b[38;5;241m=\u001b[39m\u001b[38;5;167;01mUserWarning\u001b[39;00m)\n\u001b[0;32m---> 33\u001b[0m     \u001b[43mmodel\u001b[49m\u001b[38;5;241;43m.\u001b[39;49m\u001b[43mfit\u001b[49m\u001b[43m(\u001b[49m\n\u001b[1;32m     34\u001b[0m \u001b[43m        \u001b[49m\u001b[43mX_train\u001b[49m\u001b[43m,\u001b[49m\n\u001b[1;32m     35\u001b[0m \u001b[43m        \u001b[49m\u001b[43my_train\u001b[49m\u001b[43m,\u001b[49m\n\u001b[1;32m     36\u001b[0m \u001b[43m        \u001b[49m\u001b[43meval_set\u001b[49m\u001b[38;5;241;43m=\u001b[39;49m\u001b[43m[\u001b[49m\u001b[43m(\u001b[49m\u001b[43mX_val\u001b[49m\u001b[43m,\u001b[49m\u001b[43m \u001b[49m\u001b[43my_val\u001b[49m\u001b[43m)\u001b[49m\u001b[43m]\u001b[49m\u001b[43m,\u001b[49m\u001b[43m \u001b[49m\n\u001b[1;32m     37\u001b[0m \u001b[43m        \u001b[49m\u001b[43meval_metric\u001b[49m\u001b[38;5;241;43m=\u001b[39;49m\u001b[43m[\u001b[49m\u001b[43mlgb_amex_metric\u001b[49m\u001b[43m]\u001b[49m\u001b[43m,\u001b[49m\n\u001b[1;32m     38\u001b[0m \u001b[43m        \u001b[49m\u001b[43mverbose\u001b[49m\u001b[38;5;241;43m=\u001b[39;49m\u001b[38;5;241;43m-\u001b[39;49m\u001b[38;5;241;43m1\u001b[39;49m\n\u001b[1;32m     39\u001b[0m \u001b[43m        \u001b[49m\u001b[38;5;66;43;03m# callbacks=[log_evaluation(params[\"n_estimators\"])]\u001b[39;49;00m\n\u001b[1;32m     40\u001b[0m \u001b[43m    \u001b[49m\u001b[43m)\u001b[49m\n\u001b[1;32m     41\u001b[0m y_train_pred \u001b[38;5;241m=\u001b[39m model\u001b[38;5;241m.\u001b[39mpredict_proba(X_train, raw_score\u001b[38;5;241m=\u001b[39m\u001b[38;5;28;01mTrue\u001b[39;00m)\n\u001b[1;32m     42\u001b[0m train_score \u001b[38;5;241m=\u001b[39m amex_metric(y_train, y_train_pred)\n",
      "File \u001b[0;32m~/opt/anaconda3/envs/play/lib/python3.10/site-packages/lightgbm/sklearn.py:890\u001b[0m, in \u001b[0;36mLGBMClassifier.fit\u001b[0;34m(self, X, y, sample_weight, init_score, eval_set, eval_names, eval_sample_weight, eval_class_weight, eval_init_score, eval_metric, early_stopping_rounds, verbose, feature_name, categorical_feature, callbacks, init_model)\u001b[0m\n\u001b[1;32m    887\u001b[0m         \u001b[38;5;28;01melse\u001b[39;00m:\n\u001b[1;32m    888\u001b[0m             valid_sets[i] \u001b[38;5;241m=\u001b[39m (valid_x, \u001b[38;5;28mself\u001b[39m\u001b[38;5;241m.\u001b[39m_le\u001b[38;5;241m.\u001b[39mtransform(valid_y))\n\u001b[0;32m--> 890\u001b[0m \u001b[38;5;28;43msuper\u001b[39;49m\u001b[43m(\u001b[49m\u001b[43m)\u001b[49m\u001b[38;5;241;43m.\u001b[39;49m\u001b[43mfit\u001b[49m\u001b[43m(\u001b[49m\u001b[43mX\u001b[49m\u001b[43m,\u001b[49m\u001b[43m \u001b[49m\u001b[43m_y\u001b[49m\u001b[43m,\u001b[49m\u001b[43m \u001b[49m\u001b[43msample_weight\u001b[49m\u001b[38;5;241;43m=\u001b[39;49m\u001b[43msample_weight\u001b[49m\u001b[43m,\u001b[49m\u001b[43m \u001b[49m\u001b[43minit_score\u001b[49m\u001b[38;5;241;43m=\u001b[39;49m\u001b[43minit_score\u001b[49m\u001b[43m,\u001b[49m\u001b[43m \u001b[49m\u001b[43meval_set\u001b[49m\u001b[38;5;241;43m=\u001b[39;49m\u001b[43mvalid_sets\u001b[49m\u001b[43m,\u001b[49m\n\u001b[1;32m    891\u001b[0m \u001b[43m            \u001b[49m\u001b[43meval_names\u001b[49m\u001b[38;5;241;43m=\u001b[39;49m\u001b[43meval_names\u001b[49m\u001b[43m,\u001b[49m\u001b[43m \u001b[49m\u001b[43meval_sample_weight\u001b[49m\u001b[38;5;241;43m=\u001b[39;49m\u001b[43meval_sample_weight\u001b[49m\u001b[43m,\u001b[49m\n\u001b[1;32m    892\u001b[0m \u001b[43m            \u001b[49m\u001b[43meval_class_weight\u001b[49m\u001b[38;5;241;43m=\u001b[39;49m\u001b[43meval_class_weight\u001b[49m\u001b[43m,\u001b[49m\u001b[43m \u001b[49m\u001b[43meval_init_score\u001b[49m\u001b[38;5;241;43m=\u001b[39;49m\u001b[43meval_init_score\u001b[49m\u001b[43m,\u001b[49m\n\u001b[1;32m    893\u001b[0m \u001b[43m            \u001b[49m\u001b[43meval_metric\u001b[49m\u001b[38;5;241;43m=\u001b[39;49m\u001b[43meval_metric\u001b[49m\u001b[43m,\u001b[49m\u001b[43m \u001b[49m\u001b[43mearly_stopping_rounds\u001b[49m\u001b[38;5;241;43m=\u001b[39;49m\u001b[43mearly_stopping_rounds\u001b[49m\u001b[43m,\u001b[49m\n\u001b[1;32m    894\u001b[0m \u001b[43m            \u001b[49m\u001b[43mverbose\u001b[49m\u001b[38;5;241;43m=\u001b[39;49m\u001b[43mverbose\u001b[49m\u001b[43m,\u001b[49m\u001b[43m \u001b[49m\u001b[43mfeature_name\u001b[49m\u001b[38;5;241;43m=\u001b[39;49m\u001b[43mfeature_name\u001b[49m\u001b[43m,\u001b[49m\u001b[43m \u001b[49m\u001b[43mcategorical_feature\u001b[49m\u001b[38;5;241;43m=\u001b[39;49m\u001b[43mcategorical_feature\u001b[49m\u001b[43m,\u001b[49m\n\u001b[1;32m    895\u001b[0m \u001b[43m            \u001b[49m\u001b[43mcallbacks\u001b[49m\u001b[38;5;241;43m=\u001b[39;49m\u001b[43mcallbacks\u001b[49m\u001b[43m,\u001b[49m\u001b[43m \u001b[49m\u001b[43minit_model\u001b[49m\u001b[38;5;241;43m=\u001b[39;49m\u001b[43minit_model\u001b[49m\u001b[43m)\u001b[49m\n\u001b[1;32m    896\u001b[0m \u001b[38;5;28;01mreturn\u001b[39;00m \u001b[38;5;28mself\u001b[39m\n",
      "File \u001b[0;32m~/opt/anaconda3/envs/play/lib/python3.10/site-packages/lightgbm/sklearn.py:683\u001b[0m, in \u001b[0;36mLGBMModel.fit\u001b[0;34m(self, X, y, sample_weight, init_score, group, eval_set, eval_names, eval_sample_weight, eval_class_weight, eval_init_score, eval_group, eval_metric, early_stopping_rounds, verbose, feature_name, categorical_feature, callbacks, init_model)\u001b[0m\n\u001b[1;32m    680\u001b[0m \u001b[38;5;28;01mif\u001b[39;00m \u001b[38;5;28misinstance\u001b[39m(init_model, LGBMModel):\n\u001b[1;32m    681\u001b[0m     init_model \u001b[38;5;241m=\u001b[39m init_model\u001b[38;5;241m.\u001b[39mbooster_\n\u001b[0;32m--> 683\u001b[0m \u001b[38;5;28mself\u001b[39m\u001b[38;5;241m.\u001b[39m_Booster \u001b[38;5;241m=\u001b[39m \u001b[43mtrain\u001b[49m\u001b[43m(\u001b[49m\u001b[43mparams\u001b[49m\u001b[43m,\u001b[49m\u001b[43m \u001b[49m\u001b[43mtrain_set\u001b[49m\u001b[43m,\u001b[49m\n\u001b[1;32m    684\u001b[0m \u001b[43m                      \u001b[49m\u001b[38;5;28;43mself\u001b[39;49m\u001b[38;5;241;43m.\u001b[39;49m\u001b[43mn_estimators\u001b[49m\u001b[43m,\u001b[49m\u001b[43m \u001b[49m\u001b[43mvalid_sets\u001b[49m\u001b[38;5;241;43m=\u001b[39;49m\u001b[43mvalid_sets\u001b[49m\u001b[43m,\u001b[49m\u001b[43m \u001b[49m\u001b[43mvalid_names\u001b[49m\u001b[38;5;241;43m=\u001b[39;49m\u001b[43meval_names\u001b[49m\u001b[43m,\u001b[49m\n\u001b[1;32m    685\u001b[0m \u001b[43m                      \u001b[49m\u001b[43mearly_stopping_rounds\u001b[49m\u001b[38;5;241;43m=\u001b[39;49m\u001b[43mearly_stopping_rounds\u001b[49m\u001b[43m,\u001b[49m\n\u001b[1;32m    686\u001b[0m \u001b[43m                      \u001b[49m\u001b[43mevals_result\u001b[49m\u001b[38;5;241;43m=\u001b[39;49m\u001b[43mevals_result\u001b[49m\u001b[43m,\u001b[49m\u001b[43m \u001b[49m\u001b[43mfobj\u001b[49m\u001b[38;5;241;43m=\u001b[39;49m\u001b[38;5;28;43mself\u001b[39;49m\u001b[38;5;241;43m.\u001b[39;49m\u001b[43m_fobj\u001b[49m\u001b[43m,\u001b[49m\u001b[43m \u001b[49m\u001b[43mfeval\u001b[49m\u001b[38;5;241;43m=\u001b[39;49m\u001b[43meval_metrics_callable\u001b[49m\u001b[43m,\u001b[49m\n\u001b[1;32m    687\u001b[0m \u001b[43m                      \u001b[49m\u001b[43mverbose_eval\u001b[49m\u001b[38;5;241;43m=\u001b[39;49m\u001b[43mverbose\u001b[49m\u001b[43m,\u001b[49m\u001b[43m \u001b[49m\u001b[43mfeature_name\u001b[49m\u001b[38;5;241;43m=\u001b[39;49m\u001b[43mfeature_name\u001b[49m\u001b[43m,\u001b[49m\n\u001b[1;32m    688\u001b[0m \u001b[43m                      \u001b[49m\u001b[43mcallbacks\u001b[49m\u001b[38;5;241;43m=\u001b[39;49m\u001b[43mcallbacks\u001b[49m\u001b[43m,\u001b[49m\u001b[43m \u001b[49m\u001b[43minit_model\u001b[49m\u001b[38;5;241;43m=\u001b[39;49m\u001b[43minit_model\u001b[49m\u001b[43m)\u001b[49m\n\u001b[1;32m    690\u001b[0m \u001b[38;5;28;01mif\u001b[39;00m evals_result:\n\u001b[1;32m    691\u001b[0m     \u001b[38;5;28mself\u001b[39m\u001b[38;5;241m.\u001b[39m_evals_result \u001b[38;5;241m=\u001b[39m evals_result\n",
      "File \u001b[0;32m~/opt/anaconda3/envs/play/lib/python3.10/site-packages/lightgbm/engine.py:249\u001b[0m, in \u001b[0;36mtrain\u001b[0;34m(params, train_set, num_boost_round, valid_sets, valid_names, fobj, feval, init_model, feature_name, categorical_feature, early_stopping_rounds, evals_result, verbose_eval, learning_rates, keep_training_booster, callbacks)\u001b[0m\n\u001b[1;32m    241\u001b[0m \u001b[38;5;28;01mfor\u001b[39;00m cb \u001b[38;5;129;01min\u001b[39;00m callbacks_before_iter:\n\u001b[1;32m    242\u001b[0m     cb(callback\u001b[38;5;241m.\u001b[39mCallbackEnv(model\u001b[38;5;241m=\u001b[39mbooster,\n\u001b[1;32m    243\u001b[0m                             params\u001b[38;5;241m=\u001b[39mparams,\n\u001b[1;32m    244\u001b[0m                             iteration\u001b[38;5;241m=\u001b[39mi,\n\u001b[1;32m    245\u001b[0m                             begin_iteration\u001b[38;5;241m=\u001b[39minit_iteration,\n\u001b[1;32m    246\u001b[0m                             end_iteration\u001b[38;5;241m=\u001b[39minit_iteration \u001b[38;5;241m+\u001b[39m num_boost_round,\n\u001b[1;32m    247\u001b[0m                             evaluation_result_list\u001b[38;5;241m=\u001b[39m\u001b[38;5;28;01mNone\u001b[39;00m))\n\u001b[0;32m--> 249\u001b[0m \u001b[43mbooster\u001b[49m\u001b[38;5;241;43m.\u001b[39;49m\u001b[43mupdate\u001b[49m\u001b[43m(\u001b[49m\u001b[43mfobj\u001b[49m\u001b[38;5;241;43m=\u001b[39;49m\u001b[43mfobj\u001b[49m\u001b[43m)\u001b[49m\n\u001b[1;32m    251\u001b[0m evaluation_result_list \u001b[38;5;241m=\u001b[39m []\n\u001b[1;32m    252\u001b[0m \u001b[38;5;66;03m# check evaluation result.\u001b[39;00m\n",
      "File \u001b[0;32m~/opt/anaconda3/envs/play/lib/python3.10/site-packages/lightgbm/basic.py:2643\u001b[0m, in \u001b[0;36mBooster.update\u001b[0;34m(self, train_set, fobj)\u001b[0m\n\u001b[1;32m   2641\u001b[0m \u001b[38;5;28;01mif\u001b[39;00m \u001b[38;5;28mself\u001b[39m\u001b[38;5;241m.\u001b[39m__set_objective_to_none:\n\u001b[1;32m   2642\u001b[0m     \u001b[38;5;28;01mraise\u001b[39;00m LightGBMError(\u001b[38;5;124m'\u001b[39m\u001b[38;5;124mCannot update due to null objective function.\u001b[39m\u001b[38;5;124m'\u001b[39m)\n\u001b[0;32m-> 2643\u001b[0m _safe_call(\u001b[43m_LIB\u001b[49m\u001b[38;5;241;43m.\u001b[39;49m\u001b[43mLGBM_BoosterUpdateOneIter\u001b[49m\u001b[43m(\u001b[49m\n\u001b[1;32m   2644\u001b[0m \u001b[43m    \u001b[49m\u001b[38;5;28;43mself\u001b[39;49m\u001b[38;5;241;43m.\u001b[39;49m\u001b[43mhandle\u001b[49m\u001b[43m,\u001b[49m\n\u001b[1;32m   2645\u001b[0m \u001b[43m    \u001b[49m\u001b[43mctypes\u001b[49m\u001b[38;5;241;43m.\u001b[39;49m\u001b[43mbyref\u001b[49m\u001b[43m(\u001b[49m\u001b[43mis_finished\u001b[49m\u001b[43m)\u001b[49m\u001b[43m)\u001b[49m)\n\u001b[1;32m   2646\u001b[0m \u001b[38;5;28mself\u001b[39m\u001b[38;5;241m.\u001b[39m__is_predicted_cur_iter \u001b[38;5;241m=\u001b[39m [\u001b[38;5;28;01mFalse\u001b[39;00m \u001b[38;5;28;01mfor\u001b[39;00m _ \u001b[38;5;129;01min\u001b[39;00m \u001b[38;5;28mrange\u001b[39m(\u001b[38;5;28mself\u001b[39m\u001b[38;5;241m.\u001b[39m__num_dataset)]\n\u001b[1;32m   2647\u001b[0m \u001b[38;5;28;01mreturn\u001b[39;00m is_finished\u001b[38;5;241m.\u001b[39mvalue \u001b[38;5;241m==\u001b[39m \u001b[38;5;241m1\u001b[39m\n",
      "\u001b[0;31mKeyboardInterrupt\u001b[0m: "
     ]
    }
   ],
   "source": [
    "study.optimize(objective, n_trials=30)"
   ]
  },
  {
   "cell_type": "code",
   "execution_count": 54,
   "id": "8a51c208-0a29-4cc0-8ecf-0cd57934f312",
   "metadata": {},
   "outputs": [],
   "source": [
    "trial_df = study.trials_dataframe()"
   ]
  },
  {
   "cell_type": "code",
   "execution_count": 55,
   "id": "e31bd07a-a87d-4dc0-ad08-bfd3369e7dcc",
   "metadata": {
    "tags": []
   },
   "outputs": [
    {
     "data": {
      "image/png": "[encoded data removed]",
      "text/plain": [
       "<Figure size 1008x504 with 1 Axes>"
      ]
     },
     "metadata": {
      "needs_background": "light"
     },
     "output_type": "display_data"
    }
   ],
   "source": [
    "plt.figure(figsize=(14, 7))\n",
    "trial_df.loc[trial_df[\"state\"] == \"COMPLETE\"].reset_index(drop=True)[\"value\"].plot()\n",
    "plt.show()"
   ]
  },
  {
   "cell_type": "code",
   "execution_count": 57,
   "id": "13e30014-f664-49e9-95e5-fe1f5e621df3",
   "metadata": {},
   "outputs": [],
   "source": [
    "trial_df.loc[trial_df[\"state\"] == \"COMPLETE\"].to_csv(f\"{EVALUATION_DATA_PATH}/trials/ori_lag0_dart.csv\", index=False)"
   ]
  },
  {
   "cell_type": "code",
   "execution_count": 58,
   "id": "d3e937d5-802d-44ac-b212-0439e73584c1",
   "metadata": {},
   "outputs": [
    {
     "data": {
      "image/png": "[encoded data removed]",
      "text/plain": [
       "<Figure size 1152x576 with 1 Axes>"
      ]
     },
     "metadata": {
      "needs_background": "light"
     },
     "output_type": "display_data"
    },
    {
     "data": {
      "image/png": "[encoded data removed]",
      "text/plain": [
       "<Figure size 1152x576 with 1 Axes>"
      ]
     },
     "metadata": {
      "needs_background": "light"
     },
     "output_type": "display_data"
    },
    {
     "data": {
      "image/png": "[encoded data removed]",
      "text/plain": [
       "<Figure size 1152x576 with 1 Axes>"
      ]
     },
     "metadata": {
      "needs_background": "light"
     },
     "output_type": "display_data"
    },
    {
     "data": {
      "image/png": "[encoded data removed]",
      "text/plain": [
       "<Figure size 1152x576 with 1 Axes>"
      ]
     },
     "metadata": {
      "needs_background": "light"
     },
     "output_type": "display_data"
    },
    {
     "data": {
      "image/png": "[encoded data removed]",
      "text/plain": [
       "<Figure size 1152x576 with 1 Axes>"
      ]
     },
     "metadata": {
      "needs_background": "light"
     },
     "output_type": "display_data"
    },
    {
     "data": {
      "image/png": "[encoded data removed]",
      "text/plain": [
       "<Figure size 1152x576 with 1 Axes>"
      ]
     },
     "metadata": {
      "needs_background": "light"
     },
     "output_type": "display_data"
    },
    {
     "data": {
      "image/png": "[encoded data removed]",
      "text/plain": [
       "<Figure size 1152x576 with 1 Axes>"
      ]
     },
     "metadata": {
      "needs_background": "light"
     },
     "output_type": "display_data"
    },
    {
     "data": {
      "image/png": "[encoded data removed]",
      "text/plain": [
       "<Figure size 1152x576 with 1 Axes>"
      ]
     },
     "metadata": {
      "needs_background": "light"
     },
     "output_type": "display_data"
    }
   ],
   "source": [
    "for col in trial_df.columns[5:-1]:\n",
    "    plt.figure(figsize=(16, 8))\n",
    "    sns.scatterplot(data=trial_df, x=col, y=\"value\")\n",
    "    plt.title(f\"{col}\")\n",
    "    plt.show()"
   ]
  },
  {
   "cell_type": "code",
   "execution_count": null,
   "id": "4c947175-b55f-4c15-90f2-e02393893eae",
   "metadata": {},
   "outputs": [],
   "source": [
    "params = {\n",
    "    \"objective\": \"binary\",\n",
    "    \"verbosity\": -1,\n",
    "    \"boosting_type\": \"gbdt\",\n",
    "    \"reg_alpha\": 4.5,\n",
    "    \"reg_lambda\": 9,\n",
    "    \"learning_rate\": 0.05,\n",
    "    \"n_estimators\": 195,\n",
    "    \"colsample_bytree\": 0.6,\n",
    "    \"subsample\": 0.7,\n",
    "    \"subsample_freq\": 6,\n",
    "    \"min_child_samples\": 170,\n",
    "    \"scale_pos_weight\": 2.14,\n",
    "    \"max_bins\": 165,\n",
    "    \"max_depth\": 18,\n",
    "}"
   ]
  },
  {
   "cell_type": "code",
   "execution_count": null,
   "id": "258af126-d240-4d11-ba22-833188997262",
   "metadata": {},
   "outputs": [],
   "source": [
    "kf = StratifiedKFold(n_splits=5)\n",
    "model_list, score_list = [], []\n",
    "for fold, (idx_tr, idx_va) in zip(range(1, 5+1), kf.split(train, target)):\n",
    "    X_train, X_val, y_train, y_val, model = None, None, None, None, None\n",
    "    X_train = train.iloc[idx_tr][features]\n",
    "    X_val = train.iloc[idx_va][features]\n",
    "    y_train = target[idx_tr]\n",
    "    y_val = target[idx_va]\n",
    "    model = LGBMClassifier(**params)\n",
    "    with warnings.catch_warnings():\n",
    "        warnings.filterwarnings('ignore', category=UserWarning)\n",
    "        model.fit(\n",
    "            X_train,\n",
    "            y_train,\n",
    "            eval_set=[(X_val, y_val)], \n",
    "            eval_metric=[lgb_amex_metric],\n",
    "            verbose=-1\n",
    "            # callbacks=[log_evaluation(params[\"n_estimators\"])]\n",
    "        )\n",
    "    y_train_pred = model.predict_proba(X_train, raw_score=True)\n",
    "    train_score = amex_metric(y_train, y_train_pred)\n",
    "    X_train, y_train = None, None\n",
    "    y_val_pred = model.predict_proba(X_val, raw_score=True)\n",
    "    val_score = amex_metric(y_val, y_val_pred)\n",
    "    print(f\"Fold {fold} | Train Score = {train_score:.5f}\")\n",
    "    print(f\"{Fore.GREEN}{Style.BRIGHT}Fold {fold} | Val   Score = {val_score:.5f}{Style.RESET_ALL}\")\n",
    "    model_list.append(model)\n",
    "    score_list.append(val_score)"
   ]
  },
  {
   "cell_type": "code",
   "execution_count": null,
   "id": "b5c78490-ee65-4f6a-9295-eec07d9a24fd",
   "metadata": {},
   "outputs": [],
   "source": [
    "np.mean(score_list)"
   ]
  },
  {
   "cell_type": "code",
   "execution_count": null,
   "id": "146e76df-8a89-4d0d-87f9-e81335ed1b56",
   "metadata": {},
   "outputs": [],
   "source": [
    "raw_scores_list = []\n",
    "for m in model_list:\n",
    "    raw_scores = m.predict_proba(val.loc[:, features], raw_score=True)\n",
    "    raw_scores_list.append(raw_scores)"
   ]
  },
  {
   "cell_type": "code",
   "execution_count": null,
   "id": "63b7ce2f-0e2e-41fd-af6c-02bdf951584e",
   "metadata": {},
   "outputs": [],
   "source": [
    "y_val_pred = np.array(raw_scores_list).mean(axis=0)"
   ]
  },
  {
   "cell_type": "code",
   "execution_count": null,
   "id": "371d24bc-f519-4cd5-ad36-4ccbbb73e92c",
   "metadata": {},
   "outputs": [],
   "source": [
    "y_val = val[\"target\"].values"
   ]
  },
  {
   "cell_type": "code",
   "execution_count": null,
   "id": "0a5998ab-9737-4270-a6e7-18ae04da071d",
   "metadata": {},
   "outputs": [],
   "source": [
    "amex_metric(y_val, y_val_pred)"
   ]
  },
  {
   "cell_type": "code",
   "execution_count": null,
   "id": "b1d68821-2bdc-400e-a039-a9e770c15ba0",
   "metadata": {},
   "outputs": [],
   "source": [
    "df_lag0.head()"
   ]
  },
  {
   "cell_type": "code",
   "execution_count": null,
   "id": "24119874-3d51-41b5-b6d4-641bc6b78966",
   "metadata": {},
   "outputs": [],
   "source": [
    "raw_scores_list = []\n",
    "for m in model_list:\n",
    "    raw_scores = m.predict_proba(df_lag0.loc[:, features], raw_score=True)\n",
    "    raw_scores_list.append(raw_scores)"
   ]
  },
  {
   "cell_type": "code",
   "execution_count": null,
   "id": "c5d2d3bc-abb8-44d6-ae0f-76c22b54d0b2",
   "metadata": {},
   "outputs": [],
   "source": [
    "y_test_pred = np.array(raw_scores_list).mean(axis=0)"
   ]
  },
  {
   "cell_type": "code",
   "execution_count": null,
   "id": "13657aa4-0981-4ae1-9240-7b49af5aecf3",
   "metadata": {},
   "outputs": [],
   "source": [
    "y_test_pred"
   ]
  },
  {
   "cell_type": "code",
   "execution_count": null,
   "id": "687fd4c8-b0d6-4b52-9505-77c55a69b630",
   "metadata": {},
   "outputs": [],
   "source": [
    "submission = pd.read_csv(f\"{RAW_DATA_PATH}/sample_submission.csv\")"
   ]
  },
  {
   "cell_type": "code",
   "execution_count": null,
   "id": "4a462451-c969-498d-9055-5ad5eed37ae1",
   "metadata": {},
   "outputs": [],
   "source": [
    "submission[\"prediction\"] = y_test_pred"
   ]
  },
  {
   "cell_type": "code",
   "execution_count": null,
   "id": "ea6e128b-2709-4740-a3d4-cbdc768bd63f",
   "metadata": {},
   "outputs": [],
   "source": [
    "# submission.to_csv(f\"../submission16.csv\", index=False)"
   ]
  },
  {
   "cell_type": "code",
   "execution_count": null,
   "id": "869e8848-f789-4640-9d45-9efa878796eb",
   "metadata": {},
   "outputs": [],
   "source": [
    "submission = submission.drop(columns=\"prediction\")"
   ]
  },
  {
   "cell_type": "code",
   "execution_count": null,
   "id": "74a0f0f6-0fe9-4849-8d18-3bc684d09056",
   "metadata": {},
   "outputs": [],
   "source": [
    "result = submission.merge(test_data[[\"customer_ID\", \"prediction\"]], on=\"customer_ID\")"
   ]
  },
  {
   "cell_type": "code",
   "execution_count": null,
   "id": "6ac311bc-647d-4147-b798-0a605c6c239b",
   "metadata": {},
   "outputs": [],
   "source": []
  },
  {
   "cell_type": "code",
   "execution_count": null,
   "id": "3e5ec93e-c8af-4262-9457-25b8f9b30557",
   "metadata": {},
   "outputs": [],
   "source": []
  },
  {
   "cell_type": "markdown",
   "id": "e6d8e03d-e2b0-4b33-b15d-3353a244c438",
   "metadata": {},
   "source": [
    "### Copy from Kaggle"
   ]
  },
  {
   "cell_type": "code",
   "execution_count": null,
   "id": "d77739fc-dee3-4677-ae94-6dd8d25608ff",
   "metadata": {},
   "outputs": [],
   "source": []
  },
  {
   "cell_type": "code",
   "execution_count": null,
   "id": "96798724-2290-45e7-a903-fc9b84f3e4e9",
   "metadata": {},
   "outputs": [],
   "source": [
    "mean_features = [f\"{col}_mean\" for col in MEAN_FEATURES]\n",
    "mean_features[:3]"
   ]
  },
  {
   "cell_type": "code",
   "execution_count": null,
   "id": "18451ff7-5c38-4cac-87a5-934e797ef769",
   "metadata": {},
   "outputs": [],
   "source": [
    "min_features = [f\"{col}_min\" for col in MIN_FEATURES]\n",
    "min_features[:3]"
   ]
  },
  {
   "cell_type": "code",
   "execution_count": null,
   "id": "e361898d-6302-4ea1-b81e-a33acee5bd0c",
   "metadata": {},
   "outputs": [],
   "source": [
    "max_features = [f\"{col}_max\" for col in MAX_FEATURES]\n",
    "max_features[:3]"
   ]
  },
  {
   "cell_type": "code",
   "execution_count": null,
   "id": "6049a797-3d2c-41e5-b334-0be5c67f26c5",
   "metadata": {},
   "outputs": [],
   "source": [
    "last_features = [f\"{col}_last\" for col in LAST_FEATURES]\n",
    "last_features[:3]"
   ]
  },
  {
   "cell_type": "code",
   "execution_count": null,
   "id": "0fd6a65c-ef04-481c-be34-cf2e2c1892d3",
   "metadata": {},
   "outputs": [],
   "source": [
    "ma_features = [col for col in train_data.columns if col.endswith(\"_ma\")]\n",
    "ma_features[:3]"
   ]
  },
  {
   "cell_type": "code",
   "execution_count": null,
   "id": "3254eb35-afdc-4c9b-a9c0-82154acbbd9a",
   "metadata": {},
   "outputs": [],
   "source": [
    "target = train_data[\"target\"].values.astype(int)"
   ]
  },
  {
   "cell_type": "code",
   "execution_count": null,
   "id": "6c56c37c-2dbf-4696-a6d3-0869caef81b0",
   "metadata": {},
   "outputs": [],
   "source": [
    "%%time\n",
    "# Cross-validation of the classifier\n",
    "ONLY_FIRST_FOLD = False\n",
    "features = min_features + max_features + last_features + ma_features # mean_features + \n",
    "excluded_columns = ['B_30_mean', 'B_38_mean', 'D_114_mean', 'D_117_mean', 'D_120_mean', 'D_126_mean', \n",
    "                    'B_30_max', 'B_38_max', 'D_63_max', 'D_64_max', 'D_116_max', 'D_117_max', 'D_126_max',\n",
    "                    'D_68_last', 'D_117_last']\n",
    "features = [f for f in features if f not in excluded_columns]\n",
    "print(f\"{len(features)} features\")"
   ]
  },
  {
   "cell_type": "code",
   "execution_count": null,
   "id": "e18be2ee-9a04-4e89-af57-32979b8cd77e",
   "metadata": {},
   "outputs": [],
   "source": [
    "def my_booster(random_state=1, n_estimators=1400):\n",
    "    return LGBMClassifier(n_estimators=n_estimators,\n",
    "                          learning_rate=0.03, \n",
    "                          reg_alpha=10, \n",
    "                          reg_lambda=40,\n",
    "                          min_child_samples=2200,\n",
    "                          num_leaves=100,\n",
    "                          colsample_bytree=0.18,\n",
    "                          subsample=0.85,\n",
    "                          max_bins=500, \n",
    "                          scale_pos_weight=2.5,\n",
    "                          random_state=1)"
   ]
  },
  {
   "cell_type": "code",
   "execution_count": null,
   "id": "f3e940ac-9217-4177-bdd7-0c400f1dcadf",
   "metadata": {},
   "outputs": [],
   "source": [
    "# train[[\"D_63_last\", \"D_64_last\"]] = train[[\"D_63_last\", \"D_64_last\"]].astype(\"category\")"
   ]
  },
  {
   "cell_type": "code",
   "execution_count": null,
   "id": "1c64eae5-d3fd-4958-8d38-6598d16742c9",
   "metadata": {},
   "outputs": [],
   "source": [
    "# train = train_data.copy()\n",
    "# del train_data"
   ]
  },
  {
   "cell_type": "code",
   "execution_count": null,
   "id": "5f4210ae-b94c-47bf-a76e-3744c4f8171a",
   "metadata": {},
   "outputs": [],
   "source": [
    "n_est_list = [2200, 1500, 2000, 1000, 1600, 1800, 1800, 1200, 1400, 1000]"
   ]
  },
  {
   "cell_type": "code",
   "execution_count": null,
   "id": "bed2de5f-ca9d-4b2b-99ed-4c33c5a33a87",
   "metadata": {},
   "outputs": [],
   "source": [
    "%%time\n",
    "model_list, score_list, y_pred_list, held_out_index_list = [], [], [], []\n",
    "model_dict = {}\n",
    "X_val_dict = {}\n",
    "y_val_dict = {}\n",
    "y_score_dict = {}\n",
    "kf = StratifiedKFold(n_splits=10)\n",
    "for fold, (idx_tr, idx_va), n_est in zip(range(1, 10+1), kf.split(train, target), n_est_list):\n",
    "    model_dict[fold] = joblib.load(f\"{MODELS_PATH}/lgbm_models/model_{fold}.pkl\")\n",
    "    X_val_dict[fold] = train.iloc[idx_va][features]\n",
    "    y_val_dict[fold] = target[idx_va]\n",
    "    y_score_dict[fold] = model_dict[fold].predict_proba(X_val_dict[fold], raw_score=True)"
   ]
  },
  {
   "cell_type": "code",
   "execution_count": null,
   "id": "647e2ea6-c065-4730-bb16-daf6cb6c3a7d",
   "metadata": {},
   "outputs": [],
   "source": [
    "for i in range(1, 11):\n",
    "    print(i)\n",
    "    raw_score_ = y_score_dict[i]\n",
    "    target_ = y_val_dict[i]\n",
    "    main_metric, gini, top4 = amex_metric_np(raw_score_, target_)\n",
    "    print(f\"Main metric: {main_metric:.3f}, Gini: {gini:.3f}, Top4: {top4:.3f}\")\n",
    "    prob_score_ = sigmoid(raw_score_)\n",
    "    print(f\"ROC AUC: {roc_auc_score(target_, prob_score_):.3f}\")\n",
    "    print(f\"Average Precision: {average_precision_score(target_, prob_score_):.3f}\")"
   ]
  },
  {
   "cell_type": "code",
   "execution_count": null,
   "id": "a65d26a2-8821-47e9-a926-133148712b00",
   "metadata": {},
   "outputs": [],
   "source": [
    "full_train = pd.concat(list(X_val_dict.values()))\n",
    "full_train.shape"
   ]
  },
  {
   "cell_type": "code",
   "execution_count": null,
   "id": "d5795c76-f1ae-420d-b1ac-26c7ae102239",
   "metadata": {},
   "outputs": [],
   "source": [
    "full_train_gt = np.concatenate(list(y_val_dict.values()))\n",
    "len(full_train_gt)"
   ]
  },
  {
   "cell_type": "code",
   "execution_count": null,
   "id": "2ac46e0f-76dd-4d0f-97e8-9e4cd47a21d7",
   "metadata": {},
   "outputs": [],
   "source": [
    "full_train_scores = np.concatenate(list(y_score_dict.values()))\n",
    "len(full_train_scores)"
   ]
  },
  {
   "cell_type": "code",
   "execution_count": null,
   "id": "422d6f6d-4b0b-4e6e-87f0-d866d7b2d4ae",
   "metadata": {},
   "outputs": [],
   "source": [
    "full_train.loc[:, \"target\"] = full_train_gt\n",
    "full_train.loc[:, \"score\"] = full_train_scores"
   ]
  },
  {
   "cell_type": "code",
   "execution_count": null,
   "id": "2455b863-d5d7-45a4-b856-f44112861f04",
   "metadata": {},
   "outputs": [],
   "source": [
    "def sigmoid(log_odds):\n",
    "    return 1 / (1 + np.exp(-log_odds))"
   ]
  },
  {
   "cell_type": "code",
   "execution_count": null,
   "id": "9565d936-aa8a-42f3-8a79-e1e81fd28b16",
   "metadata": {},
   "outputs": [],
   "source": [
    "full_train[\"prob_score\"] = sigmoid(full_train[\"score\"])"
   ]
  },
  {
   "cell_type": "code",
   "execution_count": null,
   "id": "31c7820b-63d3-4463-8ac1-1d239f0e0af4",
   "metadata": {},
   "outputs": [],
   "source": [
    "roc_auc_score(full_train[\"target\"], full_train[\"prob_score\"])"
   ]
  },
  {
   "cell_type": "code",
   "execution_count": null,
   "id": "48ba496c-cf37-4206-8308-1ba3ad7d1451",
   "metadata": {},
   "outputs": [],
   "source": [
    "# full_train.to_csv(f\"{EVALUATION_DATA_PATH}/train_single_raw_score.csv\", index=False)"
   ]
  },
  {
   "cell_type": "code",
   "execution_count": null,
   "id": "16a9e1ac-e175-4d24-ba1d-323864dbd075",
   "metadata": {},
   "outputs": [],
   "source": [
    "full_train = full_train.sort_values('score', ascending=False)"
   ]
  },
  {
   "cell_type": "code",
   "execution_count": null,
   "id": "a3007342-c0e6-4288-8f32-ce770f2cfe4e",
   "metadata": {},
   "outputs": [],
   "source": [
    "full_train['weight'] = full_train['target'].apply(lambda x: 20 if x==0 else 1)"
   ]
  },
  {
   "cell_type": "code",
   "execution_count": null,
   "id": "c838a78f-5074-49ce-ae7b-5a66cae67b43",
   "metadata": {},
   "outputs": [],
   "source": [
    "four_pct_cutoff = int(0.04 * full_train['weight'].sum())\n",
    "full_train['weight_cumsum'] = full_train['weight'].cumsum()\n",
    "full_train[\"is_cutoff\"] = 0\n",
    "full_train.loc[full_train['weight_cumsum'] <= four_pct_cutoff, \"is_cutoff\"] = 1"
   ]
  },
  {
   "cell_type": "code",
   "execution_count": null,
   "id": "adc6bb51-6948-48ac-a0a2-ad1839c9ef2c",
   "metadata": {},
   "outputs": [],
   "source": [
    "top_four_pct_df = full_train.loc[full_train[\"is_cutoff\"] == 1]"
   ]
  },
  {
   "cell_type": "code",
   "execution_count": null,
   "id": "88e22769-b329-4657-872d-2d4359526203",
   "metadata": {},
   "outputs": [],
   "source": [
    "full_train.shape, top_four_pct_df.shape"
   ]
  },
  {
   "cell_type": "code",
   "execution_count": null,
   "id": "65132c65-ddd3-4cb6-83ca-99422f726514",
   "metadata": {},
   "outputs": [],
   "source": [
    "top_four_pct_df[\"target\"].mean()"
   ]
  },
  {
   "cell_type": "code",
   "execution_count": null,
   "id": "b3b7efb2-bb8e-4eac-9b94-0fa6f6915d85",
   "metadata": {},
   "outputs": [],
   "source": [
    "full_train.describe().iloc[:, :-5].reset_index().to_csv(f\"{EVALUATION_DATA_PATH}/train_description.csv\", index=False)"
   ]
  },
  {
   "cell_type": "code",
   "execution_count": null,
   "id": "45a34001-bfef-466c-bd57-313ed0671884",
   "metadata": {},
   "outputs": [],
   "source": [
    "all_neg = full_train.loc[full_train[\"target\"] == 0]\n",
    "all_pos = full_train.loc[full_train[\"target\"] == 1]"
   ]
  },
  {
   "cell_type": "code",
   "execution_count": null,
   "id": "76b70f9d-a9da-4914-a83d-ad0758af218c",
   "metadata": {},
   "outputs": [],
   "source": [
    "wrong_top = top_four_pct_df.loc[top_four_pct_df[\"target\"] == 0]\n",
    "correct_top = top_four_pct_df.loc[top_four_pct_df[\"target\"] == 1]"
   ]
  },
  {
   "cell_type": "code",
   "execution_count": null,
   "id": "cfa1050c-2104-4657-ae0b-11e689415b46",
   "metadata": {},
   "outputs": [],
   "source": [
    "wrong_top.shape, correct_top.shape"
   ]
  },
  {
   "cell_type": "code",
   "execution_count": null,
   "id": "11291926-c535-484d-83a3-e67e84a7532d",
   "metadata": {},
   "outputs": [],
   "source": [
    "col = \"B_2_min\"\n",
    "plt.figure(figsize=(14, 8))\n",
    "sns.distplot(wrong_top[col], kde=True, hist=False, label=\"Wrong\")\n",
    "sns.distplot(correct_top[col], kde=True, hist=False, label=\"Right\")\n",
    "plt.legend()\n",
    "plt.show()"
   ]
  },
  {
   "cell_type": "code",
   "execution_count": null,
   "id": "8d9b89f5-9988-444c-bef0-89420b54fa9f",
   "metadata": {},
   "outputs": [],
   "source": [
    "wrong_top[\"B_2_min\"].min(), correct_top[\"B_2_min\"].min()"
   ]
  },
  {
   "cell_type": "code",
   "execution_count": null,
   "id": "e1895aaf-0725-488c-8bd2-5a2c6bb5b771",
   "metadata": {},
   "outputs": [],
   "source": [
    "rule_list = []\n",
    "for col in wrong_top.columns:\n",
    "    try:\n",
    "        pos_minimum = all_pos[col].min()\n",
    "        temp = wrong_top.loc[wrong_top[col] < pos_minimum]\n",
    "        if temp.shape[0] > 0:\n",
    "            # print(col, f\"Minimum bound for positive class {pos_minimum}\")\n",
    "            rule_list.append((col, \"Minimun\", pos_minimum))\n",
    "        pos_maximum = all_pos[col].max()\n",
    "        temp = wrong_top.loc[wrong_top[col] > pos_maximum]\n",
    "        if temp.shape[0] > 0:\n",
    "            # print(col, f\"Maximum bound for positive class {pos_maximum}\")\n",
    "            rule_list.append((col, \"Maximum\", pos_maximum))\n",
    "    except:\n",
    "        continue"
   ]
  },
  {
   "cell_type": "code",
   "execution_count": null,
   "id": "76cb0d15-ad91-4eb5-aa67-467001e23239",
   "metadata": {},
   "outputs": [],
   "source": [
    "rule_df = pd.DataFrame(rule_list, columns=[\"feature\", \"type\", \"value\"])"
   ]
  },
  {
   "cell_type": "code",
   "execution_count": null,
   "id": "23fe7553-42f5-46a6-8eb4-d8c37569db48",
   "metadata": {},
   "outputs": [],
   "source": [
    "# rule_df.to_csv(f\"{EVALUATION_DATA_PATH}/rule_df.csv\", index=False)"
   ]
  },
  {
   "cell_type": "code",
   "execution_count": null,
   "id": "f88475d5-3da3-45f2-9a69-8261c183ab45",
   "metadata": {},
   "outputs": [],
   "source": [
    "correct_top.describe()"
   ]
  },
  {
   "cell_type": "code",
   "execution_count": null,
   "id": "94415365-917f-4199-beea-1636b39f3610",
   "metadata": {},
   "outputs": [],
   "source": [
    "full_train"
   ]
  },
  {
   "cell_type": "code",
   "execution_count": null,
   "id": "4f1d445b-92a9-4a91-8794-ba78b8930772",
   "metadata": {},
   "outputs": [],
   "source": [
    "X = top_four_pct_df.iloc[:, :-5].select_dtypes(\"float\").reset_index(drop=True)\n",
    "y = top_four_pct_df[\"target\"].reset_index(drop=True)"
   ]
  },
  {
   "cell_type": "code",
   "execution_count": null,
   "id": "9ed4626e-3774-4e21-998c-25a63eb2ef71",
   "metadata": {},
   "outputs": [],
   "source": [
    "# for col in X.columns:\n",
    "#     if X[col].isnull().sum() > 0:\n",
    "#         X[col] = X[col].fillna(X[col].mean())\n",
    "#         print(col, X[col].mean())"
   ]
  },
  {
   "cell_type": "code",
   "execution_count": null,
   "id": "9d120a30-e09b-44e1-b9de-fe7ec4079584",
   "metadata": {},
   "outputs": [],
   "source": [
    "y_val_pred"
   ]
  },
  {
   "cell_type": "code",
   "execution_count": null,
   "id": "a75c66ee-32b5-46f9-b154-e0fb3fe3b377",
   "metadata": {},
   "outputs": [],
   "source": [
    "%%time\n",
    "model_list, score_list, y_pred_list, held_out_index_list = [], [], [], []\n",
    "kf = StratifiedKFold(n_splits=10)\n",
    "for fold, (idx_tr, idx_va) in zip(range(1, 10+1), kf.split(X, y)):\n",
    "    X_train, X_val, y_train, y_val, model = None, None, None, None, None\n",
    "    start_time = datetime.datetime.now()\n",
    "    X_train = X.iloc[idx_tr]\n",
    "    X_val = X.iloc[idx_va]\n",
    "    y_train = y[idx_tr]\n",
    "    y_val = y[idx_va]\n",
    "    \n",
    "    model = LogisticRegression(random_state=1020)\n",
    "    with warnings.catch_warnings():\n",
    "        warnings.filterwarnings('ignore', category=UserWarning)\n",
    "        model.fit(X_train, \n",
    "                  y_train)\n",
    "    \n",
    "    X_train, y_train = None, None\n",
    "    y_val_pred = model.predict_proba(X_val)[:, 1]\n",
    "    # print(precision_score(y_val, sigmoid(y_val_pred)))\n",
    "    score = amex_metric(np.array(y_val), y_val_pred)\n",
    "    print(f\"{Fore.GREEN}{Style.BRIGHT}Fold {fold} | {str(datetime.datetime.now() - start_time)[-12:-7]} |\"\n",
    "          f\"                Score = {score:.5f}{Style.RESET_ALL}\")\n",
    "    score_list.append(score)\n",
    "    model_list.append(model)\n",
    "    held_out_index_list.append(idx_va)\n",
    "    \n",
    "print(f\"{Fore.GREEN}{Style.BRIGHT}OOF Score:                       {np.mean(score_list):.5f}{Style.RESET_ALL}\")"
   ]
  },
  {
   "cell_type": "code",
   "execution_count": null,
   "id": "595c184d-3cc7-47b8-b7bb-cfbf853a6cd3",
   "metadata": {},
   "outputs": [],
   "source": [
    "%%time\n",
    "model_list, score_list, y_pred_list, held_out_index_list = [], [], [], []\n",
    "kf = StratifiedKFold(n_splits=10)\n",
    "for fold, (idx_tr, idx_va), n_est in zip(range(1, 10+1), kf.split(train, target), n_est_list):\n",
    "    X_train, X_val, y_train, y_val, model = None, None, None, None, None\n",
    "    start_time = datetime.datetime.now()\n",
    "    X_train = train.iloc[idx_tr][features]\n",
    "    X_val = train.iloc[idx_va][features]\n",
    "    y_train = target[idx_tr]\n",
    "    y_val = target[idx_va]\n",
    "    \n",
    "    model = my_booster(n_estimators=n_est)\n",
    "    with warnings.catch_warnings():\n",
    "        warnings.filterwarnings('ignore', category=UserWarning)\n",
    "        model.fit(X_train, \n",
    "                  y_train,\n",
    "                  eval_set=[(X_val, y_val)], \n",
    "                  eval_metric=[lgb_amex_metric],\n",
    "                  callbacks=[log_evaluation(200)])\n",
    "    X_train, y_train = None, None\n",
    "    y_val_pred = model.predict_proba(X_val, raw_score=True)\n",
    "    score = amex_metric(y_val, y_val_pred)\n",
    "    n_trees = model.best_iteration_\n",
    "    if n_trees is None: \n",
    "        n_trees = model.n_estimators\n",
    "    print(f\"{Fore.GREEN}{Style.BRIGHT}Fold {fold} | {str(datetime.datetime.now() - start_time)[-12:-7]} |\"\n",
    "          f\" {n_trees:5} trees |\"\n",
    "          f\"                Score = {score:.5f}{Style.RESET_ALL}\")\n",
    "    score_list.append(score)\n",
    "    model_list.append(model)\n",
    "    held_out_index_list.append(idx_va)\n",
    "    # if INFERENCE:\n",
    "    #     y_pred_list.append(model.predict_proba(test[features], raw_score=True))\n",
    "        \n",
    "    # if ONLY_FIRST_FOLD:\n",
    "    #     break # we only want the first fold\n",
    "    \n",
    "print(f\"{Fore.GREEN}{Style.BRIGHT}OOF Score:                       {np.mean(score_list):.5f}{Style.RESET_ALL}\")"
   ]
  },
  {
   "cell_type": "code",
   "execution_count": null,
   "id": "8d33e83b-d336-4355-bbea-8fc3e3835fe2",
   "metadata": {},
   "outputs": [],
   "source": [
    "for idx, model in enumerate(model_list):\n",
    "    joblib.dump(model, f'../models/lgbm_models/model_{idx+1}.pkl')"
   ]
  },
  {
   "cell_type": "markdown",
   "id": "6fc921e1-b9ac-4391-8ee5-b75587bbbe6b",
   "metadata": {},
   "source": [
    "### Train Val Split"
   ]
  },
  {
   "cell_type": "code",
   "execution_count": null,
   "id": "9695a902-a0b2-4365-ba90-3fa70ed69844",
   "metadata": {},
   "outputs": [],
   "source": [
    "train, val = train_test_split(train_data, test_size=0.175, random_state=923, stratify=train_data[\"target\"])"
   ]
  },
  {
   "cell_type": "code",
   "execution_count": null,
   "id": "33c79210-4f9a-4500-9ba2-2a61850acd3f",
   "metadata": {},
   "outputs": [],
   "source": [
    "train[\"target\"].mean(), val[\"target\"].mean()"
   ]
  },
  {
   "cell_type": "code",
   "execution_count": null,
   "id": "e8b3d1e4-211b-45f8-b0ef-0af54bc1b6ae",
   "metadata": {},
   "outputs": [],
   "source": [
    "special_columns = ['customer_ID', 'S_2', 'target', \"Date\", \"min_date\", \"max_date\", \"num_records\", \"days\", \"record_per_day\"]"
   ]
  },
  {
   "cell_type": "code",
   "execution_count": null,
   "id": "b8843d38-b099-4dcc-9ca6-7b009c2df109",
   "metadata": {},
   "outputs": [],
   "source": [
    "all_cols = [c for c in train.columns if c not in special_columns]\n",
    "cat_features = train.select_dtypes(\"category\").columns.tolist()\n",
    "num_features = [col for col in all_cols if col not in cat_features]"
   ]
  },
  {
   "cell_type": "code",
   "execution_count": null,
   "id": "b87420d8-41e4-437e-94b3-90902e3d1010",
   "metadata": {},
   "outputs": [],
   "source": [
    "len(all_cols), len(cat_features), len(num_features)"
   ]
  },
  {
   "cell_type": "code",
   "execution_count": null,
   "id": "1229dc40-14a1-4584-81e4-65505aef8ba8",
   "metadata": {},
   "outputs": [],
   "source": [
    "cluster_columns = get_cols(train, \"_cluster\")\n",
    "nunique_columns = get_cols(train, \"_nunique\")\n",
    "non_D66_count_columns = [col for col in get_cols(train, \"_count\") if \"D_66\" not in col]"
   ]
  },
  {
   "cell_type": "code",
   "execution_count": null,
   "id": "56fe1254-1210-4efb-b157-1e46ee6161ec",
   "metadata": {},
   "outputs": [],
   "source": [
    "selected_features = list(set(all_cols) - set(cluster_columns) - set(nunique_columns) - set(non_D66_count_columns))"
   ]
  },
  {
   "cell_type": "code",
   "execution_count": null,
   "id": "ff6ebc37-99da-425e-b8da-bf6240df5ae4",
   "metadata": {},
   "outputs": [],
   "source": [
    "len(all_cols), len(selected_features)"
   ]
  },
  {
   "cell_type": "code",
   "execution_count": null,
   "id": "0eaf02d5-b112-401a-9346-908cb0e61369",
   "metadata": {},
   "outputs": [],
   "source": [
    "X_train = train.loc[:, selected_features]\n",
    "X_val = val.loc[:, selected_features]"
   ]
  },
  {
   "cell_type": "code",
   "execution_count": null,
   "id": "3b147ed3-595d-49c9-b6a2-87773d961f92",
   "metadata": {},
   "outputs": [],
   "source": [
    "y_train = train[\"target\"]\n",
    "y_val = val[\"target\"]"
   ]
  },
  {
   "cell_type": "code",
   "execution_count": null,
   "id": "110516c6-e21d-4384-b0ef-11d254a7fafd",
   "metadata": {},
   "outputs": [],
   "source": [
    "def _amex_metric(dy_true, dy_pred):\n",
    "    \"\"\"An eval metric that always returns the same value\"\"\"\n",
    "    metric_name = 'Amex Metric'\n",
    "    value = amex_metric_np(dy_pred, dy_true)\n",
    "    is_higher_better = True\n",
    "    return metric_name, value, is_higher_better"
   ]
  },
  {
   "cell_type": "code",
   "execution_count": null,
   "id": "a2914342-c0c6-47f5-aa00-274cda16442a",
   "metadata": {},
   "outputs": [],
   "source": [
    "fit_params = {\"early_stopping_rounds\" : 200, \n",
    "              # \"eval_metric\" : 'auc', \n",
    "              \"eval_set\" : [(X_val, y_val)],\n",
    "              'eval_names': ['valid'],\n",
    "              'verbose': 1,\n",
    "              'categorical_feature': 'auto'}"
   ]
  },
  {
   "cell_type": "code",
   "execution_count": null,
   "id": "6f90c1c1-902f-40c2-a469-ac85f04a3bfb",
   "metadata": {},
   "outputs": [],
   "source": [
    "param_test = {'learning_rate' : [0.01, 0.03, 0.05, 0.07, 0.08, 0.1, 0.12],\n",
    "              'n_estimators' : [100, 200, 300, 400, 500, 600, 800, 1000, 1500, 2000],\n",
    "              'num_leaves': sp_randint(10, 150), \n",
    "              'min_child_samples': sp_randint(25, 300), \n",
    "              'min_child_weight': [1e-3, 3e-3, 1e-2, 3e-2, 1e-1, 3e-1, 1],\n",
    "              'min_split_gain': [0.001, 0.003, 0.01, 0.025, 0.05, 0.1],\n",
    "              'subsample': sp_uniform(loc=0.4, scale=0.6), \n",
    "              # 'subsample_freq': [5, 10, 15],\n",
    "              'max_depth': [-1, 3, 5, 7, 9, 11, 13, 15],\n",
    "              'colsample_bytree': sp_uniform(loc=0.4, scale=0.6),\n",
    "              'reg_alpha': [0, 1e-1, 3e-1, 1, 3, 6, 10, 20, 50],\n",
    "              'reg_lambda': [0, 1e-1, 3e-1, 1, 3, 6, 10, 20, 50],\n",
    "              'scale_pos_weight': [0, 1, 2, 3, 4],\n",
    "              'xgboost_dart_mode': [True, False]\n",
    "              }\n",
    "\n",
    "# Number of combinations\n",
    "n_iter = 50 "
   ]
  },
  {
   "cell_type": "code",
   "execution_count": null,
   "id": "3dac40d9-8a91-4f72-83b5-2caa1128d8d2",
   "metadata": {},
   "outputs": [],
   "source": [
    "# Intializing lgbm and lunching the search\n",
    "lgbm_clf = LGBMClassifier(random_state=1020, \n",
    "                          objective=\"binary\", \n",
    "                          boosting_type='dart', \n",
    "                          n_jobs=-1) # silent=True, "
   ]
  },
  {
   "cell_type": "code",
   "execution_count": null,
   "id": "74eb1840-ef01-4416-9737-7707e32fafe3",
   "metadata": {},
   "outputs": [],
   "source": [
    "grid_search = RandomizedSearchCV(\n",
    "    estimator=lgbm_clf, \n",
    "    param_distributions=param_test, \n",
    "    n_iter=n_iter,\n",
    "    scoring=_amex_metric,\n",
    "    cv=5,\n",
    "    refit=True,\n",
    "    random_state=923,\n",
    "    verbose=True)"
   ]
  },
  {
   "cell_type": "code",
   "execution_count": null,
   "id": "62c8400e-efea-445d-adde-52149b24c7dc",
   "metadata": {},
   "outputs": [],
   "source": [
    "grid_search.fit(X_train, y_train, **fit_params)\n",
    "opt_parameters = grid_search.best_params_"
   ]
  },
  {
   "cell_type": "code",
   "execution_count": null,
   "id": "b544e638-39f3-40b2-b7c8-621d82dc6555",
   "metadata": {},
   "outputs": [],
   "source": [
    "best_params = {\n",
    "    'boosting_type': 'gbdt',\n",
    "    'colsample_bytree': 0.8,\n",
    "    'importance_type': 'split',\n",
    "    'learning_rate': 0.07,\n",
    "    'max_depth': 12,\n",
    "    'min_child_samples': 30,\n",
    "    'min_child_weight': 0.003,\n",
    "    'min_split_gain': 0.02,\n",
    "    'n_estimators': 110,\n",
    "    'n_jobs': -1,\n",
    "    'num_leaves': 80,\n",
    "    'objective': \"binary\",\n",
    "    'random_state': 923,\n",
    "    'reg_alpha': 1,\n",
    "    'reg_lambda': 4,\n",
    "    'silent': True,\n",
    "    'subsample': 0.85,\n",
    "    'subsample_for_bin': 100000,\n",
    "    'subsample_freq': 5,\n",
    "    'scale_pos_weight': 4\n",
    "}"
   ]
  },
  {
   "cell_type": "code",
   "execution_count": null,
   "id": "78dcbade-cfb2-4d93-a398-2d656c79824c",
   "metadata": {},
   "outputs": [],
   "source": [
    "lgbm_clf = LGBMClassifier(**best_params)"
   ]
  },
  {
   "cell_type": "code",
   "execution_count": null,
   "id": "e1e54e02-6856-4d45-a0f0-7229a5576e91",
   "metadata": {},
   "outputs": [],
   "source": [
    "lgbm_clf.fit(X_train, y_train)"
   ]
  },
  {
   "cell_type": "code",
   "execution_count": null,
   "id": "6849a5e0-f40a-44a5-9dd5-5c2ded2cab65",
   "metadata": {},
   "outputs": [],
   "source": [
    "y_train_pred = lgbm_clf.predict_proba(X_train)[:, 1]\n",
    "y_val_pred = lgbm_clf.predict_proba(X_val)[:, 1]"
   ]
  },
  {
   "cell_type": "code",
   "execution_count": null,
   "id": "c847011f-c194-43f6-909e-4abce0f43fbf",
   "metadata": {},
   "outputs": [],
   "source": [
    "plot_roc_curves([y_train, y_val], \n",
    "                [y_train_pred, y_val_pred], \n",
    "                labels=[\"Train\", \"Validation\"], \n",
    "                title=\"Train Validation ROC AUC\")"
   ]
  },
  {
   "cell_type": "code",
   "execution_count": null,
   "id": "2264f284-6c04-44de-90d3-5f9f7e1273e8",
   "metadata": {},
   "outputs": [],
   "source": [
    "imp_df = plot_feature_importance(lgbm_clf.feature_name_, \n",
    "                                 lgbm_clf.feature_importances_, \n",
    "                                 title=\"Feature Importance\",\n",
    "                                 limit=50)"
   ]
  },
  {
   "cell_type": "code",
   "execution_count": null,
   "id": "f8b4f8a8-649a-4bd7-a04a-432f98af21ff",
   "metadata": {},
   "outputs": [],
   "source": [
    "result = pd.DataFrame()\n",
    "for keyword in [\"_mean\", \"std\", \"min\", \"max\", \"first\", \"last\", \"count\"]:\n",
    "    temp = imp_df.loc[imp_df[\"feature\"].str.contains(keyword)].describe().rename(columns={\"feature_importance\": keyword})\n",
    "    result = pd.concat([result, temp], axis=1)"
   ]
  },
  {
   "cell_type": "code",
   "execution_count": null,
   "id": "ea7be8df-5fe4-431a-ac45-ad5237885bef",
   "metadata": {},
   "outputs": [],
   "source": [
    "result"
   ]
  },
  {
   "cell_type": "code",
   "execution_count": null,
   "id": "91c1a37b-583c-404d-93b9-3528d4ae68f7",
   "metadata": {},
   "outputs": [],
   "source": [
    "cluster_feature_imp_df = imp_df.loc[imp_df[\"feature\"].str.contains(\"count\")]"
   ]
  },
  {
   "cell_type": "code",
   "execution_count": null,
   "id": "8cc93d82-481d-47df-9c4c-5ead8956a622",
   "metadata": {},
   "outputs": [],
   "source": [
    "cluster_result = pd.DataFrame()\n",
    "for keyword in [\"B_\", \"S_\", \"R_\", \"P_\", \"D_\"]:\n",
    "    temp = cluster_feature_imp_df.loc[cluster_feature_imp_df[\"feature\"].str.contains(keyword)].describe().rename(columns={\n",
    "        \"feature_importance\": keyword\n",
    "    })\n",
    "    cluster_result = pd.concat([cluster_result, temp], axis=1)"
   ]
  },
  {
   "cell_type": "code",
   "execution_count": null,
   "id": "e853ca94-08b3-423a-81a5-b244aea8ebff",
   "metadata": {},
   "outputs": [],
   "source": [
    "imp_df.shape[0], result.loc[\"count\"].sum()"
   ]
  },
  {
   "cell_type": "markdown",
   "id": "40bb7ed4-6176-4b52-9ecb-83fb6dc73d85",
   "metadata": {},
   "source": [
    "### Test Metric"
   ]
  },
  {
   "cell_type": "code",
   "execution_count": null,
   "id": "23b137f9-ca61-4d83-9ff9-a21305eb6698",
   "metadata": {},
   "outputs": [],
   "source": [
    "y_val_df = pd.DataFrame(y_val).reset_index(drop=True)\n",
    "y_val_pred_df = pd.DataFrame(y_val_pred).rename(columns={0: \"prediction\"})"
   ]
  },
  {
   "cell_type": "code",
   "execution_count": null,
   "id": "1a37b3ca-c9f3-414c-bbc6-b1e94814472b",
   "metadata": {},
   "outputs": [],
   "source": [
    "# feature_imp_thr = imp_df.loc[imp_df[\"feature\"] == \"dummy\"][\"feature_importance\"].values[0]\n",
    "# feature_imp_thr"
   ]
  },
  {
   "cell_type": "code",
   "execution_count": null,
   "id": "331673eb-0dca-4a75-8f18-0af50246332d",
   "metadata": {},
   "outputs": [],
   "source": [
    "selected_features = imp_df.loc[imp_df[\"feature_importance\"] > 0][\"feature\"].tolist()\n",
    "len(selected_features)"
   ]
  },
  {
   "cell_type": "markdown",
   "id": "16a5a448-9c68-431d-8a7a-b1f322f9e27e",
   "metadata": {},
   "source": [
    "### Train once"
   ]
  },
  {
   "cell_type": "code",
   "execution_count": null,
   "id": "d81012a5-1980-49fd-9a86-8765bc20f115",
   "metadata": {},
   "outputs": [],
   "source": [
    "best_params = {'boosting_type': 'gbdt',\n",
    " 'class_weight': None,\n",
    " 'colsample_bytree': 0.7,\n",
    " 'importance_type': 'split',\n",
    " 'learning_rate': 0.07,\n",
    " 'max_depth': 7,\n",
    " 'min_child_samples': 50,\n",
    " 'min_child_weight': 0.05,\n",
    " 'min_split_gain': 0.04,\n",
    " 'n_estimators': 100,\n",
    " 'n_jobs': -1,\n",
    " 'num_leaves': 80,\n",
    " 'objective': None,\n",
    " 'random_state': 1020,\n",
    " 'reg_alpha': 5,\n",
    " 'reg_lambda': 15,\n",
    " 'silent': True,\n",
    " 'subsample': 0.7,\n",
    " 'subsample_for_bin': 20000,\n",
    " 'subsample_freq': 5,\n",
    " 'scale_pos_weight': 1}"
   ]
  },
  {
   "cell_type": "code",
   "execution_count": null,
   "id": "41235181-df82-4aa4-8476-aa0be762a82b",
   "metadata": {},
   "outputs": [],
   "source": [
    "final_lgbm_clf = LGBMClassifier(**best_params)"
   ]
  },
  {
   "cell_type": "code",
   "execution_count": null,
   "id": "2d1db025-9a3d-4d2b-a5bf-dec2fb63e423",
   "metadata": {},
   "outputs": [],
   "source": [
    "final_lgbm_clf.fit(X_train, y_train)"
   ]
  },
  {
   "cell_type": "code",
   "execution_count": null,
   "id": "4d32ab96-3177-4042-a8ca-d92d82c35524",
   "metadata": {},
   "outputs": [],
   "source": [
    "y_train_pred = final_lgbm_clf.predict_proba(X_train)[:, 1]\n",
    "y_val_pred = final_lgbm_clf.predict_proba(X_val)[:, 1]"
   ]
  },
  {
   "cell_type": "code",
   "execution_count": null,
   "id": "d7ef1dac-33bd-425e-abb7-1423dae456a9",
   "metadata": {},
   "outputs": [],
   "source": [
    "plot_roc_curves([y_train, y_val], \n",
    "                [y_train_pred, y_val_pred], \n",
    "                labels=[\"Train\", \"Validation\"], \n",
    "                title=\"Train Validation ROC AUC\")"
   ]
  },
  {
   "cell_type": "code",
   "execution_count": null,
   "id": "b5ec7d16-e398-4fe9-bd13-3e412807bee9",
   "metadata": {},
   "outputs": [],
   "source": [
    "imp_df = plot_feature_importance(final_lgbm_clf.feature_name_, \n",
    "                                 final_lgbm_clf.feature_importances_, \n",
    "                                 title=\"Feature Importance\",\n",
    "                                 limit=50)"
   ]
  },
  {
   "cell_type": "code",
   "execution_count": null,
   "id": "55610023-caa6-4a4f-a0fa-61a927d9e876",
   "metadata": {},
   "outputs": [],
   "source": [
    "# feature_imp_thr = imp_df.loc[imp_df[\"feature\"] == \"dummy\"][\"feature_importance\"].values[0]\n",
    "# feature_imp_thr"
   ]
  },
  {
   "cell_type": "code",
   "execution_count": null,
   "id": "e040c798-77a1-49ee-b197-09589cfe6b75",
   "metadata": {},
   "outputs": [],
   "source": [
    "selected_features = imp_df.loc[imp_df[\"feature_importance\"] > 0][\"feature\"].tolist()\n",
    "len(selected_features)"
   ]
  },
  {
   "cell_type": "markdown",
   "id": "6ca42564-43bb-4cb5-b3c6-16a15a1c23bc",
   "metadata": {},
   "source": [
    "#### Final x2 LGBM"
   ]
  },
  {
   "cell_type": "code",
   "execution_count": null,
   "id": "80cee1a2-55a5-4421-90b2-d449124d7eb9",
   "metadata": {},
   "outputs": [],
   "source": [
    "selected_features = [col for col in selected_features if \"first\" not in col]\n",
    "len(selected_features)"
   ]
  },
  {
   "cell_type": "code",
   "execution_count": null,
   "id": "029f03db-71d7-4859-a5a4-9ca2e76200d4",
   "metadata": {},
   "outputs": [],
   "source": [
    "final_lgbm_clf = LGBMClassifier(**best_params)"
   ]
  },
  {
   "cell_type": "code",
   "execution_count": null,
   "id": "10a9c91e-926c-4411-a02d-98c352fa340b",
   "metadata": {},
   "outputs": [],
   "source": [
    "X_train_ = X_train.loc[:, selected_features]\n",
    "X_val_ = X_val.loc[:, selected_features]"
   ]
  },
  {
   "cell_type": "code",
   "execution_count": null,
   "id": "2d7df427-cc7f-4949-bf4e-9ca9a30ef7bf",
   "metadata": {},
   "outputs": [],
   "source": [
    "final_lgbm_clf.fit(X_train_, y_train)"
   ]
  },
  {
   "cell_type": "code",
   "execution_count": null,
   "id": "cbe79c65-0dc5-43c7-9572-e6663e9f95e6",
   "metadata": {},
   "outputs": [],
   "source": [
    "y_train_pred_ = final_lgbm_clf.predict_proba(X_train_)[:, 1]\n",
    "y_val_pred_ = final_lgbm_clf.predict_proba(X_val_)[:, 1]"
   ]
  },
  {
   "cell_type": "code",
   "execution_count": null,
   "id": "0b5ff830-7ce4-46ec-80ef-eb3b309d688d",
   "metadata": {},
   "outputs": [],
   "source": [
    "plot_roc_curves([y_train, y_val], \n",
    "                [y_train_pred_, y_val_pred_], \n",
    "                labels=[\"Train\", \"Validation\"], \n",
    "                title=\"Train Validation ROC AUC\")"
   ]
  },
  {
   "cell_type": "code",
   "execution_count": null,
   "id": "b20871d1-6189-44db-b78c-5d72a697f565",
   "metadata": {},
   "outputs": [],
   "source": [
    "y_res_df = pd.DataFrame(y_res).reset_index(drop=True)\n",
    "y_res_pred_df = pd.DataFrame(y_res_pred_).rename(columns={0: \"prediction\"})"
   ]
  },
  {
   "cell_type": "code",
   "execution_count": null,
   "id": "0d444d3a-c211-488d-a413-05fb4897c1ab",
   "metadata": {},
   "outputs": [],
   "source": [
    "amex_metric(y_res_df, y_res_pred_df)"
   ]
  },
  {
   "cell_type": "code",
   "execution_count": null,
   "id": "c0a2c3d5-d1da-4d0c-a342-a2be238c797f",
   "metadata": {},
   "outputs": [],
   "source": [
    "y_val.values[:40]"
   ]
  },
  {
   "cell_type": "code",
   "execution_count": null,
   "id": "1dbb8996-c77f-47b4-8687-383a95d440bd",
   "metadata": {},
   "outputs": [],
   "source": [
    "temp_ = [1 if c > 0.95 else c for c in y_val_pred_]\n",
    "# temp_[:40]"
   ]
  },
  {
   "cell_type": "code",
   "execution_count": null,
   "id": "442d9f35-976d-47ba-953c-58db62338cb2",
   "metadata": {},
   "outputs": [],
   "source": [
    "y_val_df = pd.DataFrame(y_val).reset_index(drop=True)\n",
    "y_val_pred_df = pd.DataFrame(y_val_pred_).rename(columns={0: \"prediction\"})"
   ]
  },
  {
   "cell_type": "code",
   "execution_count": null,
   "id": "d9743759-7c75-431a-a134-ed84f9104490",
   "metadata": {},
   "outputs": [],
   "source": [
    "amex_metric(y_val_df, y_val_pred_df)"
   ]
  },
  {
   "cell_type": "markdown",
   "id": "0cdaac36-22b6-44f4-8687-e3bf6938ce93",
   "metadata": {},
   "source": [
    "### END"
   ]
  },
  {
   "cell_type": "markdown",
   "id": "fa7ce3fd-bac0-4364-b611-819042c19358",
   "metadata": {},
   "source": [
    "### LGBM Model"
   ]
  },
  {
   "cell_type": "code",
   "execution_count": null,
   "id": "41135e8f-1549-4612-a9c4-fa70ae39b4cd",
   "metadata": {},
   "outputs": [],
   "source": [
    "opt = BayesSearchCV(\n",
    "    LGBMClassifier(random_state=1020),\n",
    "    {\n",
    "        'learning_rate': (0.04, 0.1),\n",
    "        'num_leaves': (31, 127),\n",
    "        'max_depth': (5, 20),\n",
    "        'min_child_samples': (15, 63),\n",
    "        'n_estimators': (80, 160),\n",
    "        'subsample': (0.7, 0.9),\n",
    "        'subsample_freq': (2, 5),\n",
    "        'colsample_bytree': (0.6, 0.95),\n",
    "        'reg_alpha': (0, 15),\n",
    "        'reg_lambda': (0, 15),\n",
    "        'min_split_gain': (0, 0.05),\n",
    "        'scale_pos_weight': (0.1, 10)\n",
    "    },\n",
    "    n_iter=5,\n",
    "    cv=5,\n",
    "    scoring=make_scorer(fbeta_score, beta=2)\n",
    ")"
   ]
  },
  {
   "cell_type": "code",
   "execution_count": null,
   "id": "295cb663-b522-4e61-be30-959e45c88f53",
   "metadata": {},
   "outputs": [],
   "source": [
    "start = time.time()\n",
    "opt.fit(X_train, y_train, verbose=1)\n",
    "end = time.time()\n",
    "print(f\"Done in {end - start:.2f} seconds\")"
   ]
  },
  {
   "cell_type": "code",
   "execution_count": null,
   "id": "ff687f1c-0639-49ae-b0ab-e4e0d4975e33",
   "metadata": {},
   "outputs": [],
   "source": [
    "best_params = opt.best_estimator_.get_params()"
   ]
  },
  {
   "cell_type": "code",
   "execution_count": null,
   "id": "1b086005-ed1a-445e-97b2-20dea2fc4747",
   "metadata": {},
   "outputs": [],
   "source": [
    "best_params"
   ]
  },
  {
   "cell_type": "code",
   "execution_count": null,
   "id": "a966c482-cfcc-47b1-925f-9cfb2c1f4a43",
   "metadata": {},
   "outputs": [],
   "source": [
    "imp_df = plot_feature_importance(final_lgbm_clf.feature_name_, \n",
    "                                 final_lgbm_clf.feature_importances_, \n",
    "                                 title=\"Feature Importance\",\n",
    "                                 limit=50)"
   ]
  },
  {
   "cell_type": "code",
   "execution_count": null,
   "id": "392cced2-205e-4d54-b3f4-37cf7c2ec0e3",
   "metadata": {},
   "outputs": [],
   "source": [
    "num_features_list, train_score_list, val_score_list = [], [], []\n",
    "for imp_value in tqdm(sorted(imp_df[\"feature_importance\"].unique())):\n",
    "    selected_features = imp_df.loc[imp_df[\"feature_importance\"] > imp_value][\"feature\"].tolist()\n",
    "    print(f\"# of features: {len(selected_features)}\")\n",
    "    \n",
    "    X_train_new = train.loc[:, selected_features]\n",
    "    X_val_new = val.loc[:, selected_features]\n",
    "    \n",
    "    lgbm_clf = LGBMClassifier(**params)\n",
    "    lgbm_clf.fit(X_train_new, y_train)\n",
    "    \n",
    "    y_train_pred = lgbm_clf.predict_proba(X_train_new)[:, 1]\n",
    "    y_val_pred = lgbm_clf.predict_proba(X_val_new)[:, 1]\n",
    "    \n",
    "    y_train_df = pd.DataFrame(y_train).reset_index(drop=True)\n",
    "    y_train_pred_df = pd.DataFrame(y_train_pred).rename(columns={0: \"prediction\"})\n",
    "    y_val_df = pd.DataFrame(y_val).reset_index(drop=True)\n",
    "    y_val_pred_df = pd.DataFrame(y_val_pred).rename(columns={0: \"prediction\"})\n",
    "    \n",
    "    train_score = amex_metric(y_train_df, y_train_pred_df)\n",
    "    val_score = amex_metric(y_val_df, y_val_pred_df)\n",
    "    num_features_list.append(len(selected_features))\n",
    "    train_score_list.append(train_score)\n",
    "    val_score_list.append(val_score)"
   ]
  },
  {
   "cell_type": "code",
   "execution_count": null,
   "id": "c085bc1b-3955-4410-8c71-6a392990830f",
   "metadata": {},
   "outputs": [],
   "source": [
    "train_scores = [i[0] for i in train_score_list]\n",
    "val_scores = [i[0] for i in val_score_list]"
   ]
  },
  {
   "cell_type": "code",
   "execution_count": null,
   "id": "08dc1b24-b119-4289-a2e1-ea6dd661ad52",
   "metadata": {},
   "outputs": [],
   "source": [
    "eval_df = pd.DataFrame(dict(num_feature=num_features_list, \n",
    "                            train_score=train_scores, \n",
    "                            val_score=val_scores)).iloc[:-10]"
   ]
  },
  {
   "cell_type": "code",
   "execution_count": null,
   "id": "cc7e16e2-c874-4af3-a0e8-418aae96441e",
   "metadata": {},
   "outputs": [],
   "source": [
    "plt.figure(figsize=(17, 6))\n",
    "plt.plot(eval_df[\"num_feature\"], eval_df[\"train_score\"], label=\"Train\")\n",
    "plt.plot(eval_df[\"num_feature\"], eval_df[\"val_score\"], label=\"Validation\")\n",
    "plt.legend()\n",
    "plt.show()"
   ]
  },
  {
   "cell_type": "markdown",
   "id": "3a26e5c7-b521-46c9-acf1-58ac2b292e5c",
   "metadata": {},
   "source": [
    "### LGBM Error Analysis"
   ]
  },
  {
   "cell_type": "code",
   "execution_count": null,
   "id": "df50053b-db40-4121-b419-f68a30367de2",
   "metadata": {},
   "outputs": [],
   "source": [
    "X_validation = X_val_.reset_index(drop=True)"
   ]
  },
  {
   "cell_type": "code",
   "execution_count": null,
   "id": "6fb0761c-95a1-4a3c-aba9-99c9a188adbb",
   "metadata": {},
   "outputs": [],
   "source": [
    "top4_pct_df, gini_df = get_final_metric_df(X_validation, y_val_df, y_val_pred_df)"
   ]
  },
  {
   "cell_type": "code",
   "execution_count": null,
   "id": "00f48288-eb31-4a9f-b345-65ebd8e13a93",
   "metadata": {},
   "outputs": [],
   "source": [
    "failed_top4_pct_indices = top4_pct_df.loc[(top4_pct_df[\"is_cutoff\"] == 1) & (top4_pct_df[\"target\"] == 0)].index"
   ]
  },
  {
   "cell_type": "code",
   "execution_count": null,
   "id": "f3c324f1-2a79-4433-9ee2-199a06d3c3e8",
   "metadata": {},
   "outputs": [],
   "source": [
    "# failed_top4_pct_indices"
   ]
  },
  {
   "cell_type": "code",
   "execution_count": null,
   "id": "fcc0db8d-3726-46a8-910b-eb4adb995e61",
   "metadata": {},
   "outputs": [],
   "source": [
    "failed_top4_pct_indices"
   ]
  },
  {
   "cell_type": "code",
   "execution_count": null,
   "id": "9fd108b7-81f8-44c4-a16c-fc87a144f4e6",
   "metadata": {},
   "outputs": [],
   "source": [
    "success_top4 = top4_pct_df.loc[~top4_pct_df.index.isin(failed_top4_pct_indices)]\n",
    "failed_top4 = top4_pct_df.loc[failed_top4_pct_indices]"
   ]
  },
  {
   "cell_type": "code",
   "execution_count": null,
   "id": "4721278a-b219-404b-bba3-6e748f795a7b",
   "metadata": {},
   "outputs": [],
   "source": [
    "success_top4.shape, failed_top4.shape"
   ]
  },
  {
   "cell_type": "code",
   "execution_count": null,
   "id": "a93bbfd3-8f1a-45cd-96fc-2362b2d032df",
   "metadata": {},
   "outputs": [],
   "source": [
    "column = \"P_2_last\""
   ]
  },
  {
   "cell_type": "code",
   "execution_count": null,
   "id": "a1380398-93cb-413f-9cec-90302cb78a57",
   "metadata": {},
   "outputs": [],
   "source": [
    "top4_pct_df.groupby(\"target\")[column].mean()"
   ]
  },
  {
   "cell_type": "code",
   "execution_count": null,
   "id": "9d5aa82a-5ca2-4e32-8f3e-9f052f7181c1",
   "metadata": {
    "tags": []
   },
   "outputs": [],
   "source": [
    "success_top4[column].describe()"
   ]
  },
  {
   "cell_type": "code",
   "execution_count": null,
   "id": "72acb797-ffa3-40a8-a44f-f2b0096cb048",
   "metadata": {},
   "outputs": [],
   "source": [
    "failed_top4[column].describe()"
   ]
  },
  {
   "cell_type": "code",
   "execution_count": null,
   "id": "02c03b2c-f793-47f5-abf6-299a67264708",
   "metadata": {},
   "outputs": [],
   "source": [
    "# save model\n",
    "# joblib.dump(final_lgbm_clf, '../models/lgbm_version1.pkl')"
   ]
  },
  {
   "cell_type": "code",
   "execution_count": null,
   "id": "caf067ed-6593-4b8f-8999-c6857e541c43",
   "metadata": {},
   "outputs": [],
   "source": [
    "# load model\n",
    "loaded_lgbm_model = joblib.load('../models/lgbm_version1.pkl')"
   ]
  },
  {
   "cell_type": "markdown",
   "id": "30905057-4997-4150-8b5e-95131a2a8c4f",
   "metadata": {},
   "source": [
    "### SMOTE"
   ]
  },
  {
   "cell_type": "code",
   "execution_count": null,
   "id": "358300d2-baee-465f-a6cb-98d6d7f8e64b",
   "metadata": {},
   "outputs": [],
   "source": [
    "train.loc[:, num_features] = train.loc[:, num_features].fillna(0)"
   ]
  },
  {
   "cell_type": "code",
   "execution_count": null,
   "id": "46564e53-653f-4ee0-8b7a-f78080f017ce",
   "metadata": {},
   "outputs": [],
   "source": [
    "from imblearn.over_sampling import SMOTE\n",
    "sm = SMOTE(random_state=923)\n",
    "X_res, y_res = sm.fit_resample(train.loc[:, num_features], \n",
    "                               train[\"target\"])"
   ]
  },
  {
   "cell_type": "code",
   "execution_count": null,
   "id": "53c5c2b0-ef4a-408e-8eb8-e2043ec132b5",
   "metadata": {},
   "outputs": [],
   "source": [
    "X_res.shape, y_res.shape"
   ]
  },
  {
   "cell_type": "markdown",
   "id": "b10febac-45a5-4dfe-8e90-679a7b6c58af",
   "metadata": {},
   "source": [
    "### Inference"
   ]
  },
  {
   "cell_type": "code",
   "execution_count": null,
   "id": "b57fb03d-129a-4315-81e8-8360136281f0",
   "metadata": {},
   "outputs": [],
   "source": [
    "X_test = test_data.loc[:, selected_features]"
   ]
  },
  {
   "cell_type": "code",
   "execution_count": null,
   "id": "8187a541-375c-4ade-80ae-aea068907536",
   "metadata": {},
   "outputs": [],
   "source": [
    "y_test_pred = loaded_lgbm_model.predict_proba(X_test)[:, 1]"
   ]
  },
  {
   "cell_type": "code",
   "execution_count": null,
   "id": "c88b8d00-9901-4db0-b50a-4ac1d5213b52",
   "metadata": {},
   "outputs": [],
   "source": [
    "test_data[\"prediction\"] = y_test_pred"
   ]
  },
  {
   "cell_type": "code",
   "execution_count": null,
   "id": "ce4d1072-3e79-4ef6-a985-cb3e9db254b9",
   "metadata": {},
   "outputs": [],
   "source": [
    "test_data.head()"
   ]
  },
  {
   "cell_type": "markdown",
   "id": "0f4349f8-2223-4495-9ac0-9271161d2ad7",
   "metadata": {},
   "source": [
    "#### Submission"
   ]
  },
  {
   "cell_type": "code",
   "execution_count": null,
   "id": "b8a09504-d53b-4605-a513-e759d3591ba4",
   "metadata": {},
   "outputs": [],
   "source": [
    "submission = pd.read_csv(f\"{DATA_PATH}/sample_submission.csv\")"
   ]
  },
  {
   "cell_type": "code",
   "execution_count": null,
   "id": "4b44d52a-25e4-4c57-a521-e0abb56dc442",
   "metadata": {},
   "outputs": [],
   "source": [
    "submission = submission.drop(columns=\"prediction\")"
   ]
  },
  {
   "cell_type": "code",
   "execution_count": null,
   "id": "50e49caa-6672-4477-90b1-bad365f41dcd",
   "metadata": {},
   "outputs": [],
   "source": [
    "result = submission.merge(test_data[[\"customer_ID\", \"prediction\"]], on=\"customer_ID\")"
   ]
  },
  {
   "cell_type": "code",
   "execution_count": null,
   "id": "57e977c8-3c57-4efe-b766-f8ea82b5849a",
   "metadata": {},
   "outputs": [],
   "source": [
    "# result.to_csv(f\"{SUBMISSION_DATA_PATH}/submission4.csv\", index=False)"
   ]
  },
  {
   "cell_type": "code",
   "execution_count": null,
   "id": "5fbb5848-efd4-4724-b6a8-0cb3951abb4b",
   "metadata": {},
   "outputs": [],
   "source": []
  },
  {
   "cell_type": "markdown",
   "id": "11d7f134-a17d-4e3f-980a-243a857ee51f",
   "metadata": {},
   "source": [
    "#### Convert Data to Integer Type"
   ]
  },
  {
   "cell_type": "code",
   "execution_count": null,
   "id": "c8f738a5-d6ec-4281-b9ab-d4da0203c65f",
   "metadata": {},
   "outputs": [],
   "source": [
    "# for i in range(1, 11):\n",
    "#     # df = read_file(f\"{RAW_TRAIN_PICKLE_PATH}/train_data_{i}.pkl\")\n",
    "#     # df = read_file(f\"{RAW_TEST_PICKLE_PATH}/test_data_{i}.pkl\")\n",
    "#     print(df.shape)\n",
    "#     for int_col in INTEGER_COLUMNS:\n",
    "#         print(f\"{df[int_col].isnull().sum()} cells will be imputed\")\n",
    "#         df.loc[df[int_col].isnull(), int_col] = df.loc[df[int_col].isnull(), int_col].fillna(df[int_col].mean())\n",
    "#         if df[int_col].isnull().sum() > 100:\n",
    "#             print(\"Too many missing values\")\n",
    "#             sys.exit()\n",
    "#         df[int_col] = df[int_col].round().astype(np.int8)\n",
    "#     # df.to_pickle(f\"{RAW_TRAIN_PICKLE_PATH}/train_data_{i}.pkl\")\n",
    "#     # df.to_pickle(f\"{RAW_TEST_PICKLE_PATH}/test_data_{i}.pkl\")\n",
    "#     print(f\"Test {i} done\")"
   ]
  },
  {
   "cell_type": "markdown",
   "id": "20931e81-2f11-43e6-af38-eb06900cb074",
   "metadata": {},
   "source": [
    "### Imputation using KNN + Correlation"
   ]
  },
  {
   "cell_type": "code",
   "execution_count": null,
   "id": "8bb3b486-1b38-46f2-92b3-efba6f34a663",
   "metadata": {},
   "outputs": [],
   "source": [
    "corr_df = df.iloc[:, 3:-1].corr()"
   ]
  },
  {
   "cell_type": "code",
   "execution_count": null,
   "id": "1efd7b73-1878-47b6-9cd7-191c2c859ca8",
   "metadata": {},
   "outputs": [],
   "source": [
    "null_count_df = df.iloc[:, 3:-1].isnull().sum().sort_values()"
   ]
  },
  {
   "cell_type": "code",
   "execution_count": null,
   "id": "bcdb311e-af77-4eda-b237-3eb9429a1a64",
   "metadata": {},
   "outputs": [],
   "source": [
    "potential_to_impute_columns = null_count_df[(null_count_df > 0) & (null_count_df < df.shape[0] * 0.2)].index.tolist()\n",
    "potential_to_impute_null_counts = null_count_df[(null_count_df > 0) & (null_count_df < df.shape[0] * 0.2)].values.tolist()"
   ]
  },
  {
   "cell_type": "code",
   "execution_count": null,
   "id": "c56325f0-c8b1-4beb-b662-f6065c5858f2",
   "metadata": {},
   "outputs": [],
   "source": [
    "impute_col_index = 0"
   ]
  },
  {
   "cell_type": "code",
   "execution_count": null,
   "id": "a4739aed-1c52-45f0-b52f-03f2cbfa78af",
   "metadata": {},
   "outputs": [],
   "source": [
    "target_impute_column = potential_to_impute_columns[impute_col_index]\n",
    "target_impute_column"
   ]
  },
  {
   "cell_type": "code",
   "execution_count": null,
   "id": "6488d2d6-97fd-4181-8710-2cadf1d7ecdf",
   "metadata": {},
   "outputs": [],
   "source": [
    "target_impute_null_count = potential_to_impute_null_counts[impute_col_index]\n",
    "target_impute_null_count"
   ]
  },
  {
   "cell_type": "code",
   "execution_count": null,
   "id": "41307b61-51a7-4b38-b6e7-f932a4e37e4e",
   "metadata": {},
   "outputs": [],
   "source": [
    "high_corr_df = corr_df.loc[\n",
    "    ~corr_df[target_impute_column].between(-0.4, 0.4) & ~corr_df[target_impute_column].isnull(),\n",
    "    target_impute_column\n",
    "]\n",
    "high_corr_df = high_corr_df.abs().sort_values(ascending=False)\n",
    "high_corr_df"
   ]
  },
  {
   "cell_type": "code",
   "execution_count": null,
   "id": "6a0108ef-2816-44ff-a19f-463139f6dd29",
   "metadata": {},
   "outputs": [],
   "source": [
    "potential_features = high_corr_df.index.tolist()\n",
    "potential_features.remove(target_impute_column)\n",
    "print(potential_features)"
   ]
  },
  {
   "cell_type": "code",
   "execution_count": null,
   "id": "2a7c09c3-9c16-479f-802b-83c65b76bc45",
   "metadata": {},
   "outputs": [],
   "source": [
    "potential_features_null_count = df.loc[:, potential_features].isnull().sum()\n",
    "potential_features = potential_features_null_count[potential_features_null_count == 0].index.tolist()\n",
    "if len(potential_features) > 10:\n",
    "    potential_features = potential_features[:10]\n",
    "potential_features"
   ]
  },
  {
   "cell_type": "code",
   "execution_count": null,
   "id": "d9725cd2-d009-48ab-a71a-46aec3d13cb9",
   "metadata": {},
   "outputs": [],
   "source": [
    "if len(potential_features) > 0:\n",
    "    temp = df.loc[df[target_impute_column].isnull(), potential_features + [target_impute_column]]\n",
    "    print(f\"{len(potential_features)} potential feature(s), showing the target column against the first feature\")\n",
    "    sns.scatterplot(data=df, \n",
    "                    x=potential_features[0], \n",
    "                    y=target_impute_column)\n",
    "    plt.show()\n",
    "else:\n",
    "    temp = df.loc[df[target_impute_column].isnull(), [\"customer_ID\", \"row_number\", target_impute_column]]\n",
    "    print(\"No potential features, proceed with mean imputation\")\n",
    "    df.loc[df[target_impute_column].isnull(), target_impute_column] = df[target_impute_column].mean()\n",
    "    print(f\"Imputed {len(temp.index)} rows of data\")"
   ]
  },
  {
   "cell_type": "code",
   "execution_count": null,
   "id": "be532225-7179-4315-9d39-1a2e466145e1",
   "metadata": {},
   "outputs": [],
   "source": [
    "# df[target_impute_column].plot.box()"
   ]
  },
  {
   "cell_type": "code",
   "execution_count": null,
   "id": "2c252222-ce61-4076-87ec-fcbd329e134d",
   "metadata": {},
   "outputs": [],
   "source": [
    "from sklearn.neighbors import KNeighborsRegressor"
   ]
  },
  {
   "cell_type": "code",
   "execution_count": null,
   "id": "00e5a272-d9b5-49c0-a701-d4bb6ff8402d",
   "metadata": {},
   "outputs": [],
   "source": [
    "all_data = df.loc[:, [\"customer_ID\"] + potential_features + [target_impute_column]]"
   ]
  },
  {
   "cell_type": "code",
   "execution_count": null,
   "id": "19c3e109-9339-448f-aa58-79ac9c00cfee",
   "metadata": {},
   "outputs": [],
   "source": [
    "train_val = all_data.loc[~all_data[target_impute_column].isnull()]\n",
    "test = all_data.loc[all_data[target_impute_column].isnull()]"
   ]
  },
  {
   "cell_type": "code",
   "execution_count": null,
   "id": "d8793bb6-e80f-4133-8ec4-3df868257dfb",
   "metadata": {},
   "outputs": [],
   "source": [
    "train, val = train_test_split(train_val, test_size=0.2, random_state=1)"
   ]
  },
  {
   "cell_type": "code",
   "execution_count": null,
   "id": "b1d73125-93b0-43e2-b4aa-268592cc4446",
   "metadata": {},
   "outputs": [],
   "source": [
    "test"
   ]
  },
  {
   "cell_type": "code",
   "execution_count": null,
   "id": "87d97121-8863-49cd-b515-5da6b9766a43",
   "metadata": {},
   "outputs": [],
   "source": [
    "train.shape, val.shape, test.shape"
   ]
  },
  {
   "cell_type": "code",
   "execution_count": null,
   "id": "21c70ffd-ad4e-4381-bbb0-2d9525834030",
   "metadata": {},
   "outputs": [],
   "source": [
    "X_train = train.loc[:, potential_features]\n",
    "X_val = val.loc[:, potential_features]\n",
    "X_test = test.loc[:, potential_features]\n",
    "y_train = train[target_impute_column]\n",
    "y_val = val[target_impute_column]\n",
    "y_test = test[target_impute_column]"
   ]
  },
  {
   "cell_type": "code",
   "execution_count": null,
   "id": "a8703c52-175b-4c93-8c25-c64ec010148f",
   "metadata": {},
   "outputs": [],
   "source": [
    "%%time\n",
    "min_mse = np.inf\n",
    "for k in [3, 5, 9, 13]:\n",
    "    knn_model = KNeighborsRegressor(n_neighbors=5).fit(X_train, y_train)\n",
    "    y_val_pred = knn_model.predict(X_val)\n",
    "    mse = mean_squared_error(y_val, y_val_pred)\n",
    "    if mse < min_mse:\n",
    "        min_mse = mse\n",
    "        best_knn_model = knn_model\n",
    "        print(f\"K: {k}, Validation MSE: {min_mse:.6f}\")"
   ]
  },
  {
   "cell_type": "code",
   "execution_count": null,
   "id": "e0dc73c1-e9e3-4c02-803d-1175befa750c",
   "metadata": {},
   "outputs": [],
   "source": [
    "y_test"
   ]
  },
  {
   "cell_type": "code",
   "execution_count": null,
   "id": "3cadb294-da3a-4bdc-b253-2986552d8476",
   "metadata": {},
   "outputs": [],
   "source": [
    "df.loc[y_test.index, target_impute_column] = knn_model.predict(X_test)"
   ]
  },
  {
   "cell_type": "code",
   "execution_count": null,
   "id": "5b6df07a-d601-4cee-a342-8953ce0f3f4f",
   "metadata": {},
   "outputs": [],
   "source": [
    "df.loc[y_test.index, target_impute_column]"
   ]
  }
 ],
 "metadata": {
  "kernelspec": {
   "display_name": "play",
   "language": "python",
   "name": "play"
  },
  "language_info": {
   "codemirror_mode": {
    "name": "ipython",
    "version": 3
   },
   "file_extension": ".py",
   "mimetype": "text/x-python",
   "name": "python",
   "nbconvert_exporter": "python",
   "pygments_lexer": "ipython3",
   "version": "3.10.0"
  }
 },
 "nbformat": 4,
 "nbformat_minor": 5
}
