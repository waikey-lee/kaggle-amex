{
 "cells": [
  {
   "cell_type": "code",
   "execution_count": 1,
   "id": "5dd2ca34-3410-4078-aa48-7adbba211ed5",
   "metadata": {},
   "outputs": [],
   "source": [
    "import gc\n",
    "import joblib\n",
    "import json\n",
    "import matplotlib.pyplot as plt\n",
    "import pandas as pd\n",
    "import numpy as np\n",
    "import os\n",
    "import sys\n",
    "sys.path.append(\"../\")\n",
    "import time\n",
    "import warnings\n",
    "warnings.simplefilter(\"ignore\")\n",
    "from lightgbm import LGBMClassifier\n",
    "from sklearn.model_selection import train_test_split, RandomizedSearchCV, StratifiedKFold\n",
    "from sklearn.metrics import roc_auc_score, fbeta_score, make_scorer\n",
    "from tqdm import tqdm"
   ]
  },
  {
   "cell_type": "code",
   "execution_count": 2,
   "id": "88e773c8-793b-4771-85d2-80ad4e905510",
   "metadata": {},
   "outputs": [],
   "source": [
    "from utils.common import (\n",
    "    sigmoid, \n",
    "    pad_column_name\n",
    ")\n",
    "from utils.eval_helpers import (\n",
    "    plot_roc_curves, plot_feature_importance, \n",
    "    amex_metric, get_final_metric_df, amex_metric_np, lgb_amex_metric,\n",
    "    LGBM\n",
    ")\n",
    "from utils.eda_helpers import (\n",
    "    plot_missing_proportion_barchart, \n",
    "    get_cols, plot_heatmap\n",
    ")\n",
    "from utils.extraction_helpers import read_file\n",
    "from utils.feature_group import (\n",
    "    CATEGORY_COLUMNS, CONTINUOUS_COLUMNS, NON_FEATURE_COLUMNS,\n",
    "    MEAN_FEATURES, MIN_FEATURES, MAX_FEATURES, LAST_FEATURES, FIRST_FEATURES,\n",
    "    RANGE_FEATURES, VELOCITY_FEATURES, SPEED_FEATURES\n",
    ")"
   ]
  },
  {
   "cell_type": "code",
   "execution_count": 3,
   "id": "6bf6f906-580f-4385-a9ab-954f842340d1",
   "metadata": {
    "tags": []
   },
   "outputs": [],
   "source": [
    "RAW_DATA_PATH = \"../raw_data\"\n",
    "PROCESSED_DATA_PATH = \"../processed_data\"\n",
    "SUBMISSION_DATA_PATH = \"../submissions\"\n",
    "EVALUATION_DATA_PATH = \"../evaluation_data\"\n",
    "MODELS_PATH = \"../models\"\n",
    "EXP_PATH = \"../experiments\""
   ]
  },
  {
   "cell_type": "code",
   "execution_count": 4,
   "id": "351dac4d-08e8-4948-af77-d77f3a465ead",
   "metadata": {},
   "outputs": [],
   "source": [
    "RAW_TRAIN_PARQUET_PATH = os.path.join(RAW_DATA_PATH, \"train_parquet\")\n",
    "RAW_TRAIN_PICKLE_PATH = os.path.join(RAW_DATA_PATH, \"train_pickle\")\n",
    "RAW_TEST_PARQUET_PATH = os.path.join(RAW_DATA_PATH, \"test_parquet\")\n",
    "RAW_TEST_PICKLE_PATH = os.path.join(RAW_DATA_PATH, \"test_pickle\")"
   ]
  },
  {
   "cell_type": "code",
   "execution_count": 5,
   "id": "e4698b61-dcd2-43c3-b5e3-cd5a350b5e4a",
   "metadata": {},
   "outputs": [],
   "source": [
    "%load_ext autoreload\n",
    "%autoreload"
   ]
  },
  {
   "cell_type": "markdown",
   "id": "884ad3df-d4d2-4c01-9066-8f6e70514295",
   "metadata": {},
   "source": [
    "### Read Model"
   ]
  },
  {
   "cell_type": "code",
   "execution_count": 6,
   "id": "d84426cd-3b64-42d2-a004-68fd861a86de",
   "metadata": {},
   "outputs": [
    {
     "name": "stdout",
     "output_type": "stream",
     "text": [
      "CPU times: user 540 ms, sys: 262 ms, total: 802 ms\n",
      "Wall time: 150 ms\n"
     ]
    }
   ],
   "source": [
    "%%time\n",
    "lgbm_gbdt = LGBM(\n",
    "    exp_full_path=\"../experiments/lgbm_gbdt_clean_agg_exp\"\n",
    ")\n",
    "gbdt_master_feature_set = lgbm_gbdt.master_feature_set"
   ]
  },
  {
   "cell_type": "code",
   "execution_count": 7,
   "id": "4021006c-6879-4991-9a0c-5056ca5f70a8",
   "metadata": {},
   "outputs": [
    {
     "name": "stdout",
     "output_type": "stream",
     "text": [
      "CPU times: user 463 ms, sys: 236 ms, total: 698 ms\n",
      "Wall time: 124 ms\n"
     ]
    }
   ],
   "source": [
    "%%time\n",
    "lgbm_gbdt2 = LGBM(\n",
    "    exp_full_path=\"../experiments/lgbm_gbdt_clean_agg_exp2\"\n",
    ")\n",
    "gbdt_master_feature_set2 = lgbm_gbdt2.master_feature_set"
   ]
  },
  {
   "cell_type": "code",
   "execution_count": 9,
   "id": "3857460a-12ba-4115-92fe-18ef90554c84",
   "metadata": {},
   "outputs": [
    {
     "data": {
      "text/plain": [
       "{'objective': 'binary',\n",
       " 'metrics': 'custom',\n",
       " 'first_metric_only': True,\n",
       " 'boost_from_average': False,\n",
       " 'verbosity': -1,\n",
       " 'boosting_type': 'gbdt',\n",
       " 'random_state': 1,\n",
       " 'learning_rate': 0.025,\n",
       " 'max_bins': 127,\n",
       " 'subsample_freq': 2,\n",
       " 'min_child_samples': 1500,\n",
       " 'reg_alpha': 0.018996440189105575,\n",
       " 'reg_lambda': 10.31222813561573,\n",
       " 'colsample_bytree': 0.22939880490169093,\n",
       " 'subsample': 0.6894693507497545,\n",
       " 'scale_pos_weight': 1.8248241334399973,\n",
       " 'num_leaves': 99,\n",
       " 'num_iterations': 1500,\n",
       " 'early_stopping_round': 200,\n",
       " 'categorical_column': [60, 64, 66, 69, 123, 127, 178, 182, 236, 240]}"
      ]
     },
     "execution_count": 9,
     "metadata": {},
     "output_type": "execute_result"
    }
   ],
   "source": [
    "lgbm_gbdt2.models[0].params"
   ]
  },
  {
   "cell_type": "code",
   "execution_count": 28,
   "id": "4ef97d3c-77aa-4131-b90f-c3288a039a0e",
   "metadata": {},
   "outputs": [],
   "source": [
    "fi = lgbm_gbdt.feature_imp_summary\n",
    "fi2 = lgbm_gbdt2.feature_imp_summary"
   ]
  },
  {
   "cell_type": "code",
   "execution_count": 25,
   "id": "44d1b9a7-7dc5-48a1-8ef1-00520024340a",
   "metadata": {},
   "outputs": [
    {
     "data": {
      "text/html": [
       "<div>\n",
       "<style scoped>\n",
       "    .dataframe tbody tr th:only-of-type {\n",
       "        vertical-align: middle;\n",
       "    }\n",
       "\n",
       "    .dataframe tbody tr th {\n",
       "        vertical-align: top;\n",
       "    }\n",
       "\n",
       "    .dataframe thead th {\n",
       "        text-align: right;\n",
       "    }\n",
       "</style>\n",
       "<table border=\"1\" class=\"dataframe\">\n",
       "  <thead>\n",
       "    <tr style=\"text-align: right;\">\n",
       "      <th>agg_type</th>\n",
       "      <th>base_feature</th>\n",
       "      <th>last</th>\n",
       "      <th>second_last</th>\n",
       "      <th>third_last</th>\n",
       "    </tr>\n",
       "  </thead>\n",
       "  <tbody>\n",
       "    <tr>\n",
       "      <th>137</th>\n",
       "      <td>S_27</td>\n",
       "      <td>38.4</td>\n",
       "      <td>35.8</td>\n",
       "      <td>55.6</td>\n",
       "    </tr>\n",
       "  </tbody>\n",
       "</table>\n",
       "</div>"
      ],
      "text/plain": [
       "agg_type base_feature  last  second_last  third_last\n",
       "137              S_27  38.4         35.8        55.6"
      ]
     },
     "execution_count": 25,
     "metadata": {},
     "output_type": "execute_result"
    }
   ],
   "source": [
    "fi.loc[(fi[\"last\"] - fi[\"third_last\"]) < -15, [\"base_feature\", \"last\", \"second_last\", \"third_last\"]]"
   ]
  },
  {
   "cell_type": "code",
   "execution_count": 37,
   "id": "36b5d8ed-bcdd-4016-9433-cc675c6a7bb0",
   "metadata": {},
   "outputs": [
    {
     "data": {
      "text/html": [
       "<div>\n",
       "<style scoped>\n",
       "    .dataframe tbody tr th:only-of-type {\n",
       "        vertical-align: middle;\n",
       "    }\n",
       "\n",
       "    .dataframe tbody tr th {\n",
       "        vertical-align: top;\n",
       "    }\n",
       "\n",
       "    .dataframe thead th {\n",
       "        text-align: right;\n",
       "    }\n",
       "</style>\n",
       "<table border=\"1\" class=\"dataframe\">\n",
       "  <thead>\n",
       "    <tr style=\"text-align: right;\">\n",
       "      <th>agg_type</th>\n",
       "      <th>base_feature</th>\n",
       "      <th>last</th>\n",
       "      <th>second_last</th>\n",
       "      <th>third_last</th>\n",
       "      <th>first</th>\n",
       "    </tr>\n",
       "  </thead>\n",
       "  <tbody>\n",
       "    <tr>\n",
       "      <th>25</th>\n",
       "      <td>B_38</td>\n",
       "      <td>68.000000</td>\n",
       "      <td>70.2</td>\n",
       "      <td>61.0</td>\n",
       "      <td>87.600000</td>\n",
       "    </tr>\n",
       "    <tr>\n",
       "      <th>33</th>\n",
       "      <td>D_102</td>\n",
       "      <td>24.500000</td>\n",
       "      <td>27.5</td>\n",
       "      <td>36.4</td>\n",
       "      <td>42.600000</td>\n",
       "    </tr>\n",
       "    <tr>\n",
       "      <th>35</th>\n",
       "      <td>D_105</td>\n",
       "      <td>28.000000</td>\n",
       "      <td>19.5</td>\n",
       "      <td>27.5</td>\n",
       "      <td>46.200000</td>\n",
       "    </tr>\n",
       "    <tr>\n",
       "      <th>41</th>\n",
       "      <td>D_115</td>\n",
       "      <td>38.400000</td>\n",
       "      <td>36.6</td>\n",
       "      <td>33.2</td>\n",
       "      <td>54.200000</td>\n",
       "    </tr>\n",
       "    <tr>\n",
       "      <th>42</th>\n",
       "      <td>D_117</td>\n",
       "      <td>102.800000</td>\n",
       "      <td>101.4</td>\n",
       "      <td>89.8</td>\n",
       "      <td>111.000000</td>\n",
       "    </tr>\n",
       "    <tr>\n",
       "      <th>46</th>\n",
       "      <td>D_121</td>\n",
       "      <td>69.600000</td>\n",
       "      <td>52.0</td>\n",
       "      <td>63.8</td>\n",
       "      <td>96.400000</td>\n",
       "    </tr>\n",
       "    <tr>\n",
       "      <th>49</th>\n",
       "      <td>D_124</td>\n",
       "      <td>33.600000</td>\n",
       "      <td>31.5</td>\n",
       "      <td>27.0</td>\n",
       "      <td>39.600000</td>\n",
       "    </tr>\n",
       "    <tr>\n",
       "      <th>50</th>\n",
       "      <td>D_124a</td>\n",
       "      <td>23.666667</td>\n",
       "      <td>27.0</td>\n",
       "      <td>31.0</td>\n",
       "      <td>47.333333</td>\n",
       "    </tr>\n",
       "    <tr>\n",
       "      <th>66</th>\n",
       "      <td>D_42</td>\n",
       "      <td>41.600000</td>\n",
       "      <td>20.0</td>\n",
       "      <td>9.0</td>\n",
       "      <td>107.800000</td>\n",
       "    </tr>\n",
       "    <tr>\n",
       "      <th>69</th>\n",
       "      <td>D_45</td>\n",
       "      <td>35.000000</td>\n",
       "      <td>33.0</td>\n",
       "      <td>41.8</td>\n",
       "      <td>65.000000</td>\n",
       "    </tr>\n",
       "    <tr>\n",
       "      <th>79</th>\n",
       "      <td>D_55</td>\n",
       "      <td>38.200000</td>\n",
       "      <td>42.4</td>\n",
       "      <td>46.8</td>\n",
       "      <td>62.800000</td>\n",
       "    </tr>\n",
       "    <tr>\n",
       "      <th>85</th>\n",
       "      <td>D_62</td>\n",
       "      <td>48.400000</td>\n",
       "      <td>46.2</td>\n",
       "      <td>50.2</td>\n",
       "      <td>61.600000</td>\n",
       "    </tr>\n",
       "    <tr>\n",
       "      <th>91</th>\n",
       "      <td>D_70</td>\n",
       "      <td>10.000000</td>\n",
       "      <td>10.0</td>\n",
       "      <td>NaN</td>\n",
       "      <td>16.500000</td>\n",
       "    </tr>\n",
       "    <tr>\n",
       "      <th>94</th>\n",
       "      <td>D_74</td>\n",
       "      <td>12.500000</td>\n",
       "      <td>9.5</td>\n",
       "      <td>11.0</td>\n",
       "      <td>18.500000</td>\n",
       "    </tr>\n",
       "    <tr>\n",
       "      <th>108</th>\n",
       "      <td>P_3a</td>\n",
       "      <td>72.200000</td>\n",
       "      <td>60.0</td>\n",
       "      <td>79.2</td>\n",
       "      <td>86.800000</td>\n",
       "    </tr>\n",
       "    <tr>\n",
       "      <th>132</th>\n",
       "      <td>S_16</td>\n",
       "      <td>2.000000</td>\n",
       "      <td>2.0</td>\n",
       "      <td>4.0</td>\n",
       "      <td>9.000000</td>\n",
       "    </tr>\n",
       "  </tbody>\n",
       "</table>\n",
       "</div>"
      ],
      "text/plain": [
       "agg_type base_feature        last  second_last  third_last       first\n",
       "25               B_38   68.000000         70.2        61.0   87.600000\n",
       "33              D_102   24.500000         27.5        36.4   42.600000\n",
       "35              D_105   28.000000         19.5        27.5   46.200000\n",
       "41              D_115   38.400000         36.6        33.2   54.200000\n",
       "42              D_117  102.800000        101.4        89.8  111.000000\n",
       "46              D_121   69.600000         52.0        63.8   96.400000\n",
       "49              D_124   33.600000         31.5        27.0   39.600000\n",
       "50             D_124a   23.666667         27.0        31.0   47.333333\n",
       "66               D_42   41.600000         20.0         9.0  107.800000\n",
       "69               D_45   35.000000         33.0        41.8   65.000000\n",
       "79               D_55   38.200000         42.4        46.8   62.800000\n",
       "85               D_62   48.400000         46.2        50.2   61.600000\n",
       "91               D_70   10.000000         10.0         NaN   16.500000\n",
       "94               D_74   12.500000          9.5        11.0   18.500000\n",
       "108              P_3a   72.200000         60.0        79.2   86.800000\n",
       "132              S_16    2.000000          2.0         4.0    9.000000"
      ]
     },
     "execution_count": 37,
     "metadata": {},
     "output_type": "execute_result"
    }
   ],
   "source": [
    "fi2.loc[(fi2[\"last\"] - fi2[\"first\"]) < -5, [\"base_feature\", \"last\", \"second_last\", \"third_last\", \"first\"]]"
   ]
  },
  {
   "cell_type": "code",
   "execution_count": 15,
   "id": "35fc4304-b6ed-473d-97d8-e2dd9238ee65",
   "metadata": {},
   "outputs": [
    {
     "data": {
      "image/png": "[encoded data removed]",
      "text/plain": [
       "<Figure size 1368x1224 with 2 Axes>"
      ]
     },
     "metadata": {
      "needs_background": "light"
     },
     "output_type": "display_data"
    }
   ],
   "source": [
    "plot_heatmap(fi.corr(), annot=True, figsize=(19, 17), fmt=\".2f\")"
   ]
  },
  {
   "cell_type": "code",
   "execution_count": 12,
   "id": "eaf0fe83-5f90-4b08-975a-ac0f33124154",
   "metadata": {},
   "outputs": [],
   "source": [
    "# %%time\n",
    "# lgbm_gbdt_shuffled = LGBM(\n",
    "#     exp_full_path=\"../experiments/lgbm_gbdt_shuffled_exp\"\n",
    "# )\n",
    "# gbdt_shuffled_master_feature_set = lgbm_gbdt_shuffled.master_feature_set"
   ]
  },
  {
   "cell_type": "code",
   "execution_count": 13,
   "id": "3765b491-8efc-4389-8601-e869ecd1f221",
   "metadata": {},
   "outputs": [],
   "source": [
    "# master_feature_set = sorted(gbdt_master_feature_set.union(\n",
    "#     gbdt_shuffled_master_feature_set\n",
    "# ))\n",
    "# len(set(master_feature_set))"
   ]
  },
  {
   "cell_type": "markdown",
   "id": "6cb11f3c-186f-417d-b08c-d1ae4c0549a3",
   "metadata": {},
   "source": [
    "### Read Train Data (Error Analysis)"
   ]
  },
  {
   "cell_type": "code",
   "execution_count": 10,
   "id": "cb4cf998-4f0a-4c69-a3ab-363d3f0b733b",
   "metadata": {
    "tags": []
   },
   "outputs": [
    {
     "name": "stdout",
     "output_type": "stream",
     "text": [
      "Shape of data: (458913, 2)\n"
     ]
    }
   ],
   "source": [
    "labels = read_file(f\"{RAW_DATA_PATH}/train_labels.csv\")"
   ]
  },
  {
   "cell_type": "code",
   "execution_count": 11,
   "id": "cff5c5b6-33a9-4e82-ae49-bc9a365fb6a0",
   "metadata": {},
   "outputs": [],
   "source": [
    "target = labels[\"target\"]"
   ]
  },
  {
   "cell_type": "code",
   "execution_count": 25,
   "id": "04743b6d-36fb-4a33-bc4a-14156a47039e",
   "metadata": {},
   "outputs": [
    {
     "name": "stdout",
     "output_type": "stream",
     "text": [
      "Shape of data: (5531451, 193)\n",
      "CPU times: user 1.69 s, sys: 2.22 s, total: 3.91 s\n",
      "Wall time: 5.46 s\n"
     ]
    }
   ],
   "source": [
    "%%time\n",
    "raw_train = read_file(f\"{RAW_TRAIN_PICKLE_PATH}/raw_train_data.pkl\")"
   ]
  },
  {
   "cell_type": "code",
   "execution_count": 26,
   "id": "c1c2fa94-e105-4851-9481-d045937aea3a",
   "metadata": {},
   "outputs": [
    {
     "name": "stdout",
     "output_type": "stream",
     "text": [
      "Shape of data: (458913, 4334)\n",
      "CPU times: user 3.29 s, sys: 9.37 s, total: 12.7 s\n",
      "Wall time: 17.6 s\n"
     ]
    }
   ],
   "source": [
    "%%time\n",
    "train_agg = read_file(f\"{PROCESSED_DATA_PATH}/train_agg_complete2.pkl\")"
   ]
  },
  {
   "cell_type": "code",
   "execution_count": 27,
   "id": "112ddfab-a6d6-4832-bfb2-c6f0521b1d55",
   "metadata": {},
   "outputs": [
    {
     "name": "stdout",
     "output_type": "stream",
     "text": [
      "CPU times: user 1.3 s, sys: 8.21 s, total: 9.51 s\n",
      "Wall time: 15.6 s\n"
     ]
    }
   ],
   "source": [
    "%%time\n",
    "train_agg = train_agg.loc[:, list(gbdt_master_feature_set)]"
   ]
  },
  {
   "cell_type": "code",
   "execution_count": 28,
   "id": "3ad331ec-f834-4c99-8400-bdec005a83ce",
   "metadata": {},
   "outputs": [
    {
     "name": "stdout",
     "output_type": "stream",
     "text": [
      "CPU times: user 2min 37s, sys: 19.7 s, total: 2min 57s\n",
      "Wall time: 47.6 s\n"
     ]
    }
   ],
   "source": [
    "%%time\n",
    "train_agg = lgbm_gbdt.inference_fold(train_agg, target)"
   ]
  },
  {
   "cell_type": "code",
   "execution_count": 29,
   "id": "1bf89f25-fe86-4c7a-838a-6559c5248228",
   "metadata": {},
   "outputs": [
    {
     "data": {
      "text/html": [
       "<div>\n",
       "<style scoped>\n",
       "    .dataframe tbody tr th:only-of-type {\n",
       "        vertical-align: middle;\n",
       "    }\n",
       "\n",
       "    .dataframe tbody tr th {\n",
       "        vertical-align: top;\n",
       "    }\n",
       "\n",
       "    .dataframe thead th {\n",
       "        text-align: right;\n",
       "    }\n",
       "</style>\n",
       "<table border=\"1\" class=\"dataframe\">\n",
       "  <thead>\n",
       "    <tr style=\"text-align: right;\">\n",
       "      <th></th>\n",
       "      <th>D_52_avg</th>\n",
       "      <th>R_21_last_minus_avg</th>\n",
       "      <th>D_54_velocity</th>\n",
       "      <th>D_43_previous_sprint</th>\n",
       "      <th>D_45_ma3_r1</th>\n",
       "      <th>R_12_max</th>\n",
       "      <th>D_83_last</th>\n",
       "      <th>D_39_ma3_r4</th>\n",
       "      <th>R_6_general_trend</th>\n",
       "      <th>B_27_general_trend</th>\n",
       "      <th>...</th>\n",
       "      <th>D_75_avg</th>\n",
       "      <th>D_144_ma3_r1_r2</th>\n",
       "      <th>D_133_ma3_r1_r3</th>\n",
       "      <th>B_25_min</th>\n",
       "      <th>D_103_third_last</th>\n",
       "      <th>B_31_ma3_r4</th>\n",
       "      <th>D_45_previous_sprint</th>\n",
       "      <th>R_3_first</th>\n",
       "      <th>D_87_avg</th>\n",
       "      <th>prediction</th>\n",
       "    </tr>\n",
       "  </thead>\n",
       "  <tbody>\n",
       "    <tr>\n",
       "      <th>0</th>\n",
       "      <td>0.204972</td>\n",
       "      <td>0.0</td>\n",
       "      <td>0.0</td>\n",
       "      <td>NaN</td>\n",
       "      <td>0.736762</td>\n",
       "      <td>1.0</td>\n",
       "      <td>0.0</td>\n",
       "      <td>1.000000</td>\n",
       "      <td>-0.008713</td>\n",
       "      <td>0.006823</td>\n",
       "      <td>...</td>\n",
       "      <td>0.461538</td>\n",
       "      <td>0.657470</td>\n",
       "      <td>0.702797</td>\n",
       "      <td>0.000646</td>\n",
       "      <td>1.0</td>\n",
       "      <td>1.0</td>\n",
       "      <td>0.009941</td>\n",
       "      <td>0</td>\n",
       "      <td>NaN</td>\n",
       "      <td>-7.248763</td>\n",
       "    </tr>\n",
       "    <tr>\n",
       "      <th>1</th>\n",
       "      <td>0.158313</td>\n",
       "      <td>0.0</td>\n",
       "      <td>0.0</td>\n",
       "      <td>-0.003197</td>\n",
       "      <td>0.265345</td>\n",
       "      <td>1.0</td>\n",
       "      <td>0.0</td>\n",
       "      <td>10.666667</td>\n",
       "      <td>0.016054</td>\n",
       "      <td>0.001786</td>\n",
       "      <td>...</td>\n",
       "      <td>0.000000</td>\n",
       "      <td>0.884470</td>\n",
       "      <td>1.748812</td>\n",
       "      <td>0.002951</td>\n",
       "      <td>0.0</td>\n",
       "      <td>1.0</td>\n",
       "      <td>-0.002287</td>\n",
       "      <td>0</td>\n",
       "      <td>NaN</td>\n",
       "      <td>-6.892573</td>\n",
       "    </tr>\n",
       "    <tr>\n",
       "      <th>2</th>\n",
       "      <td>0.199863</td>\n",
       "      <td>0.0</td>\n",
       "      <td>0.0</td>\n",
       "      <td>NaN</td>\n",
       "      <td>0.246921</td>\n",
       "      <td>1.0</td>\n",
       "      <td>0.0</td>\n",
       "      <td>0.000000</td>\n",
       "      <td>0.012007</td>\n",
       "      <td>-0.006180</td>\n",
       "      <td>...</td>\n",
       "      <td>0.230769</td>\n",
       "      <td>2.746483</td>\n",
       "      <td>0.946326</td>\n",
       "      <td>0.001164</td>\n",
       "      <td>0.0</td>\n",
       "      <td>1.0</td>\n",
       "      <td>0.001868</td>\n",
       "      <td>0</td>\n",
       "      <td>NaN</td>\n",
       "      <td>-6.831316</td>\n",
       "    </tr>\n",
       "    <tr>\n",
       "      <th>3</th>\n",
       "      <td>0.199698</td>\n",
       "      <td>0.0</td>\n",
       "      <td>0.0</td>\n",
       "      <td>0.001636</td>\n",
       "      <td>0.078275</td>\n",
       "      <td>1.0</td>\n",
       "      <td>0.0</td>\n",
       "      <td>5.333333</td>\n",
       "      <td>0.006641</td>\n",
       "      <td>0.017664</td>\n",
       "      <td>...</td>\n",
       "      <td>0.230769</td>\n",
       "      <td>0.929107</td>\n",
       "      <td>0.682116</td>\n",
       "      <td>0.006479</td>\n",
       "      <td>0.0</td>\n",
       "      <td>1.0</td>\n",
       "      <td>0.000147</td>\n",
       "      <td>0</td>\n",
       "      <td>NaN</td>\n",
       "      <td>-5.152160</td>\n",
       "    </tr>\n",
       "    <tr>\n",
       "      <th>4</th>\n",
       "      <td>0.233470</td>\n",
       "      <td>0.0</td>\n",
       "      <td>0.0</td>\n",
       "      <td>-0.006678</td>\n",
       "      <td>0.068835</td>\n",
       "      <td>1.0</td>\n",
       "      <td>0.0</td>\n",
       "      <td>0.000000</td>\n",
       "      <td>0.006119</td>\n",
       "      <td>0.002160</td>\n",
       "      <td>...</td>\n",
       "      <td>1.846154</td>\n",
       "      <td>1.020872</td>\n",
       "      <td>1.307668</td>\n",
       "      <td>0.002141</td>\n",
       "      <td>1.0</td>\n",
       "      <td>1.0</td>\n",
       "      <td>0.006563</td>\n",
       "      <td>1</td>\n",
       "      <td>NaN</td>\n",
       "      <td>-5.520156</td>\n",
       "    </tr>\n",
       "  </tbody>\n",
       "</table>\n",
       "<p>5 rows × 3859 columns</p>\n",
       "</div>"
      ],
      "text/plain": [
       "   D_52_avg  R_21_last_minus_avg  D_54_velocity  D_43_previous_sprint  \\\n",
       "0  0.204972                  0.0            0.0                   NaN   \n",
       "1  0.158313                  0.0            0.0             -0.003197   \n",
       "2  0.199863                  0.0            0.0                   NaN   \n",
       "3  0.199698                  0.0            0.0              0.001636   \n",
       "4  0.233470                  0.0            0.0             -0.006678   \n",
       "\n",
       "   D_45_ma3_r1  R_12_max  D_83_last  D_39_ma3_r4  R_6_general_trend  \\\n",
       "0     0.736762       1.0        0.0     1.000000          -0.008713   \n",
       "1     0.265345       1.0        0.0    10.666667           0.016054   \n",
       "2     0.246921       1.0        0.0     0.000000           0.012007   \n",
       "3     0.078275       1.0        0.0     5.333333           0.006641   \n",
       "4     0.068835       1.0        0.0     0.000000           0.006119   \n",
       "\n",
       "   B_27_general_trend  ...  D_75_avg  D_144_ma3_r1_r2  D_133_ma3_r1_r3  \\\n",
       "0            0.006823  ...  0.461538         0.657470         0.702797   \n",
       "1            0.001786  ...  0.000000         0.884470         1.748812   \n",
       "2           -0.006180  ...  0.230769         2.746483         0.946326   \n",
       "3            0.017664  ...  0.230769         0.929107         0.682116   \n",
       "4            0.002160  ...  1.846154         1.020872         1.307668   \n",
       "\n",
       "   B_25_min  D_103_third_last  B_31_ma3_r4  D_45_previous_sprint  R_3_first  \\\n",
       "0  0.000646               1.0          1.0              0.009941          0   \n",
       "1  0.002951               0.0          1.0             -0.002287          0   \n",
       "2  0.001164               0.0          1.0              0.001868          0   \n",
       "3  0.006479               0.0          1.0              0.000147          0   \n",
       "4  0.002141               1.0          1.0              0.006563          1   \n",
       "\n",
       "   D_87_avg  prediction  \n",
       "0       NaN   -7.248763  \n",
       "1       NaN   -6.892573  \n",
       "2       NaN   -6.831316  \n",
       "3       NaN   -5.152160  \n",
       "4       NaN   -5.520156  \n",
       "\n",
       "[5 rows x 3859 columns]"
      ]
     },
     "execution_count": 29,
     "metadata": {},
     "output_type": "execute_result"
    }
   ],
   "source": [
    "train_agg.head()"
   ]
  },
  {
   "cell_type": "code",
   "execution_count": 30,
   "id": "41cf581a-9ee0-4947-8b04-a6db5a6a1050",
   "metadata": {},
   "outputs": [
    {
     "name": "stdout",
     "output_type": "stream",
     "text": [
      "CPU times: user 2.96 s, sys: 11.6 s, total: 14.6 s\n",
      "Wall time: 43 s\n"
     ]
    }
   ],
   "source": [
    "%%time\n",
    "eval_df = get_final_metric_df(train_agg.iloc[:, :-1], target, train_agg[\"prediction\"])"
   ]
  },
  {
   "cell_type": "code",
   "execution_count": 31,
   "id": "ac162a57-091c-4f94-beeb-81be5e7f3efc",
   "metadata": {},
   "outputs": [
    {
     "data": {
      "text/plain": [
       "0.665078937624129"
      ]
     },
     "execution_count": 31,
     "metadata": {},
     "output_type": "execute_result"
    }
   ],
   "source": [
    "eval_df.loc[eval_df[\"is_cutoff\"] == 1, \"target\"].sum() / eval_df[\"target\"].sum()"
   ]
  },
  {
   "cell_type": "code",
   "execution_count": 32,
   "id": "93e0a2c2-1dae-4ea1-81b5-c6887ad5b835",
   "metadata": {},
   "outputs": [
    {
     "name": "stdout",
     "output_type": "stream",
     "text": [
      "CPU times: user 921 ms, sys: 6.52 s, total: 7.44 s\n",
      "Wall time: 12.7 s\n"
     ]
    }
   ],
   "source": [
    "%%time\n",
    "false_negative_indices = eval_df.loc[(eval_df[\"target\"] == 1) & (eval_df[\"is_cutoff\"] == 0)].index.tolist()\n",
    "false_positive_indices = eval_df.loc[(eval_df[\"target\"] == 0) & (eval_df[\"is_cutoff\"] == 1)].index.tolist()"
   ]
  },
  {
   "cell_type": "code",
   "execution_count": 33,
   "id": "b6882d4d-c4d2-4cdf-b25b-d56fe5d80f7b",
   "metadata": {},
   "outputs": [
    {
     "data": {
      "text/plain": [
       "(39798, 9889)"
      ]
     },
     "execution_count": 33,
     "metadata": {},
     "output_type": "execute_result"
    }
   ],
   "source": [
    "len(false_negative_indices), len(false_positive_indices)"
   ]
  },
  {
   "cell_type": "code",
   "execution_count": 34,
   "id": "bd948d88-e683-4f33-8e8f-d6724f1c7a42",
   "metadata": {},
   "outputs": [],
   "source": [
    "wrong_indices = eval_df.loc[false_negative_indices + false_positive_indices, :].index.tolist()"
   ]
  },
  {
   "cell_type": "code",
   "execution_count": 35,
   "id": "04980f59-07c8-4448-b259-47e15adc7a3e",
   "metadata": {},
   "outputs": [
    {
     "data": {
      "text/plain": [
       "49687"
      ]
     },
     "execution_count": 35,
     "metadata": {},
     "output_type": "execute_result"
    }
   ],
   "source": [
    "len(wrong_indices)"
   ]
  },
  {
   "cell_type": "code",
   "execution_count": 36,
   "id": "0e249418-a204-4e3a-a37d-59075d9b7eee",
   "metadata": {},
   "outputs": [],
   "source": [
    "%%time\n",
    "summary_count_df = raw_train.groupby(\"customer_ID\").count()\n",
    "summary_count_df = summary_count_df.reset_index()"
   ]
  },
  {
   "cell_type": "code",
   "execution_count": 40,
   "id": "96df1751-514b-4dbe-bed2-ea0fe3313ba4",
   "metadata": {},
   "outputs": [
    {
     "name": "stderr",
     "output_type": "stream",
     "text": [
      "100%|███████████████████████████████████████████████████████████████████████████████████████████████████████████████████████████████████| 189/189 [00:09<00:00, 19.11it/s]\n"
     ]
    }
   ],
   "source": [
    "for col in tqdm(summary_count_df.columns[4:]):\n",
    "    summary_count_df[col] = 1 - (summary_count_df[col] / summary_count_df[\"row_number\"])"
   ]
  },
  {
   "cell_type": "code",
   "execution_count": 41,
   "id": "cfc7a4c5-a8c1-44d3-842a-17b58a0f8d84",
   "metadata": {},
   "outputs": [],
   "source": [
    "wrong_pred_missing_count_df = summary_count_df.loc[wrong_indices]\n",
    "wrong_pred_missing_count_df = wrong_pred_missing_count_df.sort_index()\n",
    "correct_pred_missing_count_df = summary_count_df.loc[~summary_count_df.index.isin(wrong_indices)]"
   ]
  },
  {
   "cell_type": "code",
   "execution_count": 42,
   "id": "a20d23bf-7d02-4114-8e0a-9c4a16beff7a",
   "metadata": {},
   "outputs": [],
   "source": [
    "correct_mean_df = correct_pred_missing_count_df.iloc[:, 3:].mean()"
   ]
  },
  {
   "cell_type": "code",
   "execution_count": 46,
   "id": "a20697c9-26cd-40c3-843a-823b3809de0c",
   "metadata": {},
   "outputs": [],
   "source": [
    "wrong_mean_df = wrong_pred_missing_count_df.iloc[:, 3:].mean()"
   ]
  },
  {
   "cell_type": "code",
   "execution_count": 67,
   "id": "af620303-8616-49a5-9a2c-94e7341bb4c4",
   "metadata": {},
   "outputs": [
    {
     "data": {
      "text/plain": [
       "79"
      ]
     },
     "execution_count": 67,
     "metadata": {},
     "output_type": "execute_result"
    }
   ],
   "source": [
    "((wrong_mean_df / correct_mean_df - 1).sort_values(ascending=False) > 0).sum()"
   ]
  },
  {
   "cell_type": "code",
   "execution_count": 69,
   "id": "94432495-8e30-40c0-83da-477d30785d13",
   "metadata": {},
   "outputs": [
    {
     "data": {
      "text/plain": [
       "42"
      ]
     },
     "execution_count": 69,
     "metadata": {},
     "output_type": "execute_result"
    }
   ],
   "source": [
    "((wrong_mean_df / correct_mean_df - 1).sort_values(ascending=False) < 0).sum()"
   ]
  },
  {
   "cell_type": "code",
   "execution_count": 88,
   "id": "a7d3c320-b61c-4b53-adef-7b3a50e532f0",
   "metadata": {},
   "outputs": [],
   "source": [
    "(wrong_mean_df / (correct_mean_df + wrong_mean_df)).sort_values(ascending=False).to_csv(\n",
    "    f\"{EXP_PATH}/percent_of_missing_from_wrong.csv\"\n",
    ")"
   ]
  },
  {
   "cell_type": "code",
   "execution_count": 64,
   "id": "d8825083-634c-4e9f-8f7a-03b950f92c44",
   "metadata": {},
   "outputs": [
    {
     "data": {
      "text/plain": [
       "(0.11441915635970326, 0.05736670876813808)"
      ]
     },
     "execution_count": 64,
     "metadata": {},
     "output_type": "execute_result"
    }
   ],
   "source": [
    "wrong_mean_df[\"D_124\"], correct_mean_df[\"D_124\"]"
   ]
  },
  {
   "cell_type": "code",
   "execution_count": 62,
   "id": "590a4b2e-c0fa-46cd-8e6f-aa0478eb77c8",
   "metadata": {},
   "outputs": [
    {
     "data": {
      "text/plain": [
       "0.0"
      ]
     },
     "execution_count": 62,
     "metadata": {},
     "output_type": "execute_result"
    }
   ],
   "source": []
  },
  {
   "cell_type": "code",
   "execution_count": null,
   "id": "ba210779-d7ed-4b42-8fee-2be1d50122a2",
   "metadata": {},
   "outputs": [],
   "source": [
    "train_, test_ = train_test_split(score_df, test_size=0.2, random_state=1020)"
   ]
  },
  {
   "cell_type": "code",
   "execution_count": null,
   "id": "f8502131-edf9-4217-98d6-375f93124cde",
   "metadata": {},
   "outputs": [],
   "source": [
    "from sklearn.linear_model import LogisticRegression"
   ]
  },
  {
   "cell_type": "code",
   "execution_count": null,
   "id": "c83417ee-1f2f-4af8-ba25-2759d309a43c",
   "metadata": {},
   "outputs": [],
   "source": [
    "logreg = LogisticRegression()\n",
    "logreg.fit(train_.drop(columns=\"target\"), train_[\"target\"])"
   ]
  },
  {
   "cell_type": "code",
   "execution_count": null,
   "id": "9ba6175f-1b0d-48e8-8644-3d2272788e15",
   "metadata": {},
   "outputs": [],
   "source": [
    "y_pred = logreg.predict_proba(test_.drop(columns=\"target\"))[:, 1]"
   ]
  },
  {
   "cell_type": "code",
   "execution_count": null,
   "id": "1a7fcfaf-c7c6-4fe4-8941-f4cc2f3f4c22",
   "metadata": {},
   "outputs": [],
   "source": [
    "y_true = test_[\"target\"].values"
   ]
  },
  {
   "cell_type": "code",
   "execution_count": null,
   "id": "3a89791c-102c-4e57-b984-1c02fb0e914d",
   "metadata": {},
   "outputs": [],
   "source": [
    "amex_metric(y_true, y_pred)"
   ]
  },
  {
   "cell_type": "code",
   "execution_count": null,
   "id": "82db531f-122f-48b3-a520-8bf38996edc7",
   "metadata": {},
   "outputs": [],
   "source": [
    "# del train_agg"
   ]
  },
  {
   "cell_type": "code",
   "execution_count": null,
   "id": "3e0a8c6e-4245-4038-b542-c4ecaddf2e32",
   "metadata": {},
   "outputs": [],
   "source": [
    "# lgbm_gbdt.run_validation_check(data=train_agg, labels=labels[\"target\"].values)"
   ]
  },
  {
   "cell_type": "code",
   "execution_count": null,
   "id": "e42ac55c-4718-46e7-82d0-58aeee605f6f",
   "metadata": {},
   "outputs": [],
   "source": [
    "lgbm_gbdt.val_metrics"
   ]
  },
  {
   "cell_type": "code",
   "execution_count": null,
   "id": "573631d5-6b54-457e-a3b6-9f2a8bc5d515",
   "metadata": {},
   "outputs": [],
   "source": [
    "# train_agg = lgbm_dart.run_validation_check(data=train_agg)"
   ]
  },
  {
   "cell_type": "code",
   "execution_count": null,
   "id": "a407f9b3-c3de-489c-badc-42bcc05cfe01",
   "metadata": {},
   "outputs": [],
   "source": [
    "# lgbm_dart.val_metrics"
   ]
  },
  {
   "cell_type": "markdown",
   "id": "375beb09-ce5b-40d8-b9d7-f8ecca4ccdeb",
   "metadata": {},
   "source": [
    "### Error Analysis"
   ]
  },
  {
   "cell_type": "code",
   "execution_count": null,
   "id": "57e3d22c-7e3e-495e-a7d8-bc3f8f974b66",
   "metadata": {},
   "outputs": [],
   "source": [
    "train_agg.loc[train_agg[\"target\"] == 0, \"prediction\"].describe()"
   ]
  },
  {
   "cell_type": "code",
   "execution_count": null,
   "id": "515b0fa0-4d57-458e-b579-77df433a01e0",
   "metadata": {},
   "outputs": [],
   "source": [
    "train_agg.loc[train_agg[\"target\"] == 1, \"prediction\"].describe()"
   ]
  },
  {
   "cell_type": "markdown",
   "id": "f12433fb-74c9-43da-8a25-d569e1956e1d",
   "metadata": {},
   "source": [
    "### High Pred Score Analysis"
   ]
  },
  {
   "cell_type": "code",
   "execution_count": null,
   "id": "4f017c4d-2723-4b28-bbd2-2a0c79375819",
   "metadata": {},
   "outputs": [],
   "source": [
    "success_pos_df = train_agg.loc[\n",
    "    (train_agg[\"target\"] == 1) & (train_agg[\"is_cutoff\"] == 1)\n",
    "]"
   ]
  },
  {
   "cell_type": "code",
   "execution_count": null,
   "id": "3c0ccce5-f819-4108-90a4-c0d6faccf96c",
   "metadata": {},
   "outputs": [],
   "source": [
    "fail_neg_df = train_agg.loc[\n",
    "    (train_agg[\"target\"] == 0) & (train_agg[\"is_cutoff\"] == 1)\n",
    "]"
   ]
  },
  {
   "cell_type": "markdown",
   "id": "35c961bc-00e4-432d-af6b-400943ed89e6",
   "metadata": {},
   "source": [
    "### Low Pred Score Analysis"
   ]
  },
  {
   "cell_type": "code",
   "execution_count": null,
   "id": "14a7d161-2a42-489e-bca0-bf47bc2e9b99",
   "metadata": {},
   "outputs": [],
   "source": [
    "success_neg_df = train_agg.loc[\n",
    "    (train_agg[\"target\"] == 0) & (train_agg[\"is_cutoff\"] == 0)\n",
    "]"
   ]
  },
  {
   "cell_type": "code",
   "execution_count": null,
   "id": "ecaf67ba-a2b1-442f-aafa-1ba8014daa7b",
   "metadata": {},
   "outputs": [],
   "source": [
    "fail_pos_df = train_agg.loc[\n",
    "    (train_agg[\"target\"] == 1) & (train_agg[\"is_cutoff\"] == 0)\n",
    "]"
   ]
  },
  {
   "cell_type": "code",
   "execution_count": null,
   "id": "4208979a-72cb-4dbb-b4fd-0b796c0fdcb6",
   "metadata": {},
   "outputs": [],
   "source": [
    "success_neg_df[\"num_statements\"].describe()"
   ]
  },
  {
   "cell_type": "code",
   "execution_count": null,
   "id": "270c13a4-76c2-444f-a3e4-9ccc9b3bfd60",
   "metadata": {},
   "outputs": [],
   "source": [
    "fail_pos_df[\"num_statements\"].describe()"
   ]
  },
  {
   "cell_type": "code",
   "execution_count": null,
   "id": "81410f6e-bbd9-4dd9-8458-de28f1b74fa6",
   "metadata": {},
   "outputs": [],
   "source": [
    "base_feature = \"P_2\""
   ]
  },
  {
   "cell_type": "code",
   "execution_count": null,
   "id": "949185e4-f859-49a4-a910-dcc5dff7096b",
   "metadata": {},
   "outputs": [],
   "source": [
    "# for col in get_cols(success_neg_df, base_feature):\n",
    "#     my_dict = {\n",
    "#         'True Negative': success_neg_df[col].dropna().values, \n",
    "#         'False Negative': fail_pos_df[col].dropna().values,\n",
    "#         'True Positive': success_pos_df[col].dropna().values, \n",
    "#     }\n",
    "#     fig, ax = plt.subplots(figsize=(15, 12))\n",
    "#     ax.boxplot(my_dict.values())\n",
    "#     ax.set_xticklabels(my_dict.keys())\n",
    "#     plt.title(f\"{col}\")\n",
    "#     plt.show()"
   ]
  },
  {
   "cell_type": "code",
   "execution_count": null,
   "id": "6c2db617-d9f8-40fb-b31b-bd76f6b5ccc8",
   "metadata": {},
   "outputs": [],
   "source": [
    "# success_pos_df.to_pickle(f\"{EXP_PATH}/lgbm_gbdt_exp3/success_positive.pkl\")\n",
    "# fail_pos_df.to_pickle(f\"{EXP_PATH}/lgbm_gbdt_exp3/failed_positive.pkl\")\n",
    "# success_neg_df.to_pickle(f\"{EXP_PATH}/lgbm_gbdt_exp3/success_negative.pkl\")\n",
    "# fail_neg_df.to_pickle(f\"{EXP_PATH}/lgbm_gbdt_exp3/failed_negative.pkl\")"
   ]
  },
  {
   "cell_type": "markdown",
   "id": "3e1f7535-873d-4ceb-87c4-04027c4caca2",
   "metadata": {},
   "source": [
    "### Read Test Data"
   ]
  },
  {
   "cell_type": "code",
   "execution_count": null,
   "id": "5d55a4e7-09ee-4621-a904-19e16b3d0aff",
   "metadata": {},
   "outputs": [],
   "source": [
    "%%time\n",
    "if 'train_agg' in locals():\n",
    "    del train_agg\n",
    "# test_agg = read_file(f\"{PROCESSED_DATA_PATH}/test_agg_complete2.pkl\")\n",
    "test_agg = read_file(f\"{PROCESSED_DATA_PATH}/test_agg.pkl\")\n",
    "gc.collect()"
   ]
  },
  {
   "cell_type": "code",
   "execution_count": 55,
   "id": "0bd8a49a-8118-4588-b37d-81d4db0d6094",
   "metadata": {},
   "outputs": [
    {
     "name": "stdout",
     "output_type": "stream",
     "text": [
      "CPU times: user 2.18 s, sys: 16.5 s, total: 18.7 s\n",
      "Wall time: 43.7 s\n"
     ]
    },
    {
     "data": {
      "text/plain": [
       "(924621, 2429)"
      ]
     },
     "execution_count": 55,
     "metadata": {},
     "output_type": "execute_result"
    }
   ],
   "source": [
    "%%time\n",
    "test_agg = test_agg.loc[:, list(gbdt_master_feature_set)]\n",
    "test_agg.shape"
   ]
  },
  {
   "cell_type": "code",
   "execution_count": 56,
   "id": "7d9f929e-8efc-43d1-8c6e-6fbf0c1d70cf",
   "metadata": {},
   "outputs": [],
   "source": [
    "# lgbm_gbdt.feature_imp_df.iloc[30:60]"
   ]
  },
  {
   "cell_type": "code",
   "execution_count": 57,
   "id": "b49f3015-7c60-496e-9efa-10b2c2151ae6",
   "metadata": {},
   "outputs": [
    {
     "name": "stdout",
     "output_type": "stream",
     "text": [
      "Model 1\n"
     ]
    },
    {
     "name": "stderr",
     "output_type": "stream",
     "text": [
      "100%|███████████████████████████████████████████████████████████████████████████████████████████████████████████████████████████████████| 185/185 [00:56<00:00,  3.27it/s]\n"
     ]
    },
    {
     "name": "stdout",
     "output_type": "stream",
     "text": [
      "Model 2\n"
     ]
    },
    {
     "name": "stderr",
     "output_type": "stream",
     "text": [
      "100%|███████████████████████████████████████████████████████████████████████████████████████████████████████████████████████████████████| 185/185 [00:43<00:00,  4.27it/s]\n"
     ]
    },
    {
     "name": "stdout",
     "output_type": "stream",
     "text": [
      "Model 3\n"
     ]
    },
    {
     "name": "stderr",
     "output_type": "stream",
     "text": [
      "100%|███████████████████████████████████████████████████████████████████████████████████████████████████████████████████████████████████| 185/185 [00:43<00:00,  4.21it/s]\n"
     ]
    },
    {
     "name": "stdout",
     "output_type": "stream",
     "text": [
      "Model 4\n"
     ]
    },
    {
     "name": "stderr",
     "output_type": "stream",
     "text": [
      "100%|███████████████████████████████████████████████████████████████████████████████████████████████████████████████████████████████████| 185/185 [00:43<00:00,  4.29it/s]\n"
     ]
    },
    {
     "name": "stdout",
     "output_type": "stream",
     "text": [
      "Model 5\n"
     ]
    },
    {
     "name": "stderr",
     "output_type": "stream",
     "text": [
      "100%|███████████████████████████████████████████████████████████████████████████████████████████████████████████████████████████████████| 185/185 [00:42<00:00,  4.35it/s]"
     ]
    },
    {
     "name": "stdout",
     "output_type": "stream",
     "text": [
      "CPU times: user 24min 25s, sys: 2min 54s, total: 27min 20s\n",
      "Wall time: 3min 49s\n"
     ]
    },
    {
     "name": "stderr",
     "output_type": "stream",
     "text": [
      "\n"
     ]
    }
   ],
   "source": [
    "%%time\n",
    "scores_list = []\n",
    "batch_size = 5000\n",
    "for j, model in enumerate(lgbm_gbdt.models.values()):\n",
    "    score_list = []\n",
    "    print(f\"Model {j + 1}\")\n",
    "    for i in tqdm(range(int(test_agg.shape[0] / batch_size) + 1)):\n",
    "        score_list.append(model.predict(\n",
    "            test_agg.loc[int(i*batch_size): int((i+1)*batch_size) - 1, model.feature_name()], \n",
    "            raw_score=True\n",
    "        ))\n",
    "    scores_list.append(np.concatenate(score_list))"
   ]
  },
  {
   "cell_type": "code",
   "execution_count": null,
   "id": "e9f37b4e-bc50-4c2f-9b79-247c74d0b7ae",
   "metadata": {},
   "outputs": [],
   "source": [
    "with open(f\"{lgbm_gbdt.path}/best_scores.json\", \"r+\") as outfile:\n",
    "    best_scores_json = json.load(outfile)\n",
    "np.mean(list(best_scores_json[\"validation\"].values()))"
   ]
  },
  {
   "cell_type": "code",
   "execution_count": 21,
   "id": "7bbac3a5-c79c-49c8-a316-9a85c9d24328",
   "metadata": {},
   "outputs": [],
   "source": [
    "# from sklearn.preprocessing import MinMaxScaler\n",
    "\n",
    "# score_df = pd.DataFrame(np.array(scores_list).T, columns=range(1, 6))\n",
    "# minmax_scaler = MinMaxScaler()\n",
    "# score_df = pd.DataFrame(minmax_scaler.fit_transform(score_df), columns=range(1, 6))\n",
    "# score_df.describe()\n",
    "# test_agg[\"prediction\"] = np.mean(score_df, axis=1) "
   ]
  },
  {
   "cell_type": "code",
   "execution_count": 46,
   "id": "0361d49e-d9c4-4f00-86cf-319037f5f25d",
   "metadata": {},
   "outputs": [],
   "source": [
    "test_agg[\"prediction\"] = np.mean(scores_list, axis=0)"
   ]
  },
  {
   "cell_type": "code",
   "execution_count": 47,
   "id": "6ff2e7de-4007-4b0d-9c04-e96d7120de95",
   "metadata": {},
   "outputs": [],
   "source": [
    "# test_score_df.applymap(sigmoid).mean(axis=1).values # "
   ]
  },
  {
   "cell_type": "code",
   "execution_count": 59,
   "id": "6f73bfa7-ddf0-4efa-a03f-8388a5d060a4",
   "metadata": {},
   "outputs": [],
   "source": [
    "test_score_df = pd.DataFrame(np.array(scores_list).T, columns=[f\"score{i}\" for i in range(1, 6)])"
   ]
  },
  {
   "cell_type": "code",
   "execution_count": 60,
   "id": "209c18d5-5f88-442f-b05a-00c398c9b0ae",
   "metadata": {},
   "outputs": [],
   "source": [
    "submission = pd.read_csv(f\"{SUBMISSION_DATA_PATH}/submission25_0.799.csv\")\n",
    "# submission[\"prediction\"] = test_agg[\"prediction\"].values\n",
    "submission[\"prediction\"] = test_score_df.applymap(sigmoid).mean(axis=1)\n",
    "submission.to_csv(f\"{SUBMISSION_DATA_PATH}/submission6_0.797055_sigmoid_avg.csv\", index=False)"
   ]
  },
  {
   "cell_type": "code",
   "execution_count": null,
   "id": "8513437b-d048-4a91-be9f-149b0211dc23",
   "metadata": {},
   "outputs": [],
   "source": [
    "# test_agg = lgbm_dart.get_test_prediction(test_agg)"
   ]
  },
  {
   "cell_type": "code",
   "execution_count": null,
   "id": "a8e7c4fa-0623-4f96-aaa1-833846c625d1",
   "metadata": {},
   "outputs": [],
   "source": [
    "# submission[\"prediction\"].apply(sigmoid)"
   ]
  },
  {
   "cell_type": "code",
   "execution_count": null,
   "id": "8431195e-d3b2-439f-8d00-53bd8076a448",
   "metadata": {},
   "outputs": [],
   "source": [
    "test_score_df"
   ]
  },
  {
   "cell_type": "markdown",
   "id": "018d9b8a-ae17-48ed-82d6-6db752063d20",
   "metadata": {},
   "source": [
    "#### Take the average of all CV models' predictions"
   ]
  },
  {
   "cell_type": "code",
   "execution_count": null,
   "id": "24c1ff3b-6ec1-49c5-9f96-a069367459b3",
   "metadata": {},
   "outputs": [],
   "source": [
    "# np.mean(scores_list, axis=0)"
   ]
  },
  {
   "cell_type": "code",
   "execution_count": null,
   "id": "fede6664-146a-4483-bad1-10736bb33216",
   "metadata": {},
   "outputs": [],
   "source": [
    "test_agg[\"prediction\"] = np.mean(scores_list, axis=0)"
   ]
  },
  {
   "cell_type": "code",
   "execution_count": null,
   "id": "c062c199-e89d-4470-98db-68f1962c4951",
   "metadata": {},
   "outputs": [],
   "source": [
    "def get_metric_columns(df):\n",
    "    df = df.sort_values(by=\"prediction\", ascending=False)\n",
    "    df['weight'] = df['target'].apply(lambda x: 20 if x==0 else 1)\n",
    "    four_pct_cutoff = int(0.04 * df['weight'].sum())\n",
    "    df['weight_cumsum'] = df['weight'].cumsum()\n",
    "    df[\"is_cutoff\"] = 0\n",
    "    df.loc[df['weight_cumsum'] <= four_pct_cutoff, \"is_cutoff\"] = 1\n",
    "    df = df.reset_index()\n",
    "    \n",
    "    df['random'] = (df['weight'] / df['weight'].sum()).cumsum()\n",
    "    total_pos = (df['target'] * df['weight']).sum()\n",
    "    df['cum_pos_found'] = (df['target'] * df['weight']).cumsum()\n",
    "    df['lorentz'] = df['cum_pos_found'] / total_pos\n",
    "    df['gini'] = (df['lorentz'] - df['random']) * df['weight']\n",
    "    return df"
   ]
  },
  {
   "cell_type": "code",
   "execution_count": null,
   "id": "b119f044-4296-491b-a149-9fe24570ef06",
   "metadata": {},
   "outputs": [],
   "source": [
    "test_agg[\"prediction\"].describe()"
   ]
  },
  {
   "cell_type": "code",
   "execution_count": null,
   "id": "3946469f-3885-4c24-9bca-aa43423bb02c",
   "metadata": {},
   "outputs": [],
   "source": [
    "del scores_list"
   ]
  },
  {
   "cell_type": "code",
   "execution_count": null,
   "id": "fff552d1-a74f-40c1-ba17-2cbc222f1816",
   "metadata": {},
   "outputs": [],
   "source": [
    "test_agg.loc[(test_agg[\"P_2_last\"] < 0.4) & (test_agg[\"prediction\"] < 0), \"prediction\"] += 4"
   ]
  },
  {
   "cell_type": "markdown",
   "id": "b0fa6134-a8ca-4c6e-833f-7698f1e5e6e6",
   "metadata": {},
   "source": [
    "#### Take a look on CV score"
   ]
  },
  {
   "cell_type": "code",
   "execution_count": null,
   "id": "2165113a-0476-407a-81a5-58ddae06b3ef",
   "metadata": {},
   "outputs": [],
   "source": [
    "with open(f\"{EXP_FULL_PATH}/best_scores.json\", \"r+\") as outfile:\n",
    "    best_scores = json.load(outfile)\n",
    "np.mean(list(best_scores[\"validation\"].values()))"
   ]
  },
  {
   "cell_type": "markdown",
   "id": "dc950968-ecbd-4377-a3f7-357fd969da24",
   "metadata": {},
   "source": [
    "### Manual Adjustment"
   ]
  },
  {
   "cell_type": "code",
   "execution_count": null,
   "id": "b9499da2-208e-4144-b1f6-5e67587ec7ce",
   "metadata": {},
   "outputs": [],
   "source": [
    "test_agg[\"P_2_last\"].describe()"
   ]
  },
  {
   "cell_type": "markdown",
   "id": "3350d3b4-bc32-43f6-b9be-d3003633913d",
   "metadata": {},
   "source": [
    "#### Prepare the submission csv, then export out new submission file"
   ]
  },
  {
   "cell_type": "code",
   "execution_count": null,
   "id": "6e87ff55-8489-4d9a-82c2-af0aecea37f7",
   "metadata": {},
   "outputs": [],
   "source": [
    "submission = pd.read_csv(f\"{SUBMISSION_DATA_PATH}/submission25_0.799.csv\")\n",
    "submission[\"prediction\"] = test_agg[\"prediction\"].values\n",
    "submission.to_csv(f\"{SUBMISSION_DATA_PATH}/submission__.csv\", index=False)"
   ]
  },
  {
   "cell_type": "code",
   "execution_count": null,
   "id": "9bef3018-5d59-4f59-b7b7-782dbf513d94",
   "metadata": {},
   "outputs": [],
   "source": []
  },
  {
   "cell_type": "markdown",
   "id": "eb989e3c-ce64-4b9c-9c41-6d83c2db9bea",
   "metadata": {},
   "source": [
    "### Analyze Feature Importance"
   ]
  },
  {
   "cell_type": "markdown",
   "id": "5336febc-9630-42cd-be3f-1222b3b88fb0",
   "metadata": {},
   "source": [
    "#### Read old feature importance summary df"
   ]
  },
  {
   "cell_type": "code",
   "execution_count": null,
   "id": "5a909b10-be65-43f3-8e05-410b72fb965e",
   "metadata": {},
   "outputs": [],
   "source": [
    "old_feature_imp_df = pd.read_csv(f\"{EXP_FULL_PATH}/feature_imp_summary.csv\")"
   ]
  },
  {
   "cell_type": "markdown",
   "id": "d7a55e15-f79b-4994-96bd-47dff1b7162e",
   "metadata": {},
   "source": [
    "#### Construct new feature importance summary df"
   ]
  },
  {
   "cell_type": "code",
   "execution_count": null,
   "id": "7431b46b-ceec-4625-a07a-5eb81eede1c4",
   "metadata": {},
   "outputs": [],
   "source": [
    "feature_imp_df.loc[feature_imp_df[\"agg_type\"] == \"\"]"
   ]
  },
  {
   "cell_type": "code",
   "execution_count": null,
   "id": "4a563068-a5cd-404e-b71d-e4ad2b1871d7",
   "metadata": {},
   "outputs": [],
   "source": [
    "corr_df = pd.read_csv(f\"{PROCESSED_DATA_PATH}/raw_column_correlation/train_corr_df.csv\")\n",
    "base_features = corr_df.columns.tolist()"
   ]
  },
  {
   "cell_type": "code",
   "execution_count": null,
   "id": "e4f8e786-a2b5-4a8d-a986-1c63d7352de0",
   "metadata": {},
   "outputs": [],
   "source": [
    "old_feature_imp_df"
   ]
  },
  {
   "cell_type": "code",
   "execution_count": null,
   "id": "6a0dbfef-4adb-4df2-a4a4-e7affcb36e9f",
   "metadata": {},
   "outputs": [],
   "source": [
    "new_feature_imp_df.to_csv(f\"{PROCESSED_DATA_PATH}/feature_imp_summary.csv\", index=False)"
   ]
  },
  {
   "cell_type": "code",
   "execution_count": null,
   "id": "a2745301-14b7-45bf-9a56-ea0dbee01664",
   "metadata": {},
   "outputs": [],
   "source": [
    "# validation_indices = joblib.load(f'{EXP_FULL_PATH}/5_fold_val_indices.pkl')"
   ]
  },
  {
   "cell_type": "markdown",
   "id": "bf6ab93b-25ab-4c55-9242-dfc178b13e5d",
   "metadata": {},
   "source": [
    "## Feature Importance"
   ]
  },
  {
   "cell_type": "code",
   "execution_count": null,
   "id": "1a355a05-5cd8-4ff8-9b50-939cb57a547a",
   "metadata": {},
   "outputs": [],
   "source": [
    "# fi_master = read_file(f\"{EXP_PATH}/feature_imp_general_summary.csv\")"
   ]
  },
  {
   "cell_type": "code",
   "execution_count": 8,
   "id": "3637f66d-9813-40ec-a34f-1e40cc94e230",
   "metadata": {},
   "outputs": [],
   "source": [
    "fi_gbdt = lgbm_gbdt2.feature_imp_summary"
   ]
  },
  {
   "cell_type": "code",
   "execution_count": 12,
   "id": "5a9ed41d-29fd-4049-8a31-a0ef5e80eb57",
   "metadata": {},
   "outputs": [],
   "source": [
    "# fi_gbdt.to_csv(f\"{EXP_PATH}/feature_imp_summary5.csv\", index=False)"
   ]
  },
  {
   "cell_type": "code",
   "execution_count": null,
   "id": "3c3a3276-4621-4bd6-b86f-495b1bf28052",
   "metadata": {},
   "outputs": [],
   "source": [
    "fi_dart = lgbm_dart.feature_imp_df"
   ]
  },
  {
   "cell_type": "code",
   "execution_count": 8,
   "id": "3c97da81-968b-4ccd-b8d4-02ebbf17cdf7",
   "metadata": {},
   "outputs": [],
   "source": [
    "lgbm_gbdt.feature_imp_summary.to_csv(f\"{EXP_PATH}/feature_imp_summary3.csv\", index=False)"
   ]
  },
  {
   "cell_type": "code",
   "execution_count": null,
   "id": "705069ea-f55c-474a-aa79-3707bdc30de1",
   "metadata": {},
   "outputs": [],
   "source": [
    "lgbm_gbdt_shuffled.feature_imp_df.groupby(\"agg_type\")[\"average_importance\"].sum().sort_values().iloc[-30:]"
   ]
  },
  {
   "cell_type": "code",
   "execution_count": null,
   "id": "5e268f6c-69cc-4bae-a9d7-701cb2db756b",
   "metadata": {},
   "outputs": [],
   "source": [
    "set(fi_gbdt[\"base_feature\"]) - set(fi_dart[\"base_feature\"])"
   ]
  },
  {
   "cell_type": "code",
   "execution_count": null,
   "id": "36bc8ec2-1491-4239-b57c-94bdba16233a",
   "metadata": {},
   "outputs": [],
   "source": [
    "set(fi_dart[\"base_feature\"]) - set(fi_gbdt[\"base_feature\"])"
   ]
  },
  {
   "cell_type": "code",
   "execution_count": null,
   "id": "08c19ab3-7fbb-494b-87ca-319d37208518",
   "metadata": {},
   "outputs": [],
   "source": [
    "# lgbm_dart.feature_imp_df"
   ]
  },
  {
   "cell_type": "code",
   "execution_count": null,
   "id": "e5189e1d-b8a9-4d0f-b11c-b3a97b71be99",
   "metadata": {},
   "outputs": [],
   "source": [
    "imp_df = lgbm_gbdt.feature_imp_df.copy()\n",
    "imp_summary = lgbm_gbdt.feature_imp_summary.copy()"
   ]
  },
  {
   "cell_type": "code",
   "execution_count": null,
   "id": "d7844160-b8e6-434f-bf10-259b9a1053c3",
   "metadata": {},
   "outputs": [],
   "source": [
    "half_max_imp_df = imp_df.loc[imp_df[\"average_importance\"] > 0.5*imp_df[\"average_importance\"].max()]"
   ]
  },
  {
   "cell_type": "code",
   "execution_count": null,
   "id": "8c698841-e5c0-494f-8d74-128afb3a5611",
   "metadata": {},
   "outputs": [],
   "source": [
    "top_base_features = imp_summary.loc[imp_summary[\"base_feature\"].isin(half_max_imp_df[\"base_feature\"].tolist())]"
   ]
  },
  {
   "cell_type": "code",
   "execution_count": null,
   "id": "1f61589d-b14a-40a2-b5c2-65a5be5bfa85",
   "metadata": {},
   "outputs": [],
   "source": [
    "plot_heatmap(top_base_features.set_index(\"base_feature\"), annot=True, figsize=(18, 18), fmt=\".1f\")"
   ]
  },
  {
   "cell_type": "code",
   "execution_count": null,
   "id": "3a40baa3-76dc-4844-baa9-731d34963dc3",
   "metadata": {},
   "outputs": [],
   "source": [
    "lgbm_gbdt.feature_imp_summary.to_csv(f\"{EXP_PATH}/feature_imp_summary3.csv\", index=False)"
   ]
  },
  {
   "cell_type": "code",
   "execution_count": null,
   "id": "74fd9eee-3e8d-46c6-a26e-a84f0f38c795",
   "metadata": {},
   "outputs": [],
   "source": [
    "noob_features_df = feature_imp_df[\"average_importance\"].nsmallest(int(feature_imp_df.shape[0] * 0.04))\n",
    "noob_features = noob_features_df.index.tolist()"
   ]
  },
  {
   "cell_type": "code",
   "execution_count": null,
   "id": "d0882dfb-428c-405d-aca8-c43d1f6e52e1",
   "metadata": {},
   "outputs": [],
   "source": [
    "top_features_df = feature_imp_df[\"average_importance\"].nlargest(int(feature_imp_df.shape[0] * 0.9))\n",
    "top_features = top_features_df.index.tolist()"
   ]
  },
  {
   "cell_type": "code",
   "execution_count": null,
   "id": "1a0530d2-811a-48a0-a799-665f6daa4213",
   "metadata": {},
   "outputs": [],
   "source": [
    "pd.Series([f.split(\"_\")[-1] for f in top_features]).value_counts()"
   ]
  },
  {
   "cell_type": "code",
   "execution_count": null,
   "id": "2632739b-8fe2-411e-9326-6bca48968fa3",
   "metadata": {},
   "outputs": [],
   "source": [
    "pd.Series(top_features, name=\"feature\").to_csv(\"top_features.csv\", index=False)"
   ]
  },
  {
   "cell_type": "code",
   "execution_count": null,
   "id": "602bd897-d694-4954-8095-0d69e5ad0ceb",
   "metadata": {},
   "outputs": [],
   "source": [
    "# used_features = set(feature_imp_df.index.tolist())"
   ]
  },
  {
   "cell_type": "code",
   "execution_count": null,
   "id": "9ebba153-ab68-44ce-b05c-87e6bfd347e5",
   "metadata": {},
   "outputs": [],
   "source": [
    "mean_features = pad_column_name(MEAN_FEATURES, suffix=\"_avg\")\n",
    "min_features = pad_column_name(MIN_FEATURES, suffix=\"_min\")\n",
    "max_features = pad_column_name(MAX_FEATURES, suffix=\"_max\")\n",
    "last_features = pad_column_name(LAST_FEATURES, suffix=\"_last\")\n",
    "first_features = pad_column_name(FIRST_FEATURES, suffix=\"_first\")"
   ]
  },
  {
   "cell_type": "code",
   "execution_count": null,
   "id": "f02e5b90-8f6d-4174-9b06-76b80ddbf1f9",
   "metadata": {},
   "outputs": [],
   "source": [
    "range_features = pad_column_name(RANGE_FEATURES, suffix=\"_range\")\n",
    "velocity_features = pad_column_name(VELOCITY_FEATURES, suffix=\"_velocity\")\n",
    "speed_features = pad_column_name(SPEED_FEATURES, suffix=\"_speed\")"
   ]
  },
  {
   "cell_type": "code",
   "execution_count": null,
   "id": "339897ee-bc82-43c8-aac1-412dd262706b",
   "metadata": {},
   "outputs": [],
   "source": [
    "all_features = (\n",
    "    mean_features + min_features + max_features + last_features + first_features\n",
    "    + range_features + velocity_features + speed_features\n",
    ")"
   ]
  },
  {
   "cell_type": "code",
   "execution_count": null,
   "id": "5a94a8cd-95a3-4c5c-aa89-6dd5b0d78bfa",
   "metadata": {},
   "outputs": [],
   "source": [
    "len(all_features)"
   ]
  },
  {
   "cell_type": "code",
   "execution_count": null,
   "id": "8d7b86a0-f80b-497a-b608-f4aa6ec6fba7",
   "metadata": {},
   "outputs": [],
   "source": [
    "set(top_features) - set(all_features)"
   ]
  },
  {
   "cell_type": "code",
   "execution_count": null,
   "id": "5d8a5d06-7aa5-426e-a055-985e784cda20",
   "metadata": {},
   "outputs": [],
   "source": []
  },
  {
   "cell_type": "code",
   "execution_count": null,
   "id": "94e81baa-08f3-4718-9b0c-852c43d079cd",
   "metadata": {},
   "outputs": [],
   "source": [
    "top_features"
   ]
  },
  {
   "cell_type": "code",
   "execution_count": null,
   "id": "8eda9cc5-cfa8-42f5-96b5-7047ff7ec099",
   "metadata": {},
   "outputs": [],
   "source": [
    "feature_imp_df = feature_imp_df.loc[feature_imp_df[\"average_importance\"] > 0]\n",
    "feature_imp_subset = feature_imp_df.loc[feature_imp_df[\"average_importance\"] > 200].reset_index()"
   ]
  },
  {
   "cell_type": "code",
   "execution_count": null,
   "id": "74dfc558-6548-406e-9d8f-d2637a6ff2ac",
   "metadata": {},
   "outputs": [],
   "source": [
    "# feature_imp_subset.loc[feature_imp_subset[\"feature\"].str.contains(\"last\")].sort_values(\"feature\")"
   ]
  },
  {
   "cell_type": "code",
   "execution_count": null,
   "id": "20e3c612-be92-40d2-aa71-f9d8287b63c7",
   "metadata": {},
   "outputs": [],
   "source": [
    "t = feature_imp_subset.copy()"
   ]
  },
  {
   "cell_type": "code",
   "execution_count": null,
   "id": "f9b944ef-8ae2-4ab6-be98-ab63a7958a5a",
   "metadata": {},
   "outputs": [],
   "source": [
    "t.loc[t[\"feature\"] == \"D_128_first\"]"
   ]
  },
  {
   "cell_type": "code",
   "execution_count": null,
   "id": "814a06c2-d860-4e4b-a16a-7214db73c6ba",
   "metadata": {},
   "outputs": [],
   "source": [
    "# feature_imp_df.index.tolist()"
   ]
  },
  {
   "cell_type": "code",
   "execution_count": null,
   "id": "5c5235a0-ce8b-4749-b271-0b838402e880",
   "metadata": {},
   "outputs": [],
   "source": [
    "feature_list = feature_imp_df.index.tolist()\n",
    "len(feature_list)"
   ]
  },
  {
   "cell_type": "code",
   "execution_count": null,
   "id": "98a4b8da-5ae8-46b5-8a80-72d71e1701bf",
   "metadata": {},
   "outputs": [],
   "source": []
  },
  {
   "cell_type": "code",
   "execution_count": null,
   "id": "159b041e-77e2-4213-b55e-f5769eb12c9d",
   "metadata": {},
   "outputs": [],
   "source": [
    "original_score"
   ]
  },
  {
   "cell_type": "code",
   "execution_count": null,
   "id": "748e0a3f-7b9a-4240-b41b-15815086cea3",
   "metadata": {},
   "outputs": [],
   "source": []
  },
  {
   "cell_type": "code",
   "execution_count": null,
   "id": "7b47ab69-3907-407c-8d28-cbf8b23a6714",
   "metadata": {},
   "outputs": [],
   "source": [
    "simulated_score_list = []\n",
    "for feature in feature_list[::-1]:\n",
    "    temp_train_val = train_val.copy()\n",
    "    temp_train_val[feature] = np.nan\n",
    "    for i, indices in enumerate(validation_indices):\n",
    "        temp_model = models[i]\n",
    "        temp_val = temp_train_val.loc[indices, temp_model.feature_name_]\n",
    "        temp_train_val.loc[indices, \"score\"] = temp_model.predict_proba(temp_val, raw_score=True)\n",
    "    simulated_score = amex_metric(temp_train_val[\"target\"], temp_train_val[\"score\"])\n",
    "    simulated_score_list.append(simulated_score)\n",
    "    if simulated_score >= original_score:\n",
    "        sign = \"+\"\n",
    "    else:\n",
    "        sign = \"\"\n",
    "    if abs(simulated_score - original_score) >= 1e-4:\n",
    "        print(feature, f\" {sign}{(simulated_score - original_score):.4f}\")\n",
    "    print(f\"{feature} done\")\n",
    "    del temp_train_val\n",
    "    gc.collect()"
   ]
  },
  {
   "cell_type": "code",
   "execution_count": null,
   "id": "aca2cb08-51d6-42f3-9ee1-cda1606e83dc",
   "metadata": {},
   "outputs": [],
   "source": [
    "test = read_file(f\"{RAW_TEST_PICKLE_PATH}/test_data.pkl\")"
   ]
  },
  {
   "cell_type": "code",
   "execution_count": null,
   "id": "b2e53cce-feee-41ae-a8d0-1c2007febbab",
   "metadata": {},
   "outputs": [],
   "source": [
    "test.loc[test[\"row_number\"] > 12]"
   ]
  },
  {
   "cell_type": "code",
   "execution_count": null,
   "id": "da150098-cada-48c8-9fc4-ccbfe0857abc",
   "metadata": {},
   "outputs": [],
   "source": [
    "test_agg = process_test_data(test)"
   ]
  },
  {
   "cell_type": "code",
   "execution_count": null,
   "id": "47c7cf21-36b7-4607-a9e9-748bacd23de4",
   "metadata": {},
   "outputs": [],
   "source": [
    "test_agg.head()"
   ]
  },
  {
   "cell_type": "code",
   "execution_count": null,
   "id": "3cbc7df4-5666-4a0c-95ab-18df2ed115e1",
   "metadata": {},
   "outputs": [],
   "source": [
    "del test"
   ]
  },
  {
   "cell_type": "code",
   "execution_count": null,
   "id": "00432188-0a06-4b1d-bd5f-ff5439d3e718",
   "metadata": {},
   "outputs": [],
   "source": [
    "for i, model in enumerate(models.values()):\n",
    "    model_input = test_agg.loc[:, model.feature_name_]\n",
    "    test_agg.loc[:, f\"score{i}\"] = model.predict_proba(model_input, raw_score=True)"
   ]
  },
  {
   "cell_type": "code",
   "execution_count": null,
   "id": "9050bee9-2e18-4a3c-9b01-a8aa722f9b02",
   "metadata": {},
   "outputs": [],
   "source": [
    "test_agg.head()"
   ]
  },
  {
   "cell_type": "code",
   "execution_count": null,
   "id": "43a5797b-2f7a-4107-9dd4-03652f1acf73",
   "metadata": {},
   "outputs": [],
   "source": [
    "new_result_sub = pd.read_csv(f\"{SUBMISSION_DATA_PATH}/submission19_0.796.csv\")"
   ]
  },
  {
   "cell_type": "code",
   "execution_count": null,
   "id": "c098854d-9975-4268-8567-ff70bb2bd8c4",
   "metadata": {},
   "outputs": [],
   "source": [
    "old_result_sub = pd.read_csv(f\"{SUBMISSION_DATA_PATH}/submission17_0.796.csv\")"
   ]
  },
  {
   "cell_type": "code",
   "execution_count": null,
   "id": "475e4b55-622c-443a-a33e-14d7dec65b0f",
   "metadata": {},
   "outputs": [],
   "source": [
    "plt.scatter(old_result_sub[\"prediction\"], new_result_sub[\"prediction\"])"
   ]
  },
  {
   "cell_type": "code",
   "execution_count": null,
   "id": "b46d0936-652c-4150-9ad0-f6bbf08a1351",
   "metadata": {},
   "outputs": [],
   "source": [
    "np.corrcoef(old_result_sub[\"prediction\"], new_result_sub[\"prediction\"])"
   ]
  },
  {
   "cell_type": "code",
   "execution_count": null,
   "id": "498e9e72-6ab7-446a-9ba3-c5db7af4712a",
   "metadata": {},
   "outputs": [],
   "source": [
    "merged_result = new_result_sub.merge(old_result_sub, on=\"customer_ID\", how=\"left\")"
   ]
  },
  {
   "cell_type": "code",
   "execution_count": null,
   "id": "31e459d2-1b83-42df-8e56-85f2d572a9b6",
   "metadata": {},
   "outputs": [],
   "source": [
    "merged_result[\"x_positive\"] = (merged_result[\"prediction_x\"] >= 0)"
   ]
  },
  {
   "cell_type": "code",
   "execution_count": null,
   "id": "1e4e58e3-43f3-4e3f-9071-03f4b97122ec",
   "metadata": {},
   "outputs": [],
   "source": [
    "merged_result[\"y_positive\"] = (merged_result[\"prediction_y\"] >= 0)"
   ]
  },
  {
   "cell_type": "code",
   "execution_count": null,
   "id": "0b34e330-4e6b-4fc7-b318-2289fe0f59f8",
   "metadata": {},
   "outputs": [],
   "source": []
  },
  {
   "cell_type": "code",
   "execution_count": null,
   "id": "c919dcc9-3bb9-488a-92f1-65142b14980d",
   "metadata": {},
   "outputs": [],
   "source": [
    "neg_neg_indices = merged_result.loc[(~merged_result[\"x_positive\"]) & (~merged_result[\"y_positive\"])].index"
   ]
  },
  {
   "cell_type": "code",
   "execution_count": null,
   "id": "5a2c13b5-e2ea-4efd-9878-3e994c0f9f2d",
   "metadata": {},
   "outputs": [],
   "source": [
    "merged_result.loc[neg_neg_indices, \"prediction\"] = merged_result.loc[neg_neg_indices, :].min(axis=1)"
   ]
  },
  {
   "cell_type": "code",
   "execution_count": null,
   "id": "b08bd592-dc45-44c5-b724-20356e5963ab",
   "metadata": {},
   "outputs": [],
   "source": [
    "pos_pos_indices = merged_result.loc[(merged_result[\"x_positive\"]) & (merged_result[\"y_positive\"])].index"
   ]
  },
  {
   "cell_type": "code",
   "execution_count": null,
   "id": "253d0f80-3055-4405-8300-7149d8c47605",
   "metadata": {},
   "outputs": [],
   "source": [
    "merged_result.loc[pos_pos_indices, \"prediction\"] = merged_result.loc[pos_pos_indices, :].max(axis=1)"
   ]
  },
  {
   "cell_type": "code",
   "execution_count": null,
   "id": "f6e96911-4a57-4512-93b5-85435df0e7ab",
   "metadata": {},
   "outputs": [],
   "source": [
    "merged_result[\"prediction\"].isnull().sum()"
   ]
  },
  {
   "cell_type": "code",
   "execution_count": null,
   "id": "4060abeb-c2ea-446f-b51b-67730ac5e3df",
   "metadata": {},
   "outputs": [],
   "source": [
    "merged_result.loc[merged_result[\"prediction\"].isnull(), \"prediction\"] = \\\n",
    "(merged_result.loc[merged_result[\"prediction\"].isnull(), \"prediction_x\"] + \\\n",
    "merged_result.loc[merged_result[\"prediction\"].isnull(), \"prediction_y\"]) / 2"
   ]
  },
  {
   "cell_type": "code",
   "execution_count": null,
   "id": "4369ff32-61cd-4333-a552-cc27a02ca5bf",
   "metadata": {},
   "outputs": [],
   "source": [
    "merged_result = merged_result.drop(columns=[\"prediction_x\", \"prediction_y\", \"x_positive\", \"y_positive\"])"
   ]
  },
  {
   "cell_type": "code",
   "execution_count": null,
   "id": "fac615f3-8ea5-4801-b64a-25040c05d8ef",
   "metadata": {},
   "outputs": [],
   "source": [
    "merged_result.to_csv(f\"{SUBMISSION_DATA_PATH}/submission23.csv\", index=False)"
   ]
  },
  {
   "cell_type": "code",
   "execution_count": null,
   "id": "00da3372-3ddc-4f18-bc12-c9af2fe87fe9",
   "metadata": {},
   "outputs": [],
   "source": []
  },
  {
   "cell_type": "code",
   "execution_count": null,
   "id": "bb5a0052-3017-4a28-b2a3-369a811255df",
   "metadata": {},
   "outputs": [],
   "source": [
    "new_result_sub[\"prediction\"] = np.max([new_result_sub[\"prediction\"].values, old_result_sub[\"prediction\"].values], axis=0)"
   ]
  },
  {
   "cell_type": "code",
   "execution_count": null,
   "id": "bbd2b6f8-52cb-4ac8-b0f1-b51725f6e5ec",
   "metadata": {},
   "outputs": [],
   "source": [
    "new_result_sub[\"prediction\"] += old_result_sub[\"prediction\"]"
   ]
  },
  {
   "cell_type": "code",
   "execution_count": null,
   "id": "54b939aa-6eea-46b4-b5f5-f0cf005a8e01",
   "metadata": {},
   "outputs": [],
   "source": [
    "new_result_sub[\"prediction\"] /= 2"
   ]
  },
  {
   "cell_type": "code",
   "execution_count": null,
   "id": "be0884cb-d299-44f6-97d6-2bd1af32ee4f",
   "metadata": {},
   "outputs": [],
   "source": [
    "new_result_sub.to_csv(f\"{SUBMISSION_DATA_PATH}/submission22.csv\", index=False)"
   ]
  },
  {
   "cell_type": "code",
   "execution_count": null,
   "id": "b4e53b25-dd12-44b0-ada2-af4b9e005cf6",
   "metadata": {},
   "outputs": [],
   "source": [
    "result_sub = test_agg.loc[:, [c for c in test_agg.columns if c.startswith(\"score\")]].mean(axis=1).reset_index()"
   ]
  },
  {
   "cell_type": "code",
   "execution_count": null,
   "id": "cafc84f8-7dfa-4917-86ea-3848cab07849",
   "metadata": {},
   "outputs": [],
   "source": [
    "result_sub.columns = [\"customer_ID\", \"prediction\"]"
   ]
  },
  {
   "cell_type": "code",
   "execution_count": null,
   "id": "d2230bf7-95e6-4c06-add1-6a465a7ab16a",
   "metadata": {},
   "outputs": [],
   "source": [
    "result_sub.to_csv(\"submission20.csv\", index=False)"
   ]
  },
  {
   "cell_type": "code",
   "execution_count": null,
   "id": "9d4433d5-5173-48da-bd65-58a886d0e631",
   "metadata": {},
   "outputs": [],
   "source": [
    "single_record_index = test_agg.loc[test_agg[\"num_records\"] == 1].index.tolist()"
   ]
  },
  {
   "cell_type": "code",
   "execution_count": null,
   "id": "210c491c-e001-44c3-adb3-f203f9bb1fe4",
   "metadata": {},
   "outputs": [],
   "source": [
    "final_df13 = pd.read_csv(f\"{SUBMISSION_DATA_PATH}/submission13_0.796.csv\")\n",
    "final_df13[\"prediction_13\"] = sigmoid(final_df13[\"prediction\"])\n",
    "final_df13 = final_df13.drop(columns=\"prediction\")"
   ]
  },
  {
   "cell_type": "code",
   "execution_count": null,
   "id": "8b6081fe-a2e3-4d68-94d2-452c486fc565",
   "metadata": {},
   "outputs": [],
   "source": [
    "final_df16 = pd.read_csv(f\"{SUBMISSION_DATA_PATH}/submission16_0.782.csv\")\n",
    "final_df16[\"prediction_16\"] = sigmoid(final_df16[\"prediction\"])\n",
    "final_df16 = final_df16.drop(columns=\"prediction\")"
   ]
  },
  {
   "cell_type": "code",
   "execution_count": null,
   "id": "3bcfc991-a1e8-4a5f-b136-5d45a0137ac2",
   "metadata": {},
   "outputs": [],
   "source": [
    "mega_df = final_df13.merge(final_df16, on=\"customer_ID\", how=\"left\")"
   ]
  },
  {
   "cell_type": "code",
   "execution_count": null,
   "id": "5b14c35f-df5b-4ba0-aba2-986ecfe8ed30",
   "metadata": {},
   "outputs": [],
   "source": [
    "mega_df.loc[:, \"prediction\"] = (\n",
    "    mega_df.loc[:, \"prediction_16\"] * 0.1 \\\n",
    "    + mega_df.loc[:, \"prediction_13\"] * 0.9\n",
    ")"
   ]
  },
  {
   "cell_type": "code",
   "execution_count": null,
   "id": "4b3e0943-6ad1-4233-8723-97514f0375f6",
   "metadata": {},
   "outputs": [],
   "source": [
    "mega_df.loc[single_record_index, \"prediction\"] = (\n",
    "    mega_df.loc[single_record_index, \"prediction_16\"] * 0.8 \\\n",
    "    + mega_df.loc[single_record_index, \"prediction_13\"] * 0.2\n",
    ")"
   ]
  },
  {
   "cell_type": "code",
   "execution_count": null,
   "id": "d9788303-5207-490c-8365-97ae5fefc5f9",
   "metadata": {},
   "outputs": [],
   "source": [
    "mega_df = mega_df.drop(columns=[\"prediction_13\", \"prediction_16\"])"
   ]
  },
  {
   "cell_type": "code",
   "execution_count": null,
   "id": "d98d6c65-7208-4d3a-9690-1ab201c68843",
   "metadata": {},
   "outputs": [],
   "source": [
    "mega_df[\"prediction\"] = 0.55 * mega_df[\"prediction_x\"] + 0.45 * mega_df[\"prediction_y\"]\n",
    "mega_df = mega_df.drop(columns=[\"prediction_x\", \"prediction_y\"])"
   ]
  },
  {
   "cell_type": "code",
   "execution_count": null,
   "id": "93046afe-1096-450a-96f0-961064442cf8",
   "metadata": {},
   "outputs": [],
   "source": [
    "mega_df.to_csv(f\"{SUBMISSION_DATA_PATH}/submission18.csv\", index=False)"
   ]
  }
 ],
 "metadata": {
  "kernelspec": {
   "display_name": "amex",
   "language": "python",
   "name": "amex"
  },
  "language_info": {
   "codemirror_mode": {
    "name": "ipython",
    "version": 3
   },
   "file_extension": ".py",
   "mimetype": "text/x-python",
   "name": "python",
   "nbconvert_exporter": "python",
   "pygments_lexer": "ipython3",
   "version": "3.10.0"
  }
 },
 "nbformat": 4,
 "nbformat_minor": 5
}
