{
 "cells": [
  {
   "cell_type": "code",
   "execution_count": 1,
   "id": "5dd2ca34-3410-4078-aa48-7adbba211ed5",
   "metadata": {},
   "outputs": [],
   "source": [
    "import catboost\n",
    "import gc\n",
    "import joblib\n",
    "import json\n",
    "import matplotlib.pyplot as plt\n",
    "import pandas as pd\n",
    "import numpy as np\n",
    "import os\n",
    "import sys\n",
    "sys.path.append(\"../\")\n",
    "import time\n",
    "import warnings\n",
    "warnings.simplefilter(\"ignore\")\n",
    "from lightgbm import LGBMClassifier\n",
    "from sklearn.model_selection import train_test_split, RandomizedSearchCV, StratifiedKFold\n",
    "from sklearn.metrics import roc_auc_score, fbeta_score, make_scorer\n",
    "from tqdm import tqdm"
   ]
  },
  {
   "cell_type": "code",
   "execution_count": 2,
   "id": "88e773c8-793b-4771-85d2-80ad4e905510",
   "metadata": {},
   "outputs": [],
   "source": [
    "from utils.common import (\n",
    "    sigmoid, \n",
    "    pad_column_name\n",
    ")\n",
    "from utils.constants import *\n",
    "from utils.eval_helpers import (\n",
    "    plot_roc_curves, plot_feature_importance, \n",
    "    amex_metric, get_final_metric_df, amex_metric_np, lgb_amex_metric,\n",
    "    TreeExperiment\n",
    ")\n",
    "from utils.eda_helpers import (\n",
    "    plot_missing_proportion_barchart, \n",
    "    get_cols, plot_heatmap, plot_bar,\n",
    ")\n",
    "from utils.extraction_helpers import read_file\n",
    "from utils.feature_group import (\n",
    "    CATEGORY_COLUMNS, CONTINUOUS_COLUMNS, NON_FEATURE_COLUMNS\n",
    ")"
   ]
  },
  {
   "cell_type": "code",
   "execution_count": 3,
   "id": "e4698b61-dcd2-43c3-b5e3-cd5a350b5e4a",
   "metadata": {},
   "outputs": [],
   "source": [
    "%load_ext autoreload\n",
    "%autoreload"
   ]
  },
  {
   "cell_type": "code",
   "execution_count": 4,
   "id": "ad01886f-1792-410c-93cc-86b21d44bc92",
   "metadata": {},
   "outputs": [
    {
     "name": "stdout",
     "output_type": "stream",
     "text": [
      "CPU times: user 309 ms, sys: 33 ms, total: 342 ms\n",
      "Wall time: 390 ms\n"
     ]
    }
   ],
   "source": [
    "%%time\n",
    "labels = pd.read_csv(f\"{RAW_DATA_PATH}/train_labels.csv\")\n",
    "# if \"target\" not in train.columns:\n",
    "#     train = train.merge(labels, on=\"customer_ID\", how=\"left\")"
   ]
  },
  {
   "cell_type": "markdown",
   "id": "884ad3df-d4d2-4c01-9066-8f6e70514295",
   "metadata": {},
   "source": [
    "### Read Model"
   ]
  },
  {
   "cell_type": "code",
   "execution_count": 7,
   "id": "d84426cd-3b64-42d2-a004-68fd861a86de",
   "metadata": {},
   "outputs": [
    {
     "name": "stdout",
     "output_type": "stream",
     "text": [
      "CPU times: user 2.22 s, sys: 579 ms, total: 2.8 s\n",
      "Wall time: 1.41 s\n"
     ]
    }
   ],
   "source": [
    "%%time\n",
    "lgbm_dart = TreeExperiment(\n",
    "    exp_full_path=\"../experiments/19.lgbm_dart_923_stratified\",\n",
    "    seed=923, \n",
    "    model_path=\"models\"\n",
    ")"
   ]
  },
  {
   "cell_type": "code",
   "execution_count": 43,
   "id": "5759268e-aec0-4d02-bc31-4abdd3f54ac2",
   "metadata": {},
   "outputs": [
    {
     "name": "stdout",
     "output_type": "stream",
     "text": [
      "Shape of data: (458913, 4083)\n"
     ]
    }
   ],
   "source": [
    "train_agg = read_file(f\"{PROCESSED_DATA_PATH}/v2/train_agg.pkl\")"
   ]
  },
  {
   "cell_type": "code",
   "execution_count": 42,
   "id": "ad88bad9-b3ee-4b13-b6e8-88a3cbbbf8e0",
   "metadata": {},
   "outputs": [],
   "source": [
    "# %%time\n",
    "# df_dict = {}\n",
    "# for i in tqdm(range(5)):\n",
    "#     df_dict[i] = read_file(f\"{PROCESSED_DATA_PATH}/v10/validation_fold{i}.pkl\")"
   ]
  },
  {
   "cell_type": "code",
   "execution_count": 40,
   "id": "3fa7852a-f6b1-4eb5-9030-a12c6e8bc734",
   "metadata": {},
   "outputs": [],
   "source": [
    "# df_dict[0].loc[:, lgbm_dart.models[0].feature_name()]"
   ]
  },
  {
   "cell_type": "code",
   "execution_count": 44,
   "id": "b750c913-5d24-4b57-894b-214057e5ed97",
   "metadata": {},
   "outputs": [],
   "source": [
    "# %%time\n",
    "# t = lgbm_dart.models[0].predict(, raw_score=True)"
   ]
  },
  {
   "cell_type": "code",
   "execution_count": 19,
   "id": "797789fd-a320-45e4-b306-102973d335c5",
   "metadata": {},
   "outputs": [],
   "source": [
    "temp_df = df_dict[0][[\"customer_ID\", \"target\"]]\n",
    "temp_df[\"prediction\"] = t"
   ]
  },
  {
   "cell_type": "code",
   "execution_count": 22,
   "id": "bb1ffb7e-5ce5-4ef2-999c-e86e681bce6a",
   "metadata": {},
   "outputs": [],
   "source": [
    "master_df = temp_df.copy()"
   ]
  },
  {
   "cell_type": "code",
   "execution_count": 23,
   "id": "ccd73bee-8a75-4522-9187-77b820b00e19",
   "metadata": {},
   "outputs": [
    {
     "name": "stdout",
     "output_type": "stream",
     "text": [
      "(0.799311523198661, 0.9255191466498235, 0.6731038997474984)\n"
     ]
    }
   ],
   "source": [
    "amex_metric(temp_df[\"target\"], t)"
   ]
  },
  {
   "cell_type": "code",
   "execution_count": 24,
   "id": "779c0fd8-3b66-4029-b29c-a6f9b2627541",
   "metadata": {},
   "outputs": [
    {
     "name": "stdout",
     "output_type": "stream",
     "text": [
      "Fold 2\n",
      "(0.7990197209136167, 0.9261512907003281, 0.6718881511269055)\n",
      "Fold 3\n",
      "(0.7959017935440993, 0.9255265834409526, 0.6662770036472458)\n",
      "Fold 4\n",
      "(0.7985285128704216, 0.9251374559489329, 0.6719195697919103)\n",
      "Fold 5\n",
      "(0.7979096681357412, 0.9254429041929225, 0.6703764320785598)\n"
     ]
    }
   ],
   "source": [
    "for i in range(1, 5):\n",
    "    t = lgbm_dart.models[i].predict(df_dict[i].loc[:, lgbm_dart.models[i].feature_name()], raw_score=True)\n",
    "    temp_df = df_dict[i][[\"customer_ID\", \"target\"]].copy()\n",
    "    temp_df[\"prediction\"] = t\n",
    "    print(f\"Fold {i+1}\")\n",
    "    print(amex_metric(temp_df[\"target\"], t))\n",
    "    master_df = pd.concat([master_df, temp_df], ignore_index=True)"
   ]
  },
  {
   "cell_type": "code",
   "execution_count": 29,
   "id": "68afe7a7-2faa-4522-a74a-e1fe404d631d",
   "metadata": {},
   "outputs": [],
   "source": []
  },
  {
   "cell_type": "code",
   "execution_count": 26,
   "id": "0ebc1b45-d6c8-45b0-899d-6cfb69a4e744",
   "metadata": {},
   "outputs": [
    {
     "data": {
      "text/plain": [
       "(0.7979182704093315, 0.9255537336961133, 0.6702828071225497)"
      ]
     },
     "execution_count": 26,
     "metadata": {},
     "output_type": "execute_result"
    }
   ],
   "source": [
    "amex_metric(master_df[\"target\"], master_df[\"prediction\"])"
   ]
  },
  {
   "cell_type": "code",
   "execution_count": null,
   "id": "9eae5d5a-0152-4a70-81fb-eade43a67650",
   "metadata": {},
   "outputs": [],
   "source": [
    "master_df.rename(columns={\"prediction\": \"oof_score\"}).to_csv(f\"{EXP_PATH}/19.lgbm_dart_923_stratified/train_scores_df.csv\", index=False)"
   ]
  },
  {
   "cell_type": "code",
   "execution_count": 39,
   "id": "f759fc9f-388a-49c4-abf2-05972eae48fe",
   "metadata": {},
   "outputs": [
    {
     "data": {
      "text/plain": [
       "(3028, 9)"
      ]
     },
     "execution_count": 39,
     "metadata": {},
     "output_type": "execute_result"
    }
   ],
   "source": [
    "fdf = lgbm_dart.feature_imp_df.reset_index(drop=True)\n",
    "fdf.shape"
   ]
  },
  {
   "cell_type": "code",
   "execution_count": 40,
   "id": "bd5d0e20-5f49-4d8e-94e1-d48f05bbaae9",
   "metadata": {},
   "outputs": [
    {
     "data": {
      "text/plain": [
       "2207"
      ]
     },
     "execution_count": 40,
     "metadata": {},
     "output_type": "execute_result"
    }
   ],
   "source": [
    "feature_list = fdf.loc[fdf[\"average_importance\"] >= 70, \"feature\"].tolist()\n",
    "len(feature_list)"
   ]
  },
  {
   "cell_type": "code",
   "execution_count": 41,
   "id": "286c9a71-7f6f-4007-a72b-30cf882282f7",
   "metadata": {},
   "outputs": [
    {
     "data": {
      "text/plain": [
       "['../evaluation_data/v2_feature_imp.pkl']"
      ]
     },
     "execution_count": 41,
     "metadata": {},
     "output_type": "execute_result"
    }
   ],
   "source": [
    "joblib.dump(feature_list, \"../evaluation_data/v2_feature_imp.pkl\")"
   ]
  },
  {
   "cell_type": "code",
   "execution_count": null,
   "id": "5fee8abc-9e45-4438-a54d-4b82af37de95",
   "metadata": {},
   "outputs": [],
   "source": []
  },
  {
   "cell_type": "code",
   "execution_count": 6,
   "id": "01c595b0-02c9-494f-94a5-793db680be75",
   "metadata": {},
   "outputs": [],
   "source": [
    "# lgbm_dart.models[1].params"
   ]
  },
  {
   "cell_type": "code",
   "execution_count": 7,
   "id": "8141c913-a42f-4af6-8651-49df0df1c1e0",
   "metadata": {},
   "outputs": [],
   "source": [
    "# lgbm_dart.models[0].feature_name()"
   ]
  },
  {
   "cell_type": "code",
   "execution_count": 8,
   "id": "2ca845cb-76b2-4aa3-9703-ef8ea7ec53ce",
   "metadata": {},
   "outputs": [],
   "source": [
    "# result = pd.DataFrame(dict(name=lgbm_dart.models[3].feature_name(),\n",
    "#                            imp=lgbm_dart.models[3].feature_importance()))"
   ]
  },
  {
   "cell_type": "code",
   "execution_count": 9,
   "id": "f5c7fb45-10fd-4ae2-b445-464b51f54dc5",
   "metadata": {},
   "outputs": [],
   "source": [
    "# plot_bar(result.nsmallest(300, \"imp\"), \"name\", num_col=\"imp\", title=None, horizontal=True, decimal=2, figsize=(15, 15))"
   ]
  },
  {
   "cell_type": "code",
   "execution_count": 44,
   "id": "e80b5598-32ea-4eb9-8715-11bfadc43895",
   "metadata": {},
   "outputs": [],
   "source": [
    "# lgbm_dart.feature_imp_summary.to_csv(\"../experiments/12.lgbm_dart_manual_split_42/feature_importance.csv\", index=False)"
   ]
  },
  {
   "cell_type": "markdown",
   "id": "6885b549-35c6-496e-ab5a-e1cb2f25d53c",
   "metadata": {},
   "source": [
    "### Training Inference"
   ]
  },
  {
   "cell_type": "code",
   "execution_count": 71,
   "id": "67953580-11e3-41d6-8a57-68e495c06cb7",
   "metadata": {},
   "outputs": [
    {
     "name": "stdout",
     "output_type": "stream",
     "text": [
      "CPU times: user 5 µs, sys: 2 µs, total: 7 µs\n",
      "Wall time: 13.8 µs\n"
     ]
    }
   ],
   "source": [
    "%%time\n",
    "# train_agg = read_file(f\"{PROCESSED_DATA_PATH}/v2/train_agg.pkl\")\n",
    "# train_agg = read_file(f\"{PROCESSED_DATA_PATH}/v20/train_agg.pkl\")"
   ]
  },
  {
   "cell_type": "code",
   "execution_count": 9,
   "id": "f4913eff-9690-4eb5-ade9-fa54ea97fc60",
   "metadata": {},
   "outputs": [
    {
     "ename": "FileNotFoundError",
     "evalue": "[Errno 2] No such file or directory: '../processed_data/v19/validation_fold0.parquet'",
     "output_type": "error",
     "traceback": [
      "\u001b[0;31m---------------------------------------------------------------------------\u001b[0m",
      "\u001b[0;31mFileNotFoundError\u001b[0m                         Traceback (most recent call last)",
      "Input \u001b[0;32mIn [9]\u001b[0m, in \u001b[0;36m<cell line: 2>\u001b[0;34m()\u001b[0m\n\u001b[1;32m      1\u001b[0m train_agg \u001b[38;5;241m=\u001b[39m pd\u001b[38;5;241m.\u001b[39mDataFrame()\n\u001b[1;32m      2\u001b[0m \u001b[38;5;28;01mfor\u001b[39;00m i \u001b[38;5;129;01min\u001b[39;00m \u001b[38;5;28mrange\u001b[39m(\u001b[38;5;241m5\u001b[39m):\n\u001b[0;32m----> 3\u001b[0m     t \u001b[38;5;241m=\u001b[39m \u001b[43mread_file\u001b[49m\u001b[43m(\u001b[49m\u001b[38;5;124;43mf\u001b[39;49m\u001b[38;5;124;43m\"\u001b[39;49m\u001b[38;5;132;43;01m{\u001b[39;49;00m\u001b[43mPROCESSED_DATA_PATH\u001b[49m\u001b[38;5;132;43;01m}\u001b[39;49;00m\u001b[38;5;124;43m/v19/validation_fold\u001b[39;49m\u001b[38;5;132;43;01m{\u001b[39;49;00m\u001b[43mi\u001b[49m\u001b[38;5;132;43;01m}\u001b[39;49;00m\u001b[38;5;124;43m.parquet\u001b[39;49m\u001b[38;5;124;43m\"\u001b[39;49m\u001b[43m)\u001b[49m\n\u001b[1;32m      4\u001b[0m     train_agg \u001b[38;5;241m=\u001b[39m pd\u001b[38;5;241m.\u001b[39mconcat([train_agg, t], ignore_index\u001b[38;5;241m=\u001b[39m\u001b[38;5;28;01mTrue\u001b[39;00m)\n",
      "File \u001b[0;32m~/KaggleProjects/kaggle-amex/notebooks/../utils/extraction_helpers.py:10\u001b[0m, in \u001b[0;36mread_file\u001b[0;34m(path, usecols, sort, replace_negative_one, replace_negative127)\u001b[0m\n\u001b[1;32m      8\u001b[0m         df \u001b[38;5;241m=\u001b[39m pd\u001b[38;5;241m.\u001b[39mread_parquet(path, columns\u001b[38;5;241m=\u001b[39musecols)\n\u001b[1;32m      9\u001b[0m     \u001b[38;5;28;01melse\u001b[39;00m:\n\u001b[0;32m---> 10\u001b[0m         df \u001b[38;5;241m=\u001b[39m \u001b[43mpd\u001b[49m\u001b[38;5;241;43m.\u001b[39;49m\u001b[43mread_parquet\u001b[49m\u001b[43m(\u001b[49m\u001b[43mpath\u001b[49m\u001b[43m)\u001b[49m\n\u001b[1;32m     11\u001b[0m \u001b[38;5;28;01melif\u001b[39;00m path\u001b[38;5;241m.\u001b[39mendswith(\u001b[38;5;124m\"\u001b[39m\u001b[38;5;124m.ftr\u001b[39m\u001b[38;5;124m\"\u001b[39m):\n\u001b[1;32m     12\u001b[0m     df \u001b[38;5;241m=\u001b[39m pd\u001b[38;5;241m.\u001b[39mread_feather(path)\n",
      "File \u001b[0;32m~/miniconda3/envs/amex/lib/python3.10/site-packages/pandas/io/parquet.py:493\u001b[0m, in \u001b[0;36mread_parquet\u001b[0;34m(path, engine, columns, storage_options, use_nullable_dtypes, **kwargs)\u001b[0m\n\u001b[1;32m    446\u001b[0m \u001b[38;5;124;03m\"\"\"\u001b[39;00m\n\u001b[1;32m    447\u001b[0m \u001b[38;5;124;03mLoad a parquet object from the file path, returning a DataFrame.\u001b[39;00m\n\u001b[1;32m    448\u001b[0m \n\u001b[0;32m   (...)\u001b[0m\n\u001b[1;32m    489\u001b[0m \u001b[38;5;124;03mDataFrame\u001b[39;00m\n\u001b[1;32m    490\u001b[0m \u001b[38;5;124;03m\"\"\"\u001b[39;00m\n\u001b[1;32m    491\u001b[0m impl \u001b[38;5;241m=\u001b[39m get_engine(engine)\n\u001b[0;32m--> 493\u001b[0m \u001b[38;5;28;01mreturn\u001b[39;00m \u001b[43mimpl\u001b[49m\u001b[38;5;241;43m.\u001b[39;49m\u001b[43mread\u001b[49m\u001b[43m(\u001b[49m\n\u001b[1;32m    494\u001b[0m \u001b[43m    \u001b[49m\u001b[43mpath\u001b[49m\u001b[43m,\u001b[49m\n\u001b[1;32m    495\u001b[0m \u001b[43m    \u001b[49m\u001b[43mcolumns\u001b[49m\u001b[38;5;241;43m=\u001b[39;49m\u001b[43mcolumns\u001b[49m\u001b[43m,\u001b[49m\n\u001b[1;32m    496\u001b[0m \u001b[43m    \u001b[49m\u001b[43mstorage_options\u001b[49m\u001b[38;5;241;43m=\u001b[39;49m\u001b[43mstorage_options\u001b[49m\u001b[43m,\u001b[49m\n\u001b[1;32m    497\u001b[0m \u001b[43m    \u001b[49m\u001b[43muse_nullable_dtypes\u001b[49m\u001b[38;5;241;43m=\u001b[39;49m\u001b[43muse_nullable_dtypes\u001b[49m\u001b[43m,\u001b[49m\n\u001b[1;32m    498\u001b[0m \u001b[43m    \u001b[49m\u001b[38;5;241;43m*\u001b[39;49m\u001b[38;5;241;43m*\u001b[39;49m\u001b[43mkwargs\u001b[49m\u001b[43m,\u001b[49m\n\u001b[1;32m    499\u001b[0m \u001b[43m\u001b[49m\u001b[43m)\u001b[49m\n",
      "File \u001b[0;32m~/miniconda3/envs/amex/lib/python3.10/site-packages/pandas/io/parquet.py:233\u001b[0m, in \u001b[0;36mPyArrowImpl.read\u001b[0;34m(self, path, columns, use_nullable_dtypes, storage_options, **kwargs)\u001b[0m\n\u001b[1;32m    230\u001b[0m \u001b[38;5;28;01mif\u001b[39;00m manager \u001b[38;5;241m==\u001b[39m \u001b[38;5;124m\"\u001b[39m\u001b[38;5;124marray\u001b[39m\u001b[38;5;124m\"\u001b[39m:\n\u001b[1;32m    231\u001b[0m     to_pandas_kwargs[\u001b[38;5;124m\"\u001b[39m\u001b[38;5;124msplit_blocks\u001b[39m\u001b[38;5;124m\"\u001b[39m] \u001b[38;5;241m=\u001b[39m \u001b[38;5;28;01mTrue\u001b[39;00m  \u001b[38;5;66;03m# type: ignore[assignment]\u001b[39;00m\n\u001b[0;32m--> 233\u001b[0m path_or_handle, handles, kwargs[\u001b[38;5;124m\"\u001b[39m\u001b[38;5;124mfilesystem\u001b[39m\u001b[38;5;124m\"\u001b[39m] \u001b[38;5;241m=\u001b[39m \u001b[43m_get_path_or_handle\u001b[49m\u001b[43m(\u001b[49m\n\u001b[1;32m    234\u001b[0m \u001b[43m    \u001b[49m\u001b[43mpath\u001b[49m\u001b[43m,\u001b[49m\n\u001b[1;32m    235\u001b[0m \u001b[43m    \u001b[49m\u001b[43mkwargs\u001b[49m\u001b[38;5;241;43m.\u001b[39;49m\u001b[43mpop\u001b[49m\u001b[43m(\u001b[49m\u001b[38;5;124;43m\"\u001b[39;49m\u001b[38;5;124;43mfilesystem\u001b[39;49m\u001b[38;5;124;43m\"\u001b[39;49m\u001b[43m,\u001b[49m\u001b[43m \u001b[49m\u001b[38;5;28;43;01mNone\u001b[39;49;00m\u001b[43m)\u001b[49m\u001b[43m,\u001b[49m\n\u001b[1;32m    236\u001b[0m \u001b[43m    \u001b[49m\u001b[43mstorage_options\u001b[49m\u001b[38;5;241;43m=\u001b[39;49m\u001b[43mstorage_options\u001b[49m\u001b[43m,\u001b[49m\n\u001b[1;32m    237\u001b[0m \u001b[43m    \u001b[49m\u001b[43mmode\u001b[49m\u001b[38;5;241;43m=\u001b[39;49m\u001b[38;5;124;43m\"\u001b[39;49m\u001b[38;5;124;43mrb\u001b[39;49m\u001b[38;5;124;43m\"\u001b[39;49m\u001b[43m,\u001b[49m\n\u001b[1;32m    238\u001b[0m \u001b[43m\u001b[49m\u001b[43m)\u001b[49m\n\u001b[1;32m    239\u001b[0m \u001b[38;5;28;01mtry\u001b[39;00m:\n\u001b[1;32m    240\u001b[0m     result \u001b[38;5;241m=\u001b[39m \u001b[38;5;28mself\u001b[39m\u001b[38;5;241m.\u001b[39mapi\u001b[38;5;241m.\u001b[39mparquet\u001b[38;5;241m.\u001b[39mread_table(\n\u001b[1;32m    241\u001b[0m         path_or_handle, columns\u001b[38;5;241m=\u001b[39mcolumns, \u001b[38;5;241m*\u001b[39m\u001b[38;5;241m*\u001b[39mkwargs\n\u001b[1;32m    242\u001b[0m     )\u001b[38;5;241m.\u001b[39mto_pandas(\u001b[38;5;241m*\u001b[39m\u001b[38;5;241m*\u001b[39mto_pandas_kwargs)\n",
      "File \u001b[0;32m~/miniconda3/envs/amex/lib/python3.10/site-packages/pandas/io/parquet.py:102\u001b[0m, in \u001b[0;36m_get_path_or_handle\u001b[0;34m(path, fs, storage_options, mode, is_dir)\u001b[0m\n\u001b[1;32m     92\u001b[0m handles \u001b[38;5;241m=\u001b[39m \u001b[38;5;28;01mNone\u001b[39;00m\n\u001b[1;32m     93\u001b[0m \u001b[38;5;28;01mif\u001b[39;00m (\n\u001b[1;32m     94\u001b[0m     \u001b[38;5;129;01mnot\u001b[39;00m fs\n\u001b[1;32m     95\u001b[0m     \u001b[38;5;129;01mand\u001b[39;00m \u001b[38;5;129;01mnot\u001b[39;00m is_dir\n\u001b[0;32m   (...)\u001b[0m\n\u001b[1;32m    100\u001b[0m     \u001b[38;5;66;03m# fsspec resources can also point to directories\u001b[39;00m\n\u001b[1;32m    101\u001b[0m     \u001b[38;5;66;03m# this branch is used for example when reading from non-fsspec URLs\u001b[39;00m\n\u001b[0;32m--> 102\u001b[0m     handles \u001b[38;5;241m=\u001b[39m \u001b[43mget_handle\u001b[49m\u001b[43m(\u001b[49m\n\u001b[1;32m    103\u001b[0m \u001b[43m        \u001b[49m\u001b[43mpath_or_handle\u001b[49m\u001b[43m,\u001b[49m\u001b[43m \u001b[49m\u001b[43mmode\u001b[49m\u001b[43m,\u001b[49m\u001b[43m \u001b[49m\u001b[43mis_text\u001b[49m\u001b[38;5;241;43m=\u001b[39;49m\u001b[38;5;28;43;01mFalse\u001b[39;49;00m\u001b[43m,\u001b[49m\u001b[43m \u001b[49m\u001b[43mstorage_options\u001b[49m\u001b[38;5;241;43m=\u001b[39;49m\u001b[43mstorage_options\u001b[49m\n\u001b[1;32m    104\u001b[0m \u001b[43m    \u001b[49m\u001b[43m)\u001b[49m\n\u001b[1;32m    105\u001b[0m     fs \u001b[38;5;241m=\u001b[39m \u001b[38;5;28;01mNone\u001b[39;00m\n\u001b[1;32m    106\u001b[0m     path_or_handle \u001b[38;5;241m=\u001b[39m handles\u001b[38;5;241m.\u001b[39mhandle\n",
      "File \u001b[0;32m~/miniconda3/envs/amex/lib/python3.10/site-packages/pandas/io/common.py:798\u001b[0m, in \u001b[0;36mget_handle\u001b[0;34m(path_or_buf, mode, encoding, compression, memory_map, is_text, errors, storage_options)\u001b[0m\n\u001b[1;32m    789\u001b[0m         handle \u001b[38;5;241m=\u001b[39m \u001b[38;5;28mopen\u001b[39m(\n\u001b[1;32m    790\u001b[0m             handle,\n\u001b[1;32m    791\u001b[0m             ioargs\u001b[38;5;241m.\u001b[39mmode,\n\u001b[0;32m   (...)\u001b[0m\n\u001b[1;32m    794\u001b[0m             newline\u001b[38;5;241m=\u001b[39m\u001b[38;5;124m\"\u001b[39m\u001b[38;5;124m\"\u001b[39m,\n\u001b[1;32m    795\u001b[0m         )\n\u001b[1;32m    796\u001b[0m     \u001b[38;5;28;01melse\u001b[39;00m:\n\u001b[1;32m    797\u001b[0m         \u001b[38;5;66;03m# Binary mode\u001b[39;00m\n\u001b[0;32m--> 798\u001b[0m         handle \u001b[38;5;241m=\u001b[39m \u001b[38;5;28;43mopen\u001b[39;49m\u001b[43m(\u001b[49m\u001b[43mhandle\u001b[49m\u001b[43m,\u001b[49m\u001b[43m \u001b[49m\u001b[43mioargs\u001b[49m\u001b[38;5;241;43m.\u001b[39;49m\u001b[43mmode\u001b[49m\u001b[43m)\u001b[49m\n\u001b[1;32m    799\u001b[0m     handles\u001b[38;5;241m.\u001b[39mappend(handle)\n\u001b[1;32m    801\u001b[0m \u001b[38;5;66;03m# Convert BytesIO or file objects passed with an encoding\u001b[39;00m\n",
      "\u001b[0;31mFileNotFoundError\u001b[0m: [Errno 2] No such file or directory: '../processed_data/v19/validation_fold0.parquet'"
     ]
    }
   ],
   "source": [
    "train_agg = pd.DataFrame()\n",
    "for i in range(5):\n",
    "    t = read_file(f\"{PROCESSED_DATA_PATH}/v19/validation_fold{i}.parquet\")\n",
    "    train_agg = pd.concat([train_agg, t], ignore_index=True)"
   ]
  },
  {
   "cell_type": "code",
   "execution_count": null,
   "id": "137b2407-8cd9-4b76-b03f-9566b9744ac9",
   "metadata": {},
   "outputs": [],
   "source": [
    "# lgbm_dart.models[0].predict(train_agg)"
   ]
  },
  {
   "cell_type": "code",
   "execution_count": 12,
   "id": "8c822920-c506-44b1-80fd-1d83f5ab91b4",
   "metadata": {},
   "outputs": [],
   "source": [
    "# del test_agg"
   ]
  },
  {
   "cell_type": "code",
   "execution_count": 13,
   "id": "6e229817-8842-4c0e-adfc-e68643b8ca58",
   "metadata": {},
   "outputs": [],
   "source": [
    "# cat_columns = get_cols(train_agg, CATEGORY_COLUMNS)"
   ]
  },
  {
   "cell_type": "code",
   "execution_count": 14,
   "id": "01e15026-4ae0-4990-84b5-801466d24703",
   "metadata": {},
   "outputs": [],
   "source": [
    "# pd.DataFrame(dict(feature=lgbm_dart.models[0].feature_name())).to_csv(f\"{PROCESSED_DATA_PATH}/v4/feature_list.csv\", index=False)"
   ]
  },
  {
   "cell_type": "code",
   "execution_count": 13,
   "id": "6339d0b4-22c9-4dbf-a3c9-9ba76ee48f7b",
   "metadata": {},
   "outputs": [
    {
     "data": {
      "text/plain": [
       "(413013, 4083)"
      ]
     },
     "execution_count": 13,
     "metadata": {},
     "output_type": "execute_result"
    }
   ],
   "source": [
    "train_agg.shape"
   ]
  },
  {
   "cell_type": "code",
   "execution_count": 45,
   "id": "b3bb0768-74dd-45f6-8a4d-056cb4626db2",
   "metadata": {},
   "outputs": [
    {
     "name": "stdout",
     "output_type": "stream",
     "text": [
      "Model 1\n"
     ]
    },
    {
     "name": "stderr",
     "output_type": "stream",
     "text": [
      "100%|██████████████████████████████████████████████████████████████████████████████████████████████████████████████████████████████████████| 92/92 [04:55<00:00,  3.21s/it]\n"
     ]
    },
    {
     "name": "stdout",
     "output_type": "stream",
     "text": [
      "Model 2\n"
     ]
    },
    {
     "name": "stderr",
     "output_type": "stream",
     "text": [
      "100%|██████████████████████████████████████████████████████████████████████████████████████████████████████████████████████████████████████| 92/92 [04:54<00:00,  3.20s/it]\n"
     ]
    },
    {
     "name": "stdout",
     "output_type": "stream",
     "text": [
      "Model 3\n"
     ]
    },
    {
     "name": "stderr",
     "output_type": "stream",
     "text": [
      "100%|██████████████████████████████████████████████████████████████████████████████████████████████████████████████████████████████████████| 92/92 [04:47<00:00,  3.12s/it]\n"
     ]
    },
    {
     "name": "stdout",
     "output_type": "stream",
     "text": [
      "Model 4\n"
     ]
    },
    {
     "name": "stderr",
     "output_type": "stream",
     "text": [
      "100%|██████████████████████████████████████████████████████████████████████████████████████████████████████████████████████████████████████| 92/92 [05:13<00:00,  3.41s/it]\n"
     ]
    },
    {
     "name": "stdout",
     "output_type": "stream",
     "text": [
      "Model 5\n"
     ]
    },
    {
     "name": "stderr",
     "output_type": "stream",
     "text": [
      "100%|██████████████████████████████████████████████████████████████████████████████████████████████████████████████████████████████████████| 92/92 [05:17<00:00,  3.45s/it]"
     ]
    },
    {
     "name": "stdout",
     "output_type": "stream",
     "text": [
      "CPU times: user 2h 20min 28s, sys: 2min 13s, total: 2h 22min 41s\n",
      "Wall time: 25min 8s\n"
     ]
    },
    {
     "name": "stderr",
     "output_type": "stream",
     "text": [
      "\n"
     ]
    }
   ],
   "source": [
    "%%time\n",
    "train_scores_df = lgbm_dart.inference_full(train_agg)"
   ]
  },
  {
   "cell_type": "code",
   "execution_count": 25,
   "id": "395f7a73-33f5-49cd-a161-9fff6a344513",
   "metadata": {},
   "outputs": [],
   "source": [
    "# train_scores_df.to_csv(\"../experiments/17.lgbm_dart_50/train_scores_df.csv\", index=False)"
   ]
  },
  {
   "cell_type": "code",
   "execution_count": 6,
   "id": "ee7dab86-becd-4f7a-8cd2-b01f2e54f693",
   "metadata": {},
   "outputs": [
    {
     "name": "stdout",
     "output_type": "stream",
     "text": [
      "Shape of data: (45900, 3)\n"
     ]
    },
    {
     "data": {
      "text/html": [
       "<div>\n",
       "<style scoped>\n",
       "    .dataframe tbody tr th:only-of-type {\n",
       "        vertical-align: middle;\n",
       "    }\n",
       "\n",
       "    .dataframe tbody tr th {\n",
       "        vertical-align: top;\n",
       "    }\n",
       "\n",
       "    .dataframe thead th {\n",
       "        text-align: right;\n",
       "    }\n",
       "</style>\n",
       "<table border=\"1\" class=\"dataframe\">\n",
       "  <thead>\n",
       "    <tr style=\"text-align: right;\">\n",
       "      <th></th>\n",
       "      <th>customer_ID</th>\n",
       "      <th>target</th>\n",
       "      <th>prediction</th>\n",
       "    </tr>\n",
       "  </thead>\n",
       "  <tbody>\n",
       "    <tr>\n",
       "      <th>0</th>\n",
       "      <td>00007889e4fcd2614b6cbe7f8f3d2e5c728eca32d9eb8a...</td>\n",
       "      <td>0</td>\n",
       "      <td>-6.509814</td>\n",
       "    </tr>\n",
       "    <tr>\n",
       "      <th>1</th>\n",
       "      <td>000084e5023181993c2e1b665ac88dbb1ce9ef621ec537...</td>\n",
       "      <td>0</td>\n",
       "      <td>-4.669691</td>\n",
       "    </tr>\n",
       "    <tr>\n",
       "      <th>2</th>\n",
       "      <td>00013181a0c5fc8f1ea38cd2b90fe8ad2fa8cad9d9f13e...</td>\n",
       "      <td>1</td>\n",
       "      <td>4.685454</td>\n",
       "    </tr>\n",
       "    <tr>\n",
       "      <th>3</th>\n",
       "      <td>000198b3dc70edd65dbf0d7eddbcb926c6d7dbd7986af1...</td>\n",
       "      <td>0</td>\n",
       "      <td>-1.332278</td>\n",
       "    </tr>\n",
       "    <tr>\n",
       "      <th>4</th>\n",
       "      <td>0009e1a505be8b131904d3908b9d6e149108859a37cd88...</td>\n",
       "      <td>0</td>\n",
       "      <td>-5.027389</td>\n",
       "    </tr>\n",
       "    <tr>\n",
       "      <th>...</th>\n",
       "      <td>...</td>\n",
       "      <td>...</td>\n",
       "      <td>...</td>\n",
       "    </tr>\n",
       "    <tr>\n",
       "      <th>45895</th>\n",
       "      <td>fff89f006c105d5561a454f015c64c90e2108c8f058a5b...</td>\n",
       "      <td>0</td>\n",
       "      <td>-5.746919</td>\n",
       "    </tr>\n",
       "    <tr>\n",
       "      <th>45896</th>\n",
       "      <td>fffadb0b7f909848854778c7b4b3781430cff772bfcbdf...</td>\n",
       "      <td>0</td>\n",
       "      <td>-5.056299</td>\n",
       "    </tr>\n",
       "    <tr>\n",
       "      <th>45897</th>\n",
       "      <td>fffb8cb2a4375ee042827ce1e880268ca33b1091bb6811...</td>\n",
       "      <td>0</td>\n",
       "      <td>-1.315412</td>\n",
       "    </tr>\n",
       "    <tr>\n",
       "      <th>45898</th>\n",
       "      <td>fffd765f1f5fa550f044acb297092807227f4742fa11bb...</td>\n",
       "      <td>0</td>\n",
       "      <td>-4.747335</td>\n",
       "    </tr>\n",
       "    <tr>\n",
       "      <th>45899</th>\n",
       "      <td>fffe2bc02423407e33a607660caeed076d713d8a5ad323...</td>\n",
       "      <td>1</td>\n",
       "      <td>3.544864</td>\n",
       "    </tr>\n",
       "  </tbody>\n",
       "</table>\n",
       "<p>45900 rows × 3 columns</p>\n",
       "</div>"
      ],
      "text/plain": [
       "                                             customer_ID  target  prediction\n",
       "0      00007889e4fcd2614b6cbe7f8f3d2e5c728eca32d9eb8a...       0   -6.509814\n",
       "1      000084e5023181993c2e1b665ac88dbb1ce9ef621ec537...       0   -4.669691\n",
       "2      00013181a0c5fc8f1ea38cd2b90fe8ad2fa8cad9d9f13e...       1    4.685454\n",
       "3      000198b3dc70edd65dbf0d7eddbcb926c6d7dbd7986af1...       0   -1.332278\n",
       "4      0009e1a505be8b131904d3908b9d6e149108859a37cd88...       0   -5.027389\n",
       "...                                                  ...     ...         ...\n",
       "45895  fff89f006c105d5561a454f015c64c90e2108c8f058a5b...       0   -5.746919\n",
       "45896  fffadb0b7f909848854778c7b4b3781430cff772bfcbdf...       0   -5.056299\n",
       "45897  fffb8cb2a4375ee042827ce1e880268ca33b1091bb6811...       0   -1.315412\n",
       "45898  fffd765f1f5fa550f044acb297092807227f4742fa11bb...       0   -4.747335\n",
       "45899  fffe2bc02423407e33a607660caeed076d713d8a5ad323...       1    3.544864\n",
       "\n",
       "[45900 rows x 3 columns]"
      ]
     },
     "execution_count": 6,
     "metadata": {},
     "output_type": "execute_result"
    }
   ],
   "source": [
    "t = read_file(\"../held_out_predictions/wk_exp19_prediction.csv\")"
   ]
  },
  {
   "cell_type": "markdown",
   "id": "9e9ad01c-244c-4d51-8e9c-7b278c023101",
   "metadata": {},
   "source": [
    "#### If normal stratify K-fold is being use"
   ]
  },
  {
   "cell_type": "code",
   "execution_count": 46,
   "id": "275b33f1-b4be-4a99-abec-495bf359b79d",
   "metadata": {},
   "outputs": [
    {
     "data": {
      "text/plain": [
       "6666"
      ]
     },
     "execution_count": 46,
     "metadata": {},
     "output_type": "execute_result"
    }
   ],
   "source": [
    "lgbm_dart.seed"
   ]
  },
  {
   "cell_type": "code",
   "execution_count": 47,
   "id": "2189115e-50a9-436d-b651-d2290829e569",
   "metadata": {},
   "outputs": [],
   "source": [
    "kf = StratifiedKFold(n_splits=5, random_state=lgbm_dart.seed, shuffle=True)\n",
    "val_indices = [idx_va for idx_tr, idx_va in kf.split(train_agg, labels[\"target\"])]"
   ]
  },
  {
   "cell_type": "code",
   "execution_count": 48,
   "id": "0db309d6-fcfd-40be-a60a-aee7bed28e58",
   "metadata": {},
   "outputs": [],
   "source": [
    "for i in range(5):\n",
    "    train_scores_df.loc[val_indices[i], \"oof_score\"] = train_scores_df.loc[val_indices[i], f\"score{i+1}\"].values"
   ]
  },
  {
   "cell_type": "code",
   "execution_count": 49,
   "id": "79274358-3d5f-41a2-bf79-197ceee6b7d1",
   "metadata": {},
   "outputs": [
    {
     "data": {
      "text/plain": [
       "(0.7991044398887575, 0.9262123806358986, 0.6719964991416164)"
      ]
     },
     "execution_count": 49,
     "metadata": {},
     "output_type": "execute_result"
    }
   ],
   "source": [
    "amex_metric_np(train_scores_df[\"oof_score\"], labels[\"target\"])"
   ]
  },
  {
   "cell_type": "code",
   "execution_count": 51,
   "id": "3859cf21-36de-469f-b322-c1df394e918c",
   "metadata": {},
   "outputs": [],
   "source": [
    "# train_scores_df.to_csv(\"../experiments/16.lgbm_dart_6666_new/train_scores_df.csv\", index=False)"
   ]
  },
  {
   "cell_type": "markdown",
   "id": "5729a64b-f277-4eb0-9f47-8af6706a7c23",
   "metadata": {},
   "source": [
    "#### If manual split is being use"
   ]
  },
  {
   "cell_type": "code",
   "execution_count": 50,
   "id": "1243975b-61f1-4b84-94dd-4cde490a20a6",
   "metadata": {},
   "outputs": [],
   "source": [
    "exp12_val_cids = joblib.load(f\"./{EXP_PATH}/12.lgbm_dart_manual_split_42/5fold_val_cid.pkl\")"
   ]
  },
  {
   "cell_type": "code",
   "execution_count": 51,
   "id": "b14306fb-9e60-4a93-a7d1-d706f6db7b59",
   "metadata": {},
   "outputs": [],
   "source": [
    "for i in range(5):\n",
    "    train_scores_df.loc[labels[\"customer_ID\"].isin(exp12_val_cids[i]), \"oof_score\"] = \\\n",
    "        train_scores_df.loc[labels[\"customer_ID\"].isin(exp12_val_cids[i]), f\"score{i+1}\"].values"
   ]
  },
  {
   "cell_type": "code",
   "execution_count": 25,
   "id": "53380d52-7848-4927-aa47-e3703731767c",
   "metadata": {},
   "outputs": [],
   "source": [
    "# train_scores_df.insert(5, \"target\", labels[\"target\"])"
   ]
  },
  {
   "cell_type": "code",
   "execution_count": 58,
   "id": "58bdc002-5581-493f-8f9d-d852509eb225",
   "metadata": {},
   "outputs": [],
   "source": [
    "train_scores_df.to_csv(\"../experiments/12.lgbm_dart_manual_split_42/train_scores_df.csv\", index=False)"
   ]
  },
  {
   "cell_type": "code",
   "execution_count": 54,
   "id": "9755abb4-7c7b-44d4-8dcc-47ecdeeef14f",
   "metadata": {},
   "outputs": [],
   "source": [
    "# train_scores_df = read_file(\"../experiments/11.lgbm_dart_round_clip_7788/train_scores_df.csv\")"
   ]
  },
  {
   "cell_type": "code",
   "execution_count": 55,
   "id": "eb9edc01-76d3-46b4-b371-f06ad292d965",
   "metadata": {},
   "outputs": [
    {
     "data": {
      "text/html": [
       "<div>\n",
       "<style scoped>\n",
       "    .dataframe tbody tr th:only-of-type {\n",
       "        vertical-align: middle;\n",
       "    }\n",
       "\n",
       "    .dataframe tbody tr th {\n",
       "        vertical-align: top;\n",
       "    }\n",
       "\n",
       "    .dataframe thead th {\n",
       "        text-align: right;\n",
       "    }\n",
       "</style>\n",
       "<table border=\"1\" class=\"dataframe\">\n",
       "  <thead>\n",
       "    <tr style=\"text-align: right;\">\n",
       "      <th></th>\n",
       "      <th>score1</th>\n",
       "      <th>score2</th>\n",
       "      <th>score3</th>\n",
       "      <th>score4</th>\n",
       "      <th>score5</th>\n",
       "      <th>oof_score</th>\n",
       "    </tr>\n",
       "  </thead>\n",
       "  <tbody>\n",
       "    <tr>\n",
       "      <th>count</th>\n",
       "      <td>458913.000000</td>\n",
       "      <td>458913.000000</td>\n",
       "      <td>458913.000000</td>\n",
       "      <td>458913.000000</td>\n",
       "      <td>458913.000000</td>\n",
       "      <td>458913.000000</td>\n",
       "    </tr>\n",
       "    <tr>\n",
       "      <th>mean</th>\n",
       "      <td>-2.701485</td>\n",
       "      <td>-2.709308</td>\n",
       "      <td>-2.704745</td>\n",
       "      <td>-2.706495</td>\n",
       "      <td>-2.694050</td>\n",
       "      <td>-2.703072</td>\n",
       "    </tr>\n",
       "    <tr>\n",
       "      <th>std</th>\n",
       "      <td>3.695234</td>\n",
       "      <td>3.703422</td>\n",
       "      <td>3.695250</td>\n",
       "      <td>3.694666</td>\n",
       "      <td>3.691794</td>\n",
       "      <td>3.678417</td>\n",
       "    </tr>\n",
       "    <tr>\n",
       "      <th>min</th>\n",
       "      <td>-9.681596</td>\n",
       "      <td>-9.874951</td>\n",
       "      <td>-9.793536</td>\n",
       "      <td>-9.490644</td>\n",
       "      <td>-9.817147</td>\n",
       "      <td>-9.520891</td>\n",
       "    </tr>\n",
       "    <tr>\n",
       "      <th>25%</th>\n",
       "      <td>-5.864257</td>\n",
       "      <td>-5.873206</td>\n",
       "      <td>-5.858815</td>\n",
       "      <td>-5.875481</td>\n",
       "      <td>-5.838370</td>\n",
       "      <td>-5.858724</td>\n",
       "    </tr>\n",
       "    <tr>\n",
       "      <th>50%</th>\n",
       "      <td>-3.490527</td>\n",
       "      <td>-3.473782</td>\n",
       "      <td>-3.486311</td>\n",
       "      <td>-3.486194</td>\n",
       "      <td>-3.486137</td>\n",
       "      <td>-3.461660</td>\n",
       "    </tr>\n",
       "    <tr>\n",
       "      <th>75%</th>\n",
       "      <td>0.314607</td>\n",
       "      <td>0.317671</td>\n",
       "      <td>0.315733</td>\n",
       "      <td>0.318051</td>\n",
       "      <td>0.308858</td>\n",
       "      <td>0.282571</td>\n",
       "    </tr>\n",
       "    <tr>\n",
       "      <th>max</th>\n",
       "      <td>9.063671</td>\n",
       "      <td>8.734650</td>\n",
       "      <td>8.781393</td>\n",
       "      <td>8.613000</td>\n",
       "      <td>8.832965</td>\n",
       "      <td>9.063671</td>\n",
       "    </tr>\n",
       "  </tbody>\n",
       "</table>\n",
       "</div>"
      ],
      "text/plain": [
       "              score1         score2         score3         score4  \\\n",
       "count  458913.000000  458913.000000  458913.000000  458913.000000   \n",
       "mean       -2.701485      -2.709308      -2.704745      -2.706495   \n",
       "std         3.695234       3.703422       3.695250       3.694666   \n",
       "min        -9.681596      -9.874951      -9.793536      -9.490644   \n",
       "25%        -5.864257      -5.873206      -5.858815      -5.875481   \n",
       "50%        -3.490527      -3.473782      -3.486311      -3.486194   \n",
       "75%         0.314607       0.317671       0.315733       0.318051   \n",
       "max         9.063671       8.734650       8.781393       8.613000   \n",
       "\n",
       "              score5      oof_score  \n",
       "count  458913.000000  458913.000000  \n",
       "mean       -2.694050      -2.703072  \n",
       "std         3.691794       3.678417  \n",
       "min        -9.817147      -9.520891  \n",
       "25%        -5.838370      -5.858724  \n",
       "50%        -3.486137      -3.461660  \n",
       "75%         0.308858       0.282571  \n",
       "max         8.832965       9.063671  "
      ]
     },
     "execution_count": 55,
     "metadata": {},
     "output_type": "execute_result"
    }
   ],
   "source": [
    "train_scores_df.describe()"
   ]
  },
  {
   "cell_type": "code",
   "execution_count": 57,
   "id": "cccde54d-f88d-4feb-a890-6cf28d65ee28",
   "metadata": {},
   "outputs": [],
   "source": [
    "# amex_metric_np(train_scores_df[\"oof_score\"], labels[\"target\"])"
   ]
  },
  {
   "cell_type": "code",
   "execution_count": 29,
   "id": "29bd352d-883b-4396-9356-7ad22bd10513",
   "metadata": {},
   "outputs": [],
   "source": [
    "del train_agg"
   ]
  },
  {
   "cell_type": "markdown",
   "id": "4a7c61a8-cce2-41ae-849b-9792e646cfab",
   "metadata": {},
   "source": [
    "### Test Inference"
   ]
  },
  {
   "cell_type": "code",
   "execution_count": 53,
   "id": "ff4b445f-5000-4f44-86e9-12dda36facac",
   "metadata": {},
   "outputs": [
    {
     "name": "stdout",
     "output_type": "stream",
     "text": [
      "Shape of data: (924621, 4081)\n",
      "CPU times: user 5.5 s, sys: 24.4 s, total: 29.9 s\n",
      "Wall time: 1min 13s\n"
     ]
    }
   ],
   "source": [
    "%%time\n",
    "# test_agg = read_file(f\"{PROCESSED_DATA_PATH}/v2/test_agg.pkl\")\n",
    "# test_agg = read_file(f\"{PROCESSED_DATA_PATH}/v10/held_out.pkl\")\n",
    "test_agg = read_file(f\"{PROCESSED_DATA_PATH}/v20/test_agg.pkl\")"
   ]
  },
  {
   "cell_type": "code",
   "execution_count": 54,
   "id": "7d63edbc-ffa4-4b2a-a510-11ea5bf9b4b9",
   "metadata": {},
   "outputs": [
    {
     "data": {
      "text/html": [
       "<div>\n",
       "<style scoped>\n",
       "    .dataframe tbody tr th:only-of-type {\n",
       "        vertical-align: middle;\n",
       "    }\n",
       "\n",
       "    .dataframe tbody tr th {\n",
       "        vertical-align: top;\n",
       "    }\n",
       "\n",
       "    .dataframe thead th {\n",
       "        text-align: right;\n",
       "    }\n",
       "</style>\n",
       "<table border=\"1\" class=\"dataframe\">\n",
       "  <thead>\n",
       "    <tr style=\"text-align: right;\">\n",
       "      <th></th>\n",
       "      <th>P_2_last</th>\n",
       "      <th>S_3_last</th>\n",
       "      <th>P_3_last</th>\n",
       "      <th>S_5_last</th>\n",
       "      <th>S_6_last</th>\n",
       "      <th>S_7_last</th>\n",
       "      <th>S_8_last</th>\n",
       "      <th>S_9_last</th>\n",
       "      <th>S_11_last</th>\n",
       "      <th>S_12_last</th>\n",
       "      <th>...</th>\n",
       "      <th>D_137_velocity</th>\n",
       "      <th>D_137_sprint</th>\n",
       "      <th>D_137_previous_sprint</th>\n",
       "      <th>D_137_acceleration</th>\n",
       "      <th>D_137_last_minus_avg</th>\n",
       "      <th>D_137_coef_var</th>\n",
       "      <th>D_137_ma3_r1_r2</th>\n",
       "      <th>D_137_ma2_r1_r2</th>\n",
       "      <th>D_137_ma2_r1_r3</th>\n",
       "      <th>D_137_general_trend</th>\n",
       "    </tr>\n",
       "    <tr>\n",
       "      <th>customer_ID</th>\n",
       "      <th></th>\n",
       "      <th></th>\n",
       "      <th></th>\n",
       "      <th></th>\n",
       "      <th></th>\n",
       "      <th></th>\n",
       "      <th></th>\n",
       "      <th></th>\n",
       "      <th></th>\n",
       "      <th></th>\n",
       "      <th></th>\n",
       "      <th></th>\n",
       "      <th></th>\n",
       "      <th></th>\n",
       "      <th></th>\n",
       "      <th></th>\n",
       "      <th></th>\n",
       "      <th></th>\n",
       "      <th></th>\n",
       "      <th></th>\n",
       "      <th></th>\n",
       "    </tr>\n",
       "  </thead>\n",
       "  <tbody>\n",
       "    <tr>\n",
       "      <th>00000469ba478561f23a92a868bd366de6f6527a684c9a2e78fb826dcac3b9b7</th>\n",
       "      <td>0.56</td>\n",
       "      <td>0.14</td>\n",
       "      <td>0.56</td>\n",
       "      <td>0.01</td>\n",
       "      <td>0</td>\n",
       "      <td>0.15</td>\n",
       "      <td>0.46</td>\n",
       "      <td>0.01</td>\n",
       "      <td>44</td>\n",
       "      <td>0.18</td>\n",
       "      <td>...</td>\n",
       "      <td>NaN</td>\n",
       "      <td>NaN</td>\n",
       "      <td>NaN</td>\n",
       "      <td>NaN</td>\n",
       "      <td>NaN</td>\n",
       "      <td>NaN</td>\n",
       "      <td>NaN</td>\n",
       "      <td>NaN</td>\n",
       "      <td>NaN</td>\n",
       "      <td>NaN</td>\n",
       "    </tr>\n",
       "    <tr>\n",
       "      <th>00001bf2e77ff879fab36aa4fac689b9ba411dae63ae397d4263dafa1daedef5</th>\n",
       "      <td>0.84</td>\n",
       "      <td>0.11</td>\n",
       "      <td>0.52</td>\n",
       "      <td>0.00</td>\n",
       "      <td>0</td>\n",
       "      <td>0.08</td>\n",
       "      <td>0.76</td>\n",
       "      <td>0.01</td>\n",
       "      <td>3</td>\n",
       "      <td>0.19</td>\n",
       "      <td>...</td>\n",
       "      <td>NaN</td>\n",
       "      <td>NaN</td>\n",
       "      <td>NaN</td>\n",
       "      <td>NaN</td>\n",
       "      <td>NaN</td>\n",
       "      <td>NaN</td>\n",
       "      <td>NaN</td>\n",
       "      <td>NaN</td>\n",
       "      <td>NaN</td>\n",
       "      <td>NaN</td>\n",
       "    </tr>\n",
       "    <tr>\n",
       "      <th>0000210045da4f81e5f122c6bde5c2a617d03eef67f82c5e400fc98e7bd43ce8</th>\n",
       "      <td>0.69</td>\n",
       "      <td>0.16</td>\n",
       "      <td>0.56</td>\n",
       "      <td>0.00</td>\n",
       "      <td>0</td>\n",
       "      <td>0.17</td>\n",
       "      <td>0.12</td>\n",
       "      <td>0.00</td>\n",
       "      <td>22</td>\n",
       "      <td>0.18</td>\n",
       "      <td>...</td>\n",
       "      <td>NaN</td>\n",
       "      <td>NaN</td>\n",
       "      <td>NaN</td>\n",
       "      <td>NaN</td>\n",
       "      <td>NaN</td>\n",
       "      <td>NaN</td>\n",
       "      <td>NaN</td>\n",
       "      <td>NaN</td>\n",
       "      <td>NaN</td>\n",
       "      <td>NaN</td>\n",
       "    </tr>\n",
       "    <tr>\n",
       "      <th>00003b41e58ede33b8daf61ab56d9952f17c9ad1c3976cf6e56734528702d694</th>\n",
       "      <td>0.51</td>\n",
       "      <td>0.18</td>\n",
       "      <td>0.62</td>\n",
       "      <td>0.32</td>\n",
       "      <td>0</td>\n",
       "      <td>0.55</td>\n",
       "      <td>0.47</td>\n",
       "      <td>0.01</td>\n",
       "      <td>24</td>\n",
       "      <td>0.25</td>\n",
       "      <td>...</td>\n",
       "      <td>NaN</td>\n",
       "      <td>NaN</td>\n",
       "      <td>NaN</td>\n",
       "      <td>NaN</td>\n",
       "      <td>NaN</td>\n",
       "      <td>NaN</td>\n",
       "      <td>NaN</td>\n",
       "      <td>NaN</td>\n",
       "      <td>NaN</td>\n",
       "      <td>NaN</td>\n",
       "    </tr>\n",
       "    <tr>\n",
       "      <th>00004b22eaeeeb0ec976890c1d9bfc14fd9427e98c4ee9a4693dd914fca22557</th>\n",
       "      <td>0.25</td>\n",
       "      <td>0.16</td>\n",
       "      <td>0.56</td>\n",
       "      <td>0.06</td>\n",
       "      <td>0</td>\n",
       "      <td>0.11</td>\n",
       "      <td>0.24</td>\n",
       "      <td>0.00</td>\n",
       "      <td>11</td>\n",
       "      <td>0.19</td>\n",
       "      <td>...</td>\n",
       "      <td>NaN</td>\n",
       "      <td>NaN</td>\n",
       "      <td>NaN</td>\n",
       "      <td>NaN</td>\n",
       "      <td>NaN</td>\n",
       "      <td>NaN</td>\n",
       "      <td>NaN</td>\n",
       "      <td>NaN</td>\n",
       "      <td>NaN</td>\n",
       "      <td>NaN</td>\n",
       "    </tr>\n",
       "  </tbody>\n",
       "</table>\n",
       "<p>5 rows × 4081 columns</p>\n",
       "</div>"
      ],
      "text/plain": [
       "                                                    P_2_last  S_3_last  \\\n",
       "customer_ID                                                              \n",
       "00000469ba478561f23a92a868bd366de6f6527a684c9a2...      0.56      0.14   \n",
       "00001bf2e77ff879fab36aa4fac689b9ba411dae63ae397...      0.84      0.11   \n",
       "0000210045da4f81e5f122c6bde5c2a617d03eef67f82c5...      0.69      0.16   \n",
       "00003b41e58ede33b8daf61ab56d9952f17c9ad1c3976cf...      0.51      0.18   \n",
       "00004b22eaeeeb0ec976890c1d9bfc14fd9427e98c4ee9a...      0.25      0.16   \n",
       "\n",
       "                                                    P_3_last  S_5_last  \\\n",
       "customer_ID                                                              \n",
       "00000469ba478561f23a92a868bd366de6f6527a684c9a2...      0.56      0.01   \n",
       "00001bf2e77ff879fab36aa4fac689b9ba411dae63ae397...      0.52      0.00   \n",
       "0000210045da4f81e5f122c6bde5c2a617d03eef67f82c5...      0.56      0.00   \n",
       "00003b41e58ede33b8daf61ab56d9952f17c9ad1c3976cf...      0.62      0.32   \n",
       "00004b22eaeeeb0ec976890c1d9bfc14fd9427e98c4ee9a...      0.56      0.06   \n",
       "\n",
       "                                                    S_6_last  S_7_last  \\\n",
       "customer_ID                                                              \n",
       "00000469ba478561f23a92a868bd366de6f6527a684c9a2...         0      0.15   \n",
       "00001bf2e77ff879fab36aa4fac689b9ba411dae63ae397...         0      0.08   \n",
       "0000210045da4f81e5f122c6bde5c2a617d03eef67f82c5...         0      0.17   \n",
       "00003b41e58ede33b8daf61ab56d9952f17c9ad1c3976cf...         0      0.55   \n",
       "00004b22eaeeeb0ec976890c1d9bfc14fd9427e98c4ee9a...         0      0.11   \n",
       "\n",
       "                                                    S_8_last  S_9_last  \\\n",
       "customer_ID                                                              \n",
       "00000469ba478561f23a92a868bd366de6f6527a684c9a2...      0.46      0.01   \n",
       "00001bf2e77ff879fab36aa4fac689b9ba411dae63ae397...      0.76      0.01   \n",
       "0000210045da4f81e5f122c6bde5c2a617d03eef67f82c5...      0.12      0.00   \n",
       "00003b41e58ede33b8daf61ab56d9952f17c9ad1c3976cf...      0.47      0.01   \n",
       "00004b22eaeeeb0ec976890c1d9bfc14fd9427e98c4ee9a...      0.24      0.00   \n",
       "\n",
       "                                                    S_11_last  S_12_last  ...  \\\n",
       "customer_ID                                                               ...   \n",
       "00000469ba478561f23a92a868bd366de6f6527a684c9a2...         44       0.18  ...   \n",
       "00001bf2e77ff879fab36aa4fac689b9ba411dae63ae397...          3       0.19  ...   \n",
       "0000210045da4f81e5f122c6bde5c2a617d03eef67f82c5...         22       0.18  ...   \n",
       "00003b41e58ede33b8daf61ab56d9952f17c9ad1c3976cf...         24       0.25  ...   \n",
       "00004b22eaeeeb0ec976890c1d9bfc14fd9427e98c4ee9a...         11       0.19  ...   \n",
       "\n",
       "                                                    D_137_velocity  \\\n",
       "customer_ID                                                          \n",
       "00000469ba478561f23a92a868bd366de6f6527a684c9a2...             NaN   \n",
       "00001bf2e77ff879fab36aa4fac689b9ba411dae63ae397...             NaN   \n",
       "0000210045da4f81e5f122c6bde5c2a617d03eef67f82c5...             NaN   \n",
       "00003b41e58ede33b8daf61ab56d9952f17c9ad1c3976cf...             NaN   \n",
       "00004b22eaeeeb0ec976890c1d9bfc14fd9427e98c4ee9a...             NaN   \n",
       "\n",
       "                                                    D_137_sprint  \\\n",
       "customer_ID                                                        \n",
       "00000469ba478561f23a92a868bd366de6f6527a684c9a2...           NaN   \n",
       "00001bf2e77ff879fab36aa4fac689b9ba411dae63ae397...           NaN   \n",
       "0000210045da4f81e5f122c6bde5c2a617d03eef67f82c5...           NaN   \n",
       "00003b41e58ede33b8daf61ab56d9952f17c9ad1c3976cf...           NaN   \n",
       "00004b22eaeeeb0ec976890c1d9bfc14fd9427e98c4ee9a...           NaN   \n",
       "\n",
       "                                                    D_137_previous_sprint  \\\n",
       "customer_ID                                                                 \n",
       "00000469ba478561f23a92a868bd366de6f6527a684c9a2...                    NaN   \n",
       "00001bf2e77ff879fab36aa4fac689b9ba411dae63ae397...                    NaN   \n",
       "0000210045da4f81e5f122c6bde5c2a617d03eef67f82c5...                    NaN   \n",
       "00003b41e58ede33b8daf61ab56d9952f17c9ad1c3976cf...                    NaN   \n",
       "00004b22eaeeeb0ec976890c1d9bfc14fd9427e98c4ee9a...                    NaN   \n",
       "\n",
       "                                                    D_137_acceleration  \\\n",
       "customer_ID                                                              \n",
       "00000469ba478561f23a92a868bd366de6f6527a684c9a2...                 NaN   \n",
       "00001bf2e77ff879fab36aa4fac689b9ba411dae63ae397...                 NaN   \n",
       "0000210045da4f81e5f122c6bde5c2a617d03eef67f82c5...                 NaN   \n",
       "00003b41e58ede33b8daf61ab56d9952f17c9ad1c3976cf...                 NaN   \n",
       "00004b22eaeeeb0ec976890c1d9bfc14fd9427e98c4ee9a...                 NaN   \n",
       "\n",
       "                                                    D_137_last_minus_avg  \\\n",
       "customer_ID                                                                \n",
       "00000469ba478561f23a92a868bd366de6f6527a684c9a2...                   NaN   \n",
       "00001bf2e77ff879fab36aa4fac689b9ba411dae63ae397...                   NaN   \n",
       "0000210045da4f81e5f122c6bde5c2a617d03eef67f82c5...                   NaN   \n",
       "00003b41e58ede33b8daf61ab56d9952f17c9ad1c3976cf...                   NaN   \n",
       "00004b22eaeeeb0ec976890c1d9bfc14fd9427e98c4ee9a...                   NaN   \n",
       "\n",
       "                                                    D_137_coef_var  \\\n",
       "customer_ID                                                          \n",
       "00000469ba478561f23a92a868bd366de6f6527a684c9a2...             NaN   \n",
       "00001bf2e77ff879fab36aa4fac689b9ba411dae63ae397...             NaN   \n",
       "0000210045da4f81e5f122c6bde5c2a617d03eef67f82c5...             NaN   \n",
       "00003b41e58ede33b8daf61ab56d9952f17c9ad1c3976cf...             NaN   \n",
       "00004b22eaeeeb0ec976890c1d9bfc14fd9427e98c4ee9a...             NaN   \n",
       "\n",
       "                                                    D_137_ma3_r1_r2  \\\n",
       "customer_ID                                                           \n",
       "00000469ba478561f23a92a868bd366de6f6527a684c9a2...              NaN   \n",
       "00001bf2e77ff879fab36aa4fac689b9ba411dae63ae397...              NaN   \n",
       "0000210045da4f81e5f122c6bde5c2a617d03eef67f82c5...              NaN   \n",
       "00003b41e58ede33b8daf61ab56d9952f17c9ad1c3976cf...              NaN   \n",
       "00004b22eaeeeb0ec976890c1d9bfc14fd9427e98c4ee9a...              NaN   \n",
       "\n",
       "                                                    D_137_ma2_r1_r2  \\\n",
       "customer_ID                                                           \n",
       "00000469ba478561f23a92a868bd366de6f6527a684c9a2...              NaN   \n",
       "00001bf2e77ff879fab36aa4fac689b9ba411dae63ae397...              NaN   \n",
       "0000210045da4f81e5f122c6bde5c2a617d03eef67f82c5...              NaN   \n",
       "00003b41e58ede33b8daf61ab56d9952f17c9ad1c3976cf...              NaN   \n",
       "00004b22eaeeeb0ec976890c1d9bfc14fd9427e98c4ee9a...              NaN   \n",
       "\n",
       "                                                    D_137_ma2_r1_r3  \\\n",
       "customer_ID                                                           \n",
       "00000469ba478561f23a92a868bd366de6f6527a684c9a2...              NaN   \n",
       "00001bf2e77ff879fab36aa4fac689b9ba411dae63ae397...              NaN   \n",
       "0000210045da4f81e5f122c6bde5c2a617d03eef67f82c5...              NaN   \n",
       "00003b41e58ede33b8daf61ab56d9952f17c9ad1c3976cf...              NaN   \n",
       "00004b22eaeeeb0ec976890c1d9bfc14fd9427e98c4ee9a...              NaN   \n",
       "\n",
       "                                                    D_137_general_trend  \n",
       "customer_ID                                                              \n",
       "00000469ba478561f23a92a868bd366de6f6527a684c9a2...                  NaN  \n",
       "00001bf2e77ff879fab36aa4fac689b9ba411dae63ae397...                  NaN  \n",
       "0000210045da4f81e5f122c6bde5c2a617d03eef67f82c5...                  NaN  \n",
       "00003b41e58ede33b8daf61ab56d9952f17c9ad1c3976cf...                  NaN  \n",
       "00004b22eaeeeb0ec976890c1d9bfc14fd9427e98c4ee9a...                  NaN  \n",
       "\n",
       "[5 rows x 4081 columns]"
      ]
     },
     "execution_count": 54,
     "metadata": {},
     "output_type": "execute_result"
    }
   ],
   "source": [
    "test_agg.head()"
   ]
  },
  {
   "cell_type": "code",
   "execution_count": 57,
   "id": "69be0373-b781-4e24-840d-78ab89536f40",
   "metadata": {},
   "outputs": [
    {
     "name": "stdout",
     "output_type": "stream",
     "text": [
      "CPU times: user 1.37 s, sys: 9.76 s, total: 11.1 s\n",
      "Wall time: 32.1 s\n"
     ]
    }
   ],
   "source": [
    "%%time\n",
    "test_agg = test_agg.reset_index()"
   ]
  },
  {
   "cell_type": "code",
   "execution_count": 58,
   "id": "ea4db493-44fe-4733-9087-1771ddfd4caa",
   "metadata": {},
   "outputs": [
    {
     "name": "stdout",
     "output_type": "stream",
     "text": [
      "Model 1\n"
     ]
    },
    {
     "name": "stderr",
     "output_type": "stream",
     "text": [
      "100%|████████████████████████████████████████████████████████████████████████████████████████████████████████████████████████████████████| 185/185 [06:27<00:00,  2.10s/it]\n"
     ]
    },
    {
     "name": "stdout",
     "output_type": "stream",
     "text": [
      "Model 2\n"
     ]
    },
    {
     "name": "stderr",
     "output_type": "stream",
     "text": [
      "100%|████████████████████████████████████████████████████████████████████████████████████████████████████████████████████████████████████| 185/185 [05:53<00:00,  1.91s/it]\n"
     ]
    },
    {
     "name": "stdout",
     "output_type": "stream",
     "text": [
      "Model 3\n"
     ]
    },
    {
     "name": "stderr",
     "output_type": "stream",
     "text": [
      "100%|████████████████████████████████████████████████████████████████████████████████████████████████████████████████████████████████████| 185/185 [06:05<00:00,  1.97s/it]\n"
     ]
    },
    {
     "name": "stdout",
     "output_type": "stream",
     "text": [
      "Model 4\n"
     ]
    },
    {
     "name": "stderr",
     "output_type": "stream",
     "text": [
      "100%|████████████████████████████████████████████████████████████████████████████████████████████████████████████████████████████████████| 185/185 [05:52<00:00,  1.90s/it]\n"
     ]
    },
    {
     "name": "stdout",
     "output_type": "stream",
     "text": [
      "Model 5\n"
     ]
    },
    {
     "name": "stderr",
     "output_type": "stream",
     "text": [
      "100%|████████████████████████████████████████████████████████████████████████████████████████████████████████████████████████████████████| 185/185 [06:51<00:00,  2.23s/it]\n"
     ]
    }
   ],
   "source": [
    "test_scores = lgbm_dart.inference_full(test_agg)\n",
    "# test_scores2 = lgbm_dart.inference_full(test_agg2)"
   ]
  },
  {
   "cell_type": "code",
   "execution_count": 59,
   "id": "148a6500-bbe7-4453-91ba-48c13debd833",
   "metadata": {},
   "outputs": [],
   "source": [
    "# amex_metric_np(test_scores.mean(axis=1), test_agg[\"target\"])"
   ]
  },
  {
   "cell_type": "code",
   "execution_count": 49,
   "id": "d1ce86d1-c7c8-480f-aba8-608bbb062af1",
   "metadata": {},
   "outputs": [],
   "source": [
    "held_out = test_agg[[\"customer_ID\", \"target\"]].copy()"
   ]
  },
  {
   "cell_type": "code",
   "execution_count": 50,
   "id": "55259322-4316-4c81-bc4a-f458e5287fa4",
   "metadata": {},
   "outputs": [],
   "source": [
    "held_out[\"prediction\"] = test_scores.mean(axis=1)"
   ]
  },
  {
   "cell_type": "code",
   "execution_count": 52,
   "id": "afc8358c-a33c-4f8f-ae81-15554e4a46e9",
   "metadata": {},
   "outputs": [],
   "source": [
    "# held_out.to_csv(\"../held_out_predictions/wk_exp20_prediction.csv\", index=False)"
   ]
  },
  {
   "cell_type": "code",
   "execution_count": 64,
   "id": "4401a0bb-b518-4124-9afc-ad19ee4cd9bf",
   "metadata": {},
   "outputs": [
    {
     "data": {
      "text/plain": [
       "(924621, 5)"
      ]
     },
     "execution_count": 64,
     "metadata": {},
     "output_type": "execute_result"
    }
   ],
   "source": [
    "test_scores.shape"
   ]
  },
  {
   "cell_type": "code",
   "execution_count": 65,
   "id": "07f9c3c8-fe61-45ac-a0f1-bfd35f0f5b6f",
   "metadata": {},
   "outputs": [],
   "source": [
    "# test_scores[\"score2\"] = test_scores[\"score2\"] * 0.93"
   ]
  },
  {
   "cell_type": "code",
   "execution_count": 66,
   "id": "a7192dc3-450a-496c-82cf-0ca84fb32221",
   "metadata": {},
   "outputs": [
    {
     "data": {
      "text/html": [
       "<div>\n",
       "<style scoped>\n",
       "    .dataframe tbody tr th:only-of-type {\n",
       "        vertical-align: middle;\n",
       "    }\n",
       "\n",
       "    .dataframe tbody tr th {\n",
       "        vertical-align: top;\n",
       "    }\n",
       "\n",
       "    .dataframe thead th {\n",
       "        text-align: right;\n",
       "    }\n",
       "</style>\n",
       "<table border=\"1\" class=\"dataframe\">\n",
       "  <thead>\n",
       "    <tr style=\"text-align: right;\">\n",
       "      <th></th>\n",
       "      <th>score1</th>\n",
       "      <th>score2</th>\n",
       "      <th>score3</th>\n",
       "      <th>score4</th>\n",
       "      <th>score5</th>\n",
       "    </tr>\n",
       "  </thead>\n",
       "  <tbody>\n",
       "    <tr>\n",
       "      <th>count</th>\n",
       "      <td>924621.000000</td>\n",
       "      <td>924621.000000</td>\n",
       "      <td>924621.000000</td>\n",
       "      <td>924621.000000</td>\n",
       "      <td>924621.000000</td>\n",
       "    </tr>\n",
       "    <tr>\n",
       "      <th>mean</th>\n",
       "      <td>-2.684441</td>\n",
       "      <td>-2.671372</td>\n",
       "      <td>-2.714106</td>\n",
       "      <td>-2.677139</td>\n",
       "      <td>-2.712950</td>\n",
       "    </tr>\n",
       "    <tr>\n",
       "      <th>std</th>\n",
       "      <td>3.559842</td>\n",
       "      <td>3.536206</td>\n",
       "      <td>3.560304</td>\n",
       "      <td>3.556522</td>\n",
       "      <td>3.558152</td>\n",
       "    </tr>\n",
       "    <tr>\n",
       "      <th>min</th>\n",
       "      <td>-9.723603</td>\n",
       "      <td>-9.829101</td>\n",
       "      <td>-9.718120</td>\n",
       "      <td>-9.683199</td>\n",
       "      <td>-9.829038</td>\n",
       "    </tr>\n",
       "    <tr>\n",
       "      <th>25%</th>\n",
       "      <td>-5.693070</td>\n",
       "      <td>-5.666715</td>\n",
       "      <td>-5.739356</td>\n",
       "      <td>-5.691509</td>\n",
       "      <td>-5.739336</td>\n",
       "    </tr>\n",
       "    <tr>\n",
       "      <th>50%</th>\n",
       "      <td>-3.442171</td>\n",
       "      <td>-3.439668</td>\n",
       "      <td>-3.486271</td>\n",
       "      <td>-3.433974</td>\n",
       "      <td>-3.476062</td>\n",
       "    </tr>\n",
       "    <tr>\n",
       "      <th>75%</th>\n",
       "      <td>0.121062</td>\n",
       "      <td>0.106319</td>\n",
       "      <td>0.081565</td>\n",
       "      <td>0.121335</td>\n",
       "      <td>0.092952</td>\n",
       "    </tr>\n",
       "    <tr>\n",
       "      <th>max</th>\n",
       "      <td>8.467132</td>\n",
       "      <td>8.440873</td>\n",
       "      <td>8.500422</td>\n",
       "      <td>8.381287</td>\n",
       "      <td>8.404152</td>\n",
       "    </tr>\n",
       "  </tbody>\n",
       "</table>\n",
       "</div>"
      ],
      "text/plain": [
       "              score1         score2         score3         score4  \\\n",
       "count  924621.000000  924621.000000  924621.000000  924621.000000   \n",
       "mean       -2.684441      -2.671372      -2.714106      -2.677139   \n",
       "std         3.559842       3.536206       3.560304       3.556522   \n",
       "min        -9.723603      -9.829101      -9.718120      -9.683199   \n",
       "25%        -5.693070      -5.666715      -5.739356      -5.691509   \n",
       "50%        -3.442171      -3.439668      -3.486271      -3.433974   \n",
       "75%         0.121062       0.106319       0.081565       0.121335   \n",
       "max         8.467132       8.440873       8.500422       8.381287   \n",
       "\n",
       "              score5  \n",
       "count  924621.000000  \n",
       "mean       -2.712950  \n",
       "std         3.558152  \n",
       "min        -9.829038  \n",
       "25%        -5.739336  \n",
       "50%        -3.476062  \n",
       "75%         0.092952  \n",
       "max         8.404152  "
      ]
     },
     "execution_count": 66,
     "metadata": {},
     "output_type": "execute_result"
    }
   ],
   "source": [
    "test_scores.describe()"
   ]
  },
  {
   "cell_type": "code",
   "execution_count": 67,
   "id": "54a863aa-1bc2-4e8c-a940-a2ad4498f3b8",
   "metadata": {},
   "outputs": [
    {
     "data": {
      "text/html": [
       "<div>\n",
       "<style scoped>\n",
       "    .dataframe tbody tr th:only-of-type {\n",
       "        vertical-align: middle;\n",
       "    }\n",
       "\n",
       "    .dataframe tbody tr th {\n",
       "        vertical-align: top;\n",
       "    }\n",
       "\n",
       "    .dataframe thead th {\n",
       "        text-align: right;\n",
       "    }\n",
       "</style>\n",
       "<table border=\"1\" class=\"dataframe\">\n",
       "  <thead>\n",
       "    <tr style=\"text-align: right;\">\n",
       "      <th></th>\n",
       "      <th>score1</th>\n",
       "      <th>score2</th>\n",
       "      <th>score3</th>\n",
       "      <th>score4</th>\n",
       "      <th>score5</th>\n",
       "    </tr>\n",
       "  </thead>\n",
       "  <tbody>\n",
       "    <tr>\n",
       "      <th>0</th>\n",
       "      <td>-3.851208</td>\n",
       "      <td>-3.907814</td>\n",
       "      <td>-4.155246</td>\n",
       "      <td>-3.689786</td>\n",
       "      <td>-4.012917</td>\n",
       "    </tr>\n",
       "    <tr>\n",
       "      <th>1</th>\n",
       "      <td>-7.506383</td>\n",
       "      <td>-7.212189</td>\n",
       "      <td>-7.343259</td>\n",
       "      <td>-7.352507</td>\n",
       "      <td>-7.159189</td>\n",
       "    </tr>\n",
       "    <tr>\n",
       "      <th>2</th>\n",
       "      <td>-3.409267</td>\n",
       "      <td>-3.328151</td>\n",
       "      <td>-3.490535</td>\n",
       "      <td>-3.441860</td>\n",
       "      <td>-3.505854</td>\n",
       "    </tr>\n",
       "    <tr>\n",
       "      <th>3</th>\n",
       "      <td>-1.319919</td>\n",
       "      <td>-1.231184</td>\n",
       "      <td>-1.199677</td>\n",
       "      <td>-1.138558</td>\n",
       "      <td>-1.290675</td>\n",
       "    </tr>\n",
       "    <tr>\n",
       "      <th>4</th>\n",
       "      <td>1.993427</td>\n",
       "      <td>1.976223</td>\n",
       "      <td>2.009095</td>\n",
       "      <td>2.291322</td>\n",
       "      <td>2.179547</td>\n",
       "    </tr>\n",
       "  </tbody>\n",
       "</table>\n",
       "</div>"
      ],
      "text/plain": [
       "     score1    score2    score3    score4    score5\n",
       "0 -3.851208 -3.907814 -4.155246 -3.689786 -4.012917\n",
       "1 -7.506383 -7.212189 -7.343259 -7.352507 -7.159189\n",
       "2 -3.409267 -3.328151 -3.490535 -3.441860 -3.505854\n",
       "3 -1.319919 -1.231184 -1.199677 -1.138558 -1.290675\n",
       "4  1.993427  1.976223  2.009095  2.291322  2.179547"
      ]
     },
     "execution_count": 67,
     "metadata": {},
     "output_type": "execute_result"
    }
   ],
   "source": [
    "test_scores.head()"
   ]
  },
  {
   "cell_type": "code",
   "execution_count": 69,
   "id": "0530647e-1b06-410f-b1e0-2d4f7f7a15d7",
   "metadata": {},
   "outputs": [],
   "source": [
    "# test_scores.to_csv(f\"../experiments/20.lgbm_dart_6666_stratified/scores_df.csv\", index=False)"
   ]
  },
  {
   "cell_type": "code",
   "execution_count": 27,
   "id": "d0269cb7-043a-4ef5-8235-6cea6db05b29",
   "metadata": {},
   "outputs": [
    {
     "name": "stdout",
     "output_type": "stream",
     "text": [
      "Shape of data: (924621, 5)\n"
     ]
    }
   ],
   "source": [
    "t = read_file(f\"../held_/16.lgbm_dart_6666_new/scores_df.csv\").mean(axis=1)"
   ]
  },
  {
   "cell_type": "code",
   "execution_count": 41,
   "id": "db9d7cf5-ef4c-4415-93e3-83b2dc677f29",
   "metadata": {},
   "outputs": [],
   "source": [
    "# t = read_file(f\"../experiments/12.lgbm_dart_manual_split_42/scores_df.csv\").mean(axis=1)"
   ]
  },
  {
   "cell_type": "code",
   "execution_count": 28,
   "id": "3ecf0a59-e587-4762-988b-a24833e415ef",
   "metadata": {},
   "outputs": [
    {
     "name": "stdout",
     "output_type": "stream",
     "text": [
      "Shape of data: (924621, 1)\n"
     ]
    }
   ],
   "source": [
    "sub = read_file(f\"{SUBMISSION_DATA_PATH}/empty.csv\")\n",
    "sub[\"prediction\"] = t\n",
    "sub.to_csv(f\"{SUBMISSION_DATA_PATH}/single_5fold_old_seed6666_dart.csv\", index=False)"
   ]
  },
  {
   "cell_type": "code",
   "execution_count": null,
   "id": "44d1b9a7-7dc5-48a1-8ef1-00520024340a",
   "metadata": {},
   "outputs": [],
   "source": [
    "fi.loc[(fi[\"last\"] - fi[\"third_last\"]) < -15, [\"base_feature\", \"last\", \"second_last\", \"third_last\"]]"
   ]
  },
  {
   "cell_type": "code",
   "execution_count": null,
   "id": "36b5d8ed-bcdd-4016-9433-cc675c6a7bb0",
   "metadata": {},
   "outputs": [],
   "source": [
    "fi2.loc[(fi2[\"last\"] - fi2[\"first\"]) < -5, [\"base_feature\", \"last\", \"second_last\", \"third_last\", \"first\"]]"
   ]
  },
  {
   "cell_type": "code",
   "execution_count": null,
   "id": "35fc4304-b6ed-473d-97d8-e2dd9238ee65",
   "metadata": {},
   "outputs": [],
   "source": [
    "plot_heatmap(fi.corr(), annot=True, figsize=(19, 17), fmt=\".2f\")"
   ]
  },
  {
   "cell_type": "code",
   "execution_count": null,
   "id": "eaf0fe83-5f90-4b08-975a-ac0f33124154",
   "metadata": {},
   "outputs": [],
   "source": [
    "# %%time\n",
    "# lgbm_gbdt_shuffled = LGBM(\n",
    "#     exp_full_path=\"../experiments/lgbm_gbdt_shuffled_exp\"\n",
    "# )\n",
    "# gbdt_shuffled_master_feature_set = lgbm_gbdt_shuffled.master_feature_set"
   ]
  },
  {
   "cell_type": "code",
   "execution_count": null,
   "id": "3765b491-8efc-4389-8601-e869ecd1f221",
   "metadata": {},
   "outputs": [],
   "source": [
    "# master_feature_set = sorted(gbdt_master_feature_set.union(\n",
    "#     gbdt_shuffled_master_feature_set\n",
    "# ))\n",
    "# len(set(master_feature_set))"
   ]
  },
  {
   "cell_type": "markdown",
   "id": "6cb11f3c-186f-417d-b08c-d1ae4c0549a3",
   "metadata": {},
   "source": [
    "### Read Train Data (Error Analysis)"
   ]
  },
  {
   "cell_type": "code",
   "execution_count": null,
   "id": "cb4cf998-4f0a-4c69-a3ab-363d3f0b733b",
   "metadata": {
    "tags": []
   },
   "outputs": [],
   "source": [
    "labels = read_file(f\"{RAW_DATA_PATH}/train_labels.csv\")"
   ]
  },
  {
   "cell_type": "code",
   "execution_count": null,
   "id": "cff5c5b6-33a9-4e82-ae49-bc9a365fb6a0",
   "metadata": {},
   "outputs": [],
   "source": [
    "target = labels[\"target\"]"
   ]
  },
  {
   "cell_type": "code",
   "execution_count": null,
   "id": "04743b6d-36fb-4a33-bc4a-14156a47039e",
   "metadata": {},
   "outputs": [],
   "source": [
    "%%time\n",
    "raw_train = read_file(f\"{RAW_TRAIN_PICKLE_PATH}/raw_train_data.pkl\")"
   ]
  },
  {
   "cell_type": "code",
   "execution_count": null,
   "id": "c1c2fa94-e105-4851-9481-d045937aea3a",
   "metadata": {},
   "outputs": [],
   "source": []
  },
  {
   "cell_type": "code",
   "execution_count": null,
   "id": "112ddfab-a6d6-4832-bfb2-c6f0521b1d55",
   "metadata": {},
   "outputs": [],
   "source": [
    "%%time\n",
    "train_agg = train_agg.loc[:, list(gbdt_master_feature_set)]"
   ]
  },
  {
   "cell_type": "code",
   "execution_count": null,
   "id": "3ad331ec-f834-4c99-8400-bdec005a83ce",
   "metadata": {},
   "outputs": [],
   "source": [
    "%%time\n",
    "train_agg = lgbm_gbdt.inference_fold(train_agg, target)"
   ]
  },
  {
   "cell_type": "code",
   "execution_count": null,
   "id": "1bf89f25-fe86-4c7a-838a-6559c5248228",
   "metadata": {},
   "outputs": [],
   "source": [
    "train_agg.head()"
   ]
  },
  {
   "cell_type": "code",
   "execution_count": null,
   "id": "41cf581a-9ee0-4947-8b04-a6db5a6a1050",
   "metadata": {},
   "outputs": [],
   "source": [
    "%%time\n",
    "eval_df = get_final_metric_df(train_agg.iloc[:, :-1], target, train_agg[\"prediction\"])"
   ]
  },
  {
   "cell_type": "code",
   "execution_count": null,
   "id": "ac162a57-091c-4f94-beeb-81be5e7f3efc",
   "metadata": {},
   "outputs": [],
   "source": [
    "eval_df.loc[eval_df[\"is_cutoff\"] == 1, \"target\"].sum() / eval_df[\"target\"].sum()"
   ]
  },
  {
   "cell_type": "code",
   "execution_count": null,
   "id": "93e0a2c2-1dae-4ea1-81b5-c6887ad5b835",
   "metadata": {},
   "outputs": [],
   "source": [
    "%%time\n",
    "false_negative_indices = eval_df.loc[(eval_df[\"target\"] == 1) & (eval_df[\"is_cutoff\"] == 0)].index.tolist()\n",
    "false_positive_indices = eval_df.loc[(eval_df[\"target\"] == 0) & (eval_df[\"is_cutoff\"] == 1)].index.tolist()"
   ]
  },
  {
   "cell_type": "code",
   "execution_count": null,
   "id": "b6882d4d-c4d2-4cdf-b25b-d56fe5d80f7b",
   "metadata": {},
   "outputs": [],
   "source": [
    "len(false_negative_indices), len(false_positive_indices)"
   ]
  },
  {
   "cell_type": "code",
   "execution_count": null,
   "id": "bd948d88-e683-4f33-8e8f-d6724f1c7a42",
   "metadata": {},
   "outputs": [],
   "source": [
    "wrong_indices = eval_df.loc[false_negative_indices + false_positive_indices, :].index.tolist()"
   ]
  },
  {
   "cell_type": "code",
   "execution_count": null,
   "id": "04980f59-07c8-4448-b259-47e15adc7a3e",
   "metadata": {},
   "outputs": [],
   "source": [
    "len(wrong_indices)"
   ]
  },
  {
   "cell_type": "code",
   "execution_count": null,
   "id": "0e249418-a204-4e3a-a37d-59075d9b7eee",
   "metadata": {},
   "outputs": [],
   "source": [
    "%%time\n",
    "summary_count_df = raw_train.groupby(\"customer_ID\").count()\n",
    "summary_count_df = summary_count_df.reset_index()"
   ]
  },
  {
   "cell_type": "code",
   "execution_count": null,
   "id": "96df1751-514b-4dbe-bed2-ea0fe3313ba4",
   "metadata": {},
   "outputs": [],
   "source": [
    "for col in tqdm(summary_count_df.columns[4:]):\n",
    "    summary_count_df[col] = 1 - (summary_count_df[col] / summary_count_df[\"row_number\"])"
   ]
  },
  {
   "cell_type": "code",
   "execution_count": null,
   "id": "cfc7a4c5-a8c1-44d3-842a-17b58a0f8d84",
   "metadata": {},
   "outputs": [],
   "source": [
    "wrong_pred_missing_count_df = summary_count_df.loc[wrong_indices]\n",
    "wrong_pred_missing_count_df = wrong_pred_missing_count_df.sort_index()\n",
    "correct_pred_missing_count_df = summary_count_df.loc[~summary_count_df.index.isin(wrong_indices)]"
   ]
  },
  {
   "cell_type": "code",
   "execution_count": null,
   "id": "a20d23bf-7d02-4114-8e0a-9c4a16beff7a",
   "metadata": {},
   "outputs": [],
   "source": [
    "correct_mean_df = correct_pred_missing_count_df.iloc[:, 3:].mean()"
   ]
  },
  {
   "cell_type": "code",
   "execution_count": null,
   "id": "a20697c9-26cd-40c3-843a-823b3809de0c",
   "metadata": {},
   "outputs": [],
   "source": [
    "wrong_mean_df = wrong_pred_missing_count_df.iloc[:, 3:].mean()"
   ]
  },
  {
   "cell_type": "code",
   "execution_count": null,
   "id": "af620303-8616-49a5-9a2c-94e7341bb4c4",
   "metadata": {},
   "outputs": [],
   "source": [
    "((wrong_mean_df / correct_mean_df - 1).sort_values(ascending=False) > 0).sum()"
   ]
  },
  {
   "cell_type": "code",
   "execution_count": null,
   "id": "94432495-8e30-40c0-83da-477d30785d13",
   "metadata": {},
   "outputs": [],
   "source": [
    "((wrong_mean_df / correct_mean_df - 1).sort_values(ascending=False) < 0).sum()"
   ]
  },
  {
   "cell_type": "code",
   "execution_count": null,
   "id": "a7d3c320-b61c-4b53-adef-7b3a50e532f0",
   "metadata": {},
   "outputs": [],
   "source": [
    "(wrong_mean_df / (correct_mean_df + wrong_mean_df)).sort_values(ascending=False).to_csv(\n",
    "    f\"{EXP_PATH}/percent_of_missing_from_wrong.csv\"\n",
    ")"
   ]
  },
  {
   "cell_type": "code",
   "execution_count": null,
   "id": "d8825083-634c-4e9f-8f7a-03b950f92c44",
   "metadata": {},
   "outputs": [],
   "source": [
    "wrong_mean_df[\"D_124\"], correct_mean_df[\"D_124\"]"
   ]
  },
  {
   "cell_type": "code",
   "execution_count": null,
   "id": "590a4b2e-c0fa-46cd-8e6f-aa0478eb77c8",
   "metadata": {},
   "outputs": [],
   "source": []
  },
  {
   "cell_type": "code",
   "execution_count": null,
   "id": "ba210779-d7ed-4b42-8fee-2be1d50122a2",
   "metadata": {},
   "outputs": [],
   "source": [
    "train_, test_ = train_test_split(score_df, test_size=0.2, random_state=1020)"
   ]
  },
  {
   "cell_type": "code",
   "execution_count": null,
   "id": "f8502131-edf9-4217-98d6-375f93124cde",
   "metadata": {},
   "outputs": [],
   "source": [
    "from sklearn.linear_model import LogisticRegression"
   ]
  },
  {
   "cell_type": "code",
   "execution_count": null,
   "id": "c83417ee-1f2f-4af8-ba25-2759d309a43c",
   "metadata": {},
   "outputs": [],
   "source": [
    "logreg = LogisticRegression()\n",
    "logreg.fit(train_.drop(columns=\"target\"), train_[\"target\"])"
   ]
  },
  {
   "cell_type": "code",
   "execution_count": null,
   "id": "9ba6175f-1b0d-48e8-8644-3d2272788e15",
   "metadata": {},
   "outputs": [],
   "source": [
    "y_pred = logreg.predict_proba(test_.drop(columns=\"target\"))[:, 1]"
   ]
  },
  {
   "cell_type": "code",
   "execution_count": null,
   "id": "1a7fcfaf-c7c6-4fe4-8941-f4cc2f3f4c22",
   "metadata": {},
   "outputs": [],
   "source": [
    "y_true = test_[\"target\"].values"
   ]
  },
  {
   "cell_type": "code",
   "execution_count": null,
   "id": "3a89791c-102c-4e57-b984-1c02fb0e914d",
   "metadata": {},
   "outputs": [],
   "source": [
    "amex_metric(y_true, y_pred)"
   ]
  },
  {
   "cell_type": "code",
   "execution_count": null,
   "id": "82db531f-122f-48b3-a520-8bf38996edc7",
   "metadata": {},
   "outputs": [],
   "source": [
    "# del train_agg"
   ]
  },
  {
   "cell_type": "code",
   "execution_count": null,
   "id": "3e0a8c6e-4245-4038-b542-c4ecaddf2e32",
   "metadata": {},
   "outputs": [],
   "source": [
    "# lgbm_gbdt.run_validation_check(data=train_agg, labels=labels[\"target\"].values)"
   ]
  },
  {
   "cell_type": "code",
   "execution_count": null,
   "id": "e42ac55c-4718-46e7-82d0-58aeee605f6f",
   "metadata": {},
   "outputs": [],
   "source": [
    "lgbm_gbdt.val_metrics"
   ]
  },
  {
   "cell_type": "code",
   "execution_count": null,
   "id": "573631d5-6b54-457e-a3b6-9f2a8bc5d515",
   "metadata": {},
   "outputs": [],
   "source": [
    "# train_agg = lgbm_dart.run_validation_check(data=train_agg)"
   ]
  },
  {
   "cell_type": "code",
   "execution_count": null,
   "id": "a407f9b3-c3de-489c-badc-42bcc05cfe01",
   "metadata": {},
   "outputs": [],
   "source": [
    "# lgbm_dart.val_metrics"
   ]
  },
  {
   "cell_type": "markdown",
   "id": "375beb09-ce5b-40d8-b9d7-f8ecca4ccdeb",
   "metadata": {},
   "source": [
    "### Error Analysis"
   ]
  },
  {
   "cell_type": "code",
   "execution_count": null,
   "id": "57e3d22c-7e3e-495e-a7d8-bc3f8f974b66",
   "metadata": {},
   "outputs": [],
   "source": [
    "train_agg.loc[train_agg[\"target\"] == 0, \"prediction\"].describe()"
   ]
  },
  {
   "cell_type": "code",
   "execution_count": null,
   "id": "515b0fa0-4d57-458e-b579-77df433a01e0",
   "metadata": {},
   "outputs": [],
   "source": [
    "train_agg.loc[train_agg[\"target\"] == 1, \"prediction\"].describe()"
   ]
  },
  {
   "cell_type": "markdown",
   "id": "f12433fb-74c9-43da-8a25-d569e1956e1d",
   "metadata": {},
   "source": [
    "### High Pred Score Analysis"
   ]
  },
  {
   "cell_type": "code",
   "execution_count": null,
   "id": "4f017c4d-2723-4b28-bbd2-2a0c79375819",
   "metadata": {},
   "outputs": [],
   "source": [
    "success_pos_df = train_agg.loc[\n",
    "    (train_agg[\"target\"] == 1) & (train_agg[\"is_cutoff\"] == 1)\n",
    "]"
   ]
  },
  {
   "cell_type": "code",
   "execution_count": null,
   "id": "3c0ccce5-f819-4108-90a4-c0d6faccf96c",
   "metadata": {},
   "outputs": [],
   "source": [
    "fail_neg_df = train_agg.loc[\n",
    "    (train_agg[\"target\"] == 0) & (train_agg[\"is_cutoff\"] == 1)\n",
    "]"
   ]
  },
  {
   "cell_type": "markdown",
   "id": "35c961bc-00e4-432d-af6b-400943ed89e6",
   "metadata": {},
   "source": [
    "### Low Pred Score Analysis"
   ]
  },
  {
   "cell_type": "code",
   "execution_count": null,
   "id": "14a7d161-2a42-489e-bca0-bf47bc2e9b99",
   "metadata": {},
   "outputs": [],
   "source": [
    "success_neg_df = train_agg.loc[\n",
    "    (train_agg[\"target\"] == 0) & (train_agg[\"is_cutoff\"] == 0)\n",
    "]"
   ]
  },
  {
   "cell_type": "code",
   "execution_count": null,
   "id": "ecaf67ba-a2b1-442f-aafa-1ba8014daa7b",
   "metadata": {},
   "outputs": [],
   "source": [
    "fail_pos_df = train_agg.loc[\n",
    "    (train_agg[\"target\"] == 1) & (train_agg[\"is_cutoff\"] == 0)\n",
    "]"
   ]
  },
  {
   "cell_type": "code",
   "execution_count": null,
   "id": "4208979a-72cb-4dbb-b4fd-0b796c0fdcb6",
   "metadata": {},
   "outputs": [],
   "source": [
    "success_neg_df[\"num_statements\"].describe()"
   ]
  },
  {
   "cell_type": "code",
   "execution_count": null,
   "id": "270c13a4-76c2-444f-a3e4-9ccc9b3bfd60",
   "metadata": {},
   "outputs": [],
   "source": [
    "fail_pos_df[\"num_statements\"].describe()"
   ]
  },
  {
   "cell_type": "code",
   "execution_count": null,
   "id": "81410f6e-bbd9-4dd9-8458-de28f1b74fa6",
   "metadata": {},
   "outputs": [],
   "source": [
    "base_feature = \"P_2\""
   ]
  },
  {
   "cell_type": "code",
   "execution_count": null,
   "id": "949185e4-f859-49a4-a910-dcc5dff7096b",
   "metadata": {},
   "outputs": [],
   "source": [
    "# for col in get_cols(success_neg_df, base_feature):\n",
    "#     my_dict = {\n",
    "#         'True Negative': success_neg_df[col].dropna().values, \n",
    "#         'False Negative': fail_pos_df[col].dropna().values,\n",
    "#         'True Positive': success_pos_df[col].dropna().values, \n",
    "#     }\n",
    "#     fig, ax = plt.subplots(figsize=(15, 12))\n",
    "#     ax.boxplot(my_dict.values())\n",
    "#     ax.set_xticklabels(my_dict.keys())\n",
    "#     plt.title(f\"{col}\")\n",
    "#     plt.show()"
   ]
  },
  {
   "cell_type": "code",
   "execution_count": null,
   "id": "6c2db617-d9f8-40fb-b31b-bd76f6b5ccc8",
   "metadata": {},
   "outputs": [],
   "source": [
    "# success_pos_df.to_pickle(f\"{EXP_PATH}/lgbm_gbdt_exp3/success_positive.pkl\")\n",
    "# fail_pos_df.to_pickle(f\"{EXP_PATH}/lgbm_gbdt_exp3/failed_positive.pkl\")\n",
    "# success_neg_df.to_pickle(f\"{EXP_PATH}/lgbm_gbdt_exp3/success_negative.pkl\")\n",
    "# fail_neg_df.to_pickle(f\"{EXP_PATH}/lgbm_gbdt_exp3/failed_negative.pkl\")"
   ]
  },
  {
   "cell_type": "markdown",
   "id": "3e1f7535-873d-4ceb-87c4-04027c4caca2",
   "metadata": {},
   "source": [
    "### Read Test Data"
   ]
  },
  {
   "cell_type": "code",
   "execution_count": null,
   "id": "5d55a4e7-09ee-4621-a904-19e16b3d0aff",
   "metadata": {},
   "outputs": [],
   "source": [
    "%%time\n",
    "if 'train_agg' in locals():\n",
    "    del train_agg\n",
    "# test_agg = read_file(f\"{PROCESSED_DATA_PATH}/test_agg_complete2.pkl\")\n",
    "test_agg = read_file(f\"{PROCESSED_DATA_PATH}/test_agg.pkl\")\n",
    "gc.collect()"
   ]
  },
  {
   "cell_type": "code",
   "execution_count": null,
   "id": "0bd8a49a-8118-4588-b37d-81d4db0d6094",
   "metadata": {},
   "outputs": [],
   "source": [
    "%%time\n",
    "test_agg = test_agg.loc[:, list(gbdt_master_feature_set)]\n",
    "test_agg.shape"
   ]
  },
  {
   "cell_type": "code",
   "execution_count": null,
   "id": "7d9f929e-8efc-43d1-8c6e-6fbf0c1d70cf",
   "metadata": {},
   "outputs": [],
   "source": [
    "# lgbm_gbdt.feature_imp_df.iloc[30:60]"
   ]
  },
  {
   "cell_type": "code",
   "execution_count": null,
   "id": "b49f3015-7c60-496e-9efa-10b2c2151ae6",
   "metadata": {},
   "outputs": [],
   "source": [
    "%%time\n",
    "scores_list = []\n",
    "batch_size = 5000\n",
    "for j, model in enumerate(lgbm_gbdt.models.values()):\n",
    "    score_list = []\n",
    "    print(f\"Model {j + 1}\")\n",
    "    for i in tqdm(range(int(test_agg.shape[0] / batch_size) + 1)):\n",
    "        score_list.append(model.predict(\n",
    "            test_agg.loc[int(i*batch_size): int((i+1)*batch_size) - 1, model.feature_name()], \n",
    "            raw_score=True\n",
    "        ))\n",
    "    scores_list.append(np.concatenate(score_list))"
   ]
  },
  {
   "cell_type": "code",
   "execution_count": null,
   "id": "e9f37b4e-bc50-4c2f-9b79-247c74d0b7ae",
   "metadata": {},
   "outputs": [],
   "source": [
    "with open(f\"{lgbm_gbdt.path}/best_scores.json\", \"r+\") as outfile:\n",
    "    best_scores_json = json.load(outfile)\n",
    "np.mean(list(best_scores_json[\"validation\"].values()))"
   ]
  },
  {
   "cell_type": "code",
   "execution_count": null,
   "id": "7bbac3a5-c79c-49c8-a316-9a85c9d24328",
   "metadata": {},
   "outputs": [],
   "source": [
    "# from sklearn.preprocessing import MinMaxScaler\n",
    "\n",
    "# score_df = pd.DataFrame(np.array(scores_list).T, columns=range(1, 6))\n",
    "# minmax_scaler = MinMaxScaler()\n",
    "# score_df = pd.DataFrame(minmax_scaler.fit_transform(score_df), columns=range(1, 6))\n",
    "# score_df.describe()\n",
    "# test_agg[\"prediction\"] = np.mean(score_df, axis=1) "
   ]
  },
  {
   "cell_type": "code",
   "execution_count": null,
   "id": "0361d49e-d9c4-4f00-86cf-319037f5f25d",
   "metadata": {},
   "outputs": [],
   "source": [
    "test_agg[\"prediction\"] = np.mean(scores_list, axis=0)"
   ]
  },
  {
   "cell_type": "code",
   "execution_count": null,
   "id": "6ff2e7de-4007-4b0d-9c04-e96d7120de95",
   "metadata": {},
   "outputs": [],
   "source": [
    "# test_score_df.applymap(sigmoid).mean(axis=1).values # "
   ]
  },
  {
   "cell_type": "code",
   "execution_count": null,
   "id": "6f73bfa7-ddf0-4efa-a03f-8388a5d060a4",
   "metadata": {},
   "outputs": [],
   "source": [
    "test_score_df = pd.DataFrame(np.array(scores_list).T, columns=[f\"score{i}\" for i in range(1, 6)])"
   ]
  },
  {
   "cell_type": "code",
   "execution_count": null,
   "id": "209c18d5-5f88-442f-b05a-00c398c9b0ae",
   "metadata": {},
   "outputs": [],
   "source": [
    "submission = pd.read_csv(f\"{SUBMISSION_DATA_PATH}/submission25_0.799.csv\")\n",
    "# submission[\"prediction\"] = test_agg[\"prediction\"].values\n",
    "submission[\"prediction\"] = test_score_df.applymap(sigmoid).mean(axis=1)\n",
    "submission.to_csv(f\"{SUBMISSION_DATA_PATH}/submission6_0.797055_sigmoid_avg.csv\", index=False)"
   ]
  },
  {
   "cell_type": "code",
   "execution_count": null,
   "id": "8513437b-d048-4a91-be9f-149b0211dc23",
   "metadata": {},
   "outputs": [],
   "source": [
    "# test_agg = lgbm_dart.get_test_prediction(test_agg)"
   ]
  },
  {
   "cell_type": "code",
   "execution_count": null,
   "id": "a8e7c4fa-0623-4f96-aaa1-833846c625d1",
   "metadata": {},
   "outputs": [],
   "source": [
    "# submission[\"prediction\"].apply(sigmoid)"
   ]
  },
  {
   "cell_type": "code",
   "execution_count": null,
   "id": "8431195e-d3b2-439f-8d00-53bd8076a448",
   "metadata": {},
   "outputs": [],
   "source": [
    "test_score_df"
   ]
  },
  {
   "cell_type": "markdown",
   "id": "018d9b8a-ae17-48ed-82d6-6db752063d20",
   "metadata": {},
   "source": [
    "#### Take the average of all CV models' predictions"
   ]
  },
  {
   "cell_type": "code",
   "execution_count": null,
   "id": "24c1ff3b-6ec1-49c5-9f96-a069367459b3",
   "metadata": {},
   "outputs": [],
   "source": [
    "# np.mean(scores_list, axis=0)"
   ]
  },
  {
   "cell_type": "code",
   "execution_count": null,
   "id": "fede6664-146a-4483-bad1-10736bb33216",
   "metadata": {},
   "outputs": [],
   "source": [
    "test_agg[\"prediction\"] = np.mean(scores_list, axis=0)"
   ]
  },
  {
   "cell_type": "code",
   "execution_count": null,
   "id": "c062c199-e89d-4470-98db-68f1962c4951",
   "metadata": {},
   "outputs": [],
   "source": [
    "def get_metric_columns(df):\n",
    "    df = df.sort_values(by=\"prediction\", ascending=False)\n",
    "    df['weight'] = df['target'].apply(lambda x: 20 if x==0 else 1)\n",
    "    four_pct_cutoff = int(0.04 * df['weight'].sum())\n",
    "    df['weight_cumsum'] = df['weight'].cumsum()\n",
    "    df[\"is_cutoff\"] = 0\n",
    "    df.loc[df['weight_cumsum'] <= four_pct_cutoff, \"is_cutoff\"] = 1\n",
    "    df = df.reset_index()\n",
    "    \n",
    "    df['random'] = (df['weight'] / df['weight'].sum()).cumsum()\n",
    "    total_pos = (df['target'] * df['weight']).sum()\n",
    "    df['cum_pos_found'] = (df['target'] * df['weight']).cumsum()\n",
    "    df['lorentz'] = df['cum_pos_found'] / total_pos\n",
    "    df['gini'] = (df['lorentz'] - df['random']) * df['weight']\n",
    "    return df"
   ]
  },
  {
   "cell_type": "code",
   "execution_count": null,
   "id": "b119f044-4296-491b-a149-9fe24570ef06",
   "metadata": {},
   "outputs": [],
   "source": [
    "test_agg[\"prediction\"].describe()"
   ]
  },
  {
   "cell_type": "code",
   "execution_count": null,
   "id": "3946469f-3885-4c24-9bca-aa43423bb02c",
   "metadata": {},
   "outputs": [],
   "source": [
    "del scores_list"
   ]
  },
  {
   "cell_type": "code",
   "execution_count": null,
   "id": "fff552d1-a74f-40c1-ba17-2cbc222f1816",
   "metadata": {},
   "outputs": [],
   "source": [
    "test_agg.loc[(test_agg[\"P_2_last\"] < 0.4) & (test_agg[\"prediction\"] < 0), \"prediction\"] += 4"
   ]
  },
  {
   "cell_type": "markdown",
   "id": "b0fa6134-a8ca-4c6e-833f-7698f1e5e6e6",
   "metadata": {},
   "source": [
    "#### Take a look on CV score"
   ]
  },
  {
   "cell_type": "code",
   "execution_count": null,
   "id": "2165113a-0476-407a-81a5-58ddae06b3ef",
   "metadata": {},
   "outputs": [],
   "source": [
    "with open(f\"{EXP_FULL_PATH}/best_scores.json\", \"r+\") as outfile:\n",
    "    best_scores = json.load(outfile)\n",
    "np.mean(list(best_scores[\"validation\"].values()))"
   ]
  },
  {
   "cell_type": "markdown",
   "id": "dc950968-ecbd-4377-a3f7-357fd969da24",
   "metadata": {},
   "source": [
    "### Manual Adjustment"
   ]
  },
  {
   "cell_type": "code",
   "execution_count": null,
   "id": "b9499da2-208e-4144-b1f6-5e67587ec7ce",
   "metadata": {},
   "outputs": [],
   "source": [
    "test_agg[\"P_2_last\"].describe()"
   ]
  },
  {
   "cell_type": "markdown",
   "id": "3350d3b4-bc32-43f6-b9be-d3003633913d",
   "metadata": {},
   "source": [
    "#### Prepare the submission csv, then export out new submission file"
   ]
  },
  {
   "cell_type": "code",
   "execution_count": null,
   "id": "6e87ff55-8489-4d9a-82c2-af0aecea37f7",
   "metadata": {},
   "outputs": [],
   "source": [
    "submission = pd.read_csv(f\"{SUBMISSION_DATA_PATH}/submission25_0.799.csv\")\n",
    "submission[\"prediction\"] = test_agg[\"prediction\"].values\n",
    "submission.to_csv(f\"{SUBMISSION_DATA_PATH}/submission__.csv\", index=False)"
   ]
  },
  {
   "cell_type": "code",
   "execution_count": null,
   "id": "9bef3018-5d59-4f59-b7b7-782dbf513d94",
   "metadata": {},
   "outputs": [],
   "source": []
  },
  {
   "cell_type": "markdown",
   "id": "eb989e3c-ce64-4b9c-9c41-6d83c2db9bea",
   "metadata": {},
   "source": [
    "### Analyze Feature Importance"
   ]
  },
  {
   "cell_type": "markdown",
   "id": "5336febc-9630-42cd-be3f-1222b3b88fb0",
   "metadata": {},
   "source": [
    "#### Read old feature importance summary df"
   ]
  },
  {
   "cell_type": "code",
   "execution_count": null,
   "id": "5a909b10-be65-43f3-8e05-410b72fb965e",
   "metadata": {},
   "outputs": [],
   "source": [
    "old_feature_imp_df = pd.read_csv(f\"{EXP_FULL_PATH}/feature_imp_summary.csv\")"
   ]
  },
  {
   "cell_type": "markdown",
   "id": "d7a55e15-f79b-4994-96bd-47dff1b7162e",
   "metadata": {},
   "source": [
    "#### Construct new feature importance summary df"
   ]
  },
  {
   "cell_type": "code",
   "execution_count": null,
   "id": "7431b46b-ceec-4625-a07a-5eb81eede1c4",
   "metadata": {},
   "outputs": [],
   "source": [
    "feature_imp_df.loc[feature_imp_df[\"agg_type\"] == \"\"]"
   ]
  },
  {
   "cell_type": "code",
   "execution_count": null,
   "id": "4a563068-a5cd-404e-b71d-e4ad2b1871d7",
   "metadata": {},
   "outputs": [],
   "source": [
    "corr_df = pd.read_csv(f\"{PROCESSED_DATA_PATH}/raw_column_correlation/train_corr_df.csv\")\n",
    "base_features = corr_df.columns.tolist()"
   ]
  },
  {
   "cell_type": "code",
   "execution_count": null,
   "id": "e4f8e786-a2b5-4a8d-a986-1c63d7352de0",
   "metadata": {},
   "outputs": [],
   "source": [
    "old_feature_imp_df"
   ]
  },
  {
   "cell_type": "code",
   "execution_count": null,
   "id": "6a0dbfef-4adb-4df2-a4a4-e7affcb36e9f",
   "metadata": {},
   "outputs": [],
   "source": [
    "new_feature_imp_df.to_csv(f\"{PROCESSED_DATA_PATH}/feature_imp_summary.csv\", index=False)"
   ]
  },
  {
   "cell_type": "code",
   "execution_count": null,
   "id": "a2745301-14b7-45bf-9a56-ea0dbee01664",
   "metadata": {},
   "outputs": [],
   "source": [
    "# validation_indices = joblib.load(f'{EXP_FULL_PATH}/5_fold_val_indices.pkl')"
   ]
  },
  {
   "cell_type": "markdown",
   "id": "bf6ab93b-25ab-4c55-9242-dfc178b13e5d",
   "metadata": {},
   "source": [
    "## Feature Importance"
   ]
  },
  {
   "cell_type": "code",
   "execution_count": null,
   "id": "1a355a05-5cd8-4ff8-9b50-939cb57a547a",
   "metadata": {},
   "outputs": [],
   "source": [
    "# fi_master = read_file(f\"{EXP_PATH}/feature_imp_general_summary.csv\")"
   ]
  },
  {
   "cell_type": "code",
   "execution_count": null,
   "id": "3637f66d-9813-40ec-a34f-1e40cc94e230",
   "metadata": {},
   "outputs": [],
   "source": [
    "fi_gbdt = lgbm_gbdt2.feature_imp_summary"
   ]
  },
  {
   "cell_type": "code",
   "execution_count": null,
   "id": "5a9ed41d-29fd-4049-8a31-a0ef5e80eb57",
   "metadata": {},
   "outputs": [],
   "source": [
    "# fi_gbdt.to_csv(f\"{EXP_PATH}/feature_imp_summary5.csv\", index=False)"
   ]
  },
  {
   "cell_type": "code",
   "execution_count": null,
   "id": "3c3a3276-4621-4bd6-b86f-495b1bf28052",
   "metadata": {},
   "outputs": [],
   "source": [
    "fi_dart = lgbm_dart.feature_imp_df"
   ]
  },
  {
   "cell_type": "code",
   "execution_count": null,
   "id": "3c97da81-968b-4ccd-b8d4-02ebbf17cdf7",
   "metadata": {},
   "outputs": [],
   "source": [
    "lgbm_gbdt.feature_imp_summary.to_csv(f\"{EXP_PATH}/feature_imp_summary3.csv\", index=False)"
   ]
  },
  {
   "cell_type": "code",
   "execution_count": null,
   "id": "705069ea-f55c-474a-aa79-3707bdc30de1",
   "metadata": {},
   "outputs": [],
   "source": [
    "lgbm_gbdt_shuffled.feature_imp_df.groupby(\"agg_type\")[\"average_importance\"].sum().sort_values().iloc[-30:]"
   ]
  },
  {
   "cell_type": "code",
   "execution_count": null,
   "id": "5e268f6c-69cc-4bae-a9d7-701cb2db756b",
   "metadata": {},
   "outputs": [],
   "source": [
    "set(fi_gbdt[\"base_feature\"]) - set(fi_dart[\"base_feature\"])"
   ]
  },
  {
   "cell_type": "code",
   "execution_count": null,
   "id": "36bc8ec2-1491-4239-b57c-94bdba16233a",
   "metadata": {},
   "outputs": [],
   "source": [
    "set(fi_dart[\"base_feature\"]) - set(fi_gbdt[\"base_feature\"])"
   ]
  },
  {
   "cell_type": "code",
   "execution_count": null,
   "id": "08c19ab3-7fbb-494b-87ca-319d37208518",
   "metadata": {},
   "outputs": [],
   "source": [
    "# lgbm_dart.feature_imp_df"
   ]
  },
  {
   "cell_type": "code",
   "execution_count": null,
   "id": "e5189e1d-b8a9-4d0f-b11c-b3a97b71be99",
   "metadata": {},
   "outputs": [],
   "source": [
    "imp_df = lgbm_gbdt.feature_imp_df.copy()\n",
    "imp_summary = lgbm_gbdt.feature_imp_summary.copy()"
   ]
  },
  {
   "cell_type": "code",
   "execution_count": null,
   "id": "d7844160-b8e6-434f-bf10-259b9a1053c3",
   "metadata": {},
   "outputs": [],
   "source": [
    "half_max_imp_df = imp_df.loc[imp_df[\"average_importance\"] > 0.5*imp_df[\"average_importance\"].max()]"
   ]
  },
  {
   "cell_type": "code",
   "execution_count": null,
   "id": "8c698841-e5c0-494f-8d74-128afb3a5611",
   "metadata": {},
   "outputs": [],
   "source": [
    "top_base_features = imp_summary.loc[imp_summary[\"base_feature\"].isin(half_max_imp_df[\"base_feature\"].tolist())]"
   ]
  },
  {
   "cell_type": "code",
   "execution_count": null,
   "id": "1f61589d-b14a-40a2-b5c2-65a5be5bfa85",
   "metadata": {},
   "outputs": [],
   "source": [
    "plot_heatmap(top_base_features.set_index(\"base_feature\"), annot=True, figsize=(18, 18), fmt=\".1f\")"
   ]
  },
  {
   "cell_type": "code",
   "execution_count": null,
   "id": "3a40baa3-76dc-4844-baa9-731d34963dc3",
   "metadata": {},
   "outputs": [],
   "source": [
    "lgbm_gbdt.feature_imp_summary.to_csv(f\"{EXP_PATH}/feature_imp_summary3.csv\", index=False)"
   ]
  },
  {
   "cell_type": "code",
   "execution_count": null,
   "id": "74fd9eee-3e8d-46c6-a26e-a84f0f38c795",
   "metadata": {},
   "outputs": [],
   "source": [
    "noob_features_df = feature_imp_df[\"average_importance\"].nsmallest(int(feature_imp_df.shape[0] * 0.04))\n",
    "noob_features = noob_features_df.index.tolist()"
   ]
  },
  {
   "cell_type": "code",
   "execution_count": null,
   "id": "d0882dfb-428c-405d-aca8-c43d1f6e52e1",
   "metadata": {},
   "outputs": [],
   "source": [
    "top_features_df = feature_imp_df[\"average_importance\"].nlargest(int(feature_imp_df.shape[0] * 0.9))\n",
    "top_features = top_features_df.index.tolist()"
   ]
  },
  {
   "cell_type": "code",
   "execution_count": null,
   "id": "1a0530d2-811a-48a0-a799-665f6daa4213",
   "metadata": {},
   "outputs": [],
   "source": [
    "pd.Series([f.split(\"_\")[-1] for f in top_features]).value_counts()"
   ]
  },
  {
   "cell_type": "code",
   "execution_count": null,
   "id": "2632739b-8fe2-411e-9326-6bca48968fa3",
   "metadata": {},
   "outputs": [],
   "source": [
    "pd.Series(top_features, name=\"feature\").to_csv(\"top_features.csv\", index=False)"
   ]
  },
  {
   "cell_type": "code",
   "execution_count": null,
   "id": "602bd897-d694-4954-8095-0d69e5ad0ceb",
   "metadata": {},
   "outputs": [],
   "source": [
    "# used_features = set(feature_imp_df.index.tolist())"
   ]
  },
  {
   "cell_type": "code",
   "execution_count": null,
   "id": "9ebba153-ab68-44ce-b05c-87e6bfd347e5",
   "metadata": {},
   "outputs": [],
   "source": [
    "mean_features = pad_column_name(MEAN_FEATURES, suffix=\"_avg\")\n",
    "min_features = pad_column_name(MIN_FEATURES, suffix=\"_min\")\n",
    "max_features = pad_column_name(MAX_FEATURES, suffix=\"_max\")\n",
    "last_features = pad_column_name(LAST_FEATURES, suffix=\"_last\")\n",
    "first_features = pad_column_name(FIRST_FEATURES, suffix=\"_first\")"
   ]
  },
  {
   "cell_type": "code",
   "execution_count": null,
   "id": "f02e5b90-8f6d-4174-9b06-76b80ddbf1f9",
   "metadata": {},
   "outputs": [],
   "source": [
    "range_features = pad_column_name(RANGE_FEATURES, suffix=\"_range\")\n",
    "velocity_features = pad_column_name(VELOCITY_FEATURES, suffix=\"_velocity\")\n",
    "speed_features = pad_column_name(SPEED_FEATURES, suffix=\"_speed\")"
   ]
  },
  {
   "cell_type": "code",
   "execution_count": null,
   "id": "339897ee-bc82-43c8-aac1-412dd262706b",
   "metadata": {},
   "outputs": [],
   "source": [
    "all_features = (\n",
    "    mean_features + min_features + max_features + last_features + first_features\n",
    "    + range_features + velocity_features + speed_features\n",
    ")"
   ]
  },
  {
   "cell_type": "code",
   "execution_count": null,
   "id": "5a94a8cd-95a3-4c5c-aa89-6dd5b0d78bfa",
   "metadata": {},
   "outputs": [],
   "source": [
    "len(all_features)"
   ]
  },
  {
   "cell_type": "code",
   "execution_count": null,
   "id": "8d7b86a0-f80b-497a-b608-f4aa6ec6fba7",
   "metadata": {},
   "outputs": [],
   "source": [
    "set(top_features) - set(all_features)"
   ]
  },
  {
   "cell_type": "code",
   "execution_count": null,
   "id": "5d8a5d06-7aa5-426e-a055-985e784cda20",
   "metadata": {},
   "outputs": [],
   "source": []
  },
  {
   "cell_type": "code",
   "execution_count": null,
   "id": "94e81baa-08f3-4718-9b0c-852c43d079cd",
   "metadata": {},
   "outputs": [],
   "source": [
    "top_features"
   ]
  },
  {
   "cell_type": "code",
   "execution_count": null,
   "id": "8eda9cc5-cfa8-42f5-96b5-7047ff7ec099",
   "metadata": {},
   "outputs": [],
   "source": [
    "feature_imp_df = feature_imp_df.loc[feature_imp_df[\"average_importance\"] > 0]\n",
    "feature_imp_subset = feature_imp_df.loc[feature_imp_df[\"average_importance\"] > 200].reset_index()"
   ]
  },
  {
   "cell_type": "code",
   "execution_count": null,
   "id": "74dfc558-6548-406e-9d8f-d2637a6ff2ac",
   "metadata": {},
   "outputs": [],
   "source": [
    "# feature_imp_subset.loc[feature_imp_subset[\"feature\"].str.contains(\"last\")].sort_values(\"feature\")"
   ]
  },
  {
   "cell_type": "code",
   "execution_count": null,
   "id": "20e3c612-be92-40d2-aa71-f9d8287b63c7",
   "metadata": {},
   "outputs": [],
   "source": [
    "t = feature_imp_subset.copy()"
   ]
  },
  {
   "cell_type": "code",
   "execution_count": null,
   "id": "f9b944ef-8ae2-4ab6-be98-ab63a7958a5a",
   "metadata": {},
   "outputs": [],
   "source": [
    "t.loc[t[\"feature\"] == \"D_128_first\"]"
   ]
  },
  {
   "cell_type": "code",
   "execution_count": null,
   "id": "814a06c2-d860-4e4b-a16a-7214db73c6ba",
   "metadata": {},
   "outputs": [],
   "source": [
    "# feature_imp_df.index.tolist()"
   ]
  },
  {
   "cell_type": "code",
   "execution_count": null,
   "id": "5c5235a0-ce8b-4749-b271-0b838402e880",
   "metadata": {},
   "outputs": [],
   "source": [
    "feature_list = feature_imp_df.index.tolist()\n",
    "len(feature_list)"
   ]
  },
  {
   "cell_type": "code",
   "execution_count": null,
   "id": "98a4b8da-5ae8-46b5-8a80-72d71e1701bf",
   "metadata": {},
   "outputs": [],
   "source": []
  },
  {
   "cell_type": "code",
   "execution_count": null,
   "id": "159b041e-77e2-4213-b55e-f5769eb12c9d",
   "metadata": {},
   "outputs": [],
   "source": [
    "original_score"
   ]
  },
  {
   "cell_type": "code",
   "execution_count": null,
   "id": "748e0a3f-7b9a-4240-b41b-15815086cea3",
   "metadata": {},
   "outputs": [],
   "source": []
  },
  {
   "cell_type": "code",
   "execution_count": null,
   "id": "7b47ab69-3907-407c-8d28-cbf8b23a6714",
   "metadata": {},
   "outputs": [],
   "source": [
    "simulated_score_list = []\n",
    "for feature in feature_list[::-1]:\n",
    "    temp_train_val = train_val.copy()\n",
    "    temp_train_val[feature] = np.nan\n",
    "    for i, indices in enumerate(validation_indices):\n",
    "        temp_model = models[i]\n",
    "        temp_val = temp_train_val.loc[indices, temp_model.feature_name_]\n",
    "        temp_train_val.loc[indices, \"score\"] = temp_model.predict_proba(temp_val, raw_score=True)\n",
    "    simulated_score = amex_metric(temp_train_val[\"target\"], temp_train_val[\"score\"])\n",
    "    simulated_score_list.append(simulated_score)\n",
    "    if simulated_score >= original_score:\n",
    "        sign = \"+\"\n",
    "    else:\n",
    "        sign = \"\"\n",
    "    if abs(simulated_score - original_score) >= 1e-4:\n",
    "        print(feature, f\" {sign}{(simulated_score - original_score):.4f}\")\n",
    "    print(f\"{feature} done\")\n",
    "    del temp_train_val\n",
    "    gc.collect()"
   ]
  },
  {
   "cell_type": "code",
   "execution_count": null,
   "id": "aca2cb08-51d6-42f3-9ee1-cda1606e83dc",
   "metadata": {},
   "outputs": [],
   "source": [
    "test = read_file(f\"{RAW_TEST_PICKLE_PATH}/test_data.pkl\")"
   ]
  },
  {
   "cell_type": "code",
   "execution_count": null,
   "id": "b2e53cce-feee-41ae-a8d0-1c2007febbab",
   "metadata": {},
   "outputs": [],
   "source": [
    "test.loc[test[\"row_number\"] > 12]"
   ]
  },
  {
   "cell_type": "code",
   "execution_count": null,
   "id": "da150098-cada-48c8-9fc4-ccbfe0857abc",
   "metadata": {},
   "outputs": [],
   "source": [
    "test_agg = process_test_data(test)"
   ]
  },
  {
   "cell_type": "code",
   "execution_count": null,
   "id": "47c7cf21-36b7-4607-a9e9-748bacd23de4",
   "metadata": {},
   "outputs": [],
   "source": [
    "test_agg.head()"
   ]
  },
  {
   "cell_type": "code",
   "execution_count": null,
   "id": "3cbc7df4-5666-4a0c-95ab-18df2ed115e1",
   "metadata": {},
   "outputs": [],
   "source": [
    "del test"
   ]
  },
  {
   "cell_type": "code",
   "execution_count": null,
   "id": "00432188-0a06-4b1d-bd5f-ff5439d3e718",
   "metadata": {},
   "outputs": [],
   "source": [
    "for i, model in enumerate(models.values()):\n",
    "    model_input = test_agg.loc[:, model.feature_name_]\n",
    "    test_agg.loc[:, f\"score{i}\"] = model.predict_proba(model_input, raw_score=True)"
   ]
  },
  {
   "cell_type": "code",
   "execution_count": null,
   "id": "9050bee9-2e18-4a3c-9b01-a8aa722f9b02",
   "metadata": {},
   "outputs": [],
   "source": [
    "test_agg.head()"
   ]
  },
  {
   "cell_type": "code",
   "execution_count": null,
   "id": "43a5797b-2f7a-4107-9dd4-03652f1acf73",
   "metadata": {},
   "outputs": [],
   "source": [
    "new_result_sub = pd.read_csv(f\"{SUBMISSION_DATA_PATH}/submission19_0.796.csv\")"
   ]
  },
  {
   "cell_type": "code",
   "execution_count": null,
   "id": "c098854d-9975-4268-8567-ff70bb2bd8c4",
   "metadata": {},
   "outputs": [],
   "source": [
    "old_result_sub = pd.read_csv(f\"{SUBMISSION_DATA_PATH}/submission17_0.796.csv\")"
   ]
  },
  {
   "cell_type": "code",
   "execution_count": null,
   "id": "475e4b55-622c-443a-a33e-14d7dec65b0f",
   "metadata": {},
   "outputs": [],
   "source": [
    "plt.scatter(old_result_sub[\"prediction\"], new_result_sub[\"prediction\"])"
   ]
  },
  {
   "cell_type": "code",
   "execution_count": null,
   "id": "b46d0936-652c-4150-9ad0-f6bbf08a1351",
   "metadata": {},
   "outputs": [],
   "source": [
    "np.corrcoef(old_result_sub[\"prediction\"], new_result_sub[\"prediction\"])"
   ]
  },
  {
   "cell_type": "code",
   "execution_count": null,
   "id": "498e9e72-6ab7-446a-9ba3-c5db7af4712a",
   "metadata": {},
   "outputs": [],
   "source": [
    "merged_result = new_result_sub.merge(old_result_sub, on=\"customer_ID\", how=\"left\")"
   ]
  },
  {
   "cell_type": "code",
   "execution_count": null,
   "id": "31e459d2-1b83-42df-8e56-85f2d572a9b6",
   "metadata": {},
   "outputs": [],
   "source": [
    "merged_result[\"x_positive\"] = (merged_result[\"prediction_x\"] >= 0)"
   ]
  },
  {
   "cell_type": "code",
   "execution_count": null,
   "id": "1e4e58e3-43f3-4e3f-9071-03f4b97122ec",
   "metadata": {},
   "outputs": [],
   "source": [
    "merged_result[\"y_positive\"] = (merged_result[\"prediction_y\"] >= 0)"
   ]
  },
  {
   "cell_type": "code",
   "execution_count": null,
   "id": "0b34e330-4e6b-4fc7-b318-2289fe0f59f8",
   "metadata": {},
   "outputs": [],
   "source": []
  },
  {
   "cell_type": "code",
   "execution_count": null,
   "id": "c919dcc9-3bb9-488a-92f1-65142b14980d",
   "metadata": {},
   "outputs": [],
   "source": [
    "neg_neg_indices = merged_result.loc[(~merged_result[\"x_positive\"]) & (~merged_result[\"y_positive\"])].index"
   ]
  },
  {
   "cell_type": "code",
   "execution_count": null,
   "id": "5a2c13b5-e2ea-4efd-9878-3e994c0f9f2d",
   "metadata": {},
   "outputs": [],
   "source": [
    "merged_result.loc[neg_neg_indices, \"prediction\"] = merged_result.loc[neg_neg_indices, :].min(axis=1)"
   ]
  },
  {
   "cell_type": "code",
   "execution_count": null,
   "id": "b08bd592-dc45-44c5-b724-20356e5963ab",
   "metadata": {},
   "outputs": [],
   "source": [
    "pos_pos_indices = merged_result.loc[(merged_result[\"x_positive\"]) & (merged_result[\"y_positive\"])].index"
   ]
  },
  {
   "cell_type": "code",
   "execution_count": null,
   "id": "253d0f80-3055-4405-8300-7149d8c47605",
   "metadata": {},
   "outputs": [],
   "source": [
    "merged_result.loc[pos_pos_indices, \"prediction\"] = merged_result.loc[pos_pos_indices, :].max(axis=1)"
   ]
  },
  {
   "cell_type": "code",
   "execution_count": null,
   "id": "f6e96911-4a57-4512-93b5-85435df0e7ab",
   "metadata": {},
   "outputs": [],
   "source": [
    "merged_result[\"prediction\"].isnull().sum()"
   ]
  },
  {
   "cell_type": "code",
   "execution_count": null,
   "id": "4060abeb-c2ea-446f-b51b-67730ac5e3df",
   "metadata": {},
   "outputs": [],
   "source": [
    "merged_result.loc[merged_result[\"prediction\"].isnull(), \"prediction\"] = \\\n",
    "(merged_result.loc[merged_result[\"prediction\"].isnull(), \"prediction_x\"] + \\\n",
    "merged_result.loc[merged_result[\"prediction\"].isnull(), \"prediction_y\"]) / 2"
   ]
  },
  {
   "cell_type": "code",
   "execution_count": null,
   "id": "4369ff32-61cd-4333-a552-cc27a02ca5bf",
   "metadata": {},
   "outputs": [],
   "source": [
    "merged_result = merged_result.drop(columns=[\"prediction_x\", \"prediction_y\", \"x_positive\", \"y_positive\"])"
   ]
  },
  {
   "cell_type": "code",
   "execution_count": null,
   "id": "fac615f3-8ea5-4801-b64a-25040c05d8ef",
   "metadata": {},
   "outputs": [],
   "source": [
    "merged_result.to_csv(f\"{SUBMISSION_DATA_PATH}/submission23.csv\", index=False)"
   ]
  },
  {
   "cell_type": "code",
   "execution_count": null,
   "id": "00da3372-3ddc-4f18-bc12-c9af2fe87fe9",
   "metadata": {},
   "outputs": [],
   "source": []
  },
  {
   "cell_type": "code",
   "execution_count": null,
   "id": "bb5a0052-3017-4a28-b2a3-369a811255df",
   "metadata": {},
   "outputs": [],
   "source": [
    "new_result_sub[\"prediction\"] = np.max([new_result_sub[\"prediction\"].values, old_result_sub[\"prediction\"].values], axis=0)"
   ]
  },
  {
   "cell_type": "code",
   "execution_count": null,
   "id": "bbd2b6f8-52cb-4ac8-b0f1-b51725f6e5ec",
   "metadata": {},
   "outputs": [],
   "source": [
    "new_result_sub[\"prediction\"] += old_result_sub[\"prediction\"]"
   ]
  },
  {
   "cell_type": "code",
   "execution_count": null,
   "id": "54b939aa-6eea-46b4-b5f5-f0cf005a8e01",
   "metadata": {},
   "outputs": [],
   "source": [
    "new_result_sub[\"prediction\"] /= 2"
   ]
  },
  {
   "cell_type": "code",
   "execution_count": null,
   "id": "be0884cb-d299-44f6-97d6-2bd1af32ee4f",
   "metadata": {},
   "outputs": [],
   "source": [
    "new_result_sub.to_csv(f\"{SUBMISSION_DATA_PATH}/submission22.csv\", index=False)"
   ]
  },
  {
   "cell_type": "code",
   "execution_count": null,
   "id": "b4e53b25-dd12-44b0-ada2-af4b9e005cf6",
   "metadata": {},
   "outputs": [],
   "source": [
    "result_sub = test_agg.loc[:, [c for c in test_agg.columns if c.startswith(\"score\")]].mean(axis=1).reset_index()"
   ]
  },
  {
   "cell_type": "code",
   "execution_count": null,
   "id": "cafc84f8-7dfa-4917-86ea-3848cab07849",
   "metadata": {},
   "outputs": [],
   "source": [
    "result_sub.columns = [\"customer_ID\", \"prediction\"]"
   ]
  },
  {
   "cell_type": "code",
   "execution_count": null,
   "id": "d2230bf7-95e6-4c06-add1-6a465a7ab16a",
   "metadata": {},
   "outputs": [],
   "source": [
    "result_sub.to_csv(\"submission20.csv\", index=False)"
   ]
  },
  {
   "cell_type": "code",
   "execution_count": null,
   "id": "9d4433d5-5173-48da-bd65-58a886d0e631",
   "metadata": {},
   "outputs": [],
   "source": [
    "single_record_index = test_agg.loc[test_agg[\"num_records\"] == 1].index.tolist()"
   ]
  },
  {
   "cell_type": "code",
   "execution_count": null,
   "id": "210c491c-e001-44c3-adb3-f203f9bb1fe4",
   "metadata": {},
   "outputs": [],
   "source": [
    "final_df13 = pd.read_csv(f\"{SUBMISSION_DATA_PATH}/submission13_0.796.csv\")\n",
    "final_df13[\"prediction_13\"] = sigmoid(final_df13[\"prediction\"])\n",
    "final_df13 = final_df13.drop(columns=\"prediction\")"
   ]
  },
  {
   "cell_type": "code",
   "execution_count": null,
   "id": "8b6081fe-a2e3-4d68-94d2-452c486fc565",
   "metadata": {},
   "outputs": [],
   "source": [
    "final_df16 = pd.read_csv(f\"{SUBMISSION_DATA_PATH}/submission16_0.782.csv\")\n",
    "final_df16[\"prediction_16\"] = sigmoid(final_df16[\"prediction\"])\n",
    "final_df16 = final_df16.drop(columns=\"prediction\")"
   ]
  },
  {
   "cell_type": "code",
   "execution_count": null,
   "id": "3bcfc991-a1e8-4a5f-b136-5d45a0137ac2",
   "metadata": {},
   "outputs": [],
   "source": [
    "mega_df = final_df13.merge(final_df16, on=\"customer_ID\", how=\"left\")"
   ]
  },
  {
   "cell_type": "code",
   "execution_count": null,
   "id": "5b14c35f-df5b-4ba0-aba2-986ecfe8ed30",
   "metadata": {},
   "outputs": [],
   "source": [
    "mega_df.loc[:, \"prediction\"] = (\n",
    "    mega_df.loc[:, \"prediction_16\"] * 0.1 \\\n",
    "    + mega_df.loc[:, \"prediction_13\"] * 0.9\n",
    ")"
   ]
  },
  {
   "cell_type": "code",
   "execution_count": null,
   "id": "4b3e0943-6ad1-4233-8723-97514f0375f6",
   "metadata": {},
   "outputs": [],
   "source": [
    "mega_df.loc[single_record_index, \"prediction\"] = (\n",
    "    mega_df.loc[single_record_index, \"prediction_16\"] * 0.8 \\\n",
    "    + mega_df.loc[single_record_index, \"prediction_13\"] * 0.2\n",
    ")"
   ]
  },
  {
   "cell_type": "code",
   "execution_count": null,
   "id": "d9788303-5207-490c-8365-97ae5fefc5f9",
   "metadata": {},
   "outputs": [],
   "source": [
    "mega_df = mega_df.drop(columns=[\"prediction_13\", \"prediction_16\"])"
   ]
  },
  {
   "cell_type": "code",
   "execution_count": null,
   "id": "d98d6c65-7208-4d3a-9690-1ab201c68843",
   "metadata": {},
   "outputs": [],
   "source": [
    "mega_df[\"prediction\"] = 0.55 * mega_df[\"prediction_x\"] + 0.45 * mega_df[\"prediction_y\"]\n",
    "mega_df = mega_df.drop(columns=[\"prediction_x\", \"prediction_y\"])"
   ]
  },
  {
   "cell_type": "code",
   "execution_count": null,
   "id": "93046afe-1096-450a-96f0-961064442cf8",
   "metadata": {},
   "outputs": [],
   "source": [
    "mega_df.to_csv(f\"{SUBMISSION_DATA_PATH}/submission18.csv\", index=False)"
   ]
  }
 ],
 "metadata": {
  "kernelspec": {
   "display_name": "amex",
   "language": "python",
   "name": "amex"
  },
  "language_info": {
   "codemirror_mode": {
    "name": "ipython",
    "version": 3
   },
   "file_extension": ".py",
   "mimetype": "text/x-python",
   "name": "python",
   "nbconvert_exporter": "python",
   "pygments_lexer": "ipython3",
   "version": "3.10.0"
  }
 },
 "nbformat": 4,
 "nbformat_minor": 5
}
