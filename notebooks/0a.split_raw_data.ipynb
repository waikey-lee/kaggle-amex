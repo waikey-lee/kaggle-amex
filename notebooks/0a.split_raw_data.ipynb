{
 "cells": [
  {
   "cell_type": "markdown",
   "id": "af508e48-9169-4c06-a1a0-5a6cdad2cf14",
   "metadata": {},
   "source": [
    "### Split raw [train](https://www.kaggle.com/competitions/amex-default-prediction/data?select=train_data.csv) & [test](https://www.kaggle.com/competitions/amex-default-prediction/data?select=test_data.csv) data into 4 different parquet files\n",
    "- Spend & Payment\n",
    "- Risk\n",
    "- Balance\n",
    "- Delinquency\n",
    "#### All the parquet will contains the common columns **customer_ID** and **S_2** (statement_date)"
   ]
  },
  {
   "cell_type": "code",
   "execution_count": 1,
   "id": "5dd2ca34-3410-4078-aa48-7adbba211ed5",
   "metadata": {},
   "outputs": [],
   "source": [
    "import dask.dataframe as dd\n",
    "import gc\n",
    "import os\n",
    "import pandas as pd\n",
    "pd.options.display.float_format = \"{:,.4f}\".format\n",
    "import sys\n",
    "import time"
   ]
  },
  {
   "cell_type": "code",
   "execution_count": 2,
   "id": "92df3e81-2387-417f-bbf6-2185b4d4b42f",
   "metadata": {},
   "outputs": [],
   "source": [
    "from pathlib import Path\n",
    "rootpath = Path.cwd().parent\n",
    "sys.path.append(os.path.join(rootpath))"
   ]
  },
  {
   "cell_type": "code",
   "execution_count": 3,
   "id": "70db3a72-99d0-448b-a29e-e8c1120e9b3c",
   "metadata": {},
   "outputs": [],
   "source": [
    "from utils.constants import *\n",
    "from utils.eda_helpers import get_cols\n",
    "from utils.extraction_helpers import read_file"
   ]
  },
  {
   "cell_type": "code",
   "execution_count": 4,
   "id": "67194602-57fc-4e92-9801-8d600e52a5b2",
   "metadata": {},
   "outputs": [],
   "source": [
    "%load_ext autoreload\n",
    "%autoreload"
   ]
  },
  {
   "cell_type": "code",
   "execution_count": 5,
   "id": "6af5c190-0512-4c15-894b-252ec149179a",
   "metadata": {},
   "outputs": [],
   "source": [
    "START = time.time()"
   ]
  },
  {
   "cell_type": "markdown",
   "id": "3885beac-e245-43b6-a2cc-73e9f871d132",
   "metadata": {},
   "source": [
    "### Split Train data into 4 different parquet files"
   ]
  },
  {
   "cell_type": "code",
   "execution_count": 6,
   "id": "edb670db-1566-41cc-8c6d-c1db881470ab",
   "metadata": {},
   "outputs": [
    {
     "name": "stdout",
     "output_type": "stream",
     "text": [
      "CPU times: user 10.7 ms, sys: 1.76 ms, total: 12.4 ms\n",
      "Wall time: 14.6 ms\n"
     ]
    }
   ],
   "source": [
    "%%time\n",
    "train = dd.read_csv(f\"{RAW_DATA_PATH}/train_raw/train_data.csv\")"
   ]
  },
  {
   "cell_type": "code",
   "execution_count": 7,
   "id": "2e4fd5a7-9bfb-4a29-af0e-247f04ab8c54",
   "metadata": {},
   "outputs": [
    {
     "name": "stdout",
     "output_type": "stream",
     "text": [
      "CPU times: user 1min 41s, sys: 22.7 s, total: 2min 4s\n",
      "Wall time: 29.3 s\n"
     ]
    }
   ],
   "source": [
    "%%time\n",
    "(\n",
    "    train.loc[:, [\"customer_ID\"] + get_cols(train, [\"S_\", \"P_\"])].compute()\n",
    "    .to_parquet(f\"{RAW_DATA_PATH}/train_raw/spend_payment_only.parquet\")\n",
    ")"
   ]
  },
  {
   "cell_type": "code",
   "execution_count": 8,
   "id": "f4720363-25e0-43ad-9ccb-ac6466d4776d",
   "metadata": {},
   "outputs": [
    {
     "name": "stdout",
     "output_type": "stream",
     "text": [
      "CPU times: user 1min 41s, sys: 24.2 s, total: 2min 6s\n",
      "Wall time: 30.6 s\n"
     ]
    }
   ],
   "source": [
    "%%time\n",
    "(\n",
    "    train.loc[:, [\"customer_ID\"] + get_cols(train, \"R_\")].compute()\n",
    "    .to_parquet(f\"{RAW_DATA_PATH}/train_raw/risk_only.parquet\")\n",
    ")"
   ]
  },
  {
   "cell_type": "code",
   "execution_count": 9,
   "id": "5638f309-66b3-4a21-b1e7-775dfb99040c",
   "metadata": {},
   "outputs": [
    {
     "data": {
      "text/plain": [
       "18"
      ]
     },
     "execution_count": 9,
     "metadata": {},
     "output_type": "execute_result"
    }
   ],
   "source": [
    "gc.collect()"
   ]
  },
  {
   "cell_type": "code",
   "execution_count": 10,
   "id": "3f13effd-5984-45b7-beef-86bae9c30129",
   "metadata": {},
   "outputs": [
    {
     "name": "stdout",
     "output_type": "stream",
     "text": [
      "CPU times: user 1min 45s, sys: 28.6 s, total: 2min 14s\n",
      "Wall time: 37.1 s\n"
     ]
    }
   ],
   "source": [
    "%%time\n",
    "(\n",
    "    train.loc[:, [\"customer_ID\"] + get_cols(train, \"B_\")].compute()\n",
    "    .to_parquet(f\"{RAW_DATA_PATH}/train_raw/balance_only.parquet\")\n",
    ")"
   ]
  },
  {
   "cell_type": "code",
   "execution_count": 11,
   "id": "0b2423a5-860d-4448-9516-f5a973cf723e",
   "metadata": {},
   "outputs": [
    {
     "name": "stdout",
     "output_type": "stream",
     "text": [
      "CPU times: user 1min 47s, sys: 31.2 s, total: 2min 18s\n",
      "Wall time: 43.6 s\n"
     ]
    }
   ],
   "source": [
    "%%time\n",
    "(\n",
    "    train.loc[:, [\"customer_ID\"] + get_cols(train, \"D_\")].compute()\n",
    "    .to_parquet(f\"{RAW_DATA_PATH}/train_raw/delinquency_only.parquet\")\n",
    ")"
   ]
  },
  {
   "cell_type": "code",
   "execution_count": 12,
   "id": "f957f866-5569-47a9-b228-a7336ac32dc4",
   "metadata": {},
   "outputs": [
    {
     "data": {
      "text/plain": [
       "18"
      ]
     },
     "execution_count": 12,
     "metadata": {},
     "output_type": "execute_result"
    }
   ],
   "source": [
    "gc.collect()"
   ]
  },
  {
   "cell_type": "code",
   "execution_count": 13,
   "id": "42ae8885-9d13-40ae-b44b-ed0e9196db93",
   "metadata": {},
   "outputs": [],
   "source": [
    "del train"
   ]
  },
  {
   "cell_type": "markdown",
   "id": "908ec6e9-7138-4ada-ab78-b088475aba79",
   "metadata": {},
   "source": [
    "### Split Test data into 4 different parquet files"
   ]
  },
  {
   "cell_type": "code",
   "execution_count": 14,
   "id": "be88be19-77ea-4e75-a58b-0874cdd9e6f9",
   "metadata": {},
   "outputs": [
    {
     "name": "stdout",
     "output_type": "stream",
     "text": [
      "CPU times: user 13.9 ms, sys: 2.44 ms, total: 16.3 ms\n",
      "Wall time: 18.9 ms\n"
     ]
    }
   ],
   "source": [
    "%%time\n",
    "test = dd.read_csv(f\"{RAW_DATA_PATH}/test_raw/test_data.csv\")"
   ]
  },
  {
   "cell_type": "code",
   "execution_count": 15,
   "id": "3b700d61-0e0c-4da7-a26a-51ffd0c68d43",
   "metadata": {},
   "outputs": [
    {
     "name": "stdout",
     "output_type": "stream",
     "text": [
      "CPU times: user 3min 28s, sys: 48.2 s, total: 4min 17s\n",
      "Wall time: 1min 1s\n"
     ]
    }
   ],
   "source": [
    "%%time\n",
    "(\n",
    "    test.loc[:, [\"customer_ID\"] + get_cols(test, [\"S_\", \"P_\"])].compute()\n",
    "    .to_parquet(f\"{RAW_DATA_PATH}/test_raw/spend_payment_only.parquet\")\n",
    ")"
   ]
  },
  {
   "cell_type": "code",
   "execution_count": 16,
   "id": "3dbf8d3d-054e-4429-b017-1ae1373de593",
   "metadata": {},
   "outputs": [
    {
     "name": "stdout",
     "output_type": "stream",
     "text": [
      "CPU times: user 3min 30s, sys: 53.3 s, total: 4min 23s\n",
      "Wall time: 1min 7s\n"
     ]
    }
   ],
   "source": [
    "%%time\n",
    "(\n",
    "    test.loc[:, [\"customer_ID\"] + get_cols(test, \"R_\")].compute()\n",
    "    .to_parquet(f\"{RAW_DATA_PATH}/test_raw/risk_only.parquet\")\n",
    ")"
   ]
  },
  {
   "cell_type": "code",
   "execution_count": 17,
   "id": "77e06684-7ada-4edf-a5ba-af78f31bad48",
   "metadata": {},
   "outputs": [
    {
     "data": {
      "text/plain": [
       "18"
      ]
     },
     "execution_count": 17,
     "metadata": {},
     "output_type": "execute_result"
    }
   ],
   "source": [
    "gc.collect()"
   ]
  },
  {
   "cell_type": "code",
   "execution_count": 18,
   "id": "771448e8-9988-4a17-8f98-d0875c095f8c",
   "metadata": {},
   "outputs": [
    {
     "name": "stdout",
     "output_type": "stream",
     "text": [
      "CPU times: user 3min 31s, sys: 54.1 s, total: 4min 25s\n",
      "Wall time: 1min 8s\n"
     ]
    }
   ],
   "source": [
    "%%time\n",
    "(\n",
    "    test.loc[:, [\"customer_ID\"] + get_cols(test, \"B_\")].compute()\n",
    "    .to_parquet(f\"{RAW_DATA_PATH}/test_raw/balance_only.parquet\")\n",
    ")"
   ]
  },
  {
   "cell_type": "code",
   "execution_count": 19,
   "id": "31d27b7c-570b-497c-9aa9-5ca2e0cfd8e5",
   "metadata": {},
   "outputs": [
    {
     "name": "stdout",
     "output_type": "stream",
     "text": [
      "CPU times: user 3min 42s, sys: 1min 11s, total: 4min 53s\n",
      "Wall time: 1min 58s\n"
     ]
    }
   ],
   "source": [
    "%%time\n",
    "(\n",
    "    test.loc[:, [\"customer_ID\"] + get_cols(test, \"D_\")].compute()\n",
    "    .to_parquet(f\"{RAW_DATA_PATH}/test_raw/delinquency_only.parquet\")\n",
    ")"
   ]
  },
  {
   "cell_type": "code",
   "execution_count": 20,
   "id": "eebc3a99-fa44-4918-8e4b-36f50bdc4f37",
   "metadata": {},
   "outputs": [
    {
     "data": {
      "text/plain": [
       "18"
      ]
     },
     "execution_count": 20,
     "metadata": {},
     "output_type": "execute_result"
    }
   ],
   "source": [
    "gc.collect()"
   ]
  },
  {
   "cell_type": "code",
   "execution_count": 21,
   "id": "d1ae275c-e4fe-4ad5-ba44-b5636c1ee00e",
   "metadata": {},
   "outputs": [],
   "source": [
    "del test"
   ]
  },
  {
   "cell_type": "code",
   "execution_count": 22,
   "id": "de600623-3646-4c72-b2a5-2b5a054fa68e",
   "metadata": {
    "tags": []
   },
   "outputs": [],
   "source": [
    "END = time.time()"
   ]
  },
  {
   "cell_type": "code",
   "execution_count": 23,
   "id": "dce74547-b11e-489d-8d9a-37341ed5de5d",
   "metadata": {},
   "outputs": [
    {
     "name": "stdout",
     "output_type": "stream",
     "text": [
      "457.17 seconds elapsed\n"
     ]
    }
   ],
   "source": [
    "print(f\"{END - START:.2f} seconds elapsed\")"
   ]
  }
 ],
 "metadata": {
  "kernelspec": {
   "display_name": "amex",
   "language": "python",
   "name": "amex"
  },
  "language_info": {
   "codemirror_mode": {
    "name": "ipython",
    "version": 3
   },
   "file_extension": ".py",
   "mimetype": "text/x-python",
   "name": "python",
   "nbconvert_exporter": "python",
   "pygments_lexer": "ipython3",
   "version": "3.10.0"
  }
 },
 "nbformat": 4,
 "nbformat_minor": 5
}
