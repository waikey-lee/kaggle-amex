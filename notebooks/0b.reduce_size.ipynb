{
 "cells": [
  {
   "cell_type": "markdown",
   "id": "af508e48-9169-4c06-a1a0-5a6cdad2cf14",
   "metadata": {},
   "source": [
    "### Reduce the data size by reducing the bytes in the data type format\n",
    "* float64\n",
    "* float32\n",
    "* int32\n",
    "* int16\n",
    "* int8\n",
    "#### Need to fix S_2 missing in other 3 dfs"
   ]
  },
  {
   "cell_type": "code",
   "execution_count": 9,
   "id": "5dd2ca34-3410-4078-aa48-7adbba211ed5",
   "metadata": {},
   "outputs": [],
   "source": [
    "import gc\n",
    "import numpy as np\n",
    "import os\n",
    "import pandas as pd\n",
    "pd.options.display.float_format = \"{:,.4f}\".format\n",
    "import sys\n",
    "from sklearn.preprocessing import LabelEncoder\n",
    "from tqdm import tqdm"
   ]
  },
  {
   "cell_type": "code",
   "execution_count": 2,
   "id": "92df3e81-2387-417f-bbf6-2185b4d4b42f",
   "metadata": {},
   "outputs": [],
   "source": [
    "from pathlib import Path\n",
    "rootpath = Path.cwd().parent\n",
    "sys.path.append(os.path.join(rootpath))"
   ]
  },
  {
   "cell_type": "code",
   "execution_count": 3,
   "id": "70db3a72-99d0-448b-a29e-e8c1120e9b3c",
   "metadata": {},
   "outputs": [],
   "source": [
    "from utils.constants import *\n",
    "from utils.eda_helpers import get_cols\n",
    "from utils.extraction_helpers import read_file"
   ]
  },
  {
   "cell_type": "code",
   "execution_count": 4,
   "id": "67194602-57fc-4e92-9801-8d600e52a5b2",
   "metadata": {},
   "outputs": [],
   "source": [
    "%load_ext autoreload\n",
    "%autoreload"
   ]
  },
  {
   "cell_type": "code",
   "execution_count": 5,
   "id": "18dd43b6-cffc-4ef8-bdbf-d7e09176c46b",
   "metadata": {},
   "outputs": [],
   "source": [
    "# Check if there is any occurence of a certain value is higher than threshold (of 2)\n",
    "def check_unique_value_counts(df, thr=2, skip_col=2):\n",
    "    col_list = []\n",
    "    for col in tqdm(df.columns[skip_col:]):\n",
    "        max_ = df[col].value_counts().max()\n",
    "        if max_ > thr:\n",
    "            print(col, max_)\n",
    "        else:\n",
    "            col_list.append(col)\n",
    "    return col_list"
   ]
  },
  {
   "cell_type": "code",
   "execution_count": 6,
   "id": "3ac74140-d4ce-42f0-84d8-6c8f8da66ebc",
   "metadata": {},
   "outputs": [],
   "source": [
    "# Round all columns to 4 decimals\n",
    "def round_four_decimals(df, columns):\n",
    "    df.loc[:, columns] = df.loc[:, columns].round(4)\n",
    "    print(\"Rounded all columns to 4 decimal places\")\n",
    "    return df"
   ]
  },
  {
   "cell_type": "code",
   "execution_count": 7,
   "id": "bf6ca9cd-2647-4511-b092-70cdbceb70cd",
   "metadata": {},
   "outputs": [],
   "source": [
    "def reduce_data_size_to_32(df, skip_col=1, thr=1e-05, type_=\"train\"):\n",
    "    for col in df.columns[skip_col:]:\n",
    "        temp = df[col].copy()\n",
    "        if col == \"S_2\":\n",
    "            continue\n",
    "        try:\n",
    "            diff_series = (temp - temp.astype(np.float32))\n",
    "            if abs(diff_series.min()) + abs(diff_series.max()) > thr:\n",
    "                print(f\"Failed to convert column {col}, difference exceeded threshold {thr}\")\n",
    "            elif df[col].dtype != np.float64:\n",
    "                print(f\"Stop converting column {col}, its original data format is not np.float64 / float64\")\n",
    "                df[col] = df[col].astype(np.float32).round(3)\n",
    "            else:\n",
    "                pass\n",
    "                # print(f\"Reduced column {col} to np.float32\")\n",
    "        except:\n",
    "            if type_ == \"train\":\n",
    "                label_enc = LabelEncoder()\n",
    "                label_enc.fit(df[col])\n",
    "                df[col] = label_enc.transform(df[col])\n",
    "                label_enc_dict[col] = label_enc\n",
    "                print(f\"Column {col} is in string, use label encoding instead\")\n",
    "            else:\n",
    "                df[col] = label_enc_dict[col].transform(df[col])\n",
    "    return df"
   ]
  },
  {
   "cell_type": "code",
   "execution_count": 8,
   "id": "c18c9766-ae09-4166-9ef5-9a6c8d072832",
   "metadata": {},
   "outputs": [],
   "source": [
    "label_enc_dict = {}"
   ]
  },
  {
   "cell_type": "markdown",
   "id": "3885beac-e245-43b6-a2cc-73e9f871d132",
   "metadata": {},
   "source": [
    "### For Train"
   ]
  },
  {
   "cell_type": "markdown",
   "id": "a7127afb-5886-4f3a-9f08-5821a03ca616",
   "metadata": {},
   "source": [
    "#### Spend & Payment"
   ]
  },
  {
   "cell_type": "code",
   "execution_count": 68,
   "id": "d1c291ac-7bab-42e8-aaaf-db62487739d1",
   "metadata": {},
   "outputs": [
    {
     "name": "stdout",
     "output_type": "stream",
     "text": [
      "Shape of data: (5531451, 26)\n",
      "CPU times: user 1.44 s, sys: 1.79 s, total: 3.23 s\n",
      "Wall time: 2.85 s\n"
     ]
    }
   ],
   "source": [
    "%%time\n",
    "train_sp = read_file(f\"{RAW_DATA_PATH}/train_raw/spend_payment_only.parquet\")\n",
    "train_sp = train_sp.reset_index(drop=True)"
   ]
  },
  {
   "cell_type": "code",
   "execution_count": 69,
   "id": "9cb12be0-0b14-4e32-8e62-5627e84a588d",
   "metadata": {},
   "outputs": [
    {
     "name": "stderr",
     "output_type": "stream",
     "text": [
      "100%|██████████████████████████████████████████████████████████████████████████████████████████████████████████████████████████████████████| 24/24 [00:11<00:00,  2.01it/s]\n"
     ]
    },
    {
     "name": "stdout",
     "output_type": "stream",
     "text": [
      "Rounded all columns to 4 decimal places\n"
     ]
    }
   ],
   "source": [
    "safe_columns = check_unique_value_counts(train_sp)\n",
    "train_sp = round_four_decimals(train_sp, safe_columns)"
   ]
  },
  {
   "cell_type": "code",
   "execution_count": 70,
   "id": "f3709496-8a00-4152-8a34-fad98954dc22",
   "metadata": {},
   "outputs": [
    {
     "name": "stdout",
     "output_type": "stream",
     "text": [
      "Failed to convert column S_16, difference exceeded threshold 1e-05\n",
      "Failed to convert column S_23, difference exceeded threshold 1e-05\n"
     ]
    }
   ],
   "source": [
    "train_sp = reduce_data_size_to_32(train_sp)"
   ]
  },
  {
   "cell_type": "markdown",
   "id": "ce2f87bf-8b44-4148-8e5d-e1cd16d9b9c1",
   "metadata": {
    "tags": []
   },
   "source": [
    "#### Risk"
   ]
  },
  {
   "cell_type": "code",
   "execution_count": 71,
   "id": "8881a182-208f-4d91-9c19-07cd97c07223",
   "metadata": {},
   "outputs": [
    {
     "name": "stdout",
     "output_type": "stream",
     "text": [
      "Shape of data: (5531451, 29)\n",
      "CPU times: user 1.1 s, sys: 1.87 s, total: 2.96 s\n",
      "Wall time: 2.2 s\n"
     ]
    }
   ],
   "source": [
    "%%time\n",
    "train_r = read_file(f\"{RAW_DATA_PATH}/train_raw/risk_only.parquet\")\n",
    "train_r = train_r.reset_index(drop=True)"
   ]
  },
  {
   "cell_type": "code",
   "execution_count": 72,
   "id": "d369dbda-0974-4f7e-9ad9-e587660bd53d",
   "metadata": {},
   "outputs": [
    {
     "name": "stderr",
     "output_type": "stream",
     "text": [
      "100%|██████████████████████████████████████████████████████████████████████████████████████████████████████████████████████████████████████| 27/27 [00:13<00:00,  1.97it/s]\n"
     ]
    },
    {
     "name": "stdout",
     "output_type": "stream",
     "text": [
      "Rounded all columns to 4 decimal places\n"
     ]
    }
   ],
   "source": [
    "safe_columns = check_unique_value_counts(train_r)\n",
    "train_r = round_four_decimals(train_r, safe_columns)"
   ]
  },
  {
   "cell_type": "code",
   "execution_count": 73,
   "id": "a1b22677-1fe9-4239-932f-f36dbfa925bc",
   "metadata": {},
   "outputs": [
    {
     "name": "stdout",
     "output_type": "stream",
     "text": [
      "Failed to convert column R_7, difference exceeded threshold 1e-05\n",
      "Failed to convert column R_14, difference exceeded threshold 1e-05\n"
     ]
    }
   ],
   "source": [
    "train_r = reduce_data_size_to_32(train_r)"
   ]
  },
  {
   "cell_type": "markdown",
   "id": "e38a5c05-e1d7-4637-937e-763cee949d8b",
   "metadata": {},
   "source": [
    "#### Balance"
   ]
  },
  {
   "cell_type": "code",
   "execution_count": 74,
   "id": "b78b8c57-5359-4d86-9c12-f35d74ad4beb",
   "metadata": {},
   "outputs": [
    {
     "name": "stdout",
     "output_type": "stream",
     "text": [
      "Shape of data: (5531451, 41)\n",
      "CPU times: user 1.43 s, sys: 3.09 s, total: 4.52 s\n",
      "Wall time: 3.37 s\n"
     ]
    }
   ],
   "source": [
    "%%time\n",
    "train_b = read_file(f\"{RAW_DATA_PATH}/train_raw/balance_only.parquet\")\n",
    "train_b = train_b.reset_index(drop=True)"
   ]
  },
  {
   "cell_type": "code",
   "execution_count": 75,
   "id": "8482ac0e-ebd0-4f98-8e1c-cd185d130c40",
   "metadata": {},
   "outputs": [
    {
     "name": "stderr",
     "output_type": "stream",
     "text": [
      " 69%|████████████████████████████████████████████████████████████████████████████████████████████▊                                         | 27/39 [00:14<00:06,  1.85it/s]"
     ]
    },
    {
     "name": "stdout",
     "output_type": "stream",
     "text": [
      "B_30 4710663\n",
      "B_31 5514544\n"
     ]
    },
    {
     "name": "stderr",
     "output_type": "stream",
     "text": [
      " 87%|████████████████████████████████████████████████████████████████████████████████████████████████████████████████████▊                 | 34/39 [00:16<00:02,  2.35it/s]"
     ]
    },
    {
     "name": "stdout",
     "output_type": "stream",
     "text": [
      "B_38 1953232\n"
     ]
    },
    {
     "name": "stderr",
     "output_type": "stream",
     "text": [
      "100%|██████████████████████████████████████████████████████████████████████████████████████████████████████████████████████████████████████| 39/39 [00:17<00:00,  2.21it/s]\n"
     ]
    },
    {
     "name": "stdout",
     "output_type": "stream",
     "text": [
      "Rounded all columns to 4 decimal places\n"
     ]
    }
   ],
   "source": [
    "safe_columns = check_unique_value_counts(train_b)\n",
    "train_b = round_four_decimals(train_b, safe_columns)"
   ]
  },
  {
   "cell_type": "code",
   "execution_count": 76,
   "id": "ba5fe65c-27f4-4712-b794-da1c6aab66dc",
   "metadata": {},
   "outputs": [
    {
     "name": "stdout",
     "output_type": "stream",
     "text": [
      "Failed to convert column B_5, difference exceeded threshold 1e-05\n",
      "Failed to convert column B_6, difference exceeded threshold 1e-05\n",
      "Failed to convert column B_10, difference exceeded threshold 1e-05\n",
      "Failed to convert column B_12, difference exceeded threshold 1e-05\n",
      "Failed to convert column B_13, difference exceeded threshold 1e-05\n",
      "Failed to convert column B_21, difference exceeded threshold 1e-05\n",
      "Failed to convert column B_26, difference exceeded threshold 1e-05\n",
      "Stop converting column B_31, its original data format is not np.float64 / float64\n",
      "Failed to convert column B_40, difference exceeded threshold 1e-05\n"
     ]
    }
   ],
   "source": [
    "train_b = reduce_data_size_to_32(train_b)"
   ]
  },
  {
   "cell_type": "markdown",
   "id": "233b5557-e2ac-4eb0-8bbc-3af1b194cdee",
   "metadata": {},
   "source": [
    "#### Delinquency"
   ]
  },
  {
   "cell_type": "code",
   "execution_count": 77,
   "id": "0ba96a00-806b-4931-8dfb-25589741133d",
   "metadata": {},
   "outputs": [
    {
     "name": "stdout",
     "output_type": "stream",
     "text": [
      "Shape of data: (5531451, 97)\n",
      "CPU times: user 3.66 s, sys: 9.22 s, total: 12.9 s\n",
      "Wall time: 11.2 s\n"
     ]
    }
   ],
   "source": [
    "%%time\n",
    "train_d = read_file(f\"{RAW_DATA_PATH}/train_raw/delinquency_only.parquet\")\n",
    "train_d = train_d.reset_index(drop=True)"
   ]
  },
  {
   "cell_type": "code",
   "execution_count": 78,
   "id": "7313e3a1-3882-4498-8ae0-50fd7030a7c1",
   "metadata": {},
   "outputs": [
    {
     "name": "stderr",
     "output_type": "stream",
     "text": [
      " 24%|████████████████████████████████▍                                                                                                     | 23/95 [00:08<00:20,  3.54it/s]"
     ]
    },
    {
     "name": "stdout",
     "output_type": "stream",
     "text": [
      "D_63 4119621\n",
      "D_64 2913244\n"
     ]
    },
    {
     "name": "stderr",
     "output_type": "stream",
     "text": [
      " 25%|█████████████████████████████████▊                                                                                                    | 24/95 [00:09<00:25,  2.75it/s]"
     ]
    },
    {
     "name": "stdout",
     "output_type": "stream",
     "text": [
      "D_66 617066\n",
      "D_68 2782455\n"
     ]
    },
    {
     "name": "stderr",
     "output_type": "stream",
     "text": [
      " 45%|████████████████████████████████████████████████████████████▋                                                                         | 43/95 [00:17<00:24,  2.10it/s]"
     ]
    },
    {
     "name": "stdout",
     "output_type": "stream",
     "text": [
      "D_87 3865\n"
     ]
    },
    {
     "name": "stderr",
     "output_type": "stream",
     "text": [
      " 68%|███████████████████████████████████████████████████████████████████████████████████████████▋                                          | 65/95 [00:25<00:09,  3.29it/s]"
     ]
    },
    {
     "name": "stdout",
     "output_type": "stream",
     "text": [
      "D_114 3316478\n",
      "D_116 5348109\n",
      "D_117 1456084\n"
     ]
    },
    {
     "name": "stderr",
     "output_type": "stream",
     "text": [
      " 75%|████████████████████████████████████████████████████████████████████████████████████████████████████▏                                 | 71/95 [00:26<00:07,  3.39it/s]"
     ]
    },
    {
     "name": "stdout",
     "output_type": "stream",
     "text": [
      "D_120 4729723\n"
     ]
    },
    {
     "name": "stderr",
     "output_type": "stream",
     "text": [
      " 81%|████████████████████████████████████████████████████████████████████████████████████████████████████████████▌                         | 77/95 [00:29<00:06,  2.60it/s]"
     ]
    },
    {
     "name": "stdout",
     "output_type": "stream",
     "text": [
      "D_126 4262414\n"
     ]
    },
    {
     "name": "stderr",
     "output_type": "stream",
     "text": [
      "100%|██████████████████████████████████████████████████████████████████████████████████████████████████████████████████████████████████████| 95/95 [00:35<00:00,  2.66it/s]\n"
     ]
    },
    {
     "name": "stdout",
     "output_type": "stream",
     "text": [
      "Rounded all columns to 4 decimal places\n"
     ]
    }
   ],
   "source": [
    "safe_columns = check_unique_value_counts(train_d)\n",
    "train_d = round_four_decimals(train_d, safe_columns)"
   ]
  },
  {
   "cell_type": "code",
   "execution_count": 79,
   "id": "9d1d77de-702d-4c15-b8f1-9352403d4466",
   "metadata": {},
   "outputs": [
    {
     "name": "stdout",
     "output_type": "stream",
     "text": [
      "Failed to convert column D_50, difference exceeded threshold 1e-05\n",
      "Failed to convert column D_61, difference exceeded threshold 1e-05\n",
      "Column D_63 is in string, use label encoding instead\n",
      "Column D_64 is in string, use label encoding instead\n",
      "Failed to convert column D_65, difference exceeded threshold 1e-05\n",
      "Failed to convert column D_69, difference exceeded threshold 1e-05\n",
      "Failed to convert column D_106, difference exceeded threshold 1e-05\n"
     ]
    }
   ],
   "source": [
    "train_d = reduce_data_size_to_32(train_d)"
   ]
  },
  {
   "cell_type": "code",
   "execution_count": 81,
   "id": "128848e4-0ea8-4ce6-8842-b392b59d6bc8",
   "metadata": {},
   "outputs": [],
   "source": [
    "if \"S_2\" not in train_r.columns:\n",
    "    train_r.insert(1, \"S_2\", train_sp[\"S_2\"])\n",
    "    train_b.insert(1, \"S_2\", train_sp[\"S_2\"])\n",
    "    train_d.insert(1, \"S_2\", train_sp[\"S_2\"])"
   ]
  },
  {
   "cell_type": "code",
   "execution_count": 82,
   "id": "048b0735-ef37-4bc0-b400-f23dfd0fbbad",
   "metadata": {},
   "outputs": [
    {
     "data": {
      "text/plain": [
       "((5531451, 26), (5531451, 30), (5531451, 42), (5531451, 98))"
      ]
     },
     "execution_count": 82,
     "metadata": {},
     "output_type": "execute_result"
    }
   ],
   "source": [
    "train_sp.shape, train_r.shape, train_b.shape, train_d.shape"
   ]
  },
  {
   "cell_type": "code",
   "execution_count": 83,
   "id": "6331e843-b6ec-4948-a9a6-33db9492cb1d",
   "metadata": {},
   "outputs": [
    {
     "name": "stdout",
     "output_type": "stream",
     "text": [
      "CPU times: user 18.4 s, sys: 3.2 s, total: 21.6 s\n",
      "Wall time: 18.9 s\n"
     ]
    }
   ],
   "source": [
    "%%time\n",
    "train_sp.to_parquet(f\"{RAW_TRAIN_PARQUET_PATH}/raw_spend_payment.parquet\")\n",
    "train_r.to_parquet(f\"{RAW_TRAIN_PARQUET_PATH}/raw_risk.parquet\")\n",
    "train_b.to_parquet(f\"{RAW_TRAIN_PARQUET_PATH}/raw_balance.parquet\")\n",
    "train_d.to_parquet(f\"{RAW_TRAIN_PARQUET_PATH}/raw_delinquency.parquet\")"
   ]
  },
  {
   "cell_type": "code",
   "execution_count": 84,
   "id": "6727fc29-3f7e-4228-bb57-587f1c6573c4",
   "metadata": {},
   "outputs": [],
   "source": [
    "del train_sp, train_r, train_b, train_d"
   ]
  },
  {
   "cell_type": "markdown",
   "id": "8b64771e-61cd-4992-87cc-167c995b9f3b",
   "metadata": {},
   "source": [
    "### For Test"
   ]
  },
  {
   "cell_type": "markdown",
   "id": "20a2cfcb-bb5d-45fe-8d56-9b3e227bf644",
   "metadata": {},
   "source": [
    "#### Spend & Payment"
   ]
  },
  {
   "cell_type": "code",
   "execution_count": 43,
   "id": "7d3384b4-752d-4f81-b658-e16a4da4d3e6",
   "metadata": {},
   "outputs": [
    {
     "name": "stdout",
     "output_type": "stream",
     "text": [
      "Shape of data: (11363762, 26)\n",
      "CPU times: user 2.92 s, sys: 2.15 s, total: 5.07 s\n",
      "Wall time: 3.25 s\n"
     ]
    }
   ],
   "source": [
    "%%time\n",
    "test_sp = read_file(f\"{RAW_DATA_PATH}/test_raw/spend_payment_only.parquet\")\n",
    "test_sp = test_sp.reset_index(drop=True)"
   ]
  },
  {
   "cell_type": "code",
   "execution_count": 44,
   "id": "6ad74d34-5c1e-4257-bfdf-c4bfec8b8b91",
   "metadata": {},
   "outputs": [
    {
     "name": "stderr",
     "output_type": "stream",
     "text": [
      "100%|██████████████████████████████████████████████████████████████████████████████████████████████████████████████████████████████████████| 24/24 [00:27<00:00,  1.13s/it]\n"
     ]
    },
    {
     "name": "stdout",
     "output_type": "stream",
     "text": [
      "Rounded all columns to 4 decimal places\n"
     ]
    }
   ],
   "source": [
    "safe_columns = check_unique_value_counts(test_sp)\n",
    "test_sp = round_four_decimals(test_sp, safe_columns)"
   ]
  },
  {
   "cell_type": "code",
   "execution_count": 45,
   "id": "86615020-c21b-4270-8551-48ba74bf5ec9",
   "metadata": {},
   "outputs": [
    {
     "name": "stdout",
     "output_type": "stream",
     "text": [
      "Failed to convert column S_5, difference exceeded threshold 1e-05\n",
      "Failed to convert column S_16, difference exceeded threshold 1e-05\n",
      "Failed to convert column S_23, difference exceeded threshold 1e-05\n",
      "Failed to convert column S_26, difference exceeded threshold 1e-05\n"
     ]
    }
   ],
   "source": [
    "test_sp = reduce_data_size_to_32(test_sp, type_=\"test\")"
   ]
  },
  {
   "cell_type": "markdown",
   "id": "cf3b210d-c9df-447e-9590-003d49dd10ca",
   "metadata": {
    "tags": []
   },
   "source": [
    "#### Risk"
   ]
  },
  {
   "cell_type": "code",
   "execution_count": 46,
   "id": "bf4241fb-8af8-406a-b012-268a3c2d73d3",
   "metadata": {},
   "outputs": [
    {
     "name": "stdout",
     "output_type": "stream",
     "text": [
      "Shape of data: (11363762, 29)\n",
      "CPU times: user 2.33 s, sys: 4.48 s, total: 6.81 s\n",
      "Wall time: 5.77 s\n"
     ]
    }
   ],
   "source": [
    "%%time\n",
    "test_r = read_file(f\"{RAW_DATA_PATH}/test_raw/risk_only.parquet\")\n",
    "test_r = test_r.reset_index(drop=True)"
   ]
  },
  {
   "cell_type": "code",
   "execution_count": 47,
   "id": "6231fa48-b735-47c4-af77-dc74c2eb5cc1",
   "metadata": {},
   "outputs": [
    {
     "name": "stderr",
     "output_type": "stream",
     "text": [
      "100%|██████████████████████████████████████████████████████████████████████████████████████████████████████████████████████████████████████| 27/27 [00:30<00:00,  1.14s/it]\n"
     ]
    },
    {
     "name": "stdout",
     "output_type": "stream",
     "text": [
      "Rounded all columns to 4 decimal places\n"
     ]
    }
   ],
   "source": [
    "safe_columns = check_unique_value_counts(test_r)\n",
    "test_r = round_four_decimals(test_r, safe_columns)"
   ]
  },
  {
   "cell_type": "code",
   "execution_count": 48,
   "id": "fb9210d8-16c4-451c-9636-35d47fb96a4b",
   "metadata": {},
   "outputs": [
    {
     "name": "stdout",
     "output_type": "stream",
     "text": [
      "Failed to convert column R_7, difference exceeded threshold 1e-05\n",
      "Failed to convert column R_14, difference exceeded threshold 1e-05\n"
     ]
    }
   ],
   "source": [
    "test_r = reduce_data_size_to_32(test_r, type_=\"test\")"
   ]
  },
  {
   "cell_type": "markdown",
   "id": "82fd42db-d870-4d9d-9bad-59a4c596accf",
   "metadata": {},
   "source": [
    "#### Balance"
   ]
  },
  {
   "cell_type": "code",
   "execution_count": 49,
   "id": "1637f47a-0279-4165-8973-c505320eb701",
   "metadata": {},
   "outputs": [
    {
     "name": "stdout",
     "output_type": "stream",
     "text": [
      "Shape of data: (11363762, 41)\n",
      "CPU times: user 2.98 s, sys: 8.51 s, total: 11.5 s\n",
      "Wall time: 8.69 s\n"
     ]
    }
   ],
   "source": [
    "%%time\n",
    "test_b = read_file(f\"{RAW_DATA_PATH}/test_raw/balance_only.parquet\")\n",
    "test_b = test_b.reset_index(drop=True)"
   ]
  },
  {
   "cell_type": "code",
   "execution_count": 50,
   "id": "9e507df0-0568-4f6c-9aa0-81763f9fde7f",
   "metadata": {},
   "outputs": [
    {
     "name": "stderr",
     "output_type": "stream",
     "text": [
      " 72%|████████████████████████████████████████████████████████████████████████████████████████████████▏                                     | 28/39 [00:32<00:09,  1.11it/s]"
     ]
    },
    {
     "name": "stdout",
     "output_type": "stream",
     "text": [
      "B_30 9618034\n",
      "B_31 11324528\n"
     ]
    },
    {
     "name": "stderr",
     "output_type": "stream",
     "text": [
      " 87%|████████████████████████████████████████████████████████████████████████████████████████████████████████████████████▊                 | 34/39 [00:37<00:04,  1.06it/s]"
     ]
    },
    {
     "name": "stdout",
     "output_type": "stream",
     "text": [
      "B_38 4133804\n"
     ]
    },
    {
     "name": "stderr",
     "output_type": "stream",
     "text": [
      "100%|██████████████████████████████████████████████████████████████████████████████████████████████████████████████████████████████████████| 39/39 [00:39<00:00,  1.02s/it]\n",
      "\n",
      "KeyboardInterrupt\n",
      "\n"
     ]
    }
   ],
   "source": [
    "safe_columns = check_unique_value_counts(test_b)\n",
    "test_b = round_four_decimals(test_b, safe_columns)"
   ]
  },
  {
   "cell_type": "code",
   "execution_count": 52,
   "id": "562c7b63-6312-4c44-93ab-7eadb7f042bd",
   "metadata": {},
   "outputs": [
    {
     "name": "stdout",
     "output_type": "stream",
     "text": [
      "Failed to convert column B_6, difference exceeded threshold 1e-05\n",
      "Failed to convert column B_10, difference exceeded threshold 1e-05\n",
      "Failed to convert column B_12, difference exceeded threshold 1e-05\n",
      "Failed to convert column B_13, difference exceeded threshold 1e-05\n",
      "Failed to convert column B_21, difference exceeded threshold 1e-05\n",
      "Failed to convert column B_26, difference exceeded threshold 1e-05\n",
      "Stop converting column B_31, its original data format is not np.float64 / float64\n",
      "Failed to convert column B_40, difference exceeded threshold 1e-05\n"
     ]
    }
   ],
   "source": [
    "test_b = reduce_data_size_to_32(test_b, type_=\"test\")"
   ]
  },
  {
   "cell_type": "markdown",
   "id": "6893c04a-dcc5-46f8-bd1b-b3b7bb5eb2aa",
   "metadata": {},
   "source": [
    "#### Delinquency"
   ]
  },
  {
   "cell_type": "code",
   "execution_count": 53,
   "id": "afcde355-09af-4855-8714-46ec587799ce",
   "metadata": {},
   "outputs": [
    {
     "name": "stdout",
     "output_type": "stream",
     "text": [
      "Shape of data: (11363762, 97)\n",
      "CPU times: user 7.23 s, sys: 24.3 s, total: 31.5 s\n",
      "Wall time: 37.2 s\n"
     ]
    }
   ],
   "source": [
    "%%time\n",
    "test_d = read_file(f\"{RAW_DATA_PATH}/test_raw/delinquency_only.parquet\")\n",
    "test_d = test_d.reset_index(drop=True)"
   ]
  },
  {
   "cell_type": "code",
   "execution_count": 54,
   "id": "ae0dd01c-27ed-4d4a-a5ee-822f569c76b9",
   "metadata": {},
   "outputs": [
    {
     "name": "stderr",
     "output_type": "stream",
     "text": [
      " 23%|███████████████████████████████                                                                                                       | 22/95 [00:20<01:01,  1.18it/s]"
     ]
    },
    {
     "name": "stdout",
     "output_type": "stream",
     "text": [
      "D_63 8429213\n"
     ]
    },
    {
     "name": "stderr",
     "output_type": "stream",
     "text": [
      " 24%|████████████████████████████████▍                                                                                                     | 23/95 [00:20<00:47,  1.51it/s]"
     ]
    },
    {
     "name": "stdout",
     "output_type": "stream",
     "text": [
      "D_64 5993483\n"
     ]
    },
    {
     "name": "stderr",
     "output_type": "stream",
     "text": [
      " 27%|████████████████████████████████████▋                                                                                                 | 26/95 [00:22<00:33,  2.05it/s]"
     ]
    },
    {
     "name": "stdout",
     "output_type": "stream",
     "text": [
      "D_66 1349834\n",
      "D_68 5623121\n"
     ]
    },
    {
     "name": "stderr",
     "output_type": "stream",
     "text": [
      " 45%|████████████████████████████████████████████████████████████▋                                                                         | 43/95 [00:39<00:56,  1.08s/it]"
     ]
    },
    {
     "name": "stdout",
     "output_type": "stream",
     "text": [
      "D_87 10972\n"
     ]
    },
    {
     "name": "stderr",
     "output_type": "stream",
     "text": [
      " 66%|████████████████████████████████████████████████████████████████████████████████████████▊                                             | 63/95 [00:55<00:22,  1.42it/s]"
     ]
    },
    {
     "name": "stdout",
     "output_type": "stream",
     "text": [
      "D_114 6957846\n"
     ]
    },
    {
     "name": "stderr",
     "output_type": "stream",
     "text": [
      " 71%|██████████████████████████████████████████████████████████████████████████████████████████████▌                                       | 67/95 [00:57<00:12,  2.16it/s]"
     ]
    },
    {
     "name": "stdout",
     "output_type": "stream",
     "text": [
      "D_116 11048854\n",
      "D_117 3097065\n"
     ]
    },
    {
     "name": "stderr",
     "output_type": "stream",
     "text": [
      " 73%|█████████████████████████████████████████████████████████████████████████████████████████████████▎                                    | 69/95 [00:59<00:18,  1.39it/s]"
     ]
    },
    {
     "name": "stdout",
     "output_type": "stream",
     "text": [
      "D_120 8803450\n"
     ]
    },
    {
     "name": "stderr",
     "output_type": "stream",
     "text": [
      " 79%|█████████████████████████████████████████████████████████████████████████████████████████████████████████▊                            | 75/95 [01:05<00:19,  1.00it/s]"
     ]
    },
    {
     "name": "stdout",
     "output_type": "stream",
     "text": [
      "D_126 8628867\n"
     ]
    },
    {
     "name": "stderr",
     "output_type": "stream",
     "text": [
      "100%|██████████████████████████████████████████████████████████████████████████████████████████████████████████████████████████████████████| 95/95 [01:20<00:00,  1.18it/s]\n"
     ]
    },
    {
     "name": "stdout",
     "output_type": "stream",
     "text": [
      "Rounded all columns to 4 decimal places\n"
     ]
    }
   ],
   "source": [
    "safe_columns = check_unique_value_counts(test_d)\n",
    "test_d = round_four_decimals(test_d, safe_columns)"
   ]
  },
  {
   "cell_type": "code",
   "execution_count": 56,
   "id": "1cf8f1fa-ea8f-4c81-9ec8-9acd22c97c12",
   "metadata": {},
   "outputs": [
    {
     "name": "stdout",
     "output_type": "stream",
     "text": [
      "Failed to convert column D_50, difference exceeded threshold 1e-05\n",
      "Failed to convert column D_61, difference exceeded threshold 1e-05\n",
      "Failed to convert column D_65, difference exceeded threshold 1e-05\n",
      "Failed to convert column D_69, difference exceeded threshold 1e-05\n",
      "Failed to convert column D_106, difference exceeded threshold 1e-05\n",
      "Failed to convert column D_123, difference exceeded threshold 1e-05\n"
     ]
    }
   ],
   "source": [
    "test_d = reduce_data_size_to_32(test_d, type_=\"test\")"
   ]
  },
  {
   "cell_type": "code",
   "execution_count": null,
   "id": "5e45629f-6a3c-4c00-bed2-53e4c44a083a",
   "metadata": {},
   "outputs": [],
   "source": [
    "if \"S_2\" not in test_r.columns:\n",
    "    test_r.insert(1, \"S_2\", test_sp[\"S_2\"])\n",
    "    test_b.insert(1, \"S_2\", test_sp[\"S_2\"])\n",
    "    test_d.insert(1, \"S_2\", test_sp[\"S_2\"])"
   ]
  },
  {
   "cell_type": "code",
   "execution_count": null,
   "id": "ac7790d4-cca7-489b-b52b-d448f5c52caa",
   "metadata": {},
   "outputs": [],
   "source": [
    "test_sp.shape, test_r.shape, test_b.shape, test_d.shape"
   ]
  },
  {
   "cell_type": "code",
   "execution_count": 66,
   "id": "18d26a2d-7200-4f0a-889b-3f5f90144fca",
   "metadata": {},
   "outputs": [
    {
     "name": "stdout",
     "output_type": "stream",
     "text": [
      "CPU times: user 37.8 s, sys: 13.9 s, total: 51.8 s\n",
      "Wall time: 47.9 s\n"
     ]
    }
   ],
   "source": [
    "%%time\n",
    "test_sp.to_parquet(f\"{RAW_TEST_PARQUET_PATH}/raw_spend_payment.parquet\")\n",
    "test_r.to_parquet(f\"{RAW_TEST_PARQUET_PATH}/raw_risk.parquet\")\n",
    "test_b.to_parquet(f\"{RAW_TEST_PARQUET_PATH}/raw_balance.parquet\")\n",
    "test_d.to_parquet(f\"{RAW_TEST_PARQUET_PATH}/raw_delinquency.parquet\")"
   ]
  },
  {
   "cell_type": "code",
   "execution_count": 67,
   "id": "1a85e659-7bc0-40ae-a02d-09e65fce679b",
   "metadata": {},
   "outputs": [],
   "source": [
    "del test_sp, test_r, test_b, test_d"
   ]
  },
  {
   "cell_type": "code",
   "execution_count": null,
   "id": "5da757da-5259-47e5-80af-1810fe62dff0",
   "metadata": {},
   "outputs": [],
   "source": []
  }
 ],
 "metadata": {
  "kernelspec": {
   "display_name": "amex",
   "language": "python",
   "name": "amex"
  },
  "language_info": {
   "codemirror_mode": {
    "name": "ipython",
    "version": 3
   },
   "file_extension": ".py",
   "mimetype": "text/x-python",
   "name": "python",
   "nbconvert_exporter": "python",
   "pygments_lexer": "ipython3",
   "version": "3.10.0"
  }
 },
 "nbformat": 4,
 "nbformat_minor": 5
}
