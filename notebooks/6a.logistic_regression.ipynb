{
 "cells": [
  {
   "cell_type": "code",
   "execution_count": 98,
   "id": "5dd2ca34-3410-4078-aa48-7adbba211ed5",
   "metadata": {},
   "outputs": [],
   "source": [
    "import gc\n",
    "import joblib\n",
    "import matplotlib.pyplot as plt\n",
    "import pandas as pd\n",
    "import numpy as np\n",
    "import os\n",
    "import seaborn as sns\n",
    "import sys\n",
    "sys.path.append(\"../\")\n",
    "import time\n",
    "import warnings\n",
    "warnings.simplefilter(\"ignore\")\n",
    "from lightgbm import LGBMClassifier\n",
    "from sklearn.ensemble import RandomForestClassifier\n",
    "from sklearn.linear_model import LogisticRegression\n",
    "from sklearn.neighbors import KNeighborsClassifier\n",
    "from sklearn.preprocessing import MinMaxScaler, StandardScaler\n",
    "from sklearn.model_selection import train_test_split, StratifiedKFold\n",
    "from sklearn.metrics import roc_auc_score, fbeta_score, make_scorer\n",
    "from tqdm import tqdm"
   ]
  },
  {
   "cell_type": "code",
   "execution_count": 84,
   "id": "88e773c8-793b-4771-85d2-80ad4e905510",
   "metadata": {},
   "outputs": [],
   "source": [
    "from utils.common import (\n",
    "    sigmoid, reverse_sigmoid,\n",
    "    pad_column_name\n",
    ")\n",
    "from utils.constants import *\n",
    "from utils.eval_helpers import (\n",
    "    plot_roc_curves, plot_feature_importance, get_final_metric_df,\n",
    "    amex_metric, get_final_metric_df, amex_metric_np, lgb_amex_metric, \n",
    "    plot_score_distribution, train_logistic_regression\n",
    ")\n",
    "from utils.eda_helpers import (\n",
    "    plot_missing_proportion_barchart, \n",
    "    get_cols, plot_heatmap\n",
    ")\n",
    "from utils.extraction_helpers import read_file\n",
    "from utils.feature_group import (\n",
    "    CATEGORY_COLUMNS, CONTINUOUS_COLUMNS, NON_FEATURE_COLUMNS\n",
    ")"
   ]
  },
  {
   "cell_type": "code",
   "execution_count": 85,
   "id": "e4698b61-dcd2-43c3-b5e3-cd5a350b5e4a",
   "metadata": {},
   "outputs": [
    {
     "name": "stdout",
     "output_type": "stream",
     "text": [
      "The autoreload extension is already loaded. To reload it, use:\n",
      "  %reload_ext autoreload\n"
     ]
    }
   ],
   "source": [
    "%load_ext autoreload\n",
    "%autoreload"
   ]
  },
  {
   "cell_type": "code",
   "execution_count": 86,
   "id": "3c71f6e3-c9fe-4896-8418-00462a1858c4",
   "metadata": {},
   "outputs": [],
   "source": [
    "ID_COLUMNS = [\"customer_ID\", \"target\"]"
   ]
  },
  {
   "cell_type": "markdown",
   "id": "884ad3df-d4d2-4c01-9066-8f6e70514295",
   "metadata": {},
   "source": [
    "### Read Data"
   ]
  },
  {
   "cell_type": "code",
   "execution_count": 81,
   "id": "876fe9af-442c-4fe7-a961-5b9c14a69441",
   "metadata": {},
   "outputs": [
    {
     "name": "stdout",
     "output_type": "stream",
     "text": [
      "Shape of data: (458913, 2)\n"
     ]
    },
    {
     "data": {
      "text/html": [
       "<div>\n",
       "<style scoped>\n",
       "    .dataframe tbody tr th:only-of-type {\n",
       "        vertical-align: middle;\n",
       "    }\n",
       "\n",
       "    .dataframe tbody tr th {\n",
       "        vertical-align: top;\n",
       "    }\n",
       "\n",
       "    .dataframe thead th {\n",
       "        text-align: right;\n",
       "    }\n",
       "</style>\n",
       "<table border=\"1\" class=\"dataframe\">\n",
       "  <thead>\n",
       "    <tr style=\"text-align: right;\">\n",
       "      <th></th>\n",
       "      <th>customer_ID</th>\n",
       "      <th>target</th>\n",
       "    </tr>\n",
       "  </thead>\n",
       "  <tbody>\n",
       "    <tr>\n",
       "      <th>0</th>\n",
       "      <td>0000099d6bd597052cdcda90ffabf56573fe9d7c79be5f...</td>\n",
       "      <td>0</td>\n",
       "    </tr>\n",
       "    <tr>\n",
       "      <th>1</th>\n",
       "      <td>00000fd6641609c6ece5454664794f0340ad84dddce9a2...</td>\n",
       "      <td>0</td>\n",
       "    </tr>\n",
       "  </tbody>\n",
       "</table>\n",
       "</div>"
      ],
      "text/plain": [
       "                                         customer_ID  target\n",
       "0  0000099d6bd597052cdcda90ffabf56573fe9d7c79be5f...       0\n",
       "1  00000fd6641609c6ece5454664794f0340ad84dddce9a2...       0"
      ]
     },
     "execution_count": 81,
     "metadata": {},
     "output_type": "execute_result"
    }
   ],
   "source": [
    "labels = read_file(f\"{RAW_DATA_PATH}/train_labels.csv\")\n",
    "target = labels[\"target\"]\n",
    "labels.head(2)"
   ]
  },
  {
   "cell_type": "code",
   "execution_count": 27,
   "id": "0a2d00f3-c1a3-4b90-99c3-79c77b41b677",
   "metadata": {},
   "outputs": [
    {
     "name": "stdout",
     "output_type": "stream",
     "text": [
      "Shape of data: (458913, 2)\n"
     ]
    },
    {
     "data": {
      "text/html": [
       "<div>\n",
       "<style scoped>\n",
       "    .dataframe tbody tr th:only-of-type {\n",
       "        vertical-align: middle;\n",
       "    }\n",
       "\n",
       "    .dataframe tbody tr th {\n",
       "        vertical-align: top;\n",
       "    }\n",
       "\n",
       "    .dataframe thead th {\n",
       "        text-align: right;\n",
       "    }\n",
       "</style>\n",
       "<table border=\"1\" class=\"dataframe\">\n",
       "  <thead>\n",
       "    <tr style=\"text-align: right;\">\n",
       "      <th></th>\n",
       "      <th>customer_ID</th>\n",
       "      <th>num_statements</th>\n",
       "    </tr>\n",
       "  </thead>\n",
       "  <tbody>\n",
       "    <tr>\n",
       "      <th>0</th>\n",
       "      <td>0000099d6bd597052cdcda90ffabf56573fe9d7c79be5f...</td>\n",
       "      <td>13</td>\n",
       "    </tr>\n",
       "    <tr>\n",
       "      <th>1</th>\n",
       "      <td>00000fd6641609c6ece5454664794f0340ad84dddce9a2...</td>\n",
       "      <td>13</td>\n",
       "    </tr>\n",
       "  </tbody>\n",
       "</table>\n",
       "</div>"
      ],
      "text/plain": [
       "                                         customer_ID  num_statements\n",
       "0  0000099d6bd597052cdcda90ffabf56573fe9d7c79be5f...              13\n",
       "1  00000fd6641609c6ece5454664794f0340ad84dddce9a2...              13"
      ]
     },
     "execution_count": 27,
     "metadata": {},
     "output_type": "execute_result"
    }
   ],
   "source": [
    "num_statements_df = read_file(f\"{RAW_DATA_PATH}/train_num_statements.csv\")\n",
    "num_statements_df.head(2)"
   ]
  },
  {
   "cell_type": "code",
   "execution_count": 28,
   "id": "5488998d-253c-4018-a647-1ed2853a849f",
   "metadata": {},
   "outputs": [
    {
     "name": "stdout",
     "output_type": "stream",
     "text": [
      "Shape of data: (458913, 44)\n"
     ]
    }
   ],
   "source": [
    "master_train_score_df = read_file(f\"{EXP_PATH}/master_result/master_train_scores.csv\")"
   ]
  },
  {
   "cell_type": "code",
   "execution_count": 29,
   "id": "aab26895-fe5b-4195-99d0-49f2a175506e",
   "metadata": {},
   "outputs": [],
   "source": [
    "master_train_score_df = master_train_score_df.loc[:, ID_COLUMNS + get_cols(master_train_score_df, \"oof\")]"
   ]
  },
  {
   "cell_type": "code",
   "execution_count": 30,
   "id": "5ddbe5cd-d669-400b-bab3-73c6c794c0c0",
   "metadata": {},
   "outputs": [
    {
     "name": "stdout",
     "output_type": "stream",
     "text": [
      "Shape of data: (458913, 4)\n"
     ]
    }
   ],
   "source": [
    "train_score_c1 = read_file(f\"{EXP_PATH}/chris/0.792648_custom_emb_local_best_no_sigmoid_skf_oof.csv\")\n",
    "train_score_c1 = train_score_c1.rename(columns={\"oof_prediction\": \"chris_exp1_oof_score\"})"
   ]
  },
  {
   "cell_type": "code",
   "execution_count": 31,
   "id": "3f5a2773-3923-4bce-b7cf-ba3da7cbc79f",
   "metadata": {},
   "outputs": [],
   "source": [
    "master_train_score_df = master_train_score_df.merge(\n",
    "    train_score_c1[ID_COLUMNS + [\"chris_exp1_oof_score\"]], on=ID_COLUMNS, how='left'\n",
    ")"
   ]
  },
  {
   "cell_type": "code",
   "execution_count": 32,
   "id": "ae083d12-8548-4aa5-9487-2d715e0ee8ca",
   "metadata": {},
   "outputs": [],
   "source": [
    "oof_columns = get_cols(master_train_score_df, \"oof\")"
   ]
  },
  {
   "cell_type": "code",
   "execution_count": 33,
   "id": "64b86fce-41bf-4853-a13e-e5707d297c2c",
   "metadata": {},
   "outputs": [
    {
     "name": "stdout",
     "output_type": "stream",
     "text": [
      "exp1: OOF amex metric - 0.79868\n",
      "exp2: OOF amex metric - 0.79871\n",
      "exp3: OOF amex metric - 0.79779\n",
      "exp4: OOF amex metric - 0.79880\n",
      "exp5: OOF amex metric - 0.79717\n",
      "exp9: OOF amex metric - 0.79732\n",
      "exp10: OOF amex metric - 0.79549\n",
      "chris: OOF amex metric - 0.78706\n"
     ]
    }
   ],
   "source": [
    "for col in oof_columns:\n",
    "    metric = amex_metric(master_train_score_df[\"target\"], master_train_score_df[col])\n",
    "    print(f\"{col.split('_')[0]}: OOF amex metric - {metric[0]:.5f}\")"
   ]
  },
  {
   "cell_type": "code",
   "execution_count": 34,
   "id": "6ac40f48-2734-41a8-9142-190f7b8be039",
   "metadata": {},
   "outputs": [],
   "source": [
    "# exp10 = train_score10.rename(\n",
    "#     columns={k: \"exp10_\" + k.replace(\"score\", \"fold\") + \"_score\" for k in score_col}\n",
    "# ).rename(columns={\"oof_score\": \"exp10_oof_score\"}).drop(columns=[\"customer_ID\", \"target\"])\n",
    "# exp10.head()"
   ]
  },
  {
   "cell_type": "markdown",
   "id": "8f7e31a5-1d53-4969-b302-b19bcf36e38b",
   "metadata": {},
   "source": [
    "### Train Logistic Regression"
   ]
  },
  {
   "cell_type": "code",
   "execution_count": 87,
   "id": "87ace608-5336-4d68-aff2-23ae15a125c0",
   "metadata": {},
   "outputs": [],
   "source": [
    "X_train = master_train_score_df.loc[:, oof_columns]\n",
    "y_train = master_train_score_df.loc[:, \"target\"]"
   ]
  },
  {
   "cell_type": "code",
   "execution_count": 88,
   "id": "c20bc313-40c0-47b3-af37-403481d18911",
   "metadata": {},
   "outputs": [],
   "source": [
    "X_train = X_train.drop(columns=[\"exp3_oof_score\", \"exp5_oof_score\", \"exp10_oof_score\"])"
   ]
  },
  {
   "cell_type": "code",
   "execution_count": 89,
   "id": "b0eab655-bbc8-47a8-93d7-e66904f4cdf7",
   "metadata": {},
   "outputs": [],
   "source": [
    "# X_train[\"temp1_oof_score\"] = (X_train[\"chris_exp1_oof_score\"] ** 2) * np.where(X_train[\"chris_exp1_oof_score\"] > 0, 1, -1)"
   ]
  },
  {
   "cell_type": "code",
   "execution_count": 175,
   "id": "ccf9b088-933c-40b0-b510-eb5846f61794",
   "metadata": {},
   "outputs": [
    {
     "data": {
      "text/html": [
       "<div>\n",
       "<style scoped>\n",
       "    .dataframe tbody tr th:only-of-type {\n",
       "        vertical-align: middle;\n",
       "    }\n",
       "\n",
       "    .dataframe tbody tr th {\n",
       "        vertical-align: top;\n",
       "    }\n",
       "\n",
       "    .dataframe thead th {\n",
       "        text-align: right;\n",
       "    }\n",
       "</style>\n",
       "<table border=\"1\" class=\"dataframe\">\n",
       "  <thead>\n",
       "    <tr style=\"text-align: right;\">\n",
       "      <th></th>\n",
       "      <th>exp1_oof_score</th>\n",
       "      <th>exp2_oof_score</th>\n",
       "      <th>exp4_oof_score</th>\n",
       "      <th>exp9_oof_score</th>\n",
       "      <th>chris_exp1_oof_score</th>\n",
       "    </tr>\n",
       "  </thead>\n",
       "  <tbody>\n",
       "    <tr>\n",
       "      <th>count</th>\n",
       "      <td>458913.000000</td>\n",
       "      <td>458913.000000</td>\n",
       "      <td>458913.000000</td>\n",
       "      <td>458913.000000</td>\n",
       "      <td>458913.000000</td>\n",
       "    </tr>\n",
       "    <tr>\n",
       "      <th>mean</th>\n",
       "      <td>-2.670165</td>\n",
       "      <td>-2.601158</td>\n",
       "      <td>-2.707905</td>\n",
       "      <td>-2.644917</td>\n",
       "      <td>-2.028317</td>\n",
       "    </tr>\n",
       "    <tr>\n",
       "      <th>std</th>\n",
       "      <td>3.742455</td>\n",
       "      <td>3.642975</td>\n",
       "      <td>3.757464</td>\n",
       "      <td>3.693017</td>\n",
       "      <td>3.874062</td>\n",
       "    </tr>\n",
       "    <tr>\n",
       "      <th>min</th>\n",
       "      <td>-9.951277</td>\n",
       "      <td>-9.597510</td>\n",
       "      <td>-10.496748</td>\n",
       "      <td>-9.594308</td>\n",
       "      <td>-8.881240</td>\n",
       "    </tr>\n",
       "    <tr>\n",
       "      <th>25%</th>\n",
       "      <td>-5.852811</td>\n",
       "      <td>-5.721689</td>\n",
       "      <td>-5.898782</td>\n",
       "      <td>-5.794857</td>\n",
       "      <td>-5.390008</td>\n",
       "    </tr>\n",
       "    <tr>\n",
       "      <th>50%</th>\n",
       "      <td>-3.441199</td>\n",
       "      <td>-3.347013</td>\n",
       "      <td>-3.490815</td>\n",
       "      <td>-3.405300</td>\n",
       "      <td>-2.745373</td>\n",
       "    </tr>\n",
       "    <tr>\n",
       "      <th>75%</th>\n",
       "      <td>0.343257</td>\n",
       "      <td>0.359714</td>\n",
       "      <td>0.313746</td>\n",
       "      <td>0.348891</td>\n",
       "      <td>1.198648</td>\n",
       "    </tr>\n",
       "    <tr>\n",
       "      <th>max</th>\n",
       "      <td>9.244411</td>\n",
       "      <td>8.632654</td>\n",
       "      <td>9.233799</td>\n",
       "      <td>8.826942</td>\n",
       "      <td>7.899796</td>\n",
       "    </tr>\n",
       "  </tbody>\n",
       "</table>\n",
       "</div>"
      ],
      "text/plain": [
       "       exp1_oof_score  exp2_oof_score  exp4_oof_score  exp9_oof_score  \\\n",
       "count   458913.000000   458913.000000   458913.000000   458913.000000   \n",
       "mean        -2.670165       -2.601158       -2.707905       -2.644917   \n",
       "std          3.742455        3.642975        3.757464        3.693017   \n",
       "min         -9.951277       -9.597510      -10.496748       -9.594308   \n",
       "25%         -5.852811       -5.721689       -5.898782       -5.794857   \n",
       "50%         -3.441199       -3.347013       -3.490815       -3.405300   \n",
       "75%          0.343257        0.359714        0.313746        0.348891   \n",
       "max          9.244411        8.632654        9.233799        8.826942   \n",
       "\n",
       "       chris_exp1_oof_score  \n",
       "count         458913.000000  \n",
       "mean              -2.028317  \n",
       "std                3.874062  \n",
       "min               -8.881240  \n",
       "25%               -5.390008  \n",
       "50%               -2.745373  \n",
       "75%                1.198648  \n",
       "max                7.899796  "
      ]
     },
     "execution_count": 175,
     "metadata": {},
     "output_type": "execute_result"
    }
   ],
   "source": [
    "X_train.describe()"
   ]
  },
  {
   "cell_type": "code",
   "execution_count": 160,
   "id": "37b674e4-fde0-46e5-ab61-2fc2c3e0707d",
   "metadata": {},
   "outputs": [],
   "source": [
    "# Train a logistic regression unit on the OOF scores of my models\n",
    "def train_logistic_regression(X_train, y_train, preprocess=None, \n",
    "                              verbose=0, random_state=42):\n",
    "    scaler = None\n",
    "    if preprocess is None:\n",
    "        X_train_ = np.array(X_train)\n",
    "    elif preprocess == \"minmax\":\n",
    "        scaler = MinMaxScaler()\n",
    "        X_train_ = scaler.fit_transform(X_train)\n",
    "    elif preprocess == \"standard\":\n",
    "        scaler = StandardScaler()\n",
    "        X_train_ = scaler.fit_transform(X_train)\n",
    "    elif preprocess == \"sigmoid\":\n",
    "        X_train_ = X_train.copy()\n",
    "        for col in X_train.columns:\n",
    "            X_train_[col] = sigmoid(X_train[col])\n",
    "        X_train_ = np.array(X_train)\n",
    "    elif preprocess == \"reverse_sigmoid\":\n",
    "        X_train_ = X_train.copy()\n",
    "        for col in X_train.columns:\n",
    "            X_train_[col] = reverse_sigmoid(X_train[col])\n",
    "        X_train_ = np.array(X_train)\n",
    "    else:\n",
    "        X_train_ = np.array(X_train)\n",
    "        print(\"GG preprocessing unknown\")\n",
    "    \n",
    "    kf = StratifiedKFold(n_splits=5, shuffle=True, random_state=random_state)\n",
    "    metrics, train_metrics = [], []\n",
    "    clf_list = []\n",
    "    for fold, (idx_tr, idx_va) in zip(range(1, 5+1), kf.split(X_train_, y_train)):\n",
    "        X_tr, X_va = X_train_[idx_tr], X_train_[idx_va]\n",
    "        y_tr, y_va = y_train[idx_tr], y_train[idx_va]\n",
    "        clf = LogisticRegression(\n",
    "            random_state=0,\n",
    "            class_weight={0: 1, 1: 3.25},\n",
    "            penalty=\"elasticnet\",\n",
    "            C=1.2,\n",
    "            solver=\"saga\",\n",
    "            l1_ratio=0.3\n",
    "        )\n",
    "        clf.fit(X_tr, y_tr)\n",
    "        clf_list.append(clf)\n",
    "        y_train_pred = clf.predict_proba(X_tr)[:, 1]\n",
    "        y_pred = clf.predict_proba(X_va)[:, 1]\n",
    "        train_metric = amex_metric(y_tr.values, y_train_pred)[0]\n",
    "        metric = amex_metric(y_va.values, y_pred)[0]\n",
    "        metrics.append(metric)\n",
    "        train_metrics.append(train_metric)\n",
    "        \n",
    "    if verbose:\n",
    "        print(fold, train_metric, metric)\n",
    "    \n",
    "    df = pd.DataFrame(dict(val_amex_metric=metrics,\n",
    "                           train_amex_metric=train_metrics))\n",
    "    return df, clf_list, scaler"
   ]
  },
  {
   "cell_type": "code",
   "execution_count": 176,
   "id": "89bd23e2-5526-4aff-bba3-fc9675683cb1",
   "metadata": {},
   "outputs": [
    {
     "name": "stdout",
     "output_type": "stream",
     "text": [
      "0.8003764660601483 0.8003906937312962\n"
     ]
    },
    {
     "data": {
      "image/png": "[encoded data removed]",
      "text/plain": [
       "<Figure size 432x288 with 1 Axes>"
      ]
     },
     "metadata": {
      "needs_background": "light"
     },
     "output_type": "display_data"
    }
   ],
   "source": [
    "metrics_df, clf_list, scaler = train_logistic_regression(X_train, y_train)\n",
    "print(metrics_df[\"train_amex_metric\"].mean(), metrics_df[\"val_amex_metric\"].mean())\n",
    "metrics_df.plot.scatter(x=[\"train_amex_metric\"], y=[\"val_amex_metric\"])\n",
    "plt.show()"
   ]
  },
  {
   "cell_type": "code",
   "execution_count": 178,
   "id": "a0b523ab-1270-41ec-89e2-4879c92a3f37",
   "metadata": {},
   "outputs": [],
   "source": [
    "# clf_list"
   ]
  },
  {
   "cell_type": "code",
   "execution_count": 179,
   "id": "8be5074e-5021-4d1e-a208-5e09711a92cd",
   "metadata": {},
   "outputs": [],
   "source": [
    "preds = []\n",
    "for clf in clf_list:\n",
    "    preds.append(clf.predict_proba(X_train)[:, 1])"
   ]
  },
  {
   "cell_type": "code",
   "execution_count": 180,
   "id": "a39402c7-823a-44c1-83b6-8f3d85b2d905",
   "metadata": {},
   "outputs": [
    {
     "data": {
      "text/plain": [
       "[array([0.00104241, 0.00240168, 0.00179587, ..., 0.00376515, 0.26398386,\n",
       "        0.00672782]),\n",
       " array([0.00102838, 0.00227922, 0.00173557, ..., 0.0036842 , 0.26544019,\n",
       "        0.00675609]),\n",
       " array([0.00101844, 0.00230375, 0.00173776, ..., 0.00371849, 0.26316398,\n",
       "        0.00669576]),\n",
       " array([0.00103088, 0.00235872, 0.00177679, ..., 0.00374397, 0.26474552,\n",
       "        0.00673335]),\n",
       " array([0.00105417, 0.00238143, 0.00181667, ..., 0.0037387 , 0.26766352,\n",
       "        0.00683897])]"
      ]
     },
     "execution_count": 180,
     "metadata": {},
     "output_type": "execute_result"
    }
   ],
   "source": [
    "preds"
   ]
  },
  {
   "cell_type": "code",
   "execution_count": 181,
   "id": "d78a6835-0479-441b-adef-9cf8d4c8129e",
   "metadata": {},
   "outputs": [],
   "source": [
    "preds = reverse_sigmoid(np.mean(preds, axis=0))"
   ]
  },
  {
   "cell_type": "code",
   "execution_count": 183,
   "id": "ca852173-fdd1-4ac3-858b-6650388c73d7",
   "metadata": {},
   "outputs": [
    {
     "data": {
      "text/plain": [
       "(0.8004888927704648, 0.926776418859676, 0.6742013666812535)"
      ]
     },
     "execution_count": 183,
     "metadata": {},
     "output_type": "execute_result"
    }
   ],
   "source": [
    "amex_metric(labels[\"target\"], preds)"
   ]
  },
  {
   "cell_type": "code",
   "execution_count": 184,
   "id": "1d29acb6-e728-4af8-a2ca-1f2b0a5e8a5c",
   "metadata": {},
   "outputs": [],
   "source": [
    "X_test_columns = [col.replace(\"oof_score\", \"average_test_score\") for col in X_train.columns]"
   ]
  },
  {
   "cell_type": "code",
   "execution_count": 69,
   "id": "ec26ae4b-8555-4648-b415-943b85d9a8be",
   "metadata": {},
   "outputs": [],
   "source": [
    "# result = pd.DataFrame(dict(boost_blend=preds, reg_residual=t8))"
   ]
  },
  {
   "cell_type": "markdown",
   "id": "ca40da50-2786-44af-bb59-3f8839c4611c",
   "metadata": {},
   "source": [
    "### Inference Logistic Regression"
   ]
  },
  {
   "cell_type": "code",
   "execution_count": 166,
   "id": "164a4a4e-9654-4a2d-9815-17cc51b2e74c",
   "metadata": {},
   "outputs": [
    {
     "name": "stdout",
     "output_type": "stream",
     "text": [
      "Shape of data: (924621, 43)\n"
     ]
    }
   ],
   "source": [
    "master_test_score_df = read_file(f\"{EXP_PATH}/master_result/master_test_scores.csv\")"
   ]
  },
  {
   "cell_type": "code",
   "execution_count": 167,
   "id": "4022c3a3-7d38-4c00-aea5-676e8103708d",
   "metadata": {},
   "outputs": [
    {
     "name": "stdout",
     "output_type": "stream",
     "text": [
      "Shape of data: (924621, 2)\n"
     ]
    }
   ],
   "source": [
    "test_score_c1 = read_file(f\"{EXP_PATH}/chris/0.792648_custom_emb_local_best_no_sigmoid_skf.csv\")\n",
    "test_score_c1[\"prediction\"] = test_score_c1[\"prediction\"].apply(reverse_sigmoid)\n",
    "test_score_c1 = test_score_c1.rename(columns={\"prediction\": \"chris_exp1_average_test_score\"})"
   ]
  },
  {
   "cell_type": "code",
   "execution_count": 168,
   "id": "2f6a7e5a-73fb-4fa4-95b5-2b8295fa16f9",
   "metadata": {},
   "outputs": [],
   "source": [
    "master_test_score_df = master_test_score_df.merge(\n",
    "    test_score_c1[[\"customer_ID\", \"chris_exp1_average_test_score\"]], on=\"customer_ID\", how='left'\n",
    ")"
   ]
  },
  {
   "cell_type": "code",
   "execution_count": 187,
   "id": "0e9a8fe1-fce0-4366-8d7f-a27605eebf01",
   "metadata": {},
   "outputs": [],
   "source": [
    "# avg_columns = get_cols(master_test_score_df, \"average\")"
   ]
  },
  {
   "cell_type": "code",
   "execution_count": 188,
   "id": "3e31cd77-9ae3-4f61-935d-ef7f55659cd4",
   "metadata": {},
   "outputs": [],
   "source": [
    "X_test = master_test_score_df.loc[:, X_test_columns]"
   ]
  },
  {
   "cell_type": "code",
   "execution_count": 189,
   "id": "9d0aa286-b18e-4699-a9f6-b4a0ed744599",
   "metadata": {},
   "outputs": [],
   "source": [
    "preds = []\n",
    "for clf in clf_list:\n",
    "    preds.append(clf.predict_proba(X_test)[:, 1])"
   ]
  },
  {
   "cell_type": "code",
   "execution_count": 190,
   "id": "f446666f-3fc1-4f55-8808-a7934ca43532",
   "metadata": {},
   "outputs": [],
   "source": [
    "preds = reverse_sigmoid(np.mean(preds, axis=0))"
   ]
  },
  {
   "cell_type": "code",
   "execution_count": 191,
   "id": "cc1ae132-32d1-47f8-9e09-4cb889cfd19f",
   "metadata": {},
   "outputs": [
    {
     "name": "stdout",
     "output_type": "stream",
     "text": [
      "Shape of data: (924621, 1)\n"
     ]
    }
   ],
   "source": [
    "cid = read_file(f\"{SUBMISSION_DATA_PATH}/empty.csv\")\n",
    "cid[\"prediction\"] = preds\n",
    "cid.to_csv(f\"{SUBMISSION_DATA_PATH}/second_blend_with_chris_ye_model_adjust_logreg.csv\", index=False)"
   ]
  },
  {
   "cell_type": "code",
   "execution_count": 78,
   "id": "e55a07cf-b63c-4313-8995-4c9614782abe",
   "metadata": {},
   "outputs": [],
   "source": [
    "sscaler = StandardScaler()\n",
    "X_test_ = sscaler.fit_transform(X_test)"
   ]
  },
  {
   "cell_type": "code",
   "execution_count": 79,
   "id": "dce80c86-9e79-4fe7-82ab-c4b0af9c4b6c",
   "metadata": {},
   "outputs": [],
   "source": [
    "preds = []\n",
    "for clf in clf_list:\n",
    "    preds.append(clf.predict_proba(X_test_)[:, 1])"
   ]
  },
  {
   "cell_type": "code",
   "execution_count": 80,
   "id": "6b0f3865-4974-4aa5-a039-5f5798b8e6d6",
   "metadata": {},
   "outputs": [],
   "source": [
    "preds = reverse_sigmoid(np.mean(preds, axis=0))"
   ]
  },
  {
   "cell_type": "code",
   "execution_count": 81,
   "id": "55e3840b-2526-4fd7-a64c-68f717d6bc36",
   "metadata": {},
   "outputs": [
    {
     "data": {
      "text/plain": [
       "array([-4.12183385, -7.55791985, -3.50713887, ..., -0.2849554 ,\n",
       "       -0.9373411 , -3.26565447])"
      ]
     },
     "execution_count": 81,
     "metadata": {},
     "output_type": "execute_result"
    }
   ],
   "source": [
    "preds"
   ]
  },
  {
   "cell_type": "code",
   "execution_count": 71,
   "id": "5288fcc5-9bb5-49fd-966d-d691f951d815",
   "metadata": {},
   "outputs": [],
   "source": [
    "# X_test[\"sign\"] = X_test.iloc[:, :6].apply(lambda x: 1 if sum([i > 0 for i in x]) > 0 else -1, axis=1)\n",
    "# X_test[\"sign\"].value_counts(normalize=True)\n",
    "# X_test[\"final\"] = X_test[\"sign\"] * X_test.iloc[:, :6].product(axis=1)\n",
    "# X_test[\"final\"]"
   ]
  },
  {
   "cell_type": "code",
   "execution_count": 82,
   "id": "0ab30f63-0a89-492f-8ea9-fb48141ecad9",
   "metadata": {},
   "outputs": [],
   "source": [
    "sub = pd.read_csv(f\"{SUBMISSION_DATA_PATH}/empty.csv\")\n",
    "sub[\"prediction\"] = preds\n",
    "sub.to_csv(f\"{SUBMISSION_DATA_PATH}/submission_22TH_blend_4_best_local_darts.csv\", index=False)"
   ]
  },
  {
   "cell_type": "code",
   "execution_count": 271,
   "id": "8d5988dd-e701-42c8-a0fa-65d8e81cc6eb",
   "metadata": {},
   "outputs": [],
   "source": [
    "X_test_ = mscaler.fit_transform(X_test_)"
   ]
  },
  {
   "cell_type": "code",
   "execution_count": 272,
   "id": "2bd4f558-dc70-4590-a021-2b832c0c387a",
   "metadata": {},
   "outputs": [],
   "source": [
    "preds = []\n",
    "for clf in clf_list:\n",
    "    preds.append(clf.predict_proba(X_test_)[:, 1])"
   ]
  },
  {
   "cell_type": "code",
   "execution_count": 273,
   "id": "73d0a183-edcf-40d9-841c-b8a36a30db50",
   "metadata": {},
   "outputs": [],
   "source": [
    "final_score = np.mean(preds, axis=0)"
   ]
  },
  {
   "cell_type": "code",
   "execution_count": 295,
   "id": "2a09d8c2-b3eb-430d-bcb1-8d2e69c817c8",
   "metadata": {},
   "outputs": [],
   "source": [
    "sub = pd.read_csv(f\"{SUBMISSION_DATA_PATH}/empty.csv\")\n",
    "sub[\"prediction\"] = test_score9.mean(axis=1)\n",
    "sub.to_csv(f\"{SUBMISSION_DATA_PATH}/submission_20TH_vanilla_experiment9_seed_1234_average.csv\", index=False)"
   ]
  },
  {
   "cell_type": "code",
   "execution_count": 288,
   "id": "535fa861-4eba-46c0-a4da-081c5e701ca3",
   "metadata": {},
   "outputs": [
    {
     "data": {
      "image/png": "[encoded data removed]",
      "text/plain": [
       "<Figure size 864x864 with 1 Axes>"
      ]
     },
     "metadata": {
      "needs_background": "light"
     },
     "output_type": "display_data"
    }
   ],
   "source": [
    "fig, ax = plt.subplots(figsize=(12, 12))\n",
    "sns.scatterplot(x=train_score9[\"score3\"], y=train_score9[\"score2\"], hue=train_score9[\"target\"])\n",
    "plt.plot(np.arange(-10, 10, 0.01), np.arange(-10, 10, 0.01), color=\"orange\", linestyle=\"-\")\n",
    "plt.show()"
   ]
  },
  {
   "cell_type": "code",
   "execution_count": 291,
   "id": "6fc14e47-e964-414c-90b8-a411635aba44",
   "metadata": {},
   "outputs": [
    {
     "data": {
      "image/png": "[encoded data removed]",
      "text/plain": [
       "<Figure size 864x864 with 1 Axes>"
      ]
     },
     "metadata": {
      "needs_background": "light"
     },
     "output_type": "display_data"
    }
   ],
   "source": [
    "fig, ax = plt.subplots(figsize=(12, 12))\n",
    "plt.scatter(test_score9[\"score3\"], test_score9[\"score4\"])\n",
    "plt.show()"
   ]
  },
  {
   "cell_type": "code",
   "execution_count": 320,
   "id": "7d34d432-174f-4b3a-bc5d-eae79fa2c855",
   "metadata": {},
   "outputs": [
    {
     "data": {
      "text/plain": [
       "array([[-8.02558655, -7.53088904, -7.79839396, -7.60327302],\n",
       "       [-6.99587721, -7.35056828, -6.93377296, -6.69328752],\n",
       "       [-7.18439325, -7.41133143, -7.42501141, -6.87409778],\n",
       "       ...,\n",
       "       [-6.70857283, -6.57018898, -6.23910077, -6.91964404],\n",
       "       [-1.92453839, -1.77250317, -2.02940995, -1.83362764],\n",
       "       [-6.05023009, -5.61319556, -5.86492798, -6.06270989]])"
      ]
     },
     "execution_count": 320,
     "metadata": {},
     "output_type": "execute_result"
    }
   ],
   "source": [
    "X_train_"
   ]
  },
  {
   "cell_type": "markdown",
   "id": "808e9d16-5f2a-4e6a-962f-7b7bd43c0669",
   "metadata": {},
   "source": [
    "### END"
   ]
  },
  {
   "cell_type": "code",
   "execution_count": null,
   "id": "cab44cf4-bed9-4e35-b271-421cde6a54da",
   "metadata": {},
   "outputs": [],
   "source": []
  },
  {
   "cell_type": "code",
   "execution_count": 434,
   "id": "c1437880-7185-47a6-bbf3-a22e5d31543e",
   "metadata": {},
   "outputs": [],
   "source": [
    "# mscaler = StandardScaler()\n",
    "# result = pd.DataFrame(mscaler.fit_transform(result), columns=result.columns)"
   ]
  },
  {
   "cell_type": "code",
   "execution_count": 435,
   "id": "de228f21-ff5c-4778-b589-95654ae1c312",
   "metadata": {},
   "outputs": [],
   "source": [
    "top_thr = np.percentile(result[\"boost_blend\"], 80)\n",
    "mid_thr = np.percentile(result[\"boost_blend\"], 70)\n",
    "btm_thr = np.percentile(result[\"boost_blend\"], 10)"
   ]
  },
  {
   "cell_type": "code",
   "execution_count": 436,
   "id": "f6aff755-4609-47a5-a36e-5961f9046459",
   "metadata": {},
   "outputs": [
    {
     "data": {
      "text/plain": [
       "91783"
      ]
     },
     "execution_count": 436,
     "metadata": {},
     "output_type": "execute_result"
    }
   ],
   "source": [
    "(result[\"boost_blend\"] >= top_thr).sum()"
   ]
  },
  {
   "cell_type": "code",
   "execution_count": 437,
   "id": "279666a8-9e29-4239-8266-b0fb64d9535a",
   "metadata": {},
   "outputs": [],
   "source": [
    "result.loc[:, \"final\"] = np.where(\n",
    "    (result[\"boost_blend\"] >= top_thr), # & (result[\"reg_residual\"] < 0), \n",
    "    0.9 * result[\"boost_blend\"] + 0.1 * (result[\"reg_residual\"] + 5),\n",
    "    result[\"boost_blend\"],\n",
    ")"
   ]
  },
  {
   "cell_type": "code",
   "execution_count": 438,
   "id": "f8dd07b3-548a-4579-a236-f64cd64a69f7",
   "metadata": {},
   "outputs": [],
   "source": [
    "result.loc[:, \"final\"] = np.where(\n",
    "    (result.loc[:, \"final\"].between(mid_thr, top_thr)) & (result[\"reg_residual\"] > 0), \n",
    "    0.9 * result[\"final\"] + 0.1 * (result[\"reg_residual\"] - 0.25),\n",
    "    result[\"final\"],\n",
    ")"
   ]
  },
  {
   "cell_type": "code",
   "execution_count": 439,
   "id": "30164358-28e3-4aa5-8d97-6e461bb3ac46",
   "metadata": {},
   "outputs": [],
   "source": [
    "result[\"target\"] = labels['target'].values"
   ]
  },
  {
   "cell_type": "code",
   "execution_count": 440,
   "id": "36bfbc5b-c689-41f0-9252-5b76ae03cadb",
   "metadata": {},
   "outputs": [
    {
     "data": {
      "text/plain": [
       "(0.7998247588149134, 0.9266179089180755, 0.6730316087117515)"
      ]
     },
     "execution_count": 440,
     "metadata": {},
     "output_type": "execute_result"
    }
   ],
   "source": [
    "amex_metric(labels[\"target\"], result[\"final\"])"
   ]
  },
  {
   "cell_type": "code",
   "execution_count": 239,
   "id": "ab773b7b-c960-4f2d-a5f4-2cc524164e96",
   "metadata": {},
   "outputs": [],
   "source": [
    "result = get_final_metric_df(result, pred_col=\"boost_blend\").reset_index(drop=True)"
   ]
  },
  {
   "cell_type": "code",
   "execution_count": 240,
   "id": "3bd3d269-22bb-414e-8b6d-069a0c3c9683",
   "metadata": {},
   "outputs": [
    {
     "data": {
      "text/html": [
       "<div>\n",
       "<style scoped>\n",
       "    .dataframe tbody tr th:only-of-type {\n",
       "        vertical-align: middle;\n",
       "    }\n",
       "\n",
       "    .dataframe tbody tr th {\n",
       "        vertical-align: top;\n",
       "    }\n",
       "\n",
       "    .dataframe thead th {\n",
       "        text-align: right;\n",
       "    }\n",
       "</style>\n",
       "<table border=\"1\" class=\"dataframe\">\n",
       "  <thead>\n",
       "    <tr style=\"text-align: right;\">\n",
       "      <th></th>\n",
       "      <th>count</th>\n",
       "      <th>mean</th>\n",
       "      <th>std</th>\n",
       "      <th>min</th>\n",
       "      <th>25%</th>\n",
       "      <th>50%</th>\n",
       "      <th>75%</th>\n",
       "      <th>max</th>\n",
       "    </tr>\n",
       "    <tr>\n",
       "      <th>target</th>\n",
       "      <th></th>\n",
       "      <th></th>\n",
       "      <th></th>\n",
       "      <th></th>\n",
       "      <th></th>\n",
       "      <th></th>\n",
       "      <th></th>\n",
       "      <th></th>\n",
       "    </tr>\n",
       "  </thead>\n",
       "  <tbody>\n",
       "    <tr>\n",
       "      <th>0</th>\n",
       "      <td>13598.0</td>\n",
       "      <td>4.758301</td>\n",
       "      <td>1.977495</td>\n",
       "      <td>-1.710416</td>\n",
       "      <td>3.497045</td>\n",
       "      <td>4.693073</td>\n",
       "      <td>5.934894</td>\n",
       "      <td>29.439524</td>\n",
       "    </tr>\n",
       "    <tr>\n",
       "      <th>1</th>\n",
       "      <td>4846.0</td>\n",
       "      <td>4.792826</td>\n",
       "      <td>1.998559</td>\n",
       "      <td>-1.271347</td>\n",
       "      <td>3.508093</td>\n",
       "      <td>4.728712</td>\n",
       "      <td>6.010576</td>\n",
       "      <td>23.135658</td>\n",
       "    </tr>\n",
       "  </tbody>\n",
       "</table>\n",
       "</div>"
      ],
      "text/plain": [
       "          count      mean       std       min       25%       50%       75%  \\\n",
       "target                                                                        \n",
       "0       13598.0  4.758301  1.977495 -1.710416  3.497045  4.693073  5.934894   \n",
       "1        4846.0  4.792826  1.998559 -1.271347  3.508093  4.728712  6.010576   \n",
       "\n",
       "              max  \n",
       "target             \n",
       "0       29.439524  \n",
       "1       23.135658  "
      ]
     },
     "execution_count": 240,
     "metadata": {},
     "output_type": "execute_result"
    }
   ],
   "source": [
    "result.loc[result[\"is_cutoff\"] == 1].groupby(\"target\")[\"reg_residual\"].describe()"
   ]
  },
  {
   "cell_type": "code",
   "execution_count": 241,
   "id": "0bfb76fc-8bae-4b16-8db1-66eb1b2721e0",
   "metadata": {},
   "outputs": [
    {
     "data": {
      "image/png": "[encoded data removed]",
      "text/plain": [
       "<Figure size 1296x792 with 1 Axes>"
      ]
     },
     "metadata": {
      "needs_background": "light"
     },
     "output_type": "display_data"
    }
   ],
   "source": [
    "fig, ax = plt.subplots(figsize=(18, 11))\n",
    "result.plot.scatter(x=[\"boost_blend\"], y=[\"reg_residual\"], ax=ax)\n",
    "plt.axvline(top_thr, color=\"red\")\n",
    "plt.axvline(btm_thr, color=\"blue\")\n",
    "plt.axhline(0, color=\"green\")\n",
    "plt.plot(np.arange(-40, 30, 0.01), np.arange(-40, 30, 0.01), color=\"black\", linestyle=\"--\")\n",
    "plt.show()"
   ]
  },
  {
   "cell_type": "code",
   "execution_count": 71,
   "id": "abaa5be9-151a-4e93-9818-8ee99f280e41",
   "metadata": {},
   "outputs": [],
   "source": [
    "# result.describe()"
   ]
  },
  {
   "cell_type": "code",
   "execution_count": 521,
   "id": "279b1f64-79f7-468f-a29d-8151cbef3949",
   "metadata": {},
   "outputs": [],
   "source": [
    "X_train[\"sign\"] = X_train.iloc[:, :6].apply(lambda x: 1 if sum([i > 0 for i in x]) > 1 else -1, axis=1)"
   ]
  },
  {
   "cell_type": "code",
   "execution_count": 522,
   "id": "3268ce59-8d74-4e61-8dda-b6543dc8939d",
   "metadata": {},
   "outputs": [
    {
     "data": {
      "text/plain": [
       "-1    0.715992\n",
       " 1    0.284008\n",
       "Name: sign, dtype: float64"
      ]
     },
     "execution_count": 522,
     "metadata": {},
     "output_type": "execute_result"
    }
   ],
   "source": [
    "X_train[\"sign\"].value_counts(normalize=True)"
   ]
  },
  {
   "cell_type": "code",
   "execution_count": 518,
   "id": "ad4f3cbc-952c-433d-ab4d-5fc7ed498c90",
   "metadata": {},
   "outputs": [],
   "source": [
    "X_train[\"final\"] = X_train[\"sign\"] * X_train.iloc[:, :6].product(axis=1)"
   ]
  },
  {
   "cell_type": "code",
   "execution_count": 519,
   "id": "7dc0f073-7976-4e92-b20a-0ac234c0a231",
   "metadata": {},
   "outputs": [
    {
     "data": {
      "text/plain": [
       "0        -203468.541018\n",
       "1        -102736.605618\n",
       "2        -140737.946632\n",
       "3         -25020.982157\n",
       "4         -70787.711285\n",
       "              ...      \n",
       "458908    -31451.276826\n",
       "458909     -2280.955991\n",
       "458910    -84882.479784\n",
       "458911       -41.686937\n",
       "458912    -42103.262310\n",
       "Name: final, Length: 458913, dtype: float64"
      ]
     },
     "execution_count": 519,
     "metadata": {},
     "output_type": "execute_result"
    }
   ],
   "source": [
    "X_train[\"final\"]"
   ]
  },
  {
   "cell_type": "code",
   "execution_count": 520,
   "id": "ce5caac2-071f-4398-b347-5069b23b71cf",
   "metadata": {},
   "outputs": [
    {
     "data": {
      "text/plain": [
       "(0.7995833576869003, 0.9263791568859019, 0.6727875584878985)"
      ]
     },
     "execution_count": 520,
     "metadata": {},
     "output_type": "execute_result"
    }
   ],
   "source": [
    "amex_metric(X_train[\"target\"].values, X_train[\"final\"].values)"
   ]
  },
  {
   "cell_type": "code",
   "execution_count": 498,
   "id": "5220248a-0774-4cd3-b4ee-b6daf1cd509c",
   "metadata": {},
   "outputs": [
    {
     "data": {
      "text/plain": [
       "(0.7995896537645171, 0.9263917490411357, 0.6727875584878985)"
      ]
     },
     "execution_count": 498,
     "metadata": {},
     "output_type": "execute_result"
    }
   ],
   "source": [
    "amex_metric(X_train[\"target\"].values, X_train[\"final\"].values)"
   ]
  },
  {
   "cell_type": "code",
   "execution_count": null,
   "id": "296c8993-c3a7-42b0-9931-73b59b9e8d1d",
   "metadata": {},
   "outputs": [],
   "source": []
  },
  {
   "cell_type": "code",
   "execution_count": 421,
   "id": "7447bc97-9b12-46ec-8760-39a54d801cf1",
   "metadata": {},
   "outputs": [],
   "source": [
    "X_train_[\"max\"] = X_train_.iloc[:, :5].max(axis=1)\n",
    "X_train_[\"min\"] = X_train_.iloc[:, :5].min(axis=1)\n",
    "X_train_[\"median\"] = X_train_.iloc[:, :5].median(axis=1)\n",
    "X_train_[\"mean\"] = X_train_.iloc[:, :5].mean(axis=1)\n",
    "X_train_[\"skew\"] = X_train_.iloc[:, :5].skew(axis=1)\n",
    "X_train_[\"std\"] = X_train_.iloc[:, :5].std(axis=1)"
   ]
  },
  {
   "cell_type": "code",
   "execution_count": 422,
   "id": "5e2e9ed4-fc60-4df2-9b73-e92b358b8e95",
   "metadata": {},
   "outputs": [],
   "source": [
    "# X_train_[\"median_larger\"] = (X_train_[\"median\"] > X_train_[\"mean\"]).astype(int)"
   ]
  },
  {
   "cell_type": "code",
   "execution_count": 423,
   "id": "186b6697-f2fa-4f9c-8df0-db43296a81cf",
   "metadata": {},
   "outputs": [],
   "source": [
    "X_train_[\"positive_skew\"] = (X_train_[\"skew\"] > 0).astype(int)"
   ]
  },
  {
   "cell_type": "code",
   "execution_count": 424,
   "id": "fbd38e77-7e77-4e7b-8a05-0b712077717a",
   "metadata": {},
   "outputs": [],
   "source": [
    "X_train_[\"high_std\"] = (X_train_[\"std\"] > 0.2).astype(int)"
   ]
  },
  {
   "cell_type": "code",
   "execution_count": 425,
   "id": "65cd6bd4-848d-4cbd-8dbc-3288e521c995",
   "metadata": {},
   "outputs": [],
   "source": [
    "X_train_[\"is_full_statements\"] = np.where(num_statements_df[\"num_statements\"] == 13, 1, 0)"
   ]
  },
  {
   "cell_type": "code",
   "execution_count": 426,
   "id": "5027c701-4261-4a33-b4fd-1d0abb356ca6",
   "metadata": {
    "tags": []
   },
   "outputs": [],
   "source": [
    "# X_train_.groupby(\"high_std\")[\"target\"].mean()"
   ]
  },
  {
   "cell_type": "code",
   "execution_count": 427,
   "id": "065092a8-5717-40de-ae50-740b6483057f",
   "metadata": {},
   "outputs": [],
   "source": [
    "# X_train_.groupby(\"median_larger\")[\"target\"].mean()"
   ]
  },
  {
   "cell_type": "code",
   "execution_count": 428,
   "id": "8c02d330-e7c5-4415-bce3-e97f5ca6d2ce",
   "metadata": {},
   "outputs": [],
   "source": [
    "def train_logistic_regression(X_train, y_train, min_max_scaled=True, random_state=1020):\n",
    "    if min_max_scaled:\n",
    "        mscaler = MinMaxScaler()\n",
    "        X_train_ = mscaler.fit_transform(X_train)\n",
    "    else:\n",
    "        mscaler = ''\n",
    "    \n",
    "    kf = StratifiedKFold(n_splits=5, shuffle=True, random_state=random_state)\n",
    "    metrics, train_metrics = [], []\n",
    "    clf_list = []\n",
    "    for fold, (idx_tr, idx_va) in zip(range(1, 5+1), kf.split(X_train_, y_train_)):\n",
    "        X_tr, X_va = X_train_[idx_tr], X_train_[idx_va]\n",
    "        y_tr, y_va = y_train_[idx_tr], y_train_[idx_va]\n",
    "        clf = LogisticRegression(\n",
    "            random_state=0,\n",
    "            class_weight=[0.8, 0.2],\n",
    "            penalty=\"l2\"\n",
    "        )\n",
    "        clf.fit(X_tr, y_tr)\n",
    "        clf_list.append(clf)\n",
    "        y_train_pred = clf.predict_proba(X_tr)[:, 1]\n",
    "        y_pred = clf.predict_proba(X_va)[:, 1]\n",
    "        train_metric = amex_metric(y_tr.values, y_train_pred)[0]\n",
    "        metric = amex_metric(y_va.values, y_pred)[0]\n",
    "        metrics.append(metric)\n",
    "        train_metrics.append(train_metric)\n",
    "        print(fold, train_metric, metric)\n",
    "        \n",
    "    return np.mean(metrics), mscaler, clf_list"
   ]
  },
  {
   "cell_type": "code",
   "execution_count": 429,
   "id": "04c7b0cc-a650-48e8-9bb3-3c2ba139abbe",
   "metadata": {},
   "outputs": [],
   "source": [
    "y_train = target"
   ]
  },
  {
   "cell_type": "code",
   "execution_count": 431,
   "id": "6482ef56-a5c8-46ac-a6e8-4bd28d8976c3",
   "metadata": {},
   "outputs": [],
   "source": [
    "X_train_ = X_train_.drop(columns=[\"median\", \"skew\", \"std\"], errors='ignore')"
   ]
  },
  {
   "cell_type": "code",
   "execution_count": 433,
   "id": "1a9a16af-7fc3-4550-902e-2928fe7e52b9",
   "metadata": {},
   "outputs": [],
   "source": [
    "X_train_.drop(columns=get_cols(X_train_, \"oof\"), inplace=True)"
   ]
  },
  {
   "cell_type": "code",
   "execution_count": 435,
   "id": "d825ad04-7a0d-4247-9bb1-533e07e1ce4b",
   "metadata": {},
   "outputs": [
    {
     "data": {
      "image/png": "[encoded data removed]",
      "text/plain": [
       "<Figure size 1080x576 with 2 Axes>"
      ]
     },
     "metadata": {
      "needs_background": "light"
     },
     "output_type": "display_data"
    }
   ],
   "source": [
    "plot_heatmap(X_train_.corr(), annot=True, fmt=\".2f\")"
   ]
  },
  {
   "cell_type": "code",
   "execution_count": 436,
   "id": "13d8fbee-83f3-4f1b-a72d-c37cf1d0b5ea",
   "metadata": {},
   "outputs": [
    {
     "name": "stdout",
     "output_type": "stream",
     "text": [
      "1 0.8000615133263818 0.7974836564826935\n",
      "2 0.7999891714062497 0.7979710690443198\n",
      "3 0.7992819320851674 0.8006549485063224\n",
      "4 0.7992045783600361 0.8015070836906751\n",
      "5 0.7993032805950401 0.8009747880596201\n"
     ]
    }
   ],
   "source": [
    "final_oof_score, min_max_scaler, clf_list = train_logistic_regression(X_train_, y_train_)"
   ]
  },
  {
   "cell_type": "code",
   "execution_count": 437,
   "id": "74fd8846-49fb-446e-bafb-2737eff9d0bf",
   "metadata": {},
   "outputs": [
    {
     "data": {
      "text/plain": [
       "0.7997183091567261"
      ]
     },
     "execution_count": 437,
     "metadata": {},
     "output_type": "execute_result"
    }
   ],
   "source": [
    "final_oof_score"
   ]
  },
  {
   "cell_type": "code",
   "execution_count": 304,
   "id": "da4c660d-1b60-4b25-88ff-da64a439019a",
   "metadata": {},
   "outputs": [
    {
     "name": "stdout",
     "output_type": "stream",
     "text": [
      "1 0.800443744438765 0.7977839747573845\n",
      "2 0.8004454425449861 0.7980198655419419\n",
      "3 0.7996422732225261 0.8010617674997593\n",
      "4 0.799687983094375 0.8015466264779496\n",
      "5 0.7995645376966464 0.8015415139936592\n"
     ]
    }
   ],
   "source": [
    "final_oof_score, min_max_scaler = train_logistic_regression(X_train_, y_train_)"
   ]
  },
  {
   "cell_type": "code",
   "execution_count": 364,
   "id": "ae7a46cc-44c5-4b8a-859e-845d440b1dcb",
   "metadata": {},
   "outputs": [],
   "source": [
    "# final_oof_score"
   ]
  },
  {
   "cell_type": "code",
   "execution_count": 186,
   "id": "a9ec92b4-1e92-440e-9acb-89afcb1353e5",
   "metadata": {},
   "outputs": [],
   "source": [
    "y_pred = pd.Series(X_train_.iloc[:, 1:].mean(axis=1), name=\"prediction\")\n",
    "y_true = labels[[\"target\"]]"
   ]
  },
  {
   "cell_type": "code",
   "execution_count": 190,
   "id": "65931339-afc0-45cf-a359-2748648b7e46",
   "metadata": {},
   "outputs": [],
   "source": [
    "result = get_final_metric_df(X_train_, y_true, y_pred)\n",
    "# result"
   ]
  },
  {
   "cell_type": "code",
   "execution_count": 131,
   "id": "82e295f4-838e-429d-8fd4-170ecdf47ff9",
   "metadata": {},
   "outputs": [],
   "source": [
    "default_df = result.loc[result[\"target\"] == 1]\n",
    "non_default_df = result.loc[result[\"target\"] == 0]"
   ]
  },
  {
   "cell_type": "code",
   "execution_count": 132,
   "id": "48bce46c-7d94-412f-ad87-d575a0872df5",
   "metadata": {},
   "outputs": [],
   "source": [
    "result.loc[default_df.index, \"ground_truth\"] = 10 - default_df[\"prediction\"]\n",
    "result.loc[non_default_df.index, \"ground_truth\"] = -10 - non_default_df[\"prediction\"]"
   ]
  },
  {
   "cell_type": "code",
   "execution_count": 191,
   "id": "743e268b-5f5f-42a9-910a-8a9d30162efe",
   "metadata": {},
   "outputs": [],
   "source": [
    "# result.sort_index()[\"ground_truth\"].to_csv(f\"{RAW_DATA_PATH}/oof_residuals.csv\", index=False)"
   ]
  },
  {
   "cell_type": "code",
   "execution_count": 75,
   "id": "487c9d0e-e4bc-4fb6-85b7-1dd6bb4f126a",
   "metadata": {},
   "outputs": [],
   "source": [
    "y_train_ = train_score1[\"target\"]"
   ]
  },
  {
   "cell_type": "code",
   "execution_count": 77,
   "id": "4aeb8014-49c3-4888-8b73-56e7aabc9fcd",
   "metadata": {},
   "outputs": [],
   "source": [
    "X_tr, X_va, y_tr, y_va = train_test_split(X_train_, y_train_, test_size=0.2, random_state=1020, stratify=y_train_)"
   ]
  },
  {
   "cell_type": "code",
   "execution_count": 78,
   "id": "a4cc6a6a-4f96-4345-89f6-f508bc1fee29",
   "metadata": {},
   "outputs": [],
   "source": [
    "# RandomForestClassifier(\n",
    "#     random_state=1020,\n",
    "#     n_estimators=16,\n",
    "#     max_depth=3\n",
    "# )"
   ]
  },
  {
   "cell_type": "code",
   "execution_count": 259,
   "id": "db0503cb-1d4e-4b36-9326-82b95f428746",
   "metadata": {},
   "outputs": [
    {
     "data": {
      "text/plain": [
       "[LogisticRegression(class_weight=[0.8, 0.2], random_state=0),\n",
       " LogisticRegression(class_weight=[0.8, 0.2], random_state=0),\n",
       " LogisticRegression(class_weight=[0.8, 0.2], random_state=0),\n",
       " LogisticRegression(class_weight=[0.8, 0.2], random_state=0),\n",
       " LogisticRegression(class_weight=[0.8, 0.2], random_state=0)]"
      ]
     },
     "execution_count": 259,
     "metadata": {},
     "output_type": "execute_result"
    }
   ],
   "source": [
    "clf_list"
   ]
  },
  {
   "cell_type": "code",
   "execution_count": 313,
   "id": "6c040647-e988-4477-a65b-66acb707e0c6",
   "metadata": {},
   "outputs": [],
   "source": []
  },
  {
   "cell_type": "code",
   "execution_count": 309,
   "id": "80d568d8-4ec7-4428-860d-605f0ba0d421",
   "metadata": {},
   "outputs": [
    {
     "name": "stdout",
     "output_type": "stream",
     "text": [
      "1 0.9177395453552648 0.9147245439781231\n",
      "2 0.9176590112157511 0.9154084195918446\n",
      "3 0.9168789304266861 0.9178542129526484\n",
      "4 0.9170827886312676 0.917669110876592\n",
      "5 0.9162863591277919 0.919863841202062\n"
     ]
    },
    {
     "data": {
      "text/plain": [
       "(0.917104025720254, MinMaxScaler())"
      ]
     },
     "execution_count": 309,
     "metadata": {},
     "output_type": "execute_result"
    }
   ],
   "source": [
    "train_logistic_regression(train_score9.iloc[:, 1:6], train_score9[\"target\"])"
   ]
  },
  {
   "cell_type": "code",
   "execution_count": 276,
   "id": "000c9a21-6623-486c-bf4a-5c42145caef5",
   "metadata": {},
   "outputs": [
    {
     "data": {
      "text/html": [
       "<div>\n",
       "<style scoped>\n",
       "    .dataframe tbody tr th:only-of-type {\n",
       "        vertical-align: middle;\n",
       "    }\n",
       "\n",
       "    .dataframe tbody tr th {\n",
       "        vertical-align: top;\n",
       "    }\n",
       "\n",
       "    .dataframe thead th {\n",
       "        text-align: right;\n",
       "    }\n",
       "</style>\n",
       "<table border=\"1\" class=\"dataframe\">\n",
       "  <thead>\n",
       "    <tr style=\"text-align: right;\">\n",
       "      <th></th>\n",
       "      <th>score1</th>\n",
       "      <th>score2</th>\n",
       "      <th>score3</th>\n",
       "      <th>score4</th>\n",
       "      <th>score5</th>\n",
       "    </tr>\n",
       "  </thead>\n",
       "  <tbody>\n",
       "    <tr>\n",
       "      <th>0</th>\n",
       "      <td>-3.821564</td>\n",
       "      <td>-3.461997</td>\n",
       "      <td>-3.348870</td>\n",
       "      <td>-3.586271</td>\n",
       "      <td>-3.312073</td>\n",
       "    </tr>\n",
       "    <tr>\n",
       "      <th>1</th>\n",
       "      <td>-6.860182</td>\n",
       "      <td>-6.537879</td>\n",
       "      <td>-6.262872</td>\n",
       "      <td>-6.682696</td>\n",
       "      <td>-6.887376</td>\n",
       "    </tr>\n",
       "    <tr>\n",
       "      <th>2</th>\n",
       "      <td>-3.013238</td>\n",
       "      <td>-3.461611</td>\n",
       "      <td>-3.004113</td>\n",
       "      <td>-3.050773</td>\n",
       "      <td>-3.447362</td>\n",
       "    </tr>\n",
       "    <tr>\n",
       "      <th>3</th>\n",
       "      <td>-0.770930</td>\n",
       "      <td>-0.884658</td>\n",
       "      <td>-0.407027</td>\n",
       "      <td>-0.646863</td>\n",
       "      <td>-0.650042</td>\n",
       "    </tr>\n",
       "    <tr>\n",
       "      <th>4</th>\n",
       "      <td>2.198048</td>\n",
       "      <td>2.433070</td>\n",
       "      <td>2.088249</td>\n",
       "      <td>2.327092</td>\n",
       "      <td>2.377117</td>\n",
       "    </tr>\n",
       "    <tr>\n",
       "      <th>...</th>\n",
       "      <td>...</td>\n",
       "      <td>...</td>\n",
       "      <td>...</td>\n",
       "      <td>...</td>\n",
       "      <td>...</td>\n",
       "    </tr>\n",
       "    <tr>\n",
       "      <th>924616</th>\n",
       "      <td>-3.365608</td>\n",
       "      <td>-3.708212</td>\n",
       "      <td>-3.481497</td>\n",
       "      <td>-3.755893</td>\n",
       "      <td>-3.605609</td>\n",
       "    </tr>\n",
       "    <tr>\n",
       "      <th>924617</th>\n",
       "      <td>2.205423</td>\n",
       "      <td>1.850653</td>\n",
       "      <td>2.136378</td>\n",
       "      <td>2.145076</td>\n",
       "      <td>1.963180</td>\n",
       "    </tr>\n",
       "    <tr>\n",
       "      <th>924618</th>\n",
       "      <td>-0.259439</td>\n",
       "      <td>0.104114</td>\n",
       "      <td>-0.125630</td>\n",
       "      <td>-0.281783</td>\n",
       "      <td>0.016716</td>\n",
       "    </tr>\n",
       "    <tr>\n",
       "      <th>924619</th>\n",
       "      <td>-0.713172</td>\n",
       "      <td>-0.414007</td>\n",
       "      <td>-0.342954</td>\n",
       "      <td>-0.312344</td>\n",
       "      <td>-0.337855</td>\n",
       "    </tr>\n",
       "    <tr>\n",
       "      <th>924620</th>\n",
       "      <td>-2.632600</td>\n",
       "      <td>-2.313003</td>\n",
       "      <td>-2.551264</td>\n",
       "      <td>-2.668158</td>\n",
       "      <td>-2.712515</td>\n",
       "    </tr>\n",
       "  </tbody>\n",
       "</table>\n",
       "<p>924621 rows × 5 columns</p>\n",
       "</div>"
      ],
      "text/plain": [
       "          score1    score2    score3    score4    score5\n",
       "0      -3.821564 -3.461997 -3.348870 -3.586271 -3.312073\n",
       "1      -6.860182 -6.537879 -6.262872 -6.682696 -6.887376\n",
       "2      -3.013238 -3.461611 -3.004113 -3.050773 -3.447362\n",
       "3      -0.770930 -0.884658 -0.407027 -0.646863 -0.650042\n",
       "4       2.198048  2.433070  2.088249  2.327092  2.377117\n",
       "...          ...       ...       ...       ...       ...\n",
       "924616 -3.365608 -3.708212 -3.481497 -3.755893 -3.605609\n",
       "924617  2.205423  1.850653  2.136378  2.145076  1.963180\n",
       "924618 -0.259439  0.104114 -0.125630 -0.281783  0.016716\n",
       "924619 -0.713172 -0.414007 -0.342954 -0.312344 -0.337855\n",
       "924620 -2.632600 -2.313003 -2.551264 -2.668158 -2.712515\n",
       "\n",
       "[924621 rows x 5 columns]"
      ]
     },
     "execution_count": 276,
     "metadata": {},
     "output_type": "execute_result"
    }
   ],
   "source": [
    "test_score9[[\"score1\","
   ]
  },
  {
   "cell_type": "code",
   "execution_count": 297,
   "id": "df7ed500-e236-4a7c-aeda-8c6bdc7a7bd0",
   "metadata": {},
   "outputs": [
    {
     "data": {
      "text/html": [
       "<div>\n",
       "<style scoped>\n",
       "    .dataframe tbody tr th:only-of-type {\n",
       "        vertical-align: middle;\n",
       "    }\n",
       "\n",
       "    .dataframe tbody tr th {\n",
       "        vertical-align: top;\n",
       "    }\n",
       "\n",
       "    .dataframe thead th {\n",
       "        text-align: right;\n",
       "    }\n",
       "</style>\n",
       "<table border=\"1\" class=\"dataframe\">\n",
       "  <thead>\n",
       "    <tr style=\"text-align: right;\">\n",
       "      <th></th>\n",
       "      <th>score1</th>\n",
       "      <th>score2</th>\n",
       "      <th>score3</th>\n",
       "      <th>score4</th>\n",
       "      <th>score5</th>\n",
       "    </tr>\n",
       "  </thead>\n",
       "  <tbody>\n",
       "    <tr>\n",
       "      <th>0</th>\n",
       "      <td>-3.821564</td>\n",
       "      <td>-3.461997</td>\n",
       "      <td>-3.348870</td>\n",
       "      <td>-3.586271</td>\n",
       "      <td>-3.312073</td>\n",
       "    </tr>\n",
       "    <tr>\n",
       "      <th>1</th>\n",
       "      <td>-6.860182</td>\n",
       "      <td>-6.537879</td>\n",
       "      <td>-6.262872</td>\n",
       "      <td>-6.682696</td>\n",
       "      <td>-6.887376</td>\n",
       "    </tr>\n",
       "    <tr>\n",
       "      <th>2</th>\n",
       "      <td>-3.013238</td>\n",
       "      <td>-3.461611</td>\n",
       "      <td>-3.004113</td>\n",
       "      <td>-3.050773</td>\n",
       "      <td>-3.447362</td>\n",
       "    </tr>\n",
       "    <tr>\n",
       "      <th>3</th>\n",
       "      <td>-0.770930</td>\n",
       "      <td>-0.884658</td>\n",
       "      <td>-0.407027</td>\n",
       "      <td>-0.646863</td>\n",
       "      <td>-0.650042</td>\n",
       "    </tr>\n",
       "    <tr>\n",
       "      <th>4</th>\n",
       "      <td>2.198048</td>\n",
       "      <td>2.433070</td>\n",
       "      <td>2.088249</td>\n",
       "      <td>2.327092</td>\n",
       "      <td>2.377117</td>\n",
       "    </tr>\n",
       "    <tr>\n",
       "      <th>...</th>\n",
       "      <td>...</td>\n",
       "      <td>...</td>\n",
       "      <td>...</td>\n",
       "      <td>...</td>\n",
       "      <td>...</td>\n",
       "    </tr>\n",
       "    <tr>\n",
       "      <th>924616</th>\n",
       "      <td>-3.365608</td>\n",
       "      <td>-3.708212</td>\n",
       "      <td>-3.481497</td>\n",
       "      <td>-3.755893</td>\n",
       "      <td>-3.605609</td>\n",
       "    </tr>\n",
       "    <tr>\n",
       "      <th>924617</th>\n",
       "      <td>2.205423</td>\n",
       "      <td>1.850653</td>\n",
       "      <td>2.136378</td>\n",
       "      <td>2.145076</td>\n",
       "      <td>1.963180</td>\n",
       "    </tr>\n",
       "    <tr>\n",
       "      <th>924618</th>\n",
       "      <td>-0.259439</td>\n",
       "      <td>0.104114</td>\n",
       "      <td>-0.125630</td>\n",
       "      <td>-0.281783</td>\n",
       "      <td>0.016716</td>\n",
       "    </tr>\n",
       "    <tr>\n",
       "      <th>924619</th>\n",
       "      <td>-0.713172</td>\n",
       "      <td>-0.414007</td>\n",
       "      <td>-0.342954</td>\n",
       "      <td>-0.312344</td>\n",
       "      <td>-0.337855</td>\n",
       "    </tr>\n",
       "    <tr>\n",
       "      <th>924620</th>\n",
       "      <td>-2.632600</td>\n",
       "      <td>-2.313003</td>\n",
       "      <td>-2.551264</td>\n",
       "      <td>-2.668158</td>\n",
       "      <td>-2.712515</td>\n",
       "    </tr>\n",
       "  </tbody>\n",
       "</table>\n",
       "<p>924621 rows × 5 columns</p>\n",
       "</div>"
      ],
      "text/plain": [
       "          score1    score2    score3    score4    score5\n",
       "0      -3.821564 -3.461997 -3.348870 -3.586271 -3.312073\n",
       "1      -6.860182 -6.537879 -6.262872 -6.682696 -6.887376\n",
       "2      -3.013238 -3.461611 -3.004113 -3.050773 -3.447362\n",
       "3      -0.770930 -0.884658 -0.407027 -0.646863 -0.650042\n",
       "4       2.198048  2.433070  2.088249  2.327092  2.377117\n",
       "...          ...       ...       ...       ...       ...\n",
       "924616 -3.365608 -3.708212 -3.481497 -3.755893 -3.605609\n",
       "924617  2.205423  1.850653  2.136378  2.145076  1.963180\n",
       "924618 -0.259439  0.104114 -0.125630 -0.281783  0.016716\n",
       "924619 -0.713172 -0.414007 -0.342954 -0.312344 -0.337855\n",
       "924620 -2.632600 -2.313003 -2.551264 -2.668158 -2.712515\n",
       "\n",
       "[924621 rows x 5 columns]"
      ]
     },
     "execution_count": 297,
     "metadata": {},
     "output_type": "execute_result"
    }
   ],
   "source": [
    "test_score9"
   ]
  },
  {
   "cell_type": "code",
   "execution_count": null,
   "id": "986d9d72-8f1f-4e37-ab19-736cd727f752",
   "metadata": {},
   "outputs": [],
   "source": []
  },
  {
   "cell_type": "code",
   "execution_count": null,
   "id": "acdd9e6b-2ef4-42b5-8c34-9864176a9036",
   "metadata": {},
   "outputs": [],
   "source": []
  },
  {
   "cell_type": "markdown",
   "id": "b5ffcaa5-b0be-409a-8082-6b270e3f3982",
   "metadata": {},
   "source": [
    "### BLEND TEST"
   ]
  },
  {
   "cell_type": "code",
   "execution_count": 9,
   "id": "e9ae9205-34c9-4048-a724-85d92b94a113",
   "metadata": {},
   "outputs": [
    {
     "name": "stdout",
     "output_type": "stream",
     "text": [
      "Shape of data: (924621, 5)\n",
      "Shape of data: (924621, 5)\n",
      "Shape of data: (924621, 5)\n",
      "Shape of data: (924621, 5)\n",
      "Shape of data: (924621, 5)\n"
     ]
    }
   ],
   "source": []
  },
  {
   "cell_type": "code",
   "execution_count": 20,
   "id": "87546591-7154-4070-a170-bbf2925422eb",
   "metadata": {},
   "outputs": [
    {
     "name": "stdout",
     "output_type": "stream",
     "text": [
      "Shape of data: (924621, 2)\n"
     ]
    }
   ],
   "source": [
    "s = read_file(f\"{SUBMISSION_DATA_PATH}/submission3_lgbm_dart_full_fix_1020.csv\")[\"prediction\"]"
   ]
  },
  {
   "cell_type": "code",
   "execution_count": 26,
   "id": "2671e4f5-5f24-463a-b2f0-18c90460dc62",
   "metadata": {},
   "outputs": [],
   "source": [
    "s2 = test_score2.mean(axis=1)"
   ]
  },
  {
   "cell_type": "code",
   "execution_count": 64,
   "id": "6c7dd4b7-6352-4ef7-afed-8fb1d2eb4009",
   "metadata": {},
   "outputs": [],
   "source": [
    "m = MinMaxScaler()"
   ]
  },
  {
   "cell_type": "code",
   "execution_count": 33,
   "id": "f60132cc-8692-493e-bacd-4113a3a87c55",
   "metadata": {},
   "outputs": [],
   "source": [
    "test_score2_ = m.fit_transform(test_score2)"
   ]
  },
  {
   "cell_type": "code",
   "execution_count": 35,
   "id": "4a8f200a-fd8f-4d2f-b51f-8d428bc3285d",
   "metadata": {},
   "outputs": [
    {
     "data": {
      "text/plain": [
       "array([0.32552628, 0.14096738, 0.35586654, ..., 0.52899043, 0.49217374,\n",
       "       0.36775012])"
      ]
     },
     "execution_count": 35,
     "metadata": {},
     "output_type": "execute_result"
    }
   ],
   "source": [
    "np.mean(test_score2_, axis=1)"
   ]
  },
  {
   "cell_type": "code",
   "execution_count": 36,
   "id": "0be3c684-978b-42e5-aac8-96bb3b3fbd3c",
   "metadata": {},
   "outputs": [],
   "source": [
    "sub = pd.read_csv(f\"{SUBMISSION_DATA_PATH}/empty.csv\")\n",
    "sub[\"prediction\"] = np.mean(test_score2_, axis=1)\n",
    "sub.to_csv(f\"{SUBMISSION_DATA_PATH}/submission_9TH_seed_1020_average_fold_after_minmaxscaler.csv\", index=False)"
   ]
  },
  {
   "cell_type": "code",
   "execution_count": 67,
   "id": "048c8c9e-85f2-4096-a921-197dde3e0784",
   "metadata": {},
   "outputs": [],
   "source": [
    "sub = pd.read_csv(f\"{SUBMISSION_DATA_PATH}/empty.csv\")\n",
    "sub[\"prediction\"] = (\n",
    "    (0.4 * m.fit_transform(test_score1).mean(axis=1)) + \n",
    "    (0.1 * m.fit_transform(test_score2).mean(axis=1)) + \n",
    "    (0.2 * m.fit_transform(test_score3).mean(axis=1)) + \n",
    "    (0.1 * m.fit_transform(test_score4).mean(axis=1)) +\n",
    "    (0.1 * m.fit_transform(test_score5).mean(axis=1))\n",
    ") / 0.9\n",
    "sub.to_csv(f\"{SUBMISSION_DATA_PATH}/submission_10TH_blend_5_own_seeds_after_min_max_scaled.csv\", index=False)"
   ]
  },
  {
   "cell_type": "code",
   "execution_count": 68,
   "id": "8d2d9f33-6a69-474c-aea2-6e267fe41c59",
   "metadata": {},
   "outputs": [
    {
     "data": {
      "text/plain": [
       "count    924621.000000\n",
       "mean          0.385767\n",
       "std           0.194353\n",
       "min           0.000000\n",
       "25%           0.220337\n",
       "50%           0.344674\n",
       "75%           0.538963\n",
       "max           0.994977\n",
       "Name: prediction, dtype: float64"
      ]
     },
     "execution_count": 68,
     "metadata": {},
     "output_type": "execute_result"
    }
   ],
   "source": [
    "sub[\"prediction\"].describe()"
   ]
  },
  {
   "cell_type": "code",
   "execution_count": null,
   "id": "658d46fd-d9df-42e2-939b-60761917a297",
   "metadata": {},
   "outputs": [],
   "source": []
  },
  {
   "cell_type": "code",
   "execution_count": 7,
   "id": "c6357949-60dd-4ce4-bf1b-e8044d01a87a",
   "metadata": {},
   "outputs": [
    {
     "data": {
      "text/plain": [
       "(0.7986772206700369, 0.9259891065704908, 0.6713653347695829)"
      ]
     },
     "execution_count": 7,
     "metadata": {},
     "output_type": "execute_result"
    }
   ],
   "source": [
    "## 1ST - 0.799 (medium)\n",
    "amex_metric(train_score1[\"target\"], t1)"
   ]
  },
  {
   "cell_type": "code",
   "execution_count": 8,
   "id": "11466e05-a124-45fd-b5e1-da5aeb847c89",
   "metadata": {},
   "outputs": [
    {
     "data": {
      "text/plain": [
       "(0.7987062094874274, 0.9260807463051137, 0.6713316726697411)"
      ]
     },
     "execution_count": 8,
     "metadata": {},
     "output_type": "execute_result"
    }
   ],
   "source": [
    "## 3RD - 0.800 (low)\n",
    "amex_metric(train_score1[\"target\"], t2)"
   ]
  },
  {
   "cell_type": "code",
   "execution_count": 9,
   "id": "abfc436d-e2c4-4871-9d66-b53706f281e8",
   "metadata": {},
   "outputs": [
    {
     "data": {
      "text/plain": [
       "(0.797788577455728, 0.925642459385149, 0.6699346955263069)"
      ]
     },
     "execution_count": 9,
     "metadata": {},
     "output_type": "execute_result"
    }
   ],
   "source": [
    "## 5TH - 0.799 (low)\n",
    "amex_metric(train_score1[\"target\"], t3)"
   ]
  },
  {
   "cell_type": "code",
   "execution_count": 10,
   "id": "10a5283e-3534-497e-a784-8ac9e56ae357",
   "metadata": {},
   "outputs": [
    {
     "data": {
      "text/plain": [
       "(0.7987959566465116, 0.9262181629984798, 0.6713737502945434)"
      ]
     },
     "execution_count": 10,
     "metadata": {},
     "output_type": "execute_result"
    }
   ],
   "source": [
    "### 6TH - 0.800 (very low)\n",
    "amex_metric(train_score1[\"target\"], t4)"
   ]
  },
  {
   "cell_type": "code",
   "execution_count": 11,
   "id": "26959d3a-aa0a-43db-b849-651a82b20b96",
   "metadata": {},
   "outputs": [
    {
     "data": {
      "text/plain": [
       "(0.7971742806455548, 0.9257687652834348, 0.6685797960076749)"
      ]
     },
     "execution_count": 11,
     "metadata": {},
     "output_type": "execute_result"
    }
   ],
   "source": [
    "### 7TH - 0.798 (high)\n",
    "amex_metric(train_score1[\"target\"], t5)"
   ]
  }
 ],
 "metadata": {
  "kernelspec": {
   "display_name": "amex",
   "language": "python",
   "name": "amex"
  },
  "language_info": {
   "codemirror_mode": {
    "name": "ipython",
    "version": 3
   },
   "file_extension": ".py",
   "mimetype": "text/x-python",
   "name": "python",
   "nbconvert_exporter": "python",
   "pygments_lexer": "ipython3",
   "version": "3.10.0"
  }
 },
 "nbformat": 4,
 "nbformat_minor": 5
}
