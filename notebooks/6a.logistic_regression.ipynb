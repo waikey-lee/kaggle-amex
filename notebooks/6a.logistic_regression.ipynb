{
 "cells": [
  {
   "cell_type": "code",
   "execution_count": 54,
   "id": "5dd2ca34-3410-4078-aa48-7adbba211ed5",
   "metadata": {},
   "outputs": [],
   "source": [
    "import gc\n",
    "import joblib\n",
    "import matplotlib.pyplot as plt\n",
    "import pandas as pd\n",
    "import numpy as np\n",
    "import os\n",
    "import sys\n",
    "sys.path.append(\"../\")\n",
    "import time\n",
    "import warnings\n",
    "warnings.simplefilter(\"ignore\")\n",
    "from lightgbm import LGBMClassifier\n",
    "from sklearn.linear_model import LogisticRegression\n",
    "from sklearn.preprocessing import MinMaxScaler\n",
    "from sklearn.model_selection import train_test_split, StratifiedKFold\n",
    "from sklearn.metrics import roc_auc_score, fbeta_score, make_scorer\n",
    "from tqdm import tqdm"
   ]
  },
  {
   "cell_type": "code",
   "execution_count": 52,
   "id": "88e773c8-793b-4771-85d2-80ad4e905510",
   "metadata": {},
   "outputs": [],
   "source": [
    "from utils.common import (\n",
    "    sigmoid, reverse_sigmoid,\n",
    "    pad_column_name\n",
    ")\n",
    "from utils.constants import *\n",
    "from utils.eval_helpers import (\n",
    "    plot_roc_curves, plot_feature_importance, \n",
    "    amex_metric, get_final_metric_df, amex_metric_np, lgb_amex_metric\n",
    ")\n",
    "from utils.eda_helpers import (\n",
    "    plot_missing_proportion_barchart, \n",
    "    get_cols\n",
    ")\n",
    "from utils.extraction_helpers import read_file\n",
    "from utils.feature_group import (\n",
    "    CATEGORY_COLUMNS, CONTINUOUS_COLUMNS, NON_FEATURE_COLUMNS\n",
    ")"
   ]
  },
  {
   "cell_type": "code",
   "execution_count": 3,
   "id": "e4698b61-dcd2-43c3-b5e3-cd5a350b5e4a",
   "metadata": {},
   "outputs": [],
   "source": [
    "%load_ext autoreload\n",
    "%autoreload"
   ]
  },
  {
   "cell_type": "markdown",
   "id": "884ad3df-d4d2-4c01-9066-8f6e70514295",
   "metadata": {},
   "source": [
    "### Read Data"
   ]
  },
  {
   "cell_type": "code",
   "execution_count": 4,
   "id": "5488998d-253c-4018-a647-1ed2853a849f",
   "metadata": {},
   "outputs": [
    {
     "name": "stdout",
     "output_type": "stream",
     "text": [
      "Shape of data: (458913, 8)\n",
      "Shape of data: (458913, 8)\n",
      "Shape of data: (458913, 8)\n",
      "Shape of data: (458913, 8)\n",
      "Shape of data: (458913, 8)\n"
     ]
    }
   ],
   "source": [
    "train_score1 = read_file(f\"{EXP_PATH}/1.lgbm_dart_923/train_scores_df.csv\")\n",
    "train_score2 = read_file(f\"{EXP_PATH}/2.lgbm_dart_1020/train_scores_df.csv\")\n",
    "train_score3 = read_file(f\"{EXP_PATH}/3.lgbm_dart_5197/train_scores_df.csv\")\n",
    "train_score4 = read_file(f\"{EXP_PATH}/4.lgbm_dart_6666/train_scores_df.csv\")\n",
    "train_score5 = read_file(f\"{EXP_PATH}/5.lgbm_dart_923_half_fix/train_scores_df.csv\")"
   ]
  },
  {
   "cell_type": "code",
   "execution_count": 5,
   "id": "e88c73e8-b872-4735-a240-87ac99bd32b5",
   "metadata": {},
   "outputs": [
    {
     "data": {
      "text/plain": [
       "0"
      ]
     },
     "execution_count": 5,
     "metadata": {},
     "output_type": "execute_result"
    }
   ],
   "source": [
    "sum(train_score3[\"target\"].values != train_score4[\"target\"].values)"
   ]
  },
  {
   "cell_type": "code",
   "execution_count": 6,
   "id": "20ba465d-98df-4ff1-bde7-5ffbddccaccd",
   "metadata": {},
   "outputs": [],
   "source": [
    "t1 = train_score1[\"cv_score\"].values\n",
    "t2 = train_score2[\"cv_score\"].values\n",
    "t3 = train_score3[\"cv_score\"].values\n",
    "t4 = train_score4[\"cv_score\"].values\n",
    "t5 = train_score5[\"cv_score\"].values"
   ]
  },
  {
   "cell_type": "code",
   "execution_count": 7,
   "id": "c6357949-60dd-4ce4-bf1b-e8044d01a87a",
   "metadata": {},
   "outputs": [
    {
     "data": {
      "text/plain": [
       "(0.7986772206700369, 0.9259891065704908, 0.6713653347695829)"
      ]
     },
     "execution_count": 7,
     "metadata": {},
     "output_type": "execute_result"
    }
   ],
   "source": [
    "## 1ST - 0.799 (medium)\n",
    "amex_metric(train_score1[\"target\"], t1)"
   ]
  },
  {
   "cell_type": "code",
   "execution_count": 8,
   "id": "11466e05-a124-45fd-b5e1-da5aeb847c89",
   "metadata": {},
   "outputs": [
    {
     "data": {
      "text/plain": [
       "(0.7987062094874274, 0.9260807463051137, 0.6713316726697411)"
      ]
     },
     "execution_count": 8,
     "metadata": {},
     "output_type": "execute_result"
    }
   ],
   "source": [
    "## 3RD - 0.800 (low)\n",
    "amex_metric(train_score1[\"target\"], t2)"
   ]
  },
  {
   "cell_type": "code",
   "execution_count": 9,
   "id": "abfc436d-e2c4-4871-9d66-b53706f281e8",
   "metadata": {},
   "outputs": [
    {
     "data": {
      "text/plain": [
       "(0.797788577455728, 0.925642459385149, 0.6699346955263069)"
      ]
     },
     "execution_count": 9,
     "metadata": {},
     "output_type": "execute_result"
    }
   ],
   "source": [
    "## 5TH - 0.799 (low)\n",
    "amex_metric(train_score1[\"target\"], t3)"
   ]
  },
  {
   "cell_type": "code",
   "execution_count": 10,
   "id": "10a5283e-3534-497e-a784-8ac9e56ae357",
   "metadata": {},
   "outputs": [
    {
     "data": {
      "text/plain": [
       "(0.7987959566465116, 0.9262181629984798, 0.6713737502945434)"
      ]
     },
     "execution_count": 10,
     "metadata": {},
     "output_type": "execute_result"
    }
   ],
   "source": [
    "### 6TH - 0.800 (very low)\n",
    "amex_metric(train_score1[\"target\"], t4)"
   ]
  },
  {
   "cell_type": "code",
   "execution_count": 11,
   "id": "26959d3a-aa0a-43db-b849-651a82b20b96",
   "metadata": {},
   "outputs": [
    {
     "data": {
      "text/plain": [
       "(0.7971742806455548, 0.9257687652834348, 0.6685797960076749)"
      ]
     },
     "execution_count": 11,
     "metadata": {},
     "output_type": "execute_result"
    }
   ],
   "source": [
    "### 7TH - 0.798 (high)\n",
    "amex_metric(train_score1[\"target\"], t5)"
   ]
  },
  {
   "cell_type": "code",
   "execution_count": 93,
   "id": "0db57b39-2d38-43c5-b881-0d2b37dcf85b",
   "metadata": {},
   "outputs": [],
   "source": [
    "X_train_ = pd.DataFrame(dict(\n",
    "    oof1=train_score1[\"cv_score\"],\n",
    "    oof2=train_score2[\"cv_score\"],\n",
    "    oof3=train_score3[\"cv_score\"],\n",
    "    oof4=train_score4[\"cv_score\"],\n",
    "    # oof5=train_score5[\"cv_score\"]\n",
    "))"
   ]
  },
  {
   "cell_type": "code",
   "execution_count": 94,
   "id": "487c9d0e-e4bc-4fb6-85b7-1dd6bb4f126a",
   "metadata": {},
   "outputs": [],
   "source": [
    "y_train_ = train_score1[\"target\"]"
   ]
  },
  {
   "cell_type": "code",
   "execution_count": 95,
   "id": "d9d1d67b-e5a5-4b9e-a677-1f1bf0a89326",
   "metadata": {},
   "outputs": [],
   "source": [
    "mscaler = MinMaxScaler()\n",
    "X_train_ = mscaler.fit_transform(X_train_)"
   ]
  },
  {
   "cell_type": "code",
   "execution_count": 96,
   "id": "4aeb8014-49c3-4888-8b73-56e7aabc9fcd",
   "metadata": {},
   "outputs": [],
   "source": [
    "X_tr, X_va, y_tr, y_va = train_test_split(X_train_, y_train_, test_size=0.2, random_state=1020, stratify=y_train_)"
   ]
  },
  {
   "cell_type": "code",
   "execution_count": 97,
   "id": "2125ba6a-f5cc-46b1-af7d-062cd42b91b0",
   "metadata": {},
   "outputs": [
    {
     "name": "stdout",
     "output_type": "stream",
     "text": [
      "1 0.7997710668902709 0.7993369377884547\n",
      "2 0.8002849460096225 0.7976769961265353\n",
      "3 0.799784194464436 0.7996425590006352\n",
      "4 0.7993536324506709 0.8011271834991849\n",
      "5 0.7992708988515161 0.8014110379370979\n"
     ]
    }
   ],
   "source": [
    "kf = StratifiedKFold(n_splits=5)\n",
    "metrics, train_metrics = [], []\n",
    "clf_list = []\n",
    "for fold, (idx_tr, idx_va) in zip(range(1, 5+1), kf.split(X_train_, y_train_)):\n",
    "    X_tr, X_va = X_train_[idx_tr], X_train_[idx_va]\n",
    "    y_tr, y_va = y_train_[idx_tr], y_train_[idx_va]\n",
    "    clf = LogisticRegression(\n",
    "        random_state=0,\n",
    "        class_weight=[0.8, 0.2],\n",
    "        # penalty=\"l2\"\n",
    "    )\n",
    "    clf.fit(X_tr, y_tr)\n",
    "    clf_list.append(clf)\n",
    "    y_train_pred = clf.predict_proba(X_tr)[:, 1]\n",
    "    y_pred = clf.predict_proba(X_va)[:, 1]\n",
    "    train_metric = amex_metric(y_tr.values, y_train_pred)[0]\n",
    "    metric = amex_metric(y_va.values, y_pred)[0]\n",
    "    metrics.append(metric)\n",
    "    train_metrics.append(train_metric)\n",
    "    print(fold, train_metric, metric)"
   ]
  },
  {
   "cell_type": "code",
   "execution_count": 98,
   "id": "4e430ed0-f028-446f-ae2d-a8560b91711c",
   "metadata": {},
   "outputs": [
    {
     "data": {
      "text/plain": [
       "0.7998389428703816"
      ]
     },
     "execution_count": 98,
     "metadata": {},
     "output_type": "execute_result"
    }
   ],
   "source": [
    "np.mean(metrics)"
   ]
  },
  {
   "cell_type": "code",
   "execution_count": 99,
   "id": "db0503cb-1d4e-4b36-9326-82b95f428746",
   "metadata": {},
   "outputs": [
    {
     "data": {
      "text/plain": [
       "[LogisticRegression(class_weight=[0.8, 0.2], random_state=0),\n",
       " LogisticRegression(class_weight=[0.8, 0.2], random_state=0),\n",
       " LogisticRegression(class_weight=[0.8, 0.2], random_state=0),\n",
       " LogisticRegression(class_weight=[0.8, 0.2], random_state=0),\n",
       " LogisticRegression(class_weight=[0.8, 0.2], random_state=0)]"
      ]
     },
     "execution_count": 99,
     "metadata": {},
     "output_type": "execute_result"
    }
   ],
   "source": [
    "clf_list"
   ]
  },
  {
   "cell_type": "code",
   "execution_count": 100,
   "id": "44f90440-5286-4c64-887d-bab242698607",
   "metadata": {},
   "outputs": [
    {
     "name": "stdout",
     "output_type": "stream",
     "text": [
      "Shape of data: (924621, 5)\n",
      "Shape of data: (924621, 5)\n",
      "Shape of data: (924621, 5)\n",
      "Shape of data: (924621, 5)\n"
     ]
    }
   ],
   "source": [
    "test_score1 = read_file(f\"{EXP_PATH}/1.lgbm_dart_923/scores_df.csv\")\n",
    "test_score2 = read_file(f\"{EXP_PATH}/2.lgbm_dart_1020/scores_df.csv\")\n",
    "test_score3 = read_file(f\"{EXP_PATH}/3.lgbm_dart_5197/scores_df.csv\")\n",
    "test_score4 = read_file(f\"{EXP_PATH}/4.lgbm_dart_6666/scores_df.csv\")\n",
    "# test_score5 = read_file(f\"{EXP_PATH}/5.lgbm_dart_923_half_fix/scores_df.csv\")"
   ]
  },
  {
   "cell_type": "code",
   "execution_count": 101,
   "id": "b00724ec-a63f-4e68-8c93-94896afbfeb3",
   "metadata": {},
   "outputs": [],
   "source": [
    "X_test_ = pd.DataFrame(dict(\n",
    "    oof1=test_score1.mean(axis=1),\n",
    "    oof2=test_score2.mean(axis=1),\n",
    "    oof3=test_score3.mean(axis=1),\n",
    "    oof4=test_score4.mean(axis=1),\n",
    "    # oof5=test_score5.mean(axis=1)\n",
    "))"
   ]
  },
  {
   "cell_type": "code",
   "execution_count": 102,
   "id": "8d5988dd-e701-42c8-a0fa-65d8e81cc6eb",
   "metadata": {},
   "outputs": [],
   "source": [
    "X_test_ = mscaler.fit_transform(X_test_)"
   ]
  },
  {
   "cell_type": "code",
   "execution_count": 103,
   "id": "2bd4f558-dc70-4590-a021-2b832c0c387a",
   "metadata": {},
   "outputs": [],
   "source": [
    "preds = []\n",
    "for clf in clf_list:\n",
    "    preds.append(clf.predict_proba(X_test_)[:, 1])"
   ]
  },
  {
   "cell_type": "code",
   "execution_count": 104,
   "id": "73d0a183-edcf-40d9-841c-b8a36a30db50",
   "metadata": {},
   "outputs": [],
   "source": [
    "final_score = np.mean(preds, axis=0)"
   ]
  },
  {
   "cell_type": "code",
   "execution_count": 105,
   "id": "2a09d8c2-b3eb-430d-bcb1-8d2e69c817c8",
   "metadata": {},
   "outputs": [],
   "source": [
    "sub = pd.read_csv(f\"{SUBMISSION_DATA_PATH}/empty.csv\")\n",
    "sub[\"prediction\"] = final_score\n",
    "sub.to_csv(f\"{SUBMISSION_DATA_PATH}/submission_13TH_blend_4_better_own_seeds_using_logreg.csv\", index=False)"
   ]
  },
  {
   "cell_type": "code",
   "execution_count": null,
   "id": "df7ed500-e236-4a7c-aeda-8c6bdc7a7bd0",
   "metadata": {},
   "outputs": [],
   "source": []
  },
  {
   "cell_type": "code",
   "execution_count": null,
   "id": "986d9d72-8f1f-4e37-ab19-736cd727f752",
   "metadata": {},
   "outputs": [],
   "source": []
  },
  {
   "cell_type": "code",
   "execution_count": null,
   "id": "acdd9e6b-2ef4-42b5-8c34-9864176a9036",
   "metadata": {},
   "outputs": [],
   "source": []
  },
  {
   "cell_type": "code",
   "execution_count": 46,
   "id": "35d97e68-e8d8-46a7-936a-7667a1a2e99f",
   "metadata": {},
   "outputs": [],
   "source": [
    "from collections import defaultdict\n",
    "from itertools import product"
   ]
  },
  {
   "cell_type": "code",
   "execution_count": 47,
   "id": "a4b4fea4-8f7b-4f6c-a76a-009249a02a67",
   "metadata": {},
   "outputs": [],
   "source": [
    "m = MinMaxScaler()"
   ]
  },
  {
   "cell_type": "code",
   "execution_count": 48,
   "id": "cfe7d5aa-fcb4-4156-9f2a-fc562753a6e3",
   "metadata": {},
   "outputs": [],
   "source": [
    "t1_ = m.fit_transform(t1.reshape(-1, 1))[:, 0]\n",
    "t2_ = m.fit_transform(t2.reshape(-1, 1))[:, 0]\n",
    "t3_ = m.fit_transform(t3.reshape(-1, 1))[:, 0]\n",
    "t4_ = m.fit_transform(t4.reshape(-1, 1))[:, 0]\n",
    "t5_ = m.fit_transform(t5.reshape(-1, 1))[:, 0]"
   ]
  },
  {
   "cell_type": "code",
   "execution_count": 54,
   "id": "82bfbc5d-38d3-4785-b5c1-a347f830e615",
   "metadata": {},
   "outputs": [],
   "source": [
    "sign_series = np.where(sum([(t1 - 20) > 0, (t2 - 20) > 0, t3 > 0, (t4 > 0)]) >= 2, 1, -1)"
   ]
  },
  {
   "cell_type": "code",
   "execution_count": 55,
   "id": "1f283f2c-3cdc-4080-b8f9-fbe579207f1d",
   "metadata": {},
   "outputs": [],
   "source": [
    "abs_series = t1 * t2 * t3 * t4"
   ]
  },
  {
   "cell_type": "code",
   "execution_count": 56,
   "id": "cd122bb6-685f-401b-8bd8-3a9099c52d98",
   "metadata": {},
   "outputs": [],
   "source": [
    "blend = abs_series * sign_series"
   ]
  },
  {
   "cell_type": "code",
   "execution_count": 57,
   "id": "26213370-7b6b-419d-899b-561e5574fd8e",
   "metadata": {},
   "outputs": [
    {
     "data": {
      "text/plain": [
       "(0.7994422213643748, 0.9263072723648623, 0.6725771703638873)"
      ]
     },
     "execution_count": 57,
     "metadata": {},
     "output_type": "execute_result"
    }
   ],
   "source": [
    "amex_metric(train_score1[\"target\"], blend)"
   ]
  },
  {
   "cell_type": "code",
   "execution_count": 58,
   "id": "cdcc7820-4676-490d-8fc1-76f78b6f5157",
   "metadata": {},
   "outputs": [],
   "source": [
    "x = np.arange(0.1, 0.6, 0.1)"
   ]
  },
  {
   "cell_type": "code",
   "execution_count": 59,
   "id": "66e3a6c9-eefe-4348-9e24-f3ec7d07a47a",
   "metadata": {},
   "outputs": [],
   "source": [
    "d = defaultdict(list)\n",
    "for i, j, k, l, m in product(x, x, x, x, x):\n",
    "    d[\"i\"].append(i)\n",
    "    d[\"j\"].append(j)\n",
    "    d[\"k\"].append(k)\n",
    "    d[\"l\"].append(l)\n",
    "    d[\"m\"].append(m)\n",
    "    # blend = i * sigmoid(t1) + j * sigmoid(t2) + k * sigmoid(t3) + l * sigmoid(t4)\n",
    "    blend = i * t1_ + j * t2_ + k * t3_ + l * t4_ + m * t5_\n",
    "    overall, gini, top4pct = amex_metric(train_score1[\"target\"], blend)\n",
    "    d[\"score\"].append(overall)\n",
    "    d[\"gini\"].append(gini)\n",
    "    d[\"top4pct\"].append(top4pct)"
   ]
  },
  {
   "cell_type": "code",
   "execution_count": 60,
   "id": "e1726bc5-b94d-478b-b39a-317fc60c1553",
   "metadata": {},
   "outputs": [],
   "source": [
    "result = pd.DataFrame(d)\n",
    "# result.nsmallest(50, \"score\")"
   ]
  },
  {
   "cell_type": "code",
   "execution_count": 61,
   "id": "01ec40bc-4323-48ca-b95d-63c037b08bad",
   "metadata": {},
   "outputs": [
    {
     "data": {
      "text/html": [
       "<div>\n",
       "<style scoped>\n",
       "    .dataframe tbody tr th:only-of-type {\n",
       "        vertical-align: middle;\n",
       "    }\n",
       "\n",
       "    .dataframe tbody tr th {\n",
       "        vertical-align: top;\n",
       "    }\n",
       "\n",
       "    .dataframe thead th {\n",
       "        text-align: right;\n",
       "    }\n",
       "</style>\n",
       "<table border=\"1\" class=\"dataframe\">\n",
       "  <thead>\n",
       "    <tr style=\"text-align: right;\">\n",
       "      <th></th>\n",
       "      <th>i</th>\n",
       "      <th>j</th>\n",
       "      <th>k</th>\n",
       "      <th>l</th>\n",
       "      <th>m</th>\n",
       "      <th>score</th>\n",
       "      <th>gini</th>\n",
       "      <th>top4pct</th>\n",
       "    </tr>\n",
       "  </thead>\n",
       "  <tbody>\n",
       "    <tr>\n",
       "      <th>1900</th>\n",
       "      <td>0.4</td>\n",
       "      <td>0.1</td>\n",
       "      <td>0.2</td>\n",
       "      <td>0.1</td>\n",
       "      <td>0.1</td>\n",
       "      <td>0.799844</td>\n",
       "      <td>0.926446</td>\n",
       "      <td>0.673242</td>\n",
       "    </tr>\n",
       "    <tr>\n",
       "      <th>2877</th>\n",
       "      <td>0.5</td>\n",
       "      <td>0.4</td>\n",
       "      <td>0.1</td>\n",
       "      <td>0.1</td>\n",
       "      <td>0.3</td>\n",
       "      <td>0.799818</td>\n",
       "      <td>0.926520</td>\n",
       "      <td>0.673116</td>\n",
       "    </tr>\n",
       "    <tr>\n",
       "      <th>2881</th>\n",
       "      <td>0.5</td>\n",
       "      <td>0.4</td>\n",
       "      <td>0.1</td>\n",
       "      <td>0.2</td>\n",
       "      <td>0.2</td>\n",
       "      <td>0.799818</td>\n",
       "      <td>0.926520</td>\n",
       "      <td>0.673116</td>\n",
       "    </tr>\n",
       "    <tr>\n",
       "      <th>2885</th>\n",
       "      <td>0.5</td>\n",
       "      <td>0.4</td>\n",
       "      <td>0.1</td>\n",
       "      <td>0.3</td>\n",
       "      <td>0.1</td>\n",
       "      <td>0.799818</td>\n",
       "      <td>0.926520</td>\n",
       "      <td>0.673116</td>\n",
       "    </tr>\n",
       "    <tr>\n",
       "      <th>2626</th>\n",
       "      <td>0.5</td>\n",
       "      <td>0.2</td>\n",
       "      <td>0.1</td>\n",
       "      <td>0.1</td>\n",
       "      <td>0.2</td>\n",
       "      <td>0.799782</td>\n",
       "      <td>0.926482</td>\n",
       "      <td>0.673082</td>\n",
       "    </tr>\n",
       "    <tr>\n",
       "      <th>2630</th>\n",
       "      <td>0.5</td>\n",
       "      <td>0.2</td>\n",
       "      <td>0.1</td>\n",
       "      <td>0.2</td>\n",
       "      <td>0.1</td>\n",
       "      <td>0.799782</td>\n",
       "      <td>0.926482</td>\n",
       "      <td>0.673082</td>\n",
       "    </tr>\n",
       "    <tr>\n",
       "      <th>2651</th>\n",
       "      <td>0.5</td>\n",
       "      <td>0.2</td>\n",
       "      <td>0.2</td>\n",
       "      <td>0.1</td>\n",
       "      <td>0.2</td>\n",
       "      <td>0.799776</td>\n",
       "      <td>0.926479</td>\n",
       "      <td>0.673074</td>\n",
       "    </tr>\n",
       "    <tr>\n",
       "      <th>2655</th>\n",
       "      <td>0.5</td>\n",
       "      <td>0.2</td>\n",
       "      <td>0.2</td>\n",
       "      <td>0.2</td>\n",
       "      <td>0.1</td>\n",
       "      <td>0.799776</td>\n",
       "      <td>0.926479</td>\n",
       "      <td>0.673074</td>\n",
       "    </tr>\n",
       "    <tr>\n",
       "      <th>2752</th>\n",
       "      <td>0.5</td>\n",
       "      <td>0.3</td>\n",
       "      <td>0.1</td>\n",
       "      <td>0.1</td>\n",
       "      <td>0.3</td>\n",
       "      <td>0.799772</td>\n",
       "      <td>0.926505</td>\n",
       "      <td>0.673040</td>\n",
       "    </tr>\n",
       "    <tr>\n",
       "      <th>2756</th>\n",
       "      <td>0.5</td>\n",
       "      <td>0.3</td>\n",
       "      <td>0.1</td>\n",
       "      <td>0.2</td>\n",
       "      <td>0.2</td>\n",
       "      <td>0.799772</td>\n",
       "      <td>0.926505</td>\n",
       "      <td>0.673040</td>\n",
       "    </tr>\n",
       "  </tbody>\n",
       "</table>\n",
       "</div>"
      ],
      "text/plain": [
       "        i    j    k    l    m     score      gini   top4pct\n",
       "1900  0.4  0.1  0.2  0.1  0.1  0.799844  0.926446  0.673242\n",
       "2877  0.5  0.4  0.1  0.1  0.3  0.799818  0.926520  0.673116\n",
       "2881  0.5  0.4  0.1  0.2  0.2  0.799818  0.926520  0.673116\n",
       "2885  0.5  0.4  0.1  0.3  0.1  0.799818  0.926520  0.673116\n",
       "2626  0.5  0.2  0.1  0.1  0.2  0.799782  0.926482  0.673082\n",
       "2630  0.5  0.2  0.1  0.2  0.1  0.799782  0.926482  0.673082\n",
       "2651  0.5  0.2  0.2  0.1  0.2  0.799776  0.926479  0.673074\n",
       "2655  0.5  0.2  0.2  0.2  0.1  0.799776  0.926479  0.673074\n",
       "2752  0.5  0.3  0.1  0.1  0.3  0.799772  0.926505  0.673040\n",
       "2756  0.5  0.3  0.1  0.2  0.2  0.799772  0.926505  0.673040"
      ]
     },
     "execution_count": 61,
     "metadata": {},
     "output_type": "execute_result"
    }
   ],
   "source": [
    "result.nlargest(10, \"score\")"
   ]
  },
  {
   "cell_type": "code",
   "execution_count": 123,
   "id": "c8112080-2432-479f-8ef5-6771f887d216",
   "metadata": {},
   "outputs": [
    {
     "data": {
      "text/html": [
       "<div>\n",
       "<style scoped>\n",
       "    .dataframe tbody tr th:only-of-type {\n",
       "        vertical-align: middle;\n",
       "    }\n",
       "\n",
       "    .dataframe tbody tr th {\n",
       "        vertical-align: top;\n",
       "    }\n",
       "\n",
       "    .dataframe thead th {\n",
       "        text-align: right;\n",
       "    }\n",
       "</style>\n",
       "<table border=\"1\" class=\"dataframe\">\n",
       "  <thead>\n",
       "    <tr style=\"text-align: right;\">\n",
       "      <th></th>\n",
       "      <th>i</th>\n",
       "      <th>j</th>\n",
       "      <th>k</th>\n",
       "      <th>l</th>\n",
       "      <th>score</th>\n",
       "      <th>gini</th>\n",
       "      <th>top4pct</th>\n",
       "    </tr>\n",
       "  </thead>\n",
       "  <tbody>\n",
       "    <tr>\n",
       "      <th>6341</th>\n",
       "      <td>0.9</td>\n",
       "      <td>0.7</td>\n",
       "      <td>0.3</td>\n",
       "      <td>0.6</td>\n",
       "      <td>0.800075</td>\n",
       "      <td>0.926604</td>\n",
       "      <td>0.673545</td>\n",
       "    </tr>\n",
       "    <tr>\n",
       "      <th>6342</th>\n",
       "      <td>0.9</td>\n",
       "      <td>0.7</td>\n",
       "      <td>0.3</td>\n",
       "      <td>0.7</td>\n",
       "      <td>0.800062</td>\n",
       "      <td>0.926613</td>\n",
       "      <td>0.673511</td>\n",
       "    </tr>\n",
       "    <tr>\n",
       "      <th>5531</th>\n",
       "      <td>0.8</td>\n",
       "      <td>0.6</td>\n",
       "      <td>0.3</td>\n",
       "      <td>0.6</td>\n",
       "      <td>0.800051</td>\n",
       "      <td>0.926608</td>\n",
       "      <td>0.673494</td>\n",
       "    </tr>\n",
       "    <tr>\n",
       "      <th>5367</th>\n",
       "      <td>0.8</td>\n",
       "      <td>0.4</td>\n",
       "      <td>0.3</td>\n",
       "      <td>0.4</td>\n",
       "      <td>0.800043</td>\n",
       "      <td>0.926575</td>\n",
       "      <td>0.673511</td>\n",
       "    </tr>\n",
       "    <tr>\n",
       "      <th>6331</th>\n",
       "      <td>0.9</td>\n",
       "      <td>0.7</td>\n",
       "      <td>0.2</td>\n",
       "      <td>0.5</td>\n",
       "      <td>0.800043</td>\n",
       "      <td>0.926600</td>\n",
       "      <td>0.673486</td>\n",
       "    </tr>\n",
       "    <tr>\n",
       "      <th>5521</th>\n",
       "      <td>0.8</td>\n",
       "      <td>0.6</td>\n",
       "      <td>0.2</td>\n",
       "      <td>0.5</td>\n",
       "      <td>0.800012</td>\n",
       "      <td>0.926606</td>\n",
       "      <td>0.673419</td>\n",
       "    </tr>\n",
       "    <tr>\n",
       "      <th>1540</th>\n",
       "      <td>0.3</td>\n",
       "      <td>0.2</td>\n",
       "      <td>0.1</td>\n",
       "      <td>0.2</td>\n",
       "      <td>0.800011</td>\n",
       "      <td>0.926604</td>\n",
       "      <td>0.673419</td>\n",
       "    </tr>\n",
       "    <tr>\n",
       "      <th>3900</th>\n",
       "      <td>0.6</td>\n",
       "      <td>0.4</td>\n",
       "      <td>0.2</td>\n",
       "      <td>0.4</td>\n",
       "      <td>0.800011</td>\n",
       "      <td>0.926604</td>\n",
       "      <td>0.673419</td>\n",
       "    </tr>\n",
       "    <tr>\n",
       "      <th>6260</th>\n",
       "      <td>0.9</td>\n",
       "      <td>0.6</td>\n",
       "      <td>0.3</td>\n",
       "      <td>0.6</td>\n",
       "      <td>0.800011</td>\n",
       "      <td>0.926604</td>\n",
       "      <td>0.673419</td>\n",
       "    </tr>\n",
       "    <tr>\n",
       "      <th>4711</th>\n",
       "      <td>0.7</td>\n",
       "      <td>0.5</td>\n",
       "      <td>0.2</td>\n",
       "      <td>0.5</td>\n",
       "      <td>0.800007</td>\n",
       "      <td>0.926612</td>\n",
       "      <td>0.673402</td>\n",
       "    </tr>\n",
       "  </tbody>\n",
       "</table>\n",
       "</div>"
      ],
      "text/plain": [
       "        i    j    k    l     score      gini   top4pct\n",
       "6341  0.9  0.7  0.3  0.6  0.800075  0.926604  0.673545\n",
       "6342  0.9  0.7  0.3  0.7  0.800062  0.926613  0.673511\n",
       "5531  0.8  0.6  0.3  0.6  0.800051  0.926608  0.673494\n",
       "5367  0.8  0.4  0.3  0.4  0.800043  0.926575  0.673511\n",
       "6331  0.9  0.7  0.2  0.5  0.800043  0.926600  0.673486\n",
       "5521  0.8  0.6  0.2  0.5  0.800012  0.926606  0.673419\n",
       "1540  0.3  0.2  0.1  0.2  0.800011  0.926604  0.673419\n",
       "3900  0.6  0.4  0.2  0.4  0.800011  0.926604  0.673419\n",
       "6260  0.9  0.6  0.3  0.6  0.800011  0.926604  0.673419\n",
       "4711  0.7  0.5  0.2  0.5  0.800007  0.926612  0.673402"
      ]
     },
     "execution_count": 123,
     "metadata": {},
     "output_type": "execute_result"
    }
   ],
   "source": [
    "result.nlargest(10, \"score\")"
   ]
  },
  {
   "cell_type": "code",
   "execution_count": null,
   "id": "6f925cff-5c1e-467d-96b0-22d65628f31b",
   "metadata": {},
   "outputs": [],
   "source": []
  },
  {
   "cell_type": "code",
   "execution_count": 14,
   "id": "df07541a-fa1d-4b6e-9172-3a60af29e645",
   "metadata": {},
   "outputs": [],
   "source": [
    "dd = defaultdict(list)\n",
    "for i in np.arange(0.46, 0.54, 0.01):\n",
    "    for j in np.arange(0.22, 0.28, 0.01):\n",
    "        for k in np.arange(0.22, 0.28, 0.01):\n",
    "            dd[\"i\"].append(i)\n",
    "            dd[\"j\"].append(j)\n",
    "            dd[\"k\"].append(k)\n",
    "            blend = i*t1 + j*t2 + k*t3\n",
    "            overall, gini, top4pct = amex_metric(train_score1[\"target\"], blend)\n",
    "            dd[\"score\"].append(overall)\n",
    "            dd[\"gini\"].append(gini)\n",
    "            dd[\"top4pct\"].append(top4pct)"
   ]
  },
  {
   "cell_type": "code",
   "execution_count": 15,
   "id": "d3363fe2-b461-44ea-9718-996de1620a94",
   "metadata": {},
   "outputs": [
    {
     "data": {
      "text/html": [
       "<div>\n",
       "<style scoped>\n",
       "    .dataframe tbody tr th:only-of-type {\n",
       "        vertical-align: middle;\n",
       "    }\n",
       "\n",
       "    .dataframe tbody tr th {\n",
       "        vertical-align: top;\n",
       "    }\n",
       "\n",
       "    .dataframe thead th {\n",
       "        text-align: right;\n",
       "    }\n",
       "</style>\n",
       "<table border=\"1\" class=\"dataframe\">\n",
       "  <thead>\n",
       "    <tr style=\"text-align: right;\">\n",
       "      <th></th>\n",
       "      <th>i</th>\n",
       "      <th>j</th>\n",
       "      <th>k</th>\n",
       "      <th>score</th>\n",
       "      <th>gini</th>\n",
       "      <th>top4pct</th>\n",
       "    </tr>\n",
       "  </thead>\n",
       "  <tbody>\n",
       "    <tr>\n",
       "      <th>15</th>\n",
       "      <td>0.46</td>\n",
       "      <td>0.24</td>\n",
       "      <td>0.23</td>\n",
       "      <td>0.799824</td>\n",
       "      <td>0.926431</td>\n",
       "      <td>0.673217</td>\n",
       "    </tr>\n",
       "    <tr>\n",
       "      <th>72</th>\n",
       "      <td>0.47</td>\n",
       "      <td>0.25</td>\n",
       "      <td>0.24</td>\n",
       "      <td>0.799816</td>\n",
       "      <td>0.926431</td>\n",
       "      <td>0.673200</td>\n",
       "    </tr>\n",
       "    <tr>\n",
       "      <th>22</th>\n",
       "      <td>0.46</td>\n",
       "      <td>0.25</td>\n",
       "      <td>0.23</td>\n",
       "      <td>0.799812</td>\n",
       "      <td>0.926433</td>\n",
       "      <td>0.673192</td>\n",
       "    </tr>\n",
       "    <tr>\n",
       "      <th>128</th>\n",
       "      <td>0.48</td>\n",
       "      <td>0.26</td>\n",
       "      <td>0.24</td>\n",
       "      <td>0.799812</td>\n",
       "      <td>0.926433</td>\n",
       "      <td>0.673192</td>\n",
       "    </tr>\n",
       "    <tr>\n",
       "      <th>340</th>\n",
       "      <td>0.52</td>\n",
       "      <td>0.28</td>\n",
       "      <td>0.26</td>\n",
       "      <td>0.799812</td>\n",
       "      <td>0.926433</td>\n",
       "      <td>0.673192</td>\n",
       "    </tr>\n",
       "  </tbody>\n",
       "</table>\n",
       "</div>"
      ],
      "text/plain": [
       "        i     j     k     score      gini   top4pct\n",
       "15   0.46  0.24  0.23  0.799824  0.926431  0.673217\n",
       "72   0.47  0.25  0.24  0.799816  0.926431  0.673200\n",
       "22   0.46  0.25  0.23  0.799812  0.926433  0.673192\n",
       "128  0.48  0.26  0.24  0.799812  0.926433  0.673192\n",
       "340  0.52  0.28  0.26  0.799812  0.926433  0.673192"
      ]
     },
     "execution_count": 15,
     "metadata": {},
     "output_type": "execute_result"
    }
   ],
   "source": [
    "result = pd.DataFrame(dd)\n",
    "result.nlargest(5, \"score\")"
   ]
  },
  {
   "cell_type": "code",
   "execution_count": 19,
   "id": "5afed05a-b758-4333-bea3-e573abd55f8c",
   "metadata": {},
   "outputs": [],
   "source": [
    "sub = pd.read_csv(f\"{SUBMISSION_DATA_PATH}/empty.csv\")\n",
    "sub[\"prediction\"] = pd.Series(\n",
    "    (0.9 * t1) + \n",
    "    (0.7 * t2) + \n",
    "    (0.4 * t3) + \n",
    "    (0.6 * t4)\n",
    ")\n",
    "sub.to_csv(f\"{SUBMISSION_DATA_PATH}/blended_train_scores.csv\", index=False)"
   ]
  },
  {
   "cell_type": "markdown",
   "id": "b5ffcaa5-b0be-409a-8082-6b270e3f3982",
   "metadata": {},
   "source": [
    "### BLEND TEST"
   ]
  },
  {
   "cell_type": "code",
   "execution_count": 9,
   "id": "e9ae9205-34c9-4048-a724-85d92b94a113",
   "metadata": {},
   "outputs": [
    {
     "name": "stdout",
     "output_type": "stream",
     "text": [
      "Shape of data: (924621, 5)\n",
      "Shape of data: (924621, 5)\n",
      "Shape of data: (924621, 5)\n",
      "Shape of data: (924621, 5)\n",
      "Shape of data: (924621, 5)\n"
     ]
    }
   ],
   "source": []
  },
  {
   "cell_type": "code",
   "execution_count": 20,
   "id": "87546591-7154-4070-a170-bbf2925422eb",
   "metadata": {},
   "outputs": [
    {
     "name": "stdout",
     "output_type": "stream",
     "text": [
      "Shape of data: (924621, 2)\n"
     ]
    }
   ],
   "source": [
    "s = read_file(f\"{SUBMISSION_DATA_PATH}/submission3_lgbm_dart_full_fix_1020.csv\")[\"prediction\"]"
   ]
  },
  {
   "cell_type": "code",
   "execution_count": 26,
   "id": "2671e4f5-5f24-463a-b2f0-18c90460dc62",
   "metadata": {},
   "outputs": [],
   "source": [
    "s2 = test_score2.mean(axis=1)"
   ]
  },
  {
   "cell_type": "code",
   "execution_count": 64,
   "id": "6c7dd4b7-6352-4ef7-afed-8fb1d2eb4009",
   "metadata": {},
   "outputs": [],
   "source": [
    "m = MinMaxScaler()"
   ]
  },
  {
   "cell_type": "code",
   "execution_count": 33,
   "id": "f60132cc-8692-493e-bacd-4113a3a87c55",
   "metadata": {},
   "outputs": [],
   "source": [
    "test_score2_ = m.fit_transform(test_score2)"
   ]
  },
  {
   "cell_type": "code",
   "execution_count": 35,
   "id": "4a8f200a-fd8f-4d2f-b51f-8d428bc3285d",
   "metadata": {},
   "outputs": [
    {
     "data": {
      "text/plain": [
       "array([0.32552628, 0.14096738, 0.35586654, ..., 0.52899043, 0.49217374,\n",
       "       0.36775012])"
      ]
     },
     "execution_count": 35,
     "metadata": {},
     "output_type": "execute_result"
    }
   ],
   "source": [
    "np.mean(test_score2_, axis=1)"
   ]
  },
  {
   "cell_type": "code",
   "execution_count": 36,
   "id": "0be3c684-978b-42e5-aac8-96bb3b3fbd3c",
   "metadata": {},
   "outputs": [],
   "source": [
    "sub = pd.read_csv(f\"{SUBMISSION_DATA_PATH}/empty.csv\")\n",
    "sub[\"prediction\"] = np.mean(test_score2_, axis=1)\n",
    "sub.to_csv(f\"{SUBMISSION_DATA_PATH}/submission_9TH_seed_1020_average_fold_after_minmaxscaler.csv\", index=False)"
   ]
  },
  {
   "cell_type": "code",
   "execution_count": 67,
   "id": "048c8c9e-85f2-4096-a921-197dde3e0784",
   "metadata": {},
   "outputs": [],
   "source": [
    "sub = pd.read_csv(f\"{SUBMISSION_DATA_PATH}/empty.csv\")\n",
    "sub[\"prediction\"] = (\n",
    "    (0.4 * m.fit_transform(test_score1).mean(axis=1)) + \n",
    "    (0.1 * m.fit_transform(test_score2).mean(axis=1)) + \n",
    "    (0.2 * m.fit_transform(test_score3).mean(axis=1)) + \n",
    "    (0.1 * m.fit_transform(test_score4).mean(axis=1)) +\n",
    "    (0.1 * m.fit_transform(test_score5).mean(axis=1))\n",
    ") / 0.9\n",
    "sub.to_csv(f\"{SUBMISSION_DATA_PATH}/submission_10TH_blend_5_own_seeds_after_min_max_scaled.csv\", index=False)"
   ]
  },
  {
   "cell_type": "code",
   "execution_count": 68,
   "id": "8d2d9f33-6a69-474c-aea2-6e267fe41c59",
   "metadata": {},
   "outputs": [
    {
     "data": {
      "text/plain": [
       "count    924621.000000\n",
       "mean          0.385767\n",
       "std           0.194353\n",
       "min           0.000000\n",
       "25%           0.220337\n",
       "50%           0.344674\n",
       "75%           0.538963\n",
       "max           0.994977\n",
       "Name: prediction, dtype: float64"
      ]
     },
     "execution_count": 68,
     "metadata": {},
     "output_type": "execute_result"
    }
   ],
   "source": [
    "sub[\"prediction\"].describe()"
   ]
  },
  {
   "cell_type": "code",
   "execution_count": null,
   "id": "658d46fd-d9df-42e2-939b-60761917a297",
   "metadata": {},
   "outputs": [],
   "source": []
  }
 ],
 "metadata": {
  "kernelspec": {
   "display_name": "amex",
   "language": "python",
   "name": "amex"
  },
  "language_info": {
   "codemirror_mode": {
    "name": "ipython",
    "version": 3
   },
   "file_extension": ".py",
   "mimetype": "text/x-python",
   "name": "python",
   "nbconvert_exporter": "python",
   "pygments_lexer": "ipython3",
   "version": "3.10.0"
  }
 },
 "nbformat": 4,
 "nbformat_minor": 5
}
