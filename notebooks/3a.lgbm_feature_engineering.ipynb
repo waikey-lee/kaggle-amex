{
 "cells": [
  {
   "cell_type": "code",
   "execution_count": 54,
   "id": "5dd2ca34-3410-4078-aa48-7adbba211ed5",
   "metadata": {},
   "outputs": [],
   "source": [
    "import datetime\n",
    "import gc\n",
    "import joblib\n",
    "import matplotlib.pyplot as plt\n",
    "import pandas as pd\n",
    "import numpy as np\n",
    "import os\n",
    "import scipy.stats\n",
    "import seaborn as sns\n",
    "import sys\n",
    "sys.path.append(\"../\")\n",
    "import time\n",
    "import warnings\n",
    "warnings.simplefilter(\"ignore\")\n",
    "from itertools import repeat\n",
    "from sklearn.preprocessing import StandardScaler\n",
    "from tqdm import tqdm"
   ]
  },
  {
   "cell_type": "code",
   "execution_count": 55,
   "id": "a084bef6-4434-40fb-bafc-d7d3e4c57a14",
   "metadata": {},
   "outputs": [],
   "source": [
    "from utils.common import (\n",
    "    sigmoid, pad_column_name\n",
    ")\n",
    "from utils.constants import (\n",
    "    RAW_DATA_PATH, PROCESSED_DATA_PATH\n",
    ")\n",
    "from utils.eval_helpers import (\n",
    "    plot_roc_curves, plot_feature_importance, \n",
    "    amex_metric, get_final_metric_df, amex_metric_np, lgb_amex_metric\n",
    ")\n",
    "from utils.eda_helpers import (\n",
    "    plot_missing_proportion_barchart, \n",
    "    get_cols\n",
    ")\n",
    "from utils.extraction_helpers import read_file\n",
    "from utils.feature_group import (\n",
    "    CATEGORY_COLUMNS, CONTINUOUS_COLUMNS, NON_FEATURE_COLUMNS,\n",
    "    MEAN_FEATURES, MIN_FEATURES, MAX_FEATURES, LAST_FEATURES, FIRST_FEATURES,\n",
    "    RANGE_FEATURES, VELOCITY_FEATURES, SPEED_FEATURES\n",
    ")\n",
    "from utils.feature_engineering_helpers import (\n",
    "    filter_df_for_feature, get_specific_row_df, get_agg_df\n",
    ")"
   ]
  },
  {
   "cell_type": "code",
   "execution_count": 56,
   "id": "08cce559-a615-41c7-9d81-0a5e7b981931",
   "metadata": {
    "tags": []
   },
   "outputs": [],
   "source": [
    "RAW_DATA_PATH = \"../raw_data\"\n",
    "PROCESSED_DATA_PATH = \"../processed_data\"\n",
    "EVALUATION_DATA_PATH = \"../evaluation_data\"\n",
    "MODELS_PATH = \"../models\"\n",
    "EXP_PATH = \"../experiments\""
   ]
  },
  {
   "cell_type": "code",
   "execution_count": 57,
   "id": "79487a81-ce62-4847-974a-485a5ce1c515",
   "metadata": {},
   "outputs": [],
   "source": [
    "RAW_TRAIN_PICKLE_PATH = os.path.join(RAW_DATA_PATH, \"train_pickle\")\n",
    "RAW_TEST_PICKLE_PATH = os.path.join(RAW_DATA_PATH, \"test_pickle\")"
   ]
  },
  {
   "cell_type": "code",
   "execution_count": 58,
   "id": "67194602-57fc-4e92-9801-8d600e52a5b2",
   "metadata": {},
   "outputs": [
    {
     "name": "stdout",
     "output_type": "stream",
     "text": [
      "The autoreload extension is already loaded. To reload it, use:\n",
      "  %reload_ext autoreload\n"
     ]
    }
   ],
   "source": [
    "%load_ext autoreload\n",
    "%autoreload"
   ]
  },
  {
   "cell_type": "markdown",
   "id": "3885beac-e245-43b6-a2cc-73e9f871d132",
   "metadata": {},
   "source": [
    "### Feature Engineering on Train"
   ]
  },
  {
   "cell_type": "code",
   "execution_count": null,
   "id": "6735831d-0024-4122-9c7b-1280e519d03e",
   "metadata": {},
   "outputs": [],
   "source": [
    "%%time\n",
    "raw_train = read_file(f\"{RAW_TRAIN_PICKLE_PATH}/train_data.pkl\")\n",
    "labels = read_file(f\"{RAW_DATA_PATH}/train_labels.csv\")"
   ]
  },
  {
   "cell_type": "code",
   "execution_count": null,
   "id": "f5cb7717-e9f5-425e-9abb-e87a91b9a010",
   "metadata": {},
   "outputs": [],
   "source": [
    "%%time\n",
    "train_agg = get_agg_df(raw_train)"
   ]
  },
  {
   "cell_type": "code",
   "execution_count": null,
   "id": "d8034d48-03e3-498d-9d24-494b1ed1235b",
   "metadata": {},
   "outputs": [],
   "source": [
    "train_agg"
   ]
  },
  {
   "cell_type": "code",
   "execution_count": null,
   "id": "2e02988c-7f64-432b-aa00-636d251973f2",
   "metadata": {},
   "outputs": [],
   "source": [
    "lgbm_feature_imp = read_file(f\"{PROCESSED_DATA_PATH}/lgbm_feature_imp_summary.csv\")"
   ]
  },
  {
   "cell_type": "code",
   "execution_count": 49,
   "id": "316fb1b4-90f4-4b16-a287-bed2786bf870",
   "metadata": {},
   "outputs": [],
   "source": [
    "global_threshold = 20\n",
    "features_dict = {}\n",
    "for column in lgbm_feature_imp.columns[1:]:\n",
    "    features_dict[column] = lgbm_feature_imp.loc[lgbm_feature_imp[column] >= global_threshold][\"feature\"].tolist()"
   ]
  },
  {
   "cell_type": "code",
   "execution_count": 41,
   "id": "066ec3a2-9e2d-4e5c-b4e8-65e49f51088a",
   "metadata": {},
   "outputs": [
    {
     "data": {
      "text/plain": [
       "1.4942603446184535"
      ]
     },
     "execution_count": 41,
     "metadata": {},
     "output_type": "execute_result"
    }
   ],
   "source": [
    "lgbm_feature_imp[\"first\"].mean() / lgbm_feature_imp.mean().mean()"
   ]
  },
  {
   "cell_type": "code",
   "execution_count": 37,
   "id": "b09132d2-e0c7-4cc7-8445-9a4fb555012d",
   "metadata": {},
   "outputs": [
    {
     "data": {
      "text/plain": [
       "1.03384708238144"
      ]
     },
     "execution_count": 37,
     "metadata": {},
     "output_type": "execute_result"
    }
   ],
   "source": [
    "lgbm_feature_imp[\"last\"].mean() / lgbm_feature_imp.mean().mean()"
   ]
  },
  {
   "cell_type": "code",
   "execution_count": 29,
   "id": "31dbdbf2-1f5f-4109-9b20-5b3361d84b8d",
   "metadata": {},
   "outputs": [
    {
     "data": {
      "text/plain": [
       "0       75.2\n",
       "1      105.2\n",
       "2       74.0\n",
       "3      115.0\n",
       "4      133.6\n",
       "       ...  \n",
       "183    147.8\n",
       "184      NaN\n",
       "185    218.6\n",
       "186      NaN\n",
       "187     71.6\n",
       "Name: first, Length: 188, dtype: float64"
      ]
     },
     "execution_count": 29,
     "metadata": {},
     "output_type": "execute_result"
    }
   ],
   "source": [
    "np.percentile(lgbm_feature_imp[\"first\"], 30)"
   ]
  },
  {
   "cell_type": "code",
   "execution_count": 27,
   "id": "6b9f908e-ae5c-440b-aa45-6a699e793f15",
   "metadata": {},
   "outputs": [
    {
     "data": {
      "text/html": [
       "<div>\n",
       "<style scoped>\n",
       "    .dataframe tbody tr th:only-of-type {\n",
       "        vertical-align: middle;\n",
       "    }\n",
       "\n",
       "    .dataframe tbody tr th {\n",
       "        vertical-align: top;\n",
       "    }\n",
       "\n",
       "    .dataframe thead th {\n",
       "        text-align: right;\n",
       "    }\n",
       "</style>\n",
       "<table border=\"1\" class=\"dataframe\">\n",
       "  <thead>\n",
       "    <tr style=\"text-align: right;\">\n",
       "      <th></th>\n",
       "      <th>first</th>\n",
       "      <th>second_last</th>\n",
       "      <th>last</th>\n",
       "      <th>avg</th>\n",
       "      <th>max</th>\n",
       "      <th>min</th>\n",
       "      <th>range</th>\n",
       "      <th>std</th>\n",
       "      <th>displacement</th>\n",
       "      <th>sprint</th>\n",
       "      <th>previous_sprint</th>\n",
       "      <th>last_minus_avg</th>\n",
       "      <th>velocity</th>\n",
       "    </tr>\n",
       "  </thead>\n",
       "  <tbody>\n",
       "    <tr>\n",
       "      <th>count</th>\n",
       "      <td>72.000000</td>\n",
       "      <td>147.000000</td>\n",
       "      <td>136.000000</td>\n",
       "      <td>129.000000</td>\n",
       "      <td>108.000000</td>\n",
       "      <td>72.000000</td>\n",
       "      <td>76.000000</td>\n",
       "      <td>159.000000</td>\n",
       "      <td>132.000000</td>\n",
       "      <td>122.000000</td>\n",
       "      <td>177.000000</td>\n",
       "      <td>156.000000</td>\n",
       "      <td>139.000000</td>\n",
       "    </tr>\n",
       "    <tr>\n",
       "      <th>mean</th>\n",
       "      <td>142.961111</td>\n",
       "      <td>77.881633</td>\n",
       "      <td>98.911765</td>\n",
       "      <td>98.798450</td>\n",
       "      <td>99.988889</td>\n",
       "      <td>125.297222</td>\n",
       "      <td>115.692105</td>\n",
       "      <td>81.830189</td>\n",
       "      <td>70.851515</td>\n",
       "      <td>103.832787</td>\n",
       "      <td>71.821469</td>\n",
       "      <td>82.360256</td>\n",
       "      <td>73.528058</td>\n",
       "    </tr>\n",
       "    <tr>\n",
       "      <th>std</th>\n",
       "      <td>46.689549</td>\n",
       "      <td>68.400788</td>\n",
       "      <td>83.396413</td>\n",
       "      <td>69.701939</td>\n",
       "      <td>66.757213</td>\n",
       "      <td>66.607752</td>\n",
       "      <td>32.384679</td>\n",
       "      <td>65.464909</td>\n",
       "      <td>59.408641</td>\n",
       "      <td>87.508195</td>\n",
       "      <td>85.265922</td>\n",
       "      <td>68.919613</td>\n",
       "      <td>61.963931</td>\n",
       "    </tr>\n",
       "    <tr>\n",
       "      <th>min</th>\n",
       "      <td>52.800000</td>\n",
       "      <td>0.000000</td>\n",
       "      <td>0.800000</td>\n",
       "      <td>4.200000</td>\n",
       "      <td>0.800000</td>\n",
       "      <td>6.000000</td>\n",
       "      <td>58.000000</td>\n",
       "      <td>0.800000</td>\n",
       "      <td>0.200000</td>\n",
       "      <td>0.000000</td>\n",
       "      <td>0.000000</td>\n",
       "      <td>0.400000</td>\n",
       "      <td>0.000000</td>\n",
       "    </tr>\n",
       "    <tr>\n",
       "      <th>25%</th>\n",
       "      <td>103.350000</td>\n",
       "      <td>9.800000</td>\n",
       "      <td>21.300000</td>\n",
       "      <td>37.200000</td>\n",
       "      <td>35.000000</td>\n",
       "      <td>82.700000</td>\n",
       "      <td>90.850000</td>\n",
       "      <td>15.600000</td>\n",
       "      <td>9.250000</td>\n",
       "      <td>8.500000</td>\n",
       "      <td>0.000000</td>\n",
       "      <td>13.600000</td>\n",
       "      <td>9.100000</td>\n",
       "    </tr>\n",
       "    <tr>\n",
       "      <th>50%</th>\n",
       "      <td>143.700000</td>\n",
       "      <td>76.800000</td>\n",
       "      <td>88.100000</td>\n",
       "      <td>93.000000</td>\n",
       "      <td>105.900000</td>\n",
       "      <td>131.400000</td>\n",
       "      <td>115.800000</td>\n",
       "      <td>82.400000</td>\n",
       "      <td>71.600000</td>\n",
       "      <td>137.400000</td>\n",
       "      <td>13.400000</td>\n",
       "      <td>77.400000</td>\n",
       "      <td>59.400000</td>\n",
       "    </tr>\n",
       "    <tr>\n",
       "      <th>75%</th>\n",
       "      <td>175.650000</td>\n",
       "      <td>132.400000</td>\n",
       "      <td>151.250000</td>\n",
       "      <td>149.000000</td>\n",
       "      <td>144.350000</td>\n",
       "      <td>157.150000</td>\n",
       "      <td>134.200000</td>\n",
       "      <td>142.600000</td>\n",
       "      <td>120.400000</td>\n",
       "      <td>172.350000</td>\n",
       "      <td>169.600000</td>\n",
       "      <td>134.500000</td>\n",
       "      <td>129.100000</td>\n",
       "    </tr>\n",
       "    <tr>\n",
       "      <th>max</th>\n",
       "      <td>248.600000</td>\n",
       "      <td>239.200000</td>\n",
       "      <td>379.000000</td>\n",
       "      <td>340.600000</td>\n",
       "      <td>246.600000</td>\n",
       "      <td>305.200000</td>\n",
       "      <td>211.200000</td>\n",
       "      <td>235.200000</td>\n",
       "      <td>187.800000</td>\n",
       "      <td>401.600000</td>\n",
       "      <td>285.200000</td>\n",
       "      <td>298.400000</td>\n",
       "      <td>201.800000</td>\n",
       "    </tr>\n",
       "  </tbody>\n",
       "</table>\n",
       "</div>"
      ],
      "text/plain": [
       "            first  second_last        last         avg         max  \\\n",
       "count   72.000000   147.000000  136.000000  129.000000  108.000000   \n",
       "mean   142.961111    77.881633   98.911765   98.798450   99.988889   \n",
       "std     46.689549    68.400788   83.396413   69.701939   66.757213   \n",
       "min     52.800000     0.000000    0.800000    4.200000    0.800000   \n",
       "25%    103.350000     9.800000   21.300000   37.200000   35.000000   \n",
       "50%    143.700000    76.800000   88.100000   93.000000  105.900000   \n",
       "75%    175.650000   132.400000  151.250000  149.000000  144.350000   \n",
       "max    248.600000   239.200000  379.000000  340.600000  246.600000   \n",
       "\n",
       "              min       range         std  displacement      sprint  \\\n",
       "count   72.000000   76.000000  159.000000    132.000000  122.000000   \n",
       "mean   125.297222  115.692105   81.830189     70.851515  103.832787   \n",
       "std     66.607752   32.384679   65.464909     59.408641   87.508195   \n",
       "min      6.000000   58.000000    0.800000      0.200000    0.000000   \n",
       "25%     82.700000   90.850000   15.600000      9.250000    8.500000   \n",
       "50%    131.400000  115.800000   82.400000     71.600000  137.400000   \n",
       "75%    157.150000  134.200000  142.600000    120.400000  172.350000   \n",
       "max    305.200000  211.200000  235.200000    187.800000  401.600000   \n",
       "\n",
       "       previous_sprint  last_minus_avg    velocity  \n",
       "count       177.000000      156.000000  139.000000  \n",
       "mean         71.821469       82.360256   73.528058  \n",
       "std          85.265922       68.919613   61.963931  \n",
       "min           0.000000        0.400000    0.000000  \n",
       "25%           0.000000       13.600000    9.100000  \n",
       "50%          13.400000       77.400000   59.400000  \n",
       "75%         169.600000      134.500000  129.100000  \n",
       "max         285.200000      298.400000  201.800000  "
      ]
     },
     "execution_count": 27,
     "metadata": {},
     "output_type": "execute_result"
    }
   ],
   "source": [
    "lgbm_feature_imp.describe()"
   ]
  },
  {
   "cell_type": "code",
   "execution_count": null,
   "id": "8cd608a3-776b-42d0-aed4-925b7b89de79",
   "metadata": {
    "tags": []
   },
   "outputs": [],
   "source": []
  },
  {
   "cell_type": "code",
   "execution_count": null,
   "id": "d79f2e0c-6b6e-478e-925e-9274b82fc4fe",
   "metadata": {},
   "outputs": [],
   "source": [
    "%%time\n",
    "train_agg[\"num_statements\"] = (\n",
    "    raw_train.loc[raw_train[\"row_number\"] == 1][[\"row_number\", \"row_number_inv\"]].sum(axis=1) - 1\n",
    ").reset_index(drop=True).values"
   ]
  },
  {
   "cell_type": "code",
   "execution_count": null,
   "id": "f243f14d-a416-4d2c-aa81-e5e824828f75",
   "metadata": {},
   "outputs": [],
   "source": [
    "train_agg.head(3)"
   ]
  },
  {
   "cell_type": "code",
   "execution_count": null,
   "id": "cfa81b0a-d6ce-4e13-8a1e-95572bdc12eb",
   "metadata": {},
   "outputs": [],
   "source": [
    "%%time\n",
    "train_last_etc = get_specific_row_df(raw_train)"
   ]
  },
  {
   "cell_type": "code",
   "execution_count": null,
   "id": "f7cdcf30-e47c-4f96-826f-b397dcf66707",
   "metadata": {},
   "outputs": [],
   "source": [
    "train_last_etc.head(3)"
   ]
  },
  {
   "cell_type": "code",
   "execution_count": null,
   "id": "f914dfe9-4420-47b4-aba9-57b850ee9196",
   "metadata": {},
   "outputs": [],
   "source": [
    "%%time\n",
    "train_agg = train_last_etc.merge(train_agg, left_index=True, right_index=True, how=\"inner\")\n",
    "del train_last_etc"
   ]
  },
  {
   "cell_type": "code",
   "execution_count": null,
   "id": "b98bc84d-d8b8-4603-a468-b79d7e8f32a8",
   "metadata": {},
   "outputs": [],
   "source": [
    "numeric_columns = list(set(raw_train.columns) - set(CATEGORY_COLUMNS) - set(NON_FEATURE_COLUMNS))\n",
    "all_columns = list(set(numeric_columns).union(set(CATEGORY_COLUMNS)))"
   ]
  },
  {
   "cell_type": "code",
   "execution_count": null,
   "id": "8c8d6039-b1c7-44ab-b62a-66ecfb5af911",
   "metadata": {},
   "outputs": [],
   "source": [
    "train_agg.shape"
   ]
  },
  {
   "cell_type": "code",
   "execution_count": null,
   "id": "85ffd79b-366a-49ea-a96e-47e6f40a98fc",
   "metadata": {},
   "outputs": [],
   "source": [
    "%%time\n",
    "for col in tqdm(numeric_columns):\n",
    "    train_agg[f\"{col}_range\"] = train_agg[f\"{col}_max\"] - train_agg[f\"{col}_min\"]\n",
    "    train_agg[f\"{col}_displacement\"] = train_agg[f\"{col}_last\"] - train_agg[f\"{col}_first\"]\n",
    "    train_agg[f\"{col}_velocity\"] = train_agg[f\"{col}_displacement\"] / np.log(train_agg[\"num_statements\"])\n",
    "    train_agg[f\"{col}_sprint\"] = train_agg[f\"{col}_last\"] - train_agg[f\"{col}_second_last\"]\n",
    "    train_agg[f\"{col}_previous_sprint\"] = train_agg[f\"{col}_second_last\"] - train_agg[f\"{col}_third_last\"]\n",
    "    train_agg[f\"{col}_last_minus_avg\"] = train_agg[f\"{col}_last\"] - train_agg[f\"{col}_avg\"]"
   ]
  },
  {
   "cell_type": "code",
   "execution_count": null,
   "id": "1194c922-2a4e-44cf-8aca-accddba55b3c",
   "metadata": {},
   "outputs": [],
   "source": [
    "# train_agg[[f\"{col}_previous_sprint\", f\"{col}_sprint\"]]"
   ]
  },
  {
   "cell_type": "code",
   "execution_count": null,
   "id": "acce3c56-a3d2-4f2e-98e6-6f138e194162",
   "metadata": {},
   "outputs": [],
   "source": [
    "train_agg.shape"
   ]
  },
  {
   "cell_type": "code",
   "execution_count": null,
   "id": "8fb44043-3c62-488e-80d2-fcbb17c13bab",
   "metadata": {},
   "outputs": [],
   "source": [
    "# backup = train_agg.copy()"
   ]
  },
  {
   "cell_type": "markdown",
   "id": "296842d2-d899-4c93-9972-a06d4c3c25e5",
   "metadata": {},
   "source": [
    "#### Drop Average Columns"
   ]
  },
  {
   "cell_type": "code",
   "execution_count": null,
   "id": "aeaa8ebe-51f8-4d70-b6a1-1ac800421f48",
   "metadata": {},
   "outputs": [],
   "source": [
    "avg_cols = get_cols(train_agg, \"_avg\", excludes=\"last_minus\")\n",
    "avg_cols = [c for c in avg_cols if c.replace(\"_avg\", \"\") not in MEAN_FEATURES]\n",
    "train_agg = train_agg.drop(columns=avg_cols, errors=\"ignore\")\n",
    "train_agg.shape"
   ]
  },
  {
   "cell_type": "markdown",
   "id": "386e366f-2f86-41a9-9175-c64bd8df6bae",
   "metadata": {},
   "source": [
    "#### Drop Minimum Columns"
   ]
  },
  {
   "cell_type": "code",
   "execution_count": null,
   "id": "53d86aad-98ae-4086-9912-2af8cdfd036e",
   "metadata": {},
   "outputs": [],
   "source": [
    "min_cols = get_cols(train_agg, \"_min\", excludes=\"last_minus\")\n",
    "min_cols = [c for c in min_cols if c.replace(\"_min\", \"\") not in MIN_FEATURES]\n",
    "train_agg = train_agg.drop(columns=min_cols, errors=\"ignore\")\n",
    "train_agg.shape"
   ]
  },
  {
   "cell_type": "markdown",
   "id": "3307949c-d409-41e7-83c1-bf8105888f03",
   "metadata": {},
   "source": [
    "#### Drop Maximum Columns"
   ]
  },
  {
   "cell_type": "code",
   "execution_count": null,
   "id": "79c28dc7-aadb-4a8b-9b8f-bf6b50fa3bf2",
   "metadata": {},
   "outputs": [],
   "source": [
    "max_cols = get_cols(train_agg, \"_max\", excludes=\"last_minus\")\n",
    "max_cols = [c for c in max_cols if c.replace(\"_max\", \"\") not in MAX_FEATURES]\n",
    "train_agg = train_agg.drop(columns=max_cols, errors=\"ignore\")\n",
    "train_agg.shape"
   ]
  },
  {
   "cell_type": "markdown",
   "id": "23a65aac-a648-4141-81ff-14514f730ec0",
   "metadata": {},
   "source": [
    "#### Drop First Columns"
   ]
  },
  {
   "cell_type": "code",
   "execution_count": null,
   "id": "2c83a75c-a3f4-41b1-a0c1-a535c0c0af21",
   "metadata": {},
   "outputs": [],
   "source": [
    "first_cols = get_cols(train_agg, \"_first\", excludes=\"last_minus\")\n",
    "first_cols = [c for c in first_cols if c.replace(\"_first\", \"\") not in FIRST_FEATURES]\n",
    "train_agg = train_agg.drop(columns=first_cols, errors=\"ignore\")\n",
    "train_agg.shape"
   ]
  },
  {
   "cell_type": "markdown",
   "id": "f23360a6-ae0b-411f-91d6-1d0c8f48011e",
   "metadata": {},
   "source": [
    "#### Drop Last Columns"
   ]
  },
  {
   "cell_type": "code",
   "execution_count": null,
   "id": "ffccabd6-7d3d-4080-8975-03d4c45d9b08",
   "metadata": {},
   "outputs": [],
   "source": [
    "last_cols = get_cols(train_agg, \"_last\", excludes=[\"last_minus\", \"second_last\"])\n",
    "last_cols = [c for c in last_cols if c.replace(\"_last\", \"\") not in LAST_FEATURES]\n",
    "train_agg = train_agg.drop(columns=last_cols, errors=\"ignore\")\n",
    "train_agg.shape"
   ]
  },
  {
   "cell_type": "markdown",
   "id": "3c787d9a-c4be-4ad1-8b45-a8996549a21b",
   "metadata": {
    "tags": []
   },
   "source": [
    "#### Drop Range Columns"
   ]
  },
  {
   "cell_type": "code",
   "execution_count": null,
   "id": "51128853-3035-4178-86d6-a5532ebc68ee",
   "metadata": {},
   "outputs": [],
   "source": [
    "range_cols = get_cols(train_agg, \"_range\", excludes=[\"last_minus\", \"second_last\"])\n",
    "range_cols = [c for c in range_cols if c.replace(\"_range\", \"\") not in RANGE_FEATURES]\n",
    "train_agg = train_agg.drop(columns=range_cols, errors=\"ignore\")\n",
    "train_agg.shape"
   ]
  },
  {
   "cell_type": "markdown",
   "id": "b7a42164-7fc7-4033-ba35-fca7a572d30c",
   "metadata": {},
   "source": [
    "#### Drop Noob Features (Based on previous experiment)"
   ]
  },
  {
   "cell_type": "code",
   "execution_count": null,
   "id": "9b9bc4f7-ecfe-4045-b80f-4175fbe42436",
   "metadata": {},
   "outputs": [],
   "source": [
    "noob_features = pd.read_csv(f\"{DROP_FEATURES_PATH}/noob_features.csv\")[\"feature\"].values.tolist()"
   ]
  },
  {
   "cell_type": "code",
   "execution_count": null,
   "id": "fea8f82d-73a1-4c5c-872b-b83c53e2b16b",
   "metadata": {},
   "outputs": [],
   "source": [
    "train_agg = train_agg.drop(columns=noob_features, errors=\"ignore\")\n",
    "train_agg.shape"
   ]
  },
  {
   "cell_type": "code",
   "execution_count": null,
   "id": "a56704d1-224a-4d1b-9f3c-3da49fa2ade4",
   "metadata": {},
   "outputs": [],
   "source": [
    "# feature_list = (\n",
    "#     [c + \"_avg\" for c in MEAN_FEATURES] +\n",
    "#     [c + \"_min\" for c in MIN_FEATURES] +\n",
    "#     [c + \"_max\" for c in MAX_FEATURES] +\n",
    "#     [c + \"_first\" for c in FIRST_FEATURES] +\n",
    "#     [c + \"_last\" for c in LAST_FEATURES] +\n",
    "#     [c + \"_range\" for c in RANGE_FEATURES] +\n",
    "#     [c + \"_velocity\" for c in VELOCITY_FEATURES] +\n",
    "#     [c + \"_speed\" for c in SPEED_FEATURES] + \n",
    "#     [c for c in train.columns if c.endswith((\"_lag1_diff\", \"_last_lift\"))]\n",
    "# )\n",
    "# train_agg = train_agg.loc[:, feature_list]"
   ]
  },
  {
   "cell_type": "code",
   "execution_count": null,
   "id": "775035aa-0565-427f-a35e-17ae7a9b7d3e",
   "metadata": {},
   "outputs": [],
   "source": [
    "train_agg = train_agg.reset_index().rename(columns={\"index\": \"customer_ID\"})"
   ]
  },
  {
   "cell_type": "code",
   "execution_count": null,
   "id": "1bfb9573-325c-4425-9bee-cf5e59830c75",
   "metadata": {},
   "outputs": [],
   "source": [
    "train_agg = train_agg.drop(columns=NON_FEATURE_COLUMNS, errors='ignore')"
   ]
  },
  {
   "cell_type": "code",
   "execution_count": null,
   "id": "7b7ddc94-a446-4aa0-81bd-bf462c312dd1",
   "metadata": {},
   "outputs": [],
   "source": [
    "train_agg[\"dummy\"] = np.random.randn(train_agg.shape[0])"
   ]
  },
  {
   "cell_type": "code",
   "execution_count": null,
   "id": "dad39c77-8c99-4a8d-9a94-6ad2c1ef1515",
   "metadata": {},
   "outputs": [],
   "source": [
    "train_agg.shape"
   ]
  },
  {
   "cell_type": "code",
   "execution_count": null,
   "id": "26b55f51-ed43-421f-a544-e4e469c780d6",
   "metadata": {},
   "outputs": [],
   "source": [
    "train_agg[\"target\"] = labels[\"target\"].values\n",
    "train_agg.shape"
   ]
  },
  {
   "cell_type": "code",
   "execution_count": null,
   "id": "c10232de-bc1c-4f15-bf0b-e5ff9a6f1248",
   "metadata": {},
   "outputs": [],
   "source": [
    "train_agg.dtypes.value_counts()"
   ]
  },
  {
   "cell_type": "code",
   "execution_count": null,
   "id": "837bb56a-994a-4b05-9cb3-b75297fd91aa",
   "metadata": {},
   "outputs": [],
   "source": [
    "train_agg.to_pickle(f\"{PROCESSED_DATA_PATH}/train_agg_finer.pkl\")"
   ]
  },
  {
   "cell_type": "markdown",
   "id": "6144bc52-209b-4c69-8c6b-7b9d9c542413",
   "metadata": {},
   "source": [
    "### Feature Engineering on Test"
   ]
  },
  {
   "cell_type": "code",
   "execution_count": null,
   "id": "41150f31-a76e-4761-829a-1ad63241e626",
   "metadata": {},
   "outputs": [],
   "source": [
    "%%time\n",
    "raw_test = read_file(f\"{RAW_TEST_PICKLE_PATH}/test_data.pkl\")"
   ]
  },
  {
   "cell_type": "code",
   "execution_count": null,
   "id": "7a761ebd-1966-4b1f-b788-66bdc0e89b94",
   "metadata": {
    "tags": []
   },
   "outputs": [],
   "source": [
    "%%time\n",
    "test_agg = get_agg_df(raw_test)"
   ]
  },
  {
   "cell_type": "code",
   "execution_count": null,
   "id": "bef5def4-b6a5-447e-aff5-a8b098baec34",
   "metadata": {},
   "outputs": [],
   "source": [
    "%%time\n",
    "test_agg[\"num_statements\"] = (\n",
    "    raw_test.loc[raw_test[\"row_number\"] == 1][[\"row_number\", \"row_number_inv\"]].sum(axis=1) - 1\n",
    ").reset_index(drop=True).values"
   ]
  },
  {
   "cell_type": "code",
   "execution_count": null,
   "id": "22a374ae-a665-40e5-939c-c232bc806da3",
   "metadata": {},
   "outputs": [],
   "source": [
    "test_agg.head(3)"
   ]
  },
  {
   "cell_type": "code",
   "execution_count": null,
   "id": "7c96ab91-e131-4554-8ead-0563cae7335b",
   "metadata": {},
   "outputs": [],
   "source": [
    "%%time\n",
    "test_last_etc = get_specific_row_df(raw_test)"
   ]
  },
  {
   "cell_type": "code",
   "execution_count": null,
   "id": "8246fce1-b77c-4303-919b-adaf56542f0e",
   "metadata": {},
   "outputs": [],
   "source": [
    "test_last_etc.head(3)"
   ]
  },
  {
   "cell_type": "code",
   "execution_count": null,
   "id": "c2aa9473-96e4-4a1d-92a2-1810a5409de8",
   "metadata": {},
   "outputs": [],
   "source": [
    "%%time\n",
    "test_agg = test_last_etc.merge(test_agg, left_index=True, right_index=True, how=\"inner\")\n",
    "del test_last_etc"
   ]
  },
  {
   "cell_type": "code",
   "execution_count": null,
   "id": "ae2d13d8-3220-43c1-9b91-f81688706c10",
   "metadata": {},
   "outputs": [],
   "source": [
    "numeric_columns = list(set(raw_test.columns) - set(CATEGORY_COLUMNS) - set(NON_FEATURE_COLUMNS))\n",
    "all_columns = list(set(numeric_columns).union(set(CATEGORY_COLUMNS)))"
   ]
  },
  {
   "cell_type": "code",
   "execution_count": null,
   "id": "fb4fb1e8-5321-4838-aa85-95b13e4283d3",
   "metadata": {},
   "outputs": [],
   "source": [
    "test_agg.shape"
   ]
  },
  {
   "cell_type": "code",
   "execution_count": null,
   "id": "886348f5-6bc0-4b1d-a52c-3347311477ae",
   "metadata": {},
   "outputs": [],
   "source": [
    "%%time\n",
    "for col in tqdm(numeric_columns):\n",
    "    test_agg[f\"{col}_range\"] = test_agg[f\"{col}_max\"] - test_agg[f\"{col}_min\"]\n",
    "    test_agg[f\"{col}_displacement\"] = test_agg[f\"{col}_last\"] - test_agg[f\"{col}_first\"]\n",
    "    test_agg[f\"{col}_velocity\"] = test_agg[f\"{col}_displacement\"] / np.log(test_agg[\"num_statements\"])\n",
    "    test_agg[f\"{col}_sprint\"] = test_agg[f\"{col}_last\"] - test_agg[f\"{col}_second_last\"]\n",
    "    test_agg[f\"{col}_previous_sprint\"] = test_agg[f\"{col}_second_last\"] - test_agg[f\"{col}_third_last\"]\n",
    "    test_agg[f\"{col}_last_minus_avg\"] = test_agg[f\"{col}_last\"] - test_agg[f\"{col}_avg\"]"
   ]
  },
  {
   "cell_type": "code",
   "execution_count": null,
   "id": "832d81a0-e03f-4f36-b165-cc7b98b010be",
   "metadata": {},
   "outputs": [],
   "source": [
    "# test_agg[[f\"{col}_previous_sprint\", f\"{col}_sprint\"]]"
   ]
  },
  {
   "cell_type": "code",
   "execution_count": null,
   "id": "22c27e42-d4f3-4af0-a0b9-5947b8c8b48c",
   "metadata": {},
   "outputs": [],
   "source": [
    "test_agg.shape"
   ]
  },
  {
   "cell_type": "code",
   "execution_count": null,
   "id": "4343c12b-89e7-4fd8-9f90-0a106e7fd95d",
   "metadata": {},
   "outputs": [],
   "source": [
    "# backup = test_agg.copy()"
   ]
  },
  {
   "cell_type": "markdown",
   "id": "43148faa-0f97-497d-bd5c-6c40ed5fb62d",
   "metadata": {},
   "source": [
    "#### Drop Average Columns"
   ]
  },
  {
   "cell_type": "code",
   "execution_count": null,
   "id": "66964bcc-2d0f-4411-b036-4223d5b46608",
   "metadata": {},
   "outputs": [],
   "source": [
    "avg_cols = get_cols(test_agg, \"_avg\", excludes=\"last_minus\")\n",
    "avg_cols = [c for c in avg_cols if c.replace(\"_avg\", \"\") not in MEAN_FEATURES]\n",
    "test_agg = test_agg.drop(columns=avg_cols, errors=\"ignore\")\n",
    "test_agg.shape"
   ]
  },
  {
   "cell_type": "markdown",
   "id": "aa42b823-b18b-4e5d-8250-ec18a0a3a5a6",
   "metadata": {},
   "source": [
    "#### Drop Minimum Columns"
   ]
  },
  {
   "cell_type": "code",
   "execution_count": null,
   "id": "f3a08edc-3268-439e-8c6b-656d3eacc231",
   "metadata": {},
   "outputs": [],
   "source": [
    "min_cols = get_cols(test_agg, \"_min\", excludes=\"last_minus\")\n",
    "min_cols = [c for c in min_cols if c.replace(\"_min\", \"\") not in MIN_FEATURES]\n",
    "test_agg = test_agg.drop(columns=min_cols, errors=\"ignore\")\n",
    "test_agg.shape"
   ]
  },
  {
   "cell_type": "markdown",
   "id": "3119d3bf-32eb-4859-b8b0-d2fa9bfc6e34",
   "metadata": {},
   "source": [
    "#### Drop Maximum Columns"
   ]
  },
  {
   "cell_type": "code",
   "execution_count": null,
   "id": "3752d9fe-340e-4ecd-ba47-984dce2b66d9",
   "metadata": {},
   "outputs": [],
   "source": [
    "max_cols = get_cols(test_agg, \"_max\", excludes=\"last_minus\")\n",
    "max_cols = [c for c in max_cols if c.replace(\"_max\", \"\") not in MAX_FEATURES]\n",
    "test_agg = test_agg.drop(columns=max_cols, errors=\"ignore\")\n",
    "test_agg.shape"
   ]
  },
  {
   "cell_type": "markdown",
   "id": "0bd3fbf3-f49c-47cc-9ce0-8f73f1c6d64f",
   "metadata": {},
   "source": [
    "#### Drop First Columns"
   ]
  },
  {
   "cell_type": "code",
   "execution_count": null,
   "id": "d2866c05-1e2e-4d70-a924-c03682446bdf",
   "metadata": {},
   "outputs": [],
   "source": [
    "first_cols = get_cols(test_agg, \"_first\", excludes=\"last_minus\")\n",
    "first_cols = [c for c in first_cols if c.replace(\"_first\", \"\") not in FIRST_FEATURES]\n",
    "test_agg = test_agg.drop(columns=first_cols, errors=\"ignore\")\n",
    "test_agg.shape"
   ]
  },
  {
   "cell_type": "markdown",
   "id": "69f4d961-58fd-4bf7-93a8-528ee2a83aab",
   "metadata": {},
   "source": [
    "#### Drop Last Columns"
   ]
  },
  {
   "cell_type": "code",
   "execution_count": null,
   "id": "1786c367-2e86-448b-97f5-21a4d5eb16cf",
   "metadata": {},
   "outputs": [],
   "source": [
    "last_cols = get_cols(test_agg, \"_last\", excludes=[\"last_minus\", \"second_last\"])\n",
    "last_cols = [c for c in last_cols if c.replace(\"_last\", \"\") not in LAST_FEATURES]\n",
    "test_agg = test_agg.drop(columns=last_cols, errors=\"ignore\")\n",
    "test_agg.shape"
   ]
  },
  {
   "cell_type": "markdown",
   "id": "fb168f6e-48c4-4c13-a9e4-c503f8fa9254",
   "metadata": {
    "tags": []
   },
   "source": [
    "#### Drop Range Columns"
   ]
  },
  {
   "cell_type": "code",
   "execution_count": null,
   "id": "0b94d46e-f89d-479b-8ea3-4de8d6425071",
   "metadata": {},
   "outputs": [],
   "source": [
    "range_cols = get_cols(test_agg, \"_range\", excludes=[\"last_minus\", \"second_last\"])\n",
    "range_cols = [c for c in range_cols if c.replace(\"_range\", \"\") not in RANGE_FEATURES]\n",
    "test_agg = test_agg.drop(columns=range_cols, errors=\"ignore\")\n",
    "test_agg.shape"
   ]
  },
  {
   "cell_type": "markdown",
   "id": "b79b2af8-7cc4-46be-ba4f-150dffce1275",
   "metadata": {},
   "source": [
    "#### Drop Noob Features (Based on previous experiment)"
   ]
  },
  {
   "cell_type": "code",
   "execution_count": null,
   "id": "a74a448e-e058-4b34-9a56-def0ccd90958",
   "metadata": {},
   "outputs": [],
   "source": [
    "noob_features = pd.read_csv(f\"{DROP_FEATURES_PATH}/noob_features.csv\")[\"feature\"].values.tolist()"
   ]
  },
  {
   "cell_type": "code",
   "execution_count": null,
   "id": "116b363f-ffb1-400f-ae75-ab88ad92e869",
   "metadata": {},
   "outputs": [],
   "source": [
    "test_agg = test_agg.drop(columns=noob_features, errors=\"ignore\")\n",
    "test_agg.shape"
   ]
  },
  {
   "cell_type": "code",
   "execution_count": null,
   "id": "3c2cf2ae-9175-4e8a-aaa9-f5fbfffa96da",
   "metadata": {},
   "outputs": [],
   "source": [
    "# feature_list = (\n",
    "#     [c + \"_avg\" for c in MEAN_FEATURES] +\n",
    "#     [c + \"_min\" for c in MIN_FEATURES] +\n",
    "#     [c + \"_max\" for c in MAX_FEATURES] +\n",
    "#     [c + \"_first\" for c in FIRST_FEATURES] +\n",
    "#     [c + \"_last\" for c in LAST_FEATURES] +\n",
    "#     [c + \"_range\" for c in RANGE_FEATURES] +\n",
    "#     [c + \"_velocity\" for c in VELOCITY_FEATURES] +\n",
    "#     [c + \"_speed\" for c in SPEED_FEATURES] + \n",
    "#     [c for c in train.columns if c.endswith((\"_lag1_diff\", \"_last_lift\"))]\n",
    "# )\n",
    "# test_agg = test_agg.loc[:, feature_list]"
   ]
  },
  {
   "cell_type": "code",
   "execution_count": null,
   "id": "6bdddb98-06f1-44af-b612-6bfd5568cea6",
   "metadata": {},
   "outputs": [],
   "source": [
    "test_agg = test_agg.reset_index().rename(columns={\"index\": \"customer_ID\"})"
   ]
  },
  {
   "cell_type": "code",
   "execution_count": null,
   "id": "d4096192-275e-4631-a472-939c9c326428",
   "metadata": {},
   "outputs": [],
   "source": [
    "test_agg = test_agg.drop(columns=NON_FEATURE_COLUMNS, errors='ignore')"
   ]
  },
  {
   "cell_type": "code",
   "execution_count": null,
   "id": "7f824cfa-ad2e-4203-a149-f0e7828df84f",
   "metadata": {},
   "outputs": [],
   "source": [
    "# test_agg[\"dummy\"] = np.random.randn(test_agg.shape[0])"
   ]
  },
  {
   "cell_type": "code",
   "execution_count": null,
   "id": "2be978be-9ab8-4509-a0bc-38eceaed95af",
   "metadata": {},
   "outputs": [],
   "source": [
    "test_agg.shape"
   ]
  },
  {
   "cell_type": "code",
   "execution_count": null,
   "id": "c118b95c-3d54-43a2-9587-e0bf9874260b",
   "metadata": {},
   "outputs": [],
   "source": [
    "test_agg.dtypes.value_counts()"
   ]
  },
  {
   "cell_type": "code",
   "execution_count": null,
   "id": "6604f84f-96d5-4d90-954e-1866a0c8486c",
   "metadata": {},
   "outputs": [],
   "source": [
    "test_agg.to_pickle(f\"{PROCESSED_DATA_PATH}/test_agg_finer.pkl\")"
   ]
  },
  {
   "cell_type": "code",
   "execution_count": null,
   "id": "51dc292d-576b-46a2-a3ce-84b3daa59b7b",
   "metadata": {},
   "outputs": [],
   "source": []
  }
 ],
 "metadata": {
  "kernelspec": {
   "display_name": "play",
   "language": "python",
   "name": "play"
  },
  "language_info": {
   "codemirror_mode": {
    "name": "ipython",
    "version": 3
   },
   "file_extension": ".py",
   "mimetype": "text/x-python",
   "name": "python",
   "nbconvert_exporter": "python",
   "pygments_lexer": "ipython3",
   "version": "3.10.0"
  }
 },
 "nbformat": 4,
 "nbformat_minor": 5
}
