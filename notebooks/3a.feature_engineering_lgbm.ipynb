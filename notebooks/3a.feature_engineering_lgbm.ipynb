{
 "cells": [
  {
   "cell_type": "code",
   "execution_count": 1,
   "id": "5dd2ca34-3410-4078-aa48-7adbba211ed5",
   "metadata": {},
   "outputs": [],
   "source": [
    "import datetime\n",
    "import gc\n",
    "import joblib\n",
    "import matplotlib.pyplot as plt\n",
    "import pandas as pd\n",
    "import numpy as np\n",
    "import os\n",
    "import scipy.stats\n",
    "import seaborn as sns\n",
    "import sys\n",
    "sys.path.append(\"../\")\n",
    "import time\n",
    "import warnings\n",
    "warnings.simplefilter(\"ignore\")\n",
    "from itertools import repeat\n",
    "from sklearn.preprocessing import StandardScaler\n",
    "from tqdm import tqdm"
   ]
  },
  {
   "cell_type": "code",
   "execution_count": 2,
   "id": "a084bef6-4434-40fb-bafc-d7d3e4c57a14",
   "metadata": {},
   "outputs": [],
   "source": [
    "from utils.common import (\n",
    "    sigmoid, pad_column_name\n",
    ")\n",
    "from utils.constants import (\n",
    "    RAW_DATA_PATH, PROCESSED_DATA_PATH\n",
    ")\n",
    "from utils.eval_helpers import (\n",
    "    plot_roc_curves, plot_feature_importance, \n",
    "    amex_metric, get_final_metric_df, amex_metric_np, lgb_amex_metric\n",
    ")\n",
    "from utils.eda_helpers import (\n",
    "    plot_missing_proportion_barchart, plot_heatmap,\n",
    "    get_cols\n",
    ")\n",
    "from utils.extraction_helpers import read_file\n",
    "from utils.feature_group import (\n",
    "    CATEGORY_COLUMNS, CONTINUOUS_COLUMNS, NON_FEATURE_COLUMNS,\n",
    "    MEAN_FEATURES, MIN_FEATURES, MAX_FEATURES, LAST_FEATURES, FIRST_FEATURES,\n",
    "    RANGE_FEATURES, VELOCITY_FEATURES, SPEED_FEATURES\n",
    ")\n",
    "from utils.feature_engineering_helpers import (\n",
    "    filter_df_for_feature, \n",
    "    get_specific_row_df, \n",
    "    get_agg_df, get_ma_df\n",
    ")"
   ]
  },
  {
   "cell_type": "code",
   "execution_count": 3,
   "id": "08cce559-a615-41c7-9d81-0a5e7b981931",
   "metadata": {
    "tags": []
   },
   "outputs": [],
   "source": [
    "RAW_DATA_PATH = \"../raw_data\"\n",
    "PROCESSED_DATA_PATH = \"../processed_data\"\n",
    "EVALUATION_DATA_PATH = \"../evaluation_data\"\n",
    "MODELS_PATH = \"../models\"\n",
    "EXP_PATH = \"../experiments\""
   ]
  },
  {
   "cell_type": "code",
   "execution_count": 4,
   "id": "79487a81-ce62-4847-974a-485a5ce1c515",
   "metadata": {},
   "outputs": [],
   "source": [
    "RAW_TRAIN_PICKLE_PATH = os.path.join(RAW_DATA_PATH, \"train_pickle\")\n",
    "RAW_TEST_PICKLE_PATH = os.path.join(RAW_DATA_PATH, \"test_pickle\")"
   ]
  },
  {
   "cell_type": "code",
   "execution_count": 5,
   "id": "67194602-57fc-4e92-9801-8d600e52a5b2",
   "metadata": {},
   "outputs": [],
   "source": [
    "%load_ext autoreload\n",
    "%autoreload"
   ]
  },
  {
   "cell_type": "markdown",
   "id": "3885beac-e245-43b6-a2cc-73e9f871d132",
   "metadata": {},
   "source": [
    "## Feature Engineering on Train"
   ]
  },
  {
   "cell_type": "markdown",
   "id": "ec0628c2-ceae-4f54-99a3-08d5b55bebfa",
   "metadata": {},
   "source": [
    "### Read master data & train labels"
   ]
  },
  {
   "cell_type": "code",
   "execution_count": null,
   "id": "6735831d-0024-4122-9c7b-1280e519d03e",
   "metadata": {},
   "outputs": [],
   "source": [
    "%%time\n",
    "raw_train = read_file(f\"{RAW_TRAIN_PICKLE_PATH}/train_data.pkl\")\n",
    "labels = read_file(f\"{RAW_DATA_PATH}/train_labels.csv\")"
   ]
  },
  {
   "cell_type": "code",
   "execution_count": null,
   "id": "07065119-9a25-4414-ae8a-8ec224ddda30",
   "metadata": {},
   "outputs": [],
   "source": [
    "# numeric_columns = raw_train.select_dtypes(np.number).drop(columns=NON_FEATURE_COLUMNS, errors='ignore').columns.tolist()"
   ]
  },
  {
   "cell_type": "code",
   "execution_count": null,
   "id": "8d38fb80-178d-4058-a095-4e0a16f43edd",
   "metadata": {},
   "outputs": [],
   "source": [
    "# raw_train.loc[:, [\"customer_ID\"] + numeric_columns].groupby([\"customer_ID\"]).diff()"
   ]
  },
  {
   "cell_type": "code",
   "execution_count": null,
   "id": "80a6778e-9d3d-416a-8718-8dafd02853e4",
   "metadata": {},
   "outputs": [],
   "source": [
    "%%time\n",
    "raw_train[\"P_200\"] = raw_train[\"P_2\"] - raw_train.groupby(\"customer_ID\")[\"P_2\"].transform(lambda x: x.ewm(span=13).mean()).values\n",
    "raw_train[\"P_300\"] = raw_train[\"P_3\"] - raw_train.groupby(\"customer_ID\")[\"P_3\"].transform(lambda x: x.ewm(span=13).mean()).values\n",
    "raw_train[\"S_300\"] = raw_train[\"S_3\"] - raw_train.groupby(\"customer_ID\")[\"S_3\"].transform(lambda x: x.ewm(span=13).mean()).values\n",
    "raw_train[\"S_1200\"] = raw_train[\"S_12\"] - raw_train.groupby(\"customer_ID\")[\"S_12\"].transform(lambda x: x.ewm(span=13).mean()).values"
   ]
  },
  {
   "cell_type": "code",
   "execution_count": null,
   "id": "a905a006-ea66-4df2-b739-9af534fe0359",
   "metadata": {},
   "outputs": [],
   "source": [
    "%%time\n",
    "raw_train[\"P_22\"] = raw_train.groupby(\"customer_ID\")[\"P_2\"].pct_change()\n",
    "raw_train[\"P_33\"] = raw_train.groupby(\"customer_ID\")[\"P_3\"].pct_change()\n",
    "raw_train[\"S_33\"] = raw_train.groupby(\"customer_ID\")[\"S_3\"].pct_change()\n",
    "raw_train[\"S_1212\"] = raw_train.groupby(\"customer_ID\")[\"S_12\"].pct_change()"
   ]
  },
  {
   "cell_type": "markdown",
   "id": "760ab5e0-8174-41da-92be-95ccfc4653f3",
   "metadata": {},
   "source": [
    "### Get simple aggregation values (average, min, max, std, skew)"
   ]
  },
  {
   "cell_type": "code",
   "execution_count": null,
   "id": "f5cb7717-e9f5-425e-9abb-e87a91b9a010",
   "metadata": {},
   "outputs": [],
   "source": [
    "%%time\n",
    "train_agg = get_agg_df(raw_train)"
   ]
  },
  {
   "cell_type": "code",
   "execution_count": null,
   "id": "cb84b06d-8393-4e88-9c9a-4b4bce9f8e15",
   "metadata": {},
   "outputs": [],
   "source": [
    "train_agg.shape"
   ]
  },
  {
   "cell_type": "code",
   "execution_count": null,
   "id": "2118e01a-af2f-4739-a1bb-5808ae45bc3b",
   "metadata": {},
   "outputs": [],
   "source": [
    "train_agg.head()"
   ]
  },
  {
   "cell_type": "markdown",
   "id": "914b0165-b278-49bf-9fcd-a99d0c1a633a",
   "metadata": {},
   "source": [
    "### Calculate number of statements (data availability for each client)"
   ]
  },
  {
   "cell_type": "code",
   "execution_count": null,
   "id": "d79f2e0c-6b6e-478e-925e-9274b82fc4fe",
   "metadata": {},
   "outputs": [],
   "source": [
    "%%time\n",
    "train_agg[\"num_statements\"] = (\n",
    "    raw_train.loc[raw_train[\"row_number\"] == 1][[\"row_number\", \"row_number_inv\"]].sum(axis=1) - 1\n",
    ").reset_index(drop=True).values"
   ]
  },
  {
   "cell_type": "markdown",
   "id": "5c3d982c-8bb6-4e9e-9256-cd403c98a768",
   "metadata": {},
   "source": [
    "### Get Last, Second-Last, Third-Last, First"
   ]
  },
  {
   "cell_type": "code",
   "execution_count": null,
   "id": "cfa81b0a-d6ce-4e13-8a1e-95572bdc12eb",
   "metadata": {},
   "outputs": [],
   "source": [
    "%%time\n",
    "train_last_etc = get_specific_row_df(raw_train)"
   ]
  },
  {
   "cell_type": "code",
   "execution_count": null,
   "id": "f7cdcf30-e47c-4f96-826f-b397dcf66707",
   "metadata": {},
   "outputs": [],
   "source": [
    "train_last_etc.head(3)"
   ]
  },
  {
   "cell_type": "code",
   "execution_count": null,
   "id": "f914dfe9-4420-47b4-aba9-57b850ee9196",
   "metadata": {},
   "outputs": [],
   "source": [
    "%%time\n",
    "train_agg = train_last_etc.merge(train_agg, left_index=True, right_index=True, how=\"inner\")\n",
    "del train_last_etc"
   ]
  },
  {
   "cell_type": "markdown",
   "id": "6635cf55-fa3a-4dd9-9c79-cb64f66f25ae",
   "metadata": {},
   "source": [
    "### Get Moving Average columns (MA3_R1, MA3_R2, MA3_R3, MA3_R4)"
   ]
  },
  {
   "cell_type": "code",
   "execution_count": null,
   "id": "17aa64f4-409f-4696-b422-1867fbb42fe4",
   "metadata": {},
   "outputs": [],
   "source": [
    "%%time\n",
    "train_ma_df = get_ma_df(raw_train)"
   ]
  },
  {
   "cell_type": "code",
   "execution_count": null,
   "id": "a73e41a9-9ed4-4376-a742-55c1d4ad7239",
   "metadata": {},
   "outputs": [],
   "source": [
    "%%time\n",
    "train_agg = train_agg.merge(train_ma_df, left_index=True, right_index=True, how=\"inner\")\n",
    "del train_ma_df"
   ]
  },
  {
   "cell_type": "code",
   "execution_count": null,
   "id": "b98bc84d-d8b8-4603-a468-b79d7e8f32a8",
   "metadata": {},
   "outputs": [],
   "source": [
    "numeric_columns = list(set(raw_train.columns) - set(CATEGORY_COLUMNS) - set(NON_FEATURE_COLUMNS))\n",
    "all_columns = list(set(numeric_columns).union(set(CATEGORY_COLUMNS)))\n",
    "del raw_train"
   ]
  },
  {
   "cell_type": "markdown",
   "id": "093cdf1d-af01-4b08-8bab-8ad87bd2106a",
   "metadata": {},
   "source": [
    "### Feature Crossing between aggregated features"
   ]
  },
  {
   "cell_type": "code",
   "execution_count": null,
   "id": "85ffd79b-366a-49ea-a96e-47e6f40a98fc",
   "metadata": {},
   "outputs": [],
   "source": [
    "%%time\n",
    "for col in tqdm(numeric_columns):\n",
    "    train_agg[f\"{col}_range\"] = train_agg[f\"{col}_max\"] - train_agg[f\"{col}_min\"]\n",
    "    train_agg[f\"{col}_displacement\"] = train_agg[f\"{col}_last\"] - train_agg[f\"{col}_first\"]\n",
    "    train_agg[f\"{col}_velocity\"] = train_agg[f\"{col}_displacement\"] / np.log(train_agg[\"num_statements\"])\n",
    "    train_agg[f\"{col}_sprint\"] = train_agg[f\"{col}_last\"] - train_agg[f\"{col}_second_last\"]\n",
    "    train_agg[f\"{col}_previous_sprint\"] = train_agg[f\"{col}_second_last\"] - train_agg[f\"{col}_third_last\"]\n",
    "    train_agg[f\"{col}_acceleration\"] = train_agg[f\"{col}_sprint\"] / (train_agg[f\"{col}_previous_sprint\"] * train_agg[f\"{col}_std\"]).replace(\n",
    "        [np.inf, -np.inf], np.nan\n",
    "    )\n",
    "    train_agg[f\"{col}_last_minus_avg\"] = train_agg[f\"{col}_last\"] - train_agg[f\"{col}_avg\"]\n",
    "    train_agg[f\"{col}_coef_var\"] = (train_agg[f\"{col}_std\"] / train_agg[f\"{col}_avg\"]).replace([np.inf, -np.inf], np.nan)\n",
    "    # train_agg[f\"{col}_skew_std_ratio\"] = (train_agg[f\"{col}_skew\"] / train_agg[f\"{col}_std\"]).replace([np.inf, -np.inf], np.nan)\n",
    "    train_agg[f\"{col}_ma3_r1_r2\"] = train_agg[f\"{col}_ma3_r1\"] / train_agg[f\"{col}_ma3_r2\"]\n",
    "    train_agg[f\"{col}_ma3_r1_r3\"] = train_agg[f\"{col}_ma3_r1\"] / train_agg[f\"{col}_ma3_r3\"]\n",
    "    train_agg[f\"{col}_ma3_r1_r4\"] = train_agg[f\"{col}_ma3_r1\"] / train_agg[f\"{col}_ma3_r4\"]"
   ]
  },
  {
   "cell_type": "code",
   "execution_count": null,
   "id": "859a027e-a673-41af-8271-584f1aa52441",
   "metadata": {},
   "outputs": [],
   "source": [
    "train_agg = train_agg.drop(columns=[\"num_statements\"])"
   ]
  },
  {
   "cell_type": "markdown",
   "id": "b63fd9d9-8a43-43a8-b7c9-3ce76137b309",
   "metadata": {},
   "source": [
    "### Final Preparation before export processed data"
   ]
  },
  {
   "cell_type": "code",
   "execution_count": null,
   "id": "811f06b3-9409-4ff7-bc05-f351167b9162",
   "metadata": {},
   "outputs": [],
   "source": [
    "%%time\n",
    "train_agg = train_agg.reset_index().rename(columns={\"index\": \"customer_ID\"})"
   ]
  },
  {
   "cell_type": "code",
   "execution_count": null,
   "id": "80264b99-c0d2-4bfb-be9b-3713c9e64742",
   "metadata": {},
   "outputs": [],
   "source": [
    "train_agg.shape"
   ]
  },
  {
   "cell_type": "code",
   "execution_count": null,
   "id": "ed512afb-f376-42a9-b045-41287bf19b1b",
   "metadata": {},
   "outputs": [],
   "source": [
    "train_agg = train_agg.drop(columns=NON_FEATURE_COLUMNS, errors='ignore')"
   ]
  },
  {
   "cell_type": "code",
   "execution_count": null,
   "id": "26b55f51-ed43-421f-a544-e4e469c780d6",
   "metadata": {},
   "outputs": [],
   "source": [
    "train_agg[\"target\"] = labels[\"target\"].values\n",
    "train_agg.shape"
   ]
  },
  {
   "cell_type": "code",
   "execution_count": null,
   "id": "c1f71d80-db83-41c6-8f0d-9f17a12c4750",
   "metadata": {},
   "outputs": [],
   "source": [
    "train_agg.shape"
   ]
  },
  {
   "cell_type": "code",
   "execution_count": null,
   "id": "837bb56a-994a-4b05-9cb3-b75297fd91aa",
   "metadata": {},
   "outputs": [],
   "source": [
    "train_agg.to_pickle(f\"{PROCESSED_DATA_PATH}/train_agg_complete2.pkl\")"
   ]
  },
  {
   "cell_type": "code",
   "execution_count": null,
   "id": "7b7ddc94-a446-4aa0-81bd-bf462c312dd1",
   "metadata": {},
   "outputs": [],
   "source": [
    "# train_agg[\"dummy\"] = np.random.randn(train_agg.shape[0])"
   ]
  },
  {
   "cell_type": "code",
   "execution_count": null,
   "id": "dad39c77-8c99-4a8d-9a94-6ad2c1ef1515",
   "metadata": {},
   "outputs": [],
   "source": [
    "# train_agg.shape"
   ]
  },
  {
   "cell_type": "code",
   "execution_count": null,
   "id": "c10232de-bc1c-4f15-bf0b-e5ff9a6f1248",
   "metadata": {},
   "outputs": [],
   "source": [
    "train_agg.dtypes.value_counts()"
   ]
  },
  {
   "cell_type": "markdown",
   "id": "d0d8ad0d-78c5-429c-a58a-4dfeac9dc459",
   "metadata": {},
   "source": [
    "### END"
   ]
  },
  {
   "cell_type": "code",
   "execution_count": null,
   "id": "a8ea2b56-15cb-4539-a1cf-3ada1ae92804",
   "metadata": {},
   "outputs": [],
   "source": [
    "# plot_heatmap(lgbm_feature_imp.describe(), annot=True)"
   ]
  },
  {
   "cell_type": "code",
   "execution_count": null,
   "id": "3d892fda-afd9-4cfb-b63d-f2137049de51",
   "metadata": {},
   "outputs": [],
   "source": [
    "# lgbm_feature_imp"
   ]
  },
  {
   "cell_type": "code",
   "execution_count": null,
   "id": "316fb1b4-90f4-4b16-a287-bed2786bf870",
   "metadata": {},
   "outputs": [],
   "source": [
    "global_threshold = 20\n",
    "features_dict = {}\n",
    "for column in lgbm_feature_imp.columns[1:]:\n",
    "    features_dict[column] = lgbm_feature_imp.loc[lgbm_feature_imp[column] >= global_threshold][\"feature\"].tolist()"
   ]
  },
  {
   "cell_type": "code",
   "execution_count": null,
   "id": "066ec3a2-9e2d-4e5c-b4e8-65e49f51088a",
   "metadata": {},
   "outputs": [],
   "source": [
    "lgbm_feature_imp[\"first\"].mean() / lgbm_feature_imp.mean().mean()"
   ]
  },
  {
   "cell_type": "code",
   "execution_count": null,
   "id": "b09132d2-e0c7-4cc7-8445-9a4fb555012d",
   "metadata": {},
   "outputs": [],
   "source": [
    "lgbm_feature_imp[\"last\"].mean() / lgbm_feature_imp.mean().mean()"
   ]
  },
  {
   "cell_type": "code",
   "execution_count": null,
   "id": "31dbdbf2-1f5f-4109-9b20-5b3361d84b8d",
   "metadata": {},
   "outputs": [],
   "source": [
    "np.percentile(lgbm_feature_imp[\"first\"], 30)"
   ]
  },
  {
   "cell_type": "markdown",
   "id": "6144bc52-209b-4c69-8c6b-7b9d9c542413",
   "metadata": {},
   "source": [
    "### Feature Engineering on Test"
   ]
  },
  {
   "cell_type": "code",
   "execution_count": 6,
   "id": "41150f31-a76e-4761-829a-1ad63241e626",
   "metadata": {},
   "outputs": [
    {
     "name": "stdout",
     "output_type": "stream",
     "text": [
      "Shape of data: (11363762, 192)\n",
      "CPU times: user 3.18 s, sys: 4.01 s, total: 7.18 s\n",
      "Wall time: 9.16 s\n"
     ]
    }
   ],
   "source": [
    "%%time\n",
    "raw_test = read_file(f\"{RAW_TEST_PICKLE_PATH}/test_data.pkl\")"
   ]
  },
  {
   "cell_type": "code",
   "execution_count": 7,
   "id": "ffbae422-ce2d-4f82-b85d-da24c285449f",
   "metadata": {},
   "outputs": [
    {
     "name": "stdout",
     "output_type": "stream",
     "text": [
      "CPU times: user 3min 34s, sys: 5.94 s, total: 3min 40s\n",
      "Wall time: 3min 37s\n"
     ]
    }
   ],
   "source": [
    "%%time\n",
    "raw_test[\"P_200\"] = raw_test[\"P_2\"] - raw_test.groupby(\"customer_ID\")[\"P_2\"].transform(lambda x: x.ewm(span=13).mean()).values\n",
    "raw_test[\"P_300\"] = raw_test[\"P_3\"] - raw_test.groupby(\"customer_ID\")[\"P_3\"].transform(lambda x: x.ewm(span=13).mean()).values\n",
    "raw_test[\"S_300\"] = raw_test[\"S_3\"] - raw_test.groupby(\"customer_ID\")[\"S_3\"].transform(lambda x: x.ewm(span=13).mean()).values\n",
    "raw_test[\"S_1200\"] = raw_test[\"S_12\"] - raw_test.groupby(\"customer_ID\")[\"S_12\"].transform(lambda x: x.ewm(span=13).mean()).values"
   ]
  },
  {
   "cell_type": "code",
   "execution_count": 8,
   "id": "b72d7ddb-cf69-4b10-a2a5-813f7e32f213",
   "metadata": {},
   "outputs": [
    {
     "name": "stdout",
     "output_type": "stream",
     "text": [
      "CPU times: user 5.39 s, sys: 335 ms, total: 5.73 s\n",
      "Wall time: 5.59 s\n"
     ]
    }
   ],
   "source": [
    "%%time\n",
    "raw_test[\"P_22\"] = raw_test.groupby(\"customer_ID\")[\"P_2\"].pct_change()\n",
    "raw_test[\"P_33\"] = raw_test.groupby(\"customer_ID\")[\"P_3\"].pct_change()\n",
    "raw_test[\"S_33\"] = raw_test.groupby(\"customer_ID\")[\"S_3\"].pct_change()\n",
    "raw_test[\"S_1212\"] = raw_test.groupby(\"customer_ID\")[\"S_12\"].pct_change()"
   ]
  },
  {
   "cell_type": "code",
   "execution_count": 9,
   "id": "f7408b7b-908a-488d-8642-e8dbf984c945",
   "metadata": {},
   "outputs": [
    {
     "name": "stdout",
     "output_type": "stream",
     "text": [
      "Average done\n",
      "Minimum done\n",
      "Maximum done\n",
      "Standard Deviation done\n",
      "CPU times: user 41.2 s, sys: 28.5 s, total: 1min 9s\n",
      "Wall time: 1min 27s\n"
     ]
    }
   ],
   "source": [
    "%%time\n",
    "test_agg = get_agg_df(raw_test)"
   ]
  },
  {
   "cell_type": "code",
   "execution_count": 10,
   "id": "bef5def4-b6a5-447e-aff5-a8b098baec34",
   "metadata": {},
   "outputs": [
    {
     "name": "stdout",
     "output_type": "stream",
     "text": [
      "CPU times: user 475 ms, sys: 2.9 s, total: 3.37 s\n",
      "Wall time: 7.12 s\n"
     ]
    }
   ],
   "source": [
    "%%time\n",
    "test_agg[\"num_statements\"] = (\n",
    "    raw_test.loc[raw_test[\"row_number\"] == 1][[\"row_number\", \"row_number_inv\"]].sum(axis=1) - 1\n",
    ").reset_index(drop=True).values"
   ]
  },
  {
   "cell_type": "code",
   "execution_count": 11,
   "id": "22a374ae-a665-40e5-939c-c232bc806da3",
   "metadata": {},
   "outputs": [
    {
     "data": {
      "text/html": [
       "<div>\n",
       "<style scoped>\n",
       "    .dataframe tbody tr th:only-of-type {\n",
       "        vertical-align: middle;\n",
       "    }\n",
       "\n",
       "    .dataframe tbody tr th {\n",
       "        vertical-align: top;\n",
       "    }\n",
       "\n",
       "    .dataframe thead th {\n",
       "        text-align: right;\n",
       "    }\n",
       "</style>\n",
       "<table border=\"1\" class=\"dataframe\">\n",
       "  <thead>\n",
       "    <tr style=\"text-align: right;\">\n",
       "      <th></th>\n",
       "      <th>B_3_avg</th>\n",
       "      <th>D_54_avg</th>\n",
       "      <th>B_23_avg</th>\n",
       "      <th>D_112_avg</th>\n",
       "      <th>B_29_avg</th>\n",
       "      <th>D_138_avg</th>\n",
       "      <th>D_51_avg</th>\n",
       "      <th>R_20_avg</th>\n",
       "      <th>D_96_avg</th>\n",
       "      <th>R_3_avg</th>\n",
       "      <th>...</th>\n",
       "      <th>D_42_std</th>\n",
       "      <th>D_61_std</th>\n",
       "      <th>B_4_std</th>\n",
       "      <th>B_9_std</th>\n",
       "      <th>D_142_std</th>\n",
       "      <th>R_28_std</th>\n",
       "      <th>R_16_std</th>\n",
       "      <th>D_115_std</th>\n",
       "      <th>S_22_std</th>\n",
       "      <th>num_statements</th>\n",
       "    </tr>\n",
       "    <tr>\n",
       "      <th>customer_ID</th>\n",
       "      <th></th>\n",
       "      <th></th>\n",
       "      <th></th>\n",
       "      <th></th>\n",
       "      <th></th>\n",
       "      <th></th>\n",
       "      <th></th>\n",
       "      <th></th>\n",
       "      <th></th>\n",
       "      <th></th>\n",
       "      <th></th>\n",
       "      <th></th>\n",
       "      <th></th>\n",
       "      <th></th>\n",
       "      <th></th>\n",
       "      <th></th>\n",
       "      <th></th>\n",
       "      <th></th>\n",
       "      <th></th>\n",
       "      <th></th>\n",
       "      <th></th>\n",
       "    </tr>\n",
       "  </thead>\n",
       "  <tbody>\n",
       "    <tr>\n",
       "      <th>00000469ba478561f23a92a868bd366de6f6527a684c9a2e78fb826dcac3b9b7</th>\n",
       "      <td>0.009732</td>\n",
       "      <td>1.0</td>\n",
       "      <td>0.254266</td>\n",
       "      <td>1.000000</td>\n",
       "      <td>0.003894</td>\n",
       "      <td>NaN</td>\n",
       "      <td>0.111111</td>\n",
       "      <td>0.0</td>\n",
       "      <td>0.000000</td>\n",
       "      <td>1.000000</td>\n",
       "      <td>...</td>\n",
       "      <td>0.006688</td>\n",
       "      <td>0.016234</td>\n",
       "      <td>0.600925</td>\n",
       "      <td>0.003084</td>\n",
       "      <td>NaN</td>\n",
       "      <td>0.0</td>\n",
       "      <td>0.0</td>\n",
       "      <td>0.004236</td>\n",
       "      <td>0.024732</td>\n",
       "      <td>9</td>\n",
       "    </tr>\n",
       "    <tr>\n",
       "      <th>00001bf2e77ff879fab36aa4fac689b9ba411dae63ae397d4263dafa1daedef5</th>\n",
       "      <td>0.006160</td>\n",
       "      <td>1.0</td>\n",
       "      <td>0.022771</td>\n",
       "      <td>1.000000</td>\n",
       "      <td>NaN</td>\n",
       "      <td>NaN</td>\n",
       "      <td>0.461538</td>\n",
       "      <td>0.0</td>\n",
       "      <td>0.461538</td>\n",
       "      <td>0.000000</td>\n",
       "      <td>...</td>\n",
       "      <td>NaN</td>\n",
       "      <td>0.029479</td>\n",
       "      <td>2.785033</td>\n",
       "      <td>0.077545</td>\n",
       "      <td>NaN</td>\n",
       "      <td>0.0</td>\n",
       "      <td>0.0</td>\n",
       "      <td>0.008609</td>\n",
       "      <td>0.022792</td>\n",
       "      <td>13</td>\n",
       "    </tr>\n",
       "    <tr>\n",
       "      <th>0000210045da4f81e5f122c6bde5c2a617d03eef67f82c5e400fc98e7bd43ce8</th>\n",
       "      <td>0.008552</td>\n",
       "      <td>1.0</td>\n",
       "      <td>0.050163</td>\n",
       "      <td>0.849524</td>\n",
       "      <td>0.002994</td>\n",
       "      <td>NaN</td>\n",
       "      <td>0.000000</td>\n",
       "      <td>0.0</td>\n",
       "      <td>0.000000</td>\n",
       "      <td>0.384615</td>\n",
       "      <td>...</td>\n",
       "      <td>NaN</td>\n",
       "      <td>0.180088</td>\n",
       "      <td>12.873646</td>\n",
       "      <td>0.002235</td>\n",
       "      <td>0.015235</td>\n",
       "      <td>0.0</td>\n",
       "      <td>0.0</td>\n",
       "      <td>0.084998</td>\n",
       "      <td>0.371791</td>\n",
       "      <td>13</td>\n",
       "    </tr>\n",
       "  </tbody>\n",
       "</table>\n",
       "<p>3 rows × 741 columns</p>\n",
       "</div>"
      ],
      "text/plain": [
       "                                                     B_3_avg  D_54_avg  \\\n",
       "customer_ID                                                              \n",
       "00000469ba478561f23a92a868bd366de6f6527a684c9a2...  0.009732       1.0   \n",
       "00001bf2e77ff879fab36aa4fac689b9ba411dae63ae397...  0.006160       1.0   \n",
       "0000210045da4f81e5f122c6bde5c2a617d03eef67f82c5...  0.008552       1.0   \n",
       "\n",
       "                                                    B_23_avg  D_112_avg  \\\n",
       "customer_ID                                                               \n",
       "00000469ba478561f23a92a868bd366de6f6527a684c9a2...  0.254266   1.000000   \n",
       "00001bf2e77ff879fab36aa4fac689b9ba411dae63ae397...  0.022771   1.000000   \n",
       "0000210045da4f81e5f122c6bde5c2a617d03eef67f82c5...  0.050163   0.849524   \n",
       "\n",
       "                                                    B_29_avg  D_138_avg  \\\n",
       "customer_ID                                                               \n",
       "00000469ba478561f23a92a868bd366de6f6527a684c9a2...  0.003894        NaN   \n",
       "00001bf2e77ff879fab36aa4fac689b9ba411dae63ae397...       NaN        NaN   \n",
       "0000210045da4f81e5f122c6bde5c2a617d03eef67f82c5...  0.002994        NaN   \n",
       "\n",
       "                                                    D_51_avg  R_20_avg  \\\n",
       "customer_ID                                                              \n",
       "00000469ba478561f23a92a868bd366de6f6527a684c9a2...  0.111111       0.0   \n",
       "00001bf2e77ff879fab36aa4fac689b9ba411dae63ae397...  0.461538       0.0   \n",
       "0000210045da4f81e5f122c6bde5c2a617d03eef67f82c5...  0.000000       0.0   \n",
       "\n",
       "                                                    D_96_avg   R_3_avg  ...  \\\n",
       "customer_ID                                                             ...   \n",
       "00000469ba478561f23a92a868bd366de6f6527a684c9a2...  0.000000  1.000000  ...   \n",
       "00001bf2e77ff879fab36aa4fac689b9ba411dae63ae397...  0.461538  0.000000  ...   \n",
       "0000210045da4f81e5f122c6bde5c2a617d03eef67f82c5...  0.000000  0.384615  ...   \n",
       "\n",
       "                                                    D_42_std  D_61_std  \\\n",
       "customer_ID                                                              \n",
       "00000469ba478561f23a92a868bd366de6f6527a684c9a2...  0.006688  0.016234   \n",
       "00001bf2e77ff879fab36aa4fac689b9ba411dae63ae397...       NaN  0.029479   \n",
       "0000210045da4f81e5f122c6bde5c2a617d03eef67f82c5...       NaN  0.180088   \n",
       "\n",
       "                                                      B_4_std   B_9_std  \\\n",
       "customer_ID                                                               \n",
       "00000469ba478561f23a92a868bd366de6f6527a684c9a2...   0.600925  0.003084   \n",
       "00001bf2e77ff879fab36aa4fac689b9ba411dae63ae397...   2.785033  0.077545   \n",
       "0000210045da4f81e5f122c6bde5c2a617d03eef67f82c5...  12.873646  0.002235   \n",
       "\n",
       "                                                    D_142_std  R_28_std  \\\n",
       "customer_ID                                                               \n",
       "00000469ba478561f23a92a868bd366de6f6527a684c9a2...        NaN       0.0   \n",
       "00001bf2e77ff879fab36aa4fac689b9ba411dae63ae397...        NaN       0.0   \n",
       "0000210045da4f81e5f122c6bde5c2a617d03eef67f82c5...   0.015235       0.0   \n",
       "\n",
       "                                                    R_16_std  D_115_std  \\\n",
       "customer_ID                                                               \n",
       "00000469ba478561f23a92a868bd366de6f6527a684c9a2...       0.0   0.004236   \n",
       "00001bf2e77ff879fab36aa4fac689b9ba411dae63ae397...       0.0   0.008609   \n",
       "0000210045da4f81e5f122c6bde5c2a617d03eef67f82c5...       0.0   0.084998   \n",
       "\n",
       "                                                    S_22_std  num_statements  \n",
       "customer_ID                                                                   \n",
       "00000469ba478561f23a92a868bd366de6f6527a684c9a2...  0.024732               9  \n",
       "00001bf2e77ff879fab36aa4fac689b9ba411dae63ae397...  0.022792              13  \n",
       "0000210045da4f81e5f122c6bde5c2a617d03eef67f82c5...  0.371791              13  \n",
       "\n",
       "[3 rows x 741 columns]"
      ]
     },
     "execution_count": 11,
     "metadata": {},
     "output_type": "execute_result"
    }
   ],
   "source": [
    "test_agg.head(3)"
   ]
  },
  {
   "cell_type": "code",
   "execution_count": 12,
   "id": "7c96ab91-e131-4554-8ead-0563cae7335b",
   "metadata": {},
   "outputs": [
    {
     "name": "stdout",
     "output_type": "stream",
     "text": [
      "Last entry done\n",
      "First entry done\n",
      "Second last entry done\n",
      "Third last entry done\n",
      "CPU times: user 5.32 s, sys: 15.2 s, total: 20.5 s\n",
      "Wall time: 33.1 s\n"
     ]
    }
   ],
   "source": [
    "%%time\n",
    "test_last_etc = get_specific_row_df(raw_test)"
   ]
  },
  {
   "cell_type": "code",
   "execution_count": 13,
   "id": "8246fce1-b77c-4303-919b-adaf56542f0e",
   "metadata": {},
   "outputs": [
    {
     "data": {
      "text/html": [
       "<div>\n",
       "<style scoped>\n",
       "    .dataframe tbody tr th:only-of-type {\n",
       "        vertical-align: middle;\n",
       "    }\n",
       "\n",
       "    .dataframe tbody tr th {\n",
       "        vertical-align: top;\n",
       "    }\n",
       "\n",
       "    .dataframe thead th {\n",
       "        text-align: right;\n",
       "    }\n",
       "</style>\n",
       "<table border=\"1\" class=\"dataframe\">\n",
       "  <thead>\n",
       "    <tr style=\"text-align: right;\">\n",
       "      <th></th>\n",
       "      <th>P_2_last</th>\n",
       "      <th>D_39_last</th>\n",
       "      <th>B_1_last</th>\n",
       "      <th>B_2_last</th>\n",
       "      <th>R_1_last</th>\n",
       "      <th>S_3_last</th>\n",
       "      <th>D_41_last</th>\n",
       "      <th>B_3_last</th>\n",
       "      <th>D_42_last</th>\n",
       "      <th>D_43_last</th>\n",
       "      <th>...</th>\n",
       "      <th>D_144_first</th>\n",
       "      <th>D_145_first</th>\n",
       "      <th>P_200_first</th>\n",
       "      <th>P_300_first</th>\n",
       "      <th>S_300_first</th>\n",
       "      <th>S_1200_first</th>\n",
       "      <th>P_22_first</th>\n",
       "      <th>P_33_first</th>\n",
       "      <th>S_33_first</th>\n",
       "      <th>S_1212_first</th>\n",
       "    </tr>\n",
       "    <tr>\n",
       "      <th>customer_ID</th>\n",
       "      <th></th>\n",
       "      <th></th>\n",
       "      <th></th>\n",
       "      <th></th>\n",
       "      <th></th>\n",
       "      <th></th>\n",
       "      <th></th>\n",
       "      <th></th>\n",
       "      <th></th>\n",
       "      <th></th>\n",
       "      <th></th>\n",
       "      <th></th>\n",
       "      <th></th>\n",
       "      <th></th>\n",
       "      <th></th>\n",
       "      <th></th>\n",
       "      <th></th>\n",
       "      <th></th>\n",
       "      <th></th>\n",
       "      <th></th>\n",
       "      <th></th>\n",
       "    </tr>\n",
       "  </thead>\n",
       "  <tbody>\n",
       "    <tr>\n",
       "      <th>00000469ba478561f23a92a868bd366de6f6527a684c9a2e78fb826dcac3b9b7</th>\n",
       "      <td>0.568930</td>\n",
       "      <td>4</td>\n",
       "      <td>0.010779</td>\n",
       "      <td>1.009347</td>\n",
       "      <td>0.0</td>\n",
       "      <td>0.149413</td>\n",
       "      <td>0.0</td>\n",
       "      <td>0.003576</td>\n",
       "      <td>0.103745</td>\n",
       "      <td>0.007398</td>\n",
       "      <td>...</td>\n",
       "      <td>0.008281</td>\n",
       "      <td>NaN</td>\n",
       "      <td>0.0</td>\n",
       "      <td>NaN</td>\n",
       "      <td>0.0</td>\n",
       "      <td>0.0</td>\n",
       "      <td>NaN</td>\n",
       "      <td>NaN</td>\n",
       "      <td>NaN</td>\n",
       "      <td>NaN</td>\n",
       "    </tr>\n",
       "    <tr>\n",
       "      <th>00001bf2e77ff879fab36aa4fac689b9ba411dae63ae397d4263dafa1daedef5</th>\n",
       "      <td>0.841177</td>\n",
       "      <td>4</td>\n",
       "      <td>0.016562</td>\n",
       "      <td>1.009245</td>\n",
       "      <td>0.0</td>\n",
       "      <td>0.112195</td>\n",
       "      <td>0.0</td>\n",
       "      <td>0.011386</td>\n",
       "      <td>NaN</td>\n",
       "      <td>NaN</td>\n",
       "      <td>...</td>\n",
       "      <td>0.008436</td>\n",
       "      <td>0.0</td>\n",
       "      <td>0.0</td>\n",
       "      <td>0.0</td>\n",
       "      <td>0.0</td>\n",
       "      <td>0.0</td>\n",
       "      <td>NaN</td>\n",
       "      <td>NaN</td>\n",
       "      <td>NaN</td>\n",
       "      <td>NaN</td>\n",
       "    </tr>\n",
       "    <tr>\n",
       "      <th>0000210045da4f81e5f122c6bde5c2a617d03eef67f82c5e400fc98e7bd43ce8</th>\n",
       "      <td>0.697522</td>\n",
       "      <td>0</td>\n",
       "      <td>0.001484</td>\n",
       "      <td>0.810072</td>\n",
       "      <td>0.0</td>\n",
       "      <td>0.166165</td>\n",
       "      <td>0.0</td>\n",
       "      <td>0.015938</td>\n",
       "      <td>NaN</td>\n",
       "      <td>0.105303</td>\n",
       "      <td>...</td>\n",
       "      <td>0.322121</td>\n",
       "      <td>1.0</td>\n",
       "      <td>0.0</td>\n",
       "      <td>0.0</td>\n",
       "      <td>0.0</td>\n",
       "      <td>0.0</td>\n",
       "      <td>NaN</td>\n",
       "      <td>NaN</td>\n",
       "      <td>NaN</td>\n",
       "      <td>NaN</td>\n",
       "    </tr>\n",
       "  </tbody>\n",
       "</table>\n",
       "<p>3 rows × 784 columns</p>\n",
       "</div>"
      ],
      "text/plain": [
       "                                                    P_2_last  D_39_last  \\\n",
       "customer_ID                                                               \n",
       "00000469ba478561f23a92a868bd366de6f6527a684c9a2...  0.568930          4   \n",
       "00001bf2e77ff879fab36aa4fac689b9ba411dae63ae397...  0.841177          4   \n",
       "0000210045da4f81e5f122c6bde5c2a617d03eef67f82c5...  0.697522          0   \n",
       "\n",
       "                                                    B_1_last  B_2_last  \\\n",
       "customer_ID                                                              \n",
       "00000469ba478561f23a92a868bd366de6f6527a684c9a2...  0.010779  1.009347   \n",
       "00001bf2e77ff879fab36aa4fac689b9ba411dae63ae397...  0.016562  1.009245   \n",
       "0000210045da4f81e5f122c6bde5c2a617d03eef67f82c5...  0.001484  0.810072   \n",
       "\n",
       "                                                    R_1_last  S_3_last  \\\n",
       "customer_ID                                                              \n",
       "00000469ba478561f23a92a868bd366de6f6527a684c9a2...       0.0  0.149413   \n",
       "00001bf2e77ff879fab36aa4fac689b9ba411dae63ae397...       0.0  0.112195   \n",
       "0000210045da4f81e5f122c6bde5c2a617d03eef67f82c5...       0.0  0.166165   \n",
       "\n",
       "                                                    D_41_last  B_3_last  \\\n",
       "customer_ID                                                               \n",
       "00000469ba478561f23a92a868bd366de6f6527a684c9a2...        0.0  0.003576   \n",
       "00001bf2e77ff879fab36aa4fac689b9ba411dae63ae397...        0.0  0.011386   \n",
       "0000210045da4f81e5f122c6bde5c2a617d03eef67f82c5...        0.0  0.015938   \n",
       "\n",
       "                                                    D_42_last  D_43_last  ...  \\\n",
       "customer_ID                                                               ...   \n",
       "00000469ba478561f23a92a868bd366de6f6527a684c9a2...   0.103745   0.007398  ...   \n",
       "00001bf2e77ff879fab36aa4fac689b9ba411dae63ae397...        NaN        NaN  ...   \n",
       "0000210045da4f81e5f122c6bde5c2a617d03eef67f82c5...        NaN   0.105303  ...   \n",
       "\n",
       "                                                    D_144_first  D_145_first  \\\n",
       "customer_ID                                                                    \n",
       "00000469ba478561f23a92a868bd366de6f6527a684c9a2...     0.008281          NaN   \n",
       "00001bf2e77ff879fab36aa4fac689b9ba411dae63ae397...     0.008436          0.0   \n",
       "0000210045da4f81e5f122c6bde5c2a617d03eef67f82c5...     0.322121          1.0   \n",
       "\n",
       "                                                    P_200_first  P_300_first  \\\n",
       "customer_ID                                                                    \n",
       "00000469ba478561f23a92a868bd366de6f6527a684c9a2...          0.0          NaN   \n",
       "00001bf2e77ff879fab36aa4fac689b9ba411dae63ae397...          0.0          0.0   \n",
       "0000210045da4f81e5f122c6bde5c2a617d03eef67f82c5...          0.0          0.0   \n",
       "\n",
       "                                                    S_300_first  S_1200_first  \\\n",
       "customer_ID                                                                     \n",
       "00000469ba478561f23a92a868bd366de6f6527a684c9a2...          0.0           0.0   \n",
       "00001bf2e77ff879fab36aa4fac689b9ba411dae63ae397...          0.0           0.0   \n",
       "0000210045da4f81e5f122c6bde5c2a617d03eef67f82c5...          0.0           0.0   \n",
       "\n",
       "                                                    P_22_first  P_33_first  \\\n",
       "customer_ID                                                                  \n",
       "00000469ba478561f23a92a868bd366de6f6527a684c9a2...         NaN         NaN   \n",
       "00001bf2e77ff879fab36aa4fac689b9ba411dae63ae397...         NaN         NaN   \n",
       "0000210045da4f81e5f122c6bde5c2a617d03eef67f82c5...         NaN         NaN   \n",
       "\n",
       "                                                    S_33_first  S_1212_first  \n",
       "customer_ID                                                                   \n",
       "00000469ba478561f23a92a868bd366de6f6527a684c9a2...         NaN           NaN  \n",
       "00001bf2e77ff879fab36aa4fac689b9ba411dae63ae397...         NaN           NaN  \n",
       "0000210045da4f81e5f122c6bde5c2a617d03eef67f82c5...         NaN           NaN  \n",
       "\n",
       "[3 rows x 784 columns]"
      ]
     },
     "execution_count": 13,
     "metadata": {},
     "output_type": "execute_result"
    }
   ],
   "source": [
    "test_last_etc.head(3)"
   ]
  },
  {
   "cell_type": "code",
   "execution_count": 14,
   "id": "c2aa9473-96e4-4a1d-92a2-1810a5409de8",
   "metadata": {},
   "outputs": [
    {
     "name": "stdout",
     "output_type": "stream",
     "text": [
      "CPU times: user 524 ms, sys: 2.26 s, total: 2.78 s\n",
      "Wall time: 5.71 s\n"
     ]
    }
   ],
   "source": [
    "%%time\n",
    "test_agg = test_last_etc.merge(test_agg, left_index=True, right_index=True, how=\"inner\")\n",
    "del test_last_etc"
   ]
  },
  {
   "cell_type": "code",
   "execution_count": 15,
   "id": "7b8758d2-b11f-4e01-90e1-b3b3f894de39",
   "metadata": {},
   "outputs": [
    {
     "name": "stdout",
     "output_type": "stream",
     "text": [
      "MA3 for Recency 1 done\n",
      "MA3 for Recency 2 done\n",
      "MA3 for Recency 3 done\n",
      "MA3 for Recency 4 done\n",
      "CPU times: user 14.6 s, sys: 26.6 s, total: 41.2 s\n",
      "Wall time: 1min 1s\n"
     ]
    }
   ],
   "source": [
    "%%time\n",
    "test_ma_df = get_ma_df(raw_test)"
   ]
  },
  {
   "cell_type": "code",
   "execution_count": 16,
   "id": "03dc3182-b6dd-4b43-a1f0-9bad132e55bd",
   "metadata": {},
   "outputs": [
    {
     "name": "stdout",
     "output_type": "stream",
     "text": [
      "CPU times: user 683 ms, sys: 4.58 s, total: 5.26 s\n",
      "Wall time: 12 s\n"
     ]
    }
   ],
   "source": [
    "%%time\n",
    "test_agg = test_agg.merge(test_ma_df, left_index=True, right_index=True, how=\"inner\")\n",
    "del test_ma_df"
   ]
  },
  {
   "cell_type": "code",
   "execution_count": 17,
   "id": "ae2d13d8-3220-43c1-9b91-f81688706c10",
   "metadata": {},
   "outputs": [],
   "source": [
    "numeric_columns = list(set(raw_test.columns) - set(CATEGORY_COLUMNS) - set(NON_FEATURE_COLUMNS))\n",
    "all_columns = list(set(numeric_columns).union(set(CATEGORY_COLUMNS)))"
   ]
  },
  {
   "cell_type": "code",
   "execution_count": 18,
   "id": "fb4fb1e8-5321-4838-aa85-95b13e4283d3",
   "metadata": {},
   "outputs": [
    {
     "data": {
      "text/plain": [
       "(924621, 2265)"
      ]
     },
     "execution_count": 18,
     "metadata": {},
     "output_type": "execute_result"
    }
   ],
   "source": [
    "test_agg.shape"
   ]
  },
  {
   "cell_type": "code",
   "execution_count": 19,
   "id": "886348f5-6bc0-4b1d-a52c-3347311477ae",
   "metadata": {},
   "outputs": [
    {
     "name": "stderr",
     "output_type": "stream",
     "text": [
      "100%|████████████████████████████████████████████████████████████████████████████████████████████████████████████████████████████████████| 185/185 [00:24<00:00,  7.60it/s]"
     ]
    },
    {
     "name": "stdout",
     "output_type": "stream",
     "text": [
      "CPU times: user 17.4 s, sys: 4.32 s, total: 21.7 s\n",
      "Wall time: 24.4 s\n"
     ]
    },
    {
     "name": "stderr",
     "output_type": "stream",
     "text": [
      "\n"
     ]
    }
   ],
   "source": [
    "%%time\n",
    "for col in tqdm(numeric_columns):\n",
    "    test_agg[f\"{col}_range\"] = test_agg[f\"{col}_max\"] - test_agg[f\"{col}_min\"]\n",
    "    test_agg[f\"{col}_displacement\"] = test_agg[f\"{col}_last\"] - test_agg[f\"{col}_first\"]\n",
    "    test_agg[f\"{col}_velocity\"] = test_agg[f\"{col}_displacement\"] / np.log(test_agg[\"num_statements\"])\n",
    "    test_agg[f\"{col}_sprint\"] = test_agg[f\"{col}_last\"] - test_agg[f\"{col}_second_last\"]\n",
    "    test_agg[f\"{col}_previous_sprint\"] = test_agg[f\"{col}_second_last\"] - test_agg[f\"{col}_third_last\"]\n",
    "    test_agg[f\"{col}_acceleration\"] = test_agg[f\"{col}_sprint\"] / (test_agg[f\"{col}_previous_sprint\"] * test_agg[f\"{col}_std\"]).replace(\n",
    "        [np.inf, -np.inf], np.nan\n",
    "    )\n",
    "    test_agg[f\"{col}_last_minus_avg\"] = test_agg[f\"{col}_last\"] - test_agg[f\"{col}_avg\"]\n",
    "    test_agg[f\"{col}_coef_var\"] = (test_agg[f\"{col}_std\"] / test_agg[f\"{col}_avg\"]).replace([np.inf, -np.inf], np.nan)\n",
    "    test_agg[f\"{col}_ma3_r1_r2\"] = test_agg[f\"{col}_ma3_r1\"] / test_agg[f\"{col}_ma3_r2\"]\n",
    "    test_agg[f\"{col}_ma3_r1_r3\"] = test_agg[f\"{col}_ma3_r1\"] / test_agg[f\"{col}_ma3_r3\"]\n",
    "    test_agg[f\"{col}_ma3_r1_r4\"] = test_agg[f\"{col}_ma3_r1\"] / test_agg[f\"{col}_ma3_r4\"]\n",
    "    gc.collect()"
   ]
  },
  {
   "cell_type": "code",
   "execution_count": 20,
   "id": "3e42f76f-ce8c-4310-9627-17fd36a44391",
   "metadata": {},
   "outputs": [
    {
     "name": "stdout",
     "output_type": "stream",
     "text": [
      "CPU times: user 5.81 s, sys: 49.4 s, total: 55.2 s\n",
      "Wall time: 3min 31s\n"
     ]
    }
   ],
   "source": [
    "%%time\n",
    "test_agg = test_agg.reset_index().rename(columns={\"index\": \"customer_ID\"})\n",
    "test_agg = test_agg.drop(columns=NON_FEATURE_COLUMNS, errors='ignore')"
   ]
  },
  {
   "cell_type": "code",
   "execution_count": 21,
   "id": "22c27e42-d4f3-4af0-a0b9-5947b8c8b48c",
   "metadata": {},
   "outputs": [
    {
     "data": {
      "text/plain": [
       "(924621, 4300)"
      ]
     },
     "execution_count": 21,
     "metadata": {},
     "output_type": "execute_result"
    }
   ],
   "source": [
    "test_agg.shape"
   ]
  },
  {
   "cell_type": "code",
   "execution_count": 22,
   "id": "c118b95c-3d54-43a2-9587-e0bf9874260b",
   "metadata": {},
   "outputs": [
    {
     "data": {
      "text/plain": [
       "float64     2184\n",
       "float32     1843\n",
       "int8         198\n",
       "int16         30\n",
       "category      12\n",
       "category      12\n",
       "category       4\n",
       "category       4\n",
       "category       4\n",
       "category       4\n",
       "category       4\n",
       "int64          1\n",
       "dtype: int64"
      ]
     },
     "execution_count": 22,
     "metadata": {},
     "output_type": "execute_result"
    }
   ],
   "source": [
    "test_agg.dtypes.value_counts()"
   ]
  },
  {
   "cell_type": "code",
   "execution_count": 23,
   "id": "6604f84f-96d5-4d90-954e-1866a0c8486c",
   "metadata": {},
   "outputs": [],
   "source": [
    "test_agg.to_pickle(f\"{PROCESSED_DATA_PATH}/test_agg_complete2.pkl\")"
   ]
  },
  {
   "cell_type": "code",
   "execution_count": null,
   "id": "51dc292d-576b-46a2-a3ce-84b3daa59b7b",
   "metadata": {},
   "outputs": [],
   "source": []
  }
 ],
 "metadata": {
  "kernelspec": {
   "display_name": "amex",
   "language": "python",
   "name": "amex"
  },
  "language_info": {
   "codemirror_mode": {
    "name": "ipython",
    "version": 3
   },
   "file_extension": ".py",
   "mimetype": "text/x-python",
   "name": "python",
   "nbconvert_exporter": "python",
   "pygments_lexer": "ipython3",
   "version": "3.10.0"
  }
 },
 "nbformat": 4,
 "nbformat_minor": 5
}
