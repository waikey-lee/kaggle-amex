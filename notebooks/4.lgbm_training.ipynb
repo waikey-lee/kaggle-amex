{
 "cells": [
  {
   "cell_type": "code",
   "execution_count": 34,
   "id": "5dd2ca34-3410-4078-aa48-7adbba211ed5",
   "metadata": {},
   "outputs": [],
   "source": [
    "import datetime\n",
    "import gc\n",
    "import joblib\n",
    "import matplotlib.pyplot as plt\n",
    "import pandas as pd\n",
    "import numpy as np\n",
    "import optuna\n",
    "import os\n",
    "import scipy.stats\n",
    "import seaborn as sns\n",
    "import sys\n",
    "sys.path.append(\"../\")\n",
    "import time\n",
    "import warnings\n",
    "warnings.simplefilter(\"ignore\")\n",
    "from itertools import repeat\n",
    "from lightgbm import LGBMClassifier, log_evaluation\n",
    "from sklearn.calibration import CalibrationDisplay\n",
    "from sklearn.model_selection import train_test_split, RandomizedSearchCV, StratifiedKFold\n",
    "from sklearn.preprocessing import StandardScaler\n",
    "from sklearn.metrics import roc_auc_score, fbeta_score, make_scorer\n",
    "from tqdm import tqdm"
   ]
  },
  {
   "cell_type": "code",
   "execution_count": 35,
   "id": "fb17d64c-4cdb-4906-be84-1348484a4886",
   "metadata": {},
   "outputs": [],
   "source": [
    "from matplotlib.ticker import MaxNLocator\n",
    "from matplotlib.colors import ListedColormap\n",
    "from cycler import cycler\n",
    "from IPython.display import display\n",
    "from colorama import Fore, Back, Style\n",
    "plt.rcParams['axes.facecolor'] = '#0057b8' # blue\n",
    "plt.rcParams['axes.prop_cycle'] = cycler(color=['#ffd700'] +\n",
    "                                         plt.rcParams['axes.prop_cycle'].by_key()['color'][1:])\n",
    "plt.rcParams['text.color'] = 'w'"
   ]
  },
  {
   "cell_type": "code",
   "execution_count": 36,
   "id": "a084bef6-4434-40fb-bafc-d7d3e4c57a14",
   "metadata": {},
   "outputs": [],
   "source": [
    "from utils.common import (\n",
    "    sigmoid, pad_column_name\n",
    ")\n",
    "from utils.constants import (\n",
    "    RAW_DATA_PATH, PROCESSED_DATA_PATH\n",
    ")\n",
    "from utils.eval_helpers import (\n",
    "    plot_roc_curves, plot_feature_importance, \n",
    "    amex_metric, get_final_metric_df, amex_metric_np, lgb_amex_metric\n",
    ")\n",
    "from utils.eda_helpers import (\n",
    "    plot_missing_proportion_barchart, \n",
    "    get_cols\n",
    ")\n",
    "from utils.extraction_helpers import read_file\n",
    "from utils.feature_group import (\n",
    "    CATEGORY_COLUMNS, CONTINUOUS_COLUMNS, NON_FEATURE_COLUMNS,\n",
    "    MEAN_FEATURES, MIN_FEATURES, MAX_FEATURES, LAST_FEATURES, FIRST_FEATURES,\n",
    "    RANGE_FEATURES, VELOCITY_FEATURES, SPEED_FEATURES\n",
    ")\n",
    "from utils.feature_engineering_helpers import process_data"
   ]
  },
  {
   "cell_type": "code",
   "execution_count": 37,
   "id": "08cce559-a615-41c7-9d81-0a5e7b981931",
   "metadata": {
    "tags": []
   },
   "outputs": [],
   "source": [
    "RAW_DATA_PATH = \"../raw_data\"\n",
    "PROCESSED_DATA_PATH = \"../processed_data\"\n",
    "SUBMISSION_DATA_PATH = \"../submissions\"\n",
    "EVALUATION_DATA_PATH = \"../evaluation_data\"\n",
    "MODELS_PATH = \"../models\"\n",
    "EXP_PATH = \"../experiments\""
   ]
  },
  {
   "cell_type": "code",
   "execution_count": 38,
   "id": "67194602-57fc-4e92-9801-8d600e52a5b2",
   "metadata": {},
   "outputs": [
    {
     "name": "stdout",
     "output_type": "stream",
     "text": [
      "The autoreload extension is already loaded. To reload it, use:\n",
      "  %reload_ext autoreload\n"
     ]
    }
   ],
   "source": [
    "%load_ext autoreload\n",
    "%autoreload"
   ]
  },
  {
   "cell_type": "markdown",
   "id": "3885beac-e245-43b6-a2cc-73e9f871d132",
   "metadata": {},
   "source": [
    "### Read Data"
   ]
  },
  {
   "cell_type": "code",
   "execution_count": 6,
   "id": "b65cd94a-389f-4723-abc8-2f87efcd837a",
   "metadata": {},
   "outputs": [
    {
     "name": "stdout",
     "output_type": "stream",
     "text": [
      "CPU times: user 6 µs, sys: 2 µs, total: 8 µs\n",
      "Wall time: 13.8 µs\n"
     ]
    }
   ],
   "source": [
    "%%time\n",
    "# train = read_file(f\"{RAW_TRAIN_PICKLE_PATH}/train_data.pkl\")\n",
    "# test = read_file(f\"{RAW_TEST_PICKLE_PATH}/test_data.pkl\")"
   ]
  },
  {
   "cell_type": "code",
   "execution_count": 7,
   "id": "d6d46155-ea8e-4212-8c63-5b7ac8b08d3c",
   "metadata": {},
   "outputs": [
    {
     "name": "stdout",
     "output_type": "stream",
     "text": [
      "Shape of data: (458913, 2161)\n",
      "CPU times: user 1.25 s, sys: 5.47 s, total: 6.71 s\n",
      "Wall time: 9.41 s\n"
     ]
    }
   ],
   "source": [
    "%%time\n",
    "train_agg = read_file(f\"{PROCESSED_DATA_PATH}/train_agg.pkl\")\n",
    "# test = read_file(f\"{PROCESSED_DATA_PATH}/test_data_imputed.pkl\")"
   ]
  },
  {
   "cell_type": "code",
   "execution_count": 8,
   "id": "b660cde2-e6c5-4179-8af7-4f15ebe7eded",
   "metadata": {},
   "outputs": [],
   "source": [
    "# train_missing_prop_df = plot_missing_proportion_barchart(train, top_n=50)"
   ]
  },
  {
   "cell_type": "code",
   "execution_count": 9,
   "id": "2ac926d9-26aa-4ece-9082-ca5380d8a00e",
   "metadata": {},
   "outputs": [],
   "source": [
    "# train_missing_prop_df = plot_missing_proportion_barchart(train, top_n=40)"
   ]
  },
  {
   "cell_type": "code",
   "execution_count": 10,
   "id": "65dddfc2-8c2b-4663-9f2e-05b8e39a47fe",
   "metadata": {},
   "outputs": [],
   "source": [
    "# train_analysis = single_col_target_check(train, \"R_13\", q=10)"
   ]
  },
  {
   "cell_type": "code",
   "execution_count": 11,
   "id": "e92b40bf-3ff2-4663-9446-df8a45225143",
   "metadata": {},
   "outputs": [],
   "source": [
    "# train_agg_analysis = single_col_target_check(train_agg, \"S_6_last\", q=10)"
   ]
  },
  {
   "cell_type": "code",
   "execution_count": 12,
   "id": "74cea420-b44b-40f8-8238-7481e66b44f3",
   "metadata": {},
   "outputs": [],
   "source": [
    "# train_agg_analysis.head()"
   ]
  },
  {
   "cell_type": "code",
   "execution_count": 13,
   "id": "842b8b78-44e6-4084-8d5e-4a5e098c47e0",
   "metadata": {
    "tags": []
   },
   "outputs": [],
   "source": [
    "# selected_features = pd.read_csv(\"top_features.csv\")\n",
    "# selected_features = selected_features[\"feature\"].tolist()"
   ]
  },
  {
   "cell_type": "code",
   "execution_count": 14,
   "id": "c21ffc4c-c67c-4eb7-935d-2e7103fc7871",
   "metadata": {},
   "outputs": [],
   "source": [
    "# selected_features = (\n",
    "#     [c + \"_avg\" for c in MEAN_FEATURES] +\n",
    "#     [c + \"_min\" for c in MIN_FEATURES] +\n",
    "#     [c + \"_max\" for c in MAX_FEATURES] +\n",
    "#     # [c + \"_first\" for c in FIRST_FEATURES] +\n",
    "#     [c + \"_last\" for c in LAST_FEATURES] +\n",
    "#     [c + \"_range\" for c in RANGE_FEATURES] +\n",
    "#     [c + \"_velocity\" for c in VELOCITY_FEATURES] +\n",
    "#     [c + \"_speed\" for c in SPEED_FEATURES] +\n",
    "#     [c for c in train_agg.columns if c.endswith((\"_previous\", \"_lag1_diff\", \"_last_lift\"))]\n",
    "# )"
   ]
  },
  {
   "cell_type": "code",
   "execution_count": 15,
   "id": "b67830bc-5929-4084-a70a-f7c56dadcc5f",
   "metadata": {},
   "outputs": [],
   "source": [
    "# train_agg = train_agg.loc[:, selected_features]"
   ]
  },
  {
   "cell_type": "code",
   "execution_count": 16,
   "id": "d44dc265-8a16-4d94-aef7-46ab7671e86c",
   "metadata": {},
   "outputs": [
    {
     "data": {
      "text/plain": [
       "(458913, 2161)"
      ]
     },
     "execution_count": 16,
     "metadata": {},
     "output_type": "execute_result"
    }
   ],
   "source": [
    "train_agg.shape"
   ]
  },
  {
   "cell_type": "code",
   "execution_count": 17,
   "id": "ad84ee99-0d06-4f0e-8ef3-f935e9b4b0da",
   "metadata": {},
   "outputs": [],
   "source": [
    "target = train_agg[\"target\"].values"
   ]
  },
  {
   "cell_type": "code",
   "execution_count": 18,
   "id": "11b204b6-bd10-4bd2-8380-62e978a3a415",
   "metadata": {},
   "outputs": [
    {
     "name": "stdout",
     "output_type": "stream",
     "text": [
      "CPU times: user 181 ms, sys: 406 ms, total: 587 ms\n",
      "Wall time: 584 ms\n"
     ]
    }
   ],
   "source": [
    "%%time\n",
    "train_agg = train_agg.drop(columns=NON_FEATURE_COLUMNS, errors=\"ignore\")"
   ]
  },
  {
   "cell_type": "code",
   "execution_count": 19,
   "id": "68ac3f84-8f32-4050-a08c-9cb40dd2eec4",
   "metadata": {},
   "outputs": [
    {
     "data": {
      "text/plain": [
       "(458913, 2159)"
      ]
     },
     "execution_count": 19,
     "metadata": {},
     "output_type": "execute_result"
    }
   ],
   "source": [
    "train_agg.shape"
   ]
  },
  {
   "cell_type": "code",
   "execution_count": 20,
   "id": "0416ede7-1361-4de5-b1c3-4eca44b71fc8",
   "metadata": {},
   "outputs": [],
   "source": [
    "# missing_count_df = plot_missing_proportion_barchart(train_agg)"
   ]
  },
  {
   "cell_type": "code",
   "execution_count": 21,
   "id": "acce3c56-a3d2-4f2e-98e6-6f138e194162",
   "metadata": {},
   "outputs": [],
   "source": [
    "# high_missing_columns = missing_count_df.loc[missing_count_df[\"missing_proportion\"] > 75, \"column\"].tolist()"
   ]
  },
  {
   "cell_type": "code",
   "execution_count": 22,
   "id": "e0c95e34-f763-47ee-b398-0a07510ca7c1",
   "metadata": {},
   "outputs": [],
   "source": [
    "# print(\"Pre feature drop\", train.shape)\n",
    "# train_agg = train_agg.loc[:, set(feature_list).intersection(set(train_agg.columns))]\n",
    "# train_agg = train_agg.drop(columns=high_missing_columns, errors=\"ignore\")\n",
    "# print(\"Post feature drop\", train.shape)"
   ]
  },
  {
   "cell_type": "markdown",
   "id": "5c588f14-0f83-487d-8800-cfa4dd6296ff",
   "metadata": {},
   "source": [
    "### Oversampling / Undersampling (SMOTE)"
   ]
  },
  {
   "cell_type": "code",
   "execution_count": 23,
   "id": "5816cf12-f0e8-4b49-9625-856a3bafaaec",
   "metadata": {},
   "outputs": [],
   "source": [
    "# from imblearn.over_sampling import SMOTE\n",
    "# sm = SMOTE(random_state=923)\n",
    "# X_res, y_res = sm.fit_resample(train.loc[:, num_features], \n",
    "#                                train[\"target\"])\n",
    "# X_res.shape, y_res.shape"
   ]
  },
  {
   "cell_type": "markdown",
   "id": "c3918423-2be9-413e-83ac-836b38c4ab34",
   "metadata": {
    "tags": []
   },
   "source": [
    "### Train Single LGBM"
   ]
  },
  {
   "cell_type": "code",
   "execution_count": 24,
   "id": "a4562d2b-ca79-4af6-ab41-7ea7d14ebe85",
   "metadata": {},
   "outputs": [],
   "source": [
    "kf = StratifiedKFold(n_splits=5)"
   ]
  },
  {
   "cell_type": "code",
   "execution_count": 42,
   "id": "b3303e6a-e8e3-45b8-9acf-037976239cc3",
   "metadata": {},
   "outputs": [],
   "source": [
    "params = {\n",
    "    'categorical_feature': 'auto',\n",
    "    'random_state': 1,\n",
    "    'reg_alpha': 0.02, #0.0125, \n",
    "    'reg_lambda': 30, \n",
    "    'learning_rate': 0.02, \n",
    "    'n_estimators': 2000, \n",
    "    'colsample_bytree': 0.17, \n",
    "    'subsample': 0.7, \n",
    "    'subsample_freq': 5, \n",
    "    'min_child_samples': 2400, \n",
    "    'scale_pos_weight': , \n",
    "    'max_bins': 460, \n",
    "    'num_leaves': 100\n",
    "}"
   ]
  },
  {
   "cell_type": "code",
   "execution_count": 43,
   "id": "1a581c34-0a4e-4609-8d6e-eceefc946a81",
   "metadata": {},
   "outputs": [],
   "source": [
    "n_est_list = repeat(2000)"
   ]
  },
  {
   "cell_type": "code",
   "execution_count": null,
   "id": "4c3928ad-efd2-45fe-bce6-371961aa3de4",
   "metadata": {},
   "outputs": [
    {
     "name": "stdout",
     "output_type": "stream",
     "text": [
      "[200]\tvalid_0's binary_logloss: 0.321932\tvalid_0's amex: 0.768127\n",
      "[400]\tvalid_0's binary_logloss: 0.306865\tvalid_0's amex: 0.784405\n",
      "[600]\tvalid_0's binary_logloss: 0.298095\tvalid_0's amex: 0.789534\n",
      "[800]\tvalid_0's binary_logloss: 0.292465\tvalid_0's amex: 0.791759\n",
      "[1000]\tvalid_0's binary_logloss: 0.287879\tvalid_0's amex: 0.793436\n",
      "[1200]\tvalid_0's binary_logloss: 0.283857\tvalid_0's amex: 0.7938\n",
      "[1400]\tvalid_0's binary_logloss: 0.28035\tvalid_0's amex: 0.79388\n",
      "[1600]\tvalid_0's binary_logloss: 0.277327\tvalid_0's amex: 0.793645\n",
      "[1800]\tvalid_0's binary_logloss: 0.274412\tvalid_0's amex: 0.794292\n",
      "[2000]\tvalid_0's binary_logloss: 0.271772\tvalid_0's amex: 0.793747\n",
      "\u001b[34m\u001b[1mFold 1 | Train Score = 0.88200 (0.9679, 0.7961)\n",
      "\u001b[32m\u001b[1mFold 1 | Val Score = 0.79357 (0.9231, 0.6641)\u001b[0m\n",
      "[200]\tvalid_0's binary_logloss: 0.321659\tvalid_0's amex: 0.765484\n",
      "[400]\tvalid_0's binary_logloss: 0.307241\tvalid_0's amex: 0.783637\n",
      "[600]\tvalid_0's binary_logloss: 0.299096\tvalid_0's amex: 0.788031\n",
      "[800]\tvalid_0's binary_logloss: 0.293839\tvalid_0's amex: 0.790247\n",
      "[1000]\tvalid_0's binary_logloss: 0.289332\tvalid_0's amex: 0.790383\n",
      "[1200]\tvalid_0's binary_logloss: 0.285264\tvalid_0's amex: 0.791554\n",
      "[1400]\tvalid_0's binary_logloss: 0.281741\tvalid_0's amex: 0.792391\n",
      "[1600]\tvalid_0's binary_logloss: 0.278643\tvalid_0's amex: 0.792842\n",
      "[1800]\tvalid_0's binary_logloss: 0.275755\tvalid_0's amex: 0.793313\n",
      "[2000]\tvalid_0's binary_logloss: 0.272976\tvalid_0's amex: 0.793346\n",
      "\u001b[34m\u001b[1mFold 2 | Train Score = 0.88192 (0.9679, 0.7959)\n",
      "\u001b[32m\u001b[1mFold 2 | Val Score = 0.79319 (0.9239, 0.6625)\u001b[0m\n",
      "[200]\tvalid_0's binary_logloss: 0.320407\tvalid_0's amex: 0.771644\n",
      "[400]\tvalid_0's binary_logloss: 0.304935\tvalid_0's amex: 0.785585\n",
      "[600]\tvalid_0's binary_logloss: 0.29642\tvalid_0's amex: 0.790554\n",
      "[800]\tvalid_0's binary_logloss: 0.291228\tvalid_0's amex: 0.793737\n",
      "[1000]\tvalid_0's binary_logloss: 0.286883\tvalid_0's amex: 0.79422\n",
      "[1200]\tvalid_0's binary_logloss: 0.282788\tvalid_0's amex: 0.794806\n",
      "[1400]\tvalid_0's binary_logloss: 0.279316\tvalid_0's amex: 0.795083\n",
      "[1600]\tvalid_0's binary_logloss: 0.276215\tvalid_0's amex: 0.795483\n",
      "[1800]\tvalid_0's binary_logloss: 0.273413\tvalid_0's amex: 0.795221\n",
      "[2000]\tvalid_0's binary_logloss: 0.270614\tvalid_0's amex: 0.794554\n",
      "\u001b[34m\u001b[1mFold 3 | Train Score = 0.88166 (0.9678, 0.7955)\n",
      "\u001b[32m\u001b[1mFold 3 | Val Score = 0.79434 (0.9247, 0.6640)\u001b[0m\n",
      "[200]\tvalid_0's binary_logloss: 0.319953\tvalid_0's amex: 0.771491\n",
      "[400]\tvalid_0's binary_logloss: 0.304265\tvalid_0's amex: 0.788605\n",
      "[600]\tvalid_0's binary_logloss: 0.295792\tvalid_0's amex: 0.792396\n",
      "[800]\tvalid_0's binary_logloss: 0.290177\tvalid_0's amex: 0.794316\n",
      "[1000]\tvalid_0's binary_logloss: 0.285566\tvalid_0's amex: 0.794755\n",
      "[1200]\tvalid_0's binary_logloss: 0.281695\tvalid_0's amex: 0.796655\n"
     ]
    }
   ],
   "source": [
    "val_idx_list, train_score_list, val_score_list = [], [], []\n",
    "for fold, (idx_tr, idx_va), n_est in zip(range(1, 5+1), kf.split(train_agg, target), n_est_list):\n",
    "    X_train, X_val, y_train, y_val, model = None, None, None, None, None\n",
    "    X_train = train_agg.iloc[idx_tr]\n",
    "    X_val = train_agg.iloc[idx_va]\n",
    "    y_train = target[idx_tr]\n",
    "    y_val = target[idx_va]\n",
    "    params[\"n_estimators\"] = n_est\n",
    "    model = LGBMClassifier(**params)\n",
    "    with warnings.catch_warnings():\n",
    "        warnings.filterwarnings('ignore', category=UserWarning)\n",
    "        model.fit(\n",
    "            X_train,\n",
    "            y_train,\n",
    "            eval_set=[(X_val, y_val)], \n",
    "            eval_metric=[lgb_amex_metric],\n",
    "            callbacks=[log_evaluation(200)]\n",
    "        )\n",
    "    y_train_pred = model.predict_proba(X_train, raw_score=True)\n",
    "    train_score, train_g, train_t4 = amex_metric(y_train, y_train_pred)\n",
    "    X_train, y_train = None, None\n",
    "    y_val_pred = model.predict_proba(X_val, raw_score=True)\n",
    "    val_score, val_g, val_t4 = amex_metric(y_val, y_val_pred)\n",
    "    print(f\"{Fore.BLUE}{Style.BRIGHT}Fold {fold} | Train Score = {train_score:.5f} ({train_g:.4f}, {train_t4:.4f})\")\n",
    "    print(f\"{Fore.GREEN}{Style.BRIGHT}Fold {fold} | Val Score = {val_score:.5f} ({val_g:.4f}, {val_t4:.4f}){Style.RESET_ALL}\")\n",
    "    # joblib.dump(model, f'{EXP_PATH}/lgbm_gbdt_exp2/models/model{fold}.pkl')\n",
    "    val_idx_list.append(idx_va)\n",
    "    train_score_list.append(train_score)\n",
    "    val_score_list.append(val_score)"
   ]
  },
  {
   "cell_type": "code",
   "execution_count": 26,
   "id": "6abae68b-4dcf-440f-8111-c5a7db50ae66",
   "metadata": {},
   "outputs": [],
   "source": [
    "# np.mean(val_score_list)"
   ]
  },
  {
   "cell_type": "code",
   "execution_count": 27,
   "id": "7db0b275-8eb3-4f10-a06f-8f51e7193969",
   "metadata": {},
   "outputs": [],
   "source": [
    "# train[\"target\"] = target\n",
    "# train.to_pickle(f\"{EXP_PATH}/lgbm_gbdt_exp2/train_val.pkl\")\n",
    "# joblib.dump(train_score_list, f'{EXP_PATH}/lgbm_gbdt_exp2/5_fold_train_scores.pkl')\n",
    "# joblib.dump(val_score_list, f'{EXP_PATH}/lgbm_gbdt_exp2/5_fold_val_scores.pkl')\n",
    "# joblib.dump(val_idx_list, f'{EXP_PATH}/lgbm_gbdt_exp2/5_fold_val_indices.pkl')"
   ]
  },
  {
   "cell_type": "markdown",
   "id": "beb5dd65-45fb-4116-9c41-0d46d306b5ca",
   "metadata": {
    "tags": []
   },
   "source": [
    "### Tune LGBM using Optuna (Single)"
   ]
  },
  {
   "cell_type": "code",
   "execution_count": null,
   "id": "00c1ce3c-49b9-452c-9e71-7deeaac29eb3",
   "metadata": {},
   "outputs": [],
   "source": [
    "# def objective(trial):\n",
    "#     params = {\n",
    "#         \"objective\": \"binary\",\n",
    "#         \"verbosity\": -1,\n",
    "#         \"boosting_type\": \"gbdt\",\n",
    "#         \"random_state\": 1,\n",
    "#         \"reg_alpha\": trial.suggest_float(\"reg_alpha\", 0.001, 0.1, log=True),\n",
    "#         \"reg_lambda\": trial.suggest_float(\"reg_lambda\", 15, 30, log=True),\n",
    "#         \"learning_rate\": trial.suggest_float(\"learning_rate\", 0.015, 0.03, log=True),\n",
    "#         \"n_estimators\": trial.suggest_categorical(\"n_estimators\", [1500, 1600, 1700, 1800, 1900, 2000]),\n",
    "#         \"colsample_bytree\": trial.suggest_categorical(\"colsample_bytree\", np.arange(0.15, 0.4, 0.01)),\n",
    "#         \"subsample\": trial.suggest_categorical(\"subsample\", np.arange(0.6, 0.8, 0.02)),\n",
    "#         \"subsample_freq\": trial.suggest_categorical(\"subsample_freq\", np.arange(2, 10, 1)),\n",
    "#         \"min_child_samples\": trial.suggest_categorical(\"min_child_samples\", [2000, 2250, 2500]),\n",
    "#         \"scale_pos_weight\": trial.suggest_categorical(\"scale_pos_weight\", np.arange(1.25, 2.5, 0.05)),\n",
    "#         \"max_bins\": trial.suggest_categorical(\"max_bins\", np.arange(400, 550, 25)),\n",
    "#         \"num_leaves\": trial.suggest_categorical(\"num_leaves\", np.arange(70, 180, 10)),\n",
    "#     }\n",
    "#     print(params)\n",
    "#     X_train, X_val, y_train, y_val = train_test_split(train_agg, target, test_size=0.2)\n",
    "#     model = LGBMClassifier(**params)\n",
    "#     with warnings.catch_warnings():\n",
    "#         warnings.filterwarnings('ignore', category=UserWarning)\n",
    "#         model.fit(\n",
    "#             X_train,\n",
    "#             y_train,\n",
    "#             eval_set=[(X_val, y_val)], \n",
    "#             verbose=0\n",
    "#             # eval_metric=[lgb_amex_metric],\n",
    "#             # callbacks=[log_evaluation(200)]\n",
    "#         )\n",
    "#     y_train_pred = model.predict_proba(X_train, raw_score=True)\n",
    "#     train_score = amex_metric(y_train, y_train_pred)\n",
    "#     y_val_pred = model.predict_proba(X_val, raw_score=True)\n",
    "#     val_score = amex_metric(y_val, y_val_pred)\n",
    "#     print(f\"Fold {fold} | Train Score = {train_score:.5f}\")\n",
    "#     print(f\"{Fore.GREEN}{Style.BRIGHT}Fold {fold} | Val   Score = {val_score:.5f}{Style.RESET_ALL}\")\n",
    "#     return val_score"
   ]
  },
  {
   "cell_type": "code",
   "execution_count": null,
   "id": "c3ae9081-fcba-492f-8978-4a6289a9ee87",
   "metadata": {},
   "outputs": [],
   "source": [
    "# study = optuna.create_study(direction=\"maximize\")"
   ]
  },
  {
   "cell_type": "code",
   "execution_count": null,
   "id": "d0c1f1bd-4acf-4f70-a910-5f7d88248517",
   "metadata": {},
   "outputs": [],
   "source": [
    "# study.optimize(objective, n_trials=35)"
   ]
  },
  {
   "cell_type": "markdown",
   "id": "3f192c08-f251-4a63-b9bd-c84136bd52cb",
   "metadata": {},
   "source": [
    "### Tune LGBM using Optuna (KFold)"
   ]
  },
  {
   "cell_type": "code",
   "execution_count": 31,
   "id": "6233e718-451c-40a4-a8e1-2504eb0a0eb8",
   "metadata": {},
   "outputs": [],
   "source": [
    "def objective(trial):\n",
    "    kf = StratifiedKFold(n_splits=5)\n",
    "    params = {\n",
    "        \"objective\": \"binary\",\n",
    "        \"verbosity\": -1,\n",
    "        \"boosting_type\": \"gbdt\",\n",
    "        \"random_state\": 1,\n",
    "        \"reg_alpha\": trial.suggest_float(\"reg_alpha\", 0.001, 0.1, log=True),\n",
    "        \"reg_lambda\": trial.suggest_float(\"reg_lambda\", 15, 30, log=True),\n",
    "        \"learning_rate\": trial.suggest_float(\"learning_rate\", 0.015, 0.03, log=True),\n",
    "        \"n_estimators\": trial.suggest_int(\"n_estimators\", 1700, 2100),\n",
    "        \"colsample_bytree\": trial.suggest_float(\"colsample_bytree\", 0.2, 0.4),\n",
    "        \"subsample\": trial.suggest_float(\"subsample\", 0.65, 0.75),\n",
    "        \"subsample_freq\": trial.suggest_int(\"subsample_freq\", 2, 7),\n",
    "        \"min_child_samples\": trial.suggest_int(\"min_child_samples\", 2000, 2500),\n",
    "        \"scale_pos_weight\": trial.suggest_float(\"scale_pos_weight\", 1.3, 2),\n",
    "        \"max_bins\": trial.suggest_int(\"max_bins\", 450, 550),\n",
    "        \"num_leaves\": trial.suggest_int(\"num_leaves\", 80, 160),\n",
    "    }\n",
    "    print(params)\n",
    "    score_list = []\n",
    "    for fold, (idx_tr, idx_va) in zip(range(1, 5+1), kf.split(train_agg, target)):\n",
    "        X_train, X_val, y_train, y_val, model = None, None, None, None, None\n",
    "        X_train = train_agg.iloc[idx_tr]\n",
    "        X_val = train_agg.iloc[idx_va]\n",
    "        y_train = target[idx_tr]\n",
    "        y_val = target[idx_va]\n",
    "        model = LGBMClassifier(**params)\n",
    "        with warnings.catch_warnings():\n",
    "            warnings.filterwarnings('ignore', category=UserWarning)\n",
    "            model.fit(\n",
    "                X_train,\n",
    "                y_train,\n",
    "                eval_set=[(X_val, y_val)], \n",
    "                verbose=0\n",
    "                # eval_metric=[lgb_amex_metric],\n",
    "                # callbacks=[log_evaluation(200)]\n",
    "            )\n",
    "        y_train_pred = model.predict_proba(X_train, raw_score=True)\n",
    "        train_score = amex_metric(y_train, y_train_pred)\n",
    "        X_train, y_train = None, None\n",
    "        y_val_pred = model.predict_proba(X_val, raw_score=True)\n",
    "        # joblib.dump(model, f'{MODELS_PATH}/0712/model_{idx+1}.pkl')\n",
    "        val_score = amex_metric(y_val, y_val_pred)\n",
    "        print(f\"Fold {fold} | Train Score = {train_score:.5f}\")\n",
    "        print(f\"{Fore.GREEN}{Style.BRIGHT}Fold {fold} | Val   Score = {val_score:.5f}{Style.RESET_ALL}\")\n",
    "        score_list.append(val_score)\n",
    "    \n",
    "    return np.mean(score_list)"
   ]
  },
  {
   "cell_type": "code",
   "execution_count": 32,
   "id": "ffd19460-172e-4ffc-a8e3-3fe3be8e6626",
   "metadata": {},
   "outputs": [
    {
     "name": "stderr",
     "output_type": "stream",
     "text": [
      "\u001b[32m[I 2022-07-15 10:29:26,446]\u001b[0m A new study created in memory with name: no-name-088c96ba-9322-4f39-8711-ff24a584f78c\u001b[0m\n"
     ]
    }
   ],
   "source": [
    "study = optuna.create_study(direction=\"maximize\")"
   ]
  },
  {
   "cell_type": "code",
   "execution_count": 33,
   "id": "a07d6fea-dc82-4744-a5eb-fc02a3e393bf",
   "metadata": {},
   "outputs": [
    {
     "name": "stdout",
     "output_type": "stream",
     "text": [
      "{'objective': 'binary', 'verbosity': -1, 'boosting_type': 'gbdt', 'random_state': 1, 'reg_alpha': 0.004134572633611228, 'reg_lambda': 21.798633190143466, 'learning_rate': 0.02076640748977127, 'n_estimators': 1931, 'colsample_bytree': 0.3524191728037472, 'subsample': 0.7066280245777821, 'subsample_freq': 4, 'min_child_samples': 2204, 'scale_pos_weight': 1.3139922133338706, 'max_bins': 491, 'num_leaves': 130}\n"
     ]
    },
    {
     "name": "stderr",
     "output_type": "stream",
     "text": [
      "\u001b[33m[W 2022-07-15 10:41:26,046]\u001b[0m Trial 0 failed because of the following error: TypeError('unsupported format string passed to tuple.__format__')\u001b[0m\n",
      "Traceback (most recent call last):\n",
      "  File \"/Users/wklee/miniconda3/envs/amex/lib/python3.10/site-packages/optuna/study/_optimize.py\", line 213, in _run_trial\n",
      "    value_or_values = func(trial)\n",
      "  File \"/var/folders/rx/900hbpv51bsg7d73m0zmd11m0000gn/T/ipykernel_6494/2010801601.py\", line 45, in objective\n",
      "    print(f\"Fold {fold} | Train Score = {train_score:.5f}\")\n",
      "TypeError: unsupported format string passed to tuple.__format__\n"
     ]
    },
    {
     "ename": "TypeError",
     "evalue": "unsupported format string passed to tuple.__format__",
     "output_type": "error",
     "traceback": [
      "\u001b[0;31m---------------------------------------------------------------------------\u001b[0m",
      "\u001b[0;31mTypeError\u001b[0m                                 Traceback (most recent call last)",
      "Input \u001b[0;32mIn [33]\u001b[0m, in \u001b[0;36m<cell line: 1>\u001b[0;34m()\u001b[0m\n\u001b[0;32m----> 1\u001b[0m \u001b[43mstudy\u001b[49m\u001b[38;5;241;43m.\u001b[39;49m\u001b[43moptimize\u001b[49m\u001b[43m(\u001b[49m\u001b[43mobjective\u001b[49m\u001b[43m,\u001b[49m\u001b[43m \u001b[49m\u001b[43mn_trials\u001b[49m\u001b[38;5;241;43m=\u001b[39;49m\u001b[38;5;241;43m20\u001b[39;49m\u001b[43m)\u001b[49m\n",
      "File \u001b[0;32m~/miniconda3/envs/amex/lib/python3.10/site-packages/optuna/study/study.py:400\u001b[0m, in \u001b[0;36mStudy.optimize\u001b[0;34m(self, func, n_trials, timeout, n_jobs, catch, callbacks, gc_after_trial, show_progress_bar)\u001b[0m\n\u001b[1;32m    392\u001b[0m \u001b[38;5;28;01mif\u001b[39;00m n_jobs \u001b[38;5;241m!=\u001b[39m \u001b[38;5;241m1\u001b[39m:\n\u001b[1;32m    393\u001b[0m     warnings\u001b[38;5;241m.\u001b[39mwarn(\n\u001b[1;32m    394\u001b[0m         \u001b[38;5;124m\"\u001b[39m\u001b[38;5;124m`n_jobs` argument has been deprecated in v2.7.0. \u001b[39m\u001b[38;5;124m\"\u001b[39m\n\u001b[1;32m    395\u001b[0m         \u001b[38;5;124m\"\u001b[39m\u001b[38;5;124mThis feature will be removed in v4.0.0. \u001b[39m\u001b[38;5;124m\"\u001b[39m\n\u001b[1;32m    396\u001b[0m         \u001b[38;5;124m\"\u001b[39m\u001b[38;5;124mSee https://github.com/optuna/optuna/releases/tag/v2.7.0.\u001b[39m\u001b[38;5;124m\"\u001b[39m,\n\u001b[1;32m    397\u001b[0m         \u001b[38;5;167;01mFutureWarning\u001b[39;00m,\n\u001b[1;32m    398\u001b[0m     )\n\u001b[0;32m--> 400\u001b[0m \u001b[43m_optimize\u001b[49m\u001b[43m(\u001b[49m\n\u001b[1;32m    401\u001b[0m \u001b[43m    \u001b[49m\u001b[43mstudy\u001b[49m\u001b[38;5;241;43m=\u001b[39;49m\u001b[38;5;28;43mself\u001b[39;49m\u001b[43m,\u001b[49m\n\u001b[1;32m    402\u001b[0m \u001b[43m    \u001b[49m\u001b[43mfunc\u001b[49m\u001b[38;5;241;43m=\u001b[39;49m\u001b[43mfunc\u001b[49m\u001b[43m,\u001b[49m\n\u001b[1;32m    403\u001b[0m \u001b[43m    \u001b[49m\u001b[43mn_trials\u001b[49m\u001b[38;5;241;43m=\u001b[39;49m\u001b[43mn_trials\u001b[49m\u001b[43m,\u001b[49m\n\u001b[1;32m    404\u001b[0m \u001b[43m    \u001b[49m\u001b[43mtimeout\u001b[49m\u001b[38;5;241;43m=\u001b[39;49m\u001b[43mtimeout\u001b[49m\u001b[43m,\u001b[49m\n\u001b[1;32m    405\u001b[0m \u001b[43m    \u001b[49m\u001b[43mn_jobs\u001b[49m\u001b[38;5;241;43m=\u001b[39;49m\u001b[43mn_jobs\u001b[49m\u001b[43m,\u001b[49m\n\u001b[1;32m    406\u001b[0m \u001b[43m    \u001b[49m\u001b[43mcatch\u001b[49m\u001b[38;5;241;43m=\u001b[39;49m\u001b[43mcatch\u001b[49m\u001b[43m,\u001b[49m\n\u001b[1;32m    407\u001b[0m \u001b[43m    \u001b[49m\u001b[43mcallbacks\u001b[49m\u001b[38;5;241;43m=\u001b[39;49m\u001b[43mcallbacks\u001b[49m\u001b[43m,\u001b[49m\n\u001b[1;32m    408\u001b[0m \u001b[43m    \u001b[49m\u001b[43mgc_after_trial\u001b[49m\u001b[38;5;241;43m=\u001b[39;49m\u001b[43mgc_after_trial\u001b[49m\u001b[43m,\u001b[49m\n\u001b[1;32m    409\u001b[0m \u001b[43m    \u001b[49m\u001b[43mshow_progress_bar\u001b[49m\u001b[38;5;241;43m=\u001b[39;49m\u001b[43mshow_progress_bar\u001b[49m\u001b[43m,\u001b[49m\n\u001b[1;32m    410\u001b[0m \u001b[43m\u001b[49m\u001b[43m)\u001b[49m\n",
      "File \u001b[0;32m~/miniconda3/envs/amex/lib/python3.10/site-packages/optuna/study/_optimize.py:66\u001b[0m, in \u001b[0;36m_optimize\u001b[0;34m(study, func, n_trials, timeout, n_jobs, catch, callbacks, gc_after_trial, show_progress_bar)\u001b[0m\n\u001b[1;32m     64\u001b[0m \u001b[38;5;28;01mtry\u001b[39;00m:\n\u001b[1;32m     65\u001b[0m     \u001b[38;5;28;01mif\u001b[39;00m n_jobs \u001b[38;5;241m==\u001b[39m \u001b[38;5;241m1\u001b[39m:\n\u001b[0;32m---> 66\u001b[0m         \u001b[43m_optimize_sequential\u001b[49m\u001b[43m(\u001b[49m\n\u001b[1;32m     67\u001b[0m \u001b[43m            \u001b[49m\u001b[43mstudy\u001b[49m\u001b[43m,\u001b[49m\n\u001b[1;32m     68\u001b[0m \u001b[43m            \u001b[49m\u001b[43mfunc\u001b[49m\u001b[43m,\u001b[49m\n\u001b[1;32m     69\u001b[0m \u001b[43m            \u001b[49m\u001b[43mn_trials\u001b[49m\u001b[43m,\u001b[49m\n\u001b[1;32m     70\u001b[0m \u001b[43m            \u001b[49m\u001b[43mtimeout\u001b[49m\u001b[43m,\u001b[49m\n\u001b[1;32m     71\u001b[0m \u001b[43m            \u001b[49m\u001b[43mcatch\u001b[49m\u001b[43m,\u001b[49m\n\u001b[1;32m     72\u001b[0m \u001b[43m            \u001b[49m\u001b[43mcallbacks\u001b[49m\u001b[43m,\u001b[49m\n\u001b[1;32m     73\u001b[0m \u001b[43m            \u001b[49m\u001b[43mgc_after_trial\u001b[49m\u001b[43m,\u001b[49m\n\u001b[1;32m     74\u001b[0m \u001b[43m            \u001b[49m\u001b[43mreseed_sampler_rng\u001b[49m\u001b[38;5;241;43m=\u001b[39;49m\u001b[38;5;28;43;01mFalse\u001b[39;49;00m\u001b[43m,\u001b[49m\n\u001b[1;32m     75\u001b[0m \u001b[43m            \u001b[49m\u001b[43mtime_start\u001b[49m\u001b[38;5;241;43m=\u001b[39;49m\u001b[38;5;28;43;01mNone\u001b[39;49;00m\u001b[43m,\u001b[49m\n\u001b[1;32m     76\u001b[0m \u001b[43m            \u001b[49m\u001b[43mprogress_bar\u001b[49m\u001b[38;5;241;43m=\u001b[39;49m\u001b[43mprogress_bar\u001b[49m\u001b[43m,\u001b[49m\n\u001b[1;32m     77\u001b[0m \u001b[43m        \u001b[49m\u001b[43m)\u001b[49m\n\u001b[1;32m     78\u001b[0m     \u001b[38;5;28;01melse\u001b[39;00m:\n\u001b[1;32m     79\u001b[0m         \u001b[38;5;28;01mif\u001b[39;00m show_progress_bar:\n",
      "File \u001b[0;32m~/miniconda3/envs/amex/lib/python3.10/site-packages/optuna/study/_optimize.py:163\u001b[0m, in \u001b[0;36m_optimize_sequential\u001b[0;34m(study, func, n_trials, timeout, catch, callbacks, gc_after_trial, reseed_sampler_rng, time_start, progress_bar)\u001b[0m\n\u001b[1;32m    160\u001b[0m         \u001b[38;5;28;01mbreak\u001b[39;00m\n\u001b[1;32m    162\u001b[0m \u001b[38;5;28;01mtry\u001b[39;00m:\n\u001b[0;32m--> 163\u001b[0m     trial \u001b[38;5;241m=\u001b[39m \u001b[43m_run_trial\u001b[49m\u001b[43m(\u001b[49m\u001b[43mstudy\u001b[49m\u001b[43m,\u001b[49m\u001b[43m \u001b[49m\u001b[43mfunc\u001b[49m\u001b[43m,\u001b[49m\u001b[43m \u001b[49m\u001b[43mcatch\u001b[49m\u001b[43m)\u001b[49m\n\u001b[1;32m    164\u001b[0m \u001b[38;5;28;01mexcept\u001b[39;00m \u001b[38;5;167;01mException\u001b[39;00m:\n\u001b[1;32m    165\u001b[0m     \u001b[38;5;28;01mraise\u001b[39;00m\n",
      "File \u001b[0;32m~/miniconda3/envs/amex/lib/python3.10/site-packages/optuna/study/_optimize.py:264\u001b[0m, in \u001b[0;36m_run_trial\u001b[0;34m(study, func, catch)\u001b[0m\n\u001b[1;32m    261\u001b[0m         \u001b[38;5;28;01massert\u001b[39;00m \u001b[38;5;28;01mFalse\u001b[39;00m, \u001b[38;5;124m\"\u001b[39m\u001b[38;5;124mShould not reach.\u001b[39m\u001b[38;5;124m\"\u001b[39m\n\u001b[1;32m    263\u001b[0m \u001b[38;5;28;01mif\u001b[39;00m state \u001b[38;5;241m==\u001b[39m TrialState\u001b[38;5;241m.\u001b[39mFAIL \u001b[38;5;129;01mand\u001b[39;00m func_err \u001b[38;5;129;01mis\u001b[39;00m \u001b[38;5;129;01mnot\u001b[39;00m \u001b[38;5;28;01mNone\u001b[39;00m \u001b[38;5;129;01mand\u001b[39;00m \u001b[38;5;129;01mnot\u001b[39;00m \u001b[38;5;28misinstance\u001b[39m(func_err, catch):\n\u001b[0;32m--> 264\u001b[0m     \u001b[38;5;28;01mraise\u001b[39;00m func_err\n\u001b[1;32m    265\u001b[0m \u001b[38;5;28;01mreturn\u001b[39;00m trial\n",
      "File \u001b[0;32m~/miniconda3/envs/amex/lib/python3.10/site-packages/optuna/study/_optimize.py:213\u001b[0m, in \u001b[0;36m_run_trial\u001b[0;34m(study, func, catch)\u001b[0m\n\u001b[1;32m    210\u001b[0m     thread\u001b[38;5;241m.\u001b[39mstart()\n\u001b[1;32m    212\u001b[0m \u001b[38;5;28;01mtry\u001b[39;00m:\n\u001b[0;32m--> 213\u001b[0m     value_or_values \u001b[38;5;241m=\u001b[39m \u001b[43mfunc\u001b[49m\u001b[43m(\u001b[49m\u001b[43mtrial\u001b[49m\u001b[43m)\u001b[49m\n\u001b[1;32m    214\u001b[0m \u001b[38;5;28;01mexcept\u001b[39;00m exceptions\u001b[38;5;241m.\u001b[39mTrialPruned \u001b[38;5;28;01mas\u001b[39;00m e:\n\u001b[1;32m    215\u001b[0m     \u001b[38;5;66;03m# TODO(mamu): Handle multi-objective cases.\u001b[39;00m\n\u001b[1;32m    216\u001b[0m     state \u001b[38;5;241m=\u001b[39m TrialState\u001b[38;5;241m.\u001b[39mPRUNED\n",
      "Input \u001b[0;32mIn [31]\u001b[0m, in \u001b[0;36mobjective\u001b[0;34m(trial)\u001b[0m\n\u001b[1;32m     43\u001b[0m \u001b[38;5;66;03m# joblib.dump(model, f'{MODELS_PATH}/0712/model_{idx+1}.pkl')\u001b[39;00m\n\u001b[1;32m     44\u001b[0m val_score \u001b[38;5;241m=\u001b[39m amex_metric(y_val, y_val_pred)\n\u001b[0;32m---> 45\u001b[0m \u001b[38;5;28mprint\u001b[39m(\u001b[38;5;124mf\u001b[39m\u001b[38;5;124m\"\u001b[39m\u001b[38;5;124mFold \u001b[39m\u001b[38;5;132;01m{\u001b[39;00mfold\u001b[38;5;132;01m}\u001b[39;00m\u001b[38;5;124m | Train Score = \u001b[39m\u001b[38;5;132;01m{\u001b[39;00mtrain_score\u001b[38;5;132;01m:\u001b[39;00m\u001b[38;5;124m.5f\u001b[39m\u001b[38;5;132;01m}\u001b[39;00m\u001b[38;5;124m\"\u001b[39m)\n\u001b[1;32m     46\u001b[0m \u001b[38;5;28mprint\u001b[39m(\u001b[38;5;124mf\u001b[39m\u001b[38;5;124m\"\u001b[39m\u001b[38;5;132;01m{\u001b[39;00mFore\u001b[38;5;241m.\u001b[39mGREEN\u001b[38;5;132;01m}\u001b[39;00m\u001b[38;5;132;01m{\u001b[39;00mStyle\u001b[38;5;241m.\u001b[39mBRIGHT\u001b[38;5;132;01m}\u001b[39;00m\u001b[38;5;124mFold \u001b[39m\u001b[38;5;132;01m{\u001b[39;00mfold\u001b[38;5;132;01m}\u001b[39;00m\u001b[38;5;124m | Val   Score = \u001b[39m\u001b[38;5;132;01m{\u001b[39;00mval_score\u001b[38;5;132;01m:\u001b[39;00m\u001b[38;5;124m.5f\u001b[39m\u001b[38;5;132;01m}\u001b[39;00m\u001b[38;5;132;01m{\u001b[39;00mStyle\u001b[38;5;241m.\u001b[39mRESET_ALL\u001b[38;5;132;01m}\u001b[39;00m\u001b[38;5;124m\"\u001b[39m)\n\u001b[1;32m     47\u001b[0m score_list\u001b[38;5;241m.\u001b[39mappend(val_score)\n",
      "\u001b[0;31mTypeError\u001b[0m: unsupported format string passed to tuple.__format__"
     ]
    }
   ],
   "source": [
    "study.optimize(objective, n_trials=20)"
   ]
  },
  {
   "cell_type": "markdown",
   "id": "63209e65-9d82-4b2e-bf34-f4a15560f08f",
   "metadata": {},
   "source": [
    "### END"
   ]
  },
  {
   "cell_type": "code",
   "execution_count": null,
   "id": "92d4d4d4-3000-42c0-b306-3d4ca352a711",
   "metadata": {},
   "outputs": [],
   "source": [
    "# study_df = study.trials_dataframe()\n",
    "# study_df = study_df.loc[study_df[\"state\"] == \"COMPLETE\"].reset_index(drop=True)\n",
    "# study_df.to_csv(f\"{EXP_PATH}/lgbm_dart_exp/t.csv\", index=False)"
   ]
  },
  {
   "cell_type": "code",
   "execution_count": null,
   "id": "45dc44c2-b5cc-47a0-a4f6-e0e393618695",
   "metadata": {},
   "outputs": [],
   "source": [
    "np.mean(val_score_list)"
   ]
  },
  {
   "cell_type": "code",
   "execution_count": null,
   "id": "bed2de5f-ca9d-4b2b-99ed-4c33c5a33a87",
   "metadata": {},
   "outputs": [],
   "source": [
    "%%time\n",
    "model_list, score_list, y_pred_list, held_out_index_list = [], [], [], []\n",
    "model_dict = {}\n",
    "X_val_dict = {}\n",
    "y_val_dict = {}\n",
    "y_score_dict = {}\n",
    "kf = StratifiedKFold(n_splits=10)\n",
    "for fold, (idx_tr, idx_va), n_est in zip(range(1, 10+1), kf.split(train, target), n_est_list):\n",
    "    model_dict[fold] = joblib.load(f\"{MODELS_PATH}/lgbm_models/model_{fold}.pkl\")\n",
    "    X_val_dict[fold] = train.iloc[idx_va][features]\n",
    "    y_val_dict[fold] = target[idx_va]\n",
    "    y_score_dict[fold] = model_dict[fold].predict_proba(X_val_dict[fold], raw_score=True)"
   ]
  },
  {
   "cell_type": "code",
   "execution_count": null,
   "id": "647e2ea6-c065-4730-bb16-daf6cb6c3a7d",
   "metadata": {},
   "outputs": [],
   "source": [
    "for i in range(1, 11):\n",
    "    print(i, amex_metric_np(y_score_dict[i], y_val_dict[i]))"
   ]
  },
  {
   "cell_type": "code",
   "execution_count": null,
   "id": "a65d26a2-8821-47e9-a926-133148712b00",
   "metadata": {},
   "outputs": [],
   "source": [
    "full_train = pd.concat(list(X_val_dict.values()))\n",
    "full_train.shape"
   ]
  },
  {
   "cell_type": "code",
   "execution_count": null,
   "id": "d5795c76-f1ae-420d-b1ac-26c7ae102239",
   "metadata": {},
   "outputs": [],
   "source": [
    "full_train_gt = np.concatenate(list(y_val_dict.values()))\n",
    "len(full_train_gt)"
   ]
  },
  {
   "cell_type": "code",
   "execution_count": null,
   "id": "2ac46e0f-76dd-4d0f-97e8-9e4cd47a21d7",
   "metadata": {},
   "outputs": [],
   "source": [
    "full_train_scores = np.concatenate(list(y_score_dict.values()))\n",
    "len(full_train_scores)"
   ]
  },
  {
   "cell_type": "code",
   "execution_count": null,
   "id": "422d6f6d-4b0b-4e6e-87f0-d866d7b2d4ae",
   "metadata": {},
   "outputs": [],
   "source": [
    "full_train.loc[:, \"target\"] = full_train_gt\n",
    "full_train.loc[:, \"score\"] = full_train_scores"
   ]
  },
  {
   "cell_type": "code",
   "execution_count": null,
   "id": "48ba496c-cf37-4206-8308-1ba3ad7d1451",
   "metadata": {},
   "outputs": [],
   "source": [
    "# full_train.to_csv(f\"{EVALUATION_DATA_PATH}/train_single_raw_score.csv\", index=False)"
   ]
  },
  {
   "cell_type": "code",
   "execution_count": null,
   "id": "65132c65-ddd3-4cb6-83ca-99422f726514",
   "metadata": {},
   "outputs": [],
   "source": [
    "full_train"
   ]
  },
  {
   "cell_type": "code",
   "execution_count": null,
   "id": "595c184d-3cc7-47b8-b7bb-cfbf853a6cd3",
   "metadata": {},
   "outputs": [],
   "source": [
    "%%time\n",
    "model_list, score_list, y_pred_list, held_out_index_list = [], [], [], []\n",
    "kf = StratifiedKFold(n_splits=10)\n",
    "for fold, (idx_tr, idx_va), n_est in zip(range(1, 10+1), kf.split(train, target), n_est_list):\n",
    "    X_train, X_val, y_train, y_val, model = None, None, None, None, None\n",
    "    start_time = datetime.datetime.now()\n",
    "    X_train = train.iloc[idx_tr][features]\n",
    "    X_val = train.iloc[idx_va][features]\n",
    "    y_train = target[idx_tr]\n",
    "    y_val = target[idx_va]\n",
    "    \n",
    "    model = my_booster(n_estimators=n_est)\n",
    "    with warnings.catch_warnings():\n",
    "        warnings.filterwarnings('ignore', category=UserWarning)\n",
    "        model.fit(X_train, \n",
    "                  y_train,\n",
    "                  eval_set=[(X_val, y_val)], \n",
    "                  eval_metric=[lgb_amex_metric],\n",
    "                  callbacks=[log_evaluation(200)])\n",
    "    X_train, y_train = None, None\n",
    "    y_val_pred = model.predict_proba(X_val, raw_score=True)\n",
    "    score = amex_metric(y_val, y_val_pred)\n",
    "    n_trees = model.best_iteration_\n",
    "    if n_trees is None: \n",
    "        n_trees = model.n_estimators\n",
    "    print(f\"{Fore.GREEN}{Style.BRIGHT}Fold {fold} | {str(datetime.datetime.now() - start_time)[-12:-7]} |\"\n",
    "          f\" {n_trees:5} trees |\"\n",
    "          f\"                Score = {score:.5f}{Style.RESET_ALL}\")\n",
    "    score_list.append(score)\n",
    "    model_list.append(model)\n",
    "    held_out_index_list.append(idx_va)\n",
    "    # if INFERENCE:\n",
    "    #     y_pred_list.append(model.predict_proba(test[features], raw_score=True))\n",
    "        \n",
    "    # if ONLY_FIRST_FOLD:\n",
    "    #     break # we only want the first fold\n",
    "    \n",
    "print(f\"{Fore.GREEN}{Style.BRIGHT}OOF Score:                       {np.mean(score_list):.5f}{Style.RESET_ALL}\")"
   ]
  },
  {
   "cell_type": "code",
   "execution_count": null,
   "id": "8d33e83b-d336-4355-bbea-8fc3e3835fe2",
   "metadata": {},
   "outputs": [],
   "source": [
    "for idx, model in enumerate(model_list):\n",
    "    joblib.dump(model, f'../models/lgbm_models/model_{idx+1}.pkl')"
   ]
  },
  {
   "cell_type": "markdown",
   "id": "6fc921e1-b9ac-4391-8ee5-b75587bbbe6b",
   "metadata": {},
   "source": [
    "### Train Val Split"
   ]
  },
  {
   "cell_type": "code",
   "execution_count": null,
   "id": "9695a902-a0b2-4365-ba90-3fa70ed69844",
   "metadata": {},
   "outputs": [],
   "source": [
    "train, val = train_test_split(train_data, test_size=0.175, random_state=923, stratify=train_data[\"target\"])"
   ]
  },
  {
   "cell_type": "code",
   "execution_count": null,
   "id": "33c79210-4f9a-4500-9ba2-2a61850acd3f",
   "metadata": {},
   "outputs": [],
   "source": [
    "train[\"target\"].mean(), val[\"target\"].mean()"
   ]
  },
  {
   "cell_type": "code",
   "execution_count": null,
   "id": "e8b3d1e4-211b-45f8-b0ef-0af54bc1b6ae",
   "metadata": {},
   "outputs": [],
   "source": [
    "special_columns = ['customer_ID', 'S_2', 'target', \"Date\", \"min_date\", \"max_date\", \"num_records\", \"days\", \"record_per_day\"]"
   ]
  },
  {
   "cell_type": "code",
   "execution_count": null,
   "id": "b8843d38-b099-4dcc-9ca6-7b009c2df109",
   "metadata": {},
   "outputs": [],
   "source": [
    "all_cols = [c for c in train.columns if c not in special_columns]\n",
    "cat_features = train.select_dtypes(\"category\").columns.tolist()\n",
    "num_features = [col for col in all_cols if col not in cat_features]"
   ]
  },
  {
   "cell_type": "code",
   "execution_count": null,
   "id": "b87420d8-41e4-437e-94b3-90902e3d1010",
   "metadata": {},
   "outputs": [],
   "source": [
    "len(all_cols), len(cat_features), len(num_features)"
   ]
  },
  {
   "cell_type": "code",
   "execution_count": null,
   "id": "1229dc40-14a1-4584-81e4-65505aef8ba8",
   "metadata": {},
   "outputs": [],
   "source": [
    "cluster_columns = get_cols(train, \"_cluster\")\n",
    "nunique_columns = get_cols(train, \"_nunique\")\n",
    "non_D66_count_columns = [col for col in get_cols(train, \"_count\") if \"D_66\" not in col]"
   ]
  },
  {
   "cell_type": "code",
   "execution_count": null,
   "id": "56fe1254-1210-4efb-b157-1e46ee6161ec",
   "metadata": {},
   "outputs": [],
   "source": [
    "selected_features = list(set(all_cols) - set(cluster_columns) - set(nunique_columns) - set(non_D66_count_columns))"
   ]
  },
  {
   "cell_type": "code",
   "execution_count": null,
   "id": "ff6ebc37-99da-425e-b8da-bf6240df5ae4",
   "metadata": {},
   "outputs": [],
   "source": [
    "len(all_cols), len(selected_features)"
   ]
  },
  {
   "cell_type": "code",
   "execution_count": null,
   "id": "0eaf02d5-b112-401a-9346-908cb0e61369",
   "metadata": {},
   "outputs": [],
   "source": [
    "X_train = train.loc[:, selected_features]\n",
    "X_val = val.loc[:, selected_features]"
   ]
  },
  {
   "cell_type": "code",
   "execution_count": null,
   "id": "3b147ed3-595d-49c9-b6a2-87773d961f92",
   "metadata": {},
   "outputs": [],
   "source": [
    "y_train = train[\"target\"]\n",
    "y_val = val[\"target\"]"
   ]
  },
  {
   "cell_type": "code",
   "execution_count": null,
   "id": "110516c6-e21d-4384-b0ef-11d254a7fafd",
   "metadata": {},
   "outputs": [],
   "source": [
    "def _amex_metric(dy_true, dy_pred):\n",
    "    \"\"\"An eval metric that always returns the same value\"\"\"\n",
    "    metric_name = 'Amex Metric'\n",
    "    value = amex_metric_np(dy_pred, dy_true)\n",
    "    is_higher_better = True\n",
    "    return metric_name, value, is_higher_better"
   ]
  },
  {
   "cell_type": "code",
   "execution_count": null,
   "id": "a2914342-c0c6-47f5-aa00-274cda16442a",
   "metadata": {},
   "outputs": [],
   "source": [
    "fit_params = {\"early_stopping_rounds\" : 200, \n",
    "              # \"eval_metric\" : 'auc', \n",
    "              \"eval_set\" : [(X_val, y_val)],\n",
    "              'eval_names': ['valid'],\n",
    "              'verbose': 1,\n",
    "              'categorical_feature': 'auto'}"
   ]
  },
  {
   "cell_type": "code",
   "execution_count": null,
   "id": "6f90c1c1-902f-40c2-a469-ac85f04a3bfb",
   "metadata": {},
   "outputs": [],
   "source": [
    "param_test = {'learning_rate' : [0.01, 0.03, 0.05, 0.07, 0.08, 0.1, 0.12],\n",
    "              'n_estimators' : [100, 200, 300, 400, 500, 600, 800, 1000, 1500, 2000],\n",
    "              'num_leaves': sp_randint(10, 150), \n",
    "              'min_child_samples': sp_randint(25, 300), \n",
    "              'min_child_weight': [1e-3, 3e-3, 1e-2, 3e-2, 1e-1, 3e-1, 1],\n",
    "              'min_split_gain': [0.001, 0.003, 0.01, 0.025, 0.05, 0.1],\n",
    "              'subsample': sp_uniform(loc=0.4, scale=0.6), \n",
    "              # 'subsample_freq': [5, 10, 15],\n",
    "              'max_depth': [-1, 3, 5, 7, 9, 11, 13, 15],\n",
    "              'colsample_bytree': sp_uniform(loc=0.4, scale=0.6),\n",
    "              'reg_alpha': [0, 1e-1, 3e-1, 1, 3, 6, 10, 20, 50],\n",
    "              'reg_lambda': [0, 1e-1, 3e-1, 1, 3, 6, 10, 20, 50],\n",
    "              'scale_pos_weight': [0, 1, 2, 3, 4],\n",
    "              'xgboost_dart_mode': [True, False]\n",
    "              }\n",
    "\n",
    "# Number of combinations\n",
    "n_iter = 50 "
   ]
  },
  {
   "cell_type": "code",
   "execution_count": null,
   "id": "3dac40d9-8a91-4f72-83b5-2caa1128d8d2",
   "metadata": {},
   "outputs": [],
   "source": [
    "# Intializing lgbm and lunching the search\n",
    "lgbm_clf = LGBMClassifier(random_state=1020, \n",
    "                          objective=\"binary\", \n",
    "                          boosting_type='dart', \n",
    "                          n_jobs=-1) # silent=True, "
   ]
  },
  {
   "cell_type": "code",
   "execution_count": null,
   "id": "74eb1840-ef01-4416-9737-7707e32fafe3",
   "metadata": {},
   "outputs": [],
   "source": [
    "grid_search = RandomizedSearchCV(\n",
    "    estimator=lgbm_clf, \n",
    "    param_distributions=param_test, \n",
    "    n_iter=n_iter,\n",
    "    scoring=_amex_metric,\n",
    "    cv=5,\n",
    "    refit=True,\n",
    "    random_state=923,\n",
    "    verbose=True)"
   ]
  },
  {
   "cell_type": "code",
   "execution_count": null,
   "id": "62c8400e-efea-445d-adde-52149b24c7dc",
   "metadata": {},
   "outputs": [],
   "source": [
    "grid_search.fit(X_train, y_train, **fit_params)\n",
    "opt_parameters = grid_search.best_params_"
   ]
  },
  {
   "cell_type": "code",
   "execution_count": null,
   "id": "b544e638-39f3-40b2-b7c8-621d82dc6555",
   "metadata": {},
   "outputs": [],
   "source": [
    "best_params = {\n",
    "    'boosting_type': 'gbdt',\n",
    "    'colsample_bytree': 0.8,\n",
    "    'importance_type': 'split',\n",
    "    'learning_rate': 0.07,\n",
    "    'max_depth': 12,\n",
    "    'min_child_samples': 30,\n",
    "    'min_child_weight': 0.003,\n",
    "    'min_split_gain': 0.02,\n",
    "    'n_estimators': 110,\n",
    "    'n_jobs': -1,\n",
    "    'num_leaves': 80,\n",
    "    'objective': \"binary\",\n",
    "    'random_state': 923,\n",
    "    'reg_alpha': 1,\n",
    "    'reg_lambda': 4,\n",
    "    'silent': True,\n",
    "    'subsample': 0.85,\n",
    "    'subsample_for_bin': 100000,\n",
    "    'subsample_freq': 5,\n",
    "    'scale_pos_weight': 4\n",
    "}"
   ]
  },
  {
   "cell_type": "code",
   "execution_count": null,
   "id": "78dcbade-cfb2-4d93-a398-2d656c79824c",
   "metadata": {},
   "outputs": [],
   "source": [
    "lgbm_clf = LGBMClassifier(**best_params)"
   ]
  },
  {
   "cell_type": "code",
   "execution_count": null,
   "id": "e1e54e02-6856-4d45-a0f0-7229a5576e91",
   "metadata": {},
   "outputs": [],
   "source": [
    "lgbm_clf.fit(X_train, y_train)"
   ]
  },
  {
   "cell_type": "code",
   "execution_count": null,
   "id": "6849a5e0-f40a-44a5-9dd5-5c2ded2cab65",
   "metadata": {},
   "outputs": [],
   "source": [
    "y_train_pred = lgbm_clf.predict_proba(X_train)[:, 1]\n",
    "y_val_pred = lgbm_clf.predict_proba(X_val)[:, 1]"
   ]
  },
  {
   "cell_type": "code",
   "execution_count": null,
   "id": "c847011f-c194-43f6-909e-4abce0f43fbf",
   "metadata": {},
   "outputs": [],
   "source": [
    "plot_roc_curves([y_train, y_val], \n",
    "                [y_train_pred, y_val_pred], \n",
    "                labels=[\"Train\", \"Validation\"], \n",
    "                title=\"Train Validation ROC AUC\")"
   ]
  },
  {
   "cell_type": "code",
   "execution_count": null,
   "id": "2264f284-6c04-44de-90d3-5f9f7e1273e8",
   "metadata": {},
   "outputs": [],
   "source": [
    "imp_df = plot_feature_importance(lgbm_clf.feature_name_, \n",
    "                                 lgbm_clf.feature_importances_, \n",
    "                                 title=\"Feature Importance\",\n",
    "                                 limit=50)"
   ]
  },
  {
   "cell_type": "code",
   "execution_count": null,
   "id": "f8b4f8a8-649a-4bd7-a04a-432f98af21ff",
   "metadata": {},
   "outputs": [],
   "source": [
    "result = pd.DataFrame()\n",
    "for keyword in [\"_mean\", \"std\", \"min\", \"max\", \"first\", \"last\", \"count\"]:\n",
    "    temp = imp_df.loc[imp_df[\"feature\"].str.contains(keyword)].describe().rename(columns={\"feature_importance\": keyword})\n",
    "    result = pd.concat([result, temp], axis=1)"
   ]
  },
  {
   "cell_type": "code",
   "execution_count": null,
   "id": "ea7be8df-5fe4-431a-ac45-ad5237885bef",
   "metadata": {},
   "outputs": [],
   "source": [
    "result"
   ]
  },
  {
   "cell_type": "code",
   "execution_count": null,
   "id": "91c1a37b-583c-404d-93b9-3528d4ae68f7",
   "metadata": {},
   "outputs": [],
   "source": [
    "cluster_feature_imp_df = imp_df.loc[imp_df[\"feature\"].str.contains(\"count\")]"
   ]
  },
  {
   "cell_type": "code",
   "execution_count": null,
   "id": "8cc93d82-481d-47df-9c4c-5ead8956a622",
   "metadata": {},
   "outputs": [],
   "source": [
    "cluster_result = pd.DataFrame()\n",
    "for keyword in [\"B_\", \"S_\", \"R_\", \"P_\", \"D_\"]:\n",
    "    temp = cluster_feature_imp_df.loc[cluster_feature_imp_df[\"feature\"].str.contains(keyword)].describe().rename(columns={\n",
    "        \"feature_importance\": keyword\n",
    "    })\n",
    "    cluster_result = pd.concat([cluster_result, temp], axis=1)"
   ]
  },
  {
   "cell_type": "code",
   "execution_count": null,
   "id": "e853ca94-08b3-423a-81a5-b244aea8ebff",
   "metadata": {},
   "outputs": [],
   "source": [
    "imp_df.shape[0], result.loc[\"count\"].sum()"
   ]
  },
  {
   "cell_type": "markdown",
   "id": "40bb7ed4-6176-4b52-9ecb-83fb6dc73d85",
   "metadata": {},
   "source": [
    "### Test Metric"
   ]
  },
  {
   "cell_type": "code",
   "execution_count": null,
   "id": "23b137f9-ca61-4d83-9ff9-a21305eb6698",
   "metadata": {},
   "outputs": [],
   "source": [
    "y_val_df = pd.DataFrame(y_val).reset_index(drop=True)\n",
    "y_val_pred_df = pd.DataFrame(y_val_pred).rename(columns={0: \"prediction\"})"
   ]
  },
  {
   "cell_type": "code",
   "execution_count": null,
   "id": "1166b058-4bae-42d6-aba1-be547a3ff76a",
   "metadata": {},
   "outputs": [],
   "source": [
    "amex_metric(y_val_df, y_val_pred_df)"
   ]
  },
  {
   "cell_type": "code",
   "execution_count": null,
   "id": "1a37b3ca-c9f3-414c-bbc6-b1e94814472b",
   "metadata": {},
   "outputs": [],
   "source": [
    "# feature_imp_thr = imp_df.loc[imp_df[\"feature\"] == \"dummy\"][\"feature_importance\"].values[0]\n",
    "# feature_imp_thr"
   ]
  },
  {
   "cell_type": "code",
   "execution_count": null,
   "id": "331673eb-0dca-4a75-8f18-0af50246332d",
   "metadata": {},
   "outputs": [],
   "source": [
    "selected_features = imp_df.loc[imp_df[\"feature_importance\"] > 0][\"feature\"].tolist()\n",
    "len(selected_features)"
   ]
  },
  {
   "cell_type": "code",
   "execution_count": null,
   "id": "4d32ab96-3177-4042-a8ca-d92d82c35524",
   "metadata": {},
   "outputs": [],
   "source": [
    "y_train_pred = final_lgbm_clf.predict_proba(X_train)[:, 1]\n",
    "y_val_pred = final_lgbm_clf.predict_proba(X_val)[:, 1]"
   ]
  },
  {
   "cell_type": "code",
   "execution_count": null,
   "id": "d7ef1dac-33bd-425e-abb7-1423dae456a9",
   "metadata": {},
   "outputs": [],
   "source": [
    "plot_roc_curves([y_train, y_val], \n",
    "                [y_train_pred, y_val_pred], \n",
    "                labels=[\"Train\", \"Validation\"], \n",
    "                title=\"Train Validation ROC AUC\")"
   ]
  },
  {
   "cell_type": "code",
   "execution_count": null,
   "id": "b5ec7d16-e398-4fe9-bd13-3e412807bee9",
   "metadata": {},
   "outputs": [],
   "source": [
    "imp_df = plot_feature_importance(final_lgbm_clf.feature_name_, \n",
    "                                 final_lgbm_clf.feature_importances_, \n",
    "                                 title=\"Feature Importance\",\n",
    "                                 limit=50)"
   ]
  },
  {
   "cell_type": "code",
   "execution_count": null,
   "id": "e040c798-77a1-49ee-b197-09589cfe6b75",
   "metadata": {},
   "outputs": [],
   "source": [
    "selected_features = imp_df.loc[imp_df[\"feature_importance\"] > 0][\"feature\"].tolist()\n",
    "len(selected_features)"
   ]
  },
  {
   "cell_type": "markdown",
   "id": "6ca42564-43bb-4cb5-b3c6-16a15a1c23bc",
   "metadata": {},
   "source": [
    "#### Final x2 LGBM"
   ]
  },
  {
   "cell_type": "code",
   "execution_count": null,
   "id": "80cee1a2-55a5-4421-90b2-d449124d7eb9",
   "metadata": {},
   "outputs": [],
   "source": [
    "selected_features = [col for col in selected_features if \"first\" not in col]\n",
    "len(selected_features)"
   ]
  },
  {
   "cell_type": "code",
   "execution_count": null,
   "id": "029f03db-71d7-4859-a5a4-9ca2e76200d4",
   "metadata": {},
   "outputs": [],
   "source": [
    "final_lgbm_clf = LGBMClassifier(**best_params)"
   ]
  },
  {
   "cell_type": "code",
   "execution_count": null,
   "id": "10a9c91e-926c-4411-a02d-98c352fa340b",
   "metadata": {},
   "outputs": [],
   "source": [
    "X_train_ = X_train.loc[:, selected_features]\n",
    "X_val_ = X_val.loc[:, selected_features]"
   ]
  },
  {
   "cell_type": "code",
   "execution_count": null,
   "id": "2d7df427-cc7f-4949-bf4e-9ca9a30ef7bf",
   "metadata": {},
   "outputs": [],
   "source": [
    "final_lgbm_clf.fit(X_train_, y_train)"
   ]
  },
  {
   "cell_type": "code",
   "execution_count": null,
   "id": "cbe79c65-0dc5-43c7-9572-e6663e9f95e6",
   "metadata": {},
   "outputs": [],
   "source": [
    "y_train_pred_ = final_lgbm_clf.predict_proba(X_train_)[:, 1]\n",
    "y_val_pred_ = final_lgbm_clf.predict_proba(X_val_)[:, 1]"
   ]
  },
  {
   "cell_type": "code",
   "execution_count": null,
   "id": "0b5ff830-7ce4-46ec-80ef-eb3b309d688d",
   "metadata": {},
   "outputs": [],
   "source": [
    "plot_roc_curves([y_train, y_val], \n",
    "                [y_train_pred_, y_val_pred_], \n",
    "                labels=[\"Train\", \"Validation\"], \n",
    "                title=\"Train Validation ROC AUC\")"
   ]
  },
  {
   "cell_type": "code",
   "execution_count": null,
   "id": "b20871d1-6189-44db-b78c-5d72a697f565",
   "metadata": {},
   "outputs": [],
   "source": [
    "y_res_df = pd.DataFrame(y_res).reset_index(drop=True)\n",
    "y_res_pred_df = pd.DataFrame(y_res_pred_).rename(columns={0: \"prediction\"})"
   ]
  },
  {
   "cell_type": "code",
   "execution_count": null,
   "id": "0d444d3a-c211-488d-a413-05fb4897c1ab",
   "metadata": {},
   "outputs": [],
   "source": [
    "amex_metric(y_res_df, y_res_pred_df)"
   ]
  },
  {
   "cell_type": "code",
   "execution_count": null,
   "id": "c0a2c3d5-d1da-4d0c-a342-a2be238c797f",
   "metadata": {},
   "outputs": [],
   "source": [
    "y_val.values[:40]"
   ]
  },
  {
   "cell_type": "code",
   "execution_count": null,
   "id": "1dbb8996-c77f-47b4-8687-383a95d440bd",
   "metadata": {},
   "outputs": [],
   "source": [
    "temp_ = [1 if c > 0.95 else c for c in y_val_pred_]\n",
    "# temp_[:40]"
   ]
  },
  {
   "cell_type": "code",
   "execution_count": null,
   "id": "442d9f35-976d-47ba-953c-58db62338cb2",
   "metadata": {},
   "outputs": [],
   "source": [
    "y_val_df = pd.DataFrame(y_val).reset_index(drop=True)\n",
    "y_val_pred_df = pd.DataFrame(y_val_pred_).rename(columns={0: \"prediction\"})"
   ]
  },
  {
   "cell_type": "code",
   "execution_count": null,
   "id": "d9743759-7c75-431a-a134-ed84f9104490",
   "metadata": {},
   "outputs": [],
   "source": [
    "amex_metric(y_val_df, y_val_pred_df)"
   ]
  },
  {
   "cell_type": "markdown",
   "id": "0cdaac36-22b6-44f4-8687-e3bf6938ce93",
   "metadata": {},
   "source": [
    "### END"
   ]
  },
  {
   "cell_type": "markdown",
   "id": "3a26e5c7-b521-46c9-acf1-58ac2b292e5c",
   "metadata": {},
   "source": [
    "### LGBM Error Analysis"
   ]
  },
  {
   "cell_type": "code",
   "execution_count": null,
   "id": "df50053b-db40-4121-b419-f68a30367de2",
   "metadata": {},
   "outputs": [],
   "source": [
    "X_validation = X_val_.reset_index(drop=True)"
   ]
  },
  {
   "cell_type": "code",
   "execution_count": null,
   "id": "6fb0761c-95a1-4a3c-aba9-99c9a188adbb",
   "metadata": {},
   "outputs": [],
   "source": [
    "top4_pct_df, gini_df = get_final_metric_df(X_validation, y_val_df, y_val_pred_df)"
   ]
  },
  {
   "cell_type": "code",
   "execution_count": null,
   "id": "00f48288-eb31-4a9f-b345-65ebd8e13a93",
   "metadata": {},
   "outputs": [],
   "source": [
    "failed_top4_pct_indices = top4_pct_df.loc[(top4_pct_df[\"is_cutoff\"] == 1) & (top4_pct_df[\"target\"] == 0)].index"
   ]
  },
  {
   "cell_type": "code",
   "execution_count": null,
   "id": "f3c324f1-2a79-4433-9ee2-199a06d3c3e8",
   "metadata": {},
   "outputs": [],
   "source": [
    "# failed_top4_pct_indices"
   ]
  },
  {
   "cell_type": "code",
   "execution_count": null,
   "id": "fcc0db8d-3726-46a8-910b-eb4adb995e61",
   "metadata": {},
   "outputs": [],
   "source": [
    "failed_top4_pct_indices"
   ]
  },
  {
   "cell_type": "code",
   "execution_count": null,
   "id": "9fd108b7-81f8-44c4-a16c-fc87a144f4e6",
   "metadata": {},
   "outputs": [],
   "source": [
    "success_top4 = top4_pct_df.loc[~top4_pct_df.index.isin(failed_top4_pct_indices)]\n",
    "failed_top4 = top4_pct_df.loc[failed_top4_pct_indices]"
   ]
  },
  {
   "cell_type": "code",
   "execution_count": null,
   "id": "4721278a-b219-404b-bba3-6e748f795a7b",
   "metadata": {},
   "outputs": [],
   "source": [
    "success_top4.shape, failed_top4.shape"
   ]
  },
  {
   "cell_type": "code",
   "execution_count": null,
   "id": "a93bbfd3-8f1a-45cd-96fc-2362b2d032df",
   "metadata": {},
   "outputs": [],
   "source": [
    "column = \"P_2_last\""
   ]
  },
  {
   "cell_type": "code",
   "execution_count": null,
   "id": "a1380398-93cb-413f-9cec-90302cb78a57",
   "metadata": {},
   "outputs": [],
   "source": [
    "top4_pct_df.groupby(\"target\")[column].mean()"
   ]
  },
  {
   "cell_type": "code",
   "execution_count": null,
   "id": "9d5aa82a-5ca2-4e32-8f3e-9f052f7181c1",
   "metadata": {
    "tags": []
   },
   "outputs": [],
   "source": [
    "success_top4[column].describe()"
   ]
  },
  {
   "cell_type": "code",
   "execution_count": null,
   "id": "72acb797-ffa3-40a8-a44f-f2b0096cb048",
   "metadata": {},
   "outputs": [],
   "source": [
    "failed_top4[column].describe()"
   ]
  },
  {
   "cell_type": "code",
   "execution_count": null,
   "id": "02c03b2c-f793-47f5-abf6-299a67264708",
   "metadata": {},
   "outputs": [],
   "source": [
    "# save model\n",
    "# joblib.dump(final_lgbm_clf, '../models/lgbm_version1.pkl')"
   ]
  },
  {
   "cell_type": "code",
   "execution_count": null,
   "id": "caf067ed-6593-4b8f-8999-c6857e541c43",
   "metadata": {},
   "outputs": [],
   "source": [
    "# load model\n",
    "loaded_lgbm_model = joblib.load('../models/lgbm_version1.pkl')"
   ]
  },
  {
   "cell_type": "markdown",
   "id": "6002a4ad-f9e9-45f0-b07b-dbcca8bff0e4",
   "metadata": {},
   "source": [
    "### Linear Analysis"
   ]
  },
  {
   "cell_type": "code",
   "execution_count": null,
   "id": "2475d87c-9418-4c1c-822c-99708259bd66",
   "metadata": {},
   "outputs": [],
   "source": [
    "array = train_data.loc[train_data[\"customer_ID\"] == train_data[\"customer_ID\"][540]][\"P_2\"].astype(\"float32\")"
   ]
  },
  {
   "cell_type": "code",
   "execution_count": null,
   "id": "4b9c37db-8369-40c2-aaee-7a73f3f09612",
   "metadata": {},
   "outputs": [],
   "source": [
    "np.polyfit(x=range(len(array)), y=array, deg=1)"
   ]
  },
  {
   "cell_type": "code",
   "execution_count": null,
   "id": "d7426308-7123-45c8-b5cd-a70ea9526215",
   "metadata": {},
   "outputs": [],
   "source": [
    "def calc_grad(array):\n",
    "    if len(array) >= 2:\n",
    "        gradient, y_intercept = np.polyfit(x=range(len(array)), y=array.astype(\"float32\"), deg=1)\n",
    "        return gradient\n",
    "    else:\n",
    "        return 0"
   ]
  },
  {
   "cell_type": "code",
   "execution_count": null,
   "id": "e821d542-21f2-4717-be03-561634086e72",
   "metadata": {},
   "outputs": [],
   "source": [
    "def calc_intercept(array):\n",
    "    if len(array) >= 2:\n",
    "        gradient, y_intercept = np.polyfit(x=range(len(array)), y=array.astype(\"float32\"), deg=1)\n",
    "        return y_intercept\n",
    "    else:\n",
    "        return array.values[0]"
   ]
  },
  {
   "cell_type": "code",
   "execution_count": null,
   "id": "b12d01f4-6519-4e7f-9e90-dc3d1d4fd778",
   "metadata": {},
   "outputs": [],
   "source": [
    "temp = train.groupby(\"customer_ID\").agg(P_2_grad=(\"P_2\", calc_grad),\n",
    "                                        P_2_intercept=(\"P_2\", calc_intercept)).reset_index()\n",
    "train_agg_summary = train_agg_summary.merge(temp, on=\"customer_ID\", how=\"left\")"
   ]
  },
  {
   "cell_type": "code",
   "execution_count": null,
   "id": "12b51106-4e0a-4bb2-b0fd-e10dbd9a35da",
   "metadata": {},
   "outputs": [],
   "source": [
    "temp = test.groupby(\"customer_ID\").agg(P_2_grad=(\"P_2\", calc_grad),\n",
    "                                       P_2_intercept=(\"P_2\", calc_intercept)).reset_index()\n",
    "test_agg_summary = test_agg_summary.merge(temp, on=\"customer_ID\", how=\"left\")"
   ]
  }
 ],
 "metadata": {
  "kernelspec": {
   "display_name": "amex",
   "language": "python",
   "name": "amex"
  },
  "language_info": {
   "codemirror_mode": {
    "name": "ipython",
    "version": 3
   },
   "file_extension": ".py",
   "mimetype": "text/x-python",
   "name": "python",
   "nbconvert_exporter": "python",
   "pygments_lexer": "ipython3",
   "version": "3.10.0"
  }
 },
 "nbformat": 4,
 "nbformat_minor": 5
}
