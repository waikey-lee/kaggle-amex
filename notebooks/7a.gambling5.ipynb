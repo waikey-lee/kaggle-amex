{
 "cells": [
  {
   "cell_type": "code",
   "execution_count": 3,
   "id": "5dd2ca34-3410-4078-aa48-7adbba211ed5",
   "metadata": {},
   "outputs": [],
   "source": [
    "import gc\n",
    "import joblib\n",
    "import matplotlib.pyplot as plt\n",
    "import pandas as pd\n",
    "import numpy as np\n",
    "import os\n",
    "import sys\n",
    "sys.path.append(\"../\")\n",
    "import time\n",
    "import warnings\n",
    "warnings.simplefilter(\"ignore\")\n",
    "from lightgbm import LGBMClassifier\n",
    "from sklearn.preprocessing import MinMaxScaler\n",
    "from sklearn.model_selection import train_test_split\n",
    "from tqdm import tqdm"
   ]
  },
  {
   "cell_type": "code",
   "execution_count": 4,
   "id": "88e773c8-793b-4771-85d2-80ad4e905510",
   "metadata": {},
   "outputs": [],
   "source": [
    "from utils.common import sigmoid, reverse_sigmoid\n",
    "from utils.constants import *\n",
    "from utils.extraction_helpers import read_file"
   ]
  },
  {
   "cell_type": "code",
   "execution_count": 5,
   "id": "e4698b61-dcd2-43c3-b5e3-cd5a350b5e4a",
   "metadata": {},
   "outputs": [],
   "source": [
    "%load_ext autoreload\n",
    "%autoreload"
   ]
  },
  {
   "cell_type": "markdown",
   "id": "1a59746d-319b-499a-b1c1-d198c551baae",
   "metadata": {},
   "source": [
    "### Gambling6"
   ]
  },
  {
   "cell_type": "code",
   "execution_count": 30,
   "id": "51de8174-7705-4b04-8835-8ffe3adb9b14",
   "metadata": {},
   "outputs": [
    {
     "name": "stdout",
     "output_type": "stream",
     "text": [
      "Shape of data: (924621, 2)\n",
      "Shape of data: (924621, 2)\n",
      "Shape of data: (924621, 2)\n",
      "Shape of data: (924621, 2)\n",
      "Shape of data: (924621, 2)\n",
      "Shape of data: (924621, 2)\n"
     ]
    }
   ],
   "source": [
    "chris  = read_file(f\"{SUBMISSION_DATA_PATH}/sorted_chris.csv\")\n",
    "waikey = read_file(f\"{SUBMISSION_DATA_PATH}/wk_seed_6666.csv\")\n",
    "brute_force = read_file(f\"{SUBMISSION_DATA_PATH}/1.others_brute_force.csv\")\n",
    "ensemble = read_file(f\"{SUBMISSION_DATA_PATH}/2.others_ensemble.csv\")\n",
    "exp_ensemble = read_file(f\"{SUBMISSION_DATA_PATH}/3.others_exponential_ensemble.csv\")\n",
    "blend_trees = read_file(f\"{SUBMISSION_DATA_PATH}/4.others_blend_boosted_tree.csv\")"
   ]
  },
  {
   "cell_type": "code",
   "execution_count": 22,
   "id": "37a5637b-5b2d-4d2d-ab5b-cfe82b46d071",
   "metadata": {},
   "outputs": [],
   "source": [
    "waikey[\"sigmoid_prediction\"] = waikey[\"prediction\"].apply(sigmoid)"
   ]
  },
  {
   "cell_type": "code",
   "execution_count": 23,
   "id": "99261e55-b02d-4b39-bf65-c278e5d86116",
   "metadata": {},
   "outputs": [],
   "source": [
    "pre_blend_df = pd.DataFrame(\n",
    "    dict(\n",
    "        wk=waikey[\"sigmoid_prediction\"],\n",
    "        chris=chris[\"prediction\"],\n",
    "        ensemble=ensemble[\"prediction\"],\n",
    "        exp_ensemble=exp_ensemble[\"prediction\"],\n",
    "        blend_trees=blend_trees[\"prediction\"]\n",
    "    )\n",
    ")"
   ]
  },
  {
   "cell_type": "code",
   "execution_count": null,
   "id": "dcf63d25-2e50-4127-99ad-19a60af9882b",
   "metadata": {},
   "outputs": [],
   "source": []
  },
  {
   "cell_type": "code",
   "execution_count": null,
   "id": "7cad0bc1-d87b-4b0f-8e7e-371063341b5f",
   "metadata": {},
   "outputs": [],
   "source": []
  },
  {
   "cell_type": "code",
   "execution_count": 24,
   "id": "716c93fc-034e-46dc-86ca-9cfdf424caf0",
   "metadata": {},
   "outputs": [],
   "source": [
    "mscaler = MinMaxScaler()\n",
    "s1 = mscaler.fit_transform(pre_blend_df[[\"ensemble\"]])[:, 0]\n",
    "s2 = mscaler.fit_transform(pre_blend_df[[\"blend_trees\"]])[:, 0]"
   ]
  },
  {
   "cell_type": "code",
   "execution_count": 25,
   "id": "a7c4a1fd-7ed2-4284-b3fa-3d4070168ee0",
   "metadata": {},
   "outputs": [],
   "source": [
    "weight = 0.6\n",
    "pre_blend_df[\"tree_ensemble\"] = weight * s1 + (1 - weight) * s2\n",
    "pre_blend_df = pre_blend_df.drop(columns=[\"blend_trees\", \"ensemble\"], errors=\"ignore\")"
   ]
  },
  {
   "cell_type": "code",
   "execution_count": 26,
   "id": "5c2ecdff-2fd0-4545-9ad8-86acc260ab82",
   "metadata": {},
   "outputs": [],
   "source": [
    "mscaler = MinMaxScaler()\n",
    "pre_blend_df[\"exp_ensemble\"] = mscaler.fit_transform(pre_blend_df[[\"exp_ensemble\"]])[:, 0]\n",
    "# pre_blend_df[\"chris\"] = mscaler.fit_transform(pre_blend_df[[\"chris\"]])[:, 0]\n",
    "# pre_blend_df[\"wk\"] = mscaler.fit_transform(pre_blend_df[[\"wk\"]])[:, 0]"
   ]
  },
  {
   "cell_type": "code",
   "execution_count": 18,
   "id": "9a7ad461-2d45-4634-9b80-befd3c28b196",
   "metadata": {},
   "outputs": [
    {
     "data": {
      "text/html": [
       "<div>\n",
       "<style scoped>\n",
       "    .dataframe tbody tr th:only-of-type {\n",
       "        vertical-align: middle;\n",
       "    }\n",
       "\n",
       "    .dataframe tbody tr th {\n",
       "        vertical-align: top;\n",
       "    }\n",
       "\n",
       "    .dataframe thead th {\n",
       "        text-align: right;\n",
       "    }\n",
       "</style>\n",
       "<table border=\"1\" class=\"dataframe\">\n",
       "  <thead>\n",
       "    <tr style=\"text-align: right;\">\n",
       "      <th></th>\n",
       "      <th>wk</th>\n",
       "      <th>chris</th>\n",
       "      <th>exp_ensemble</th>\n",
       "      <th>tree_ensemble</th>\n",
       "      <th>final1</th>\n",
       "    </tr>\n",
       "  </thead>\n",
       "  <tbody>\n",
       "    <tr>\n",
       "      <th>wk</th>\n",
       "      <td>1.000000</td>\n",
       "      <td>0.975540</td>\n",
       "      <td>0.984327</td>\n",
       "      <td>0.996924</td>\n",
       "      <td>0.998123</td>\n",
       "    </tr>\n",
       "    <tr>\n",
       "      <th>chris</th>\n",
       "      <td>0.975540</td>\n",
       "      <td>1.000000</td>\n",
       "      <td>0.979640</td>\n",
       "      <td>0.974753</td>\n",
       "      <td>0.986200</td>\n",
       "    </tr>\n",
       "    <tr>\n",
       "      <th>exp_ensemble</th>\n",
       "      <td>0.984327</td>\n",
       "      <td>0.979640</td>\n",
       "      <td>1.000000</td>\n",
       "      <td>0.989383</td>\n",
       "      <td>0.990883</td>\n",
       "    </tr>\n",
       "    <tr>\n",
       "      <th>tree_ensemble</th>\n",
       "      <td>0.996924</td>\n",
       "      <td>0.974753</td>\n",
       "      <td>0.989383</td>\n",
       "      <td>1.000000</td>\n",
       "      <td>0.997000</td>\n",
       "    </tr>\n",
       "    <tr>\n",
       "      <th>final1</th>\n",
       "      <td>0.998123</td>\n",
       "      <td>0.986200</td>\n",
       "      <td>0.990883</td>\n",
       "      <td>0.997000</td>\n",
       "      <td>1.000000</td>\n",
       "    </tr>\n",
       "  </tbody>\n",
       "</table>\n",
       "</div>"
      ],
      "text/plain": [
       "                     wk     chris  exp_ensemble  tree_ensemble    final1\n",
       "wk             1.000000  0.975540      0.984327       0.996924  0.998123\n",
       "chris          0.975540  1.000000      0.979640       0.974753  0.986200\n",
       "exp_ensemble   0.984327  0.979640      1.000000       0.989383  0.990883\n",
       "tree_ensemble  0.996924  0.974753      0.989383       1.000000  0.997000\n",
       "final1         0.998123  0.986200      0.990883       0.997000  1.000000"
      ]
     },
     "execution_count": 18,
     "metadata": {},
     "output_type": "execute_result"
    }
   ],
   "source": [
    "pre_blend_df.corr()"
   ]
  },
  {
   "cell_type": "code",
   "execution_count": 28,
   "id": "8e458fb5-dcaf-4732-92b0-b0d2bc421470",
   "metadata": {},
   "outputs": [],
   "source": [
    "pre_blend_df[\"final1\"] = (\n",
    "    0.59 * pre_blend_df[\"wk\"] + 0.19 * pre_blend_df[\"chris\"] + 0.09 * pre_blend_df[\"tree_ensemble\"] + 0.13 * pre_blend_df[\"exp_ensemble\"]\n",
    ")"
   ]
  },
  {
   "cell_type": "code",
   "execution_count": 29,
   "id": "9c61aec7-8fae-4bd6-9ce5-d01b091e13d5",
   "metadata": {},
   "outputs": [
    {
     "data": {
      "text/html": [
       "<div>\n",
       "<style scoped>\n",
       "    .dataframe tbody tr th:only-of-type {\n",
       "        vertical-align: middle;\n",
       "    }\n",
       "\n",
       "    .dataframe tbody tr th {\n",
       "        vertical-align: top;\n",
       "    }\n",
       "\n",
       "    .dataframe thead th {\n",
       "        text-align: right;\n",
       "    }\n",
       "</style>\n",
       "<table border=\"1\" class=\"dataframe\">\n",
       "  <thead>\n",
       "    <tr style=\"text-align: right;\">\n",
       "      <th></th>\n",
       "      <th>wk</th>\n",
       "      <th>chris</th>\n",
       "      <th>exp_ensemble</th>\n",
       "      <th>tree_ensemble</th>\n",
       "      <th>final1</th>\n",
       "    </tr>\n",
       "  </thead>\n",
       "  <tbody>\n",
       "    <tr>\n",
       "      <th>count</th>\n",
       "      <td>924621.000000</td>\n",
       "      <td>924621.000000</td>\n",
       "      <td>924621.000000</td>\n",
       "      <td>924621.000000</td>\n",
       "      <td>924621.000000</td>\n",
       "    </tr>\n",
       "    <tr>\n",
       "      <th>mean</th>\n",
       "      <td>0.258294</td>\n",
       "      <td>0.310571</td>\n",
       "      <td>0.327446</td>\n",
       "      <td>0.262652</td>\n",
       "      <td>0.277609</td>\n",
       "    </tr>\n",
       "    <tr>\n",
       "      <th>std</th>\n",
       "      <td>0.355389</td>\n",
       "      <td>0.384566</td>\n",
       "      <td>0.323079</td>\n",
       "      <td>0.337326</td>\n",
       "      <td>0.353231</td>\n",
       "    </tr>\n",
       "    <tr>\n",
       "      <th>min</th>\n",
       "      <td>0.000029</td>\n",
       "      <td>0.000488</td>\n",
       "      <td>0.000000</td>\n",
       "      <td>0.000044</td>\n",
       "      <td>0.000253</td>\n",
       "    </tr>\n",
       "    <tr>\n",
       "      <th>25%</th>\n",
       "      <td>0.002838</td>\n",
       "      <td>0.003902</td>\n",
       "      <td>0.067369</td>\n",
       "      <td>0.017686</td>\n",
       "      <td>0.012903</td>\n",
       "    </tr>\n",
       "    <tr>\n",
       "      <th>50%</th>\n",
       "      <td>0.027534</td>\n",
       "      <td>0.049972</td>\n",
       "      <td>0.195886</td>\n",
       "      <td>0.057532</td>\n",
       "      <td>0.055014</td>\n",
       "    </tr>\n",
       "    <tr>\n",
       "      <th>75%</th>\n",
       "      <td>0.517931</td>\n",
       "      <td>0.712536</td>\n",
       "      <td>0.577492</td>\n",
       "      <td>0.493377</td>\n",
       "      <td>0.559251</td>\n",
       "    </tr>\n",
       "    <tr>\n",
       "      <th>max</th>\n",
       "      <td>0.999887</td>\n",
       "      <td>0.999498</td>\n",
       "      <td>1.000000</td>\n",
       "      <td>0.999606</td>\n",
       "      <td>0.999472</td>\n",
       "    </tr>\n",
       "  </tbody>\n",
       "</table>\n",
       "</div>"
      ],
      "text/plain": [
       "                  wk          chris   exp_ensemble  tree_ensemble  \\\n",
       "count  924621.000000  924621.000000  924621.000000  924621.000000   \n",
       "mean        0.258294       0.310571       0.327446       0.262652   \n",
       "std         0.355389       0.384566       0.323079       0.337326   \n",
       "min         0.000029       0.000488       0.000000       0.000044   \n",
       "25%         0.002838       0.003902       0.067369       0.017686   \n",
       "50%         0.027534       0.049972       0.195886       0.057532   \n",
       "75%         0.517931       0.712536       0.577492       0.493377   \n",
       "max         0.999887       0.999498       1.000000       0.999606   \n",
       "\n",
       "              final1  \n",
       "count  924621.000000  \n",
       "mean        0.277609  \n",
       "std         0.353231  \n",
       "min         0.000253  \n",
       "25%         0.012903  \n",
       "50%         0.055014  \n",
       "75%         0.559251  \n",
       "max         0.999472  "
      ]
     },
     "execution_count": 29,
     "metadata": {},
     "output_type": "execute_result"
    }
   ],
   "source": [
    "pre_blend_df.describe()"
   ]
  },
  {
   "cell_type": "code",
   "execution_count": 20,
   "id": "20b74440-cc41-4838-821d-26b82b2bcc4e",
   "metadata": {},
   "outputs": [
    {
     "data": {
      "text/html": [
       "<div>\n",
       "<style scoped>\n",
       "    .dataframe tbody tr th:only-of-type {\n",
       "        vertical-align: middle;\n",
       "    }\n",
       "\n",
       "    .dataframe tbody tr th {\n",
       "        vertical-align: top;\n",
       "    }\n",
       "\n",
       "    .dataframe thead th {\n",
       "        text-align: right;\n",
       "    }\n",
       "</style>\n",
       "<table border=\"1\" class=\"dataframe\">\n",
       "  <thead>\n",
       "    <tr style=\"text-align: right;\">\n",
       "      <th></th>\n",
       "      <th>wk</th>\n",
       "      <th>chris</th>\n",
       "      <th>exp_ensemble</th>\n",
       "      <th>tree_ensemble</th>\n",
       "      <th>final1</th>\n",
       "    </tr>\n",
       "  </thead>\n",
       "  <tbody>\n",
       "    <tr>\n",
       "      <th>count</th>\n",
       "      <td>924621.000000</td>\n",
       "      <td>924621.000000</td>\n",
       "      <td>924621.000000</td>\n",
       "      <td>924621.000000</td>\n",
       "      <td>924621.000000</td>\n",
       "    </tr>\n",
       "    <tr>\n",
       "      <th>mean</th>\n",
       "      <td>0.258302</td>\n",
       "      <td>0.310391</td>\n",
       "      <td>0.327446</td>\n",
       "      <td>0.262652</td>\n",
       "      <td>0.277579</td>\n",
       "    </tr>\n",
       "    <tr>\n",
       "      <th>std</th>\n",
       "      <td>0.355439</td>\n",
       "      <td>0.384948</td>\n",
       "      <td>0.323079</td>\n",
       "      <td>0.337326</td>\n",
       "      <td>0.353332</td>\n",
       "    </tr>\n",
       "    <tr>\n",
       "      <th>min</th>\n",
       "      <td>0.000000</td>\n",
       "      <td>0.000000</td>\n",
       "      <td>0.000000</td>\n",
       "      <td>0.000044</td>\n",
       "      <td>0.000143</td>\n",
       "    </tr>\n",
       "    <tr>\n",
       "      <th>25%</th>\n",
       "      <td>0.002809</td>\n",
       "      <td>0.003417</td>\n",
       "      <td>0.067369</td>\n",
       "      <td>0.017686</td>\n",
       "      <td>0.012794</td>\n",
       "    </tr>\n",
       "    <tr>\n",
       "      <th>50%</th>\n",
       "      <td>0.027509</td>\n",
       "      <td>0.049533</td>\n",
       "      <td>0.195886</td>\n",
       "      <td>0.057532</td>\n",
       "      <td>0.054915</td>\n",
       "    </tr>\n",
       "    <tr>\n",
       "      <th>75%</th>\n",
       "      <td>0.517976</td>\n",
       "      <td>0.712754</td>\n",
       "      <td>0.577492</td>\n",
       "      <td>0.493377</td>\n",
       "      <td>0.559319</td>\n",
       "    </tr>\n",
       "    <tr>\n",
       "      <th>max</th>\n",
       "      <td>1.000000</td>\n",
       "      <td>1.000000</td>\n",
       "      <td>1.000000</td>\n",
       "      <td>0.999606</td>\n",
       "      <td>0.999634</td>\n",
       "    </tr>\n",
       "  </tbody>\n",
       "</table>\n",
       "</div>"
      ],
      "text/plain": [
       "                  wk          chris   exp_ensemble  tree_ensemble  \\\n",
       "count  924621.000000  924621.000000  924621.000000  924621.000000   \n",
       "mean        0.258302       0.310391       0.327446       0.262652   \n",
       "std         0.355439       0.384948       0.323079       0.337326   \n",
       "min         0.000000       0.000000       0.000000       0.000044   \n",
       "25%         0.002809       0.003417       0.067369       0.017686   \n",
       "50%         0.027509       0.049533       0.195886       0.057532   \n",
       "75%         0.517976       0.712754       0.577492       0.493377   \n",
       "max         1.000000       1.000000       1.000000       0.999606   \n",
       "\n",
       "              final1  \n",
       "count  924621.000000  \n",
       "mean        0.277579  \n",
       "std         0.353332  \n",
       "min         0.000143  \n",
       "25%         0.012794  \n",
       "50%         0.054915  \n",
       "75%         0.559319  \n",
       "max         0.999634  "
      ]
     },
     "execution_count": 20,
     "metadata": {},
     "output_type": "execute_result"
    }
   ],
   "source": [
    "pre_blend_df.describe()"
   ]
  },
  {
   "cell_type": "code",
   "execution_count": 34,
   "id": "450b3480-01df-4e46-8b6b-f71db1ef17de",
   "metadata": {},
   "outputs": [],
   "source": [
    "f = pd.read_csv(f\"{SUBMISSION_DATA_PATH}/gambling6_0.801.csv\")\n",
    "p = f[\"prediction\"]"
   ]
  },
  {
   "cell_type": "code",
   "execution_count": 35,
   "id": "480cf56c-086c-4a44-9a83-0710c687eff5",
   "metadata": {},
   "outputs": [
    {
     "data": {
      "text/plain": [
       "count    924621.000000\n",
       "mean         -0.000033\n",
       "std           0.000034\n",
       "min          -0.000146\n",
       "25%          -0.000054\n",
       "50%          -0.000034\n",
       "75%          -0.000013\n",
       "max           0.000082\n",
       "dtype: float64"
      ]
     },
     "execution_count": 35,
     "metadata": {},
     "output_type": "execute_result"
    }
   ],
   "source": [
    "(pre_blend_df[\"final1\"] - p).describe()"
   ]
  },
  {
   "cell_type": "code",
   "execution_count": 60,
   "id": "70d8e302-514b-4ed0-83a3-ca169d5ad99c",
   "metadata": {},
   "outputs": [],
   "source": [
    "# sub = pd.read_csv(f\"{SUBMISSION_DATA_PATH}/empty.csv\")\n",
    "# sub[\"prediction\"] = pre_blend_df[\"final1\"].values\n",
    "# sub.to_csv(f\"{SUBMISSION_DATA_PATH}/gambling6.csv\", index=False)"
   ]
  },
  {
   "cell_type": "code",
   "execution_count": null,
   "id": "786d299c-3e61-49e0-9570-26d81c42b590",
   "metadata": {},
   "outputs": [],
   "source": []
  }
 ],
 "metadata": {
  "kernelspec": {
   "display_name": "amex",
   "language": "python",
   "name": "amex"
  },
  "language_info": {
   "codemirror_mode": {
    "name": "ipython",
    "version": 3
   },
   "file_extension": ".py",
   "mimetype": "text/x-python",
   "name": "python",
   "nbconvert_exporter": "python",
   "pygments_lexer": "ipython3",
   "version": "3.10.0"
  }
 },
 "nbformat": 4,
 "nbformat_minor": 5
}
