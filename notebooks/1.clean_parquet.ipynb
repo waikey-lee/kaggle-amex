{
 "cells": [
  {
   "cell_type": "code",
   "execution_count": 1,
   "id": "5dd2ca34-3410-4078-aa48-7adbba211ed5",
   "metadata": {},
   "outputs": [],
   "source": [
    "import pandas as pd\n",
    "import matplotlib.pyplot as plt\n",
    "import gc\n",
    "import numpy as np\n",
    "import os\n",
    "import sys\n",
    "import warnings\n",
    "warnings.simplefilter(\"ignore\")\n",
    "warnings.filterwarnings(\"ignore\")\n",
    "from pandarallel import pandarallel\n",
    "from sklearn.metrics import mean_squared_error\n",
    "from sklearn.model_selection import train_test_split\n",
    "from sklearn.neighbors import KNeighborsRegressor\n",
    "from tqdm import tqdm\n",
    "from autoimpute.imputations import SingleImputer, MultipleImputer, MiceImputer"
   ]
  },
  {
   "cell_type": "code",
   "execution_count": 2,
   "id": "92df3e81-2387-417f-bbf6-2185b4d4b42f",
   "metadata": {},
   "outputs": [],
   "source": [
    "from pathlib import Path\n",
    "rootpath = Path.cwd().parent\n",
    "sys.path.append(os.path.join(rootpath))"
   ]
  },
  {
   "cell_type": "code",
   "execution_count": 3,
   "id": "9f28ba09-4781-4ccb-9e2b-897910a9d559",
   "metadata": {},
   "outputs": [],
   "source": [
    "from utils.eval_helpers import (\n",
    "    plot_roc_curves, plot_feature_importance, \n",
    "    amex_metric, get_final_metric_df, amex_metric_np, lgb_amex_metric\n",
    ")\n",
    "from utils.eda_helpers import (\n",
    "    plot_missing_proportion_barchart, get_cols, plot_scatterplot, single_col_target_check\n",
    ")\n",
    "from utils.extraction_helpers import read_file\n",
    "from utils.feature_group import (\n",
    "    CATEGORY_COLUMNS, CONTINUOUS_COLUMNS, BINARY_COLUMNS, ROUND_COLUMNS,\n",
    "    MEAN_FEATURES, MIN_FEATURES, MAX_FEATURES, LAST_FEATURES, NON_FEATURE_COLUMNS\n",
    ")\n",
    "from utils.constants import (\n",
    "    PROCESSED_DATA_PATH\n",
    ")"
   ]
  },
  {
   "cell_type": "code",
   "execution_count": 4,
   "id": "08cce559-a615-41c7-9d81-0a5e7b981931",
   "metadata": {},
   "outputs": [],
   "source": [
    "RAW_DATA_PATH = \"../raw_data\"\n",
    "PROCESSED_DATA_PATH = \"../processed_data\"\n",
    "SUBMISSION_DATA_PATH = \"../submissions\"\n",
    "EVALUATION_DATA_PATH = \"../evaluation_data\"\n",
    "MODELS_PATH = \"../models\""
   ]
  },
  {
   "cell_type": "code",
   "execution_count": 5,
   "id": "c269d752-15ce-49c1-9df5-6d7aa99bb23c",
   "metadata": {},
   "outputs": [],
   "source": [
    "RAW_TRAIN_PARQUET_PATH = os.path.join(RAW_DATA_PATH, \"train_parquet\")\n",
    "RAW_TRAIN_PICKLE_PATH = os.path.join(RAW_DATA_PATH, \"train_pickle\")\n",
    "RAW_TEST_PARQUET_PATH = os.path.join(RAW_DATA_PATH, \"test_parquet\")\n",
    "RAW_TEST_PICKLE_PATH = os.path.join(RAW_DATA_PATH, \"test_pickle\")"
   ]
  },
  {
   "cell_type": "code",
   "execution_count": 6,
   "id": "67194602-57fc-4e92-9801-8d600e52a5b2",
   "metadata": {},
   "outputs": [],
   "source": [
    "%load_ext autoreload\n",
    "%autoreload"
   ]
  },
  {
   "cell_type": "markdown",
   "id": "3885beac-e245-43b6-a2cc-73e9f871d132",
   "metadata": {},
   "source": [
    "### Read Data"
   ]
  },
  {
   "cell_type": "code",
   "execution_count": 7,
   "id": "731a013f-258f-49c1-b4e2-4c5fa0735d71",
   "metadata": {},
   "outputs": [
    {
     "name": "stdout",
     "output_type": "stream",
     "text": [
      "Shape of data: (5531451, 190)\n",
      "Shape of data: (11363762, 190)\n",
      "CPU times: user 16 s, sys: 16.4 s, total: 32.4 s\n",
      "Wall time: 21.9 s\n"
     ]
    }
   ],
   "source": [
    "%%time\n",
    "train = read_file(f\"{RAW_TRAIN_PARQUET_PATH}/train.parquet\")\n",
    "test = read_file(f\"{RAW_TEST_PARQUET_PATH}/test.parquet\")"
   ]
  },
  {
   "cell_type": "code",
   "execution_count": 8,
   "id": "f67603bc-4113-455c-b18e-a878003108e4",
   "metadata": {},
   "outputs": [],
   "source": [
    "labels = pd.read_csv(f\"{RAW_DATA_PATH}/train_labels.csv\")"
   ]
  },
  {
   "cell_type": "code",
   "execution_count": 9,
   "id": "bf30ad4a-4419-4517-9f0b-6f1a749b0628",
   "metadata": {},
   "outputs": [],
   "source": [
    "train = train.merge(labels, on=\"customer_ID\", how=\"left\")"
   ]
  },
  {
   "cell_type": "markdown",
   "id": "f20099e5-a154-4f89-8106-1e2559d354fb",
   "metadata": {},
   "source": [
    "#### Fix category columns"
   ]
  },
  {
   "cell_type": "code",
   "execution_count": 10,
   "id": "c215c856-ddc1-4662-a62e-bc3b6cdf1f51",
   "metadata": {},
   "outputs": [],
   "source": [
    "train.loc[:, CATEGORY_COLUMNS] = train.loc[:, CATEGORY_COLUMNS].astype(\"category\")\n",
    "test.loc[:, CATEGORY_COLUMNS] = test.loc[:, CATEGORY_COLUMNS].astype(\"category\")"
   ]
  },
  {
   "cell_type": "code",
   "execution_count": 11,
   "id": "29c9e846-83f8-4d72-a29a-a6c0257b49e8",
   "metadata": {},
   "outputs": [
    {
     "name": "stdout",
     "output_type": "stream",
     "text": [
      "D_64\n",
      "D_68\n"
     ]
    }
   ],
   "source": [
    "for col in CATEGORY_COLUMNS:\n",
    "    if train[col].dtype != test[col].dtype:\n",
    "        print(col)"
   ]
  },
  {
   "cell_type": "markdown",
   "id": "a014ee2f-9f2e-4fcb-8d25-52c685bb47d6",
   "metadata": {},
   "source": [
    "#### D_64"
   ]
  },
  {
   "cell_type": "code",
   "execution_count": null,
   "id": "5651ad99-2963-4777-bbbc-10ab475ebf00",
   "metadata": {},
   "outputs": [],
   "source": [
    "train[\"D_64\"].value_counts(normalize=True)"
   ]
  },
  {
   "cell_type": "code",
   "execution_count": null,
   "id": "51b560ed-4c3b-4fb2-8e26-27c84977f8ba",
   "metadata": {},
   "outputs": [],
   "source": [
    "test[\"D_64\"].value_counts(normalize=True)"
   ]
  },
  {
   "cell_type": "code",
   "execution_count": null,
   "id": "c966b495-87db-4d37-9212-4d7b3ce986ee",
   "metadata": {},
   "outputs": [],
   "source": [
    "train[\"D_64\"].isnull().sum(), test[\"D_64\"].isnull().sum()"
   ]
  },
  {
   "cell_type": "code",
   "execution_count": null,
   "id": "d85123c9-4004-439d-a968-3d1295080e25",
   "metadata": {},
   "outputs": [],
   "source": [
    "train[\"D_64\"] = train[\"D_64\"].replace(1, -1).astype(\"category\")"
   ]
  },
  {
   "cell_type": "markdown",
   "id": "821825e2-d303-45a9-a2c1-0dc9b2332f4c",
   "metadata": {},
   "source": [
    "#### D_68"
   ]
  },
  {
   "cell_type": "code",
   "execution_count": null,
   "id": "d42b9c5c-198b-48c2-aca2-7204956ab05a",
   "metadata": {},
   "outputs": [],
   "source": [
    "train[\"D_68\"].value_counts(normalize=True)"
   ]
  },
  {
   "cell_type": "code",
   "execution_count": null,
   "id": "7b2d24e3-a3f8-4f08-a638-a0b9062200da",
   "metadata": {},
   "outputs": [],
   "source": [
    "test[\"D_68\"].value_counts(normalize=True)"
   ]
  },
  {
   "cell_type": "code",
   "execution_count": null,
   "id": "c529a8d2-828b-406a-b61b-c5b27d5c527b",
   "metadata": {},
   "outputs": [],
   "source": [
    "train.groupby(\"D_68\")[\"target\"].mean()"
   ]
  },
  {
   "cell_type": "markdown",
   "id": "97018b5d-b8bc-42b9-933c-24458560bc56",
   "metadata": {},
   "source": [
    "* 0 similar to 6, encode as 6"
   ]
  },
  {
   "cell_type": "code",
   "execution_count": null,
   "id": "b96cbbb6-c977-4574-9ac2-9486ca4b41f7",
   "metadata": {},
   "outputs": [],
   "source": [
    "train[\"D_68\"] = train[\"D_68\"].replace(0, 6).astype(\"category\")"
   ]
  },
  {
   "cell_type": "markdown",
   "id": "4b9407f5-8fd8-47ca-ae36-5f36e75012f3",
   "metadata": {},
   "source": [
    "### Insert row_number"
   ]
  },
  {
   "cell_type": "code",
   "execution_count": null,
   "id": "b63d62b6-79d3-4ea5-b90d-c6924344a31a",
   "metadata": {},
   "outputs": [],
   "source": [
    "def insert_row_number(df):\n",
    "    if \"row_number_inv\" not in df.columns:\n",
    "        df.insert(1, \"row_number_inv\", df.groupby(\"customer_ID\")[\"S_2\"].rank(method=\"first\", ascending=True).astype(int))\n",
    "    if \"row_number\" not in df.columns:\n",
    "        df.insert(1, \"row_number\", df.groupby(\"customer_ID\")[\"S_2\"].rank(method=\"first\", ascending=False).astype(int))\n",
    "    print(\"Done insertion\")"
   ]
  },
  {
   "cell_type": "code",
   "execution_count": null,
   "id": "c4bcaec6-9722-4ed0-b132-215200bc6174",
   "metadata": {},
   "outputs": [],
   "source": [
    "insert_row_number(train)"
   ]
  },
  {
   "cell_type": "code",
   "execution_count": null,
   "id": "9023d365-18d8-45cd-b020-4cd1c619c6ed",
   "metadata": {},
   "outputs": [],
   "source": [
    "train.head(3)"
   ]
  },
  {
   "cell_type": "code",
   "execution_count": null,
   "id": "b3d54ab4-beeb-4449-948b-7af31d5124e7",
   "metadata": {},
   "outputs": [],
   "source": [
    "insert_row_number(test)"
   ]
  },
  {
   "cell_type": "code",
   "execution_count": null,
   "id": "378cc559-a97f-44f8-8558-cc6799d43955",
   "metadata": {},
   "outputs": [],
   "source": [
    "test.head(3)"
   ]
  },
  {
   "cell_type": "code",
   "execution_count": null,
   "id": "f81f34ff-af75-41fb-916b-f509885b2728",
   "metadata": {},
   "outputs": [],
   "source": [
    "train.shape, test.shape"
   ]
  },
  {
   "cell_type": "markdown",
   "id": "104bd9d6-b152-47b6-a3ab-71ea0f013f13",
   "metadata": {},
   "source": [
    "### Impute D_88"
   ]
  },
  {
   "cell_type": "code",
   "execution_count": null,
   "id": "0b3f993b-9152-4eba-a0ba-207976d7f3db",
   "metadata": {},
   "outputs": [],
   "source": [
    "train[\"D_88\"] = train[\"D_88\"].fillna(0)\n",
    "test[\"D_88\"] = test[\"D_88\"].fillna(0)"
   ]
  },
  {
   "cell_type": "markdown",
   "id": "53475f30-1b3e-4a3c-8304-dbeaf21927ea",
   "metadata": {},
   "source": [
    "### Export data out"
   ]
  },
  {
   "cell_type": "code",
   "execution_count": null,
   "id": "b9dff4a4-e398-4b93-a887-e3b3ba336bdb",
   "metadata": {},
   "outputs": [],
   "source": [
    "train.to_pickle(f\"{RAW_TRAIN_PICKLE_PATH}/train_data.pkl\")\n",
    "test.to_pickle(f\"{RAW_TEST_PICKLE_PATH}/test_data.pkl\")"
   ]
  },
  {
   "cell_type": "code",
   "execution_count": null,
   "id": "b8cf571f-e361-43e3-85b7-5c8f697358eb",
   "metadata": {},
   "outputs": [],
   "source": []
  }
 ],
 "metadata": {
  "kernelspec": {
   "display_name": "amex",
   "language": "python",
   "name": "amex"
  },
  "language_info": {
   "codemirror_mode": {
    "name": "ipython",
    "version": 3
   },
   "file_extension": ".py",
   "mimetype": "text/x-python",
   "name": "python",
   "nbconvert_exporter": "python",
   "pygments_lexer": "ipython3",
   "version": "3.10.0"
  }
 },
 "nbformat": 4,
 "nbformat_minor": 5
}
