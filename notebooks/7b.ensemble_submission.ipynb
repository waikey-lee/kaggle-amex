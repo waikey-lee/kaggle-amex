{
 "cells": [
  {
   "cell_type": "code",
   "execution_count": 4,
   "id": "5dd2ca34-3410-4078-aa48-7adbba211ed5",
   "metadata": {},
   "outputs": [],
   "source": [
    "import gc\n",
    "import joblib\n",
    "import matplotlib.pyplot as plt\n",
    "import pandas as pd\n",
    "import numpy as np\n",
    "import os\n",
    "import sys\n",
    "sys.path.append(\"../\")\n",
    "import time\n",
    "import warnings\n",
    "warnings.simplefilter(\"ignore\")\n",
    "from lightgbm import LGBMClassifier\n",
    "from sklearn.preprocessing import MinMaxScaler\n",
    "from sklearn.model_selection import train_test_split\n",
    "from sklearn.metrics import roc_auc_score, fbeta_score, make_scorer\n",
    "from tqdm import tqdm"
   ]
  },
  {
   "cell_type": "code",
   "execution_count": 15,
   "id": "88e773c8-793b-4771-85d2-80ad4e905510",
   "metadata": {},
   "outputs": [],
   "source": [
    "from utils.common import sigmoid, reverse_sigmoid\n",
    "from utils.constants import *\n",
    "from utils.extraction_helpers import read_file"
   ]
  },
  {
   "cell_type": "code",
   "execution_count": 16,
   "id": "e4698b61-dcd2-43c3-b5e3-cd5a350b5e4a",
   "metadata": {},
   "outputs": [
    {
     "name": "stdout",
     "output_type": "stream",
     "text": [
      "The autoreload extension is already loaded. To reload it, use:\n",
      "  %reload_ext autoreload\n"
     ]
    }
   ],
   "source": [
    "%load_ext autoreload\n",
    "%autoreload"
   ]
  },
  {
   "cell_type": "markdown",
   "id": "884ad3df-d4d2-4c01-9066-8f6e70514295",
   "metadata": {},
   "source": [
    "### Read Data"
   ]
  },
  {
   "cell_type": "code",
   "execution_count": 19,
   "id": "f542dc61-c076-4512-9a13-6a028ed5834f",
   "metadata": {},
   "outputs": [
    {
     "name": "stdout",
     "output_type": "stream",
     "text": [
      "Shape of data: (924621, 2)\n",
      "Shape of data: (924621, 2)\n",
      "Shape of data: (924621, 2)\n",
      "Shape of data: (924621, 2)\n",
      "Shape of data: (924621, 2)\n"
     ]
    }
   ],
   "source": [
    "chris  = read_file(f\"{SUBMISSION_DATA_PATH}/sorted_chris.csv\")\n",
    "waikey = read_file(f\"{SUBMISSION_DATA_PATH}/wk_seed_6666.csv\")\n",
    "ensemble = read_file(f\"{SUBMISSION_DATA_PATH}/others_ensemble.csv\")\n",
    "exp_ensemble = read_file(f\"{SUBMISSION_DATA_PATH}/others_exponential_ensemble.csv\")\n",
    "blend_trees = read_file(f\"{SUBMISSION_DATA_PATH}/others_blend_boosted_tree.csv\")"
   ]
  },
  {
   "cell_type": "code",
   "execution_count": 39,
   "id": "2deaa3db-da69-4f4d-8755-d461a410c0ad",
   "metadata": {},
   "outputs": [],
   "source": [
    "waikey[\"sigmoid_prediction\"] = waikey[\"prediction\"].apply(sigmoid)"
   ]
  },
  {
   "cell_type": "code",
   "execution_count": 36,
   "id": "b5f1f55c-55ad-4911-a424-c936f1182d9f",
   "metadata": {},
   "outputs": [],
   "source": [
    "chris[\"reverse_sigmoid_prediction\"] = chris[\"prediction\"].apply(reverse_sigmoid)\n",
    "ensemble[\"reverse_sigmoid_prediction\"] = ensemble[\"prediction\"].apply(reverse_sigmoid)\n",
    "exp_ensemble[\"reverse_sigmoid_prediction\"] = exp_ensemble[\"prediction\"].apply(reverse_sigmoid)\n",
    "blend_trees[\"reverse_sigmoid_prediction\"] = blend_trees[\"prediction\"].apply(reverse_sigmoid)"
   ]
  },
  {
   "cell_type": "code",
   "execution_count": 44,
   "id": "e63b0be6-5102-441e-8801-52eabe0d72d2",
   "metadata": {},
   "outputs": [],
   "source": [
    "pre_blend_df = pd.DataFrame(\n",
    "    dict(\n",
    "        wk=waikey[\"sigmoid_prediction\"],\n",
    "        chris=chris[\"prediction\"],\n",
    "        ensemble=ensemble[\"prediction\"],\n",
    "        exp_ensemble=exp_ensemble[\"prediction\"],\n",
    "        blend_trees=blend_trees[\"prediction\"]\n",
    "    )\n",
    ")"
   ]
  },
  {
   "cell_type": "code",
   "execution_count": 55,
   "id": "5b4c2680-b1e1-41d8-8eb5-88f3b48407c1",
   "metadata": {},
   "outputs": [],
   "source": [
    "mscaler = MinMaxScaler()\n",
    "s1 = mscaler.fit_transform(pre_blend_df[[\"ensemble\"]])[:, 0]\n",
    "s2 = mscaler.fit_transform(pre_blend_df[[\"blend_trees\"]])[:, 0]"
   ]
  },
  {
   "cell_type": "code",
   "execution_count": 57,
   "id": "a2db5573-bdac-422d-a8a2-ace23254e3eb",
   "metadata": {},
   "outputs": [],
   "source": [
    "pre_blend_df[\"tree_ensemble\"] = 0.5 * (s1 + s2)"
   ]
  },
  {
   "cell_type": "code",
   "execution_count": 59,
   "id": "11cfdf2b-e0dd-4837-87f3-c328136ee007",
   "metadata": {},
   "outputs": [],
   "source": [
    "pre_blend_df = pre_blend_df.drop(columns=[\"blend_trees\", \"ensemble\"], errors=\"ignore\")"
   ]
  },
  {
   "cell_type": "code",
   "execution_count": 66,
   "id": "30ac7e51-e017-4635-bf3d-fda92961cc9f",
   "metadata": {},
   "outputs": [],
   "source": [
    "mscaler = MinMaxScaler()\n",
    "pre_blend_df[\"exp_ensemble\"] = mscaler.fit_transform(pre_blend_df[[\"exp_ensemble\"]])[:, 0]"
   ]
  },
  {
   "cell_type": "code",
   "execution_count": 67,
   "id": "877ffb83-f827-47fe-805e-1fc043cbdf4e",
   "metadata": {},
   "outputs": [
    {
     "data": {
      "text/html": [
       "<div>\n",
       "<style scoped>\n",
       "    .dataframe tbody tr th:only-of-type {\n",
       "        vertical-align: middle;\n",
       "    }\n",
       "\n",
       "    .dataframe tbody tr th {\n",
       "        vertical-align: top;\n",
       "    }\n",
       "\n",
       "    .dataframe thead th {\n",
       "        text-align: right;\n",
       "    }\n",
       "</style>\n",
       "<table border=\"1\" class=\"dataframe\">\n",
       "  <thead>\n",
       "    <tr style=\"text-align: right;\">\n",
       "      <th></th>\n",
       "      <th>wk</th>\n",
       "      <th>chris</th>\n",
       "      <th>exp_ensemble</th>\n",
       "      <th>tree_ensemble</th>\n",
       "    </tr>\n",
       "  </thead>\n",
       "  <tbody>\n",
       "    <tr>\n",
       "      <th>wk</th>\n",
       "      <td>1.000000</td>\n",
       "      <td>0.975540</td>\n",
       "      <td>0.984327</td>\n",
       "      <td>0.996770</td>\n",
       "    </tr>\n",
       "    <tr>\n",
       "      <th>chris</th>\n",
       "      <td>0.975540</td>\n",
       "      <td>1.000000</td>\n",
       "      <td>0.979640</td>\n",
       "      <td>0.975682</td>\n",
       "    </tr>\n",
       "    <tr>\n",
       "      <th>exp_ensemble</th>\n",
       "      <td>0.984327</td>\n",
       "      <td>0.979640</td>\n",
       "      <td>1.000000</td>\n",
       "      <td>0.990506</td>\n",
       "    </tr>\n",
       "    <tr>\n",
       "      <th>tree_ensemble</th>\n",
       "      <td>0.996770</td>\n",
       "      <td>0.975682</td>\n",
       "      <td>0.990506</td>\n",
       "      <td>1.000000</td>\n",
       "    </tr>\n",
       "  </tbody>\n",
       "</table>\n",
       "</div>"
      ],
      "text/plain": [
       "                     wk     chris  exp_ensemble  tree_ensemble\n",
       "wk             1.000000  0.975540      0.984327       0.996770\n",
       "chris          0.975540  1.000000      0.979640       0.975682\n",
       "exp_ensemble   0.984327  0.979640      1.000000       0.990506\n",
       "tree_ensemble  0.996770  0.975682      0.990506       1.000000"
      ]
     },
     "execution_count": 67,
     "metadata": {},
     "output_type": "execute_result"
    }
   ],
   "source": [
    "pre_blend_df.corr()"
   ]
  },
  {
   "cell_type": "code",
   "execution_count": 73,
   "id": "ad17c636-6900-4392-a22b-2bf770045eec",
   "metadata": {},
   "outputs": [],
   "source": [
    "ori_columns = pre_blend_df.columns.tolist()"
   ]
  },
  {
   "cell_type": "code",
   "execution_count": 76,
   "id": "9859e5de-3fde-46c4-b20f-ba39f356c069",
   "metadata": {},
   "outputs": [],
   "source": [
    "pre_blend_df[\"simple_average\"] = pre_blend_df[ori_columns].mean(axis=1)"
   ]
  },
  {
   "cell_type": "code",
   "execution_count": 77,
   "id": "3c3aee5f-9596-4826-9f24-887f579ebcd8",
   "metadata": {},
   "outputs": [
    {
     "data": {
      "text/html": [
       "<div>\n",
       "<style scoped>\n",
       "    .dataframe tbody tr th:only-of-type {\n",
       "        vertical-align: middle;\n",
       "    }\n",
       "\n",
       "    .dataframe tbody tr th {\n",
       "        vertical-align: top;\n",
       "    }\n",
       "\n",
       "    .dataframe thead th {\n",
       "        text-align: right;\n",
       "    }\n",
       "</style>\n",
       "<table border=\"1\" class=\"dataframe\">\n",
       "  <thead>\n",
       "    <tr style=\"text-align: right;\">\n",
       "      <th></th>\n",
       "      <th>wk</th>\n",
       "      <th>chris</th>\n",
       "      <th>exp_ensemble</th>\n",
       "      <th>tree_ensemble</th>\n",
       "      <th>simple_average</th>\n",
       "    </tr>\n",
       "  </thead>\n",
       "  <tbody>\n",
       "    <tr>\n",
       "      <th>0</th>\n",
       "      <td>0.017929</td>\n",
       "      <td>0.050863</td>\n",
       "      <td>0.203048</td>\n",
       "      <td>0.069515</td>\n",
       "      <td>0.085339</td>\n",
       "    </tr>\n",
       "    <tr>\n",
       "      <th>1</th>\n",
       "      <td>0.000551</td>\n",
       "      <td>0.001664</td>\n",
       "      <td>0.019959</td>\n",
       "      <td>0.005645</td>\n",
       "      <td>0.006955</td>\n",
       "    </tr>\n",
       "    <tr>\n",
       "      <th>2</th>\n",
       "      <td>0.031305</td>\n",
       "      <td>0.027053</td>\n",
       "      <td>0.208046</td>\n",
       "      <td>0.071866</td>\n",
       "      <td>0.084568</td>\n",
       "    </tr>\n",
       "    <tr>\n",
       "      <th>3</th>\n",
       "      <td>0.206866</td>\n",
       "      <td>0.688397</td>\n",
       "      <td>0.366104</td>\n",
       "      <td>0.235737</td>\n",
       "      <td>0.374276</td>\n",
       "    </tr>\n",
       "    <tr>\n",
       "      <th>4</th>\n",
       "      <td>0.883933</td>\n",
       "      <td>0.949558</td>\n",
       "      <td>0.872776</td>\n",
       "      <td>0.861400</td>\n",
       "      <td>0.891917</td>\n",
       "    </tr>\n",
       "    <tr>\n",
       "      <th>...</th>\n",
       "      <td>...</td>\n",
       "      <td>...</td>\n",
       "      <td>...</td>\n",
       "      <td>...</td>\n",
       "      <td>...</td>\n",
       "    </tr>\n",
       "    <tr>\n",
       "      <th>924616</th>\n",
       "      <td>0.014923</td>\n",
       "      <td>0.045180</td>\n",
       "      <td>0.121147</td>\n",
       "      <td>0.042261</td>\n",
       "      <td>0.055878</td>\n",
       "    </tr>\n",
       "    <tr>\n",
       "      <th>924617</th>\n",
       "      <td>0.893580</td>\n",
       "      <td>0.931766</td>\n",
       "      <td>0.842889</td>\n",
       "      <td>0.820062</td>\n",
       "      <td>0.872074</td>\n",
       "    </tr>\n",
       "    <tr>\n",
       "      <th>924618</th>\n",
       "      <td>0.449637</td>\n",
       "      <td>0.717965</td>\n",
       "      <td>0.570566</td>\n",
       "      <td>0.486275</td>\n",
       "      <td>0.556110</td>\n",
       "    </tr>\n",
       "    <tr>\n",
       "      <th>924619</th>\n",
       "      <td>0.285664</td>\n",
       "      <td>0.552849</td>\n",
       "      <td>0.415526</td>\n",
       "      <td>0.289983</td>\n",
       "      <td>0.386005</td>\n",
       "    </tr>\n",
       "    <tr>\n",
       "      <th>924620</th>\n",
       "      <td>0.039886</td>\n",
       "      <td>0.135471</td>\n",
       "      <td>0.245489</td>\n",
       "      <td>0.103185</td>\n",
       "      <td>0.131008</td>\n",
       "    </tr>\n",
       "  </tbody>\n",
       "</table>\n",
       "<p>924621 rows × 5 columns</p>\n",
       "</div>"
      ],
      "text/plain": [
       "              wk     chris  exp_ensemble  tree_ensemble  simple_average\n",
       "0       0.017929  0.050863      0.203048       0.069515        0.085339\n",
       "1       0.000551  0.001664      0.019959       0.005645        0.006955\n",
       "2       0.031305  0.027053      0.208046       0.071866        0.084568\n",
       "3       0.206866  0.688397      0.366104       0.235737        0.374276\n",
       "4       0.883933  0.949558      0.872776       0.861400        0.891917\n",
       "...          ...       ...           ...            ...             ...\n",
       "924616  0.014923  0.045180      0.121147       0.042261        0.055878\n",
       "924617  0.893580  0.931766      0.842889       0.820062        0.872074\n",
       "924618  0.449637  0.717965      0.570566       0.486275        0.556110\n",
       "924619  0.285664  0.552849      0.415526       0.289983        0.386005\n",
       "924620  0.039886  0.135471      0.245489       0.103185        0.131008\n",
       "\n",
       "[924621 rows x 5 columns]"
      ]
     },
     "execution_count": 77,
     "metadata": {},
     "output_type": "execute_result"
    }
   ],
   "source": [
    "pre_blend_df"
   ]
  },
  {
   "cell_type": "code",
   "execution_count": null,
   "id": "d4826959-ecee-4ef9-9370-1206acd0d30f",
   "metadata": {},
   "outputs": [],
   "source": [
    "sub = pd.read_csv(f\"{SUBMISSION_DATA_PATH}/empty.csv\")\n",
    "sub[\"prediction\"] = 0.55 * pre_blend_df[\"wk\"] + 0.15 * (pre_blend_df[\"chris\"] + pre_blend_df[\"tree_ensemble\"] + pre_blend_df[\"exp_ensemble\"])\n",
    "sub.to_csv(f\"{SUBMISSION_DATA_PATH}/gambling1.csv\", index=False)"
   ]
  },
  {
   "cell_type": "code",
   "execution_count": 69,
   "id": "88c6ad34-58a2-452c-bc29-7a4dae55813a",
   "metadata": {},
   "outputs": [
    {
     "data": {
      "image/png": "[encoded data removed]",
      "text/plain": [
       "<Figure size 864x864 with 1 Axes>"
      ]
     },
     "metadata": {
      "needs_background": "light"
     },
     "output_type": "display_data"
    }
   ],
   "source": [
    "fig, ax = plt.subplots(figsize=(12, 12))\n",
    "# plt.plot(np.arange(0, 1, 0.01), np.arange(0, 1, 0.01), color=\"orange\", linestyle=\"-\")\n",
    "# plt.xlabel(\"WK Blend\")\n",
    "# plt.ylabel(\"Chris best NN\")\n",
    "plt.scatter(pre_blend_df[\"wk\"], pre_blend_df[\"tree_ensemble\"])\n",
    "plt.scatter(pre_blend_df[\"wk\"], pre_blend_df[\"chris\"])\n",
    "plt.scatter(pre_blend_df[\"wk\"], pre_blend_df[\"exp_ensemble\"])\n",
    "# plt.scatter(ensemble[\"prediction\"], blend_trees[\"prediction\"])\n",
    "# plt.scatter(s1, s3)\n",
    "plt.show()"
   ]
  },
  {
   "cell_type": "code",
   "execution_count": 47,
   "id": "43a5797b-2f7a-4107-9dd4-03652f1acf73",
   "metadata": {},
   "outputs": [],
   "source": [
    "# result_sub1 = pd.read_csv(f\"{SUBMISSION_DATA_PATH}/submission105_blend_with_4seeds_hope_for_0.801_again.csv\")\n",
    "# result_sub1[\"prediction\"] = result_sub1[\"prediction\"].apply(reverse_sigmoid)"
   ]
  },
  {
   "cell_type": "code",
   "execution_count": 48,
   "id": "c098854d-9975-4268-8567-ff70bb2bd8c4",
   "metadata": {},
   "outputs": [],
   "source": [
    "# result_sub2 = pd.read_csv(f\"{SUBMISSION_DATA_PATH}/chris_nn_0.7933788_custom_embed.csv\")\n",
    "# result_sub2 = result_sub2.sort_values(by=\"customer_ID\").reset_index(drop=True)\n",
    "result_sub2[\"prediction\"] = result_sub2[\"prediction\"].apply(reverse_sigmoid)"
   ]
  },
  {
   "cell_type": "code",
   "execution_count": 54,
   "id": "7b913c21-1955-45c4-a426-1c5ce68666da",
   "metadata": {},
   "outputs": [],
   "source": [
    "# result_sub2[\"prediction\"] = pd.Series(s2).apply(sigmoid)"
   ]
  },
  {
   "cell_type": "code",
   "execution_count": 55,
   "id": "7ec2696b-bff4-42a4-b03a-c6d97a22f4ec",
   "metadata": {},
   "outputs": [],
   "source": [
    "# result_sub1[\"prediction\"] = np.where(result_sub1[\"prediction\"] > 15, 10, result_sub1[\"prediction\"])\n",
    "# result_sub1[\"prediction\"] = np.where(result_sub1[\"prediction\"] < -15, -10, result_sub1[\"prediction\"])"
   ]
  },
  {
   "cell_type": "code",
   "execution_count": 62,
   "id": "475e4b55-622c-443a-a33e-14d7dec65b0f",
   "metadata": {},
   "outputs": [
    {
     "data": {
      "image/png": "[encoded data removed]",
      "text/plain": [
       "<Figure size 864x864 with 1 Axes>"
      ]
     },
     "metadata": {
      "needs_background": "light"
     },
     "output_type": "display_data"
    }
   ],
   "source": []
  },
  {
   "cell_type": "code",
   "execution_count": 68,
   "id": "081426d8-56ea-4ef6-899e-0363fc18c047",
   "metadata": {},
   "outputs": [],
   "source": [
    "sub = pd.read_csv(f\"{SUBMISSION_DATA_PATH}/empty.csv\")"
   ]
  },
  {
   "cell_type": "code",
   "execution_count": 69,
   "id": "f3b1e337-6f40-409c-b5df-4951e3189ffb",
   "metadata": {},
   "outputs": [],
   "source": [
    "sub[\"prediction\"] = (\n",
    "    0.53 * result_sub1[\"prediction\"] + 0.13 * result_sub2[\"prediction\"] \n",
    "    + 0.13 * result_sub3[\"prediction\"] + 0.21 * result_sub4[\"prediction\"]\n",
    ")"
   ]
  },
  {
   "cell_type": "code",
   "execution_count": 70,
   "id": "cf2d22be-e714-4332-af06-7faaf6b63c9e",
   "metadata": {},
   "outputs": [],
   "source": [
    "sub.to_csv(f\"{SUBMISSION_DATA_PATH}/submission_blend_my_team_best_with_exponential_ensemble_5th.csv\", index=False)"
   ]
  },
  {
   "cell_type": "code",
   "execution_count": 67,
   "id": "c513f159-f67d-4719-98a0-b67e9d8ae7a9",
   "metadata": {},
   "outputs": [],
   "source": [
    "# np.corrcoef(sub[\"me\"], sub[\"other\"])"
   ]
  },
  {
   "cell_type": "code",
   "execution_count": 60,
   "id": "993cba76-aae6-4897-bea4-0f34b2fb2403",
   "metadata": {},
   "outputs": [
    {
     "data": {
      "text/html": [
       "<div>\n",
       "<style scoped>\n",
       "    .dataframe tbody tr th:only-of-type {\n",
       "        vertical-align: middle;\n",
       "    }\n",
       "\n",
       "    .dataframe tbody tr th {\n",
       "        vertical-align: top;\n",
       "    }\n",
       "\n",
       "    .dataframe thead th {\n",
       "        text-align: right;\n",
       "    }\n",
       "</style>\n",
       "<table border=\"1\" class=\"dataframe\">\n",
       "  <thead>\n",
       "    <tr style=\"text-align: right;\">\n",
       "      <th></th>\n",
       "      <th>me</th>\n",
       "      <th>other</th>\n",
       "    </tr>\n",
       "  </thead>\n",
       "  <tbody>\n",
       "    <tr>\n",
       "      <th>count</th>\n",
       "      <td>924621.000000</td>\n",
       "      <td>924621.000000</td>\n",
       "    </tr>\n",
       "    <tr>\n",
       "      <th>mean</th>\n",
       "      <td>-2.940645</td>\n",
       "      <td>-1.208755</td>\n",
       "    </tr>\n",
       "    <tr>\n",
       "      <th>std</th>\n",
       "      <td>3.575642</td>\n",
       "      <td>1.337941</td>\n",
       "    </tr>\n",
       "    <tr>\n",
       "      <th>min</th>\n",
       "      <td>-10.053445</td>\n",
       "      <td>-3.184661</td>\n",
       "    </tr>\n",
       "    <tr>\n",
       "      <th>25%</th>\n",
       "      <td>-5.984249</td>\n",
       "      <td>-2.302388</td>\n",
       "    </tr>\n",
       "    <tr>\n",
       "      <th>50%</th>\n",
       "      <td>-3.704030</td>\n",
       "      <td>-1.459412</td>\n",
       "    </tr>\n",
       "    <tr>\n",
       "      <th>75%</th>\n",
       "      <td>-0.120470</td>\n",
       "      <td>-0.086237</td>\n",
       "    </tr>\n",
       "    <tr>\n",
       "      <th>max</th>\n",
       "      <td>8.281089</td>\n",
       "      <td>1.382695</td>\n",
       "    </tr>\n",
       "  </tbody>\n",
       "</table>\n",
       "</div>"
      ],
      "text/plain": [
       "                  me          other\n",
       "count  924621.000000  924621.000000\n",
       "mean       -2.940645      -1.208755\n",
       "std         3.575642       1.337941\n",
       "min       -10.053445      -3.184661\n",
       "25%        -5.984249      -2.302388\n",
       "50%        -3.704030      -1.459412\n",
       "75%        -0.120470      -0.086237\n",
       "max         8.281089       1.382695"
      ]
     },
     "execution_count": 60,
     "metadata": {},
     "output_type": "execute_result"
    }
   ],
   "source": [
    "sub.describe()"
   ]
  },
  {
   "cell_type": "code",
   "execution_count": 61,
   "id": "b46d0936-652c-4150-9ad0-f6bbf08a1351",
   "metadata": {},
   "outputs": [
    {
     "data": {
      "text/plain": [
       "array([[1.       , 0.9895066],\n",
       "       [0.9895066, 1.       ]])"
      ]
     },
     "execution_count": 61,
     "metadata": {},
     "output_type": "execute_result"
    }
   ],
   "source": [
    "np.corrcoef(result_sub2[\"prediction\"], result_sub1[\"prediction\"])"
   ]
  },
  {
   "cell_type": "code",
   "execution_count": 62,
   "id": "f07422f6-8406-408c-b2fb-dd416ed2f954",
   "metadata": {},
   "outputs": [],
   "source": []
  },
  {
   "cell_type": "code",
   "execution_count": null,
   "id": "22678d6a-833a-4b16-9779-36918ab59254",
   "metadata": {},
   "outputs": [],
   "source": []
  },
  {
   "cell_type": "code",
   "execution_count": 78,
   "id": "d81230be-512e-40b5-a76a-1a4307c055e8",
   "metadata": {},
   "outputs": [],
   "source": [
    "sub[\"pred1\"] = result_sub1[\"prediction\"]\n",
    "sub[\"pred2\"] = result_sub2[\"prediction\"]"
   ]
  },
  {
   "cell_type": "code",
   "execution_count": 79,
   "id": "5b3d5fa4-1f37-4faf-b2d5-3262ccbf7374",
   "metadata": {},
   "outputs": [
    {
     "data": {
      "text/html": [
       "<div>\n",
       "<style scoped>\n",
       "    .dataframe tbody tr th:only-of-type {\n",
       "        vertical-align: middle;\n",
       "    }\n",
       "\n",
       "    .dataframe tbody tr th {\n",
       "        vertical-align: top;\n",
       "    }\n",
       "\n",
       "    .dataframe thead th {\n",
       "        text-align: right;\n",
       "    }\n",
       "</style>\n",
       "<table border=\"1\" class=\"dataframe\">\n",
       "  <thead>\n",
       "    <tr style=\"text-align: right;\">\n",
       "      <th></th>\n",
       "      <th>customer_ID</th>\n",
       "      <th>prediction</th>\n",
       "      <th>pred1</th>\n",
       "      <th>pred2</th>\n",
       "    </tr>\n",
       "  </thead>\n",
       "  <tbody>\n",
       "    <tr>\n",
       "      <th>0</th>\n",
       "      <td>00000469ba478561f23a92a868bd366de6f6527a684c9a...</td>\n",
       "      <td>0.025609</td>\n",
       "      <td>0.021981</td>\n",
       "      <td>0.046170</td>\n",
       "    </tr>\n",
       "    <tr>\n",
       "      <th>1</th>\n",
       "      <td>00001bf2e77ff879fab36aa4fac689b9ba411dae63ae39...</td>\n",
       "      <td>0.001721</td>\n",
       "      <td>0.001598</td>\n",
       "      <td>0.002418</td>\n",
       "    </tr>\n",
       "    <tr>\n",
       "      <th>2</th>\n",
       "      <td>0000210045da4f81e5f122c6bde5c2a617d03eef67f82c...</td>\n",
       "      <td>0.025882</td>\n",
       "      <td>0.026609</td>\n",
       "      <td>0.021763</td>\n",
       "    </tr>\n",
       "    <tr>\n",
       "      <th>3</th>\n",
       "      <td>00003b41e58ede33b8daf61ab56d9952f17c9ad1c3976c...</td>\n",
       "      <td>0.219855</td>\n",
       "      <td>0.133614</td>\n",
       "      <td>0.708557</td>\n",
       "    </tr>\n",
       "    <tr>\n",
       "      <th>4</th>\n",
       "      <td>00004b22eaeeeb0ec976890c1d9bfc14fd9427e98c4ee9...</td>\n",
       "      <td>0.938350</td>\n",
       "      <td>0.935005</td>\n",
       "      <td>0.957303</td>\n",
       "    </tr>\n",
       "    <tr>\n",
       "      <th>...</th>\n",
       "      <td>...</td>\n",
       "      <td>...</td>\n",
       "      <td>...</td>\n",
       "      <td>...</td>\n",
       "    </tr>\n",
       "    <tr>\n",
       "      <th>924616</th>\n",
       "      <td>ffff952c631f2c911b8a2a8ca56ea6e656309a83d2f64c...</td>\n",
       "      <td>0.020279</td>\n",
       "      <td>0.014413</td>\n",
       "      <td>0.053520</td>\n",
       "    </tr>\n",
       "    <tr>\n",
       "      <th>924617</th>\n",
       "      <td>ffffcf5df59e5e0bba2a5ac4578a34e2b5aa64a1546cd3...</td>\n",
       "      <td>0.932468</td>\n",
       "      <td>0.931950</td>\n",
       "      <td>0.935400</td>\n",
       "    </tr>\n",
       "    <tr>\n",
       "      <th>924618</th>\n",
       "      <td>ffffd61f098cc056dbd7d2a21380c4804bbfe60856f475...</td>\n",
       "      <td>0.500896</td>\n",
       "      <td>0.458484</td>\n",
       "      <td>0.741229</td>\n",
       "    </tr>\n",
       "    <tr>\n",
       "      <th>924619</th>\n",
       "      <td>ffffddef1fc3643ea179c93245b68dca0f36941cd83977...</td>\n",
       "      <td>0.278340</td>\n",
       "      <td>0.224287</td>\n",
       "      <td>0.584639</td>\n",
       "    </tr>\n",
       "    <tr>\n",
       "      <th>924620</th>\n",
       "      <td>fffffa7cf7e453e1acc6a1426475d5cb9400859f82ff61...</td>\n",
       "      <td>0.047014</td>\n",
       "      <td>0.034562</td>\n",
       "      <td>0.117575</td>\n",
       "    </tr>\n",
       "  </tbody>\n",
       "</table>\n",
       "<p>924621 rows × 4 columns</p>\n",
       "</div>"
      ],
      "text/plain": [
       "                                              customer_ID  prediction  \\\n",
       "0       00000469ba478561f23a92a868bd366de6f6527a684c9a...    0.025609   \n",
       "1       00001bf2e77ff879fab36aa4fac689b9ba411dae63ae39...    0.001721   \n",
       "2       0000210045da4f81e5f122c6bde5c2a617d03eef67f82c...    0.025882   \n",
       "3       00003b41e58ede33b8daf61ab56d9952f17c9ad1c3976c...    0.219855   \n",
       "4       00004b22eaeeeb0ec976890c1d9bfc14fd9427e98c4ee9...    0.938350   \n",
       "...                                                   ...         ...   \n",
       "924616  ffff952c631f2c911b8a2a8ca56ea6e656309a83d2f64c...    0.020279   \n",
       "924617  ffffcf5df59e5e0bba2a5ac4578a34e2b5aa64a1546cd3...    0.932468   \n",
       "924618  ffffd61f098cc056dbd7d2a21380c4804bbfe60856f475...    0.500896   \n",
       "924619  ffffddef1fc3643ea179c93245b68dca0f36941cd83977...    0.278340   \n",
       "924620  fffffa7cf7e453e1acc6a1426475d5cb9400859f82ff61...    0.047014   \n",
       "\n",
       "           pred1     pred2  \n",
       "0       0.021981  0.046170  \n",
       "1       0.001598  0.002418  \n",
       "2       0.026609  0.021763  \n",
       "3       0.133614  0.708557  \n",
       "4       0.935005  0.957303  \n",
       "...          ...       ...  \n",
       "924616  0.014413  0.053520  \n",
       "924617  0.931950  0.935400  \n",
       "924618  0.458484  0.741229  \n",
       "924619  0.224287  0.584639  \n",
       "924620  0.034562  0.117575  \n",
       "\n",
       "[924621 rows x 4 columns]"
      ]
     },
     "execution_count": 79,
     "metadata": {},
     "output_type": "execute_result"
    }
   ],
   "source": [
    "sub"
   ]
  },
  {
   "cell_type": "code",
   "execution_count": 11,
   "id": "281c07e9-c7d4-4777-bd18-59dd018e58a9",
   "metadata": {},
   "outputs": [
    {
     "data": {
      "text/plain": [
       "count    924621.000000\n",
       "mean         -2.422726\n",
       "std           3.408775\n",
       "min         -10.401408\n",
       "25%          -5.098521\n",
       "50%          -3.736096\n",
       "75%           0.159021\n",
       "max          10.000000\n",
       "Name: prediction, dtype: float64"
      ]
     },
     "execution_count": 11,
     "metadata": {},
     "output_type": "execute_result"
    }
   ],
   "source": [
    "result_sub1.loc[result_sub1[\"prediction\"].between(-13, 13), \"prediction\"].describe()"
   ]
  },
  {
   "cell_type": "code",
   "execution_count": 12,
   "id": "3c5ba84c-87c4-4c89-8e35-70de4e0060f8",
   "metadata": {},
   "outputs": [
    {
     "data": {
      "text/plain": [
       "count    924621.000000\n",
       "mean         -2.072434\n",
       "std           3.676355\n",
       "min          -7.518958\n",
       "25%          -5.332178\n",
       "50%          -2.822755\n",
       "75%           0.926208\n",
       "max           7.470797\n",
       "Name: prediction, dtype: float64"
      ]
     },
     "execution_count": 12,
     "metadata": {},
     "output_type": "execute_result"
    }
   ],
   "source": [
    "result_sub2[\"prediction\"].describe()"
   ]
  },
  {
   "cell_type": "code",
   "execution_count": 17,
   "id": "2a1504bf-74e1-4f75-b9d9-423f17d7c570",
   "metadata": {},
   "outputs": [],
   "source": [
    "mscaler = MinMaxScaler()\n",
    "s1 = mscaler.fit_transform(result_sub1[[\"prediction\"]])[:, 0]\n",
    "s2 = mscaler.fit_transform(result_sub2[[\"prediction\"]])[:, 0]"
   ]
  },
  {
   "cell_type": "code",
   "execution_count": 18,
   "id": "a4f21778-2836-4bbe-ad3a-c0d516f1af14",
   "metadata": {},
   "outputs": [
    {
     "data": {
      "text/plain": [
       "array([0.06325669, 0.00152818, 0.03142791, ..., 0.7203658 , 0.574496  ,\n",
       "       0.14806519])"
      ]
     },
     "execution_count": 18,
     "metadata": {},
     "output_type": "execute_result"
    }
   ],
   "source": [
    "s2"
   ]
  },
  {
   "cell_type": "code",
   "execution_count": 19,
   "id": "1a0d7dfe-39d2-4395-bc4e-7c09bb924be6",
   "metadata": {},
   "outputs": [
    {
     "data": {
      "text/plain": [
       "array([0.02198081, 0.00159815, 0.02660928, ..., 0.45848391, 0.22428659,\n",
       "       0.03456198])"
      ]
     },
     "execution_count": 19,
     "metadata": {},
     "output_type": "execute_result"
    }
   ],
   "source": [
    "s1"
   ]
  },
  {
   "cell_type": "code",
   "execution_count": 20,
   "id": "49ce7615-7bca-4d00-ba3e-59511693b3fa",
   "metadata": {},
   "outputs": [
    {
     "data": {
      "image/png": "[encoded data removed]",
      "text/plain": [
       "<Figure size 432x288 with 1 Axes>"
      ]
     },
     "metadata": {
      "needs_background": "light"
     },
     "output_type": "display_data"
    }
   ],
   "source": [
    "plt.scatter(s1, s2)\n",
    "plt.show()"
   ]
  },
  {
   "cell_type": "code",
   "execution_count": 51,
   "id": "d26101f7-2049-46d8-ac40-21c2e24f5790",
   "metadata": {},
   "outputs": [],
   "source": [
    "result_sub1[\"prediction\"] += result_sub2[\"prediction\"]\n",
    "result_sub1[\"prediction\"] /= 2"
   ]
  },
  {
   "cell_type": "code",
   "execution_count": 26,
   "id": "dd1daa04-640e-40a7-8933-b294a37cc005",
   "metadata": {},
   "outputs": [],
   "source": []
  },
  {
   "cell_type": "code",
   "execution_count": 27,
   "id": "504185ec-a9a0-4792-8b09-c113cb8487e1",
   "metadata": {},
   "outputs": [],
   "source": []
  },
  {
   "cell_type": "code",
   "execution_count": 55,
   "id": "1b178872-c978-4209-b713-da788a236275",
   "metadata": {},
   "outputs": [],
   "source": [
    "sub = sub.merge(result_sub1, on=\"customer_ID\", how=\"left\")"
   ]
  },
  {
   "cell_type": "code",
   "execution_count": 56,
   "id": "088c9ef1-b258-453b-8df1-379fbe893cb1",
   "metadata": {},
   "outputs": [],
   "source": [
    "sub.to_csv(f\"{SUBMISSION_DATA_PATH}/revised_submission_106th_try_blend_chris.csv\", index=False)"
   ]
  },
  {
   "cell_type": "code",
   "execution_count": 105,
   "id": "e616f142-fd35-4d29-8de2-f755b7cdf407",
   "metadata": {},
   "outputs": [],
   "source": [
    "sub = pd.read_csv(f\"{SUBMISSION_DATA_PATH}/empty.csv\")\n",
    "sub[\"prediction\"] = 0.8 * s1 + 0.2 * s2\n",
    "sub.to_csv(f\"{SUBMISSION_DATA_PATH}/submission_109th_blend_best_with_chris_min_max_scaler.csv\", index=False)"
   ]
  },
  {
   "cell_type": "code",
   "execution_count": null,
   "id": "d98d6c65-7208-4d3a-9690-1ab201c68843",
   "metadata": {},
   "outputs": [],
   "source": [
    "merged_result[\"prediction\"] = 0.55 * mega_df[\"prediction_x\"] + 0.45 * mega_df[\"prediction_y\"]\n",
    "mega_df = mega_df.drop(columns=[\"prediction_x\", \"prediction_y\"])"
   ]
  },
  {
   "cell_type": "code",
   "execution_count": null,
   "id": "93046afe-1096-450a-96f0-961064442cf8",
   "metadata": {},
   "outputs": [],
   "source": [
    "mega_df.to_csv(f\"{SUBMISSION_DATA_PATH}/submission18.csv\", index=False)"
   ]
  },
  {
   "cell_type": "markdown",
   "id": "b49561e2-c833-4f57-8c41-75fbde78b302",
   "metadata": {},
   "source": [
    "#### Take weighted average of 2 prediction scores"
   ]
  },
  {
   "cell_type": "code",
   "execution_count": 52,
   "id": "ebc30008-0c76-4e13-8acc-486595ead6da",
   "metadata": {},
   "outputs": [],
   "source": [
    "merged_result[\"prediction\"] = merged_result[\"prediction_x\"].rank() * 0.7 + merged_result[\"prediction_y\"].rank() * 0.3\n",
    "# merged_result[\"prediction\"] = 0.6 * merged_result[\"prediction_x\"] + 0.4 * merged_result[\"prediction_y\"]"
   ]
  },
  {
   "cell_type": "code",
   "execution_count": 53,
   "id": "301e374b-562b-4bfe-b770-3639993b2f0b",
   "metadata": {},
   "outputs": [],
   "source": [
    "merged_result = merged_result.drop(columns=[\"prediction_x\", \"prediction_y\", \"x_positive\", \"y_positive\"], errors=\"ignore\")"
   ]
  },
  {
   "cell_type": "code",
   "execution_count": 54,
   "id": "4e6beb7e-52bb-491d-8030-33d0b2f3051b",
   "metadata": {},
   "outputs": [],
   "source": [
    "if merged_result.shape == (924621, 2) and merged_result.columns.tolist() == ['customer_ID', 'prediction']:\n",
    "    merged_result.to_csv(f\"{SUBMISSION_DATA_PATH}/submission31.csv\", index=False)"
   ]
  },
  {
   "cell_type": "code",
   "execution_count": null,
   "id": "ab525ef3-3bf4-4d81-9aa8-a0092adba3af",
   "metadata": {},
   "outputs": [],
   "source": []
  },
  {
   "cell_type": "code",
   "execution_count": 48,
   "id": "31e459d2-1b83-42df-8e56-85f2d572a9b6",
   "metadata": {},
   "outputs": [],
   "source": [
    "merged_result[\"x_positive\"] = (merged_result[\"prediction_x\"] >= 0)"
   ]
  },
  {
   "cell_type": "code",
   "execution_count": 49,
   "id": "1e4e58e3-43f3-4e3f-9071-03f4b97122ec",
   "metadata": {},
   "outputs": [],
   "source": [
    "merged_result[\"y_positive\"] = (merged_result[\"prediction_y\"] >= 0)"
   ]
  },
  {
   "cell_type": "code",
   "execution_count": 50,
   "id": "c919dcc9-3bb9-488a-92f1-65142b14980d",
   "metadata": {},
   "outputs": [],
   "source": [
    "neg_neg_indices = merged_result.loc[(~merged_result[\"x_positive\"]) & (~merged_result[\"y_positive\"])].index"
   ]
  },
  {
   "cell_type": "code",
   "execution_count": 51,
   "id": "5a2c13b5-e2ea-4efd-9878-3e994c0f9f2d",
   "metadata": {},
   "outputs": [],
   "source": [
    "merged_result.loc[neg_neg_indices, \"prediction\"] = merged_result.loc[neg_neg_indices, :].min(axis=1)"
   ]
  },
  {
   "cell_type": "code",
   "execution_count": 52,
   "id": "b08bd592-dc45-44c5-b724-20356e5963ab",
   "metadata": {},
   "outputs": [],
   "source": [
    "pos_pos_indices = merged_result.loc[(merged_result[\"x_positive\"]) & (merged_result[\"y_positive\"])].index"
   ]
  },
  {
   "cell_type": "code",
   "execution_count": 53,
   "id": "253d0f80-3055-4405-8300-7149d8c47605",
   "metadata": {},
   "outputs": [],
   "source": [
    "merged_result.loc[pos_pos_indices, \"prediction\"] = merged_result.loc[pos_pos_indices, :].max(axis=1)"
   ]
  },
  {
   "cell_type": "code",
   "execution_count": 54,
   "id": "f6e96911-4a57-4512-93b5-85435df0e7ab",
   "metadata": {},
   "outputs": [
    {
     "data": {
      "text/plain": [
       "25395"
      ]
     },
     "execution_count": 54,
     "metadata": {},
     "output_type": "execute_result"
    }
   ],
   "source": [
    "merged_result[\"prediction\"].isnull().sum()"
   ]
  },
  {
   "cell_type": "code",
   "execution_count": 55,
   "id": "4060abeb-c2ea-446f-b51b-67730ac5e3df",
   "metadata": {},
   "outputs": [],
   "source": [
    "merged_result.loc[merged_result[\"prediction\"].isnull(), \"prediction\"] = \\\n",
    "(merged_result.loc[merged_result[\"prediction\"].isnull(), \"prediction_x\"] + \\\n",
    "merged_result.loc[merged_result[\"prediction\"].isnull(), \"prediction_y\"]) / 2"
   ]
  },
  {
   "cell_type": "code",
   "execution_count": 56,
   "id": "4369ff32-61cd-4333-a552-cc27a02ca5bf",
   "metadata": {},
   "outputs": [],
   "source": [
    "merged_result = merged_result.drop(columns=[\"prediction_x\", \"prediction_y\", \"x_positive\", \"y_positive\"])"
   ]
  },
  {
   "cell_type": "code",
   "execution_count": 58,
   "id": "fac615f3-8ea5-4801-b64a-25040c05d8ef",
   "metadata": {},
   "outputs": [],
   "source": [
    "merged_result.to_csv(f\"{SUBMISSION_DATA_PATH}/submission24.csv\", index=False)"
   ]
  },
  {
   "cell_type": "code",
   "execution_count": null,
   "id": "00da3372-3ddc-4f18-bc12-c9af2fe87fe9",
   "metadata": {},
   "outputs": [],
   "source": []
  },
  {
   "cell_type": "code",
   "execution_count": 20,
   "id": "bb5a0052-3017-4a28-b2a3-369a811255df",
   "metadata": {},
   "outputs": [],
   "source": [
    "new_result_sub[\"prediction\"] = np.max([new_result_sub[\"prediction\"].values, old_result_sub[\"prediction\"].values], axis=0)"
   ]
  },
  {
   "cell_type": "code",
   "execution_count": 27,
   "id": "bbd2b6f8-52cb-4ac8-b0f1-b51725f6e5ec",
   "metadata": {},
   "outputs": [],
   "source": [
    "new_result_sub[\"prediction\"] += old_result_sub[\"prediction\"]"
   ]
  },
  {
   "cell_type": "code",
   "execution_count": 28,
   "id": "54b939aa-6eea-46b4-b5f5-f0cf005a8e01",
   "metadata": {},
   "outputs": [],
   "source": [
    "new_result_sub[\"prediction\"] /= 2"
   ]
  },
  {
   "cell_type": "code",
   "execution_count": 30,
   "id": "be0884cb-d299-44f6-97d6-2bd1af32ee4f",
   "metadata": {},
   "outputs": [],
   "source": [
    "new_result_sub.to_csv(f\"{SUBMISSION_DATA_PATH}/submission22.csv\", index=False)"
   ]
  },
  {
   "cell_type": "code",
   "execution_count": null,
   "id": "b4e53b25-dd12-44b0-ada2-af4b9e005cf6",
   "metadata": {},
   "outputs": [],
   "source": [
    "result_sub = test_agg.loc[:, [c for c in test_agg.columns if c.startswith(\"score\")]].mean(axis=1).reset_index()"
   ]
  },
  {
   "cell_type": "code",
   "execution_count": null,
   "id": "cafc84f8-7dfa-4917-86ea-3848cab07849",
   "metadata": {},
   "outputs": [],
   "source": [
    "result_sub.columns = [\"customer_ID\", \"prediction\"]"
   ]
  },
  {
   "cell_type": "code",
   "execution_count": null,
   "id": "d2230bf7-95e6-4c06-add1-6a465a7ab16a",
   "metadata": {},
   "outputs": [],
   "source": [
    "result_sub.to_csv(\"submission20.csv\", index=False)"
   ]
  },
  {
   "cell_type": "code",
   "execution_count": null,
   "id": "9d4433d5-5173-48da-bd65-58a886d0e631",
   "metadata": {},
   "outputs": [],
   "source": [
    "single_record_index = test_agg.loc[test_agg[\"num_records\"] == 1].index.tolist()"
   ]
  },
  {
   "cell_type": "code",
   "execution_count": null,
   "id": "210c491c-e001-44c3-adb3-f203f9bb1fe4",
   "metadata": {},
   "outputs": [],
   "source": [
    "final_df13 = pd.read_csv(f\"{SUBMISSION_DATA_PATH}/submission13_0.796.csv\")\n",
    "final_df13[\"prediction_13\"] = sigmoid(final_df13[\"prediction\"])\n",
    "final_df13 = final_df13.drop(columns=\"prediction\")"
   ]
  },
  {
   "cell_type": "code",
   "execution_count": null,
   "id": "8b6081fe-a2e3-4d68-94d2-452c486fc565",
   "metadata": {},
   "outputs": [],
   "source": [
    "final_df16 = pd.read_csv(f\"{SUBMISSION_DATA_PATH}/submission16_0.782.csv\")\n",
    "final_df16[\"prediction_16\"] = sigmoid(final_df16[\"prediction\"])\n",
    "final_df16 = final_df16.drop(columns=\"prediction\")"
   ]
  },
  {
   "cell_type": "code",
   "execution_count": null,
   "id": "3bcfc991-a1e8-4a5f-b136-5d45a0137ac2",
   "metadata": {},
   "outputs": [],
   "source": [
    "mega_df = final_df13.merge(final_df16, on=\"customer_ID\", how=\"left\")"
   ]
  },
  {
   "cell_type": "code",
   "execution_count": null,
   "id": "5b14c35f-df5b-4ba0-aba2-986ecfe8ed30",
   "metadata": {},
   "outputs": [],
   "source": [
    "mega_df.loc[:, \"prediction\"] = (\n",
    "    mega_df.loc[:, \"prediction_16\"] * 0.1 \\\n",
    "    + mega_df.loc[:, \"prediction_13\"] * 0.9\n",
    ")"
   ]
  },
  {
   "cell_type": "code",
   "execution_count": null,
   "id": "4b3e0943-6ad1-4233-8723-97514f0375f6",
   "metadata": {},
   "outputs": [],
   "source": [
    "mega_df.loc[single_record_index, \"prediction\"] = (\n",
    "    mega_df.loc[single_record_index, \"prediction_16\"] * 0.8 \\\n",
    "    + mega_df.loc[single_record_index, \"prediction_13\"] * 0.2\n",
    ")"
   ]
  },
  {
   "cell_type": "code",
   "execution_count": null,
   "id": "d9788303-5207-490c-8365-97ae5fefc5f9",
   "metadata": {},
   "outputs": [],
   "source": [
    "mega_df = mega_df.drop(columns=[\"prediction_13\", \"prediction_16\"])"
   ]
  },
  {
   "cell_type": "code",
   "execution_count": null,
   "id": "e2f48222-f9ba-4a3f-879d-245372479ac6",
   "metadata": {},
   "outputs": [],
   "source": []
  },
  {
   "cell_type": "code",
   "execution_count": null,
   "id": "69c62759-40ea-42bf-9650-937c9ed6e19e",
   "metadata": {},
   "outputs": [],
   "source": []
  },
  {
   "cell_type": "code",
   "execution_count": null,
   "id": "d64d7573-dbbc-40f2-ad49-118f2a408525",
   "metadata": {},
   "outputs": [],
   "source": []
  }
 ],
 "metadata": {
  "kernelspec": {
   "display_name": "amex",
   "language": "python",
   "name": "amex"
  },
  "language_info": {
   "codemirror_mode": {
    "name": "ipython",
    "version": 3
   },
   "file_extension": ".py",
   "mimetype": "text/x-python",
   "name": "python",
   "nbconvert_exporter": "python",
   "pygments_lexer": "ipython3",
   "version": "3.10.0"
  }
 },
 "nbformat": 4,
 "nbformat_minor": 5
}
