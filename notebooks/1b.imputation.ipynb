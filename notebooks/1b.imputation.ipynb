{
 "cells": [
  {
   "cell_type": "markdown",
   "id": "0193df87-b27d-4dfc-aa3b-2a5a157782c1",
   "metadata": {},
   "source": [
    "### 1a. Impute pickle dataframe \n",
    "- This notebook aims to impute data"
   ]
  },
  {
   "cell_type": "code",
   "execution_count": 1,
   "id": "e1ba62b1-6af4-4528-962b-8e8b89082d5b",
   "metadata": {},
   "outputs": [],
   "source": [
    "import lightgbm as lgb\n",
    "import matplotlib.pyplot as plt\n",
    "import pandas as pd\n",
    "pd.options.display.float_format = \"{:,.6f}\".format\n",
    "import gc\n",
    "import numpy as np\n",
    "import os\n",
    "import sys\n",
    "import warnings\n",
    "warnings.simplefilter(\"ignore\")\n",
    "warnings.filterwarnings(\"ignore\")\n",
    "from lightgbm import LGBMClassifier, log_evaluation\n",
    "from pandarallel import pandarallel\n",
    "from sklearn.metrics import mean_squared_error\n",
    "from sklearn.model_selection import train_test_split\n",
    "from sklearn.neighbors import KNeighborsRegressor\n",
    "from tqdm import tqdm\n",
    "from autoimpute.imputations import SingleImputer, MultipleImputer, MiceImputer"
   ]
  },
  {
   "cell_type": "code",
   "execution_count": 2,
   "id": "02212091-030b-4865-85d9-8d06995deb4f",
   "metadata": {},
   "outputs": [],
   "source": [
    "from pathlib import Path\n",
    "rootpath = Path.cwd().parent\n",
    "sys.path.append(os.path.join(rootpath))"
   ]
  },
  {
   "cell_type": "code",
   "execution_count": 3,
   "id": "3dff8609-641c-4669-a3e2-bd0baf83d604",
   "metadata": {},
   "outputs": [],
   "source": [
    "from utils.eval_helpers import (\n",
    "    plot_roc_curves, plot_feature_importance, \n",
    "    amex_metric, get_final_metric_df, amex_metric_np, lgb_amex_metric\n",
    ")\n",
    "from utils.eda_helpers import (\n",
    "    plot_missing_proportion_barchart, get_cols, plot_scatterplot, plot_target_check, \n",
    "    plot_int_feature_distribution, plot_train_test_distribution, check_overlap_missing\n",
    ")\n",
    "from utils.extraction_helpers import read_file\n",
    "from utils.feature_group import (\n",
    "    CATEGORY_COLUMNS, CONTINUOUS_COLUMNS, BINARY_COLUMNS, ROUND_COLUMNS,\n",
    "    MEAN_FEATURES, MIN_FEATURES, MAX_FEATURES, LAST_FEATURES, NON_FEATURE_COLUMNS\n",
    ")\n",
    "from utils.constants import (\n",
    "    PROCESSED_DATA_PATH\n",
    ")\n",
    "from utils.feature_engineering_helpers import feature_gen_pipeline"
   ]
  },
  {
   "cell_type": "code",
   "execution_count": 4,
   "id": "277eb483-3710-4a71-b2aa-851310888981",
   "metadata": {},
   "outputs": [],
   "source": [
    "RAW_DATA_PATH = \"../raw_data\"\n",
    "PROCESSED_DATA_PATH = \"../processed_data\"\n",
    "SUBMISSION_DATA_PATH = \"../submissions\"\n",
    "EVALUATION_DATA_PATH = \"../evaluation_data\"\n",
    "MODELS_PATH = \"../models\"\n",
    "EXP_PATH = \"../experiments\""
   ]
  },
  {
   "cell_type": "code",
   "execution_count": 5,
   "id": "c82e6f32-4315-4095-a751-a216167aace6",
   "metadata": {},
   "outputs": [],
   "source": [
    "RAW_TRAIN_PARQUET_PATH = os.path.join(RAW_DATA_PATH, \"train_parquet\")\n",
    "RAW_TRAIN_PICKLE_PATH = os.path.join(RAW_DATA_PATH, \"train_pickle\")\n",
    "RAW_TEST_PARQUET_PATH = os.path.join(RAW_DATA_PATH, \"test_parquet\")\n",
    "RAW_TEST_PICKLE_PATH = os.path.join(RAW_DATA_PATH, \"test_pickle\")"
   ]
  },
  {
   "cell_type": "code",
   "execution_count": 6,
   "id": "039a2ef2-696d-4e77-ada4-cdbab070a755",
   "metadata": {},
   "outputs": [],
   "source": [
    "%load_ext autoreload\n",
    "%autoreload"
   ]
  },
  {
   "cell_type": "markdown",
   "id": "7ac1c665-5d0c-4042-8396-e013c4225ac7",
   "metadata": {},
   "source": [
    "## Read Data"
   ]
  },
  {
   "cell_type": "code",
   "execution_count": 7,
   "id": "35afab04-9bfd-4884-92bd-4d8a46282f21",
   "metadata": {},
   "outputs": [
    {
     "name": "stdout",
     "output_type": "stream",
     "text": [
      "Shape of data: (5531451, 193)\n",
      "CPU times: user 2.1 s, sys: 2.13 s, total: 4.23 s\n",
      "Wall time: 5.28 s\n"
     ]
    }
   ],
   "source": [
    "%%time\n",
    "train = read_file(f\"{RAW_TRAIN_PICKLE_PATH}/raw_train_data.pkl\", replace_negative_one=True)\n",
    "labels = pd.read_csv(f\"{RAW_DATA_PATH}/train_labels.csv\")"
   ]
  },
  {
   "cell_type": "code",
   "execution_count": 8,
   "id": "e77d05fb-0444-4268-8678-cbd413f3cb64",
   "metadata": {},
   "outputs": [],
   "source": [
    "# train_missing_prop_df = plot_missing_proportion_barchart(train, top_n=115, figsize=(17, 30))"
   ]
  },
  {
   "cell_type": "markdown",
   "id": "0130aa6e-e48a-43b0-85a0-88e84c2d348b",
   "metadata": {},
   "source": [
    "#### Imputation Strategy comparison setup"
   ]
  },
  {
   "cell_type": "code",
   "execution_count": 9,
   "id": "0de53a6e-3c48-4f12-848a-4e57d8ea6522",
   "metadata": {},
   "outputs": [],
   "source": [
    "standard_columns = [\"customer_ID\", \"row_number\", \"row_number_inv\", \"S_2\"]\n",
    "features = [\"P_2\"]"
   ]
  },
  {
   "cell_type": "code",
   "execution_count": 10,
   "id": "e0b7dbf1-6646-488f-938b-2c60e113e593",
   "metadata": {},
   "outputs": [],
   "source": [
    "params = {\n",
    "    \"objective\": \"binary\",\n",
    "    \"verbosity\": -1,\n",
    "    \"metrics\": \"custom\",\n",
    "    \"first_metric_only\": True, \n",
    "    \"boost_from_average\": False,\n",
    "    \"boosting_type\": \"gbdt\",\n",
    "    \"random_state\": 1,\n",
    "    \"learning_rate\": 0.0225,\n",
    "    \"n_estimators\": 1000,\n",
    "    \"max_bins\": 127,\n",
    "    \"subsample_freq\": 2,\n",
    "    \"min_child_samples\": 2000,\n",
    "    \"reg_alpha\": 0.1,\n",
    "    \"reg_lambda\": 15,\n",
    "    \"colsample_bytree\": 0.25,\n",
    "    \"subsample\": 0.65,\n",
    "    \"scale_pos_weight\": 1.3,\n",
    "    \"num_leaves\": 80,\n",
    "    \"max_depth\": 7,\n",
    "}"
   ]
  },
  {
   "cell_type": "markdown",
   "id": "bfc54036-74c3-460d-abd1-ff36a17f44c3",
   "metadata": {},
   "source": [
    "### Simple Imputation using Mean"
   ]
  },
  {
   "cell_type": "markdown",
   "id": "c3aee14f-8a54-4abb-939c-a67862ee94b6",
   "metadata": {},
   "source": [
    "#### Identify good (top 10) columns to use with no missing values"
   ]
  },
  {
   "cell_type": "code",
   "execution_count": 11,
   "id": "3d43faab-3453-45e3-b6bf-0c6987e85a1c",
   "metadata": {},
   "outputs": [
    {
     "name": "stdout",
     "output_type": "stream",
     "text": [
      "CPU times: user 1.77 s, sys: 1.06 s, total: 2.83 s\n",
      "Wall time: 3.55 s\n"
     ]
    },
    {
     "data": {
      "text/plain": [
       "73"
      ]
     },
     "execution_count": 11,
     "metadata": {},
     "output_type": "execute_result"
    }
   ],
   "source": [
    "%%time\n",
    "m = train.isnull().sum()\n",
    "no_missing_cols = m[m == 0].index.tolist()\n",
    "len(no_missing_cols)"
   ]
  },
  {
   "cell_type": "code",
   "execution_count": 12,
   "id": "da38ce55-638c-428e-a6c1-fec2ef0bb95d",
   "metadata": {},
   "outputs": [
    {
     "name": "stdout",
     "output_type": "stream",
     "text": [
      "Shape of data: (188, 25)\n"
     ]
    }
   ],
   "source": [
    "feature_imp_summary = read_file(f\"{EXP_PATH}/feature_imp_summary2.csv\")\n",
    "feature_imp_subset = feature_imp_summary[feature_imp_summary[\"base_feature\"].isin(no_missing_cols)]\n",
    "feature_imp_subset[\"avg_importance\"] = feature_imp_subset.iloc[:, 1:].mean(axis=1)\n",
    "feature_imp_subset = feature_imp_subset.sort_values(by=\"avg_importance\", ascending=False).reset_index(drop=True)\n",
    "without_missing_good_columns = feature_imp_subset[\"base_feature\"].iloc[:5].tolist()"
   ]
  },
  {
   "cell_type": "code",
   "execution_count": 13,
   "id": "be1b6cdc-89c0-483a-9096-451ede4e90a9",
   "metadata": {},
   "outputs": [
    {
     "data": {
      "text/plain": [
       "['B_4', 'D_39', 'S_12', 'B_5', 'D_47']"
      ]
     },
     "execution_count": 13,
     "metadata": {},
     "output_type": "execute_result"
    }
   ],
   "source": [
    "without_missing_good_columns"
   ]
  },
  {
   "cell_type": "code",
   "execution_count": 14,
   "id": "4278c597-93f0-4506-8486-12c52be86471",
   "metadata": {},
   "outputs": [],
   "source": [
    "TOP_PERFORMANCE_FEATURES = [\"P_2\", \"D_43\", \"D_48\", \"S_3\", \"R_1\", \"B_1\", \"B_4\", \"B_5\", \"B_11\"]"
   ]
  },
  {
   "cell_type": "markdown",
   "id": "cf2ee83a-c70c-485d-b681-032b70d17761",
   "metadata": {},
   "source": [
    "### Test specific columns"
   ]
  },
  {
   "cell_type": "code",
   "execution_count": 15,
   "id": "b889baa5-765c-41a7-be01-29b625a6506a",
   "metadata": {},
   "outputs": [
    {
     "name": "stdout",
     "output_type": "stream",
     "text": [
      "Shape of data: (190, 2)\n"
     ]
    }
   ],
   "source": [
    "specific_features = read_file(f\"{EXP_PATH}/percent_of_missing_from_wrong.csv\").iloc[:, 0].values[:77].tolist()"
   ]
  },
  {
   "cell_type": "code",
   "execution_count": 190,
   "id": "b99b939f-0abe-42bc-890b-8163d5c04078",
   "metadata": {},
   "outputs": [
    {
     "data": {
      "text/plain": [
       "'B_13'"
      ]
     },
     "execution_count": 190,
     "metadata": {},
     "output_type": "execute_result"
    }
   ],
   "source": [
    "test_feature = specific_features[2]\n",
    "test_feature"
   ]
  },
  {
   "cell_type": "code",
   "execution_count": 191,
   "id": "8c5b1bc9-6d05-44fd-bdd3-0cfd2e4a4d51",
   "metadata": {},
   "outputs": [
    {
     "data": {
      "text/plain": [
       "count   5,481,932.000000\n",
       "mean            0.099693\n",
       "std             0.554849\n",
       "min             0.000000\n",
       "25%             0.009255\n",
       "50%             0.029314\n",
       "75%             0.089415\n",
       "max           276.177826\n",
       "Name: B_13, dtype: float64"
      ]
     },
     "execution_count": 191,
     "metadata": {},
     "output_type": "execute_result"
    }
   ],
   "source": [
    "train[test_feature].describe()"
   ]
  },
  {
   "cell_type": "code",
   "execution_count": 192,
   "id": "92d4c326-8b1e-4b6d-8757-090b31c46a6d",
   "metadata": {},
   "outputs": [
    {
     "name": "stdout",
     "output_type": "stream",
     "text": [
      "CPU times: user 108 ms, sys: 152 ms, total: 260 ms\n",
      "Wall time: 339 ms\n"
     ]
    }
   ],
   "source": [
    "%%time\n",
    "train_subset = train.loc[:, standard_columns + TOP_PERFORMANCE_FEATURES + [test_feature]]"
   ]
  },
  {
   "cell_type": "code",
   "execution_count": 193,
   "id": "30173a86-f6a7-4546-8377-e50d73d17eb2",
   "metadata": {},
   "outputs": [],
   "source": [
    "def interpolate_series(x, method, order):\n",
    "    try:\n",
    "        series = x.interpolate(method=method, order=order)\n",
    "    except:\n",
    "        series = x\n",
    "    return series"
   ]
  },
  {
   "cell_type": "code",
   "execution_count": 194,
   "id": "1c42fd1c-9718-4900-8296-484df8d4a741",
   "metadata": {},
   "outputs": [],
   "source": [
    "def impute_(df, col, method, order=1):\n",
    "    if method == 0:\n",
    "        # No imputation\n",
    "        return df[col]\n",
    "        \n",
    "    elif method == 1:\n",
    "        # Impute with global mean directly\n",
    "        return df[col].fillna(df[col].mean())\n",
    "        \n",
    "    elif method == 2:\n",
    "        # Impute with respective group mean\n",
    "        df[col] = df.groupby(\"customer_ID\")[col].transform(lambda x: x.fillna(x.mean()))\n",
    "        return df[col].fillna(df[col].mean())\n",
    "    \n",
    "    elif method == 3:\n",
    "        # Impute using (certain order) polynomial interpolation\n",
    "        m = \"polynomial\"\n",
    "        df[col] = df.groupby(\"customer_ID\")[col].transform(lambda x: interpolate_series(x, m, order))\n",
    "        # return df.groupby(\"customer_ID\")[col].transform(lambda x: x.fillna(x.mean()))\n",
    "        return df.groupby(\"customer_ID\")[col].transform(lambda x: x.ffill().bfill())\n",
    "    \n",
    "    elif method == 4:\n",
    "        # Impute using (certain order) spline interpolation\n",
    "        m = \"spline\"\n",
    "        # return \n",
    "        df[col] = df.groupby(\"customer_ID\")[col].transform(lambda x: interpolate_series(x, m, order))\n",
    "        # return df.groupby(\"customer_ID\")[col].transform(lambda x: x.fillna(x.mean()))\n",
    "        return df.groupby(\"customer_ID\")[col].transform(lambda x: x.ffill().bfill())\n",
    "    \n",
    "    else:\n",
    "        pass"
   ]
  },
  {
   "cell_type": "code",
   "execution_count": 195,
   "id": "9c61e0a3-ceb1-4f4e-9802-f8654fbde1f3",
   "metadata": {},
   "outputs": [],
   "source": [
    "def prepare_lgb_train_test(train_agg, labels):\n",
    "    X = train_agg.drop(columns=standard_columns, errors=\"ignore\")\n",
    "    y = labels[\"target\"]\n",
    "    X_train, X_val, y_train, y_val = train_test_split(X, y, test_size=0.2, random_state=923)\n",
    "    train_data = lgb.Dataset(\n",
    "        X_train,\n",
    "        y_train,\n",
    "        params={'verbose': -1}\n",
    "    )\n",
    "    valid_data = lgb.Dataset(\n",
    "        X_val,\n",
    "        y_val,\n",
    "        params={'verbose': -1},\n",
    "        reference=train_data\n",
    "    )\n",
    "    cat_columns = X_train.select_dtypes(\"category\").columns.tolist()\n",
    "    return train_data, valid_data, X_val, y_val, cat_columns"
   ]
  },
  {
   "cell_type": "code",
   "execution_count": 196,
   "id": "f6685b72-91d4-45f3-9305-b8312683bf15",
   "metadata": {},
   "outputs": [],
   "source": [
    "def train_and_evaluate_strategy(train_data, valid_data, X_val, y_val, cat_columns, \n",
    "                                lgbm_params=params, lgbm_metric=lgb_amex_metric):\n",
    "    with warnings.catch_warnings():\n",
    "        warnings.filterwarnings('ignore', category=UserWarning)\n",
    "        model = lgb.train(\n",
    "            params=lgbm_params,\n",
    "            train_set=train_data, \n",
    "            valid_sets=[valid_data, train_data], \n",
    "            feval=lgbm_metric, \n",
    "            early_stopping_rounds=100,\n",
    "            categorical_feature=cat_columns,\n",
    "            verbose_eval=False\n",
    "        )\n",
    "    y_val_pred = model.predict(X_val, raw_score=True)\n",
    "    return amex_metric(y_val.values, y_val_pred)"
   ]
  },
  {
   "cell_type": "code",
   "execution_count": 197,
   "id": "9b6de2af-71ad-46c6-b6f0-a753db8fb46a",
   "metadata": {},
   "outputs": [
    {
     "name": "stdout",
     "output_type": "stream",
     "text": [
      "Average done\n",
      "Minimum done\n",
      "Maximum done\n",
      "Standard Deviation done\n",
      "Last entry done\n",
      "First entry done\n",
      "Second last entry done\n",
      "Third last entry done\n",
      "MA3 for Recency 1 done\n",
      "MA3 for Recency 2 done\n",
      "MA3 for Recency 3 done\n",
      "MA3 for Recency 4 done\n"
     ]
    },
    {
     "name": "stderr",
     "output_type": "stream",
     "text": [
      "100%|██████████████████████████████████████████████████████████████████████████████████████████████████████████████████████████████████████| 10/10 [00:18<00:00,  1.89s/it]\n"
     ]
    },
    {
     "name": "stdout",
     "output_type": "stream",
     "text": [
      "[LightGBM] [Warning] verbosity is set=-1, verbose=-1 will be ignored. Current value: verbosity=-1\n",
      "Method: 3, Order: 1, Metric: 0.7551\n",
      "Average done\n",
      "Minimum done\n",
      "Maximum done\n",
      "Standard Deviation done\n",
      "Last entry done\n",
      "First entry done\n",
      "Second last entry done\n",
      "Third last entry done\n",
      "MA3 for Recency 1 done\n",
      "MA3 for Recency 2 done\n",
      "MA3 for Recency 3 done\n",
      "MA3 for Recency 4 done\n"
     ]
    },
    {
     "name": "stderr",
     "output_type": "stream",
     "text": [
      "100%|██████████████████████████████████████████████████████████████████████████████████████████████████████████████████████████████████████| 10/10 [00:18<00:00,  1.88s/it]\n"
     ]
    },
    {
     "name": "stdout",
     "output_type": "stream",
     "text": [
      "[LightGBM] [Warning] verbosity is set=-1, verbose=-1 will be ignored. Current value: verbosity=-1\n",
      "Method: 3, Order: 2, Metric: 0.7542\n",
      "Average done\n",
      "Minimum done\n",
      "Maximum done\n",
      "Standard Deviation done\n",
      "Last entry done\n",
      "First entry done\n",
      "Second last entry done\n",
      "Third last entry done\n",
      "MA3 for Recency 1 done\n",
      "MA3 for Recency 2 done\n",
      "MA3 for Recency 3 done\n",
      "MA3 for Recency 4 done\n"
     ]
    },
    {
     "name": "stderr",
     "output_type": "stream",
     "text": [
      "100%|██████████████████████████████████████████████████████████████████████████████████████████████████████████████████████████████████████| 10/10 [00:18<00:00,  1.89s/it]\n"
     ]
    },
    {
     "name": "stdout",
     "output_type": "stream",
     "text": [
      "[LightGBM] [Warning] verbosity is set=-1, verbose=-1 will be ignored. Current value: verbosity=-1\n",
      "Method: 3, Order: 3, Metric: 0.7548\n",
      "Average done\n",
      "Minimum done\n",
      "Maximum done\n",
      "Standard Deviation done\n",
      "Last entry done\n",
      "First entry done\n",
      "Second last entry done\n",
      "Third last entry done\n",
      "MA3 for Recency 1 done\n",
      "MA3 for Recency 2 done\n",
      "MA3 for Recency 3 done\n",
      "MA3 for Recency 4 done\n"
     ]
    },
    {
     "name": "stderr",
     "output_type": "stream",
     "text": [
      "100%|██████████████████████████████████████████████████████████████████████████████████████████████████████████████████████████████████████| 10/10 [00:18<00:00,  1.88s/it]\n"
     ]
    },
    {
     "name": "stdout",
     "output_type": "stream",
     "text": [
      "[LightGBM] [Warning] verbosity is set=-1, verbose=-1 will be ignored. Current value: verbosity=-1\n",
      "Method: 3, Order: 4, Metric: 0.7550\n",
      "Average done\n",
      "Minimum done\n",
      "Maximum done\n",
      "Standard Deviation done\n",
      "Last entry done\n",
      "First entry done\n",
      "Second last entry done\n",
      "Third last entry done\n",
      "MA3 for Recency 1 done\n",
      "MA3 for Recency 2 done\n",
      "MA3 for Recency 3 done\n",
      "MA3 for Recency 4 done\n"
     ]
    },
    {
     "name": "stderr",
     "output_type": "stream",
     "text": [
      "100%|██████████████████████████████████████████████████████████████████████████████████████████████████████████████████████████████████████| 10/10 [00:18<00:00,  1.88s/it]\n"
     ]
    },
    {
     "name": "stdout",
     "output_type": "stream",
     "text": [
      "[LightGBM] [Warning] verbosity is set=-1, verbose=-1 will be ignored. Current value: verbosity=-1\n",
      "Method: 4, Order: 1, Metric: 0.7550\n",
      "Average done\n",
      "Minimum done\n",
      "Maximum done\n",
      "Standard Deviation done\n",
      "Last entry done\n",
      "First entry done\n",
      "Second last entry done\n",
      "Third last entry done\n",
      "MA3 for Recency 1 done\n",
      "MA3 for Recency 2 done\n",
      "MA3 for Recency 3 done\n",
      "MA3 for Recency 4 done\n"
     ]
    },
    {
     "name": "stderr",
     "output_type": "stream",
     "text": [
      "100%|██████████████████████████████████████████████████████████████████████████████████████████████████████████████████████████████████████| 10/10 [00:19<00:00,  1.93s/it]\n"
     ]
    },
    {
     "name": "stdout",
     "output_type": "stream",
     "text": [
      "[LightGBM] [Warning] verbosity is set=-1, verbose=-1 will be ignored. Current value: verbosity=-1\n",
      "Method: 4, Order: 2, Metric: 0.7551\n",
      "Average done\n",
      "Minimum done\n",
      "Maximum done\n",
      "Standard Deviation done\n",
      "Last entry done\n",
      "First entry done\n",
      "Second last entry done\n",
      "Third last entry done\n",
      "MA3 for Recency 1 done\n",
      "MA3 for Recency 2 done\n",
      "MA3 for Recency 3 done\n",
      "MA3 for Recency 4 done\n"
     ]
    },
    {
     "name": "stderr",
     "output_type": "stream",
     "text": [
      "100%|██████████████████████████████████████████████████████████████████████████████████████████████████████████████████████████████████████| 10/10 [00:18<00:00,  1.89s/it]\n"
     ]
    },
    {
     "name": "stdout",
     "output_type": "stream",
     "text": [
      "[LightGBM] [Warning] verbosity is set=-1, verbose=-1 will be ignored. Current value: verbosity=-1\n",
      "Method: 4, Order: 3, Metric: 0.7551\n",
      "Average done\n",
      "Minimum done\n",
      "Maximum done\n",
      "Standard Deviation done\n",
      "Last entry done\n",
      "First entry done\n",
      "Second last entry done\n",
      "Third last entry done\n",
      "MA3 for Recency 1 done\n",
      "MA3 for Recency 2 done\n",
      "MA3 for Recency 3 done\n",
      "MA3 for Recency 4 done\n"
     ]
    },
    {
     "name": "stderr",
     "output_type": "stream",
     "text": [
      "100%|█████████████████████████████████████████████████████████████████████████████████████████████████████████████████████████████████████| 10/10 [00:19<00:00,  1.95s/it]\n"
     ]
    },
    {
     "name": "stdout",
     "output_type": "stream",
     "text": [
      "[LightGBM] [Warning] verbosity is set=-1, verbose=-1 will be ignored. Current value: verbosity=-1\n",
      "Method: 4, Order: 4, Metric: 0.7547\n",
      "CPU times: user 1h 7min 32s, sys: 18min 48s, total: 1h 26min 20s\n",
      "Wall time: 34min 16s\n"
     ]
    }
   ],
   "source": [
    "%%time\n",
    "for method in [3, 4]: #range(4):\n",
    "    if method in [3, 4]:\n",
    "        for order in [1, 2, 3, 4]:\n",
    "            gc.collect()\n",
    "            train_subset = train.loc[:, standard_columns + TOP_PERFORMANCE_FEATURES + [test_feature]]\n",
    "            train_subset[test_feature] = impute_(train_subset, col=test_feature, method=method, order=order)\n",
    "            train_agg = feature_gen_pipeline(train_subset)\n",
    "            train_data, valid_data, X_val, y_val, cat_columns = prepare_lgb_train_test(train_agg, labels)\n",
    "            score_metric = train_and_evaluate_strategy(train_data, valid_data, X_val, y_val, cat_columns, \n",
    "                                                       lgbm_params=params, lgbm_metric=lgb_amex_metric)\n",
    "            print(f\"Method: {method}, Order: {order}, Metric: {score_metric[0]:.4f}\")\n",
    "    else:\n",
    "        gc.collect()\n",
    "        train_subset = train.loc[:, standard_columns + TOP_PERFORMANCE_FEATURES + [test_feature]]\n",
    "        train_subset[test_feature] = impute_(train_subset, col=test_feature, method=method)\n",
    "        train_agg = feature_gen_pipeline(train_subset)\n",
    "        train_data, valid_data, X_val, y_val, cat_columns = prepare_lgb_train_test(train_agg, labels)\n",
    "        score_metric = train_and_evaluate_strategy(train_data, valid_data, X_val, y_val, cat_columns, \n",
    "                                                   lgbm_params=params, lgbm_metric=lgb_amex_metric)\n",
    "        print(f\"Method: {method}, Metric: {score_metric[0]:.4f}\")"
   ]
  },
  {
   "cell_type": "code",
   "execution_count": 179,
   "id": "081466ba-08bd-4ce6-96f5-5f2267d81463",
   "metadata": {},
   "outputs": [],
   "source": [
    "train_subset = train.loc[:, standard_columns + TOP_PERFORMANCE_FEATURES + [test_feature]]"
   ]
  },
  {
   "cell_type": "code",
   "execution_count": 180,
   "id": "1c9d8357-58d6-4638-b79f-6de2e7aab87e",
   "metadata": {},
   "outputs": [],
   "source": [
    "cid = train_subset.loc[train_subset[test_feature].isnull()][\"customer_ID\"].unique()[32]"
   ]
  },
  {
   "cell_type": "code",
   "execution_count": 181,
   "id": "5cf548f9-745c-46b4-a90c-25b773b77bee",
   "metadata": {},
   "outputs": [
    {
     "data": {
      "text/plain": [
       "2852        NaN\n",
       "2853        NaN\n",
       "2854        NaN\n",
       "2855        NaN\n",
       "2856   0.017558\n",
       "2857   0.012111\n",
       "2858   0.017713\n",
       "2859   0.017557\n",
       "Name: D_119, dtype: float32"
      ]
     },
     "execution_count": 181,
     "metadata": {},
     "output_type": "execute_result"
    }
   ],
   "source": [
    "train_subset.loc[train_subset[\"customer_ID\"] == cid, test_feature]"
   ]
  },
  {
   "cell_type": "code",
   "execution_count": 182,
   "id": "d6d1e69a-6301-4bf1-a4ad-190d02a2d995",
   "metadata": {},
   "outputs": [],
   "source": [
    "train_subset[test_feature] = train_subset.groupby(\"customer_ID\")[test_feature].transform(lambda x: interpolate_series(x, 4, 3))"
   ]
  },
  {
   "cell_type": "code",
   "execution_count": 184,
   "id": "585996ad-9c88-465e-afe9-6d1bfa6f045b",
   "metadata": {},
   "outputs": [
    {
     "data": {
      "text/plain": [
       "2852        NaN\n",
       "2853        NaN\n",
       "2854        NaN\n",
       "2855        NaN\n",
       "2856   0.017558\n",
       "2857   0.012111\n",
       "2858   0.017713\n",
       "2859   0.017557\n",
       "Name: D_119, dtype: float32"
      ]
     },
     "execution_count": 184,
     "metadata": {},
     "output_type": "execute_result"
    }
   ],
   "source": [
    "train_subset.loc[train_subset[\"customer_ID\"] == cid, test_feature]"
   ]
  },
  {
   "cell_type": "code",
   "execution_count": 185,
   "id": "dd843740-7500-45c5-b00c-f697988bd847",
   "metadata": {},
   "outputs": [],
   "source": [
    "# train_subset[test_feature] = train_subset.groupby(\"customer_ID\")[test_feature].transform(lambda x: x.fillna(x.mean()))"
   ]
  },
  {
   "cell_type": "code",
   "execution_count": 186,
   "id": "3cbceacc-af68-447f-a284-5296483fdc29",
   "metadata": {},
   "outputs": [],
   "source": [
    "train_subset[test_feature] = train_subset.groupby(\"customer_ID\")[test_feature].transform(lambda x: x.ffill().bfill())"
   ]
  },
  {
   "cell_type": "code",
   "execution_count": 187,
   "id": "22d6dc62-4802-4e07-9df3-128a3862d55d",
   "metadata": {},
   "outputs": [
    {
     "data": {
      "text/plain": [
       "2852   0.017558\n",
       "2853   0.017558\n",
       "2854   0.017558\n",
       "2855   0.017558\n",
       "2856   0.017558\n",
       "2857   0.012111\n",
       "2858   0.017713\n",
       "2859   0.017557\n",
       "Name: D_119, dtype: float32"
      ]
     },
     "execution_count": 187,
     "metadata": {},
     "output_type": "execute_result"
    }
   ],
   "source": [
    "train_subset.loc[train_subset[\"customer_ID\"] == cid, test_feature]"
   ]
  },
  {
   "cell_type": "code",
   "execution_count": 178,
   "id": "611913c4-1775-4521-ae93-444f495ec742",
   "metadata": {},
   "outputs": [
    {
     "data": {
      "text/plain": [
       "2852   0.016235\n",
       "2853   0.016235\n",
       "2854   0.016235\n",
       "2855   0.016235\n",
       "2856   0.017558\n",
       "2857   0.012111\n",
       "2858   0.017713\n",
       "2859   0.017557\n",
       "Name: D_119, dtype: float32"
      ]
     },
     "execution_count": 178,
     "metadata": {},
     "output_type": "execute_result"
    }
   ],
   "source": [
    "train_subset.loc[train_subset[\"customer_ID\"] == cid, test_feature]"
   ]
  },
  {
   "cell_type": "code",
   "execution_count": null,
   "id": "23034d46-f988-4251-93ca-5e6c350829ca",
   "metadata": {},
   "outputs": [],
   "source": [
    "train_subset[test_feature] = train_subset[test_feature].fillna(train_subset[test_feature].mean())"
   ]
  },
  {
   "cell_type": "code",
   "execution_count": 58,
   "id": "6e6a55a4-e01d-4ac7-86ba-1a15be355a48",
   "metadata": {},
   "outputs": [
    {
     "name": "stderr",
     "output_type": "stream",
     "text": [
      "\n",
      "KeyboardInterrupt\n",
      "\n"
     ]
    }
   ],
   "source": [
    "%%time\n",
    "m1 = impute_(train_subset, col=\"B_13\", method=0)\n",
    "m2 = impute_(train_subset, col=\"B_13\", method=1)\n",
    "m3 = impute_(train_subset, col=\"B_13\", method=2)"
   ]
  },
  {
   "cell_type": "code",
   "execution_count": null,
   "id": "380e2b62-b43f-496f-bad2-112671ceb74b",
   "metadata": {},
   "outputs": [],
   "source": [
    "%%time\n",
    "train_agg = feature_gen_pipeline(train_subset)\n",
    "# for col in train_agg.columns[1:]:\n",
    "#     train_agg[col] = train_agg[col].fillna(train_agg[col].mean())"
   ]
  },
  {
   "cell_type": "code",
   "execution_count": null,
   "id": "294f71d0-1e84-4e12-bf2e-aa8cdf3eb4c4",
   "metadata": {},
   "outputs": [],
   "source": []
  },
  {
   "cell_type": "code",
   "execution_count": null,
   "id": "80605314-9253-4174-8865-53989db22090",
   "metadata": {},
   "outputs": [],
   "source": [
    "%%time\n"
   ]
  },
  {
   "cell_type": "code",
   "execution_count": null,
   "id": "01be0f5d-5e63-4b08-a4df-5c72eba06ca1",
   "metadata": {},
   "outputs": [],
   "source": [
    "# Impute by linear interpolation then impute by group mean\n"
   ]
  },
  {
   "cell_type": "code",
   "execution_count": null,
   "id": "37eb86b1-bc43-4842-bee6-e9774eff0133",
   "metadata": {},
   "outputs": [],
   "source": [
    "xxx"
   ]
  },
  {
   "cell_type": "code",
   "execution_count": null,
   "id": "98b3d14b-4136-44cf-bdba-1527f5b5a71d",
   "metadata": {},
   "outputs": [],
   "source": [
    "# Impute by group mean\n",
    "amex_metric(y_val.values, y_val_pred)"
   ]
  },
  {
   "cell_type": "code",
   "execution_count": null,
   "id": "c0b0c274-b2fc-41bb-acf0-e0a7cb985abf",
   "metadata": {},
   "outputs": [],
   "source": [
    "# Impute by global mean\n",
    "amex_metric(y_val.values, y_val_pred)"
   ]
  },
  {
   "cell_type": "markdown",
   "id": "67ee6ff8-3075-45d0-9b4f-66fe43603567",
   "metadata": {},
   "source": [
    "### Imputation using other method"
   ]
  },
  {
   "cell_type": "code",
   "execution_count": null,
   "id": "625f1d19-9c3e-4d18-a450-86a4fdb83697",
   "metadata": {},
   "outputs": [],
   "source": [
    "%%time\n",
    "train_subset = train.loc[:, standard_columns + features]"
   ]
  },
  {
   "cell_type": "code",
   "execution_count": null,
   "id": "d076aca9-6b8c-48b4-a141-0a942b7b710a",
   "metadata": {},
   "outputs": [],
   "source": [
    "# # Forward fill then back fill\n",
    "# train_subset[\"P_2\"] = train_subset.groupby(\"customer_ID\")[\"P_2\"].ffill().bfill()"
   ]
  },
  {
   "cell_type": "code",
   "execution_count": null,
   "id": "425eec61-c144-4e38-83a4-4e8384484aec",
   "metadata": {},
   "outputs": [],
   "source": [
    "%%time\n"
   ]
  },
  {
   "cell_type": "code",
   "execution_count": null,
   "id": "02328eb0-e218-42db-aa3f-b224b8947385",
   "metadata": {},
   "outputs": [],
   "source": [
    "%%time\n",
    "# Impute using interpolate method\n",
    "train_subset[\"temp\"] = train_subset.groupby(\"customer_ID\")[\"P_2\"].transform(lambda x: x.interpolate(method=\"index\"))"
   ]
  },
  {
   "cell_type": "code",
   "execution_count": null,
   "id": "4d7d6f03-164c-43ee-905a-12b0295cc552",
   "metadata": {},
   "outputs": [],
   "source": [
    "t = train_subset.groupby(\"customer_ID\")[\"temp\"].transform(\n",
    "    lambda x: x.fillna(x.mean()).fillna(train_subset[\"temp\"].mean())\n",
    ")"
   ]
  },
  {
   "cell_type": "code",
   "execution_count": null,
   "id": "ac919a46-507e-4e50-9916-8876b7fe90c1",
   "metadata": {},
   "outputs": [],
   "source": [
    "train_subset[\"temp\"].isnull().sum()"
   ]
  },
  {
   "cell_type": "code",
   "execution_count": null,
   "id": "47606a8a-d784-4f25-b334-55c310949eda",
   "metadata": {},
   "outputs": [],
   "source": [
    "%%time\n",
    "train_agg = feature_gen_pipeline(train_subset)\n",
    "# for col in train_agg.columns[1:]:\n",
    "#     train_agg[col] = train_agg[col].fillna(train_agg[col].mean())"
   ]
  },
  {
   "cell_type": "code",
   "execution_count": null,
   "id": "e0a4fe84-b190-4435-804a-3bfe2b093c22",
   "metadata": {},
   "outputs": [],
   "source": [
    "X = train_agg.drop(columns=standard_columns, errors=\"ignore\")\n",
    "y = labels[\"target\"]\n",
    "X.shape, y.shape"
   ]
  },
  {
   "cell_type": "code",
   "execution_count": null,
   "id": "1c260a3d-ed9b-40e0-8442-d83d92f6ceff",
   "metadata": {},
   "outputs": [],
   "source": [
    "X_train, X_val, y_train, y_val = train_test_split(X, y, test_size=0.2, random_state=923)"
   ]
  },
  {
   "cell_type": "code",
   "execution_count": null,
   "id": "e78809ed-89bb-43af-a2a1-4e2d9bfd6fe5",
   "metadata": {},
   "outputs": [],
   "source": [
    "train_data = lgb.Dataset(\n",
    "    X_train,\n",
    "    y_train\n",
    ")"
   ]
  },
  {
   "cell_type": "code",
   "execution_count": null,
   "id": "3c909916-537a-4a39-9697-0b56cd1f8ad6",
   "metadata": {},
   "outputs": [],
   "source": [
    "valid_data = lgb.Dataset(\n",
    "    X_val,\n",
    "    y_val,\n",
    "    reference=train_data\n",
    ")"
   ]
  },
  {
   "cell_type": "code",
   "execution_count": null,
   "id": "827c9176-bb66-4898-9eae-173132350c74",
   "metadata": {},
   "outputs": [],
   "source": [
    "cat_columns = X_train.select_dtypes(\"category\").columns.tolist()"
   ]
  },
  {
   "cell_type": "code",
   "execution_count": null,
   "id": "7c8b680c-204d-4aad-b67d-1b6f43f5af37",
   "metadata": {},
   "outputs": [],
   "source": [
    "with warnings.catch_warnings():\n",
    "    warnings.filterwarnings('ignore', category=UserWarning)\n",
    "    model = lgb.train(\n",
    "        params=params,\n",
    "        train_set=train_data, \n",
    "        valid_sets=[valid_data, train_data], \n",
    "        feval=lgb_amex_metric, \n",
    "        early_stopping_rounds=200,\n",
    "        categorical_feature=cat_columns,\n",
    "        callbacks=[\n",
    "            log_evaluation(100),\n",
    "        ]\n",
    "    )"
   ]
  },
  {
   "cell_type": "code",
   "execution_count": null,
   "id": "9f354932-e14a-43d6-954a-2f47c1690365",
   "metadata": {},
   "outputs": [],
   "source": [
    "%%time\n",
    "y_val_pred = model.predict(X_val, raw_score=True)"
   ]
  },
  {
   "cell_type": "code",
   "execution_count": null,
   "id": "af0031fb-db99-46e5-8c12-15daee1088e7",
   "metadata": {},
   "outputs": [],
   "source": [
    "amex_metric(y_val.values, y_val_pred)"
   ]
  },
  {
   "cell_type": "code",
   "execution_count": null,
   "id": "96e4782a-e37a-48c9-bc6e-0fb56d5f652a",
   "metadata": {},
   "outputs": [],
   "source": []
  },
  {
   "cell_type": "code",
   "execution_count": null,
   "id": "d60c2caa-b609-4c68-bf50-5489ab1992a4",
   "metadata": {},
   "outputs": [],
   "source": [
    "amex_metric(y_val.values, y_val_pred)"
   ]
  },
  {
   "cell_type": "markdown",
   "id": "c77bd53d-2993-4b28-8d37-590667bafc4b",
   "metadata": {},
   "source": [
    "### Impute using interpolate"
   ]
  },
  {
   "cell_type": "code",
   "execution_count": null,
   "id": "f0293f13-eb54-4a97-ad06-196c9987a7e7",
   "metadata": {},
   "outputs": [],
   "source": [
    "missing_cols = set(train_missing_prop_df.loc[train_missing_prop_df[\"missing_proportion\"] <= 50][\"column\"].tolist())"
   ]
  },
  {
   "cell_type": "code",
   "execution_count": null,
   "id": "2749e178-9b07-44c8-a22f-4e0148c80775",
   "metadata": {},
   "outputs": [],
   "source": [
    "cat_cols = set(train.select_dtypes(\"category\").columns.tolist())"
   ]
  },
  {
   "cell_type": "code",
   "execution_count": null,
   "id": "c14f129c-7460-4031-a12d-251736a520b0",
   "metadata": {},
   "outputs": [],
   "source": [
    "to_impute_cols = sorted(list(missing_cols - cat_cols))"
   ]
  },
  {
   "cell_type": "code",
   "execution_count": null,
   "id": "ed16ccc1-ce25-44ec-a522-80463e779829",
   "metadata": {},
   "outputs": [],
   "source": [
    "len(to_impute_cols)"
   ]
  },
  {
   "cell_type": "markdown",
   "id": "f80f8ca3-e98b-4d12-a89b-31854589d879",
   "metadata": {},
   "source": [
    "#### Impute Train"
   ]
  },
  {
   "cell_type": "code",
   "execution_count": null,
   "id": "b00b2045-8db4-4268-9dc2-d97513d01754",
   "metadata": {},
   "outputs": [],
   "source": [
    "%%time\n",
    "t = train.loc[:, [\"customer_ID\"] + to_impute_cols].groupby('customer_ID').apply(lambda group: group.interpolate().ffill().bfill())"
   ]
  },
  {
   "cell_type": "code",
   "execution_count": null,
   "id": "96067bd6-add2-466c-ab23-6fbc14e878cd",
   "metadata": {},
   "outputs": [],
   "source": [
    "t.shape"
   ]
  },
  {
   "cell_type": "code",
   "execution_count": null,
   "id": "d5347c75-0e7b-4581-9eeb-4e6b1ef17296",
   "metadata": {},
   "outputs": [],
   "source": [
    "for col in tqdm(to_impute_cols):\n",
    "    t = train[[\"customer_ID\", col]].groupby('customer_ID').apply(lambda group: group.interpolate().ffill().bfill())\n",
    "    train[col] = t[col].values\n",
    "    gc.collect()"
   ]
  },
  {
   "cell_type": "code",
   "execution_count": null,
   "id": "a5372083-a9ea-473d-8b88-e37f55cfee02",
   "metadata": {},
   "outputs": [],
   "source": [
    "train.to_pickle(f\"{RAW_TRAIN_PICKLE_PATH}/train_data.pkl\")"
   ]
  },
  {
   "cell_type": "markdown",
   "id": "c223887c-650f-42a8-b6aa-edc26374bc56",
   "metadata": {},
   "source": [
    "#### Impute Test"
   ]
  },
  {
   "cell_type": "code",
   "execution_count": null,
   "id": "8a39670c-9eb6-4aae-a2e4-c757ba1f3f67",
   "metadata": {},
   "outputs": [],
   "source": [
    "if \"train\" in locals():\n",
    "    del train"
   ]
  },
  {
   "cell_type": "code",
   "execution_count": null,
   "id": "5ee76ea8-0144-468b-a776-383ecee477a1",
   "metadata": {},
   "outputs": [],
   "source": [
    "gc.collect()"
   ]
  },
  {
   "cell_type": "code",
   "execution_count": null,
   "id": "83492f85-3b36-4997-86f0-635e6c86e4ca",
   "metadata": {},
   "outputs": [],
   "source": [
    "%%time\n",
    "test = read_file(f\"{RAW_TEST_PICKLE_PATH}/raw_test_data.pkl\", replace_negative_one=True)"
   ]
  },
  {
   "cell_type": "code",
   "execution_count": null,
   "id": "9621e4a9-81cc-4018-a486-d1090f480c49",
   "metadata": {},
   "outputs": [],
   "source": [
    "for col in tqdm(to_impute_cols):\n",
    "    t = test[[\"customer_ID\", col]].groupby('customer_ID').apply(lambda group: group.interpolate().ffill().bfill())\n",
    "    test[col] = t[col].values\n",
    "    gc.collect()"
   ]
  },
  {
   "cell_type": "code",
   "execution_count": null,
   "id": "701dd050-dfe0-4f36-9909-52d559bbffd9",
   "metadata": {},
   "outputs": [],
   "source": [
    "test.to_pickle(f\"{RAW_TEST_PICKLE_PATH}/test_data.pkl\")"
   ]
  },
  {
   "cell_type": "code",
   "execution_count": null,
   "id": "201f8904-5199-48c2-9320-32695a41e0d6",
   "metadata": {},
   "outputs": [],
   "source": [
    "del test"
   ]
  },
  {
   "cell_type": "markdown",
   "id": "e05ee7c6-50e9-442c-af01-07ef6ccb59bc",
   "metadata": {},
   "source": [
    "### S_23"
   ]
  },
  {
   "cell_type": "code",
   "execution_count": null,
   "id": "8f3604b1-4fb0-44e0-92f0-d94974310703",
   "metadata": {},
   "outputs": [],
   "source": [
    "plot_target_check(train, \"S_23\", q=100)"
   ]
  },
  {
   "cell_type": "code",
   "execution_count": null,
   "id": "023b3497-fcab-4982-84be-b278a9810aff",
   "metadata": {},
   "outputs": [],
   "source": [
    "train[\"S_23\"].describe()"
   ]
  },
  {
   "cell_type": "code",
   "execution_count": null,
   "id": "7a516c97-c183-4eb8-8e4e-d648b02caf68",
   "metadata": {},
   "outputs": [],
   "source": [
    "np.percentile(train[\"S_23\"].dropna(), 1)"
   ]
  },
  {
   "cell_type": "code",
   "execution_count": null,
   "id": "85df86dd-9cfa-4af5-877f-8bf1b9379a10",
   "metadata": {},
   "outputs": [],
   "source": [
    "null_indices = train.loc[train[\"S_23\"].isnull()].index.tolist()"
   ]
  },
  {
   "cell_type": "code",
   "execution_count": null,
   "id": "fb7155be-5b1f-497a-b056-e9dfb0504e5e",
   "metadata": {},
   "outputs": [],
   "source": [
    "cid_list = train.loc[null_indices, \"customer_ID\"].values.tolist()"
   ]
  },
  {
   "cell_type": "code",
   "execution_count": null,
   "id": "f2ee4865-c546-4484-af32-ee0a390c6213",
   "metadata": {},
   "outputs": [],
   "source": [
    "index = 14\n",
    "cid = cid_list[index]"
   ]
  },
  {
   "cell_type": "code",
   "execution_count": null,
   "id": "7a1dc3e2-24ab-4bfb-8842-e87a4b117f4b",
   "metadata": {},
   "outputs": [],
   "source": [
    "# train.loc[train[\"customer_ID\"] == cid, \"S_23\"]"
   ]
  },
  {
   "cell_type": "code",
   "execution_count": null,
   "id": "3d478047-17f7-4751-972e-4f1681181517",
   "metadata": {},
   "outputs": [],
   "source": [
    "print(f'Target = {labels.loc[labels[\"customer_ID\"] == cid][\"target\"].values[0]}')\n",
    "train.loc[train[\"customer_ID\"] == cid, \"S_23\"].plot()\n",
    "plt.show()"
   ]
  },
  {
   "cell_type": "code",
   "execution_count": null,
   "id": "71d3b113-2512-4145-a398-0c4e0a18e907",
   "metadata": {},
   "outputs": [],
   "source": [
    "%%time\n",
    "t = train[[\"customer_ID\", \"S_23\"]].groupby('customer_ID').apply(lambda group: group.interpolate().ffill().bfill())"
   ]
  },
  {
   "cell_type": "code",
   "execution_count": null,
   "id": "c0c68e9a-fa2a-4228-b904-9d38f29bc5dd",
   "metadata": {},
   "outputs": [],
   "source": [
    "t[\"S_23\"].values"
   ]
  },
  {
   "cell_type": "code",
   "execution_count": null,
   "id": "ccbea551-787e-48cd-b9f7-a43ca6cc8f12",
   "metadata": {},
   "outputs": [],
   "source": [
    "train.loc[train[\"S_23\"].isnull()]"
   ]
  },
  {
   "cell_type": "code",
   "execution_count": null,
   "id": "014551ca-86b4-4b00-890d-fb45a377109a",
   "metadata": {},
   "outputs": [],
   "source": [
    "train.groupby('customer_ID').apply(lambda group: group[\"S_23\"].interpolate(method='index'))"
   ]
  },
  {
   "cell_type": "markdown",
   "id": "822abf09-6c0f-4165-aaec-fcd6e5c50763",
   "metadata": {},
   "source": [
    "### S_26, B_41"
   ]
  },
  {
   "cell_type": "code",
   "execution_count": null,
   "id": "36fecd11-851f-45d9-9f2e-e04763509392",
   "metadata": {},
   "outputs": [],
   "source": [
    "check_overlap_missing(train, \"S_26\", \"B_41\")"
   ]
  },
  {
   "cell_type": "markdown",
   "id": "6cadf13f-88bf-4fb0-bd31-63256a86e1c2",
   "metadata": {},
   "source": [
    "### Impute"
   ]
  },
  {
   "cell_type": "code",
   "execution_count": null,
   "id": "5f4c934c-f829-4eea-b4f6-d9ec24bbeefa",
   "metadata": {},
   "outputs": [],
   "source": [
    "from sklearn.experimental import enable_iterative_imputer\n",
    "from sklearn.impute import IterativeImputer"
   ]
  },
  {
   "cell_type": "code",
   "execution_count": null,
   "id": "e917918c-88e7-4261-a991-d4ec419c8f21",
   "metadata": {},
   "outputs": [],
   "source": [
    "%%time\n",
    "imp = IterativeImputer(\n",
    "    missing_values=np.nan, \n",
    "    max_iter=3, \n",
    "    verbose=2, \n",
    "    imputation_order='roman', \n",
    "    random_state=0\n",
    ")"
   ]
  },
  {
   "cell_type": "code",
   "execution_count": null,
   "id": "6903dac2-3768-4f96-8f0a-67beb3da6a1b",
   "metadata": {},
   "outputs": [],
   "source": [
    "%%time\n",
    "train_num = train.select_dtypes(np.number).iloc[:, 2:-1]"
   ]
  },
  {
   "cell_type": "code",
   "execution_count": null,
   "id": "17615c3c-bc06-4f1d-acd2-67a5587bb16a",
   "metadata": {},
   "outputs": [],
   "source": [
    "train_num.shape"
   ]
  },
  {
   "cell_type": "code",
   "execution_count": null,
   "id": "b4f2adf5-86a7-4870-83e4-f79455f8b5b3",
   "metadata": {},
   "outputs": [],
   "source": [
    "# train_num"
   ]
  },
  {
   "cell_type": "code",
   "execution_count": null,
   "id": "2d4f7072-6f6b-47d0-9921-35cbcb011cc0",
   "metadata": {},
   "outputs": [],
   "source": [
    "%%time\n",
    "sample_imputed = imp.fit_transform(train_num)"
   ]
  },
  {
   "cell_type": "code",
   "execution_count": null,
   "id": "2ab823f4-2df8-4d1d-8442-e12b14563fbf",
   "metadata": {},
   "outputs": [],
   "source": [
    "pd.DataFrame(sample_imputed, columns=sample.iloc[:, :4].columns)"
   ]
  },
  {
   "cell_type": "code",
   "execution_count": null,
   "id": "f44911f9-3b15-4842-b249-d8c1cc0fd9b6",
   "metadata": {},
   "outputs": [],
   "source": [
    "sample_imputed.columns"
   ]
  },
  {
   "cell_type": "markdown",
   "id": "aeff9504-581c-49d3-bfb2-c29f010da9d8",
   "metadata": {
    "tags": []
   },
   "source": [
    "### Finish Simple Imputation, export data"
   ]
  },
  {
   "cell_type": "code",
   "execution_count": null,
   "id": "21ed6c0d-4ef3-45e9-8888-76a01339fdc3",
   "metadata": {},
   "outputs": [],
   "source": [
    "train[\"D_132\"] = train.groupby(\"customer_ID\")[\"D_132\"].apply(lambda group: group.interpolate(method='index'))\n",
    "test[\"D_132\"] = test.groupby(\"customer_ID\")[\"D_132\"].apply(lambda group: group.interpolate(method='index'))"
   ]
  },
  {
   "cell_type": "code",
   "execution_count": null,
   "id": "2dbce8d3-7b3d-42e5-8770-90f4518564f6",
   "metadata": {},
   "outputs": [],
   "source": [
    "# %%time\n",
    "# train.to_pickle(f\"{PROCESSED_DATA_PATH}/train_data_half_processed.pkl\")\n",
    "# test.to_pickle(f\"{PROCESSED_DATA_PATH}/test_data_half_processed.pkl\")"
   ]
  },
  {
   "cell_type": "markdown",
   "id": "943cdc94-c4f4-445a-8ff4-df3cdd706f7e",
   "metadata": {},
   "source": [
    "### Read Imputed (WIP) Data"
   ]
  },
  {
   "cell_type": "code",
   "execution_count": null,
   "id": "7a70f290-e2e4-4ce9-941b-02c5ea69c23e",
   "metadata": {},
   "outputs": [],
   "source": [
    "train = read_file(f\"{PROCESSED_DATA_PATH}/train_data_imputed.pkl\")"
   ]
  },
  {
   "cell_type": "code",
   "execution_count": null,
   "id": "fb110131-dd03-4744-8b25-dc85165bf073",
   "metadata": {},
   "outputs": [],
   "source": []
  },
  {
   "cell_type": "code",
   "execution_count": null,
   "id": "5c8cdfa1-4dd1-4eec-b726-fd6acf6b0da1",
   "metadata": {},
   "outputs": [],
   "source": [
    "test = read_file(f\"{PROCESSED_DATA_PATH}/test_data_imputed.pkl\")"
   ]
  },
  {
   "cell_type": "code",
   "execution_count": null,
   "id": "9d33f01d-133a-444f-9794-934961fcb462",
   "metadata": {},
   "outputs": [],
   "source": [
    "test_missing_prop_df = plot_missing_proportion_barchart(test, top_n=50)"
   ]
  },
  {
   "cell_type": "markdown",
   "id": "185ab658-57fe-4c32-aff7-6c21fa5cca71",
   "metadata": {},
   "source": [
    "### Recursive KNN"
   ]
  },
  {
   "cell_type": "code",
   "execution_count": null,
   "id": "b73afaed-c913-49c5-ad8d-df3df4e00e82",
   "metadata": {},
   "outputs": [],
   "source": [
    "test_corr_df = read_file(f\"{PROCESSED_DATA_PATH}/raw_column_correlation/test_corr_df.csv\").drop(columns=\"customer_ID\")\n",
    "test_corr_df.index = test_corr_df.columns"
   ]
  },
  {
   "cell_type": "code",
   "execution_count": null,
   "id": "cc830fbf-12ab-41de-bc0c-22b0488e6d2a",
   "metadata": {},
   "outputs": [],
   "source": [
    "def recursive_impute_using_knn(df, corr_df, corr_thr=0.3, corr_search_step_size=0.02, \n",
    "                               predictor_size_thr=5, list_of_k=[99], max_try_threshold=6, \n",
    "                               skip_first_n=0):\n",
    "    missing = df.isnull().sum()\n",
    "    missing = missing[missing > 0].sort_values()\n",
    "    impute_columns = missing.index.tolist()\n",
    "\n",
    "    for impute_column in impute_columns[skip_first_n:]:\n",
    "        print(f\"Selecting correlated column with {impute_column}...\")\n",
    "        curr_corr = corr_thr\n",
    "        predictor_columns = []\n",
    "        max_tries = 0\n",
    "        while len(predictor_columns) < predictor_size_thr and max_tries < max_try_threshold:\n",
    "            \n",
    "            if curr_corr < corr_thr:\n",
    "                print(f\"Re-selecting correlated column using {curr_corr}\")\n",
    "            curr_corr -= corr_search_step_size\n",
    "            max_tries += 1\n",
    "            \n",
    "            high_corr_columns = corr_df.loc[\n",
    "                corr_df[impute_column].abs().between(curr_corr, 0.999), impute_column\n",
    "            ].sort_values(ascending=False).index.tolist()\n",
    "            no_missing_columns = df.isnull().sum()[df.isnull().sum() == 0].index.tolist()\n",
    "            predictor_columns = list(set(high_corr_columns).intersection(set(no_missing_columns)))\n",
    "            predictor_columns = predictor_columns[:predictor_size_thr]\n",
    "        if max_tries >= max_try_threshold:\n",
    "            print(\"Exceed max tries in searching correlated columns, skip this feature\")\n",
    "            continue\n",
    "        train_val_knn = df.loc[~df[impute_column].isnull()]\n",
    "        test_knn = df.loc[df[impute_column].isnull()]\n",
    "        print(f\"{predictor_columns} selected as predictors\")\n",
    "        if test_knn.shape[0] == 0:\n",
    "            print(f\"{impute_column} has no missing values, skip\\n\")\n",
    "            continue\n",
    "        train_knn, val_knn = train_test_split(train_val_knn, test_size=0.2, random_state=20)\n",
    "        print(f\"Train, Validation, Test size: {train_knn.shape[0], val_knn.shape[0], test_knn.shape[0]}\")\n",
    "        min_rmse = np.inf\n",
    "        best_k = 0\n",
    "        std = df[impute_column].std()\n",
    "        print(f\"{impute_column} standard deviation: {std:.4f}\")\n",
    "        for k in list_of_k:\n",
    "            knn_model = KNeighborsRegressor(n_neighbors=k).fit(\n",
    "                train_knn.loc[:, predictor_columns], \n",
    "                train_knn.loc[:, impute_column]\n",
    "            )\n",
    "            y_val_pred = knn_model.predict(val_knn.loc[:, predictor_columns])\n",
    "            rmse = np.sqrt(mean_squared_error(val_knn.loc[:, impute_column], y_val_pred))\n",
    "            print(f\"K: {k}, Validation RMSE: {rmse:.5f}\")\n",
    "            if rmse < min_rmse:\n",
    "                min_rmse = rmse\n",
    "                best_knn_model = knn_model\n",
    "                best_k = k\n",
    "        print(f\"Best K is {best_k}\")\n",
    "        if rmse >= std:\n",
    "            print(f\"Standard deviation smaller than RMSE, stop the imputation\")\n",
    "            continue\n",
    "        df.loc[test_knn.index, impute_column] = best_knn_model.predict(test_knn.loc[:, predictor_columns])\n",
    "        if df[impute_column].isnull().sum() > 0:\n",
    "            print(f\"Please check why column {impute_column} has yet to be imputed\")\n",
    "        print(f\"Imputation done!\\n\")\n",
    "        \n",
    "    return df"
   ]
  },
  {
   "cell_type": "code",
   "execution_count": null,
   "id": "2356f7fb-e1df-4895-b983-6cd21688b9b8",
   "metadata": {},
   "outputs": [],
   "source": [
    "test = recursive_impute_using_knn(test, test_corr_df, list_of_k=[99], skip_first_n=4, \n",
    "                                  predictor_size_thr=2, corr_search_step_size=0.015)"
   ]
  },
  {
   "cell_type": "code",
   "execution_count": null,
   "id": "8255dce3-d839-4522-9851-bbc5661fd511",
   "metadata": {},
   "outputs": [],
   "source": [
    "test_missing_prop_df = plot_missing_proportion_barchart(test, top_n=50)"
   ]
  },
  {
   "cell_type": "code",
   "execution_count": null,
   "id": "b3af38de-4984-424e-a9d8-30fa1afa2e05",
   "metadata": {},
   "outputs": [],
   "source": [
    "# plot_scatterplot(train, predictor_columns[0], impute_column, \"target\")"
   ]
  },
  {
   "cell_type": "code",
   "execution_count": null,
   "id": "bbb053ad-7a2c-4dbc-baac-fea0e1f3f141",
   "metadata": {},
   "outputs": [],
   "source": [
    "train.loc[train[\"D_142\"].between(d142_impute_value*0.99, d142_impute_value*1.01), \"target\"].mean()"
   ]
  },
  {
   "cell_type": "code",
   "execution_count": null,
   "id": "ff4e115c-c8d5-4036-bb3b-98f596491f2e",
   "metadata": {},
   "outputs": [],
   "source": [
    "train[\"D_53\"].describe()"
   ]
  },
  {
   "cell_type": "code",
   "execution_count": null,
   "id": "d6325da6-2d94-4793-8577-4659795230e4",
   "metadata": {},
   "outputs": [],
   "source": [
    "test[\"D_53\"].describe()"
   ]
  },
  {
   "cell_type": "code",
   "execution_count": null,
   "id": "c97f70b7-8e94-43a2-a6f9-60e0a0124746",
   "metadata": {},
   "outputs": [],
   "source": [
    "# target_dist_df = single_col_target_check(train, \"D_53\", q=50)"
   ]
  },
  {
   "cell_type": "code",
   "execution_count": null,
   "id": "8a8af9e0-077a-4a16-93d4-7d2f38c1d63d",
   "metadata": {},
   "outputs": [],
   "source": [
    "temp_value = np.percentile(train[\"D_42\"].dropna(), 20)"
   ]
  },
  {
   "cell_type": "code",
   "execution_count": null,
   "id": "27e2d799-fe13-4eb7-b45d-c55254dcb720",
   "metadata": {},
   "outputs": [],
   "source": [
    "train.loc[train[\"D_42\"].between(0.975*temp_value, 1.025*temp_value), \"target\"].mean()"
   ]
  },
  {
   "cell_type": "code",
   "execution_count": null,
   "id": "e2caa49e-5096-4ab9-9eb9-5181c338b508",
   "metadata": {},
   "outputs": [],
   "source": [
    "# test_missing_prop_df = plot_missing_proportion_barchart(test, top_n=25)"
   ]
  },
  {
   "cell_type": "code",
   "execution_count": null,
   "id": "fac3d836-b759-4b70-b3a3-739fd2eb6597",
   "metadata": {},
   "outputs": [],
   "source": [
    "train.shape"
   ]
  },
  {
   "cell_type": "code",
   "execution_count": null,
   "id": "5cc71b2f-0537-4550-af55-d398384619d3",
   "metadata": {},
   "outputs": [],
   "source": [
    "%%time\n",
    "# train.to_pickle(f\"{PROCESSED_DATA_PATH}/train_data_imputed.pkl\")\n",
    "test.to_pickle(f\"{PROCESSED_DATA_PATH}/test_data_imputed.pkl\")"
   ]
  }
 ],
 "metadata": {
  "kernelspec": {
   "display_name": "amex",
   "language": "python",
   "name": "amex"
  },
  "language_info": {
   "codemirror_mode": {
    "name": "ipython",
    "version": 3
   },
   "file_extension": ".py",
   "mimetype": "text/x-python",
   "name": "python",
   "nbconvert_exporter": "python",
   "pygments_lexer": "ipython3",
   "version": "3.10.0"
  }
 },
 "nbformat": 4,
 "nbformat_minor": 5
}
