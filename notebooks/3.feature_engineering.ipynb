{
 "cells": [
  {
   "cell_type": "code",
   "execution_count": 67,
   "id": "5dd2ca34-3410-4078-aa48-7adbba211ed5",
   "metadata": {},
   "outputs": [],
   "source": [
    "import datetime\n",
    "import gc\n",
    "import joblib\n",
    "import matplotlib.pyplot as plt\n",
    "import pandas as pd\n",
    "import numpy as np\n",
    "import optuna\n",
    "import os\n",
    "import scipy.stats\n",
    "import seaborn as sns\n",
    "import sys\n",
    "sys.path.append(\"../\")\n",
    "import time\n",
    "import warnings\n",
    "warnings.simplefilter(\"ignore\")\n",
    "from itertools import repeat\n",
    "from lightgbm import LGBMClassifier, log_evaluation\n",
    "from scipy.stats import randint as sp_randint\n",
    "from scipy.stats import uniform as sp_uniform\n",
    "from sklearn.calibration import CalibrationDisplay\n",
    "from sklearn.model_selection import train_test_split, RandomizedSearchCV, StratifiedKFold\n",
    "from sklearn.preprocessing import StandardScaler\n",
    "from sklearn.metrics import roc_auc_score, fbeta_score, make_scorer\n",
    "from tqdm import tqdm"
   ]
  },
  {
   "cell_type": "code",
   "execution_count": 68,
   "id": "fb17d64c-4cdb-4906-be84-1348484a4886",
   "metadata": {},
   "outputs": [],
   "source": [
    "from matplotlib.ticker import MaxNLocator\n",
    "from matplotlib.colors import ListedColormap\n",
    "from cycler import cycler\n",
    "from IPython.display import display\n",
    "from colorama import Fore, Back, Style\n",
    "plt.rcParams['axes.facecolor'] = '#0057b8' # blue\n",
    "plt.rcParams['axes.prop_cycle'] = cycler(color=['#ffd700'] +\n",
    "                                         plt.rcParams['axes.prop_cycle'].by_key()['color'][1:])\n",
    "plt.rcParams['text.color'] = 'w'"
   ]
  },
  {
   "cell_type": "code",
   "execution_count": 69,
   "id": "a084bef6-4434-40fb-bafc-d7d3e4c57a14",
   "metadata": {},
   "outputs": [],
   "source": [
    "from utils.common import (\n",
    "    sigmoid, pad_column_name\n",
    ")\n",
    "from utils.constants import (\n",
    "    RAW_DATA_PATH, PROCESSED_DATA_PATH\n",
    ")\n",
    "from utils.eval_helpers import (\n",
    "    plot_roc_curves, plot_feature_importance, \n",
    "    amex_metric, get_final_metric_df, amex_metric_np, lgb_amex_metric\n",
    ")\n",
    "from utils.eda_helpers import (\n",
    "    plot_missing_proportion_barchart, \n",
    "    get_cols\n",
    ")\n",
    "from utils.extraction_helpers import read_file\n",
    "from utils.feature_group import (\n",
    "    CATEGORY_COLUMNS, CONTINUOUS_COLUMNS, NON_FEATURE_COLUMNS,\n",
    "    MEAN_FEATURES, MIN_FEATURES, MAX_FEATURES, LAST_FEATURES, FIRST_FEATURES,\n",
    "    RANGE_FEATURES, VELOCITY_FEATURES, SPEED_FEATURES\n",
    ")\n",
    "from utils.feature_engineering_helpers import (\n",
    "    filter_df_for_feature, get_specific_row_df, get_agg_df,\n",
    "    process_data\n",
    ")"
   ]
  },
  {
   "cell_type": "code",
   "execution_count": 70,
   "id": "08cce559-a615-41c7-9d81-0a5e7b981931",
   "metadata": {
    "tags": []
   },
   "outputs": [],
   "source": [
    "RAW_DATA_PATH = \"../raw_data\"\n",
    "PROCESSED_DATA_PATH = \"../processed_data\"\n",
    "SUBMISSION_DATA_PATH = \"../submissions\"\n",
    "EVALUATION_DATA_PATH = \"../evaluation_data\"\n",
    "MODELS_PATH = \"../models\"\n",
    "EXP_PATH = \"../experiments\""
   ]
  },
  {
   "cell_type": "code",
   "execution_count": 71,
   "id": "79487a81-ce62-4847-974a-485a5ce1c515",
   "metadata": {},
   "outputs": [],
   "source": [
    "RAW_TRAIN_PARQUET_PATH = os.path.join(RAW_DATA_PATH, \"train_parquet\")\n",
    "RAW_TRAIN_PICKLE_PATH = os.path.join(RAW_DATA_PATH, \"train_pickle\")\n",
    "RAW_TEST_PARQUET_PATH = os.path.join(RAW_DATA_PATH, \"test_parquet\")\n",
    "RAW_TEST_PICKLE_PATH = os.path.join(RAW_DATA_PATH, \"test_pickle\")"
   ]
  },
  {
   "cell_type": "code",
   "execution_count": 72,
   "id": "67194602-57fc-4e92-9801-8d600e52a5b2",
   "metadata": {},
   "outputs": [
    {
     "name": "stdout",
     "output_type": "stream",
     "text": [
      "The autoreload extension is already loaded. To reload it, use:\n",
      "  %reload_ext autoreload\n"
     ]
    }
   ],
   "source": [
    "%load_ext autoreload\n",
    "%autoreload"
   ]
  },
  {
   "cell_type": "markdown",
   "id": "3885beac-e245-43b6-a2cc-73e9f871d132",
   "metadata": {},
   "source": [
    "### Feature Engineering on Train"
   ]
  },
  {
   "cell_type": "code",
   "execution_count": 73,
   "id": "6735831d-0024-4122-9c7b-1280e519d03e",
   "metadata": {},
   "outputs": [
    {
     "name": "stdout",
     "output_type": "stream",
     "text": [
      "Shape of data: (5531451, 193)\n",
      "CPU times: user 2.22 s, sys: 2.19 s, total: 4.41 s\n",
      "Wall time: 6.85 s\n"
     ]
    }
   ],
   "source": [
    "%%time\n",
    "raw_train = read_file(f\"{RAW_TRAIN_PICKLE_PATH}/train_data.pkl\")"
   ]
  },
  {
   "cell_type": "code",
   "execution_count": 74,
   "id": "230522d7-48b3-4a4e-bcbb-67804c9903f5",
   "metadata": {},
   "outputs": [
    {
     "name": "stdout",
     "output_type": "stream",
     "text": [
      "CPU times: user 305 ms, sys: 70 ms, total: 375 ms\n",
      "Wall time: 454 ms\n"
     ]
    }
   ],
   "source": [
    "%%time\n",
    "labels = pd.read_csv(f\"{RAW_DATA_PATH}/train_labels.csv\")"
   ]
  },
  {
   "cell_type": "code",
   "execution_count": 75,
   "id": "8cd608a3-776b-42d0-aed4-925b7b89de79",
   "metadata": {
    "tags": []
   },
   "outputs": [
    {
     "name": "stdout",
     "output_type": "stream",
     "text": [
      "CPU times: user 21.4 s, sys: 10.4 s, total: 31.8 s\n",
      "Wall time: 39.6 s\n"
     ]
    }
   ],
   "source": [
    "%%time\n",
    "train_agg = get_agg_df(raw_train)"
   ]
  },
  {
   "cell_type": "code",
   "execution_count": 76,
   "id": "d79f2e0c-6b6e-478e-925e-9274b82fc4fe",
   "metadata": {},
   "outputs": [
    {
     "name": "stdout",
     "output_type": "stream",
     "text": [
      "CPU times: user 149 ms, sys: 884 ms, total: 1.03 s\n",
      "Wall time: 1.55 s\n"
     ]
    }
   ],
   "source": [
    "%%time\n",
    "train_agg[\"num_statements\"] = (\n",
    "    raw_train.loc[raw_train[\"row_number\"] == 1][[\"row_number\", \"row_number_inv\"]].sum(axis=1) - 1\n",
    ").reset_index(drop=True).values"
   ]
  },
  {
   "cell_type": "code",
   "execution_count": 77,
   "id": "f243f14d-a416-4d2c-aa81-e5e824828f75",
   "metadata": {},
   "outputs": [
    {
     "data": {
      "text/html": [
       "<div>\n",
       "<style scoped>\n",
       "    .dataframe tbody tr th:only-of-type {\n",
       "        vertical-align: middle;\n",
       "    }\n",
       "\n",
       "    .dataframe tbody tr th {\n",
       "        vertical-align: top;\n",
       "    }\n",
       "\n",
       "    .dataframe thead th {\n",
       "        text-align: right;\n",
       "    }\n",
       "</style>\n",
       "<table border=\"1\" class=\"dataframe\">\n",
       "  <thead>\n",
       "    <tr style=\"text-align: right;\">\n",
       "      <th></th>\n",
       "      <th>D_41_avg</th>\n",
       "      <th>D_71_avg</th>\n",
       "      <th>R_1_avg</th>\n",
       "      <th>D_132_avg</th>\n",
       "      <th>S_12_avg</th>\n",
       "      <th>D_39_avg</th>\n",
       "      <th>D_66_avg</th>\n",
       "      <th>D_82_avg</th>\n",
       "      <th>D_127_avg</th>\n",
       "      <th>R_14_avg</th>\n",
       "      <th>...</th>\n",
       "      <th>D_113_std</th>\n",
       "      <th>R_28_std</th>\n",
       "      <th>R_2_std</th>\n",
       "      <th>D_76_std</th>\n",
       "      <th>D_81_std</th>\n",
       "      <th>D_138_std</th>\n",
       "      <th>R_7_std</th>\n",
       "      <th>D_93_std</th>\n",
       "      <th>D_131_std</th>\n",
       "      <th>num_statements</th>\n",
       "    </tr>\n",
       "  </thead>\n",
       "  <tbody>\n",
       "    <tr>\n",
       "      <th>0000099d6bd597052cdcda90ffabf56573fe9d7c79be5fbac11a8ed792feb62a</th>\n",
       "      <td>0.0</td>\n",
       "      <td>0.214785</td>\n",
       "      <td>0.004509</td>\n",
       "      <td>NaN</td>\n",
       "      <td>0.247988</td>\n",
       "      <td>0.230769</td>\n",
       "      <td>-1.0</td>\n",
       "      <td>1.0</td>\n",
       "      <td>1.000000</td>\n",
       "      <td>0.0</td>\n",
       "      <td>...</td>\n",
       "      <td>0.0</td>\n",
       "      <td>0.0</td>\n",
       "      <td>0.0</td>\n",
       "      <td>NaN</td>\n",
       "      <td>0.0</td>\n",
       "      <td>0.0</td>\n",
       "      <td>0.0</td>\n",
       "      <td>0.0</td>\n",
       "      <td>0.0</td>\n",
       "      <td>13</td>\n",
       "    </tr>\n",
       "    <tr>\n",
       "      <th>00000fd6641609c6ece5454664794f0340ad84dddce9a267a310b5ae68e9d8e5</th>\n",
       "      <td>0.0</td>\n",
       "      <td>0.011508</td>\n",
       "      <td>0.006246</td>\n",
       "      <td>NaN</td>\n",
       "      <td>0.181548</td>\n",
       "      <td>7.153846</td>\n",
       "      <td>-1.0</td>\n",
       "      <td>-1.0</td>\n",
       "      <td>0.076923</td>\n",
       "      <td>0.0</td>\n",
       "      <td>...</td>\n",
       "      <td>0.0</td>\n",
       "      <td>0.0</td>\n",
       "      <td>0.0</td>\n",
       "      <td>NaN</td>\n",
       "      <td>0.0</td>\n",
       "      <td>0.0</td>\n",
       "      <td>0.0</td>\n",
       "      <td>0.0</td>\n",
       "      <td>0.0</td>\n",
       "      <td>13</td>\n",
       "    </tr>\n",
       "    <tr>\n",
       "      <th>00001b22f846c82c51f6e3958ccd81970162bae8b007e80662ef27519fcc18c1</th>\n",
       "      <td>0.0</td>\n",
       "      <td>0.012292</td>\n",
       "      <td>0.006621</td>\n",
       "      <td>NaN</td>\n",
       "      <td>0.190945</td>\n",
       "      <td>0.000000</td>\n",
       "      <td>-1.0</td>\n",
       "      <td>-1.0</td>\n",
       "      <td>0.000000</td>\n",
       "      <td>0.0</td>\n",
       "      <td>...</td>\n",
       "      <td>0.0</td>\n",
       "      <td>0.0</td>\n",
       "      <td>0.0</td>\n",
       "      <td>NaN</td>\n",
       "      <td>0.0</td>\n",
       "      <td>0.0</td>\n",
       "      <td>0.0</td>\n",
       "      <td>0.0</td>\n",
       "      <td>0.0</td>\n",
       "      <td>13</td>\n",
       "    </tr>\n",
       "  </tbody>\n",
       "</table>\n",
       "<p>3 rows × 709 columns</p>\n",
       "</div>"
      ],
      "text/plain": [
       "                                                    D_41_avg  D_71_avg  \\\n",
       "0000099d6bd597052cdcda90ffabf56573fe9d7c79be5fb...       0.0  0.214785   \n",
       "00000fd6641609c6ece5454664794f0340ad84dddce9a26...       0.0  0.011508   \n",
       "00001b22f846c82c51f6e3958ccd81970162bae8b007e80...       0.0  0.012292   \n",
       "\n",
       "                                                     R_1_avg  D_132_avg  \\\n",
       "0000099d6bd597052cdcda90ffabf56573fe9d7c79be5fb...  0.004509        NaN   \n",
       "00000fd6641609c6ece5454664794f0340ad84dddce9a26...  0.006246        NaN   \n",
       "00001b22f846c82c51f6e3958ccd81970162bae8b007e80...  0.006621        NaN   \n",
       "\n",
       "                                                    S_12_avg  D_39_avg  \\\n",
       "0000099d6bd597052cdcda90ffabf56573fe9d7c79be5fb...  0.247988  0.230769   \n",
       "00000fd6641609c6ece5454664794f0340ad84dddce9a26...  0.181548  7.153846   \n",
       "00001b22f846c82c51f6e3958ccd81970162bae8b007e80...  0.190945  0.000000   \n",
       "\n",
       "                                                    D_66_avg  D_82_avg  \\\n",
       "0000099d6bd597052cdcda90ffabf56573fe9d7c79be5fb...      -1.0       1.0   \n",
       "00000fd6641609c6ece5454664794f0340ad84dddce9a26...      -1.0      -1.0   \n",
       "00001b22f846c82c51f6e3958ccd81970162bae8b007e80...      -1.0      -1.0   \n",
       "\n",
       "                                                    D_127_avg  R_14_avg  ...  \\\n",
       "0000099d6bd597052cdcda90ffabf56573fe9d7c79be5fb...   1.000000       0.0  ...   \n",
       "00000fd6641609c6ece5454664794f0340ad84dddce9a26...   0.076923       0.0  ...   \n",
       "00001b22f846c82c51f6e3958ccd81970162bae8b007e80...   0.000000       0.0  ...   \n",
       "\n",
       "                                                    D_113_std  R_28_std  \\\n",
       "0000099d6bd597052cdcda90ffabf56573fe9d7c79be5fb...        0.0       0.0   \n",
       "00000fd6641609c6ece5454664794f0340ad84dddce9a26...        0.0       0.0   \n",
       "00001b22f846c82c51f6e3958ccd81970162bae8b007e80...        0.0       0.0   \n",
       "\n",
       "                                                    R_2_std  D_76_std  \\\n",
       "0000099d6bd597052cdcda90ffabf56573fe9d7c79be5fb...      0.0       NaN   \n",
       "00000fd6641609c6ece5454664794f0340ad84dddce9a26...      0.0       NaN   \n",
       "00001b22f846c82c51f6e3958ccd81970162bae8b007e80...      0.0       NaN   \n",
       "\n",
       "                                                    D_81_std  D_138_std  \\\n",
       "0000099d6bd597052cdcda90ffabf56573fe9d7c79be5fb...       0.0        0.0   \n",
       "00000fd6641609c6ece5454664794f0340ad84dddce9a26...       0.0        0.0   \n",
       "00001b22f846c82c51f6e3958ccd81970162bae8b007e80...       0.0        0.0   \n",
       "\n",
       "                                                    R_7_std  D_93_std  \\\n",
       "0000099d6bd597052cdcda90ffabf56573fe9d7c79be5fb...      0.0       0.0   \n",
       "00000fd6641609c6ece5454664794f0340ad84dddce9a26...      0.0       0.0   \n",
       "00001b22f846c82c51f6e3958ccd81970162bae8b007e80...      0.0       0.0   \n",
       "\n",
       "                                                    D_131_std  num_statements  \n",
       "0000099d6bd597052cdcda90ffabf56573fe9d7c79be5fb...        0.0              13  \n",
       "00000fd6641609c6ece5454664794f0340ad84dddce9a26...        0.0              13  \n",
       "00001b22f846c82c51f6e3958ccd81970162bae8b007e80...        0.0              13  \n",
       "\n",
       "[3 rows x 709 columns]"
      ]
     },
     "execution_count": 77,
     "metadata": {},
     "output_type": "execute_result"
    }
   ],
   "source": [
    "train_agg.head(3)"
   ]
  },
  {
   "cell_type": "code",
   "execution_count": 78,
   "id": "cfa81b0a-d6ce-4e13-8a1e-95572bdc12eb",
   "metadata": {},
   "outputs": [
    {
     "name": "stdout",
     "output_type": "stream",
     "text": [
      "CPU times: user 2.34 s, sys: 4.25 s, total: 6.58 s\n",
      "Wall time: 11 s\n"
     ]
    }
   ],
   "source": [
    "%%time\n",
    "train_last_etc = get_specific_row_df(raw_train)"
   ]
  },
  {
   "cell_type": "code",
   "execution_count": 79,
   "id": "f7cdcf30-e47c-4f96-826f-b397dcf66707",
   "metadata": {},
   "outputs": [
    {
     "data": {
      "text/html": [
       "<div>\n",
       "<style scoped>\n",
       "    .dataframe tbody tr th:only-of-type {\n",
       "        vertical-align: middle;\n",
       "    }\n",
       "\n",
       "    .dataframe tbody tr th {\n",
       "        vertical-align: top;\n",
       "    }\n",
       "\n",
       "    .dataframe thead th {\n",
       "        text-align: right;\n",
       "    }\n",
       "</style>\n",
       "<table border=\"1\" class=\"dataframe\">\n",
       "  <thead>\n",
       "    <tr style=\"text-align: right;\">\n",
       "      <th></th>\n",
       "      <th>P_2_last</th>\n",
       "      <th>D_39_last</th>\n",
       "      <th>B_1_last</th>\n",
       "      <th>B_2_last</th>\n",
       "      <th>R_1_last</th>\n",
       "      <th>S_3_last</th>\n",
       "      <th>D_41_last</th>\n",
       "      <th>B_3_last</th>\n",
       "      <th>D_42_last</th>\n",
       "      <th>D_43_last</th>\n",
       "      <th>...</th>\n",
       "      <th>D_136_first</th>\n",
       "      <th>D_137_first</th>\n",
       "      <th>D_138_first</th>\n",
       "      <th>D_139_first</th>\n",
       "      <th>D_140_first</th>\n",
       "      <th>D_141_first</th>\n",
       "      <th>D_142_first</th>\n",
       "      <th>D_143_first</th>\n",
       "      <th>D_144_first</th>\n",
       "      <th>D_145_first</th>\n",
       "    </tr>\n",
       "    <tr>\n",
       "      <th>customer_ID</th>\n",
       "      <th></th>\n",
       "      <th></th>\n",
       "      <th></th>\n",
       "      <th></th>\n",
       "      <th></th>\n",
       "      <th></th>\n",
       "      <th></th>\n",
       "      <th></th>\n",
       "      <th></th>\n",
       "      <th></th>\n",
       "      <th></th>\n",
       "      <th></th>\n",
       "      <th></th>\n",
       "      <th></th>\n",
       "      <th></th>\n",
       "      <th></th>\n",
       "      <th></th>\n",
       "      <th></th>\n",
       "      <th></th>\n",
       "      <th></th>\n",
       "      <th></th>\n",
       "    </tr>\n",
       "  </thead>\n",
       "  <tbody>\n",
       "    <tr>\n",
       "      <th>0000099d6bd597052cdcda90ffabf56573fe9d7c79be5fbac11a8ed792feb62a</th>\n",
       "      <td>0.934745</td>\n",
       "      <td>0</td>\n",
       "      <td>0.009382</td>\n",
       "      <td>1.007647</td>\n",
       "      <td>0.006104</td>\n",
       "      <td>0.135021</td>\n",
       "      <td>0.0</td>\n",
       "      <td>0.007174</td>\n",
       "      <td>NaN</td>\n",
       "      <td>NaN</td>\n",
       "      <td>...</td>\n",
       "      <td>-1</td>\n",
       "      <td>-1</td>\n",
       "      <td>-1</td>\n",
       "      <td>0</td>\n",
       "      <td>0</td>\n",
       "      <td>0.0</td>\n",
       "      <td>NaN</td>\n",
       "      <td>0</td>\n",
       "      <td>0.000610</td>\n",
       "      <td>0</td>\n",
       "    </tr>\n",
       "    <tr>\n",
       "      <th>00000fd6641609c6ece5454664794f0340ad84dddce9a267a310b5ae68e9d8e5</th>\n",
       "      <td>0.880519</td>\n",
       "      <td>6</td>\n",
       "      <td>0.034684</td>\n",
       "      <td>1.004028</td>\n",
       "      <td>0.006911</td>\n",
       "      <td>0.165509</td>\n",
       "      <td>0.0</td>\n",
       "      <td>0.005068</td>\n",
       "      <td>NaN</td>\n",
       "      <td>0.060646</td>\n",
       "      <td>...</td>\n",
       "      <td>-1</td>\n",
       "      <td>-1</td>\n",
       "      <td>-1</td>\n",
       "      <td>0</td>\n",
       "      <td>0</td>\n",
       "      <td>0.0</td>\n",
       "      <td>NaN</td>\n",
       "      <td>0</td>\n",
       "      <td>0.000027</td>\n",
       "      <td>0</td>\n",
       "    </tr>\n",
       "    <tr>\n",
       "      <th>00001b22f846c82c51f6e3958ccd81970162bae8b007e80662ef27519fcc18c1</th>\n",
       "      <td>0.880875</td>\n",
       "      <td>0</td>\n",
       "      <td>0.004284</td>\n",
       "      <td>0.812649</td>\n",
       "      <td>0.006450</td>\n",
       "      <td>NaN</td>\n",
       "      <td>0.0</td>\n",
       "      <td>0.007196</td>\n",
       "      <td>NaN</td>\n",
       "      <td>NaN</td>\n",
       "      <td>...</td>\n",
       "      <td>-1</td>\n",
       "      <td>-1</td>\n",
       "      <td>-1</td>\n",
       "      <td>0</td>\n",
       "      <td>0</td>\n",
       "      <td>0.0</td>\n",
       "      <td>NaN</td>\n",
       "      <td>0</td>\n",
       "      <td>0.002738</td>\n",
       "      <td>0</td>\n",
       "    </tr>\n",
       "  </tbody>\n",
       "</table>\n",
       "<p>3 rows × 752 columns</p>\n",
       "</div>"
      ],
      "text/plain": [
       "                                                    P_2_last  D_39_last  \\\n",
       "customer_ID                                                               \n",
       "0000099d6bd597052cdcda90ffabf56573fe9d7c79be5fb...  0.934745          0   \n",
       "00000fd6641609c6ece5454664794f0340ad84dddce9a26...  0.880519          6   \n",
       "00001b22f846c82c51f6e3958ccd81970162bae8b007e80...  0.880875          0   \n",
       "\n",
       "                                                    B_1_last  B_2_last  \\\n",
       "customer_ID                                                              \n",
       "0000099d6bd597052cdcda90ffabf56573fe9d7c79be5fb...  0.009382  1.007647   \n",
       "00000fd6641609c6ece5454664794f0340ad84dddce9a26...  0.034684  1.004028   \n",
       "00001b22f846c82c51f6e3958ccd81970162bae8b007e80...  0.004284  0.812649   \n",
       "\n",
       "                                                    R_1_last  S_3_last  \\\n",
       "customer_ID                                                              \n",
       "0000099d6bd597052cdcda90ffabf56573fe9d7c79be5fb...  0.006104  0.135021   \n",
       "00000fd6641609c6ece5454664794f0340ad84dddce9a26...  0.006911  0.165509   \n",
       "00001b22f846c82c51f6e3958ccd81970162bae8b007e80...  0.006450       NaN   \n",
       "\n",
       "                                                    D_41_last  B_3_last  \\\n",
       "customer_ID                                                               \n",
       "0000099d6bd597052cdcda90ffabf56573fe9d7c79be5fb...        0.0  0.007174   \n",
       "00000fd6641609c6ece5454664794f0340ad84dddce9a26...        0.0  0.005068   \n",
       "00001b22f846c82c51f6e3958ccd81970162bae8b007e80...        0.0  0.007196   \n",
       "\n",
       "                                                    D_42_last  D_43_last  ...  \\\n",
       "customer_ID                                                               ...   \n",
       "0000099d6bd597052cdcda90ffabf56573fe9d7c79be5fb...        NaN        NaN  ...   \n",
       "00000fd6641609c6ece5454664794f0340ad84dddce9a26...        NaN   0.060646  ...   \n",
       "00001b22f846c82c51f6e3958ccd81970162bae8b007e80...        NaN        NaN  ...   \n",
       "\n",
       "                                                    D_136_first  D_137_first  \\\n",
       "customer_ID                                                                    \n",
       "0000099d6bd597052cdcda90ffabf56573fe9d7c79be5fb...           -1           -1   \n",
       "00000fd6641609c6ece5454664794f0340ad84dddce9a26...           -1           -1   \n",
       "00001b22f846c82c51f6e3958ccd81970162bae8b007e80...           -1           -1   \n",
       "\n",
       "                                                    D_138_first  D_139_first  \\\n",
       "customer_ID                                                                    \n",
       "0000099d6bd597052cdcda90ffabf56573fe9d7c79be5fb...           -1            0   \n",
       "00000fd6641609c6ece5454664794f0340ad84dddce9a26...           -1            0   \n",
       "00001b22f846c82c51f6e3958ccd81970162bae8b007e80...           -1            0   \n",
       "\n",
       "                                                    D_140_first  D_141_first  \\\n",
       "customer_ID                                                                    \n",
       "0000099d6bd597052cdcda90ffabf56573fe9d7c79be5fb...            0          0.0   \n",
       "00000fd6641609c6ece5454664794f0340ad84dddce9a26...            0          0.0   \n",
       "00001b22f846c82c51f6e3958ccd81970162bae8b007e80...            0          0.0   \n",
       "\n",
       "                                                    D_142_first  D_143_first  \\\n",
       "customer_ID                                                                    \n",
       "0000099d6bd597052cdcda90ffabf56573fe9d7c79be5fb...          NaN            0   \n",
       "00000fd6641609c6ece5454664794f0340ad84dddce9a26...          NaN            0   \n",
       "00001b22f846c82c51f6e3958ccd81970162bae8b007e80...          NaN            0   \n",
       "\n",
       "                                                    D_144_first  D_145_first  \n",
       "customer_ID                                                                   \n",
       "0000099d6bd597052cdcda90ffabf56573fe9d7c79be5fb...     0.000610            0  \n",
       "00000fd6641609c6ece5454664794f0340ad84dddce9a26...     0.000027            0  \n",
       "00001b22f846c82c51f6e3958ccd81970162bae8b007e80...     0.002738            0  \n",
       "\n",
       "[3 rows x 752 columns]"
      ]
     },
     "execution_count": 79,
     "metadata": {},
     "output_type": "execute_result"
    }
   ],
   "source": [
    "train_last_etc.head(3)"
   ]
  },
  {
   "cell_type": "code",
   "execution_count": 80,
   "id": "f914dfe9-4420-47b4-aba9-57b850ee9196",
   "metadata": {},
   "outputs": [
    {
     "name": "stdout",
     "output_type": "stream",
     "text": [
      "CPU times: user 213 ms, sys: 849 ms, total: 1.06 s\n",
      "Wall time: 2.03 s\n"
     ]
    }
   ],
   "source": [
    "%%time\n",
    "train_agg = train_last_etc.merge(train_agg, left_index=True, right_index=True, how=\"inner\")\n",
    "del train_last_etc"
   ]
  },
  {
   "cell_type": "code",
   "execution_count": 81,
   "id": "b98bc84d-d8b8-4603-a468-b79d7e8f32a8",
   "metadata": {},
   "outputs": [],
   "source": [
    "numeric_columns = list(set(raw_train.columns) - set(CATEGORY_COLUMNS) - set(NON_FEATURE_COLUMNS))\n",
    "all_columns = list(set(numeric_columns).union(set(CATEGORY_COLUMNS)))"
   ]
  },
  {
   "cell_type": "code",
   "execution_count": 82,
   "id": "8c8d6039-b1c7-44ab-b62a-66ecfb5af911",
   "metadata": {},
   "outputs": [
    {
     "data": {
      "text/plain": [
       "(458913, 1461)"
      ]
     },
     "execution_count": 82,
     "metadata": {},
     "output_type": "execute_result"
    }
   ],
   "source": [
    "train_agg.shape"
   ]
  },
  {
   "cell_type": "code",
   "execution_count": null,
   "id": "85ffd79b-366a-49ea-a96e-47e6f40a98fc",
   "metadata": {},
   "outputs": [
    {
     "name": "stderr",
     "output_type": "stream",
     "text": [
      " 11%|█████████████▎                                                                                                        | 20/177 [00:46<05:25,  2.07s/it]"
     ]
    }
   ],
   "source": [
    "%%time\n",
    "for col in tqdm(numeric_columns):\n",
    "    train_agg[f\"{col}_range\"] = train_agg[f\"{col}_max\"] - train_agg[f\"{col}_min\"]\n",
    "    train_agg[f\"{col}_displacement\"] = train_agg[f\"{col}_last\"] - train_agg[f\"{col}_first\"]\n",
    "    train_agg[f\"{col}_velocity\"] = train_agg[f\"{col}_displacement\"] / np.log(train_agg[\"num_statements\"])\n",
    "    train_agg[f\"{col}_sprint\"] = train_agg[f\"{col}_last\"] - train_agg[f\"{col}_second_last\"]\n",
    "    train_agg[f\"{col}_previous_sprint\"] = train_agg[f\"{col}_second_last\"] - train_agg[f\"{col}_third_last\"]\n",
    "    train_agg[f\"{col}_last_minus_avg\"] = train_agg[f\"{col}_last\"] - train_agg[f\"{col}_avg\"]"
   ]
  },
  {
   "cell_type": "code",
   "execution_count": null,
   "id": "1194c922-2a4e-44cf-8aca-accddba55b3c",
   "metadata": {},
   "outputs": [],
   "source": [
    "# train_agg[[f\"{col}_previous_sprint\", f\"{col}_sprint\"]]"
   ]
  },
  {
   "cell_type": "code",
   "execution_count": 18,
   "id": "acce3c56-a3d2-4f2e-98e6-6f138e194162",
   "metadata": {},
   "outputs": [
    {
     "data": {
      "text/plain": [
       "(458913, 2158)"
      ]
     },
     "execution_count": 18,
     "metadata": {},
     "output_type": "execute_result"
    }
   ],
   "source": [
    "train_agg.shape"
   ]
  },
  {
   "cell_type": "code",
   "execution_count": 36,
   "id": "8fb44043-3c62-488e-80d2-fcbb17c13bab",
   "metadata": {},
   "outputs": [],
   "source": [
    "# backup = train_agg.copy()"
   ]
  },
  {
   "cell_type": "markdown",
   "id": "296842d2-d899-4c93-9972-a06d4c3c25e5",
   "metadata": {},
   "source": [
    "#### Drop Average Columns"
   ]
  },
  {
   "cell_type": "code",
   "execution_count": 54,
   "id": "aeaa8ebe-51f8-4d70-b6a1-1ac800421f48",
   "metadata": {},
   "outputs": [
    {
     "data": {
      "text/plain": [
       "(458913, 2112)"
      ]
     },
     "execution_count": 54,
     "metadata": {},
     "output_type": "execute_result"
    }
   ],
   "source": [
    "avg_cols = get_cols(train_agg, \"_avg\", excludes=\"last_minus\")\n",
    "avg_cols = [c for c in avg_cols if c.replace(\"_avg\", \"\") not in MEAN_FEATURES]\n",
    "train_agg = train_agg.drop(columns=avg_cols, errors=\"ignore\")\n",
    "train_agg.shape"
   ]
  },
  {
   "cell_type": "markdown",
   "id": "386e366f-2f86-41a9-9175-c64bd8df6bae",
   "metadata": {},
   "source": [
    "#### Drop Minimum Columns"
   ]
  },
  {
   "cell_type": "code",
   "execution_count": 55,
   "id": "53d86aad-98ae-4086-9912-2af8cdfd036e",
   "metadata": {},
   "outputs": [
    {
     "data": {
      "text/plain": [
       "(458913, 2008)"
      ]
     },
     "execution_count": 55,
     "metadata": {},
     "output_type": "execute_result"
    }
   ],
   "source": [
    "min_cols = get_cols(train_agg, \"_min\", excludes=\"last_minus\")\n",
    "min_cols = [c for c in min_cols if c.replace(\"_min\", \"\") not in MIN_FEATURES]\n",
    "train_agg = train_agg.drop(columns=min_cols, errors=\"ignore\")\n",
    "train_agg.shape"
   ]
  },
  {
   "cell_type": "markdown",
   "id": "3307949c-d409-41e7-83c1-bf8105888f03",
   "metadata": {},
   "source": [
    "#### Drop Maximum Columns"
   ]
  },
  {
   "cell_type": "code",
   "execution_count": 56,
   "id": "79c28dc7-aadb-4a8b-9b8f-bf6b50fa3bf2",
   "metadata": {},
   "outputs": [
    {
     "data": {
      "text/plain": [
       "(458913, 1941)"
      ]
     },
     "execution_count": 56,
     "metadata": {},
     "output_type": "execute_result"
    }
   ],
   "source": [
    "max_cols = get_cols(train_agg, \"_max\", excludes=\"last_minus\")\n",
    "max_cols = [c for c in max_cols if c.replace(\"_max\", \"\") not in MAX_FEATURES]\n",
    "train_agg = train_agg.drop(columns=max_cols, errors=\"ignore\")\n",
    "train_agg.shape"
   ]
  },
  {
   "cell_type": "markdown",
   "id": "23a65aac-a648-4141-81ff-14514f730ec0",
   "metadata": {},
   "source": [
    "#### Drop First Columns"
   ]
  },
  {
   "cell_type": "code",
   "execution_count": 57,
   "id": "2c83a75c-a3f4-41b1-a0c1-a535c0c0af21",
   "metadata": {},
   "outputs": [
    {
     "data": {
      "text/plain": [
       "(458913, 1825)"
      ]
     },
     "execution_count": 57,
     "metadata": {},
     "output_type": "execute_result"
    }
   ],
   "source": [
    "first_cols = get_cols(train_agg, \"_first\", excludes=\"last_minus\")\n",
    "first_cols = [c for c in first_cols if c.replace(\"_first\", \"\") not in FIRST_FEATURES]\n",
    "train_agg = train_agg.drop(columns=first_cols, errors=\"ignore\")\n",
    "train_agg.shape"
   ]
  },
  {
   "cell_type": "markdown",
   "id": "f23360a6-ae0b-411f-91d6-1d0c8f48011e",
   "metadata": {},
   "source": [
    "#### Drop Last Columns"
   ]
  },
  {
   "cell_type": "code",
   "execution_count": 58,
   "id": "ffccabd6-7d3d-4080-8975-03d4c45d9b08",
   "metadata": {},
   "outputs": [
    {
     "data": {
      "text/plain": [
       "(458913, 1779)"
      ]
     },
     "execution_count": 58,
     "metadata": {},
     "output_type": "execute_result"
    }
   ],
   "source": [
    "last_cols = get_cols(train_agg, \"_last\", excludes=[\"last_minus\", \"second_last\"])\n",
    "last_cols = [c for c in last_cols if c.replace(\"_last\", \"\") not in LAST_FEATURES]\n",
    "train_agg = train_agg.drop(columns=last_cols, errors=\"ignore\")\n",
    "train_agg.shape"
   ]
  },
  {
   "cell_type": "markdown",
   "id": "3c787d9a-c4be-4ad1-8b45-a8996549a21b",
   "metadata": {
    "tags": []
   },
   "source": [
    "#### Drop Range Columns"
   ]
  },
  {
   "cell_type": "code",
   "execution_count": 59,
   "id": "51128853-3035-4178-86d6-a5532ebc68ee",
   "metadata": {},
   "outputs": [
    {
     "data": {
      "text/plain": [
       "(458913, 1678)"
      ]
     },
     "execution_count": 59,
     "metadata": {},
     "output_type": "execute_result"
    }
   ],
   "source": [
    "range_cols = get_cols(train_agg, \"_range\", excludes=[\"last_minus\", \"second_last\"])\n",
    "range_cols = [c for c in range_cols if c.replace(\"_range\", \"\") not in RANGE_FEATURES]\n",
    "train_agg = train_agg.drop(columns=range_cols, errors=\"ignore\")\n",
    "train_agg.shape"
   ]
  },
  {
   "cell_type": "code",
   "execution_count": null,
   "id": "a56704d1-224a-4d1b-9f3c-3da49fa2ade4",
   "metadata": {},
   "outputs": [],
   "source": [
    "# feature_list = (\n",
    "#     [c + \"_avg\" for c in MEAN_FEATURES] +\n",
    "#     [c + \"_min\" for c in MIN_FEATURES] +\n",
    "#     [c + \"_max\" for c in MAX_FEATURES] +\n",
    "#     [c + \"_first\" for c in FIRST_FEATURES] +\n",
    "#     [c + \"_last\" for c in LAST_FEATURES] +\n",
    "#     [c + \"_range\" for c in RANGE_FEATURES] +\n",
    "#     [c + \"_velocity\" for c in VELOCITY_FEATURES] +\n",
    "#     [c + \"_speed\" for c in SPEED_FEATURES] + \n",
    "#     [c for c in train.columns if c.endswith((\"_lag1_diff\", \"_last_lift\"))]\n",
    "# )\n",
    "# train_agg = train_agg.loc[:, feature_list]"
   ]
  },
  {
   "cell_type": "code",
   "execution_count": 60,
   "id": "775035aa-0565-427f-a35e-17ae7a9b7d3e",
   "metadata": {},
   "outputs": [],
   "source": [
    "train_agg = train_agg.reset_index().rename(columns={\"index\": \"customer_ID\"})"
   ]
  },
  {
   "cell_type": "code",
   "execution_count": 61,
   "id": "1bfb9573-325c-4425-9bee-cf5e59830c75",
   "metadata": {},
   "outputs": [],
   "source": [
    "train_agg = train_agg.drop(columns=NON_FEATURE_COLUMNS, errors='ignore')"
   ]
  },
  {
   "cell_type": "code",
   "execution_count": 62,
   "id": "7b7ddc94-a446-4aa0-81bd-bf462c312dd1",
   "metadata": {},
   "outputs": [],
   "source": [
    "train_agg[\"dummy\"] = np.random.randn(train_agg.shape[0])"
   ]
  },
  {
   "cell_type": "code",
   "execution_count": 63,
   "id": "dad39c77-8c99-4a8d-9a94-6ad2c1ef1515",
   "metadata": {},
   "outputs": [
    {
     "data": {
      "text/plain": [
       "(458913, 1679)"
      ]
     },
     "execution_count": 63,
     "metadata": {},
     "output_type": "execute_result"
    }
   ],
   "source": [
    "train_agg.shape"
   ]
  },
  {
   "cell_type": "code",
   "execution_count": 64,
   "id": "26b55f51-ed43-421f-a544-e4e469c780d6",
   "metadata": {},
   "outputs": [
    {
     "data": {
      "text/plain": [
       "(458913, 1680)"
      ]
     },
     "execution_count": 64,
     "metadata": {},
     "output_type": "execute_result"
    }
   ],
   "source": [
    "train_agg[\"target\"] = labels[\"target\"].values\n",
    "train_agg.shape"
   ]
  },
  {
   "cell_type": "code",
   "execution_count": 65,
   "id": "c10232de-bc1c-4f15-bf0b-e5ff9a6f1248",
   "metadata": {},
   "outputs": [
    {
     "data": {
      "text/plain": [
       "float32     830\n",
       "float64     655\n",
       "int8        140\n",
       "int16        31\n",
       "category      5\n",
       "category      4\n",
       "category      3\n",
       "category      3\n",
       "category      2\n",
       "category      2\n",
       "category      2\n",
       "int64         2\n",
       "category      1\n",
       "dtype: int64"
      ]
     },
     "execution_count": 65,
     "metadata": {},
     "output_type": "execute_result"
    }
   ],
   "source": [
    "train_agg.dtypes.value_counts()"
   ]
  },
  {
   "cell_type": "code",
   "execution_count": 66,
   "id": "837bb56a-994a-4b05-9cb3-b75297fd91aa",
   "metadata": {},
   "outputs": [],
   "source": [
    "train_agg.to_pickle(f\"{PROCESSED_DATA_PATH}/train_agg_finer.pkl\")"
   ]
  },
  {
   "cell_type": "markdown",
   "id": "6144bc52-209b-4c69-8c6b-7b9d9c542413",
   "metadata": {},
   "source": [
    "### Feature Engineering on Test"
   ]
  },
  {
   "cell_type": "code",
   "execution_count": null,
   "id": "41150f31-a76e-4761-829a-1ad63241e626",
   "metadata": {},
   "outputs": [],
   "source": [
    "# test = read_file(f\"{RAW_TEST_PICKLE_PATH}/test_data.pkl\")"
   ]
  }
 ],
 "metadata": {
  "kernelspec": {
   "display_name": "amex",
   "language": "python",
   "name": "amex"
  },
  "language_info": {
   "codemirror_mode": {
    "name": "ipython",
    "version": 3
   },
   "file_extension": ".py",
   "mimetype": "text/x-python",
   "name": "python",
   "nbconvert_exporter": "python",
   "pygments_lexer": "ipython3",
   "version": "3.10.0"
  }
 },
 "nbformat": 4,
 "nbformat_minor": 5
}
