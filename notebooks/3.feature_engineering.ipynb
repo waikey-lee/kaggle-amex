{
 "cells": [
  {
   "cell_type": "code",
   "execution_count": 1,
   "id": "5dd2ca34-3410-4078-aa48-7adbba211ed5",
   "metadata": {},
   "outputs": [],
   "source": [
    "import datetime\n",
    "import gc\n",
    "import joblib\n",
    "import matplotlib.pyplot as plt\n",
    "import pandas as pd\n",
    "import numpy as np\n",
    "import optuna\n",
    "import os\n",
    "import scipy.stats\n",
    "import seaborn as sns\n",
    "import sys\n",
    "sys.path.append(\"../\")\n",
    "import time\n",
    "import warnings\n",
    "warnings.simplefilter(\"ignore\")\n",
    "from itertools import repeat\n",
    "from lightgbm import LGBMClassifier, log_evaluation\n",
    "from scipy.stats import randint as sp_randint\n",
    "from scipy.stats import uniform as sp_uniform\n",
    "from sklearn.calibration import CalibrationDisplay\n",
    "from sklearn.model_selection import train_test_split, RandomizedSearchCV, StratifiedKFold\n",
    "from sklearn.preprocessing import StandardScaler\n",
    "from sklearn.metrics import roc_auc_score, fbeta_score, make_scorer\n",
    "from tqdm import tqdm"
   ]
  },
  {
   "cell_type": "code",
   "execution_count": 2,
   "id": "fb17d64c-4cdb-4906-be84-1348484a4886",
   "metadata": {},
   "outputs": [],
   "source": [
    "from matplotlib.ticker import MaxNLocator\n",
    "from matplotlib.colors import ListedColormap\n",
    "from cycler import cycler\n",
    "from IPython.display import display\n",
    "from colorama import Fore, Back, Style\n",
    "plt.rcParams['axes.facecolor'] = '#0057b8' # blue\n",
    "plt.rcParams['axes.prop_cycle'] = cycler(color=['#ffd700'] +\n",
    "                                         plt.rcParams['axes.prop_cycle'].by_key()['color'][1:])\n",
    "plt.rcParams['text.color'] = 'w'"
   ]
  },
  {
   "cell_type": "code",
   "execution_count": 3,
   "id": "a084bef6-4434-40fb-bafc-d7d3e4c57a14",
   "metadata": {},
   "outputs": [],
   "source": [
    "from utils.common import (\n",
    "    sigmoid, pad_column_name\n",
    ")\n",
    "from utils.constants import (\n",
    "    RAW_DATA_PATH, PROCESSED_DATA_PATH\n",
    ")\n",
    "from utils.eval_helpers import (\n",
    "    plot_roc_curves, plot_feature_importance, \n",
    "    amex_metric, get_final_metric_df, amex_metric_np, lgb_amex_metric\n",
    ")\n",
    "from utils.eda_helpers import (\n",
    "    plot_missing_proportion_barchart, \n",
    "    get_cols\n",
    ")\n",
    "from utils.extraction_helpers import read_file\n",
    "from utils.feature_group import (\n",
    "    CATEGORY_COLUMNS, CONTINUOUS_COLUMNS, NON_FEATURE_COLUMNS,\n",
    "    MEAN_FEATURES, MIN_FEATURES, MAX_FEATURES, LAST_FEATURES, FIRST_FEATURES,\n",
    "    RANGE_FEATURES, VELOCITY_FEATURES, SPEED_FEATURES\n",
    ")\n",
    "from utils.feature_engineering_helpers import (\n",
    "    filter_df_for_feature, get_specific_row_df, get_agg_df\n",
    ")"
   ]
  },
  {
   "cell_type": "code",
   "execution_count": 4,
   "id": "08cce559-a615-41c7-9d81-0a5e7b981931",
   "metadata": {
    "tags": []
   },
   "outputs": [],
   "source": [
    "RAW_DATA_PATH = \"../raw_data\"\n",
    "PROCESSED_DATA_PATH = \"../processed_data\"\n",
    "SUBMISSION_DATA_PATH = \"../submissions\"\n",
    "EVALUATION_DATA_PATH = \"../evaluation_data\"\n",
    "MODELS_PATH = \"../models\"\n",
    "EXP_PATH = \"../experiments\"\n",
    "DROP_FEATURES_PATH = \"../dropped_features\""
   ]
  },
  {
   "cell_type": "code",
   "execution_count": 5,
   "id": "79487a81-ce62-4847-974a-485a5ce1c515",
   "metadata": {},
   "outputs": [],
   "source": [
    "RAW_TRAIN_PARQUET_PATH = os.path.join(RAW_DATA_PATH, \"train_parquet\")\n",
    "RAW_TRAIN_PICKLE_PATH = os.path.join(RAW_DATA_PATH, \"train_pickle\")\n",
    "RAW_TEST_PARQUET_PATH = os.path.join(RAW_DATA_PATH, \"test_parquet\")\n",
    "RAW_TEST_PICKLE_PATH = os.path.join(RAW_DATA_PATH, \"test_pickle\")"
   ]
  },
  {
   "cell_type": "code",
   "execution_count": 6,
   "id": "67194602-57fc-4e92-9801-8d600e52a5b2",
   "metadata": {},
   "outputs": [],
   "source": [
    "%load_ext autoreload\n",
    "%autoreload"
   ]
  },
  {
   "cell_type": "markdown",
   "id": "3885beac-e245-43b6-a2cc-73e9f871d132",
   "metadata": {},
   "source": [
    "### Feature Engineering on Train"
   ]
  },
  {
   "cell_type": "code",
   "execution_count": 9,
   "id": "6735831d-0024-4122-9c7b-1280e519d03e",
   "metadata": {},
   "outputs": [
    {
     "name": "stdout",
     "output_type": "stream",
     "text": [
      "Shape of data: (5531451, 193)\n",
      "CPU times: user 2.06 s, sys: 1.62 s, total: 3.69 s\n",
      "Wall time: 4.85 s\n"
     ]
    }
   ],
   "source": [
    "%%time\n",
    "raw_train = read_file(f\"{RAW_TRAIN_PICKLE_PATH}/train_data.pkl\")"
   ]
  },
  {
   "cell_type": "code",
   "execution_count": 10,
   "id": "230522d7-48b3-4a4e-bcbb-67804c9903f5",
   "metadata": {},
   "outputs": [
    {
     "name": "stdout",
     "output_type": "stream",
     "text": [
      "CPU times: user 258 ms, sys: 33.2 ms, total: 291 ms\n",
      "Wall time: 290 ms\n"
     ]
    }
   ],
   "source": [
    "%%time\n",
    "labels = pd.read_csv(f\"{RAW_DATA_PATH}/train_labels.csv\")"
   ]
  },
  {
   "cell_type": "code",
   "execution_count": 11,
   "id": "8cd608a3-776b-42d0-aed4-925b7b89de79",
   "metadata": {
    "tags": []
   },
   "outputs": [
    {
     "name": "stdout",
     "output_type": "stream",
     "text": [
      "CPU times: user 19.6 s, sys: 6.89 s, total: 26.5 s\n",
      "Wall time: 28.2 s\n"
     ]
    }
   ],
   "source": [
    "%%time\n",
    "train_agg = get_agg_df(raw_train)"
   ]
  },
  {
   "cell_type": "code",
   "execution_count": 12,
   "id": "d79f2e0c-6b6e-478e-925e-9274b82fc4fe",
   "metadata": {},
   "outputs": [
    {
     "name": "stdout",
     "output_type": "stream",
     "text": [
      "CPU times: user 134 ms, sys: 499 ms, total: 633 ms\n",
      "Wall time: 586 ms\n"
     ]
    }
   ],
   "source": [
    "%%time\n",
    "train_agg[\"num_statements\"] = (\n",
    "    raw_train.loc[raw_train[\"row_number\"] == 1][[\"row_number\", \"row_number_inv\"]].sum(axis=1) - 1\n",
    ").reset_index(drop=True).values"
   ]
  },
  {
   "cell_type": "code",
   "execution_count": 13,
   "id": "f243f14d-a416-4d2c-aa81-e5e824828f75",
   "metadata": {},
   "outputs": [
    {
     "data": {
      "text/html": [
       "<div>\n",
       "<style scoped>\n",
       "    .dataframe tbody tr th:only-of-type {\n",
       "        vertical-align: middle;\n",
       "    }\n",
       "\n",
       "    .dataframe tbody tr th {\n",
       "        vertical-align: top;\n",
       "    }\n",
       "\n",
       "    .dataframe thead th {\n",
       "        text-align: right;\n",
       "    }\n",
       "</style>\n",
       "<table border=\"1\" class=\"dataframe\">\n",
       "  <thead>\n",
       "    <tr style=\"text-align: right;\">\n",
       "      <th></th>\n",
       "      <th>R_9_avg</th>\n",
       "      <th>D_80_avg</th>\n",
       "      <th>D_113_avg</th>\n",
       "      <th>D_128_avg</th>\n",
       "      <th>D_50_avg</th>\n",
       "      <th>S_5_avg</th>\n",
       "      <th>B_23_avg</th>\n",
       "      <th>S_20_avg</th>\n",
       "      <th>D_51_avg</th>\n",
       "      <th>D_56_avg</th>\n",
       "      <th>...</th>\n",
       "      <th>B_42_std</th>\n",
       "      <th>S_6_std</th>\n",
       "      <th>D_131_std</th>\n",
       "      <th>B_29_std</th>\n",
       "      <th>S_8_std</th>\n",
       "      <th>S_16_std</th>\n",
       "      <th>B_36_std</th>\n",
       "      <th>R_21_std</th>\n",
       "      <th>D_82_std</th>\n",
       "      <th>num_statements</th>\n",
       "    </tr>\n",
       "  </thead>\n",
       "  <tbody>\n",
       "    <tr>\n",
       "      <th>0000099d6bd597052cdcda90ffabf56573fe9d7c79be5fbac11a8ed792feb62a</th>\n",
       "      <td>-1.0</td>\n",
       "      <td>0.384615</td>\n",
       "      <td>0.0</td>\n",
       "      <td>1.004154</td>\n",
       "      <td>0.150326</td>\n",
       "      <td>0.029112</td>\n",
       "      <td>0.026177</td>\n",
       "      <td>0.0</td>\n",
       "      <td>2.923077</td>\n",
       "      <td>0.158571</td>\n",
       "      <td>...</td>\n",
       "      <td>NaN</td>\n",
       "      <td>0.0</td>\n",
       "      <td>0.0</td>\n",
       "      <td>NaN</td>\n",
       "      <td>429.583519</td>\n",
       "      <td>0.003047</td>\n",
       "      <td>0.003333</td>\n",
       "      <td>0.0</td>\n",
       "      <td>0.0</td>\n",
       "      <td>13</td>\n",
       "    </tr>\n",
       "    <tr>\n",
       "      <th>00000fd6641609c6ece5454664794f0340ad84dddce9a267a310b5ae68e9d8e5</th>\n",
       "      <td>-1.0</td>\n",
       "      <td>0.000000</td>\n",
       "      <td>0.0</td>\n",
       "      <td>1.002631</td>\n",
       "      <td>NaN</td>\n",
       "      <td>0.016785</td>\n",
       "      <td>0.013286</td>\n",
       "      <td>0.0</td>\n",
       "      <td>1.153846</td>\n",
       "      <td>0.705671</td>\n",
       "      <td>...</td>\n",
       "      <td>NaN</td>\n",
       "      <td>0.0</td>\n",
       "      <td>0.0</td>\n",
       "      <td>NaN</td>\n",
       "      <td>772.374544</td>\n",
       "      <td>0.003125</td>\n",
       "      <td>0.002787</td>\n",
       "      <td>0.0</td>\n",
       "      <td>0.0</td>\n",
       "      <td>13</td>\n",
       "    </tr>\n",
       "    <tr>\n",
       "      <th>00001b22f846c82c51f6e3958ccd81970162bae8b007e80662ef27519fcc18c1</th>\n",
       "      <td>-1.0</td>\n",
       "      <td>0.000000</td>\n",
       "      <td>0.0</td>\n",
       "      <td>0.000000</td>\n",
       "      <td>NaN</td>\n",
       "      <td>0.005948</td>\n",
       "      <td>0.023436</td>\n",
       "      <td>0.0</td>\n",
       "      <td>0.615385</td>\n",
       "      <td>0.208154</td>\n",
       "      <td>...</td>\n",
       "      <td>NaN</td>\n",
       "      <td>0.0</td>\n",
       "      <td>0.0</td>\n",
       "      <td>NaN</td>\n",
       "      <td>0.000000</td>\n",
       "      <td>0.002772</td>\n",
       "      <td>0.002501</td>\n",
       "      <td>0.0</td>\n",
       "      <td>0.0</td>\n",
       "      <td>13</td>\n",
       "    </tr>\n",
       "  </tbody>\n",
       "</table>\n",
       "<p>3 rows × 709 columns</p>\n",
       "</div>"
      ],
      "text/plain": [
       "                                                    R_9_avg  D_80_avg  \\\n",
       "0000099d6bd597052cdcda90ffabf56573fe9d7c79be5fb...     -1.0  0.384615   \n",
       "00000fd6641609c6ece5454664794f0340ad84dddce9a26...     -1.0  0.000000   \n",
       "00001b22f846c82c51f6e3958ccd81970162bae8b007e80...     -1.0  0.000000   \n",
       "\n",
       "                                                    D_113_avg  D_128_avg  \\\n",
       "0000099d6bd597052cdcda90ffabf56573fe9d7c79be5fb...        0.0   1.004154   \n",
       "00000fd6641609c6ece5454664794f0340ad84dddce9a26...        0.0   1.002631   \n",
       "00001b22f846c82c51f6e3958ccd81970162bae8b007e80...        0.0   0.000000   \n",
       "\n",
       "                                                    D_50_avg   S_5_avg  \\\n",
       "0000099d6bd597052cdcda90ffabf56573fe9d7c79be5fb...  0.150326  0.029112   \n",
       "00000fd6641609c6ece5454664794f0340ad84dddce9a26...       NaN  0.016785   \n",
       "00001b22f846c82c51f6e3958ccd81970162bae8b007e80...       NaN  0.005948   \n",
       "\n",
       "                                                    B_23_avg  S_20_avg  \\\n",
       "0000099d6bd597052cdcda90ffabf56573fe9d7c79be5fb...  0.026177       0.0   \n",
       "00000fd6641609c6ece5454664794f0340ad84dddce9a26...  0.013286       0.0   \n",
       "00001b22f846c82c51f6e3958ccd81970162bae8b007e80...  0.023436       0.0   \n",
       "\n",
       "                                                    D_51_avg  D_56_avg  ...  \\\n",
       "0000099d6bd597052cdcda90ffabf56573fe9d7c79be5fb...  2.923077  0.158571  ...   \n",
       "00000fd6641609c6ece5454664794f0340ad84dddce9a26...  1.153846  0.705671  ...   \n",
       "00001b22f846c82c51f6e3958ccd81970162bae8b007e80...  0.615385  0.208154  ...   \n",
       "\n",
       "                                                    B_42_std  S_6_std  \\\n",
       "0000099d6bd597052cdcda90ffabf56573fe9d7c79be5fb...       NaN      0.0   \n",
       "00000fd6641609c6ece5454664794f0340ad84dddce9a26...       NaN      0.0   \n",
       "00001b22f846c82c51f6e3958ccd81970162bae8b007e80...       NaN      0.0   \n",
       "\n",
       "                                                    D_131_std  B_29_std  \\\n",
       "0000099d6bd597052cdcda90ffabf56573fe9d7c79be5fb...        0.0       NaN   \n",
       "00000fd6641609c6ece5454664794f0340ad84dddce9a26...        0.0       NaN   \n",
       "00001b22f846c82c51f6e3958ccd81970162bae8b007e80...        0.0       NaN   \n",
       "\n",
       "                                                       S_8_std  S_16_std  \\\n",
       "0000099d6bd597052cdcda90ffabf56573fe9d7c79be5fb...  429.583519  0.003047   \n",
       "00000fd6641609c6ece5454664794f0340ad84dddce9a26...  772.374544  0.003125   \n",
       "00001b22f846c82c51f6e3958ccd81970162bae8b007e80...    0.000000  0.002772   \n",
       "\n",
       "                                                    B_36_std  R_21_std  \\\n",
       "0000099d6bd597052cdcda90ffabf56573fe9d7c79be5fb...  0.003333       0.0   \n",
       "00000fd6641609c6ece5454664794f0340ad84dddce9a26...  0.002787       0.0   \n",
       "00001b22f846c82c51f6e3958ccd81970162bae8b007e80...  0.002501       0.0   \n",
       "\n",
       "                                                    D_82_std  num_statements  \n",
       "0000099d6bd597052cdcda90ffabf56573fe9d7c79be5fb...       0.0              13  \n",
       "00000fd6641609c6ece5454664794f0340ad84dddce9a26...       0.0              13  \n",
       "00001b22f846c82c51f6e3958ccd81970162bae8b007e80...       0.0              13  \n",
       "\n",
       "[3 rows x 709 columns]"
      ]
     },
     "execution_count": 13,
     "metadata": {},
     "output_type": "execute_result"
    }
   ],
   "source": [
    "train_agg.head(3)"
   ]
  },
  {
   "cell_type": "code",
   "execution_count": 14,
   "id": "cfa81b0a-d6ce-4e13-8a1e-95572bdc12eb",
   "metadata": {},
   "outputs": [
    {
     "name": "stdout",
     "output_type": "stream",
     "text": [
      "CPU times: user 1.93 s, sys: 1.47 s, total: 3.4 s\n",
      "Wall time: 4.04 s\n"
     ]
    }
   ],
   "source": [
    "%%time\n",
    "train_last_etc = get_specific_row_df(raw_train)"
   ]
  },
  {
   "cell_type": "code",
   "execution_count": 15,
   "id": "f7cdcf30-e47c-4f96-826f-b397dcf66707",
   "metadata": {},
   "outputs": [
    {
     "data": {
      "text/html": [
       "<div>\n",
       "<style scoped>\n",
       "    .dataframe tbody tr th:only-of-type {\n",
       "        vertical-align: middle;\n",
       "    }\n",
       "\n",
       "    .dataframe tbody tr th {\n",
       "        vertical-align: top;\n",
       "    }\n",
       "\n",
       "    .dataframe thead th {\n",
       "        text-align: right;\n",
       "    }\n",
       "</style>\n",
       "<table border=\"1\" class=\"dataframe\">\n",
       "  <thead>\n",
       "    <tr style=\"text-align: right;\">\n",
       "      <th></th>\n",
       "      <th>P_2_last</th>\n",
       "      <th>D_39_last</th>\n",
       "      <th>B_1_last</th>\n",
       "      <th>B_2_last</th>\n",
       "      <th>R_1_last</th>\n",
       "      <th>S_3_last</th>\n",
       "      <th>D_41_last</th>\n",
       "      <th>B_3_last</th>\n",
       "      <th>D_42_last</th>\n",
       "      <th>D_43_last</th>\n",
       "      <th>...</th>\n",
       "      <th>D_136_first</th>\n",
       "      <th>D_137_first</th>\n",
       "      <th>D_138_first</th>\n",
       "      <th>D_139_first</th>\n",
       "      <th>D_140_first</th>\n",
       "      <th>D_141_first</th>\n",
       "      <th>D_142_first</th>\n",
       "      <th>D_143_first</th>\n",
       "      <th>D_144_first</th>\n",
       "      <th>D_145_first</th>\n",
       "    </tr>\n",
       "    <tr>\n",
       "      <th>customer_ID</th>\n",
       "      <th></th>\n",
       "      <th></th>\n",
       "      <th></th>\n",
       "      <th></th>\n",
       "      <th></th>\n",
       "      <th></th>\n",
       "      <th></th>\n",
       "      <th></th>\n",
       "      <th></th>\n",
       "      <th></th>\n",
       "      <th></th>\n",
       "      <th></th>\n",
       "      <th></th>\n",
       "      <th></th>\n",
       "      <th></th>\n",
       "      <th></th>\n",
       "      <th></th>\n",
       "      <th></th>\n",
       "      <th></th>\n",
       "      <th></th>\n",
       "      <th></th>\n",
       "    </tr>\n",
       "  </thead>\n",
       "  <tbody>\n",
       "    <tr>\n",
       "      <th>0000099d6bd597052cdcda90ffabf56573fe9d7c79be5fbac11a8ed792feb62a</th>\n",
       "      <td>0.934745</td>\n",
       "      <td>0</td>\n",
       "      <td>0.009382</td>\n",
       "      <td>1.007647</td>\n",
       "      <td>0.006104</td>\n",
       "      <td>0.135021</td>\n",
       "      <td>0.0</td>\n",
       "      <td>0.007174</td>\n",
       "      <td>NaN</td>\n",
       "      <td>NaN</td>\n",
       "      <td>...</td>\n",
       "      <td>-1</td>\n",
       "      <td>-1</td>\n",
       "      <td>-1</td>\n",
       "      <td>0</td>\n",
       "      <td>0</td>\n",
       "      <td>0.0</td>\n",
       "      <td>NaN</td>\n",
       "      <td>0</td>\n",
       "      <td>0.000610</td>\n",
       "      <td>0</td>\n",
       "    </tr>\n",
       "    <tr>\n",
       "      <th>00000fd6641609c6ece5454664794f0340ad84dddce9a267a310b5ae68e9d8e5</th>\n",
       "      <td>0.880519</td>\n",
       "      <td>6</td>\n",
       "      <td>0.034684</td>\n",
       "      <td>1.004028</td>\n",
       "      <td>0.006911</td>\n",
       "      <td>0.165509</td>\n",
       "      <td>0.0</td>\n",
       "      <td>0.005068</td>\n",
       "      <td>NaN</td>\n",
       "      <td>0.060646</td>\n",
       "      <td>...</td>\n",
       "      <td>-1</td>\n",
       "      <td>-1</td>\n",
       "      <td>-1</td>\n",
       "      <td>0</td>\n",
       "      <td>0</td>\n",
       "      <td>0.0</td>\n",
       "      <td>NaN</td>\n",
       "      <td>0</td>\n",
       "      <td>0.000027</td>\n",
       "      <td>0</td>\n",
       "    </tr>\n",
       "    <tr>\n",
       "      <th>00001b22f846c82c51f6e3958ccd81970162bae8b007e80662ef27519fcc18c1</th>\n",
       "      <td>0.880875</td>\n",
       "      <td>0</td>\n",
       "      <td>0.004284</td>\n",
       "      <td>0.812649</td>\n",
       "      <td>0.006450</td>\n",
       "      <td>NaN</td>\n",
       "      <td>0.0</td>\n",
       "      <td>0.007196</td>\n",
       "      <td>NaN</td>\n",
       "      <td>NaN</td>\n",
       "      <td>...</td>\n",
       "      <td>-1</td>\n",
       "      <td>-1</td>\n",
       "      <td>-1</td>\n",
       "      <td>0</td>\n",
       "      <td>0</td>\n",
       "      <td>0.0</td>\n",
       "      <td>NaN</td>\n",
       "      <td>0</td>\n",
       "      <td>0.002738</td>\n",
       "      <td>0</td>\n",
       "    </tr>\n",
       "  </tbody>\n",
       "</table>\n",
       "<p>3 rows × 752 columns</p>\n",
       "</div>"
      ],
      "text/plain": [
       "                                                    P_2_last  D_39_last  \\\n",
       "customer_ID                                                               \n",
       "0000099d6bd597052cdcda90ffabf56573fe9d7c79be5fb...  0.934745          0   \n",
       "00000fd6641609c6ece5454664794f0340ad84dddce9a26...  0.880519          6   \n",
       "00001b22f846c82c51f6e3958ccd81970162bae8b007e80...  0.880875          0   \n",
       "\n",
       "                                                    B_1_last  B_2_last  \\\n",
       "customer_ID                                                              \n",
       "0000099d6bd597052cdcda90ffabf56573fe9d7c79be5fb...  0.009382  1.007647   \n",
       "00000fd6641609c6ece5454664794f0340ad84dddce9a26...  0.034684  1.004028   \n",
       "00001b22f846c82c51f6e3958ccd81970162bae8b007e80...  0.004284  0.812649   \n",
       "\n",
       "                                                    R_1_last  S_3_last  \\\n",
       "customer_ID                                                              \n",
       "0000099d6bd597052cdcda90ffabf56573fe9d7c79be5fb...  0.006104  0.135021   \n",
       "00000fd6641609c6ece5454664794f0340ad84dddce9a26...  0.006911  0.165509   \n",
       "00001b22f846c82c51f6e3958ccd81970162bae8b007e80...  0.006450       NaN   \n",
       "\n",
       "                                                    D_41_last  B_3_last  \\\n",
       "customer_ID                                                               \n",
       "0000099d6bd597052cdcda90ffabf56573fe9d7c79be5fb...        0.0  0.007174   \n",
       "00000fd6641609c6ece5454664794f0340ad84dddce9a26...        0.0  0.005068   \n",
       "00001b22f846c82c51f6e3958ccd81970162bae8b007e80...        0.0  0.007196   \n",
       "\n",
       "                                                    D_42_last  D_43_last  ...  \\\n",
       "customer_ID                                                               ...   \n",
       "0000099d6bd597052cdcda90ffabf56573fe9d7c79be5fb...        NaN        NaN  ...   \n",
       "00000fd6641609c6ece5454664794f0340ad84dddce9a26...        NaN   0.060646  ...   \n",
       "00001b22f846c82c51f6e3958ccd81970162bae8b007e80...        NaN        NaN  ...   \n",
       "\n",
       "                                                    D_136_first  D_137_first  \\\n",
       "customer_ID                                                                    \n",
       "0000099d6bd597052cdcda90ffabf56573fe9d7c79be5fb...           -1           -1   \n",
       "00000fd6641609c6ece5454664794f0340ad84dddce9a26...           -1           -1   \n",
       "00001b22f846c82c51f6e3958ccd81970162bae8b007e80...           -1           -1   \n",
       "\n",
       "                                                    D_138_first  D_139_first  \\\n",
       "customer_ID                                                                    \n",
       "0000099d6bd597052cdcda90ffabf56573fe9d7c79be5fb...           -1            0   \n",
       "00000fd6641609c6ece5454664794f0340ad84dddce9a26...           -1            0   \n",
       "00001b22f846c82c51f6e3958ccd81970162bae8b007e80...           -1            0   \n",
       "\n",
       "                                                    D_140_first  D_141_first  \\\n",
       "customer_ID                                                                    \n",
       "0000099d6bd597052cdcda90ffabf56573fe9d7c79be5fb...            0          0.0   \n",
       "00000fd6641609c6ece5454664794f0340ad84dddce9a26...            0          0.0   \n",
       "00001b22f846c82c51f6e3958ccd81970162bae8b007e80...            0          0.0   \n",
       "\n",
       "                                                    D_142_first  D_143_first  \\\n",
       "customer_ID                                                                    \n",
       "0000099d6bd597052cdcda90ffabf56573fe9d7c79be5fb...          NaN            0   \n",
       "00000fd6641609c6ece5454664794f0340ad84dddce9a26...          NaN            0   \n",
       "00001b22f846c82c51f6e3958ccd81970162bae8b007e80...          NaN            0   \n",
       "\n",
       "                                                    D_144_first  D_145_first  \n",
       "customer_ID                                                                   \n",
       "0000099d6bd597052cdcda90ffabf56573fe9d7c79be5fb...     0.000610            0  \n",
       "00000fd6641609c6ece5454664794f0340ad84dddce9a26...     0.000027            0  \n",
       "00001b22f846c82c51f6e3958ccd81970162bae8b007e80...     0.002738            0  \n",
       "\n",
       "[3 rows x 752 columns]"
      ]
     },
     "execution_count": 15,
     "metadata": {},
     "output_type": "execute_result"
    }
   ],
   "source": [
    "train_last_etc.head(3)"
   ]
  },
  {
   "cell_type": "code",
   "execution_count": 16,
   "id": "f914dfe9-4420-47b4-aba9-57b850ee9196",
   "metadata": {},
   "outputs": [
    {
     "name": "stdout",
     "output_type": "stream",
     "text": [
      "CPU times: user 200 ms, sys: 490 ms, total: 690 ms\n",
      "Wall time: 833 ms\n"
     ]
    }
   ],
   "source": [
    "%%time\n",
    "train_agg = train_last_etc.merge(train_agg, left_index=True, right_index=True, how=\"inner\")\n",
    "del train_last_etc"
   ]
  },
  {
   "cell_type": "code",
   "execution_count": 17,
   "id": "b98bc84d-d8b8-4603-a468-b79d7e8f32a8",
   "metadata": {},
   "outputs": [],
   "source": [
    "numeric_columns = list(set(raw_train.columns) - set(CATEGORY_COLUMNS) - set(NON_FEATURE_COLUMNS))\n",
    "all_columns = list(set(numeric_columns).union(set(CATEGORY_COLUMNS)))"
   ]
  },
  {
   "cell_type": "code",
   "execution_count": 18,
   "id": "8c8d6039-b1c7-44ab-b62a-66ecfb5af911",
   "metadata": {},
   "outputs": [
    {
     "data": {
      "text/plain": [
       "(458913, 1461)"
      ]
     },
     "execution_count": 18,
     "metadata": {},
     "output_type": "execute_result"
    }
   ],
   "source": [
    "train_agg.shape"
   ]
  },
  {
   "cell_type": "code",
   "execution_count": 19,
   "id": "85ffd79b-366a-49ea-a96e-47e6f40a98fc",
   "metadata": {},
   "outputs": [
    {
     "name": "stderr",
     "output_type": "stream",
     "text": [
      "100%|█████████████████████████████████████████████████████████████████████████████████████████████████████████████████████| 177/177 [00:06<00:00, 27.18it/s]"
     ]
    },
    {
     "name": "stdout",
     "output_type": "stream",
     "text": [
      "CPU times: user 5.21 s, sys: 1.07 s, total: 6.28 s\n",
      "Wall time: 6.54 s\n"
     ]
    },
    {
     "name": "stderr",
     "output_type": "stream",
     "text": [
      "\n"
     ]
    }
   ],
   "source": [
    "%%time\n",
    "for col in tqdm(numeric_columns):\n",
    "    train_agg[f\"{col}_range\"] = train_agg[f\"{col}_max\"] - train_agg[f\"{col}_min\"]\n",
    "    train_agg[f\"{col}_displacement\"] = train_agg[f\"{col}_last\"] - train_agg[f\"{col}_first\"]\n",
    "    train_agg[f\"{col}_velocity\"] = train_agg[f\"{col}_displacement\"] / np.log(train_agg[\"num_statements\"])\n",
    "    train_agg[f\"{col}_sprint\"] = train_agg[f\"{col}_last\"] - train_agg[f\"{col}_second_last\"]\n",
    "    train_agg[f\"{col}_previous_sprint\"] = train_agg[f\"{col}_second_last\"] - train_agg[f\"{col}_third_last\"]\n",
    "    train_agg[f\"{col}_last_minus_avg\"] = train_agg[f\"{col}_last\"] - train_agg[f\"{col}_avg\"]"
   ]
  },
  {
   "cell_type": "code",
   "execution_count": 20,
   "id": "1194c922-2a4e-44cf-8aca-accddba55b3c",
   "metadata": {},
   "outputs": [],
   "source": [
    "# train_agg[[f\"{col}_previous_sprint\", f\"{col}_sprint\"]]"
   ]
  },
  {
   "cell_type": "code",
   "execution_count": 21,
   "id": "acce3c56-a3d2-4f2e-98e6-6f138e194162",
   "metadata": {},
   "outputs": [
    {
     "data": {
      "text/plain": [
       "(458913, 2523)"
      ]
     },
     "execution_count": 21,
     "metadata": {},
     "output_type": "execute_result"
    }
   ],
   "source": [
    "train_agg.shape"
   ]
  },
  {
   "cell_type": "code",
   "execution_count": 106,
   "id": "8fb44043-3c62-488e-80d2-fcbb17c13bab",
   "metadata": {},
   "outputs": [],
   "source": [
    "# backup = train_agg.copy()"
   ]
  },
  {
   "cell_type": "markdown",
   "id": "296842d2-d899-4c93-9972-a06d4c3c25e5",
   "metadata": {},
   "source": [
    "#### Drop Average Columns"
   ]
  },
  {
   "cell_type": "code",
   "execution_count": 107,
   "id": "aeaa8ebe-51f8-4d70-b6a1-1ac800421f48",
   "metadata": {},
   "outputs": [
    {
     "data": {
      "text/plain": [
       "(458913, 2477)"
      ]
     },
     "execution_count": 107,
     "metadata": {},
     "output_type": "execute_result"
    }
   ],
   "source": [
    "avg_cols = get_cols(train_agg, \"_avg\", excludes=\"last_minus\")\n",
    "avg_cols = [c for c in avg_cols if c.replace(\"_avg\", \"\") not in MEAN_FEATURES]\n",
    "train_agg = train_agg.drop(columns=avg_cols, errors=\"ignore\")\n",
    "train_agg.shape"
   ]
  },
  {
   "cell_type": "markdown",
   "id": "386e366f-2f86-41a9-9175-c64bd8df6bae",
   "metadata": {},
   "source": [
    "#### Drop Minimum Columns"
   ]
  },
  {
   "cell_type": "code",
   "execution_count": 108,
   "id": "53d86aad-98ae-4086-9912-2af8cdfd036e",
   "metadata": {},
   "outputs": [
    {
     "data": {
      "text/plain": [
       "(458913, 2373)"
      ]
     },
     "execution_count": 108,
     "metadata": {},
     "output_type": "execute_result"
    }
   ],
   "source": [
    "min_cols = get_cols(train_agg, \"_min\", excludes=\"last_minus\")\n",
    "min_cols = [c for c in min_cols if c.replace(\"_min\", \"\") not in MIN_FEATURES]\n",
    "train_agg = train_agg.drop(columns=min_cols, errors=\"ignore\")\n",
    "train_agg.shape"
   ]
  },
  {
   "cell_type": "markdown",
   "id": "3307949c-d409-41e7-83c1-bf8105888f03",
   "metadata": {},
   "source": [
    "#### Drop Maximum Columns"
   ]
  },
  {
   "cell_type": "code",
   "execution_count": 109,
   "id": "79c28dc7-aadb-4a8b-9b8f-bf6b50fa3bf2",
   "metadata": {},
   "outputs": [
    {
     "data": {
      "text/plain": [
       "(458913, 2306)"
      ]
     },
     "execution_count": 109,
     "metadata": {},
     "output_type": "execute_result"
    }
   ],
   "source": [
    "max_cols = get_cols(train_agg, \"_max\", excludes=\"last_minus\")\n",
    "max_cols = [c for c in max_cols if c.replace(\"_max\", \"\") not in MAX_FEATURES]\n",
    "train_agg = train_agg.drop(columns=max_cols, errors=\"ignore\")\n",
    "train_agg.shape"
   ]
  },
  {
   "cell_type": "markdown",
   "id": "23a65aac-a648-4141-81ff-14514f730ec0",
   "metadata": {},
   "source": [
    "#### Drop First Columns"
   ]
  },
  {
   "cell_type": "code",
   "execution_count": null,
   "id": "2c83a75c-a3f4-41b1-a0c1-a535c0c0af21",
   "metadata": {},
   "outputs": [
    {
     "data": {
      "text/plain": [
       "(458913, 2190)"
      ]
     },
     "execution_count": 110,
     "metadata": {},
     "output_type": "execute_result"
    }
   ],
   "source": [
    "first_cols = get_cols(train_agg, \"_first\", excludes=\"last_minus\")\n",
    "first_cols = [c for c in first_cols if c.replace(\"_first\", \"\") not in FIRST_FEATURES]\n",
    "train_agg = train_agg.drop(columns=first_cols, errors=\"ignore\")\n",
    "train_agg.shape"
   ]
  },
  {
   "cell_type": "markdown",
   "id": "f23360a6-ae0b-411f-91d6-1d0c8f48011e",
   "metadata": {},
   "source": [
    "#### Drop Last Columns"
   ]
  },
  {
   "cell_type": "code",
   "execution_count": null,
   "id": "ffccabd6-7d3d-4080-8975-03d4c45d9b08",
   "metadata": {},
   "outputs": [
    {
     "data": {
      "text/plain": [
       "(458913, 1956)"
      ]
     },
     "execution_count": 111,
     "metadata": {},
     "output_type": "execute_result"
    }
   ],
   "source": [
    "last_cols = get_cols(train_agg, \"_last\", excludes=[\"last_minus\", \"second_last\"])\n",
    "last_cols = [c for c in last_cols if c.replace(\"_last\", \"\") not in LAST_FEATURES]\n",
    "train_agg = train_agg.drop(columns=last_cols, errors=\"ignore\")\n",
    "train_agg.shape"
   ]
  },
  {
   "cell_type": "markdown",
   "id": "3c787d9a-c4be-4ad1-8b45-a8996549a21b",
   "metadata": {
    "tags": []
   },
   "source": [
    "#### Drop Range Columns"
   ]
  },
  {
   "cell_type": "code",
   "execution_count": 113,
   "id": "51128853-3035-4178-86d6-a5532ebc68ee",
   "metadata": {},
   "outputs": [
    {
     "data": {
      "text/plain": [
       "(458913, 1855)"
      ]
     },
     "execution_count": 113,
     "metadata": {},
     "output_type": "execute_result"
    }
   ],
   "source": [
    "range_cols = get_cols(train_agg, \"_range\", excludes=[\"last_minus\", \"second_last\"])\n",
    "range_cols = [c for c in range_cols if c.replace(\"_range\", \"\") not in RANGE_FEATURES]\n",
    "train_agg = train_agg.drop(columns=range_cols, errors=\"ignore\")\n",
    "train_agg.shape"
   ]
  },
  {
   "cell_type": "markdown",
   "id": "b7a42164-7fc7-4033-ba35-fca7a572d30c",
   "metadata": {},
   "source": [
    "#### Drop Noob Features (Based on previous experiment)"
   ]
  },
  {
   "cell_type": "code",
   "execution_count": 119,
   "id": "9b9bc4f7-ecfe-4045-b80f-4175fbe42436",
   "metadata": {},
   "outputs": [],
   "source": [
    "noob_features = pd.read_csv(f\"{DROP_FEATURES_PATH}/noob_features.csv\")[\"feature\"].values.tolist()"
   ]
  },
  {
   "cell_type": "code",
   "execution_count": 120,
   "id": "fea8f82d-73a1-4c5c-872b-b83c53e2b16b",
   "metadata": {},
   "outputs": [
    {
     "data": {
      "text/plain": [
       "(458913, 1626)"
      ]
     },
     "execution_count": 120,
     "metadata": {},
     "output_type": "execute_result"
    }
   ],
   "source": [
    "train_agg = train_agg.drop(columns=noob_features, errors=\"ignore\")\n",
    "train_agg.shape"
   ]
  },
  {
   "cell_type": "code",
   "execution_count": 121,
   "id": "a56704d1-224a-4d1b-9f3c-3da49fa2ade4",
   "metadata": {},
   "outputs": [],
   "source": [
    "# feature_list = (\n",
    "#     [c + \"_avg\" for c in MEAN_FEATURES] +\n",
    "#     [c + \"_min\" for c in MIN_FEATURES] +\n",
    "#     [c + \"_max\" for c in MAX_FEATURES] +\n",
    "#     [c + \"_first\" for c in FIRST_FEATURES] +\n",
    "#     [c + \"_last\" for c in LAST_FEATURES] +\n",
    "#     [c + \"_range\" for c in RANGE_FEATURES] +\n",
    "#     [c + \"_velocity\" for c in VELOCITY_FEATURES] +\n",
    "#     [c + \"_speed\" for c in SPEED_FEATURES] + \n",
    "#     [c for c in train.columns if c.endswith((\"_lag1_diff\", \"_last_lift\"))]\n",
    "# )\n",
    "# train_agg = train_agg.loc[:, feature_list]"
   ]
  },
  {
   "cell_type": "code",
   "execution_count": 122,
   "id": "775035aa-0565-427f-a35e-17ae7a9b7d3e",
   "metadata": {},
   "outputs": [],
   "source": [
    "train_agg = train_agg.reset_index().rename(columns={\"index\": \"customer_ID\"})"
   ]
  },
  {
   "cell_type": "code",
   "execution_count": 123,
   "id": "1bfb9573-325c-4425-9bee-cf5e59830c75",
   "metadata": {},
   "outputs": [],
   "source": [
    "train_agg = train_agg.drop(columns=NON_FEATURE_COLUMNS, errors='ignore')"
   ]
  },
  {
   "cell_type": "code",
   "execution_count": 62,
   "id": "7b7ddc94-a446-4aa0-81bd-bf462c312dd1",
   "metadata": {},
   "outputs": [],
   "source": [
    "train_agg[\"dummy\"] = np.random.randn(train_agg.shape[0])"
   ]
  },
  {
   "cell_type": "code",
   "execution_count": 124,
   "id": "dad39c77-8c99-4a8d-9a94-6ad2c1ef1515",
   "metadata": {},
   "outputs": [
    {
     "data": {
      "text/plain": [
       "(458913, 1626)"
      ]
     },
     "execution_count": 124,
     "metadata": {},
     "output_type": "execute_result"
    }
   ],
   "source": [
    "train_agg.shape"
   ]
  },
  {
   "cell_type": "code",
   "execution_count": 125,
   "id": "26b55f51-ed43-421f-a544-e4e469c780d6",
   "metadata": {},
   "outputs": [
    {
     "data": {
      "text/plain": [
       "(458913, 1627)"
      ]
     },
     "execution_count": 125,
     "metadata": {},
     "output_type": "execute_result"
    }
   ],
   "source": [
    "train_agg[\"target\"] = labels[\"target\"].values\n",
    "train_agg.shape"
   ]
  },
  {
   "cell_type": "code",
   "execution_count": 126,
   "id": "c10232de-bc1c-4f15-bf0b-e5ff9a6f1248",
   "metadata": {},
   "outputs": [
    {
     "data": {
      "text/plain": [
       "float32     896\n",
       "float64     580\n",
       "int8         99\n",
       "int16        30\n",
       "category      4\n",
       "category      4\n",
       "category      3\n",
       "category      3\n",
       "category      2\n",
       "category      2\n",
       "category      2\n",
       "int64         2\n",
       "dtype: int64"
      ]
     },
     "execution_count": 126,
     "metadata": {},
     "output_type": "execute_result"
    }
   ],
   "source": [
    "train_agg.dtypes.value_counts()"
   ]
  },
  {
   "cell_type": "code",
   "execution_count": 127,
   "id": "837bb56a-994a-4b05-9cb3-b75297fd91aa",
   "metadata": {},
   "outputs": [],
   "source": [
    "train_agg.to_pickle(f\"{PROCESSED_DATA_PATH}/train_agg_finer.pkl\")"
   ]
  },
  {
   "cell_type": "markdown",
   "id": "6144bc52-209b-4c69-8c6b-7b9d9c542413",
   "metadata": {},
   "source": [
    "### Feature Engineering on Test"
   ]
  },
  {
   "cell_type": "code",
   "execution_count": 8,
   "id": "912bfaa2-3432-4a78-bc42-d9141ca44d77",
   "metadata": {},
   "outputs": [],
   "source": [
    "del test"
   ]
  },
  {
   "cell_type": "code",
   "execution_count": 9,
   "id": "41150f31-a76e-4761-829a-1ad63241e626",
   "metadata": {},
   "outputs": [
    {
     "name": "stdout",
     "output_type": "stream",
     "text": [
      "Shape of data: (11363762, 192)\n"
     ]
    }
   ],
   "source": [
    "%%time\n",
    "raw_test = read_file(f\"{RAW_TEST_PICKLE_PATH}/test_data.pkl\")"
   ]
  },
  {
   "cell_type": "code",
   "execution_count": 10,
   "id": "7a761ebd-1966-4b1f-b788-66bdc0e89b94",
   "metadata": {
    "tags": []
   },
   "outputs": [
    {
     "name": "stdout",
     "output_type": "stream",
     "text": [
      "CPU times: user 42.4 s, sys: 28.8 s, total: 1min 11s\n",
      "Wall time: 1min 38s\n"
     ]
    }
   ],
   "source": [
    "%%time\n",
    "test_agg = get_agg_df(raw_test)"
   ]
  },
  {
   "cell_type": "code",
   "execution_count": 12,
   "id": "bef5def4-b6a5-447e-aff5-a8b098baec34",
   "metadata": {},
   "outputs": [
    {
     "name": "stdout",
     "output_type": "stream",
     "text": [
      "CPU times: user 282 ms, sys: 2.28 s, total: 2.56 s\n",
      "Wall time: 6.5 s\n"
     ]
    }
   ],
   "source": [
    "%%time\n",
    "test_agg[\"num_statements\"] = (\n",
    "    raw_test.loc[raw_test[\"row_number\"] == 1][[\"row_number\", \"row_number_inv\"]].sum(axis=1) - 1\n",
    ").reset_index(drop=True).values"
   ]
  },
  {
   "cell_type": "code",
   "execution_count": 13,
   "id": "22a374ae-a665-40e5-939c-c232bc806da3",
   "metadata": {},
   "outputs": [
    {
     "data": {
      "text/html": [
       "<div>\n",
       "<style scoped>\n",
       "    .dataframe tbody tr th:only-of-type {\n",
       "        vertical-align: middle;\n",
       "    }\n",
       "\n",
       "    .dataframe tbody tr th {\n",
       "        vertical-align: top;\n",
       "    }\n",
       "\n",
       "    .dataframe thead th {\n",
       "        text-align: right;\n",
       "    }\n",
       "</style>\n",
       "<table border=\"1\" class=\"dataframe\">\n",
       "  <thead>\n",
       "    <tr style=\"text-align: right;\">\n",
       "      <th></th>\n",
       "      <th>S_15_avg</th>\n",
       "      <th>B_27_avg</th>\n",
       "      <th>D_78_avg</th>\n",
       "      <th>D_96_avg</th>\n",
       "      <th>B_8_avg</th>\n",
       "      <th>D_131_avg</th>\n",
       "      <th>D_66_avg</th>\n",
       "      <th>S_27_avg</th>\n",
       "      <th>D_125_avg</th>\n",
       "      <th>D_61_avg</th>\n",
       "      <th>...</th>\n",
       "      <th>D_70_std</th>\n",
       "      <th>B_36_std</th>\n",
       "      <th>B_11_std</th>\n",
       "      <th>D_121_std</th>\n",
       "      <th>B_32_std</th>\n",
       "      <th>D_79_std</th>\n",
       "      <th>R_13_std</th>\n",
       "      <th>D_62_std</th>\n",
       "      <th>D_105_std</th>\n",
       "      <th>num_statements</th>\n",
       "    </tr>\n",
       "  </thead>\n",
       "  <tbody>\n",
       "    <tr>\n",
       "      <th>00000469ba478561f23a92a868bd366de6f6527a684c9a2e78fb826dcac3b9b7</th>\n",
       "      <td>7.555556</td>\n",
       "      <td>0.005720</td>\n",
       "      <td>0.0</td>\n",
       "      <td>0.000000</td>\n",
       "      <td>1.006641</td>\n",
       "      <td>0.0</td>\n",
       "      <td>-1.0</td>\n",
       "      <td>0.299671</td>\n",
       "      <td>-0.444444</td>\n",
       "      <td>0.597552</td>\n",
       "      <td>...</td>\n",
       "      <td>0.333333</td>\n",
       "      <td>0.003770</td>\n",
       "      <td>0.003372</td>\n",
       "      <td>0.002904</td>\n",
       "      <td>0.0</td>\n",
       "      <td>0.333333</td>\n",
       "      <td>0.0</td>\n",
       "      <td>0.017130</td>\n",
       "      <td>NaN</td>\n",
       "      <td>9</td>\n",
       "    </tr>\n",
       "    <tr>\n",
       "      <th>00001bf2e77ff879fab36aa4fac689b9ba411dae63ae397d4263dafa1daedef5</th>\n",
       "      <td>4.000000</td>\n",
       "      <td>0.005269</td>\n",
       "      <td>0.0</td>\n",
       "      <td>0.461538</td>\n",
       "      <td>1.004206</td>\n",
       "      <td>0.0</td>\n",
       "      <td>-1.0</td>\n",
       "      <td>0.455466</td>\n",
       "      <td>0.000000</td>\n",
       "      <td>0.070053</td>\n",
       "      <td>...</td>\n",
       "      <td>0.000000</td>\n",
       "      <td>0.003279</td>\n",
       "      <td>0.061976</td>\n",
       "      <td>0.007938</td>\n",
       "      <td>0.0</td>\n",
       "      <td>0.000000</td>\n",
       "      <td>0.0</td>\n",
       "      <td>0.003154</td>\n",
       "      <td>NaN</td>\n",
       "      <td>13</td>\n",
       "    </tr>\n",
       "    <tr>\n",
       "      <th>0000210045da4f81e5f122c6bde5c2a617d03eef67f82c5e400fc98e7bd43ce8</th>\n",
       "      <td>6.153846</td>\n",
       "      <td>0.002974</td>\n",
       "      <td>0.0</td>\n",
       "      <td>0.000000</td>\n",
       "      <td>1.004163</td>\n",
       "      <td>0.0</td>\n",
       "      <td>1.0</td>\n",
       "      <td>0.325662</td>\n",
       "      <td>0.000000</td>\n",
       "      <td>0.317425</td>\n",
       "      <td>...</td>\n",
       "      <td>0.506370</td>\n",
       "      <td>0.002576</td>\n",
       "      <td>0.007783</td>\n",
       "      <td>0.006140</td>\n",
       "      <td>0.0</td>\n",
       "      <td>0.000000</td>\n",
       "      <td>0.0</td>\n",
       "      <td>0.184829</td>\n",
       "      <td>0.059204</td>\n",
       "      <td>13</td>\n",
       "    </tr>\n",
       "  </tbody>\n",
       "</table>\n",
       "<p>3 rows × 709 columns</p>\n",
       "</div>"
      ],
      "text/plain": [
       "                                                    S_15_avg  B_27_avg  \\\n",
       "00000469ba478561f23a92a868bd366de6f6527a684c9a2...  7.555556  0.005720   \n",
       "00001bf2e77ff879fab36aa4fac689b9ba411dae63ae397...  4.000000  0.005269   \n",
       "0000210045da4f81e5f122c6bde5c2a617d03eef67f82c5...  6.153846  0.002974   \n",
       "\n",
       "                                                    D_78_avg  D_96_avg  \\\n",
       "00000469ba478561f23a92a868bd366de6f6527a684c9a2...       0.0  0.000000   \n",
       "00001bf2e77ff879fab36aa4fac689b9ba411dae63ae397...       0.0  0.461538   \n",
       "0000210045da4f81e5f122c6bde5c2a617d03eef67f82c5...       0.0  0.000000   \n",
       "\n",
       "                                                     B_8_avg  D_131_avg  \\\n",
       "00000469ba478561f23a92a868bd366de6f6527a684c9a2...  1.006641        0.0   \n",
       "00001bf2e77ff879fab36aa4fac689b9ba411dae63ae397...  1.004206        0.0   \n",
       "0000210045da4f81e5f122c6bde5c2a617d03eef67f82c5...  1.004163        0.0   \n",
       "\n",
       "                                                    D_66_avg  S_27_avg  \\\n",
       "00000469ba478561f23a92a868bd366de6f6527a684c9a2...      -1.0  0.299671   \n",
       "00001bf2e77ff879fab36aa4fac689b9ba411dae63ae397...      -1.0  0.455466   \n",
       "0000210045da4f81e5f122c6bde5c2a617d03eef67f82c5...       1.0  0.325662   \n",
       "\n",
       "                                                    D_125_avg  D_61_avg  ...  \\\n",
       "00000469ba478561f23a92a868bd366de6f6527a684c9a2...  -0.444444  0.597552  ...   \n",
       "00001bf2e77ff879fab36aa4fac689b9ba411dae63ae397...   0.000000  0.070053  ...   \n",
       "0000210045da4f81e5f122c6bde5c2a617d03eef67f82c5...   0.000000  0.317425  ...   \n",
       "\n",
       "                                                    D_70_std  B_36_std  \\\n",
       "00000469ba478561f23a92a868bd366de6f6527a684c9a2...  0.333333  0.003770   \n",
       "00001bf2e77ff879fab36aa4fac689b9ba411dae63ae397...  0.000000  0.003279   \n",
       "0000210045da4f81e5f122c6bde5c2a617d03eef67f82c5...  0.506370  0.002576   \n",
       "\n",
       "                                                    B_11_std  D_121_std  \\\n",
       "00000469ba478561f23a92a868bd366de6f6527a684c9a2...  0.003372   0.002904   \n",
       "00001bf2e77ff879fab36aa4fac689b9ba411dae63ae397...  0.061976   0.007938   \n",
       "0000210045da4f81e5f122c6bde5c2a617d03eef67f82c5...  0.007783   0.006140   \n",
       "\n",
       "                                                    B_32_std  D_79_std  \\\n",
       "00000469ba478561f23a92a868bd366de6f6527a684c9a2...       0.0  0.333333   \n",
       "00001bf2e77ff879fab36aa4fac689b9ba411dae63ae397...       0.0  0.000000   \n",
       "0000210045da4f81e5f122c6bde5c2a617d03eef67f82c5...       0.0  0.000000   \n",
       "\n",
       "                                                    R_13_std  D_62_std  \\\n",
       "00000469ba478561f23a92a868bd366de6f6527a684c9a2...       0.0  0.017130   \n",
       "00001bf2e77ff879fab36aa4fac689b9ba411dae63ae397...       0.0  0.003154   \n",
       "0000210045da4f81e5f122c6bde5c2a617d03eef67f82c5...       0.0  0.184829   \n",
       "\n",
       "                                                    D_105_std  num_statements  \n",
       "00000469ba478561f23a92a868bd366de6f6527a684c9a2...        NaN               9  \n",
       "00001bf2e77ff879fab36aa4fac689b9ba411dae63ae397...        NaN              13  \n",
       "0000210045da4f81e5f122c6bde5c2a617d03eef67f82c5...   0.059204              13  \n",
       "\n",
       "[3 rows x 709 columns]"
      ]
     },
     "execution_count": 13,
     "metadata": {},
     "output_type": "execute_result"
    }
   ],
   "source": [
    "test_agg.head(3)"
   ]
  },
  {
   "cell_type": "code",
   "execution_count": 14,
   "id": "7c96ab91-e131-4554-8ead-0563cae7335b",
   "metadata": {},
   "outputs": [
    {
     "name": "stdout",
     "output_type": "stream",
     "text": [
      "CPU times: user 4.15 s, sys: 8.31 s, total: 12.5 s\n",
      "Wall time: 17.3 s\n"
     ]
    }
   ],
   "source": [
    "%%time\n",
    "test_last_etc = get_specific_row_df(raw_test)"
   ]
  },
  {
   "cell_type": "code",
   "execution_count": 15,
   "id": "8246fce1-b77c-4303-919b-adaf56542f0e",
   "metadata": {},
   "outputs": [
    {
     "data": {
      "text/html": [
       "<div>\n",
       "<style scoped>\n",
       "    .dataframe tbody tr th:only-of-type {\n",
       "        vertical-align: middle;\n",
       "    }\n",
       "\n",
       "    .dataframe tbody tr th {\n",
       "        vertical-align: top;\n",
       "    }\n",
       "\n",
       "    .dataframe thead th {\n",
       "        text-align: right;\n",
       "    }\n",
       "</style>\n",
       "<table border=\"1\" class=\"dataframe\">\n",
       "  <thead>\n",
       "    <tr style=\"text-align: right;\">\n",
       "      <th></th>\n",
       "      <th>P_2_last</th>\n",
       "      <th>D_39_last</th>\n",
       "      <th>B_1_last</th>\n",
       "      <th>B_2_last</th>\n",
       "      <th>R_1_last</th>\n",
       "      <th>S_3_last</th>\n",
       "      <th>D_41_last</th>\n",
       "      <th>B_3_last</th>\n",
       "      <th>D_42_last</th>\n",
       "      <th>D_43_last</th>\n",
       "      <th>...</th>\n",
       "      <th>D_136_first</th>\n",
       "      <th>D_137_first</th>\n",
       "      <th>D_138_first</th>\n",
       "      <th>D_139_first</th>\n",
       "      <th>D_140_first</th>\n",
       "      <th>D_141_first</th>\n",
       "      <th>D_142_first</th>\n",
       "      <th>D_143_first</th>\n",
       "      <th>D_144_first</th>\n",
       "      <th>D_145_first</th>\n",
       "    </tr>\n",
       "    <tr>\n",
       "      <th>customer_ID</th>\n",
       "      <th></th>\n",
       "      <th></th>\n",
       "      <th></th>\n",
       "      <th></th>\n",
       "      <th></th>\n",
       "      <th></th>\n",
       "      <th></th>\n",
       "      <th></th>\n",
       "      <th></th>\n",
       "      <th></th>\n",
       "      <th></th>\n",
       "      <th></th>\n",
       "      <th></th>\n",
       "      <th></th>\n",
       "      <th></th>\n",
       "      <th></th>\n",
       "      <th></th>\n",
       "      <th></th>\n",
       "      <th></th>\n",
       "      <th></th>\n",
       "      <th></th>\n",
       "    </tr>\n",
       "  </thead>\n",
       "  <tbody>\n",
       "    <tr>\n",
       "      <th>00000469ba478561f23a92a868bd366de6f6527a684c9a2e78fb826dcac3b9b7</th>\n",
       "      <td>0.568930</td>\n",
       "      <td>4</td>\n",
       "      <td>0.010779</td>\n",
       "      <td>1.009347</td>\n",
       "      <td>0.0</td>\n",
       "      <td>0.149413</td>\n",
       "      <td>0.0</td>\n",
       "      <td>0.003576</td>\n",
       "      <td>0.103745</td>\n",
       "      <td>0.007398</td>\n",
       "      <td>...</td>\n",
       "      <td>-1</td>\n",
       "      <td>-1</td>\n",
       "      <td>-1</td>\n",
       "      <td>-1</td>\n",
       "      <td>0</td>\n",
       "      <td>NaN</td>\n",
       "      <td>NaN</td>\n",
       "      <td>-1</td>\n",
       "      <td>0.008281</td>\n",
       "      <td>-1</td>\n",
       "    </tr>\n",
       "    <tr>\n",
       "      <th>00001bf2e77ff879fab36aa4fac689b9ba411dae63ae397d4263dafa1daedef5</th>\n",
       "      <td>0.841177</td>\n",
       "      <td>4</td>\n",
       "      <td>0.016562</td>\n",
       "      <td>1.009245</td>\n",
       "      <td>0.0</td>\n",
       "      <td>0.112195</td>\n",
       "      <td>0.0</td>\n",
       "      <td>0.011386</td>\n",
       "      <td>NaN</td>\n",
       "      <td>NaN</td>\n",
       "      <td>...</td>\n",
       "      <td>-1</td>\n",
       "      <td>-1</td>\n",
       "      <td>-1</td>\n",
       "      <td>0</td>\n",
       "      <td>0</td>\n",
       "      <td>0.000000</td>\n",
       "      <td>NaN</td>\n",
       "      <td>0</td>\n",
       "      <td>0.008436</td>\n",
       "      <td>0</td>\n",
       "    </tr>\n",
       "    <tr>\n",
       "      <th>0000210045da4f81e5f122c6bde5c2a617d03eef67f82c5e400fc98e7bd43ce8</th>\n",
       "      <td>0.697522</td>\n",
       "      <td>0</td>\n",
       "      <td>0.001484</td>\n",
       "      <td>0.810072</td>\n",
       "      <td>0.0</td>\n",
       "      <td>0.166165</td>\n",
       "      <td>0.0</td>\n",
       "      <td>0.015938</td>\n",
       "      <td>NaN</td>\n",
       "      <td>0.105303</td>\n",
       "      <td>...</td>\n",
       "      <td>-1</td>\n",
       "      <td>-1</td>\n",
       "      <td>-1</td>\n",
       "      <td>1</td>\n",
       "      <td>0</td>\n",
       "      <td>0.886598</td>\n",
       "      <td>0.103164</td>\n",
       "      <td>1</td>\n",
       "      <td>0.322121</td>\n",
       "      <td>1</td>\n",
       "    </tr>\n",
       "  </tbody>\n",
       "</table>\n",
       "<p>3 rows × 752 columns</p>\n",
       "</div>"
      ],
      "text/plain": [
       "                                                    P_2_last  D_39_last  \\\n",
       "customer_ID                                                               \n",
       "00000469ba478561f23a92a868bd366de6f6527a684c9a2...  0.568930          4   \n",
       "00001bf2e77ff879fab36aa4fac689b9ba411dae63ae397...  0.841177          4   \n",
       "0000210045da4f81e5f122c6bde5c2a617d03eef67f82c5...  0.697522          0   \n",
       "\n",
       "                                                    B_1_last  B_2_last  \\\n",
       "customer_ID                                                              \n",
       "00000469ba478561f23a92a868bd366de6f6527a684c9a2...  0.010779  1.009347   \n",
       "00001bf2e77ff879fab36aa4fac689b9ba411dae63ae397...  0.016562  1.009245   \n",
       "0000210045da4f81e5f122c6bde5c2a617d03eef67f82c5...  0.001484  0.810072   \n",
       "\n",
       "                                                    R_1_last  S_3_last  \\\n",
       "customer_ID                                                              \n",
       "00000469ba478561f23a92a868bd366de6f6527a684c9a2...       0.0  0.149413   \n",
       "00001bf2e77ff879fab36aa4fac689b9ba411dae63ae397...       0.0  0.112195   \n",
       "0000210045da4f81e5f122c6bde5c2a617d03eef67f82c5...       0.0  0.166165   \n",
       "\n",
       "                                                    D_41_last  B_3_last  \\\n",
       "customer_ID                                                               \n",
       "00000469ba478561f23a92a868bd366de6f6527a684c9a2...        0.0  0.003576   \n",
       "00001bf2e77ff879fab36aa4fac689b9ba411dae63ae397...        0.0  0.011386   \n",
       "0000210045da4f81e5f122c6bde5c2a617d03eef67f82c5...        0.0  0.015938   \n",
       "\n",
       "                                                    D_42_last  D_43_last  ...  \\\n",
       "customer_ID                                                               ...   \n",
       "00000469ba478561f23a92a868bd366de6f6527a684c9a2...   0.103745   0.007398  ...   \n",
       "00001bf2e77ff879fab36aa4fac689b9ba411dae63ae397...        NaN        NaN  ...   \n",
       "0000210045da4f81e5f122c6bde5c2a617d03eef67f82c5...        NaN   0.105303  ...   \n",
       "\n",
       "                                                    D_136_first  D_137_first  \\\n",
       "customer_ID                                                                    \n",
       "00000469ba478561f23a92a868bd366de6f6527a684c9a2...           -1           -1   \n",
       "00001bf2e77ff879fab36aa4fac689b9ba411dae63ae397...           -1           -1   \n",
       "0000210045da4f81e5f122c6bde5c2a617d03eef67f82c5...           -1           -1   \n",
       "\n",
       "                                                    D_138_first  D_139_first  \\\n",
       "customer_ID                                                                    \n",
       "00000469ba478561f23a92a868bd366de6f6527a684c9a2...           -1           -1   \n",
       "00001bf2e77ff879fab36aa4fac689b9ba411dae63ae397...           -1            0   \n",
       "0000210045da4f81e5f122c6bde5c2a617d03eef67f82c5...           -1            1   \n",
       "\n",
       "                                                    D_140_first  D_141_first  \\\n",
       "customer_ID                                                                    \n",
       "00000469ba478561f23a92a868bd366de6f6527a684c9a2...            0          NaN   \n",
       "00001bf2e77ff879fab36aa4fac689b9ba411dae63ae397...            0     0.000000   \n",
       "0000210045da4f81e5f122c6bde5c2a617d03eef67f82c5...            0     0.886598   \n",
       "\n",
       "                                                    D_142_first  D_143_first  \\\n",
       "customer_ID                                                                    \n",
       "00000469ba478561f23a92a868bd366de6f6527a684c9a2...          NaN           -1   \n",
       "00001bf2e77ff879fab36aa4fac689b9ba411dae63ae397...          NaN            0   \n",
       "0000210045da4f81e5f122c6bde5c2a617d03eef67f82c5...     0.103164            1   \n",
       "\n",
       "                                                    D_144_first  D_145_first  \n",
       "customer_ID                                                                   \n",
       "00000469ba478561f23a92a868bd366de6f6527a684c9a2...     0.008281           -1  \n",
       "00001bf2e77ff879fab36aa4fac689b9ba411dae63ae397...     0.008436            0  \n",
       "0000210045da4f81e5f122c6bde5c2a617d03eef67f82c5...     0.322121            1  \n",
       "\n",
       "[3 rows x 752 columns]"
      ]
     },
     "execution_count": 15,
     "metadata": {},
     "output_type": "execute_result"
    }
   ],
   "source": [
    "test_last_etc.head(3)"
   ]
  },
  {
   "cell_type": "code",
   "execution_count": 16,
   "id": "c2aa9473-96e4-4a1d-92a2-1810a5409de8",
   "metadata": {},
   "outputs": [
    {
     "name": "stdout",
     "output_type": "stream",
     "text": [
      "CPU times: user 423 ms, sys: 1.77 s, total: 2.19 s\n",
      "Wall time: 4.54 s\n"
     ]
    }
   ],
   "source": [
    "%%time\n",
    "test_agg = test_last_etc.merge(test_agg, left_index=True, right_index=True, how=\"inner\")\n",
    "del test_last_etc"
   ]
  },
  {
   "cell_type": "code",
   "execution_count": 17,
   "id": "ae2d13d8-3220-43c1-9b91-f81688706c10",
   "metadata": {},
   "outputs": [],
   "source": [
    "numeric_columns = list(set(raw_test.columns) - set(CATEGORY_COLUMNS) - set(NON_FEATURE_COLUMNS))\n",
    "all_columns = list(set(numeric_columns).union(set(CATEGORY_COLUMNS)))"
   ]
  },
  {
   "cell_type": "code",
   "execution_count": 18,
   "id": "fb4fb1e8-5321-4838-aa85-95b13e4283d3",
   "metadata": {},
   "outputs": [
    {
     "data": {
      "text/plain": [
       "(924621, 1461)"
      ]
     },
     "execution_count": 18,
     "metadata": {},
     "output_type": "execute_result"
    }
   ],
   "source": [
    "test_agg.shape"
   ]
  },
  {
   "cell_type": "code",
   "execution_count": 19,
   "id": "886348f5-6bc0-4b1d-a52c-3347311477ae",
   "metadata": {},
   "outputs": [
    {
     "name": "stderr",
     "output_type": "stream",
     "text": [
      "100%|█████████████████████████████████████████████████████████████████████████████████████████████████████████████████████| 177/177 [00:08<00:00, 20.67it/s]"
     ]
    },
    {
     "name": "stdout",
     "output_type": "stream",
     "text": [
      "CPU times: user 6.18 s, sys: 1.89 s, total: 8.07 s\n",
      "Wall time: 8.6 s\n"
     ]
    },
    {
     "name": "stderr",
     "output_type": "stream",
     "text": [
      "\n"
     ]
    }
   ],
   "source": [
    "%%time\n",
    "for col in tqdm(numeric_columns):\n",
    "    test_agg[f\"{col}_range\"] = test_agg[f\"{col}_max\"] - test_agg[f\"{col}_min\"]\n",
    "    test_agg[f\"{col}_displacement\"] = test_agg[f\"{col}_last\"] - test_agg[f\"{col}_first\"]\n",
    "    test_agg[f\"{col}_velocity\"] = test_agg[f\"{col}_displacement\"] / np.log(test_agg[\"num_statements\"])\n",
    "    test_agg[f\"{col}_sprint\"] = test_agg[f\"{col}_last\"] - test_agg[f\"{col}_second_last\"]\n",
    "    test_agg[f\"{col}_previous_sprint\"] = test_agg[f\"{col}_second_last\"] - test_agg[f\"{col}_third_last\"]\n",
    "    test_agg[f\"{col}_last_minus_avg\"] = test_agg[f\"{col}_last\"] - test_agg[f\"{col}_avg\"]"
   ]
  },
  {
   "cell_type": "code",
   "execution_count": 20,
   "id": "832d81a0-e03f-4f36-b165-cc7b98b010be",
   "metadata": {},
   "outputs": [],
   "source": [
    "# test_agg[[f\"{col}_previous_sprint\", f\"{col}_sprint\"]]"
   ]
  },
  {
   "cell_type": "code",
   "execution_count": 21,
   "id": "22c27e42-d4f3-4af0-a0b9-5947b8c8b48c",
   "metadata": {},
   "outputs": [
    {
     "data": {
      "text/plain": [
       "(924621, 2523)"
      ]
     },
     "execution_count": 21,
     "metadata": {},
     "output_type": "execute_result"
    }
   ],
   "source": [
    "test_agg.shape"
   ]
  },
  {
   "cell_type": "code",
   "execution_count": 22,
   "id": "4343c12b-89e7-4fd8-9f90-0a106e7fd95d",
   "metadata": {},
   "outputs": [],
   "source": [
    "# backup = test_agg.copy()"
   ]
  },
  {
   "cell_type": "markdown",
   "id": "43148faa-0f97-497d-bd5c-6c40ed5fb62d",
   "metadata": {},
   "source": [
    "#### Drop Average Columns"
   ]
  },
  {
   "cell_type": "code",
   "execution_count": 23,
   "id": "66964bcc-2d0f-4411-b036-4223d5b46608",
   "metadata": {},
   "outputs": [
    {
     "data": {
      "text/plain": [
       "(924621, 2477)"
      ]
     },
     "execution_count": 23,
     "metadata": {},
     "output_type": "execute_result"
    }
   ],
   "source": [
    "avg_cols = get_cols(test_agg, \"_avg\", excludes=\"last_minus\")\n",
    "avg_cols = [c for c in avg_cols if c.replace(\"_avg\", \"\") not in MEAN_FEATURES]\n",
    "test_agg = test_agg.drop(columns=avg_cols, errors=\"ignore\")\n",
    "test_agg.shape"
   ]
  },
  {
   "cell_type": "markdown",
   "id": "aa42b823-b18b-4e5d-8250-ec18a0a3a5a6",
   "metadata": {},
   "source": [
    "#### Drop Minimum Columns"
   ]
  },
  {
   "cell_type": "code",
   "execution_count": 24,
   "id": "f3a08edc-3268-439e-8c6b-656d3eacc231",
   "metadata": {},
   "outputs": [
    {
     "data": {
      "text/plain": [
       "(924621, 2373)"
      ]
     },
     "execution_count": 24,
     "metadata": {},
     "output_type": "execute_result"
    }
   ],
   "source": [
    "min_cols = get_cols(test_agg, \"_min\", excludes=\"last_minus\")\n",
    "min_cols = [c for c in min_cols if c.replace(\"_min\", \"\") not in MIN_FEATURES]\n",
    "test_agg = test_agg.drop(columns=min_cols, errors=\"ignore\")\n",
    "test_agg.shape"
   ]
  },
  {
   "cell_type": "markdown",
   "id": "3119d3bf-32eb-4859-b8b0-d2fa9bfc6e34",
   "metadata": {},
   "source": [
    "#### Drop Maximum Columns"
   ]
  },
  {
   "cell_type": "code",
   "execution_count": 25,
   "id": "3752d9fe-340e-4ecd-ba47-984dce2b66d9",
   "metadata": {},
   "outputs": [
    {
     "data": {
      "text/plain": [
       "(924621, 2306)"
      ]
     },
     "execution_count": 25,
     "metadata": {},
     "output_type": "execute_result"
    }
   ],
   "source": [
    "max_cols = get_cols(test_agg, \"_max\", excludes=\"last_minus\")\n",
    "max_cols = [c for c in max_cols if c.replace(\"_max\", \"\") not in MAX_FEATURES]\n",
    "test_agg = test_agg.drop(columns=max_cols, errors=\"ignore\")\n",
    "test_agg.shape"
   ]
  },
  {
   "cell_type": "markdown",
   "id": "0bd3fbf3-f49c-47cc-9ce0-8f73f1c6d64f",
   "metadata": {},
   "source": [
    "#### Drop First Columns"
   ]
  },
  {
   "cell_type": "code",
   "execution_count": 26,
   "id": "d2866c05-1e2e-4d70-a924-c03682446bdf",
   "metadata": {},
   "outputs": [
    {
     "data": {
      "text/plain": [
       "(924621, 2190)"
      ]
     },
     "execution_count": 26,
     "metadata": {},
     "output_type": "execute_result"
    }
   ],
   "source": [
    "first_cols = get_cols(test_agg, \"_first\", excludes=\"last_minus\")\n",
    "first_cols = [c for c in first_cols if c.replace(\"_first\", \"\") not in FIRST_FEATURES]\n",
    "test_agg = test_agg.drop(columns=first_cols, errors=\"ignore\")\n",
    "test_agg.shape"
   ]
  },
  {
   "cell_type": "markdown",
   "id": "69f4d961-58fd-4bf7-93a8-528ee2a83aab",
   "metadata": {},
   "source": [
    "#### Drop Last Columns"
   ]
  },
  {
   "cell_type": "code",
   "execution_count": 27,
   "id": "1786c367-2e86-448b-97f5-21a4d5eb16cf",
   "metadata": {},
   "outputs": [
    {
     "data": {
      "text/plain": [
       "(924621, 1956)"
      ]
     },
     "execution_count": 27,
     "metadata": {},
     "output_type": "execute_result"
    }
   ],
   "source": [
    "last_cols = get_cols(test_agg, \"_last\", excludes=[\"last_minus\", \"second_last\"])\n",
    "last_cols = [c for c in last_cols if c.replace(\"_last\", \"\") not in LAST_FEATURES]\n",
    "test_agg = test_agg.drop(columns=last_cols, errors=\"ignore\")\n",
    "test_agg.shape"
   ]
  },
  {
   "cell_type": "markdown",
   "id": "fb168f6e-48c4-4c13-a9e4-c503f8fa9254",
   "metadata": {
    "tags": []
   },
   "source": [
    "#### Drop Range Columns"
   ]
  },
  {
   "cell_type": "code",
   "execution_count": 28,
   "id": "0b94d46e-f89d-479b-8ea3-4de8d6425071",
   "metadata": {},
   "outputs": [
    {
     "data": {
      "text/plain": [
       "(924621, 1855)"
      ]
     },
     "execution_count": 28,
     "metadata": {},
     "output_type": "execute_result"
    }
   ],
   "source": [
    "range_cols = get_cols(test_agg, \"_range\", excludes=[\"last_minus\", \"second_last\"])\n",
    "range_cols = [c for c in range_cols if c.replace(\"_range\", \"\") not in RANGE_FEATURES]\n",
    "test_agg = test_agg.drop(columns=range_cols, errors=\"ignore\")\n",
    "test_agg.shape"
   ]
  },
  {
   "cell_type": "markdown",
   "id": "b79b2af8-7cc4-46be-ba4f-150dffce1275",
   "metadata": {},
   "source": [
    "#### Drop Noob Features (Based on previous experiment)"
   ]
  },
  {
   "cell_type": "code",
   "execution_count": 29,
   "id": "a74a448e-e058-4b34-9a56-def0ccd90958",
   "metadata": {},
   "outputs": [],
   "source": [
    "noob_features = pd.read_csv(f\"{DROP_FEATURES_PATH}/noob_features.csv\")[\"feature\"].values.tolist()"
   ]
  },
  {
   "cell_type": "code",
   "execution_count": 30,
   "id": "116b363f-ffb1-400f-ae75-ab88ad92e869",
   "metadata": {},
   "outputs": [
    {
     "data": {
      "text/plain": [
       "(924621, 1626)"
      ]
     },
     "execution_count": 30,
     "metadata": {},
     "output_type": "execute_result"
    }
   ],
   "source": [
    "test_agg = test_agg.drop(columns=noob_features, errors=\"ignore\")\n",
    "test_agg.shape"
   ]
  },
  {
   "cell_type": "code",
   "execution_count": 31,
   "id": "3c2cf2ae-9175-4e8a-aaa9-f5fbfffa96da",
   "metadata": {},
   "outputs": [],
   "source": [
    "# feature_list = (\n",
    "#     [c + \"_avg\" for c in MEAN_FEATURES] +\n",
    "#     [c + \"_min\" for c in MIN_FEATURES] +\n",
    "#     [c + \"_max\" for c in MAX_FEATURES] +\n",
    "#     [c + \"_first\" for c in FIRST_FEATURES] +\n",
    "#     [c + \"_last\" for c in LAST_FEATURES] +\n",
    "#     [c + \"_range\" for c in RANGE_FEATURES] +\n",
    "#     [c + \"_velocity\" for c in VELOCITY_FEATURES] +\n",
    "#     [c + \"_speed\" for c in SPEED_FEATURES] + \n",
    "#     [c for c in train.columns if c.endswith((\"_lag1_diff\", \"_last_lift\"))]\n",
    "# )\n",
    "# test_agg = test_agg.loc[:, feature_list]"
   ]
  },
  {
   "cell_type": "code",
   "execution_count": 32,
   "id": "6bdddb98-06f1-44af-b612-6bfd5568cea6",
   "metadata": {},
   "outputs": [],
   "source": [
    "test_agg = test_agg.reset_index().rename(columns={\"index\": \"customer_ID\"})"
   ]
  },
  {
   "cell_type": "code",
   "execution_count": 33,
   "id": "d4096192-275e-4631-a472-939c9c326428",
   "metadata": {},
   "outputs": [],
   "source": [
    "test_agg = test_agg.drop(columns=NON_FEATURE_COLUMNS, errors='ignore')"
   ]
  },
  {
   "cell_type": "code",
   "execution_count": 34,
   "id": "7f824cfa-ad2e-4203-a149-f0e7828df84f",
   "metadata": {},
   "outputs": [],
   "source": [
    "# test_agg[\"dummy\"] = np.random.randn(test_agg.shape[0])"
   ]
  },
  {
   "cell_type": "code",
   "execution_count": 35,
   "id": "2be978be-9ab8-4509-a0bc-38eceaed95af",
   "metadata": {},
   "outputs": [
    {
     "data": {
      "text/plain": [
       "(924621, 1626)"
      ]
     },
     "execution_count": 35,
     "metadata": {},
     "output_type": "execute_result"
    }
   ],
   "source": [
    "test_agg.shape"
   ]
  },
  {
   "cell_type": "code",
   "execution_count": 36,
   "id": "c118b95c-3d54-43a2-9587-e0bf9874260b",
   "metadata": {},
   "outputs": [
    {
     "data": {
      "text/plain": [
       "float32     896\n",
       "float64     580\n",
       "int8         96\n",
       "int16        33\n",
       "category      4\n",
       "category      4\n",
       "category      3\n",
       "category      3\n",
       "category      2\n",
       "category      2\n",
       "category      2\n",
       "int64         1\n",
       "dtype: int64"
      ]
     },
     "execution_count": 36,
     "metadata": {},
     "output_type": "execute_result"
    }
   ],
   "source": [
    "test_agg.dtypes.value_counts()"
   ]
  },
  {
   "cell_type": "code",
   "execution_count": 37,
   "id": "6604f84f-96d5-4d90-954e-1866a0c8486c",
   "metadata": {},
   "outputs": [],
   "source": [
    "test_agg.to_pickle(f\"{PROCESSED_DATA_PATH}/test_agg_finer.pkl\")"
   ]
  },
  {
   "cell_type": "code",
   "execution_count": null,
   "id": "51dc292d-576b-46a2-a3ce-84b3daa59b7b",
   "metadata": {},
   "outputs": [],
   "source": []
  }
 ],
 "metadata": {
  "kernelspec": {
   "display_name": "amex",
   "language": "python",
   "name": "amex"
  },
  "language_info": {
   "codemirror_mode": {
    "name": "ipython",
    "version": 3
   },
   "file_extension": ".py",
   "mimetype": "text/x-python",
   "name": "python",
   "nbconvert_exporter": "python",
   "pygments_lexer": "ipython3",
   "version": "3.10.0"
  }
 },
 "nbformat": 4,
 "nbformat_minor": 5
}
