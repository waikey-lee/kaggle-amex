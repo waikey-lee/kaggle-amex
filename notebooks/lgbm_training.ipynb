{
 "cells": [
  {
   "cell_type": "code",
   "execution_count": 1,
   "id": "5dd2ca34-3410-4078-aa48-7adbba211ed5",
   "metadata": {},
   "outputs": [
    {
     "name": "stderr",
     "output_type": "stream",
     "text": [
      "<frozen importlib._bootstrap>:241: RuntimeWarning: scipy._lib.messagestream.MessageStream size changed, may indicate binary incompatibility. Expected 56 from C header, got 64 from PyObject\n"
     ]
    }
   ],
   "source": [
    "import gc\n",
    "import joblib\n",
    "import matplotlib.pyplot as plt\n",
    "import pandas as pd\n",
    "import numpy as np\n",
    "import os\n",
    "import seaborn as sns\n",
    "import sys\n",
    "sys.path.append(\"../\")\n",
    "import time\n",
    "import warnings\n",
    "warnings.simplefilter(\"ignore\")\n",
    "from lightgbm import LGBMClassifier\n",
    "from scipy.stats import randint as sp_randint\n",
    "from scipy.stats import uniform as sp_uniform\n",
    "from sklearn.model_selection import train_test_split, RandomizedSearchCV\n",
    "from sklearn.metrics import roc_auc_score, fbeta_score, make_scorer\n",
    "from skopt import BayesSearchCV\n",
    "from tqdm import tqdm"
   ]
  },
  {
   "cell_type": "code",
   "execution_count": 2,
   "id": "a084bef6-4434-40fb-bafc-d7d3e4c57a14",
   "metadata": {},
   "outputs": [],
   "source": [
    "from utils.eval_helpers import plot_roc_curves, plot_feature_importance, amex_metric, get_final_metric_df, amex_metric_np\n",
    "from utils.eda_helpers import plot_missing_proportion_barchart, get_cols\n",
    "from utils.extraction_helpers import read_file\n",
    "from utils.feature_group import CATEGORY_COLUMNS, MEAN_FEATURES, MIN_FEATURES, MAX_FEATURES, LAST_FEATURES"
   ]
  },
  {
   "cell_type": "code",
   "execution_count": 3,
   "id": "ee8b533a-591f-40e6-90a4-2357933bb83b",
   "metadata": {},
   "outputs": [
    {
     "data": {
      "text/plain": [
       "['train_ftr',\n",
       " 'train_labels.csv',\n",
       " '.DS_Store',\n",
       " 'train_csv',\n",
       " 'test_ftr',\n",
       " 'test_csv',\n",
       " '.ipynb_checkpoints',\n",
       " 'test_parquet',\n",
       " 'train_parquet',\n",
       " 'sample_submission.csv']"
      ]
     },
     "execution_count": 3,
     "metadata": {},
     "output_type": "execute_result"
    }
   ],
   "source": [
    "DATA_PATH = \"../raw_data\"\n",
    "os.listdir(DATA_PATH)"
   ]
  },
  {
   "cell_type": "code",
   "execution_count": 53,
   "id": "08cce559-a615-41c7-9d81-0a5e7b981931",
   "metadata": {
    "tags": []
   },
   "outputs": [],
   "source": [
    "RAW_DATA_PATH = \"../raw_data\"\n",
    "PROCESSED_DATA_PATH = \"../processed_data\"\n",
    "SUBMISSION_DATA_PATH = \"../submissions\"\n",
    "EVALUATION_DATA_PATH = \"../evaluation_data\"\n",
    "MODELS_PATH = \"../models\""
   ]
  },
  {
   "cell_type": "code",
   "execution_count": 5,
   "id": "67194602-57fc-4e92-9801-8d600e52a5b2",
   "metadata": {},
   "outputs": [],
   "source": [
    "%load_ext autoreload\n",
    "%autoreload"
   ]
  },
  {
   "cell_type": "code",
   "execution_count": 6,
   "id": "79487a81-ce62-4847-974a-485a5ce1c515",
   "metadata": {},
   "outputs": [],
   "source": [
    "RAW_TRAIN_PARQUET_PATH = os.path.join(RAW_DATA_PATH, \"train_parquet\")"
   ]
  },
  {
   "cell_type": "markdown",
   "id": "3885beac-e245-43b6-a2cc-73e9f871d132",
   "metadata": {},
   "source": [
    "### Read Data"
   ]
  },
  {
   "cell_type": "code",
   "execution_count": 7,
   "id": "b65cd94a-389f-4723-abc8-2f87efcd837a",
   "metadata": {},
   "outputs": [
    {
     "name": "stdout",
     "output_type": "stream",
     "text": [
      "Shape of data: (458913, 590)\n"
     ]
    }
   ],
   "source": [
    "train_data = read_file(f\"{PROCESSED_DATA_PATH}/experiment_train_agg_data.parquet\")"
   ]
  },
  {
   "cell_type": "code",
   "execution_count": null,
   "id": "731a013f-258f-49c1-b4e2-4c5fa0735d71",
   "metadata": {},
   "outputs": [],
   "source": [
    "# train_data = pd.read_parquet(f\"{PROCESSED_DATA_PATH}/train_agg_with_ma.parquet\")\n",
    "# train_cluster_data = pd.read_parquet(f\"{PROCESSED_DATA_PATH}/train_cluster_agg.parquet\")\n",
    "# test_data = pd.read_feather(f\"{PROCESSED_DATA_PATH}/test_agg_data.ftr\")"
   ]
  },
  {
   "cell_type": "code",
   "execution_count": null,
   "id": "33479f5d-117e-4d3f-a9fc-8757e70e6017",
   "metadata": {},
   "outputs": [],
   "source": [
    "# train_labels = pd.read_csv(f\"{DATA_PATH}/train_labels.csv\")\n",
    "# train_labels.shape\n",
    "# train_labels.columns"
   ]
  },
  {
   "cell_type": "markdown",
   "id": "e6d8e03d-e2b0-4b33-b15d-3353a244c438",
   "metadata": {},
   "source": [
    "### Copy from Kaggle"
   ]
  },
  {
   "cell_type": "code",
   "execution_count": 8,
   "id": "d77739fc-dee3-4677-ae94-6dd8d25608ff",
   "metadata": {},
   "outputs": [],
   "source": [
    "from matplotlib.ticker import MaxNLocator\n",
    "from matplotlib.colors import ListedColormap\n",
    "from cycler import cycler\n",
    "from IPython.display import display\n",
    "import datetime\n",
    "import scipy.stats\n",
    "import warnings\n",
    "from colorama import Fore, Back, Style\n",
    "import gc\n",
    "\n",
    "from sklearn.model_selection import StratifiedKFold\n",
    "from sklearn.calibration import CalibrationDisplay\n",
    "from lightgbm import log_evaluation\n",
    "\n",
    "plt.rcParams['axes.facecolor'] = '#0057b8' # blue\n",
    "plt.rcParams['axes.prop_cycle'] = cycler(color=['#ffd700'] +\n",
    "                                         plt.rcParams['axes.prop_cycle'].by_key()['color'][1:])\n",
    "plt.rcParams['text.color'] = 'w'"
   ]
  },
  {
   "cell_type": "code",
   "execution_count": 9,
   "id": "c4556947-1467-4103-aa9d-33046f861533",
   "metadata": {},
   "outputs": [],
   "source": [
    "def amex_metric(y_true: np.array, y_pred: np.array) -> float:\n",
    "\n",
    "    # count of positives and negatives\n",
    "    n_pos = y_true.sum()\n",
    "    n_neg = y_true.shape[0] - n_pos\n",
    "\n",
    "    # sorting by descring prediction values\n",
    "    indices = np.argsort(y_pred)[::-1]\n",
    "    preds, target = y_pred[indices], y_true[indices]\n",
    "\n",
    "    # filter the top 4% by cumulative row weights\n",
    "    weight = 20.0 - target * 19.0\n",
    "    cum_norm_weight = (weight / weight.sum()).cumsum()\n",
    "    four_pct_filter = cum_norm_weight <= 0.04\n",
    "\n",
    "    # default rate captured at 4%\n",
    "    d = target[four_pct_filter].sum() / n_pos\n",
    "\n",
    "    # weighted gini coefficient\n",
    "    lorentz = (target / n_pos).cumsum()\n",
    "    gini = ((lorentz - cum_norm_weight) * weight).sum()\n",
    "\n",
    "    # max weighted gini coefficient\n",
    "    gini_max = 10 * n_neg * (1 - 19 / (n_pos + 20 * n_neg))\n",
    "\n",
    "    # normalized weighted gini coefficient\n",
    "    g = gini / gini_max\n",
    "\n",
    "    return 0.5 * (g + d)"
   ]
  },
  {
   "cell_type": "code",
   "execution_count": 10,
   "id": "7da9ed2d-d0ca-4dbd-aeb6-872acae87743",
   "metadata": {},
   "outputs": [],
   "source": [
    "def lgb_amex_metric(y_true, y_pred):\n",
    "    \"\"\"The competition metric with lightgbm's calling convention\"\"\"\n",
    "    return ('amex',\n",
    "            amex_metric(y_true, y_pred),\n",
    "            True)"
   ]
  },
  {
   "cell_type": "code",
   "execution_count": 11,
   "id": "96798724-2290-45e7-a903-fc9b84f3e4e9",
   "metadata": {},
   "outputs": [
    {
     "data": {
      "text/plain": [
       "['B_1_mean', 'B_2_mean', 'B_3_mean']"
      ]
     },
     "execution_count": 11,
     "metadata": {},
     "output_type": "execute_result"
    }
   ],
   "source": [
    "mean_features = [f\"{col}_mean\" for col in MEAN_FEATURES]\n",
    "mean_features[:3]"
   ]
  },
  {
   "cell_type": "code",
   "execution_count": 12,
   "id": "18451ff7-5c38-4cac-87a5-934e797ef769",
   "metadata": {},
   "outputs": [
    {
     "data": {
      "text/plain": [
       "['B_2_min', 'B_4_min', 'B_5_min']"
      ]
     },
     "execution_count": 12,
     "metadata": {},
     "output_type": "execute_result"
    }
   ],
   "source": [
    "min_features = [f\"{col}_min\" for col in MIN_FEATURES]\n",
    "min_features[:3]"
   ]
  },
  {
   "cell_type": "code",
   "execution_count": 13,
   "id": "e361898d-6302-4ea1-b81e-a33acee5bd0c",
   "metadata": {},
   "outputs": [
    {
     "data": {
      "text/plain": [
       "['B_1_max', 'B_2_max', 'B_3_max']"
      ]
     },
     "execution_count": 13,
     "metadata": {},
     "output_type": "execute_result"
    }
   ],
   "source": [
    "max_features = [f\"{col}_max\" for col in MAX_FEATURES]\n",
    "max_features[:3]"
   ]
  },
  {
   "cell_type": "code",
   "execution_count": 14,
   "id": "6049a797-3d2c-41e5-b334-0be5c67f26c5",
   "metadata": {},
   "outputs": [
    {
     "data": {
      "text/plain": [
       "['B_1_last', 'B_2_last', 'B_3_last']"
      ]
     },
     "execution_count": 14,
     "metadata": {},
     "output_type": "execute_result"
    }
   ],
   "source": [
    "last_features = [f\"{col}_last\" for col in LAST_FEATURES]\n",
    "last_features[:3]"
   ]
  },
  {
   "cell_type": "code",
   "execution_count": 15,
   "id": "0fd6a65c-ef04-481c-be34-cf2e2c1892d3",
   "metadata": {},
   "outputs": [
    {
     "data": {
      "text/plain": [
       "['B_1_ma', 'B_2_ma', 'B_3_ma']"
      ]
     },
     "execution_count": 15,
     "metadata": {},
     "output_type": "execute_result"
    }
   ],
   "source": [
    "ma_features = [col for col in train_data.columns if col.endswith(\"_ma\")]\n",
    "ma_features[:3]"
   ]
  },
  {
   "cell_type": "code",
   "execution_count": 16,
   "id": "3254eb35-afdc-4c9b-a9c0-82154acbbd9a",
   "metadata": {},
   "outputs": [],
   "source": [
    "target = train_data[\"target\"].values.astype(int)"
   ]
  },
  {
   "cell_type": "code",
   "execution_count": 17,
   "id": "6c56c37c-2dbf-4696-a6d3-0869caef81b0",
   "metadata": {},
   "outputs": [
    {
     "name": "stdout",
     "output_type": "stream",
     "text": [
      "455 features\n",
      "CPU times: user 1.06 ms, sys: 261 µs, total: 1.32 ms\n",
      "Wall time: 1.16 ms\n"
     ]
    }
   ],
   "source": [
    "%%time\n",
    "# Cross-validation of the classifier\n",
    "ONLY_FIRST_FOLD = False\n",
    "features = min_features + max_features + last_features + ma_features # mean_features + \n",
    "excluded_columns = ['B_30_mean', 'B_38_mean', 'D_114_mean', 'D_117_mean', 'D_120_mean', 'D_126_mean', \n",
    "                    'B_30_max', 'B_38_max', 'D_63_max', 'D_64_max', 'D_116_max', 'D_117_max', 'D_126_max',\n",
    "                    'D_68_last', 'D_117_last']\n",
    "features = [f for f in features if f not in excluded_columns]\n",
    "print(f\"{len(features)} features\")"
   ]
  },
  {
   "cell_type": "code",
   "execution_count": 18,
   "id": "e18be2ee-9a04-4e89-af57-32979b8cd77e",
   "metadata": {},
   "outputs": [],
   "source": [
    "def my_booster(random_state=1, n_estimators=1400):\n",
    "    return LGBMClassifier(n_estimators=n_estimators,\n",
    "                          learning_rate=0.03, \n",
    "                          reg_alpha=10, \n",
    "                          reg_lambda=40,\n",
    "                          min_child_samples=2200,\n",
    "                          num_leaves=100,\n",
    "                          colsample_bytree=0.18,\n",
    "                          subsample=0.85,\n",
    "                          max_bins=500, \n",
    "                          scale_pos_weight=2.5,\n",
    "                          random_state=1)"
   ]
  },
  {
   "cell_type": "code",
   "execution_count": 25,
   "id": "f3e940ac-9217-4177-bdd7-0c400f1dcadf",
   "metadata": {},
   "outputs": [],
   "source": [
    "# train[[\"D_63_last\", \"D_64_last\"]] = train[[\"D_63_last\", \"D_64_last\"]].astype(\"category\")"
   ]
  },
  {
   "cell_type": "code",
   "execution_count": 26,
   "id": "1c64eae5-d3fd-4958-8d38-6598d16742c9",
   "metadata": {},
   "outputs": [],
   "source": [
    "# train = train_data.copy()\n",
    "# del train_data"
   ]
  },
  {
   "cell_type": "code",
   "execution_count": 27,
   "id": "5f4210ae-b94c-47bf-a76e-3744c4f8171a",
   "metadata": {},
   "outputs": [],
   "source": [
    "n_est_list = [2200, 1500, 2000, 1000, 1600, 1800, 1800, 1200, 1400, 1000]"
   ]
  },
  {
   "cell_type": "code",
   "execution_count": 35,
   "id": "bed2de5f-ca9d-4b2b-99ed-4c33c5a33a87",
   "metadata": {},
   "outputs": [
    {
     "name": "stdout",
     "output_type": "stream",
     "text": [
      "CPU times: user 2min 33s, sys: 5.95 s, total: 2min 39s\n",
      "Wall time: 18 s\n"
     ]
    }
   ],
   "source": [
    "%%time\n",
    "model_list, score_list, y_pred_list, held_out_index_list = [], [], [], []\n",
    "model_dict = {}\n",
    "X_val_dict = {}\n",
    "y_val_dict = {}\n",
    "y_score_dict = {}\n",
    "kf = StratifiedKFold(n_splits=10)\n",
    "for fold, (idx_tr, idx_va), n_est in zip(range(1, 10+1), kf.split(train, target), n_est_list):\n",
    "    model_dict[fold] = joblib.load(f\"{MODELS_PATH}/lgbm_models/model_{fold}.pkl\")\n",
    "    X_val_dict[fold] = train.iloc[idx_va][features]\n",
    "    y_val_dict[fold] = target[idx_va]\n",
    "    y_score_dict[fold] = model_dict[fold].predict_proba(X_val_dict[fold], raw_score=True)"
   ]
  },
  {
   "cell_type": "code",
   "execution_count": 37,
   "id": "647e2ea6-c065-4730-bb16-daf6cb6c3a7d",
   "metadata": {},
   "outputs": [
    {
     "name": "stdout",
     "output_type": "stream",
     "text": [
      "1 (0.7926485245718988, 0.9225014588046577, 0.6627955903391399)\n",
      "2 (0.7964579447972834, 0.9232196849324444, 0.6696962046621223)\n",
      "3 (0.7925930226971521, 0.9231478395540282, 0.6620382058402761)\n",
      "4 (0.7926399569083695, 0.9236067948132042, 0.6616731190035348)\n",
      "5 (0.7950098352708671, 0.9243909885016736, 0.6656286820400606)\n",
      "6 (0.7910202913078714, 0.9238734531029936, 0.6581671295127494)\n",
      "7 (0.7938510076983318, 0.9247381173911096, 0.6629638980055541)\n",
      "8 (0.7992186922869893, 0.9268897955812998, 0.6715475889926786)\n",
      "9 (0.798622045487242, 0.9257806558150126, 0.6714634351594715)\n",
      "10 (0.7952555821646151, 0.9239286514957706, 0.6665825128334596)\n"
     ]
    }
   ],
   "source": [
    "for i in range(1, 11):\n",
    "    print(i, amex_metric_np(y_score_dict[i], y_val_dict[i]))"
   ]
  },
  {
   "cell_type": "code",
   "execution_count": 48,
   "id": "a65d26a2-8821-47e9-a926-133148712b00",
   "metadata": {},
   "outputs": [
    {
     "data": {
      "text/plain": [
       "(458913, 455)"
      ]
     },
     "execution_count": 48,
     "metadata": {},
     "output_type": "execute_result"
    }
   ],
   "source": [
    "full_train = pd.concat(list(X_val_dict.values()))\n",
    "full_train.shape"
   ]
  },
  {
   "cell_type": "code",
   "execution_count": 47,
   "id": "d5795c76-f1ae-420d-b1ac-26c7ae102239",
   "metadata": {},
   "outputs": [
    {
     "data": {
      "text/plain": [
       "458913"
      ]
     },
     "execution_count": 47,
     "metadata": {},
     "output_type": "execute_result"
    }
   ],
   "source": [
    "full_train_gt = np.concatenate(list(y_val_dict.values()))\n",
    "len(full_train_gt)"
   ]
  },
  {
   "cell_type": "code",
   "execution_count": 49,
   "id": "2ac46e0f-76dd-4d0f-97e8-9e4cd47a21d7",
   "metadata": {},
   "outputs": [
    {
     "data": {
      "text/plain": [
       "458913"
      ]
     },
     "execution_count": 49,
     "metadata": {},
     "output_type": "execute_result"
    }
   ],
   "source": [
    "full_train_scores = np.concatenate(list(y_score_dict.values()))\n",
    "len(full_train_scores)"
   ]
  },
  {
   "cell_type": "code",
   "execution_count": 50,
   "id": "422d6f6d-4b0b-4e6e-87f0-d866d7b2d4ae",
   "metadata": {},
   "outputs": [],
   "source": [
    "full_train.loc[:, \"target\"] = full_train_gt\n",
    "full_train.loc[:, \"score\"] = full_train_scores"
   ]
  },
  {
   "cell_type": "code",
   "execution_count": 54,
   "id": "48ba496c-cf37-4206-8308-1ba3ad7d1451",
   "metadata": {},
   "outputs": [],
   "source": [
    "# full_train.to_csv(f\"{EVALUATION_DATA_PATH}/train_single_raw_score.csv\", index=False)"
   ]
  },
  {
   "cell_type": "code",
   "execution_count": 55,
   "id": "65132c65-ddd3-4cb6-83ca-99422f726514",
   "metadata": {},
   "outputs": [
    {
     "data": {
      "text/html": [
       "<div>\n",
       "<style scoped>\n",
       "    .dataframe tbody tr th:only-of-type {\n",
       "        vertical-align: middle;\n",
       "    }\n",
       "\n",
       "    .dataframe tbody tr th {\n",
       "        vertical-align: top;\n",
       "    }\n",
       "\n",
       "    .dataframe thead th {\n",
       "        text-align: right;\n",
       "    }\n",
       "</style>\n",
       "<table border=\"1\" class=\"dataframe\">\n",
       "  <thead>\n",
       "    <tr style=\"text-align: right;\">\n",
       "      <th></th>\n",
       "      <th>B_2_min</th>\n",
       "      <th>B_4_min</th>\n",
       "      <th>B_5_min</th>\n",
       "      <th>B_9_min</th>\n",
       "      <th>B_13_min</th>\n",
       "      <th>B_14_min</th>\n",
       "      <th>B_15_min</th>\n",
       "      <th>B_16_min</th>\n",
       "      <th>B_17_min</th>\n",
       "      <th>B_19_min</th>\n",
       "      <th>...</th>\n",
       "      <th>S_13_ma</th>\n",
       "      <th>S_15_ma</th>\n",
       "      <th>S_16_ma</th>\n",
       "      <th>S_18_ma</th>\n",
       "      <th>S_22_ma</th>\n",
       "      <th>S_23_ma</th>\n",
       "      <th>S_25_ma</th>\n",
       "      <th>S_26_ma</th>\n",
       "      <th>target</th>\n",
       "      <th>score</th>\n",
       "    </tr>\n",
       "  </thead>\n",
       "  <tbody>\n",
       "    <tr>\n",
       "      <th>0</th>\n",
       "      <td>1.000242</td>\n",
       "      <td>0.000836</td>\n",
       "      <td>0.060492</td>\n",
       "      <td>0.000519</td>\n",
       "      <td>0.074886</td>\n",
       "      <td>0.009725</td>\n",
       "      <td>0.007219</td>\n",
       "      <td>0.000227</td>\n",
       "      <td>NaN</td>\n",
       "      <td>0.000408</td>\n",
       "      <td>...</td>\n",
       "      <td>0.752799</td>\n",
       "      <td>0.226097</td>\n",
       "      <td>0.003458</td>\n",
       "      <td>0.004205</td>\n",
       "      <td>0.918648</td>\n",
       "      <td>0.134098</td>\n",
       "      <td>0.974310</td>\n",
       "      <td>0.008391</td>\n",
       "      <td>0</td>\n",
       "      <td>-6.496211</td>\n",
       "    </tr>\n",
       "    <tr>\n",
       "      <th>1</th>\n",
       "      <td>0.819772</td>\n",
       "      <td>0.001098</td>\n",
       "      <td>0.004075</td>\n",
       "      <td>0.001722</td>\n",
       "      <td>0.008499</td>\n",
       "      <td>0.001797</td>\n",
       "      <td>0.000095</td>\n",
       "      <td>0.002940</td>\n",
       "      <td>NaN</td>\n",
       "      <td>0.001015</td>\n",
       "      <td>...</td>\n",
       "      <td>0.164745</td>\n",
       "      <td>0.317035</td>\n",
       "      <td>0.004295</td>\n",
       "      <td>0.007069</td>\n",
       "      <td>0.920174</td>\n",
       "      <td>0.135965</td>\n",
       "      <td>0.975657</td>\n",
       "      <td>0.003347</td>\n",
       "      <td>0</td>\n",
       "      <td>-6.449298</td>\n",
       "    </tr>\n",
       "    <tr>\n",
       "      <th>2</th>\n",
       "      <td>0.810796</td>\n",
       "      <td>0.013140</td>\n",
       "      <td>0.000215</td>\n",
       "      <td>0.000422</td>\n",
       "      <td>0.000427</td>\n",
       "      <td>0.000684</td>\n",
       "      <td>0.000019</td>\n",
       "      <td>0.001977</td>\n",
       "      <td>NaN</td>\n",
       "      <td>0.000319</td>\n",
       "      <td>...</td>\n",
       "      <td>0.004189</td>\n",
       "      <td>0.505452</td>\n",
       "      <td>0.005355</td>\n",
       "      <td>0.002693</td>\n",
       "      <td>0.301263</td>\n",
       "      <td>0.134190</td>\n",
       "      <td>0.973330</td>\n",
       "      <td>0.005911</td>\n",
       "      <td>0</td>\n",
       "      <td>-5.601048</td>\n",
       "    </tr>\n",
       "    <tr>\n",
       "      <th>3</th>\n",
       "      <td>0.812053</td>\n",
       "      <td>0.003544</td>\n",
       "      <td>0.000228</td>\n",
       "      <td>0.001702</td>\n",
       "      <td>0.013755</td>\n",
       "      <td>0.006169</td>\n",
       "      <td>0.000218</td>\n",
       "      <td>0.004716</td>\n",
       "      <td>0.001711</td>\n",
       "      <td>0.001465</td>\n",
       "      <td>...</td>\n",
       "      <td>0.423689</td>\n",
       "      <td>0.467034</td>\n",
       "      <td>0.005881</td>\n",
       "      <td>0.004615</td>\n",
       "      <td>0.937522</td>\n",
       "      <td>0.135757</td>\n",
       "      <td>0.974665</td>\n",
       "      <td>0.019306</td>\n",
       "      <td>0</td>\n",
       "      <td>-4.880780</td>\n",
       "    </tr>\n",
       "    <tr>\n",
       "      <th>4</th>\n",
       "      <td>0.810670</td>\n",
       "      <td>0.041346</td>\n",
       "      <td>0.001201</td>\n",
       "      <td>0.002925</td>\n",
       "      <td>0.000626</td>\n",
       "      <td>0.000025</td>\n",
       "      <td>0.001513</td>\n",
       "      <td>0.000583</td>\n",
       "      <td>NaN</td>\n",
       "      <td>0.000073</td>\n",
       "      <td>...</td>\n",
       "      <td>0.005394</td>\n",
       "      <td>0.490800</td>\n",
       "      <td>0.004895</td>\n",
       "      <td>0.002655</td>\n",
       "      <td>0.343495</td>\n",
       "      <td>0.134121</td>\n",
       "      <td>0.973398</td>\n",
       "      <td>0.004616</td>\n",
       "      <td>0</td>\n",
       "      <td>-5.740057</td>\n",
       "    </tr>\n",
       "    <tr>\n",
       "      <th>...</th>\n",
       "      <td>...</td>\n",
       "      <td>...</td>\n",
       "      <td>...</td>\n",
       "      <td>...</td>\n",
       "      <td>...</td>\n",
       "      <td>...</td>\n",
       "      <td>...</td>\n",
       "      <td>...</td>\n",
       "      <td>...</td>\n",
       "      <td>...</td>\n",
       "      <td>...</td>\n",
       "      <td>...</td>\n",
       "      <td>...</td>\n",
       "      <td>...</td>\n",
       "      <td>...</td>\n",
       "      <td>...</td>\n",
       "      <td>...</td>\n",
       "      <td>...</td>\n",
       "      <td>...</td>\n",
       "      <td>...</td>\n",
       "      <td>...</td>\n",
       "    </tr>\n",
       "    <tr>\n",
       "      <th>458908</th>\n",
       "      <td>1.000524</td>\n",
       "      <td>0.004972</td>\n",
       "      <td>0.040532</td>\n",
       "      <td>0.013571</td>\n",
       "      <td>0.141432</td>\n",
       "      <td>0.009684</td>\n",
       "      <td>0.000412</td>\n",
       "      <td>0.000289</td>\n",
       "      <td>NaN</td>\n",
       "      <td>0.000197</td>\n",
       "      <td>...</td>\n",
       "      <td>0.440430</td>\n",
       "      <td>0.321818</td>\n",
       "      <td>0.005627</td>\n",
       "      <td>0.003546</td>\n",
       "      <td>0.952955</td>\n",
       "      <td>0.137854</td>\n",
       "      <td>0.974315</td>\n",
       "      <td>0.106441</td>\n",
       "      <td>0</td>\n",
       "      <td>-5.373140</td>\n",
       "    </tr>\n",
       "    <tr>\n",
       "      <th>458909</th>\n",
       "      <td>0.030446</td>\n",
       "      <td>0.197449</td>\n",
       "      <td>0.013285</td>\n",
       "      <td>0.143207</td>\n",
       "      <td>0.004136</td>\n",
       "      <td>0.068728</td>\n",
       "      <td>0.000122</td>\n",
       "      <td>1.000218</td>\n",
       "      <td>0.793540</td>\n",
       "      <td>0.750326</td>\n",
       "      <td>...</td>\n",
       "      <td>0.003654</td>\n",
       "      <td>0.501712</td>\n",
       "      <td>0.006267</td>\n",
       "      <td>0.023204</td>\n",
       "      <td>0.373902</td>\n",
       "      <td>0.135836</td>\n",
       "      <td>0.974862</td>\n",
       "      <td>0.003836</td>\n",
       "      <td>0</td>\n",
       "      <td>-3.536383</td>\n",
       "    </tr>\n",
       "    <tr>\n",
       "      <th>458910</th>\n",
       "      <td>0.004150</td>\n",
       "      <td>0.016421</td>\n",
       "      <td>0.016552</td>\n",
       "      <td>0.020363</td>\n",
       "      <td>0.036302</td>\n",
       "      <td>0.011283</td>\n",
       "      <td>0.000144</td>\n",
       "      <td>0.167052</td>\n",
       "      <td>0.000600</td>\n",
       "      <td>0.000187</td>\n",
       "      <td>...</td>\n",
       "      <td>0.375937</td>\n",
       "      <td>0.175208</td>\n",
       "      <td>0.005876</td>\n",
       "      <td>0.002034</td>\n",
       "      <td>0.945600</td>\n",
       "      <td>0.137512</td>\n",
       "      <td>0.974249</td>\n",
       "      <td>0.006207</td>\n",
       "      <td>0</td>\n",
       "      <td>-6.167538</td>\n",
       "    </tr>\n",
       "    <tr>\n",
       "      <th>458911</th>\n",
       "      <td>0.182818</td>\n",
       "      <td>0.132518</td>\n",
       "      <td>0.001633</td>\n",
       "      <td>0.001419</td>\n",
       "      <td>0.006190</td>\n",
       "      <td>0.001695</td>\n",
       "      <td>0.001029</td>\n",
       "      <td>0.423637</td>\n",
       "      <td>0.005333</td>\n",
       "      <td>0.000595</td>\n",
       "      <td>...</td>\n",
       "      <td>0.006610</td>\n",
       "      <td>0.535439</td>\n",
       "      <td>0.005432</td>\n",
       "      <td>0.003920</td>\n",
       "      <td>0.914448</td>\n",
       "      <td>0.134605</td>\n",
       "      <td>0.974570</td>\n",
       "      <td>0.004380</td>\n",
       "      <td>1</td>\n",
       "      <td>-1.637748</td>\n",
       "    </tr>\n",
       "    <tr>\n",
       "      <th>458912</th>\n",
       "      <td>0.239062</td>\n",
       "      <td>0.000029</td>\n",
       "      <td>0.006617</td>\n",
       "      <td>0.001976</td>\n",
       "      <td>0.021544</td>\n",
       "      <td>0.003760</td>\n",
       "      <td>0.003001</td>\n",
       "      <td>0.583801</td>\n",
       "      <td>0.003771</td>\n",
       "      <td>0.000679</td>\n",
       "      <td>...</td>\n",
       "      <td>0.149922</td>\n",
       "      <td>0.305021</td>\n",
       "      <td>0.006206</td>\n",
       "      <td>0.004759</td>\n",
       "      <td>0.719616</td>\n",
       "      <td>0.134116</td>\n",
       "      <td>0.974205</td>\n",
       "      <td>0.003757</td>\n",
       "      <td>0</td>\n",
       "      <td>-5.267276</td>\n",
       "    </tr>\n",
       "  </tbody>\n",
       "</table>\n",
       "<p>458913 rows × 457 columns</p>\n",
       "</div>"
      ],
      "text/plain": [
       "         B_2_min   B_4_min   B_5_min   B_9_min  B_13_min  B_14_min  B_15_min  \\\n",
       "0       1.000242  0.000836  0.060492  0.000519  0.074886  0.009725  0.007219   \n",
       "1       0.819772  0.001098  0.004075  0.001722  0.008499  0.001797  0.000095   \n",
       "2       0.810796  0.013140  0.000215  0.000422  0.000427  0.000684  0.000019   \n",
       "3       0.812053  0.003544  0.000228  0.001702  0.013755  0.006169  0.000218   \n",
       "4       0.810670  0.041346  0.001201  0.002925  0.000626  0.000025  0.001513   \n",
       "...          ...       ...       ...       ...       ...       ...       ...   \n",
       "458908  1.000524  0.004972  0.040532  0.013571  0.141432  0.009684  0.000412   \n",
       "458909  0.030446  0.197449  0.013285  0.143207  0.004136  0.068728  0.000122   \n",
       "458910  0.004150  0.016421  0.016552  0.020363  0.036302  0.011283  0.000144   \n",
       "458911  0.182818  0.132518  0.001633  0.001419  0.006190  0.001695  0.001029   \n",
       "458912  0.239062  0.000029  0.006617  0.001976  0.021544  0.003760  0.003001   \n",
       "\n",
       "        B_16_min  B_17_min  B_19_min  ...   S_13_ma   S_15_ma   S_16_ma  \\\n",
       "0       0.000227       NaN  0.000408  ...  0.752799  0.226097  0.003458   \n",
       "1       0.002940       NaN  0.001015  ...  0.164745  0.317035  0.004295   \n",
       "2       0.001977       NaN  0.000319  ...  0.004189  0.505452  0.005355   \n",
       "3       0.004716  0.001711  0.001465  ...  0.423689  0.467034  0.005881   \n",
       "4       0.000583       NaN  0.000073  ...  0.005394  0.490800  0.004895   \n",
       "...          ...       ...       ...  ...       ...       ...       ...   \n",
       "458908  0.000289       NaN  0.000197  ...  0.440430  0.321818  0.005627   \n",
       "458909  1.000218  0.793540  0.750326  ...  0.003654  0.501712  0.006267   \n",
       "458910  0.167052  0.000600  0.000187  ...  0.375937  0.175208  0.005876   \n",
       "458911  0.423637  0.005333  0.000595  ...  0.006610  0.535439  0.005432   \n",
       "458912  0.583801  0.003771  0.000679  ...  0.149922  0.305021  0.006206   \n",
       "\n",
       "         S_18_ma   S_22_ma   S_23_ma   S_25_ma   S_26_ma  target     score  \n",
       "0       0.004205  0.918648  0.134098  0.974310  0.008391       0 -6.496211  \n",
       "1       0.007069  0.920174  0.135965  0.975657  0.003347       0 -6.449298  \n",
       "2       0.002693  0.301263  0.134190  0.973330  0.005911       0 -5.601048  \n",
       "3       0.004615  0.937522  0.135757  0.974665  0.019306       0 -4.880780  \n",
       "4       0.002655  0.343495  0.134121  0.973398  0.004616       0 -5.740057  \n",
       "...          ...       ...       ...       ...       ...     ...       ...  \n",
       "458908  0.003546  0.952955  0.137854  0.974315  0.106441       0 -5.373140  \n",
       "458909  0.023204  0.373902  0.135836  0.974862  0.003836       0 -3.536383  \n",
       "458910  0.002034  0.945600  0.137512  0.974249  0.006207       0 -6.167538  \n",
       "458911  0.003920  0.914448  0.134605  0.974570  0.004380       1 -1.637748  \n",
       "458912  0.004759  0.719616  0.134116  0.974205  0.003757       0 -5.267276  \n",
       "\n",
       "[458913 rows x 457 columns]"
      ]
     },
     "execution_count": 55,
     "metadata": {},
     "output_type": "execute_result"
    }
   ],
   "source": [
    "full_train"
   ]
  },
  {
   "cell_type": "code",
   "execution_count": 115,
   "id": "595c184d-3cc7-47b8-b7bb-cfbf853a6cd3",
   "metadata": {},
   "outputs": [
    {
     "name": "stdout",
     "output_type": "stream",
     "text": [
      "[200]\tvalid_0's binary_logloss: 0.257673\tvalid_0's amex: 0.779884\n",
      "[400]\tvalid_0's binary_logloss: 0.248665\tvalid_0's amex: 0.786612\n",
      "[600]\tvalid_0's binary_logloss: 0.245106\tvalid_0's amex: 0.78903\n",
      "[800]\tvalid_0's binary_logloss: 0.242709\tvalid_0's amex: 0.789847\n",
      "[1000]\tvalid_0's binary_logloss: 0.240813\tvalid_0's amex: 0.790951\n",
      "[1200]\tvalid_0's binary_logloss: 0.239233\tvalid_0's amex: 0.791413\n",
      "[1400]\tvalid_0's binary_logloss: 0.238026\tvalid_0's amex: 0.792171\n",
      "[1600]\tvalid_0's binary_logloss: 0.236806\tvalid_0's amex: 0.79263\n",
      "\u001b[32m\u001b[1mFold 1 | 02:19 |  1600 trees |                Score = 0.79265\u001b[0m\n",
      "[200]\tvalid_0's binary_logloss: 0.253284\tvalid_0's amex: 0.780862\n",
      "[400]\tvalid_0's binary_logloss: 0.244367\tvalid_0's amex: 0.789513\n",
      "[600]\tvalid_0's binary_logloss: 0.241008\tvalid_0's amex: 0.793303\n",
      "[800]\tvalid_0's binary_logloss: 0.238839\tvalid_0's amex: 0.794986\n",
      "[1000]\tvalid_0's binary_logloss: 0.237113\tvalid_0's amex: 0.795514\n",
      "[1200]\tvalid_0's binary_logloss: 0.235597\tvalid_0's amex: 0.795811\n",
      "[1400]\tvalid_0's binary_logloss: 0.234317\tvalid_0's amex: 0.796539\n",
      "[1600]\tvalid_0's binary_logloss: 0.233353\tvalid_0's amex: 0.79644\n",
      "\u001b[32m\u001b[1mFold 2 | 02:24 |  1600 trees |                Score = 0.79646\u001b[0m\n",
      "[200]\tvalid_0's binary_logloss: 0.25571\tvalid_0's amex: 0.776363\n",
      "[400]\tvalid_0's binary_logloss: 0.247141\tvalid_0's amex: 0.786297\n",
      "[600]\tvalid_0's binary_logloss: 0.243822\tvalid_0's amex: 0.788778\n",
      "[800]\tvalid_0's binary_logloss: 0.241586\tvalid_0's amex: 0.789429\n",
      "[1000]\tvalid_0's binary_logloss: 0.239834\tvalid_0's amex: 0.790142\n",
      "[1200]\tvalid_0's binary_logloss: 0.238374\tvalid_0's amex: 0.790751\n",
      "[1400]\tvalid_0's binary_logloss: 0.237022\tvalid_0's amex: 0.791765\n",
      "[1600]\tvalid_0's binary_logloss: 0.23579\tvalid_0's amex: 0.792277\n",
      "[1800]\tvalid_0's binary_logloss: 0.234842\tvalid_0's amex: 0.792574\n",
      "\u001b[32m\u001b[1mFold 3 | 02:35 |  1800 trees |                Score = 0.79259\u001b[0m\n",
      "[200]\tvalid_0's binary_logloss: 0.254299\tvalid_0's amex: 0.776114\n",
      "[400]\tvalid_0's binary_logloss: 0.245785\tvalid_0's amex: 0.786426\n",
      "[600]\tvalid_0's binary_logloss: 0.242557\tvalid_0's amex: 0.789244\n",
      "[800]\tvalid_0's binary_logloss: 0.240283\tvalid_0's amex: 0.790694\n",
      "[1000]\tvalid_0's binary_logloss: 0.238582\tvalid_0's amex: 0.792574\n",
      "\u001b[32m\u001b[1mFold 4 | 01:26 |  1000 trees |                Score = 0.79264\u001b[0m\n",
      "[200]\tvalid_0's binary_logloss: 0.253262\tvalid_0's amex: 0.783569\n",
      "[400]\tvalid_0's binary_logloss: 0.24466\tvalid_0's amex: 0.790962\n",
      "[600]\tvalid_0's binary_logloss: 0.241327\tvalid_0's amex: 0.793423\n",
      "[800]\tvalid_0's binary_logloss: 0.239238\tvalid_0's amex: 0.793633\n",
      "[1000]\tvalid_0's binary_logloss: 0.237623\tvalid_0's amex: 0.794069\n",
      "[1200]\tvalid_0's binary_logloss: 0.236222\tvalid_0's amex: 0.794474\n",
      "[1400]\tvalid_0's binary_logloss: 0.234962\tvalid_0's amex: 0.794805\n",
      "[1600]\tvalid_0's binary_logloss: 0.233847\tvalid_0's amex: 0.794944\n",
      "\u001b[32m\u001b[1mFold 5 | 02:22 |  1600 trees |                Score = 0.79501\u001b[0m\n",
      "[200]\tvalid_0's binary_logloss: 0.253988\tvalid_0's amex: 0.777902\n",
      "[400]\tvalid_0's binary_logloss: 0.245259\tvalid_0's amex: 0.785977\n",
      "[600]\tvalid_0's binary_logloss: 0.241825\tvalid_0's amex: 0.789554\n",
      "[800]\tvalid_0's binary_logloss: 0.23963\tvalid_0's amex: 0.789795\n",
      "[1000]\tvalid_0's binary_logloss: 0.237785\tvalid_0's amex: 0.78978\n",
      "[1200]\tvalid_0's binary_logloss: 0.236277\tvalid_0's amex: 0.790918\n",
      "[1400]\tvalid_0's binary_logloss: 0.234989\tvalid_0's amex: 0.790941\n",
      "[1600]\tvalid_0's binary_logloss: 0.233949\tvalid_0's amex: 0.791465\n",
      "[1800]\tvalid_0's binary_logloss: 0.232947\tvalid_0's amex: 0.790973\n",
      "\u001b[32m\u001b[1mFold 6 | 02:36 |  1800 trees |                Score = 0.79102\u001b[0m\n",
      "[200]\tvalid_0's binary_logloss: 0.254405\tvalid_0's amex: 0.779294\n",
      "[400]\tvalid_0's binary_logloss: 0.245616\tvalid_0's amex: 0.78893\n",
      "[600]\tvalid_0's binary_logloss: 0.242025\tvalid_0's amex: 0.791403\n",
      "[800]\tvalid_0's binary_logloss: 0.239606\tvalid_0's amex: 0.79173\n",
      "[1000]\tvalid_0's binary_logloss: 0.237743\tvalid_0's amex: 0.791749\n",
      "[1200]\tvalid_0's binary_logloss: 0.236123\tvalid_0's amex: 0.792866\n",
      "[1400]\tvalid_0's binary_logloss: 0.234676\tvalid_0's amex: 0.793775\n",
      "[1600]\tvalid_0's binary_logloss: 0.233469\tvalid_0's amex: 0.793846\n",
      "\u001b[32m\u001b[1mFold 7 | 02:13 |  1600 trees |                Score = 0.79385\u001b[0m\n",
      "[200]\tvalid_0's binary_logloss: 0.250092\tvalid_0's amex: 0.786847\n",
      "[400]\tvalid_0's binary_logloss: 0.241207\tvalid_0's amex: 0.794899\n",
      "[600]\tvalid_0's binary_logloss: 0.237652\tvalid_0's amex: 0.797157\n",
      "[800]\tvalid_0's binary_logloss: 0.235306\tvalid_0's amex: 0.798209\n",
      "[1000]\tvalid_0's binary_logloss: 0.233484\tvalid_0's amex: 0.798747\n",
      "[1200]\tvalid_0's binary_logloss: 0.232022\tvalid_0's amex: 0.799214\n",
      "\u001b[32m\u001b[1mFold 8 | 02:57 |  1200 trees |                Score = 0.79922\u001b[0m\n",
      "[200]\tvalid_0's binary_logloss: 0.2515\tvalid_0's amex: 0.784194\n",
      "[400]\tvalid_0's binary_logloss: 0.242775\tvalid_0's amex: 0.792156\n",
      "[600]\tvalid_0's binary_logloss: 0.239294\tvalid_0's amex: 0.796528\n",
      "[800]\tvalid_0's binary_logloss: 0.237081\tvalid_0's amex: 0.797553\n",
      "[1000]\tvalid_0's binary_logloss: 0.235388\tvalid_0's amex: 0.798103\n",
      "[1200]\tvalid_0's binary_logloss: 0.233796\tvalid_0's amex: 0.798611\n",
      "[1400]\tvalid_0's binary_logloss: 0.232576\tvalid_0's amex: 0.798836\n",
      "[1600]\tvalid_0's binary_logloss: 0.231509\tvalid_0's amex: 0.798617\n",
      "\u001b[32m\u001b[1mFold 9 | 02:21 |  1600 trees |                Score = 0.79862\u001b[0m\n",
      "[200]\tvalid_0's binary_logloss: 0.252375\tvalid_0's amex: 0.781209\n",
      "[400]\tvalid_0's binary_logloss: 0.243745\tvalid_0's amex: 0.792108\n",
      "[600]\tvalid_0's binary_logloss: 0.24043\tvalid_0's amex: 0.794038\n",
      "[800]\tvalid_0's binary_logloss: 0.238239\tvalid_0's amex: 0.794782\n",
      "[1000]\tvalid_0's binary_logloss: 0.23656\tvalid_0's amex: 0.795209\n",
      "\u001b[32m\u001b[1mFold 10 | 01:26 |  1000 trees |                Score = 0.79526\u001b[0m\n",
      "\u001b[32m\u001b[1mOOF Score:                       0.79473\u001b[0m\n",
      "CPU times: user 2h 53min 37s, sys: 11min 52s, total: 3h 5min 29s\n",
      "Wall time: 22min 42s\n"
     ]
    }
   ],
   "source": [
    "%%time\n",
    "model_list, score_list, y_pred_list, held_out_index_list = [], [], [], []\n",
    "kf = StratifiedKFold(n_splits=10)\n",
    "for fold, (idx_tr, idx_va), n_est in zip(range(1, 10+1), kf.split(train, target), n_est_list):\n",
    "    X_train, X_val, y_train, y_val, model = None, None, None, None, None\n",
    "    start_time = datetime.datetime.now()\n",
    "    X_train = train.iloc[idx_tr][features]\n",
    "    X_val = train.iloc[idx_va][features]\n",
    "    y_train = target[idx_tr]\n",
    "    y_val = target[idx_va]\n",
    "    \n",
    "    model = my_booster(n_estimators=n_est)\n",
    "    with warnings.catch_warnings():\n",
    "        warnings.filterwarnings('ignore', category=UserWarning)\n",
    "        model.fit(X_train, \n",
    "                  y_train,\n",
    "                  eval_set=[(X_val, y_val)], \n",
    "                  eval_metric=[lgb_amex_metric],\n",
    "                  callbacks=[log_evaluation(200)])\n",
    "    X_train, y_train = None, None\n",
    "    y_val_pred = model.predict_proba(X_val, raw_score=True)\n",
    "    score = amex_metric(y_val, y_val_pred)\n",
    "    n_trees = model.best_iteration_\n",
    "    if n_trees is None: \n",
    "        n_trees = model.n_estimators\n",
    "    print(f\"{Fore.GREEN}{Style.BRIGHT}Fold {fold} | {str(datetime.datetime.now() - start_time)[-12:-7]} |\"\n",
    "          f\" {n_trees:5} trees |\"\n",
    "          f\"                Score = {score:.5f}{Style.RESET_ALL}\")\n",
    "    score_list.append(score)\n",
    "    model_list.append(model)\n",
    "    held_out_index_list.append(idx_va)\n",
    "    # if INFERENCE:\n",
    "    #     y_pred_list.append(model.predict_proba(test[features], raw_score=True))\n",
    "        \n",
    "    # if ONLY_FIRST_FOLD:\n",
    "    #     break # we only want the first fold\n",
    "    \n",
    "print(f\"{Fore.GREEN}{Style.BRIGHT}OOF Score:                       {np.mean(score_list):.5f}{Style.RESET_ALL}\")"
   ]
  },
  {
   "cell_type": "code",
   "execution_count": 118,
   "id": "8d33e83b-d336-4355-bbea-8fc3e3835fe2",
   "metadata": {},
   "outputs": [],
   "source": [
    "for idx, model in enumerate(model_list):\n",
    "    joblib.dump(model, f'../models/lgbm_models/model_{idx+1}.pkl')"
   ]
  },
  {
   "cell_type": "markdown",
   "id": "6fc921e1-b9ac-4391-8ee5-b75587bbbe6b",
   "metadata": {},
   "source": [
    "### Train Val Split"
   ]
  },
  {
   "cell_type": "code",
   "execution_count": 90,
   "id": "9695a902-a0b2-4365-ba90-3fa70ed69844",
   "metadata": {},
   "outputs": [
    {
     "ename": "NameError",
     "evalue": "name 'train_data' is not defined",
     "output_type": "error",
     "traceback": [
      "\u001b[0;31m---------------------------------------------------------------------------\u001b[0m",
      "\u001b[0;31mNameError\u001b[0m                                 Traceback (most recent call last)",
      "Input \u001b[0;32mIn [90]\u001b[0m, in \u001b[0;36m<cell line: 1>\u001b[0;34m()\u001b[0m\n\u001b[0;32m----> 1\u001b[0m train, val \u001b[38;5;241m=\u001b[39m train_test_split(\u001b[43mtrain_data\u001b[49m, test_size\u001b[38;5;241m=\u001b[39m\u001b[38;5;241m0.175\u001b[39m, random_state\u001b[38;5;241m=\u001b[39m\u001b[38;5;241m923\u001b[39m, stratify\u001b[38;5;241m=\u001b[39mtrain_data[\u001b[38;5;124m\"\u001b[39m\u001b[38;5;124mtarget\u001b[39m\u001b[38;5;124m\"\u001b[39m])\n",
      "\u001b[0;31mNameError\u001b[0m: name 'train_data' is not defined"
     ]
    }
   ],
   "source": [
    "train, val = train_test_split(train_data, test_size=0.175, random_state=923, stratify=train_data[\"target\"])"
   ]
  },
  {
   "cell_type": "code",
   "execution_count": null,
   "id": "33c79210-4f9a-4500-9ba2-2a61850acd3f",
   "metadata": {},
   "outputs": [],
   "source": [
    "train[\"target\"].mean(), val[\"target\"].mean()"
   ]
  },
  {
   "cell_type": "code",
   "execution_count": null,
   "id": "e8b3d1e4-211b-45f8-b0ef-0af54bc1b6ae",
   "metadata": {},
   "outputs": [],
   "source": [
    "special_columns = ['customer_ID', 'S_2', 'target', \"Date\", \"min_date\", \"max_date\", \"num_records\", \"days\", \"record_per_day\"]"
   ]
  },
  {
   "cell_type": "code",
   "execution_count": null,
   "id": "b8843d38-b099-4dcc-9ca6-7b009c2df109",
   "metadata": {},
   "outputs": [],
   "source": [
    "all_cols = [c for c in train.columns if c not in special_columns]\n",
    "cat_features = train.select_dtypes(\"category\").columns.tolist()\n",
    "num_features = [col for col in all_cols if col not in cat_features]"
   ]
  },
  {
   "cell_type": "code",
   "execution_count": null,
   "id": "b87420d8-41e4-437e-94b3-90902e3d1010",
   "metadata": {},
   "outputs": [],
   "source": [
    "len(all_cols), len(cat_features), len(num_features)"
   ]
  },
  {
   "cell_type": "code",
   "execution_count": null,
   "id": "1229dc40-14a1-4584-81e4-65505aef8ba8",
   "metadata": {},
   "outputs": [],
   "source": [
    "cluster_columns = get_cols(train, \"_cluster\")\n",
    "nunique_columns = get_cols(train, \"_nunique\")\n",
    "non_D66_count_columns = [col for col in get_cols(train, \"_count\") if \"D_66\" not in col]"
   ]
  },
  {
   "cell_type": "code",
   "execution_count": null,
   "id": "56fe1254-1210-4efb-b157-1e46ee6161ec",
   "metadata": {},
   "outputs": [],
   "source": [
    "selected_features = list(set(all_cols) - set(cluster_columns) - set(nunique_columns) - set(non_D66_count_columns))"
   ]
  },
  {
   "cell_type": "code",
   "execution_count": null,
   "id": "ff6ebc37-99da-425e-b8da-bf6240df5ae4",
   "metadata": {},
   "outputs": [],
   "source": [
    "len(all_cols), len(selected_features)"
   ]
  },
  {
   "cell_type": "code",
   "execution_count": null,
   "id": "0eaf02d5-b112-401a-9346-908cb0e61369",
   "metadata": {},
   "outputs": [],
   "source": [
    "X_train = train.loc[:, selected_features]\n",
    "X_val = val.loc[:, selected_features]"
   ]
  },
  {
   "cell_type": "code",
   "execution_count": null,
   "id": "3b147ed3-595d-49c9-b6a2-87773d961f92",
   "metadata": {},
   "outputs": [],
   "source": [
    "y_train = train[\"target\"]\n",
    "y_val = val[\"target\"]"
   ]
  },
  {
   "cell_type": "code",
   "execution_count": null,
   "id": "110516c6-e21d-4384-b0ef-11d254a7fafd",
   "metadata": {},
   "outputs": [],
   "source": [
    "def _amex_metric(dy_true, dy_pred):\n",
    "    \"\"\"An eval metric that always returns the same value\"\"\"\n",
    "    metric_name = 'Amex Metric'\n",
    "    value = amex_metric_np(dy_pred, dy_true)\n",
    "    is_higher_better = True\n",
    "    return metric_name, value, is_higher_better"
   ]
  },
  {
   "cell_type": "code",
   "execution_count": null,
   "id": "a2914342-c0c6-47f5-aa00-274cda16442a",
   "metadata": {},
   "outputs": [],
   "source": [
    "fit_params = {\"early_stopping_rounds\" : 200, \n",
    "              # \"eval_metric\" : 'auc', \n",
    "              \"eval_set\" : [(X_val, y_val)],\n",
    "              'eval_names': ['valid'],\n",
    "              'verbose': 1,\n",
    "              'categorical_feature': 'auto'}"
   ]
  },
  {
   "cell_type": "code",
   "execution_count": null,
   "id": "6f90c1c1-902f-40c2-a469-ac85f04a3bfb",
   "metadata": {},
   "outputs": [],
   "source": [
    "param_test = {'learning_rate' : [0.01, 0.03, 0.05, 0.07, 0.08, 0.1, 0.12],\n",
    "              'n_estimators' : [100, 200, 300, 400, 500, 600, 800, 1000, 1500, 2000],\n",
    "              'num_leaves': sp_randint(10, 150), \n",
    "              'min_child_samples': sp_randint(25, 300), \n",
    "              'min_child_weight': [1e-3, 3e-3, 1e-2, 3e-2, 1e-1, 3e-1, 1],\n",
    "              'min_split_gain': [0.001, 0.003, 0.01, 0.025, 0.05, 0.1],\n",
    "              'subsample': sp_uniform(loc=0.4, scale=0.6), \n",
    "              # 'subsample_freq': [5, 10, 15],\n",
    "              'max_depth': [-1, 3, 5, 7, 9, 11, 13, 15],\n",
    "              'colsample_bytree': sp_uniform(loc=0.4, scale=0.6),\n",
    "              'reg_alpha': [0, 1e-1, 3e-1, 1, 3, 6, 10, 20, 50],\n",
    "              'reg_lambda': [0, 1e-1, 3e-1, 1, 3, 6, 10, 20, 50],\n",
    "              'scale_pos_weight': [0, 1, 2, 3, 4],\n",
    "              'xgboost_dart_mode': [True, False]\n",
    "              }\n",
    "\n",
    "# Number of combinations\n",
    "n_iter = 50 "
   ]
  },
  {
   "cell_type": "code",
   "execution_count": null,
   "id": "3dac40d9-8a91-4f72-83b5-2caa1128d8d2",
   "metadata": {},
   "outputs": [],
   "source": [
    "# Intializing lgbm and lunching the search\n",
    "lgbm_clf = LGBMClassifier(random_state=1020, \n",
    "                          objective=\"binary\", \n",
    "                          boosting_type='dart', \n",
    "                          n_jobs=-1) # silent=True, "
   ]
  },
  {
   "cell_type": "code",
   "execution_count": null,
   "id": "74eb1840-ef01-4416-9737-7707e32fafe3",
   "metadata": {},
   "outputs": [],
   "source": [
    "grid_search = RandomizedSearchCV(\n",
    "    estimator=lgbm_clf, \n",
    "    param_distributions=param_test, \n",
    "    n_iter=n_iter,\n",
    "    scoring=_amex_metric,\n",
    "    cv=5,\n",
    "    refit=True,\n",
    "    random_state=923,\n",
    "    verbose=True)"
   ]
  },
  {
   "cell_type": "code",
   "execution_count": null,
   "id": "62c8400e-efea-445d-adde-52149b24c7dc",
   "metadata": {},
   "outputs": [],
   "source": [
    "grid_search.fit(X_train, y_train, **fit_params)\n",
    "opt_parameters = grid_search.best_params_"
   ]
  },
  {
   "cell_type": "code",
   "execution_count": null,
   "id": "b544e638-39f3-40b2-b7c8-621d82dc6555",
   "metadata": {},
   "outputs": [],
   "source": [
    "best_params = {\n",
    "    'boosting_type': 'gbdt',\n",
    "    'colsample_bytree': 0.8,\n",
    "    'importance_type': 'split',\n",
    "    'learning_rate': 0.07,\n",
    "    'max_depth': 12,\n",
    "    'min_child_samples': 30,\n",
    "    'min_child_weight': 0.003,\n",
    "    'min_split_gain': 0.02,\n",
    "    'n_estimators': 110,\n",
    "    'n_jobs': -1,\n",
    "    'num_leaves': 80,\n",
    "    'objective': \"binary\",\n",
    "    'random_state': 923,\n",
    "    'reg_alpha': 1,\n",
    "    'reg_lambda': 4,\n",
    "    'silent': True,\n",
    "    'subsample': 0.85,\n",
    "    'subsample_for_bin': 100000,\n",
    "    'subsample_freq': 5,\n",
    "    'scale_pos_weight': 4\n",
    "}"
   ]
  },
  {
   "cell_type": "code",
   "execution_count": null,
   "id": "78dcbade-cfb2-4d93-a398-2d656c79824c",
   "metadata": {},
   "outputs": [],
   "source": [
    "lgbm_clf = LGBMClassifier(**best_params)"
   ]
  },
  {
   "cell_type": "code",
   "execution_count": null,
   "id": "e1e54e02-6856-4d45-a0f0-7229a5576e91",
   "metadata": {},
   "outputs": [],
   "source": [
    "lgbm_clf.fit(X_train, y_train)"
   ]
  },
  {
   "cell_type": "code",
   "execution_count": null,
   "id": "6849a5e0-f40a-44a5-9dd5-5c2ded2cab65",
   "metadata": {},
   "outputs": [],
   "source": [
    "y_train_pred = lgbm_clf.predict_proba(X_train)[:, 1]\n",
    "y_val_pred = lgbm_clf.predict_proba(X_val)[:, 1]"
   ]
  },
  {
   "cell_type": "code",
   "execution_count": null,
   "id": "c847011f-c194-43f6-909e-4abce0f43fbf",
   "metadata": {},
   "outputs": [],
   "source": [
    "plot_roc_curves([y_train, y_val], \n",
    "                [y_train_pred, y_val_pred], \n",
    "                labels=[\"Train\", \"Validation\"], \n",
    "                title=\"Train Validation ROC AUC\")"
   ]
  },
  {
   "cell_type": "code",
   "execution_count": null,
   "id": "2264f284-6c04-44de-90d3-5f9f7e1273e8",
   "metadata": {},
   "outputs": [],
   "source": [
    "imp_df = plot_feature_importance(lgbm_clf.feature_name_, \n",
    "                                 lgbm_clf.feature_importances_, \n",
    "                                 title=\"Feature Importance\",\n",
    "                                 limit=50)"
   ]
  },
  {
   "cell_type": "code",
   "execution_count": null,
   "id": "f8b4f8a8-649a-4bd7-a04a-432f98af21ff",
   "metadata": {},
   "outputs": [],
   "source": [
    "result = pd.DataFrame()\n",
    "for keyword in [\"_mean\", \"std\", \"min\", \"max\", \"first\", \"last\", \"count\"]:\n",
    "    temp = imp_df.loc[imp_df[\"feature\"].str.contains(keyword)].describe().rename(columns={\"feature_importance\": keyword})\n",
    "    result = pd.concat([result, temp], axis=1)"
   ]
  },
  {
   "cell_type": "code",
   "execution_count": null,
   "id": "ea7be8df-5fe4-431a-ac45-ad5237885bef",
   "metadata": {},
   "outputs": [],
   "source": [
    "result"
   ]
  },
  {
   "cell_type": "code",
   "execution_count": null,
   "id": "91c1a37b-583c-404d-93b9-3528d4ae68f7",
   "metadata": {},
   "outputs": [],
   "source": [
    "cluster_feature_imp_df = imp_df.loc[imp_df[\"feature\"].str.contains(\"count\")]"
   ]
  },
  {
   "cell_type": "code",
   "execution_count": null,
   "id": "8cc93d82-481d-47df-9c4c-5ead8956a622",
   "metadata": {},
   "outputs": [],
   "source": [
    "cluster_result = pd.DataFrame()\n",
    "for keyword in [\"B_\", \"S_\", \"R_\", \"P_\", \"D_\"]:\n",
    "    temp = cluster_feature_imp_df.loc[cluster_feature_imp_df[\"feature\"].str.contains(keyword)].describe().rename(columns={\n",
    "        \"feature_importance\": keyword\n",
    "    })\n",
    "    cluster_result = pd.concat([cluster_result, temp], axis=1)"
   ]
  },
  {
   "cell_type": "code",
   "execution_count": null,
   "id": "e853ca94-08b3-423a-81a5-b244aea8ebff",
   "metadata": {},
   "outputs": [],
   "source": [
    "imp_df.shape[0], result.loc[\"count\"].sum()"
   ]
  },
  {
   "cell_type": "markdown",
   "id": "40bb7ed4-6176-4b52-9ecb-83fb6dc73d85",
   "metadata": {},
   "source": [
    "### Test Metric"
   ]
  },
  {
   "cell_type": "code",
   "execution_count": null,
   "id": "23b137f9-ca61-4d83-9ff9-a21305eb6698",
   "metadata": {},
   "outputs": [],
   "source": [
    "y_val_df = pd.DataFrame(y_val).reset_index(drop=True)\n",
    "y_val_pred_df = pd.DataFrame(y_val_pred).rename(columns={0: \"prediction\"})"
   ]
  },
  {
   "cell_type": "code",
   "execution_count": null,
   "id": "5b580c9b-1745-4b9c-8e12-e5d29ae6783a",
   "metadata": {},
   "outputs": [],
   "source": [
    "amex_metric(y_val_df, y_val_pred_df)"
   ]
  },
  {
   "cell_type": "code",
   "execution_count": null,
   "id": "d8a1e7d6-60ec-4551-b009-1d7d9150f7b4",
   "metadata": {},
   "outputs": [],
   "source": []
  },
  {
   "cell_type": "code",
   "execution_count": null,
   "id": "89956304-1965-4aa0-a12b-1215c4a309a0",
   "metadata": {},
   "outputs": [],
   "source": []
  },
  {
   "cell_type": "code",
   "execution_count": null,
   "id": "1166b058-4bae-42d6-aba1-be547a3ff76a",
   "metadata": {},
   "outputs": [],
   "source": [
    "amex_metric(y_val_df, y_val_pred_df)"
   ]
  },
  {
   "cell_type": "code",
   "execution_count": null,
   "id": "f1f46a7a-f56d-4b33-8fbf-f944ca2cb1db",
   "metadata": {},
   "outputs": [],
   "source": []
  },
  {
   "cell_type": "code",
   "execution_count": null,
   "id": "2a333c77-039a-441a-902e-7bbffcb17a98",
   "metadata": {},
   "outputs": [],
   "source": []
  },
  {
   "cell_type": "code",
   "execution_count": null,
   "id": "f050890c-f0d7-403a-8d74-f589937c4b33",
   "metadata": {},
   "outputs": [],
   "source": [
    "amex_metric(y_val_df, y_val_pred_df)"
   ]
  },
  {
   "cell_type": "code",
   "execution_count": null,
   "id": "f19f34e3-f5b5-4373-a969-de238e0db1ba",
   "metadata": {},
   "outputs": [],
   "source": []
  },
  {
   "cell_type": "code",
   "execution_count": null,
   "id": "1a37b3ca-c9f3-414c-bbc6-b1e94814472b",
   "metadata": {},
   "outputs": [],
   "source": [
    "# feature_imp_thr = imp_df.loc[imp_df[\"feature\"] == \"dummy\"][\"feature_importance\"].values[0]\n",
    "# feature_imp_thr"
   ]
  },
  {
   "cell_type": "code",
   "execution_count": null,
   "id": "331673eb-0dca-4a75-8f18-0af50246332d",
   "metadata": {},
   "outputs": [],
   "source": [
    "selected_features = imp_df.loc[imp_df[\"feature_importance\"] > 0][\"feature\"].tolist()\n",
    "len(selected_features)"
   ]
  },
  {
   "cell_type": "markdown",
   "id": "16a5a448-9c68-431d-8a7a-b1f322f9e27e",
   "metadata": {},
   "source": [
    "### Train once"
   ]
  },
  {
   "cell_type": "code",
   "execution_count": null,
   "id": "d81012a5-1980-49fd-9a86-8765bc20f115",
   "metadata": {},
   "outputs": [],
   "source": [
    "best_params = {'boosting_type': 'gbdt',\n",
    " 'class_weight': None,\n",
    " 'colsample_bytree': 0.7,\n",
    " 'importance_type': 'split',\n",
    " 'learning_rate': 0.07,\n",
    " 'max_depth': 7,\n",
    " 'min_child_samples': 50,\n",
    " 'min_child_weight': 0.05,\n",
    " 'min_split_gain': 0.04,\n",
    " 'n_estimators': 100,\n",
    " 'n_jobs': -1,\n",
    " 'num_leaves': 80,\n",
    " 'objective': None,\n",
    " 'random_state': 1020,\n",
    " 'reg_alpha': 5,\n",
    " 'reg_lambda': 15,\n",
    " 'silent': True,\n",
    " 'subsample': 0.7,\n",
    " 'subsample_for_bin': 20000,\n",
    " 'subsample_freq': 5,\n",
    " 'scale_pos_weight': 1}"
   ]
  },
  {
   "cell_type": "code",
   "execution_count": null,
   "id": "41235181-df82-4aa4-8476-aa0be762a82b",
   "metadata": {},
   "outputs": [],
   "source": [
    "final_lgbm_clf = LGBMClassifier(**best_params)"
   ]
  },
  {
   "cell_type": "code",
   "execution_count": null,
   "id": "2d1db025-9a3d-4d2b-a5bf-dec2fb63e423",
   "metadata": {},
   "outputs": [],
   "source": [
    "final_lgbm_clf.fit(X_train, y_train)"
   ]
  },
  {
   "cell_type": "code",
   "execution_count": null,
   "id": "4d32ab96-3177-4042-a8ca-d92d82c35524",
   "metadata": {},
   "outputs": [],
   "source": [
    "y_train_pred = final_lgbm_clf.predict_proba(X_train)[:, 1]\n",
    "y_val_pred = final_lgbm_clf.predict_proba(X_val)[:, 1]"
   ]
  },
  {
   "cell_type": "code",
   "execution_count": null,
   "id": "d7ef1dac-33bd-425e-abb7-1423dae456a9",
   "metadata": {},
   "outputs": [],
   "source": [
    "plot_roc_curves([y_train, y_val], \n",
    "                [y_train_pred, y_val_pred], \n",
    "                labels=[\"Train\", \"Validation\"], \n",
    "                title=\"Train Validation ROC AUC\")"
   ]
  },
  {
   "cell_type": "code",
   "execution_count": null,
   "id": "b5ec7d16-e398-4fe9-bd13-3e412807bee9",
   "metadata": {},
   "outputs": [],
   "source": [
    "imp_df = plot_feature_importance(final_lgbm_clf.feature_name_, \n",
    "                                 final_lgbm_clf.feature_importances_, \n",
    "                                 title=\"Feature Importance\",\n",
    "                                 limit=50)"
   ]
  },
  {
   "cell_type": "code",
   "execution_count": null,
   "id": "55610023-caa6-4a4f-a0fa-61a927d9e876",
   "metadata": {},
   "outputs": [],
   "source": [
    "# feature_imp_thr = imp_df.loc[imp_df[\"feature\"] == \"dummy\"][\"feature_importance\"].values[0]\n",
    "# feature_imp_thr"
   ]
  },
  {
   "cell_type": "code",
   "execution_count": null,
   "id": "e040c798-77a1-49ee-b197-09589cfe6b75",
   "metadata": {},
   "outputs": [],
   "source": [
    "selected_features = imp_df.loc[imp_df[\"feature_importance\"] > 0][\"feature\"].tolist()\n",
    "len(selected_features)"
   ]
  },
  {
   "cell_type": "markdown",
   "id": "6ca42564-43bb-4cb5-b3c6-16a15a1c23bc",
   "metadata": {},
   "source": [
    "#### Final x2 LGBM"
   ]
  },
  {
   "cell_type": "code",
   "execution_count": null,
   "id": "80cee1a2-55a5-4421-90b2-d449124d7eb9",
   "metadata": {},
   "outputs": [],
   "source": [
    "selected_features = [col for col in selected_features if \"first\" not in col]\n",
    "len(selected_features)"
   ]
  },
  {
   "cell_type": "code",
   "execution_count": null,
   "id": "029f03db-71d7-4859-a5a4-9ca2e76200d4",
   "metadata": {},
   "outputs": [],
   "source": [
    "final_lgbm_clf = LGBMClassifier(**best_params)"
   ]
  },
  {
   "cell_type": "code",
   "execution_count": null,
   "id": "10a9c91e-926c-4411-a02d-98c352fa340b",
   "metadata": {},
   "outputs": [],
   "source": [
    "X_train_ = X_train.loc[:, selected_features]\n",
    "X_val_ = X_val.loc[:, selected_features]"
   ]
  },
  {
   "cell_type": "code",
   "execution_count": null,
   "id": "2d7df427-cc7f-4949-bf4e-9ca9a30ef7bf",
   "metadata": {},
   "outputs": [],
   "source": [
    "final_lgbm_clf.fit(X_train_, y_train)"
   ]
  },
  {
   "cell_type": "code",
   "execution_count": null,
   "id": "cbe79c65-0dc5-43c7-9572-e6663e9f95e6",
   "metadata": {},
   "outputs": [],
   "source": [
    "y_train_pred_ = final_lgbm_clf.predict_proba(X_train_)[:, 1]\n",
    "y_val_pred_ = final_lgbm_clf.predict_proba(X_val_)[:, 1]"
   ]
  },
  {
   "cell_type": "code",
   "execution_count": null,
   "id": "0b5ff830-7ce4-46ec-80ef-eb3b309d688d",
   "metadata": {},
   "outputs": [],
   "source": [
    "plot_roc_curves([y_train, y_val], \n",
    "                [y_train_pred_, y_val_pred_], \n",
    "                labels=[\"Train\", \"Validation\"], \n",
    "                title=\"Train Validation ROC AUC\")"
   ]
  },
  {
   "cell_type": "code",
   "execution_count": null,
   "id": "b20871d1-6189-44db-b78c-5d72a697f565",
   "metadata": {},
   "outputs": [],
   "source": [
    "y_res_df = pd.DataFrame(y_res).reset_index(drop=True)\n",
    "y_res_pred_df = pd.DataFrame(y_res_pred_).rename(columns={0: \"prediction\"})"
   ]
  },
  {
   "cell_type": "code",
   "execution_count": null,
   "id": "0d444d3a-c211-488d-a413-05fb4897c1ab",
   "metadata": {},
   "outputs": [],
   "source": [
    "amex_metric(y_res_df, y_res_pred_df)"
   ]
  },
  {
   "cell_type": "code",
   "execution_count": null,
   "id": "c0a2c3d5-d1da-4d0c-a342-a2be238c797f",
   "metadata": {},
   "outputs": [],
   "source": [
    "y_val.values[:40]"
   ]
  },
  {
   "cell_type": "code",
   "execution_count": null,
   "id": "1dbb8996-c77f-47b4-8687-383a95d440bd",
   "metadata": {},
   "outputs": [],
   "source": [
    "temp_ = [1 if c > 0.95 else c for c in y_val_pred_]\n",
    "# temp_[:40]"
   ]
  },
  {
   "cell_type": "code",
   "execution_count": null,
   "id": "442d9f35-976d-47ba-953c-58db62338cb2",
   "metadata": {},
   "outputs": [],
   "source": [
    "y_val_df = pd.DataFrame(y_val).reset_index(drop=True)\n",
    "y_val_pred_df = pd.DataFrame(y_val_pred_).rename(columns={0: \"prediction\"})"
   ]
  },
  {
   "cell_type": "code",
   "execution_count": null,
   "id": "d9743759-7c75-431a-a134-ed84f9104490",
   "metadata": {},
   "outputs": [],
   "source": [
    "amex_metric(y_val_df, y_val_pred_df)"
   ]
  },
  {
   "cell_type": "markdown",
   "id": "0cdaac36-22b6-44f4-8687-e3bf6938ce93",
   "metadata": {},
   "source": [
    "### END"
   ]
  },
  {
   "cell_type": "markdown",
   "id": "fa7ce3fd-bac0-4364-b611-819042c19358",
   "metadata": {},
   "source": [
    "### LGBM Model"
   ]
  },
  {
   "cell_type": "code",
   "execution_count": null,
   "id": "41135e8f-1549-4612-a9c4-fa70ae39b4cd",
   "metadata": {},
   "outputs": [],
   "source": [
    "opt = BayesSearchCV(\n",
    "    LGBMClassifier(random_state=1020),\n",
    "    {\n",
    "        'learning_rate': (0.04, 0.1),\n",
    "        'num_leaves': (31, 127),\n",
    "        'max_depth': (5, 20),\n",
    "        'min_child_samples': (15, 63),\n",
    "        'n_estimators': (80, 160),\n",
    "        'subsample': (0.7, 0.9),\n",
    "        'subsample_freq': (2, 5),\n",
    "        'colsample_bytree': (0.6, 0.95),\n",
    "        'reg_alpha': (0, 15),\n",
    "        'reg_lambda': (0, 15),\n",
    "        'min_split_gain': (0, 0.05),\n",
    "        'scale_pos_weight': (0.1, 10)\n",
    "    },\n",
    "    n_iter=5,\n",
    "    cv=5,\n",
    "    scoring=make_scorer(fbeta_score, beta=2)\n",
    ")"
   ]
  },
  {
   "cell_type": "code",
   "execution_count": null,
   "id": "295cb663-b522-4e61-be30-959e45c88f53",
   "metadata": {},
   "outputs": [],
   "source": [
    "start = time.time()\n",
    "opt.fit(X_train, y_train, verbose=1)\n",
    "end = time.time()\n",
    "print(f\"Done in {end - start:.2f} seconds\")"
   ]
  },
  {
   "cell_type": "code",
   "execution_count": null,
   "id": "ff687f1c-0639-49ae-b0ab-e4e0d4975e33",
   "metadata": {},
   "outputs": [],
   "source": [
    "best_params = opt.best_estimator_.get_params()"
   ]
  },
  {
   "cell_type": "code",
   "execution_count": null,
   "id": "1b086005-ed1a-445e-97b2-20dea2fc4747",
   "metadata": {},
   "outputs": [],
   "source": [
    "best_params"
   ]
  },
  {
   "cell_type": "code",
   "execution_count": null,
   "id": "a966c482-cfcc-47b1-925f-9cfb2c1f4a43",
   "metadata": {},
   "outputs": [],
   "source": [
    "imp_df = plot_feature_importance(final_lgbm_clf.feature_name_, \n",
    "                                 final_lgbm_clf.feature_importances_, \n",
    "                                 title=\"Feature Importance\",\n",
    "                                 limit=50)"
   ]
  },
  {
   "cell_type": "code",
   "execution_count": null,
   "id": "392cced2-205e-4d54-b3f4-37cf7c2ec0e3",
   "metadata": {},
   "outputs": [],
   "source": [
    "num_features_list, train_score_list, val_score_list = [], [], []\n",
    "for imp_value in tqdm(sorted(imp_df[\"feature_importance\"].unique())):\n",
    "    selected_features = imp_df.loc[imp_df[\"feature_importance\"] > imp_value][\"feature\"].tolist()\n",
    "    print(f\"# of features: {len(selected_features)}\")\n",
    "    \n",
    "    X_train_new = train.loc[:, selected_features]\n",
    "    X_val_new = val.loc[:, selected_features]\n",
    "    \n",
    "    lgbm_clf = LGBMClassifier(**params)\n",
    "    lgbm_clf.fit(X_train_new, y_train)\n",
    "    \n",
    "    y_train_pred = lgbm_clf.predict_proba(X_train_new)[:, 1]\n",
    "    y_val_pred = lgbm_clf.predict_proba(X_val_new)[:, 1]\n",
    "    \n",
    "    y_train_df = pd.DataFrame(y_train).reset_index(drop=True)\n",
    "    y_train_pred_df = pd.DataFrame(y_train_pred).rename(columns={0: \"prediction\"})\n",
    "    y_val_df = pd.DataFrame(y_val).reset_index(drop=True)\n",
    "    y_val_pred_df = pd.DataFrame(y_val_pred).rename(columns={0: \"prediction\"})\n",
    "    \n",
    "    train_score = amex_metric(y_train_df, y_train_pred_df)\n",
    "    val_score = amex_metric(y_val_df, y_val_pred_df)\n",
    "    num_features_list.append(len(selected_features))\n",
    "    train_score_list.append(train_score)\n",
    "    val_score_list.append(val_score)"
   ]
  },
  {
   "cell_type": "code",
   "execution_count": null,
   "id": "c085bc1b-3955-4410-8c71-6a392990830f",
   "metadata": {},
   "outputs": [],
   "source": [
    "train_scores = [i[0] for i in train_score_list]\n",
    "val_scores = [i[0] for i in val_score_list]"
   ]
  },
  {
   "cell_type": "code",
   "execution_count": null,
   "id": "08dc1b24-b119-4289-a2e1-ea6dd661ad52",
   "metadata": {},
   "outputs": [],
   "source": [
    "eval_df = pd.DataFrame(dict(num_feature=num_features_list, \n",
    "                            train_score=train_scores, \n",
    "                            val_score=val_scores)).iloc[:-10]"
   ]
  },
  {
   "cell_type": "code",
   "execution_count": null,
   "id": "cc7e16e2-c874-4af3-a0e8-418aae96441e",
   "metadata": {},
   "outputs": [],
   "source": [
    "plt.figure(figsize=(17, 6))\n",
    "plt.plot(eval_df[\"num_feature\"], eval_df[\"train_score\"], label=\"Train\")\n",
    "plt.plot(eval_df[\"num_feature\"], eval_df[\"val_score\"], label=\"Validation\")\n",
    "plt.legend()\n",
    "plt.show()"
   ]
  },
  {
   "cell_type": "markdown",
   "id": "3a26e5c7-b521-46c9-acf1-58ac2b292e5c",
   "metadata": {},
   "source": [
    "### LGBM Error Analysis"
   ]
  },
  {
   "cell_type": "code",
   "execution_count": null,
   "id": "df50053b-db40-4121-b419-f68a30367de2",
   "metadata": {},
   "outputs": [],
   "source": [
    "X_validation = X_val_.reset_index(drop=True)"
   ]
  },
  {
   "cell_type": "code",
   "execution_count": null,
   "id": "6fb0761c-95a1-4a3c-aba9-99c9a188adbb",
   "metadata": {},
   "outputs": [],
   "source": [
    "top4_pct_df, gini_df = get_final_metric_df(X_validation, y_val_df, y_val_pred_df)"
   ]
  },
  {
   "cell_type": "code",
   "execution_count": null,
   "id": "00f48288-eb31-4a9f-b345-65ebd8e13a93",
   "metadata": {},
   "outputs": [],
   "source": [
    "failed_top4_pct_indices = top4_pct_df.loc[(top4_pct_df[\"is_cutoff\"] == 1) & (top4_pct_df[\"target\"] == 0)].index"
   ]
  },
  {
   "cell_type": "code",
   "execution_count": null,
   "id": "f3c324f1-2a79-4433-9ee2-199a06d3c3e8",
   "metadata": {},
   "outputs": [],
   "source": [
    "# failed_top4_pct_indices"
   ]
  },
  {
   "cell_type": "code",
   "execution_count": null,
   "id": "fcc0db8d-3726-46a8-910b-eb4adb995e61",
   "metadata": {},
   "outputs": [],
   "source": [
    "failed_top4_pct_indices"
   ]
  },
  {
   "cell_type": "code",
   "execution_count": null,
   "id": "9fd108b7-81f8-44c4-a16c-fc87a144f4e6",
   "metadata": {},
   "outputs": [],
   "source": [
    "success_top4 = top4_pct_df.loc[~top4_pct_df.index.isin(failed_top4_pct_indices)]\n",
    "failed_top4 = top4_pct_df.loc[failed_top4_pct_indices]"
   ]
  },
  {
   "cell_type": "code",
   "execution_count": null,
   "id": "4721278a-b219-404b-bba3-6e748f795a7b",
   "metadata": {},
   "outputs": [],
   "source": [
    "success_top4.shape, failed_top4.shape"
   ]
  },
  {
   "cell_type": "code",
   "execution_count": null,
   "id": "a93bbfd3-8f1a-45cd-96fc-2362b2d032df",
   "metadata": {},
   "outputs": [],
   "source": [
    "column = \"P_2_last\""
   ]
  },
  {
   "cell_type": "code",
   "execution_count": null,
   "id": "a1380398-93cb-413f-9cec-90302cb78a57",
   "metadata": {},
   "outputs": [],
   "source": [
    "top4_pct_df.groupby(\"target\")[column].mean()"
   ]
  },
  {
   "cell_type": "code",
   "execution_count": null,
   "id": "9d5aa82a-5ca2-4e32-8f3e-9f052f7181c1",
   "metadata": {
    "tags": []
   },
   "outputs": [],
   "source": [
    "success_top4[column].describe()"
   ]
  },
  {
   "cell_type": "code",
   "execution_count": null,
   "id": "72acb797-ffa3-40a8-a44f-f2b0096cb048",
   "metadata": {},
   "outputs": [],
   "source": [
    "failed_top4[column].describe()"
   ]
  },
  {
   "cell_type": "code",
   "execution_count": null,
   "id": "02c03b2c-f793-47f5-abf6-299a67264708",
   "metadata": {},
   "outputs": [],
   "source": [
    "# save model\n",
    "# joblib.dump(final_lgbm_clf, '../models/lgbm_version1.pkl')"
   ]
  },
  {
   "cell_type": "code",
   "execution_count": null,
   "id": "caf067ed-6593-4b8f-8999-c6857e541c43",
   "metadata": {},
   "outputs": [],
   "source": [
    "# load model\n",
    "loaded_lgbm_model = joblib.load('../models/lgbm_version1.pkl')"
   ]
  },
  {
   "cell_type": "markdown",
   "id": "30905057-4997-4150-8b5e-95131a2a8c4f",
   "metadata": {},
   "source": [
    "### SMOTE"
   ]
  },
  {
   "cell_type": "code",
   "execution_count": null,
   "id": "358300d2-baee-465f-a6cb-98d6d7f8e64b",
   "metadata": {},
   "outputs": [],
   "source": [
    "train.loc[:, num_features] = train.loc[:, num_features].fillna(0)"
   ]
  },
  {
   "cell_type": "code",
   "execution_count": null,
   "id": "46564e53-653f-4ee0-8b7a-f78080f017ce",
   "metadata": {},
   "outputs": [],
   "source": [
    "from imblearn.over_sampling import SMOTE\n",
    "sm = SMOTE(random_state=923)\n",
    "X_res, y_res = sm.fit_resample(train.loc[:, num_features], \n",
    "                               train[\"target\"])"
   ]
  },
  {
   "cell_type": "code",
   "execution_count": null,
   "id": "53c5c2b0-ef4a-408e-8eb8-e2043ec132b5",
   "metadata": {},
   "outputs": [],
   "source": [
    "X_res.shape, y_res.shape"
   ]
  },
  {
   "cell_type": "markdown",
   "id": "b10febac-45a5-4dfe-8e90-679a7b6c58af",
   "metadata": {},
   "source": [
    "### Inference"
   ]
  },
  {
   "cell_type": "code",
   "execution_count": null,
   "id": "b57fb03d-129a-4315-81e8-8360136281f0",
   "metadata": {},
   "outputs": [],
   "source": [
    "X_test = test_data.loc[:, selected_features]"
   ]
  },
  {
   "cell_type": "code",
   "execution_count": null,
   "id": "8187a541-375c-4ade-80ae-aea068907536",
   "metadata": {},
   "outputs": [],
   "source": [
    "y_test_pred = loaded_lgbm_model.predict_proba(X_test)[:, 1]"
   ]
  },
  {
   "cell_type": "code",
   "execution_count": null,
   "id": "c88b8d00-9901-4db0-b50a-4ac1d5213b52",
   "metadata": {},
   "outputs": [],
   "source": [
    "test_data[\"prediction\"] = y_test_pred"
   ]
  },
  {
   "cell_type": "code",
   "execution_count": null,
   "id": "ce4d1072-3e79-4ef6-a985-cb3e9db254b9",
   "metadata": {},
   "outputs": [],
   "source": [
    "test_data.head()"
   ]
  },
  {
   "cell_type": "markdown",
   "id": "0f4349f8-2223-4495-9ac0-9271161d2ad7",
   "metadata": {},
   "source": [
    "#### Submission"
   ]
  },
  {
   "cell_type": "code",
   "execution_count": null,
   "id": "b8a09504-d53b-4605-a513-e759d3591ba4",
   "metadata": {},
   "outputs": [],
   "source": [
    "submission = pd.read_csv(f\"{DATA_PATH}/sample_submission.csv\")"
   ]
  },
  {
   "cell_type": "code",
   "execution_count": null,
   "id": "4b44d52a-25e4-4c57-a521-e0abb56dc442",
   "metadata": {},
   "outputs": [],
   "source": [
    "submission = submission.drop(columns=\"prediction\")"
   ]
  },
  {
   "cell_type": "code",
   "execution_count": null,
   "id": "50e49caa-6672-4477-90b1-bad365f41dcd",
   "metadata": {},
   "outputs": [],
   "source": [
    "result = submission.merge(test_data[[\"customer_ID\", \"prediction\"]], on=\"customer_ID\")"
   ]
  },
  {
   "cell_type": "code",
   "execution_count": null,
   "id": "57e977c8-3c57-4efe-b766-f8ea82b5849a",
   "metadata": {},
   "outputs": [],
   "source": [
    "# result.to_csv(f\"{SUBMISSION_DATA_PATH}/submission4.csv\", index=False)"
   ]
  },
  {
   "cell_type": "code",
   "execution_count": null,
   "id": "5fbb5848-efd4-4724-b6a8-0cb3951abb4b",
   "metadata": {},
   "outputs": [],
   "source": []
  }
 ],
 "metadata": {
  "kernelspec": {
   "display_name": "amex",
   "language": "python",
   "name": "amex"
  },
  "language_info": {
   "codemirror_mode": {
    "name": "ipython",
    "version": 3
   },
   "file_extension": ".py",
   "mimetype": "text/x-python",
   "name": "python",
   "nbconvert_exporter": "python",
   "pygments_lexer": "ipython3",
   "version": "3.10.0"
  }
 },
 "nbformat": 4,
 "nbformat_minor": 5
}
