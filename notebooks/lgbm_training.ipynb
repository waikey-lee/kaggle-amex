{
 "cells": [
  {
   "cell_type": "code",
   "execution_count": 6,
   "id": "aaabc149-2516-4f17-b087-a2fe275ee23b",
   "metadata": {},
   "outputs": [],
   "source": [
    "import matplotlib.pyplot as plt\n",
    "import gc\n",
    "import os\n",
    "import sys"
   ]
  },
  {
   "cell_type": "code",
   "execution_count": 7,
   "id": "c7cf49a8-0311-4382-bf1e-f74f4f35c8db",
   "metadata": {},
   "outputs": [],
   "source": [
    "sys.path.append(\"../\")"
   ]
  },
  {
   "cell_type": "code",
   "execution_count": 8,
   "id": "5dd2ca34-3410-4078-aa48-7adbba211ed5",
   "metadata": {},
   "outputs": [],
   "source": [
    "import joblib\n",
    "import pandas as pd\n",
    "import numpy as np\n",
    "import time\n",
    "from lightgbm import LGBMClassifier\n",
    "from sklearn.model_selection import train_test_split\n",
    "from sklearn.metrics import roc_auc_score, fbeta_score, make_scorer\n",
    "from skopt import BayesSearchCV\n",
    "from tqdm import tqdm"
   ]
  },
  {
   "cell_type": "code",
   "execution_count": 9,
   "id": "a084bef6-4434-40fb-bafc-d7d3e4c57a14",
   "metadata": {},
   "outputs": [],
   "source": [
    "from utils.eval_helpers import plot_roc_curves, plot_feature_importance, amex_metric, amex_metric_np\n",
    "from utils.eda_helpers import plot_missing_proportion_barchart"
   ]
  },
  {
   "cell_type": "code",
   "execution_count": 10,
   "id": "ee8b533a-591f-40e6-90a4-2357933bb83b",
   "metadata": {},
   "outputs": [
    {
     "data": {
      "text/plain": [
       "['train_labels.csv',\n",
       " '.DS_Store',\n",
       " 'test_data.ftr',\n",
       " 'train_data.ftr',\n",
       " 'sample_submission.csv']"
      ]
     },
     "execution_count": 10,
     "metadata": {},
     "output_type": "execute_result"
    }
   ],
   "source": [
    "DATA_PATH = \"../raw_data\"\n",
    "os.listdir(DATA_PATH)"
   ]
  },
  {
   "cell_type": "code",
   "execution_count": 11,
   "id": "08cce559-a615-41c7-9d81-0a5e7b981931",
   "metadata": {},
   "outputs": [],
   "source": [
    "PROCESSED_DATA_PATH = \"../processed_data\"\n",
    "SUBMISSION_DATA_PATH = \"../submissions\"\n",
    "CATEGORY_COLUMNS = ['B_30', 'B_38', 'D_114', 'D_116', 'D_117', 'D_120', 'D_126', 'D_63', 'D_64', 'D_66', 'D_68']"
   ]
  },
  {
   "cell_type": "code",
   "execution_count": 12,
   "id": "67194602-57fc-4e92-9801-8d600e52a5b2",
   "metadata": {},
   "outputs": [],
   "source": [
    "%load_ext autoreload\n",
    "%autoreload"
   ]
  },
  {
   "cell_type": "markdown",
   "id": "3885beac-e245-43b6-a2cc-73e9f871d132",
   "metadata": {},
   "source": [
    "### Read Data"
   ]
  },
  {
   "cell_type": "code",
   "execution_count": 13,
   "id": "731a013f-258f-49c1-b4e2-4c5fa0735d71",
   "metadata": {},
   "outputs": [],
   "source": [
    "train_data = pd.read_feather(f\"{PROCESSED_DATA_PATH}/train_agg_data.ftr\")\n",
    "test_data = pd.read_feather(f\"{PROCESSED_DATA_PATH}/test_agg_data.ftr\")"
   ]
  },
  {
   "cell_type": "code",
   "execution_count": 14,
   "id": "8d4a2dcf-d21f-43a6-8355-83f4160c4ab9",
   "metadata": {},
   "outputs": [
    {
     "data": {
      "text/plain": [
       "((458913, 929), (924621, 929))"
      ]
     },
     "execution_count": 14,
     "metadata": {},
     "output_type": "execute_result"
    }
   ],
   "source": [
    "train_data.shape, test_data.shape"
   ]
  },
  {
   "cell_type": "code",
   "execution_count": 15,
   "id": "8de42a8f-1cb1-4f24-92d1-04bc19863d03",
   "metadata": {},
   "outputs": [
    {
     "data": {
      "text/plain": [
       "Index(['customer_ID', 'P_2_mean', 'P_2_std', 'P_2_min', 'P_2_max', 'P_2_last',\n",
       "       'D_39_mean', 'D_39_std', 'D_39_min', 'D_39_max',\n",
       "       ...\n",
       "       'days', 'record_per_day', 'has_D_110_mean', 'has_D_111_mean',\n",
       "       'has_D_132_mean', 'has_D_134_mean', 'has_D_135_mean', 'has_D_136_mean',\n",
       "       'has_D_137_mean', 'has_D_138_mean'],\n",
       "      dtype='object', length=929)"
      ]
     },
     "execution_count": 15,
     "metadata": {},
     "output_type": "execute_result"
    }
   ],
   "source": [
    "train_data.columns"
   ]
  },
  {
   "cell_type": "code",
   "execution_count": 16,
   "id": "33479f5d-117e-4d3f-a9fc-8757e70e6017",
   "metadata": {},
   "outputs": [],
   "source": [
    "train_labels = pd.read_csv(f\"{DATA_PATH}/train_labels.csv\")"
   ]
  },
  {
   "cell_type": "code",
   "execution_count": 17,
   "id": "0936cd1e-8778-4360-a3f2-1d71502eb6b7",
   "metadata": {},
   "outputs": [
    {
     "data": {
      "text/plain": [
       "(458913, 2)"
      ]
     },
     "execution_count": 17,
     "metadata": {},
     "output_type": "execute_result"
    }
   ],
   "source": [
    "train_labels.shape"
   ]
  },
  {
   "cell_type": "code",
   "execution_count": 18,
   "id": "0535aa02-a4d2-4c85-a719-62198519981d",
   "metadata": {},
   "outputs": [
    {
     "data": {
      "text/plain": [
       "Index(['customer_ID', 'target'], dtype='object')"
      ]
     },
     "execution_count": 18,
     "metadata": {},
     "output_type": "execute_result"
    }
   ],
   "source": [
    "train_labels.columns"
   ]
  },
  {
   "cell_type": "markdown",
   "id": "6fc921e1-b9ac-4391-8ee5-b75587bbbe6b",
   "metadata": {},
   "source": [
    "### Train Val Split"
   ]
  },
  {
   "cell_type": "code",
   "execution_count": 19,
   "id": "e99ab607-5673-42d9-bc9d-2ff3683974c8",
   "metadata": {},
   "outputs": [],
   "source": [
    "train_ = train_data.merge(train_labels[[\"customer_ID\", \"target\"]], on=\"customer_ID\", how=\"left\")"
   ]
  },
  {
   "cell_type": "code",
   "execution_count": 20,
   "id": "5144cc8a-305d-41d7-8cea-baf5f0f3f0ba",
   "metadata": {},
   "outputs": [],
   "source": [
    "train_[\"dummy\"] = np.random.randn(train_.shape[0])"
   ]
  },
  {
   "cell_type": "code",
   "execution_count": 21,
   "id": "9695a902-a0b2-4365-ba90-3fa70ed69844",
   "metadata": {},
   "outputs": [],
   "source": [
    "train, val = train_test_split(train_, test_size=0.15, random_state=1020, stratify=train_[\"target\"])"
   ]
  },
  {
   "cell_type": "code",
   "execution_count": 22,
   "id": "33c79210-4f9a-4500-9ba2-2a61850acd3f",
   "metadata": {},
   "outputs": [
    {
     "data": {
      "text/plain": [
       "(0.25893415642080003, 0.2589305170184639)"
      ]
     },
     "execution_count": 22,
     "metadata": {},
     "output_type": "execute_result"
    }
   ],
   "source": [
    "train[\"target\"].mean(), val[\"target\"].mean()"
   ]
  },
  {
   "cell_type": "markdown",
   "id": "fa7ce3fd-bac0-4364-b611-819042c19358",
   "metadata": {},
   "source": [
    "### LGBM Model"
   ]
  },
  {
   "cell_type": "code",
   "execution_count": 23,
   "id": "0eaf02d5-b112-401a-9346-908cb0e61369",
   "metadata": {},
   "outputs": [],
   "source": [
    "X_train = train.drop(columns=[\"customer_ID\", \"target\"])\n",
    "X_val = val.drop(columns=[\"customer_ID\", \"target\"])"
   ]
  },
  {
   "cell_type": "code",
   "execution_count": 24,
   "id": "3b147ed3-595d-49c9-b6a2-87773d961f92",
   "metadata": {},
   "outputs": [],
   "source": [
    "y_train = train[\"target\"]\n",
    "y_val = val[\"target\"]"
   ]
  },
  {
   "cell_type": "code",
   "execution_count": 26,
   "id": "41135e8f-1549-4612-a9c4-fa70ae39b4cd",
   "metadata": {},
   "outputs": [],
   "source": [
    "opt = BayesSearchCV(\n",
    "    LGBMClassifier(random_state=1020),\n",
    "    {\n",
    "        'learning_rate': (0.02, 0.1),\n",
    "        'num_leaves': (31, 127),\n",
    "        'max_depth': (4, 15),\n",
    "        'min_child_samples': (15, 63),\n",
    "        'n_estimators': (50, 150),\n",
    "        'subsample': (0.7, 0.9),\n",
    "        'subsample_freq': (2, 5),\n",
    "        'colsample_bytree': (0.7, 0.9),\n",
    "        'reg_lambda': (0, 10),\n",
    "        'min_split_gain': (0, 0.05),\n",
    "    },\n",
    "    n_iter=10,\n",
    "    cv=5,\n",
    "    scoring=make_scorer(fbeta_score, beta=0.5)\n",
    ")"
   ]
  },
  {
   "cell_type": "code",
   "execution_count": 27,
   "id": "295cb663-b522-4e61-be30-959e45c88f53",
   "metadata": {},
   "outputs": [
    {
     "data": {
      "text/plain": [
       "BayesSearchCV(cv=5, estimator=LGBMClassifier(random_state=1020), n_iter=10,\n",
       "              scoring=make_scorer(fbeta_score, beta=2),\n",
       "              search_spaces={'colsample_bytree': (0.7, 0.9),\n",
       "                             'learning_rate': (0.01, 0.1), 'max_depth': (4, 15),\n",
       "                             'min_child_samples': (15, 63),\n",
       "                             'min_split_gain': (0, 0.05),\n",
       "                             'n_estimators': (50, 150), 'num_leaves': (31, 127),\n",
       "                             'reg_lambda': (0, 10), 'subsample': (0.7, 0.9),\n",
       "                             'subsample_freq': (2, 5)})"
      ]
     },
     "execution_count": 27,
     "metadata": {},
     "output_type": "execute_result"
    }
   ],
   "source": [
    "start = time.time()\n",
    "opt.fit(X_train, y_train)\n",
    "end = time.time()\n",
    "print(f\"Done in {end - start:.2f} seconds\")"
   ]
  },
  {
   "cell_type": "code",
   "execution_count": 28,
   "id": "ff687f1c-0639-49ae-b0ab-e4e0d4975e33",
   "metadata": {},
   "outputs": [],
   "source": [
    "best_params = opt.best_estimator_.get_params()"
   ]
  },
  {
   "cell_type": "code",
   "execution_count": 30,
   "id": "1b086005-ed1a-445e-97b2-20dea2fc4747",
   "metadata": {},
   "outputs": [
    {
     "data": {
      "text/plain": [
       "{'boosting_type': 'gbdt',\n",
       " 'class_weight': None,\n",
       " 'colsample_bytree': 0.7563114159768082,\n",
       " 'importance_type': 'split',\n",
       " 'learning_rate': 0.09325683729486695,\n",
       " 'max_depth': 13,\n",
       " 'min_child_samples': 31,\n",
       " 'min_child_weight': 0.001,\n",
       " 'min_split_gain': 0.02118407062707835,\n",
       " 'n_estimators': 110,\n",
       " 'n_jobs': -1,\n",
       " 'num_leaves': 76,\n",
       " 'objective': None,\n",
       " 'random_state': 1020,\n",
       " 'reg_alpha': 0.0,\n",
       " 'reg_lambda': 4,\n",
       " 'silent': True,\n",
       " 'subsample': 0.8635875607027377,\n",
       " 'subsample_for_bin': 200000,\n",
       " 'subsample_freq': 4}"
      ]
     },
     "execution_count": 30,
     "metadata": {},
     "output_type": "execute_result"
    }
   ],
   "source": [
    "best_params"
   ]
  },
  {
   "cell_type": "code",
   "execution_count": 31,
   "id": "41235181-df82-4aa4-8476-aa0be762a82b",
   "metadata": {},
   "outputs": [],
   "source": [
    "final_lgbm_clf = LGBMClassifier(**best_params)"
   ]
  },
  {
   "cell_type": "code",
   "execution_count": 32,
   "id": "2d1db025-9a3d-4d2b-a5bf-dec2fb63e423",
   "metadata": {},
   "outputs": [
    {
     "data": {
      "text/plain": [
       "LGBMClassifier(colsample_bytree=0.7563114159768082,\n",
       "               learning_rate=0.09325683729486695, max_depth=13,\n",
       "               min_child_samples=31, min_split_gain=0.02118407062707835,\n",
       "               n_estimators=110, num_leaves=76, random_state=1020, reg_lambda=4,\n",
       "               subsample=0.8635875607027377, subsample_freq=4)"
      ]
     },
     "execution_count": 32,
     "metadata": {},
     "output_type": "execute_result"
    }
   ],
   "source": [
    "final_lgbm_clf.fit(X_train, y_train)"
   ]
  },
  {
   "cell_type": "code",
   "execution_count": 33,
   "id": "4d32ab96-3177-4042-a8ca-d92d82c35524",
   "metadata": {},
   "outputs": [],
   "source": [
    "y_train_pred = final_lgbm_clf.predict_proba(X_train)[:, 1]\n",
    "y_val_pred = final_lgbm_clf.predict_proba(X_val)[:, 1]"
   ]
  },
  {
   "cell_type": "code",
   "execution_count": 34,
   "id": "d7ef1dac-33bd-425e-abb7-1423dae456a9",
   "metadata": {},
   "outputs": [
    {
     "data": {
      "image/png": "[encoded data removed]",
      "text/plain": [
       "<Figure size 1080x576 with 1 Axes>"
      ]
     },
     "metadata": {
      "needs_background": "light"
     },
     "output_type": "display_data"
    }
   ],
   "source": [
    "plot_roc_curves([y_train, y_val], \n",
    "                [y_train_pred, y_val_pred], \n",
    "                labels=[\"Train\", \"Validation\"], \n",
    "                title=\"Train Validation ROC AUC\")"
   ]
  },
  {
   "cell_type": "code",
   "execution_count": 35,
   "id": "b5ec7d16-e398-4fe9-bd13-3e412807bee9",
   "metadata": {},
   "outputs": [
    {
     "data": {
      "image/png": "[encoded data removed]",
      "text/plain": [
       "<Figure size 1080x576 with 1 Axes>"
      ]
     },
     "metadata": {
      "needs_background": "light"
     },
     "output_type": "display_data"
    }
   ],
   "source": [
    "imp_df = plot_feature_importance(final_lgbm_clf.feature_name_, \n",
    "                                 final_lgbm_clf.feature_importances_, \n",
    "                                 title=\"Feature Importance\",\n",
    "                                 limit=50)"
   ]
  },
  {
   "cell_type": "code",
   "execution_count": 41,
   "id": "55610023-caa6-4a4f-a0fa-61a927d9e876",
   "metadata": {},
   "outputs": [],
   "source": [
    "feature_imp_thr = imp_df.loc[imp_df[\"feature\"] == \"dummy\"][\"feature_importance\"].values[0]"
   ]
  },
  {
   "cell_type": "code",
   "execution_count": 42,
   "id": "e040c798-77a1-49ee-b197-09589cfe6b75",
   "metadata": {},
   "outputs": [
    {
     "data": {
      "text/plain": [
       "270"
      ]
     },
     "execution_count": 42,
     "metadata": {},
     "output_type": "execute_result"
    }
   ],
   "source": [
    "selected_features = imp_df.loc[imp_df[\"feature_importance\"] > feature_imp_thr][\"feature\"].tolist()\n",
    "len(selected_features)"
   ]
  },
  {
   "cell_type": "markdown",
   "id": "ab9222f8-a526-4a16-9e48-10d1bc20a84e",
   "metadata": {},
   "source": [
    "#### Final x2 LGBM"
   ]
  },
  {
   "cell_type": "code",
   "execution_count": 43,
   "id": "029f03db-71d7-4859-a5a4-9ca2e76200d4",
   "metadata": {},
   "outputs": [],
   "source": [
    "final_lgbm_clf = LGBMClassifier(**best_params)"
   ]
  },
  {
   "cell_type": "code",
   "execution_count": 44,
   "id": "10a9c91e-926c-4411-a02d-98c352fa340b",
   "metadata": {},
   "outputs": [],
   "source": [
    "X_train_ = X_train.loc[:, selected_features]\n",
    "X_val_ = X_val.loc[:, selected_features]"
   ]
  },
  {
   "cell_type": "code",
   "execution_count": 45,
   "id": "2d7df427-cc7f-4949-bf4e-9ca9a30ef7bf",
   "metadata": {},
   "outputs": [
    {
     "data": {
      "text/plain": [
       "LGBMClassifier(colsample_bytree=0.7563114159768082,\n",
       "               learning_rate=0.09325683729486695, max_depth=13,\n",
       "               min_child_samples=31, min_split_gain=0.02118407062707835,\n",
       "               n_estimators=110, num_leaves=76, random_state=1020, reg_lambda=4,\n",
       "               subsample=0.8635875607027377, subsample_freq=4)"
      ]
     },
     "execution_count": 45,
     "metadata": {},
     "output_type": "execute_result"
    }
   ],
   "source": [
    "final_lgbm_clf.fit(X_train_, y_train)"
   ]
  },
  {
   "cell_type": "code",
   "execution_count": 46,
   "id": "cbe79c65-0dc5-43c7-9572-e6663e9f95e6",
   "metadata": {},
   "outputs": [],
   "source": [
    "y_train_pred_ = final_lgbm_clf.predict_proba(X_train_)[:, 1]\n",
    "y_val_pred_ = final_lgbm_clf.predict_proba(X_val_)[:, 1]"
   ]
  },
  {
   "cell_type": "code",
   "execution_count": 47,
   "id": "0b5ff830-7ce4-46ec-80ef-eb3b309d688d",
   "metadata": {},
   "outputs": [
    {
     "data": {
      "image/png": "[encoded data removed]",
      "text/plain": [
       "<Figure size 1080x576 with 1 Axes>"
      ]
     },
     "metadata": {
      "needs_background": "light"
     },
     "output_type": "display_data"
    }
   ],
   "source": [
    "plot_roc_curves([y_train, y_val], \n",
    "                [y_train_pred_, y_val_pred_], \n",
    "                labels=[\"Train\", \"Validation\"], \n",
    "                title=\"Train Validation ROC AUC\")"
   ]
  },
  {
   "cell_type": "code",
   "execution_count": 67,
   "id": "b20871d1-6189-44db-b78c-5d72a697f565",
   "metadata": {},
   "outputs": [],
   "source": [
    "y_train_df = pd.DataFrame(y_train).reset_index(drop=True)\n",
    "y_train_pred_df = pd.DataFrame(y_train_pred_).rename(columns={0: \"prediction\"})"
   ]
  },
  {
   "cell_type": "code",
   "execution_count": 68,
   "id": "0d444d3a-c211-488d-a413-05fb4897c1ab",
   "metadata": {},
   "outputs": [
    {
     "data": {
      "text/plain": [
       "0.8261566192430607"
      ]
     },
     "execution_count": 68,
     "metadata": {},
     "output_type": "execute_result"
    }
   ],
   "source": [
    "amex_metric(y_train_df, y_train_pred_df)"
   ]
  },
  {
   "cell_type": "code",
   "execution_count": 69,
   "id": "442d9f35-976d-47ba-953c-58db62338cb2",
   "metadata": {},
   "outputs": [],
   "source": [
    "y_val_df = pd.DataFrame(y_val).reset_index(drop=True)\n",
    "y_val_pred_df = pd.DataFrame(y_val_pred_).rename(columns={0: \"prediction\"})"
   ]
  },
  {
   "cell_type": "code",
   "execution_count": 70,
   "id": "d9743759-7c75-431a-a134-ed84f9104490",
   "metadata": {},
   "outputs": [
    {
     "data": {
      "text/plain": [
       "0.7866702328553711"
      ]
     },
     "execution_count": 70,
     "metadata": {},
     "output_type": "execute_result"
    }
   ],
   "source": [
    "amex_metric(y_val_df, y_val_pred_df)"
   ]
  },
  {
   "cell_type": "code",
   "execution_count": null,
   "id": "392cced2-205e-4d54-b3f4-37cf7c2ec0e3",
   "metadata": {},
   "outputs": [],
   "source": [
    "# num_list, num_features_list, train_score_list, val_score_list = [], [], [], []\n",
    "# for i in tqdm(range(30)):\n",
    "#     selected_features = imp_df.loc[imp_df[\"feature_importance\"] > i][\"feature\"].tolist()\n",
    "#     print(f\"# of features: {len(selected_features)}\")\n",
    "    \n",
    "#     X_train_new = train.loc[:, selected_features]\n",
    "#     X_val_new = val.loc[:, selected_features]\n",
    "    \n",
    "#     lgbm_clf = LGBMClassifier(random_state=1020)\n",
    "#     lgbm_clf.fit(X_train_new, y_train)\n",
    "    \n",
    "#     y_train_pred = lgbm_clf.predict_proba(X_train_new)[:, 1]\n",
    "#     y_val_pred = lgbm_clf.predict_proba(X_val_new)[:, 1]\n",
    "    \n",
    "#     y_train_df = pd.DataFrame(y_train).reset_index(drop=True)\n",
    "#     y_train_pred_df = pd.DataFrame(y_train_pred).rename(columns={0: \"prediction\"})\n",
    "#     y_val_df = pd.DataFrame(y_val).reset_index(drop=True)\n",
    "#     y_val_pred_df = pd.DataFrame(y_val_pred).rename(columns={0: \"prediction\"})\n",
    "    \n",
    "#     train_score = amex_metric(y_train_df, y_train_pred_df)\n",
    "#     val_score = amex_metric(y_val_df, y_val_pred_df)\n",
    "#     num_list.append(i)\n",
    "#     num_features_list.append(len(selected_features))\n",
    "#     train_score_list.append(train_score)\n",
    "#     val_score_list.append(val_score)"
   ]
  },
  {
   "cell_type": "code",
   "execution_count": null,
   "id": "9bf0fe35-d7a6-433d-ae53-c0b86f6d5e99",
   "metadata": {},
   "outputs": [],
   "source": [
    "# eval_df = pd.DataFrame(dict(index_=num_list, \n",
    "#                             num_feature=num_features_list, \n",
    "#                             train_score=train_score_list, \n",
    "#                             val_score=val_score_list))"
   ]
  },
  {
   "cell_type": "code",
   "execution_count": null,
   "id": "cc7e16e2-c874-4af3-a0e8-418aae96441e",
   "metadata": {},
   "outputs": [],
   "source": [
    "# plt.figure(figsize=(17, 6))\n",
    "# plt.plot(eval_df[\"index_\"], eval_df[\"train_score\"], label=\"Train\")\n",
    "# plt.plot(eval_df[\"index_\"], eval_df[\"val_score\"], label=\"Validation\")\n",
    "# plt.legend()\n",
    "# plt.show()"
   ]
  },
  {
   "cell_type": "code",
   "execution_count": 75,
   "id": "02c03b2c-f793-47f5-abf6-299a67264708",
   "metadata": {},
   "outputs": [],
   "source": [
    "# save model\n",
    "# joblib.dump(final_lgbm_clf, '../models/lgbm_version1.pkl')"
   ]
  },
  {
   "cell_type": "code",
   "execution_count": 76,
   "id": "caf067ed-6593-4b8f-8999-c6857e541c43",
   "metadata": {},
   "outputs": [],
   "source": [
    "# load model\n",
    "loaded_lgbm_model = joblib.load('../models/lgbm_version1.pkl')"
   ]
  },
  {
   "cell_type": "markdown",
   "id": "b10febac-45a5-4dfe-8e90-679a7b6c58af",
   "metadata": {},
   "source": [
    "### Inference"
   ]
  },
  {
   "cell_type": "code",
   "execution_count": 79,
   "id": "b57fb03d-129a-4315-81e8-8360136281f0",
   "metadata": {},
   "outputs": [],
   "source": [
    "X_test = test_data.loc[:, selected_features]"
   ]
  },
  {
   "cell_type": "code",
   "execution_count": 80,
   "id": "8187a541-375c-4ade-80ae-aea068907536",
   "metadata": {},
   "outputs": [],
   "source": [
    "y_test_pred = loaded_lgbm_model.predict_proba(X_test)[:, 1]"
   ]
  },
  {
   "cell_type": "code",
   "execution_count": 82,
   "id": "c88b8d00-9901-4db0-b50a-4ac1d5213b52",
   "metadata": {},
   "outputs": [],
   "source": [
    "test_data[\"prediction\"] = y_test_pred"
   ]
  },
  {
   "cell_type": "code",
   "execution_count": 83,
   "id": "ce4d1072-3e79-4ef6-a985-cb3e9db254b9",
   "metadata": {},
   "outputs": [
    {
     "data": {
      "text/html": [
       "<div>\n",
       "<style scoped>\n",
       "    .dataframe tbody tr th:only-of-type {\n",
       "        vertical-align: middle;\n",
       "    }\n",
       "\n",
       "    .dataframe tbody tr th {\n",
       "        vertical-align: top;\n",
       "    }\n",
       "\n",
       "    .dataframe thead th {\n",
       "        text-align: right;\n",
       "    }\n",
       "</style>\n",
       "<table border=\"1\" class=\"dataframe\">\n",
       "  <thead>\n",
       "    <tr style=\"text-align: right;\">\n",
       "      <th></th>\n",
       "      <th>customer_ID</th>\n",
       "      <th>P_2_mean</th>\n",
       "      <th>P_2_std</th>\n",
       "      <th>P_2_min</th>\n",
       "      <th>P_2_max</th>\n",
       "      <th>P_2_last</th>\n",
       "      <th>D_39_mean</th>\n",
       "      <th>D_39_std</th>\n",
       "      <th>D_39_min</th>\n",
       "      <th>D_39_max</th>\n",
       "      <th>...</th>\n",
       "      <th>record_per_day</th>\n",
       "      <th>has_D_110_mean</th>\n",
       "      <th>has_D_111_mean</th>\n",
       "      <th>has_D_132_mean</th>\n",
       "      <th>has_D_134_mean</th>\n",
       "      <th>has_D_135_mean</th>\n",
       "      <th>has_D_136_mean</th>\n",
       "      <th>has_D_137_mean</th>\n",
       "      <th>has_D_138_mean</th>\n",
       "      <th>prediction</th>\n",
       "    </tr>\n",
       "  </thead>\n",
       "  <tbody>\n",
       "    <tr>\n",
       "      <th>0</th>\n",
       "      <td>00000469ba478561f23a92a868bd366de6f6527a684c9a...</td>\n",
       "      <td>0.601562</td>\n",
       "      <td>0.020198</td>\n",
       "      <td>0.568848</td>\n",
       "      <td>0.631348</td>\n",
       "      <td>0.568848</td>\n",
       "      <td>0.069763</td>\n",
       "      <td>0.103129</td>\n",
       "      <td>0.001912</td>\n",
       "      <td>0.238770</td>\n",
       "      <td>...</td>\n",
       "      <td>26.111111</td>\n",
       "      <td>0.0</td>\n",
       "      <td>0.0</td>\n",
       "      <td>0.0</td>\n",
       "      <td>0.0</td>\n",
       "      <td>0.0</td>\n",
       "      <td>0.0</td>\n",
       "      <td>0.0</td>\n",
       "      <td>0.0</td>\n",
       "      <td>0.043517</td>\n",
       "    </tr>\n",
       "    <tr>\n",
       "      <th>1</th>\n",
       "      <td>00001bf2e77ff879fab36aa4fac689b9ba411dae63ae39...</td>\n",
       "      <td>0.862305</td>\n",
       "      <td>0.031432</td>\n",
       "      <td>0.794434</td>\n",
       "      <td>0.913574</td>\n",
       "      <td>0.841309</td>\n",
       "      <td>0.154297</td>\n",
       "      <td>0.177177</td>\n",
       "      <td>0.001548</td>\n",
       "      <td>0.505859</td>\n",
       "      <td>...</td>\n",
       "      <td>27.538462</td>\n",
       "      <td>0.0</td>\n",
       "      <td>0.0</td>\n",
       "      <td>0.0</td>\n",
       "      <td>0.0</td>\n",
       "      <td>0.0</td>\n",
       "      <td>0.0</td>\n",
       "      <td>0.0</td>\n",
       "      <td>0.0</td>\n",
       "      <td>0.001240</td>\n",
       "    </tr>\n",
       "    <tr>\n",
       "      <th>2</th>\n",
       "      <td>0000210045da4f81e5f122c6bde5c2a617d03eef67f82c...</td>\n",
       "      <td>0.749023</td>\n",
       "      <td>0.061435</td>\n",
       "      <td>0.673340</td>\n",
       "      <td>0.834961</td>\n",
       "      <td>0.697754</td>\n",
       "      <td>0.181885</td>\n",
       "      <td>0.264004</td>\n",
       "      <td>0.000482</td>\n",
       "      <td>0.679688</td>\n",
       "      <td>...</td>\n",
       "      <td>29.076923</td>\n",
       "      <td>0.0</td>\n",
       "      <td>0.0</td>\n",
       "      <td>0.0</td>\n",
       "      <td>0.0</td>\n",
       "      <td>0.0</td>\n",
       "      <td>0.0</td>\n",
       "      <td>0.0</td>\n",
       "      <td>0.0</td>\n",
       "      <td>0.023857</td>\n",
       "    </tr>\n",
       "    <tr>\n",
       "      <th>3</th>\n",
       "      <td>00003b41e58ede33b8daf61ab56d9952f17c9ad1c3976c...</td>\n",
       "      <td>0.474609</td>\n",
       "      <td>0.028883</td>\n",
       "      <td>0.428467</td>\n",
       "      <td>0.514160</td>\n",
       "      <td>0.513184</td>\n",
       "      <td>0.470459</td>\n",
       "      <td>0.128948</td>\n",
       "      <td>0.212524</td>\n",
       "      <td>0.683594</td>\n",
       "      <td>...</td>\n",
       "      <td>29.384615</td>\n",
       "      <td>0.0</td>\n",
       "      <td>0.0</td>\n",
       "      <td>0.0</td>\n",
       "      <td>0.0</td>\n",
       "      <td>0.0</td>\n",
       "      <td>0.0</td>\n",
       "      <td>0.0</td>\n",
       "      <td>0.0</td>\n",
       "      <td>0.219452</td>\n",
       "    </tr>\n",
       "    <tr>\n",
       "      <th>4</th>\n",
       "      <td>00004b22eaeeeb0ec976890c1d9bfc14fd9427e98c4ee9...</td>\n",
       "      <td>0.323975</td>\n",
       "      <td>0.049886</td>\n",
       "      <td>0.254395</td>\n",
       "      <td>0.425781</td>\n",
       "      <td>0.254395</td>\n",
       "      <td>0.353027</td>\n",
       "      <td>0.196611</td>\n",
       "      <td>0.035065</td>\n",
       "      <td>0.768066</td>\n",
       "      <td>...</td>\n",
       "      <td>28.461538</td>\n",
       "      <td>0.0</td>\n",
       "      <td>0.0</td>\n",
       "      <td>0.0</td>\n",
       "      <td>0.0</td>\n",
       "      <td>0.0</td>\n",
       "      <td>0.0</td>\n",
       "      <td>0.0</td>\n",
       "      <td>0.0</td>\n",
       "      <td>0.854858</td>\n",
       "    </tr>\n",
       "  </tbody>\n",
       "</table>\n",
       "<p>5 rows × 930 columns</p>\n",
       "</div>"
      ],
      "text/plain": [
       "                                         customer_ID  P_2_mean   P_2_std  \\\n",
       "0  00000469ba478561f23a92a868bd366de6f6527a684c9a...  0.601562  0.020198   \n",
       "1  00001bf2e77ff879fab36aa4fac689b9ba411dae63ae39...  0.862305  0.031432   \n",
       "2  0000210045da4f81e5f122c6bde5c2a617d03eef67f82c...  0.749023  0.061435   \n",
       "3  00003b41e58ede33b8daf61ab56d9952f17c9ad1c3976c...  0.474609  0.028883   \n",
       "4  00004b22eaeeeb0ec976890c1d9bfc14fd9427e98c4ee9...  0.323975  0.049886   \n",
       "\n",
       "    P_2_min   P_2_max  P_2_last  D_39_mean  D_39_std  D_39_min  D_39_max  ...  \\\n",
       "0  0.568848  0.631348  0.568848   0.069763  0.103129  0.001912  0.238770  ...   \n",
       "1  0.794434  0.913574  0.841309   0.154297  0.177177  0.001548  0.505859  ...   \n",
       "2  0.673340  0.834961  0.697754   0.181885  0.264004  0.000482  0.679688  ...   \n",
       "3  0.428467  0.514160  0.513184   0.470459  0.128948  0.212524  0.683594  ...   \n",
       "4  0.254395  0.425781  0.254395   0.353027  0.196611  0.035065  0.768066  ...   \n",
       "\n",
       "   record_per_day  has_D_110_mean  has_D_111_mean  has_D_132_mean  \\\n",
       "0       26.111111             0.0             0.0             0.0   \n",
       "1       27.538462             0.0             0.0             0.0   \n",
       "2       29.076923             0.0             0.0             0.0   \n",
       "3       29.384615             0.0             0.0             0.0   \n",
       "4       28.461538             0.0             0.0             0.0   \n",
       "\n",
       "   has_D_134_mean  has_D_135_mean  has_D_136_mean  has_D_137_mean  \\\n",
       "0             0.0             0.0             0.0             0.0   \n",
       "1             0.0             0.0             0.0             0.0   \n",
       "2             0.0             0.0             0.0             0.0   \n",
       "3             0.0             0.0             0.0             0.0   \n",
       "4             0.0             0.0             0.0             0.0   \n",
       "\n",
       "   has_D_138_mean  prediction  \n",
       "0             0.0    0.043517  \n",
       "1             0.0    0.001240  \n",
       "2             0.0    0.023857  \n",
       "3             0.0    0.219452  \n",
       "4             0.0    0.854858  \n",
       "\n",
       "[5 rows x 930 columns]"
      ]
     },
     "execution_count": 83,
     "metadata": {},
     "output_type": "execute_result"
    }
   ],
   "source": [
    "test_data.head()"
   ]
  },
  {
   "cell_type": "markdown",
   "id": "0f4349f8-2223-4495-9ac0-9271161d2ad7",
   "metadata": {},
   "source": [
    "#### Submission"
   ]
  },
  {
   "cell_type": "code",
   "execution_count": 84,
   "id": "b8a09504-d53b-4605-a513-e759d3591ba4",
   "metadata": {},
   "outputs": [],
   "source": [
    "submission = pd.read_csv(f\"{DATA_PATH}/sample_submission.csv\")"
   ]
  },
  {
   "cell_type": "code",
   "execution_count": 85,
   "id": "4b44d52a-25e4-4c57-a521-e0abb56dc442",
   "metadata": {},
   "outputs": [],
   "source": [
    "submission = submission.drop(columns=\"prediction\")"
   ]
  },
  {
   "cell_type": "code",
   "execution_count": 86,
   "id": "50e49caa-6672-4477-90b1-bad365f41dcd",
   "metadata": {},
   "outputs": [],
   "source": [
    "result = submission.merge(test_data[[\"customer_ID\", \"prediction\"]], on=\"customer_ID\")"
   ]
  },
  {
   "cell_type": "code",
   "execution_count": 88,
   "id": "57e977c8-3c57-4efe-b766-f8ea82b5849a",
   "metadata": {},
   "outputs": [],
   "source": [
    "# result.to_csv(f\"{SUBMISSION_DATA_PATH}/submission4.csv\", index=False)"
   ]
  },
  {
   "cell_type": "code",
   "execution_count": null,
   "id": "5fbb5848-efd4-4724-b6a8-0cb3951abb4b",
   "metadata": {},
   "outputs": [],
   "source": []
  }
 ],
 "metadata": {
  "kernelspec": {
   "display_name": "amex",
   "language": "python",
   "name": "amex"
  },
  "language_info": {
   "codemirror_mode": {
    "name": "ipython",
    "version": 3
   },
   "file_extension": ".py",
   "mimetype": "text/x-python",
   "name": "python",
   "nbconvert_exporter": "python",
   "pygments_lexer": "ipython3",
   "version": "3.10.0"
  }
 },
 "nbformat": 4,
 "nbformat_minor": 5
}
