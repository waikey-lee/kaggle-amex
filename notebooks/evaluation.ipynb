{
 "cells": [
  {
   "cell_type": "code",
   "execution_count": 1,
   "id": "5dd2ca34-3410-4078-aa48-7adbba211ed5",
   "metadata": {},
   "outputs": [],
   "source": [
    "import gc\n",
    "import joblib\n",
    "import matplotlib.pyplot as plt\n",
    "import pandas as pd\n",
    "import numpy as np\n",
    "import os\n",
    "import sys\n",
    "sys.path.append(\"../\")\n",
    "import time\n",
    "import warnings\n",
    "warnings.simplefilter(\"ignore\")\n",
    "from lightgbm import LGBMClassifier\n",
    "from sklearn.model_selection import train_test_split\n",
    "from sklearn.metrics import roc_auc_score, fbeta_score, make_scorer\n",
    "from tqdm import tqdm"
   ]
  },
  {
   "cell_type": "code",
   "execution_count": 2,
   "id": "88e773c8-793b-4771-85d2-80ad4e905510",
   "metadata": {},
   "outputs": [],
   "source": [
    "from utils.common import (\n",
    "    sigmoid, \n",
    "    pad_column_name\n",
    ")\n",
    "from utils.eval_helpers import (\n",
    "    plot_roc_curves, plot_feature_importance, \n",
    "    amex_metric, get_final_metric_df, amex_metric_np, lgb_amex_metric\n",
    ")\n",
    "from utils.eda_helpers import (\n",
    "    plot_missing_proportion_barchart, \n",
    "    get_cols\n",
    ")\n",
    "from utils.extraction_helpers import read_file\n",
    "from utils.feature_group import (\n",
    "    CATEGORY_COLUMNS, CONTINUOUS_COLUMNS, NON_FEATURE_COLUMNS,\n",
    "    MEAN_FEATURES, MIN_FEATURES, MAX_FEATURES, LAST_FEATURES, FIRST_FEATURES,\n",
    "    RANGE_FEATURES, VELOCITY_FEATURES, SPEED_FEATURES\n",
    ")"
   ]
  },
  {
   "cell_type": "code",
   "execution_count": 3,
   "id": "6bf6f906-580f-4385-a9ab-954f842340d1",
   "metadata": {
    "tags": []
   },
   "outputs": [],
   "source": [
    "RAW_DATA_PATH = \"../raw_data\"\n",
    "PROCESSED_DATA_PATH = \"../processed_data\"\n",
    "SUBMISSION_DATA_PATH = \"../submissions\"\n",
    "EVALUATION_DATA_PATH = \"../evaluation_data\"\n",
    "MODELS_PATH = \"../models\"\n",
    "EXP_PATH = \"../experiments\""
   ]
  },
  {
   "cell_type": "code",
   "execution_count": 4,
   "id": "351dac4d-08e8-4948-af77-d77f3a465ead",
   "metadata": {},
   "outputs": [],
   "source": [
    "RAW_TRAIN_PARQUET_PATH = os.path.join(RAW_DATA_PATH, \"train_parquet\")\n",
    "RAW_TEST_PARQUET_PATH = os.path.join(RAW_DATA_PATH, \"test_parquet\")\n",
    "RAW_TEST_PICKLE_PATH = os.path.join(RAW_DATA_PATH, \"test_pickle\")"
   ]
  },
  {
   "cell_type": "code",
   "execution_count": 5,
   "id": "e4698b61-dcd2-43c3-b5e3-cd5a350b5e4a",
   "metadata": {},
   "outputs": [],
   "source": [
    "%load_ext autoreload\n",
    "%autoreload"
   ]
  },
  {
   "cell_type": "markdown",
   "id": "884ad3df-d4d2-4c01-9066-8f6e70514295",
   "metadata": {},
   "source": [
    "### Read Data"
   ]
  },
  {
   "cell_type": "code",
   "execution_count": 6,
   "id": "a3f95193-83c1-49cc-9989-ba49d7894a88",
   "metadata": {},
   "outputs": [],
   "source": [
    "EXP_FULL_PATH = \"../experiments/lgbm_gbdt_exp2\""
   ]
  },
  {
   "cell_type": "code",
   "execution_count": 7,
   "id": "5488998d-253c-4018-a647-1ed2853a849f",
   "metadata": {},
   "outputs": [
    {
     "name": "stdout",
     "output_type": "stream",
     "text": [
      "Shape of data: (458913, 766)\n"
     ]
    }
   ],
   "source": [
    "train_val = read_file(f\"{EXP_FULL_PATH}/train_val.pkl\")"
   ]
  },
  {
   "cell_type": "code",
   "execution_count": 8,
   "id": "a2745301-14b7-45bf-9a56-ea0dbee01664",
   "metadata": {},
   "outputs": [],
   "source": [
    "validation_indices = joblib.load(f'{EXP_FULL_PATH}/5_fold_val_indices.pkl')"
   ]
  },
  {
   "cell_type": "code",
   "execution_count": 9,
   "id": "16924a6a-b130-49cc-a196-da9395205400",
   "metadata": {},
   "outputs": [],
   "source": [
    "model_paths = [file for file in sorted(os.listdir(f\"{EXP_FULL_PATH}/models\")) if file.startswith(\"model\")]"
   ]
  },
  {
   "cell_type": "code",
   "execution_count": 10,
   "id": "9bb82c71-57bc-4b17-881a-cff0e47d0f59",
   "metadata": {},
   "outputs": [],
   "source": [
    "models = {}\n",
    "feature_imps = []\n",
    "for i, model_path in enumerate(model_paths):\n",
    "    models[i] = joblib.load(f\"{EXP_FULL_PATH}/models/{model_path}\")\n",
    "    feature_imps.append(\n",
    "        pd.DataFrame(\n",
    "            {\n",
    "                \"feature\": models[i].feature_name_, \n",
    "                f\"importance{i}\": models[i].feature_importances_\n",
    "            }\n",
    "        ).set_index(\"feature\")\n",
    "    )"
   ]
  },
  {
   "cell_type": "code",
   "execution_count": 11,
   "id": "90ae627f-7aef-4fae-ac4f-29d8aa15e488",
   "metadata": {},
   "outputs": [],
   "source": [
    "feature_imp_df = pd.concat(feature_imps, axis=1)\n",
    "feature_imp_df[\"average_importance\"] = feature_imp_df.mean(axis=1)\n",
    "feature_imp_df = feature_imp_df.sort_values(\"average_importance\", ascending=False)"
   ]
  },
  {
   "cell_type": "code",
   "execution_count": 12,
   "id": "74fd9eee-3e8d-46c6-a26e-a84f0f38c795",
   "metadata": {},
   "outputs": [],
   "source": [
    "noob_features_df = feature_imp_df[\"average_importance\"].nsmallest(int(feature_imp_df.shape[0] * 0.04))\n",
    "noob_features = noob_features_df.index.tolist()"
   ]
  },
  {
   "cell_type": "code",
   "execution_count": 16,
   "id": "d0882dfb-428c-405d-aca8-c43d1f6e52e1",
   "metadata": {},
   "outputs": [],
   "source": [
    "top_features_df = feature_imp_df[\"average_importance\"].nlargest(int(feature_imp_df.shape[0] * 0.9))\n",
    "top_features = top_features_df.index.tolist()"
   ]
  },
  {
   "cell_type": "code",
   "execution_count": 20,
   "id": "1a0530d2-811a-48a0-a799-665f6daa4213",
   "metadata": {},
   "outputs": [
    {
     "data": {
      "text/plain": [
       "avg         117\n",
       "last        111\n",
       "max          90\n",
       "velocity     86\n",
       "range        76\n",
       "first        71\n",
       "min          68\n",
       "speed        68\n",
       "dummy         1\n",
       "dtype: int64"
      ]
     },
     "execution_count": 20,
     "metadata": {},
     "output_type": "execute_result"
    }
   ],
   "source": [
    "pd.Series([f.split(\"_\")[-1] for f in top_features]).value_counts()"
   ]
  },
  {
   "cell_type": "code",
   "execution_count": 89,
   "id": "2632739b-8fe2-411e-9326-6bca48968fa3",
   "metadata": {},
   "outputs": [],
   "source": [
    "pd.Series(top_features, name=\"feature\").to_csv(\"top_features.csv\", index=False)"
   ]
  },
  {
   "cell_type": "code",
   "execution_count": 67,
   "id": "602bd897-d694-4954-8095-0d69e5ad0ceb",
   "metadata": {},
   "outputs": [],
   "source": [
    "# used_features = set(feature_imp_df.index.tolist())"
   ]
  },
  {
   "cell_type": "code",
   "execution_count": 61,
   "id": "9ebba153-ab68-44ce-b05c-87e6bfd347e5",
   "metadata": {},
   "outputs": [],
   "source": [
    "mean_features = pad_column_name(MEAN_FEATURES, suffix=\"_avg\")\n",
    "min_features = pad_column_name(MIN_FEATURES, suffix=\"_min\")\n",
    "max_features = pad_column_name(MAX_FEATURES, suffix=\"_max\")\n",
    "last_features = pad_column_name(LAST_FEATURES, suffix=\"_last\")\n",
    "first_features = pad_column_name(FIRST_FEATURES, suffix=\"_first\")"
   ]
  },
  {
   "cell_type": "code",
   "execution_count": 62,
   "id": "f02e5b90-8f6d-4174-9b06-76b80ddbf1f9",
   "metadata": {},
   "outputs": [],
   "source": [
    "range_features = pad_column_name(RANGE_FEATURES, suffix=\"_range\")\n",
    "velocity_features = pad_column_name(VELOCITY_FEATURES, suffix=\"_velocity\")\n",
    "speed_features = pad_column_name(SPEED_FEATURES, suffix=\"_speed\")"
   ]
  },
  {
   "cell_type": "code",
   "execution_count": 63,
   "id": "339897ee-bc82-43c8-aac1-412dd262706b",
   "metadata": {},
   "outputs": [],
   "source": [
    "all_features = (\n",
    "    mean_features + min_features + max_features + last_features + first_features\n",
    "    + range_features + velocity_features + speed_features\n",
    ")"
   ]
  },
  {
   "cell_type": "code",
   "execution_count": 64,
   "id": "5a94a8cd-95a3-4c5c-aa89-6dd5b0d78bfa",
   "metadata": {},
   "outputs": [
    {
     "data": {
      "text/plain": [
       "772"
      ]
     },
     "execution_count": 64,
     "metadata": {},
     "output_type": "execute_result"
    }
   ],
   "source": [
    "len(all_features)"
   ]
  },
  {
   "cell_type": "code",
   "execution_count": 65,
   "id": "8d7b86a0-f80b-497a-b608-f4aa6ec6fba7",
   "metadata": {},
   "outputs": [
    {
     "data": {
      "text/plain": [
       "set()"
      ]
     },
     "execution_count": 65,
     "metadata": {},
     "output_type": "execute_result"
    }
   ],
   "source": [
    "set(top_features) - set(all_features)"
   ]
  },
  {
   "cell_type": "code",
   "execution_count": 71,
   "id": "5d8a5d06-7aa5-426e-a055-985e784cda20",
   "metadata": {},
   "outputs": [
    {
     "data": {
      "text/plain": [
       "152"
      ]
     },
     "execution_count": 71,
     "metadata": {},
     "output_type": "execute_result"
    }
   ],
   "source": []
  },
  {
   "cell_type": "code",
   "execution_count": 72,
   "id": "94e81baa-08f3-4718-9b0c-852c43d079cd",
   "metadata": {},
   "outputs": [
    {
     "data": {
      "text/plain": [
       "['D_46_last',\n",
       " 'D_43_last',\n",
       " 'S_3_last',\n",
       " 'D_43_avg',\n",
       " 'P_3_last',\n",
       " 'P_2_last',\n",
       " 'D_48_velocity',\n",
       " 'D_43_max',\n",
       " 'D_46_min',\n",
       " 'S_3_avg',\n",
       " 'B_5_last',\n",
       " 'D_48_last',\n",
       " 'D_46_avg',\n",
       " 'P_3_min',\n",
       " 'R_27_min',\n",
       " 'P_3_max',\n",
       " 'B_3_last',\n",
       " 'D_43_min',\n",
       " 'D_48_range',\n",
       " 'D_52_speed',\n",
       " 'D_62_min',\n",
       " 'S_9_avg',\n",
       " 'R_27_avg',\n",
       " 'D_46_max',\n",
       " 'D_43_range',\n",
       " 'R_27_max',\n",
       " 'D_46_first',\n",
       " 'P_2_avg',\n",
       " 'D_77_range',\n",
       " 'P_2_min',\n",
       " 'R_27_first',\n",
       " 'B_17_last',\n",
       " 'R_27_range',\n",
       " 'D_144_speed',\n",
       " 'S_9_min',\n",
       " 'S_3_min',\n",
       " 'S_7_last',\n",
       " 'R_27_last',\n",
       " 'D_48_speed',\n",
       " 'P_2_velocity',\n",
       " 'D_144_first',\n",
       " 'D_55_speed',\n",
       " 'D_43_first',\n",
       " 'D_62_speed',\n",
       " 'S_3_range',\n",
       " 'S_3_first',\n",
       " 'D_46_range',\n",
       " 'P_3_avg',\n",
       " 'P_2_first',\n",
       " 'S_7_avg',\n",
       " 'P_3_range',\n",
       " 'S_9_last',\n",
       " 'D_52_velocity',\n",
       " 'S_12_avg',\n",
       " 'S_7_min',\n",
       " 'R_1_last',\n",
       " 'P_3_first',\n",
       " 'D_121_velocity',\n",
       " 'P_2_speed',\n",
       " 'B_4_last',\n",
       " 'D_61_last',\n",
       " 'D_61_speed',\n",
       " 'S_12_min',\n",
       " 'D_62_velocity',\n",
       " 'D_133_first',\n",
       " 'R_27_velocity',\n",
       " 'D_144_velocity',\n",
       " 'D_102_velocity',\n",
       " 'D_77_min',\n",
       " 'S_7_max',\n",
       " 'D_61_velocity',\n",
       " 'B_17_max',\n",
       " 'S_3_max',\n",
       " 'D_61_max',\n",
       " 'B_17_avg',\n",
       " 'P_2_max',\n",
       " 'D_55_velocity',\n",
       " 'D_48_max',\n",
       " 'D_117_last',\n",
       " 'D_102_speed',\n",
       " 'B_17_min',\n",
       " 'B_17_range',\n",
       " 'S_27_max',\n",
       " 'B_2_last',\n",
       " 'B_4_velocity',\n",
       " 'D_47_last',\n",
       " 'B_11_last',\n",
       " 'D_69_last',\n",
       " 'R_3_velocity',\n",
       " 'D_62_last',\n",
       " 'S_12_last',\n",
       " 'R_27_speed',\n",
       " 'D_121_first',\n",
       " 'S_7_velocity',\n",
       " 'D_102_first',\n",
       " 'S_25_first',\n",
       " 'S_27_last',\n",
       " 'B_13_velocity',\n",
       " 'D_62_first',\n",
       " 'D_69_max',\n",
       " 'S_25_last',\n",
       " 'S_3_speed',\n",
       " 'R_1_avg',\n",
       " 'D_77_max',\n",
       " 'S_7_range',\n",
       " 'D_133_speed',\n",
       " 'B_21_avg',\n",
       " 'B_3_speed',\n",
       " 'S_7_first',\n",
       " 'D_61_range',\n",
       " 'B_26_first',\n",
       " 'D_119_speed',\n",
       " 'D_118_speed',\n",
       " 'D_62_avg',\n",
       " 'D_48_first',\n",
       " 'D_69_avg',\n",
       " 'B_9_last',\n",
       " 'D_117_first',\n",
       " 'S_25_max',\n",
       " 'D_69_min',\n",
       " 'B_27_first',\n",
       " 'D_133_velocity',\n",
       " 'D_121_avg',\n",
       " 'S_27_min',\n",
       " 'S_23_last',\n",
       " 'D_115_speed',\n",
       " 'D_105_max',\n",
       " 'D_121_min',\n",
       " 'D_39_velocity',\n",
       " 'D_69_first',\n",
       " 'S_7_speed',\n",
       " 'B_4_max',\n",
       " 'D_69_velocity',\n",
       " 'S_26_avg',\n",
       " 'P_2_range',\n",
       " 'B_21_last',\n",
       " 'S_9_range',\n",
       " 'B_13_speed',\n",
       " 'B_24_last',\n",
       " 'D_47_max',\n",
       " 'S_5_last',\n",
       " 'B_27_last',\n",
       " 'D_133_max',\n",
       " 'S_11_avg',\n",
       " 'D_121_last',\n",
       " 'B_40_range',\n",
       " 'D_47_avg',\n",
       " 'S_16_first',\n",
       " 'S_19_last',\n",
       " 'D_48_min',\n",
       " 'S_26_first',\n",
       " 'D_55_last']"
      ]
     },
     "execution_count": 72,
     "metadata": {},
     "output_type": "execute_result"
    }
   ],
   "source": [
    "top_features"
   ]
  },
  {
   "cell_type": "code",
   "execution_count": null,
   "id": "8eda9cc5-cfa8-42f5-96b5-7047ff7ec099",
   "metadata": {},
   "outputs": [],
   "source": [
    "feature_imp_df = feature_imp_df.loc[feature_imp_df[\"average_importance\"] > 0]\n",
    "feature_imp_subset = feature_imp_df.loc[feature_imp_df[\"average_importance\"] > 200].reset_index()"
   ]
  },
  {
   "cell_type": "code",
   "execution_count": null,
   "id": "74dfc558-6548-406e-9d8f-d2637a6ff2ac",
   "metadata": {},
   "outputs": [],
   "source": [
    "# feature_imp_subset.loc[feature_imp_subset[\"feature\"].str.contains(\"last\")].sort_values(\"feature\")"
   ]
  },
  {
   "cell_type": "code",
   "execution_count": null,
   "id": "20e3c612-be92-40d2-aa71-f9d8287b63c7",
   "metadata": {},
   "outputs": [],
   "source": [
    "t = feature_imp_subset.copy()"
   ]
  },
  {
   "cell_type": "code",
   "execution_count": null,
   "id": "f9b944ef-8ae2-4ab6-be98-ab63a7958a5a",
   "metadata": {},
   "outputs": [],
   "source": [
    "t.loc[t[\"feature\"] == \"D_128_first\"]"
   ]
  },
  {
   "cell_type": "code",
   "execution_count": null,
   "id": "814a06c2-d860-4e4b-a16a-7214db73c6ba",
   "metadata": {},
   "outputs": [],
   "source": [
    "# feature_imp_df.index.tolist()"
   ]
  },
  {
   "cell_type": "code",
   "execution_count": null,
   "id": "5c5235a0-ce8b-4749-b271-0b838402e880",
   "metadata": {},
   "outputs": [],
   "source": [
    "feature_list = feature_imp_df.index.tolist()\n",
    "len(feature_list)"
   ]
  },
  {
   "cell_type": "code",
   "execution_count": null,
   "id": "98a4b8da-5ae8-46b5-8a80-72d71e1701bf",
   "metadata": {},
   "outputs": [],
   "source": [
    "temp_train_val = train_val.copy()\n",
    "for i, indices in enumerate(validation_indices):\n",
    "    temp_model = models[i]\n",
    "    temp_val = temp_train_val.loc[indices, temp_model.feature_name_]\n",
    "    temp_train_val.loc[indices, \"score\"] = temp_model.predict_proba(temp_val, raw_score=True)\n",
    "original_score = amex_metric(temp_train_val[\"target\"], temp_train_val[\"score\"])"
   ]
  },
  {
   "cell_type": "code",
   "execution_count": null,
   "id": "159b041e-77e2-4213-b55e-f5769eb12c9d",
   "metadata": {},
   "outputs": [],
   "source": [
    "original_score"
   ]
  },
  {
   "cell_type": "code",
   "execution_count": null,
   "id": "748e0a3f-7b9a-4240-b41b-15815086cea3",
   "metadata": {},
   "outputs": [],
   "source": []
  },
  {
   "cell_type": "code",
   "execution_count": null,
   "id": "7b47ab69-3907-407c-8d28-cbf8b23a6714",
   "metadata": {},
   "outputs": [],
   "source": [
    "simulated_score_list = []\n",
    "for feature in feature_list[::-1]:\n",
    "    temp_train_val = train_val.copy()\n",
    "    temp_train_val[feature] = np.nan\n",
    "    for i, indices in enumerate(validation_indices):\n",
    "        temp_model = models[i]\n",
    "        temp_val = temp_train_val.loc[indices, temp_model.feature_name_]\n",
    "        temp_train_val.loc[indices, \"score\"] = temp_model.predict_proba(temp_val, raw_score=True)\n",
    "    simulated_score = amex_metric(temp_train_val[\"target\"], temp_train_val[\"score\"])\n",
    "    simulated_score_list.append(simulated_score)\n",
    "    if simulated_score >= original_score:\n",
    "        sign = \"+\"\n",
    "    else:\n",
    "        sign = \"\"\n",
    "    if abs(simulated_score - original_score) >= 1e-4:\n",
    "        print(feature, f\" {sign}{(simulated_score - original_score):.4f}\")\n",
    "    print(f\"{feature} done\")\n",
    "    del temp_train_val\n",
    "    gc.collect()"
   ]
  },
  {
   "cell_type": "code",
   "execution_count": null,
   "id": "158e9b14-0ab4-4c88-b3c7-cf18a632f03f",
   "metadata": {},
   "outputs": [],
   "source": [
    "def process_test_data(df):\n",
    "    last_df = df.loc[df[\"row_number\"] == 1]\n",
    "    last_df = last_df.set_index(\"customer_ID\")\n",
    "    last_df = last_df.iloc[:, 3:]\n",
    "    last_df = last_df.rename(columns={f: f\"{f}_last\" for f in last_df.columns})\n",
    "    gc.collect()\n",
    "    \n",
    "    first_df = df.loc[df[\"row_number_inv\"] == 1]\n",
    "    first_df = first_df.set_index(\"customer_ID\")\n",
    "    first_df = first_df.iloc[:, 3:]\n",
    "    first_df = first_df.rename(columns={f: f\"{f}_first\" for f in first_df.columns})\n",
    "    gc.collect()\n",
    "    \n",
    "    cid = pd.Categorical(df.pop('customer_ID'), ordered=True)\n",
    "    last = (cid != np.roll(cid, -1)) # mask for last statement of every customer\n",
    "    first = (cid != np.roll(cid, 0))\n",
    "    numeric_columns = set(df.select_dtypes((\"float32\", \"int8\", \"int16\")).columns.tolist()) - set(CATEGORY_COLUMNS)\n",
    "    all_columns = numeric_columns.union(CATEGORY_COLUMNS)\n",
    "    \n",
    "    avg = (df\n",
    "      .groupby(cid)\n",
    "      .mean()[numeric_columns]\n",
    "      .rename(columns={f: f\"{f}_avg\" for f in numeric_columns})\n",
    "    )\n",
    "    gc.collect()\n",
    "    \n",
    "    min_ = (df\n",
    "      .groupby(cid)\n",
    "      .min()[numeric_columns]\n",
    "      .rename(columns={f: f\"{f}_min\" for f in numeric_columns})\n",
    "    )\n",
    "    gc.collect()\n",
    "    \n",
    "    max_ = (df\n",
    "      .groupby(cid)\n",
    "      .max()[numeric_columns]\n",
    "      .rename(columns={f: f\"{f}_max\" for f in numeric_columns})\n",
    "    )\n",
    "    gc.collect()\n",
    "    \n",
    "    all_df = pd.concat(\n",
    "        [\n",
    "            avg, \n",
    "            min_, \n",
    "            max_, \n",
    "            last_df, \n",
    "            first_df\n",
    "        ], \n",
    "        axis=1\n",
    "    )\n",
    "    \n",
    "    del avg, min_, max_, last_df, first_df\n",
    "    for col in tqdm(numeric_columns):\n",
    "        all_df[f\"{col}_range\"] = all_df[f\"{col}_max\"] - all_df[f\"{col}_min\"]\n",
    "        all_df[f\"{col}_speed\"] = all_df[f\"{col}_last\"] - all_df[f\"{col}_first\"]\n",
    "        all_df[f\"{col}_velocity\"] = all_df[f\"{col}_speed\"] / (all_df[f\"{col}_range\"] + all_df[f\"{col}_avg\"])\n",
    "        \n",
    "    # first_to_drop = [col for col in train.columns if col.endswith(\"_first\") and col.replace(\"_first\", \"\") not in FIRST_FEATURES]\n",
    "    # train = train.drop(columns=first_to_drop, errors=\"ignore\")\n",
    "    # range_to_drop = [col for col in train.columns if col.endswith(\"_range\") and col.replace(\"_range\", \"\") not in RANGE_FEATURES]\n",
    "    # train = train.drop(columns=range_to_drop, errors=\"ignore\")\n",
    "    # speed_to_drop = [col for col in train.columns if col.endswith(\"_speed\") and col.replace(\"_speed\", \"\") not in SPEED_FEATURES]\n",
    "    # train = train.drop(columns=speed_to_drop, errors=\"ignore\")\n",
    "    # velocity_to_drop = [col for col in train.columns if col.endswith(\"_velocity\") and col.replace(\"_velocity\", \"\") not in VELOCITY_FEATURES]\n",
    "    # train = train.drop(columns=velocity_to_drop, errors=\"ignore\")\n",
    "    return all_df"
   ]
  },
  {
   "cell_type": "code",
   "execution_count": null,
   "id": "aca2cb08-51d6-42f3-9ee1-cda1606e83dc",
   "metadata": {},
   "outputs": [],
   "source": [
    "test = read_file(f\"{RAW_TEST_PICKLE_PATH}/test_data.pkl\")"
   ]
  },
  {
   "cell_type": "code",
   "execution_count": null,
   "id": "b2e53cce-feee-41ae-a8d0-1c2007febbab",
   "metadata": {},
   "outputs": [],
   "source": [
    "test.loc[test[\"row_number\"] > 12]"
   ]
  },
  {
   "cell_type": "code",
   "execution_count": null,
   "id": "da150098-cada-48c8-9fc4-ccbfe0857abc",
   "metadata": {},
   "outputs": [],
   "source": [
    "test_agg = process_test_data(test)"
   ]
  },
  {
   "cell_type": "code",
   "execution_count": null,
   "id": "47c7cf21-36b7-4607-a9e9-748bacd23de4",
   "metadata": {},
   "outputs": [],
   "source": [
    "test_agg.head()"
   ]
  },
  {
   "cell_type": "code",
   "execution_count": null,
   "id": "3cbc7df4-5666-4a0c-95ab-18df2ed115e1",
   "metadata": {},
   "outputs": [],
   "source": [
    "del test"
   ]
  },
  {
   "cell_type": "code",
   "execution_count": null,
   "id": "00432188-0a06-4b1d-bd5f-ff5439d3e718",
   "metadata": {},
   "outputs": [],
   "source": [
    "for i, model in enumerate(models.values()):\n",
    "    model_input = test_agg.loc[:, model.feature_name_]\n",
    "    test_agg.loc[:, f\"score{i}\"] = model.predict_proba(model_input, raw_score=True)"
   ]
  },
  {
   "cell_type": "code",
   "execution_count": null,
   "id": "9050bee9-2e18-4a3c-9b01-a8aa722f9b02",
   "metadata": {},
   "outputs": [],
   "source": [
    "test_agg.head()"
   ]
  },
  {
   "cell_type": "code",
   "execution_count": 31,
   "id": "43a5797b-2f7a-4107-9dd4-03652f1acf73",
   "metadata": {},
   "outputs": [],
   "source": [
    "new_result_sub = pd.read_csv(f\"{SUBMISSION_DATA_PATH}/submission19_0.796.csv\")"
   ]
  },
  {
   "cell_type": "code",
   "execution_count": 32,
   "id": "c098854d-9975-4268-8567-ff70bb2bd8c4",
   "metadata": {},
   "outputs": [],
   "source": [
    "old_result_sub = pd.read_csv(f\"{SUBMISSION_DATA_PATH}/submission17_0.796.csv\")"
   ]
  },
  {
   "cell_type": "code",
   "execution_count": 33,
   "id": "475e4b55-622c-443a-a33e-14d7dec65b0f",
   "metadata": {},
   "outputs": [
    {
     "data": {
      "text/plain": [
       "<matplotlib.collections.PathCollection at 0x295121e40>"
      ]
     },
     "execution_count": 33,
     "metadata": {},
     "output_type": "execute_result"
    },
    {
     "data": {
      "image/png": "[encoded data removed]",
      "text/plain": [
       "<Figure size 432x288 with 1 Axes>"
      ]
     },
     "metadata": {
      "needs_background": "light"
     },
     "output_type": "display_data"
    }
   ],
   "source": [
    "plt.scatter(old_result_sub[\"prediction\"], new_result_sub[\"prediction\"])"
   ]
  },
  {
   "cell_type": "code",
   "execution_count": 34,
   "id": "b46d0936-652c-4150-9ad0-f6bbf08a1351",
   "metadata": {},
   "outputs": [
    {
     "data": {
      "text/plain": [
       "array([[1.        , 0.99693857],\n",
       "       [0.99693857, 1.        ]])"
      ]
     },
     "execution_count": 34,
     "metadata": {},
     "output_type": "execute_result"
    }
   ],
   "source": [
    "np.corrcoef(old_result_sub[\"prediction\"], new_result_sub[\"prediction\"])"
   ]
  },
  {
   "cell_type": "code",
   "execution_count": 37,
   "id": "498e9e72-6ab7-446a-9ba3-c5db7af4712a",
   "metadata": {},
   "outputs": [],
   "source": [
    "merged_result = new_result_sub.merge(old_result_sub, on=\"customer_ID\", how=\"left\")"
   ]
  },
  {
   "cell_type": "code",
   "execution_count": 40,
   "id": "31e459d2-1b83-42df-8e56-85f2d572a9b6",
   "metadata": {},
   "outputs": [],
   "source": [
    "merged_result[\"x_positive\"] = (merged_result[\"prediction_x\"] >= 0)"
   ]
  },
  {
   "cell_type": "code",
   "execution_count": 41,
   "id": "1e4e58e3-43f3-4e3f-9071-03f4b97122ec",
   "metadata": {},
   "outputs": [],
   "source": [
    "merged_result[\"y_positive\"] = (merged_result[\"prediction_y\"] >= 0)"
   ]
  },
  {
   "cell_type": "code",
   "execution_count": 44,
   "id": "0b34e330-4e6b-4fc7-b318-2289fe0f59f8",
   "metadata": {},
   "outputs": [
    {
     "data": {
      "text/plain": [
       "(244720, 5)"
      ]
     },
     "execution_count": 44,
     "metadata": {},
     "output_type": "execute_result"
    }
   ],
   "source": []
  },
  {
   "cell_type": "code",
   "execution_count": 51,
   "id": "c919dcc9-3bb9-488a-92f1-65142b14980d",
   "metadata": {},
   "outputs": [],
   "source": [
    "neg_neg_indices = merged_result.loc[(~merged_result[\"x_positive\"]) & (~merged_result[\"y_positive\"])].index"
   ]
  },
  {
   "cell_type": "code",
   "execution_count": 57,
   "id": "5a2c13b5-e2ea-4efd-9878-3e994c0f9f2d",
   "metadata": {},
   "outputs": [],
   "source": [
    "merged_result.loc[neg_neg_indices, \"prediction\"] = merged_result.loc[neg_neg_indices, :].min(axis=1)"
   ]
  },
  {
   "cell_type": "code",
   "execution_count": 58,
   "id": "b08bd592-dc45-44c5-b724-20356e5963ab",
   "metadata": {},
   "outputs": [],
   "source": [
    "pos_pos_indices = merged_result.loc[(merged_result[\"x_positive\"]) & (merged_result[\"y_positive\"])].index"
   ]
  },
  {
   "cell_type": "code",
   "execution_count": 59,
   "id": "253d0f80-3055-4405-8300-7149d8c47605",
   "metadata": {},
   "outputs": [],
   "source": [
    "merged_result.loc[pos_pos_indices, \"prediction\"] = merged_result.loc[pos_pos_indices, :].max(axis=1)"
   ]
  },
  {
   "cell_type": "code",
   "execution_count": 72,
   "id": "f6e96911-4a57-4512-93b5-85435df0e7ab",
   "metadata": {},
   "outputs": [
    {
     "data": {
      "text/plain": [
       "0"
      ]
     },
     "execution_count": 72,
     "metadata": {},
     "output_type": "execute_result"
    }
   ],
   "source": [
    "merged_result[\"prediction\"].isnull().sum()"
   ]
  },
  {
   "cell_type": "code",
   "execution_count": 71,
   "id": "4060abeb-c2ea-446f-b51b-67730ac5e3df",
   "metadata": {},
   "outputs": [],
   "source": [
    "merged_result.loc[merged_result[\"prediction\"].isnull(), \"prediction\"] = \\\n",
    "(merged_result.loc[merged_result[\"prediction\"].isnull(), \"prediction_x\"] + \\\n",
    "merged_result.loc[merged_result[\"prediction\"].isnull(), \"prediction_y\"]) / 2"
   ]
  },
  {
   "cell_type": "code",
   "execution_count": 76,
   "id": "4369ff32-61cd-4333-a552-cc27a02ca5bf",
   "metadata": {},
   "outputs": [],
   "source": [
    "merged_result = merged_result.drop(columns=[\"prediction_x\", \"prediction_y\", \"x_positive\", \"y_positive\"])"
   ]
  },
  {
   "cell_type": "code",
   "execution_count": 77,
   "id": "fac615f3-8ea5-4801-b64a-25040c05d8ef",
   "metadata": {},
   "outputs": [],
   "source": [
    "merged_result.to_csv(f\"{SUBMISSION_DATA_PATH}/submission23.csv\", index=False)"
   ]
  },
  {
   "cell_type": "code",
   "execution_count": null,
   "id": "00da3372-3ddc-4f18-bc12-c9af2fe87fe9",
   "metadata": {},
   "outputs": [],
   "source": []
  },
  {
   "cell_type": "code",
   "execution_count": 20,
   "id": "bb5a0052-3017-4a28-b2a3-369a811255df",
   "metadata": {},
   "outputs": [],
   "source": [
    "new_result_sub[\"prediction\"] = np.max([new_result_sub[\"prediction\"].values, old_result_sub[\"prediction\"].values], axis=0)"
   ]
  },
  {
   "cell_type": "code",
   "execution_count": 27,
   "id": "bbd2b6f8-52cb-4ac8-b0f1-b51725f6e5ec",
   "metadata": {},
   "outputs": [],
   "source": [
    "new_result_sub[\"prediction\"] += old_result_sub[\"prediction\"]"
   ]
  },
  {
   "cell_type": "code",
   "execution_count": 28,
   "id": "54b939aa-6eea-46b4-b5f5-f0cf005a8e01",
   "metadata": {},
   "outputs": [],
   "source": [
    "new_result_sub[\"prediction\"] /= 2"
   ]
  },
  {
   "cell_type": "code",
   "execution_count": 30,
   "id": "be0884cb-d299-44f6-97d6-2bd1af32ee4f",
   "metadata": {},
   "outputs": [],
   "source": [
    "new_result_sub.to_csv(f\"{SUBMISSION_DATA_PATH}/submission22.csv\", index=False)"
   ]
  },
  {
   "cell_type": "code",
   "execution_count": null,
   "id": "b4e53b25-dd12-44b0-ada2-af4b9e005cf6",
   "metadata": {},
   "outputs": [],
   "source": [
    "result_sub = test_agg.loc[:, [c for c in test_agg.columns if c.startswith(\"score\")]].mean(axis=1).reset_index()"
   ]
  },
  {
   "cell_type": "code",
   "execution_count": null,
   "id": "cafc84f8-7dfa-4917-86ea-3848cab07849",
   "metadata": {},
   "outputs": [],
   "source": [
    "result_sub.columns = [\"customer_ID\", \"prediction\"]"
   ]
  },
  {
   "cell_type": "code",
   "execution_count": null,
   "id": "d2230bf7-95e6-4c06-add1-6a465a7ab16a",
   "metadata": {},
   "outputs": [],
   "source": [
    "result_sub.to_csv(\"submission20.csv\", index=False)"
   ]
  },
  {
   "cell_type": "code",
   "execution_count": null,
   "id": "9d4433d5-5173-48da-bd65-58a886d0e631",
   "metadata": {},
   "outputs": [],
   "source": [
    "single_record_index = test_agg.loc[test_agg[\"num_records\"] == 1].index.tolist()"
   ]
  },
  {
   "cell_type": "code",
   "execution_count": null,
   "id": "210c491c-e001-44c3-adb3-f203f9bb1fe4",
   "metadata": {},
   "outputs": [],
   "source": [
    "final_df13 = pd.read_csv(f\"{SUBMISSION_DATA_PATH}/submission13_0.796.csv\")\n",
    "final_df13[\"prediction_13\"] = sigmoid(final_df13[\"prediction\"])\n",
    "final_df13 = final_df13.drop(columns=\"prediction\")"
   ]
  },
  {
   "cell_type": "code",
   "execution_count": null,
   "id": "8b6081fe-a2e3-4d68-94d2-452c486fc565",
   "metadata": {},
   "outputs": [],
   "source": [
    "final_df16 = pd.read_csv(f\"{SUBMISSION_DATA_PATH}/submission16_0.782.csv\")\n",
    "final_df16[\"prediction_16\"] = sigmoid(final_df16[\"prediction\"])\n",
    "final_df16 = final_df16.drop(columns=\"prediction\")"
   ]
  },
  {
   "cell_type": "code",
   "execution_count": null,
   "id": "3bcfc991-a1e8-4a5f-b136-5d45a0137ac2",
   "metadata": {},
   "outputs": [],
   "source": [
    "mega_df = final_df13.merge(final_df16, on=\"customer_ID\", how=\"left\")"
   ]
  },
  {
   "cell_type": "code",
   "execution_count": null,
   "id": "5b14c35f-df5b-4ba0-aba2-986ecfe8ed30",
   "metadata": {},
   "outputs": [],
   "source": [
    "mega_df.loc[:, \"prediction\"] = (\n",
    "    mega_df.loc[:, \"prediction_16\"] * 0.1 \\\n",
    "    + mega_df.loc[:, \"prediction_13\"] * 0.9\n",
    ")"
   ]
  },
  {
   "cell_type": "code",
   "execution_count": null,
   "id": "4b3e0943-6ad1-4233-8723-97514f0375f6",
   "metadata": {},
   "outputs": [],
   "source": [
    "mega_df.loc[single_record_index, \"prediction\"] = (\n",
    "    mega_df.loc[single_record_index, \"prediction_16\"] * 0.8 \\\n",
    "    + mega_df.loc[single_record_index, \"prediction_13\"] * 0.2\n",
    ")"
   ]
  },
  {
   "cell_type": "code",
   "execution_count": null,
   "id": "d9788303-5207-490c-8365-97ae5fefc5f9",
   "metadata": {},
   "outputs": [],
   "source": [
    "mega_df = mega_df.drop(columns=[\"prediction_13\", \"prediction_16\"])"
   ]
  },
  {
   "cell_type": "code",
   "execution_count": null,
   "id": "d98d6c65-7208-4d3a-9690-1ab201c68843",
   "metadata": {},
   "outputs": [],
   "source": [
    "mega_df[\"prediction\"] = 0.55 * mega_df[\"prediction_x\"] + 0.45 * mega_df[\"prediction_y\"]\n",
    "mega_df = mega_df.drop(columns=[\"prediction_x\", \"prediction_y\"])"
   ]
  },
  {
   "cell_type": "code",
   "execution_count": null,
   "id": "93046afe-1096-450a-96f0-961064442cf8",
   "metadata": {},
   "outputs": [],
   "source": [
    "mega_df.to_csv(f\"{SUBMISSION_DATA_PATH}/submission18.csv\", index=False)"
   ]
  },
  {
   "cell_type": "markdown",
   "id": "3885beac-e245-43b6-a2cc-73e9f871d132",
   "metadata": {},
   "source": [
    "### Read Data"
   ]
  },
  {
   "cell_type": "code",
   "execution_count": null,
   "id": "731a013f-258f-49c1-b4e2-4c5fa0735d71",
   "metadata": {},
   "outputs": [],
   "source": [
    "df = read_file(f\"{RAW_TEST_PARQUET_PATH}/test_data5.parquet\")"
   ]
  },
  {
   "cell_type": "code",
   "execution_count": null,
   "id": "8de42a8f-1cb1-4f24-92d1-04bc19863d03",
   "metadata": {},
   "outputs": [],
   "source": [
    "df.columns"
   ]
  },
  {
   "cell_type": "code",
   "execution_count": null,
   "id": "3a5f1774-6e26-45ee-91c2-9980e05240ce",
   "metadata": {},
   "outputs": [],
   "source": [
    "df[\"day_of_week\"] = df[\"S_2\"].dt.day_of_week.astype(\"category\")\n",
    "df[\"D_66\"] = df[\"D_66\"].fillna(0)\n",
    "df[\"D_116\"] = df[\"D_116\"].fillna(0)"
   ]
  },
  {
   "cell_type": "code",
   "execution_count": null,
   "id": "65efc8ae-8b61-4ddc-b749-eee6ab082a01",
   "metadata": {},
   "outputs": [],
   "source": [
    "df.loc[:, CATEGORY_COLUMNS] = df.loc[:, CATEGORY_COLUMNS].astype(str).astype(\"category\")"
   ]
  },
  {
   "cell_type": "code",
   "execution_count": null,
   "id": "29255130-f846-4925-a7e5-ae976cbb40ed",
   "metadata": {},
   "outputs": [],
   "source": [
    "df[\"row_number\"] = df.groupby(\"customer_ID\")[\"S_2\"].rank(method=\"first\", ascending=False).astype(int)"
   ]
  },
  {
   "cell_type": "code",
   "execution_count": null,
   "id": "b7248d44-5aa4-4c87-b206-9e1bb79a9ad2",
   "metadata": {},
   "outputs": [],
   "source": [
    "df_list = []\n",
    "for row in range(1, 4):\n",
    "    df_subset = df.loc[df[\"row_number\"] == row]\n",
    "    result = pd.DataFrame(df_subset[\"customer_ID\"].values.tolist(), columns=[\"customer_ID\"])\n",
    "    for i in tqdm(range(1, 6)):\n",
    "        lgbm_clf = joblib.load(f\"{MODELS_PATH}/lag{row}_models/model_{i}.pkl\")\n",
    "        result[f\"raw_score{i}\"] = lgbm_clf.predict_proba(df_subset.loc[:, lgbm_clf.feature_name_], raw_score=True)\n",
    "    result[f\"model_{row}\"] = result[[f\"raw_score{k}\" for k in range(1, 6)]].mean(axis=1)\n",
    "    df_list.append(result.drop(columns=[f\"raw_score{k}\" for k in range(1, 6)]))"
   ]
  },
  {
   "cell_type": "code",
   "execution_count": null,
   "id": "aac1cffa-2211-4e1c-a6c4-b323111abdf6",
   "metadata": {},
   "outputs": [],
   "source": [
    "final_df5 = df_list[0].merge(\n",
    "    df_list[1], on=\"customer_ID\", how=\"left\"\n",
    ").merge(\n",
    "    df_list[2], on=\"customer_ID\", how=\"left\"\n",
    ")"
   ]
  },
  {
   "cell_type": "code",
   "execution_count": null,
   "id": "c5724717-2386-4529-a585-9aebe7e2bd7a",
   "metadata": {},
   "outputs": [],
   "source": [
    "final_df = pd.concat([final_df1, final_df2, final_df3, final_df4, final_df5], ignore_index=True)\n",
    "del final_df1, final_df2, final_df3, final_df4, final_df5"
   ]
  },
  {
   "cell_type": "code",
   "execution_count": null,
   "id": "4aef04c4-8907-4f75-9cb6-7deeefa052f6",
   "metadata": {},
   "outputs": [],
   "source": [
    "final_df.shape"
   ]
  },
  {
   "cell_type": "code",
   "execution_count": null,
   "id": "ce14cf59-0948-48c4-8e90-51aac5917c34",
   "metadata": {},
   "outputs": [],
   "source": [
    "# final_df.to_csv(f\"{EVALUATION_DATA_PATH}/3_lag_models_test_raw_score.csv\", index=False)"
   ]
  },
  {
   "cell_type": "code",
   "execution_count": null,
   "id": "b9e18d32-5c93-41ed-80ed-ffcedddfdf61",
   "metadata": {},
   "outputs": [],
   "source": [
    "final_df = pd.read_csv(f\"{EVALUATION_DATA_PATH}/3_lag_models_test_raw_score.csv\")"
   ]
  },
  {
   "cell_type": "code",
   "execution_count": null,
   "id": "c35d09d1-d88a-4e58-914b-2d378b070d24",
   "metadata": {},
   "outputs": [],
   "source": [
    "for i in range(1, 4):\n",
    "    final_df[f\"model_{i}\"] = sigmoid(final_df[f\"model_{i}\"])"
   ]
  },
  {
   "cell_type": "code",
   "execution_count": null,
   "id": "8659702b-5cfa-4e4c-ae55-76fa73ea6b0a",
   "metadata": {},
   "outputs": [],
   "source": [
    "all3 = final_df.loc[~final_df[\"model_3\"].isnull()]"
   ]
  },
  {
   "cell_type": "code",
   "execution_count": null,
   "id": "d3b3b621-26f2-482c-baaa-df8d910aff60",
   "metadata": {},
   "outputs": [],
   "source": [
    "all3[\"prediction\"] = 1.2 * all3[\"model_1\"] + (-0.1) * all3[\"model_2\"] + (-0.1) * all3[\"model_3\"]"
   ]
  },
  {
   "cell_type": "code",
   "execution_count": null,
   "id": "67a6a676-0593-4764-8e8f-6787db84abf9",
   "metadata": {},
   "outputs": [],
   "source": [
    "temp = final_df.drop(index=all3.index)\n",
    "just2 = temp.loc[~temp[\"model_2\"].isnull()]"
   ]
  },
  {
   "cell_type": "code",
   "execution_count": null,
   "id": "98213bc6-fc25-4d3a-8d25-c00cea601f90",
   "metadata": {},
   "outputs": [],
   "source": [
    "just2[\"prediction\"] = 1.1 * just2[\"model_1\"] + (-0.1) * just2[\"model_2\"] "
   ]
  },
  {
   "cell_type": "code",
   "execution_count": null,
   "id": "2f5e7461-60f9-43ed-83fc-96b0625269a9",
   "metadata": {},
   "outputs": [],
   "source": [
    "just1 = temp.drop(index=just2.index)"
   ]
  },
  {
   "cell_type": "code",
   "execution_count": null,
   "id": "a5e8cfd2-0306-43e0-8d6b-3b62bed63b3c",
   "metadata": {},
   "outputs": [],
   "source": [
    "just1[\"prediction\"] = just1[\"model_1\"]"
   ]
  },
  {
   "cell_type": "code",
   "execution_count": null,
   "id": "9f986a2f-a681-4b75-9dca-8a4ec8a4f257",
   "metadata": {},
   "outputs": [],
   "source": [
    "submission = pd.concat(\n",
    "    [all3, just2, just1], \n",
    "    ignore_index=True\n",
    ").sort_values(by=\"customer_ID\").loc[:, [\"customer_ID\", \"prediction\"]].reset_index(drop=True)"
   ]
  },
  {
   "cell_type": "code",
   "execution_count": null,
   "id": "1d5273e2-e34d-4fed-90d4-e9451ad6fbfa",
   "metadata": {},
   "outputs": [],
   "source": [
    "submission.to_csv(f\"{SUBMISSION_DATA_PATH}/submission12.csv\", index=False)"
   ]
  },
  {
   "cell_type": "markdown",
   "id": "a7659aa5-f8f7-4020-a4a7-0359c1550afb",
   "metadata": {},
   "source": [
    "### Load Model"
   ]
  },
  {
   "cell_type": "code",
   "execution_count": null,
   "id": "6a0d52a0-1080-4db3-a41f-977ca09dfbaf",
   "metadata": {},
   "outputs": [],
   "source": [
    "result_df_list = []\n",
    "for j in range(1, 6):\n",
    "    test_data = read_file(f\"{PROCESSED_DATA_PATH}/test_agg{j}.parquet\")\n",
    "    for col in test_data.select_dtypes(\"category\").columns:\n",
    "        if col not in [\"D_63_last\", \"D_64_last\"]:\n",
    "            test_data.loc[:, col] = test_data.loc[:, col].astype(float)\\\n",
    "    temp = pd.DataFrame(dict(customer_ID=test_data[\"customer_ID\"]))\n",
    "    for i in tqdm(range(1, 11)):\n",
    "        lgbm_clf = joblib.load(f\"{MODELS_PATH}/lgbm_models/model_{i}.pkl\")\n",
    "        temp[f\"raw_score{i}\"] = lgbm_clf.predict_proba(test_data.loc[:, lgbm_clf.feature_name_], raw_score=True)\n",
    "    result_df_list.append(temp)"
   ]
  },
  {
   "cell_type": "code",
   "execution_count": null,
   "id": "7a960fcf-ca3c-419d-bb92-39242acc6e39",
   "metadata": {},
   "outputs": [],
   "source": [
    "master_df = pd.concat(result_df_list, ignore_index=True)"
   ]
  },
  {
   "cell_type": "code",
   "execution_count": null,
   "id": "cd1f68d9-ab4c-42cd-869b-b673f952e529",
   "metadata": {},
   "outputs": [],
   "source": [
    "master_df[\"prediction\"] = master_df[get_cols(master_df, \"raw_score\")].mean(axis=1)"
   ]
  },
  {
   "cell_type": "code",
   "execution_count": null,
   "id": "4861fc70-b9d5-4d5c-8e0b-b3b54fe5fbfe",
   "metadata": {},
   "outputs": [],
   "source": [
    "master_df[[\"customer_ID\", \"prediction\"]].to_csv(f\"{SUBMISSION_DATA_PATH}/submission9.csv\", index=False)"
   ]
  },
  {
   "cell_type": "code",
   "execution_count": null,
   "id": "f3ae30b6-aa14-48e5-8c61-2367e88cacd7",
   "metadata": {},
   "outputs": [],
   "source": [
    "# master_df.to_csv(f\"{EVALUATION_DATA_PATH}/test_raw_score.csv\", index=False)"
   ]
  },
  {
   "cell_type": "code",
   "execution_count": null,
   "id": "19a819c4-4dee-4fac-89b0-4da0dd626a22",
   "metadata": {},
   "outputs": [],
   "source": [
    "# rule_df = pd.read_csv(f\"{EVALUATION_DATA_PATH}/rule_df.csv\")\n",
    "# exp_top_four_df = master_df.sort_values(by=\"prediction\", ascending=False).iloc[:180000, :]\n",
    "# filter_df = test_data.loc[test_data[\"customer_ID\"].isin(exp_top_four_df[\"customer_ID\"].tolist())]"
   ]
  },
  {
   "cell_type": "code",
   "execution_count": null,
   "id": "30761909-aa6e-4e3c-a408-82536b78d322",
   "metadata": {},
   "outputs": [],
   "source": [
    "for idx, row in rule_df.iterrows():\n",
    "    col, type_, value = row\n",
    "    if col in [\"target\", \"weight\"]:\n",
    "        continue\n",
    "    if type_ == \"Minimum\":\n",
    "        filter_df = filter_df.loc[filter_df[col] >= value]\n",
    "    else:\n",
    "        filter_df = filter_df.loc[filter_df[col] <= value]"
   ]
  },
  {
   "cell_type": "code",
   "execution_count": null,
   "id": "65ce106f-5fbe-42d2-8089-297a888e8c2c",
   "metadata": {},
   "outputs": [],
   "source": [
    "master_df.head()"
   ]
  },
  {
   "cell_type": "code",
   "execution_count": null,
   "id": "454f07a1-021c-4e1b-9f25-28ce56f87ff7",
   "metadata": {},
   "outputs": [],
   "source": [
    "# submission = read_file(f\"{RAW_DATA_PATH}/sample_submission.csv\")"
   ]
  },
  {
   "cell_type": "code",
   "execution_count": null,
   "id": "b5374cbd-a911-4488-ae5e-322aa7e2fa74",
   "metadata": {},
   "outputs": [],
   "source": [
    "submission"
   ]
  },
  {
   "cell_type": "code",
   "execution_count": null,
   "id": "bbd98088-6d3f-48fd-932a-824e2167aa4b",
   "metadata": {},
   "outputs": [],
   "source": [
    "submission = submission.drop(columns=\"prediction\")"
   ]
  },
  {
   "cell_type": "code",
   "execution_count": null,
   "id": "e10c3090-92d3-4cad-92b7-c8d250b78146",
   "metadata": {},
   "outputs": [],
   "source": [
    "result = submission.merge(test_data[[\"customer_ID\", \"prediction\"]], on=\"customer_ID\")"
   ]
  },
  {
   "cell_type": "markdown",
   "id": "6fc921e1-b9ac-4391-8ee5-b75587bbbe6b",
   "metadata": {},
   "source": [
    "### Train Val Split"
   ]
  },
  {
   "cell_type": "code",
   "execution_count": null,
   "id": "9695a902-a0b2-4365-ba90-3fa70ed69844",
   "metadata": {},
   "outputs": [],
   "source": [
    "train, val = train_test_split(train_data, test_size=0.15, random_state=923, stratify=train_data[\"target\"])"
   ]
  },
  {
   "cell_type": "code",
   "execution_count": null,
   "id": "33c79210-4f9a-4500-9ba2-2a61850acd3f",
   "metadata": {},
   "outputs": [],
   "source": [
    "train[\"target\"].mean(), val[\"target\"].mean()"
   ]
  },
  {
   "cell_type": "code",
   "execution_count": null,
   "id": "e8b3d1e4-211b-45f8-b0ef-0af54bc1b6ae",
   "metadata": {},
   "outputs": [],
   "source": [
    "special_columns = ['customer_ID', 'S_2', 'target', \"Date\", \"min_date\", \"max_date\", \"num_records\", \"days\", \"record_per_day\"] \\\n",
    " + get_cols(train_data, \"has\") + get_cols(train_data, \"sign\")"
   ]
  },
  {
   "cell_type": "code",
   "execution_count": null,
   "id": "b8843d38-b099-4dcc-9ca6-7b009c2df109",
   "metadata": {},
   "outputs": [],
   "source": [
    "all_cols = [c for c in train.columns if c not in special_columns]\n",
    "cat_features = train.select_dtypes(\"category\").columns.tolist()\n",
    "num_features = [col for col in all_cols if col not in cat_features]"
   ]
  },
  {
   "cell_type": "code",
   "execution_count": null,
   "id": "b87420d8-41e4-437e-94b3-90902e3d1010",
   "metadata": {},
   "outputs": [],
   "source": [
    "len(all_cols), len(cat_features), len(num_features)"
   ]
  },
  {
   "cell_type": "code",
   "execution_count": null,
   "id": "358300d2-baee-465f-a6cb-98d6d7f8e64b",
   "metadata": {},
   "outputs": [],
   "source": [
    "train.loc[:, num_features] = train.loc[:, num_features].fillna(0)"
   ]
  },
  {
   "cell_type": "code",
   "execution_count": null,
   "id": "46564e53-653f-4ee0-8b7a-f78080f017ce",
   "metadata": {},
   "outputs": [],
   "source": [
    "from imblearn.over_sampling import SMOTE\n",
    "sm = SMOTE(random_state=923)\n",
    "X_res, y_res = sm.fit_resample(train.loc[:, num_features], \n",
    "                               train[\"target\"])"
   ]
  },
  {
   "cell_type": "code",
   "execution_count": null,
   "id": "53c5c2b0-ef4a-408e-8eb8-e2043ec132b5",
   "metadata": {},
   "outputs": [],
   "source": [
    "X_res.shape, y_res.shape"
   ]
  },
  {
   "cell_type": "code",
   "execution_count": null,
   "id": "0eaf02d5-b112-401a-9346-908cb0e61369",
   "metadata": {},
   "outputs": [],
   "source": [
    "X_train = train.loc[:, num_features + cat_features]\n",
    "X_val = val.loc[:, num_features + cat_features]"
   ]
  },
  {
   "cell_type": "code",
   "execution_count": null,
   "id": "3b147ed3-595d-49c9-b6a2-87773d961f92",
   "metadata": {},
   "outputs": [],
   "source": [
    "y_train = train[\"target\"]\n",
    "y_val = val[\"target\"]"
   ]
  },
  {
   "cell_type": "markdown",
   "id": "16a5a448-9c68-431d-8a7a-b1f322f9e27e",
   "metadata": {},
   "source": [
    "### Train once"
   ]
  },
  {
   "cell_type": "code",
   "execution_count": null,
   "id": "d81012a5-1980-49fd-9a86-8765bc20f115",
   "metadata": {},
   "outputs": [],
   "source": [
    "best_params = {'boosting_type': 'gbdt',\n",
    " 'class_weight': None,\n",
    " 'colsample_bytree': 0.7,\n",
    " 'importance_type': 'split',\n",
    " 'learning_rate': 0.07,\n",
    " 'max_depth': 7,\n",
    " 'min_child_samples': 50,\n",
    " 'min_child_weight': 0.05,\n",
    " 'min_split_gain': 0.04,\n",
    " 'n_estimators': 100,\n",
    " 'n_jobs': -1,\n",
    " 'num_leaves': 80,\n",
    " 'objective': None,\n",
    " 'random_state': 1020,\n",
    " 'reg_alpha': 5,\n",
    " 'reg_lambda': 15,\n",
    " 'silent': True,\n",
    " 'subsample': 0.7,\n",
    " 'subsample_for_bin': 20000,\n",
    " 'subsample_freq': 5,\n",
    " 'scale_pos_weight': 1}"
   ]
  },
  {
   "cell_type": "code",
   "execution_count": null,
   "id": "41235181-df82-4aa4-8476-aa0be762a82b",
   "metadata": {},
   "outputs": [],
   "source": [
    "final_lgbm_clf = LGBMClassifier(**best_params)"
   ]
  },
  {
   "cell_type": "code",
   "execution_count": null,
   "id": "2d1db025-9a3d-4d2b-a5bf-dec2fb63e423",
   "metadata": {},
   "outputs": [],
   "source": [
    "final_lgbm_clf.fit(X_train, y_train)"
   ]
  },
  {
   "cell_type": "code",
   "execution_count": null,
   "id": "4d32ab96-3177-4042-a8ca-d92d82c35524",
   "metadata": {},
   "outputs": [],
   "source": [
    "y_train_pred = final_lgbm_clf.predict_proba(X_train)[:, 1]\n",
    "y_val_pred = final_lgbm_clf.predict_proba(X_val)[:, 1]"
   ]
  },
  {
   "cell_type": "code",
   "execution_count": null,
   "id": "d7ef1dac-33bd-425e-abb7-1423dae456a9",
   "metadata": {},
   "outputs": [],
   "source": [
    "plot_roc_curves([y_train, y_val], \n",
    "                [y_train_pred, y_val_pred], \n",
    "                labels=[\"Train\", \"Validation\"], \n",
    "                title=\"Train Validation ROC AUC\")"
   ]
  },
  {
   "cell_type": "code",
   "execution_count": null,
   "id": "b5ec7d16-e398-4fe9-bd13-3e412807bee9",
   "metadata": {},
   "outputs": [],
   "source": [
    "imp_df = plot_feature_importance(final_lgbm_clf.feature_name_, \n",
    "                                 final_lgbm_clf.feature_importances_, \n",
    "                                 title=\"Feature Importance\",\n",
    "                                 limit=50)"
   ]
  },
  {
   "cell_type": "code",
   "execution_count": null,
   "id": "55610023-caa6-4a4f-a0fa-61a927d9e876",
   "metadata": {},
   "outputs": [],
   "source": [
    "# feature_imp_thr = imp_df.loc[imp_df[\"feature\"] == \"dummy\"][\"feature_importance\"].values[0]\n",
    "# feature_imp_thr"
   ]
  },
  {
   "cell_type": "code",
   "execution_count": null,
   "id": "e040c798-77a1-49ee-b197-09589cfe6b75",
   "metadata": {},
   "outputs": [],
   "source": [
    "selected_features = imp_df.loc[imp_df[\"feature_importance\"] > 0][\"feature\"].tolist()\n",
    "len(selected_features)"
   ]
  },
  {
   "cell_type": "markdown",
   "id": "6ca42564-43bb-4cb5-b3c6-16a15a1c23bc",
   "metadata": {},
   "source": [
    "#### Final x2 LGBM"
   ]
  },
  {
   "cell_type": "code",
   "execution_count": null,
   "id": "80cee1a2-55a5-4421-90b2-d449124d7eb9",
   "metadata": {},
   "outputs": [],
   "source": [
    "selected_features = [col for col in selected_features if \"first\" not in col]\n",
    "len(selected_features)"
   ]
  },
  {
   "cell_type": "code",
   "execution_count": null,
   "id": "029f03db-71d7-4859-a5a4-9ca2e76200d4",
   "metadata": {},
   "outputs": [],
   "source": [
    "final_lgbm_clf = LGBMClassifier(**best_params)"
   ]
  },
  {
   "cell_type": "code",
   "execution_count": null,
   "id": "10a9c91e-926c-4411-a02d-98c352fa340b",
   "metadata": {},
   "outputs": [],
   "source": [
    "X_train_ = X_train.loc[:, selected_features]\n",
    "X_val_ = X_val.loc[:, selected_features]"
   ]
  },
  {
   "cell_type": "code",
   "execution_count": null,
   "id": "2d7df427-cc7f-4949-bf4e-9ca9a30ef7bf",
   "metadata": {},
   "outputs": [],
   "source": [
    "final_lgbm_clf.fit(X_train_, y_train)"
   ]
  },
  {
   "cell_type": "code",
   "execution_count": null,
   "id": "cbe79c65-0dc5-43c7-9572-e6663e9f95e6",
   "metadata": {},
   "outputs": [],
   "source": [
    "y_train_pred_ = final_lgbm_clf.predict_proba(X_train_)[:, 1]\n",
    "y_val_pred_ = final_lgbm_clf.predict_proba(X_val_)[:, 1]"
   ]
  },
  {
   "cell_type": "code",
   "execution_count": null,
   "id": "0b5ff830-7ce4-46ec-80ef-eb3b309d688d",
   "metadata": {},
   "outputs": [],
   "source": [
    "plot_roc_curves([y_train, y_val], \n",
    "                [y_train_pred_, y_val_pred_], \n",
    "                labels=[\"Train\", \"Validation\"], \n",
    "                title=\"Train Validation ROC AUC\")"
   ]
  },
  {
   "cell_type": "code",
   "execution_count": null,
   "id": "b20871d1-6189-44db-b78c-5d72a697f565",
   "metadata": {},
   "outputs": [],
   "source": [
    "y_res_df = pd.DataFrame(y_res).reset_index(drop=True)\n",
    "y_res_pred_df = pd.DataFrame(y_res_pred_).rename(columns={0: \"prediction\"})"
   ]
  },
  {
   "cell_type": "code",
   "execution_count": null,
   "id": "0d444d3a-c211-488d-a413-05fb4897c1ab",
   "metadata": {},
   "outputs": [],
   "source": [
    "amex_metric(y_res_df, y_res_pred_df)"
   ]
  },
  {
   "cell_type": "code",
   "execution_count": null,
   "id": "c0a2c3d5-d1da-4d0c-a342-a2be238c797f",
   "metadata": {},
   "outputs": [],
   "source": [
    "y_val.values[:40]"
   ]
  },
  {
   "cell_type": "code",
   "execution_count": null,
   "id": "1dbb8996-c77f-47b4-8687-383a95d440bd",
   "metadata": {},
   "outputs": [],
   "source": [
    "temp_ = [1 if c > 0.95 else c for c in y_val_pred_]\n",
    "# temp_[:40]"
   ]
  },
  {
   "cell_type": "code",
   "execution_count": null,
   "id": "442d9f35-976d-47ba-953c-58db62338cb2",
   "metadata": {},
   "outputs": [],
   "source": [
    "y_val_df = pd.DataFrame(y_val).reset_index(drop=True)\n",
    "y_val_pred_df = pd.DataFrame(y_val_pred_).rename(columns={0: \"prediction\"})"
   ]
  },
  {
   "cell_type": "code",
   "execution_count": null,
   "id": "d9743759-7c75-431a-a134-ed84f9104490",
   "metadata": {},
   "outputs": [],
   "source": [
    "amex_metric(y_val_df, y_val_pred_df)"
   ]
  },
  {
   "cell_type": "markdown",
   "id": "0cdaac36-22b6-44f4-8687-e3bf6938ce93",
   "metadata": {},
   "source": [
    "### END"
   ]
  },
  {
   "cell_type": "markdown",
   "id": "fa7ce3fd-bac0-4364-b611-819042c19358",
   "metadata": {},
   "source": [
    "### LGBM Model"
   ]
  },
  {
   "cell_type": "code",
   "execution_count": null,
   "id": "41135e8f-1549-4612-a9c4-fa70ae39b4cd",
   "metadata": {},
   "outputs": [],
   "source": [
    "opt = BayesSearchCV(\n",
    "    LGBMClassifier(random_state=1020),\n",
    "    {\n",
    "        'learning_rate': (0.04, 0.1),\n",
    "        'num_leaves': (31, 127),\n",
    "        'max_depth': (5, 20),\n",
    "        'min_child_samples': (15, 63),\n",
    "        'n_estimators': (80, 160),\n",
    "        'subsample': (0.7, 0.9),\n",
    "        'subsample_freq': (2, 5),\n",
    "        'colsample_bytree': (0.6, 0.95),\n",
    "        'reg_alpha': (0, 15),\n",
    "        'reg_lambda': (0, 15),\n",
    "        'min_split_gain': (0, 0.05),\n",
    "        'scale_pos_weight': (0.1, 10)\n",
    "    },\n",
    "    n_iter=5,\n",
    "    cv=5,\n",
    "    scoring=make_scorer(fbeta_score, beta=2)\n",
    ")"
   ]
  },
  {
   "cell_type": "code",
   "execution_count": null,
   "id": "295cb663-b522-4e61-be30-959e45c88f53",
   "metadata": {},
   "outputs": [],
   "source": [
    "start = time.time()\n",
    "opt.fit(X_train, y_train, verbose=1)\n",
    "end = time.time()\n",
    "print(f\"Done in {end - start:.2f} seconds\")"
   ]
  },
  {
   "cell_type": "code",
   "execution_count": null,
   "id": "ff687f1c-0639-49ae-b0ab-e4e0d4975e33",
   "metadata": {},
   "outputs": [],
   "source": [
    "best_params = opt.best_estimator_.get_params()"
   ]
  },
  {
   "cell_type": "code",
   "execution_count": null,
   "id": "1b086005-ed1a-445e-97b2-20dea2fc4747",
   "metadata": {},
   "outputs": [],
   "source": [
    "best_params"
   ]
  },
  {
   "cell_type": "code",
   "execution_count": null,
   "id": "a966c482-cfcc-47b1-925f-9cfb2c1f4a43",
   "metadata": {},
   "outputs": [],
   "source": [
    "imp_df = plot_feature_importance(final_lgbm_clf.feature_name_, \n",
    "                                 final_lgbm_clf.feature_importances_, \n",
    "                                 title=\"Feature Importance\",\n",
    "                                 limit=50)"
   ]
  },
  {
   "cell_type": "code",
   "execution_count": null,
   "id": "392cced2-205e-4d54-b3f4-37cf7c2ec0e3",
   "metadata": {},
   "outputs": [],
   "source": [
    "num_features_list, train_score_list, val_score_list = [], [], []\n",
    "for imp_value in tqdm(sorted(imp_df[\"feature_importance\"].unique())):\n",
    "    selected_features = imp_df.loc[imp_df[\"feature_importance\"] > imp_value][\"feature\"].tolist()\n",
    "    print(f\"# of features: {len(selected_features)}\")\n",
    "    \n",
    "    X_train_new = train.loc[:, selected_features]\n",
    "    X_val_new = val.loc[:, selected_features]\n",
    "    \n",
    "    lgbm_clf = LGBMClassifier(**params)\n",
    "    lgbm_clf.fit(X_train_new, y_train)\n",
    "    \n",
    "    y_train_pred = lgbm_clf.predict_proba(X_train_new)[:, 1]\n",
    "    y_val_pred = lgbm_clf.predict_proba(X_val_new)[:, 1]\n",
    "    \n",
    "    y_train_df = pd.DataFrame(y_train).reset_index(drop=True)\n",
    "    y_train_pred_df = pd.DataFrame(y_train_pred).rename(columns={0: \"prediction\"})\n",
    "    y_val_df = pd.DataFrame(y_val).reset_index(drop=True)\n",
    "    y_val_pred_df = pd.DataFrame(y_val_pred).rename(columns={0: \"prediction\"})\n",
    "    \n",
    "    train_score = amex_metric(y_train_df, y_train_pred_df)\n",
    "    val_score = amex_metric(y_val_df, y_val_pred_df)\n",
    "    num_features_list.append(len(selected_features))\n",
    "    train_score_list.append(train_score)\n",
    "    val_score_list.append(val_score)"
   ]
  },
  {
   "cell_type": "code",
   "execution_count": null,
   "id": "c085bc1b-3955-4410-8c71-6a392990830f",
   "metadata": {},
   "outputs": [],
   "source": [
    "train_scores = [i[0] for i in train_score_list]\n",
    "val_scores = [i[0] for i in val_score_list]"
   ]
  },
  {
   "cell_type": "code",
   "execution_count": null,
   "id": "08dc1b24-b119-4289-a2e1-ea6dd661ad52",
   "metadata": {},
   "outputs": [],
   "source": [
    "eval_df = pd.DataFrame(dict(num_feature=num_features_list, \n",
    "                            train_score=train_scores, \n",
    "                            val_score=val_scores)).iloc[:-10]"
   ]
  },
  {
   "cell_type": "code",
   "execution_count": null,
   "id": "cc7e16e2-c874-4af3-a0e8-418aae96441e",
   "metadata": {},
   "outputs": [],
   "source": [
    "plt.figure(figsize=(17, 6))\n",
    "plt.plot(eval_df[\"num_feature\"], eval_df[\"train_score\"], label=\"Train\")\n",
    "plt.plot(eval_df[\"num_feature\"], eval_df[\"val_score\"], label=\"Validation\")\n",
    "plt.legend()\n",
    "plt.show()"
   ]
  },
  {
   "cell_type": "markdown",
   "id": "3a26e5c7-b521-46c9-acf1-58ac2b292e5c",
   "metadata": {},
   "source": [
    "### LGBM Error Analysis"
   ]
  },
  {
   "cell_type": "code",
   "execution_count": null,
   "id": "df50053b-db40-4121-b419-f68a30367de2",
   "metadata": {},
   "outputs": [],
   "source": [
    "X_validation = X_val_.reset_index(drop=True)"
   ]
  },
  {
   "cell_type": "code",
   "execution_count": null,
   "id": "6fb0761c-95a1-4a3c-aba9-99c9a188adbb",
   "metadata": {},
   "outputs": [],
   "source": [
    "top4_pct_df, gini_df = get_final_metric_df(X_validation, y_val_df, y_val_pred_df)"
   ]
  },
  {
   "cell_type": "code",
   "execution_count": null,
   "id": "00f48288-eb31-4a9f-b345-65ebd8e13a93",
   "metadata": {},
   "outputs": [],
   "source": [
    "failed_top4_pct_indices = top4_pct_df.loc[(top4_pct_df[\"is_cutoff\"] == 1) & (top4_pct_df[\"target\"] == 0)].index"
   ]
  },
  {
   "cell_type": "code",
   "execution_count": null,
   "id": "f3c324f1-2a79-4433-9ee2-199a06d3c3e8",
   "metadata": {},
   "outputs": [],
   "source": [
    "# failed_top4_pct_indices"
   ]
  },
  {
   "cell_type": "code",
   "execution_count": null,
   "id": "fcc0db8d-3726-46a8-910b-eb4adb995e61",
   "metadata": {},
   "outputs": [],
   "source": [
    "failed_top4_pct_indices"
   ]
  },
  {
   "cell_type": "code",
   "execution_count": null,
   "id": "9fd108b7-81f8-44c4-a16c-fc87a144f4e6",
   "metadata": {},
   "outputs": [],
   "source": [
    "success_top4 = top4_pct_df.loc[~top4_pct_df.index.isin(failed_top4_pct_indices)]\n",
    "failed_top4 = top4_pct_df.loc[failed_top4_pct_indices]"
   ]
  },
  {
   "cell_type": "code",
   "execution_count": null,
   "id": "4721278a-b219-404b-bba3-6e748f795a7b",
   "metadata": {},
   "outputs": [],
   "source": [
    "success_top4.shape, failed_top4.shape"
   ]
  },
  {
   "cell_type": "code",
   "execution_count": null,
   "id": "a93bbfd3-8f1a-45cd-96fc-2362b2d032df",
   "metadata": {},
   "outputs": [],
   "source": [
    "column = \"P_2_last\""
   ]
  },
  {
   "cell_type": "code",
   "execution_count": null,
   "id": "a1380398-93cb-413f-9cec-90302cb78a57",
   "metadata": {},
   "outputs": [],
   "source": [
    "top4_pct_df.groupby(\"target\")[column].mean()"
   ]
  },
  {
   "cell_type": "code",
   "execution_count": null,
   "id": "9d5aa82a-5ca2-4e32-8f3e-9f052f7181c1",
   "metadata": {
    "tags": []
   },
   "outputs": [],
   "source": [
    "success_top4[column].describe()"
   ]
  },
  {
   "cell_type": "code",
   "execution_count": null,
   "id": "72acb797-ffa3-40a8-a44f-f2b0096cb048",
   "metadata": {},
   "outputs": [],
   "source": [
    "failed_top4[column].describe()"
   ]
  },
  {
   "cell_type": "code",
   "execution_count": null,
   "id": "02c03b2c-f793-47f5-abf6-299a67264708",
   "metadata": {},
   "outputs": [],
   "source": [
    "# save model\n",
    "# joblib.dump(final_lgbm_clf, '../models/lgbm_version1.pkl')"
   ]
  },
  {
   "cell_type": "code",
   "execution_count": null,
   "id": "caf067ed-6593-4b8f-8999-c6857e541c43",
   "metadata": {},
   "outputs": [],
   "source": [
    "# load model\n",
    "loaded_lgbm_model = joblib.load('../models/lgbm_version1.pkl')"
   ]
  },
  {
   "cell_type": "markdown",
   "id": "b10febac-45a5-4dfe-8e90-679a7b6c58af",
   "metadata": {},
   "source": [
    "### Inference"
   ]
  },
  {
   "cell_type": "code",
   "execution_count": null,
   "id": "b57fb03d-129a-4315-81e8-8360136281f0",
   "metadata": {},
   "outputs": [],
   "source": [
    "X_test = test_data.loc[:, selected_features]"
   ]
  },
  {
   "cell_type": "code",
   "execution_count": null,
   "id": "8187a541-375c-4ade-80ae-aea068907536",
   "metadata": {},
   "outputs": [],
   "source": [
    "y_test_pred = loaded_lgbm_model.predict_proba(X_test)[:, 1]"
   ]
  },
  {
   "cell_type": "code",
   "execution_count": null,
   "id": "c88b8d00-9901-4db0-b50a-4ac1d5213b52",
   "metadata": {},
   "outputs": [],
   "source": [
    "test_data[\"prediction\"] = y_test_pred"
   ]
  },
  {
   "cell_type": "code",
   "execution_count": null,
   "id": "ce4d1072-3e79-4ef6-a985-cb3e9db254b9",
   "metadata": {},
   "outputs": [],
   "source": [
    "test_data.head()"
   ]
  },
  {
   "cell_type": "markdown",
   "id": "0f4349f8-2223-4495-9ac0-9271161d2ad7",
   "metadata": {},
   "source": [
    "#### Submission"
   ]
  },
  {
   "cell_type": "code",
   "execution_count": null,
   "id": "b8a09504-d53b-4605-a513-e759d3591ba4",
   "metadata": {},
   "outputs": [],
   "source": [
    "submission = pd.read_csv(f\"{DATA_PATH}/sample_submission.csv\")"
   ]
  },
  {
   "cell_type": "code",
   "execution_count": null,
   "id": "4b44d52a-25e4-4c57-a521-e0abb56dc442",
   "metadata": {},
   "outputs": [],
   "source": [
    "submission = submission.drop(columns=\"prediction\")"
   ]
  },
  {
   "cell_type": "code",
   "execution_count": null,
   "id": "50e49caa-6672-4477-90b1-bad365f41dcd",
   "metadata": {},
   "outputs": [],
   "source": [
    "result = submission.merge(test_data[[\"customer_ID\", \"prediction\"]], on=\"customer_ID\")"
   ]
  },
  {
   "cell_type": "code",
   "execution_count": null,
   "id": "57e977c8-3c57-4efe-b766-f8ea82b5849a",
   "metadata": {},
   "outputs": [],
   "source": [
    "# result.to_csv(f\"{SUBMISSION_DATA_PATH}/submission4.csv\", index=False)"
   ]
  },
  {
   "cell_type": "code",
   "execution_count": null,
   "id": "5fbb5848-efd4-4724-b6a8-0cb3951abb4b",
   "metadata": {},
   "outputs": [],
   "source": []
  }
 ],
 "metadata": {
  "kernelspec": {
   "display_name": "amex",
   "language": "python",
   "name": "amex"
  },
  "language_info": {
   "codemirror_mode": {
    "name": "ipython",
    "version": 3
   },
   "file_extension": ".py",
   "mimetype": "text/x-python",
   "name": "python",
   "nbconvert_exporter": "python",
   "pygments_lexer": "ipython3",
   "version": "3.10.0"
  }
 },
 "nbformat": 4,
 "nbformat_minor": 5
}
