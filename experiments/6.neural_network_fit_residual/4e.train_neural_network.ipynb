{
 "cells": [
  {
   "cell_type": "code",
   "execution_count": 1,
   "id": "5dd2ca34-3410-4078-aa48-7adbba211ed5",
   "metadata": {},
   "outputs": [],
   "source": [
    "import joblib\n",
    "import json\n",
    "import matplotlib.pyplot as plt\n",
    "import gc\n",
    "import sys\n",
    "sys.path.append(\"../\")\n",
    "sys.path.append(\"../../\")\n",
    "import optuna\n",
    "from optuna.integration import TFKerasPruningCallback\n",
    "import pandas as pd\n",
    "import numpy as np\n",
    "import time\n",
    "import warnings\n",
    "warnings.simplefilter(\"ignore\")\n",
    "from sklearn.model_selection import train_test_split, StratifiedKFold\n",
    "from sklearn.metrics import roc_auc_score, fbeta_score, make_scorer\n",
    "from sklearn.preprocessing import MinMaxScaler\n",
    "from tqdm import tqdm"
   ]
  },
  {
   "cell_type": "code",
   "execution_count": 2,
   "id": "1eb25e71-2dd4-4596-8011-0e564611d5bd",
   "metadata": {},
   "outputs": [],
   "source": [
    "from matplotlib.ticker import MaxNLocator\n",
    "from matplotlib.colors import ListedColormap\n",
    "from cycler import cycler\n",
    "from IPython.display import display\n",
    "from colorama import Fore, Back, Style\n",
    "plt.rcParams['axes.facecolor'] = '#0057b8' # blue\n",
    "plt.rcParams['axes.prop_cycle'] = cycler(color=['#ffd700'] +\n",
    "                                         plt.rcParams['axes.prop_cycle'].by_key()['color'][1:])\n",
    "plt.rcParams['text.color'] = 'w'"
   ]
  },
  {
   "cell_type": "code",
   "execution_count": 3,
   "id": "2fc2f596-ed39-4324-a501-004fe934ce24",
   "metadata": {},
   "outputs": [],
   "source": [
    "import os\n",
    "os.environ['TF_CPP_MIN_LOG_LEVEL'] = '3'\n",
    "import tensorflow as tf\n",
    "from tensorflow import keras\n",
    "from tensorflow.keras import Sequential\n",
    "from tensorflow.keras.layers import Dense, Dropout\n",
    "from tensorflow.keras.callbacks import EarlyStopping, LearningRateScheduler\n",
    "from tensorflow.keras.optimizers.schedules import ExponentialDecay"
   ]
  },
  {
   "cell_type": "code",
   "execution_count": 4,
   "id": "a084bef6-4434-40fb-bafc-d7d3e4c57a14",
   "metadata": {},
   "outputs": [],
   "source": [
    "from utils.common import (\n",
    "    sigmoid, pad_column_name\n",
    ")\n",
    "from utils.constants import (\n",
    "    RAW_DATA_PATH, PROCESSED_DATA_PATH, EXP_PATH\n",
    ")\n",
    "from utils.eval_helpers import (\n",
    "    plot_roc_curves, plot_feature_importance, \n",
    "    amex_metric, get_final_metric_df, amex_metric_np, lgb_amex_metric\n",
    ")\n",
    "from utils.eda_helpers import (\n",
    "    plot_missing_proportion_barchart, \n",
    "    get_cols\n",
    ")\n",
    "from utils.extraction_helpers import read_file\n",
    "from utils.feature_group import (\n",
    "    CATEGORY_COLUMNS, CONTINUOUS_COLUMNS, NON_FEATURE_COLUMNS\n",
    ")"
   ]
  },
  {
   "cell_type": "code",
   "execution_count": 5,
   "id": "67194602-57fc-4e92-9801-8d600e52a5b2",
   "metadata": {},
   "outputs": [],
   "source": [
    "%load_ext autoreload\n",
    "%autoreload"
   ]
  },
  {
   "cell_type": "markdown",
   "id": "3885beac-e245-43b6-a2cc-73e9f871d132",
   "metadata": {},
   "source": [
    "### Read Data"
   ]
  },
  {
   "cell_type": "code",
   "execution_count": 6,
   "id": "33de8500-635c-4388-bcc8-570f2dddc9c6",
   "metadata": {},
   "outputs": [
    {
     "name": "stdout",
     "output_type": "stream",
     "text": [
      "Shape of data: (458913, 4733)\n",
      "CPU times: user 3.97 s, sys: 9.88 s, total: 13.9 s\n",
      "Wall time: 19.2 s\n"
     ]
    }
   ],
   "source": [
    "%%time\n",
    "train = read_file(f\"../{PROCESSED_DATA_PATH}/v3/train_agg.pkl\")"
   ]
  },
  {
   "cell_type": "code",
   "execution_count": 7,
   "id": "33479f5d-117e-4d3f-a9fc-8757e70e6017",
   "metadata": {},
   "outputs": [
    {
     "name": "stdout",
     "output_type": "stream",
     "text": [
      "Shape of data: (458913, 2)\n"
     ]
    }
   ],
   "source": [
    "labels = read_file(f\"../{RAW_DATA_PATH}/train_labels.csv\")"
   ]
  },
  {
   "cell_type": "code",
   "execution_count": 8,
   "id": "aed07e56-f8bb-40c7-b661-c56355fd3181",
   "metadata": {},
   "outputs": [],
   "source": [
    "train.loc[:, \"target\"] = labels[\"target\"].values"
   ]
  },
  {
   "cell_type": "code",
   "execution_count": 9,
   "id": "a687125e-49e7-41a8-8e18-e6b83f685607",
   "metadata": {},
   "outputs": [
    {
     "name": "stdout",
     "output_type": "stream",
     "text": [
      "Shape of data: (181, 39)\n"
     ]
    }
   ],
   "source": [
    "feature_imp = read_file(f\"../{EXP_PATH}/5.lgbm_dart_923_half_fix/feature_importance.csv\").set_index(\"base_feature\")"
   ]
  },
  {
   "cell_type": "code",
   "execution_count": 10,
   "id": "18b91b01-9d1b-42df-b637-6a5817218588",
   "metadata": {},
   "outputs": [],
   "source": [
    "master_list = []\n",
    "for col in feature_imp.columns:\n",
    "    temp_list = [c + f\"_{col}\" for c in feature_imp.loc[feature_imp[col] > 150].index.tolist()]\n",
    "    master_list.extend(temp_list)"
   ]
  },
  {
   "cell_type": "code",
   "execution_count": 11,
   "id": "365eb1e0-2f5d-401e-9a26-461d8226aee0",
   "metadata": {},
   "outputs": [
    {
     "data": {
      "text/plain": [
       "1937"
      ]
     },
     "execution_count": 11,
     "metadata": {},
     "output_type": "execute_result"
    }
   ],
   "source": [
    "len(master_list)"
   ]
  },
  {
   "cell_type": "code",
   "execution_count": 12,
   "id": "a65695e9-76e7-44c1-a930-ad33a9481e7f",
   "metadata": {},
   "outputs": [],
   "source": [
    "train = train.loc[:, [\"customer_ID\", \"target\"] + master_list]"
   ]
  },
  {
   "cell_type": "code",
   "execution_count": 13,
   "id": "5d4a54a9-d07f-47c1-b5dc-31f4e157bc29",
   "metadata": {},
   "outputs": [],
   "source": [
    "missing_counts = train.isnull().sum()"
   ]
  },
  {
   "cell_type": "code",
   "execution_count": 14,
   "id": "057f3177-50fd-4c0d-8b26-701b4a8444bf",
   "metadata": {},
   "outputs": [],
   "source": [
    "master_list = missing_counts[missing_counts <= int(0.2 * train.shape[0])].index.tolist()"
   ]
  },
  {
   "cell_type": "code",
   "execution_count": 15,
   "id": "6dc90c61-cf3d-4a75-9707-bc8bac146f7b",
   "metadata": {},
   "outputs": [],
   "source": [
    "train = train.loc[:, master_list]"
   ]
  },
  {
   "cell_type": "code",
   "execution_count": 16,
   "id": "cf16d370-d5be-4b81-8e22-450cd5b8aa6d",
   "metadata": {},
   "outputs": [
    {
     "data": {
      "text/plain": [
       "Index(['B_1_avg', 'B_10_avg', 'B_11_avg', 'B_12_avg', 'B_13_avg', 'B_14_avg',\n",
       "       'B_18_avg', 'B_19_avg', 'B_2_avg', 'B_21_avg',\n",
       "       ...\n",
       "       'S_24a_velocity', 'S_27_velocity', 'S_3_velocity', 'S_37d_velocity',\n",
       "       'S_37m_velocity', 'S_3a_velocity', 'S_5_velocity', 'S_7_velocity',\n",
       "       'S_7a_velocity', 'S_8_velocity'],\n",
       "      dtype='object', length=1392)"
      ]
     },
     "execution_count": 16,
     "metadata": {},
     "output_type": "execute_result"
    }
   ],
   "source": [
    "train.columns[2:]"
   ]
  },
  {
   "cell_type": "code",
   "execution_count": 17,
   "id": "d6eeef11-192e-4739-8d39-d00c5e96a135",
   "metadata": {},
   "outputs": [
    {
     "name": "stderr",
     "output_type": "stream",
     "text": [
      "100%|██████████████████████████████████████████████████████████████████████████████████████████████████████████████████████████████████| 1392/1392 [04:23<00:00,  5.28it/s]\n"
     ]
    }
   ],
   "source": [
    "for col in tqdm(train.columns[2:]):\n",
    "    try:\n",
    "        train[col] = train[col].fillna(train[col].mean())\n",
    "    except:\n",
    "        train[col] = train[col].fillna(train[col].mode()[0])"
   ]
  },
  {
   "cell_type": "code",
   "execution_count": 19,
   "id": "9a1a183b-14c7-462d-83d3-5f168a8cc327",
   "metadata": {},
   "outputs": [],
   "source": [
    "train = train.set_index(\"customer_ID\")"
   ]
  },
  {
   "cell_type": "code",
   "execution_count": 21,
   "id": "575eaf6f-4571-4102-8754-7d4c4f913961",
   "metadata": {},
   "outputs": [
    {
     "data": {
      "text/plain": [
       "((458913, 1393), (458913, 2))"
      ]
     },
     "execution_count": 21,
     "metadata": {},
     "output_type": "execute_result"
    }
   ],
   "source": [
    "train.shape, labels.shape"
   ]
  },
  {
   "cell_type": "code",
   "execution_count": 35,
   "id": "d3e469dd-9eb5-4ded-acbb-26d8046afe4a",
   "metadata": {},
   "outputs": [],
   "source": [
    "train = train.replace(np.inf, 1e8).replace(-np.inf, -1e8)"
   ]
  },
  {
   "cell_type": "code",
   "execution_count": 54,
   "id": "95b516e6-3d33-4ad9-86bf-07318c85d49b",
   "metadata": {},
   "outputs": [],
   "source": [
    "master = train.drop(columns=\"target\")\n",
    "target = train[\"target\"].values"
   ]
  },
  {
   "cell_type": "code",
   "execution_count": null,
   "id": "045776d2-76b5-4eee-9e57-b685dc6a027e",
   "metadata": {},
   "outputs": [],
   "source": [
    "train.to_pickle(f\"./train_data_ready_to_train.pkl\")"
   ]
  },
  {
   "cell_type": "markdown",
   "id": "0ca6d6ad-3681-42b9-8c08-d3d343db18d0",
   "metadata": {},
   "source": [
    "### Train Val Split"
   ]
  },
  {
   "cell_type": "code",
   "execution_count": 36,
   "id": "9695a902-a0b2-4365-ba90-3fa70ed69844",
   "metadata": {},
   "outputs": [],
   "source": [
    "train_, validation_ = train_test_split(train, test_size=0.2, random_state=1020, stratify=train[\"target\"])"
   ]
  },
  {
   "cell_type": "code",
   "execution_count": 37,
   "id": "356a7f23-3a9b-4123-bbec-a2a0681d2cff",
   "metadata": {},
   "outputs": [],
   "source": [
    "X_train = train_.drop(columns=\"target\")\n",
    "y_train = train_[\"target\"]\n",
    "X_valid = validation_.drop(columns=\"target\")\n",
    "y_valid = validation_[\"target\"]"
   ]
  },
  {
   "cell_type": "code",
   "execution_count": null,
   "id": "c7578cbe-bd84-433f-a995-e7d87a1232cd",
   "metadata": {},
   "outputs": [],
   "source": [
    "mscaler = MinMaxScaler()"
   ]
  },
  {
   "cell_type": "code",
   "execution_count": null,
   "id": "1997737f-0eb2-4c1b-a01e-3b97482a4739",
   "metadata": {},
   "outputs": [
    {
     "data": {
      "text/html": [
       "<style>#sk-container-id-1 {color: black;background-color: white;}#sk-container-id-1 pre{padding: 0;}#sk-container-id-1 div.sk-toggleable {background-color: white;}#sk-container-id-1 label.sk-toggleable__label {cursor: pointer;display: block;width: 100%;margin-bottom: 0;padding: 0.3em;box-sizing: border-box;text-align: center;}#sk-container-id-1 label.sk-toggleable__label-arrow:before {content: \"▸\";float: left;margin-right: 0.25em;color: #696969;}#sk-container-id-1 label.sk-toggleable__label-arrow:hover:before {color: black;}#sk-container-id-1 div.sk-estimator:hover label.sk-toggleable__label-arrow:before {color: black;}#sk-container-id-1 div.sk-toggleable__content {max-height: 0;max-width: 0;overflow: hidden;text-align: left;background-color: #f0f8ff;}#sk-container-id-1 div.sk-toggleable__content pre {margin: 0.2em;color: black;border-radius: 0.25em;background-color: #f0f8ff;}#sk-container-id-1 input.sk-toggleable__control:checked~div.sk-toggleable__content {max-height: 200px;max-width: 100%;overflow: auto;}#sk-container-id-1 input.sk-toggleable__control:checked~label.sk-toggleable__label-arrow:before {content: \"▾\";}#sk-container-id-1 div.sk-estimator input.sk-toggleable__control:checked~label.sk-toggleable__label {background-color: #d4ebff;}#sk-container-id-1 div.sk-label input.sk-toggleable__control:checked~label.sk-toggleable__label {background-color: #d4ebff;}#sk-container-id-1 input.sk-hidden--visually {border: 0;clip: rect(1px 1px 1px 1px);clip: rect(1px, 1px, 1px, 1px);height: 1px;margin: -1px;overflow: hidden;padding: 0;position: absolute;width: 1px;}#sk-container-id-1 div.sk-estimator {font-family: monospace;background-color: #f0f8ff;border: 1px dotted black;border-radius: 0.25em;box-sizing: border-box;margin-bottom: 0.5em;}#sk-container-id-1 div.sk-estimator:hover {background-color: #d4ebff;}#sk-container-id-1 div.sk-parallel-item::after {content: \"\";width: 100%;border-bottom: 1px solid gray;flex-grow: 1;}#sk-container-id-1 div.sk-label:hover label.sk-toggleable__label {background-color: #d4ebff;}#sk-container-id-1 div.sk-serial::before {content: \"\";position: absolute;border-left: 1px solid gray;box-sizing: border-box;top: 0;bottom: 0;left: 50%;z-index: 0;}#sk-container-id-1 div.sk-serial {display: flex;flex-direction: column;align-items: center;background-color: white;padding-right: 0.2em;padding-left: 0.2em;position: relative;}#sk-container-id-1 div.sk-item {position: relative;z-index: 1;}#sk-container-id-1 div.sk-parallel {display: flex;align-items: stretch;justify-content: center;background-color: white;position: relative;}#sk-container-id-1 div.sk-item::before, #sk-container-id-1 div.sk-parallel-item::before {content: \"\";position: absolute;border-left: 1px solid gray;box-sizing: border-box;top: 0;bottom: 0;left: 50%;z-index: -1;}#sk-container-id-1 div.sk-parallel-item {display: flex;flex-direction: column;z-index: 1;position: relative;background-color: white;}#sk-container-id-1 div.sk-parallel-item:first-child::after {align-self: flex-end;width: 50%;}#sk-container-id-1 div.sk-parallel-item:last-child::after {align-self: flex-start;width: 50%;}#sk-container-id-1 div.sk-parallel-item:only-child::after {width: 0;}#sk-container-id-1 div.sk-dashed-wrapped {border: 1px dashed gray;margin: 0 0.4em 0.5em 0.4em;box-sizing: border-box;padding-bottom: 0.4em;background-color: white;}#sk-container-id-1 div.sk-label label {font-family: monospace;font-weight: bold;display: inline-block;line-height: 1.2em;}#sk-container-id-1 div.sk-label-container {text-align: center;}#sk-container-id-1 div.sk-container {/* jupyter's `normalize.less` sets `[hidden] { display: none; }` but bootstrap.min.css set `[hidden] { display: none !important; }` so we also need the `!important` here to be able to override the default hidden behavior on the sphinx rendered scikit-learn.org. See: https://github.com/scikit-learn/scikit-learn/issues/21755 */display: inline-block !important;position: relative;}#sk-container-id-1 div.sk-text-repr-fallback {display: none;}</style><div id=\"sk-container-id-1\" class=\"sk-top-container\"><div class=\"sk-text-repr-fallback\"><pre>MinMaxScaler()</pre><b>In a Jupyter environment, please rerun this cell to show the HTML representation or trust the notebook. <br />On GitHub, the HTML representation is unable to render, please try loading this page with nbviewer.org.</b></div><div class=\"sk-container\" hidden><div class=\"sk-item\"><div class=\"sk-estimator sk-toggleable\"><input class=\"sk-toggleable__control sk-hidden--visually\" id=\"sk-estimator-id-1\" type=\"checkbox\" checked><label for=\"sk-estimator-id-1\" class=\"sk-toggleable__label sk-toggleable__label-arrow\">MinMaxScaler</label><div class=\"sk-toggleable__content\"><pre>MinMaxScaler()</pre></div></div></div></div></div>"
      ],
      "text/plain": [
       "MinMaxScaler()"
      ]
     },
     "execution_count": 39,
     "metadata": {},
     "output_type": "execute_result"
    }
   ],
   "source": [
    "mscaler.fit(X_train)"
   ]
  },
  {
   "cell_type": "code",
   "execution_count": 73,
   "id": "c6664d2a-2ec7-416e-bc51-e3f9bc410298",
   "metadata": {},
   "outputs": [],
   "source": [
    "def create_model(trial):\n",
    "    n_layers = trial.suggest_int(\"n_layers\", 2, 3)\n",
    "    model = tf.keras.Sequential()\n",
    "    hidden_units = []\n",
    "    for i in range(n_layers):\n",
    "        if len(hidden_units) == 0: \n",
    "            last = 2048\n",
    "        else:\n",
    "            last = hidden_units[-1]\n",
    "        num_hidden = trial.suggest_int(f\"n_units_l{i}\", int(last/3), int(last/2), log=True)\n",
    "        hidden_units.append(num_hidden)\n",
    "        if i == n_layers - 1:\n",
    "            model.add(tf.keras.layers.Dense(1, activation=\"sigmoid\"))\n",
    "        elif i == 0:\n",
    "            model.add(tf.keras.layers.Dense(num_hidden, \n",
    "                                            activation=\"relu\", \n",
    "                                            kernel_initializer='he_normal', \n",
    "                                            input_shape=(master.shape[1],)))\n",
    "            dropout_rate = trial.suggest_categorical(f\"dropout_l{i}\", [0.1, 0.2, 0.3])\n",
    "            model.add(tf.keras.layers.Dropout(dropout_rate))\n",
    "        else:\n",
    "            model.add(tf.keras.layers.Dense(num_hidden, \n",
    "                                            activation=\"relu\",\n",
    "                                            kernel_initializer='he_normal'))\n",
    "            dropout_rate = trial.suggest_categorical(f\"dropout_l{i}\", [0.1, 0.2, 0.3])\n",
    "            model.add(tf.keras.layers.Dropout(dropout_rate))\n",
    "    model.compile(optimizer=\"adam\", \n",
    "                  loss=\"binary_crossentropy\", \n",
    "                  metrics=['accuracy'])\n",
    "    es = EarlyStopping(monitor='val_loss', patience=5)\n",
    "    return model"
   ]
  },
  {
   "cell_type": "code",
   "execution_count": 74,
   "id": "d35e494c-ee07-4263-aa46-ab1186e98c09",
   "metadata": {},
   "outputs": [],
   "source": [
    "EPOCHS = 15 # number of epochs per trial\n",
    "BATCH_SIZE = 128"
   ]
  },
  {
   "cell_type": "code",
   "execution_count": 75,
   "id": "6ffadd26-01d7-4cfb-9da9-4ff66663fa81",
   "metadata": {},
   "outputs": [],
   "source": [
    "keras.backend.clear_session()"
   ]
  },
  {
   "cell_type": "code",
   "execution_count": 76,
   "id": "a0548251-71dd-40f3-9899-c1f59293a0f4",
   "metadata": {},
   "outputs": [],
   "source": [
    "def objective(trial):\n",
    "    kf = StratifiedKFold(n_splits=5)\n",
    "    for fold, (idx_tr, idx_va) in zip(range(1, 5+1), kf.split(master, train[\"target\"])):\n",
    "        # Clear clutter from previous session graphs.\n",
    "        keras.backend.clear_session()\n",
    "        \n",
    "        fold = str(fold)\n",
    "        X_train, X_val, y_train, y_val, model = None, None, None, None, None\n",
    "        X_train_array = mscaler.transform(master.iloc[idx_tr])\n",
    "        X_valid_array = mscaler.transform(master.iloc[idx_va])\n",
    "        X_train = tf.convert_to_tensor(X_train_array)\n",
    "        X_val = tf.convert_to_tensor(X_valid_array)\n",
    "        y_train = target[idx_tr]\n",
    "        y_val = target[idx_va]\n",
    "        \n",
    "        class Metrics(keras.callbacks.Callback):\n",
    "            def __init__(self, X_val, y_val):\n",
    "                self.X_val = X_val\n",
    "                self.y_val = y_val\n",
    "                self.y_pred = None\n",
    "                \n",
    "            def on_train_begin(self, logs={}):\n",
    "                self._data = []\n",
    "\n",
    "            def on_epoch_end(self, batch, logs={}):\n",
    "                self.y_pred = np.asarray(model.predict(self.X_val))\n",
    "                self.y_val = np.argmax(self.y_val, axis=1)\n",
    "                self.y_pred = np.argmax(self.y_pred, axis=1)\n",
    "\n",
    "                self._data.append({\n",
    "                    'val_rocauc': roc_auc_score(self.y_val, self.y_pred),\n",
    "                })\n",
    "                return\n",
    "\n",
    "            def get_data(self):\n",
    "                return self._data\n",
    "        \n",
    "        metrics = Metrics(X_val, y_val)\n",
    "        \n",
    "        # Generate our trial model.\n",
    "        model = create_model(trial)\n",
    "        print(model.summary())\n",
    "        \n",
    "        # learning rate scheduler\n",
    "        scheduler = ExponentialDecay(1e-3, 400 * ((len(idx_tr) * 0.8) / BATCH_SIZE), 1e-5)\n",
    "        lr = LearningRateScheduler(scheduler, verbose=0)\n",
    "\n",
    "        # Fit the model on the training data.\n",
    "        # The TFKerasPruningCallback checks for pruning condition every epoch.\n",
    "        model.fit(\n",
    "            X_train,\n",
    "            y_train,\n",
    "            batch_size=BATCH_SIZE,\n",
    "            callbacks=[TFKerasPruningCallback(trial, \"val_loss\")], # metrics\n",
    "            epochs=EPOCHS,\n",
    "            validation_data=(X_val, y_val),\n",
    "            verbose=1,\n",
    "        )\n",
    "        \n",
    "        del metrics\n",
    "        y_pred = model.predict(X_val)\n",
    "        score = amex_metric(y_val, y_pred)\n",
    "        return score[0]"
   ]
  },
  {
   "cell_type": "code",
   "execution_count": 77,
   "id": "af63954a-77a0-4e1f-bb7a-bd300d29f64d",
   "metadata": {},
   "outputs": [
    {
     "name": "stderr",
     "output_type": "stream",
     "text": [
      "\u001b[32m[I 2022-08-14 03:55:17,489]\u001b[0m A new study created in memory with name: no-name-a500663f-2ac8-4f13-afac-be81a1bcaf26\u001b[0m\n"
     ]
    }
   ],
   "source": [
    "study = optuna.create_study(direction=\"minimize\", \n",
    "                            sampler=optuna.samplers.TPESampler(), \n",
    "                            pruner=optuna.pruners.HyperbandPruner())"
   ]
  },
  {
   "cell_type": "code",
   "execution_count": null,
   "id": "e6e433ef-00ce-4db8-b3a1-f2d8bb52177b",
   "metadata": {},
   "outputs": [],
   "source": [
    "study.optimize(objective, n_trials=30)"
   ]
  },
  {
   "cell_type": "code",
   "execution_count": 16,
   "id": "54c71943-34be-4c49-abab-f6c1314e6720",
   "metadata": {},
   "outputs": [],
   "source": [
    "# m = plot_missing_proportion_barchart(train)"
   ]
  },
  {
   "cell_type": "code",
   "execution_count": 17,
   "id": "a6cfb180-4cc2-41dd-9201-80b5cf459625",
   "metadata": {},
   "outputs": [],
   "source": [
    "# missing_columns = m.loc[m[\"missing_proportion\"] > 2][\"column\"].tolist()\n",
    "\n",
    "# %%time\n",
    "# train = train.drop(columns=missing_columns, errors=\"ignore\")\n",
    "\n",
    "# m = plot_missing_proportion_barchart(train)\n",
    "\n",
    "# missing_columns = m[\"column\"].tolist()\n",
    "# len(missing_columns)\n",
    "\n",
    "# for col in tqdm(m[\"column\"].tolist()):\n",
    "#     try:\n",
    "#         train[col] = train[col].fillna(train[col].mean())\n",
    "#     except:\n",
    "#         train[col] = train[col].fillna(train[col].mode()[0])"
   ]
  },
  {
   "cell_type": "markdown",
   "id": "8fdfa12b-d655-4c77-b704-4381f1b7cec5",
   "metadata": {},
   "source": [
    "#### One Hot Encode Category Columns"
   ]
  },
  {
   "cell_type": "code",
   "execution_count": 19,
   "id": "6bf98ba8-ca66-4729-8137-5629e068053d",
   "metadata": {},
   "outputs": [],
   "source": [
    "# %%time\n",
    "# temp = pd.get_dummies(train.select_dtypes(\"category\"))\n",
    "# train = train.drop(columns=train.select_dtypes(\"category\").columns.tolist(), errors=\"ignore\")\n",
    "# train = pd.concat([train, temp], axis=1)"
   ]
  },
  {
   "cell_type": "code",
   "execution_count": null,
   "id": "06863e77-0422-4f00-939b-0c8baa6e3d1b",
   "metadata": {},
   "outputs": [],
   "source": [
    "# train.to_pickle(f\"{PROCESSED_DATA_PATH}/neural_network_agg_features/train_agg_final.pkl\")"
   ]
  },
  {
   "cell_type": "code",
   "execution_count": null,
   "id": "f2528c12-b1df-4b07-b25d-1d9c682ae8c2",
   "metadata": {},
   "outputs": [],
   "source": []
  },
  {
   "cell_type": "code",
   "execution_count": null,
   "id": "33c79210-4f9a-4500-9ba2-2a61850acd3f",
   "metadata": {},
   "outputs": [],
   "source": [
    "train_[\"target\"].mean(), validation_[\"target\"].mean()"
   ]
  },
  {
   "cell_type": "code",
   "execution_count": null,
   "id": "df5ee0a2-8cb5-4ffc-8c08-96e380ed0359",
   "metadata": {},
   "outputs": [],
   "source": [
    "del train_, validation_"
   ]
  },
  {
   "cell_type": "code",
   "execution_count": null,
   "id": "965bda13-2242-488b-abcc-2b91fb5f95bd",
   "metadata": {},
   "outputs": [],
   "source": [
    "final_df = train.drop(columns=\"target\")\n",
    "target = train[\"target\"].values"
   ]
  },
  {
   "cell_type": "markdown",
   "id": "2d1cda55-2483-49d2-9dad-da8e63611ec5",
   "metadata": {},
   "source": [
    "### Tune Neural Network"
   ]
  },
  {
   "cell_type": "code",
   "execution_count": 7,
   "id": "248dbc2f-54f8-4723-900e-216fe1bae5a9",
   "metadata": {},
   "outputs": [
    {
     "name": "stdout",
     "output_type": "stream",
     "text": [
      "Shape of data: (458913, 3058)\n",
      "CPU times: user 3.37 s, sys: 16.3 s, total: 19.7 s\n",
      "Wall time: 29.8 s\n"
     ]
    }
   ],
   "source": [
    "%%time\n",
    "train = read_file(f\"{PROCESSED_DATA_PATH}/neural_network_agg_features/train_agg_final.pkl\")"
   ]
  },
  {
   "cell_type": "code",
   "execution_count": 14,
   "id": "fc22c75e-caf2-4a20-b09d-1c6f10feabf4",
   "metadata": {},
   "outputs": [],
   "source": [
    "target = train[\"target\"].values\n",
    "train = train.drop(columns=\"target\")"
   ]
  },
  {
   "cell_type": "code",
   "execution_count": 15,
   "id": "d1068f97-9c75-4799-a4df-6dc2ad8fe3dc",
   "metadata": {},
   "outputs": [
    {
     "data": {
      "text/plain": [
       "'../experiments/neural_network_exp'"
      ]
     },
     "execution_count": 15,
     "metadata": {},
     "output_type": "execute_result"
    }
   ],
   "source": [
    "CURRENT_EXP_PATH = f\"{EXP_PATH}/neural_network_exp\"\n",
    "CURRENT_EXP_PATH"
   ]
  },
  {
   "cell_type": "code",
   "execution_count": 16,
   "id": "e2369617-43c8-4a3e-a009-2d0ba7325b02",
   "metadata": {},
   "outputs": [
    {
     "data": {
      "text/plain": [
       "0.79"
      ]
     },
     "execution_count": 16,
     "metadata": {},
     "output_type": "execute_result"
    }
   ],
   "source": [
    "with open(f\"{CURRENT_EXP_PATH}/best_scores.json\", \"r+\") as outfile:\n",
    "    best_scores_json = json.load(outfile)\n",
    "np.mean(list(best_scores_json[\"validation\"].values()))"
   ]
  },
  {
   "cell_type": "code",
   "execution_count": 18,
   "id": "34c0c0ee-1c4a-42cd-acc8-a17f82a2129d",
   "metadata": {},
   "outputs": [],
   "source": [
    "EPOCHS = 15 # number of epocs per trial\n",
    "BATCH_SIZE = 128"
   ]
  },
  {
   "cell_type": "code",
   "execution_count": 19,
   "id": "402d624d-813b-4f31-9b9f-1200f999cb76",
   "metadata": {},
   "outputs": [],
   "source": [
    "keras.backend.clear_session()"
   ]
  },
  {
   "cell_type": "code",
   "execution_count": 23,
   "id": "6f0607db-9d4c-4193-ac2e-4432f028653b",
   "metadata": {},
   "outputs": [],
   "source": [
    "def objective(trial):\n",
    "    kf = StratifiedKFold(n_splits=5)\n",
    "    for fold, (idx_tr, idx_va) in zip(range(1, 5+1), kf.split(train, target)):\n",
    "        # Clear clutter from previous session graphs.\n",
    "        keras.backend.clear_session()\n",
    "\n",
    "        fold = str(fold)\n",
    "        X_train, X_val, y_train, y_val, model = None, None, None, None, None\n",
    "        X_train = tf.convert_to_tensor(train.iloc[idx_tr])\n",
    "        X_val = tf.convert_to_tensor(train.iloc[idx_va])\n",
    "        y_train = target[idx_tr]\n",
    "        y_val = target[idx_va]\n",
    "        \n",
    "        class Metrics(keras.callbacks.Callback):\n",
    "            def __init__(self, X_val, y_val):\n",
    "                self.X_val = X_val\n",
    "                self.y_val = y_val\n",
    "                self.y_pred = None\n",
    "                \n",
    "            def on_train_begin(self, logs={}):\n",
    "                self._data = []\n",
    "\n",
    "            def on_epoch_end(self, batch, logs={}):\n",
    "                self.y_pred = np.asarray(model.predict(self.X_val))\n",
    "                self.y_val = np.argmax(self.y_val, axis=1)\n",
    "                self.y_pred = np.argmax(self.y_pred, axis=1)\n",
    "\n",
    "                self._data.append({\n",
    "                    'val_rocauc': roc_auc_score(self.y_val, self.y_pred),\n",
    "                })\n",
    "                return\n",
    "\n",
    "            def get_data(self):\n",
    "                return self._data\n",
    "        \n",
    "        metrics = Metrics(X_val, y_val)\n",
    "        \n",
    "        # Generate our trial model.\n",
    "        model = create_model(trial)\n",
    "        print(model.summary())\n",
    "        \n",
    "        # learning rate scheduler\n",
    "        scheduler = ExponentialDecay(1e-3, 400 * ((len(idx_tr) * 0.8) / BATCH_SIZE), 1e-5)\n",
    "        lr = LearningRateScheduler(scheduler, verbose=0)\n",
    "\n",
    "        # Fit the model on the training data.\n",
    "        # The TFKerasPruningCallback checks for pruning condition every epoch.\n",
    "        model.fit(\n",
    "            X_train,\n",
    "            y_train,\n",
    "            batch_size=BATCH_SIZE,\n",
    "            callbacks=[TFKerasPruningCallback(trial, \"val_loss\")], # metrics\n",
    "            epochs=EPOCHS,\n",
    "            validation_data=(X_val, y_val),\n",
    "            verbose=1,\n",
    "        )\n",
    "        \n",
    "        del metrics\n",
    "        # Evaluate the model accuracy on the validation set.\n",
    "        score = model.evaluate(X_val, y_val, verbose=0)\n",
    "        return score[1]"
   ]
  },
  {
   "cell_type": "code",
   "execution_count": 24,
   "id": "596fe36f-ea63-488f-b28d-4b030442a4c0",
   "metadata": {},
   "outputs": [
    {
     "name": "stderr",
     "output_type": "stream",
     "text": [
      "\u001b[32m[I 2022-08-07 09:07:29,924]\u001b[0m A new study created in memory with name: no-name-f63af961-c050-4c04-b0b3-beeb7eae45ec\u001b[0m\n"
     ]
    }
   ],
   "source": [
    "study = optuna.create_study(direction=\"minimize\", \n",
    "                            sampler=optuna.samplers.TPESampler(), \n",
    "                            pruner=optuna.pruners.HyperbandPruner())"
   ]
  },
  {
   "cell_type": "code",
   "execution_count": 25,
   "id": "6588dfa2-4f62-432d-a7a4-571922514474",
   "metadata": {},
   "outputs": [
    {
     "name": "stdout",
     "output_type": "stream",
     "text": [
      "Metal device set to: Apple M1 Pro\n"
     ]
    },
    {
     "name": "stderr",
     "output_type": "stream",
     "text": [
      "\u001b[33m[W 2022-08-07 09:07:52,765]\u001b[0m Trial 0 failed because of the following error: InternalError()\u001b[0m\n",
      "Traceback (most recent call last):\n",
      "  File \"/Users/wklee/miniconda3/envs/amex/lib/python3.10/site-packages/optuna/study/_optimize.py\", line 213, in _run_trial\n",
      "    value_or_values = func(trial)\n",
      "  File \"/var/folders/rx/900hbpv51bsg7d73m0zmd11m0000gn/T/ipykernel_43674/567814545.py\", line 9, in objective\n",
      "    X_train = tf.convert_to_tensor(train.iloc[idx_tr])\n",
      "  File \"/Users/wklee/miniconda3/envs/amex/lib/python3.10/site-packages/tensorflow/python/util/traceback_utils.py\", line 153, in error_handler\n",
      "    raise e.with_traceback(filtered_tb) from None\n",
      "  File \"/Users/wklee/miniconda3/envs/amex/lib/python3.10/site-packages/tensorflow/python/framework/constant_op.py\", line 102, in convert_to_eager_tensor\n",
      "    return ops.EagerTensor(value, ctx.device_name, dtype)\n",
      "tensorflow.python.framework.errors_impl.InternalError: Failed copying input tensor from /job:localhost/replica:0/task:0/device:CPU:0 to /job:localhost/replica:0/task:0/device:GPU:0 in order to run _EagerConst: Dst tensor is not initialized.\n"
     ]
    },
    {
     "ename": "InternalError",
     "evalue": "Failed copying input tensor from /job:localhost/replica:0/task:0/device:CPU:0 to /job:localhost/replica:0/task:0/device:GPU:0 in order to run _EagerConst: Dst tensor is not initialized.",
     "output_type": "error",
     "traceback": [
      "\u001b[0;31m---------------------------------------------------------------------------\u001b[0m",
      "\u001b[0;31mInternalError\u001b[0m                             Traceback (most recent call last)",
      "Input \u001b[0;32mIn [25]\u001b[0m, in \u001b[0;36m<cell line: 1>\u001b[0;34m()\u001b[0m\n\u001b[0;32m----> 1\u001b[0m \u001b[43mstudy\u001b[49m\u001b[38;5;241;43m.\u001b[39;49m\u001b[43moptimize\u001b[49m\u001b[43m(\u001b[49m\u001b[43mobjective\u001b[49m\u001b[43m,\u001b[49m\u001b[43m \u001b[49m\u001b[43mn_trials\u001b[49m\u001b[38;5;241;43m=\u001b[39;49m\u001b[38;5;241;43m30\u001b[39;49m\u001b[43m)\u001b[49m\n",
      "File \u001b[0;32m~/miniconda3/envs/amex/lib/python3.10/site-packages/optuna/study/study.py:400\u001b[0m, in \u001b[0;36mStudy.optimize\u001b[0;34m(self, func, n_trials, timeout, n_jobs, catch, callbacks, gc_after_trial, show_progress_bar)\u001b[0m\n\u001b[1;32m    392\u001b[0m \u001b[38;5;28;01mif\u001b[39;00m n_jobs \u001b[38;5;241m!=\u001b[39m \u001b[38;5;241m1\u001b[39m:\n\u001b[1;32m    393\u001b[0m     warnings\u001b[38;5;241m.\u001b[39mwarn(\n\u001b[1;32m    394\u001b[0m         \u001b[38;5;124m\"\u001b[39m\u001b[38;5;124m`n_jobs` argument has been deprecated in v2.7.0. \u001b[39m\u001b[38;5;124m\"\u001b[39m\n\u001b[1;32m    395\u001b[0m         \u001b[38;5;124m\"\u001b[39m\u001b[38;5;124mThis feature will be removed in v4.0.0. \u001b[39m\u001b[38;5;124m\"\u001b[39m\n\u001b[1;32m    396\u001b[0m         \u001b[38;5;124m\"\u001b[39m\u001b[38;5;124mSee https://github.com/optuna/optuna/releases/tag/v2.7.0.\u001b[39m\u001b[38;5;124m\"\u001b[39m,\n\u001b[1;32m    397\u001b[0m         \u001b[38;5;167;01mFutureWarning\u001b[39;00m,\n\u001b[1;32m    398\u001b[0m     )\n\u001b[0;32m--> 400\u001b[0m \u001b[43m_optimize\u001b[49m\u001b[43m(\u001b[49m\n\u001b[1;32m    401\u001b[0m \u001b[43m    \u001b[49m\u001b[43mstudy\u001b[49m\u001b[38;5;241;43m=\u001b[39;49m\u001b[38;5;28;43mself\u001b[39;49m\u001b[43m,\u001b[49m\n\u001b[1;32m    402\u001b[0m \u001b[43m    \u001b[49m\u001b[43mfunc\u001b[49m\u001b[38;5;241;43m=\u001b[39;49m\u001b[43mfunc\u001b[49m\u001b[43m,\u001b[49m\n\u001b[1;32m    403\u001b[0m \u001b[43m    \u001b[49m\u001b[43mn_trials\u001b[49m\u001b[38;5;241;43m=\u001b[39;49m\u001b[43mn_trials\u001b[49m\u001b[43m,\u001b[49m\n\u001b[1;32m    404\u001b[0m \u001b[43m    \u001b[49m\u001b[43mtimeout\u001b[49m\u001b[38;5;241;43m=\u001b[39;49m\u001b[43mtimeout\u001b[49m\u001b[43m,\u001b[49m\n\u001b[1;32m    405\u001b[0m \u001b[43m    \u001b[49m\u001b[43mn_jobs\u001b[49m\u001b[38;5;241;43m=\u001b[39;49m\u001b[43mn_jobs\u001b[49m\u001b[43m,\u001b[49m\n\u001b[1;32m    406\u001b[0m \u001b[43m    \u001b[49m\u001b[43mcatch\u001b[49m\u001b[38;5;241;43m=\u001b[39;49m\u001b[43mcatch\u001b[49m\u001b[43m,\u001b[49m\n\u001b[1;32m    407\u001b[0m \u001b[43m    \u001b[49m\u001b[43mcallbacks\u001b[49m\u001b[38;5;241;43m=\u001b[39;49m\u001b[43mcallbacks\u001b[49m\u001b[43m,\u001b[49m\n\u001b[1;32m    408\u001b[0m \u001b[43m    \u001b[49m\u001b[43mgc_after_trial\u001b[49m\u001b[38;5;241;43m=\u001b[39;49m\u001b[43mgc_after_trial\u001b[49m\u001b[43m,\u001b[49m\n\u001b[1;32m    409\u001b[0m \u001b[43m    \u001b[49m\u001b[43mshow_progress_bar\u001b[49m\u001b[38;5;241;43m=\u001b[39;49m\u001b[43mshow_progress_bar\u001b[49m\u001b[43m,\u001b[49m\n\u001b[1;32m    410\u001b[0m \u001b[43m\u001b[49m\u001b[43m)\u001b[49m\n",
      "File \u001b[0;32m~/miniconda3/envs/amex/lib/python3.10/site-packages/optuna/study/_optimize.py:66\u001b[0m, in \u001b[0;36m_optimize\u001b[0;34m(study, func, n_trials, timeout, n_jobs, catch, callbacks, gc_after_trial, show_progress_bar)\u001b[0m\n\u001b[1;32m     64\u001b[0m \u001b[38;5;28;01mtry\u001b[39;00m:\n\u001b[1;32m     65\u001b[0m     \u001b[38;5;28;01mif\u001b[39;00m n_jobs \u001b[38;5;241m==\u001b[39m \u001b[38;5;241m1\u001b[39m:\n\u001b[0;32m---> 66\u001b[0m         \u001b[43m_optimize_sequential\u001b[49m\u001b[43m(\u001b[49m\n\u001b[1;32m     67\u001b[0m \u001b[43m            \u001b[49m\u001b[43mstudy\u001b[49m\u001b[43m,\u001b[49m\n\u001b[1;32m     68\u001b[0m \u001b[43m            \u001b[49m\u001b[43mfunc\u001b[49m\u001b[43m,\u001b[49m\n\u001b[1;32m     69\u001b[0m \u001b[43m            \u001b[49m\u001b[43mn_trials\u001b[49m\u001b[43m,\u001b[49m\n\u001b[1;32m     70\u001b[0m \u001b[43m            \u001b[49m\u001b[43mtimeout\u001b[49m\u001b[43m,\u001b[49m\n\u001b[1;32m     71\u001b[0m \u001b[43m            \u001b[49m\u001b[43mcatch\u001b[49m\u001b[43m,\u001b[49m\n\u001b[1;32m     72\u001b[0m \u001b[43m            \u001b[49m\u001b[43mcallbacks\u001b[49m\u001b[43m,\u001b[49m\n\u001b[1;32m     73\u001b[0m \u001b[43m            \u001b[49m\u001b[43mgc_after_trial\u001b[49m\u001b[43m,\u001b[49m\n\u001b[1;32m     74\u001b[0m \u001b[43m            \u001b[49m\u001b[43mreseed_sampler_rng\u001b[49m\u001b[38;5;241;43m=\u001b[39;49m\u001b[38;5;28;43;01mFalse\u001b[39;49;00m\u001b[43m,\u001b[49m\n\u001b[1;32m     75\u001b[0m \u001b[43m            \u001b[49m\u001b[43mtime_start\u001b[49m\u001b[38;5;241;43m=\u001b[39;49m\u001b[38;5;28;43;01mNone\u001b[39;49;00m\u001b[43m,\u001b[49m\n\u001b[1;32m     76\u001b[0m \u001b[43m            \u001b[49m\u001b[43mprogress_bar\u001b[49m\u001b[38;5;241;43m=\u001b[39;49m\u001b[43mprogress_bar\u001b[49m\u001b[43m,\u001b[49m\n\u001b[1;32m     77\u001b[0m \u001b[43m        \u001b[49m\u001b[43m)\u001b[49m\n\u001b[1;32m     78\u001b[0m     \u001b[38;5;28;01melse\u001b[39;00m:\n\u001b[1;32m     79\u001b[0m         \u001b[38;5;28;01mif\u001b[39;00m show_progress_bar:\n",
      "File \u001b[0;32m~/miniconda3/envs/amex/lib/python3.10/site-packages/optuna/study/_optimize.py:163\u001b[0m, in \u001b[0;36m_optimize_sequential\u001b[0;34m(study, func, n_trials, timeout, catch, callbacks, gc_after_trial, reseed_sampler_rng, time_start, progress_bar)\u001b[0m\n\u001b[1;32m    160\u001b[0m         \u001b[38;5;28;01mbreak\u001b[39;00m\n\u001b[1;32m    162\u001b[0m \u001b[38;5;28;01mtry\u001b[39;00m:\n\u001b[0;32m--> 163\u001b[0m     trial \u001b[38;5;241m=\u001b[39m \u001b[43m_run_trial\u001b[49m\u001b[43m(\u001b[49m\u001b[43mstudy\u001b[49m\u001b[43m,\u001b[49m\u001b[43m \u001b[49m\u001b[43mfunc\u001b[49m\u001b[43m,\u001b[49m\u001b[43m \u001b[49m\u001b[43mcatch\u001b[49m\u001b[43m)\u001b[49m\n\u001b[1;32m    164\u001b[0m \u001b[38;5;28;01mexcept\u001b[39;00m \u001b[38;5;167;01mException\u001b[39;00m:\n\u001b[1;32m    165\u001b[0m     \u001b[38;5;28;01mraise\u001b[39;00m\n",
      "File \u001b[0;32m~/miniconda3/envs/amex/lib/python3.10/site-packages/optuna/study/_optimize.py:264\u001b[0m, in \u001b[0;36m_run_trial\u001b[0;34m(study, func, catch)\u001b[0m\n\u001b[1;32m    261\u001b[0m         \u001b[38;5;28;01massert\u001b[39;00m \u001b[38;5;28;01mFalse\u001b[39;00m, \u001b[38;5;124m\"\u001b[39m\u001b[38;5;124mShould not reach.\u001b[39m\u001b[38;5;124m\"\u001b[39m\n\u001b[1;32m    263\u001b[0m \u001b[38;5;28;01mif\u001b[39;00m state \u001b[38;5;241m==\u001b[39m TrialState\u001b[38;5;241m.\u001b[39mFAIL \u001b[38;5;129;01mand\u001b[39;00m func_err \u001b[38;5;129;01mis\u001b[39;00m \u001b[38;5;129;01mnot\u001b[39;00m \u001b[38;5;28;01mNone\u001b[39;00m \u001b[38;5;129;01mand\u001b[39;00m \u001b[38;5;129;01mnot\u001b[39;00m \u001b[38;5;28misinstance\u001b[39m(func_err, catch):\n\u001b[0;32m--> 264\u001b[0m     \u001b[38;5;28;01mraise\u001b[39;00m func_err\n\u001b[1;32m    265\u001b[0m \u001b[38;5;28;01mreturn\u001b[39;00m trial\n",
      "File \u001b[0;32m~/miniconda3/envs/amex/lib/python3.10/site-packages/optuna/study/_optimize.py:213\u001b[0m, in \u001b[0;36m_run_trial\u001b[0;34m(study, func, catch)\u001b[0m\n\u001b[1;32m    210\u001b[0m     thread\u001b[38;5;241m.\u001b[39mstart()\n\u001b[1;32m    212\u001b[0m \u001b[38;5;28;01mtry\u001b[39;00m:\n\u001b[0;32m--> 213\u001b[0m     value_or_values \u001b[38;5;241m=\u001b[39m \u001b[43mfunc\u001b[49m\u001b[43m(\u001b[49m\u001b[43mtrial\u001b[49m\u001b[43m)\u001b[49m\n\u001b[1;32m    214\u001b[0m \u001b[38;5;28;01mexcept\u001b[39;00m exceptions\u001b[38;5;241m.\u001b[39mTrialPruned \u001b[38;5;28;01mas\u001b[39;00m e:\n\u001b[1;32m    215\u001b[0m     \u001b[38;5;66;03m# TODO(mamu): Handle multi-objective cases.\u001b[39;00m\n\u001b[1;32m    216\u001b[0m     state \u001b[38;5;241m=\u001b[39m TrialState\u001b[38;5;241m.\u001b[39mPRUNED\n",
      "Input \u001b[0;32mIn [23]\u001b[0m, in \u001b[0;36mobjective\u001b[0;34m(trial)\u001b[0m\n\u001b[1;32m      7\u001b[0m fold \u001b[38;5;241m=\u001b[39m \u001b[38;5;28mstr\u001b[39m(fold)\n\u001b[1;32m      8\u001b[0m X_train, X_val, y_train, y_val, model \u001b[38;5;241m=\u001b[39m \u001b[38;5;28;01mNone\u001b[39;00m, \u001b[38;5;28;01mNone\u001b[39;00m, \u001b[38;5;28;01mNone\u001b[39;00m, \u001b[38;5;28;01mNone\u001b[39;00m, \u001b[38;5;28;01mNone\u001b[39;00m\n\u001b[0;32m----> 9\u001b[0m X_train \u001b[38;5;241m=\u001b[39m \u001b[43mtf\u001b[49m\u001b[38;5;241;43m.\u001b[39;49m\u001b[43mconvert_to_tensor\u001b[49m\u001b[43m(\u001b[49m\u001b[43mtrain\u001b[49m\u001b[38;5;241;43m.\u001b[39;49m\u001b[43miloc\u001b[49m\u001b[43m[\u001b[49m\u001b[43midx_tr\u001b[49m\u001b[43m]\u001b[49m\u001b[43m)\u001b[49m\n\u001b[1;32m     10\u001b[0m X_val \u001b[38;5;241m=\u001b[39m tf\u001b[38;5;241m.\u001b[39mconvert_to_tensor(train\u001b[38;5;241m.\u001b[39miloc[idx_va])\n\u001b[1;32m     11\u001b[0m y_train \u001b[38;5;241m=\u001b[39m target[idx_tr]\n",
      "File \u001b[0;32m~/miniconda3/envs/amex/lib/python3.10/site-packages/tensorflow/python/util/traceback_utils.py:153\u001b[0m, in \u001b[0;36mfilter_traceback.<locals>.error_handler\u001b[0;34m(*args, **kwargs)\u001b[0m\n\u001b[1;32m    151\u001b[0m \u001b[38;5;28;01mexcept\u001b[39;00m \u001b[38;5;167;01mException\u001b[39;00m \u001b[38;5;28;01mas\u001b[39;00m e:\n\u001b[1;32m    152\u001b[0m   filtered_tb \u001b[38;5;241m=\u001b[39m _process_traceback_frames(e\u001b[38;5;241m.\u001b[39m__traceback__)\n\u001b[0;32m--> 153\u001b[0m   \u001b[38;5;28;01mraise\u001b[39;00m e\u001b[38;5;241m.\u001b[39mwith_traceback(filtered_tb) \u001b[38;5;28;01mfrom\u001b[39;00m \u001b[38;5;28mNone\u001b[39m\n\u001b[1;32m    154\u001b[0m \u001b[38;5;28;01mfinally\u001b[39;00m:\n\u001b[1;32m    155\u001b[0m   \u001b[38;5;28;01mdel\u001b[39;00m filtered_tb\n",
      "File \u001b[0;32m~/miniconda3/envs/amex/lib/python3.10/site-packages/tensorflow/python/framework/constant_op.py:102\u001b[0m, in \u001b[0;36mconvert_to_eager_tensor\u001b[0;34m(value, ctx, dtype)\u001b[0m\n\u001b[1;32m    100\u001b[0m     dtype \u001b[38;5;241m=\u001b[39m dtypes\u001b[38;5;241m.\u001b[39mas_dtype(dtype)\u001b[38;5;241m.\u001b[39mas_datatype_enum\n\u001b[1;32m    101\u001b[0m ctx\u001b[38;5;241m.\u001b[39mensure_initialized()\n\u001b[0;32m--> 102\u001b[0m \u001b[38;5;28;01mreturn\u001b[39;00m \u001b[43mops\u001b[49m\u001b[38;5;241;43m.\u001b[39;49m\u001b[43mEagerTensor\u001b[49m\u001b[43m(\u001b[49m\u001b[43mvalue\u001b[49m\u001b[43m,\u001b[49m\u001b[43m \u001b[49m\u001b[43mctx\u001b[49m\u001b[38;5;241;43m.\u001b[39;49m\u001b[43mdevice_name\u001b[49m\u001b[43m,\u001b[49m\u001b[43m \u001b[49m\u001b[43mdtype\u001b[49m\u001b[43m)\u001b[49m\n",
      "\u001b[0;31mInternalError\u001b[0m: Failed copying input tensor from /job:localhost/replica:0/task:0/device:CPU:0 to /job:localhost/replica:0/task:0/device:GPU:0 in order to run _EagerConst: Dst tensor is not initialized."
     ]
    }
   ],
   "source": [
    "study.optimize(objective, n_trials=30)"
   ]
  },
  {
   "cell_type": "code",
   "execution_count": 26,
   "id": "d84f7933-1a15-4d74-8448-af981f8cf58e",
   "metadata": {},
   "outputs": [
    {
     "data": {
      "text/plain": [
       "1677"
      ]
     },
     "execution_count": 26,
     "metadata": {},
     "output_type": "execute_result"
    }
   ],
   "source": [
    "gc.collect()"
   ]
  },
  {
   "cell_type": "code",
   "execution_count": 27,
   "id": "b9e62f36-3107-4b44-b204-fa524bd49989",
   "metadata": {},
   "outputs": [],
   "source": [
    "# %%time\n",
    "# minmax_scaler = MinMaxScaler()\n",
    "# final_df = pd.DataFrame(minmax_scaler.fit_transform(final_df), \n",
    "#                         columns=final_df.columns)"
   ]
  },
  {
   "cell_type": "markdown",
   "id": "fa7ce3fd-bac0-4364-b611-819042c19358",
   "metadata": {},
   "source": [
    "### Standard Neural Network"
   ]
  },
  {
   "cell_type": "code",
   "execution_count": null,
   "id": "0eaf02d5-b112-401a-9346-908cb0e61369",
   "metadata": {},
   "outputs": [],
   "source": [
    "X_train = train.drop(columns=[\"target\"])\n",
    "X_val = val.drop(columns=[\"target\"])"
   ]
  },
  {
   "cell_type": "code",
   "execution_count": null,
   "id": "3b147ed3-595d-49c9-b6a2-87773d961f92",
   "metadata": {},
   "outputs": [],
   "source": [
    "y_train = train[\"target\"]\n",
    "y_val = val[\"target\"]"
   ]
  },
  {
   "cell_type": "code",
   "execution_count": null,
   "id": "8d765efc-911b-4613-8efe-f029ce7cdfea",
   "metadata": {},
   "outputs": [],
   "source": [
    "with warnings.catch_warnings():\n",
    "    warnings.filterwarnings('ignore', category=UserWarning)\n",
    "    history = model.fit(\n",
    "        X_train_, \n",
    "        y_train, \n",
    "        epochs=15, \n",
    "        batch_size=256, \n",
    "        validation_split=0.2, \n",
    "        callbacks=[es]\n",
    "    )\n",
    "y_train_pred = model.predict(X_train_).reshape(1, -1)[0]\n",
    "y_val_pred = model.predict(X_val_).reshape(1, -1)[0]\n",
    "train_metric, train_g, train_top4 = amex_metric_np(y_train_pred, y_train.values)\n",
    "val_metric, val_g, val_top4 = amex_metric_np(y_val_pred, y_val.values)\n",
    "# gc.collect()"
   ]
  },
  {
   "cell_type": "code",
   "execution_count": null,
   "id": "cebc85a5-553f-456b-8329-a5d094de9056",
   "metadata": {},
   "outputs": [],
   "source": [
    "# print(f\"Train: {train_metric:.4f}, {train_g:.4f}, {train_top4:.4f}\")\n",
    "# print(f\"Val  : {val_metric:.4f}, {val_g:.4f}, {val_top4:.4f}\")"
   ]
  },
  {
   "cell_type": "code",
   "execution_count": null,
   "id": "210e41d2-d9dc-48c0-b45a-17a4649b3981",
   "metadata": {},
   "outputs": [],
   "source": [
    "print(f\"Train: {train_metric:.4f}, {train_g:.4f}, {train_top4:.4f}\")\n",
    "print(f\"Val  : {val_metric:.4f}, {val_g:.4f}, {val_top4:.4f}\")"
   ]
  },
  {
   "cell_type": "markdown",
   "id": "809bcda1-10ac-49e7-9523-ce1534451ae3",
   "metadata": {},
   "source": [
    "### Optuna Tuning"
   ]
  },
  {
   "cell_type": "code",
   "execution_count": 28,
   "id": "70de774a-3ff1-4e0f-ad4a-32b2e6b7fd7c",
   "metadata": {},
   "outputs": [],
   "source": [
    "X_train, X_val, y_train, y_val = train_test_split(train, target, test_size=0.2, random_state=1020, stratify=target)"
   ]
  },
  {
   "cell_type": "code",
   "execution_count": 29,
   "id": "75361bfb-304b-4370-858c-42a1d73c1f7c",
   "metadata": {},
   "outputs": [],
   "source": [
    "def objective(trial):\n",
    "    # Get hyperparams\n",
    "    params = {\n",
    "        'drop_out1': trial.suggest_categorical(\"drop_out1\", np.arange(0.1, 0.6, 0.05)),\n",
    "        'drop_out2': trial.suggest_categorical(\"drop_out2\", np.arange(0.1, 0.6, 0.05)),\n",
    "        'drop_out3': trial.suggest_categorical(\"drop_out3\", np.arange(0.1, 0.6, 0.05)),\n",
    "        'dense1': trial.suggest_categorical(\"dense1\", [64, 128, 200, 256]),\n",
    "        'epochs': trial.suggest_categorical(\"epochs\", [15, 20, 25]),\n",
    "        'batch_size': trial.suggest_categorical(\"batch_size\", [64, 128, 256, 512, 1024]),\n",
    "        'validation_split': trial.suggest_float(\"validation_split\", 0.15, 0.3),\n",
    "    }\n",
    "    params[\"dense2\"] = trial.suggest_int(\"dense2\", int(params[\"dense1\"] * 0.25), int(params[\"dense1\"] * 0.75))\n",
    "    params[\"dense3\"] = trial.suggest_int(\"dense3\", int(params[\"dense2\"] * 0.25), int(params[\"dense2\"] * 0.75))\n",
    "    print(params)\n",
    "    # Compile model\n",
    "    model = Sequential()\n",
    "    model.add(Dense(params[\"dense1\"], input_shape=(X_train.shape[1],), kernel_initializer='he_normal', activation='relu'))\n",
    "    model.add(Dropout(params[\"drop_out1\"]))\n",
    "    model.add(Dense(params[\"dense2\"], activation='relu', kernel_initializer='he_normal'))\n",
    "    model.add(Dropout(params[\"drop_out2\"]))\n",
    "    model.add(Dense(params[\"dense3\"], activation='relu', kernel_initializer='he_normal'))\n",
    "    model.add(Dropout(params[\"drop_out3\"]))\n",
    "    model.add(Dense(1, activation='sigmoid'))\n",
    "    es = EarlyStopping(monitor='val_loss', patience=5)\n",
    "    model.compile(optimizer='adam', loss='binary_crossentropy', metrics=['AUC'])\n",
    "    \n",
    "    with warnings.catch_warnings():\n",
    "        warnings.filterwarnings('ignore', category=UserWarning)\n",
    "        history = model.fit(\n",
    "            X_train, \n",
    "            y_train, \n",
    "            epochs=params[\"epochs\"], \n",
    "            batch_size=params[\"batch_size\"], \n",
    "            validation_split=params[\"validation_split\"], \n",
    "            callbacks=[es], \n",
    "            verbose=0\n",
    "        )\n",
    "    y_train_pred = model.predict(X_train).reshape(1, -1)[0]\n",
    "    y_val_pred = model.predict(X_val).reshape(1, -1)[0]\n",
    "    del model\n",
    "    train_metric, train_g, train_top4 = amex_metric_np(y_train_pred, y_train.values)\n",
    "    val_metric, val_g, val_top4 = amex_metric_np(y_val_pred, y_val.values)\n",
    "    print(f\"{Fore.GREEN}{Style.BRIGHT} Train Score = {train_metric:.5f} ({train_g}, {train_top4})\")\n",
    "    print(f\"Val Score = {val_metric:.5f}{Style.RESET_ALL} ({val_g}, {val_top4})\")\n",
    "    \n",
    "    return val_metric"
   ]
  },
  {
   "cell_type": "code",
   "execution_count": 30,
   "id": "fa10e3f6-b9f6-4f0d-9ada-8d4a72d94083",
   "metadata": {},
   "outputs": [
    {
     "data": {
      "text/plain": [
       "((367130, 3057), (367130,))"
      ]
     },
     "execution_count": 30,
     "metadata": {},
     "output_type": "execute_result"
    }
   ],
   "source": [
    "X_train.shape, y_train.shape"
   ]
  },
  {
   "cell_type": "code",
   "execution_count": 31,
   "id": "f8a72151-e8bd-4768-8018-8907c1f82bc3",
   "metadata": {},
   "outputs": [
    {
     "name": "stderr",
     "output_type": "stream",
     "text": [
      "\u001b[32m[I 2022-08-07 09:08:21,641]\u001b[0m A new study created in memory with name: no-name-66cf7d6c-eee6-465b-9562-9129e4bc262b\u001b[0m\n"
     ]
    }
   ],
   "source": [
    "study = optuna.create_study(direction=\"maximize\")"
   ]
  },
  {
   "cell_type": "code",
   "execution_count": null,
   "id": "aa5d6924-3c5d-430e-9f04-40c48879bc22",
   "metadata": {},
   "outputs": [
    {
     "name": "stdout",
     "output_type": "stream",
     "text": [
      "{'drop_out1': 0.5000000000000001, 'drop_out2': 0.45000000000000007, 'drop_out3': 0.5500000000000002, 'dense1': 256, 'epochs': 25, 'batch_size': 128, 'validation_split': 0.22621634286241138, 'dense2': 165, 'dense3': 69}\n"
     ]
    }
   ],
   "source": [
    "study.optimize(objective, n_trials=10)"
   ]
  },
  {
   "cell_type": "code",
   "execution_count": null,
   "id": "815d18df-5822-4b90-a995-08b33984c3bb",
   "metadata": {},
   "outputs": [],
   "source": [
    "gc.collect()"
   ]
  },
  {
   "cell_type": "code",
   "execution_count": null,
   "id": "de45e775-1f07-442d-8be5-092296838df6",
   "metadata": {},
   "outputs": [],
   "source": [
    "del train"
   ]
  },
  {
   "cell_type": "code",
   "execution_count": null,
   "id": "c08b090a-5d9c-46b5-af5b-bc60d5dbfe0c",
   "metadata": {},
   "outputs": [],
   "source": [
    "def objective(trial):\n",
    "    classifier = create_classifier(trial)\n",
    "\n",
    "    optuna_pruning_hook = optuna.integration.TensorFlowPruningHook(\n",
    "        trial=trial,\n",
    "        estimator=classifier,\n",
    "        metric=\"accuracy\",\n",
    "        run_every_steps=PRUNING_INTERVAL_STEPS,\n",
    "    )\n",
    "\n",
    "    train_spec = tf.estimator.TrainSpec(\n",
    "        input_fn=train_input_fn, max_steps=TRAIN_STEPS, hooks=[optuna_pruning_hook]\n",
    "    )\n",
    "\n",
    "    eval_spec = tf.estimator.EvalSpec(input_fn=eval_input_fn, start_delay_secs=0, throttle_secs=0)\n",
    "\n",
    "    eval_results, _ = tf.estimator.train_and_evaluate(classifier, train_spec, eval_spec)\n",
    "\n",
    "    return float(eval_results[\"accuracy\"])"
   ]
  },
  {
   "cell_type": "code",
   "execution_count": null,
   "id": "8f749aad-35f4-4ffb-bac6-61c70eb17b30",
   "metadata": {},
   "outputs": [],
   "source": []
  },
  {
   "cell_type": "code",
   "execution_count": null,
   "id": "cd14666d-8187-481f-b0a0-b28afabe424d",
   "metadata": {},
   "outputs": [],
   "source": []
  },
  {
   "cell_type": "markdown",
   "id": "c7a8d575-dc08-4ded-b599-3c0e66fc30ec",
   "metadata": {},
   "source": [
    "### END"
   ]
  },
  {
   "cell_type": "markdown",
   "id": "dca9ccfe-152a-468a-963e-70390042f9a7",
   "metadata": {},
   "source": [
    "### Inference"
   ]
  },
  {
   "cell_type": "code",
   "execution_count": null,
   "id": "1034c26d-9e78-4e09-8a53-332da4cbbac6",
   "metadata": {},
   "outputs": [],
   "source": [
    "%%time\n",
    "test_agg = read_file(f\"{PROCESSED_DATA_PATH}/test_agg_finer.pkl\")"
   ]
  },
  {
   "cell_type": "markdown",
   "id": "056fec3d-9088-4429-b92f-58e3ad47f149",
   "metadata": {},
   "source": [
    "#### One Hot Encode Category Columns"
   ]
  },
  {
   "cell_type": "code",
   "execution_count": null,
   "id": "f69c26bc-4f44-47a7-97ae-153c2fd252d6",
   "metadata": {},
   "outputs": [],
   "source": [
    "temp = pd.get_dummies(test_agg.select_dtypes(\"category\"))\n",
    "test_agg = test_agg.drop(columns=test_agg.select_dtypes(\"category\").columns.tolist(), errors=\"ignore\")"
   ]
  },
  {
   "cell_type": "code",
   "execution_count": null,
   "id": "97f65fa0-60f1-4f28-9642-fd0762d05084",
   "metadata": {},
   "outputs": [],
   "source": [
    "test_agg = pd.concat([test_agg, temp], axis=1)\n",
    "del temp"
   ]
  },
  {
   "cell_type": "code",
   "execution_count": null,
   "id": "6393402e-646c-4c46-b6b7-2b4002773a50",
   "metadata": {},
   "outputs": [],
   "source": [
    "test_agg.shape"
   ]
  },
  {
   "cell_type": "markdown",
   "id": "d0b26945-108b-4d0c-9ee8-b08e0e5b4ebc",
   "metadata": {},
   "source": [
    "#### Impute Less Missing Columns"
   ]
  },
  {
   "cell_type": "code",
   "execution_count": null,
   "id": "d12ed23d-c318-43c1-b0ef-dc148ee4c84d",
   "metadata": {},
   "outputs": [],
   "source": [
    "# pd.Series(train_col, name=\"feature\").to_csv(f\"{EXP_PATH}/neural_network/features.csv\", index=False)"
   ]
  },
  {
   "cell_type": "code",
   "execution_count": null,
   "id": "3d3a04cc-875f-48bc-81e6-b14f6332fa3d",
   "metadata": {},
   "outputs": [],
   "source": [
    "column_to_use = pd.read_csv(f\"{EXP_PATH}/neural_network/features.csv\")[\"feature\"].tolist()"
   ]
  },
  {
   "cell_type": "code",
   "execution_count": null,
   "id": "3a318404-9d35-42ad-a3c2-c22f886c4dca",
   "metadata": {},
   "outputs": [],
   "source": [
    "test_agg = test_agg.loc[:, column_to_use]\n",
    "test_agg.shape"
   ]
  },
  {
   "cell_type": "code",
   "execution_count": null,
   "id": "da6e3e3a-c778-44bc-8be8-df89c9d57260",
   "metadata": {},
   "outputs": [],
   "source": [
    "missing_prop_df = plot_missing_proportion_barchart(test_agg)"
   ]
  },
  {
   "cell_type": "code",
   "execution_count": null,
   "id": "f530dfa5-f4ec-4ee7-8b0d-83fc0b42e641",
   "metadata": {},
   "outputs": [],
   "source": [
    "can_impute_columns = missing_prop_df.loc[missing_prop_df[\"missing_proportion\"] > 0].column.tolist()"
   ]
  },
  {
   "cell_type": "code",
   "execution_count": null,
   "id": "3b079cd0-b42e-4739-9c92-b3b8d5d5f8fe",
   "metadata": {},
   "outputs": [],
   "source": [
    "for col in tqdm(can_impute_columns):\n",
    "    test_agg[col] = test_agg[col].fillna(test_agg[col].mean())"
   ]
  },
  {
   "cell_type": "code",
   "execution_count": null,
   "id": "74f54336-ff86-4418-962e-3b7d9a11c5bd",
   "metadata": {},
   "outputs": [],
   "source": [
    "minmax_scaler = MinMaxScaler()"
   ]
  },
  {
   "cell_type": "code",
   "execution_count": null,
   "id": "e417200c-9afe-465b-8945-db9738b3a267",
   "metadata": {},
   "outputs": [],
   "source": [
    "test_agg = pd.DataFrame(minmax_scaler.fit_transform(test_agg), columns=test_agg.columns)"
   ]
  },
  {
   "cell_type": "code",
   "execution_count": null,
   "id": "9ff92122-7255-4255-b910-21443cbd529b",
   "metadata": {},
   "outputs": [],
   "source": [
    "test_agg.shape"
   ]
  },
  {
   "cell_type": "code",
   "execution_count": null,
   "id": "eb6910c9-9f76-46ac-ba24-473b63351a22",
   "metadata": {},
   "outputs": [],
   "source": [
    "tf.config.list_physical_devices('GPU')[0].name"
   ]
  },
  {
   "cell_type": "code",
   "execution_count": null,
   "id": "247aac6f-4fd4-47e4-b8ef-bc2b217b8621",
   "metadata": {},
   "outputs": [],
   "source": [
    "tf.config.experimental.get_memory_usage(device='GPU:0')"
   ]
  },
  {
   "cell_type": "code",
   "execution_count": null,
   "id": "9a08dd62-12d7-4d12-ae0e-5975e9bc1501",
   "metadata": {},
   "outputs": [],
   "source": [
    "tf.config.list_physical_devices(\"CPU\")"
   ]
  },
  {
   "cell_type": "code",
   "execution_count": null,
   "id": "81184a75-6709-4211-9e1c-ad53f20d321c",
   "metadata": {},
   "outputs": [],
   "source": [
    "with tf.device(\"GPU:0\"):\n",
    "    test_agg1 = tf.convert_to_tensor(test_agg.iloc[:460_000])\n",
    "    # test_agg2 = tf.convert_to_tensor(test_agg.iloc[460_000:])"
   ]
  },
  {
   "cell_type": "code",
   "execution_count": null,
   "id": "089bca3e-78b7-4d93-8023-75a4efe81f3b",
   "metadata": {},
   "outputs": [],
   "source": [
    "fold = 1\n",
    "loaded_model = keras.models.load_model(f'{EXP_PATH}/neural_network/models/model{fold}')\n",
    "pred_ = loaded_model.predict(test_agg1)\n",
    "a = pred_.reshape(1, -1)[0]"
   ]
  },
  {
   "cell_type": "code",
   "execution_count": null,
   "id": "77eef000-8815-4219-b122-4c1cd70e6b0b",
   "metadata": {},
   "outputs": [],
   "source": [
    "del a, pred_"
   ]
  },
  {
   "cell_type": "code",
   "execution_count": null,
   "id": "693fb4c2-4bf0-4d49-b905-dfd0311e920c",
   "metadata": {},
   "outputs": [],
   "source": [
    "# result = pd.read_csv(f\"{SUBMISSION_DATA_PATH}/submission25_0.799.csv\")"
   ]
  },
  {
   "cell_type": "code",
   "execution_count": null,
   "id": "4cbb59d2-f5f4-4925-94ab-6d604ab4ed64",
   "metadata": {},
   "outputs": [],
   "source": [
    "for fold in tqdm(range(1, 6)):\n",
    "    loaded_model = keras.models.load_model(f'{EXP_PATH}/neural_network/models/model{fold}')\n",
    "    pred_ = loaded_model.predict(test_agg1)\n",
    "    result.loc[:460_000-1, f\"pred{fold}\"] = pred_.reshape(1, -1)[0]\n",
    "    tf.keras.backend.clear_session()"
   ]
  },
  {
   "cell_type": "code",
   "execution_count": null,
   "id": "c07c36ab-90ce-4882-a0c0-e1f2bf0db76d",
   "metadata": {},
   "outputs": [],
   "source": []
  },
  {
   "cell_type": "code",
   "execution_count": null,
   "id": "60a32828-ef66-415d-86f2-c584d0951bc5",
   "metadata": {},
   "outputs": [],
   "source": []
  },
  {
   "cell_type": "code",
   "execution_count": null,
   "id": "93eb26fc-f353-4502-8f43-b199e25dbcf6",
   "metadata": {},
   "outputs": [],
   "source": [
    "amex_metric_np(y_val_pred.reshape(1, -1)[0], y_val.values)"
   ]
  },
  {
   "cell_type": "code",
   "execution_count": null,
   "id": "62d3f27d-96c9-4f93-a02b-db30ac16ab53",
   "metadata": {},
   "outputs": [],
   "source": [
    "type(y_val.values), type(y_val_pred)"
   ]
  },
  {
   "cell_type": "code",
   "execution_count": null,
   "id": "983d631f-7346-4b67-bef1-410d66d45f71",
   "metadata": {},
   "outputs": [],
   "source": [
    "loss, acc = model.evaluate(X_train_agg_, y_train_agg, verbose=0)\n",
    "loss, acc"
   ]
  },
  {
   "cell_type": "code",
   "execution_count": null,
   "id": "2d1db025-9a3d-4d2b-a5bf-dec2fb63e423",
   "metadata": {},
   "outputs": [],
   "source": [
    "loss, acc = model.evaluate(X_val_, y_val, verbose=0)\n",
    "loss, acc"
   ]
  },
  {
   "cell_type": "code",
   "execution_count": null,
   "id": "e6d85ac7-10ee-4259-b329-13aa50dc4f58",
   "metadata": {},
   "outputs": [],
   "source": [
    "model.predict(X_val_)[:, 0]"
   ]
  },
  {
   "cell_type": "code",
   "execution_count": null,
   "id": "49ce13a1-6515-4dcf-97f5-664d4fd3a504",
   "metadata": {},
   "outputs": [],
   "source": [
    "train[\"nn_score\"] = model.predict(X_train_)[:, 0]\n",
    "val[\"nn_score\"] = model.predict(X_val_)[:, 0]"
   ]
  },
  {
   "cell_type": "code",
   "execution_count": null,
   "id": "3b13b22b-b77c-4a1b-aee1-730da4fd6b36",
   "metadata": {},
   "outputs": [],
   "source": [
    "train[\"nn_score\"].mean(), val[\"nn_score\"].mean()"
   ]
  },
  {
   "cell_type": "code",
   "execution_count": null,
   "id": "0dda3696-9082-464f-8f2c-42c8b90968dd",
   "metadata": {},
   "outputs": [],
   "source": []
  },
  {
   "cell_type": "code",
   "execution_count": null,
   "id": "4d32ab96-3177-4042-a8ca-d92d82c35524",
   "metadata": {},
   "outputs": [],
   "source": [
    "y_train_pred = final_lgbm_clf.predict_proba(X_train)[:, 1]\n",
    "y_val_pred = final_lgbm_clf.predict_proba(X_val)[:, 1]"
   ]
  },
  {
   "cell_type": "code",
   "execution_count": null,
   "id": "d7ef1dac-33bd-425e-abb7-1423dae456a9",
   "metadata": {},
   "outputs": [],
   "source": [
    "plot_roc_curves([y_train, y_val], \n",
    "                [y_train_pred, y_val_pred], \n",
    "                labels=[\"Train\", \"Validation\"], \n",
    "                title=\"Train Validation ROC AUC\")"
   ]
  },
  {
   "cell_type": "code",
   "execution_count": null,
   "id": "b5ec7d16-e398-4fe9-bd13-3e412807bee9",
   "metadata": {},
   "outputs": [],
   "source": [
    "imp_df = plot_feature_importance(final_lgbm_clf.feature_name_, \n",
    "                                 final_lgbm_clf.feature_importances_, \n",
    "                                 title=\"Feature Importance\",\n",
    "                                 limit=50)"
   ]
  },
  {
   "cell_type": "code",
   "execution_count": null,
   "id": "55610023-caa6-4a4f-a0fa-61a927d9e876",
   "metadata": {},
   "outputs": [],
   "source": [
    "feature_imp_thr = imp_df.loc[imp_df[\"feature\"] == \"dummy\"][\"feature_importance\"].values[0]"
   ]
  },
  {
   "cell_type": "code",
   "execution_count": null,
   "id": "e040c798-77a1-49ee-b197-09589cfe6b75",
   "metadata": {},
   "outputs": [],
   "source": [
    "selected_features = imp_df.loc[imp_df[\"feature_importance\"] > feature_imp_thr][\"feature\"].tolist()\n",
    "len(selected_features)"
   ]
  },
  {
   "cell_type": "code",
   "execution_count": null,
   "id": "5fbb5848-efd4-4724-b6a8-0cb3951abb4b",
   "metadata": {},
   "outputs": [],
   "source": []
  }
 ],
 "metadata": {
  "kernelspec": {
   "display_name": "amex",
   "language": "python",
   "name": "amex"
  },
  "language_info": {
   "codemirror_mode": {
    "name": "ipython",
    "version": 3
   },
   "file_extension": ".py",
   "mimetype": "text/x-python",
   "name": "python",
   "nbconvert_exporter": "python",
   "pygments_lexer": "ipython3",
   "version": "3.10.0"
  }
 },
 "nbformat": 4,
 "nbformat_minor": 5
}
