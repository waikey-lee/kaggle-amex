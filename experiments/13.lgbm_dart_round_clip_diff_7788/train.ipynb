{
 "cells": [
  {
   "cell_type": "code",
   "execution_count": null,
   "id": "5dd2ca34-3410-4078-aa48-7adbba211ed5",
   "metadata": {},
   "outputs": [],
   "source": [
    "import datetime\n",
    "import gc\n",
    "import joblib\n",
    "import json\n",
    "import lightgbm as lgb\n",
    "import matplotlib.pyplot as plt\n",
    "import pandas as pd\n",
    "import numpy as np\n",
    "import optuna\n",
    "import os\n",
    "import seaborn as sns\n",
    "import sys\n",
    "sys.path.append(\"../\")\n",
    "sys.path.append(\"../../\")\n",
    "import time\n",
    "import warnings\n",
    "warnings.simplefilter(\"ignore\")\n",
    "from collections import Counter\n",
    "from itertools import repeat\n",
    "from lightgbm import LGBMClassifier, log_evaluation\n",
    "from sklearn.calibration import CalibrationDisplay\n",
    "from sklearn.model_selection import train_test_split, RandomizedSearchCV, StratifiedKFold\n",
    "from sklearn.preprocessing import StandardScaler\n",
    "from sklearn.metrics import roc_auc_score, fbeta_score, make_scorer\n",
    "from tqdm import tqdm"
   ]
  },
  {
   "cell_type": "code",
   "execution_count": null,
   "id": "fb17d64c-4cdb-4906-be84-1348484a4886",
   "metadata": {},
   "outputs": [],
   "source": [
    "from matplotlib.ticker import MaxNLocator\n",
    "from matplotlib.colors import ListedColormap\n",
    "from cycler import cycler\n",
    "from IPython.display import display\n",
    "from colorama import Fore, Back, Style\n",
    "plt.rcParams['axes.facecolor'] = '#0057b8' # blue\n",
    "plt.rcParams['axes.prop_cycle'] = cycler(color=['#ffd700'] +\n",
    "                                         plt.rcParams['axes.prop_cycle'].by_key()['color'][1:])\n",
    "plt.rcParams['text.color'] = 'w'"
   ]
  },
  {
   "cell_type": "code",
   "execution_count": null,
   "id": "a084bef6-4434-40fb-bafc-d7d3e4c57a14",
   "metadata": {},
   "outputs": [],
   "source": [
    "from utils.common import (\n",
    "    sigmoid, pad_column_name\n",
    ")\n",
    "from utils.constants import *\n",
    "from utils.eval_helpers import (\n",
    "    plot_roc_curves, plot_feature_importance, \n",
    "    amex_metric, get_final_metric_df, amex_metric_np, lgb_amex_metric,\n",
    "    TreeExperiment\n",
    ")\n",
    "from utils.eda_helpers import (\n",
    "    plot_missing_proportion_barchart, \n",
    "    get_cols\n",
    ")\n",
    "from utils.extraction_helpers import read_file\n",
    "from utils.feature_group import (\n",
    "    CATEGORY_COLUMNS, CONTINUOUS_COLUMNS, NON_FEATURE_COLUMNS\n",
    ")"
   ]
  },
  {
   "cell_type": "code",
   "execution_count": null,
   "id": "67194602-57fc-4e92-9801-8d600e52a5b2",
   "metadata": {},
   "outputs": [],
   "source": [
    "%load_ext autoreload\n",
    "%autoreload"
   ]
  },
  {
   "cell_type": "markdown",
   "id": "3885beac-e245-43b6-a2cc-73e9f871d132",
   "metadata": {},
   "source": [
    "### Read Data"
   ]
  },
  {
   "cell_type": "code",
   "execution_count": 35,
   "id": "d6d46155-ea8e-4212-8c63-5b7ac8b08d3c",
   "metadata": {},
   "outputs": [
    {
     "name": "stdout",
     "output_type": "stream",
     "text": [
      "Shape of data: (458913, 5064)\n",
      "Shape of data: (458913, 438)\n",
      "CPU times: user 1min, sys: 2min 56s, total: 3min 57s\n",
      "Wall time: 2min 48s\n"
     ]
    }
   ],
   "source": [
    "%%time\n",
    "train_agg = read_file(f\"../{PROCESSED_DATA_PATH}/v7/train_agg.parquet\")\n",
    "train_agg_diff = read_file(f\"../{PROCESSED_DATA_PATH}/v7/train_agg_diff_selected.parquet\")"
   ]
  },
  {
   "cell_type": "code",
   "execution_count": 36,
   "id": "a9c7632d-3cf9-4ff9-9467-9ebe9d2daecd",
   "metadata": {},
   "outputs": [
    {
     "name": "stdout",
     "output_type": "stream",
     "text": [
      "Shape of data: (458913, 2)\n"
     ]
    }
   ],
   "source": [
    "labels = read_file(f\"../{RAW_DATA_PATH}/train_labels.csv\")\n",
    "target = labels[\"target\"].values"
   ]
  },
  {
   "cell_type": "code",
   "execution_count": 37,
   "id": "ffe8f01a-341d-4cbe-8c46-8ae026830c00",
   "metadata": {},
   "outputs": [
    {
     "name": "stdout",
     "output_type": "stream",
     "text": [
      "['D_117_third_last', 'D_116_third_last', 'D_63_third_last', 'D_117_first', 'D_116_first', 'D_92_first', 'D_114_third_last', 'D_116_second_last', 'B_30_last', 'D_120_third_last', 'D_126_first', 'B_38_first', 'D_64_second_last', 'D_120_second_last', 'D_63_first', 'D_114_second_last', 'D_116_last', 'D_64_first', 'B_38_second_last', 'D_92_second_last', 'D_63_second_last', 'D_63_last', 'B_38_last', 'B_30_second_last', 'D_64_last', 'D_120_first', 'D_92_last', 'D_114_last', 'D_92_third_last', 'D_126_third_last', 'D_68_first', 'D_117_second_last', 'D_64_third_last', 'D_120_last', 'D_126_second_last', 'D_68_second_last', 'B_38_third_last', 'B_30_first', 'D_117_last', 'B_30_third_last', 'D_114_first', 'D_68_third_last', 'D_68_last', 'D_126_last']\n"
     ]
    }
   ],
   "source": [
    "cat_columns = get_cols(train_agg, CATEGORY_COLUMNS)\n",
    "cat_features = list(set(cat_columns).intersection(train_agg.columns))\n",
    "print(cat_features)"
   ]
  },
  {
   "cell_type": "code",
   "execution_count": 38,
   "id": "255eb6eb-8fb1-4824-8985-3de98a912faf",
   "metadata": {},
   "outputs": [],
   "source": [
    "train_agg_diff = train_agg_diff.rename(columns={k: k + \"_diff\" for k in train_agg_diff.columns})"
   ]
  },
  {
   "cell_type": "code",
   "execution_count": 39,
   "id": "80925934-1a9e-4dda-b8dc-4557eb8c6d7f",
   "metadata": {},
   "outputs": [
    {
     "data": {
      "text/plain": [
       "((458913, 5064), (458913, 438), (458913,))"
      ]
     },
     "execution_count": 39,
     "metadata": {},
     "output_type": "execute_result"
    }
   ],
   "source": [
    "train_agg.shape, train_agg_diff.shape, target.shape"
   ]
  },
  {
   "cell_type": "code",
   "execution_count": 40,
   "id": "1a269d70-ea18-46d9-8187-3fa6fb1a8aa1",
   "metadata": {},
   "outputs": [],
   "source": [
    "train_agg = pd.concat([train_agg, train_agg_diff], axis=1)"
   ]
  },
  {
   "cell_type": "code",
   "execution_count": 41,
   "id": "43494659-a4a0-46ce-896c-3b1eabdadafa",
   "metadata": {},
   "outputs": [
    {
     "data": {
      "text/plain": [
       "(458913, 5502)"
      ]
     },
     "execution_count": 41,
     "metadata": {},
     "output_type": "execute_result"
    }
   ],
   "source": [
    "train_agg.shape"
   ]
  },
  {
   "cell_type": "code",
   "execution_count": 42,
   "id": "34222493-b32d-448e-9282-3fba0c32c28e",
   "metadata": {},
   "outputs": [],
   "source": [
    "# train_agg = train_agg.rename(columns={k: k.replace(\"_ori\", \"\") for k in train_agg.columns})"
   ]
  },
  {
   "cell_type": "code",
   "execution_count": 43,
   "id": "8bbb2f7d-7092-43db-9ae0-beec60f6319e",
   "metadata": {},
   "outputs": [],
   "source": [
    "# train_agg_diff.iloc[:, 1:] = train_agg_diff.iloc[:, 1:].rename(columns={k: k + \"_diff\" for k in train_agg_diff.columns})"
   ]
  },
  {
   "cell_type": "code",
   "execution_count": 44,
   "id": "079b1fa5-3bea-4a19-80a8-dfb2dcc67d9a",
   "metadata": {},
   "outputs": [],
   "source": [
    "model = joblib.load(\"model_fold0_seed7788_diff_only.pkl\")"
   ]
  },
  {
   "cell_type": "code",
   "execution_count": 45,
   "id": "918d6592-3892-44db-8601-3801dd5303ce",
   "metadata": {},
   "outputs": [],
   "source": [
    "imp_df = pd.DataFrame(dict(feature=model.feature_name(), imp=model.feature_importance()))\n",
    "imp_df = imp_df.sort_values(by=\"imp\", ascending=False)"
   ]
  },
  {
   "cell_type": "code",
   "execution_count": 76,
   "id": "e2e39984-d554-4219-8d39-828b3b2743ca",
   "metadata": {},
   "outputs": [],
   "source": [
    "dropped_features = imp_df.loc[imp_df[\"imp\"] < 20].feature.tolist()"
   ]
  },
  {
   "cell_type": "code",
   "execution_count": 77,
   "id": "55d31b14-279a-41cf-83e5-eb07b3ba32be",
   "metadata": {},
   "outputs": [
    {
     "data": {
      "text/plain": [
       "1363"
      ]
     },
     "execution_count": 77,
     "metadata": {},
     "output_type": "execute_result"
    }
   ],
   "source": [
    "len(dropped_features)"
   ]
  },
  {
   "cell_type": "code",
   "execution_count": 79,
   "id": "35fa648e-9b8f-4353-9fee-ba4e7a3edc9a",
   "metadata": {},
   "outputs": [],
   "source": [
    "train_agg = train_agg.drop(columns=dropped_features, errors=\"ignore\")"
   ]
  },
  {
   "cell_type": "code",
   "execution_count": 80,
   "id": "a3153c9d-5a05-4acb-a6a4-dcb0da467faf",
   "metadata": {},
   "outputs": [
    {
     "data": {
      "text/plain": [
       "((458913, 4137), (458913,))"
      ]
     },
     "execution_count": 80,
     "metadata": {},
     "output_type": "execute_result"
    }
   ],
   "source": [
    "train_agg.shape, target.shape"
   ]
  },
  {
   "cell_type": "code",
   "execution_count": 81,
   "id": "1d8bbf3f-617e-4704-ba09-61391c7dd954",
   "metadata": {},
   "outputs": [],
   "source": [
    "seed = 7788"
   ]
  },
  {
   "cell_type": "markdown",
   "id": "171ab5b8-61d4-4bc9-889e-cdcdb9c7841a",
   "metadata": {},
   "source": [
    "### Feature selection"
   ]
  },
  {
   "cell_type": "code",
   "execution_count": 13,
   "id": "23e515a9-789e-4f6c-bea4-a3a093aa8b67",
   "metadata": {},
   "outputs": [],
   "source": [
    "# %%time\n",
    "# lgbm_gbdt = TreeExperiment(\n",
    "#     exp_full_path=\"../../experiments/11.lgbm_dart_round_clip_7788\",\n",
    "#     seed=7788, \n",
    "#     model_path=\"gbdt_models\"\n",
    "# )"
   ]
  },
  {
   "cell_type": "code",
   "execution_count": 14,
   "id": "f9562b28-dc94-4a6e-ab64-4f2d02ef7e26",
   "metadata": {},
   "outputs": [],
   "source": [
    "# fi = lgbm_gbdt.feature_imp_df"
   ]
  },
  {
   "cell_type": "code",
   "execution_count": null,
   "id": "4ea81ad8-8f06-4155-99e8-4798cb1a6c2c",
   "metadata": {},
   "outputs": [],
   "source": [
    "master = []\n",
    "for i in range(5):\n",
    "    master.extend(fi.nsmallest(1700, f\"importance{i}\")[\"feature\"].tolist())"
   ]
  },
  {
   "cell_type": "code",
   "execution_count": null,
   "id": "fafef0cb-181e-452d-8782-1534e7a1848d",
   "metadata": {},
   "outputs": [],
   "source": [
    "fi_dict = dict(Counter(master))"
   ]
  },
  {
   "cell_type": "code",
   "execution_count": null,
   "id": "577ff13b-d689-4a40-b6b2-517cdad9152d",
   "metadata": {},
   "outputs": [],
   "source": [
    "col_to_drop = [k for k, v in fi_dict.items() if v >= 5]"
   ]
  },
  {
   "cell_type": "code",
   "execution_count": null,
   "id": "7087f58d-a7c2-4bb3-8365-bcdcada1f9c1",
   "metadata": {},
   "outputs": [],
   "source": [
    "len(col_to_drop)"
   ]
  },
  {
   "cell_type": "code",
   "execution_count": null,
   "id": "3cf6cdfc-dad0-49cc-8959-458075bfb784",
   "metadata": {},
   "outputs": [],
   "source": [
    "train_agg.shape"
   ]
  },
  {
   "cell_type": "code",
   "execution_count": null,
   "id": "6161818d-2842-4c11-be3d-4ba2341b5fe1",
   "metadata": {},
   "outputs": [],
   "source": [
    "%%time\n",
    "train_agg = train_agg.drop(columns=col_to_drop)"
   ]
  },
  {
   "cell_type": "code",
   "execution_count": 15,
   "id": "d0dd0a24-a871-4456-a96c-a4e0d6a2afd8",
   "metadata": {},
   "outputs": [
    {
     "data": {
      "text/plain": [
       "(458913, 3461)"
      ]
     },
     "execution_count": 15,
     "metadata": {},
     "output_type": "execute_result"
    }
   ],
   "source": [
    "train_agg.shape"
   ]
  },
  {
   "cell_type": "code",
   "execution_count": 16,
   "id": "709c3164-79d5-4808-babd-a4442c1873e5",
   "metadata": {},
   "outputs": [
    {
     "data": {
      "text/plain": [
       "0"
      ]
     },
     "execution_count": 16,
     "metadata": {},
     "output_type": "execute_result"
    }
   ],
   "source": [
    "len(cat_features)"
   ]
  },
  {
   "cell_type": "markdown",
   "id": "63209e65-9d82-4b2e-bf34-f4a15560f08f",
   "metadata": {},
   "source": [
    "### Train LGBM using pre-set hyperparams"
   ]
  },
  {
   "cell_type": "code",
   "execution_count": 83,
   "id": "b6689e11-526a-4e32-a8c9-a7ba6b7e5869",
   "metadata": {},
   "outputs": [],
   "source": [
    "params = {\n",
    "    'objective': 'binary',\n",
    "    'metric': \"binary_logloss\",\n",
    "    'boosting': 'dart',\n",
    "    'device': \"cpu\",\n",
    "    'seed': seed,\n",
    "    'num_leaves': 90,\n",
    "    'learning_rate': 0.011,\n",
    "    'feature_fraction': 0.19,\n",
    "    'bagging_freq': 8,\n",
    "    'bagging_fraction': 0.55,\n",
    "    'n_jobs': -1,\n",
    "    'lambda_l2': 15,\n",
    "    'min_data_in_leaf': 75,\n",
    "    'scale_pos_weight': 1.4,\n",
    "    'max_bins': 255,\n",
    "    'feature_fraction_bynode': 0.9,\n",
    "    'drop_rate': 0.1,\n",
    "    'skip_drop': 0.55\n",
    "}"
   ]
  },
  {
   "cell_type": "code",
   "execution_count": 84,
   "id": "b4242c36-4936-45c9-a8e7-33ff9a312586",
   "metadata": {},
   "outputs": [],
   "source": [
    "# params = {\n",
    "#     'objective': 'binary',\n",
    "#     'first_metric_only': True,\n",
    "#     'metric': \"binary_logloss\",\n",
    "#     'boosting': 'dart',\n",
    "#     'device': \"cpu\",\n",
    "#     'seed': seed,\n",
    "#     'num_leaves': 100,\n",
    "#     'learning_rate': 0.01,\n",
    "#     'feature_fraction': 0.19,\n",
    "#     'bagging_freq': 10,\n",
    "#     'bagging_fraction': 0.5,\n",
    "#     'n_jobs': -1,\n",
    "#     'lambda_l2': 5,\n",
    "#     'min_data_in_leaf': 125,\n",
    "#     'scale_pos_weight': 1.3,\n",
    "#     'max_bins': 255,\n",
    "#     'feature_fraction_bynode': 0.95,\n",
    "#     'drop_rate': 0.11,\n",
    "#     'skip_drop': 0.6\n",
    "# }"
   ]
  },
  {
   "cell_type": "code",
   "execution_count": 85,
   "id": "c57a3a3d-a51c-436e-9b0b-d19a66668b58",
   "metadata": {},
   "outputs": [],
   "source": [
    "kfold = StratifiedKFold(n_splits=5, shuffle=True, random_state=seed)"
   ]
  },
  {
   "cell_type": "code",
   "execution_count": 86,
   "id": "29b170e8-eac9-4d09-970d-14244f215eb8",
   "metadata": {},
   "outputs": [],
   "source": [
    "n_est = [7500] * 5\n",
    "# n_est = [9500] * 5"
   ]
  },
  {
   "cell_type": "code",
   "execution_count": 87,
   "id": "167f10c3-13e5-4a85-b3bb-479bc248f148",
   "metadata": {},
   "outputs": [
    {
     "data": {
      "text/plain": [
       "1572"
      ]
     },
     "execution_count": 87,
     "metadata": {},
     "output_type": "execute_result"
    }
   ],
   "source": [
    "gc.collect()"
   ]
  },
  {
   "cell_type": "code",
   "execution_count": 88,
   "id": "ec4a4f97-25b8-407d-9711-57db7dc74ef2",
   "metadata": {},
   "outputs": [
    {
     "name": "stdout",
     "output_type": "stream",
     "text": [
      "['D_117_third_last', 'D_116_third_last', 'D_63_third_last', 'D_117_first', 'D_116_first', 'D_92_first', 'D_114_third_last', 'D_116_second_last', 'B_30_last', 'D_120_third_last', 'D_126_first', 'B_38_first', 'D_64_second_last', 'D_120_second_last', 'D_63_first', 'D_114_second_last', 'D_116_last', 'D_64_first', 'B_38_second_last', 'D_92_second_last', 'D_63_second_last', 'D_63_last', 'B_38_last', 'B_30_second_last', 'D_64_last', 'D_120_first', 'D_92_last', 'D_114_last', 'D_92_third_last', 'D_126_third_last', 'D_68_first', 'D_117_second_last', 'D_64_third_last', 'D_120_last', 'D_126_second_last', 'D_68_second_last', 'B_38_third_last', 'B_30_first', 'D_117_last', 'B_30_third_last', 'D_114_first', 'D_68_third_last', 'D_68_last', 'D_126_last']\n"
     ]
    }
   ],
   "source": [
    "cat_columns = get_cols(train_agg, CATEGORY_COLUMNS)\n",
    "cat_features = list(set(cat_columns).intersection(train_agg.columns))\n",
    "print(cat_features)"
   ]
  },
  {
   "cell_type": "code",
   "execution_count": 89,
   "id": "8d30d5ec-df43-41d9-b1c7-7b588ef7a711",
   "metadata": {},
   "outputs": [
    {
     "data": {
      "text/plain": [
       "44"
      ]
     },
     "execution_count": 89,
     "metadata": {},
     "output_type": "execute_result"
    }
   ],
   "source": [
    "len(cat_features)"
   ]
  },
  {
   "cell_type": "code",
   "execution_count": 90,
   "id": "3c6386e9-fb0c-46a3-87be-941c94906b8c",
   "metadata": {},
   "outputs": [
    {
     "data": {
      "text/plain": [
       "(458913, 4137)"
      ]
     },
     "execution_count": 90,
     "metadata": {},
     "output_type": "execute_result"
    }
   ],
   "source": [
    "train_agg.shape"
   ]
  },
  {
   "cell_type": "code",
   "execution_count": 91,
   "id": "a228548f-e0d9-4c76-a1b9-d83176ebcb06",
   "metadata": {},
   "outputs": [
    {
     "name": "stdout",
     "output_type": "stream",
     "text": [
      "CPU times: user 4.05 s, sys: 18 s, total: 22.1 s\n",
      "Wall time: 31.8 s\n"
     ]
    },
    {
     "data": {
      "text/plain": [
       "72"
      ]
     },
     "execution_count": 91,
     "metadata": {},
     "output_type": "execute_result"
    }
   ],
   "source": [
    "%%time\n",
    "train_agg = train_agg.drop(columns=NON_FEATURE_COLUMNS + [\"target\"], errors=\"ignore\")\n",
    "gc.collect()"
   ]
  },
  {
   "cell_type": "code",
   "execution_count": 95,
   "id": "eb1954f8-0f0c-4ea4-9d3a-6325ced176cd",
   "metadata": {},
   "outputs": [],
   "source": [
    "train_agg.to_parquet(f\"../{EXP_PATH}/13.lgbm_dart_round_clip_diff_7788/final_train.parquet\")"
   ]
  },
  {
   "cell_type": "code",
   "execution_count": 92,
   "id": "c675965d-9865-4a92-821e-b5c5e89cb15d",
   "metadata": {},
   "outputs": [
    {
     "name": "stdout",
     "output_type": "stream",
     "text": [
      " \n",
      "--------------------------------------------------\n",
      "Training fold 0 with 4137 features...\n",
      "--------------------------------------------------\n",
      "Start Training fold 0\n",
      "[LightGBM] [Warning] Met negative value in categorical features, will convert it to NaN\n",
      "[LightGBM] [Warning] Met negative value in categorical features, will convert it to NaN\n",
      "[LightGBM] [Warning] Met negative value in categorical features, will convert it to NaN\n",
      "[LightGBM] [Warning] Met negative value in categorical features, will convert it to NaN\n",
      "[LightGBM] [Warning] Met negative value in categorical features, will convert it to NaN\n",
      "[LightGBM] [Warning] Met negative value in categorical features, will convert it to NaN\n",
      "[LightGBM] [Warning] Met negative value in categorical features, will convert it to NaN\n",
      "[LightGBM] [Warning] Met negative value in categorical features, will convert it to NaN\n",
      "[LightGBM] [Warning] Met negative value in categorical features, will convert it to NaN\n",
      "[LightGBM] [Warning] Met negative value in categorical features, will convert it to NaN\n",
      "[LightGBM] [Warning] Met negative value in categorical features, will convert it to NaN\n",
      "[LightGBM] [Info] Number of positive: 95062, number of negative: 272068\n",
      "[LightGBM] [Warning] Auto-choosing col-wise multi-threading, the overhead of testing was 13.998990 seconds.\n",
      "You can set `force_col_wise=true` to remove the overhead.\n",
      "[LightGBM] [Info] Total Bins 617831\n",
      "[LightGBM] [Info] Number of data points in the train set: 367130, number of used features: 4129\n",
      "[LightGBM] [Info] [binary:BoostFromScore]: pavg=0.258933 -> initscore=-1.051523\n",
      "[LightGBM] [Info] Start training from score -1.051523\n",
      "[500]\ttraining's binary_logloss: 0.31147\ttraining's amex: 0.774339\tvalid_1's binary_logloss: 0.316384\tvalid_1's amex: 0.760052\n",
      "[1000]\ttraining's binary_logloss: 0.230813\ttraining's amex: 0.796697\tvalid_1's binary_logloss: 0.241597\tvalid_1's amex: 0.776241\n",
      "[1500]\ttraining's binary_logloss: 0.21517\ttraining's amex: 0.811194\tvalid_1's binary_logloss: 0.230816\tvalid_1's amex: 0.782153\n",
      "[2000]\ttraining's binary_logloss: 0.205994\ttraining's amex: 0.824419\tvalid_1's binary_logloss: 0.226425\tvalid_1's amex: 0.786087\n",
      "[2500]\ttraining's binary_logloss: 0.198205\ttraining's amex: 0.834448\tvalid_1's binary_logloss: 0.223829\tvalid_1's amex: 0.788229\n",
      "[3000]\ttraining's binary_logloss: 0.190229\ttraining's amex: 0.846318\tvalid_1's binary_logloss: 0.221885\tvalid_1's amex: 0.789903\n",
      "[3500]\ttraining's binary_logloss: 0.184069\ttraining's amex: 0.856645\tvalid_1's binary_logloss: 0.220923\tvalid_1's amex: 0.791233\n",
      "[4000]\ttraining's binary_logloss: 0.178709\ttraining's amex: 0.865844\tvalid_1's binary_logloss: 0.220305\tvalid_1's amex: 0.792024\n",
      "[4500]\ttraining's binary_logloss: 0.17318\ttraining's amex: 0.875235\tvalid_1's binary_logloss: 0.219699\tvalid_1's amex: 0.79269\n",
      "[5000]\ttraining's binary_logloss: 0.167645\ttraining's amex: 0.885031\tvalid_1's binary_logloss: 0.219297\tvalid_1's amex: 0.793388\n",
      "[5500]\ttraining's binary_logloss: 0.162089\ttraining's amex: 0.894044\tvalid_1's binary_logloss: 0.218963\tvalid_1's amex: 0.793371\n",
      "[6000]\ttraining's binary_logloss: 0.157159\ttraining's amex: 0.903085\tvalid_1's binary_logloss: 0.218751\tvalid_1's amex: 0.794021\n",
      "[6500]\ttraining's binary_logloss: 0.15239\ttraining's amex: 0.911553\tvalid_1's binary_logloss: 0.218567\tvalid_1's amex: 0.793405\n",
      "[7000]\ttraining's binary_logloss: 0.148258\ttraining's amex: 0.918905\tvalid_1's binary_logloss: 0.218428\tvalid_1's amex: 0.793489\n",
      "[7500]\ttraining's binary_logloss: 0.144031\ttraining's amex: 0.926372\tvalid_1's binary_logloss: 0.218283\tvalid_1's amex: 0.793962\n",
      "Our fold 0 CV score is 0.7937446813298554\n",
      " \n",
      "--------------------------------------------------\n",
      "Training fold 1 with 4137 features...\n",
      "--------------------------------------------------\n",
      "Start Training fold 1\n",
      "[LightGBM] [Warning] Met negative value in categorical features, will convert it to NaN\n",
      "[LightGBM] [Warning] Met negative value in categorical features, will convert it to NaN\n",
      "[LightGBM] [Warning] Met negative value in categorical features, will convert it to NaN\n",
      "[LightGBM] [Warning] Met negative value in categorical features, will convert it to NaN\n",
      "[LightGBM] [Warning] Met negative value in categorical features, will convert it to NaN\n",
      "[LightGBM] [Warning] Met negative value in categorical features, will convert it to NaN\n",
      "[LightGBM] [Warning] Met negative value in categorical features, will convert it to NaN\n",
      "[LightGBM] [Warning] Met negative value in categorical features, will convert it to NaN\n",
      "[LightGBM] [Warning] Met negative value in categorical features, will convert it to NaN\n",
      "[LightGBM] [Warning] Met negative value in categorical features, will convert it to NaN\n",
      "[LightGBM] [Warning] Met negative value in categorical features, will convert it to NaN\n",
      "[LightGBM] [Info] Number of positive: 95062, number of negative: 272068\n",
      "[LightGBM] [Warning] Auto-choosing col-wise multi-threading, the overhead of testing was 12.881142 seconds.\n",
      "You can set `force_col_wise=true` to remove the overhead.\n",
      "[LightGBM] [Info] Total Bins 617662\n",
      "[LightGBM] [Info] Number of data points in the train set: 367130, number of used features: 4129\n",
      "[LightGBM] [Info] [binary:BoostFromScore]: pavg=0.258933 -> initscore=-1.051523\n",
      "[LightGBM] [Info] Start training from score -1.051523\n",
      "[500]\ttraining's binary_logloss: 0.311622\ttraining's amex: 0.772969\tvalid_1's binary_logloss: 0.315049\tvalid_1's amex: 0.766562\n",
      "[1000]\ttraining's binary_logloss: 0.231179\ttraining's amex: 0.7955\tvalid_1's binary_logloss: 0.239958\tvalid_1's amex: 0.781487\n",
      "[1500]\ttraining's binary_logloss: 0.215621\ttraining's amex: 0.810102\tvalid_1's binary_logloss: 0.229277\tvalid_1's amex: 0.788945\n",
      "[2000]\ttraining's binary_logloss: 0.20642\ttraining's amex: 0.822671\tvalid_1's binary_logloss: 0.224972\tvalid_1's amex: 0.792585\n",
      "[2500]\ttraining's binary_logloss: 0.19856\ttraining's amex: 0.833289\tvalid_1's binary_logloss: 0.222251\tvalid_1's amex: 0.796269\n",
      "[3000]\ttraining's binary_logloss: 0.190586\ttraining's amex: 0.845139\tvalid_1's binary_logloss: 0.220414\tvalid_1's amex: 0.797581\n",
      "[3500]\ttraining's binary_logloss: 0.184373\ttraining's amex: 0.856057\tvalid_1's binary_logloss: 0.219446\tvalid_1's amex: 0.798916\n",
      "[4000]\ttraining's binary_logloss: 0.179015\ttraining's amex: 0.865194\tvalid_1's binary_logloss: 0.218866\tvalid_1's amex: 0.798565\n",
      "[4500]\ttraining's binary_logloss: 0.173524\ttraining's amex: 0.87463\tvalid_1's binary_logloss: 0.218413\tvalid_1's amex: 0.79841\n",
      "[5000]\ttraining's binary_logloss: 0.167938\ttraining's amex: 0.884455\tvalid_1's binary_logloss: 0.217938\tvalid_1's amex: 0.799106\n",
      "[5500]\ttraining's binary_logloss: 0.162481\ttraining's amex: 0.893691\tvalid_1's binary_logloss: 0.217586\tvalid_1's amex: 0.799321\n",
      "[6000]\ttraining's binary_logloss: 0.157538\ttraining's amex: 0.903226\tvalid_1's binary_logloss: 0.217314\tvalid_1's amex: 0.799548\n",
      "[6500]\ttraining's binary_logloss: 0.152786\ttraining's amex: 0.911041\tvalid_1's binary_logloss: 0.217126\tvalid_1's amex: 0.798879\n",
      "[7000]\ttraining's binary_logloss: 0.148599\ttraining's amex: 0.918524\tvalid_1's binary_logloss: 0.216966\tvalid_1's amex: 0.798989\n",
      "[7500]\ttraining's binary_logloss: 0.144337\ttraining's amex: 0.925627\tvalid_1's binary_logloss: 0.216799\tvalid_1's amex: 0.799046\n",
      "Our fold 1 CV score is 0.7988068877918804\n",
      " \n",
      "--------------------------------------------------\n",
      "Training fold 2 with 4137 features...\n",
      "--------------------------------------------------\n",
      "Start Training fold 2\n",
      "[LightGBM] [Warning] Met negative value in categorical features, will convert it to NaN\n",
      "[LightGBM] [Warning] Met negative value in categorical features, will convert it to NaN\n",
      "[LightGBM] [Warning] Met negative value in categorical features, will convert it to NaN\n",
      "[LightGBM] [Warning] Met negative value in categorical features, will convert it to NaN\n",
      "[LightGBM] [Warning] Met negative value in categorical features, will convert it to NaN\n",
      "[LightGBM] [Warning] Met negative value in categorical features, will convert it to NaN\n",
      "[LightGBM] [Warning] Met negative value in categorical features, will convert it to NaN\n",
      "[LightGBM] [Warning] Met negative value in categorical features, will convert it to NaN\n",
      "[LightGBM] [Warning] Met negative value in categorical features, will convert it to NaN\n",
      "[LightGBM] [Warning] Met negative value in categorical features, will convert it to NaN\n",
      "[LightGBM] [Warning] Met negative value in categorical features, will convert it to NaN\n",
      "[LightGBM] [Info] Number of positive: 95062, number of negative: 272068\n",
      "[LightGBM] [Warning] Auto-choosing col-wise multi-threading, the overhead of testing was 13.266000 seconds.\n",
      "You can set `force_col_wise=true` to remove the overhead.\n",
      "[LightGBM] [Info] Total Bins 617559\n",
      "[LightGBM] [Info] Number of data points in the train set: 367130, number of used features: 4129\n",
      "[LightGBM] [Info] [binary:BoostFromScore]: pavg=0.258933 -> initscore=-1.051523\n",
      "[LightGBM] [Info] Start training from score -1.051523\n",
      "[500]\ttraining's binary_logloss: 0.311589\ttraining's amex: 0.774134\tvalid_1's binary_logloss: 0.315173\tvalid_1's amex: 0.76318\n",
      "[1000]\ttraining's binary_logloss: 0.231017\ttraining's amex: 0.797207\tvalid_1's binary_logloss: 0.240087\tvalid_1's amex: 0.776924\n",
      "[1500]\ttraining's binary_logloss: 0.21562\ttraining's amex: 0.8113\tvalid_1's binary_logloss: 0.229169\tvalid_1's amex: 0.784082\n",
      "[2000]\ttraining's binary_logloss: 0.206534\ttraining's amex: 0.82365\tvalid_1's binary_logloss: 0.224645\tvalid_1's amex: 0.78838\n",
      "[2500]\ttraining's binary_logloss: 0.19874\ttraining's amex: 0.834126\tvalid_1's binary_logloss: 0.221757\tvalid_1's amex: 0.791864\n",
      "[3000]\ttraining's binary_logloss: 0.190761\ttraining's amex: 0.845614\tvalid_1's binary_logloss: 0.219674\tvalid_1's amex: 0.793869\n",
      "[3500]\ttraining's binary_logloss: 0.184572\ttraining's amex: 0.856191\tvalid_1's binary_logloss: 0.218722\tvalid_1's amex: 0.794556\n",
      "[4000]\ttraining's binary_logloss: 0.179254\ttraining's amex: 0.865477\tvalid_1's binary_logloss: 0.218173\tvalid_1's amex: 0.795137\n",
      "[4500]\ttraining's binary_logloss: 0.173754\ttraining's amex: 0.874961\tvalid_1's binary_logloss: 0.217574\tvalid_1's amex: 0.795267\n",
      "[5000]\ttraining's binary_logloss: 0.168169\ttraining's amex: 0.883705\tvalid_1's binary_logloss: 0.217097\tvalid_1's amex: 0.79579\n",
      "[5500]\ttraining's binary_logloss: 0.162636\ttraining's amex: 0.893493\tvalid_1's binary_logloss: 0.216697\tvalid_1's amex: 0.795777\n",
      "[6000]\ttraining's binary_logloss: 0.157735\ttraining's amex: 0.902819\tvalid_1's binary_logloss: 0.21644\tvalid_1's amex: 0.796155\n",
      "[6500]\ttraining's binary_logloss: 0.152955\ttraining's amex: 0.911315\tvalid_1's binary_logloss: 0.2162\tvalid_1's amex: 0.796534\n",
      "[7000]\ttraining's binary_logloss: 0.148804\ttraining's amex: 0.918439\tvalid_1's binary_logloss: 0.216138\tvalid_1's amex: 0.796309\n",
      "[7500]\ttraining's binary_logloss: 0.144567\ttraining's amex: 0.925471\tvalid_1's binary_logloss: 0.215948\tvalid_1's amex: 0.796413\n",
      "Our fold 2 CV score is 0.7962164581446477\n",
      " \n",
      "--------------------------------------------------\n",
      "Training fold 3 with 4137 features...\n",
      "--------------------------------------------------\n",
      "Start Training fold 3\n",
      "[LightGBM] [Warning] Met negative value in categorical features, will convert it to NaN\n",
      "[LightGBM] [Warning] Met negative value in categorical features, will convert it to NaN\n",
      "[LightGBM] [Warning] Met negative value in categorical features, will convert it to NaN\n",
      "[LightGBM] [Warning] Met negative value in categorical features, will convert it to NaN\n",
      "[LightGBM] [Warning] Met negative value in categorical features, will convert it to NaN\n",
      "[LightGBM] [Warning] Met negative value in categorical features, will convert it to NaN\n",
      "[LightGBM] [Warning] Met negative value in categorical features, will convert it to NaN\n",
      "[LightGBM] [Warning] Met negative value in categorical features, will convert it to NaN\n",
      "[LightGBM] [Warning] Met negative value in categorical features, will convert it to NaN\n",
      "[LightGBM] [Warning] Met negative value in categorical features, will convert it to NaN\n",
      "[LightGBM] [Warning] Met negative value in categorical features, will convert it to NaN\n",
      "[LightGBM] [Info] Number of positive: 95063, number of negative: 272068\n",
      "[LightGBM] [Warning] Auto-choosing col-wise multi-threading, the overhead of testing was 14.549508 seconds.\n",
      "You can set `force_col_wise=true` to remove the overhead.\n",
      "[LightGBM] [Info] Total Bins 617614\n",
      "[LightGBM] [Info] Number of data points in the train set: 367131, number of used features: 4128\n",
      "[LightGBM] [Info] [binary:BoostFromScore]: pavg=0.258935 -> initscore=-1.051512\n",
      "[LightGBM] [Info] Start training from score -1.051512\n",
      "[500]\ttraining's binary_logloss: 0.31181\ttraining's amex: 0.772555\tvalid_1's binary_logloss: 0.314913\tvalid_1's amex: 0.767333\n",
      "[1000]\ttraining's binary_logloss: 0.231463\ttraining's amex: 0.795758\tvalid_1's binary_logloss: 0.239577\tvalid_1's amex: 0.782887\n",
      "[1500]\ttraining's binary_logloss: 0.215917\ttraining's amex: 0.810425\tvalid_1's binary_logloss: 0.228645\tvalid_1's amex: 0.789526\n",
      "[2000]\ttraining's binary_logloss: 0.206759\ttraining's amex: 0.822711\tvalid_1's binary_logloss: 0.224136\tvalid_1's amex: 0.793054\n",
      "[2500]\ttraining's binary_logloss: 0.198925\ttraining's amex: 0.833435\tvalid_1's binary_logloss: 0.221241\tvalid_1's amex: 0.795082\n",
      "[3000]\ttraining's binary_logloss: 0.190987\ttraining's amex: 0.845239\tvalid_1's binary_logloss: 0.219183\tvalid_1's amex: 0.796645\n",
      "[3500]\ttraining's binary_logloss: 0.184783\ttraining's amex: 0.855825\tvalid_1's binary_logloss: 0.218107\tvalid_1's amex: 0.797542\n",
      "[4000]\ttraining's binary_logloss: 0.179472\ttraining's amex: 0.865094\tvalid_1's binary_logloss: 0.217507\tvalid_1's amex: 0.798096\n",
      "[4500]\ttraining's binary_logloss: 0.173959\ttraining's amex: 0.874472\tvalid_1's binary_logloss: 0.216883\tvalid_1's amex: 0.798452\n",
      "[5000]\ttraining's binary_logloss: 0.168333\ttraining's amex: 0.883485\tvalid_1's binary_logloss: 0.21625\tvalid_1's amex: 0.79947\n",
      "[5500]\ttraining's binary_logloss: 0.162841\ttraining's amex: 0.893079\tvalid_1's binary_logloss: 0.215811\tvalid_1's amex: 0.799378\n",
      "[6000]\ttraining's binary_logloss: 0.157893\ttraining's amex: 0.902468\tvalid_1's binary_logloss: 0.215556\tvalid_1's amex: 0.799493\n",
      "[6500]\ttraining's binary_logloss: 0.153145\ttraining's amex: 0.910624\tvalid_1's binary_logloss: 0.215351\tvalid_1's amex: 0.79941\n",
      "[7000]\ttraining's binary_logloss: 0.148996\ttraining's amex: 0.918126\tvalid_1's binary_logloss: 0.215175\tvalid_1's amex: 0.799332\n",
      "[7500]\ttraining's binary_logloss: 0.144716\ttraining's amex: 0.925563\tvalid_1's binary_logloss: 0.214975\tvalid_1's amex: 0.799719\n",
      "Our fold 3 CV score is 0.7995077349607178\n",
      " \n",
      "--------------------------------------------------\n",
      "Training fold 4 with 4137 features...\n",
      "--------------------------------------------------\n",
      "Start Training fold 4\n",
      "[LightGBM] [Warning] Met negative value in categorical features, will convert it to NaN\n",
      "[LightGBM] [Warning] Met negative value in categorical features, will convert it to NaN\n",
      "[LightGBM] [Warning] Met negative value in categorical features, will convert it to NaN\n",
      "[LightGBM] [Warning] Met negative value in categorical features, will convert it to NaN\n",
      "[LightGBM] [Warning] Met negative value in categorical features, will convert it to NaN\n",
      "[LightGBM] [Warning] Met negative value in categorical features, will convert it to NaN\n",
      "[LightGBM] [Warning] Met negative value in categorical features, will convert it to NaN\n",
      "[LightGBM] [Warning] Met negative value in categorical features, will convert it to NaN\n",
      "[LightGBM] [Warning] Met negative value in categorical features, will convert it to NaN\n",
      "[LightGBM] [Warning] Met negative value in categorical features, will convert it to NaN\n",
      "[LightGBM] [Warning] Met negative value in categorical features, will convert it to NaN\n",
      "[LightGBM] [Info] Number of positive: 95063, number of negative: 272068\n",
      "[LightGBM] [Warning] Auto-choosing col-wise multi-threading, the overhead of testing was 13.770666 seconds.\n",
      "You can set `force_col_wise=true` to remove the overhead.\n",
      "[LightGBM] [Info] Total Bins 617585\n",
      "[LightGBM] [Info] Number of data points in the train set: 367131, number of used features: 4129\n",
      "[LightGBM] [Info] [binary:BoostFromScore]: pavg=0.258935 -> initscore=-1.051512\n",
      "[LightGBM] [Info] Start training from score -1.051512\n",
      "[500]\ttraining's binary_logloss: 0.311409\ttraining's amex: 0.774133\tvalid_1's binary_logloss: 0.315476\tvalid_1's amex: 0.760845\n",
      "[1000]\ttraining's binary_logloss: 0.230825\ttraining's amex: 0.797216\tvalid_1's binary_logloss: 0.240773\tvalid_1's amex: 0.775899\n",
      "[1500]\ttraining's binary_logloss: 0.215198\ttraining's amex: 0.811105\tvalid_1's binary_logloss: 0.230139\tvalid_1's amex: 0.78291\n",
      "[2000]\ttraining's binary_logloss: 0.206124\ttraining's amex: 0.824293\tvalid_1's binary_logloss: 0.225891\tvalid_1's amex: 0.787241\n",
      "[2500]\ttraining's binary_logloss: 0.198217\ttraining's amex: 0.835137\tvalid_1's binary_logloss: 0.223152\tvalid_1's amex: 0.790367\n",
      "[3000]\ttraining's binary_logloss: 0.190272\ttraining's amex: 0.84649\tvalid_1's binary_logloss: 0.22122\tvalid_1's amex: 0.793415\n",
      "[3500]\ttraining's binary_logloss: 0.184119\ttraining's amex: 0.856946\tvalid_1's binary_logloss: 0.22024\tvalid_1's amex: 0.794966\n",
      "[4000]\ttraining's binary_logloss: 0.178816\ttraining's amex: 0.866049\tvalid_1's binary_logloss: 0.219573\tvalid_1's amex: 0.795167\n",
      "[4500]\ttraining's binary_logloss: 0.17332\ttraining's amex: 0.875493\tvalid_1's binary_logloss: 0.218977\tvalid_1's amex: 0.794743\n",
      "[5000]\ttraining's binary_logloss: 0.167691\ttraining's amex: 0.884865\tvalid_1's binary_logloss: 0.218514\tvalid_1's amex: 0.794818\n",
      "[5500]\ttraining's binary_logloss: 0.162245\ttraining's amex: 0.894321\tvalid_1's binary_logloss: 0.218228\tvalid_1's amex: 0.795489\n",
      "[6000]\ttraining's binary_logloss: 0.157298\ttraining's amex: 0.903634\tvalid_1's binary_logloss: 0.218\tvalid_1's amex: 0.795582\n",
      "[6500]\ttraining's binary_logloss: 0.1526\ttraining's amex: 0.91154\tvalid_1's binary_logloss: 0.217904\tvalid_1's amex: 0.795508\n",
      "[7000]\ttraining's binary_logloss: 0.148398\ttraining's amex: 0.918891\tvalid_1's binary_logloss: 0.217713\tvalid_1's amex: 0.795995\n",
      "[7500]\ttraining's binary_logloss: 0.144192\ttraining's amex: 0.926025\tvalid_1's binary_logloss: 0.217563\tvalid_1's amex: 0.795717\n",
      "Our fold 4 CV score is 0.7955061119661339\n"
     ]
    }
   ],
   "source": [
    "for fold, (trn_ind, val_ind) in enumerate(kfold.split(train_agg, target)):\n",
    "    n_estimator = n_est[fold]\n",
    "    print(' ')\n",
    "    print('-'*50)\n",
    "    print(f'Training fold {fold} with {train_agg.shape[1]} features...')\n",
    "    print('-'*50)\n",
    "    x_train, x_val = train_agg.iloc[trn_ind], train_agg.iloc[val_ind]\n",
    "    y_train, y_val = target[trn_ind], target[val_ind]\n",
    "    lgb_train = lgb.Dataset(x_train, y_train, categorical_feature=cat_features)\n",
    "    lgb_valid = lgb.Dataset(x_val, y_val, categorical_feature=cat_features)\n",
    "    print(f\"Start Training fold {fold}\")\n",
    "    model = lgb.train(\n",
    "        params = params,\n",
    "        train_set = lgb_train,\n",
    "        num_boost_round = n_estimator,\n",
    "        valid_sets = [lgb_train, lgb_valid],\n",
    "        early_stopping_rounds = 600,\n",
    "        verbose_eval = 500,\n",
    "        feval = lgb_amex_metric\n",
    "    )\n",
    "    # Save best model\n",
    "    joblib.dump(model, f'./dart_models/model_fold{fold}_seed{seed}.pkl')\n",
    "    # Predict validation\n",
    "    y_val_pred = model.predict(x_val, raw_score=True)\n",
    "    val_score, val_g, val_t4 = amex_metric(y_val, y_val_pred)                                      \n",
    "    print(f'Our fold {fold} CV score is {val_score}')\n",
    "    del x_train, x_val, y_train, y_val, lgb_train, lgb_valid\n",
    "    gc.collect()"
   ]
  },
  {
   "cell_type": "markdown",
   "id": "1c53bc2b-b088-42bd-865f-6f2cb0415cfb",
   "metadata": {},
   "source": [
    "### Process Test"
   ]
  },
  {
   "cell_type": "code",
   "execution_count": null,
   "id": "032f84d7-ba37-40c2-b811-e33ea16c26b1",
   "metadata": {},
   "outputs": [],
   "source": [
    "%%time\n",
    "test_agg = read_file(f\"../{PROCESSED_DATA_PATH}/v7/test_agg.parquet\")\n",
    "test_agg_diff = read_file(f\"../{PROCESSED_DATA_PATH}/v7/test_agg_diff_selected.parquet\")"
   ]
  },
  {
   "cell_type": "code",
   "execution_count": null,
   "id": "848852c3-a129-4bc7-b80a-22ef2817643b",
   "metadata": {},
   "outputs": [],
   "source": [
    "test_agg_diff = test_agg_diff.rename(columns={k: k + \"_diff\" for k in test_agg_diff.columns})"
   ]
  },
  {
   "cell_type": "code",
   "execution_count": null,
   "id": "d59f0b47-ded7-45b6-8800-b88d082522aa",
   "metadata": {},
   "outputs": [],
   "source": [
    "test_agg.shape, test_agg_diff.shape"
   ]
  },
  {
   "cell_type": "code",
   "execution_count": null,
   "id": "ca3e3faf-6a9b-4062-b906-1436887c7120",
   "metadata": {},
   "outputs": [],
   "source": [
    "test_agg = pd.concat([test_agg, test_agg_diff], axis=1)"
   ]
  },
  {
   "cell_type": "code",
   "execution_count": null,
   "id": "df74f249-c3d4-48d2-b670-f482453e552b",
   "metadata": {},
   "outputs": [],
   "source": [
    "del test_agg_diff"
   ]
  },
  {
   "cell_type": "code",
   "execution_count": null,
   "id": "a0e28953-c344-48b3-ab4d-7c9952026846",
   "metadata": {},
   "outputs": [],
   "source": [
    "test_agg.shape"
   ]
  },
  {
   "cell_type": "code",
   "execution_count": null,
   "id": "4df7d28a-ccf7-40db-b274-c937250619c7",
   "metadata": {},
   "outputs": [],
   "source": [
    "model = joblib.load(\"model_fold0_seed7788_diff_only.pkl\")"
   ]
  },
  {
   "cell_type": "code",
   "execution_count": null,
   "id": "8ac2160d-cfd3-4e2c-bd12-8670521d6d6d",
   "metadata": {},
   "outputs": [],
   "source": [
    "imp_df = pd.DataFrame(dict(feature=model.feature_name(), imp=model.feature_importance()))\n",
    "imp_df = imp_df.sort_values(by=\"imp\", ascending=False)"
   ]
  },
  {
   "cell_type": "code",
   "execution_count": null,
   "id": "915dcb39-fa84-4e21-a54d-f83a805c3365",
   "metadata": {},
   "outputs": [],
   "source": [
    "dropped_features = imp_df.loc[imp_df[\"imp\"] < 20].feature.tolist()"
   ]
  },
  {
   "cell_type": "code",
   "execution_count": null,
   "id": "29f003c7-705f-4000-9ecf-9b908b5fc680",
   "metadata": {},
   "outputs": [],
   "source": [
    "len(dropped_features)"
   ]
  },
  {
   "cell_type": "code",
   "execution_count": null,
   "id": "c9fe3676-db7c-4bc6-88ae-938fcb15b699",
   "metadata": {},
   "outputs": [],
   "source": [
    "test_agg = test_agg.drop(columns=dropped_features, errors=\"ignore\")"
   ]
  },
  {
   "cell_type": "code",
   "execution_count": null,
   "id": "dd957a08-0877-4e82-b2b1-bfd851eb895a",
   "metadata": {},
   "outputs": [],
   "source": [
    "test_agg.shape"
   ]
  },
  {
   "cell_type": "code",
   "execution_count": null,
   "id": "71382c32-9790-498b-8e17-29d05129cbb1",
   "metadata": {},
   "outputs": [],
   "source": [
    "seed = 7788"
   ]
  },
  {
   "cell_type": "code",
   "execution_count": null,
   "id": "8f53f018-e0dd-4339-b0ed-0525eebcd9f4",
   "metadata": {},
   "outputs": [],
   "source": [
    "test_agg.to_parquet(f\"../{EXP_PATH}/13.lgbm_dart_round_clip_diff_7788/final_test.parquet\")"
   ]
  },
  {
   "cell_type": "markdown",
   "id": "5d7c3b86-de7b-48f5-9a7e-496b6f89e09f",
   "metadata": {},
   "source": [
    "### Feature selection"
   ]
  },
  {
   "cell_type": "code",
   "execution_count": null,
   "id": "fddaded7-0df9-4952-ad72-e689bb54298c",
   "metadata": {},
   "outputs": [],
   "source": [
    "# %%time\n",
    "# lgbm_gbdt = TreeExperiment(\n",
    "#     exp_full_path=\"../../experiments/11.lgbm_dart_round_clip_7788\",\n",
    "#     seed=7788, \n",
    "#     model_path=\"gbdt_models\"\n",
    "# )"
   ]
  },
  {
   "cell_type": "code",
   "execution_count": null,
   "id": "c2e55d53-878b-4403-a08d-35886ca9e20c",
   "metadata": {},
   "outputs": [],
   "source": [
    "# fi = lgbm_gbdt.feature_imp_df"
   ]
  },
  {
   "cell_type": "code",
   "execution_count": null,
   "id": "8feb50cf-7da7-4af6-90cc-8044da26b20e",
   "metadata": {},
   "outputs": [],
   "source": [
    "master = []\n",
    "for i in range(5):\n",
    "    master.extend(fi.nsmallest(1700, f\"importance{i}\")[\"feature\"].tolist())"
   ]
  },
  {
   "cell_type": "code",
   "execution_count": null,
   "id": "505ffeb1-4007-4f83-a5c5-f166b2339808",
   "metadata": {},
   "outputs": [],
   "source": [
    "fi_dict = dict(Counter(master))"
   ]
  },
  {
   "cell_type": "code",
   "execution_count": null,
   "id": "423bbce3-18fd-4ee0-9cdb-b17296ab28e3",
   "metadata": {},
   "outputs": [],
   "source": [
    "col_to_drop = [k for k, v in fi_dict.items() if v >= 5]"
   ]
  },
  {
   "cell_type": "code",
   "execution_count": null,
   "id": "c67e0755-1917-4357-bed7-74b4f32c6894",
   "metadata": {},
   "outputs": [],
   "source": [
    "len(col_to_drop)"
   ]
  },
  {
   "cell_type": "code",
   "execution_count": null,
   "id": "5ca72ab4-0048-44fb-b136-5a6807605807",
   "metadata": {},
   "outputs": [],
   "source": [
    "train_agg.shape"
   ]
  },
  {
   "cell_type": "code",
   "execution_count": null,
   "id": "a8f2928a-e5d3-40cd-9a0f-b7a7849503a1",
   "metadata": {},
   "outputs": [],
   "source": [
    "%%time\n",
    "train_agg = train_agg.drop(columns=col_to_drop)"
   ]
  },
  {
   "cell_type": "code",
   "execution_count": 15,
   "id": "271b69c9-5ac3-48b6-a763-57d8b6ab8d7b",
   "metadata": {},
   "outputs": [
    {
     "data": {
      "text/plain": [
       "(458913, 3461)"
      ]
     },
     "execution_count": 15,
     "metadata": {},
     "output_type": "execute_result"
    }
   ],
   "source": [
    "train_agg.shape"
   ]
  },
  {
   "cell_type": "code",
   "execution_count": 16,
   "id": "4799134b-10c9-4261-a4a0-b83a6463053d",
   "metadata": {},
   "outputs": [
    {
     "data": {
      "text/plain": [
       "0"
      ]
     },
     "execution_count": 16,
     "metadata": {},
     "output_type": "execute_result"
    }
   ],
   "source": [
    "len(cat_features)"
   ]
  },
  {
   "cell_type": "markdown",
   "id": "9fc16598-9130-47f2-80c1-50da60083440",
   "metadata": {},
   "source": [
    "### Train LGBM using pre-set hyperparams"
   ]
  },
  {
   "cell_type": "code",
   "execution_count": 83,
   "id": "f0721c3a-c0af-4f26-bf5e-a55ffc6a2670",
   "metadata": {},
   "outputs": [],
   "source": [
    "params = {\n",
    "    'objective': 'binary',\n",
    "    'metric': \"binary_logloss\",\n",
    "    'boosting': 'dart',\n",
    "    'device': \"cpu\",\n",
    "    'seed': seed,\n",
    "    'num_leaves': 90,\n",
    "    'learning_rate': 0.011,\n",
    "    'feature_fraction': 0.19,\n",
    "    'bagging_freq': 8,\n",
    "    'bagging_fraction': 0.55,\n",
    "    'n_jobs': -1,\n",
    "    'lambda_l2': 15,\n",
    "    'min_data_in_leaf': 75,\n",
    "    'scale_pos_weight': 1.4,\n",
    "    'max_bins': 255,\n",
    "    'feature_fraction_bynode': 0.9,\n",
    "    'drop_rate': 0.1,\n",
    "    'skip_drop': 0.55\n",
    "}"
   ]
  },
  {
   "cell_type": "code",
   "execution_count": 84,
   "id": "5520f981-6080-4530-82a8-98ba5725bba9",
   "metadata": {},
   "outputs": [],
   "source": [
    "# params = {\n",
    "#     'objective': 'binary',\n",
    "#     'first_metric_only': True,\n",
    "#     'metric': \"binary_logloss\",\n",
    "#     'boosting': 'dart',\n",
    "#     'device': \"cpu\",\n",
    "#     'seed': seed,\n",
    "#     'num_leaves': 100,\n",
    "#     'learning_rate': 0.01,\n",
    "#     'feature_fraction': 0.19,\n",
    "#     'bagging_freq': 10,\n",
    "#     'bagging_fraction': 0.5,\n",
    "#     'n_jobs': -1,\n",
    "#     'lambda_l2': 5,\n",
    "#     'min_data_in_leaf': 125,\n",
    "#     'scale_pos_weight': 1.3,\n",
    "#     'max_bins': 255,\n",
    "#     'feature_fraction_bynode': 0.95,\n",
    "#     'drop_rate': 0.11,\n",
    "#     'skip_drop': 0.6\n",
    "# }"
   ]
  },
  {
   "cell_type": "code",
   "execution_count": 85,
   "id": "d05fc3a1-5764-4534-919d-d90fd4d8ec28",
   "metadata": {},
   "outputs": [],
   "source": [
    "kfold = StratifiedKFold(n_splits=5, shuffle=True, random_state=seed)"
   ]
  },
  {
   "cell_type": "code",
   "execution_count": 86,
   "id": "9eaf11f0-4fdd-416a-a0a1-9ef14fc38932",
   "metadata": {},
   "outputs": [],
   "source": [
    "n_est = [7500] * 5\n",
    "# n_est = [9500] * 5"
   ]
  },
  {
   "cell_type": "code",
   "execution_count": 87,
   "id": "42f0cce4-d84f-44e2-bffa-2a08b92456ff",
   "metadata": {},
   "outputs": [
    {
     "data": {
      "text/plain": [
       "1572"
      ]
     },
     "execution_count": 87,
     "metadata": {},
     "output_type": "execute_result"
    }
   ],
   "source": [
    "gc.collect()"
   ]
  },
  {
   "cell_type": "code",
   "execution_count": 88,
   "id": "6bd005ef-fe16-4b3d-983f-8f72c03a7e81",
   "metadata": {},
   "outputs": [
    {
     "name": "stdout",
     "output_type": "stream",
     "text": [
      "['D_117_third_last', 'D_116_third_last', 'D_63_third_last', 'D_117_first', 'D_116_first', 'D_92_first', 'D_114_third_last', 'D_116_second_last', 'B_30_last', 'D_120_third_last', 'D_126_first', 'B_38_first', 'D_64_second_last', 'D_120_second_last', 'D_63_first', 'D_114_second_last', 'D_116_last', 'D_64_first', 'B_38_second_last', 'D_92_second_last', 'D_63_second_last', 'D_63_last', 'B_38_last', 'B_30_second_last', 'D_64_last', 'D_120_first', 'D_92_last', 'D_114_last', 'D_92_third_last', 'D_126_third_last', 'D_68_first', 'D_117_second_last', 'D_64_third_last', 'D_120_last', 'D_126_second_last', 'D_68_second_last', 'B_38_third_last', 'B_30_first', 'D_117_last', 'B_30_third_last', 'D_114_first', 'D_68_third_last', 'D_68_last', 'D_126_last']\n"
     ]
    }
   ],
   "source": [
    "cat_columns = get_cols(train_agg, CATEGORY_COLUMNS)\n",
    "cat_features = list(set(cat_columns).intersection(train_agg.columns))\n",
    "print(cat_features)"
   ]
  },
  {
   "cell_type": "code",
   "execution_count": 89,
   "id": "a3cc9ea5-48ce-4e1f-82b6-e4f4739ea3e0",
   "metadata": {},
   "outputs": [
    {
     "data": {
      "text/plain": [
       "44"
      ]
     },
     "execution_count": 89,
     "metadata": {},
     "output_type": "execute_result"
    }
   ],
   "source": [
    "len(cat_features)"
   ]
  },
  {
   "cell_type": "code",
   "execution_count": 90,
   "id": "943e4155-bfd6-4cfb-ba4e-57c34bdd9162",
   "metadata": {},
   "outputs": [
    {
     "data": {
      "text/plain": [
       "(458913, 4137)"
      ]
     },
     "execution_count": 90,
     "metadata": {},
     "output_type": "execute_result"
    }
   ],
   "source": [
    "train_agg.shape"
   ]
  },
  {
   "cell_type": "code",
   "execution_count": 91,
   "id": "a87d08b8-a7b3-45c4-9226-8c9518f441cd",
   "metadata": {},
   "outputs": [
    {
     "name": "stdout",
     "output_type": "stream",
     "text": [
      "CPU times: user 4.05 s, sys: 18 s, total: 22.1 s\n",
      "Wall time: 31.8 s\n"
     ]
    },
    {
     "data": {
      "text/plain": [
       "72"
      ]
     },
     "execution_count": 91,
     "metadata": {},
     "output_type": "execute_result"
    }
   ],
   "source": [
    "%%time\n",
    "train_agg = train_agg.drop(columns=NON_FEATURE_COLUMNS + [\"target\"], errors=\"ignore\")\n",
    "gc.collect()"
   ]
  },
  {
   "cell_type": "code",
   "execution_count": null,
   "id": "6ba192f2-7f03-466e-9c79-30e5986ef565",
   "metadata": {},
   "outputs": [],
   "source": [
    "del "
   ]
  },
  {
   "cell_type": "code",
   "execution_count": 95,
   "id": "61cc91fb-1f00-4df1-b36f-e73ce6f02eb8",
   "metadata": {},
   "outputs": [],
   "source": [
    "train_agg.to_parquet(f\"../{EXP_PATH}/13.lgbm_dart_round_clip_diff_7788/final_train.parquet\")"
   ]
  }
 ],
 "metadata": {
  "kernelspec": {
   "display_name": "play",
   "language": "python",
   "name": "play"
  },
  "language_info": {
   "codemirror_mode": {
    "name": "ipython",
    "version": 3
   },
   "file_extension": ".py",
   "mimetype": "text/x-python",
   "name": "python",
   "nbconvert_exporter": "python",
   "pygments_lexer": "ipython3",
   "version": "3.10.0"
  }
 },
 "nbformat": 4,
 "nbformat_minor": 5
}
