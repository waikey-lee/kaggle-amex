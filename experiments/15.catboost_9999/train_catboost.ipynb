{
 "cells": [
  {
   "cell_type": "code",
   "execution_count": 10,
   "id": "04ed6c99",
   "metadata": {},
   "outputs": [],
   "source": [
    "import catboost as cb\n",
    "import gc\n",
    "import joblib\n",
    "import json\n",
    "import matplotlib.pyplot as plt\n",
    "import numpy as np\n",
    "import optuna\n",
    "import pandas as pd\n",
    "import seaborn as sns\n",
    "import sys\n",
    "sys.path.append(\"../\")\n",
    "sys.path.append(\"../../\")\n",
    "import warnings\n",
    "warnings.simplefilter(\"ignore\")\n",
    "from catboost import CatBoostClassifier, Pool\n",
    "from sklearn.metrics import roc_auc_score, fbeta_score, make_scorer\n",
    "from sklearn.model_selection import train_test_split, RandomizedSearchCV, StratifiedKFold\n",
    "from sklearn.preprocessing import StandardScaler\n",
    "from tqdm import tqdm"
   ]
  },
  {
   "cell_type": "code",
   "execution_count": 11,
   "id": "577d74dd",
   "metadata": {},
   "outputs": [],
   "source": [
    "from utils.common import (\n",
    "    sigmoid, pad_column_name\n",
    ")\n",
    "from utils.constants import *\n",
    "from utils.eval_helpers import (\n",
    "    plot_roc_curves, plot_feature_importance, \n",
    "    amex_metric, get_final_metric_df, amex_metric_np, lgb_amex_metric\n",
    ")\n",
    "from utils.eda_helpers import (\n",
    "    plot_missing_proportion_barchart, \n",
    "    get_cols\n",
    ")\n",
    "from utils.extraction_helpers import read_file\n",
    "from utils.feature_group import (\n",
    "    CATEGORY_COLUMNS, CONTINUOUS_COLUMNS, NON_FEATURE_COLUMNS\n",
    ")"
   ]
  },
  {
   "cell_type": "code",
   "execution_count": 12,
   "id": "d57bae79",
   "metadata": {},
   "outputs": [],
   "source": [
    "from matplotlib.ticker import MaxNLocator\n",
    "from matplotlib.colors import ListedColormap\n",
    "from cycler import cycler\n",
    "from IPython.display import display\n",
    "from colorama import Fore, Back, Style\n",
    "plt.rcParams['axes.facecolor'] = '#0057b8' # blue\n",
    "plt.rcParams['axes.prop_cycle'] = cycler(color=['#ffd700'] +\n",
    "                                         plt.rcParams['axes.prop_cycle'].by_key()['color'][1:])\n",
    "plt.rcParams['text.color'] = 'w'"
   ]
  },
  {
   "cell_type": "code",
   "execution_count": 13,
   "id": "8bc53e5d",
   "metadata": {},
   "outputs": [
    {
     "name": "stdout",
     "output_type": "stream",
     "text": [
      "The autoreload extension is already loaded. To reload it, use:\n",
      "  %reload_ext autoreload\n"
     ]
    }
   ],
   "source": [
    "%load_ext autoreload\n",
    "%autoreload"
   ]
  },
  {
   "cell_type": "markdown",
   "id": "251da208",
   "metadata": {},
   "source": [
    "### Read Data"
   ]
  },
  {
   "cell_type": "code",
   "execution_count": 14,
   "id": "fcdeca1a",
   "metadata": {},
   "outputs": [
    {
     "name": "stdout",
     "output_type": "stream",
     "text": [
      "Shape of data: (82603, 4370)\n",
      "Shape of data: (82603, 4370)\n",
      "Shape of data: (82603, 4370)\n",
      "Shape of data: (82602, 4370)\n",
      "Shape of data: (82602, 4370)\n",
      "CPU times: user 33.5 s, sys: 29.8 s, total: 1min 3s\n",
      "Wall time: 22.4 s\n"
     ]
    }
   ],
   "source": [
    "%%time\n",
    "df_dict = {}\n",
    "for i in range(5):\n",
    "    df_dict[i] = read_file(f\"../{PROCESSED_DATA_PATH}/v9/validation_fold{i}.parquet\")"
   ]
  },
  {
   "cell_type": "code",
   "execution_count": 15,
   "id": "81e750e4",
   "metadata": {},
   "outputs": [
    {
     "name": "stdout",
     "output_type": "stream",
     "text": [
      "Shape of data: (458913, 2)\n"
     ]
    }
   ],
   "source": [
    "labels = read_file(f\"../{RAW_DATA_PATH}/train_labels.csv\")\n",
    "target = labels[\"target\"].values"
   ]
  },
  {
   "cell_type": "code",
   "execution_count": 16,
   "id": "e44fc01d",
   "metadata": {},
   "outputs": [],
   "source": [
    "y_dict = {}\n",
    "for i in range(5):\n",
    "    y_dict[i] = df_dict[i][\"target\"].copy()"
   ]
  },
  {
   "cell_type": "code",
   "execution_count": 17,
   "id": "073de250",
   "metadata": {},
   "outputs": [
    {
     "name": "stdout",
     "output_type": "stream",
     "text": [
      "CPU times: user 4.71 s, sys: 14.9 s, total: 19.6 s\n",
      "Wall time: 21.8 s\n"
     ]
    },
    {
     "data": {
      "text/plain": [
       "347"
      ]
     },
     "execution_count": 17,
     "metadata": {},
     "output_type": "execute_result"
    }
   ],
   "source": [
    "%%time\n",
    "for i in range(5):\n",
    "    df_dict[i] = df_dict[i].drop(columns=NON_FEATURE_COLUMNS + [\"target\"], errors=\"ignore\")\n",
    "gc.collect()"
   ]
  },
  {
   "cell_type": "code",
   "execution_count": 19,
   "id": "72c61c27",
   "metadata": {},
   "outputs": [
    {
     "name": "stdout",
     "output_type": "stream",
     "text": [
      "[]\n"
     ]
    }
   ],
   "source": [
    "cat_features = get_cols(df_dict[0], CATEGORY_COLUMNS)\n",
    "print(cat_features)"
   ]
  },
  {
   "cell_type": "markdown",
   "id": "603771a0",
   "metadata": {},
   "source": [
    "### Tune Catboost using Optuna (KFold)"
   ]
  },
  {
   "cell_type": "code",
   "execution_count": 20,
   "id": "3ddcb987",
   "metadata": {},
   "outputs": [],
   "source": [
    "# prev_study = joblib.load(f\"../catboost_new_exp/optuna_study.pkl\")\n",
    "# tdf = prev_study.trials_dataframe()\n",
    "# tdf = tdf.loc[~tdf[\"value\"].isnull()].reset_index(drop=True)\n",
    "# tdf.columns"
   ]
  },
  {
   "cell_type": "code",
   "execution_count": 42,
   "id": "0eabb02a-51a2-421e-9e1a-af95a2063aaf",
   "metadata": {},
   "outputs": [],
   "source": [
    "class AmexMetric:\n",
    "    @staticmethod\n",
    "    def calc(y_true, y_pred):\n",
    "        metric, _, _ = amex_metric(y_true, y_pred)\n",
    "        return metric\n",
    "    \n",
    "    def is_max_optimal(self):\n",
    "        return True # greater is better\n",
    "\n",
    "    def evaluate(self, approxes, target, weight):            \n",
    "        assert len(approxes) == 1\n",
    "        assert len(target) == len(approxes[0])\n",
    "        y_true = np.array(target).astype(int)\n",
    "        approx = approxes[0]\n",
    "        score = self.calc(y_true, approx)\n",
    "        return score, 1\n",
    "\n",
    "    def get_final_error(self, error, weight):\n",
    "        return error"
   ]
  },
  {
   "cell_type": "code",
   "execution_count": 47,
   "id": "a72bdccb",
   "metadata": {},
   "outputs": [],
   "source": [
    "def objective(trial):\n",
    "    param = {\n",
    "        \"colsample_bylevel\": trial.suggest_float(\"colsample_bylevel\", 0.03, 0.1, log=True),\n",
    "        \"depth\": trial.suggest_int(\"depth\", 6, 10),\n",
    "        \"boosting_type\": trial.suggest_categorical(\"boosting_type\", [\"Ordered\"]),\n",
    "        \"bootstrap_type\": trial.suggest_categorical(\n",
    "            \"bootstrap_type\", [\"MVS\"]\n",
    "        ),\n",
    "        \"n_estimators\": trial.suggest_categorical(\"n_estimators\", [1500, 1750, 2000]),\n",
    "        \"l2_leaf_reg\": trial.suggest_float(\"l2_leaf_reg\", 2, 5, log=True),\n",
    "        \"min_data_in_leaf\": trial.suggest_categorical(\"min_data_in_leaf\", [1024, 2048]),\n",
    "        \"learning_rate\": trial.suggest_categorical(\"learning_rate\", [0.03, 0.06, 0.1]),\n",
    "        \"max_bin\": trial.suggest_categorical(\"max_bin\", [127, 255]),\n",
    "        \"objective\": \"Logloss\",\n",
    "        \"used_ram_limit\": \"20gb\",\n",
    "        \"thread_count\": 16,\n",
    "        \"eval_metric\": AmexMetric(),\n",
    "        # \"task_type\": \"GPU\",\n",
    "        \"devices\": '0:1'\n",
    "    }\n",
    "\n",
    "    # if param[\"bootstrap_type\"] == \"Bernoulli\":\n",
    "    #     param[\"subsample\"] = trial.suggest_float(\"subsample\", 0.6, 0.85)\n",
    "    \n",
    "    print(param)\n",
    "    train_score_list, val_score_list = [], []\n",
    "    for fold in range(5):\n",
    "        X_train = pd.concat([df for idx, df in df_dict.items() if idx != fold], ignore_index=True)\n",
    "        X_val = df_dict[fold]\n",
    "        print(\"X shape: \", X_train.shape, X_val.shape)\n",
    "        y_train = pd.concat([y_dict[idx] for idx in range(5) if idx != fold], ignore_index=True)\n",
    "        y_val = y_dict[fold]\n",
    "        print(\"Y shape: \", y_train.shape, y_val.shape)\n",
    "        with warnings.catch_warnings():\n",
    "            warnings.filterwarnings('ignore', category=UserWarning)\n",
    "            model = cb.CatBoostClassifier(**param)\n",
    "            model.fit(\n",
    "                X_train, \n",
    "                y_train, \n",
    "                eval_set=[(X_val, y_val)], \n",
    "                use_best_model=True,\n",
    "                metric_period=50,\n",
    "                verbose_eval=50,\n",
    "                cat_features=cat_features,\n",
    "                early_stopping_rounds=100\n",
    "            )\n",
    "        y_train_pred = model.predict(X_train, prediction_type='RawFormulaVal')\n",
    "        train_score, train_g, train_t4 = amex_metric(y_train, y_train_pred)\n",
    "        train_data, X_train, y_train = None, None, None\n",
    "        y_val_pred = model.predict(X_val, prediction_type='RawFormulaVal')\n",
    "        val_score, val_g, val_t4 = amex_metric(y_val, y_val_pred)\n",
    "        valid_data, X_val, y_val = None, None, None\n",
    "        train_score_list.append(train_score)\n",
    "        val_score_list.append(val_score)\n",
    "        print(f\"{Fore.BLUE}{Style.BRIGHT}Fold {fold} | Train Score = {train_score:.5f} ({train_g:.4f}, {train_t4:.4f})\")\n",
    "        print(f\"{Fore.GREEN}{Style.BRIGHT}Fold {fold} | Val Score = {val_score:.5f} ({val_g:.4f}, {val_t4:.4f}){Style.RESET_ALL}\")\n",
    "        print(f\"Clear cache {gc.collect()}\")\n",
    "        \n",
    "    return np.mean(val_score_list)"
   ]
  },
  {
   "cell_type": "code",
   "execution_count": 48,
   "id": "75533b0a",
   "metadata": {},
   "outputs": [],
   "source": [
    "# study = joblib.load(f\"{CURRENT_EXP_PATH}/optuna_study.pkl\")"
   ]
  },
  {
   "cell_type": "code",
   "execution_count": 49,
   "id": "f19dc045",
   "metadata": {},
   "outputs": [
    {
     "name": "stderr",
     "output_type": "stream",
     "text": [
      "\u001b[32m[I 2022-08-21 03:38:15,617]\u001b[0m A new study created in memory with name: no-name-97d35944-bcfb-4dea-a2ce-95bdf592cd65\u001b[0m\n"
     ]
    }
   ],
   "source": [
    "study = optuna.create_study(direction=\"maximize\")"
   ]
  },
  {
   "cell_type": "code",
   "execution_count": 50,
   "id": "18197be1",
   "metadata": {},
   "outputs": [
    {
     "name": "stdout",
     "output_type": "stream",
     "text": [
      "{'colsample_bylevel': 0.050454698092565815, 'depth': 9, 'boosting_type': 'Ordered', 'bootstrap_type': 'MVS', 'n_estimators': 1500, 'l2_leaf_reg': 2.7451289723741215, 'min_data_in_leaf': 2048, 'learning_rate': 0.03, 'max_bin': 63, 'objective': 'Logloss', 'used_ram_limit': '20gb', 'thread_count': 16, 'eval_metric': <__main__.AmexMetric object at 0x7fcbec4a29e0>, 'devices': '0:1'}\n",
      "X shape:  (330410, 4368) (82603, 4368)\n",
      "Y shape:  (330410,) (82603,)\n"
     ]
    },
    {
     "name": "stderr",
     "output_type": "stream",
     "text": [
      "Warning: Overfitting detector is active, thus evaluation metric is calculated on every iteration. 'metric_period' is ignored for evaluation metric.\n"
     ]
    },
    {
     "name": "stdout",
     "output_type": "stream",
     "text": [
      "0:\tlearn: 0.6915845\ttest: 0.6905689\tbest: 0.6905689 (0)\ttotal: 1.1s\tremaining: 27m 33s\n",
      "50:\tlearn: 0.7672712\ttest: 0.7618455\tbest: 0.7618455 (50)\ttotal: 34.9s\tremaining: 16m 31s\n",
      "100:\tlearn: 0.7787548\ttest: 0.7729213\tbest: 0.7729213 (100)\ttotal: 1m 7s\tremaining: 15m 30s\n",
      "150:\tlearn: 0.7854660\ttest: 0.7781240\tbest: 0.7784973 (147)\ttotal: 1m 39s\tremaining: 14m 48s\n",
      "200:\tlearn: 0.7894451\ttest: 0.7814150\tbest: 0.7817305 (199)\ttotal: 2m 11s\tremaining: 14m 12s\n",
      "250:\tlearn: 0.7930745\ttest: 0.7827799\tbest: 0.7827828 (248)\ttotal: 2m 43s\tremaining: 13m 31s\n",
      "300:\tlearn: 0.7957016\ttest: 0.7848815\tbest: 0.7848815 (300)\ttotal: 3m 13s\tremaining: 12m 51s\n",
      "350:\tlearn: 0.7984149\ttest: 0.7849632\tbest: 0.7856020 (342)\ttotal: 3m 44s\tremaining: 12m 15s\n",
      "400:\tlearn: 0.8003926\ttest: 0.7858359\tbest: 0.7858359 (400)\ttotal: 4m 15s\tremaining: 11m 40s\n",
      "450:\tlearn: 0.8028003\ttest: 0.7865907\tbest: 0.7866292 (447)\ttotal: 4m 46s\tremaining: 11m 6s\n",
      "500:\tlearn: 0.8056789\ttest: 0.7872089\tbest: 0.7872686 (484)\ttotal: 5m 18s\tremaining: 10m 34s\n",
      "550:\tlearn: 0.8088255\ttest: 0.7871302\tbest: 0.7878892 (525)\ttotal: 5m 49s\tremaining: 10m 2s\n",
      "600:\tlearn: 0.8112180\ttest: 0.7874459\tbest: 0.7878892 (525)\ttotal: 6m 21s\tremaining: 9m 30s\n",
      "Stopped by overfitting detector  (100 iterations wait)\n",
      "\n",
      "bestTest = 0.787889225\n",
      "bestIteration = 525\n",
      "\n",
      "Shrink model to first 526 iterations.\n",
      "\u001b[34m\u001b[1mFold 0 | Train Score = 0.80723 (0.9280, 0.6864)\n",
      "\u001b[32m\u001b[1mFold 0 | Val Score = 0.78789 (0.9203, 0.6554)\u001b[0m\n",
      "Clear cache 0\n",
      "X shape:  (330410, 4368) (82603, 4368)\n",
      "Y shape:  (330410,) (82603,)\n"
     ]
    },
    {
     "name": "stderr",
     "output_type": "stream",
     "text": [
      "Warning: Overfitting detector is active, thus evaluation metric is calculated on every iteration. 'metric_period' is ignored for evaluation metric.\n"
     ]
    },
    {
     "name": "stdout",
     "output_type": "stream",
     "text": [
      "0:\tlearn: 0.6889373\ttest: 0.6837398\tbest: 0.6837398 (0)\ttotal: 1.13s\tremaining: 28m 9s\n",
      "50:\tlearn: 0.7670921\ttest: 0.7651666\tbest: 0.7651666 (50)\ttotal: 35.6s\tremaining: 16m 51s\n",
      "100:\tlearn: 0.7785601\ttest: 0.7742705\tbest: 0.7742705 (100)\ttotal: 1m 7s\tremaining: 15m 33s\n",
      "150:\tlearn: 0.7849044\ttest: 0.7781200\tbest: 0.7783552 (147)\ttotal: 1m 40s\tremaining: 14m 57s\n"
     ]
    },
    {
     "name": "stderr",
     "output_type": "stream",
     "text": [
      "\n",
      "KeyboardInterrupt\n",
      "\n"
     ]
    }
   ],
   "source": [
    "study.optimize(objective, n_trials=50)"
   ]
  },
  {
   "cell_type": "code",
   "execution_count": null,
   "id": "ccaa59b9",
   "metadata": {},
   "outputs": [],
   "source": [
    "# joblib.dump(study, f\"{CURRENT_EXP_PATH}/optuna_study.pkl\")"
   ]
  },
  {
   "cell_type": "code",
   "execution_count": 62,
   "id": "dd55113e",
   "metadata": {},
   "outputs": [],
   "source": [
    "study_df = study.trials_dataframe()"
   ]
  },
  {
   "cell_type": "code",
   "execution_count": 63,
   "id": "29bef0aa",
   "metadata": {},
   "outputs": [],
   "source": [
    "study_df = study_df.loc[study_df[\"state\"] == \"COMPLETE\"]"
   ]
  },
  {
   "cell_type": "code",
   "execution_count": null,
   "id": "c22d5e28",
   "metadata": {},
   "outputs": [],
   "source": [
    "# for col in get_cols(study_df, \"params\"):\n",
    "#     sns.scatterplot(data=study_df, x=study_df[col], y=study_df[\"value\"])\n",
    "#     plt.show()"
   ]
  },
  {
   "cell_type": "markdown",
   "id": "9ef972f6-be76-4915-a43c-f92c42698a0a",
   "metadata": {},
   "source": [
    "### Single Experiment"
   ]
  },
  {
   "cell_type": "code",
   "execution_count": 60,
   "id": "59bb7299-90ac-47d2-8b5d-f10f991d6072",
   "metadata": {},
   "outputs": [],
   "source": [
    "param = {\n",
    "    \"colsample_bylevel\": 0.1,\n",
    "    \"depth\": 10,\n",
    "    \"boosting_type\": \"Ordered\",\n",
    "    \"bootstrap_type\": \"MVS\",\n",
    "    \"n_estimators\": 1000,\n",
    "    \"l2_leaf_reg\": 1,\n",
    "    \"min_data_in_leaf\": 1024,\n",
    "    \"learning_rate\": 0.05,\n",
    "    \"max_bin\": 255,\n",
    "    \"objective\": \"Logloss\",\n",
    "    \"used_ram_limit\": \"20gb\",\n",
    "    \"thread_count\": 16,\n",
    "    \"random_strength\": 1.3,\n",
    "    \"scale_pos_weight\": 1.35,\n",
    "    \"eval_metric\": AmexMetric(),\n",
    "    # \"grow_policy\": \"Depthwise\",\n",
    "    # \"max_leaves\": 90,\n",
    "    # \"task_type\": \"GPU\",\n",
    "}"
   ]
  },
  {
   "cell_type": "code",
   "execution_count": null,
   "id": "11e9a75b-982c-41c8-9c9e-49f4f0b61fd5",
   "metadata": {},
   "outputs": [
    {
     "name": "stdout",
     "output_type": "stream",
     "text": [
      "{'colsample_bylevel': 0.1, 'depth': 10, 'boosting_type': 'Ordered', 'bootstrap_type': 'MVS', 'n_estimators': 1000, 'l2_leaf_reg': 1, 'min_data_in_leaf': 1024, 'learning_rate': 0.05, 'max_bin': 255, 'objective': 'Logloss', 'used_ram_limit': '20gb', 'thread_count': 16, 'random_strength': 1.3, 'scale_pos_weight': 1.35, 'eval_metric': <__main__.AmexMetric object at 0x7fc7efb7fee0>}\n",
      "X shape:  (330410, 4368) (82603, 4368)\n",
      "Y shape:  (330410,) (82603,)\n"
     ]
    },
    {
     "name": "stderr",
     "output_type": "stream",
     "text": [
      "Warning: Overfitting detector is active, thus evaluation metric is calculated on every iteration. 'metric_period' is ignored for evaluation metric.\n"
     ]
    },
    {
     "name": "stdout",
     "output_type": "stream",
     "text": [
      "0:\tlearn: 0.6764630\ttest: 0.6732952\tbest: 0.6732952 (0)\ttotal: 5.14s\tremaining: 1h 25m 39s\n",
      "50:\tlearn: 0.7755758\ttest: 0.7685304\tbest: 0.7685304 (50)\ttotal: 3m 27s\tremaining: 1h 4m 15s\n",
      "100:\tlearn: 0.7869917\ttest: 0.7768175\tbest: 0.7768175 (100)\ttotal: 6m 42s\tremaining: 59m 38s\n",
      "150:\tlearn: 0.7927805\ttest: 0.7816190\tbest: 0.7816291 (147)\ttotal: 9m 51s\tremaining: 55m 24s\n",
      "200:\tlearn: 0.7976293\ttest: 0.7832967\tbest: 0.7836396 (196)\ttotal: 12m 58s\tremaining: 51m 33s\n",
      "250:\tlearn: 0.8019940\ttest: 0.7851387\tbest: 0.7854065 (248)\ttotal: 16m 8s\tremaining: 48m 9s\n",
      "300:\tlearn: 0.8066188\ttest: 0.7859108\tbest: 0.7860225 (289)\ttotal: 19m 21s\tremaining: 44m 57s\n",
      "350:\tlearn: 0.8118163\ttest: 0.7867622\tbest: 0.7870929 (340)\ttotal: 22m 32s\tremaining: 41m 40s\n",
      "400:\tlearn: 0.8163097\ttest: 0.7879584\tbest: 0.7879584 (400)\ttotal: 25m 41s\tremaining: 38m 22s\n",
      "450:\tlearn: 0.8201758\ttest: 0.7882930\tbest: 0.7885578 (443)\ttotal: 28m 51s\tremaining: 35m 7s\n",
      "500:\tlearn: 0.8239012\ttest: 0.7886714\tbest: 0.7888316 (481)\ttotal: 32m 4s\tremaining: 31m 57s\n",
      "550:\tlearn: 0.8272714\ttest: 0.7881602\tbest: 0.7888316 (481)\ttotal: 35m 12s\tremaining: 28m 41s\n",
      "Stopped by overfitting detector  (100 iterations wait)\n",
      "\n",
      "bestTest = 0.788831554\n",
      "bestIteration = 481\n",
      "\n",
      "Shrink model to first 482 iterations.\n",
      "\u001b[34m\u001b[1mFold 0 | Train Score = 0.82246 (0.9344, 0.7106)\n",
      "\u001b[32m\u001b[1mFold 0 | Val Score = 0.78883 (0.9211, 0.6566)\u001b[0m\n",
      "Clear cache 0\n",
      "X shape:  (330410, 4368) (82603, 4368)\n",
      "Y shape:  (330410,) (82603,)\n"
     ]
    },
    {
     "name": "stderr",
     "output_type": "stream",
     "text": [
      "Warning: Overfitting detector is active, thus evaluation metric is calculated on every iteration. 'metric_period' is ignored for evaluation metric.\n"
     ]
    },
    {
     "name": "stdout",
     "output_type": "stream",
     "text": [
      "0:\tlearn: 0.6967810\ttest: 0.6926070\tbest: 0.6926070 (0)\ttotal: 5.54s\tremaining: 1h 32m 11s\n"
     ]
    }
   ],
   "source": [
    "print(param)\n",
    "train_score_list, val_score_list = [], []\n",
    "for fold in range(5):\n",
    "    X_train = pd.concat([df for idx, df in df_dict.items() if idx != fold], ignore_index=True)\n",
    "    X_val = df_dict[fold]\n",
    "    print(\"X shape: \", X_train.shape, X_val.shape)\n",
    "    y_train = pd.concat([y_dict[idx] for idx in range(5) if idx != fold], ignore_index=True)\n",
    "    y_val = y_dict[fold]\n",
    "    print(\"Y shape: \", y_train.shape, y_val.shape)\n",
    "    with warnings.catch_warnings():\n",
    "        warnings.filterwarnings('ignore', category=UserWarning)\n",
    "        model = cb.CatBoostClassifier(**param)\n",
    "        model.fit(\n",
    "            X_train, \n",
    "            y_train, \n",
    "            eval_set=[(X_val, y_val)], \n",
    "            use_best_model=True,\n",
    "            metric_period=50,\n",
    "            verbose_eval=50,\n",
    "            cat_features=cat_features,\n",
    "            early_stopping_rounds=100\n",
    "        )\n",
    "    y_train_pred = model.predict(X_train, prediction_type='RawFormulaVal')\n",
    "    train_score, train_g, train_t4 = amex_metric(y_train, y_train_pred)\n",
    "    train_data, X_train, y_train = None, None, None\n",
    "    y_val_pred = model.predict(X_val, prediction_type='RawFormulaVal')\n",
    "    val_score, val_g, val_t4 = amex_metric(y_val, y_val_pred)\n",
    "    valid_data, X_val, y_val = None, None, None\n",
    "    train_score_list.append(train_score)\n",
    "    val_score_list.append(val_score)\n",
    "    print(f\"{Fore.BLUE}{Style.BRIGHT}Fold {fold} | Train Score = {train_score:.5f} ({train_g:.4f}, {train_t4:.4f})\")\n",
    "    print(f\"{Fore.GREEN}{Style.BRIGHT}Fold {fold} | Val Score = {val_score:.5f} ({val_g:.4f}, {val_t4:.4f}){Style.RESET_ALL}\")\n",
    "    print(f\"Clear cache {gc.collect()}\")"
   ]
  },
  {
   "cell_type": "code",
   "execution_count": null,
   "id": "6648f977-2536-4c0e-8758-b06a2e8b9510",
   "metadata": {},
   "outputs": [],
   "source": []
  },
  {
   "cell_type": "code",
   "execution_count": null,
   "id": "d98a4577-e477-4985-aef6-308684ca1a18",
   "metadata": {},
   "outputs": [],
   "source": []
  }
 ],
 "metadata": {
  "kernelspec": {
   "display_name": "play",
   "language": "python",
   "name": "play"
  },
  "language_info": {
   "codemirror_mode": {
    "name": "ipython",
    "version": 3
   },
   "file_extension": ".py",
   "mimetype": "text/x-python",
   "name": "python",
   "nbconvert_exporter": "python",
   "pygments_lexer": "ipython3",
   "version": "3.10.0"
  }
 },
 "nbformat": 4,
 "nbformat_minor": 5
}
