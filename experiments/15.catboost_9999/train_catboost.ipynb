{
 "cells": [
  {
   "cell_type": "code",
   "execution_count": 1,
   "id": "04ed6c99",
   "metadata": {},
   "outputs": [],
   "source": [
    "import catboost as cb\n",
    "import gc\n",
    "import joblib\n",
    "import json\n",
    "import matplotlib.pyplot as plt\n",
    "import numpy as np\n",
    "import optuna\n",
    "import pandas as pd\n",
    "import seaborn as sns\n",
    "import sys\n",
    "sys.path.append(\"../\")\n",
    "sys.path.append(\"../../\")\n",
    "import warnings\n",
    "warnings.simplefilter(\"ignore\")\n",
    "from catboost import CatBoostClassifier, Pool\n",
    "from sklearn.metrics import roc_auc_score, fbeta_score, make_scorer\n",
    "from sklearn.model_selection import train_test_split, RandomizedSearchCV, StratifiedKFold\n",
    "from sklearn.preprocessing import StandardScaler, MinMaxScaler\n",
    "from tqdm import tqdm"
   ]
  },
  {
   "cell_type": "code",
   "execution_count": 2,
   "id": "577d74dd",
   "metadata": {},
   "outputs": [],
   "source": [
    "from utils.common import (\n",
    "    sigmoid, pad_column_name\n",
    ")\n",
    "from utils.constants import *\n",
    "from utils.eval_helpers import (\n",
    "    plot_roc_curves, plot_feature_importance, \n",
    "    amex_metric, get_final_metric_df, amex_metric_np, lgb_amex_metric\n",
    ")\n",
    "from utils.eda_helpers import (\n",
    "    plot_missing_proportion_barchart, \n",
    "    get_cols\n",
    ")\n",
    "from utils.extraction_helpers import read_file\n",
    "from utils.feature_group import (\n",
    "    CATEGORY_COLUMNS, CONTINUOUS_COLUMNS, NON_FEATURE_COLUMNS\n",
    ")"
   ]
  },
  {
   "cell_type": "code",
   "execution_count": 3,
   "id": "d57bae79",
   "metadata": {},
   "outputs": [],
   "source": [
    "from matplotlib.ticker import MaxNLocator\n",
    "from matplotlib.colors import ListedColormap\n",
    "from cycler import cycler\n",
    "from IPython.display import display\n",
    "from colorama import Fore, Back, Style\n",
    "plt.rcParams['axes.facecolor'] = '#0057b8' # blue\n",
    "plt.rcParams['axes.prop_cycle'] = cycler(color=['#ffd700'] +\n",
    "                                         plt.rcParams['axes.prop_cycle'].by_key()['color'][1:])\n",
    "plt.rcParams['text.color'] = 'w'"
   ]
  },
  {
   "cell_type": "code",
   "execution_count": 4,
   "id": "8bc53e5d",
   "metadata": {},
   "outputs": [],
   "source": [
    "%load_ext autoreload\n",
    "%autoreload"
   ]
  },
  {
   "cell_type": "markdown",
   "id": "251da208",
   "metadata": {},
   "source": [
    "### Read Data"
   ]
  },
  {
   "cell_type": "code",
   "execution_count": 5,
   "id": "c1d18b62-d9f1-4e2d-a7c0-4df778c6c5ad",
   "metadata": {},
   "outputs": [
    {
     "name": "stdout",
     "output_type": "stream",
     "text": [
      "Shape of data: (458913, 3310)\n",
      "CPU times: user 2.52 s, sys: 9.4 s, total: 11.9 s\n",
      "Wall time: 20.8 s\n"
     ]
    }
   ],
   "source": [
    "%%time\n",
    "train_agg = read_file(f\"../{PROCESSED_DATA_PATH}/v21/train_agg.pkl\")"
   ]
  },
  {
   "cell_type": "code",
   "execution_count": 6,
   "id": "81e750e4",
   "metadata": {},
   "outputs": [
    {
     "name": "stdout",
     "output_type": "stream",
     "text": [
      "Shape of data: (458913, 2)\n"
     ]
    }
   ],
   "source": [
    "labels = read_file(f\"../{RAW_DATA_PATH}/train_labels.csv\")\n",
    "target = labels[\"target\"].values"
   ]
  },
  {
   "cell_type": "code",
   "execution_count": 7,
   "id": "0c244b9d-177d-49fd-8384-f2c7df308c19",
   "metadata": {},
   "outputs": [
    {
     "name": "stdout",
     "output_type": "stream",
     "text": [
      "CPU times: user 362 ms, sys: 2.56 s, total: 2.92 s\n",
      "Wall time: 5.75 s\n"
     ]
    }
   ],
   "source": [
    "%%time\n",
    "train_agg.drop(columns=NON_FEATURE_COLUMNS, errors=\"ignore\", inplace=True)"
   ]
  },
  {
   "cell_type": "code",
   "execution_count": 8,
   "id": "b16c21ba-7883-46a5-9df6-e320f3869784",
   "metadata": {},
   "outputs": [],
   "source": [
    "missing = train_agg.isnull().sum()"
   ]
  },
  {
   "cell_type": "code",
   "execution_count": 9,
   "id": "42cf03a6-8ce8-4c9f-890b-6750f9811d54",
   "metadata": {},
   "outputs": [],
   "source": [
    "missing_cols = missing[missing > 0].index.tolist()"
   ]
  },
  {
   "cell_type": "code",
   "execution_count": 10,
   "id": "88e09425-3556-4f65-b25c-5fd49a844e45",
   "metadata": {},
   "outputs": [
    {
     "name": "stdout",
     "output_type": "stream",
     "text": [
      "CPU times: user 274 ms, sys: 2.08 s, total: 2.35 s\n",
      "Wall time: 4.32 s\n"
     ]
    }
   ],
   "source": [
    "%%time\n",
    "train_agg.drop(columns=missing_cols, errors=\"ignore\", inplace=True)"
   ]
  },
  {
   "cell_type": "code",
   "execution_count": 11,
   "id": "06622ea1-4db0-40c4-b5d2-dc7db171db6c",
   "metadata": {},
   "outputs": [],
   "source": [
    "cat_features = train_agg.select_dtypes(\"category\").columns.tolist()"
   ]
  },
  {
   "cell_type": "code",
   "execution_count": 12,
   "id": "dbbe3eb8-8238-4898-b58b-767813de133f",
   "metadata": {},
   "outputs": [
    {
     "data": {
      "text/plain": [
       "(458913, 3308)"
      ]
     },
     "execution_count": 12,
     "metadata": {},
     "output_type": "execute_result"
    }
   ],
   "source": [
    "train_agg.shape"
   ]
  },
  {
   "cell_type": "markdown",
   "id": "38c07e55-9d9f-481e-9212-15580fa6e012",
   "metadata": {},
   "source": [
    "### MinMaxScaler"
   ]
  },
  {
   "cell_type": "code",
   "execution_count": 13,
   "id": "0bdcff4a-b522-49f5-9715-2a9283b72764",
   "metadata": {},
   "outputs": [],
   "source": [
    "m = MinMaxScaler()"
   ]
  },
  {
   "cell_type": "code",
   "execution_count": 14,
   "id": "bad465ab-13d2-432d-9e7e-27b24e48aa9a",
   "metadata": {},
   "outputs": [],
   "source": [
    "train_agg_number = train_agg.select_dtypes(np.number)\n",
    "train_agg_cat = train_agg.select_dtypes(\"category\")"
   ]
  },
  {
   "cell_type": "code",
   "execution_count": 15,
   "id": "da65acb4-ee49-4a05-b0c1-e1de89b86775",
   "metadata": {},
   "outputs": [
    {
     "data": {
      "text/plain": [
       "((458913, 3290), (458913, 18))"
      ]
     },
     "execution_count": 15,
     "metadata": {},
     "output_type": "execute_result"
    }
   ],
   "source": [
    "train_agg_number.shape, train_agg_cat.shape"
   ]
  },
  {
   "cell_type": "code",
   "execution_count": 16,
   "id": "137dcd07-5bcb-4002-bf51-1c2217aa5ba2",
   "metadata": {},
   "outputs": [],
   "source": [
    "train_agg_number = pd.DataFrame(m.fit_transform(train_agg_number), columns=train_agg_number.columns)"
   ]
  },
  {
   "cell_type": "code",
   "execution_count": 17,
   "id": "a85f3dd1-d4c0-47a6-93d6-5a16779c6e85",
   "metadata": {},
   "outputs": [],
   "source": [
    "train_agg = pd.concat([train_agg_number, train_agg_cat], axis=1)"
   ]
  },
  {
   "cell_type": "code",
   "execution_count": 18,
   "id": "cdfca2d4-00be-4d0c-934f-0c5ef3756dfa",
   "metadata": {},
   "outputs": [
    {
     "data": {
      "text/html": [
       "<div>\n",
       "<style scoped>\n",
       "    .dataframe tbody tr th:only-of-type {\n",
       "        vertical-align: middle;\n",
       "    }\n",
       "\n",
       "    .dataframe tbody tr th {\n",
       "        vertical-align: top;\n",
       "    }\n",
       "\n",
       "    .dataframe thead th {\n",
       "        text-align: right;\n",
       "    }\n",
       "</style>\n",
       "<table border=\"1\" class=\"dataframe\">\n",
       "  <thead>\n",
       "    <tr style=\"text-align: right;\">\n",
       "      <th></th>\n",
       "      <th>P_2_last</th>\n",
       "      <th>S_3_last</th>\n",
       "      <th>P_3_last</th>\n",
       "      <th>S_5_last</th>\n",
       "      <th>S_6_last</th>\n",
       "      <th>S_7_last</th>\n",
       "      <th>S_8_last</th>\n",
       "      <th>S_12_last</th>\n",
       "      <th>S_13_last</th>\n",
       "      <th>S_15_last</th>\n",
       "      <th>...</th>\n",
       "      <th>D_126_last</th>\n",
       "      <th>B_30_first</th>\n",
       "      <th>B_38_first</th>\n",
       "      <th>D_63_first</th>\n",
       "      <th>D_64_first</th>\n",
       "      <th>D_68_first</th>\n",
       "      <th>D_114_first</th>\n",
       "      <th>D_117_first</th>\n",
       "      <th>D_120_first</th>\n",
       "      <th>D_126_first</th>\n",
       "    </tr>\n",
       "  </thead>\n",
       "  <tbody>\n",
       "    <tr>\n",
       "      <th>0</th>\n",
       "      <td>0.945736</td>\n",
       "      <td>0.138889</td>\n",
       "      <td>0.588235</td>\n",
       "      <td>0.008571</td>\n",
       "      <td>0.0</td>\n",
       "      <td>0.119497</td>\n",
       "      <td>0.339286</td>\n",
       "      <td>0.337143</td>\n",
       "      <td>0.7</td>\n",
       "      <td>0.1875</td>\n",
       "      <td>...</td>\n",
       "      <td>2</td>\n",
       "      <td>0</td>\n",
       "      <td>0</td>\n",
       "      <td>0</td>\n",
       "      <td>0</td>\n",
       "      <td>0</td>\n",
       "      <td>1</td>\n",
       "      <td>4</td>\n",
       "      <td>0</td>\n",
       "      <td>2</td>\n",
       "    </tr>\n",
       "    <tr>\n",
       "      <th>1</th>\n",
       "      <td>0.906977</td>\n",
       "      <td>0.155556</td>\n",
       "      <td>0.567227</td>\n",
       "      <td>0.011429</td>\n",
       "      <td>0.0</td>\n",
       "      <td>0.182390</td>\n",
       "      <td>0.267857</td>\n",
       "      <td>0.340000</td>\n",
       "      <td>0.1</td>\n",
       "      <td>0.1875</td>\n",
       "      <td>...</td>\n",
       "      <td>2</td>\n",
       "      <td>0</td>\n",
       "      <td>0</td>\n",
       "      <td>3</td>\n",
       "      <td>0</td>\n",
       "      <td>0</td>\n",
       "      <td>1</td>\n",
       "      <td>0</td>\n",
       "      <td>0</td>\n",
       "      <td>2</td>\n",
       "    </tr>\n",
       "    <tr>\n",
       "      <th>2</th>\n",
       "      <td>0.906977</td>\n",
       "      <td>0.127778</td>\n",
       "      <td>0.588235</td>\n",
       "      <td>0.000000</td>\n",
       "      <td>1.0</td>\n",
       "      <td>0.106918</td>\n",
       "      <td>0.232143</td>\n",
       "      <td>0.340000</td>\n",
       "      <td>0.0</td>\n",
       "      <td>0.1875</td>\n",
       "      <td>...</td>\n",
       "      <td>2</td>\n",
       "      <td>0</td>\n",
       "      <td>1</td>\n",
       "      <td>3</td>\n",
       "      <td>1</td>\n",
       "      <td>0</td>\n",
       "      <td>0</td>\n",
       "      <td>0</td>\n",
       "      <td>0</td>\n",
       "      <td>2</td>\n",
       "    </tr>\n",
       "    <tr>\n",
       "      <th>3</th>\n",
       "      <td>0.705426</td>\n",
       "      <td>0.222222</td>\n",
       "      <td>0.609244</td>\n",
       "      <td>0.005714</td>\n",
       "      <td>0.0</td>\n",
       "      <td>0.226415</td>\n",
       "      <td>0.053571</td>\n",
       "      <td>0.300000</td>\n",
       "      <td>0.2</td>\n",
       "      <td>0.3125</td>\n",
       "      <td>...</td>\n",
       "      <td>2</td>\n",
       "      <td>0</td>\n",
       "      <td>0</td>\n",
       "      <td>3</td>\n",
       "      <td>0</td>\n",
       "      <td>4</td>\n",
       "      <td>1</td>\n",
       "      <td>0</td>\n",
       "      <td>0</td>\n",
       "      <td>2</td>\n",
       "    </tr>\n",
       "    <tr>\n",
       "      <th>4</th>\n",
       "      <td>0.899225</td>\n",
       "      <td>0.127778</td>\n",
       "      <td>0.567227</td>\n",
       "      <td>0.000000</td>\n",
       "      <td>1.0</td>\n",
       "      <td>0.106918</td>\n",
       "      <td>0.232143</td>\n",
       "      <td>0.337143</td>\n",
       "      <td>0.0</td>\n",
       "      <td>0.1875</td>\n",
       "      <td>...</td>\n",
       "      <td>2</td>\n",
       "      <td>0</td>\n",
       "      <td>0</td>\n",
       "      <td>3</td>\n",
       "      <td>0</td>\n",
       "      <td>0</td>\n",
       "      <td>1</td>\n",
       "      <td>4</td>\n",
       "      <td>0</td>\n",
       "      <td>2</td>\n",
       "    </tr>\n",
       "  </tbody>\n",
       "</table>\n",
       "<p>5 rows × 3308 columns</p>\n",
       "</div>"
      ],
      "text/plain": [
       "   P_2_last  S_3_last  P_3_last  S_5_last  S_6_last  S_7_last  S_8_last  \\\n",
       "0  0.945736  0.138889  0.588235  0.008571       0.0  0.119497  0.339286   \n",
       "1  0.906977  0.155556  0.567227  0.011429       0.0  0.182390  0.267857   \n",
       "2  0.906977  0.127778  0.588235  0.000000       1.0  0.106918  0.232143   \n",
       "3  0.705426  0.222222  0.609244  0.005714       0.0  0.226415  0.053571   \n",
       "4  0.899225  0.127778  0.567227  0.000000       1.0  0.106918  0.232143   \n",
       "\n",
       "   S_12_last  S_13_last  S_15_last  ...  D_126_last  B_30_first  B_38_first  \\\n",
       "0   0.337143        0.7     0.1875  ...           2           0           0   \n",
       "1   0.340000        0.1     0.1875  ...           2           0           0   \n",
       "2   0.340000        0.0     0.1875  ...           2           0           1   \n",
       "3   0.300000        0.2     0.3125  ...           2           0           0   \n",
       "4   0.337143        0.0     0.1875  ...           2           0           0   \n",
       "\n",
       "   D_63_first  D_64_first  D_68_first  D_114_first  D_117_first  D_120_first  \\\n",
       "0           0           0           0            1            4            0   \n",
       "1           3           0           0            1            0            0   \n",
       "2           3           1           0            0            0            0   \n",
       "3           3           0           4            1            0            0   \n",
       "4           3           0           0            1            4            0   \n",
       "\n",
       "   D_126_first  \n",
       "0            2  \n",
       "1            2  \n",
       "2            2  \n",
       "3            2  \n",
       "4            2  \n",
       "\n",
       "[5 rows x 3308 columns]"
      ]
     },
     "execution_count": 18,
     "metadata": {},
     "output_type": "execute_result"
    }
   ],
   "source": [
    "train_agg.head()"
   ]
  },
  {
   "cell_type": "code",
   "execution_count": 19,
   "id": "03658751-3843-42f7-bc48-5b718f63818d",
   "metadata": {},
   "outputs": [],
   "source": [
    "del train_agg_number, train_agg_cat"
   ]
  },
  {
   "cell_type": "markdown",
   "id": "603771a0",
   "metadata": {},
   "source": [
    "### Tune Catboost using Optuna (KFold)"
   ]
  },
  {
   "cell_type": "code",
   "execution_count": 20,
   "id": "3ddcb987",
   "metadata": {},
   "outputs": [],
   "source": [
    "# prev_study = joblib.load(f\"../catboost_new_exp/optuna_study.pkl\")\n",
    "# tdf = prev_study.trials_dataframe()\n",
    "# tdf = tdf.loc[~tdf[\"value\"].isnull()].reset_index(drop=True)\n",
    "# tdf.columns"
   ]
  },
  {
   "cell_type": "code",
   "execution_count": null,
   "id": "0eabb02a-51a2-421e-9e1a-af95a2063aaf",
   "metadata": {},
   "outputs": [],
   "source": [
    "class AmexMetric:\n",
    "    @staticmethod\n",
    "    def calc(y_true, y_pred):\n",
    "        metric, _, _ = amex_metric(y_true, y_pred)\n",
    "        return metric\n",
    "    \n",
    "    def is_max_optimal(self):\n",
    "        return True # greater is better\n",
    "\n",
    "    def evaluate(self, approxes, target, weight):            \n",
    "        assert len(approxes) == 1\n",
    "        assert len(target) == len(approxes[0])\n",
    "        y_true = np.array(target).astype(int)\n",
    "        approx = approxes[0]\n",
    "        score = self.calc(y_true, approx)\n",
    "        return score, 1\n",
    "\n",
    "    def get_final_error(self, error, weight):\n",
    "        return error"
   ]
  },
  {
   "cell_type": "code",
   "execution_count": 22,
   "id": "d37cf179-6a49-4e5a-ada6-1cf961081d1c",
   "metadata": {},
   "outputs": [],
   "source": [
    "def objective(trial):\n",
    "    kf = StratifiedKFold(n_splits=5, shuffle=True, random_state=111)\n",
    "\n",
    "    param = {\n",
    "        \"objective\": \"Logloss\",\n",
    "        \"colsample_bylevel\": trial.suggest_float(\"colsample_bylevel\", 0.035, 0.07, log=True),\n",
    "        \"depth\": trial.suggest_int(\"depth\", 12, 16),\n",
    "        \"random_strength\": trial.suggest_float(\"random_strength\", 1.2, 1.4),\n",
    "        \"class_weights\": trial.suggest_categorical(\"class_weights\", [[1, 1.25], [1, 1.35]]),\n",
    "        \"n_estimators\": trial.suggest_categorical(\"n_estimators\", [750, 850, 950, 1050]),\n",
    "        \"l2_leaf_reg\": trial.suggest_float(\"l2_leaf_reg\", 6, 15, log=True),\n",
    "        \"min_data_in_leaf\": trial.suggest_categorical(\"min_data_in_leaf\", [1500, 2048, 2560]),\n",
    "        \"learning_rate\": trial.suggest_categorical(\"learning_rate\", [0.04, 0.05, 0.06]),\n",
    "        \"max_bin\": trial.suggest_categorical(\"max_bin\", [127, 190, 255]),\n",
    "        \"used_ram_limit\": \"16gb\",\n",
    "        \"bootstrap_type\": trial.suggest_categorical(\"bootstrap_type\", [\"MVS\", \"Bernoulli\"]),\n",
    "        # \"boosting_type\": trial.suggest_categorical(\"boosting_type\", [\"Ordered\", \"Plain\"]),\n",
    "        \"grow_policy\": \"Depthwise\",\n",
    "        \"eval_metric\": AmexMetric(),\n",
    "    }\n",
    "\n",
    "    if param[\"bootstrap_type\"] == \"Bernoulli\":\n",
    "        param[\"subsample\"] = trial.suggest_float(\"subsample\", 0.75, 0.85)\n",
    "    \n",
    "    print(param)\n",
    "    train_score_list, val_score_list = [], []\n",
    "    for fold, (idx_tr, idx_va) in zip(range(1, 5+1), kf.split(train_agg, target)):\n",
    "        fold = str(fold)\n",
    "        X_train, y_train = train_agg.iloc[idx_tr], target[idx_tr]\n",
    "        X_val, y_val = train_agg.iloc[idx_va], target[idx_va]\n",
    "        with warnings.catch_warnings():\n",
    "            warnings.filterwarnings('ignore', category=UserWarning)\n",
    "            model = cb.CatBoostClassifier(**param)\n",
    "            model.fit(\n",
    "                X_train, \n",
    "                y_train, \n",
    "                eval_set=[(X_val, y_val)], \n",
    "                verbose=0, \n",
    "                cat_features=cat_features,\n",
    "                early_stopping_rounds=100\n",
    "            )\n",
    "        y_train_pred = model.predict(X_train, prediction_type='RawFormulaVal')\n",
    "        train_score, train_g, train_t4 = amex_metric(y_train, y_train_pred)\n",
    "        train_data, X_train, y_train = None, None, None\n",
    "        y_val_pred = model.predict(X_val, prediction_type='RawFormulaVal')\n",
    "        val_score, val_g, val_t4 = amex_metric(y_val, y_val_pred)\n",
    "        valid_data, X_val, y_val = None, None, None\n",
    "        train_score_list.append(train_score)\n",
    "        val_score_list.append(val_score)\n",
    "        # if val_score > best_scores_json[\"validation\"][fold]:\n",
    "        #     best_scores_json[\"train\"][fold] = train_score\n",
    "        #     best_scores_json[\"validation\"][fold] = val_score\n",
    "        #     with open(f'{CURRENT_EXP_PATH}/best_scores.json', \"w\") as outfile:\n",
    "        #         json.dump(best_scores_json, outfile)\n",
    "        #     joblib.dump(model, f'{CURRENT_EXP_PATH}/models/model{fold}.pkl')\n",
    "        # elif np.mean(train_score_list) >= np.mean(list(best_scores_json[\"train\"].values())) + 0.02:\n",
    "        #     print(f\"Train score too high (overfitting), start a new trial\")\n",
    "        #     return np.mean(val_score_list)\n",
    "        joblib.dump(model, f'./models/model{fold}_seed111_{val_score:.5f}.pkl')\n",
    "        print(f\"{Fore.BLUE}{Style.BRIGHT}Fold {fold} | Train Score = {train_score:.5f} ({train_g:.4f}, {train_t4:.4f})\")\n",
    "        print(f\"{Fore.GREEN}{Style.BRIGHT}Fold {fold} | Val Score = {val_score:.5f} ({val_g:.4f}, {val_t4:.4f}){Style.RESET_ALL}\")\n",
    "        print(f\"Clear cache {gc.collect()}\")\n",
    "        \n",
    "    return np.mean(val_score_list)"
   ]
  },
  {
   "cell_type": "code",
   "execution_count": 23,
   "id": "a354cf40-309b-4b29-bcd3-360b9ea19a8b",
   "metadata": {},
   "outputs": [
    {
     "name": "stderr",
     "output_type": "stream",
     "text": [
      "\u001b[32m[I 2022-08-22 15:21:00,072]\u001b[0m A new study created in memory with name: no-name-3af66aa1-0221-497c-a301-9039744235ea\u001b[0m\n"
     ]
    }
   ],
   "source": [
    "study = optuna.create_study(direction=\"maximize\")"
   ]
  },
  {
   "cell_type": "code",
   "execution_count": 24,
   "id": "6ec19b39-347d-4bc8-91fe-7d4d79b03d5f",
   "metadata": {},
   "outputs": [
    {
     "name": "stdout",
     "output_type": "stream",
     "text": [
      "{'objective': 'Logloss', 'colsample_bylevel': 0.05182713519237734, 'depth': 14, 'random_strength': 1.3195464793304954, 'class_weights': [1, 1.25], 'n_estimators': 1050, 'l2_leaf_reg': 6.571206669694062, 'min_data_in_leaf': 2048, 'learning_rate': 0.04, 'max_bin': 190, 'used_ram_limit': '16gb', 'bootstrap_type': 'Bernoulli', 'grow_policy': 'Depthwise', 'eval_metric': <__main__.AmexMetric object at 0x284ab59f0>, 'subsample': 0.8139073993368319}\n",
      "\u001b[34m\u001b[1mFold 1 | Train Score = 0.89415 (0.9610, 0.8273)\n",
      "\u001b[32m\u001b[1mFold 1 | Val Score = 0.79319 (0.9223, 0.6641)\u001b[0m\n",
      "Clear cache 23\n",
      "\u001b[34m\u001b[1mFold 2 | Train Score = 0.85423 (0.9468, 0.7616)\n",
      "\u001b[32m\u001b[1mFold 2 | Val Score = 0.79119 (0.9223, 0.6601)\u001b[0m\n",
      "Clear cache 50\n",
      "\u001b[34m\u001b[1mFold 3 | Train Score = 0.83834 (0.9410, 0.7357)\n",
      "\u001b[32m\u001b[1mFold 3 | Val Score = 0.79048 (0.9214, 0.6596)\u001b[0m\n",
      "Clear cache 50\n",
      "\u001b[34m\u001b[1mFold 4 | Train Score = 0.88294 (0.9573, 0.8086)\n",
      "\u001b[32m\u001b[1mFold 4 | Val Score = 0.79317 (0.9227, 0.6637)\u001b[0m\n",
      "Clear cache 50\n"
     ]
    },
    {
     "name": "stderr",
     "output_type": "stream",
     "text": [
      "\u001b[32m[I 2022-08-22 16:05:31,105]\u001b[0m Trial 0 finished with value: 0.7919513304837243 and parameters: {'colsample_bylevel': 0.05182713519237734, 'depth': 14, 'random_strength': 1.3195464793304954, 'class_weights': [1, 1.25], 'n_estimators': 1050, 'l2_leaf_reg': 6.571206669694062, 'min_data_in_leaf': 2048, 'learning_rate': 0.04, 'max_bin': 190, 'bootstrap_type': 'Bernoulli', 'subsample': 0.8139073993368319}. Best is trial 0 with value: 0.7919513304837243.\u001b[0m\n"
     ]
    },
    {
     "name": "stdout",
     "output_type": "stream",
     "text": [
      "\u001b[34m\u001b[1mFold 5 | Train Score = 0.88127 (0.9564, 0.8062)\n",
      "\u001b[32m\u001b[1mFold 5 | Val Score = 0.79172 (0.9231, 0.6603)\u001b[0m\n",
      "Clear cache 50\n",
      "{'objective': 'Logloss', 'colsample_bylevel': 0.06927487743086469, 'depth': 17, 'random_strength': 1.315655573680709, 'class_weights': [1, 1.25], 'n_estimators': 750, 'l2_leaf_reg': 10.703142108935726, 'min_data_in_leaf': 2048, 'learning_rate': 0.04, 'max_bin': 255, 'used_ram_limit': '16gb', 'bootstrap_type': 'MVS', 'grow_policy': 'Depthwise', 'eval_metric': <__main__.AmexMetric object at 0x1602c8dc0>}\n"
     ]
    },
    {
     "name": "stderr",
     "output_type": "stream",
     "text": [
      "\u001b[33m[W 2022-08-22 16:06:31,609]\u001b[0m Trial 1 failed because of the following error: CatBoostError('catboost/private/libs/options/oblivious_tree_options.cpp:125: Maximum tree depth is 16')\u001b[0m\n",
      "Traceback (most recent call last):\n",
      "  File \"/Users/wklee/miniconda3/envs/amex/lib/python3.10/site-packages/optuna/study/_optimize.py\", line 213, in _run_trial\n",
      "    value_or_values = func(trial)\n",
      "  File \"/var/folders/rx/900hbpv51bsg7d73m0zmd11m0000gn/T/ipykernel_11170/630710937.py\", line 34, in objective\n",
      "    model.fit(\n",
      "  File \"/Users/wklee/miniconda3/envs/amex/lib/python3.10/site-packages/catboost/core.py\", line 5007, in fit\n",
      "    self._fit(X, y, cat_features, text_features, embedding_features, None, sample_weight, None, None, None, None, baseline, use_best_model,\n",
      "  File \"/Users/wklee/miniconda3/envs/amex/lib/python3.10/site-packages/catboost/core.py\", line 2262, in _fit\n",
      "    train_params = self._prepare_train_params(\n",
      "  File \"/Users/wklee/miniconda3/envs/amex/lib/python3.10/site-packages/catboost/core.py\", line 2194, in _prepare_train_params\n",
      "    _check_train_params(params)\n",
      "  File \"_catboost.pyx\", line 6032, in _catboost._check_train_params\n",
      "  File \"_catboost.pyx\", line 6051, in _catboost._check_train_params\n",
      "_catboost.CatBoostError: catboost/private/libs/options/oblivious_tree_options.cpp:125: Maximum tree depth is 16\n"
     ]
    },
    {
     "ename": "CatBoostError",
     "evalue": "catboost/private/libs/options/oblivious_tree_options.cpp:125: Maximum tree depth is 16",
     "output_type": "error",
     "traceback": [
      "\u001b[0;31m---------------------------------------------------------------------------\u001b[0m",
      "\u001b[0;31mCatBoostError\u001b[0m                             Traceback (most recent call last)",
      "Input \u001b[0;32mIn [24]\u001b[0m, in \u001b[0;36m<cell line: 1>\u001b[0;34m()\u001b[0m\n\u001b[0;32m----> 1\u001b[0m \u001b[43mstudy\u001b[49m\u001b[38;5;241;43m.\u001b[39;49m\u001b[43moptimize\u001b[49m\u001b[43m(\u001b[49m\u001b[43mobjective\u001b[49m\u001b[43m,\u001b[49m\u001b[43m \u001b[49m\u001b[43mn_trials\u001b[49m\u001b[38;5;241;43m=\u001b[39;49m\u001b[38;5;241;43m2\u001b[39;49m\u001b[43m)\u001b[49m\n",
      "File \u001b[0;32m~/miniconda3/envs/amex/lib/python3.10/site-packages/optuna/study/study.py:400\u001b[0m, in \u001b[0;36mStudy.optimize\u001b[0;34m(self, func, n_trials, timeout, n_jobs, catch, callbacks, gc_after_trial, show_progress_bar)\u001b[0m\n\u001b[1;32m    392\u001b[0m \u001b[38;5;28;01mif\u001b[39;00m n_jobs \u001b[38;5;241m!=\u001b[39m \u001b[38;5;241m1\u001b[39m:\n\u001b[1;32m    393\u001b[0m     warnings\u001b[38;5;241m.\u001b[39mwarn(\n\u001b[1;32m    394\u001b[0m         \u001b[38;5;124m\"\u001b[39m\u001b[38;5;124m`n_jobs` argument has been deprecated in v2.7.0. \u001b[39m\u001b[38;5;124m\"\u001b[39m\n\u001b[1;32m    395\u001b[0m         \u001b[38;5;124m\"\u001b[39m\u001b[38;5;124mThis feature will be removed in v4.0.0. \u001b[39m\u001b[38;5;124m\"\u001b[39m\n\u001b[1;32m    396\u001b[0m         \u001b[38;5;124m\"\u001b[39m\u001b[38;5;124mSee https://github.com/optuna/optuna/releases/tag/v2.7.0.\u001b[39m\u001b[38;5;124m\"\u001b[39m,\n\u001b[1;32m    397\u001b[0m         \u001b[38;5;167;01mFutureWarning\u001b[39;00m,\n\u001b[1;32m    398\u001b[0m     )\n\u001b[0;32m--> 400\u001b[0m \u001b[43m_optimize\u001b[49m\u001b[43m(\u001b[49m\n\u001b[1;32m    401\u001b[0m \u001b[43m    \u001b[49m\u001b[43mstudy\u001b[49m\u001b[38;5;241;43m=\u001b[39;49m\u001b[38;5;28;43mself\u001b[39;49m\u001b[43m,\u001b[49m\n\u001b[1;32m    402\u001b[0m \u001b[43m    \u001b[49m\u001b[43mfunc\u001b[49m\u001b[38;5;241;43m=\u001b[39;49m\u001b[43mfunc\u001b[49m\u001b[43m,\u001b[49m\n\u001b[1;32m    403\u001b[0m \u001b[43m    \u001b[49m\u001b[43mn_trials\u001b[49m\u001b[38;5;241;43m=\u001b[39;49m\u001b[43mn_trials\u001b[49m\u001b[43m,\u001b[49m\n\u001b[1;32m    404\u001b[0m \u001b[43m    \u001b[49m\u001b[43mtimeout\u001b[49m\u001b[38;5;241;43m=\u001b[39;49m\u001b[43mtimeout\u001b[49m\u001b[43m,\u001b[49m\n\u001b[1;32m    405\u001b[0m \u001b[43m    \u001b[49m\u001b[43mn_jobs\u001b[49m\u001b[38;5;241;43m=\u001b[39;49m\u001b[43mn_jobs\u001b[49m\u001b[43m,\u001b[49m\n\u001b[1;32m    406\u001b[0m \u001b[43m    \u001b[49m\u001b[43mcatch\u001b[49m\u001b[38;5;241;43m=\u001b[39;49m\u001b[43mcatch\u001b[49m\u001b[43m,\u001b[49m\n\u001b[1;32m    407\u001b[0m \u001b[43m    \u001b[49m\u001b[43mcallbacks\u001b[49m\u001b[38;5;241;43m=\u001b[39;49m\u001b[43mcallbacks\u001b[49m\u001b[43m,\u001b[49m\n\u001b[1;32m    408\u001b[0m \u001b[43m    \u001b[49m\u001b[43mgc_after_trial\u001b[49m\u001b[38;5;241;43m=\u001b[39;49m\u001b[43mgc_after_trial\u001b[49m\u001b[43m,\u001b[49m\n\u001b[1;32m    409\u001b[0m \u001b[43m    \u001b[49m\u001b[43mshow_progress_bar\u001b[49m\u001b[38;5;241;43m=\u001b[39;49m\u001b[43mshow_progress_bar\u001b[49m\u001b[43m,\u001b[49m\n\u001b[1;32m    410\u001b[0m \u001b[43m\u001b[49m\u001b[43m)\u001b[49m\n",
      "File \u001b[0;32m~/miniconda3/envs/amex/lib/python3.10/site-packages/optuna/study/_optimize.py:66\u001b[0m, in \u001b[0;36m_optimize\u001b[0;34m(study, func, n_trials, timeout, n_jobs, catch, callbacks, gc_after_trial, show_progress_bar)\u001b[0m\n\u001b[1;32m     64\u001b[0m \u001b[38;5;28;01mtry\u001b[39;00m:\n\u001b[1;32m     65\u001b[0m     \u001b[38;5;28;01mif\u001b[39;00m n_jobs \u001b[38;5;241m==\u001b[39m \u001b[38;5;241m1\u001b[39m:\n\u001b[0;32m---> 66\u001b[0m         \u001b[43m_optimize_sequential\u001b[49m\u001b[43m(\u001b[49m\n\u001b[1;32m     67\u001b[0m \u001b[43m            \u001b[49m\u001b[43mstudy\u001b[49m\u001b[43m,\u001b[49m\n\u001b[1;32m     68\u001b[0m \u001b[43m            \u001b[49m\u001b[43mfunc\u001b[49m\u001b[43m,\u001b[49m\n\u001b[1;32m     69\u001b[0m \u001b[43m            \u001b[49m\u001b[43mn_trials\u001b[49m\u001b[43m,\u001b[49m\n\u001b[1;32m     70\u001b[0m \u001b[43m            \u001b[49m\u001b[43mtimeout\u001b[49m\u001b[43m,\u001b[49m\n\u001b[1;32m     71\u001b[0m \u001b[43m            \u001b[49m\u001b[43mcatch\u001b[49m\u001b[43m,\u001b[49m\n\u001b[1;32m     72\u001b[0m \u001b[43m            \u001b[49m\u001b[43mcallbacks\u001b[49m\u001b[43m,\u001b[49m\n\u001b[1;32m     73\u001b[0m \u001b[43m            \u001b[49m\u001b[43mgc_after_trial\u001b[49m\u001b[43m,\u001b[49m\n\u001b[1;32m     74\u001b[0m \u001b[43m            \u001b[49m\u001b[43mreseed_sampler_rng\u001b[49m\u001b[38;5;241;43m=\u001b[39;49m\u001b[38;5;28;43;01mFalse\u001b[39;49;00m\u001b[43m,\u001b[49m\n\u001b[1;32m     75\u001b[0m \u001b[43m            \u001b[49m\u001b[43mtime_start\u001b[49m\u001b[38;5;241;43m=\u001b[39;49m\u001b[38;5;28;43;01mNone\u001b[39;49;00m\u001b[43m,\u001b[49m\n\u001b[1;32m     76\u001b[0m \u001b[43m            \u001b[49m\u001b[43mprogress_bar\u001b[49m\u001b[38;5;241;43m=\u001b[39;49m\u001b[43mprogress_bar\u001b[49m\u001b[43m,\u001b[49m\n\u001b[1;32m     77\u001b[0m \u001b[43m        \u001b[49m\u001b[43m)\u001b[49m\n\u001b[1;32m     78\u001b[0m     \u001b[38;5;28;01melse\u001b[39;00m:\n\u001b[1;32m     79\u001b[0m         \u001b[38;5;28;01mif\u001b[39;00m show_progress_bar:\n",
      "File \u001b[0;32m~/miniconda3/envs/amex/lib/python3.10/site-packages/optuna/study/_optimize.py:163\u001b[0m, in \u001b[0;36m_optimize_sequential\u001b[0;34m(study, func, n_trials, timeout, catch, callbacks, gc_after_trial, reseed_sampler_rng, time_start, progress_bar)\u001b[0m\n\u001b[1;32m    160\u001b[0m         \u001b[38;5;28;01mbreak\u001b[39;00m\n\u001b[1;32m    162\u001b[0m \u001b[38;5;28;01mtry\u001b[39;00m:\n\u001b[0;32m--> 163\u001b[0m     trial \u001b[38;5;241m=\u001b[39m \u001b[43m_run_trial\u001b[49m\u001b[43m(\u001b[49m\u001b[43mstudy\u001b[49m\u001b[43m,\u001b[49m\u001b[43m \u001b[49m\u001b[43mfunc\u001b[49m\u001b[43m,\u001b[49m\u001b[43m \u001b[49m\u001b[43mcatch\u001b[49m\u001b[43m)\u001b[49m\n\u001b[1;32m    164\u001b[0m \u001b[38;5;28;01mexcept\u001b[39;00m \u001b[38;5;167;01mException\u001b[39;00m:\n\u001b[1;32m    165\u001b[0m     \u001b[38;5;28;01mraise\u001b[39;00m\n",
      "File \u001b[0;32m~/miniconda3/envs/amex/lib/python3.10/site-packages/optuna/study/_optimize.py:264\u001b[0m, in \u001b[0;36m_run_trial\u001b[0;34m(study, func, catch)\u001b[0m\n\u001b[1;32m    261\u001b[0m         \u001b[38;5;28;01massert\u001b[39;00m \u001b[38;5;28;01mFalse\u001b[39;00m, \u001b[38;5;124m\"\u001b[39m\u001b[38;5;124mShould not reach.\u001b[39m\u001b[38;5;124m\"\u001b[39m\n\u001b[1;32m    263\u001b[0m \u001b[38;5;28;01mif\u001b[39;00m state \u001b[38;5;241m==\u001b[39m TrialState\u001b[38;5;241m.\u001b[39mFAIL \u001b[38;5;129;01mand\u001b[39;00m func_err \u001b[38;5;129;01mis\u001b[39;00m \u001b[38;5;129;01mnot\u001b[39;00m \u001b[38;5;28;01mNone\u001b[39;00m \u001b[38;5;129;01mand\u001b[39;00m \u001b[38;5;129;01mnot\u001b[39;00m \u001b[38;5;28misinstance\u001b[39m(func_err, catch):\n\u001b[0;32m--> 264\u001b[0m     \u001b[38;5;28;01mraise\u001b[39;00m func_err\n\u001b[1;32m    265\u001b[0m \u001b[38;5;28;01mreturn\u001b[39;00m trial\n",
      "File \u001b[0;32m~/miniconda3/envs/amex/lib/python3.10/site-packages/optuna/study/_optimize.py:213\u001b[0m, in \u001b[0;36m_run_trial\u001b[0;34m(study, func, catch)\u001b[0m\n\u001b[1;32m    210\u001b[0m     thread\u001b[38;5;241m.\u001b[39mstart()\n\u001b[1;32m    212\u001b[0m \u001b[38;5;28;01mtry\u001b[39;00m:\n\u001b[0;32m--> 213\u001b[0m     value_or_values \u001b[38;5;241m=\u001b[39m \u001b[43mfunc\u001b[49m\u001b[43m(\u001b[49m\u001b[43mtrial\u001b[49m\u001b[43m)\u001b[49m\n\u001b[1;32m    214\u001b[0m \u001b[38;5;28;01mexcept\u001b[39;00m exceptions\u001b[38;5;241m.\u001b[39mTrialPruned \u001b[38;5;28;01mas\u001b[39;00m e:\n\u001b[1;32m    215\u001b[0m     \u001b[38;5;66;03m# TODO(mamu): Handle multi-objective cases.\u001b[39;00m\n\u001b[1;32m    216\u001b[0m     state \u001b[38;5;241m=\u001b[39m TrialState\u001b[38;5;241m.\u001b[39mPRUNED\n",
      "Input \u001b[0;32mIn [22]\u001b[0m, in \u001b[0;36mobjective\u001b[0;34m(trial)\u001b[0m\n\u001b[1;32m     32\u001b[0m     warnings\u001b[38;5;241m.\u001b[39mfilterwarnings(\u001b[38;5;124m'\u001b[39m\u001b[38;5;124mignore\u001b[39m\u001b[38;5;124m'\u001b[39m, category\u001b[38;5;241m=\u001b[39m\u001b[38;5;167;01mUserWarning\u001b[39;00m)\n\u001b[1;32m     33\u001b[0m     model \u001b[38;5;241m=\u001b[39m cb\u001b[38;5;241m.\u001b[39mCatBoostClassifier(\u001b[38;5;241m*\u001b[39m\u001b[38;5;241m*\u001b[39mparam)\n\u001b[0;32m---> 34\u001b[0m     \u001b[43mmodel\u001b[49m\u001b[38;5;241;43m.\u001b[39;49m\u001b[43mfit\u001b[49m\u001b[43m(\u001b[49m\n\u001b[1;32m     35\u001b[0m \u001b[43m        \u001b[49m\u001b[43mX_train\u001b[49m\u001b[43m,\u001b[49m\u001b[43m \u001b[49m\n\u001b[1;32m     36\u001b[0m \u001b[43m        \u001b[49m\u001b[43my_train\u001b[49m\u001b[43m,\u001b[49m\u001b[43m \u001b[49m\n\u001b[1;32m     37\u001b[0m \u001b[43m        \u001b[49m\u001b[43meval_set\u001b[49m\u001b[38;5;241;43m=\u001b[39;49m\u001b[43m[\u001b[49m\u001b[43m(\u001b[49m\u001b[43mX_val\u001b[49m\u001b[43m,\u001b[49m\u001b[43m \u001b[49m\u001b[43my_val\u001b[49m\u001b[43m)\u001b[49m\u001b[43m]\u001b[49m\u001b[43m,\u001b[49m\u001b[43m \u001b[49m\n\u001b[1;32m     38\u001b[0m \u001b[43m        \u001b[49m\u001b[43mverbose\u001b[49m\u001b[38;5;241;43m=\u001b[39;49m\u001b[38;5;241;43m0\u001b[39;49m\u001b[43m,\u001b[49m\u001b[43m \u001b[49m\n\u001b[1;32m     39\u001b[0m \u001b[43m        \u001b[49m\u001b[43mcat_features\u001b[49m\u001b[38;5;241;43m=\u001b[39;49m\u001b[43mcat_features\u001b[49m\u001b[43m,\u001b[49m\n\u001b[1;32m     40\u001b[0m \u001b[43m        \u001b[49m\u001b[43mearly_stopping_rounds\u001b[49m\u001b[38;5;241;43m=\u001b[39;49m\u001b[38;5;241;43m100\u001b[39;49m\n\u001b[1;32m     41\u001b[0m \u001b[43m    \u001b[49m\u001b[43m)\u001b[49m\n\u001b[1;32m     42\u001b[0m y_train_pred \u001b[38;5;241m=\u001b[39m model\u001b[38;5;241m.\u001b[39mpredict(X_train, prediction_type\u001b[38;5;241m=\u001b[39m\u001b[38;5;124m'\u001b[39m\u001b[38;5;124mRawFormulaVal\u001b[39m\u001b[38;5;124m'\u001b[39m)\n\u001b[1;32m     43\u001b[0m train_score, train_g, train_t4 \u001b[38;5;241m=\u001b[39m amex_metric(y_train, y_train_pred)\n",
      "File \u001b[0;32m~/miniconda3/envs/amex/lib/python3.10/site-packages/catboost/core.py:5007\u001b[0m, in \u001b[0;36mCatBoostClassifier.fit\u001b[0;34m(self, X, y, cat_features, text_features, embedding_features, sample_weight, baseline, use_best_model, eval_set, verbose, logging_level, plot, column_description, verbose_eval, metric_period, silent, early_stopping_rounds, save_snapshot, snapshot_file, snapshot_interval, init_model, callbacks, log_cout, log_cerr)\u001b[0m\n\u001b[1;32m   5004\u001b[0m \u001b[38;5;28;01mif\u001b[39;00m \u001b[38;5;124m'\u001b[39m\u001b[38;5;124mloss_function\u001b[39m\u001b[38;5;124m'\u001b[39m \u001b[38;5;129;01min\u001b[39;00m params:\n\u001b[1;32m   5005\u001b[0m     CatBoostClassifier\u001b[38;5;241m.\u001b[39m_check_is_compatible_loss(params[\u001b[38;5;124m'\u001b[39m\u001b[38;5;124mloss_function\u001b[39m\u001b[38;5;124m'\u001b[39m])\n\u001b[0;32m-> 5007\u001b[0m \u001b[38;5;28;43mself\u001b[39;49m\u001b[38;5;241;43m.\u001b[39;49m\u001b[43m_fit\u001b[49m\u001b[43m(\u001b[49m\u001b[43mX\u001b[49m\u001b[43m,\u001b[49m\u001b[43m \u001b[49m\u001b[43my\u001b[49m\u001b[43m,\u001b[49m\u001b[43m \u001b[49m\u001b[43mcat_features\u001b[49m\u001b[43m,\u001b[49m\u001b[43m \u001b[49m\u001b[43mtext_features\u001b[49m\u001b[43m,\u001b[49m\u001b[43m \u001b[49m\u001b[43membedding_features\u001b[49m\u001b[43m,\u001b[49m\u001b[43m \u001b[49m\u001b[38;5;28;43;01mNone\u001b[39;49;00m\u001b[43m,\u001b[49m\u001b[43m \u001b[49m\u001b[43msample_weight\u001b[49m\u001b[43m,\u001b[49m\u001b[43m \u001b[49m\u001b[38;5;28;43;01mNone\u001b[39;49;00m\u001b[43m,\u001b[49m\u001b[43m \u001b[49m\u001b[38;5;28;43;01mNone\u001b[39;49;00m\u001b[43m,\u001b[49m\u001b[43m \u001b[49m\u001b[38;5;28;43;01mNone\u001b[39;49;00m\u001b[43m,\u001b[49m\u001b[43m \u001b[49m\u001b[38;5;28;43;01mNone\u001b[39;49;00m\u001b[43m,\u001b[49m\u001b[43m \u001b[49m\u001b[43mbaseline\u001b[49m\u001b[43m,\u001b[49m\u001b[43m \u001b[49m\u001b[43muse_best_model\u001b[49m\u001b[43m,\u001b[49m\n\u001b[1;32m   5008\u001b[0m \u001b[43m          \u001b[49m\u001b[43meval_set\u001b[49m\u001b[43m,\u001b[49m\u001b[43m \u001b[49m\u001b[43mverbose\u001b[49m\u001b[43m,\u001b[49m\u001b[43m \u001b[49m\u001b[43mlogging_level\u001b[49m\u001b[43m,\u001b[49m\u001b[43m \u001b[49m\u001b[43mplot\u001b[49m\u001b[43m,\u001b[49m\u001b[43m \u001b[49m\u001b[43mcolumn_description\u001b[49m\u001b[43m,\u001b[49m\u001b[43m \u001b[49m\u001b[43mverbose_eval\u001b[49m\u001b[43m,\u001b[49m\u001b[43m \u001b[49m\u001b[43mmetric_period\u001b[49m\u001b[43m,\u001b[49m\n\u001b[1;32m   5009\u001b[0m \u001b[43m          \u001b[49m\u001b[43msilent\u001b[49m\u001b[43m,\u001b[49m\u001b[43m \u001b[49m\u001b[43mearly_stopping_rounds\u001b[49m\u001b[43m,\u001b[49m\u001b[43m \u001b[49m\u001b[43msave_snapshot\u001b[49m\u001b[43m,\u001b[49m\u001b[43m \u001b[49m\u001b[43msnapshot_file\u001b[49m\u001b[43m,\u001b[49m\u001b[43m \u001b[49m\u001b[43msnapshot_interval\u001b[49m\u001b[43m,\u001b[49m\u001b[43m \u001b[49m\u001b[43minit_model\u001b[49m\u001b[43m,\u001b[49m\u001b[43m \u001b[49m\u001b[43mcallbacks\u001b[49m\u001b[43m,\u001b[49m\u001b[43m \u001b[49m\u001b[43mlog_cout\u001b[49m\u001b[43m,\u001b[49m\u001b[43m \u001b[49m\u001b[43mlog_cerr\u001b[49m\u001b[43m)\u001b[49m\n\u001b[1;32m   5010\u001b[0m \u001b[38;5;28;01mreturn\u001b[39;00m \u001b[38;5;28mself\u001b[39m\n",
      "File \u001b[0;32m~/miniconda3/envs/amex/lib/python3.10/site-packages/catboost/core.py:2262\u001b[0m, in \u001b[0;36mCatBoost._fit\u001b[0;34m(self, X, y, cat_features, text_features, embedding_features, pairs, sample_weight, group_id, group_weight, subgroup_id, pairs_weight, baseline, use_best_model, eval_set, verbose, logging_level, plot, column_description, verbose_eval, metric_period, silent, early_stopping_rounds, save_snapshot, snapshot_file, snapshot_interval, init_model, callbacks, log_cout, log_cerr)\u001b[0m\n\u001b[1;32m   2259\u001b[0m \u001b[38;5;28;01mif\u001b[39;00m y \u001b[38;5;129;01mis\u001b[39;00m \u001b[38;5;28;01mNone\u001b[39;00m \u001b[38;5;129;01mand\u001b[39;00m \u001b[38;5;129;01mnot\u001b[39;00m \u001b[38;5;28misinstance\u001b[39m(X, PATH_TYPES \u001b[38;5;241m+\u001b[39m (Pool,)):\n\u001b[1;32m   2260\u001b[0m     \u001b[38;5;28;01mraise\u001b[39;00m CatBoostError(\u001b[38;5;124m\"\u001b[39m\u001b[38;5;124my may be None only when X is an instance of catboost.Pool or string\u001b[39m\u001b[38;5;124m\"\u001b[39m)\n\u001b[0;32m-> 2262\u001b[0m train_params \u001b[38;5;241m=\u001b[39m \u001b[38;5;28;43mself\u001b[39;49m\u001b[38;5;241;43m.\u001b[39;49m\u001b[43m_prepare_train_params\u001b[49m\u001b[43m(\u001b[49m\n\u001b[1;32m   2263\u001b[0m \u001b[43m    \u001b[49m\u001b[43mX\u001b[49m\u001b[38;5;241;43m=\u001b[39;49m\u001b[43mX\u001b[49m\u001b[43m,\u001b[49m\u001b[43m \u001b[49m\u001b[43my\u001b[49m\u001b[38;5;241;43m=\u001b[39;49m\u001b[43my\u001b[49m\u001b[43m,\u001b[49m\u001b[43m \u001b[49m\u001b[43mcat_features\u001b[49m\u001b[38;5;241;43m=\u001b[39;49m\u001b[43mcat_features\u001b[49m\u001b[43m,\u001b[49m\u001b[43m \u001b[49m\u001b[43mtext_features\u001b[49m\u001b[38;5;241;43m=\u001b[39;49m\u001b[43mtext_features\u001b[49m\u001b[43m,\u001b[49m\u001b[43m \u001b[49m\u001b[43membedding_features\u001b[49m\u001b[38;5;241;43m=\u001b[39;49m\u001b[43membedding_features\u001b[49m\u001b[43m,\u001b[49m\n\u001b[1;32m   2264\u001b[0m \u001b[43m    \u001b[49m\u001b[43mpairs\u001b[49m\u001b[38;5;241;43m=\u001b[39;49m\u001b[43mpairs\u001b[49m\u001b[43m,\u001b[49m\u001b[43m \u001b[49m\u001b[43msample_weight\u001b[49m\u001b[38;5;241;43m=\u001b[39;49m\u001b[43msample_weight\u001b[49m\u001b[43m,\u001b[49m\u001b[43m \u001b[49m\u001b[43mgroup_id\u001b[49m\u001b[38;5;241;43m=\u001b[39;49m\u001b[43mgroup_id\u001b[49m\u001b[43m,\u001b[49m\u001b[43m \u001b[49m\u001b[43mgroup_weight\u001b[49m\u001b[38;5;241;43m=\u001b[39;49m\u001b[43mgroup_weight\u001b[49m\u001b[43m,\u001b[49m\n\u001b[1;32m   2265\u001b[0m \u001b[43m    \u001b[49m\u001b[43msubgroup_id\u001b[49m\u001b[38;5;241;43m=\u001b[39;49m\u001b[43msubgroup_id\u001b[49m\u001b[43m,\u001b[49m\u001b[43m \u001b[49m\u001b[43mpairs_weight\u001b[49m\u001b[38;5;241;43m=\u001b[39;49m\u001b[43mpairs_weight\u001b[49m\u001b[43m,\u001b[49m\u001b[43m \u001b[49m\u001b[43mbaseline\u001b[49m\u001b[38;5;241;43m=\u001b[39;49m\u001b[43mbaseline\u001b[49m\u001b[43m,\u001b[49m\u001b[43m \u001b[49m\u001b[43muse_best_model\u001b[49m\u001b[38;5;241;43m=\u001b[39;49m\u001b[43muse_best_model\u001b[49m\u001b[43m,\u001b[49m\n\u001b[1;32m   2266\u001b[0m \u001b[43m    \u001b[49m\u001b[43meval_set\u001b[49m\u001b[38;5;241;43m=\u001b[39;49m\u001b[43meval_set\u001b[49m\u001b[43m,\u001b[49m\u001b[43m \u001b[49m\u001b[43mverbose\u001b[49m\u001b[38;5;241;43m=\u001b[39;49m\u001b[43mverbose\u001b[49m\u001b[43m,\u001b[49m\u001b[43m \u001b[49m\u001b[43mlogging_level\u001b[49m\u001b[38;5;241;43m=\u001b[39;49m\u001b[43mlogging_level\u001b[49m\u001b[43m,\u001b[49m\u001b[43m \u001b[49m\u001b[43mplot\u001b[49m\u001b[38;5;241;43m=\u001b[39;49m\u001b[43mplot\u001b[49m\u001b[43m,\u001b[49m\n\u001b[1;32m   2267\u001b[0m \u001b[43m    \u001b[49m\u001b[43mcolumn_description\u001b[49m\u001b[38;5;241;43m=\u001b[39;49m\u001b[43mcolumn_description\u001b[49m\u001b[43m,\u001b[49m\u001b[43m \u001b[49m\u001b[43mverbose_eval\u001b[49m\u001b[38;5;241;43m=\u001b[39;49m\u001b[43mverbose_eval\u001b[49m\u001b[43m,\u001b[49m\u001b[43m \u001b[49m\u001b[43mmetric_period\u001b[49m\u001b[38;5;241;43m=\u001b[39;49m\u001b[43mmetric_period\u001b[49m\u001b[43m,\u001b[49m\n\u001b[1;32m   2268\u001b[0m \u001b[43m    \u001b[49m\u001b[43msilent\u001b[49m\u001b[38;5;241;43m=\u001b[39;49m\u001b[43msilent\u001b[49m\u001b[43m,\u001b[49m\u001b[43m \u001b[49m\u001b[43mearly_stopping_rounds\u001b[49m\u001b[38;5;241;43m=\u001b[39;49m\u001b[43mearly_stopping_rounds\u001b[49m\u001b[43m,\u001b[49m\u001b[43m \u001b[49m\u001b[43msave_snapshot\u001b[49m\u001b[38;5;241;43m=\u001b[39;49m\u001b[43msave_snapshot\u001b[49m\u001b[43m,\u001b[49m\n\u001b[1;32m   2269\u001b[0m \u001b[43m    \u001b[49m\u001b[43msnapshot_file\u001b[49m\u001b[38;5;241;43m=\u001b[39;49m\u001b[43msnapshot_file\u001b[49m\u001b[43m,\u001b[49m\u001b[43m \u001b[49m\u001b[43msnapshot_interval\u001b[49m\u001b[38;5;241;43m=\u001b[39;49m\u001b[43msnapshot_interval\u001b[49m\u001b[43m,\u001b[49m\u001b[43m \u001b[49m\u001b[43minit_model\u001b[49m\u001b[38;5;241;43m=\u001b[39;49m\u001b[43minit_model\u001b[49m\u001b[43m,\u001b[49m\n\u001b[1;32m   2270\u001b[0m \u001b[43m    \u001b[49m\u001b[43mcallbacks\u001b[49m\u001b[38;5;241;43m=\u001b[39;49m\u001b[43mcallbacks\u001b[49m\n\u001b[1;32m   2271\u001b[0m \u001b[43m\u001b[49m\u001b[43m)\u001b[49m\n\u001b[1;32m   2272\u001b[0m params \u001b[38;5;241m=\u001b[39m train_params[\u001b[38;5;124m\"\u001b[39m\u001b[38;5;124mparams\u001b[39m\u001b[38;5;124m\"\u001b[39m]\n\u001b[1;32m   2273\u001b[0m train_pool \u001b[38;5;241m=\u001b[39m train_params[\u001b[38;5;124m\"\u001b[39m\u001b[38;5;124mtrain_pool\u001b[39m\u001b[38;5;124m\"\u001b[39m]\n",
      "File \u001b[0;32m~/miniconda3/envs/amex/lib/python3.10/site-packages/catboost/core.py:2194\u001b[0m, in \u001b[0;36mCatBoost._prepare_train_params\u001b[0;34m(self, X, y, cat_features, text_features, embedding_features, pairs, sample_weight, group_id, group_weight, subgroup_id, pairs_weight, baseline, use_best_model, eval_set, verbose, logging_level, plot, column_description, verbose_eval, metric_period, silent, early_stopping_rounds, save_snapshot, snapshot_file, snapshot_interval, init_model, callbacks)\u001b[0m\n\u001b[1;32m   2192\u001b[0m _check_param_types(params)\n\u001b[1;32m   2193\u001b[0m params \u001b[38;5;241m=\u001b[39m _params_type_cast(params)\n\u001b[0;32m-> 2194\u001b[0m \u001b[43m_check_train_params\u001b[49m\u001b[43m(\u001b[49m\u001b[43mparams\u001b[49m\u001b[43m)\u001b[49m\n\u001b[1;32m   2196\u001b[0m eval_set_list \u001b[38;5;241m=\u001b[39m eval_set \u001b[38;5;28;01mif\u001b[39;00m \u001b[38;5;28misinstance\u001b[39m(eval_set, \u001b[38;5;28mlist\u001b[39m) \u001b[38;5;28;01melse\u001b[39;00m [eval_set]\n\u001b[1;32m   2197\u001b[0m eval_sets \u001b[38;5;241m=\u001b[39m []\n",
      "File \u001b[0;32m_catboost.pyx:6032\u001b[0m, in \u001b[0;36m_catboost._check_train_params\u001b[0;34m()\u001b[0m\n",
      "File \u001b[0;32m_catboost.pyx:6051\u001b[0m, in \u001b[0;36m_catboost._check_train_params\u001b[0;34m()\u001b[0m\n",
      "\u001b[0;31mCatBoostError\u001b[0m: catboost/private/libs/options/oblivious_tree_options.cpp:125: Maximum tree depth is 16"
     ]
    }
   ],
   "source": [
    "study.optimize(objective, n_trials=2)"
   ]
  },
  {
   "cell_type": "code",
   "execution_count": 87,
   "id": "69b8afde-95c1-4adf-9c53-42739515bc7a",
   "metadata": {},
   "outputs": [
    {
     "name": "stdout",
     "output_type": "stream",
     "text": [
      "{'objective': 'Logloss', 'colsample_bylevel': 0.06277312188025866, 'depth': 16, 'random_strength': 1.3657432521345299, 'class_weights': [1, 1.25], 'n_estimators': 750, 'l2_leaf_reg': 7.455236317905622, 'min_data_in_leaf': 1500, 'learning_rate': 0.05, 'max_bin': 127, 'used_ram_limit': '16gb', 'bootstrap_type': 'Bernoulli', 'grow_policy': 'Depthwise', 'eval_metric': <__main__.AmexMetric object at 0x28c33cfa0>, 'subsample': 0.7975001435377027}\n",
      "\u001b[34m\u001b[1mFold 1 | Train Score = 0.93253 (0.9737, 0.8913)\n",
      "\u001b[32m\u001b[1mFold 1 | Val Score = 0.78998 (0.9218, 0.6582)\u001b[0m\n",
      "Clear cache 422\n"
     ]
    },
    {
     "name": "stderr",
     "output_type": "stream",
     "text": [
      "\n",
      "KeyboardInterrupt\n",
      "\n"
     ]
    },
    {
     "name": "stdout",
     "output_type": "stream",
     "text": [
      "Error in callback <bound method AutoreloadMagics.post_execute_hook of <IPython.extensions.autoreload.AutoreloadMagics object at 0x119131210>> (for post_execute):\n"
     ]
    },
    {
     "name": "stderr",
     "output_type": "stream",
     "text": [
      "\n",
      "KeyboardInterrupt\n",
      "\n"
     ]
    }
   ],
   "source": [
    "study.optimize(objective, n_trials=2)"
   ]
  },
  {
   "cell_type": "code",
   "execution_count": null,
   "id": "fc0b6904-acf5-4b5d-b547-59f24839fdd6",
   "metadata": {},
   "outputs": [],
   "source": []
  },
  {
   "cell_type": "code",
   "execution_count": 65,
   "id": "b9a13b09-1cae-4c18-8acb-6fbe81319ae1",
   "metadata": {},
   "outputs": [
    {
     "name": "stdout",
     "output_type": "stream",
     "text": [
      "{'objective': 'Logloss', 'colsample_bylevel': 0.040243910747011113, 'depth': 14, 'random_strength': 1.3417270232978231, 'class_weights': [1, 1.35], 'n_estimators': 750, 'l2_leaf_reg': 7.704397279944718, 'min_data_in_leaf': 1500, 'learning_rate': 0.05, 'max_bin': 190, 'used_ram_limit': '16gb', 'bootstrap_type': 'MVS', 'grow_policy': 'Depthwise', 'eval_metric': <__main__.AmexMetric object at 0x15467bfd0>}\n",
      "\u001b[34m\u001b[1mFold 1 | Train Score = 0.89183 (0.9603, 0.8234)\n",
      "\u001b[32m\u001b[1mFold 1 | Val Score = 0.78925 (0.9217, 0.6568)\u001b[0m\n",
      "Clear cache 776\n",
      "\u001b[34m\u001b[1mFold 2 | Train Score = 0.87058 (0.9528, 0.7883)\n",
      "\u001b[32m\u001b[1mFold 2 | Val Score = 0.78951 (0.9220, 0.6570)\u001b[0m\n",
      "Clear cache 50\n"
     ]
    },
    {
     "name": "stderr",
     "output_type": "stream",
     "text": [
      "\n",
      "KeyboardInterrupt\n",
      "\n"
     ]
    }
   ],
   "source": [
    "study.optimize(objective, n_trials=2)"
   ]
  },
  {
   "cell_type": "code",
   "execution_count": null,
   "id": "eaa22ea8-7a5a-4ff6-b634-ea89c5fd3077",
   "metadata": {},
   "outputs": [],
   "source": []
  },
  {
   "cell_type": "code",
   "execution_count": null,
   "id": "2805f2fb-e71f-4e15-99c6-893b47645515",
   "metadata": {},
   "outputs": [],
   "source": []
  },
  {
   "cell_type": "code",
   "execution_count": null,
   "id": "3a42ed01-4b1e-4bf8-b06f-1264a08b2ce8",
   "metadata": {},
   "outputs": [],
   "source": []
  },
  {
   "cell_type": "code",
   "execution_count": null,
   "id": "42f40bf4-6287-4826-9ce6-11fa6fd0bdd8",
   "metadata": {},
   "outputs": [],
   "source": []
  },
  {
   "cell_type": "code",
   "execution_count": null,
   "id": "c6cd8c49-3e83-467b-9e5f-1a4921c926a5",
   "metadata": {},
   "outputs": [],
   "source": []
  },
  {
   "cell_type": "code",
   "execution_count": null,
   "id": "2fb40aa8-7cce-48bc-992b-7c27a84f7602",
   "metadata": {},
   "outputs": [],
   "source": []
  },
  {
   "cell_type": "code",
   "execution_count": 47,
   "id": "a72bdccb",
   "metadata": {},
   "outputs": [],
   "source": [
    "def objective(trial):\n",
    "    param = {\n",
    "        \"colsample_bylevel\": trial.suggest_float(\"colsample_bylevel\", 0.03, 0.1, log=True),\n",
    "        \"depth\": trial.suggest_int(\"depth\", 6, 10),\n",
    "        \"boosting_type\": trial.suggest_categorical(\"boosting_type\", [\"Ordered\"]),\n",
    "        \"bootstrap_type\": trial.suggest_categorical(\n",
    "            \"bootstrap_type\", [\"MVS\"]\n",
    "        ),\n",
    "        \"n_estimators\": trial.suggest_categorical(\"n_estimators\", [1500, 1750, 2000]),\n",
    "        \"l2_leaf_reg\": trial.suggest_float(\"l2_leaf_reg\", 2, 5, log=True),\n",
    "        \"min_data_in_leaf\": trial.suggest_categorical(\"min_data_in_leaf\", [1024, 2048]),\n",
    "        \"learning_rate\": trial.suggest_categorical(\"learning_rate\", [0.03, 0.06, 0.1]),\n",
    "        \"max_bin\": trial.suggest_categorical(\"max_bin\", [127, 255]),\n",
    "        \"objective\": \"Logloss\",\n",
    "        \"used_ram_limit\": \"20gb\",\n",
    "        \"thread_count\": 16,\n",
    "        \"eval_metric\": AmexMetric(),\n",
    "        # \"task_type\": \"GPU\",\n",
    "        \"devices\": '0:1'\n",
    "    }\n",
    "\n",
    "    # if param[\"bootstrap_type\"] == \"Bernoulli\":\n",
    "    #     param[\"subsample\"] = trial.suggest_float(\"subsample\", 0.6, 0.85)\n",
    "    \n",
    "    print(param)\n",
    "    train_score_list, val_score_list = [], []\n",
    "    for fold in range(5):\n",
    "        X_train = pd.concat([df for idx, df in df_dict.items() if idx != fold], ignore_index=True)\n",
    "        X_val = df_dict[fold]\n",
    "        print(\"X shape: \", X_train.shape, X_val.shape)\n",
    "        y_train = pd.concat([y_dict[idx] for idx in range(5) if idx != fold], ignore_index=True)\n",
    "        y_val = y_dict[fold]\n",
    "        print(\"Y shape: \", y_train.shape, y_val.shape)\n",
    "        with warnings.catch_warnings():\n",
    "            warnings.filterwarnings('ignore', category=UserWarning)\n",
    "            model = cb.CatBoostClassifier(**param)\n",
    "            model.fit(\n",
    "                X_train, \n",
    "                y_train, \n",
    "                eval_set=[(X_val, y_val)], \n",
    "                use_best_model=True,\n",
    "                metric_period=50,\n",
    "                verbose_eval=50,\n",
    "                cat_features=cat_features,\n",
    "                early_stopping_rounds=100\n",
    "            )\n",
    "        y_train_pred = model.predict(X_train, prediction_type='RawFormulaVal')\n",
    "        train_score, train_g, train_t4 = amex_metric(y_train, y_train_pred)\n",
    "        train_data, X_train, y_train = None, None, None\n",
    "        y_val_pred = model.predict(X_val, prediction_type='RawFormulaVal')\n",
    "        val_score, val_g, val_t4 = amex_metric(y_val, y_val_pred)\n",
    "        valid_data, X_val, y_val = None, None, None\n",
    "        train_score_list.append(train_score)\n",
    "        val_score_list.append(val_score)\n",
    "        print(f\"{Fore.BLUE}{Style.BRIGHT}Fold {fold} | Train Score = {train_score:.5f} ({train_g:.4f}, {train_t4:.4f})\")\n",
    "        print(f\"{Fore.GREEN}{Style.BRIGHT}Fold {fold} | Val Score = {val_score:.5f} ({val_g:.4f}, {val_t4:.4f}){Style.RESET_ALL}\")\n",
    "        print(f\"Clear cache {gc.collect()}\")\n",
    "        \n",
    "    return np.mean(val_score_list)"
   ]
  },
  {
   "cell_type": "code",
   "execution_count": 48,
   "id": "75533b0a",
   "metadata": {},
   "outputs": [],
   "source": [
    "# study = joblib.load(f\"{CURRENT_EXP_PATH}/optuna_study.pkl\")"
   ]
  },
  {
   "cell_type": "code",
   "execution_count": 49,
   "id": "f19dc045",
   "metadata": {},
   "outputs": [
    {
     "name": "stderr",
     "output_type": "stream",
     "text": [
      "\u001b[32m[I 2022-08-21 03:38:15,617]\u001b[0m A new study created in memory with name: no-name-97d35944-bcfb-4dea-a2ce-95bdf592cd65\u001b[0m\n"
     ]
    }
   ],
   "source": [
    "study = optuna.create_study(direction=\"maximize\")"
   ]
  },
  {
   "cell_type": "code",
   "execution_count": 50,
   "id": "18197be1",
   "metadata": {},
   "outputs": [
    {
     "name": "stdout",
     "output_type": "stream",
     "text": [
      "{'colsample_bylevel': 0.050454698092565815, 'depth': 9, 'boosting_type': 'Ordered', 'bootstrap_type': 'MVS', 'n_estimators': 1500, 'l2_leaf_reg': 2.7451289723741215, 'min_data_in_leaf': 2048, 'learning_rate': 0.03, 'max_bin': 63, 'objective': 'Logloss', 'used_ram_limit': '20gb', 'thread_count': 16, 'eval_metric': <__main__.AmexMetric object at 0x7fcbec4a29e0>, 'devices': '0:1'}\n",
      "X shape:  (330410, 4368) (82603, 4368)\n",
      "Y shape:  (330410,) (82603,)\n"
     ]
    },
    {
     "name": "stderr",
     "output_type": "stream",
     "text": [
      "Warning: Overfitting detector is active, thus evaluation metric is calculated on every iteration. 'metric_period' is ignored for evaluation metric.\n"
     ]
    },
    {
     "name": "stdout",
     "output_type": "stream",
     "text": [
      "0:\tlearn: 0.6915845\ttest: 0.6905689\tbest: 0.6905689 (0)\ttotal: 1.1s\tremaining: 27m 33s\n",
      "50:\tlearn: 0.7672712\ttest: 0.7618455\tbest: 0.7618455 (50)\ttotal: 34.9s\tremaining: 16m 31s\n",
      "100:\tlearn: 0.7787548\ttest: 0.7729213\tbest: 0.7729213 (100)\ttotal: 1m 7s\tremaining: 15m 30s\n",
      "150:\tlearn: 0.7854660\ttest: 0.7781240\tbest: 0.7784973 (147)\ttotal: 1m 39s\tremaining: 14m 48s\n",
      "200:\tlearn: 0.7894451\ttest: 0.7814150\tbest: 0.7817305 (199)\ttotal: 2m 11s\tremaining: 14m 12s\n",
      "250:\tlearn: 0.7930745\ttest: 0.7827799\tbest: 0.7827828 (248)\ttotal: 2m 43s\tremaining: 13m 31s\n",
      "300:\tlearn: 0.7957016\ttest: 0.7848815\tbest: 0.7848815 (300)\ttotal: 3m 13s\tremaining: 12m 51s\n",
      "350:\tlearn: 0.7984149\ttest: 0.7849632\tbest: 0.7856020 (342)\ttotal: 3m 44s\tremaining: 12m 15s\n",
      "400:\tlearn: 0.8003926\ttest: 0.7858359\tbest: 0.7858359 (400)\ttotal: 4m 15s\tremaining: 11m 40s\n",
      "450:\tlearn: 0.8028003\ttest: 0.7865907\tbest: 0.7866292 (447)\ttotal: 4m 46s\tremaining: 11m 6s\n",
      "500:\tlearn: 0.8056789\ttest: 0.7872089\tbest: 0.7872686 (484)\ttotal: 5m 18s\tremaining: 10m 34s\n",
      "550:\tlearn: 0.8088255\ttest: 0.7871302\tbest: 0.7878892 (525)\ttotal: 5m 49s\tremaining: 10m 2s\n",
      "600:\tlearn: 0.8112180\ttest: 0.7874459\tbest: 0.7878892 (525)\ttotal: 6m 21s\tremaining: 9m 30s\n",
      "Stopped by overfitting detector  (100 iterations wait)\n",
      "\n",
      "bestTest = 0.787889225\n",
      "bestIteration = 525\n",
      "\n",
      "Shrink model to first 526 iterations.\n",
      "\u001b[34m\u001b[1mFold 0 | Train Score = 0.80723 (0.9280, 0.6864)\n",
      "\u001b[32m\u001b[1mFold 0 | Val Score = 0.78789 (0.9203, 0.6554)\u001b[0m\n",
      "Clear cache 0\n",
      "X shape:  (330410, 4368) (82603, 4368)\n",
      "Y shape:  (330410,) (82603,)\n"
     ]
    },
    {
     "name": "stderr",
     "output_type": "stream",
     "text": [
      "Warning: Overfitting detector is active, thus evaluation metric is calculated on every iteration. 'metric_period' is ignored for evaluation metric.\n"
     ]
    },
    {
     "name": "stdout",
     "output_type": "stream",
     "text": [
      "0:\tlearn: 0.6889373\ttest: 0.6837398\tbest: 0.6837398 (0)\ttotal: 1.13s\tremaining: 28m 9s\n",
      "50:\tlearn: 0.7670921\ttest: 0.7651666\tbest: 0.7651666 (50)\ttotal: 35.6s\tremaining: 16m 51s\n",
      "100:\tlearn: 0.7785601\ttest: 0.7742705\tbest: 0.7742705 (100)\ttotal: 1m 7s\tremaining: 15m 33s\n",
      "150:\tlearn: 0.7849044\ttest: 0.7781200\tbest: 0.7783552 (147)\ttotal: 1m 40s\tremaining: 14m 57s\n"
     ]
    },
    {
     "name": "stderr",
     "output_type": "stream",
     "text": [
      "\n",
      "KeyboardInterrupt\n",
      "\n"
     ]
    }
   ],
   "source": [
    "study.optimize(objective, n_trials=50)"
   ]
  },
  {
   "cell_type": "code",
   "execution_count": null,
   "id": "ccaa59b9",
   "metadata": {},
   "outputs": [],
   "source": [
    "# joblib.dump(study, f\"{CURRENT_EXP_PATH}/optuna_study.pkl\")"
   ]
  },
  {
   "cell_type": "code",
   "execution_count": 62,
   "id": "dd55113e",
   "metadata": {},
   "outputs": [],
   "source": [
    "study_df = study.trials_dataframe()"
   ]
  },
  {
   "cell_type": "code",
   "execution_count": 63,
   "id": "29bef0aa",
   "metadata": {},
   "outputs": [],
   "source": [
    "study_df = study_df.loc[study_df[\"state\"] == \"COMPLETE\"]"
   ]
  },
  {
   "cell_type": "code",
   "execution_count": null,
   "id": "c22d5e28",
   "metadata": {},
   "outputs": [],
   "source": [
    "# for col in get_cols(study_df, \"params\"):\n",
    "#     sns.scatterplot(data=study_df, x=study_df[col], y=study_df[\"value\"])\n",
    "#     plt.show()"
   ]
  },
  {
   "cell_type": "markdown",
   "id": "9ef972f6-be76-4915-a43c-f92c42698a0a",
   "metadata": {},
   "source": [
    "### Single Experiment"
   ]
  },
  {
   "cell_type": "code",
   "execution_count": 60,
   "id": "59bb7299-90ac-47d2-8b5d-f10f991d6072",
   "metadata": {},
   "outputs": [],
   "source": [
    "param = {\n",
    "    \"colsample_bylevel\": 0.1,\n",
    "    \"depth\": 10,\n",
    "    \"boosting_type\": \"Ordered\",\n",
    "    \"bootstrap_type\": \"MVS\",\n",
    "    \"n_estimators\": 1000,\n",
    "    \"l2_leaf_reg\": 1,\n",
    "    \"min_data_in_leaf\": 1024,\n",
    "    \"learning_rate\": 0.05,\n",
    "    \"max_bin\": 255,\n",
    "    \"objective\": \"Logloss\",\n",
    "    \"used_ram_limit\": \"20gb\",\n",
    "    \"thread_count\": 16,\n",
    "    \"random_strength\": 1.3,\n",
    "    \"scale_pos_weight\": 1.35,\n",
    "    \"eval_metric\": AmexMetric(),\n",
    "    # \"grow_policy\": \"Depthwise\",\n",
    "    # \"max_leaves\": 90,\n",
    "    # \"task_type\": \"GPU\",\n",
    "}"
   ]
  },
  {
   "cell_type": "code",
   "execution_count": null,
   "id": "11e9a75b-982c-41c8-9c9e-49f4f0b61fd5",
   "metadata": {},
   "outputs": [
    {
     "name": "stdout",
     "output_type": "stream",
     "text": [
      "{'colsample_bylevel': 0.1, 'depth': 10, 'boosting_type': 'Ordered', 'bootstrap_type': 'MVS', 'n_estimators': 1000, 'l2_leaf_reg': 1, 'min_data_in_leaf': 1024, 'learning_rate': 0.05, 'max_bin': 255, 'objective': 'Logloss', 'used_ram_limit': '20gb', 'thread_count': 16, 'random_strength': 1.3, 'scale_pos_weight': 1.35, 'eval_metric': <__main__.AmexMetric object at 0x7fc7efb7fee0>}\n",
      "X shape:  (330410, 4368) (82603, 4368)\n",
      "Y shape:  (330410,) (82603,)\n"
     ]
    },
    {
     "name": "stderr",
     "output_type": "stream",
     "text": [
      "Warning: Overfitting detector is active, thus evaluation metric is calculated on every iteration. 'metric_period' is ignored for evaluation metric.\n"
     ]
    },
    {
     "name": "stdout",
     "output_type": "stream",
     "text": [
      "0:\tlearn: 0.6764630\ttest: 0.6732952\tbest: 0.6732952 (0)\ttotal: 5.14s\tremaining: 1h 25m 39s\n",
      "50:\tlearn: 0.7755758\ttest: 0.7685304\tbest: 0.7685304 (50)\ttotal: 3m 27s\tremaining: 1h 4m 15s\n",
      "100:\tlearn: 0.7869917\ttest: 0.7768175\tbest: 0.7768175 (100)\ttotal: 6m 42s\tremaining: 59m 38s\n",
      "150:\tlearn: 0.7927805\ttest: 0.7816190\tbest: 0.7816291 (147)\ttotal: 9m 51s\tremaining: 55m 24s\n",
      "200:\tlearn: 0.7976293\ttest: 0.7832967\tbest: 0.7836396 (196)\ttotal: 12m 58s\tremaining: 51m 33s\n",
      "250:\tlearn: 0.8019940\ttest: 0.7851387\tbest: 0.7854065 (248)\ttotal: 16m 8s\tremaining: 48m 9s\n",
      "300:\tlearn: 0.8066188\ttest: 0.7859108\tbest: 0.7860225 (289)\ttotal: 19m 21s\tremaining: 44m 57s\n",
      "350:\tlearn: 0.8118163\ttest: 0.7867622\tbest: 0.7870929 (340)\ttotal: 22m 32s\tremaining: 41m 40s\n",
      "400:\tlearn: 0.8163097\ttest: 0.7879584\tbest: 0.7879584 (400)\ttotal: 25m 41s\tremaining: 38m 22s\n",
      "450:\tlearn: 0.8201758\ttest: 0.7882930\tbest: 0.7885578 (443)\ttotal: 28m 51s\tremaining: 35m 7s\n",
      "500:\tlearn: 0.8239012\ttest: 0.7886714\tbest: 0.7888316 (481)\ttotal: 32m 4s\tremaining: 31m 57s\n",
      "550:\tlearn: 0.8272714\ttest: 0.7881602\tbest: 0.7888316 (481)\ttotal: 35m 12s\tremaining: 28m 41s\n",
      "Stopped by overfitting detector  (100 iterations wait)\n",
      "\n",
      "bestTest = 0.788831554\n",
      "bestIteration = 481\n",
      "\n",
      "Shrink model to first 482 iterations.\n",
      "\u001b[34m\u001b[1mFold 0 | Train Score = 0.82246 (0.9344, 0.7106)\n",
      "\u001b[32m\u001b[1mFold 0 | Val Score = 0.78883 (0.9211, 0.6566)\u001b[0m\n",
      "Clear cache 0\n",
      "X shape:  (330410, 4368) (82603, 4368)\n",
      "Y shape:  (330410,) (82603,)\n"
     ]
    },
    {
     "name": "stderr",
     "output_type": "stream",
     "text": [
      "Warning: Overfitting detector is active, thus evaluation metric is calculated on every iteration. 'metric_period' is ignored for evaluation metric.\n"
     ]
    },
    {
     "name": "stdout",
     "output_type": "stream",
     "text": [
      "0:\tlearn: 0.6967810\ttest: 0.6926070\tbest: 0.6926070 (0)\ttotal: 5.54s\tremaining: 1h 32m 11s\n"
     ]
    }
   ],
   "source": [
    "print(param)\n",
    "train_score_list, val_score_list = [], []\n",
    "for fold in range(5):\n",
    "    X_train = pd.concat([df for idx, df in df_dict.items() if idx != fold], ignore_index=True)\n",
    "    X_val = df_dict[fold]\n",
    "    print(\"X shape: \", X_train.shape, X_val.shape)\n",
    "    y_train = pd.concat([y_dict[idx] for idx in range(5) if idx != fold], ignore_index=True)\n",
    "    y_val = y_dict[fold]\n",
    "    print(\"Y shape: \", y_train.shape, y_val.shape)\n",
    "    with warnings.catch_warnings():\n",
    "        warnings.filterwarnings('ignore', category=UserWarning)\n",
    "        model = cb.CatBoostClassifier(**param)\n",
    "        model.fit(\n",
    "            X_train, \n",
    "            y_train, \n",
    "            eval_set=[(X_val, y_val)], \n",
    "            use_best_model=True,\n",
    "            metric_period=50,\n",
    "            verbose_eval=50,\n",
    "            cat_features=cat_features,\n",
    "            early_stopping_rounds=100\n",
    "        )\n",
    "    y_train_pred = model.predict(X_train, prediction_type='RawFormulaVal')\n",
    "    train_score, train_g, train_t4 = amex_metric(y_train, y_train_pred)\n",
    "    train_data, X_train, y_train = None, None, None\n",
    "    y_val_pred = model.predict(X_val, prediction_type='RawFormulaVal')\n",
    "    val_score, val_g, val_t4 = amex_metric(y_val, y_val_pred)\n",
    "    valid_data, X_val, y_val = None, None, None\n",
    "    train_score_list.append(train_score)\n",
    "    val_score_list.append(val_score)\n",
    "    print(f\"{Fore.BLUE}{Style.BRIGHT}Fold {fold} | Train Score = {train_score:.5f} ({train_g:.4f}, {train_t4:.4f})\")\n",
    "    print(f\"{Fore.GREEN}{Style.BRIGHT}Fold {fold} | Val Score = {val_score:.5f} ({val_g:.4f}, {val_t4:.4f}){Style.RESET_ALL}\")\n",
    "    print(f\"Clear cache {gc.collect()}\")"
   ]
  },
  {
   "cell_type": "code",
   "execution_count": null,
   "id": "6648f977-2536-4c0e-8758-b06a2e8b9510",
   "metadata": {},
   "outputs": [],
   "source": []
  },
  {
   "cell_type": "code",
   "execution_count": null,
   "id": "d98a4577-e477-4985-aef6-308684ca1a18",
   "metadata": {},
   "outputs": [],
   "source": []
  }
 ],
 "metadata": {
  "kernelspec": {
   "display_name": "amex",
   "language": "python",
   "name": "amex"
  },
  "language_info": {
   "codemirror_mode": {
    "name": "ipython",
    "version": 3
   },
   "file_extension": ".py",
   "mimetype": "text/x-python",
   "name": "python",
   "nbconvert_exporter": "python",
   "pygments_lexer": "ipython3",
   "version": "3.10.0"
  }
 },
 "nbformat": 4,
 "nbformat_minor": 5
}
