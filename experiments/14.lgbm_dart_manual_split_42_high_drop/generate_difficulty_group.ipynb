{
 "cells": [
  {
   "cell_type": "code",
   "execution_count": 4,
   "id": "5dd2ca34-3410-4078-aa48-7adbba211ed5",
   "metadata": {},
   "outputs": [],
   "source": [
    "import gc\n",
    "import joblib\n",
    "import pandas as pd\n",
    "import numpy as np\n",
    "import os\n",
    "import seaborn as sns\n",
    "import sys\n",
    "sys.path.append(\"../\")\n",
    "sys.path.append(\"../../\")\n",
    "import time\n",
    "import warnings\n",
    "warnings.simplefilter(\"ignore\")\n",
    "from sklearn.model_selection import train_test_split, StratifiedKFold\n",
    "from tqdm import tqdm"
   ]
  },
  {
   "cell_type": "code",
   "execution_count": 5,
   "id": "88e773c8-793b-4771-85d2-80ad4e905510",
   "metadata": {},
   "outputs": [],
   "source": [
    "from utils.common import (\n",
    "    sigmoid, reverse_sigmoid,\n",
    "    pad_column_name\n",
    ")\n",
    "from utils.constants import *\n",
    "from utils.eval_helpers import (\n",
    "    plot_roc_curves, plot_feature_importance, get_final_metric_df,\n",
    "    amex_metric, get_final_metric_df, amex_metric_np, lgb_amex_metric, \n",
    "    plot_score_distribution, train_logistic_regression\n",
    ")\n",
    "from utils.eda_helpers import (\n",
    "    plot_missing_proportion_barchart, \n",
    "    get_cols, plot_heatmap\n",
    ")\n",
    "from utils.extraction_helpers import read_file\n",
    "from utils.feature_group import (\n",
    "    CATEGORY_COLUMNS, CONTINUOUS_COLUMNS, NON_FEATURE_COLUMNS\n",
    ")"
   ]
  },
  {
   "cell_type": "code",
   "execution_count": 6,
   "id": "e4698b61-dcd2-43c3-b5e3-cd5a350b5e4a",
   "metadata": {},
   "outputs": [],
   "source": [
    "%load_ext autoreload\n",
    "%autoreload"
   ]
  },
  {
   "cell_type": "code",
   "execution_count": 7,
   "id": "3c71f6e3-c9fe-4896-8418-00462a1858c4",
   "metadata": {},
   "outputs": [],
   "source": [
    "ID_COLUMNS = [\"customer_ID\", \"target\"]"
   ]
  },
  {
   "cell_type": "markdown",
   "id": "884ad3df-d4d2-4c01-9066-8f6e70514295",
   "metadata": {},
   "source": [
    "### Read Data"
   ]
  },
  {
   "cell_type": "code",
   "execution_count": 9,
   "id": "876fe9af-442c-4fe7-a961-5b9c14a69441",
   "metadata": {},
   "outputs": [
    {
     "name": "stdout",
     "output_type": "stream",
     "text": [
      "Shape of data: (458913, 2)\n"
     ]
    },
    {
     "data": {
      "text/html": [
       "<div>\n",
       "<style scoped>\n",
       "    .dataframe tbody tr th:only-of-type {\n",
       "        vertical-align: middle;\n",
       "    }\n",
       "\n",
       "    .dataframe tbody tr th {\n",
       "        vertical-align: top;\n",
       "    }\n",
       "\n",
       "    .dataframe thead th {\n",
       "        text-align: right;\n",
       "    }\n",
       "</style>\n",
       "<table border=\"1\" class=\"dataframe\">\n",
       "  <thead>\n",
       "    <tr style=\"text-align: right;\">\n",
       "      <th></th>\n",
       "      <th>customer_ID</th>\n",
       "      <th>target</th>\n",
       "    </tr>\n",
       "  </thead>\n",
       "  <tbody>\n",
       "    <tr>\n",
       "      <th>0</th>\n",
       "      <td>0000099d6bd597052cdcda90ffabf56573fe9d7c79be5f...</td>\n",
       "      <td>0</td>\n",
       "    </tr>\n",
       "    <tr>\n",
       "      <th>1</th>\n",
       "      <td>00000fd6641609c6ece5454664794f0340ad84dddce9a2...</td>\n",
       "      <td>0</td>\n",
       "    </tr>\n",
       "  </tbody>\n",
       "</table>\n",
       "</div>"
      ],
      "text/plain": [
       "                                         customer_ID  target\n",
       "0  0000099d6bd597052cdcda90ffabf56573fe9d7c79be5f...       0\n",
       "1  00000fd6641609c6ece5454664794f0340ad84dddce9a2...       0"
      ]
     },
     "execution_count": 9,
     "metadata": {},
     "output_type": "execute_result"
    }
   ],
   "source": [
    "labels = read_file(f\"../{RAW_DATA_PATH}/train_labels.csv\")\n",
    "target = labels[\"target\"]\n",
    "labels.head(2)"
   ]
  },
  {
   "cell_type": "code",
   "execution_count": 11,
   "id": "0a2d00f3-c1a3-4b90-99c3-79c77b41b677",
   "metadata": {},
   "outputs": [
    {
     "name": "stdout",
     "output_type": "stream",
     "text": [
      "Shape of data: (458913, 2)\n"
     ]
    },
    {
     "data": {
      "text/html": [
       "<div>\n",
       "<style scoped>\n",
       "    .dataframe tbody tr th:only-of-type {\n",
       "        vertical-align: middle;\n",
       "    }\n",
       "\n",
       "    .dataframe tbody tr th {\n",
       "        vertical-align: top;\n",
       "    }\n",
       "\n",
       "    .dataframe thead th {\n",
       "        text-align: right;\n",
       "    }\n",
       "</style>\n",
       "<table border=\"1\" class=\"dataframe\">\n",
       "  <thead>\n",
       "    <tr style=\"text-align: right;\">\n",
       "      <th></th>\n",
       "      <th>customer_ID</th>\n",
       "      <th>num_statements</th>\n",
       "    </tr>\n",
       "  </thead>\n",
       "  <tbody>\n",
       "    <tr>\n",
       "      <th>0</th>\n",
       "      <td>0000099d6bd597052cdcda90ffabf56573fe9d7c79be5f...</td>\n",
       "      <td>13</td>\n",
       "    </tr>\n",
       "    <tr>\n",
       "      <th>1</th>\n",
       "      <td>00000fd6641609c6ece5454664794f0340ad84dddce9a2...</td>\n",
       "      <td>13</td>\n",
       "    </tr>\n",
       "  </tbody>\n",
       "</table>\n",
       "</div>"
      ],
      "text/plain": [
       "                                         customer_ID  num_statements\n",
       "0  0000099d6bd597052cdcda90ffabf56573fe9d7c79be5f...              13\n",
       "1  00000fd6641609c6ece5454664794f0340ad84dddce9a2...              13"
      ]
     },
     "execution_count": 11,
     "metadata": {},
     "output_type": "execute_result"
    }
   ],
   "source": [
    "num_statements_df = read_file(f\"../{RAW_DATA_PATH}/train_num_statements.csv\")\n",
    "num_statements_df.head(2)"
   ]
  },
  {
   "cell_type": "code",
   "execution_count": 13,
   "id": "5488998d-253c-4018-a647-1ed2853a849f",
   "metadata": {},
   "outputs": [
    {
     "name": "stdout",
     "output_type": "stream",
     "text": [
      "Shape of data: (458913, 44)\n"
     ]
    }
   ],
   "source": [
    "master_train_score_df = read_file(f\"../{EXP_PATH}/master_result/master_train_scores.csv\")\n",
    "master_train_score_df = master_train_score_df.loc[:, ID_COLUMNS + get_cols(master_train_score_df, \"oof\")]"
   ]
  },
  {
   "cell_type": "code",
   "execution_count": 15,
   "id": "5ddbe5cd-d669-400b-bab3-73c6c794c0c0",
   "metadata": {},
   "outputs": [
    {
     "name": "stdout",
     "output_type": "stream",
     "text": [
      "Shape of data: (458913, 4)\n"
     ]
    }
   ],
   "source": [
    "train_score_c1 = read_file(f\"../{EXP_PATH}/chris/0.792648_custom_emb_local_best_no_sigmoid_skf_oof.csv\")\n",
    "train_score_c1 = train_score_c1.rename(columns={\"oof_prediction\": \"chris_exp1_oof_score\"})"
   ]
  },
  {
   "cell_type": "code",
   "execution_count": 16,
   "id": "3f5a2773-3923-4bce-b7cf-ba3da7cbc79f",
   "metadata": {},
   "outputs": [],
   "source": [
    "master_train_score_df = master_train_score_df.merge(\n",
    "    train_score_c1[ID_COLUMNS + [\"chris_exp1_oof_score\"]], on=ID_COLUMNS, how='left'\n",
    ")"
   ]
  },
  {
   "cell_type": "code",
   "execution_count": 17,
   "id": "ae083d12-8548-4aa5-9487-2d715e0ee8ca",
   "metadata": {},
   "outputs": [],
   "source": [
    "oof_columns = get_cols(master_train_score_df, \"oof\")"
   ]
  },
  {
   "cell_type": "code",
   "execution_count": 18,
   "id": "64b86fce-41bf-4853-a13e-e5707d297c2c",
   "metadata": {},
   "outputs": [
    {
     "name": "stdout",
     "output_type": "stream",
     "text": [
      "exp1: OOF amex metric - 0.79868\n",
      "exp2: OOF amex metric - 0.79871\n",
      "exp3: OOF amex metric - 0.79779\n",
      "exp4: OOF amex metric - 0.79880\n",
      "exp5: OOF amex metric - 0.79717\n",
      "exp9: OOF amex metric - 0.79732\n",
      "exp10: OOF amex metric - 0.79549\n",
      "chris: OOF amex metric - 0.78706\n"
     ]
    }
   ],
   "source": [
    "for col in oof_columns:\n",
    "    metric = amex_metric(master_train_score_df[\"target\"], master_train_score_df[col])\n",
    "    print(f\"{col.split('_')[0]}: OOF amex metric - {metric[0]:.5f}\")"
   ]
  },
  {
   "cell_type": "code",
   "execution_count": 19,
   "id": "04e5f01c-f062-4a45-8729-8197f902c040",
   "metadata": {},
   "outputs": [],
   "source": [
    "normal_df = master_train_score_df.loc[master_train_score_df[\"target\"] == 0].reset_index(drop=True)\n",
    "default_df = master_train_score_df.loc[master_train_score_df[\"target\"] == 1].reset_index(drop=True)"
   ]
  },
  {
   "cell_type": "code",
   "execution_count": 20,
   "id": "ab4b20e4-afd4-456e-931a-79d3ad5fab98",
   "metadata": {},
   "outputs": [
    {
     "data": {
      "text/plain": [
       "((340085, 10), (118828, 10))"
      ]
     },
     "execution_count": 20,
     "metadata": {},
     "output_type": "execute_result"
    }
   ],
   "source": [
    "normal_df.shape, default_df.shape"
   ]
  },
  {
   "cell_type": "code",
   "execution_count": null,
   "id": "e9927aaa-78e9-477c-af43-14ed1af66111",
   "metadata": {},
   "outputs": [],
   "source": [
    "selected_columns = [f\"exp{i}_oof_score\" for i in [1, 2, 4, 9]]"
   ]
  },
  {
   "cell_type": "markdown",
   "id": "bbd19d85-013f-4a22-9957-c11007deb448",
   "metadata": {},
   "source": [
    "### Get Normal Group"
   ]
  },
  {
   "cell_type": "markdown",
   "id": "d92827c0-32e6-42c4-8731-c47befd0486b",
   "metadata": {},
   "source": [
    "- Group = 0 means easiest & Group = 4 means the hardest to predict this user as a NORMAL user"
   ]
  },
  {
   "cell_type": "code",
   "execution_count": 21,
   "id": "7a640956-f871-480b-ac52-4df0194eafeb",
   "metadata": {},
   "outputs": [
    {
     "data": {
      "text/plain": [
       "Index(['customer_ID', 'target', 'exp1_oof_score', 'exp2_oof_score',\n",
       "       'exp3_oof_score', 'exp4_oof_score', 'exp5_oof_score', 'exp9_oof_score',\n",
       "       'exp10_oof_score', 'chris_exp1_oof_score'],\n",
       "      dtype='object')"
      ]
     },
     "execution_count": 21,
     "metadata": {},
     "output_type": "execute_result"
    }
   ],
   "source": [
    "normal_df.columns"
   ]
  },
  {
   "cell_type": "code",
   "execution_count": 23,
   "id": "c5bd00a4-f63f-4756-81c6-c4a4e7ac9666",
   "metadata": {},
   "outputs": [],
   "source": [
    "normal_df[\"train_oof\"] = normal_df[selected_columns].mean(axis=1)"
   ]
  },
  {
   "cell_type": "code",
   "execution_count": 24,
   "id": "bb011512-aa01-4fa2-9f9b-91846fa1b155",
   "metadata": {},
   "outputs": [],
   "source": [
    "normal_df[\"group\"] = pd.qcut(normal_df[\"train_oof\"], q=5).cat.codes"
   ]
  },
  {
   "cell_type": "code",
   "execution_count": 25,
   "id": "5675d8a1-5c29-44cf-b475-432df99e2a42",
   "metadata": {},
   "outputs": [],
   "source": [
    "normal_df = normal_df[[\"customer_ID\", \"target\", \"group\"]]"
   ]
  },
  {
   "cell_type": "code",
   "execution_count": 26,
   "id": "b9be2931-1d21-463d-ac53-c491c4b892bb",
   "metadata": {},
   "outputs": [],
   "source": [
    "normal_df.to_csv(f\"./normal_predict_group.csv\", index=False)"
   ]
  },
  {
   "cell_type": "markdown",
   "id": "ae47a0fe-2dc2-4f26-b8d9-f43d8a49821d",
   "metadata": {},
   "source": [
    "### Get Default Group"
   ]
  },
  {
   "cell_type": "markdown",
   "id": "2abd38f7-2611-43d9-9aa8-304a18600178",
   "metadata": {},
   "source": [
    "- Group = 0 means easiest & Group = 4 means the hardest to predict this user as a DEFAULT user"
   ]
  },
  {
   "cell_type": "code",
   "execution_count": 27,
   "id": "7ae3f7d7-4aa4-4a1c-b184-2048034ac82c",
   "metadata": {},
   "outputs": [
    {
     "data": {
      "text/plain": [
       "Index(['customer_ID', 'target', 'exp1_oof_score', 'exp2_oof_score',\n",
       "       'exp3_oof_score', 'exp4_oof_score', 'exp5_oof_score', 'exp9_oof_score',\n",
       "       'exp10_oof_score', 'chris_exp1_oof_score'],\n",
       "      dtype='object')"
      ]
     },
     "execution_count": 27,
     "metadata": {},
     "output_type": "execute_result"
    }
   ],
   "source": [
    "default_df.columns"
   ]
  },
  {
   "cell_type": "code",
   "execution_count": 29,
   "id": "1c4d74b4-beac-4725-a2d8-2ca85c1d61b9",
   "metadata": {},
   "outputs": [],
   "source": [
    "default_df[\"train_oof\"] = default_df[selected_columns].mean(axis=1)"
   ]
  },
  {
   "cell_type": "code",
   "execution_count": 30,
   "id": "9666a169-c9a5-4540-9719-937c9d992bfd",
   "metadata": {},
   "outputs": [],
   "source": [
    "default_df[\"group\"] = (4 - pd.qcut(default_df[\"train_oof\"], q=5).cat.codes)"
   ]
  },
  {
   "cell_type": "code",
   "execution_count": 31,
   "id": "fcb84e6e-8d68-4cd8-b2e0-02b0f50c35fc",
   "metadata": {},
   "outputs": [],
   "source": [
    "default_df = default_df[[\"customer_ID\", \"target\", \"group\"]]"
   ]
  },
  {
   "cell_type": "code",
   "execution_count": 32,
   "id": "b6160872-0406-42dd-9ec8-cd3d6687258a",
   "metadata": {},
   "outputs": [
    {
     "data": {
      "text/plain": [
       "2    23766\n",
       "0    23766\n",
       "4    23766\n",
       "3    23765\n",
       "1    23765\n",
       "Name: group, dtype: int64"
      ]
     },
     "execution_count": 32,
     "metadata": {},
     "output_type": "execute_result"
    }
   ],
   "source": [
    "default_df[\"group\"].value_counts()"
   ]
  },
  {
   "cell_type": "code",
   "execution_count": 33,
   "id": "0a1e40fb-4982-4448-9b3a-1d0596c5452e",
   "metadata": {},
   "outputs": [],
   "source": [
    "default_df.to_csv(f\"./default_predict_group.csv\", index=False)"
   ]
  },
  {
   "cell_type": "code",
   "execution_count": null,
   "id": "c4deef7d-9261-4c00-b7cb-66df93c4b5dd",
   "metadata": {},
   "outputs": [],
   "source": []
  }
 ],
 "metadata": {
  "kernelspec": {
   "display_name": "amex",
   "language": "python",
   "name": "amex"
  },
  "language_info": {
   "codemirror_mode": {
    "name": "ipython",
    "version": 3
   },
   "file_extension": ".py",
   "mimetype": "text/x-python",
   "name": "python",
   "nbconvert_exporter": "python",
   "pygments_lexer": "ipython3",
   "version": "3.10.0"
  }
 },
 "nbformat": 4,
 "nbformat_minor": 5
}
