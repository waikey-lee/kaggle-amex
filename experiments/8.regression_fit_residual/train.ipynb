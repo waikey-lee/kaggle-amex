{
 "cells": [
  {
   "cell_type": "code",
   "execution_count": 31,
   "id": "5dd2ca34-3410-4078-aa48-7adbba211ed5",
   "metadata": {},
   "outputs": [],
   "source": [
    "import datetime\n",
    "import gc\n",
    "import joblib\n",
    "import json\n",
    "import lightgbm as lgb\n",
    "import matplotlib.pyplot as plt\n",
    "import pandas as pd\n",
    "import numpy as np\n",
    "import optuna\n",
    "import os\n",
    "import scipy.stats\n",
    "import seaborn as sns\n",
    "import sys\n",
    "sys.path.append(\"../\")\n",
    "sys.path.append(\"../../\")\n",
    "import time\n",
    "import warnings\n",
    "warnings.simplefilter(\"ignore\")\n",
    "from imblearn.over_sampling import SMOTE\n",
    "from itertools import repeat\n",
    "from lightgbm import LGBMClassifier, log_evaluation\n",
    "from sklearn.calibration import CalibrationDisplay\n",
    "from sklearn.model_selection import train_test_split, RandomizedSearchCV, StratifiedKFold, KFold\n",
    "from sklearn.preprocessing import StandardScaler\n",
    "from sklearn.metrics import roc_auc_score, fbeta_score, make_scorer, mean_squared_error\n",
    "from tqdm import tqdm"
   ]
  },
  {
   "cell_type": "code",
   "execution_count": 25,
   "id": "fb17d64c-4cdb-4906-be84-1348484a4886",
   "metadata": {},
   "outputs": [],
   "source": [
    "from matplotlib.ticker import MaxNLocator\n",
    "from matplotlib.colors import ListedColormap\n",
    "from cycler import cycler\n",
    "from IPython.display import display\n",
    "from colorama import Fore, Back, Style\n",
    "plt.rcParams['axes.facecolor'] = '#0057b8' # blue\n",
    "plt.rcParams['axes.prop_cycle'] = cycler(color=['#ffd700'] +\n",
    "                                         plt.rcParams['axes.prop_cycle'].by_key()['color'][1:])\n",
    "plt.rcParams['text.color'] = 'w'"
   ]
  },
  {
   "cell_type": "code",
   "execution_count": 3,
   "id": "a084bef6-4434-40fb-bafc-d7d3e4c57a14",
   "metadata": {},
   "outputs": [],
   "source": [
    "from utils.common import (\n",
    "    sigmoid, pad_column_name, reverse_sigmoid\n",
    ")\n",
    "from utils.constants import *\n",
    "from utils.eval_helpers import (\n",
    "    plot_roc_curves, plot_feature_importance, \n",
    "    amex_metric, get_final_metric_df, amex_metric_np, lgb_amex_metric\n",
    ")\n",
    "from utils.eda_helpers import (\n",
    "    plot_missing_proportion_barchart, \n",
    "    get_cols\n",
    ")\n",
    "from utils.extraction_helpers import read_file\n",
    "from utils.feature_group import (\n",
    "    CATEGORY_COLUMNS, CONTINUOUS_COLUMNS, NON_FEATURE_COLUMNS\n",
    ")"
   ]
  },
  {
   "cell_type": "code",
   "execution_count": 4,
   "id": "67194602-57fc-4e92-9801-8d600e52a5b2",
   "metadata": {},
   "outputs": [],
   "source": [
    "%load_ext autoreload\n",
    "%autoreload"
   ]
  },
  {
   "cell_type": "markdown",
   "id": "3885beac-e245-43b6-a2cc-73e9f871d132",
   "metadata": {},
   "source": [
    "### Read Data"
   ]
  },
  {
   "cell_type": "code",
   "execution_count": 5,
   "id": "d6d46155-ea8e-4212-8c63-5b7ac8b08d3c",
   "metadata": {},
   "outputs": [
    {
     "name": "stdout",
     "output_type": "stream",
     "text": [
      "Shape of data: (458913, 4241)\n",
      "CPU times: user 14.6 s, sys: 16 s, total: 30.5 s\n",
      "Wall time: 17.3 s\n"
     ]
    }
   ],
   "source": [
    "%%time\n",
    "train_agg = read_file(f\"../{PROCESSED_DATA_PATH}/v5/final_train_agg.parquet\")"
   ]
  },
  {
   "cell_type": "code",
   "execution_count": 98,
   "id": "86dc2883-bd0c-4f89-b8af-e041802617a2",
   "metadata": {},
   "outputs": [
    {
     "name": "stdout",
     "output_type": "stream",
     "text": [
      "Shape of data: (924621, 4240)\n",
      "CPU times: user 27.6 s, sys: 34.6 s, total: 1min 2s\n",
      "Wall time: 1min 13s\n"
     ]
    }
   ],
   "source": [
    "%%time\n",
    "test_agg = read_file(f\"../{PROCESSED_DATA_PATH}/v5/final_test_agg.parquet\")"
   ]
  },
  {
   "cell_type": "code",
   "execution_count": 6,
   "id": "a9c7632d-3cf9-4ff9-9467-9ebe9d2daecd",
   "metadata": {},
   "outputs": [
    {
     "name": "stdout",
     "output_type": "stream",
     "text": [
      "Shape of data: (458913, 2)\n"
     ]
    }
   ],
   "source": [
    "labels = read_file(f\"../{RAW_DATA_PATH}/train_labels.csv\")\n",
    "target = labels[\"target\"].values"
   ]
  },
  {
   "cell_type": "code",
   "execution_count": 99,
   "id": "46942b4a-fd5a-4bd0-9dbd-7ceb4b99f5a3",
   "metadata": {},
   "outputs": [
    {
     "name": "stdout",
     "output_type": "stream",
     "text": [
      "CPU times: user 965 ms, sys: 6.65 s, total: 7.62 s\n",
      "Wall time: 24.2 s\n"
     ]
    },
    {
     "data": {
      "text/plain": [
       "18"
      ]
     },
     "execution_count": 99,
     "metadata": {},
     "output_type": "execute_result"
    }
   ],
   "source": [
    "%%time\n",
    "# train_agg = train_agg.drop(columns=NON_FEATURE_COLUMNS + [\"target\"], errors=\"ignore\")\n",
    "test_agg = test_agg.drop(columns=NON_FEATURE_COLUMNS, errors=\"ignore\")\n",
    "gc.collect()"
   ]
  },
  {
   "cell_type": "code",
   "execution_count": 8,
   "id": "ffe8f01a-341d-4cbe-8c46-8ae026830c00",
   "metadata": {},
   "outputs": [
    {
     "name": "stdout",
     "output_type": "stream",
     "text": [
      "['D_64_third_last', 'D_117_second_last', 'D_116_last', 'D_120_third_last', 'D_120_last', 'D_64_last', 'D_92_first', 'D_63_first', 'B_38_second_last', 'B_30_last', 'D_116_first', 'D_126_third_last', 'D_117_third_last', 'D_117_last', 'D_92_second_last', 'D_117_first', 'D_116_second_last', 'D_64_second_last', 'B_38_first', 'D_116_third_last', 'B_30_second_last', 'D_114_third_last', 'D_63_second_last', 'B_38_last', 'D_92_last', 'D_68_second_last', 'D_126_first', 'D_126_last', 'D_68_last', 'D_114_last', 'B_38_third_last', 'D_126_second_last', 'D_92_third_last', 'D_63_third_last', 'D_68_third_last', 'D_114_second_last', 'D_120_first', 'D_63_last', 'D_114_first', 'D_68_first', 'B_30_first', 'D_120_second_last', 'D_64_first', 'B_30_third_last']\n"
     ]
    }
   ],
   "source": [
    "cat_columns = get_cols(train_agg, CATEGORY_COLUMNS)\n",
    "cat_features = list(set(cat_columns).intersection(train_agg.columns))\n",
    "print(cat_features)"
   ]
  },
  {
   "cell_type": "code",
   "execution_count": 9,
   "id": "80925934-1a9e-4dda-b8dc-4557eb8c6d7f",
   "metadata": {},
   "outputs": [
    {
     "data": {
      "text/plain": [
       "((458913, 4240), (458913,))"
      ]
     },
     "execution_count": 9,
     "metadata": {},
     "output_type": "execute_result"
    }
   ],
   "source": [
    "train_agg.shape, target.shape"
   ]
  },
  {
   "cell_type": "code",
   "execution_count": 100,
   "id": "d9ff9e11-149d-4c37-90e2-42d4a83f8054",
   "metadata": {},
   "outputs": [
    {
     "data": {
      "text/plain": [
       "(924621, 4240)"
      ]
     },
     "execution_count": 100,
     "metadata": {},
     "output_type": "execute_result"
    }
   ],
   "source": [
    "test_agg.shape"
   ]
  },
  {
   "cell_type": "markdown",
   "id": "dd50d333-536c-4ca5-b9ed-4395c281d233",
   "metadata": {},
   "source": [
    "### Drop more-than-30%-missing columns"
   ]
  },
  {
   "cell_type": "code",
   "execution_count": 20,
   "id": "8b49da9a-4b77-4a77-9103-fe9621f5b242",
   "metadata": {},
   "outputs": [],
   "source": [
    "m = train_agg.isnull().sum()\n",
    "missing_cols = m[m > int(train_agg.shape[0] * 0.3)].index.tolist()"
   ]
  },
  {
   "cell_type": "code",
   "execution_count": 21,
   "id": "c7119d13-437d-4fc8-860b-f27f4b6b3e11",
   "metadata": {},
   "outputs": [
    {
     "data": {
      "text/plain": [
       "(458913, 2852)"
      ]
     },
     "execution_count": 21,
     "metadata": {},
     "output_type": "execute_result"
    }
   ],
   "source": [
    "train_agg = train_agg.drop(columns=missing_cols, errors=\"ignore\")\n",
    "train_agg.shape"
   ]
  },
  {
   "cell_type": "code",
   "execution_count": 101,
   "id": "f1eefa85-5af2-47e2-b3b1-20f4dfa9569b",
   "metadata": {},
   "outputs": [
    {
     "data": {
      "text/plain": [
       "(924621, 2852)"
      ]
     },
     "execution_count": 101,
     "metadata": {},
     "output_type": "execute_result"
    }
   ],
   "source": [
    "test_agg = test_agg.drop(columns=missing_cols, errors=\"ignore\")\n",
    "test_agg.shape"
   ]
  },
  {
   "cell_type": "markdown",
   "id": "fbbb591f-9e93-4316-a893-03487f92952d",
   "metadata": {},
   "source": [
    "### Clip all values to the range of -1000 to 1000"
   ]
  },
  {
   "cell_type": "code",
   "execution_count": 33,
   "id": "eea81cbb-fc3c-4bcf-a679-589043a0091b",
   "metadata": {},
   "outputs": [],
   "source": [
    "c = train_agg.max()"
   ]
  },
  {
   "cell_type": "code",
   "execution_count": 38,
   "id": "8552797e-52bf-42a0-b127-3ffa8447da07",
   "metadata": {},
   "outputs": [],
   "source": [
    "to_clip_max = c[c > 1e3].index.tolist()"
   ]
  },
  {
   "cell_type": "code",
   "execution_count": 39,
   "id": "4a66411f-fea5-445e-b184-76365fd09865",
   "metadata": {},
   "outputs": [],
   "source": [
    "d = train_agg.min()"
   ]
  },
  {
   "cell_type": "code",
   "execution_count": 40,
   "id": "13fec272-cfe9-4d9d-a9ce-299b0bca4b41",
   "metadata": {},
   "outputs": [],
   "source": [
    "to_clip_min = c[c < -1e3].index.tolist()"
   ]
  },
  {
   "cell_type": "code",
   "execution_count": 41,
   "id": "571f9491-bcca-4450-b999-64cda5ea8221",
   "metadata": {},
   "outputs": [
    {
     "data": {
      "text/plain": [
       "(247, 0)"
      ]
     },
     "execution_count": 41,
     "metadata": {},
     "output_type": "execute_result"
    }
   ],
   "source": [
    "len(to_clip_max), len(to_clip_min)"
   ]
  },
  {
   "cell_type": "code",
   "execution_count": 42,
   "id": "19d246ec-3605-4173-8965-f3250e9f23af",
   "metadata": {},
   "outputs": [
    {
     "name": "stderr",
     "output_type": "stream",
     "text": [
      "100%|████████████████████████████████████████████████████████████████████████████████████████████████████████████████████████████████████| 247/247 [08:30<00:00,  2.07s/it]\n"
     ]
    }
   ],
   "source": [
    "for col in tqdm(to_clip_max):\n",
    "    train_agg[col] = np.clip(train_agg[col], -1e3, 1e3)"
   ]
  },
  {
   "cell_type": "code",
   "execution_count": 102,
   "id": "b27a83a6-3915-4158-ba70-d3c2de477ad8",
   "metadata": {},
   "outputs": [
    {
     "name": "stderr",
     "output_type": "stream",
     "text": [
      "100%|████████████████████████████████████████████████████████████████████████████████████████████████████████████████████████████████████| 247/247 [24:34<00:00,  5.97s/it]\n"
     ]
    }
   ],
   "source": [
    "for col in tqdm(to_clip_max):\n",
    "    test_agg[col] = np.clip(test_agg[col], -1e3, 1e3)"
   ]
  },
  {
   "cell_type": "code",
   "execution_count": 107,
   "id": "0cb1cd01-849d-4d0b-9636-394ae16667b0",
   "metadata": {},
   "outputs": [],
   "source": [
    "e = test_agg.max()"
   ]
  },
  {
   "cell_type": "code",
   "execution_count": 110,
   "id": "23538ba8-6fca-49b7-8120-522d07972ce1",
   "metadata": {},
   "outputs": [],
   "source": [
    "to_clip_max_test = e[e > 1e3].index.tolist()"
   ]
  },
  {
   "cell_type": "code",
   "execution_count": 112,
   "id": "b8377549-9d7f-4f7c-a1a8-79d9e337d560",
   "metadata": {},
   "outputs": [
    {
     "name": "stderr",
     "output_type": "stream",
     "text": [
      "100%|██████████████████████████████████████████████████████████████████████████████████████████████████████████████████████████████████████| 24/24 [02:00<00:00,  5.04s/it]\n"
     ]
    }
   ],
   "source": [
    "for col in tqdm(to_clip_max_test):\n",
    "    test_agg[col] = np.clip(test_agg[col], -1e3, 1e3)"
   ]
  },
  {
   "cell_type": "markdown",
   "id": "d13ecd88-b190-4fff-9f73-793b16f64e8f",
   "metadata": {},
   "source": [
    "### Impute"
   ]
  },
  {
   "cell_type": "code",
   "execution_count": 103,
   "id": "cd0d148f-ec0f-4b80-b5cd-2f1b8ec115af",
   "metadata": {},
   "outputs": [
    {
     "data": {
      "image/png": "[encoded data removed]",
      "text/plain": [
       "<Figure size 1080x576 with 1 Axes>"
      ]
     },
     "metadata": {
      "needs_background": "light"
     },
     "output_type": "display_data"
    }
   ],
   "source": [
    "m = plot_missing_proportion_barchart(test_agg)"
   ]
  },
  {
   "cell_type": "code",
   "execution_count": 84,
   "id": "19b5690e-a26a-47db-9b38-85e4776f21ef",
   "metadata": {},
   "outputs": [
    {
     "name": "stderr",
     "output_type": "stream",
     "text": [
      "100%|██████████████████████████████████████████████████████████████████████████████████████████████████████████████████████████████████| 2118/2118 [33:54<00:00,  1.04it/s]\n"
     ]
    }
   ],
   "source": [
    "for col in tqdm(m[\"column\"].tolist()):\n",
    "    train_agg[col] = train_agg[col].fillna(train_agg[col].mean())"
   ]
  },
  {
   "cell_type": "code",
   "execution_count": 104,
   "id": "4434e8fc-fcc0-439d-a888-75dc43b5c42d",
   "metadata": {},
   "outputs": [
    {
     "name": "stderr",
     "output_type": "stream",
     "text": [
      "100%|████████████████████████████████████████████████████████████████████████████████████████████████████████████████████████████████| 2184/2184 [1:40:34<00:00,  2.76s/it]\n"
     ]
    }
   ],
   "source": [
    "for col in tqdm(m[\"column\"].tolist()):\n",
    "    test_agg[col] = test_agg[col].fillna(test_agg[col].mean())"
   ]
  },
  {
   "cell_type": "code",
   "execution_count": 85,
   "id": "cebdf259-8593-40fe-af24-5f1390e002aa",
   "metadata": {},
   "outputs": [],
   "source": [
    "# Save a copy out to prevent reproduce\n",
    "train_agg.to_parquet(\"./interim_train_agg_imputed.parquet\")"
   ]
  },
  {
   "cell_type": "code",
   "execution_count": 113,
   "id": "dd2fc6b7-45d2-4d80-9c9e-5bdc7d5e59e2",
   "metadata": {},
   "outputs": [],
   "source": [
    "# Save a copy out to prevent reproduce\n",
    "test_agg.to_parquet(\"./interim_test_agg_imputed.parquet\")"
   ]
  },
  {
   "cell_type": "code",
   "execution_count": 5,
   "id": "d4539885-acfa-4371-b592-b6cf6ccc0616",
   "metadata": {},
   "outputs": [
    {
     "name": "stdout",
     "output_type": "stream",
     "text": [
      "Shape of data: (924621, 2852)\n",
      "CPU times: user 11.8 s, sys: 21.9 s, total: 33.7 s\n",
      "Wall time: 24.8 s\n"
     ]
    }
   ],
   "source": [
    "%%time\n",
    "test_agg = read_file(\"./interim_test_agg_imputed.parquet\")"
   ]
  },
  {
   "cell_type": "markdown",
   "id": "0c80ace3-1749-485b-a430-3d0a048d855d",
   "metadata": {},
   "source": [
    "### Standardized"
   ]
  },
  {
   "cell_type": "code",
   "execution_count": 90,
   "id": "bfe51971-ece8-4077-9348-96dd3234a5fd",
   "metadata": {},
   "outputs": [],
   "source": [
    "sscaler = StandardScaler()"
   ]
  },
  {
   "cell_type": "code",
   "execution_count": 91,
   "id": "a751bac3-d91b-4f9d-850d-7d64d448c9cb",
   "metadata": {},
   "outputs": [],
   "source": [
    "train_agg_ = sscaler.fit_transform(train_agg)"
   ]
  },
  {
   "cell_type": "code",
   "execution_count": 92,
   "id": "3590d115-5e6e-439d-b0fd-97bbedc639ed",
   "metadata": {},
   "outputs": [
    {
     "data": {
      "text/plain": [
       "(458913, 2852)"
      ]
     },
     "execution_count": 92,
     "metadata": {},
     "output_type": "execute_result"
    }
   ],
   "source": [
    "train_agg_.shape"
   ]
  },
  {
   "cell_type": "code",
   "execution_count": 94,
   "id": "a2e3d6b8-3c80-494f-bc15-7e131d1d049a",
   "metadata": {},
   "outputs": [],
   "source": [
    "train_agg_df = pd.DataFrame(train_agg_, columns=train_agg.columns)"
   ]
  },
  {
   "cell_type": "code",
   "execution_count": 96,
   "id": "335da7fd-d7bf-4097-af0b-0fdb6da74a90",
   "metadata": {},
   "outputs": [],
   "source": [
    "train_agg_df.to_parquet(\"./interim_train_agg_imputed_standardized.parquet\")"
   ]
  },
  {
   "cell_type": "code",
   "execution_count": null,
   "id": "23484b88-eb47-45c0-abd7-bebdca658552",
   "metadata": {},
   "outputs": [],
   "source": [
    "del train_agg, train_agg_, train_agg_df"
   ]
  },
  {
   "cell_type": "code",
   "execution_count": 6,
   "id": "ead01dd3-0482-4d65-9a79-c7ab394d976d",
   "metadata": {},
   "outputs": [],
   "source": [
    "sscaler = StandardScaler()"
   ]
  },
  {
   "cell_type": "code",
   "execution_count": 7,
   "id": "4d97beba-0db4-4423-bbb2-fac40c1c2679",
   "metadata": {},
   "outputs": [],
   "source": [
    "test_agg_df = pd.DataFrame(sscaler.fit_transform(test_agg), columns=test_agg.columns) "
   ]
  },
  {
   "cell_type": "code",
   "execution_count": 8,
   "id": "879d5bed-f4a8-47b1-a905-2b531952f140",
   "metadata": {},
   "outputs": [],
   "source": [
    "test_agg_df.to_parquet(\"./interim_test_agg_imputed_standardized.parquet\")"
   ]
  },
  {
   "cell_type": "code",
   "execution_count": 20,
   "id": "ae6380b9-f2d2-4cc0-b3ee-6c3ed5780592",
   "metadata": {},
   "outputs": [],
   "source": [
    "del test_agg_df"
   ]
  },
  {
   "cell_type": "markdown",
   "id": "8cbd6677-ade9-4df4-9706-05e64b653e36",
   "metadata": {},
   "source": [
    "### Train Regression Model"
   ]
  },
  {
   "cell_type": "code",
   "execution_count": 9,
   "id": "8cb1d45e-a230-4b9d-bda8-5cc4f7665802",
   "metadata": {},
   "outputs": [],
   "source": [
    "from sklearn.linear_model import ElasticNet, RANSACRegressor"
   ]
  },
  {
   "cell_type": "code",
   "execution_count": 19,
   "id": "551e4925-d7d1-438a-ae0a-5508556c7e59",
   "metadata": {},
   "outputs": [
    {
     "name": "stdout",
     "output_type": "stream",
     "text": [
      "Shape of data: (458913, 2853)\n"
     ]
    }
   ],
   "source": [
    "%%time\n",
    "train_agg_df = read_file(\"./interim_train_agg_imputed_standardized.parquet\")"
   ]
  },
  {
   "cell_type": "code",
   "execution_count": null,
   "id": "573ee742-1791-4f7f-a9b7-c7c02e045998",
   "metadata": {},
   "outputs": [],
   "source": [
    "ransac = RANSACRegressor(\n",
    "    ElasticNet(),\n",
    "    max_trials=5, \t\t# Number of Iterations\n",
    "\tmin_samples=200, \t\t# Minimum size of the sample\n",
    "\tloss='absolute_loss', \t# Metrics for loss\n",
    "\tresidual_threshold=1 \t# Threshold\n",
    ")"
   ]
  },
  {
   "cell_type": "markdown",
   "id": "4a677d19-7c0e-4065-9989-9e4efe9707d5",
   "metadata": {},
   "source": [
    "#### Prepare ground truth (residual)"
   ]
  },
  {
   "cell_type": "code",
   "execution_count": 10,
   "id": "3a0ed09d-e3cf-4777-8af1-8fcc4734053f",
   "metadata": {},
   "outputs": [
    {
     "name": "stdout",
     "output_type": "stream",
     "text": [
      "Shape of data: (458913, 3)\n"
     ]
    }
   ],
   "source": [
    "residuals_df = read_file(f\"./residual.csv\")"
   ]
  },
  {
   "cell_type": "code",
   "execution_count": 11,
   "id": "7fcc47af-2f52-46e3-8205-22ea7559632b",
   "metadata": {},
   "outputs": [],
   "source": [
    "residuals_df[\"stacked_oof_raw_score\"] = residuals_df[\"stacked_oof_score\"].apply(reverse_sigmoid)"
   ]
  },
  {
   "cell_type": "code",
   "execution_count": 12,
   "id": "a75539f9-0759-43b1-acfa-f284032490e6",
   "metadata": {},
   "outputs": [
    {
     "data": {
      "text/html": [
       "<div>\n",
       "<style scoped>\n",
       "    .dataframe tbody tr th:only-of-type {\n",
       "        vertical-align: middle;\n",
       "    }\n",
       "\n",
       "    .dataframe tbody tr th {\n",
       "        vertical-align: top;\n",
       "    }\n",
       "\n",
       "    .dataframe thead th {\n",
       "        text-align: right;\n",
       "    }\n",
       "</style>\n",
       "<table border=\"1\" class=\"dataframe\">\n",
       "  <thead>\n",
       "    <tr style=\"text-align: right;\">\n",
       "      <th></th>\n",
       "      <th>target</th>\n",
       "      <th>stacked_oof_score</th>\n",
       "      <th>stacked_oof_raw_score</th>\n",
       "    </tr>\n",
       "  </thead>\n",
       "  <tbody>\n",
       "    <tr>\n",
       "      <th>count</th>\n",
       "      <td>458913.000000</td>\n",
       "      <td>458913.000000</td>\n",
       "      <td>458913.000000</td>\n",
       "    </tr>\n",
       "    <tr>\n",
       "      <th>mean</th>\n",
       "      <td>0.258934</td>\n",
       "      <td>0.258932</td>\n",
       "      <td>-2.891598</td>\n",
       "    </tr>\n",
       "    <tr>\n",
       "      <th>std</th>\n",
       "      <td>0.438050</td>\n",
       "      <td>0.355058</td>\n",
       "      <td>3.700827</td>\n",
       "    </tr>\n",
       "    <tr>\n",
       "      <th>min</th>\n",
       "      <td>0.000000</td>\n",
       "      <td>0.000040</td>\n",
       "      <td>-10.138762</td>\n",
       "    </tr>\n",
       "    <tr>\n",
       "      <th>25%</th>\n",
       "      <td>0.000000</td>\n",
       "      <td>0.002349</td>\n",
       "      <td>-6.051260</td>\n",
       "    </tr>\n",
       "    <tr>\n",
       "      <th>50%</th>\n",
       "      <td>0.000000</td>\n",
       "      <td>0.025026</td>\n",
       "      <td>-3.662511</td>\n",
       "    </tr>\n",
       "    <tr>\n",
       "      <th>75%</th>\n",
       "      <td>1.000000</td>\n",
       "      <td>0.524904</td>\n",
       "      <td>0.099697</td>\n",
       "    </tr>\n",
       "    <tr>\n",
       "      <th>max</th>\n",
       "      <td>1.000000</td>\n",
       "      <td>0.999952</td>\n",
       "      <td>9.946160</td>\n",
       "    </tr>\n",
       "  </tbody>\n",
       "</table>\n",
       "</div>"
      ],
      "text/plain": [
       "              target  stacked_oof_score  stacked_oof_raw_score\n",
       "count  458913.000000      458913.000000          458913.000000\n",
       "mean        0.258934           0.258932              -2.891598\n",
       "std         0.438050           0.355058               3.700827\n",
       "min         0.000000           0.000040             -10.138762\n",
       "25%         0.000000           0.002349              -6.051260\n",
       "50%         0.000000           0.025026              -3.662511\n",
       "75%         1.000000           0.524904               0.099697\n",
       "max         1.000000           0.999952               9.946160"
      ]
     },
     "execution_count": 12,
     "metadata": {},
     "output_type": "execute_result"
    }
   ],
   "source": [
    "residuals_df.describe()"
   ]
  },
  {
   "cell_type": "code",
   "execution_count": 13,
   "id": "bea8135e-4687-4a37-8def-9dbb90d91174",
   "metadata": {},
   "outputs": [],
   "source": [
    "zero = residuals_df.loc[residuals_df[\"target\"] == 0]\n",
    "residuals_df.loc[residuals_df[\"target\"] == 0, \"residuals\"] = zero[\"stacked_oof_raw_score\"].min() - zero[\"stacked_oof_raw_score\"]"
   ]
  },
  {
   "cell_type": "code",
   "execution_count": 14,
   "id": "169c6a5c-81b2-4d49-b72a-fb5351b0281c",
   "metadata": {},
   "outputs": [],
   "source": [
    "one = residuals_df.loc[residuals_df[\"target\"] == 1]\n",
    "residuals_df.loc[residuals_df[\"target\"] == 1, \"residuals\"] = one[\"stacked_oof_raw_score\"].max() - one[\"stacked_oof_raw_score\"]"
   ]
  },
  {
   "cell_type": "code",
   "execution_count": 15,
   "id": "3aac44e5-11b7-49e7-baea-59c8ec367acf",
   "metadata": {},
   "outputs": [],
   "source": [
    "target = residuals_df[\"residuals\"]"
   ]
  },
  {
   "cell_type": "code",
   "execution_count": 16,
   "id": "e67c6238-ece7-4bde-98a5-5cc9a4942f18",
   "metadata": {},
   "outputs": [
    {
     "data": {
      "text/plain": [
       "count    458913.000000\n",
       "mean         -2.046503\n",
       "std           6.507298\n",
       "min         -16.315276\n",
       "25%          -6.387726\n",
       "50%          -4.022097\n",
       "75%           3.774381\n",
       "max          18.352239\n",
       "Name: residuals, dtype: float64"
      ]
     },
     "execution_count": 16,
     "metadata": {},
     "output_type": "execute_result"
    }
   ],
   "source": [
    "target.describe()"
   ]
  },
  {
   "cell_type": "code",
   "execution_count": 26,
   "id": "0b0eb5cf-6947-49e1-a387-b58e147d260d",
   "metadata": {},
   "outputs": [],
   "source": [
    "kfold = KFold(n_splits=5, shuffle=True, random_state=8)"
   ]
  },
  {
   "cell_type": "code",
   "execution_count": 63,
   "id": "3eefe3d7-213c-4245-b920-05277fb0a10d",
   "metadata": {},
   "outputs": [
    {
     "name": "stdout",
     "output_type": "stream",
     "text": [
      "Fold 0, MSE: 5.669921952804548\n",
      "Fold 1, MSE: 5.685462328770041\n",
      "Fold 2, MSE: 5.687940022314872\n",
      "Fold 3, MSE: 5.705265138458218\n",
      "Fold 4, MSE: 5.696761861066573\n"
     ]
    }
   ],
   "source": [
    "models = []\n",
    "for fold, (trn_ind, val_ind) in enumerate(kfold.split(train_agg_df, target)):\n",
    "    x_train, x_val = train_agg_df.iloc[trn_ind], train_agg_df.iloc[val_ind]\n",
    "    y_train, y_val = target[trn_ind], target[val_ind]\n",
    "    binary_target = residuals_df.iloc[val_ind][\"target\"]\n",
    "    model = ElasticNet(alpha=0.5, l1_ratio=0.4, selection=\"random\")\n",
    "    model.fit(x_train, y_train)\n",
    "    y_val_pred = model.predict(x_val)\n",
    "    print(f\"Fold {fold},\", f\"MSE: {np.sqrt(mean_squared_error(y_val, y_val_pred))}\")\n",
    "    residuals_df.loc[val_ind, \"oof_score\"] = y_val_pred\n",
    "    models.append(model)"
   ]
  },
  {
   "cell_type": "code",
   "execution_count": 64,
   "id": "56a38b8d-524e-4f6b-aff5-03b6a13c8ecc",
   "metadata": {},
   "outputs": [
    {
     "name": "stdout",
     "output_type": "stream",
     "text": [
      "Fold 0, MSE: 5.631167207370982\n",
      "Fold 1, MSE: 5.649314114216058\n",
      "Fold 2, MSE: 5.6514652050092415\n",
      "Fold 3, MSE: 5.668793907720221\n",
      "Fold 4, MSE: 5.659582874508525\n"
     ]
    }
   ],
   "source": [
    "models2 = []\n",
    "for fold, (trn_ind, val_ind) in enumerate(kfold.split(train_agg_df, target)):\n",
    "    x_train, x_val = train_agg_df.iloc[trn_ind], train_agg_df.iloc[val_ind]\n",
    "    y_train, y_val = target[trn_ind], target[val_ind]\n",
    "    # binary_target = residuals_df.iloc[val_ind][\"target\"]\n",
    "    model = ElasticNet(alpha=0.4, l1_ratio=0.3, selection=\"random\")\n",
    "    model.fit(x_train, y_train)\n",
    "    y_val_pred = model.predict(x_val)\n",
    "    print(f\"Fold {fold},\", f\"MSE: {np.sqrt(mean_squared_error(y_val, y_val_pred))}\")\n",
    "    residuals_df.loc[val_ind, \"oof_score2\"] = y_val_pred\n",
    "    models2.append(model)"
   ]
  },
  {
   "cell_type": "code",
   "execution_count": 67,
   "id": "16032dbc-3907-4624-bec9-e05e8358ad21",
   "metadata": {},
   "outputs": [],
   "source": [
    "residuals_df.to_csv(f\"./experiment_result.csv\", index=False)"
   ]
  },
  {
   "cell_type": "code",
   "execution_count": 65,
   "id": "62f5343d-5744-48dd-9096-01ce04fd0596",
   "metadata": {},
   "outputs": [
    {
     "data": {
      "image/png": "[encoded data removed]",
      "text/plain": [
       "<Figure size 432x288 with 1 Axes>"
      ]
     },
     "metadata": {
      "needs_background": "light"
     },
     "output_type": "display_data"
    }
   ],
   "source": [
    "sns.scatterplot(residuals_df[\"oof_score\"], residuals_df[\"residuals\"], hue=residuals_df[\"target\"])\n",
    "plt.show()"
   ]
  },
  {
   "cell_type": "code",
   "execution_count": 24,
   "id": "479e2ff2-8fe2-41ab-ae2d-8f1a33376ae5",
   "metadata": {},
   "outputs": [
    {
     "name": "stdout",
     "output_type": "stream",
     "text": [
      " \n",
      "--------------------------------------------------\n",
      "Training fold 0 with 2273 features...\n",
      "--------------------------------------------------\n",
      "[LightGBM] [Info] Number of positive: 95062, number of negative: 272068\n",
      "[LightGBM] [Warning] Auto-choosing row-wise multi-threading, the overhead of testing was 0.267381 seconds.\n",
      "You can set `force_row_wise=true` to remove the overhead.\n",
      "And if memory is not enough, you can set `force_col_wise=true`.\n",
      "[LightGBM] [Info] Total Bins 484494\n",
      "[LightGBM] [Info] Number of data points in the train set: 367130, number of used features: 2273\n",
      "[LightGBM] [Info] [binary:BoostFromScore]: pavg=0.258933 -> initscore=-1.051523\n",
      "[LightGBM] [Info] Start training from score -1.051523\n",
      "[500]\ttraining's binary_logloss: 0.247401\ttraining's amex: 0.784738\tvalid_1's binary_logloss: 0.256278\tvalid_1's amex: 0.771125\n",
      "[1000]\ttraining's binary_logloss: 0.219938\ttraining's amex: 0.804609\tvalid_1's binary_logloss: 0.23433\tvalid_1's amex: 0.781003\n",
      "[1500]\ttraining's binary_logloss: 0.206257\ttraining's amex: 0.821338\tvalid_1's binary_logloss: 0.2271\tvalid_1's amex: 0.788323\n",
      "[2000]\ttraining's binary_logloss: 0.197562\ttraining's amex: 0.834904\tvalid_1's binary_logloss: 0.224394\tvalid_1's amex: 0.790633\n",
      "[2500]\ttraining's binary_logloss: 0.19065\ttraining's amex: 0.84611\tvalid_1's binary_logloss: 0.222973\tvalid_1's amex: 0.792557\n",
      "[3000]\ttraining's binary_logloss: 0.182275\ttraining's amex: 0.858093\tvalid_1's binary_logloss: 0.221635\tvalid_1's amex: 0.793646\n",
      "[3500]\ttraining's binary_logloss: 0.17534\ttraining's amex: 0.870011\tvalid_1's binary_logloss: 0.221009\tvalid_1's amex: 0.793593\n",
      "[4000]\ttraining's binary_logloss: 0.167572\ttraining's amex: 0.88342\tvalid_1's binary_logloss: 0.220419\tvalid_1's amex: 0.792518\n"
     ]
    },
    {
     "name": "stderr",
     "output_type": "stream",
     "text": [
      "Exception ignored in: <function Booster.__del__ at 0x14f9de170>\n",
      "Traceback (most recent call last):\n",
      "  File \"/Users/wklee/miniconda3/envs/amex/lib/python3.10/site-packages/lightgbm/basic.py\", line 2664, in __del__\n",
      "    _safe_call(_LIB.LGBM_BoosterFree(self.handle))\n",
      "KeyboardInterrupt: \n",
      "\n",
      "KeyboardInterrupt\n",
      "\n"
     ]
    }
   ],
   "source": [
    "for fold, (trn_ind, val_ind) in enumerate(kfold.split(train_agg, target)):\n",
    "    print(' ')\n",
    "    print('-'*50)\n",
    "    print(f'Training fold {fold} with {train_agg.shape[1]} features...')\n",
    "    print('-'*50)\n",
    "    x_train, x_val = train_agg.iloc[trn_ind], train_agg.iloc[val_ind]\n",
    "    y_train, y_val = target[trn_ind], target[val_ind]\n",
    "    lgb_train = lgb.Dataset(x_train, y_train, categorical_feature=cat_features)\n",
    "    lgb_valid = lgb.Dataset(x_val, y_val, categorical_feature=cat_features)\n",
    "    model = lgb.train(\n",
    "        params = params,\n",
    "        train_set = lgb_train,\n",
    "        num_boost_round = 6000,\n",
    "        valid_sets = [lgb_train, lgb_valid],\n",
    "        early_stopping_rounds = 300,\n",
    "        verbose_eval = 500,\n",
    "        feval = lgb_amex_metric\n",
    "    )\n",
    "    # Save best model\n",
    "    joblib.dump(model, f'./models/model_fold{fold}_seed{seed}.pkl')\n",
    "    # Predict validation\n",
    "    y_val_pred = model.predict(x_val, raw_score=True)\n",
    "    # # Add to out of folds array\n",
    "    # oof_predictions[val_ind] = val_pred\n",
    "    # Predict the test set\n",
    "    # test_pred = model.predict(test[features])\n",
    "    # test_predictions += test_pred / CFG.n_folds\n",
    "    # Compute fold metric\n",
    "    val_score, val_g, val_t4 = amex_metric(y_val, y_val_pred)                                      \n",
    "    print(f'Our fold {fold} CV score is {val_score}')\n",
    "    del x_train, x_val, y_train, y_val, lgb_train, lgb_valid\n",
    "    gc.collect()"
   ]
  },
  {
   "cell_type": "code",
   "execution_count": null,
   "id": "04680e2b-df75-44f4-a2f1-6c2c0f90f004",
   "metadata": {},
   "outputs": [],
   "source": []
  }
 ],
 "metadata": {
  "kernelspec": {
   "display_name": "amex",
   "language": "python",
   "name": "amex"
  },
  "language_info": {
   "codemirror_mode": {
    "name": "ipython",
    "version": 3
   },
   "file_extension": ".py",
   "mimetype": "text/x-python",
   "name": "python",
   "nbconvert_exporter": "python",
   "pygments_lexer": "ipython3",
   "version": "3.10.0"
  }
 },
 "nbformat": 4,
 "nbformat_minor": 5
}
