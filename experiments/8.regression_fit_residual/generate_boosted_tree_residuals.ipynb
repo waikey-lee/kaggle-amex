{
 "cells": [
  {
   "cell_type": "code",
   "execution_count": 3,
   "id": "5dd2ca34-3410-4078-aa48-7adbba211ed5",
   "metadata": {},
   "outputs": [],
   "source": [
    "import gc\n",
    "import joblib\n",
    "import matplotlib.pyplot as plt\n",
    "import pandas as pd\n",
    "import numpy as np\n",
    "import os\n",
    "import seaborn as sns\n",
    "import sys\n",
    "sys.path.append(\"../\")\n",
    "sys.path.append(\"../../\")\n",
    "import time\n",
    "import warnings\n",
    "warnings.simplefilter(\"ignore\")\n",
    "from lightgbm import LGBMClassifier\n",
    "from sklearn.ensemble import RandomForestClassifier\n",
    "from sklearn.linear_model import LogisticRegression\n",
    "from sklearn.preprocessing import MinMaxScaler\n",
    "from sklearn.model_selection import train_test_split, StratifiedKFold\n",
    "from sklearn.metrics import roc_auc_score, fbeta_score, make_scorer\n",
    "from tqdm import tqdm"
   ]
  },
  {
   "cell_type": "code",
   "execution_count": 4,
   "id": "88e773c8-793b-4771-85d2-80ad4e905510",
   "metadata": {},
   "outputs": [],
   "source": [
    "from utils.common import (\n",
    "    sigmoid, reverse_sigmoid,\n",
    "    pad_column_name\n",
    ")\n",
    "from utils.constants import *\n",
    "from utils.eval_helpers import (\n",
    "    plot_roc_curves, plot_feature_importance, \n",
    "    amex_metric, get_final_metric_df, amex_metric_np, lgb_amex_metric, \n",
    "    plot_score_distribution, train_logistic_regression\n",
    ")\n",
    "from utils.eda_helpers import (\n",
    "    plot_missing_proportion_barchart, \n",
    "    get_cols, plot_heatmap\n",
    ")\n",
    "from utils.extraction_helpers import read_file\n",
    "from utils.feature_group import (\n",
    "    CATEGORY_COLUMNS, CONTINUOUS_COLUMNS, NON_FEATURE_COLUMNS\n",
    ")"
   ]
  },
  {
   "cell_type": "code",
   "execution_count": 5,
   "id": "e4698b61-dcd2-43c3-b5e3-cd5a350b5e4a",
   "metadata": {},
   "outputs": [],
   "source": [
    "%load_ext autoreload\n",
    "%autoreload"
   ]
  },
  {
   "cell_type": "markdown",
   "id": "884ad3df-d4d2-4c01-9066-8f6e70514295",
   "metadata": {},
   "source": [
    "### Read Data"
   ]
  },
  {
   "cell_type": "code",
   "execution_count": 7,
   "id": "876fe9af-442c-4fe7-a961-5b9c14a69441",
   "metadata": {},
   "outputs": [
    {
     "name": "stdout",
     "output_type": "stream",
     "text": [
      "Shape of data: (458913, 2)\n"
     ]
    },
    {
     "data": {
      "text/html": [
       "<div>\n",
       "<style scoped>\n",
       "    .dataframe tbody tr th:only-of-type {\n",
       "        vertical-align: middle;\n",
       "    }\n",
       "\n",
       "    .dataframe tbody tr th {\n",
       "        vertical-align: top;\n",
       "    }\n",
       "\n",
       "    .dataframe thead th {\n",
       "        text-align: right;\n",
       "    }\n",
       "</style>\n",
       "<table border=\"1\" class=\"dataframe\">\n",
       "  <thead>\n",
       "    <tr style=\"text-align: right;\">\n",
       "      <th></th>\n",
       "      <th>customer_ID</th>\n",
       "      <th>target</th>\n",
       "    </tr>\n",
       "  </thead>\n",
       "  <tbody>\n",
       "    <tr>\n",
       "      <th>0</th>\n",
       "      <td>0000099d6bd597052cdcda90ffabf56573fe9d7c79be5f...</td>\n",
       "      <td>0</td>\n",
       "    </tr>\n",
       "    <tr>\n",
       "      <th>1</th>\n",
       "      <td>00000fd6641609c6ece5454664794f0340ad84dddce9a2...</td>\n",
       "      <td>0</td>\n",
       "    </tr>\n",
       "  </tbody>\n",
       "</table>\n",
       "</div>"
      ],
      "text/plain": [
       "                                         customer_ID  target\n",
       "0  0000099d6bd597052cdcda90ffabf56573fe9d7c79be5f...       0\n",
       "1  00000fd6641609c6ece5454664794f0340ad84dddce9a2...       0"
      ]
     },
     "execution_count": 7,
     "metadata": {},
     "output_type": "execute_result"
    }
   ],
   "source": [
    "labels = read_file(f\"../{RAW_DATA_PATH}/train_labels.csv\")\n",
    "target = labels[\"target\"]\n",
    "labels.head(2)"
   ]
  },
  {
   "cell_type": "code",
   "execution_count": 9,
   "id": "0a2d00f3-c1a3-4b90-99c3-79c77b41b677",
   "metadata": {},
   "outputs": [
    {
     "name": "stdout",
     "output_type": "stream",
     "text": [
      "Shape of data: (458913, 2)\n"
     ]
    },
    {
     "data": {
      "text/html": [
       "<div>\n",
       "<style scoped>\n",
       "    .dataframe tbody tr th:only-of-type {\n",
       "        vertical-align: middle;\n",
       "    }\n",
       "\n",
       "    .dataframe tbody tr th {\n",
       "        vertical-align: top;\n",
       "    }\n",
       "\n",
       "    .dataframe thead th {\n",
       "        text-align: right;\n",
       "    }\n",
       "</style>\n",
       "<table border=\"1\" class=\"dataframe\">\n",
       "  <thead>\n",
       "    <tr style=\"text-align: right;\">\n",
       "      <th></th>\n",
       "      <th>customer_ID</th>\n",
       "      <th>num_statements</th>\n",
       "    </tr>\n",
       "  </thead>\n",
       "  <tbody>\n",
       "    <tr>\n",
       "      <th>0</th>\n",
       "      <td>0000099d6bd597052cdcda90ffabf56573fe9d7c79be5f...</td>\n",
       "      <td>13</td>\n",
       "    </tr>\n",
       "    <tr>\n",
       "      <th>1</th>\n",
       "      <td>00000fd6641609c6ece5454664794f0340ad84dddce9a2...</td>\n",
       "      <td>13</td>\n",
       "    </tr>\n",
       "  </tbody>\n",
       "</table>\n",
       "</div>"
      ],
      "text/plain": [
       "                                         customer_ID  num_statements\n",
       "0  0000099d6bd597052cdcda90ffabf56573fe9d7c79be5f...              13\n",
       "1  00000fd6641609c6ece5454664794f0340ad84dddce9a2...              13"
      ]
     },
     "execution_count": 9,
     "metadata": {},
     "output_type": "execute_result"
    }
   ],
   "source": [
    "num_statements_df = read_file(f\"../{RAW_DATA_PATH}/train_num_statements.csv\")\n",
    "num_statements_df.head(2)"
   ]
  },
  {
   "cell_type": "code",
   "execution_count": 12,
   "id": "5488998d-253c-4018-a647-1ed2853a849f",
   "metadata": {},
   "outputs": [
    {
     "name": "stdout",
     "output_type": "stream",
     "text": [
      "Shape of data: (458913, 8)\n",
      "Shape of data: (458913, 8)\n",
      "Shape of data: (458913, 8)\n",
      "Shape of data: (458913, 8)\n"
     ]
    }
   ],
   "source": [
    "train_score1 = read_file(f\"../{EXP_PATH}/1.lgbm_dart_923/train_scores_df.csv\")\n",
    "train_score2 = read_file(f\"../{EXP_PATH}/2.lgbm_dart_1020/train_scores_df.csv\")\n",
    "# train_score3 = read_file(f\"../{EXP_PATH}/3.lgbm_dart_5197/train_scores_df.csv\")\n",
    "train_score4 = read_file(f\"../{EXP_PATH}/4.lgbm_dart_6666/train_scores_df.csv\")\n",
    "# train_score5 = read_file(f\"../{EXP_PATH}/5.lgbm_dart_923_half_fix/train_scores_df.csv\")\n",
    "train_score9 = read_file(f\"../{EXP_PATH}/9.lgbm_dart_1234/train_scores_df.csv\")"
   ]
  },
  {
   "cell_type": "code",
   "execution_count": 13,
   "id": "20ba465d-98df-4ff1-bde7-5ffbddccaccd",
   "metadata": {},
   "outputs": [],
   "source": [
    "t1 = train_score1[\"cv_score\"].values\n",
    "t2 = train_score2[\"cv_score\"].values\n",
    "# t3 = train_score3[\"cv_score\"].values\n",
    "t4 = train_score4[\"cv_score\"].values\n",
    "# t5 = train_score5[\"cv_score\"].values\n",
    "t9 = train_score9[\"oof_score\"].values"
   ]
  },
  {
   "cell_type": "markdown",
   "id": "8f7e31a5-1d53-4969-b302-b19bcf36e38b",
   "metadata": {},
   "source": [
    "### Train Logistic Regression"
   ]
  },
  {
   "cell_type": "code",
   "execution_count": 14,
   "id": "0db57b39-2d38-43c5-b881-0d2b37dcf85b",
   "metadata": {},
   "outputs": [],
   "source": [
    "X_train = pd.DataFrame(dict(\n",
    "    # statement_count=num_statements_df[\"num_statements\"], \n",
    "    oof1=t1,\n",
    "    oof2=t2,\n",
    "    # oof3=t3,\n",
    "    oof4=t4,\n",
    "    # oof5=t5,\n",
    "    oof9=t9,\n",
    "    # target=labels[\"target\"]\n",
    "))#.values"
   ]
  },
  {
   "cell_type": "code",
   "execution_count": 15,
   "id": "ccf9b088-933c-40b0-b510-eb5846f61794",
   "metadata": {},
   "outputs": [
    {
     "data": {
      "text/html": [
       "<div>\n",
       "<style scoped>\n",
       "    .dataframe tbody tr th:only-of-type {\n",
       "        vertical-align: middle;\n",
       "    }\n",
       "\n",
       "    .dataframe tbody tr th {\n",
       "        vertical-align: top;\n",
       "    }\n",
       "\n",
       "    .dataframe thead th {\n",
       "        text-align: right;\n",
       "    }\n",
       "</style>\n",
       "<table border=\"1\" class=\"dataframe\">\n",
       "  <thead>\n",
       "    <tr style=\"text-align: right;\">\n",
       "      <th></th>\n",
       "      <th>oof1</th>\n",
       "      <th>oof2</th>\n",
       "      <th>oof4</th>\n",
       "      <th>oof9</th>\n",
       "    </tr>\n",
       "  </thead>\n",
       "  <tbody>\n",
       "    <tr>\n",
       "      <th>count</th>\n",
       "      <td>458913.000000</td>\n",
       "      <td>458913.000000</td>\n",
       "      <td>458913.000000</td>\n",
       "      <td>458913.000000</td>\n",
       "    </tr>\n",
       "    <tr>\n",
       "      <th>mean</th>\n",
       "      <td>-2.670165</td>\n",
       "      <td>-2.601158</td>\n",
       "      <td>-2.707905</td>\n",
       "      <td>-2.644917</td>\n",
       "    </tr>\n",
       "    <tr>\n",
       "      <th>std</th>\n",
       "      <td>3.742455</td>\n",
       "      <td>3.642975</td>\n",
       "      <td>3.757464</td>\n",
       "      <td>3.693017</td>\n",
       "    </tr>\n",
       "    <tr>\n",
       "      <th>min</th>\n",
       "      <td>-9.951277</td>\n",
       "      <td>-9.597510</td>\n",
       "      <td>-10.496748</td>\n",
       "      <td>-9.594308</td>\n",
       "    </tr>\n",
       "    <tr>\n",
       "      <th>25%</th>\n",
       "      <td>-5.852811</td>\n",
       "      <td>-5.721689</td>\n",
       "      <td>-5.898782</td>\n",
       "      <td>-5.794857</td>\n",
       "    </tr>\n",
       "    <tr>\n",
       "      <th>50%</th>\n",
       "      <td>-3.441199</td>\n",
       "      <td>-3.347013</td>\n",
       "      <td>-3.490815</td>\n",
       "      <td>-3.405300</td>\n",
       "    </tr>\n",
       "    <tr>\n",
       "      <th>75%</th>\n",
       "      <td>0.343257</td>\n",
       "      <td>0.359714</td>\n",
       "      <td>0.313746</td>\n",
       "      <td>0.348891</td>\n",
       "    </tr>\n",
       "    <tr>\n",
       "      <th>max</th>\n",
       "      <td>9.244411</td>\n",
       "      <td>8.632654</td>\n",
       "      <td>9.233799</td>\n",
       "      <td>8.826942</td>\n",
       "    </tr>\n",
       "  </tbody>\n",
       "</table>\n",
       "</div>"
      ],
      "text/plain": [
       "                oof1           oof2           oof4           oof9\n",
       "count  458913.000000  458913.000000  458913.000000  458913.000000\n",
       "mean       -2.670165      -2.601158      -2.707905      -2.644917\n",
       "std         3.742455       3.642975       3.757464       3.693017\n",
       "min        -9.951277      -9.597510     -10.496748      -9.594308\n",
       "25%        -5.852811      -5.721689      -5.898782      -5.794857\n",
       "50%        -3.441199      -3.347013      -3.490815      -3.405300\n",
       "75%         0.343257       0.359714       0.313746       0.348891\n",
       "max         9.244411       8.632654       9.233799       8.826942"
      ]
     },
     "execution_count": 15,
     "metadata": {},
     "output_type": "execute_result"
    }
   ],
   "source": [
    "X_train.describe()"
   ]
  },
  {
   "cell_type": "code",
   "execution_count": 17,
   "id": "fc862836-a61b-4b7b-8d3b-01f83f6c0c56",
   "metadata": {},
   "outputs": [],
   "source": [
    "X_train[\"ratio19\"] = X_train[\"oof1\"] / X_train[\"oof9\"]"
   ]
  },
  {
   "cell_type": "code",
   "execution_count": 18,
   "id": "72b8dca0-c725-41af-b821-2b12b5e719a0",
   "metadata": {},
   "outputs": [
    {
     "name": "stdout",
     "output_type": "stream",
     "text": [
      "0.7999492909171364 0.7999755235995082\n"
     ]
    },
    {
     "data": {
      "image/png": "[encoded data removed]",
      "text/plain": [
       "<Figure size 432x288 with 1 Axes>"
      ]
     },
     "metadata": {
      "needs_background": "light"
     },
     "output_type": "display_data"
    }
   ],
   "source": [
    "metrics_df, clf_list, min_max_scaler, std_scaler = train_logistic_regression(X_train, labels[\"target\"])\n",
    "print(metrics_df[\"train_amex_metric\"].mean(), metrics_df[\"val_amex_metric\"].mean())\n",
    "metrics_df.plot.scatter(x=[\"train_amex_metric\"], y=[\"val_amex_metric\"])\n",
    "plt.show()"
   ]
  },
  {
   "cell_type": "code",
   "execution_count": 20,
   "id": "75490cc7-1df5-4154-ad6d-af79cb4cbc50",
   "metadata": {},
   "outputs": [],
   "source": [
    "preds = []\n",
    "for clf in clf_list:\n",
    "    preds.append(clf.predict_proba(X_train)[:, 1])\n",
    "final_score = np.mean(preds, axis=0)"
   ]
  },
  {
   "cell_type": "code",
   "execution_count": 21,
   "id": "621b6a83-7cf4-4147-9234-9a15aff5e14e",
   "metadata": {},
   "outputs": [],
   "source": [
    "labels[\"stacked_oof_score\"] = final_score"
   ]
  },
  {
   "cell_type": "code",
   "execution_count": 23,
   "id": "83599e8b-2ae1-4a4b-ac15-547749d1d1a1",
   "metadata": {},
   "outputs": [],
   "source": [
    "labels.to_csv(\"./residual.csv\", index=False)"
   ]
  },
  {
   "cell_type": "code",
   "execution_count": null,
   "id": "96aa06f2-6b38-4aa5-ae16-f4a277a3e5cb",
   "metadata": {},
   "outputs": [],
   "source": []
  },
  {
   "cell_type": "code",
   "execution_count": null,
   "id": "66f0c293-a397-4666-b3e9-6dbc9da95b50",
   "metadata": {},
   "outputs": [],
   "source": []
  },
  {
   "cell_type": "code",
   "execution_count": 23,
   "id": "279b1f64-79f7-468f-a29d-8151cbef3949",
   "metadata": {},
   "outputs": [],
   "source": [
    "X_train[\"sign\"] = X_train.iloc[:, :6].apply(lambda x: 1 if sum([i > 0 for i in x]) > 1 else -1, axis=1)"
   ]
  },
  {
   "cell_type": "code",
   "execution_count": 24,
   "id": "3268ce59-8d74-4e61-8dda-b6543dc8939d",
   "metadata": {},
   "outputs": [
    {
     "data": {
      "text/plain": [
       "-1    0.715992\n",
       " 1    0.284008\n",
       "Name: sign, dtype: float64"
      ]
     },
     "execution_count": 24,
     "metadata": {},
     "output_type": "execute_result"
    }
   ],
   "source": [
    "X_train[\"sign\"].value_counts(normalize=True)"
   ]
  },
  {
   "cell_type": "code",
   "execution_count": 25,
   "id": "ad4f3cbc-952c-433d-ab4d-5fc7ed498c90",
   "metadata": {},
   "outputs": [],
   "source": [
    "X_train[\"final\"] = X_train[\"sign\"] * X_train.iloc[:, :6].product(axis=1)"
   ]
  },
  {
   "cell_type": "code",
   "execution_count": 110,
   "id": "7dc0f073-7976-4e92-b20a-0ac234c0a231",
   "metadata": {},
   "outputs": [],
   "source": [
    "# X_train[\"final\"]"
   ]
  },
  {
   "cell_type": "code",
   "execution_count": 28,
   "id": "ce5caac2-071f-4398-b347-5069b23b71cf",
   "metadata": {},
   "outputs": [
    {
     "data": {
      "text/plain": [
       "(0.799512065101186, 0.9262365717144734, 0.6727875584878985)"
      ]
     },
     "execution_count": 28,
     "metadata": {},
     "output_type": "execute_result"
    }
   ],
   "source": [
    "amex_metric(labels[\"target\"].values, X_train[\"final\"].values)"
   ]
  },
  {
   "cell_type": "code",
   "execution_count": 274,
   "id": "6de841a5-a481-47d0-a489-7dfeb0dd274c",
   "metadata": {},
   "outputs": [],
   "source": [
    "X_train_ = X_train.drop(columns=[\"oof3\", \"oof5\"])\n"
   ]
  },
  {
   "cell_type": "code",
   "execution_count": 275,
   "id": "ce77f3be-b75e-40fb-be6c-a1c51ae9095d",
   "metadata": {},
   "outputs": [],
   "source": [
    "# X_train_[\"num\"] = num_statements_df[\"num_statements\"].values\n",
    "# X_train_[\"std\"] = X_train_.std(axis=1)\n",
    "# X_train_[\"mean\"] = X_train_.mean(axis=1)\n",
    "# X_train_[\"median\"] = X_train_.median(axis=1)"
   ]
  },
  {
   "cell_type": "code",
   "execution_count": 276,
   "id": "ed9a889a-4cd5-4fd6-b2cc-64b58237b5a8",
   "metadata": {},
   "outputs": [
    {
     "name": "stdout",
     "output_type": "stream",
     "text": [
      "0.7999492909171364 0.7999755235995082\n"
     ]
    },
    {
     "data": {
      "image/png": "[encoded data removed]",
      "text/plain": [
       "<Figure size 432x288 with 1 Axes>"
      ]
     },
     "metadata": {
      "needs_background": "light"
     },
     "output_type": "display_data"
    }
   ],
   "source": []
  },
  {
   "cell_type": "code",
   "execution_count": 254,
   "id": "a0ead145-e217-4ffd-ae40-f980a6704368",
   "metadata": {},
   "outputs": [
    {
     "name": "stdout",
     "output_type": "stream",
     "text": [
      "0.799961694224554 0.7999180569371129\n"
     ]
    },
    {
     "data": {
      "image/png": "[encoded data removed]",
      "text/plain": [
       "<Figure size 432x288 with 1 Axes>"
      ]
     },
     "metadata": {
      "needs_background": "light"
     },
     "output_type": "display_data"
    }
   ],
   "source": [
    "metrics_df, clf_list, min_max_scaler, std_scaler = train_logistic_regression(X_train_, labels[\"target\"])\n",
    "print(metrics_df[\"train_amex_metric\"].mean(), metrics_df[\"val_amex_metric\"].mean())\n",
    "metrics_df.plot.scatter(x=[\"train_amex_metric\"], y=[\"val_amex_metric\"])\n",
    "plt.show()"
   ]
  },
  {
   "cell_type": "code",
   "execution_count": 111,
   "id": "5220248a-0774-4cd3-b4ee-b6daf1cd509c",
   "metadata": {},
   "outputs": [],
   "source": [
    "metrics_df, clf_list, min_max_scaler, std_scaler = train_logistic_regression(X_train, labels[\"target\"])"
   ]
  },
  {
   "cell_type": "code",
   "execution_count": 121,
   "id": "296c8993-c3a7-42b0-9931-73b59b9e8d1d",
   "metadata": {},
   "outputs": [],
   "source": [
    "metrics_df, clf_list, min_max_scaler, std_scaler = train_logistic_regression(X_train, labels[\"target\"], min_max_scaled=True)"
   ]
  },
  {
   "cell_type": "code",
   "execution_count": 119,
   "id": "2685d3dd-28a3-4bff-820e-25be69b0ffc8",
   "metadata": {},
   "outputs": [],
   "source": [
    "metrics_df, clf_list, min_max_scaler, std_scaler = train_logistic_regression(X_train, labels[\"target\"], std_scaled=True)"
   ]
  },
  {
   "cell_type": "code",
   "execution_count": 123,
   "id": "70bdc3d2-abc7-4212-8ff7-691fa8702749",
   "metadata": {},
   "outputs": [],
   "source": [
    "X_train[\"num\"] = num_statements_df[\"num_statements\"].values\n",
    "X_train[\"max\"] = X_train.max(axis=1)\n",
    "X_train[\"min\"] = X_train.min(axis=1)\n",
    "X_train[\"median\"] = X_train.median(axis=1)\n",
    "X_train[\"mean\"] = X_train.mean(axis=1)\n",
    "X_train[\"skew\"] = X_train.skew(axis=1)\n",
    "X_train[\"std\"] = X_train.std(axis=1)"
   ]
  },
  {
   "cell_type": "code",
   "execution_count": 124,
   "id": "7447bc97-9b12-46ec-8760-39a54d801cf1",
   "metadata": {},
   "outputs": [],
   "source": [
    "X_train_drop_oof = X_train.drop(columns=get_cols(X_train, [\"oof\"]), errors=\"ignore\")"
   ]
  },
  {
   "cell_type": "code",
   "execution_count": 125,
   "id": "d131b2f6-2a8b-40ec-80fc-7ccecb483e6d",
   "metadata": {},
   "outputs": [],
   "source": [
    "metrics_df, clf_list, min_max_scaler, std_scaler = train_logistic_regression(X_train_drop_oof, labels[\"target\"])"
   ]
  },
  {
   "cell_type": "code",
   "execution_count": 127,
   "id": "d0d99a1b-2818-4402-984f-550685c95448",
   "metadata": {},
   "outputs": [],
   "source": [
    "metrics_df, clf_list, min_max_scaler, std_scaler = train_logistic_regression(X_train_drop_oof, labels[\"target\"], min_max_scaled=True)"
   ]
  },
  {
   "cell_type": "code",
   "execution_count": 129,
   "id": "5be69c6b-e235-4f75-91fc-d6fca810d642",
   "metadata": {},
   "outputs": [],
   "source": [
    "metrics_df, clf_list, min_max_scaler, std_scaler = train_logistic_regression(X_train_drop_oof, labels[\"target\"], std_scaled=True)"
   ]
  },
  {
   "cell_type": "code",
   "execution_count": 422,
   "id": "5e2e9ed4-fc60-4df2-9b73-e92b358b8e95",
   "metadata": {},
   "outputs": [],
   "source": [
    "# X_train_[\"median_larger\"] = (X_train_[\"median\"] > X_train_[\"mean\"]).astype(int)"
   ]
  },
  {
   "cell_type": "code",
   "execution_count": 423,
   "id": "186b6697-f2fa-4f9c-8df0-db43296a81cf",
   "metadata": {},
   "outputs": [],
   "source": [
    "X_train_[\"positive_skew\"] = (X_train_[\"skew\"] > 0).astype(int)"
   ]
  },
  {
   "cell_type": "code",
   "execution_count": 424,
   "id": "fbd38e77-7e77-4e7b-8a05-0b712077717a",
   "metadata": {},
   "outputs": [],
   "source": [
    "X_train_[\"high_std\"] = (X_train_[\"std\"] > 0.2).astype(int)"
   ]
  },
  {
   "cell_type": "code",
   "execution_count": 425,
   "id": "65cd6bd4-848d-4cbd-8dbc-3288e521c995",
   "metadata": {},
   "outputs": [],
   "source": [
    "X_train_[\"is_full_statements\"] = np.where(num_statements_df[\"num_statements\"] == 13, 1, 0)"
   ]
  },
  {
   "cell_type": "code",
   "execution_count": 426,
   "id": "5027c701-4261-4a33-b4fd-1d0abb356ca6",
   "metadata": {
    "tags": []
   },
   "outputs": [],
   "source": [
    "# X_train_.groupby(\"high_std\")[\"target\"].mean()"
   ]
  },
  {
   "cell_type": "code",
   "execution_count": 427,
   "id": "065092a8-5717-40de-ae50-740b6483057f",
   "metadata": {},
   "outputs": [],
   "source": [
    "# X_train_.groupby(\"median_larger\")[\"target\"].mean()"
   ]
  },
  {
   "cell_type": "code",
   "execution_count": 429,
   "id": "04c7b0cc-a650-48e8-9bb3-3c2ba139abbe",
   "metadata": {},
   "outputs": [],
   "source": [
    "y_train = target"
   ]
  },
  {
   "cell_type": "code",
   "execution_count": 431,
   "id": "6482ef56-a5c8-46ac-a6e8-4bd28d8976c3",
   "metadata": {},
   "outputs": [],
   "source": [
    "X_train_ = X_train_.drop(columns=[\"median\", \"skew\", \"std\"], errors='ignore')"
   ]
  },
  {
   "cell_type": "code",
   "execution_count": 433,
   "id": "1a9a16af-7fc3-4550-902e-2928fe7e52b9",
   "metadata": {},
   "outputs": [],
   "source": [
    "X_train_.drop(columns=get_cols(X_train_, \"oof\"), inplace=True)"
   ]
  },
  {
   "cell_type": "code",
   "execution_count": 435,
   "id": "d825ad04-7a0d-4247-9bb1-533e07e1ce4b",
   "metadata": {},
   "outputs": [
    {
     "data": {
      "image/png": "[encoded data removed]",
      "text/plain": [
       "<Figure size 1080x576 with 2 Axes>"
      ]
     },
     "metadata": {
      "needs_background": "light"
     },
     "output_type": "display_data"
    }
   ],
   "source": [
    "plot_heatmap(X_train_.corr(), annot=True, fmt=\".2f\")"
   ]
  },
  {
   "cell_type": "code",
   "execution_count": 436,
   "id": "13d8fbee-83f3-4f1b-a72d-c37cf1d0b5ea",
   "metadata": {},
   "outputs": [
    {
     "name": "stdout",
     "output_type": "stream",
     "text": [
      "1 0.8000615133263818 0.7974836564826935\n",
      "2 0.7999891714062497 0.7979710690443198\n",
      "3 0.7992819320851674 0.8006549485063224\n",
      "4 0.7992045783600361 0.8015070836906751\n",
      "5 0.7993032805950401 0.8009747880596201\n"
     ]
    }
   ],
   "source": [
    "final_oof_score, min_max_scaler, clf_list = train_logistic_regression(X_train_, y_train_)"
   ]
  },
  {
   "cell_type": "code",
   "execution_count": 437,
   "id": "74fd8846-49fb-446e-bafb-2737eff9d0bf",
   "metadata": {},
   "outputs": [
    {
     "data": {
      "text/plain": [
       "0.7997183091567261"
      ]
     },
     "execution_count": 437,
     "metadata": {},
     "output_type": "execute_result"
    }
   ],
   "source": [
    "final_oof_score"
   ]
  },
  {
   "cell_type": "code",
   "execution_count": 304,
   "id": "da4c660d-1b60-4b25-88ff-da64a439019a",
   "metadata": {},
   "outputs": [
    {
     "name": "stdout",
     "output_type": "stream",
     "text": [
      "1 0.800443744438765 0.7977839747573845\n",
      "2 0.8004454425449861 0.7980198655419419\n",
      "3 0.7996422732225261 0.8010617674997593\n",
      "4 0.799687983094375 0.8015466264779496\n",
      "5 0.7995645376966464 0.8015415139936592\n"
     ]
    }
   ],
   "source": [
    "final_oof_score, min_max_scaler = train_logistic_regression(X_train_, y_train_)"
   ]
  },
  {
   "cell_type": "code",
   "execution_count": 364,
   "id": "ae7a46cc-44c5-4b8a-859e-845d440b1dcb",
   "metadata": {},
   "outputs": [],
   "source": [
    "# final_oof_score"
   ]
  },
  {
   "cell_type": "code",
   "execution_count": 186,
   "id": "a9ec92b4-1e92-440e-9acb-89afcb1353e5",
   "metadata": {},
   "outputs": [],
   "source": [
    "y_pred = pd.Series(X_train_.iloc[:, 1:].mean(axis=1), name=\"prediction\")\n",
    "y_true = labels[[\"target\"]]"
   ]
  },
  {
   "cell_type": "code",
   "execution_count": 190,
   "id": "65931339-afc0-45cf-a359-2748648b7e46",
   "metadata": {},
   "outputs": [],
   "source": [
    "result = get_final_metric_df(X_train_, y_true, y_pred)\n",
    "# result"
   ]
  },
  {
   "cell_type": "code",
   "execution_count": 131,
   "id": "82e295f4-838e-429d-8fd4-170ecdf47ff9",
   "metadata": {},
   "outputs": [],
   "source": [
    "default_df = result.loc[result[\"target\"] == 1]\n",
    "non_default_df = result.loc[result[\"target\"] == 0]"
   ]
  },
  {
   "cell_type": "code",
   "execution_count": 132,
   "id": "48bce46c-7d94-412f-ad87-d575a0872df5",
   "metadata": {},
   "outputs": [],
   "source": [
    "result.loc[default_df.index, \"ground_truth\"] = 10 - default_df[\"prediction\"]\n",
    "result.loc[non_default_df.index, \"ground_truth\"] = -10 - non_default_df[\"prediction\"]"
   ]
  },
  {
   "cell_type": "code",
   "execution_count": 191,
   "id": "743e268b-5f5f-42a9-910a-8a9d30162efe",
   "metadata": {},
   "outputs": [],
   "source": [
    "# result.sort_index()[\"ground_truth\"].to_csv(f\"{RAW_DATA_PATH}/oof_residuals.csv\", index=False)"
   ]
  },
  {
   "cell_type": "code",
   "execution_count": 75,
   "id": "487c9d0e-e4bc-4fb6-85b7-1dd6bb4f126a",
   "metadata": {},
   "outputs": [],
   "source": [
    "y_train_ = train_score1[\"target\"]"
   ]
  },
  {
   "cell_type": "code",
   "execution_count": 77,
   "id": "4aeb8014-49c3-4888-8b73-56e7aabc9fcd",
   "metadata": {},
   "outputs": [],
   "source": [
    "X_tr, X_va, y_tr, y_va = train_test_split(X_train_, y_train_, test_size=0.2, random_state=1020, stratify=y_train_)"
   ]
  },
  {
   "cell_type": "code",
   "execution_count": 78,
   "id": "a4cc6a6a-4f96-4345-89f6-f508bc1fee29",
   "metadata": {},
   "outputs": [],
   "source": [
    "# RandomForestClassifier(\n",
    "#     random_state=1020,\n",
    "#     n_estimators=16,\n",
    "#     max_depth=3\n",
    "# )"
   ]
  },
  {
   "cell_type": "code",
   "execution_count": 259,
   "id": "db0503cb-1d4e-4b36-9326-82b95f428746",
   "metadata": {},
   "outputs": [
    {
     "data": {
      "text/plain": [
       "[LogisticRegression(class_weight=[0.8, 0.2], random_state=0),\n",
       " LogisticRegression(class_weight=[0.8, 0.2], random_state=0),\n",
       " LogisticRegression(class_weight=[0.8, 0.2], random_state=0),\n",
       " LogisticRegression(class_weight=[0.8, 0.2], random_state=0),\n",
       " LogisticRegression(class_weight=[0.8, 0.2], random_state=0)]"
      ]
     },
     "execution_count": 259,
     "metadata": {},
     "output_type": "execute_result"
    }
   ],
   "source": [
    "clf_list"
   ]
  },
  {
   "cell_type": "markdown",
   "id": "a4d063b7-6a36-4b65-9a08-c1b3a67d5bea",
   "metadata": {},
   "source": [
    "### Inference Logistic Regression"
   ]
  },
  {
   "cell_type": "code",
   "execution_count": 524,
   "id": "44f90440-5286-4c64-887d-bab242698607",
   "metadata": {},
   "outputs": [
    {
     "name": "stdout",
     "output_type": "stream",
     "text": [
      "Shape of data: (924621, 5)\n",
      "Shape of data: (924621, 5)\n",
      "Shape of data: (924621, 5)\n",
      "Shape of data: (924621, 5)\n",
      "Shape of data: (924621, 5)\n",
      "Shape of data: (924621, 5)\n"
     ]
    }
   ],
   "source": [
    "test_score1 = read_file(f\"{EXP_PATH}/1.lgbm_dart_923/scores_df.csv\")\n",
    "test_score2 = read_file(f\"{EXP_PATH}/2.lgbm_dart_1020/scores_df.csv\")\n",
    "test_score3 = read_file(f\"{EXP_PATH}/3.lgbm_dart_5197/scores_df.csv\")\n",
    "test_score4 = read_file(f\"{EXP_PATH}/4.lgbm_dart_6666/scores_df.csv\")\n",
    "test_score5 = read_file(f\"{EXP_PATH}/5.lgbm_dart_923_half_fix/scores_df.csv\")\n",
    "test_score9 = read_file(f\"{EXP_PATH}/9.lgbm_dart_1234/scores_df.csv\")"
   ]
  },
  {
   "cell_type": "code",
   "execution_count": 526,
   "id": "b00724ec-a63f-4e68-8c93-94896afbfeb3",
   "metadata": {},
   "outputs": [],
   "source": [
    "X_test = pd.DataFrame(dict(\n",
    "    oof1=test_score1.mean(axis=1),\n",
    "    oof2=test_score2.mean(axis=1),\n",
    "    oof3=test_score3.mean(axis=1),\n",
    "    oof4=test_score4.mean(axis=1),\n",
    "    oof5=test_score5.mean(axis=1),\n",
    "    oof9=test_score9.mean(axis=1),\n",
    "))"
   ]
  },
  {
   "cell_type": "code",
   "execution_count": 527,
   "id": "18ed0b25-178f-4ba8-b7d7-720f45b444c0",
   "metadata": {},
   "outputs": [
    {
     "data": {
      "text/html": [
       "<div>\n",
       "<style scoped>\n",
       "    .dataframe tbody tr th:only-of-type {\n",
       "        vertical-align: middle;\n",
       "    }\n",
       "\n",
       "    .dataframe tbody tr th {\n",
       "        vertical-align: top;\n",
       "    }\n",
       "\n",
       "    .dataframe thead th {\n",
       "        text-align: right;\n",
       "    }\n",
       "</style>\n",
       "<table border=\"1\" class=\"dataframe\">\n",
       "  <thead>\n",
       "    <tr style=\"text-align: right;\">\n",
       "      <th></th>\n",
       "      <th>oof1</th>\n",
       "      <th>oof2</th>\n",
       "      <th>oof3</th>\n",
       "      <th>oof4</th>\n",
       "      <th>oof5</th>\n",
       "      <th>oof9</th>\n",
       "    </tr>\n",
       "  </thead>\n",
       "  <tbody>\n",
       "    <tr>\n",
       "      <th>count</th>\n",
       "      <td>924621.000000</td>\n",
       "      <td>924621.000000</td>\n",
       "      <td>924621.000000</td>\n",
       "      <td>924621.000000</td>\n",
       "      <td>924621.000000</td>\n",
       "      <td>924621.000000</td>\n",
       "    </tr>\n",
       "    <tr>\n",
       "      <th>mean</th>\n",
       "      <td>-2.820171</td>\n",
       "      <td>-2.668789</td>\n",
       "      <td>-2.557505</td>\n",
       "      <td>-2.785014</td>\n",
       "      <td>-2.403696</td>\n",
       "      <td>-2.334553</td>\n",
       "    </tr>\n",
       "    <tr>\n",
       "      <th>std</th>\n",
       "      <td>3.666374</td>\n",
       "      <td>3.536575</td>\n",
       "      <td>3.390589</td>\n",
       "      <td>3.650078</td>\n",
       "      <td>3.388094</td>\n",
       "      <td>3.380484</td>\n",
       "    </tr>\n",
       "    <tr>\n",
       "      <th>min</th>\n",
       "      <td>-10.387791</td>\n",
       "      <td>-9.701672</td>\n",
       "      <td>-8.620816</td>\n",
       "      <td>-10.433451</td>\n",
       "      <td>-9.221664</td>\n",
       "      <td>-9.096469</td>\n",
       "    </tr>\n",
       "    <tr>\n",
       "      <th>25%</th>\n",
       "      <td>-5.918643</td>\n",
       "      <td>-5.673748</td>\n",
       "      <td>-5.479695</td>\n",
       "      <td>-5.861947</td>\n",
       "      <td>-5.283300</td>\n",
       "      <td>-5.205590</td>\n",
       "    </tr>\n",
       "    <tr>\n",
       "      <th>50%</th>\n",
       "      <td>-3.590192</td>\n",
       "      <td>-3.413813</td>\n",
       "      <td>-3.285391</td>\n",
       "      <td>-3.564410</td>\n",
       "      <td>-3.105985</td>\n",
       "      <td>-3.026107</td>\n",
       "    </tr>\n",
       "    <tr>\n",
       "      <th>75%</th>\n",
       "      <td>0.055471</td>\n",
       "      <td>0.122169</td>\n",
       "      <td>0.148526</td>\n",
       "      <td>0.071756</td>\n",
       "      <td>0.255458</td>\n",
       "      <td>0.291655</td>\n",
       "    </tr>\n",
       "    <tr>\n",
       "      <th>max</th>\n",
       "      <td>8.997256</td>\n",
       "      <td>8.311370</td>\n",
       "      <td>7.426380</td>\n",
       "      <td>9.085598</td>\n",
       "      <td>8.276772</td>\n",
       "      <td>8.601988</td>\n",
       "    </tr>\n",
       "  </tbody>\n",
       "</table>\n",
       "</div>"
      ],
      "text/plain": [
       "                oof1           oof2           oof3           oof4  \\\n",
       "count  924621.000000  924621.000000  924621.000000  924621.000000   \n",
       "mean       -2.820171      -2.668789      -2.557505      -2.785014   \n",
       "std         3.666374       3.536575       3.390589       3.650078   \n",
       "min       -10.387791      -9.701672      -8.620816     -10.433451   \n",
       "25%        -5.918643      -5.673748      -5.479695      -5.861947   \n",
       "50%        -3.590192      -3.413813      -3.285391      -3.564410   \n",
       "75%         0.055471       0.122169       0.148526       0.071756   \n",
       "max         8.997256       8.311370       7.426380       9.085598   \n",
       "\n",
       "                oof5           oof9  \n",
       "count  924621.000000  924621.000000  \n",
       "mean       -2.403696      -2.334553  \n",
       "std         3.388094       3.380484  \n",
       "min        -9.221664      -9.096469  \n",
       "25%        -5.283300      -5.205590  \n",
       "50%        -3.105985      -3.026107  \n",
       "75%         0.255458       0.291655  \n",
       "max         8.276772       8.601988  "
      ]
     },
     "execution_count": 527,
     "metadata": {},
     "output_type": "execute_result"
    }
   ],
   "source": [
    "X_test.describe()"
   ]
  },
  {
   "cell_type": "code",
   "execution_count": 532,
   "id": "5288fcc5-9bb5-49fd-966d-d691f951d815",
   "metadata": {},
   "outputs": [],
   "source": [
    "X_test[\"sign\"] = X_test.iloc[:, :6].apply(lambda x: 1 if sum([i > 0 for i in x]) > 0 else -1, axis=1)"
   ]
  },
  {
   "cell_type": "code",
   "execution_count": 533,
   "id": "c024e961-a9fe-4114-8932-bdc78a9d501f",
   "metadata": {},
   "outputs": [
    {
     "data": {
      "text/plain": [
       "-1    0.722114\n",
       " 1    0.277886\n",
       "Name: sign, dtype: float64"
      ]
     },
     "execution_count": 533,
     "metadata": {},
     "output_type": "execute_result"
    }
   ],
   "source": [
    "X_test[\"sign\"].value_counts(normalize=True)"
   ]
  },
  {
   "cell_type": "code",
   "execution_count": 534,
   "id": "cf45294a-416a-48c6-91b9-e9a858afef58",
   "metadata": {},
   "outputs": [],
   "source": [
    "X_test[\"final\"] = X_test[\"sign\"] * X_test.iloc[:, :6].product(axis=1)"
   ]
  },
  {
   "cell_type": "code",
   "execution_count": 535,
   "id": "5c665d51-2fc0-4b8b-9978-42d4482ec745",
   "metadata": {},
   "outputs": [
    {
     "data": {
      "text/plain": [
       "0          -2795.983483\n",
       "1        -118805.283677\n",
       "2          -1337.491168\n",
       "3             -1.177207\n",
       "4             74.055588\n",
       "              ...      \n",
       "924616     -3746.129943\n",
       "924617        80.116153\n",
       "924618         0.000007\n",
       "924619        -0.052188\n",
       "924620      -652.852610\n",
       "Name: final, Length: 924621, dtype: float64"
      ]
     },
     "execution_count": 535,
     "metadata": {},
     "output_type": "execute_result"
    }
   ],
   "source": [
    "X_test[\"final\"]"
   ]
  },
  {
   "cell_type": "code",
   "execution_count": 536,
   "id": "0ab30f63-0a89-492f-8ea9-fb48141ecad9",
   "metadata": {},
   "outputs": [],
   "source": [
    "sub = pd.read_csv(f\"{SUBMISSION_DATA_PATH}/empty.csv\")\n",
    "sub[\"prediction\"] = X_test[\"final\"].values\n",
    "sub.to_csv(f\"{SUBMISSION_DATA_PATH}/submission_21TH_blend_6_darts_product_sign.csv\", index=False)"
   ]
  },
  {
   "cell_type": "code",
   "execution_count": 271,
   "id": "8d5988dd-e701-42c8-a0fa-65d8e81cc6eb",
   "metadata": {},
   "outputs": [],
   "source": [
    "X_test_ = mscaler.fit_transform(X_test_)"
   ]
  },
  {
   "cell_type": "code",
   "execution_count": 272,
   "id": "2bd4f558-dc70-4590-a021-2b832c0c387a",
   "metadata": {},
   "outputs": [],
   "source": [
    "preds = []\n",
    "for clf in clf_list:\n",
    "    preds.append(clf.predict_proba(X_test_)[:, 1])\n",
    "final_score = np.mean(preds, axis=0)"
   ]
  },
  {
   "cell_type": "code",
   "execution_count": 295,
   "id": "2a09d8c2-b3eb-430d-bcb1-8d2e69c817c8",
   "metadata": {},
   "outputs": [],
   "source": [
    "sub = pd.read_csv(f\"{SUBMISSION_DATA_PATH}/empty.csv\")\n",
    "sub[\"prediction\"] = test_score9.mean(axis=1)\n",
    "sub.to_csv(f\"{SUBMISSION_DATA_PATH}/submission_20TH_vanilla_experiment9_seed_1234_average.csv\", index=False)"
   ]
  },
  {
   "cell_type": "code",
   "execution_count": 288,
   "id": "535fa861-4eba-46c0-a4da-081c5e701ca3",
   "metadata": {},
   "outputs": [
    {
     "data": {
      "image/png": "[encoded data removed]",
      "text/plain": [
       "<Figure size 864x864 with 1 Axes>"
      ]
     },
     "metadata": {
      "needs_background": "light"
     },
     "output_type": "display_data"
    }
   ],
   "source": [
    "fig, ax = plt.subplots(figsize=(12, 12))\n",
    "sns.scatterplot(x=train_score9[\"score3\"], y=train_score9[\"score2\"], hue=train_score9[\"target\"])\n",
    "plt.plot(np.arange(-10, 10, 0.01), np.arange(-10, 10, 0.01), color=\"orange\", linestyle=\"-\")\n",
    "plt.show()"
   ]
  },
  {
   "cell_type": "code",
   "execution_count": 291,
   "id": "6fc14e47-e964-414c-90b8-a411635aba44",
   "metadata": {},
   "outputs": [
    {
     "data": {
      "image/png": "[encoded data removed]",
      "text/plain": [
       "<Figure size 864x864 with 1 Axes>"
      ]
     },
     "metadata": {
      "needs_background": "light"
     },
     "output_type": "display_data"
    }
   ],
   "source": [
    "fig, ax = plt.subplots(figsize=(12, 12))\n",
    "plt.scatter(test_score9[\"score3\"], test_score9[\"score4\"])\n",
    "plt.show()"
   ]
  },
  {
   "cell_type": "code",
   "execution_count": 320,
   "id": "7d34d432-174f-4b3a-bc5d-eae79fa2c855",
   "metadata": {},
   "outputs": [
    {
     "data": {
      "text/plain": [
       "array([[-8.02558655, -7.53088904, -7.79839396, -7.60327302],\n",
       "       [-6.99587721, -7.35056828, -6.93377296, -6.69328752],\n",
       "       [-7.18439325, -7.41133143, -7.42501141, -6.87409778],\n",
       "       ...,\n",
       "       [-6.70857283, -6.57018898, -6.23910077, -6.91964404],\n",
       "       [-1.92453839, -1.77250317, -2.02940995, -1.83362764],\n",
       "       [-6.05023009, -5.61319556, -5.86492798, -6.06270989]])"
      ]
     },
     "execution_count": 320,
     "metadata": {},
     "output_type": "execute_result"
    }
   ],
   "source": [
    "X_train_"
   ]
  },
  {
   "cell_type": "code",
   "execution_count": 313,
   "id": "6c040647-e988-4477-a65b-66acb707e0c6",
   "metadata": {},
   "outputs": [],
   "source": []
  },
  {
   "cell_type": "code",
   "execution_count": 309,
   "id": "80d568d8-4ec7-4428-860d-605f0ba0d421",
   "metadata": {},
   "outputs": [
    {
     "name": "stdout",
     "output_type": "stream",
     "text": [
      "1 0.9177395453552648 0.9147245439781231\n",
      "2 0.9176590112157511 0.9154084195918446\n",
      "3 0.9168789304266861 0.9178542129526484\n",
      "4 0.9170827886312676 0.917669110876592\n",
      "5 0.9162863591277919 0.919863841202062\n"
     ]
    },
    {
     "data": {
      "text/plain": [
       "(0.917104025720254, MinMaxScaler())"
      ]
     },
     "execution_count": 309,
     "metadata": {},
     "output_type": "execute_result"
    }
   ],
   "source": [
    "train_logistic_regression(train_score9.iloc[:, 1:6], train_score9[\"target\"])"
   ]
  },
  {
   "cell_type": "code",
   "execution_count": 276,
   "id": "000c9a21-6623-486c-bf4a-5c42145caef5",
   "metadata": {},
   "outputs": [
    {
     "data": {
      "text/html": [
       "<div>\n",
       "<style scoped>\n",
       "    .dataframe tbody tr th:only-of-type {\n",
       "        vertical-align: middle;\n",
       "    }\n",
       "\n",
       "    .dataframe tbody tr th {\n",
       "        vertical-align: top;\n",
       "    }\n",
       "\n",
       "    .dataframe thead th {\n",
       "        text-align: right;\n",
       "    }\n",
       "</style>\n",
       "<table border=\"1\" class=\"dataframe\">\n",
       "  <thead>\n",
       "    <tr style=\"text-align: right;\">\n",
       "      <th></th>\n",
       "      <th>score1</th>\n",
       "      <th>score2</th>\n",
       "      <th>score3</th>\n",
       "      <th>score4</th>\n",
       "      <th>score5</th>\n",
       "    </tr>\n",
       "  </thead>\n",
       "  <tbody>\n",
       "    <tr>\n",
       "      <th>0</th>\n",
       "      <td>-3.821564</td>\n",
       "      <td>-3.461997</td>\n",
       "      <td>-3.348870</td>\n",
       "      <td>-3.586271</td>\n",
       "      <td>-3.312073</td>\n",
       "    </tr>\n",
       "    <tr>\n",
       "      <th>1</th>\n",
       "      <td>-6.860182</td>\n",
       "      <td>-6.537879</td>\n",
       "      <td>-6.262872</td>\n",
       "      <td>-6.682696</td>\n",
       "      <td>-6.887376</td>\n",
       "    </tr>\n",
       "    <tr>\n",
       "      <th>2</th>\n",
       "      <td>-3.013238</td>\n",
       "      <td>-3.461611</td>\n",
       "      <td>-3.004113</td>\n",
       "      <td>-3.050773</td>\n",
       "      <td>-3.447362</td>\n",
       "    </tr>\n",
       "    <tr>\n",
       "      <th>3</th>\n",
       "      <td>-0.770930</td>\n",
       "      <td>-0.884658</td>\n",
       "      <td>-0.407027</td>\n",
       "      <td>-0.646863</td>\n",
       "      <td>-0.650042</td>\n",
       "    </tr>\n",
       "    <tr>\n",
       "      <th>4</th>\n",
       "      <td>2.198048</td>\n",
       "      <td>2.433070</td>\n",
       "      <td>2.088249</td>\n",
       "      <td>2.327092</td>\n",
       "      <td>2.377117</td>\n",
       "    </tr>\n",
       "    <tr>\n",
       "      <th>...</th>\n",
       "      <td>...</td>\n",
       "      <td>...</td>\n",
       "      <td>...</td>\n",
       "      <td>...</td>\n",
       "      <td>...</td>\n",
       "    </tr>\n",
       "    <tr>\n",
       "      <th>924616</th>\n",
       "      <td>-3.365608</td>\n",
       "      <td>-3.708212</td>\n",
       "      <td>-3.481497</td>\n",
       "      <td>-3.755893</td>\n",
       "      <td>-3.605609</td>\n",
       "    </tr>\n",
       "    <tr>\n",
       "      <th>924617</th>\n",
       "      <td>2.205423</td>\n",
       "      <td>1.850653</td>\n",
       "      <td>2.136378</td>\n",
       "      <td>2.145076</td>\n",
       "      <td>1.963180</td>\n",
       "    </tr>\n",
       "    <tr>\n",
       "      <th>924618</th>\n",
       "      <td>-0.259439</td>\n",
       "      <td>0.104114</td>\n",
       "      <td>-0.125630</td>\n",
       "      <td>-0.281783</td>\n",
       "      <td>0.016716</td>\n",
       "    </tr>\n",
       "    <tr>\n",
       "      <th>924619</th>\n",
       "      <td>-0.713172</td>\n",
       "      <td>-0.414007</td>\n",
       "      <td>-0.342954</td>\n",
       "      <td>-0.312344</td>\n",
       "      <td>-0.337855</td>\n",
       "    </tr>\n",
       "    <tr>\n",
       "      <th>924620</th>\n",
       "      <td>-2.632600</td>\n",
       "      <td>-2.313003</td>\n",
       "      <td>-2.551264</td>\n",
       "      <td>-2.668158</td>\n",
       "      <td>-2.712515</td>\n",
       "    </tr>\n",
       "  </tbody>\n",
       "</table>\n",
       "<p>924621 rows × 5 columns</p>\n",
       "</div>"
      ],
      "text/plain": [
       "          score1    score2    score3    score4    score5\n",
       "0      -3.821564 -3.461997 -3.348870 -3.586271 -3.312073\n",
       "1      -6.860182 -6.537879 -6.262872 -6.682696 -6.887376\n",
       "2      -3.013238 -3.461611 -3.004113 -3.050773 -3.447362\n",
       "3      -0.770930 -0.884658 -0.407027 -0.646863 -0.650042\n",
       "4       2.198048  2.433070  2.088249  2.327092  2.377117\n",
       "...          ...       ...       ...       ...       ...\n",
       "924616 -3.365608 -3.708212 -3.481497 -3.755893 -3.605609\n",
       "924617  2.205423  1.850653  2.136378  2.145076  1.963180\n",
       "924618 -0.259439  0.104114 -0.125630 -0.281783  0.016716\n",
       "924619 -0.713172 -0.414007 -0.342954 -0.312344 -0.337855\n",
       "924620 -2.632600 -2.313003 -2.551264 -2.668158 -2.712515\n",
       "\n",
       "[924621 rows x 5 columns]"
      ]
     },
     "execution_count": 276,
     "metadata": {},
     "output_type": "execute_result"
    }
   ],
   "source": [
    "test_score9[[\"score1\","
   ]
  },
  {
   "cell_type": "code",
   "execution_count": 297,
   "id": "df7ed500-e236-4a7c-aeda-8c6bdc7a7bd0",
   "metadata": {},
   "outputs": [
    {
     "data": {
      "text/html": [
       "<div>\n",
       "<style scoped>\n",
       "    .dataframe tbody tr th:only-of-type {\n",
       "        vertical-align: middle;\n",
       "    }\n",
       "\n",
       "    .dataframe tbody tr th {\n",
       "        vertical-align: top;\n",
       "    }\n",
       "\n",
       "    .dataframe thead th {\n",
       "        text-align: right;\n",
       "    }\n",
       "</style>\n",
       "<table border=\"1\" class=\"dataframe\">\n",
       "  <thead>\n",
       "    <tr style=\"text-align: right;\">\n",
       "      <th></th>\n",
       "      <th>score1</th>\n",
       "      <th>score2</th>\n",
       "      <th>score3</th>\n",
       "      <th>score4</th>\n",
       "      <th>score5</th>\n",
       "    </tr>\n",
       "  </thead>\n",
       "  <tbody>\n",
       "    <tr>\n",
       "      <th>0</th>\n",
       "      <td>-3.821564</td>\n",
       "      <td>-3.461997</td>\n",
       "      <td>-3.348870</td>\n",
       "      <td>-3.586271</td>\n",
       "      <td>-3.312073</td>\n",
       "    </tr>\n",
       "    <tr>\n",
       "      <th>1</th>\n",
       "      <td>-6.860182</td>\n",
       "      <td>-6.537879</td>\n",
       "      <td>-6.262872</td>\n",
       "      <td>-6.682696</td>\n",
       "      <td>-6.887376</td>\n",
       "    </tr>\n",
       "    <tr>\n",
       "      <th>2</th>\n",
       "      <td>-3.013238</td>\n",
       "      <td>-3.461611</td>\n",
       "      <td>-3.004113</td>\n",
       "      <td>-3.050773</td>\n",
       "      <td>-3.447362</td>\n",
       "    </tr>\n",
       "    <tr>\n",
       "      <th>3</th>\n",
       "      <td>-0.770930</td>\n",
       "      <td>-0.884658</td>\n",
       "      <td>-0.407027</td>\n",
       "      <td>-0.646863</td>\n",
       "      <td>-0.650042</td>\n",
       "    </tr>\n",
       "    <tr>\n",
       "      <th>4</th>\n",
       "      <td>2.198048</td>\n",
       "      <td>2.433070</td>\n",
       "      <td>2.088249</td>\n",
       "      <td>2.327092</td>\n",
       "      <td>2.377117</td>\n",
       "    </tr>\n",
       "    <tr>\n",
       "      <th>...</th>\n",
       "      <td>...</td>\n",
       "      <td>...</td>\n",
       "      <td>...</td>\n",
       "      <td>...</td>\n",
       "      <td>...</td>\n",
       "    </tr>\n",
       "    <tr>\n",
       "      <th>924616</th>\n",
       "      <td>-3.365608</td>\n",
       "      <td>-3.708212</td>\n",
       "      <td>-3.481497</td>\n",
       "      <td>-3.755893</td>\n",
       "      <td>-3.605609</td>\n",
       "    </tr>\n",
       "    <tr>\n",
       "      <th>924617</th>\n",
       "      <td>2.205423</td>\n",
       "      <td>1.850653</td>\n",
       "      <td>2.136378</td>\n",
       "      <td>2.145076</td>\n",
       "      <td>1.963180</td>\n",
       "    </tr>\n",
       "    <tr>\n",
       "      <th>924618</th>\n",
       "      <td>-0.259439</td>\n",
       "      <td>0.104114</td>\n",
       "      <td>-0.125630</td>\n",
       "      <td>-0.281783</td>\n",
       "      <td>0.016716</td>\n",
       "    </tr>\n",
       "    <tr>\n",
       "      <th>924619</th>\n",
       "      <td>-0.713172</td>\n",
       "      <td>-0.414007</td>\n",
       "      <td>-0.342954</td>\n",
       "      <td>-0.312344</td>\n",
       "      <td>-0.337855</td>\n",
       "    </tr>\n",
       "    <tr>\n",
       "      <th>924620</th>\n",
       "      <td>-2.632600</td>\n",
       "      <td>-2.313003</td>\n",
       "      <td>-2.551264</td>\n",
       "      <td>-2.668158</td>\n",
       "      <td>-2.712515</td>\n",
       "    </tr>\n",
       "  </tbody>\n",
       "</table>\n",
       "<p>924621 rows × 5 columns</p>\n",
       "</div>"
      ],
      "text/plain": [
       "          score1    score2    score3    score4    score5\n",
       "0      -3.821564 -3.461997 -3.348870 -3.586271 -3.312073\n",
       "1      -6.860182 -6.537879 -6.262872 -6.682696 -6.887376\n",
       "2      -3.013238 -3.461611 -3.004113 -3.050773 -3.447362\n",
       "3      -0.770930 -0.884658 -0.407027 -0.646863 -0.650042\n",
       "4       2.198048  2.433070  2.088249  2.327092  2.377117\n",
       "...          ...       ...       ...       ...       ...\n",
       "924616 -3.365608 -3.708212 -3.481497 -3.755893 -3.605609\n",
       "924617  2.205423  1.850653  2.136378  2.145076  1.963180\n",
       "924618 -0.259439  0.104114 -0.125630 -0.281783  0.016716\n",
       "924619 -0.713172 -0.414007 -0.342954 -0.312344 -0.337855\n",
       "924620 -2.632600 -2.313003 -2.551264 -2.668158 -2.712515\n",
       "\n",
       "[924621 rows x 5 columns]"
      ]
     },
     "execution_count": 297,
     "metadata": {},
     "output_type": "execute_result"
    }
   ],
   "source": [
    "test_score9"
   ]
  },
  {
   "cell_type": "code",
   "execution_count": null,
   "id": "986d9d72-8f1f-4e37-ab19-736cd727f752",
   "metadata": {},
   "outputs": [],
   "source": []
  },
  {
   "cell_type": "code",
   "execution_count": null,
   "id": "acdd9e6b-2ef4-42b5-8c34-9864176a9036",
   "metadata": {},
   "outputs": [],
   "source": []
  },
  {
   "cell_type": "markdown",
   "id": "b5ffcaa5-b0be-409a-8082-6b270e3f3982",
   "metadata": {},
   "source": [
    "### BLEND TEST"
   ]
  },
  {
   "cell_type": "code",
   "execution_count": 9,
   "id": "e9ae9205-34c9-4048-a724-85d92b94a113",
   "metadata": {},
   "outputs": [
    {
     "name": "stdout",
     "output_type": "stream",
     "text": [
      "Shape of data: (924621, 5)\n",
      "Shape of data: (924621, 5)\n",
      "Shape of data: (924621, 5)\n",
      "Shape of data: (924621, 5)\n",
      "Shape of data: (924621, 5)\n"
     ]
    }
   ],
   "source": []
  },
  {
   "cell_type": "code",
   "execution_count": 20,
   "id": "87546591-7154-4070-a170-bbf2925422eb",
   "metadata": {},
   "outputs": [
    {
     "name": "stdout",
     "output_type": "stream",
     "text": [
      "Shape of data: (924621, 2)\n"
     ]
    }
   ],
   "source": [
    "s = read_file(f\"{SUBMISSION_DATA_PATH}/submission3_lgbm_dart_full_fix_1020.csv\")[\"prediction\"]"
   ]
  },
  {
   "cell_type": "code",
   "execution_count": 26,
   "id": "2671e4f5-5f24-463a-b2f0-18c90460dc62",
   "metadata": {},
   "outputs": [],
   "source": [
    "s2 = test_score2.mean(axis=1)"
   ]
  },
  {
   "cell_type": "code",
   "execution_count": 64,
   "id": "6c7dd4b7-6352-4ef7-afed-8fb1d2eb4009",
   "metadata": {},
   "outputs": [],
   "source": [
    "m = MinMaxScaler()"
   ]
  },
  {
   "cell_type": "code",
   "execution_count": 33,
   "id": "f60132cc-8692-493e-bacd-4113a3a87c55",
   "metadata": {},
   "outputs": [],
   "source": [
    "test_score2_ = m.fit_transform(test_score2)"
   ]
  },
  {
   "cell_type": "code",
   "execution_count": 35,
   "id": "4a8f200a-fd8f-4d2f-b51f-8d428bc3285d",
   "metadata": {},
   "outputs": [
    {
     "data": {
      "text/plain": [
       "array([0.32552628, 0.14096738, 0.35586654, ..., 0.52899043, 0.49217374,\n",
       "       0.36775012])"
      ]
     },
     "execution_count": 35,
     "metadata": {},
     "output_type": "execute_result"
    }
   ],
   "source": [
    "np.mean(test_score2_, axis=1)"
   ]
  },
  {
   "cell_type": "code",
   "execution_count": 36,
   "id": "0be3c684-978b-42e5-aac8-96bb3b3fbd3c",
   "metadata": {},
   "outputs": [],
   "source": [
    "sub = pd.read_csv(f\"{SUBMISSION_DATA_PATH}/empty.csv\")\n",
    "sub[\"prediction\"] = np.mean(test_score2_, axis=1)\n",
    "sub.to_csv(f\"{SUBMISSION_DATA_PATH}/submission_9TH_seed_1020_average_fold_after_minmaxscaler.csv\", index=False)"
   ]
  },
  {
   "cell_type": "code",
   "execution_count": 67,
   "id": "048c8c9e-85f2-4096-a921-197dde3e0784",
   "metadata": {},
   "outputs": [],
   "source": [
    "sub = pd.read_csv(f\"{SUBMISSION_DATA_PATH}/empty.csv\")\n",
    "sub[\"prediction\"] = (\n",
    "    (0.4 * m.fit_transform(test_score1).mean(axis=1)) + \n",
    "    (0.1 * m.fit_transform(test_score2).mean(axis=1)) + \n",
    "    (0.2 * m.fit_transform(test_score3).mean(axis=1)) + \n",
    "    (0.1 * m.fit_transform(test_score4).mean(axis=1)) +\n",
    "    (0.1 * m.fit_transform(test_score5).mean(axis=1))\n",
    ") / 0.9\n",
    "sub.to_csv(f\"{SUBMISSION_DATA_PATH}/submission_10TH_blend_5_own_seeds_after_min_max_scaled.csv\", index=False)"
   ]
  },
  {
   "cell_type": "code",
   "execution_count": 68,
   "id": "8d2d9f33-6a69-474c-aea2-6e267fe41c59",
   "metadata": {},
   "outputs": [
    {
     "data": {
      "text/plain": [
       "count    924621.000000\n",
       "mean          0.385767\n",
       "std           0.194353\n",
       "min           0.000000\n",
       "25%           0.220337\n",
       "50%           0.344674\n",
       "75%           0.538963\n",
       "max           0.994977\n",
       "Name: prediction, dtype: float64"
      ]
     },
     "execution_count": 68,
     "metadata": {},
     "output_type": "execute_result"
    }
   ],
   "source": [
    "sub[\"prediction\"].describe()"
   ]
  },
  {
   "cell_type": "code",
   "execution_count": null,
   "id": "658d46fd-d9df-42e2-939b-60761917a297",
   "metadata": {},
   "outputs": [],
   "source": []
  },
  {
   "cell_type": "code",
   "execution_count": 7,
   "id": "c6357949-60dd-4ce4-bf1b-e8044d01a87a",
   "metadata": {},
   "outputs": [
    {
     "data": {
      "text/plain": [
       "(0.7986772206700369, 0.9259891065704908, 0.6713653347695829)"
      ]
     },
     "execution_count": 7,
     "metadata": {},
     "output_type": "execute_result"
    }
   ],
   "source": [
    "## 1ST - 0.799 (medium)\n",
    "amex_metric(train_score1[\"target\"], t1)"
   ]
  },
  {
   "cell_type": "code",
   "execution_count": 8,
   "id": "11466e05-a124-45fd-b5e1-da5aeb847c89",
   "metadata": {},
   "outputs": [
    {
     "data": {
      "text/plain": [
       "(0.7987062094874274, 0.9260807463051137, 0.6713316726697411)"
      ]
     },
     "execution_count": 8,
     "metadata": {},
     "output_type": "execute_result"
    }
   ],
   "source": [
    "## 3RD - 0.800 (low)\n",
    "amex_metric(train_score1[\"target\"], t2)"
   ]
  },
  {
   "cell_type": "code",
   "execution_count": 9,
   "id": "abfc436d-e2c4-4871-9d66-b53706f281e8",
   "metadata": {},
   "outputs": [
    {
     "data": {
      "text/plain": [
       "(0.797788577455728, 0.925642459385149, 0.6699346955263069)"
      ]
     },
     "execution_count": 9,
     "metadata": {},
     "output_type": "execute_result"
    }
   ],
   "source": [
    "## 5TH - 0.799 (low)\n",
    "amex_metric(train_score1[\"target\"], t3)"
   ]
  },
  {
   "cell_type": "code",
   "execution_count": 10,
   "id": "10a5283e-3534-497e-a784-8ac9e56ae357",
   "metadata": {},
   "outputs": [
    {
     "data": {
      "text/plain": [
       "(0.7987959566465116, 0.9262181629984798, 0.6713737502945434)"
      ]
     },
     "execution_count": 10,
     "metadata": {},
     "output_type": "execute_result"
    }
   ],
   "source": [
    "### 6TH - 0.800 (very low)\n",
    "amex_metric(train_score1[\"target\"], t4)"
   ]
  },
  {
   "cell_type": "code",
   "execution_count": 11,
   "id": "26959d3a-aa0a-43db-b849-651a82b20b96",
   "metadata": {},
   "outputs": [
    {
     "data": {
      "text/plain": [
       "(0.7971742806455548, 0.9257687652834348, 0.6685797960076749)"
      ]
     },
     "execution_count": 11,
     "metadata": {},
     "output_type": "execute_result"
    }
   ],
   "source": [
    "### 7TH - 0.798 (high)\n",
    "amex_metric(train_score1[\"target\"], t5)"
   ]
  }
 ],
 "metadata": {
  "kernelspec": {
   "display_name": "amex",
   "language": "python",
   "name": "amex"
  },
  "language_info": {
   "codemirror_mode": {
    "name": "ipython",
    "version": 3
   },
   "file_extension": ".py",
   "mimetype": "text/x-python",
   "name": "python",
   "nbconvert_exporter": "python",
   "pygments_lexer": "ipython3",
   "version": "3.10.0"
  }
 },
 "nbformat": 4,
 "nbformat_minor": 5
}
