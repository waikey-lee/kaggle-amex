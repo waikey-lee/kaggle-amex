{
 "cells": [
  {
   "cell_type": "code",
   "execution_count": 73,
   "id": "5dd2ca34-3410-4078-aa48-7adbba211ed5",
   "metadata": {},
   "outputs": [],
   "source": [
    "import datetime\n",
    "import gc\n",
    "import joblib\n",
    "import matplotlib.pyplot as plt\n",
    "import pandas as pd\n",
    "import numpy as np\n",
    "import os\n",
    "import scipy.stats\n",
    "import seaborn as sns\n",
    "import sys\n",
    "sys.path.append(\"../../\")\n",
    "import time\n",
    "import warnings\n",
    "warnings.simplefilter(\"ignore\")\n",
    "from collections import defaultdict\n",
    "from itertools import repeat, combinations\n",
    "from pandarallel import pandarallel\n",
    "from sklearn.preprocessing import StandardScaler, LabelEncoder\n",
    "from tqdm import tqdm"
   ]
  },
  {
   "cell_type": "code",
   "execution_count": 74,
   "id": "ed180905-de83-4e97-9d86-3307ede6d42f",
   "metadata": {},
   "outputs": [],
   "source": [
    "from utils.common import (\n",
    "    sigmoid, pad_column_name\n",
    ")\n",
    "from utils.constants import *\n",
    "from utils.eval_helpers import (\n",
    "    plot_roc_curves, plot_feature_importance, \n",
    "    amex_metric, get_final_metric_df, amex_metric_np, lgb_amex_metric\n",
    ")\n",
    "from utils.eda_helpers import (\n",
    "    plot_missing_proportion_barchart, plot_heatmap,\n",
    "    get_cols, insert_row_number, plot_train_test_distribution\n",
    ")\n",
    "from utils.extraction_helpers import read_file\n",
    "from utils.feature_group import CATEGORY_COLUMNS"
   ]
  },
  {
   "cell_type": "code",
   "execution_count": 75,
   "id": "93a23fd1-1dc1-4cdc-af7a-dfd41584887d",
   "metadata": {},
   "outputs": [],
   "source": [
    "from feature_engineering_helpers import feature_gen_pipeline"
   ]
  },
  {
   "cell_type": "code",
   "execution_count": 76,
   "id": "67194602-57fc-4e92-9801-8d600e52a5b2",
   "metadata": {},
   "outputs": [
    {
     "name": "stdout",
     "output_type": "stream",
     "text": [
      "The autoreload extension is already loaded. To reload it, use:\n",
      "  %reload_ext autoreload\n"
     ]
    }
   ],
   "source": [
    "%load_ext autoreload\n",
    "%autoreload"
   ]
  },
  {
   "cell_type": "code",
   "execution_count": 77,
   "id": "570eba73-bbc2-4a0c-8a53-0c16a8009661",
   "metadata": {},
   "outputs": [
    {
     "name": "stdout",
     "output_type": "stream",
     "text": [
      "INFO: Pandarallel will run on 16 workers.\n",
      "INFO: Pandarallel will use standard multiprocessing data transfer (pipe) to transfer data between the main process and workers.\n"
     ]
    }
   ],
   "source": [
    "pandarallel.initialize(nb_workers=16, progress_bar=False, use_memory_fs=False)"
   ]
  },
  {
   "cell_type": "code",
   "execution_count": 78,
   "id": "1f0163b6-0df1-4062-a177-b86c359dc4b7",
   "metadata": {},
   "outputs": [],
   "source": [
    "START = time.time()"
   ]
  },
  {
   "cell_type": "code",
   "execution_count": 79,
   "id": "f07b3679-9446-42a0-aa02-16d4c08257a7",
   "metadata": {},
   "outputs": [],
   "source": [
    "def combine_binary_features(train, test, final_col_name, col_list, sufficient_count=500, drop_ori=False):\n",
    "    train[\"temp\"] = train[col_list].astype(str).parallel_apply(lambda x: ''.join(x), axis=1)\n",
    "    test[\"temp\"] = test[col_list].astype(str).parallel_apply(lambda x: ''.join(x), axis=1)\n",
    "    le = LabelEncoder()\n",
    "    le.fit(train[\"temp\"])\n",
    "    le_dict = dict(zip(le.classes_, le.transform(le.classes_)))\n",
    "    train_df = train.groupby(\"temp\").agg(\n",
    "        target_count=(\"target\", \"count\")\n",
    "    )\n",
    "    less_count_cat_codes = train_df.loc[train_df[\"target_count\"] < sufficient_count].index.tolist()\n",
    "    le_dict = {k: v if k not in less_count_cat_codes else np.nan for k, v in le_dict.items()}\n",
    "    train[final_col_name] = train[\"temp\"].map(le_dict).astype(\"category\")\n",
    "    test[final_col_name] = test[\"temp\"].map(le_dict).astype(\"category\")\n",
    "    if drop_ori:\n",
    "        train.drop(columns=col_list, inplace=True)\n",
    "        test.drop(columns=col_list, inplace=True)\n",
    "    return train, test"
   ]
  },
  {
   "cell_type": "markdown",
   "id": "b4962ceb-f3e9-4522-9a30-129b6d25fae9",
   "metadata": {},
   "source": [
    "### Read Data"
   ]
  },
  {
   "cell_type": "code",
   "execution_count": 8,
   "id": "1cc3552e-35f1-44df-9d7d-2de736acc83c",
   "metadata": {},
   "outputs": [
    {
     "name": "stdout",
     "output_type": "stream",
     "text": [
      "Shape of data: (458913, 2)\n"
     ]
    }
   ],
   "source": [
    "labels = read_file(f\"../{RAW_DATA_PATH}/train_labels.csv\")"
   ]
  },
  {
   "cell_type": "code",
   "execution_count": null,
   "id": "6735831d-0024-4122-9c7b-1280e519d03e",
   "metadata": {},
   "outputs": [],
   "source": [
    "%%time\n",
    "train = read_file(f\"../{INTERIM_DATA_PATH}/v2/train_parquet/train_all_variables.parquet\")\n",
    "test1 = read_file(f\"../{INTERIM_DATA_PATH}/v2/test_parquet/test_all_variables1.parquet\")\n",
    "test2 = read_file(f\"../{INTERIM_DATA_PATH}/v2/test_parquet/test_all_variables2.parquet\")"
   ]
  },
  {
   "cell_type": "code",
   "execution_count": null,
   "id": "939b892e-d116-459f-8cb9-64703f631df4",
   "metadata": {},
   "outputs": [],
   "source": [
    "test = pd.concat([test1, test2], ignore_index=True)\n",
    "del test1, test2"
   ]
  },
  {
   "cell_type": "code",
   "execution_count": null,
   "id": "a302bc01-313a-4319-8360-ad248469c9e1",
   "metadata": {},
   "outputs": [],
   "source": [
    "gc.collect()"
   ]
  },
  {
   "cell_type": "code",
   "execution_count": null,
   "id": "defc9ba3-5c92-4d03-9dfa-309e5b4288e4",
   "metadata": {},
   "outputs": [],
   "source": [
    "df_list = [train, test]"
   ]
  },
  {
   "cell_type": "code",
   "execution_count": null,
   "id": "e1dbe97e-6fc3-417f-8ea5-83908175a9ba",
   "metadata": {},
   "outputs": [],
   "source": [
    "for df in df_list:\n",
    "    df[\"D_135\"] = df[\"D_135\"].fillna(-1)\n",
    "    df[\"D_137\"] = df[\"D_137\"].fillna(-1)"
   ]
  },
  {
   "cell_type": "code",
   "execution_count": null,
   "id": "f7c0d2f7-3ce5-4b98-8771-0e96fc8553c2",
   "metadata": {},
   "outputs": [],
   "source": [
    "%%time\n",
    "n = train.nunique()\n",
    "binary_features = n[n == 2].index.tolist()"
   ]
  },
  {
   "cell_type": "markdown",
   "id": "302c14eb-d4d5-4aee-9251-9ab1eeca8505",
   "metadata": {},
   "source": [
    "### Group Features"
   ]
  },
  {
   "cell_type": "markdown",
   "id": "32979d20-a7c6-4dd7-9c12-895dceddc648",
   "metadata": {},
   "source": [
    "### Risk Binary"
   ]
  },
  {
   "cell_type": "code",
   "execution_count": null,
   "id": "e47b3252-52b4-4678-80f3-b4694c8fbf94",
   "metadata": {},
   "outputs": [],
   "source": [
    "risk_binary_features = [c for c in binary_features if c.startswith(\"R_\")]"
   ]
  },
  {
   "cell_type": "code",
   "execution_count": null,
   "id": "9d2e63b5-3e95-4f95-a69d-f9fea32f9af4",
   "metadata": {},
   "outputs": [],
   "source": [
    "sparse_risk_binary_features = train.loc[:, risk_binary_features].sum().sort_values().iloc[:13].index.tolist()\n",
    "print(sorted(sparse_risk_binary_features))"
   ]
  },
  {
   "cell_type": "code",
   "execution_count": null,
   "id": "ca5c8f52-6484-41d5-bf9d-7756745324f2",
   "metadata": {},
   "outputs": [],
   "source": [
    "%%time\n",
    "train, test = combine_binary_features(\n",
    "    train, \n",
    "    test, \n",
    "    final_col_name=\"R_binaries\", \n",
    "    col_list=sparse_risk_binary_features, \n",
    "    sufficient_count=300, \n",
    "    drop_ori=True\n",
    ")"
   ]
  },
  {
   "cell_type": "code",
   "execution_count": null,
   "id": "30b69438-22f0-4fff-b970-8f55d1de950f",
   "metadata": {},
   "outputs": [],
   "source": [
    "plot_train_test_distribution([train, test], \"R_binaries\", without_drop_tail=True, is_category=True)"
   ]
  },
  {
   "cell_type": "code",
   "execution_count": null,
   "id": "a3e9d0e6-d3fb-4cc1-92b7-ca820fc4f1cb",
   "metadata": {},
   "outputs": [],
   "source": [
    "train.shape, test.shape"
   ]
  },
  {
   "cell_type": "code",
   "execution_count": null,
   "id": "9ccc922f-6a73-46b8-84d3-689c00813ce7",
   "metadata": {},
   "outputs": [],
   "source": [
    "set(train.columns) - set(test.columns)"
   ]
  },
  {
   "cell_type": "markdown",
   "id": "e86e1050-0a71-46f7-8efd-99b8b283c425",
   "metadata": {},
   "source": [
    "### Spend Binary"
   ]
  },
  {
   "cell_type": "code",
   "execution_count": null,
   "id": "641e4e44-1669-4c25-93a1-c570e8a32234",
   "metadata": {},
   "outputs": [],
   "source": [
    "spend_binary_features = [c for c in binary_features if c.startswith(\"S_\")]\n",
    "print(spend_binary_features)"
   ]
  },
  {
   "cell_type": "code",
   "execution_count": null,
   "id": "f57b3838-4d95-4554-a98c-29e0eb5738da",
   "metadata": {},
   "outputs": [],
   "source": [
    "%%time\n",
    "train, test = combine_binary_features(\n",
    "    train, \n",
    "    test, \n",
    "    final_col_name=\"S_binaries\", \n",
    "    col_list=spend_binary_features, \n",
    "    sufficient_count=300\n",
    ")"
   ]
  },
  {
   "cell_type": "code",
   "execution_count": null,
   "id": "b39a97ec-016a-49f0-836f-c807206bd754",
   "metadata": {},
   "outputs": [],
   "source": [
    "plot_train_test_distribution([train, test], \"S_binaries\", without_drop_tail=True, is_category=True)"
   ]
  },
  {
   "cell_type": "markdown",
   "id": "1af0fdb8-c193-45ac-be6e-3e248e1cd840",
   "metadata": {},
   "source": [
    "### Balance Binary"
   ]
  },
  {
   "cell_type": "code",
   "execution_count": null,
   "id": "5cc1e3f5-1a98-46b1-826f-2d69bfd51b8f",
   "metadata": {},
   "outputs": [],
   "source": [
    "balance_binary_features = [c for c in binary_features if c.startswith(\"B_\")]\n",
    "print(balance_binary_features)"
   ]
  },
  {
   "cell_type": "code",
   "execution_count": null,
   "id": "fa7e4818-3b4e-452f-a265-d5f61e6edab7",
   "metadata": {},
   "outputs": [],
   "source": [
    "sparse_balance_binary_features = ['B_27', 'B_31', 'B_32']"
   ]
  },
  {
   "cell_type": "code",
   "execution_count": null,
   "id": "0c49fde0-6dc3-4721-b131-9565f3207ab7",
   "metadata": {},
   "outputs": [],
   "source": [
    "for col in sparse_balance_binary_features:\n",
    "    print(train.groupby(col)['target'].mean())"
   ]
  },
  {
   "cell_type": "code",
   "execution_count": null,
   "id": "66aef858-c96c-4ef4-b755-bbf1c7a2157f",
   "metadata": {},
   "outputs": [],
   "source": [
    "%%time\n",
    "train, test = combine_binary_features(\n",
    "    train, \n",
    "    test, \n",
    "    final_col_name=\"B_binaries\", \n",
    "    col_list=balance_binary_features, \n",
    "    sufficient_count=500,\n",
    "    drop_ori=True\n",
    ")"
   ]
  },
  {
   "cell_type": "code",
   "execution_count": null,
   "id": "0f89cf74-a232-4d84-a87e-67fc0b6b0ff3",
   "metadata": {},
   "outputs": [],
   "source": [
    "plot_train_test_distribution([train, test], \"B_binaries\", without_drop_tail=True, is_category=True)"
   ]
  },
  {
   "cell_type": "code",
   "execution_count": null,
   "id": "715261ed-3f75-4272-85b1-6de7554a7923",
   "metadata": {},
   "outputs": [],
   "source": [
    "train.shape, test.shape"
   ]
  },
  {
   "cell_type": "markdown",
   "id": "cb290a8d-82a1-4a99-bfe8-00e7da606c8f",
   "metadata": {},
   "source": [
    "### Delinquency Binaries"
   ]
  },
  {
   "cell_type": "code",
   "execution_count": null,
   "id": "5bbb2701-15a0-4e7f-bcc8-a34c1ad0e397",
   "metadata": {},
   "outputs": [],
   "source": [
    "delinquency_binary_features = [c for c in binary_features if c.startswith(\"D_\")]\n",
    "print(delinquency_binary_features)"
   ]
  },
  {
   "cell_type": "code",
   "execution_count": null,
   "id": "f893663a-b564-45e1-a3bc-e78d41584df8",
   "metadata": {},
   "outputs": [],
   "source": [
    "sparse_delinquency_binary_features = train.loc[:, delinquency_binary_features].sum().sort_values().iloc[:8].index.tolist()\n",
    "print(sorted(sparse_delinquency_binary_features))"
   ]
  },
  {
   "cell_type": "code",
   "execution_count": null,
   "id": "be7c4201-4247-498d-8765-e6fe3c4e1f3f",
   "metadata": {},
   "outputs": [],
   "source": [
    "# for col in sparse_delinquency_binary_features:\n",
    "#     print(train.groupby(col)['target'].mean())"
   ]
  },
  {
   "cell_type": "code",
   "execution_count": null,
   "id": "06608afc-4b9b-4209-bfff-7fb628846e8c",
   "metadata": {},
   "outputs": [],
   "source": [
    "# %%time\n",
    "# train, test = combine_binary_features(\n",
    "#     train, \n",
    "#     test, \n",
    "#     final_col_name=\"D_binaries\", \n",
    "#     col_list=sparse_delinquency_binary_features, \n",
    "#     sufficient_count=500,\n",
    "#     drop_ori=True\n",
    "# )"
   ]
  },
  {
   "cell_type": "code",
   "execution_count": null,
   "id": "2b1829db-6146-4251-8eef-c8400b3534a1",
   "metadata": {},
   "outputs": [],
   "source": [
    "# plot_train_test_distribution([train, test], \"D_binaries\", without_drop_tail=True, is_category=True)"
   ]
  },
  {
   "cell_type": "code",
   "execution_count": null,
   "id": "2c92bb1a-b1ce-46ff-8bc0-4be69c069c7c",
   "metadata": {},
   "outputs": [],
   "source": [
    "train.shape, test.shape"
   ]
  },
  {
   "cell_type": "code",
   "execution_count": null,
   "id": "0b76eacd-15f6-4c28-9482-875f6086c3ac",
   "metadata": {},
   "outputs": [],
   "source": [
    "train.to_parquet(\"./merged_train.parquet\")\n",
    "test.to_parquet(\"./merged_test.parquet\")"
   ]
  },
  {
   "cell_type": "markdown",
   "id": "c929a838-d4e5-4ca6-9983-716958d4aee8",
   "metadata": {},
   "source": [
    "### Aggregation"
   ]
  },
  {
   "cell_type": "markdown",
   "id": "0f5d5f55-50cb-4d5d-af9f-b54426053b6b",
   "metadata": {},
   "source": [
    "#### Train"
   ]
  },
  {
   "cell_type": "code",
   "execution_count": 8,
   "id": "92da3f08-f492-41d6-8e01-7a00049d8424",
   "metadata": {},
   "outputs": [
    {
     "name": "stdout",
     "output_type": "stream",
     "text": [
      "Shape of data: (5531451, 184)\n",
      "CPU times: user 5.54 s, sys: 5.89 s, total: 11.4 s\n",
      "Wall time: 6.48 s\n"
     ]
    }
   ],
   "source": [
    "%%time\n",
    "train = read_file(\"./merged_train.parquet\")"
   ]
  },
  {
   "cell_type": "code",
   "execution_count": 9,
   "id": "3f1d89cd-f1d5-4b32-82f2-121fb785374b",
   "metadata": {},
   "outputs": [],
   "source": [
    "bin_cols = get_cols(train, \"_binaries\")"
   ]
  },
  {
   "cell_type": "code",
   "execution_count": 10,
   "id": "c7516a65-4f53-4d75-92c9-5f8958799543",
   "metadata": {},
   "outputs": [],
   "source": [
    "train.loc[:, bin_cols] = train.loc[:, bin_cols].astype(\"category\")"
   ]
  },
  {
   "cell_type": "code",
   "execution_count": 11,
   "id": "847d7a60-23e8-4353-8b86-2fa034ba1391",
   "metadata": {},
   "outputs": [
    {
     "name": "stdout",
     "output_type": "stream",
     "text": [
      "Done insertion\n",
      "Average done\n",
      "Minimum done\n",
      "Maximum done\n",
      "Standard Deviation done\n",
      "Skewness done\n",
      "Last entry done\n",
      "First entry done\n",
      "Second last entry done\n",
      "Third last entry done\n",
      "MA2 for Recency 1 done\n",
      "MA2 for Recency 2 done\n",
      "MA2 for Recency 3 done\n",
      "MA2 for least Recency done\n",
      "MA3 for Recency 1 done\n",
      "MA3 for Recency 2 done\n"
     ]
    },
    {
     "name": "stderr",
     "output_type": "stream",
     "text": [
      "100%|████████████████████████████████████████████████████████████████████████████████████████████████████████████████████████████████████| 167/167 [00:36<00:00,  4.54it/s]"
     ]
    },
    {
     "name": "stdout",
     "output_type": "stream",
     "text": [
      "CPU times: user 3min 36s, sys: 32 s, total: 4min 8s\n",
      "Wall time: 4min 19s\n"
     ]
    },
    {
     "name": "stderr",
     "output_type": "stream",
     "text": [
      "\n"
     ]
    }
   ],
   "source": [
    "%%time\n",
    "train_agg, keep_column = feature_gen_pipeline(train)"
   ]
  },
  {
   "cell_type": "code",
   "execution_count": 17,
   "id": "b96e7ed1-41b9-4950-beca-8fc587d69564",
   "metadata": {},
   "outputs": [
    {
     "name": "stdout",
     "output_type": "stream",
     "text": [
      "Size: 14.181277593 GB, Shape: (458913, 5068)\n"
     ]
    }
   ],
   "source": [
    "train_agg[\"target\"] = labels[\"target\"].values\n",
    "print(f\"Size: {sys.getsizeof(train_agg) / 1e9} GB, Shape: {train_agg.shape}\")"
   ]
  },
  {
   "cell_type": "code",
   "execution_count": 18,
   "id": "8b78478b-4ded-44eb-beae-f6d00d4d7386",
   "metadata": {},
   "outputs": [
    {
     "name": "stderr",
     "output_type": "stream",
     "text": [
      "100%|██████████████████████████████████████████████████████████████████████████████████████████████████████████████████████████████████| 2652/2652 [00:34<00:00, 77.85it/s]\n"
     ]
    }
   ],
   "source": [
    "float64_columns = train_agg.select_dtypes(\"float64\").columns.tolist()\n",
    "for col in tqdm(float64_columns):\n",
    "    temp = train_agg[col].astype(np.float32).values\n",
    "    if (temp - train_agg[col]).abs().max() < 1e-4:\n",
    "        train_agg[col] = train_agg[col].astype(np.float32)"
   ]
  },
  {
   "cell_type": "code",
   "execution_count": 20,
   "id": "105382fc-a51e-4d08-9db1-9f02fdc39b09",
   "metadata": {},
   "outputs": [
    {
     "name": "stdout",
     "output_type": "stream",
     "text": [
      "Size: 9.382883265 GB, Shape: (458913, 5068)\n"
     ]
    }
   ],
   "source": [
    "print(f\"Size: {sys.getsizeof(train_agg) / 1e9} GB, Shape: {train_agg.shape}\")"
   ]
  },
  {
   "cell_type": "code",
   "execution_count": 21,
   "id": "1984ce0c-7ccd-4eb4-a557-7fe4942f3922",
   "metadata": {},
   "outputs": [
    {
     "name": "stderr",
     "output_type": "stream",
     "text": [
      "100%|█████████████████████████████████████████████████████████████████████████████████████████████████████████████████████████████████| 5012/5012 [00:18<00:00, 273.08it/s]\n"
     ]
    }
   ],
   "source": [
    "number_columns = train_agg.select_dtypes(np.number).columns.tolist()\n",
    "for col in tqdm(number_columns):\n",
    "    temp = train_agg[col].round(3)\n",
    "    if (temp - train_agg[col]).abs().max() < 1e-4:\n",
    "        train_agg[col] = train_agg[col].round(3)"
   ]
  },
  {
   "cell_type": "code",
   "execution_count": 22,
   "id": "e280bf45-a9cd-43f6-b812-3228ee2fb52c",
   "metadata": {},
   "outputs": [
    {
     "name": "stdout",
     "output_type": "stream",
     "text": [
      "Size: 9.382883265 GB, Shape: (458913, 5068)\n"
     ]
    }
   ],
   "source": [
    "print(f\"Size: {sys.getsizeof(train_agg) / 1e9} GB, Shape: {train_agg.shape}\")"
   ]
  },
  {
   "cell_type": "code",
   "execution_count": 23,
   "id": "23b0f05d-c31a-492f-bd5b-5d1b140084c9",
   "metadata": {},
   "outputs": [],
   "source": [
    "train_agg = train_agg.loc[:, keep_column]"
   ]
  },
  {
   "cell_type": "code",
   "execution_count": 24,
   "id": "5bf09d80-ba7f-4510-833a-58f9daeb2372",
   "metadata": {},
   "outputs": [
    {
     "name": "stdout",
     "output_type": "stream",
     "text": [
      "Size: 8.760597237 GB, Shape: (458913, 4732)\n"
     ]
    }
   ],
   "source": [
    "print(f\"Size: {sys.getsizeof(train_agg) / 1e9} GB, Shape: {train_agg.shape}\")"
   ]
  },
  {
   "cell_type": "code",
   "execution_count": 25,
   "id": "b8845c94-6486-40a8-b8ee-d9e584eb7407",
   "metadata": {},
   "outputs": [],
   "source": [
    "train_agg.to_pickle(f\"./train_agg.pkl\")"
   ]
  },
  {
   "cell_type": "code",
   "execution_count": 26,
   "id": "3ca6c37c-0f0f-4db9-9be2-39bd8bd698f2",
   "metadata": {},
   "outputs": [],
   "source": [
    "del train_agg, train"
   ]
  },
  {
   "cell_type": "markdown",
   "id": "adeca3f3-ca21-4ff5-aee1-69b07c45179b",
   "metadata": {},
   "source": [
    "### Test 1"
   ]
  },
  {
   "cell_type": "code",
   "execution_count": 80,
   "id": "ce3bd597-2560-41ce-9b52-6ab690c150fb",
   "metadata": {},
   "outputs": [
    {
     "name": "stdout",
     "output_type": "stream",
     "text": [
      "Shape of data: (11363762, 183)\n",
      "CPU times: user 11.5 s, sys: 18 s, total: 29.4 s\n",
      "Wall time: 23.2 s\n"
     ]
    }
   ],
   "source": [
    "%%time\n",
    "test = read_file(\"./merged_test.parquet\")"
   ]
  },
  {
   "cell_type": "code",
   "execution_count": 81,
   "id": "25704c72-38f3-4117-9e69-38e8e94e756f",
   "metadata": {},
   "outputs": [],
   "source": [
    "bin_cols = get_cols(test, \"_binaries\")"
   ]
  },
  {
   "cell_type": "code",
   "execution_count": 82,
   "id": "99d50428-4556-4bd0-aadb-ea71d777f136",
   "metadata": {},
   "outputs": [],
   "source": [
    "test1 = test.iloc[:5681884]\n",
    "test2 = test.iloc[5681884:]"
   ]
  },
  {
   "cell_type": "code",
   "execution_count": 83,
   "id": "f2e9e9ef-4d64-47a2-9298-12dc9bfe2b1f",
   "metadata": {},
   "outputs": [],
   "source": [
    "del test\n",
    "del test2"
   ]
  },
  {
   "cell_type": "code",
   "execution_count": 84,
   "id": "fbc83568-01c8-45a2-8a49-a1568ee86685",
   "metadata": {},
   "outputs": [],
   "source": [
    "test1.loc[:, bin_cols] = test1.loc[:, bin_cols].astype(\"category\")"
   ]
  },
  {
   "cell_type": "code",
   "execution_count": 85,
   "id": "e1ee57ae-39d6-4ec6-b744-559088592c6f",
   "metadata": {},
   "outputs": [
    {
     "name": "stdout",
     "output_type": "stream",
     "text": [
      "Done insertion\n",
      "Average done\n",
      "Minimum done\n",
      "Maximum done\n",
      "Standard Deviation done\n",
      "Skewness done\n",
      "Last entry done\n",
      "First entry done\n",
      "Second last entry done\n",
      "Third last entry done\n",
      "MA2 for Recency 1 done\n",
      "MA2 for Recency 2 done\n",
      "MA2 for Recency 3 done\n",
      "MA2 for least Recency done\n",
      "MA3 for Recency 1 done\n",
      "MA3 for Recency 2 done\n"
     ]
    },
    {
     "name": "stderr",
     "output_type": "stream",
     "text": [
      "100%|████████████████████████████████████████████████████████████████████████████████████████████████████████████████████████████████████| 167/167 [00:46<00:00,  3.63it/s]"
     ]
    },
    {
     "name": "stdout",
     "output_type": "stream",
     "text": [
      "CPU times: user 3min 49s, sys: 47.9 s, total: 4min 37s\n",
      "Wall time: 4min 56s\n"
     ]
    },
    {
     "name": "stderr",
     "output_type": "stream",
     "text": [
      "\n"
     ]
    }
   ],
   "source": [
    "%%time\n",
    "test_agg, keep_column = feature_gen_pipeline(test1)"
   ]
  },
  {
   "cell_type": "code",
   "execution_count": 86,
   "id": "83554158-b8b2-48d5-999f-fe6a8d8f1e2c",
   "metadata": {},
   "outputs": [
    {
     "name": "stdout",
     "output_type": "stream",
     "text": [
      "Size: 17.136510259 GB, Shape: (462379, 5067)\n"
     ]
    }
   ],
   "source": [
    "print(f\"Size: {sys.getsizeof(test_agg) / 1e9} GB, Shape: {test_agg.shape}\")"
   ]
  },
  {
   "cell_type": "code",
   "execution_count": 87,
   "id": "e4767bcb-ac74-465c-ba61-080391f60ef1",
   "metadata": {},
   "outputs": [
    {
     "name": "stderr",
     "output_type": "stream",
     "text": [
      "100%|██████████████████████████████████████████████████████████████████████████████████████████████████████████████████████████████████| 4194/4194 [01:21<00:00, 51.55it/s]\n"
     ]
    }
   ],
   "source": [
    "float64_columns = test_agg.select_dtypes(\"float64\").columns.tolist()\n",
    "for col in tqdm(float64_columns):\n",
    "    temp = test_agg[col].astype(np.float32).values\n",
    "    if (temp - test_agg[col]).abs().max() < 1e-4:\n",
    "        test_agg[col] = test_agg[col].astype(np.float32)"
   ]
  },
  {
   "cell_type": "code",
   "execution_count": 88,
   "id": "3174d0c8-4c67-4f96-802b-918ad61d887d",
   "metadata": {},
   "outputs": [
    {
     "name": "stdout",
     "output_type": "stream",
     "text": [
      "Size: 9.490611115 GB, Shape: (462379, 5067)\n"
     ]
    }
   ],
   "source": [
    "print(f\"Size: {sys.getsizeof(test_agg) / 1e9} GB, Shape: {test_agg.shape}\")"
   ]
  },
  {
   "cell_type": "code",
   "execution_count": 89,
   "id": "3f4e782b-1d79-4093-9b0c-6d921d926a83",
   "metadata": {},
   "outputs": [],
   "source": [
    "test_agg = test_agg.loc[:, keep_column]"
   ]
  },
  {
   "cell_type": "code",
   "execution_count": 90,
   "id": "7195f8b2-f07b-4bac-99ca-10051e0123bd",
   "metadata": {},
   "outputs": [
    {
     "name": "stdout",
     "output_type": "stream",
     "text": [
      "Size: 8.865474707 GB, Shape: (462379, 4732)\n"
     ]
    }
   ],
   "source": [
    "print(f\"Size: {sys.getsizeof(test_agg) / 1e9} GB, Shape: {test_agg.shape}\")"
   ]
  },
  {
   "cell_type": "code",
   "execution_count": 91,
   "id": "4c54b253-9c42-48aa-afc0-dddae22af5ac",
   "metadata": {},
   "outputs": [],
   "source": [
    "test_agg.to_pickle(f\"./test_agg1.pkl\")"
   ]
  },
  {
   "cell_type": "code",
   "execution_count": 92,
   "id": "c322771c-9856-4113-9aa6-28fcf0502354",
   "metadata": {},
   "outputs": [],
   "source": [
    "del test_agg"
   ]
  },
  {
   "cell_type": "markdown",
   "id": "acf88d5a-6809-4f84-bf12-42b371946915",
   "metadata": {},
   "source": [
    "#### Test 2"
   ]
  },
  {
   "cell_type": "code",
   "execution_count": 57,
   "id": "1ca3fd6e-56eb-46c3-a03b-d908e962c269",
   "metadata": {},
   "outputs": [
    {
     "name": "stdout",
     "output_type": "stream",
     "text": [
      "Shape of data: (11363762, 183)\n",
      "CPU times: user 11 s, sys: 22.4 s, total: 33.4 s\n",
      "Wall time: 25.7 s\n"
     ]
    }
   ],
   "source": [
    "%%time\n",
    "test = read_file(\"./merged_test.parquet\")"
   ]
  },
  {
   "cell_type": "code",
   "execution_count": 58,
   "id": "112dfb28-2320-453e-87d9-7f863d7438a4",
   "metadata": {},
   "outputs": [],
   "source": [
    "bin_cols = get_cols(test, \"_binaries\")"
   ]
  },
  {
   "cell_type": "code",
   "execution_count": 59,
   "id": "dd4ba274-9ab1-4844-b6cf-8a58335f2691",
   "metadata": {},
   "outputs": [],
   "source": [
    "test1 = test.iloc[:568184]\n",
    "test2 = test.iloc[5681884:]"
   ]
  },
  {
   "cell_type": "code",
   "execution_count": 60,
   "id": "abed8222-b56d-402b-9bfe-4ce0aafd3337",
   "metadata": {},
   "outputs": [],
   "source": [
    "del test\n",
    "del test1"
   ]
  },
  {
   "cell_type": "code",
   "execution_count": 61,
   "id": "fc56262e-2c10-43cf-b93a-a247879dc38c",
   "metadata": {},
   "outputs": [],
   "source": [
    "test = test2.copy()\n",
    "del test2"
   ]
  },
  {
   "cell_type": "code",
   "execution_count": 62,
   "id": "ad3cbafc-c786-4c05-a1a1-3dda72a30d5f",
   "metadata": {},
   "outputs": [],
   "source": [
    "test.loc[:, bin_cols] = test.loc[:, bin_cols].astype(\"category\")"
   ]
  },
  {
   "cell_type": "code",
   "execution_count": 63,
   "id": "478d859f-3453-42f0-bf24-ba4847d2a69a",
   "metadata": {},
   "outputs": [
    {
     "name": "stdout",
     "output_type": "stream",
     "text": [
      "Done insertion\n",
      "Average done\n",
      "Minimum done\n",
      "Maximum done\n",
      "Standard Deviation done\n",
      "Skewness done\n",
      "Last entry done\n",
      "First entry done\n",
      "Second last entry done\n",
      "Third last entry done\n",
      "MA2 for Recency 1 done\n",
      "MA2 for Recency 2 done\n",
      "MA2 for Recency 3 done\n",
      "MA2 for least Recency done\n",
      "MA3 for Recency 1 done\n",
      "MA3 for Recency 2 done\n"
     ]
    },
    {
     "name": "stderr",
     "output_type": "stream",
     "text": [
      "100%|████████████████████████████████████████████████████████████████████████████████████████████████████████████████████████████████████| 167/167 [00:45<00:00,  3.70it/s]"
     ]
    },
    {
     "name": "stdout",
     "output_type": "stream",
     "text": [
      "CPU times: user 3min 48s, sys: 47.7 s, total: 4min 36s\n",
      "Wall time: 4min 55s\n"
     ]
    },
    {
     "name": "stderr",
     "output_type": "stream",
     "text": [
      "\n"
     ]
    }
   ],
   "source": [
    "%%time\n",
    "test_agg, keep_column = feature_gen_pipeline(test)"
   ]
  },
  {
   "cell_type": "code",
   "execution_count": 64,
   "id": "424878fa-30a9-4239-a518-b0b944f0b288",
   "metadata": {},
   "outputs": [
    {
     "name": "stdout",
     "output_type": "stream",
     "text": [
      "Size: 17.131437834 GB, Shape: (462242, 5067)\n"
     ]
    }
   ],
   "source": [
    "print(f\"Size: {sys.getsizeof(test_agg) / 1e9} GB, Shape: {test_agg.shape}\")"
   ]
  },
  {
   "cell_type": "code",
   "execution_count": 65,
   "id": "59e38e3f-af7b-4fb4-aa4d-28a4acffe227",
   "metadata": {},
   "outputs": [
    {
     "name": "stderr",
     "output_type": "stream",
     "text": [
      "100%|██████████████████████████████████████████████████████████████████████████████████████████████████████████████████████████████████| 4194/4194 [01:19<00:00, 52.58it/s]\n"
     ]
    }
   ],
   "source": [
    "float64_columns = test_agg.select_dtypes(\"float64\").columns.tolist()\n",
    "for col in tqdm(float64_columns):\n",
    "    temp = test_agg[col].astype(np.float32).values\n",
    "    if (temp - test_agg[col]).abs().max() < 1e-4:\n",
    "        test_agg[col] = test_agg[col].astype(np.float32)"
   ]
  },
  {
   "cell_type": "code",
   "execution_count": 66,
   "id": "c71c3d3a-6c9d-4d54-a254-79963c0e4da1",
   "metadata": {},
   "outputs": [
    {
     "name": "stdout",
     "output_type": "stream",
     "text": [
      "Size: 9.463767538 GB, Shape: (462242, 5067)\n"
     ]
    }
   ],
   "source": [
    "print(f\"Size: {sys.getsizeof(test_agg) / 1e9} GB, Shape: {test_agg.shape}\")"
   ]
  },
  {
   "cell_type": "code",
   "execution_count": 67,
   "id": "1b51418a-38f9-4222-8852-b12aa5556ccd",
   "metadata": {},
   "outputs": [],
   "source": [
    "%%time\n",
    "test_agg = test_agg.loc[:, keep_column]"
   ]
  },
  {
   "cell_type": "code",
   "execution_count": 68,
   "id": "f3a4da81-2fe1-426c-a3b2-12968c4b2dbe",
   "metadata": {},
   "outputs": [
    {
     "name": "stdout",
     "output_type": "stream",
     "text": [
      "Size: 8.84251429 GB, Shape: (462242, 4732)\n"
     ]
    }
   ],
   "source": [
    "print(f\"Size: {sys.getsizeof(test_agg) / 1e9} GB, Shape: {test_agg.shape}\")"
   ]
  },
  {
   "cell_type": "code",
   "execution_count": 69,
   "id": "d9aa366e-42b5-4a2f-86ca-1755f85d511d",
   "metadata": {},
   "outputs": [],
   "source": [
    "test_agg.to_pickle(f\"./test_agg2.pkl\")"
   ]
  },
  {
   "cell_type": "code",
   "execution_count": 70,
   "id": "d2c1e31c-b50e-4646-8238-5d96d10152c5",
   "metadata": {},
   "outputs": [],
   "source": [
    "del test_agg"
   ]
  },
  {
   "cell_type": "markdown",
   "id": "a3ebefbe-3cc1-429e-8ce9-8ad10c987bae",
   "metadata": {},
   "source": [
    "### END"
   ]
  },
  {
   "cell_type": "code",
   "execution_count": 71,
   "id": "bb7753c9-7e1d-4138-a75d-8b17fc6cce9e",
   "metadata": {
    "tags": []
   },
   "outputs": [],
   "source": [
    "END = time.time()"
   ]
  },
  {
   "cell_type": "code",
   "execution_count": 72,
   "id": "8e9d457c-3df8-4407-9267-6a4fa02ff08f",
   "metadata": {},
   "outputs": [
    {
     "name": "stdout",
     "output_type": "stream",
     "text": [
      "1190.71 seconds elapsed\n"
     ]
    }
   ],
   "source": [
    "print(f\"{END - START:.2f} seconds elapsed\")"
   ]
  },
  {
   "cell_type": "code",
   "execution_count": null,
   "id": "6fd318ad-41ad-4421-b04f-076fe775cf65",
   "metadata": {},
   "outputs": [],
   "source": []
  }
 ],
 "metadata": {
  "kernelspec": {
   "display_name": "amex",
   "language": "python",
   "name": "amex"
  },
  "language_info": {
   "codemirror_mode": {
    "name": "ipython",
    "version": 3
   },
   "file_extension": ".py",
   "mimetype": "text/x-python",
   "name": "python",
   "nbconvert_exporter": "python",
   "pygments_lexer": "ipython3",
   "version": "3.10.0"
  }
 },
 "nbformat": 4,
 "nbformat_minor": 5
}
