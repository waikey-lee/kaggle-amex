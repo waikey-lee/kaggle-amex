{
 "cells": [
  {
   "cell_type": "code",
   "execution_count": 1,
   "id": "5dd2ca34-3410-4078-aa48-7adbba211ed5",
   "metadata": {},
   "outputs": [],
   "source": [
    "import datetime\n",
    "import gc\n",
    "import joblib\n",
    "import matplotlib.pyplot as plt\n",
    "import pandas as pd\n",
    "import numpy as np\n",
    "import os\n",
    "import scipy.stats\n",
    "import seaborn as sns\n",
    "import sys\n",
    "sys.path.append(\"../../\")\n",
    "import time\n",
    "import warnings\n",
    "warnings.simplefilter(\"ignore\")\n",
    "from collections import defaultdict\n",
    "from itertools import repeat, combinations\n",
    "from pandarallel import pandarallel\n",
    "from sklearn.preprocessing import StandardScaler, LabelEncoder\n",
    "from tqdm import tqdm"
   ]
  },
  {
   "cell_type": "code",
   "execution_count": 2,
   "id": "ed180905-de83-4e97-9d86-3307ede6d42f",
   "metadata": {},
   "outputs": [],
   "source": [
    "from utils.common import (\n",
    "    sigmoid, pad_column_name\n",
    ")\n",
    "from utils.constants import *\n",
    "from utils.eval_helpers import (\n",
    "    plot_roc_curves, plot_feature_importance, \n",
    "    amex_metric, get_final_metric_df, amex_metric_np, lgb_amex_metric\n",
    ")\n",
    "from utils.eda_helpers import (\n",
    "    plot_missing_proportion_barchart, plot_heatmap, plot_target_check,\n",
    "    get_cols, insert_row_number, plot_train_test_distribution\n",
    ")\n",
    "from utils.extraction_helpers import read_file\n",
    "from utils.feature_group import CATEGORY_COLUMNS\n",
    "from utils.preprocess_helpers import clip_col"
   ]
  },
  {
   "cell_type": "code",
   "execution_count": 3,
   "id": "93a23fd1-1dc1-4cdc-af7a-dfd41584887d",
   "metadata": {},
   "outputs": [],
   "source": [
    "from feature_engineering_helpers import feature_gen_pipeline, clip_all, round_all, convert_all"
   ]
  },
  {
   "cell_type": "code",
   "execution_count": 4,
   "id": "67194602-57fc-4e92-9801-8d600e52a5b2",
   "metadata": {},
   "outputs": [],
   "source": [
    "%load_ext autoreload\n",
    "%autoreload"
   ]
  },
  {
   "cell_type": "code",
   "execution_count": 5,
   "id": "570eba73-bbc2-4a0c-8a53-0c16a8009661",
   "metadata": {},
   "outputs": [
    {
     "name": "stdout",
     "output_type": "stream",
     "text": [
      "INFO: Pandarallel will run on 16 workers.\n",
      "INFO: Pandarallel will use standard multiprocessing data transfer (pipe) to transfer data between the main process and workers.\n"
     ]
    }
   ],
   "source": [
    "pandarallel.initialize(nb_workers=16, progress_bar=False, use_memory_fs=False)"
   ]
  },
  {
   "cell_type": "code",
   "execution_count": 6,
   "id": "1f0163b6-0df1-4062-a177-b86c359dc4b7",
   "metadata": {},
   "outputs": [],
   "source": [
    "START = time.time()"
   ]
  },
  {
   "cell_type": "markdown",
   "id": "b4962ceb-f3e9-4522-9a30-129b6d25fae9",
   "metadata": {},
   "source": [
    "### Read Data"
   ]
  },
  {
   "cell_type": "code",
   "execution_count": 7,
   "id": "1cc3552e-35f1-44df-9d7d-2de736acc83c",
   "metadata": {},
   "outputs": [
    {
     "name": "stdout",
     "output_type": "stream",
     "text": [
      "Shape of data: (458913, 2)\n"
     ]
    }
   ],
   "source": [
    "labels = read_file(f\"../{RAW_DATA_PATH}/train_labels.csv\")"
   ]
  },
  {
   "cell_type": "code",
   "execution_count": 8,
   "id": "6735831d-0024-4122-9c7b-1280e519d03e",
   "metadata": {},
   "outputs": [
    {
     "name": "stdout",
     "output_type": "stream",
     "text": [
      "Shape of data: (5531451, 158)\n",
      "Shape of data: (11363762, 157)\n",
      "CPU times: user 14.7 s, sys: 12.8 s, total: 27.5 s\n",
      "Wall time: 16 s\n"
     ]
    }
   ],
   "source": [
    "%%time\n",
    "train = read_file(f\"../{INTERIM_DATA_PATH}/v7/train_parquet/train_all_variables.parquet\")\n",
    "test = read_file(f\"../{INTERIM_DATA_PATH}/v7/test_parquet/test_all_variables.parquet\")"
   ]
  },
  {
   "cell_type": "code",
   "execution_count": 9,
   "id": "25d1fc9a-6f29-42e5-871b-3e54b659ab7f",
   "metadata": {},
   "outputs": [],
   "source": [
    "df_list = [train, test]"
   ]
  },
  {
   "cell_type": "markdown",
   "id": "7d3e72e6-7c3d-41f9-a6bf-d95caff25cdd",
   "metadata": {},
   "source": [
    "## Impute"
   ]
  },
  {
   "cell_type": "markdown",
   "id": "c495a180-dbc2-4576-8939-07c655842df3",
   "metadata": {},
   "source": [
    "### D_10x"
   ]
  },
  {
   "cell_type": "code",
   "execution_count": 10,
   "id": "f88b6816-2166-40f0-bf50-48dd7db603c5",
   "metadata": {},
   "outputs": [
    {
     "name": "stderr",
     "output_type": "stream",
     "text": [
      "100%|████████████████████████████████████████████████████████████████████████████████████████████████████████████████████████████████████████| 2/2 [01:33<00:00, 46.56s/it]\n"
     ]
    }
   ],
   "source": [
    "for df in tqdm(df_list):\n",
    "    df[\"D_102\"] = df.groupby(\"customer_ID\")[\"D_102\"].apply(lambda x: x.bfill().ffill())\n",
    "    df[\"D_102\"] = df[\"D_102\"].fillna(1.06)\n",
    "    df[\"D_102\"] = np.where(df[\"D_102\"] > 1, 1, df[\"D_102\"])\n",
    "    df[\"D_104\"] = np.where(df[\"D_104\"] > 1, 1, df[\"D_104\"])\n",
    "    df[\"D_104\"] = df[\"D_104\"].fillna(1.5)\n",
    "    df[\"D_105\"] = df[\"D_105\"].fillna(-1)\n",
    "    df[\"D_106\"] = df[\"D_106\"].fillna(50)\n",
    "    df[\"D_107\"] = df[\"D_107\"].fillna(4)\n",
    "    df[\"D_109\"] = df[\"D_109\"].fillna(0)"
   ]
  },
  {
   "cell_type": "markdown",
   "id": "e8a144fd-d036-444c-8c18-2ecde3d4dceb",
   "metadata": {},
   "source": [
    "### D_110 & D_111"
   ]
  },
  {
   "cell_type": "code",
   "execution_count": 11,
   "id": "3a284409-0b05-4c4a-bfe9-7847aab4aeeb",
   "metadata": {},
   "outputs": [
    {
     "name": "stderr",
     "output_type": "stream",
     "text": [
      "100%|████████████████████████████████████████████████████████████████████████████████████████████████████████████████████████████████████████| 2/2 [00:04<00:00,  2.12s/it]\n"
     ]
    }
   ],
   "source": [
    "for df in tqdm(df_list):\n",
    "    df[\"D_110\"] = df[\"D_110\"].fillna(-1)\n",
    "    df[\"D_111\"] = df[\"D_111\"].fillna(-1)"
   ]
  },
  {
   "cell_type": "markdown",
   "id": "fbd6e6b6-ab24-472a-84dd-a16675b68f33",
   "metadata": {},
   "source": [
    "### D_112, D_115, D_118, D_119"
   ]
  },
  {
   "cell_type": "code",
   "execution_count": 12,
   "id": "45c5b8a8-90bc-4007-b8d1-87b2a5785a25",
   "metadata": {},
   "outputs": [
    {
     "name": "stderr",
     "output_type": "stream",
     "text": [
      "100%|████████████████████████████████████████████████████████████████████████████████████████████████████████████████████████████████████████| 2/2 [00:05<00:00,  2.84s/it]\n"
     ]
    }
   ],
   "source": [
    "for df in tqdm(df_list):\n",
    "    df[\"D_112\"] = df[\"D_112\"].fillna(1)\n",
    "    df[\"D_115\"] = df[\"D_115\"].fillna(-1)\n",
    "    df[\"D_118\"] = df[\"D_118\"].fillna(0)\n",
    "    df[\"D_119\"] = df[\"D_119\"].fillna(0)"
   ]
  },
  {
   "cell_type": "markdown",
   "id": "bbb203d9-6545-4621-b61f-020318f48008",
   "metadata": {},
   "source": [
    "### D_122 - D_130"
   ]
  },
  {
   "cell_type": "code",
   "execution_count": 13,
   "id": "e16e3d23-8469-4fe2-b914-7e4d7ccb44f3",
   "metadata": {},
   "outputs": [
    {
     "name": "stderr",
     "output_type": "stream",
     "text": [
      "100%|████████████████████████████████████████████████████████████████████████████████████████████████████████████████████████████████████████| 2/2 [00:06<00:00,  3.14s/it]\n"
     ]
    }
   ],
   "source": [
    "for df in tqdm(df_list):\n",
    "    df[\"D_122\"] = df[\"D_122\"].fillna(2)\n",
    "    df[\"D_123\"] = df[\"D_123\"].fillna(1)\n",
    "    df[\"D_124\"] = df[\"D_124\"].fillna(31)\n",
    "    df[\"D_128\"] = df[\"D_128\"].fillna(0)\n",
    "    df[\"D_129\"] = df[\"D_129\"].fillna(0)\n",
    "    df[\"D_130\"] = df[\"D_130\"].fillna(1)"
   ]
  },
  {
   "cell_type": "markdown",
   "id": "a52bc08d-7891-4e0c-b89b-ead6c7269332",
   "metadata": {},
   "source": [
    "### D_131 - D_136"
   ]
  },
  {
   "cell_type": "code",
   "execution_count": 14,
   "id": "a8b86336-08d9-42f8-bafc-b97c987cfdd5",
   "metadata": {},
   "outputs": [
    {
     "name": "stderr",
     "output_type": "stream",
     "text": [
      "100%|████████████████████████████████████████████████████████████████████████████████████████████████████████████████████████████████████████| 2/2 [00:27<00:00, 14.00s/it]\n"
     ]
    }
   ],
   "source": [
    "for df in tqdm(df_list):\n",
    "    df[\"D_131\"] = df[\"D_131\"].fillna(1.25)\n",
    "    df[\"D_132\"] = df[\"D_132\"].fillna(1.25)\n",
    "    df.drop(columns=\"D_133\", errors=\"ignore\", inplace=True)\n",
    "    df[\"D_134\"] = df[\"D_134\"].fillna(-1)\n",
    "    df[\"D_136\"] = df[\"D_136\"].fillna(-2)"
   ]
  },
  {
   "cell_type": "markdown",
   "id": "d9508756-2a48-4d2b-ad9e-0e3bd8eee33c",
   "metadata": {},
   "source": [
    "### D_141 - D_145, D_183"
   ]
  },
  {
   "cell_type": "code",
   "execution_count": 15,
   "id": "5f8db747-2866-4544-bc16-e812708d79e2",
   "metadata": {},
   "outputs": [
    {
     "name": "stderr",
     "output_type": "stream",
     "text": [
      "100%|████████████████████████████████████████████████████████████████████████████████████████████████████████████████████████████████████████| 2/2 [00:09<00:00,  4.70s/it]\n"
     ]
    }
   ],
   "source": [
    "for df in tqdm(df_list):\n",
    "    df[\"D_141\"] = df[\"D_141\"].fillna(1)\n",
    "    df[\"D_142\"] = df[\"D_142\"].fillna(-1)\n",
    "    df[\"D_144\"] = df[\"D_144\"].fillna(-1)\n",
    "    df[\"D_145\"] = df[\"D_145\"].fillna(2)\n",
    "    df[\"D_183\"] = df[\"D_183\"].fillna(-2)"
   ]
  },
  {
   "cell_type": "markdown",
   "id": "2b31924c-e733-4b6a-87fa-c52a52b75567",
   "metadata": {},
   "source": [
    "### D_39 - D_49"
   ]
  },
  {
   "cell_type": "code",
   "execution_count": 16,
   "id": "4cb29ce6-cfc8-4de7-a1ec-9605691c93ba",
   "metadata": {},
   "outputs": [
    {
     "name": "stderr",
     "output_type": "stream",
     "text": [
      "100%|████████████████████████████████████████████████████████████████████████████████████████████████████████████████████████████████████████| 2/2 [00:09<00:00,  4.93s/it]\n"
     ]
    }
   ],
   "source": [
    "for df in tqdm(df_list):\n",
    "    df[\"D_39\"] = df[\"D_39\"].fillna(0)\n",
    "    df[\"D_41\"] = df[\"D_41\"].fillna(-1)\n",
    "    df[\"D_42\"] = df[\"D_42\"].fillna(-0.01)\n",
    "    df[\"D_43\"] = df[\"D_43\"].fillna(-0.01)\n",
    "    df[\"D_44\"] = df[\"D_44\"].fillna(1)\n",
    "    df[\"D_46\"] = df[\"D_46\"].fillna(0.4)\n",
    "    df[\"D_48\"] = df[\"D_48\"].fillna(-1)\n",
    "    df[\"D_49\"] = df[\"D_49\"].fillna(5)"
   ]
  },
  {
   "cell_type": "markdown",
   "id": "2a2629c6-9916-4b59-9386-58f119ee1f68",
   "metadata": {},
   "source": [
    "### D_50 - D_58"
   ]
  },
  {
   "cell_type": "code",
   "execution_count": 17,
   "id": "34d19b08-bca2-4ed5-a3ef-85e052f8de42",
   "metadata": {},
   "outputs": [
    {
     "name": "stderr",
     "output_type": "stream",
     "text": [
      "100%|████████████████████████████████████████████████████████████████████████████████████████████████████████████████████████████████████████| 2/2 [00:06<00:00,  3.34s/it]\n"
     ]
    }
   ],
   "source": [
    "for df in tqdm(df_list):\n",
    "    df[\"D_50\"] = df[\"D_50\"].fillna(0)\n",
    "    df[\"D_52\"] = df[\"D_52\"].fillna(0.09)\n",
    "    df[\"D_53\"] = df[\"D_53\"].fillna(-1)\n",
    "    df[\"D_54\"] = df[\"D_54\"].fillna(0.5)\n",
    "    df[\"D_55\"] = df[\"D_55\"].fillna(-0.01)\n",
    "    df[\"D_56\"] = df[\"D_56\"].fillna(0)\n",
    "    df[\"D_58\"] = df[\"D_58\"].fillna(-1)"
   ]
  },
  {
   "cell_type": "markdown",
   "id": "b0aef75c-88b8-4374-85da-f2df898ccd95",
   "metadata": {},
   "source": [
    "### D_61, D_62, D_65"
   ]
  },
  {
   "cell_type": "code",
   "execution_count": 18,
   "id": "a706991b-746e-4a54-96cb-08a2da4ec813",
   "metadata": {},
   "outputs": [
    {
     "name": "stderr",
     "output_type": "stream",
     "text": [
      "100%|████████████████████████████████████████████████████████████████████████████████████████████████████████████████████████████████████████| 2/2 [00:01<00:00,  1.25it/s]\n"
     ]
    }
   ],
   "source": [
    "for df in tqdm(df_list):\n",
    "    df[\"D_61\"] = df[\"D_61\"].fillna(-0.01)\n",
    "    df[\"D_62\"] = df[\"D_62\"].fillna(0.19)\n",
    "    df[\"D_65\"] = df[\"D_65\"].fillna(-2)"
   ]
  },
  {
   "cell_type": "markdown",
   "id": "1c4954c2-561f-433e-abc4-bbf28f593c63",
   "metadata": {},
   "source": [
    "### D_70 - D_79"
   ]
  },
  {
   "cell_type": "code",
   "execution_count": 19,
   "id": "4e72d243-5b00-4fa8-bc67-1e7bf50a51fd",
   "metadata": {},
   "outputs": [
    {
     "name": "stderr",
     "output_type": "stream",
     "text": [
      "100%|████████████████████████████████████████████████████████████████████████████████████████████████████████████████████████████████████████| 2/2 [00:10<00:00,  5.50s/it]\n"
     ]
    }
   ],
   "source": [
    "for df in tqdm(df_list):\n",
    "    df[\"D_70\"] = df[\"D_70\"].fillna(1)\n",
    "    df[\"D_71\"] = df[\"D_71\"].fillna(0)\n",
    "    df[\"D_72\"] = df[\"D_72\"].fillna(0.5)\n",
    "    df[\"D_74\"] = df[\"D_74\"].fillna(0)\n",
    "    df[\"D_76\"] = df[\"D_76\"].fillna(-0.01)\n",
    "    df[\"D_77\"] = df[\"D_77\"].fillna(0.05)\n",
    "    df[\"D_78\"] = df[\"D_78\"].fillna(0)\n",
    "    df[\"D_79\"] = df[\"D_79\"].fillna(0.5)"
   ]
  },
  {
   "cell_type": "markdown",
   "id": "33aa5674-8ab4-4057-93a3-518b114267d3",
   "metadata": {},
   "source": [
    "### D_8x & D_9x"
   ]
  },
  {
   "cell_type": "code",
   "execution_count": 20,
   "id": "da255cbc-9830-4db0-9ff4-350683fa9297",
   "metadata": {},
   "outputs": [
    {
     "name": "stderr",
     "output_type": "stream",
     "text": [
      "100%|████████████████████████████████████████████████████████████████████████████████████████████████████████████████████████████████████████| 2/2 [00:04<00:00,  2.18s/it]\n"
     ]
    }
   ],
   "source": [
    "for df in tqdm(df_list):\n",
    "    df[\"D_80\"] = df[\"D_80\"].fillna(-1)\n",
    "    df[\"D_81\"] = df[\"D_81\"].fillna(0.5)\n",
    "    df[\"D_813\"] = df[\"D_813\"].fillna(0.5)\n",
    "    df[\"D_83\"] = df[\"D_83\"].fillna(1)\n",
    "    df[\"D_87\"] = df[\"D_87\"].fillna(0)\n",
    "    df[\"D_87\"] = df[\"D_87\"].fillna(0)\n",
    "    df[\"D_91\"] = df[\"D_91\"].fillna(-1)"
   ]
  },
  {
   "cell_type": "markdown",
   "id": "c3c1fcb2-b691-4d9e-84e6-1251d7d07e71",
   "metadata": {},
   "source": [
    "### B_13 - B_19"
   ]
  },
  {
   "cell_type": "code",
   "execution_count": 21,
   "id": "b75b3230-a899-4df0-8e4d-f5cc91116a62",
   "metadata": {},
   "outputs": [
    {
     "name": "stderr",
     "output_type": "stream",
     "text": [
      "100%|████████████████████████████████████████████████████████████████████████████████████████████████████████████████████████████████████████| 2/2 [00:04<00:00,  2.31s/it]\n"
     ]
    }
   ],
   "source": [
    "for df in tqdm(df_list):\n",
    "    df[\"B_13\"] = df[\"B_13\"].fillna(-1)\n",
    "    df[\"B_15\"] = df[\"B_15\"].fillna(-0.1)\n",
    "    df[\"B_16\"] = df[\"B_16\"].fillna(4)\n",
    "    df[\"B_17\"] = df[\"B_17\"].fillna(1)\n",
    "    df[\"B_19\"] = df[\"B_19\"].fillna(1)"
   ]
  },
  {
   "cell_type": "markdown",
   "id": "0ef4aa27-937f-4f93-9159-a1130690c151",
   "metadata": {},
   "source": [
    "### B_20 - B_26"
   ]
  },
  {
   "cell_type": "code",
   "execution_count": 22,
   "id": "6f57c515-570b-4538-ba1a-4d925764c251",
   "metadata": {},
   "outputs": [
    {
     "name": "stderr",
     "output_type": "stream",
     "text": [
      "100%|████████████████████████████████████████████████████████████████████████████████████████████████████████████████████████████████████████| 2/2 [00:04<00:00,  2.41s/it]\n"
     ]
    }
   ],
   "source": [
    "for df in tqdm(df_list):\n",
    "    df[\"B_20\"] = df[\"B_20\"].fillna(1)\n",
    "    df[\"B_21\"] = df[\"B_21\"].fillna(-2)\n",
    "    df[\"B_22\"] = df[\"B_22\"].fillna(0.5)\n",
    "    df[\"B_24\"] = df[\"B_24\"].fillna(-2)\n",
    "    df[\"B_25\"] = df[\"B_25\"].fillna(-0.1)\n",
    "    df[\"B_26\"] = df[\"B_26\"].fillna(0)\n",
    "    df[\"B_39\"] = df[\"B_39\"].fillna(2)"
   ]
  },
  {
   "cell_type": "markdown",
   "id": "2df949ee-f21d-4b2e-a5e5-a0c0a15c46a7",
   "metadata": {},
   "source": [
    "### B_2 - B_9"
   ]
  },
  {
   "cell_type": "code",
   "execution_count": 23,
   "id": "c7cb5663-74f7-420b-86c1-f6090975f06c",
   "metadata": {},
   "outputs": [
    {
     "name": "stderr",
     "output_type": "stream",
     "text": [
      "100%|████████████████████████████████████████████████████████████████████████████████████████████████████████████████████████████████████████| 2/2 [00:02<00:00,  1.15s/it]\n"
     ]
    }
   ],
   "source": [
    "for df in tqdm(df_list):\n",
    "    df[\"B_2\"] = df[\"B_2\"].fillna(2)\n",
    "    df[\"B_3\"] = df[\"B_3\"].fillna(0.07)\n",
    "    df[\"B_5\"] = df[\"B_5\"].fillna(0.03)\n",
    "    df[\"B_6\"] = df[\"B_6\"].fillna(0.05)\n",
    "    df[\"B_9\"] = df[\"B_9\"].fillna(0)"
   ]
  },
  {
   "cell_type": "markdown",
   "id": "08ba34b3-49a3-4184-8d28-0c19547e57af",
   "metadata": {},
   "source": [
    "### P"
   ]
  },
  {
   "cell_type": "code",
   "execution_count": 24,
   "id": "65247565-8726-40f8-96b1-476d2e76924e",
   "metadata": {},
   "outputs": [
    {
     "name": "stderr",
     "output_type": "stream",
     "text": [
      "100%|████████████████████████████████████████████████████████████████████████████████████████████████████████████████████████████████████████| 2/2 [00:01<00:00,  1.28it/s]\n"
     ]
    }
   ],
   "source": [
    "for df in tqdm(df_list):\n",
    "    df[\"P_2\"] = df[\"P_2\"].fillna(0.6)\n",
    "    df[\"P_3\"] = df[\"P_3\"].fillna(0.4)\n",
    "    df[\"P_3a\"] = df[\"P_3a\"].fillna(0.21)\n",
    "    df[\"P_4\"] = df[\"P_4\"].fillna(0.07)"
   ]
  },
  {
   "cell_type": "markdown",
   "id": "1e990239-694f-4cfc-ba4d-b2331ac6d675",
   "metadata": {},
   "source": [
    "### R"
   ]
  },
  {
   "cell_type": "code",
   "execution_count": 25,
   "id": "4fb4b842-5823-4387-a984-baf3afca0a6e",
   "metadata": {},
   "outputs": [
    {
     "name": "stderr",
     "output_type": "stream",
     "text": [
      "100%|████████████████████████████████████████████████████████████████████████████████████████████████████████████████████████████████████████| 2/2 [00:05<00:00,  2.63s/it]\n"
     ]
    }
   ],
   "source": [
    "for df in tqdm(df_list):\n",
    "    df[\"R_10\"] = df[\"R_10\"].fillna(-2)\n",
    "    df[\"R_11\"] = df[\"R_11\"].fillna(-1)\n",
    "    df[\"R_12\"] = df[\"R_12\"].fillna(0.01)\n",
    "    df[\"R_16\"] = df[\"R_16\"].fillna(-1)\n",
    "    df[\"R_20\"] = df[\"R_20\"].fillna(-2)\n",
    "    df[\"R_26\"] = df[\"R_26\"].fillna(-1)\n",
    "    df[\"R_27\"] = df[\"R_27\"].fillna(2)\n",
    "    df[\"R_5\"] = df[\"R_5\"].fillna(-2)\n",
    "    df[\"R_6\"] = df[\"R_6\"].fillna(-2)\n",
    "    df[\"R_8\"] = df[\"R_8\"].fillna(-1)\n",
    "    df[\"R_9\"] = df[\"R_9\"].fillna(-1)"
   ]
  },
  {
   "cell_type": "markdown",
   "id": "737567dd-6256-47a0-87e4-13391106df56",
   "metadata": {
    "tags": []
   },
   "source": [
    "### S"
   ]
  },
  {
   "cell_type": "code",
   "execution_count": 26,
   "id": "88db1bee-de0c-44ab-bf2a-c0958d5ca95b",
   "metadata": {},
   "outputs": [
    {
     "name": "stderr",
     "output_type": "stream",
     "text": [
      "100%|████████████████████████████████████████████████████████████████████████████████████████████████████████████████████████████████████████| 2/2 [00:03<00:00,  1.98s/it]\n"
     ]
    }
   ],
   "source": [
    "for df in tqdm(df_list):\n",
    "    df[\"S_3\"] = df[\"S_3\"].fillna(0.11)\n",
    "    df[\"S_7\"] = df[\"S_7\"].fillna(0.08)\n",
    "    df[\"S_8\"] = df[\"S_8\"].fillna(0.36)\n",
    "    df[\"S_12\"] = df[\"S_12\"].fillna(-1)\n",
    "    df[\"S_13\"] = df[\"S_13\"].fillna(1)\n",
    "    df[\"S_15\"] = df[\"S_15\"].fillna(0.4)\n",
    "    df[\"S_16\"] = df[\"S_16\"].fillna(-1)\n",
    "    df[\"S_16\"] = df[\"S_16\"].fillna(-1)\n",
    "    df[\"S_23\"] = df[\"S_23\"].fillna(10)\n",
    "    df[\"S_25\"] = df[\"S_25\"].fillna(10)\n",
    "    df[\"S_26\"] = df[\"S_26\"].fillna(0.05)\n",
    "    df[\"S_27\"] = df[\"S_27\"].fillna(0.4).replace(0, 5)"
   ]
  },
  {
   "cell_type": "code",
   "execution_count": 27,
   "id": "7b4416a1-59b1-4e3c-a2b2-cc7c6f72b702",
   "metadata": {},
   "outputs": [],
   "source": [
    "# plot_target_check(train, \"S_27\", q=50, use_raw_bin=True, nunique_thr=2000, strfy_x=True, without_drop_tail=False)"
   ]
  },
  {
   "cell_type": "code",
   "execution_count": 28,
   "id": "c292a706-ced4-48dc-bac9-2d93682b9348",
   "metadata": {},
   "outputs": [
    {
     "data": {
      "text/html": [
       "<div>\n",
       "<style scoped>\n",
       "    .dataframe tbody tr th:only-of-type {\n",
       "        vertical-align: middle;\n",
       "    }\n",
       "\n",
       "    .dataframe tbody tr th {\n",
       "        vertical-align: top;\n",
       "    }\n",
       "\n",
       "    .dataframe thead th {\n",
       "        text-align: right;\n",
       "    }\n",
       "</style>\n",
       "<table border=\"1\" class=\"dataframe\">\n",
       "  <thead>\n",
       "    <tr style=\"text-align: right;\">\n",
       "      <th></th>\n",
       "      <th>column</th>\n",
       "      <th>missing_proportion</th>\n",
       "    </tr>\n",
       "  </thead>\n",
       "  <tbody>\n",
       "  </tbody>\n",
       "</table>\n",
       "</div>"
      ],
      "text/plain": [
       "Empty DataFrame\n",
       "Columns: [column, missing_proportion]\n",
       "Index: []"
      ]
     },
     "execution_count": 28,
     "metadata": {},
     "output_type": "execute_result"
    }
   ],
   "source": [
    "m = plot_missing_proportion_barchart(train, show_plot=False)\n",
    "# m.loc[m[\"column\"].str.contains(\"S_\")].sort_values(by=\"column\")\n",
    "m.sort_values(by=\"column\")"
   ]
  },
  {
   "cell_type": "code",
   "execution_count": 32,
   "id": "a44ad176-fce3-43ab-955c-db9b449abd4a",
   "metadata": {},
   "outputs": [],
   "source": [
    "train.to_pickle(\"imputed_train.pkl\")"
   ]
  },
  {
   "cell_type": "code",
   "execution_count": 33,
   "id": "d6aa1037-5818-4709-8003-974e0e68d64d",
   "metadata": {},
   "outputs": [],
   "source": [
    "test.to_pickle(\"imputed_test.pkl\")"
   ]
  },
  {
   "cell_type": "markdown",
   "id": "eb238a95-3227-4a2c-b80f-173018484812",
   "metadata": {},
   "source": [
    "### Transform Train Set"
   ]
  },
  {
   "cell_type": "code",
   "execution_count": null,
   "id": "847d7a60-23e8-4353-8b86-2fa034ba1391",
   "metadata": {},
   "outputs": [],
   "source": [
    "%%time\n",
    "train_agg, keep_column = feature_gen_pipeline(train)"
   ]
  },
  {
   "cell_type": "code",
   "execution_count": null,
   "id": "b96e7ed1-41b9-4950-beca-8fc587d69564",
   "metadata": {},
   "outputs": [],
   "source": [
    "train_agg[\"target\"] = labels[\"target\"].values\n",
    "print(f\"Size: {sys.getsizeof(train_agg) / 1e9} GB, Shape: {train_agg.shape}\")"
   ]
  },
  {
   "cell_type": "code",
   "execution_count": null,
   "id": "7c160353-8067-4b32-a9d9-f0a7d5049ed1",
   "metadata": {},
   "outputs": [],
   "source": [
    "train_agg.to_parquet(\"./train_agg.parquet\")"
   ]
  },
  {
   "cell_type": "code",
   "execution_count": null,
   "id": "a1c9a196-6967-4bb6-bc37-fbcd3fc58e9c",
   "metadata": {},
   "outputs": [],
   "source": [
    "train_agg = convert_all(train_agg)"
   ]
  },
  {
   "cell_type": "code",
   "execution_count": null,
   "id": "f6b993bf-25e6-4d7b-a519-5e9b28aaf7ff",
   "metadata": {},
   "outputs": [],
   "source": [
    "train_agg = clip_all(train_agg)"
   ]
  },
  {
   "cell_type": "code",
   "execution_count": null,
   "id": "bbb40518-a2b4-4866-835f-fb54d1d7b529",
   "metadata": {},
   "outputs": [],
   "source": [
    "train_agg = round_all(train_agg)"
   ]
  },
  {
   "cell_type": "code",
   "execution_count": null,
   "id": "a9761e10-449d-4b5f-8631-2a47326fce92",
   "metadata": {},
   "outputs": [],
   "source": [
    "print(f\"Size: {sys.getsizeof(train_agg) / 1e9} GB, Shape: {train_agg.shape}\")"
   ]
  },
  {
   "cell_type": "code",
   "execution_count": null,
   "id": "53bd3dce-5a74-4bea-9338-6f591db0129d",
   "metadata": {},
   "outputs": [],
   "source": [
    "train_agg.shape"
   ]
  },
  {
   "cell_type": "code",
   "execution_count": null,
   "id": "b8845c94-6486-40a8-b8ee-d9e584eb7407",
   "metadata": {},
   "outputs": [],
   "source": [
    "train_agg.to_parquet(f\"./train_agg.parquet\")"
   ]
  },
  {
   "cell_type": "code",
   "execution_count": null,
   "id": "3ca6c37c-0f0f-4db9-9be2-39bd8bd698f2",
   "metadata": {},
   "outputs": [],
   "source": [
    "del train_agg, train"
   ]
  },
  {
   "cell_type": "markdown",
   "id": "df9a3004-ad6f-454f-9b69-9947455decde",
   "metadata": {},
   "source": [
    "### Transform Test"
   ]
  },
  {
   "cell_type": "code",
   "execution_count": null,
   "id": "dd1cc67d-2978-40c0-8aff-a7faffb33c85",
   "metadata": {},
   "outputs": [],
   "source": [
    "test = pd.concat([test1, test2], ignore_index=True)"
   ]
  },
  {
   "cell_type": "code",
   "execution_count": null,
   "id": "4a99edc9-7956-43d6-b05f-3b54b445ea12",
   "metadata": {},
   "outputs": [],
   "source": [
    "del test1, test2"
   ]
  },
  {
   "cell_type": "code",
   "execution_count": null,
   "id": "d3bddade-5f22-4e37-9378-76a542211dbd",
   "metadata": {},
   "outputs": [],
   "source": [
    "%%time\n",
    "test_agg, keep_column = feature_gen_pipeline(test)"
   ]
  },
  {
   "cell_type": "code",
   "execution_count": null,
   "id": "806726ad-3833-4b2a-974e-faa0c953d20d",
   "metadata": {},
   "outputs": [],
   "source": [
    "print(f\"Size: {sys.getsizeof(test_agg) / 1e9} GB, Shape: {test_agg.shape}\")"
   ]
  },
  {
   "cell_type": "code",
   "execution_count": null,
   "id": "5bd2bb61-d71e-4e03-b1d3-d93f2bf68b12",
   "metadata": {},
   "outputs": [],
   "source": [
    "test_agg.to_parquet(\"./test_agg.parquet\")"
   ]
  },
  {
   "cell_type": "code",
   "execution_count": null,
   "id": "aea79ada-aff5-4134-8ec0-a97ae12cc001",
   "metadata": {},
   "outputs": [],
   "source": [
    "test_agg = convert_all(test_agg)"
   ]
  },
  {
   "cell_type": "code",
   "execution_count": null,
   "id": "a78d9bb7-98fc-4b69-9e9e-bf4453a1df95",
   "metadata": {},
   "outputs": [],
   "source": [
    "test_agg = clip_all(test_agg)"
   ]
  },
  {
   "cell_type": "code",
   "execution_count": null,
   "id": "9cdec895-2c50-4a36-a4a6-afb06b72dc96",
   "metadata": {},
   "outputs": [],
   "source": [
    "test_agg = round_all(test_agg)"
   ]
  },
  {
   "cell_type": "code",
   "execution_count": null,
   "id": "1dca533d-7229-41f2-9e27-e2988b49352f",
   "metadata": {},
   "outputs": [],
   "source": [
    "print(f\"Size: {sys.getsizeof(test_agg) / 1e9} GB, Shape: {test_agg.shape}\")"
   ]
  },
  {
   "cell_type": "code",
   "execution_count": null,
   "id": "f7536a09-4713-4e71-a96a-0a8394c4ee7b",
   "metadata": {},
   "outputs": [],
   "source": [
    "test_agg.shape"
   ]
  },
  {
   "cell_type": "code",
   "execution_count": null,
   "id": "1b3a5065-c131-4872-ae61-6106468c49db",
   "metadata": {},
   "outputs": [],
   "source": [
    "test_agg.to_parquet(f\"./test_agg.parquet\")"
   ]
  },
  {
   "cell_type": "code",
   "execution_count": null,
   "id": "9a85f1fd-fab7-45e9-885f-35cf65ebc409",
   "metadata": {},
   "outputs": [],
   "source": []
  },
  {
   "cell_type": "code",
   "execution_count": null,
   "id": "4696a411-f26c-44d6-a1e6-799f3d27dc24",
   "metadata": {},
   "outputs": [],
   "source": []
  }
 ],
 "metadata": {
  "kernelspec": {
   "display_name": "amex",
   "language": "python",
   "name": "amex"
  },
  "language_info": {
   "codemirror_mode": {
    "name": "ipython",
    "version": 3
   },
   "file_extension": ".py",
   "mimetype": "text/x-python",
   "name": "python",
   "nbconvert_exporter": "python",
   "pygments_lexer": "ipython3",
   "version": "3.10.0"
  }
 },
 "nbformat": 4,
 "nbformat_minor": 5
}
