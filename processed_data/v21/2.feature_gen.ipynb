{
 "cells": [
  {
   "cell_type": "code",
   "execution_count": 1,
   "id": "5dd2ca34-3410-4078-aa48-7adbba211ed5",
   "metadata": {},
   "outputs": [],
   "source": [
    "import datetime\n",
    "import gc\n",
    "import joblib\n",
    "import matplotlib.pyplot as plt\n",
    "import pandas as pd\n",
    "import numpy as np\n",
    "import os\n",
    "import scipy.stats\n",
    "import seaborn as sns\n",
    "import sys\n",
    "sys.path.append(\"../../\")\n",
    "import time\n",
    "import warnings\n",
    "warnings.simplefilter(\"ignore\")\n",
    "from collections import defaultdict\n",
    "from itertools import repeat, combinations\n",
    "from pandarallel import pandarallel\n",
    "from sklearn.preprocessing import StandardScaler, LabelEncoder, MinMaxScaler\n",
    "from tqdm import tqdm"
   ]
  },
  {
   "cell_type": "code",
   "execution_count": 2,
   "id": "ed180905-de83-4e97-9d86-3307ede6d42f",
   "metadata": {},
   "outputs": [],
   "source": [
    "from utils.common import (\n",
    "    sigmoid, pad_column_name\n",
    ")\n",
    "from utils.constants import *\n",
    "from utils.eval_helpers import (\n",
    "    plot_roc_curves, plot_feature_importance, \n",
    "    amex_metric, get_final_metric_df, amex_metric_np, lgb_amex_metric\n",
    ")\n",
    "from utils.eda_helpers import (\n",
    "    plot_missing_proportion_barchart, plot_heatmap, plot_target_check,\n",
    "    get_cols, insert_row_number, plot_train_test_distribution\n",
    ")\n",
    "from utils.extraction_helpers import read_file\n",
    "from utils.feature_group import CATEGORY_COLUMNS\n",
    "from utils.preprocess_helpers import clip_col"
   ]
  },
  {
   "cell_type": "code",
   "execution_count": 3,
   "id": "93a23fd1-1dc1-4cdc-af7a-dfd41584887d",
   "metadata": {},
   "outputs": [],
   "source": [
    "from feature_engineering_helpers import feature_gen_pipeline, clip_all, round_all, convert_all"
   ]
  },
  {
   "cell_type": "code",
   "execution_count": 4,
   "id": "67194602-57fc-4e92-9801-8d600e52a5b2",
   "metadata": {},
   "outputs": [],
   "source": [
    "%load_ext autoreload\n",
    "%autoreload"
   ]
  },
  {
   "cell_type": "code",
   "execution_count": 5,
   "id": "570eba73-bbc2-4a0c-8a53-0c16a8009661",
   "metadata": {},
   "outputs": [
    {
     "name": "stdout",
     "output_type": "stream",
     "text": [
      "INFO: Pandarallel will run on 16 workers.\n",
      "INFO: Pandarallel will use standard multiprocessing data transfer (pipe) to transfer data between the main process and workers.\n"
     ]
    }
   ],
   "source": [
    "pandarallel.initialize(nb_workers=16, progress_bar=False, use_memory_fs=False)"
   ]
  },
  {
   "cell_type": "code",
   "execution_count": 6,
   "id": "1f0163b6-0df1-4062-a177-b86c359dc4b7",
   "metadata": {},
   "outputs": [],
   "source": [
    "START = time.time()"
   ]
  },
  {
   "cell_type": "markdown",
   "id": "b4962ceb-f3e9-4522-9a30-129b6d25fae9",
   "metadata": {},
   "source": [
    "### Read Data"
   ]
  },
  {
   "cell_type": "code",
   "execution_count": 7,
   "id": "1cc3552e-35f1-44df-9d7d-2de736acc83c",
   "metadata": {},
   "outputs": [
    {
     "name": "stdout",
     "output_type": "stream",
     "text": [
      "Shape of data: (458913, 2)\n"
     ]
    }
   ],
   "source": [
    "labels = read_file(f\"../{RAW_DATA_PATH}/train_labels.csv\")"
   ]
  },
  {
   "cell_type": "code",
   "execution_count": 8,
   "id": "6735831d-0024-4122-9c7b-1280e519d03e",
   "metadata": {},
   "outputs": [
    {
     "name": "stdout",
     "output_type": "stream",
     "text": [
      "Shape of data: (5531451, 157)\n",
      "Shape of data: (11363762, 156)\n",
      "CPU times: user 4.74 s, sys: 12.6 s, total: 17.4 s\n",
      "Wall time: 23.2 s\n"
     ]
    }
   ],
   "source": [
    "%%time\n",
    "train = read_file(f\"./imputed_train.pkl\")\n",
    "test = read_file(f\"./imputed_test.pkl\")"
   ]
  },
  {
   "cell_type": "markdown",
   "id": "eb238a95-3227-4a2c-b80f-173018484812",
   "metadata": {},
   "source": [
    "### Transform Train Set"
   ]
  },
  {
   "cell_type": "code",
   "execution_count": 9,
   "id": "847d7a60-23e8-4353-8b86-2fa034ba1391",
   "metadata": {},
   "outputs": [
    {
     "name": "stdout",
     "output_type": "stream",
     "text": [
      "Done insertion\n",
      "Average done\n",
      "Minimum done\n",
      "Maximum done\n",
      "Standard Deviation done\n",
      "Last entry done\n",
      "First entry done\n",
      "Second last entry done\n",
      "Third last entry done\n",
      "MA2 for Recency 1 done\n",
      "MA2 for Recency 2 done\n",
      "MA2 for Recency 3 done\n",
      "MA3 for Recency 1 done\n",
      "MA3 for Recency 2 done\n",
      "MA3 for least Recency done\n"
     ]
    },
    {
     "name": "stderr",
     "output_type": "stream",
     "text": [
      "100%|████████████████████████████████████████████████████████████████████████████████████████████████████████████████████████████████████| 143/143 [00:31<00:00,  4.53it/s]"
     ]
    },
    {
     "name": "stdout",
     "output_type": "stream",
     "text": [
      "CPU times: user 52.3 s, sys: 17.1 s, total: 1min 9s\n",
      "Wall time: 1min 13s\n"
     ]
    },
    {
     "name": "stderr",
     "output_type": "stream",
     "text": [
      "\n"
     ]
    }
   ],
   "source": [
    "%%time\n",
    "train_agg, keep_column = feature_gen_pipeline(train)"
   ]
  },
  {
   "cell_type": "code",
   "execution_count": 10,
   "id": "b96e7ed1-41b9-4950-beca-8fc587d69564",
   "metadata": {},
   "outputs": [
    {
     "name": "stdout",
     "output_type": "stream",
     "text": [
      "Size: 11.785740533 GB, Shape: (458913, 4185)\n"
     ]
    }
   ],
   "source": [
    "train_agg[\"target\"] = labels[\"target\"].values\n",
    "print(f\"Size: {sys.getsizeof(train_agg) / 1e9} GB, Shape: {train_agg.shape}\")"
   ]
  },
  {
   "cell_type": "code",
   "execution_count": 11,
   "id": "b19007ba-fcc7-4cbd-8f6a-429074c69240",
   "metadata": {},
   "outputs": [
    {
     "name": "stderr",
     "output_type": "stream",
     "text": [
      "100%|█████████████████████████████████████████████████████████████████████████████████████████████████████████████████████████████████| 2221/2221 [00:20<00:00, 107.35it/s]\n"
     ]
    }
   ],
   "source": [
    "train_agg = convert_all(train_agg)"
   ]
  },
  {
   "cell_type": "code",
   "execution_count": 22,
   "id": "714782fc-684a-4c3b-9afb-fe65d8174831",
   "metadata": {},
   "outputs": [],
   "source": [
    "# m = MinMaxScaler()"
   ]
  },
  {
   "cell_type": "code",
   "execution_count": 7,
   "id": "27b93cfc-5cd9-4b98-89a1-ee17e59a9237",
   "metadata": {},
   "outputs": [
    {
     "name": "stdout",
     "output_type": "stream",
     "text": [
      "Shape of data: (458913, 4186)\n"
     ]
    }
   ],
   "source": [
    "train_agg = read_file(\"./train_agg.pkl\")"
   ]
  },
  {
   "cell_type": "code",
   "execution_count": 15,
   "id": "998e96d4-a743-48a1-9507-4a8688fada31",
   "metadata": {},
   "outputs": [],
   "source": [
    "second_third_last_columns = get_cols(train_agg, [\"second_last\", \"third_last\"])"
   ]
  },
  {
   "cell_type": "code",
   "execution_count": 51,
   "id": "ae60dc9c-f105-45df-9905-be67b5f2de4f",
   "metadata": {},
   "outputs": [],
   "source": [
    "ma_noob_cols = get_cols(train_agg, [\"_ma2_r2\", \"_ma2_r3\", \"ma3_r2\", \"ma2_r1_r3\"])"
   ]
  },
  {
   "cell_type": "code",
   "execution_count": 52,
   "id": "e91cc100-12bf-40a2-a9ae-79ca25d0a567",
   "metadata": {},
   "outputs": [
    {
     "name": "stdout",
     "output_type": "stream",
     "text": [
      "CPU times: user 284 ms, sys: 1.81 s, total: 2.09 s\n",
      "Wall time: 3.21 s\n"
     ]
    }
   ],
   "source": [
    "%%time\n",
    "train_agg.drop(columns=second_third_last_columns + ma_noob_cols, errors=\"ignore\", inplace=True)"
   ]
  },
  {
   "cell_type": "code",
   "execution_count": 53,
   "id": "417e66e6-a9ce-431e-97e0-e4551ebb4c1f",
   "metadata": {},
   "outputs": [
    {
     "data": {
      "text/plain": [
       "(458913, 3310)"
      ]
     },
     "execution_count": 53,
     "metadata": {},
     "output_type": "execute_result"
    }
   ],
   "source": [
    "train_agg.shape"
   ]
  },
  {
   "cell_type": "code",
   "execution_count": 29,
   "id": "f269d2ed-27eb-4f20-8aa5-db88897f8973",
   "metadata": {},
   "outputs": [
    {
     "name": "stdout",
     "output_type": "stream",
     "text": [
      "CPU times: user 1.94 s, sys: 1.83 s, total: 3.78 s\n",
      "Wall time: 5.19 s\n"
     ]
    }
   ],
   "source": [
    "%%time\n",
    "missing = train_agg.isnull().sum()\n",
    "missing_columns = missing[missing > 0].index.tolist()\n",
    "std_cols = get_cols(train_agg, [\"std\"])\n",
    "missing_std_cols = list(set(missing_columns).intersection(std_cols))"
   ]
  },
  {
   "cell_type": "code",
   "execution_count": 30,
   "id": "1fb7cd42-31f4-4d72-892b-8753781f53d4",
   "metadata": {},
   "outputs": [
    {
     "name": "stderr",
     "output_type": "stream",
     "text": [
      "100%|██████████████████████████████████████████████████████████████████████████████████████████████████████████████████████████████████████| 90/90 [06:32<00:00,  4.36s/it]\n"
     ]
    }
   ],
   "source": [
    "for col in tqdm(missing_std_cols):\n",
    "    train_agg[col] = train_agg[col].fillna(0)"
   ]
  },
  {
   "cell_type": "code",
   "execution_count": 61,
   "id": "207d0ce6-a088-4a37-9f63-e2f0107a0e4e",
   "metadata": {},
   "outputs": [
    {
     "name": "stdout",
     "output_type": "stream",
     "text": [
      "CPU times: user 1.7 s, sys: 1.25 s, total: 2.95 s\n",
      "Wall time: 3.75 s\n"
     ]
    }
   ],
   "source": [
    "%%time\n",
    "missing = train_agg.isnull().sum()\n",
    "missing_columns = missing[missing > 0].index.tolist()"
   ]
  },
  {
   "cell_type": "code",
   "execution_count": 62,
   "id": "604c67bb-3c12-4557-afb2-747bad46d415",
   "metadata": {},
   "outputs": [
    {
     "data": {
      "text/plain": [
       "860"
      ]
     },
     "execution_count": 62,
     "metadata": {},
     "output_type": "execute_result"
    }
   ],
   "source": [
    "len(missing_columns)"
   ]
  },
  {
   "cell_type": "code",
   "execution_count": 63,
   "id": "cd655ed5-8f73-4448-b608-651be9de2a94",
   "metadata": {},
   "outputs": [
    {
     "name": "stderr",
     "output_type": "stream",
     "text": [
      "100%|████████████████████████████████████████████████████████████████████████████████████████████████████████████████████████████████████| 860/860 [28:07<00:00,  1.96s/it]\n"
     ]
    }
   ],
   "source": [
    "for col in tqdm(missing_columns):\n",
    "    try:\n",
    "        train_agg[col] = train_agg[col].fillna(train_agg[col].mean())\n",
    "    except:\n",
    "        train_agg[col] = train_agg[col].fillna(train_agg[col].mode()[0])"
   ]
  },
  {
   "cell_type": "code",
   "execution_count": 64,
   "id": "7c160353-8067-4b32-a9d9-f0a7d5049ed1",
   "metadata": {},
   "outputs": [],
   "source": [
    "train_agg.to_pickle(\"./train_agg.pkl\")"
   ]
  },
  {
   "cell_type": "code",
   "execution_count": 67,
   "id": "3ca6c37c-0f0f-4db9-9be2-39bd8bd698f2",
   "metadata": {},
   "outputs": [],
   "source": [
    "# del train_agg, train"
   ]
  },
  {
   "cell_type": "code",
   "execution_count": 68,
   "id": "22385f85-710d-4458-a3a5-53cd22015304",
   "metadata": {},
   "outputs": [
    {
     "data": {
      "text/plain": [
       "21398"
      ]
     },
     "execution_count": 68,
     "metadata": {},
     "output_type": "execute_result"
    }
   ],
   "source": [
    "gc.collect()"
   ]
  },
  {
   "cell_type": "markdown",
   "id": "df9a3004-ad6f-454f-9b69-9947455decde",
   "metadata": {},
   "source": [
    "### Transform Test"
   ]
  },
  {
   "cell_type": "code",
   "execution_count": 18,
   "id": "d3bddade-5f22-4e37-9378-76a542211dbd",
   "metadata": {},
   "outputs": [
    {
     "name": "stdout",
     "output_type": "stream",
     "text": [
      "Done insertion\n",
      "Average done\n",
      "Minimum done\n",
      "Maximum done\n",
      "Standard Deviation done\n",
      "Last entry done\n",
      "First entry done\n",
      "Second last entry done\n",
      "Third last entry done\n",
      "MA2 for Recency 1 done\n",
      "MA2 for Recency 2 done\n",
      "MA2 for Recency 3 done\n",
      "MA3 for Recency 1 done\n",
      "MA3 for Recency 2 done\n",
      "MA3 for least Recency done\n"
     ]
    },
    {
     "name": "stderr",
     "output_type": "stream",
     "text": [
      "100%|████████████████████████████████████████████████████████████████████████████████████████████████████████████████████████████████████| 143/143 [00:53<00:00,  2.66it/s]"
     ]
    },
    {
     "name": "stdout",
     "output_type": "stream",
     "text": [
      "CPU times: user 1min 40s, sys: 1min 10s, total: 2min 50s\n",
      "Wall time: 3min 42s\n"
     ]
    },
    {
     "name": "stderr",
     "output_type": "stream",
     "text": [
      "\n"
     ]
    }
   ],
   "source": [
    "%%time\n",
    "test_agg, keep_column = feature_gen_pipeline(test)"
   ]
  },
  {
   "cell_type": "code",
   "execution_count": 19,
   "id": "806726ad-3833-4b2a-974e-faa0c953d20d",
   "metadata": {},
   "outputs": [
    {
     "name": "stdout",
     "output_type": "stream",
     "text": [
      "Size: 23.760524417 GB, Shape: (924621, 4184)\n"
     ]
    }
   ],
   "source": [
    "print(f\"Size: {sys.getsizeof(test_agg) / 1e9} GB, Shape: {test_agg.shape}\")"
   ]
  },
  {
   "cell_type": "code",
   "execution_count": 20,
   "id": "e4950131-7d2c-4b39-9bb4-d210c64b8818",
   "metadata": {},
   "outputs": [
    {
     "name": "stderr",
     "output_type": "stream",
     "text": [
      "100%|██████████████████████████████████████████████████████████████████████████████████████████████████████████████████████████████████| 2227/2227 [00:46<00:00, 48.01it/s]\n"
     ]
    }
   ],
   "source": [
    "test_agg = convert_all(test_agg)"
   ]
  },
  {
   "cell_type": "code",
   "execution_count": 69,
   "id": "08f811ad-5eb2-450f-98a0-7e918b017645",
   "metadata": {},
   "outputs": [
    {
     "name": "stdout",
     "output_type": "stream",
     "text": [
      "Shape of data: (924621, 4184)\n"
     ]
    }
   ],
   "source": [
    "%%time\n",
    "test_agg = read_file(\"./test_agg.pkl\")"
   ]
  },
  {
   "cell_type": "code",
   "execution_count": 70,
   "id": "00b5c9df-3cf7-440c-8fbd-8560af41ae40",
   "metadata": {},
   "outputs": [],
   "source": [
    "second_third_last_columns = get_cols(test_agg, [\"second_last\", \"third_last\"])"
   ]
  },
  {
   "cell_type": "code",
   "execution_count": 71,
   "id": "7b5011df-bd10-4716-ad4c-c018863a0c7b",
   "metadata": {},
   "outputs": [],
   "source": [
    "ma_noob_cols = get_cols(test_agg, [\"_ma2_r2\", \"_ma2_r3\", \"ma3_r2\", \"ma2_r1_r3\"])"
   ]
  },
  {
   "cell_type": "code",
   "execution_count": 72,
   "id": "86ea54f3-5155-449b-b277-e9ccba0f67e5",
   "metadata": {},
   "outputs": [
    {
     "name": "stdout",
     "output_type": "stream",
     "text": [
      "CPU times: user 696 ms, sys: 4.88 s, total: 5.58 s\n",
      "Wall time: 10.1 s\n"
     ]
    }
   ],
   "source": [
    "%%time\n",
    "test_agg.drop(columns=second_third_last_columns + ma_noob_cols, errors=\"ignore\", inplace=True)"
   ]
  },
  {
   "cell_type": "code",
   "execution_count": 73,
   "id": "200d329a-5710-47aa-b13a-d10db659ac35",
   "metadata": {},
   "outputs": [
    {
     "data": {
      "text/plain": [
       "(924621, 3308)"
      ]
     },
     "execution_count": 73,
     "metadata": {},
     "output_type": "execute_result"
    }
   ],
   "source": [
    "test_agg.shape"
   ]
  },
  {
   "cell_type": "code",
   "execution_count": 75,
   "id": "d09767e6-e1ef-4150-b7ef-604a4044b558",
   "metadata": {},
   "outputs": [
    {
     "name": "stdout",
     "output_type": "stream",
     "text": [
      "CPU times: user 3.25 s, sys: 2.52 s, total: 5.77 s\n",
      "Wall time: 6.99 s\n"
     ]
    }
   ],
   "source": [
    "%%time\n",
    "missing = test_agg.isnull().sum()\n",
    "missing_columns = missing[missing > 0].index.tolist()\n",
    "std_cols = get_cols(test_agg, [\"std\"])\n",
    "missing_std_cols = list(set(missing_columns).intersection(std_cols))"
   ]
  },
  {
   "cell_type": "code",
   "execution_count": 76,
   "id": "19d1dd70-c24a-4e17-a858-5635dc3bf843",
   "metadata": {},
   "outputs": [
    {
     "name": "stderr",
     "output_type": "stream",
     "text": [
      "100%|████████████████████████████████████████████████████████████████████████████████████████████████████████████████████████████████████| 143/143 [21:42<00:00,  9.11s/it]\n"
     ]
    }
   ],
   "source": [
    "for col in tqdm(missing_std_cols):\n",
    "    test_agg[col] = test_agg[col].fillna(0)"
   ]
  },
  {
   "cell_type": "code",
   "execution_count": 77,
   "id": "023bb2c1-5a08-4b45-9e4a-c6e4ab4073bc",
   "metadata": {},
   "outputs": [
    {
     "name": "stdout",
     "output_type": "stream",
     "text": [
      "CPU times: user 3.5 s, sys: 5.69 s, total: 9.19 s\n",
      "Wall time: 24.8 s\n"
     ]
    }
   ],
   "source": [
    "%%time\n",
    "missing = test_agg.isnull().sum()\n",
    "missing_columns = missing[missing > 0].index.tolist()"
   ]
  },
  {
   "cell_type": "code",
   "execution_count": 78,
   "id": "d2678785-e6ef-469a-acd8-be40d9213f39",
   "metadata": {},
   "outputs": [
    {
     "data": {
      "text/plain": [
       "1020"
      ]
     },
     "execution_count": 78,
     "metadata": {},
     "output_type": "execute_result"
    }
   ],
   "source": [
    "len(missing_columns)"
   ]
  },
  {
   "cell_type": "code",
   "execution_count": 79,
   "id": "8ca803b3-7f01-4582-8be3-c5bc5da58aa5",
   "metadata": {},
   "outputs": [
    {
     "name": "stderr",
     "output_type": "stream",
     "text": [
      " 30%|██████████████████████████████████████▏                                                                                          | 302/1020 [36:19<1:26:20,  7.22s/it]\n"
     ]
    },
    {
     "ename": "KeyboardInterrupt",
     "evalue": "",
     "output_type": "error",
     "traceback": [
      "\u001b[0;31m---------------------------------------------------------------------------\u001b[0m",
      "\u001b[0;31mKeyboardInterrupt\u001b[0m                         Traceback (most recent call last)",
      "Input \u001b[0;32mIn [79]\u001b[0m, in \u001b[0;36m<cell line: 1>\u001b[0;34m()\u001b[0m\n\u001b[1;32m      2\u001b[0m \u001b[38;5;28;01mtry\u001b[39;00m:\n\u001b[0;32m----> 3\u001b[0m     test_agg[col] \u001b[38;5;241m=\u001b[39m test_agg[col]\u001b[38;5;241m.\u001b[39mfillna(test_agg[col]\u001b[38;5;241m.\u001b[39mmean())\n\u001b[1;32m      4\u001b[0m \u001b[38;5;28;01mexcept\u001b[39;00m:\n",
      "File \u001b[0;32m~/miniconda3/envs/amex/lib/python3.10/site-packages/pandas/core/frame.py:3655\u001b[0m, in \u001b[0;36mDataFrame.__setitem__\u001b[0;34m(self, key, value)\u001b[0m\n\u001b[1;32m   3653\u001b[0m \u001b[38;5;28;01melse\u001b[39;00m:\n\u001b[1;32m   3654\u001b[0m     \u001b[38;5;66;03m# set column\u001b[39;00m\n\u001b[0;32m-> 3655\u001b[0m     \u001b[38;5;28;43mself\u001b[39;49m\u001b[38;5;241;43m.\u001b[39;49m\u001b[43m_set_item\u001b[49m\u001b[43m(\u001b[49m\u001b[43mkey\u001b[49m\u001b[43m,\u001b[49m\u001b[43m \u001b[49m\u001b[43mvalue\u001b[49m\u001b[43m)\u001b[49m\n",
      "File \u001b[0;32m~/miniconda3/envs/amex/lib/python3.10/site-packages/pandas/core/frame.py:3845\u001b[0m, in \u001b[0;36mDataFrame._set_item\u001b[0;34m(self, key, value)\u001b[0m\n\u001b[1;32m   3843\u001b[0m             value \u001b[38;5;241m=\u001b[39m np\u001b[38;5;241m.\u001b[39mtile(value, (\u001b[38;5;28mlen\u001b[39m(existing_piece\u001b[38;5;241m.\u001b[39mcolumns), \u001b[38;5;241m1\u001b[39m))\u001b[38;5;241m.\u001b[39mT\n\u001b[0;32m-> 3845\u001b[0m \u001b[38;5;28;43mself\u001b[39;49m\u001b[38;5;241;43m.\u001b[39;49m\u001b[43m_set_item_mgr\u001b[49m\u001b[43m(\u001b[49m\u001b[43mkey\u001b[49m\u001b[43m,\u001b[49m\u001b[43m \u001b[49m\u001b[43mvalue\u001b[49m\u001b[43m)\u001b[49m\n",
      "File \u001b[0;32m~/miniconda3/envs/amex/lib/python3.10/site-packages/pandas/core/frame.py:3804\u001b[0m, in \u001b[0;36mDataFrame._set_item_mgr\u001b[0;34m(self, key, value)\u001b[0m\n\u001b[1;32m   3803\u001b[0m \u001b[38;5;28;01melse\u001b[39;00m:\n\u001b[0;32m-> 3804\u001b[0m     \u001b[38;5;28;43mself\u001b[39;49m\u001b[38;5;241;43m.\u001b[39;49m\u001b[43m_iset_item_mgr\u001b[49m\u001b[43m(\u001b[49m\u001b[43mloc\u001b[49m\u001b[43m,\u001b[49m\u001b[43m \u001b[49m\u001b[43mvalue\u001b[49m\u001b[43m)\u001b[49m\n\u001b[1;32m   3806\u001b[0m \u001b[38;5;66;03m# check if we are modifying a copy\u001b[39;00m\n\u001b[1;32m   3807\u001b[0m \u001b[38;5;66;03m# try to set first as we want an invalid\u001b[39;00m\n\u001b[1;32m   3808\u001b[0m \u001b[38;5;66;03m# value exception to occur first\u001b[39;00m\n",
      "File \u001b[0;32m~/miniconda3/envs/amex/lib/python3.10/site-packages/pandas/core/frame.py:3794\u001b[0m, in \u001b[0;36mDataFrame._iset_item_mgr\u001b[0;34m(self, loc, value, inplace)\u001b[0m\n\u001b[1;32m   3790\u001b[0m \u001b[38;5;28;01mdef\u001b[39;00m \u001b[38;5;21m_iset_item_mgr\u001b[39m(\n\u001b[1;32m   3791\u001b[0m     \u001b[38;5;28mself\u001b[39m, loc: \u001b[38;5;28mint\u001b[39m \u001b[38;5;241m|\u001b[39m \u001b[38;5;28mslice\u001b[39m \u001b[38;5;241m|\u001b[39m np\u001b[38;5;241m.\u001b[39mndarray, value, inplace: \u001b[38;5;28mbool\u001b[39m \u001b[38;5;241m=\u001b[39m \u001b[38;5;28;01mFalse\u001b[39;00m\n\u001b[1;32m   3792\u001b[0m ) \u001b[38;5;241m-\u001b[39m\u001b[38;5;241m>\u001b[39m \u001b[38;5;28;01mNone\u001b[39;00m:\n\u001b[1;32m   3793\u001b[0m     \u001b[38;5;66;03m# when called from _set_item_mgr loc can be anything returned from get_loc\u001b[39;00m\n\u001b[0;32m-> 3794\u001b[0m     \u001b[38;5;28;43mself\u001b[39;49m\u001b[38;5;241;43m.\u001b[39;49m\u001b[43m_mgr\u001b[49m\u001b[38;5;241;43m.\u001b[39;49m\u001b[43miset\u001b[49m\u001b[43m(\u001b[49m\u001b[43mloc\u001b[49m\u001b[43m,\u001b[49m\u001b[43m \u001b[49m\u001b[43mvalue\u001b[49m\u001b[43m,\u001b[49m\u001b[43m \u001b[49m\u001b[43minplace\u001b[49m\u001b[38;5;241;43m=\u001b[39;49m\u001b[43minplace\u001b[49m\u001b[43m)\u001b[49m\n\u001b[1;32m   3795\u001b[0m     \u001b[38;5;28mself\u001b[39m\u001b[38;5;241m.\u001b[39m_clear_item_cache()\n",
      "File \u001b[0;32m~/miniconda3/envs/amex/lib/python3.10/site-packages/pandas/core/internals/managers.py:1141\u001b[0m, in \u001b[0;36mBlockManager.iset\u001b[0;34m(self, loc, value, inplace)\u001b[0m\n\u001b[1;32m   1140\u001b[0m \u001b[38;5;28;01melse\u001b[39;00m:\n\u001b[0;32m-> 1141\u001b[0m     \u001b[43mblk\u001b[49m\u001b[38;5;241;43m.\u001b[39;49m\u001b[43mdelete\u001b[49m\u001b[43m(\u001b[49m\u001b[43mblk_locs\u001b[49m\u001b[43m)\u001b[49m\n\u001b[1;32m   1142\u001b[0m     \u001b[38;5;28mself\u001b[39m\u001b[38;5;241m.\u001b[39m_blklocs[blk\u001b[38;5;241m.\u001b[39mmgr_locs\u001b[38;5;241m.\u001b[39mindexer] \u001b[38;5;241m=\u001b[39m np\u001b[38;5;241m.\u001b[39marange(\u001b[38;5;28mlen\u001b[39m(blk))\n",
      "File \u001b[0;32m~/miniconda3/envs/amex/lib/python3.10/site-packages/pandas/core/internals/blocks.py:388\u001b[0m, in \u001b[0;36mBlock.delete\u001b[0;34m(self, loc)\u001b[0m\n\u001b[1;32m    382\u001b[0m \u001b[38;5;66;03m# Argument 1 to \"delete\" has incompatible type \"Union[ndarray[Any, Any],\u001b[39;00m\n\u001b[1;32m    383\u001b[0m \u001b[38;5;66;03m# ExtensionArray]\"; expected \"Union[_SupportsArray[dtype[Any]],\u001b[39;00m\n\u001b[1;32m    384\u001b[0m \u001b[38;5;66;03m# Sequence[_SupportsArray[dtype[Any]]], Sequence[Sequence\u001b[39;00m\n\u001b[1;32m    385\u001b[0m \u001b[38;5;66;03m# [_SupportsArray[dtype[Any]]]], Sequence[Sequence[Sequence[\u001b[39;00m\n\u001b[1;32m    386\u001b[0m \u001b[38;5;66;03m# _SupportsArray[dtype[Any]]]]], Sequence[Sequence[Sequence[Sequence[\u001b[39;00m\n\u001b[1;32m    387\u001b[0m \u001b[38;5;66;03m# _SupportsArray[dtype[Any]]]]]]]\"  [arg-type]\u001b[39;00m\n\u001b[0;32m--> 388\u001b[0m \u001b[38;5;28mself\u001b[39m\u001b[38;5;241m.\u001b[39mvalues \u001b[38;5;241m=\u001b[39m \u001b[43mnp\u001b[49m\u001b[38;5;241;43m.\u001b[39;49m\u001b[43mdelete\u001b[49m\u001b[43m(\u001b[49m\u001b[38;5;28;43mself\u001b[39;49m\u001b[38;5;241;43m.\u001b[39;49m\u001b[43mvalues\u001b[49m\u001b[43m,\u001b[49m\u001b[43m \u001b[49m\u001b[43mloc\u001b[49m\u001b[43m,\u001b[49m\u001b[43m \u001b[49m\u001b[38;5;241;43m0\u001b[39;49m\u001b[43m)\u001b[49m  \u001b[38;5;66;03m# type: ignore[arg-type]\u001b[39;00m\n\u001b[1;32m    389\u001b[0m \u001b[38;5;28mself\u001b[39m\u001b[38;5;241m.\u001b[39mmgr_locs \u001b[38;5;241m=\u001b[39m \u001b[38;5;28mself\u001b[39m\u001b[38;5;241m.\u001b[39m_mgr_locs\u001b[38;5;241m.\u001b[39mdelete(loc)\n",
      "File \u001b[0;32m<__array_function__ internals>:180\u001b[0m, in \u001b[0;36mdelete\u001b[0;34m(*args, **kwargs)\u001b[0m\n",
      "File \u001b[0;32m~/miniconda3/envs/amex/lib/python3.10/site-packages/numpy/lib/function_base.py:5133\u001b[0m, in \u001b[0;36mdelete\u001b[0;34m(arr, obj, axis)\u001b[0m\n\u001b[1;32m   5131\u001b[0m     new \u001b[38;5;241m=\u001b[39m arr[\u001b[38;5;28mtuple\u001b[39m(slobj)]\n\u001b[0;32m-> 5133\u001b[0m \u001b[38;5;28;01mif\u001b[39;00m wrap:\n\u001b[1;32m   5134\u001b[0m     \u001b[38;5;28;01mreturn\u001b[39;00m wrap(new)\n",
      "\u001b[0;31mKeyboardInterrupt\u001b[0m: ",
      "\nDuring handling of the above exception, another exception occurred:\n",
      "\u001b[0;31mKeyboardInterrupt\u001b[0m                         Traceback (most recent call last)",
      "Input \u001b[0;32mIn [79]\u001b[0m, in \u001b[0;36m<cell line: 1>\u001b[0;34m()\u001b[0m\n\u001b[1;32m      3\u001b[0m     test_agg[col] \u001b[38;5;241m=\u001b[39m test_agg[col]\u001b[38;5;241m.\u001b[39mfillna(test_agg[col]\u001b[38;5;241m.\u001b[39mmean())\n\u001b[1;32m      4\u001b[0m \u001b[38;5;28;01mexcept\u001b[39;00m:\n\u001b[0;32m----> 5\u001b[0m     test_agg[col] \u001b[38;5;241m=\u001b[39m test_agg[col]\u001b[38;5;241m.\u001b[39mfillna(test_agg[col]\u001b[38;5;241m.\u001b[39mmode()[\u001b[38;5;241m0\u001b[39m])\n",
      "File \u001b[0;32m~/miniconda3/envs/amex/lib/python3.10/site-packages/pandas/core/frame.py:3655\u001b[0m, in \u001b[0;36mDataFrame.__setitem__\u001b[0;34m(self, key, value)\u001b[0m\n\u001b[1;32m   3652\u001b[0m     \u001b[38;5;28mself\u001b[39m\u001b[38;5;241m.\u001b[39m_setitem_array([key], value)\n\u001b[1;32m   3653\u001b[0m \u001b[38;5;28;01melse\u001b[39;00m:\n\u001b[1;32m   3654\u001b[0m     \u001b[38;5;66;03m# set column\u001b[39;00m\n\u001b[0;32m-> 3655\u001b[0m     \u001b[38;5;28;43mself\u001b[39;49m\u001b[38;5;241;43m.\u001b[39;49m\u001b[43m_set_item\u001b[49m\u001b[43m(\u001b[49m\u001b[43mkey\u001b[49m\u001b[43m,\u001b[49m\u001b[43m \u001b[49m\u001b[43mvalue\u001b[49m\u001b[43m)\u001b[49m\n",
      "File \u001b[0;32m~/miniconda3/envs/amex/lib/python3.10/site-packages/pandas/core/frame.py:3845\u001b[0m, in \u001b[0;36mDataFrame._set_item\u001b[0;34m(self, key, value)\u001b[0m\n\u001b[1;32m   3842\u001b[0m         \u001b[38;5;28;01mif\u001b[39;00m \u001b[38;5;28misinstance\u001b[39m(existing_piece, DataFrame):\n\u001b[1;32m   3843\u001b[0m             value \u001b[38;5;241m=\u001b[39m np\u001b[38;5;241m.\u001b[39mtile(value, (\u001b[38;5;28mlen\u001b[39m(existing_piece\u001b[38;5;241m.\u001b[39mcolumns), \u001b[38;5;241m1\u001b[39m))\u001b[38;5;241m.\u001b[39mT\n\u001b[0;32m-> 3845\u001b[0m \u001b[38;5;28;43mself\u001b[39;49m\u001b[38;5;241;43m.\u001b[39;49m\u001b[43m_set_item_mgr\u001b[49m\u001b[43m(\u001b[49m\u001b[43mkey\u001b[49m\u001b[43m,\u001b[49m\u001b[43m \u001b[49m\u001b[43mvalue\u001b[49m\u001b[43m)\u001b[49m\n",
      "File \u001b[0;32m~/miniconda3/envs/amex/lib/python3.10/site-packages/pandas/core/frame.py:3804\u001b[0m, in \u001b[0;36mDataFrame._set_item_mgr\u001b[0;34m(self, key, value)\u001b[0m\n\u001b[1;32m   3802\u001b[0m     \u001b[38;5;28mself\u001b[39m\u001b[38;5;241m.\u001b[39m_mgr\u001b[38;5;241m.\u001b[39minsert(\u001b[38;5;28mlen\u001b[39m(\u001b[38;5;28mself\u001b[39m\u001b[38;5;241m.\u001b[39m_info_axis), key, value)\n\u001b[1;32m   3803\u001b[0m \u001b[38;5;28;01melse\u001b[39;00m:\n\u001b[0;32m-> 3804\u001b[0m     \u001b[38;5;28;43mself\u001b[39;49m\u001b[38;5;241;43m.\u001b[39;49m\u001b[43m_iset_item_mgr\u001b[49m\u001b[43m(\u001b[49m\u001b[43mloc\u001b[49m\u001b[43m,\u001b[49m\u001b[43m \u001b[49m\u001b[43mvalue\u001b[49m\u001b[43m)\u001b[49m\n\u001b[1;32m   3806\u001b[0m \u001b[38;5;66;03m# check if we are modifying a copy\u001b[39;00m\n\u001b[1;32m   3807\u001b[0m \u001b[38;5;66;03m# try to set first as we want an invalid\u001b[39;00m\n\u001b[1;32m   3808\u001b[0m \u001b[38;5;66;03m# value exception to occur first\u001b[39;00m\n\u001b[1;32m   3809\u001b[0m \u001b[38;5;28;01mif\u001b[39;00m \u001b[38;5;28mlen\u001b[39m(\u001b[38;5;28mself\u001b[39m):\n",
      "File \u001b[0;32m~/miniconda3/envs/amex/lib/python3.10/site-packages/pandas/core/frame.py:3794\u001b[0m, in \u001b[0;36mDataFrame._iset_item_mgr\u001b[0;34m(self, loc, value, inplace)\u001b[0m\n\u001b[1;32m   3790\u001b[0m \u001b[38;5;28;01mdef\u001b[39;00m \u001b[38;5;21m_iset_item_mgr\u001b[39m(\n\u001b[1;32m   3791\u001b[0m     \u001b[38;5;28mself\u001b[39m, loc: \u001b[38;5;28mint\u001b[39m \u001b[38;5;241m|\u001b[39m \u001b[38;5;28mslice\u001b[39m \u001b[38;5;241m|\u001b[39m np\u001b[38;5;241m.\u001b[39mndarray, value, inplace: \u001b[38;5;28mbool\u001b[39m \u001b[38;5;241m=\u001b[39m \u001b[38;5;28;01mFalse\u001b[39;00m\n\u001b[1;32m   3792\u001b[0m ) \u001b[38;5;241m-\u001b[39m\u001b[38;5;241m>\u001b[39m \u001b[38;5;28;01mNone\u001b[39;00m:\n\u001b[1;32m   3793\u001b[0m     \u001b[38;5;66;03m# when called from _set_item_mgr loc can be anything returned from get_loc\u001b[39;00m\n\u001b[0;32m-> 3794\u001b[0m     \u001b[38;5;28;43mself\u001b[39;49m\u001b[38;5;241;43m.\u001b[39;49m\u001b[43m_mgr\u001b[49m\u001b[38;5;241;43m.\u001b[39;49m\u001b[43miset\u001b[49m\u001b[43m(\u001b[49m\u001b[43mloc\u001b[49m\u001b[43m,\u001b[49m\u001b[43m \u001b[49m\u001b[43mvalue\u001b[49m\u001b[43m,\u001b[49m\u001b[43m \u001b[49m\u001b[43minplace\u001b[49m\u001b[38;5;241;43m=\u001b[39;49m\u001b[43minplace\u001b[49m\u001b[43m)\u001b[49m\n\u001b[1;32m   3795\u001b[0m     \u001b[38;5;28mself\u001b[39m\u001b[38;5;241m.\u001b[39m_clear_item_cache()\n",
      "File \u001b[0;32m~/miniconda3/envs/amex/lib/python3.10/site-packages/pandas/core/internals/managers.py:1141\u001b[0m, in \u001b[0;36mBlockManager.iset\u001b[0;34m(self, loc, value, inplace)\u001b[0m\n\u001b[1;32m   1139\u001b[0m             removed_blknos\u001b[38;5;241m.\u001b[39mappend(blkno_l)\n\u001b[1;32m   1140\u001b[0m         \u001b[38;5;28;01melse\u001b[39;00m:\n\u001b[0;32m-> 1141\u001b[0m             \u001b[43mblk\u001b[49m\u001b[38;5;241;43m.\u001b[39;49m\u001b[43mdelete\u001b[49m\u001b[43m(\u001b[49m\u001b[43mblk_locs\u001b[49m\u001b[43m)\u001b[49m\n\u001b[1;32m   1142\u001b[0m             \u001b[38;5;28mself\u001b[39m\u001b[38;5;241m.\u001b[39m_blklocs[blk\u001b[38;5;241m.\u001b[39mmgr_locs\u001b[38;5;241m.\u001b[39mindexer] \u001b[38;5;241m=\u001b[39m np\u001b[38;5;241m.\u001b[39marange(\u001b[38;5;28mlen\u001b[39m(blk))\n\u001b[1;32m   1144\u001b[0m \u001b[38;5;28;01mif\u001b[39;00m \u001b[38;5;28mlen\u001b[39m(removed_blknos):\n\u001b[1;32m   1145\u001b[0m     \u001b[38;5;66;03m# Remove blocks & update blknos accordingly\u001b[39;00m\n",
      "File \u001b[0;32m~/miniconda3/envs/amex/lib/python3.10/site-packages/pandas/core/internals/blocks.py:388\u001b[0m, in \u001b[0;36mBlock.delete\u001b[0;34m(self, loc)\u001b[0m\n\u001b[1;32m    379\u001b[0m \u001b[38;5;124;03m\"\"\"\u001b[39;00m\n\u001b[1;32m    380\u001b[0m \u001b[38;5;124;03mDelete given loc(-s) from block in-place.\u001b[39;00m\n\u001b[1;32m    381\u001b[0m \u001b[38;5;124;03m\"\"\"\u001b[39;00m\n\u001b[1;32m    382\u001b[0m \u001b[38;5;66;03m# Argument 1 to \"delete\" has incompatible type \"Union[ndarray[Any, Any],\u001b[39;00m\n\u001b[1;32m    383\u001b[0m \u001b[38;5;66;03m# ExtensionArray]\"; expected \"Union[_SupportsArray[dtype[Any]],\u001b[39;00m\n\u001b[1;32m    384\u001b[0m \u001b[38;5;66;03m# Sequence[_SupportsArray[dtype[Any]]], Sequence[Sequence\u001b[39;00m\n\u001b[1;32m    385\u001b[0m \u001b[38;5;66;03m# [_SupportsArray[dtype[Any]]]], Sequence[Sequence[Sequence[\u001b[39;00m\n\u001b[1;32m    386\u001b[0m \u001b[38;5;66;03m# _SupportsArray[dtype[Any]]]]], Sequence[Sequence[Sequence[Sequence[\u001b[39;00m\n\u001b[1;32m    387\u001b[0m \u001b[38;5;66;03m# _SupportsArray[dtype[Any]]]]]]]\"  [arg-type]\u001b[39;00m\n\u001b[0;32m--> 388\u001b[0m \u001b[38;5;28mself\u001b[39m\u001b[38;5;241m.\u001b[39mvalues \u001b[38;5;241m=\u001b[39m \u001b[43mnp\u001b[49m\u001b[38;5;241;43m.\u001b[39;49m\u001b[43mdelete\u001b[49m\u001b[43m(\u001b[49m\u001b[38;5;28;43mself\u001b[39;49m\u001b[38;5;241;43m.\u001b[39;49m\u001b[43mvalues\u001b[49m\u001b[43m,\u001b[49m\u001b[43m \u001b[49m\u001b[43mloc\u001b[49m\u001b[43m,\u001b[49m\u001b[43m \u001b[49m\u001b[38;5;241;43m0\u001b[39;49m\u001b[43m)\u001b[49m  \u001b[38;5;66;03m# type: ignore[arg-type]\u001b[39;00m\n\u001b[1;32m    389\u001b[0m \u001b[38;5;28mself\u001b[39m\u001b[38;5;241m.\u001b[39mmgr_locs \u001b[38;5;241m=\u001b[39m \u001b[38;5;28mself\u001b[39m\u001b[38;5;241m.\u001b[39m_mgr_locs\u001b[38;5;241m.\u001b[39mdelete(loc)\n\u001b[1;32m    390\u001b[0m \u001b[38;5;28;01mtry\u001b[39;00m:\n",
      "File \u001b[0;32m<__array_function__ internals>:180\u001b[0m, in \u001b[0;36mdelete\u001b[0;34m(*args, **kwargs)\u001b[0m\n",
      "File \u001b[0;32m~/miniconda3/envs/amex/lib/python3.10/site-packages/numpy/lib/function_base.py:5133\u001b[0m, in \u001b[0;36mdelete\u001b[0;34m(arr, obj, axis)\u001b[0m\n\u001b[1;32m   5130\u001b[0m     slobj[axis] \u001b[38;5;241m=\u001b[39m keep\n\u001b[1;32m   5131\u001b[0m     new \u001b[38;5;241m=\u001b[39m arr[\u001b[38;5;28mtuple\u001b[39m(slobj)]\n\u001b[0;32m-> 5133\u001b[0m \u001b[38;5;28;01mif\u001b[39;00m wrap:\n\u001b[1;32m   5134\u001b[0m     \u001b[38;5;28;01mreturn\u001b[39;00m wrap(new)\n\u001b[1;32m   5135\u001b[0m \u001b[38;5;28;01melse\u001b[39;00m:\n",
      "\u001b[0;31mKeyboardInterrupt\u001b[0m: "
     ]
    }
   ],
   "source": [
    "for col in tqdm(missing_columns):\n",
    "    try:\n",
    "        test_agg[col] = test_agg[col].fillna(test_agg[col].mean())\n",
    "    except:\n",
    "        test_agg[col] = test_agg[col].fillna(test_agg[col].mode()[0])"
   ]
  },
  {
   "cell_type": "code",
   "execution_count": 81,
   "id": "aea79ada-aff5-4134-8ec0-a97ae12cc001",
   "metadata": {},
   "outputs": [],
   "source": [
    "test_agg.to_pickle(\"./test_agg.pkl\")"
   ]
  },
  {
   "cell_type": "code",
   "execution_count": 80,
   "id": "9a85f1fd-fab7-45e9-885f-35cf65ebc409",
   "metadata": {},
   "outputs": [
    {
     "data": {
      "text/html": [
       "<div>\n",
       "<style scoped>\n",
       "    .dataframe tbody tr th:only-of-type {\n",
       "        vertical-align: middle;\n",
       "    }\n",
       "\n",
       "    .dataframe tbody tr th {\n",
       "        vertical-align: top;\n",
       "    }\n",
       "\n",
       "    .dataframe thead th {\n",
       "        text-align: right;\n",
       "    }\n",
       "</style>\n",
       "<table border=\"1\" class=\"dataframe\">\n",
       "  <thead>\n",
       "    <tr style=\"text-align: right;\">\n",
       "      <th></th>\n",
       "      <th>P_2_last</th>\n",
       "      <th>S_3_last</th>\n",
       "      <th>P_3_last</th>\n",
       "      <th>S_5_last</th>\n",
       "      <th>S_6_last</th>\n",
       "      <th>S_7_last</th>\n",
       "      <th>S_8_last</th>\n",
       "      <th>S_12_last</th>\n",
       "      <th>S_13_last</th>\n",
       "      <th>S_15_last</th>\n",
       "      <th>...</th>\n",
       "      <th>D_111_previous_sprint</th>\n",
       "      <th>D_111_acceleration</th>\n",
       "      <th>D_111_range</th>\n",
       "      <th>D_111_displacement</th>\n",
       "      <th>D_111_displacement_ratio</th>\n",
       "      <th>D_111_velocity</th>\n",
       "      <th>D_111_last_minus_avg</th>\n",
       "      <th>D_111_last_minus_midpoint</th>\n",
       "      <th>D_111_coef_var</th>\n",
       "      <th>D_111_trend_index</th>\n",
       "    </tr>\n",
       "    <tr>\n",
       "      <th>customer_ID</th>\n",
       "      <th></th>\n",
       "      <th></th>\n",
       "      <th></th>\n",
       "      <th></th>\n",
       "      <th></th>\n",
       "      <th></th>\n",
       "      <th></th>\n",
       "      <th></th>\n",
       "      <th></th>\n",
       "      <th></th>\n",
       "      <th></th>\n",
       "      <th></th>\n",
       "      <th></th>\n",
       "      <th></th>\n",
       "      <th></th>\n",
       "      <th></th>\n",
       "      <th></th>\n",
       "      <th></th>\n",
       "      <th></th>\n",
       "      <th></th>\n",
       "      <th></th>\n",
       "    </tr>\n",
       "  </thead>\n",
       "  <tbody>\n",
       "    <tr>\n",
       "      <th>00000469ba478561f23a92a868bd366de6f6527a684c9a2e78fb826dcac3b9b7</th>\n",
       "      <td>0.56</td>\n",
       "      <td>0.14</td>\n",
       "      <td>0.56</td>\n",
       "      <td>0.01</td>\n",
       "      <td>0</td>\n",
       "      <td>0.15</td>\n",
       "      <td>0.46</td>\n",
       "      <td>0.18</td>\n",
       "      <td>6.0</td>\n",
       "      <td>0.4</td>\n",
       "      <td>...</td>\n",
       "      <td>0.0</td>\n",
       "      <td>0.0</td>\n",
       "      <td>0.0</td>\n",
       "      <td>0.0</td>\n",
       "      <td>1.0</td>\n",
       "      <td>0.0</td>\n",
       "      <td>0.0</td>\n",
       "      <td>0.0</td>\n",
       "      <td>-0.0</td>\n",
       "      <td>0.0</td>\n",
       "    </tr>\n",
       "    <tr>\n",
       "      <th>00001bf2e77ff879fab36aa4fac689b9ba411dae63ae397d4263dafa1daedef5</th>\n",
       "      <td>0.84</td>\n",
       "      <td>0.11</td>\n",
       "      <td>0.52</td>\n",
       "      <td>0.00</td>\n",
       "      <td>0</td>\n",
       "      <td>0.08</td>\n",
       "      <td>0.76</td>\n",
       "      <td>0.19</td>\n",
       "      <td>2.0</td>\n",
       "      <td>0.2</td>\n",
       "      <td>...</td>\n",
       "      <td>0.0</td>\n",
       "      <td>0.0</td>\n",
       "      <td>0.0</td>\n",
       "      <td>0.0</td>\n",
       "      <td>1.0</td>\n",
       "      <td>0.0</td>\n",
       "      <td>0.0</td>\n",
       "      <td>0.0</td>\n",
       "      <td>-0.0</td>\n",
       "      <td>0.0</td>\n",
       "    </tr>\n",
       "    <tr>\n",
       "      <th>0000210045da4f81e5f122c6bde5c2a617d03eef67f82c5e400fc98e7bd43ce8</th>\n",
       "      <td>0.69</td>\n",
       "      <td>0.16</td>\n",
       "      <td>0.56</td>\n",
       "      <td>0.00</td>\n",
       "      <td>0</td>\n",
       "      <td>0.17</td>\n",
       "      <td>0.12</td>\n",
       "      <td>0.18</td>\n",
       "      <td>1.0</td>\n",
       "      <td>0.5</td>\n",
       "      <td>...</td>\n",
       "      <td>0.0</td>\n",
       "      <td>0.0</td>\n",
       "      <td>0.0</td>\n",
       "      <td>0.0</td>\n",
       "      <td>1.0</td>\n",
       "      <td>0.0</td>\n",
       "      <td>0.0</td>\n",
       "      <td>0.0</td>\n",
       "      <td>-0.0</td>\n",
       "      <td>0.0</td>\n",
       "    </tr>\n",
       "    <tr>\n",
       "      <th>00003b41e58ede33b8daf61ab56d9952f17c9ad1c3976cf6e56734528702d694</th>\n",
       "      <td>0.51</td>\n",
       "      <td>0.18</td>\n",
       "      <td>0.62</td>\n",
       "      <td>0.32</td>\n",
       "      <td>0</td>\n",
       "      <td>0.55</td>\n",
       "      <td>0.46</td>\n",
       "      <td>0.25</td>\n",
       "      <td>9.0</td>\n",
       "      <td>0.4</td>\n",
       "      <td>...</td>\n",
       "      <td>0.0</td>\n",
       "      <td>0.0</td>\n",
       "      <td>0.0</td>\n",
       "      <td>0.0</td>\n",
       "      <td>1.0</td>\n",
       "      <td>0.0</td>\n",
       "      <td>0.0</td>\n",
       "      <td>0.0</td>\n",
       "      <td>-0.0</td>\n",
       "      <td>0.0</td>\n",
       "    </tr>\n",
       "    <tr>\n",
       "      <th>00004b22eaeeeb0ec976890c1d9bfc14fd9427e98c4ee9a4693dd914fca22557</th>\n",
       "      <td>0.25</td>\n",
       "      <td>0.16</td>\n",
       "      <td>0.56</td>\n",
       "      <td>0.06</td>\n",
       "      <td>0</td>\n",
       "      <td>0.11</td>\n",
       "      <td>0.24</td>\n",
       "      <td>-1.00</td>\n",
       "      <td>1.0</td>\n",
       "      <td>0.5</td>\n",
       "      <td>...</td>\n",
       "      <td>0.0</td>\n",
       "      <td>0.0</td>\n",
       "      <td>0.0</td>\n",
       "      <td>0.0</td>\n",
       "      <td>1.0</td>\n",
       "      <td>0.0</td>\n",
       "      <td>0.0</td>\n",
       "      <td>0.0</td>\n",
       "      <td>-0.0</td>\n",
       "      <td>0.0</td>\n",
       "    </tr>\n",
       "  </tbody>\n",
       "</table>\n",
       "<p>5 rows × 3308 columns</p>\n",
       "</div>"
      ],
      "text/plain": [
       "                                                    P_2_last  S_3_last  \\\n",
       "customer_ID                                                              \n",
       "00000469ba478561f23a92a868bd366de6f6527a684c9a2...      0.56      0.14   \n",
       "00001bf2e77ff879fab36aa4fac689b9ba411dae63ae397...      0.84      0.11   \n",
       "0000210045da4f81e5f122c6bde5c2a617d03eef67f82c5...      0.69      0.16   \n",
       "00003b41e58ede33b8daf61ab56d9952f17c9ad1c3976cf...      0.51      0.18   \n",
       "00004b22eaeeeb0ec976890c1d9bfc14fd9427e98c4ee9a...      0.25      0.16   \n",
       "\n",
       "                                                    P_3_last  S_5_last  \\\n",
       "customer_ID                                                              \n",
       "00000469ba478561f23a92a868bd366de6f6527a684c9a2...      0.56      0.01   \n",
       "00001bf2e77ff879fab36aa4fac689b9ba411dae63ae397...      0.52      0.00   \n",
       "0000210045da4f81e5f122c6bde5c2a617d03eef67f82c5...      0.56      0.00   \n",
       "00003b41e58ede33b8daf61ab56d9952f17c9ad1c3976cf...      0.62      0.32   \n",
       "00004b22eaeeeb0ec976890c1d9bfc14fd9427e98c4ee9a...      0.56      0.06   \n",
       "\n",
       "                                                    S_6_last  S_7_last  \\\n",
       "customer_ID                                                              \n",
       "00000469ba478561f23a92a868bd366de6f6527a684c9a2...         0      0.15   \n",
       "00001bf2e77ff879fab36aa4fac689b9ba411dae63ae397...         0      0.08   \n",
       "0000210045da4f81e5f122c6bde5c2a617d03eef67f82c5...         0      0.17   \n",
       "00003b41e58ede33b8daf61ab56d9952f17c9ad1c3976cf...         0      0.55   \n",
       "00004b22eaeeeb0ec976890c1d9bfc14fd9427e98c4ee9a...         0      0.11   \n",
       "\n",
       "                                                    S_8_last  S_12_last  \\\n",
       "customer_ID                                                               \n",
       "00000469ba478561f23a92a868bd366de6f6527a684c9a2...      0.46       0.18   \n",
       "00001bf2e77ff879fab36aa4fac689b9ba411dae63ae397...      0.76       0.19   \n",
       "0000210045da4f81e5f122c6bde5c2a617d03eef67f82c5...      0.12       0.18   \n",
       "00003b41e58ede33b8daf61ab56d9952f17c9ad1c3976cf...      0.46       0.25   \n",
       "00004b22eaeeeb0ec976890c1d9bfc14fd9427e98c4ee9a...      0.24      -1.00   \n",
       "\n",
       "                                                    S_13_last  S_15_last  ...  \\\n",
       "customer_ID                                                               ...   \n",
       "00000469ba478561f23a92a868bd366de6f6527a684c9a2...        6.0        0.4  ...   \n",
       "00001bf2e77ff879fab36aa4fac689b9ba411dae63ae397...        2.0        0.2  ...   \n",
       "0000210045da4f81e5f122c6bde5c2a617d03eef67f82c5...        1.0        0.5  ...   \n",
       "00003b41e58ede33b8daf61ab56d9952f17c9ad1c3976cf...        9.0        0.4  ...   \n",
       "00004b22eaeeeb0ec976890c1d9bfc14fd9427e98c4ee9a...        1.0        0.5  ...   \n",
       "\n",
       "                                                    D_111_previous_sprint  \\\n",
       "customer_ID                                                                 \n",
       "00000469ba478561f23a92a868bd366de6f6527a684c9a2...                    0.0   \n",
       "00001bf2e77ff879fab36aa4fac689b9ba411dae63ae397...                    0.0   \n",
       "0000210045da4f81e5f122c6bde5c2a617d03eef67f82c5...                    0.0   \n",
       "00003b41e58ede33b8daf61ab56d9952f17c9ad1c3976cf...                    0.0   \n",
       "00004b22eaeeeb0ec976890c1d9bfc14fd9427e98c4ee9a...                    0.0   \n",
       "\n",
       "                                                    D_111_acceleration  \\\n",
       "customer_ID                                                              \n",
       "00000469ba478561f23a92a868bd366de6f6527a684c9a2...                 0.0   \n",
       "00001bf2e77ff879fab36aa4fac689b9ba411dae63ae397...                 0.0   \n",
       "0000210045da4f81e5f122c6bde5c2a617d03eef67f82c5...                 0.0   \n",
       "00003b41e58ede33b8daf61ab56d9952f17c9ad1c3976cf...                 0.0   \n",
       "00004b22eaeeeb0ec976890c1d9bfc14fd9427e98c4ee9a...                 0.0   \n",
       "\n",
       "                                                    D_111_range  \\\n",
       "customer_ID                                                       \n",
       "00000469ba478561f23a92a868bd366de6f6527a684c9a2...          0.0   \n",
       "00001bf2e77ff879fab36aa4fac689b9ba411dae63ae397...          0.0   \n",
       "0000210045da4f81e5f122c6bde5c2a617d03eef67f82c5...          0.0   \n",
       "00003b41e58ede33b8daf61ab56d9952f17c9ad1c3976cf...          0.0   \n",
       "00004b22eaeeeb0ec976890c1d9bfc14fd9427e98c4ee9a...          0.0   \n",
       "\n",
       "                                                    D_111_displacement  \\\n",
       "customer_ID                                                              \n",
       "00000469ba478561f23a92a868bd366de6f6527a684c9a2...                 0.0   \n",
       "00001bf2e77ff879fab36aa4fac689b9ba411dae63ae397...                 0.0   \n",
       "0000210045da4f81e5f122c6bde5c2a617d03eef67f82c5...                 0.0   \n",
       "00003b41e58ede33b8daf61ab56d9952f17c9ad1c3976cf...                 0.0   \n",
       "00004b22eaeeeb0ec976890c1d9bfc14fd9427e98c4ee9a...                 0.0   \n",
       "\n",
       "                                                    D_111_displacement_ratio  \\\n",
       "customer_ID                                                                    \n",
       "00000469ba478561f23a92a868bd366de6f6527a684c9a2...                       1.0   \n",
       "00001bf2e77ff879fab36aa4fac689b9ba411dae63ae397...                       1.0   \n",
       "0000210045da4f81e5f122c6bde5c2a617d03eef67f82c5...                       1.0   \n",
       "00003b41e58ede33b8daf61ab56d9952f17c9ad1c3976cf...                       1.0   \n",
       "00004b22eaeeeb0ec976890c1d9bfc14fd9427e98c4ee9a...                       1.0   \n",
       "\n",
       "                                                    D_111_velocity  \\\n",
       "customer_ID                                                          \n",
       "00000469ba478561f23a92a868bd366de6f6527a684c9a2...             0.0   \n",
       "00001bf2e77ff879fab36aa4fac689b9ba411dae63ae397...             0.0   \n",
       "0000210045da4f81e5f122c6bde5c2a617d03eef67f82c5...             0.0   \n",
       "00003b41e58ede33b8daf61ab56d9952f17c9ad1c3976cf...             0.0   \n",
       "00004b22eaeeeb0ec976890c1d9bfc14fd9427e98c4ee9a...             0.0   \n",
       "\n",
       "                                                    D_111_last_minus_avg  \\\n",
       "customer_ID                                                                \n",
       "00000469ba478561f23a92a868bd366de6f6527a684c9a2...                   0.0   \n",
       "00001bf2e77ff879fab36aa4fac689b9ba411dae63ae397...                   0.0   \n",
       "0000210045da4f81e5f122c6bde5c2a617d03eef67f82c5...                   0.0   \n",
       "00003b41e58ede33b8daf61ab56d9952f17c9ad1c3976cf...                   0.0   \n",
       "00004b22eaeeeb0ec976890c1d9bfc14fd9427e98c4ee9a...                   0.0   \n",
       "\n",
       "                                                    D_111_last_minus_midpoint  \\\n",
       "customer_ID                                                                     \n",
       "00000469ba478561f23a92a868bd366de6f6527a684c9a2...                        0.0   \n",
       "00001bf2e77ff879fab36aa4fac689b9ba411dae63ae397...                        0.0   \n",
       "0000210045da4f81e5f122c6bde5c2a617d03eef67f82c5...                        0.0   \n",
       "00003b41e58ede33b8daf61ab56d9952f17c9ad1c3976cf...                        0.0   \n",
       "00004b22eaeeeb0ec976890c1d9bfc14fd9427e98c4ee9a...                        0.0   \n",
       "\n",
       "                                                    D_111_coef_var  \\\n",
       "customer_ID                                                          \n",
       "00000469ba478561f23a92a868bd366de6f6527a684c9a2...            -0.0   \n",
       "00001bf2e77ff879fab36aa4fac689b9ba411dae63ae397...            -0.0   \n",
       "0000210045da4f81e5f122c6bde5c2a617d03eef67f82c5...            -0.0   \n",
       "00003b41e58ede33b8daf61ab56d9952f17c9ad1c3976cf...            -0.0   \n",
       "00004b22eaeeeb0ec976890c1d9bfc14fd9427e98c4ee9a...            -0.0   \n",
       "\n",
       "                                                    D_111_trend_index  \n",
       "customer_ID                                                            \n",
       "00000469ba478561f23a92a868bd366de6f6527a684c9a2...                0.0  \n",
       "00001bf2e77ff879fab36aa4fac689b9ba411dae63ae397...                0.0  \n",
       "0000210045da4f81e5f122c6bde5c2a617d03eef67f82c5...                0.0  \n",
       "00003b41e58ede33b8daf61ab56d9952f17c9ad1c3976cf...                0.0  \n",
       "00004b22eaeeeb0ec976890c1d9bfc14fd9427e98c4ee9a...                0.0  \n",
       "\n",
       "[5 rows x 3308 columns]"
      ]
     },
     "execution_count": 80,
     "metadata": {},
     "output_type": "execute_result"
    }
   ],
   "source": [
    "test_agg.head()"
   ]
  },
  {
   "cell_type": "code",
   "execution_count": null,
   "id": "4696a411-f26c-44d6-a1e6-799f3d27dc24",
   "metadata": {},
   "outputs": [],
   "source": []
  }
 ],
 "metadata": {
  "kernelspec": {
   "display_name": "amex",
   "language": "python",
   "name": "amex"
  },
  "language_info": {
   "codemirror_mode": {
    "name": "ipython",
    "version": 3
   },
   "file_extension": ".py",
   "mimetype": "text/x-python",
   "name": "python",
   "nbconvert_exporter": "python",
   "pygments_lexer": "ipython3",
   "version": "3.10.0"
  }
 },
 "nbformat": 4,
 "nbformat_minor": 5
}
