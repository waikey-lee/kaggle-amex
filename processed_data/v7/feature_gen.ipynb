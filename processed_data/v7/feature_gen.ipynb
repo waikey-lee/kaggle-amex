{
 "cells": [
  {
   "cell_type": "code",
   "execution_count": 1,
   "id": "5dd2ca34-3410-4078-aa48-7adbba211ed5",
   "metadata": {},
   "outputs": [],
   "source": [
    "import datetime\n",
    "import gc\n",
    "import joblib\n",
    "import matplotlib.pyplot as plt\n",
    "import pandas as pd\n",
    "import numpy as np\n",
    "import os\n",
    "import scipy.stats\n",
    "import seaborn as sns\n",
    "import sys\n",
    "sys.path.append(\"../../\")\n",
    "import time\n",
    "import warnings\n",
    "warnings.simplefilter(\"ignore\")\n",
    "from collections import defaultdict\n",
    "from itertools import repeat, combinations\n",
    "from pandarallel import pandarallel\n",
    "from sklearn.preprocessing import StandardScaler, LabelEncoder\n",
    "from tqdm import tqdm"
   ]
  },
  {
   "cell_type": "code",
   "execution_count": 2,
   "id": "ed180905-de83-4e97-9d86-3307ede6d42f",
   "metadata": {},
   "outputs": [],
   "source": [
    "from utils.common import (\n",
    "    sigmoid, pad_column_name\n",
    ")\n",
    "from utils.constants import *\n",
    "from utils.eval_helpers import (\n",
    "    plot_roc_curves, plot_feature_importance, \n",
    "    amex_metric, get_final_metric_df, amex_metric_np, lgb_amex_metric\n",
    ")\n",
    "from utils.eda_helpers import (\n",
    "    plot_missing_proportion_barchart, plot_heatmap,\n",
    "    get_cols, insert_row_number, plot_train_test_distribution\n",
    ")\n",
    "from utils.extraction_helpers import read_file\n",
    "from utils.feature_group import CATEGORY_COLUMNS\n",
    "from utils.preprocess_helpers import clip_col"
   ]
  },
  {
   "cell_type": "code",
   "execution_count": 3,
   "id": "93a23fd1-1dc1-4cdc-af7a-dfd41584887d",
   "metadata": {},
   "outputs": [],
   "source": [
    "from feature_engineering_helpers import feature_gen_pipeline, clip_all, round_all, convert_all"
   ]
  },
  {
   "cell_type": "code",
   "execution_count": 4,
   "id": "67194602-57fc-4e92-9801-8d600e52a5b2",
   "metadata": {},
   "outputs": [],
   "source": [
    "%load_ext autoreload\n",
    "%autoreload"
   ]
  },
  {
   "cell_type": "code",
   "execution_count": 5,
   "id": "570eba73-bbc2-4a0c-8a53-0c16a8009661",
   "metadata": {},
   "outputs": [
    {
     "name": "stdout",
     "output_type": "stream",
     "text": [
      "INFO: Pandarallel will run on 16 workers.\n",
      "INFO: Pandarallel will use standard multiprocessing data transfer (pipe) to transfer data between the main process and workers.\n"
     ]
    }
   ],
   "source": [
    "pandarallel.initialize(nb_workers=16, progress_bar=False, use_memory_fs=False)"
   ]
  },
  {
   "cell_type": "code",
   "execution_count": 6,
   "id": "1f0163b6-0df1-4062-a177-b86c359dc4b7",
   "metadata": {},
   "outputs": [],
   "source": [
    "START = time.time()"
   ]
  },
  {
   "cell_type": "markdown",
   "id": "b4962ceb-f3e9-4522-9a30-129b6d25fae9",
   "metadata": {},
   "source": [
    "### Read Data"
   ]
  },
  {
   "cell_type": "markdown",
   "id": "10b34648-ad0d-4435-ac91-9c217d348224",
   "metadata": {},
   "source": [
    "#### Impute Train"
   ]
  },
  {
   "cell_type": "code",
   "execution_count": 7,
   "id": "1cc3552e-35f1-44df-9d7d-2de736acc83c",
   "metadata": {},
   "outputs": [
    {
     "name": "stdout",
     "output_type": "stream",
     "text": [
      "Shape of data: (458913, 2)\n"
     ]
    }
   ],
   "source": [
    "labels = read_file(f\"../{RAW_DATA_PATH}/train_labels.csv\")"
   ]
  },
  {
   "cell_type": "code",
   "execution_count": 79,
   "id": "6735831d-0024-4122-9c7b-1280e519d03e",
   "metadata": {},
   "outputs": [
    {
     "name": "stdout",
     "output_type": "stream",
     "text": [
      "Shape of data: (5531451, 189)\n",
      "CPU times: user 4.59 s, sys: 8.31 s, total: 12.9 s\n",
      "Wall time: 8.04 s\n"
     ]
    }
   ],
   "source": [
    "%%time\n",
    "# train = read_file(f\"../{INTERIM_DATA_PATH}/v5/train_parquet/train_all_variables.parquet\")\n",
    "train = read_file(f\"./train_imputed.parquet\")"
   ]
  },
  {
   "cell_type": "code",
   "execution_count": 80,
   "id": "5396be54-94d3-449d-8904-2ce380379743",
   "metadata": {},
   "outputs": [
    {
     "data": {
      "text/plain": [
       "38"
      ]
     },
     "execution_count": 80,
     "metadata": {},
     "output_type": "execute_result"
    }
   ],
   "source": [
    "missing = train.isnull().sum()\n",
    "missing_columns = missing[missing > 0].index.tolist()\n",
    "len(missing_columns)"
   ]
  },
  {
   "cell_type": "code",
   "execution_count": 42,
   "id": "b1c64f60-98ba-4e59-8d44-dabdbe8940bd",
   "metadata": {},
   "outputs": [
    {
     "name": "stderr",
     "output_type": "stream",
     "text": [
      "100%|████████████████████████████████████████████████████████████████████████████████████████████████████████████████████████████████████| 116/116 [01:35<00:00,  1.21it/s]"
     ]
    },
    {
     "name": "stdout",
     "output_type": "stream",
     "text": [
      "CPU times: user 1min 14s, sys: 18.9 s, total: 1min 32s\n",
      "Wall time: 1min 35s\n"
     ]
    },
    {
     "name": "stderr",
     "output_type": "stream",
     "text": [
      "\n"
     ]
    }
   ],
   "source": [
    "%%time\n",
    "for col in tqdm(missing_columns):\n",
    "    train[col] = train.groupby(\"customer_ID\")[col].bfill().ffill()"
   ]
  },
  {
   "cell_type": "code",
   "execution_count": 43,
   "id": "39871057-cb41-4215-9ecd-32f6a92f9bc3",
   "metadata": {},
   "outputs": [
    {
     "data": {
      "text/plain": [
       "116"
      ]
     },
     "execution_count": 43,
     "metadata": {},
     "output_type": "execute_result"
    }
   ],
   "source": [
    "len(missing_columns)"
   ]
  },
  {
   "cell_type": "code",
   "execution_count": 86,
   "id": "589a9d55-972e-43a3-9973-90a2ce0f2c22",
   "metadata": {},
   "outputs": [],
   "source": [
    "# train.to_parquet(f\"./train_imputed.parquet\")"
   ]
  },
  {
   "cell_type": "code",
   "execution_count": 45,
   "id": "ee5ce0a9-7c06-47ef-ab87-3a44a42475c1",
   "metadata": {},
   "outputs": [
    {
     "data": {
      "text/plain": [
       "8358"
      ]
     },
     "execution_count": 45,
     "metadata": {},
     "output_type": "execute_result"
    }
   ],
   "source": [
    "gc.collect()"
   ]
  },
  {
   "cell_type": "markdown",
   "id": "da26cf74-f4be-4d05-8d11-905f70f5f1f8",
   "metadata": {},
   "source": [
    "#### Impute Test"
   ]
  },
  {
   "cell_type": "code",
   "execution_count": 83,
   "id": "939b892e-d116-459f-8cb9-64703f631df4",
   "metadata": {},
   "outputs": [
    {
     "name": "stdout",
     "output_type": "stream",
     "text": [
      "Shape of data: (5681079, 188)\n",
      "Shape of data: (5682683, 188)\n",
      "CPU times: user 12.2 s, sys: 22.9 s, total: 35.1 s\n",
      "Wall time: 28.4 s\n"
     ]
    }
   ],
   "source": [
    "%%time\n",
    "test1 = read_file(f\"../{INTERIM_DATA_PATH}/v5/test_parquet/test_all_variables1.parquet\")\n",
    "test2 = read_file(f\"../{INTERIM_DATA_PATH}/v5/test_parquet/test_all_variables2.parquet\")\n",
    "test = pd.concat([test1, test2], ignore_index=True)\n",
    "del test1, test2"
   ]
  },
  {
   "cell_type": "code",
   "execution_count": 84,
   "id": "074d04d7-90cc-42d2-abd1-c5db0d5cf033",
   "metadata": {},
   "outputs": [
    {
     "data": {
      "text/plain": [
       "120"
      ]
     },
     "execution_count": 84,
     "metadata": {},
     "output_type": "execute_result"
    }
   ],
   "source": [
    "missing = test.isnull().sum()\n",
    "missing_columns = missing[missing > 0].index.tolist()\n",
    "len(missing_columns)"
   ]
  },
  {
   "cell_type": "code",
   "execution_count": 48,
   "id": "7bcc3d2c-7c4d-4641-a156-67c6664d3908",
   "metadata": {},
   "outputs": [
    {
     "name": "stderr",
     "output_type": "stream",
     "text": [
      "100%|████████████████████████████████████████████████████████████████████████████████████████████████████████████████████████████████████| 120/120 [02:40<00:00,  1.34s/it]"
     ]
    },
    {
     "name": "stdout",
     "output_type": "stream",
     "text": [
      "CPU times: user 2min 30s, sys: 8.95 s, total: 2min 39s\n",
      "Wall time: 2min 40s\n"
     ]
    },
    {
     "name": "stderr",
     "output_type": "stream",
     "text": [
      "\n"
     ]
    }
   ],
   "source": [
    "%%time\n",
    "for col in tqdm(missing_columns):\n",
    "    test[col] = test.groupby(\"customer_ID\")[col].bfill().ffill()"
   ]
  },
  {
   "cell_type": "code",
   "execution_count": 85,
   "id": "46787e2b-4397-489f-b48c-0d5fffa870ca",
   "metadata": {},
   "outputs": [],
   "source": [
    "# test.to_parquet(f\"./test_imputed.parquet\")"
   ]
  },
  {
   "cell_type": "code",
   "execution_count": 50,
   "id": "defc9ba3-5c92-4d03-9dfa-309e5b4288e4",
   "metadata": {},
   "outputs": [],
   "source": [
    "df_list = [train, test]"
   ]
  },
  {
   "cell_type": "code",
   "execution_count": 51,
   "id": "f7c0d2f7-3ce5-4b98-8771-0e96fc8553c2",
   "metadata": {},
   "outputs": [],
   "source": [
    "# %%time\n",
    "# n = train.nunique()\n",
    "# binary_features = n[n == 2].index.tolist()"
   ]
  },
  {
   "cell_type": "markdown",
   "id": "7ea62866-43b8-4fc0-8694-edf84434caa4",
   "metadata": {},
   "source": [
    "### Calculate diff for each column"
   ]
  },
  {
   "cell_type": "code",
   "execution_count": null,
   "id": "e6c757ac-bdf8-4130-984a-7f2807343525",
   "metadata": {},
   "outputs": [],
   "source": [
    "%%time\n",
    "train = read_file(f\"./train_imputed.parquet\")\n",
    "test = read_file(f\"./test_imputed.parquet\")"
   ]
  },
  {
   "cell_type": "code",
   "execution_count": 81,
   "id": "54710b22-07c7-4bf9-9d30-36aa85f15ed2",
   "metadata": {},
   "outputs": [],
   "source": [
    "base_feature_column = train.iloc[:, 5:].columns.tolist()"
   ]
  },
  {
   "cell_type": "code",
   "execution_count": 82,
   "id": "450060c2-f74e-4123-a1d8-fcbcbec71958",
   "metadata": {},
   "outputs": [],
   "source": [
    "train = train.drop(columns=CATEGORY_COLUMNS, errors=\"ignore\")"
   ]
  },
  {
   "cell_type": "code",
   "execution_count": null,
   "id": "093442e2-84e7-4398-86a9-76541aa01d50",
   "metadata": {},
   "outputs": [],
   "source": [
    "for col in base_feature_column:\n",
    "    train[col] = train.groupby(\"customer_ID\")[col].diff()"
   ]
  },
  {
   "cell_type": "code",
   "execution_count": 74,
   "id": "263dc9e9-f677-42ab-96f7-90a38c59f348",
   "metadata": {},
   "outputs": [
    {
     "data": {
      "text/plain": [
       "Index(['P_2', 'S_3', 'P_3', 'S_5', 'S_6', 'S_7', 'S_8', 'S_12', 'S_13', 'S_15',\n",
       "       ...\n",
       "       'D_137', 'D_138', 'D_139', 'D_140', 'D_141', 'D_142', 'D_143', 'D_144',\n",
       "       'D_145', 'D_43_'],\n",
       "      dtype='object', length=185)"
      ]
     },
     "execution_count": 74,
     "metadata": {},
     "output_type": "execute_result"
    }
   ],
   "source": []
  },
  {
   "cell_type": "code",
   "execution_count": 71,
   "id": "12b92793-3171-4f7d-b950-d20523f2efb0",
   "metadata": {},
   "outputs": [],
   "source": []
  },
  {
   "cell_type": "code",
   "execution_count": 72,
   "id": "49ba9d37-9f30-4382-900d-83cf79b438c5",
   "metadata": {},
   "outputs": [
    {
     "data": {
      "text/html": [
       "<div>\n",
       "<style scoped>\n",
       "    .dataframe tbody tr th:only-of-type {\n",
       "        vertical-align: middle;\n",
       "    }\n",
       "\n",
       "    .dataframe tbody tr th {\n",
       "        vertical-align: top;\n",
       "    }\n",
       "\n",
       "    .dataframe thead th {\n",
       "        text-align: right;\n",
       "    }\n",
       "</style>\n",
       "<table border=\"1\" class=\"dataframe\">\n",
       "  <thead>\n",
       "    <tr style=\"text-align: right;\">\n",
       "      <th></th>\n",
       "      <th>customer_ID</th>\n",
       "      <th>D_43_</th>\n",
       "    </tr>\n",
       "  </thead>\n",
       "  <tbody>\n",
       "    <tr>\n",
       "      <th>0</th>\n",
       "      <td>0000099d6bd597052cdcda90ffabf56573fe9d7c79be5f...</td>\n",
       "      <td>NaN</td>\n",
       "    </tr>\n",
       "    <tr>\n",
       "      <th>1</th>\n",
       "      <td>0000099d6bd597052cdcda90ffabf56573fe9d7c79be5f...</td>\n",
       "      <td>NaN</td>\n",
       "    </tr>\n",
       "    <tr>\n",
       "      <th>2</th>\n",
       "      <td>0000099d6bd597052cdcda90ffabf56573fe9d7c79be5f...</td>\n",
       "      <td>NaN</td>\n",
       "    </tr>\n",
       "    <tr>\n",
       "      <th>3</th>\n",
       "      <td>0000099d6bd597052cdcda90ffabf56573fe9d7c79be5f...</td>\n",
       "      <td>NaN</td>\n",
       "    </tr>\n",
       "    <tr>\n",
       "      <th>4</th>\n",
       "      <td>0000099d6bd597052cdcda90ffabf56573fe9d7c79be5f...</td>\n",
       "      <td>NaN</td>\n",
       "    </tr>\n",
       "    <tr>\n",
       "      <th>5</th>\n",
       "      <td>0000099d6bd597052cdcda90ffabf56573fe9d7c79be5f...</td>\n",
       "      <td>NaN</td>\n",
       "    </tr>\n",
       "    <tr>\n",
       "      <th>6</th>\n",
       "      <td>0000099d6bd597052cdcda90ffabf56573fe9d7c79be5f...</td>\n",
       "      <td>NaN</td>\n",
       "    </tr>\n",
       "    <tr>\n",
       "      <th>7</th>\n",
       "      <td>0000099d6bd597052cdcda90ffabf56573fe9d7c79be5f...</td>\n",
       "      <td>NaN</td>\n",
       "    </tr>\n",
       "    <tr>\n",
       "      <th>8</th>\n",
       "      <td>0000099d6bd597052cdcda90ffabf56573fe9d7c79be5f...</td>\n",
       "      <td>NaN</td>\n",
       "    </tr>\n",
       "    <tr>\n",
       "      <th>9</th>\n",
       "      <td>0000099d6bd597052cdcda90ffabf56573fe9d7c79be5f...</td>\n",
       "      <td>NaN</td>\n",
       "    </tr>\n",
       "    <tr>\n",
       "      <th>10</th>\n",
       "      <td>0000099d6bd597052cdcda90ffabf56573fe9d7c79be5f...</td>\n",
       "      <td>NaN</td>\n",
       "    </tr>\n",
       "    <tr>\n",
       "      <th>11</th>\n",
       "      <td>0000099d6bd597052cdcda90ffabf56573fe9d7c79be5f...</td>\n",
       "      <td>NaN</td>\n",
       "    </tr>\n",
       "    <tr>\n",
       "      <th>12</th>\n",
       "      <td>0000099d6bd597052cdcda90ffabf56573fe9d7c79be5f...</td>\n",
       "      <td>NaN</td>\n",
       "    </tr>\n",
       "    <tr>\n",
       "      <th>13</th>\n",
       "      <td>00000fd6641609c6ece5454664794f0340ad84dddce9a2...</td>\n",
       "      <td>NaN</td>\n",
       "    </tr>\n",
       "    <tr>\n",
       "      <th>14</th>\n",
       "      <td>00000fd6641609c6ece5454664794f0340ad84dddce9a2...</td>\n",
       "      <td>0.00</td>\n",
       "    </tr>\n",
       "    <tr>\n",
       "      <th>15</th>\n",
       "      <td>00000fd6641609c6ece5454664794f0340ad84dddce9a2...</td>\n",
       "      <td>0.00</td>\n",
       "    </tr>\n",
       "    <tr>\n",
       "      <th>16</th>\n",
       "      <td>00000fd6641609c6ece5454664794f0340ad84dddce9a2...</td>\n",
       "      <td>0.00</td>\n",
       "    </tr>\n",
       "    <tr>\n",
       "      <th>17</th>\n",
       "      <td>00000fd6641609c6ece5454664794f0340ad84dddce9a2...</td>\n",
       "      <td>0.00</td>\n",
       "    </tr>\n",
       "    <tr>\n",
       "      <th>18</th>\n",
       "      <td>00000fd6641609c6ece5454664794f0340ad84dddce9a2...</td>\n",
       "      <td>0.00</td>\n",
       "    </tr>\n",
       "    <tr>\n",
       "      <th>19</th>\n",
       "      <td>00000fd6641609c6ece5454664794f0340ad84dddce9a2...</td>\n",
       "      <td>0.00</td>\n",
       "    </tr>\n",
       "    <tr>\n",
       "      <th>20</th>\n",
       "      <td>00000fd6641609c6ece5454664794f0340ad84dddce9a2...</td>\n",
       "      <td>-0.40</td>\n",
       "    </tr>\n",
       "    <tr>\n",
       "      <th>21</th>\n",
       "      <td>00000fd6641609c6ece5454664794f0340ad84dddce9a2...</td>\n",
       "      <td>-0.03</td>\n",
       "    </tr>\n",
       "    <tr>\n",
       "      <th>22</th>\n",
       "      <td>00000fd6641609c6ece5454664794f0340ad84dddce9a2...</td>\n",
       "      <td>-0.02</td>\n",
       "    </tr>\n",
       "    <tr>\n",
       "      <th>23</th>\n",
       "      <td>00000fd6641609c6ece5454664794f0340ad84dddce9a2...</td>\n",
       "      <td>-0.01</td>\n",
       "    </tr>\n",
       "    <tr>\n",
       "      <th>24</th>\n",
       "      <td>00000fd6641609c6ece5454664794f0340ad84dddce9a2...</td>\n",
       "      <td>0.00</td>\n",
       "    </tr>\n",
       "    <tr>\n",
       "      <th>25</th>\n",
       "      <td>00000fd6641609c6ece5454664794f0340ad84dddce9a2...</td>\n",
       "      <td>0.00</td>\n",
       "    </tr>\n",
       "  </tbody>\n",
       "</table>\n",
       "</div>"
      ],
      "text/plain": [
       "                                          customer_ID  D_43_\n",
       "0   0000099d6bd597052cdcda90ffabf56573fe9d7c79be5f...    NaN\n",
       "1   0000099d6bd597052cdcda90ffabf56573fe9d7c79be5f...    NaN\n",
       "2   0000099d6bd597052cdcda90ffabf56573fe9d7c79be5f...    NaN\n",
       "3   0000099d6bd597052cdcda90ffabf56573fe9d7c79be5f...    NaN\n",
       "4   0000099d6bd597052cdcda90ffabf56573fe9d7c79be5f...    NaN\n",
       "5   0000099d6bd597052cdcda90ffabf56573fe9d7c79be5f...    NaN\n",
       "6   0000099d6bd597052cdcda90ffabf56573fe9d7c79be5f...    NaN\n",
       "7   0000099d6bd597052cdcda90ffabf56573fe9d7c79be5f...    NaN\n",
       "8   0000099d6bd597052cdcda90ffabf56573fe9d7c79be5f...    NaN\n",
       "9   0000099d6bd597052cdcda90ffabf56573fe9d7c79be5f...    NaN\n",
       "10  0000099d6bd597052cdcda90ffabf56573fe9d7c79be5f...    NaN\n",
       "11  0000099d6bd597052cdcda90ffabf56573fe9d7c79be5f...    NaN\n",
       "12  0000099d6bd597052cdcda90ffabf56573fe9d7c79be5f...    NaN\n",
       "13  00000fd6641609c6ece5454664794f0340ad84dddce9a2...    NaN\n",
       "14  00000fd6641609c6ece5454664794f0340ad84dddce9a2...   0.00\n",
       "15  00000fd6641609c6ece5454664794f0340ad84dddce9a2...   0.00\n",
       "16  00000fd6641609c6ece5454664794f0340ad84dddce9a2...   0.00\n",
       "17  00000fd6641609c6ece5454664794f0340ad84dddce9a2...   0.00\n",
       "18  00000fd6641609c6ece5454664794f0340ad84dddce9a2...   0.00\n",
       "19  00000fd6641609c6ece5454664794f0340ad84dddce9a2...   0.00\n",
       "20  00000fd6641609c6ece5454664794f0340ad84dddce9a2...  -0.40\n",
       "21  00000fd6641609c6ece5454664794f0340ad84dddce9a2...  -0.03\n",
       "22  00000fd6641609c6ece5454664794f0340ad84dddce9a2...  -0.02\n",
       "23  00000fd6641609c6ece5454664794f0340ad84dddce9a2...  -0.01\n",
       "24  00000fd6641609c6ece5454664794f0340ad84dddce9a2...   0.00\n",
       "25  00000fd6641609c6ece5454664794f0340ad84dddce9a2...   0.00"
      ]
     },
     "execution_count": 72,
     "metadata": {},
     "output_type": "execute_result"
    }
   ],
   "source": [
    "train[[\"customer_ID\", \"D_43_\"]].head(26)"
   ]
  },
  {
   "cell_type": "code",
   "execution_count": 70,
   "id": "3ec9ec2d-55a6-4bc0-a239-2192e6f76501",
   "metadata": {},
   "outputs": [
    {
     "data": {
      "text/html": [
       "<div>\n",
       "<style scoped>\n",
       "    .dataframe tbody tr th:only-of-type {\n",
       "        vertical-align: middle;\n",
       "    }\n",
       "\n",
       "    .dataframe tbody tr th {\n",
       "        vertical-align: top;\n",
       "    }\n",
       "\n",
       "    .dataframe thead th {\n",
       "        text-align: right;\n",
       "    }\n",
       "</style>\n",
       "<table border=\"1\" class=\"dataframe\">\n",
       "  <thead>\n",
       "    <tr style=\"text-align: right;\">\n",
       "      <th></th>\n",
       "      <th>customer_ID</th>\n",
       "      <th>D_43</th>\n",
       "    </tr>\n",
       "  </thead>\n",
       "  <tbody>\n",
       "    <tr>\n",
       "      <th>0</th>\n",
       "      <td>0000099d6bd597052cdcda90ffabf56573fe9d7c79be5f...</td>\n",
       "      <td>NaN</td>\n",
       "    </tr>\n",
       "    <tr>\n",
       "      <th>1</th>\n",
       "      <td>0000099d6bd597052cdcda90ffabf56573fe9d7c79be5f...</td>\n",
       "      <td>NaN</td>\n",
       "    </tr>\n",
       "    <tr>\n",
       "      <th>2</th>\n",
       "      <td>0000099d6bd597052cdcda90ffabf56573fe9d7c79be5f...</td>\n",
       "      <td>NaN</td>\n",
       "    </tr>\n",
       "    <tr>\n",
       "      <th>3</th>\n",
       "      <td>0000099d6bd597052cdcda90ffabf56573fe9d7c79be5f...</td>\n",
       "      <td>NaN</td>\n",
       "    </tr>\n",
       "    <tr>\n",
       "      <th>4</th>\n",
       "      <td>0000099d6bd597052cdcda90ffabf56573fe9d7c79be5f...</td>\n",
       "      <td>NaN</td>\n",
       "    </tr>\n",
       "    <tr>\n",
       "      <th>5</th>\n",
       "      <td>0000099d6bd597052cdcda90ffabf56573fe9d7c79be5f...</td>\n",
       "      <td>NaN</td>\n",
       "    </tr>\n",
       "    <tr>\n",
       "      <th>6</th>\n",
       "      <td>0000099d6bd597052cdcda90ffabf56573fe9d7c79be5f...</td>\n",
       "      <td>NaN</td>\n",
       "    </tr>\n",
       "    <tr>\n",
       "      <th>7</th>\n",
       "      <td>0000099d6bd597052cdcda90ffabf56573fe9d7c79be5f...</td>\n",
       "      <td>NaN</td>\n",
       "    </tr>\n",
       "    <tr>\n",
       "      <th>8</th>\n",
       "      <td>0000099d6bd597052cdcda90ffabf56573fe9d7c79be5f...</td>\n",
       "      <td>NaN</td>\n",
       "    </tr>\n",
       "    <tr>\n",
       "      <th>9</th>\n",
       "      <td>0000099d6bd597052cdcda90ffabf56573fe9d7c79be5f...</td>\n",
       "      <td>NaN</td>\n",
       "    </tr>\n",
       "    <tr>\n",
       "      <th>10</th>\n",
       "      <td>0000099d6bd597052cdcda90ffabf56573fe9d7c79be5f...</td>\n",
       "      <td>NaN</td>\n",
       "    </tr>\n",
       "    <tr>\n",
       "      <th>11</th>\n",
       "      <td>0000099d6bd597052cdcda90ffabf56573fe9d7c79be5f...</td>\n",
       "      <td>NaN</td>\n",
       "    </tr>\n",
       "    <tr>\n",
       "      <th>12</th>\n",
       "      <td>0000099d6bd597052cdcda90ffabf56573fe9d7c79be5f...</td>\n",
       "      <td>NaN</td>\n",
       "    </tr>\n",
       "    <tr>\n",
       "      <th>13</th>\n",
       "      <td>00000fd6641609c6ece5454664794f0340ad84dddce9a2...</td>\n",
       "      <td>0.52</td>\n",
       "    </tr>\n",
       "    <tr>\n",
       "      <th>14</th>\n",
       "      <td>00000fd6641609c6ece5454664794f0340ad84dddce9a2...</td>\n",
       "      <td>0.52</td>\n",
       "    </tr>\n",
       "    <tr>\n",
       "      <th>15</th>\n",
       "      <td>00000fd6641609c6ece5454664794f0340ad84dddce9a2...</td>\n",
       "      <td>0.52</td>\n",
       "    </tr>\n",
       "    <tr>\n",
       "      <th>16</th>\n",
       "      <td>00000fd6641609c6ece5454664794f0340ad84dddce9a2...</td>\n",
       "      <td>0.52</td>\n",
       "    </tr>\n",
       "    <tr>\n",
       "      <th>17</th>\n",
       "      <td>00000fd6641609c6ece5454664794f0340ad84dddce9a2...</td>\n",
       "      <td>0.52</td>\n",
       "    </tr>\n",
       "    <tr>\n",
       "      <th>18</th>\n",
       "      <td>00000fd6641609c6ece5454664794f0340ad84dddce9a2...</td>\n",
       "      <td>0.52</td>\n",
       "    </tr>\n",
       "    <tr>\n",
       "      <th>19</th>\n",
       "      <td>00000fd6641609c6ece5454664794f0340ad84dddce9a2...</td>\n",
       "      <td>0.52</td>\n",
       "    </tr>\n",
       "    <tr>\n",
       "      <th>20</th>\n",
       "      <td>00000fd6641609c6ece5454664794f0340ad84dddce9a2...</td>\n",
       "      <td>0.12</td>\n",
       "    </tr>\n",
       "    <tr>\n",
       "      <th>21</th>\n",
       "      <td>00000fd6641609c6ece5454664794f0340ad84dddce9a2...</td>\n",
       "      <td>0.09</td>\n",
       "    </tr>\n",
       "    <tr>\n",
       "      <th>22</th>\n",
       "      <td>00000fd6641609c6ece5454664794f0340ad84dddce9a2...</td>\n",
       "      <td>0.07</td>\n",
       "    </tr>\n",
       "    <tr>\n",
       "      <th>23</th>\n",
       "      <td>00000fd6641609c6ece5454664794f0340ad84dddce9a2...</td>\n",
       "      <td>0.06</td>\n",
       "    </tr>\n",
       "    <tr>\n",
       "      <th>24</th>\n",
       "      <td>00000fd6641609c6ece5454664794f0340ad84dddce9a2...</td>\n",
       "      <td>0.06</td>\n",
       "    </tr>\n",
       "    <tr>\n",
       "      <th>25</th>\n",
       "      <td>00000fd6641609c6ece5454664794f0340ad84dddce9a2...</td>\n",
       "      <td>0.06</td>\n",
       "    </tr>\n",
       "  </tbody>\n",
       "</table>\n",
       "</div>"
      ],
      "text/plain": [
       "                                          customer_ID  D_43\n",
       "0   0000099d6bd597052cdcda90ffabf56573fe9d7c79be5f...   NaN\n",
       "1   0000099d6bd597052cdcda90ffabf56573fe9d7c79be5f...   NaN\n",
       "2   0000099d6bd597052cdcda90ffabf56573fe9d7c79be5f...   NaN\n",
       "3   0000099d6bd597052cdcda90ffabf56573fe9d7c79be5f...   NaN\n",
       "4   0000099d6bd597052cdcda90ffabf56573fe9d7c79be5f...   NaN\n",
       "5   0000099d6bd597052cdcda90ffabf56573fe9d7c79be5f...   NaN\n",
       "6   0000099d6bd597052cdcda90ffabf56573fe9d7c79be5f...   NaN\n",
       "7   0000099d6bd597052cdcda90ffabf56573fe9d7c79be5f...   NaN\n",
       "8   0000099d6bd597052cdcda90ffabf56573fe9d7c79be5f...   NaN\n",
       "9   0000099d6bd597052cdcda90ffabf56573fe9d7c79be5f...   NaN\n",
       "10  0000099d6bd597052cdcda90ffabf56573fe9d7c79be5f...   NaN\n",
       "11  0000099d6bd597052cdcda90ffabf56573fe9d7c79be5f...   NaN\n",
       "12  0000099d6bd597052cdcda90ffabf56573fe9d7c79be5f...   NaN\n",
       "13  00000fd6641609c6ece5454664794f0340ad84dddce9a2...  0.52\n",
       "14  00000fd6641609c6ece5454664794f0340ad84dddce9a2...  0.52\n",
       "15  00000fd6641609c6ece5454664794f0340ad84dddce9a2...  0.52\n",
       "16  00000fd6641609c6ece5454664794f0340ad84dddce9a2...  0.52\n",
       "17  00000fd6641609c6ece5454664794f0340ad84dddce9a2...  0.52\n",
       "18  00000fd6641609c6ece5454664794f0340ad84dddce9a2...  0.52\n",
       "19  00000fd6641609c6ece5454664794f0340ad84dddce9a2...  0.52\n",
       "20  00000fd6641609c6ece5454664794f0340ad84dddce9a2...  0.12\n",
       "21  00000fd6641609c6ece5454664794f0340ad84dddce9a2...  0.09\n",
       "22  00000fd6641609c6ece5454664794f0340ad84dddce9a2...  0.07\n",
       "23  00000fd6641609c6ece5454664794f0340ad84dddce9a2...  0.06\n",
       "24  00000fd6641609c6ece5454664794f0340ad84dddce9a2...  0.06\n",
       "25  00000fd6641609c6ece5454664794f0340ad84dddce9a2...  0.06"
      ]
     },
     "execution_count": 70,
     "metadata": {},
     "output_type": "execute_result"
    }
   ],
   "source": [
    "train[[\"customer_ID\", \"D_43\"]].head(26)"
   ]
  },
  {
   "cell_type": "markdown",
   "id": "eb238a95-3227-4a2c-b80f-173018484812",
   "metadata": {},
   "source": [
    "### Transform Train Set"
   ]
  },
  {
   "cell_type": "code",
   "execution_count": 33,
   "id": "847d7a60-23e8-4353-8b86-2fa034ba1391",
   "metadata": {},
   "outputs": [
    {
     "name": "stdout",
     "output_type": "stream",
     "text": [
      "Done insertion\n",
      "Average done\n",
      "Minimum done\n",
      "Maximum done\n",
      "Standard Deviation done\n",
      "Last entry done\n",
      "First entry done\n",
      "Second last entry done\n",
      "Third last entry done\n",
      "MA2 for Recency 1 done\n",
      "MA2 for Recency 2 done\n",
      "MA2 for Recency 3 done\n",
      "MA3 for Recency 1 done\n",
      "MA3 for Recency 2 done\n",
      "MA3 for least Recency done\n"
     ]
    },
    {
     "name": "stderr",
     "output_type": "stream",
     "text": [
      "100%|███████████████████████████████████████████████████████████████████████████████████████████████████████████████████████████| 173/173 [01:40<00:00,  1.72it/s]"
     ]
    },
    {
     "name": "stdout",
     "output_type": "stream",
     "text": [
      "CPU times: user 2min 38s, sys: 1min 21s, total: 3min 59s\n",
      "Wall time: 4min 22s\n"
     ]
    },
    {
     "name": "stderr",
     "output_type": "stream",
     "text": [
      "\n"
     ]
    }
   ],
   "source": [
    "%%time\n",
    "train_agg, keep_column = feature_gen_pipeline(train)"
   ]
  },
  {
   "cell_type": "code",
   "execution_count": 34,
   "id": "b96e7ed1-41b9-4950-beca-8fc587d69564",
   "metadata": {},
   "outputs": [
    {
     "name": "stdout",
     "output_type": "stream",
     "text": [
      "Size: 14.388695549 GB, Shape: (458913, 5063)\n"
     ]
    }
   ],
   "source": [
    "train_agg[\"target\"] = labels[\"target\"].values\n",
    "print(f\"Size: {sys.getsizeof(train_agg) / 1e9} GB, Shape: {train_agg.shape}\")"
   ]
  },
  {
   "cell_type": "code",
   "execution_count": 35,
   "id": "a1c9a196-6967-4bb6-bc37-fbcd3fc58e9c",
   "metadata": {},
   "outputs": [
    {
     "name": "stderr",
     "output_type": "stream",
     "text": [
      "100%|█████████████████████████████████████████████████████████████████████████████████████████████████████████████████████████| 2767/2767 [02:14<00:00, 20.57it/s]\n"
     ]
    }
   ],
   "source": [
    "train_agg = convert_all(train_agg)"
   ]
  },
  {
   "cell_type": "code",
   "execution_count": 36,
   "id": "f6b993bf-25e6-4d7b-a519-5e9b28aaf7ff",
   "metadata": {},
   "outputs": [
    {
     "name": "stderr",
     "output_type": "stream",
     "text": [
      "100%|███████████████████████████████████████████████████████████████████████████████████████████████████████████████████████████| 349/349 [00:11<00:00, 29.48it/s]\n",
      "100%|███████████████████████████████████████████████████████████████████████████████████████████████████████████████████████████| 107/107 [00:03<00:00, 30.12it/s]\n"
     ]
    }
   ],
   "source": [
    "train_agg = clip_all(train_agg)"
   ]
  },
  {
   "cell_type": "code",
   "execution_count": 37,
   "id": "bbb40518-a2b4-4866-835f-fb54d1d7b529",
   "metadata": {},
   "outputs": [
    {
     "name": "stderr",
     "output_type": "stream",
     "text": [
      "100%|████████████████████████████████████████████████████████████████████████████████████████████████████████████████████████| 5019/5019 [00:39<00:00, 125.59it/s]\n"
     ]
    }
   ],
   "source": [
    "train_agg = round_all(train_agg)"
   ]
  },
  {
   "cell_type": "code",
   "execution_count": 38,
   "id": "a9761e10-449d-4b5f-8631-2a47326fce92",
   "metadata": {},
   "outputs": [
    {
     "name": "stdout",
     "output_type": "stream",
     "text": [
      "Size: 9.375529937 GB, Shape: (458913, 5063)\n"
     ]
    }
   ],
   "source": [
    "print(f\"Size: {sys.getsizeof(train_agg) / 1e9} GB, Shape: {train_agg.shape}\")"
   ]
  },
  {
   "cell_type": "code",
   "execution_count": 25,
   "id": "53bd3dce-5a74-4bea-9338-6f591db0129d",
   "metadata": {},
   "outputs": [
    {
     "data": {
      "text/plain": [
       "(458913, 5063)"
      ]
     },
     "execution_count": 25,
     "metadata": {},
     "output_type": "execute_result"
    }
   ],
   "source": [
    "train_agg.shape"
   ]
  },
  {
   "cell_type": "code",
   "execution_count": 40,
   "id": "b8845c94-6486-40a8-b8ee-d9e584eb7407",
   "metadata": {},
   "outputs": [],
   "source": [
    "# train_agg.to_parquet(f\"./train_agg.parquet\")"
   ]
  },
  {
   "cell_type": "code",
   "execution_count": 44,
   "id": "3ca6c37c-0f0f-4db9-9be2-39bd8bd698f2",
   "metadata": {},
   "outputs": [],
   "source": [
    "# del train_agg, train"
   ]
  },
  {
   "cell_type": "markdown",
   "id": "df9a3004-ad6f-454f-9b69-9947455decde",
   "metadata": {},
   "source": [
    "### Transform Test"
   ]
  },
  {
   "cell_type": "code",
   "execution_count": 45,
   "id": "d3bddade-5f22-4e37-9378-76a542211dbd",
   "metadata": {},
   "outputs": [
    {
     "name": "stdout",
     "output_type": "stream",
     "text": [
      "Done insertion\n",
      "Average done\n",
      "Minimum done\n",
      "Maximum done\n",
      "Standard Deviation done\n",
      "Last entry done\n",
      "First entry done\n",
      "Second last entry done\n",
      "Third last entry done\n",
      "MA2 for Recency 1 done\n",
      "MA2 for Recency 2 done\n",
      "MA2 for Recency 3 done\n",
      "MA3 for Recency 1 done\n",
      "MA3 for Recency 2 done\n",
      "MA3 for least Recency done\n"
     ]
    },
    {
     "name": "stderr",
     "output_type": "stream",
     "text": [
      "100%|███████████████████████████████████████████████████████████████████████████████████████████████████████████████████████████| 173/173 [02:13<00:00,  1.30it/s]"
     ]
    },
    {
     "name": "stdout",
     "output_type": "stream",
     "text": [
      "CPU times: user 5min 10s, sys: 7min 2s, total: 12min 13s\n",
      "Wall time: 14min 55s\n"
     ]
    },
    {
     "name": "stderr",
     "output_type": "stream",
     "text": [
      "\n"
     ]
    }
   ],
   "source": [
    "%%time\n",
    "test_agg, keep_column = feature_gen_pipeline(test)"
   ]
  },
  {
   "cell_type": "code",
   "execution_count": 46,
   "id": "806726ad-3833-4b2a-974e-faa0c953d20d",
   "metadata": {},
   "outputs": [
    {
     "name": "stdout",
     "output_type": "stream",
     "text": [
      "Size: 29.004975209 GB, Shape: (924621, 5062)\n"
     ]
    }
   ],
   "source": [
    "print(f\"Size: {sys.getsizeof(test_agg) / 1e9} GB, Shape: {test_agg.shape}\")"
   ]
  },
  {
   "cell_type": "code",
   "execution_count": null,
   "id": "aea79ada-aff5-4134-8ec0-a97ae12cc001",
   "metadata": {},
   "outputs": [
    {
     "name": "stderr",
     "output_type": "stream",
     "text": [
      " 28%|█████████████████████████████████▉                                                                                        | 772/2773 [03:01<07:30,  4.44it/s]"
     ]
    }
   ],
   "source": [
    "test_agg = convert_all(test_agg)"
   ]
  },
  {
   "cell_type": "code",
   "execution_count": null,
   "id": "a78d9bb7-98fc-4b69-9e9e-bf4453a1df95",
   "metadata": {},
   "outputs": [],
   "source": [
    "test_agg = clip_all(test_agg)"
   ]
  },
  {
   "cell_type": "code",
   "execution_count": null,
   "id": "9cdec895-2c50-4a36-a4a6-afb06b72dc96",
   "metadata": {},
   "outputs": [],
   "source": [
    "test_agg = round_all(test_agg)"
   ]
  },
  {
   "cell_type": "code",
   "execution_count": null,
   "id": "1dca533d-7229-41f2-9e27-e2988b49352f",
   "metadata": {},
   "outputs": [],
   "source": [
    "print(f\"Size: {sys.getsizeof(test_agg) / 1e9} GB, Shape: {test_agg.shape}\")"
   ]
  },
  {
   "cell_type": "code",
   "execution_count": null,
   "id": "f7536a09-4713-4e71-a96a-0a8394c4ee7b",
   "metadata": {},
   "outputs": [],
   "source": [
    "test_agg.shape"
   ]
  },
  {
   "cell_type": "code",
   "execution_count": 40,
   "id": "1b3a5065-c131-4872-ae61-6106468c49db",
   "metadata": {},
   "outputs": [],
   "source": [
    "# train_agg.to_parquet(f\"./train_agg.parquet\")"
   ]
  },
  {
   "cell_type": "code",
   "execution_count": 39,
   "id": "fb5f1ee2-1c5f-495d-b2bf-017ac3caea38",
   "metadata": {},
   "outputs": [],
   "source": [
    "# del train_agg, train"
   ]
  },
  {
   "cell_type": "code",
   "execution_count": null,
   "id": "9a85f1fd-fab7-45e9-885f-35cf65ebc409",
   "metadata": {},
   "outputs": [],
   "source": []
  },
  {
   "cell_type": "code",
   "execution_count": null,
   "id": "4696a411-f26c-44d6-a1e6-799f3d27dc24",
   "metadata": {},
   "outputs": [],
   "source": []
  }
 ],
 "metadata": {
  "kernelspec": {
   "display_name": "amex",
   "language": "python",
   "name": "amex"
  },
  "language_info": {
   "codemirror_mode": {
    "name": "ipython",
    "version": 3
   },
   "file_extension": ".py",
   "mimetype": "text/x-python",
   "name": "python",
   "nbconvert_exporter": "python",
   "pygments_lexer": "ipython3",
   "version": "3.10.0"
  }
 },
 "nbformat": 4,
 "nbformat_minor": 5
}
