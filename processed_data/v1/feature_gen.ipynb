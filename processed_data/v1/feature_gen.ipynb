{
 "cells": [
  {
   "cell_type": "code",
   "execution_count": 3,
   "id": "5dd2ca34-3410-4078-aa48-7adbba211ed5",
   "metadata": {},
   "outputs": [],
   "source": [
    "import datetime\n",
    "import gc\n",
    "import joblib\n",
    "import matplotlib.pyplot as plt\n",
    "import pandas as pd\n",
    "import numpy as np\n",
    "import os\n",
    "import scipy.stats\n",
    "import seaborn as sns\n",
    "import sys\n",
    "sys.path.append(\"../../\")\n",
    "import time\n",
    "import warnings\n",
    "warnings.simplefilter(\"ignore\")\n",
    "from itertools import repeat, combinations\n",
    "from sklearn.preprocessing import StandardScaler\n",
    "from tqdm import tqdm"
   ]
  },
  {
   "cell_type": "code",
   "execution_count": 4,
   "id": "ed180905-de83-4e97-9d86-3307ede6d42f",
   "metadata": {},
   "outputs": [],
   "source": [
    "from utils.common import (\n",
    "    sigmoid, pad_column_name\n",
    ")\n",
    "from utils.constants import *\n",
    "from utils.eval_helpers import (\n",
    "    plot_roc_curves, plot_feature_importance, \n",
    "    amex_metric, get_final_metric_df, amex_metric_np, lgb_amex_metric\n",
    ")\n",
    "from utils.eda_helpers import (\n",
    "    plot_missing_proportion_barchart, plot_heatmap,\n",
    "    get_cols, insert_row_number\n",
    ")\n",
    "from utils.extraction_helpers import read_file\n",
    "from utils.feature_group import (\n",
    "    CATEGORY_COLUMNS, CONTINUOUS_COLUMNS, NON_FEATURE_COLUMNS,\n",
    "    MEAN_FEATURES, MIN_FEATURES, MAX_FEATURES, LAST_FEATURES, FIRST_FEATURES,\n",
    "    RANGE_FEATURES, VELOCITY_FEATURES, SPEED_FEATURES\n",
    ")\n",
    "from utils.feature_engineering_helpers import (\n",
    "    feature_gen_pipeline,\n",
    "    filter_df_for_feature, \n",
    "    get_specific_row_df, \n",
    "    get_agg_df, get_ma_df\n",
    ")\n",
    "from utils.impute_helpers import impute_col"
   ]
  },
  {
   "cell_type": "code",
   "execution_count": 5,
   "id": "67194602-57fc-4e92-9801-8d600e52a5b2",
   "metadata": {},
   "outputs": [],
   "source": [
    "%load_ext autoreload\n",
    "%autoreload"
   ]
  },
  {
   "cell_type": "code",
   "execution_count": 6,
   "id": "1f0163b6-0df1-4062-a177-b86c359dc4b7",
   "metadata": {},
   "outputs": [],
   "source": [
    "START = time.time()"
   ]
  },
  {
   "cell_type": "markdown",
   "id": "3885beac-e245-43b6-a2cc-73e9f871d132",
   "metadata": {},
   "source": [
    "## Feature Engineering"
   ]
  },
  {
   "cell_type": "code",
   "execution_count": 10,
   "id": "6735831d-0024-4122-9c7b-1280e519d03e",
   "metadata": {},
   "outputs": [
    {
     "name": "stdout",
     "output_type": "stream",
     "text": [
      "Shape of data: (5531451, 190)\n",
      "Shape of data: (458913, 2)\n",
      "CPU times: user 5.6 s, sys: 5.33 s, total: 10.9 s\n",
      "Wall time: 6.37 s\n"
     ]
    }
   ],
   "source": [
    "%%time\n",
    "train = read_file(f\"../{INTERIM_TRAIN_PARQUET_PATH}/train_all_variables.parquet\")\n",
    "labels = read_file(f\"../{RAW_DATA_PATH}/train_labels.csv\")"
   ]
  },
  {
   "cell_type": "code",
   "execution_count": 11,
   "id": "cb5394b5-5d3d-4d00-bca8-e8d87590a03a",
   "metadata": {},
   "outputs": [
    {
     "name": "stdout",
     "output_type": "stream",
     "text": [
      "CPU times: user 901 ms, sys: 1.52 s, total: 2.42 s\n",
      "Wall time: 2.42 s\n"
     ]
    }
   ],
   "source": [
    "%%time\n",
    "cat_columns = set(train.columns).intersection(set(CATEGORY_COLUMNS))\n",
    "train.loc[:, CATEGORY_COLUMNS] = train.loc[:, CATEGORY_COLUMNS].astype(\"category\")"
   ]
  },
  {
   "cell_type": "code",
   "execution_count": 12,
   "id": "16898d33-e82a-4096-bc97-edfda620659d",
   "metadata": {},
   "outputs": [
    {
     "data": {
      "text/plain": [
       "5.774837336"
      ]
     },
     "execution_count": 12,
     "metadata": {},
     "output_type": "execute_result"
    }
   ],
   "source": [
    "sys.getsizeof(train) / 1e9"
   ]
  },
  {
   "cell_type": "code",
   "execution_count": 13,
   "id": "004ade48-1df8-40ae-aa3a-f92a7a08e76c",
   "metadata": {},
   "outputs": [
    {
     "data": {
      "text/plain": [
       "float32           89\n",
       "float64           47\n",
       "int32             39\n",
       "category           3\n",
       "int64              2\n",
       "object             1\n",
       "datetime64[ns]     1\n",
       "category           1\n",
       "category           1\n",
       "category           1\n",
       "category           1\n",
       "category           1\n",
       "category           1\n",
       "category           1\n",
       "category           1\n",
       "dtype: int64"
      ]
     },
     "execution_count": 13,
     "metadata": {},
     "output_type": "execute_result"
    }
   ],
   "source": [
    "train.dtypes.value_counts()"
   ]
  },
  {
   "cell_type": "code",
   "execution_count": 14,
   "id": "2179d692-baec-462d-aa54-3fa8bc038655",
   "metadata": {},
   "outputs": [
    {
     "name": "stdout",
     "output_type": "stream",
     "text": [
      "Done insertion\n",
      "Average done\n",
      "Minimum done\n",
      "Maximum done\n",
      "Standard Deviation done\n",
      "Last entry done\n",
      "First entry done\n",
      "Second last entry done\n",
      "MA2 for Recency 1 done\n",
      "MA2 for Recency 2 done\n",
      "MA2 for Recency 3 done\n",
      "MA2 for least Recency done\n",
      "MA3 for Recency 1 done\n",
      "MA3 for Recency 2 done\n"
     ]
    },
    {
     "name": "stderr",
     "output_type": "stream",
     "text": [
      "100%|████████████████████████████████████████████████████████████████████████████████████████████████████████████████████████████████████| 176/176 [00:21<00:00,  8.26it/s]\n"
     ]
    },
    {
     "name": "stdout",
     "output_type": "stream",
     "text": [
      "CPU times: user 53.8 s, sys: 40.4 s, total: 1min 34s\n",
      "Wall time: 1min 53s\n"
     ]
    }
   ],
   "source": [
    "%%time\n",
    "train_agg = feature_gen_pipeline(train)"
   ]
  },
  {
   "cell_type": "code",
   "execution_count": 15,
   "id": "d13e8aa6-2a43-4634-9845-65c06e43fc96",
   "metadata": {},
   "outputs": [],
   "source": [
    "train_agg[\"target\"] = labels[\"target\"].values"
   ]
  },
  {
   "cell_type": "code",
   "execution_count": 16,
   "id": "369cf1d7-93b9-4264-b9fd-56023f1cadf1",
   "metadata": {},
   "outputs": [
    {
     "data": {
      "text/plain": [
       "(11.419067786, (458913, 4082))"
      ]
     },
     "execution_count": 16,
     "metadata": {},
     "output_type": "execute_result"
    }
   ],
   "source": [
    "sys.getsizeof(train_agg) / 1e9, train_agg.shape"
   ]
  },
  {
   "cell_type": "code",
   "execution_count": 17,
   "id": "75f6cb55-1402-49dd-abe3-0386c711c315",
   "metadata": {},
   "outputs": [],
   "source": [
    "train_agg.to_pickle(f\"./train_agg2.pkl\")"
   ]
  },
  {
   "cell_type": "code",
   "execution_count": 19,
   "id": "49083ba5-a573-423f-888f-de08f3302c73",
   "metadata": {},
   "outputs": [],
   "source": [
    "del train, train_agg"
   ]
  },
  {
   "cell_type": "markdown",
   "id": "9527bd0f-1e73-4a05-90a1-3a1c4dd0c027",
   "metadata": {},
   "source": [
    "### Test"
   ]
  },
  {
   "cell_type": "code",
   "execution_count": 20,
   "id": "1982bccb-89d3-4b6a-90ad-0f129cfae436",
   "metadata": {},
   "outputs": [
    {
     "name": "stdout",
     "output_type": "stream",
     "text": [
      "Shape of data: (11363762, 189)\n",
      "CPU times: user 12 s, sys: 21.3 s, total: 33.2 s\n",
      "Wall time: 28.3 s\n"
     ]
    }
   ],
   "source": [
    "%%time\n",
    "test = read_file(f\"../{INTERIM_TEST_PARQUET_PATH}/test_all_variables.parquet\")"
   ]
  },
  {
   "cell_type": "code",
   "execution_count": 21,
   "id": "755991bf-a3eb-45e6-8335-69114527f93b",
   "metadata": {},
   "outputs": [
    {
     "data": {
      "text/plain": [
       "16.466091282"
      ]
     },
     "execution_count": 21,
     "metadata": {},
     "output_type": "execute_result"
    }
   ],
   "source": [
    "sys.getsizeof(test) / 1e9"
   ]
  },
  {
   "cell_type": "code",
   "execution_count": 22,
   "id": "e2990b0d-0828-4329-b305-ec6bf5845c34",
   "metadata": {},
   "outputs": [
    {
     "data": {
      "text/plain": [
       "float64           142\n",
       "int32              44\n",
       "object              1\n",
       "datetime64[ns]      1\n",
       "int64               1\n",
       "dtype: int64"
      ]
     },
     "execution_count": 22,
     "metadata": {},
     "output_type": "execute_result"
    }
   ],
   "source": [
    "test.dtypes.value_counts()"
   ]
  },
  {
   "cell_type": "code",
   "execution_count": 23,
   "id": "4dcac12f-8dcf-46a5-8371-25c54e464eeb",
   "metadata": {},
   "outputs": [
    {
     "name": "stdout",
     "output_type": "stream",
     "text": [
      "Done insertion\n",
      "Average done\n",
      "Minimum done\n",
      "Maximum done\n",
      "Standard Deviation done\n",
      "Last entry done\n",
      "First entry done\n",
      "Second last entry done\n",
      "MA2 for Recency 1 done\n",
      "MA2 for Recency 2 done\n",
      "MA2 for Recency 3 done\n",
      "MA2 for least Recency done\n",
      "MA3 for Recency 1 done\n",
      "MA3 for Recency 2 done\n"
     ]
    },
    {
     "name": "stderr",
     "output_type": "stream",
     "text": [
      "100%|████████████████████████████████████████████████████████████████████████████████████████████████████████████████████████████████████| 176/176 [00:31<00:00,  5.63it/s]\n"
     ]
    },
    {
     "name": "stdout",
     "output_type": "stream",
     "text": [
      "CPU times: user 1min 43s, sys: 3min, total: 4min 44s\n",
      "Wall time: 8min 18s\n"
     ]
    }
   ],
   "source": [
    "%%time\n",
    "test_agg = feature_gen_pipeline(test)"
   ]
  },
  {
   "cell_type": "code",
   "execution_count": 24,
   "id": "9cd3c1e8-b164-4e08-ad91-2a0ec3b9b6bc",
   "metadata": {},
   "outputs": [
    {
     "data": {
      "text/plain": [
       "(29.275887374, (924621, 4081))"
      ]
     },
     "execution_count": 24,
     "metadata": {},
     "output_type": "execute_result"
    }
   ],
   "source": [
    "sys.getsizeof(test_agg) / 1e9, test_agg.shape"
   ]
  },
  {
   "cell_type": "code",
   "execution_count": 25,
   "id": "0ebba52b-b045-40a1-bd0c-f3862639a807",
   "metadata": {},
   "outputs": [],
   "source": [
    "test_agg.to_pickle(f\"./test_agg2.pkl\")"
   ]
  },
  {
   "cell_type": "code",
   "execution_count": 26,
   "id": "e5618808-e4e2-4edc-abd1-1534bc6665ec",
   "metadata": {},
   "outputs": [],
   "source": [
    "del test_agg, test"
   ]
  },
  {
   "cell_type": "code",
   "execution_count": 27,
   "id": "bb7753c9-7e1d-4138-a75d-8b17fc6cce9e",
   "metadata": {
    "tags": []
   },
   "outputs": [],
   "source": [
    "END = time.time()"
   ]
  },
  {
   "cell_type": "code",
   "execution_count": 28,
   "id": "8e9d457c-3df8-4407-9267-6a4fa02ff08f",
   "metadata": {},
   "outputs": [
    {
     "name": "stdout",
     "output_type": "stream",
     "text": [
      "917.44 seconds elapsed\n"
     ]
    }
   ],
   "source": [
    "print(f\"{END - START:.2f} seconds elapsed\")"
   ]
  },
  {
   "cell_type": "code",
   "execution_count": null,
   "id": "6fd318ad-41ad-4421-b04f-076fe775cf65",
   "metadata": {},
   "outputs": [],
   "source": []
  }
 ],
 "metadata": {
  "kernelspec": {
   "display_name": "amex",
   "language": "python",
   "name": "amex"
  },
  "language_info": {
   "codemirror_mode": {
    "name": "ipython",
    "version": 3
   },
   "file_extension": ".py",
   "mimetype": "text/x-python",
   "name": "python",
   "nbconvert_exporter": "python",
   "pygments_lexer": "ipython3",
   "version": "3.10.0"
  }
 },
 "nbformat": 4,
 "nbformat_minor": 5
}
