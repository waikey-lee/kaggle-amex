{
 "cells": [
  {
   "cell_type": "code",
   "execution_count": 1,
   "id": "5dd2ca34-3410-4078-aa48-7adbba211ed5",
   "metadata": {},
   "outputs": [],
   "source": [
    "import datetime\n",
    "import gc\n",
    "import joblib\n",
    "import matplotlib.pyplot as plt\n",
    "import pandas as pd\n",
    "import numpy as np\n",
    "import os\n",
    "import scipy.stats\n",
    "import seaborn as sns\n",
    "import sys\n",
    "sys.path.append(\"../../\")\n",
    "import time\n",
    "import warnings\n",
    "warnings.simplefilter(\"ignore\")\n",
    "from collections import defaultdict\n",
    "from itertools import repeat, combinations\n",
    "from pandarallel import pandarallel\n",
    "from sklearn.preprocessing import StandardScaler, LabelEncoder\n",
    "from tqdm import tqdm"
   ]
  },
  {
   "cell_type": "code",
   "execution_count": 2,
   "id": "ed180905-de83-4e97-9d86-3307ede6d42f",
   "metadata": {},
   "outputs": [],
   "source": [
    "from utils.common import (\n",
    "    sigmoid, pad_column_name\n",
    ")\n",
    "from utils.constants import *\n",
    "from utils.eval_helpers import (\n",
    "    plot_roc_curves, plot_feature_importance, \n",
    "    amex_metric, get_final_metric_df, amex_metric_np, lgb_amex_metric\n",
    ")\n",
    "from utils.eda_helpers import (\n",
    "    plot_missing_proportion_barchart, plot_heatmap,\n",
    "    get_cols, insert_row_number, plot_train_test_distribution\n",
    ")\n",
    "from utils.extraction_helpers import read_file\n",
    "from utils.feature_group import CATEGORY_COLUMNS"
   ]
  },
  {
   "cell_type": "code",
   "execution_count": 3,
   "id": "93a23fd1-1dc1-4cdc-af7a-dfd41584887d",
   "metadata": {},
   "outputs": [],
   "source": [
    "from feature_engineering_helpers import feature_gen_pipeline"
   ]
  },
  {
   "cell_type": "code",
   "execution_count": 4,
   "id": "67194602-57fc-4e92-9801-8d600e52a5b2",
   "metadata": {},
   "outputs": [],
   "source": [
    "%load_ext autoreload\n",
    "%autoreload"
   ]
  },
  {
   "cell_type": "code",
   "execution_count": 5,
   "id": "570eba73-bbc2-4a0c-8a53-0c16a8009661",
   "metadata": {},
   "outputs": [
    {
     "name": "stdout",
     "output_type": "stream",
     "text": [
      "INFO: Pandarallel will run on 16 workers.\n",
      "INFO: Pandarallel will use standard multiprocessing data transfer (pipe) to transfer data between the main process and workers.\n"
     ]
    }
   ],
   "source": [
    "pandarallel.initialize(nb_workers=16, progress_bar=False, use_memory_fs=False)"
   ]
  },
  {
   "cell_type": "code",
   "execution_count": 6,
   "id": "1f0163b6-0df1-4062-a177-b86c359dc4b7",
   "metadata": {},
   "outputs": [],
   "source": [
    "START = time.time()"
   ]
  },
  {
   "cell_type": "code",
   "execution_count": 7,
   "id": "f07b3679-9446-42a0-aa02-16d4c08257a7",
   "metadata": {},
   "outputs": [],
   "source": [
    "def combine_binary_features(train, test, final_col_name, col_list, sufficient_count=500, drop_ori=False):\n",
    "    train[\"temp\"] = train[col_list].astype(str).parallel_apply(lambda x: ''.join(x), axis=1)\n",
    "    test[\"temp\"] = test[col_list].astype(str).parallel_apply(lambda x: ''.join(x), axis=1)\n",
    "    le = LabelEncoder()\n",
    "    le.fit(train[\"temp\"])\n",
    "    le_dict = dict(zip(le.classes_, le.transform(le.classes_)))\n",
    "    train_df = train.groupby(\"temp\").agg(\n",
    "        target_count=(\"target\", \"count\")\n",
    "    )\n",
    "    less_count_cat_codes = train_df.loc[train_df[\"target_count\"] < sufficient_count].index.tolist()\n",
    "    le_dict = {k: v if k not in less_count_cat_codes else np.nan for k, v in le_dict.items()}\n",
    "    train[final_col_name] = train[\"temp\"].map(le_dict).astype(\"category\")\n",
    "    test[final_col_name] = test[\"temp\"].map(le_dict).astype(\"category\")\n",
    "    if drop_ori:\n",
    "        train.drop(columns=col_list, inplace=True)\n",
    "        test.drop(columns=col_list, inplace=True)\n",
    "    return train, test"
   ]
  },
  {
   "cell_type": "markdown",
   "id": "b4962ceb-f3e9-4522-9a30-129b6d25fae9",
   "metadata": {},
   "source": [
    "### Read Data"
   ]
  },
  {
   "cell_type": "code",
   "execution_count": 8,
   "id": "1cc3552e-35f1-44df-9d7d-2de736acc83c",
   "metadata": {},
   "outputs": [
    {
     "name": "stdout",
     "output_type": "stream",
     "text": [
      "Shape of data: (458913, 2)\n"
     ]
    }
   ],
   "source": [
    "labels = read_file(f\"../{RAW_DATA_PATH}/train_labels.csv\")"
   ]
  },
  {
   "cell_type": "code",
   "execution_count": 8,
   "id": "6735831d-0024-4122-9c7b-1280e519d03e",
   "metadata": {},
   "outputs": [
    {
     "name": "stdout",
     "output_type": "stream",
     "text": [
      "Shape of data: (5531451, 199)\n",
      "Shape of data: (5681079, 198)\n",
      "Shape of data: (5682683, 198)\n",
      "CPU times: user 17.3 s, sys: 20.9 s, total: 38.2 s\n",
      "Wall time: 25.8 s\n"
     ]
    }
   ],
   "source": [
    "%%time\n",
    "train = read_file(f\"../{INTERIM_DATA_PATH}/v2/train_parquet/train_all_variables.parquet\")\n",
    "test1 = read_file(f\"../{INTERIM_DATA_PATH}/v2/test_parquet/test_all_variables1.parquet\")\n",
    "test2 = read_file(f\"../{INTERIM_DATA_PATH}/v2/test_parquet/test_all_variables2.parquet\")"
   ]
  },
  {
   "cell_type": "code",
   "execution_count": 9,
   "id": "939b892e-d116-459f-8cb9-64703f631df4",
   "metadata": {},
   "outputs": [],
   "source": [
    "test = pd.concat([test1, test2], ignore_index=True)\n",
    "del test1, test2"
   ]
  },
  {
   "cell_type": "code",
   "execution_count": 10,
   "id": "a302bc01-313a-4319-8360-ad248469c9e1",
   "metadata": {},
   "outputs": [
    {
     "data": {
      "text/plain": [
       "18"
      ]
     },
     "execution_count": 10,
     "metadata": {},
     "output_type": "execute_result"
    }
   ],
   "source": [
    "gc.collect()"
   ]
  },
  {
   "cell_type": "code",
   "execution_count": 11,
   "id": "defc9ba3-5c92-4d03-9dfa-309e5b4288e4",
   "metadata": {},
   "outputs": [],
   "source": [
    "df_list = [train, test]"
   ]
  },
  {
   "cell_type": "code",
   "execution_count": 12,
   "id": "e1dbe97e-6fc3-417f-8ea5-83908175a9ba",
   "metadata": {},
   "outputs": [],
   "source": [
    "for df in df_list:\n",
    "    df[\"D_135\"] = df[\"D_135\"].fillna(-1)\n",
    "    df[\"D_137\"] = df[\"D_137\"].fillna(-1)"
   ]
  },
  {
   "cell_type": "code",
   "execution_count": 13,
   "id": "f7c0d2f7-3ce5-4b98-8771-0e96fc8553c2",
   "metadata": {},
   "outputs": [
    {
     "name": "stdout",
     "output_type": "stream",
     "text": [
      "CPU times: user 3.84 s, sys: 741 ms, total: 4.58 s\n",
      "Wall time: 5.2 s\n"
     ]
    }
   ],
   "source": [
    "%%time\n",
    "n = train.nunique()\n",
    "binary_features = n[n == 2].index.tolist()"
   ]
  },
  {
   "cell_type": "markdown",
   "id": "302c14eb-d4d5-4aee-9251-9ab1eeca8505",
   "metadata": {},
   "source": [
    "### Group Features"
   ]
  },
  {
   "cell_type": "markdown",
   "id": "32979d20-a7c6-4dd7-9c12-895dceddc648",
   "metadata": {},
   "source": [
    "### Risk Binary"
   ]
  },
  {
   "cell_type": "code",
   "execution_count": 14,
   "id": "e47b3252-52b4-4678-80f3-b4694c8fbf94",
   "metadata": {},
   "outputs": [],
   "source": [
    "risk_binary_features = [c for c in binary_features if c.startswith(\"R_\")]"
   ]
  },
  {
   "cell_type": "code",
   "execution_count": 15,
   "id": "9d2e63b5-3e95-4f95-a69d-f9fea32f9af4",
   "metadata": {},
   "outputs": [
    {
     "name": "stdout",
     "output_type": "stream",
     "text": [
      "['R_13', 'R_14', 'R_15', 'R_17', 'R_18', 'R_19', 'R_20', 'R_21', 'R_22', 'R_23', 'R_24', 'R_25', 'R_28']\n"
     ]
    }
   ],
   "source": [
    "sparse_risk_binary_features = train.loc[:, risk_binary_features].sum().sort_values().iloc[:13].index.tolist()\n",
    "print(sorted(sparse_risk_binary_features))"
   ]
  },
  {
   "cell_type": "code",
   "execution_count": 19,
   "id": "ca5c8f52-6484-41d5-bf9d-7756745324f2",
   "metadata": {},
   "outputs": [
    {
     "name": "stdout",
     "output_type": "stream",
     "text": [
      "CPU times: user 1min 7s, sys: 29.3 s, total: 1min 37s\n",
      "Wall time: 1min 57s\n"
     ]
    }
   ],
   "source": [
    "%%time\n",
    "train, test = combine_binary_features(\n",
    "    train, \n",
    "    test, \n",
    "    final_col_name=\"R_binaries\", \n",
    "    col_list=sparse_risk_binary_features, \n",
    "    sufficient_count=300, \n",
    "    drop_ori=True\n",
    ")"
   ]
  },
  {
   "cell_type": "code",
   "execution_count": 42,
   "id": "30b69438-22f0-4fff-b970-8f55d1de950f",
   "metadata": {},
   "outputs": [
    {
     "name": "stdout",
     "output_type": "stream",
     "text": [
      "Train-Public PSI: 0.0017, Train-Private PSI: 0.0017\n"
     ]
    },
    {
     "data": {
      "image/png": "[encoded data removed]",
      "text/plain": [
       "<Figure size 1296x576 with 1 Axes>"
      ]
     },
     "metadata": {
      "needs_background": "light"
     },
     "output_type": "display_data"
    }
   ],
   "source": [
    "plot_train_test_distribution([train, test], \"R_binaries\", without_drop_tail=True, is_category=True)"
   ]
  },
  {
   "cell_type": "code",
   "execution_count": 22,
   "id": "a3e9d0e6-d3fb-4cc1-92b7-ca820fc4f1cb",
   "metadata": {},
   "outputs": [
    {
     "data": {
      "text/plain": [
       "((5531451, 188), (11363762, 187))"
      ]
     },
     "execution_count": 22,
     "metadata": {},
     "output_type": "execute_result"
    }
   ],
   "source": [
    "train.shape, test.shape"
   ]
  },
  {
   "cell_type": "code",
   "execution_count": 23,
   "id": "9ccc922f-6a73-46b8-84d3-689c00813ce7",
   "metadata": {},
   "outputs": [
    {
     "data": {
      "text/plain": [
       "{'target'}"
      ]
     },
     "execution_count": 23,
     "metadata": {},
     "output_type": "execute_result"
    }
   ],
   "source": [
    "set(train.columns) - set(test.columns)"
   ]
  },
  {
   "cell_type": "markdown",
   "id": "e86e1050-0a71-46f7-8efd-99b8b283c425",
   "metadata": {},
   "source": [
    "### Spend Binary"
   ]
  },
  {
   "cell_type": "code",
   "execution_count": 27,
   "id": "641e4e44-1669-4c25-93a1-c570e8a32234",
   "metadata": {},
   "outputs": [
    {
     "name": "stdout",
     "output_type": "stream",
     "text": [
      "['S_6', 'S_16', 'S_18', 'S_20']\n"
     ]
    }
   ],
   "source": [
    "spend_binary_features = [c for c in binary_features if c.startswith(\"S_\")]\n",
    "print(spend_binary_features)"
   ]
  },
  {
   "cell_type": "code",
   "execution_count": 28,
   "id": "f57b3838-4d95-4554-a98c-29e0eb5738da",
   "metadata": {},
   "outputs": [
    {
     "name": "stdout",
     "output_type": "stream",
     "text": [
      "CPU times: user 20.7 s, sys: 4.02 s, total: 24.7 s\n",
      "Wall time: 28.2 s\n"
     ]
    }
   ],
   "source": [
    "%%time\n",
    "train, test = combine_binary_features(\n",
    "    train, \n",
    "    test, \n",
    "    final_col_name=\"S_binaries\", \n",
    "    col_list=spend_binary_features, \n",
    "    sufficient_count=300\n",
    ")"
   ]
  },
  {
   "cell_type": "code",
   "execution_count": 41,
   "id": "b39a97ec-016a-49f0-836f-c807206bd754",
   "metadata": {},
   "outputs": [
    {
     "name": "stdout",
     "output_type": "stream",
     "text": [
      "Train-Public PSI: 0.0090, Train-Private PSI: 0.0090\n"
     ]
    },
    {
     "data": {
      "image/png": "[encoded data removed]",
      "text/plain": [
       "<Figure size 1296x576 with 1 Axes>"
      ]
     },
     "metadata": {
      "needs_background": "light"
     },
     "output_type": "display_data"
    }
   ],
   "source": [
    "plot_train_test_distribution([train, test], \"S_binaries\", without_drop_tail=True, is_category=True)"
   ]
  },
  {
   "cell_type": "markdown",
   "id": "1af0fdb8-c193-45ac-be6e-3e248e1cd840",
   "metadata": {},
   "source": [
    "### Balance Binary"
   ]
  },
  {
   "cell_type": "code",
   "execution_count": 43,
   "id": "5cc1e3f5-1a98-46b1-826f-2d69bfd51b8f",
   "metadata": {},
   "outputs": [
    {
     "name": "stdout",
     "output_type": "stream",
     "text": [
      "['B_8', 'B_27', 'B_31', 'B_32', 'B_33', 'B_36']\n"
     ]
    }
   ],
   "source": [
    "balance_binary_features = [c for c in binary_features if c.startswith(\"B_\")]\n",
    "print(balance_binary_features)"
   ]
  },
  {
   "cell_type": "code",
   "execution_count": 44,
   "id": "fa7e4818-3b4e-452f-a265-d5f61e6edab7",
   "metadata": {},
   "outputs": [],
   "source": [
    "sparse_balance_binary_features = ['B_27', 'B_31', 'B_32']"
   ]
  },
  {
   "cell_type": "code",
   "execution_count": 45,
   "id": "0c49fde0-6dc3-4721-b131-9565f3207ab7",
   "metadata": {},
   "outputs": [
    {
     "name": "stdout",
     "output_type": "stream",
     "text": [
      "B_27\n",
      "0    0.248804\n",
      "1    0.837016\n",
      "Name: target, dtype: float64\n",
      "B_31\n",
      "0    0.720589\n",
      "1    0.247652\n",
      "Name: target, dtype: float64\n",
      "B_32\n",
      "0    0.242399\n",
      "1    0.541201\n",
      "Name: target, dtype: float64\n"
     ]
    }
   ],
   "source": [
    "for col in sparse_balance_binary_features:\n",
    "    print(train.groupby(col)['target'].mean())"
   ]
  },
  {
   "cell_type": "code",
   "execution_count": 46,
   "id": "66aef858-c96c-4ef4-b755-bbf1c7a2157f",
   "metadata": {},
   "outputs": [
    {
     "name": "stdout",
     "output_type": "stream",
     "text": [
      "CPU times: user 33 s, sys: 28.8 s, total: 1min 1s\n",
      "Wall time: 1min 23s\n"
     ]
    }
   ],
   "source": [
    "%%time\n",
    "train, test = combine_binary_features(\n",
    "    train, \n",
    "    test, \n",
    "    final_col_name=\"B_binaries\", \n",
    "    col_list=balance_binary_features, \n",
    "    sufficient_count=500,\n",
    "    drop_ori=True\n",
    ")"
   ]
  },
  {
   "cell_type": "code",
   "execution_count": 47,
   "id": "0f89cf74-a232-4d84-a87e-67fc0b6b0ff3",
   "metadata": {},
   "outputs": [
    {
     "name": "stdout",
     "output_type": "stream",
     "text": [
      "Train-Public PSI: 0.0158, Train-Private PSI: 0.0158\n"
     ]
    },
    {
     "data": {
      "image/png": "[encoded data removed]",
      "text/plain": [
       "<Figure size 1296x576 with 1 Axes>"
      ]
     },
     "metadata": {
      "needs_background": "light"
     },
     "output_type": "display_data"
    }
   ],
   "source": [
    "plot_train_test_distribution([train, test], \"B_binaries\", without_drop_tail=True, is_category=True)"
   ]
  },
  {
   "cell_type": "code",
   "execution_count": 48,
   "id": "715261ed-3f75-4272-85b1-6de7554a7923",
   "metadata": {},
   "outputs": [
    {
     "data": {
      "text/plain": [
       "((5531451, 184), (11363762, 183))"
      ]
     },
     "execution_count": 48,
     "metadata": {},
     "output_type": "execute_result"
    }
   ],
   "source": [
    "train.shape, test.shape"
   ]
  },
  {
   "cell_type": "markdown",
   "id": "cb290a8d-82a1-4a99-bfe8-00e7da606c8f",
   "metadata": {},
   "source": [
    "### Delinquency Binaries"
   ]
  },
  {
   "cell_type": "code",
   "execution_count": 51,
   "id": "5bbb2701-15a0-4e7f-bcc8-a34c1ad0e397",
   "metadata": {},
   "outputs": [
    {
     "name": "stdout",
     "output_type": "stream",
     "text": [
      "['D_54', 'D_66', 'D_86', 'D_87', 'D_93', 'D_94', 'D_96', 'D_103', 'D_109', 'D_114', 'D_116', 'D_120', 'D_127', 'D_128', 'D_129', 'D_130', 'D_139', 'D_140', 'D_143']\n"
     ]
    }
   ],
   "source": [
    "delinquency_binary_features = [c for c in binary_features if c.startswith(\"D_\")]\n",
    "print(delinquency_binary_features)"
   ]
  },
  {
   "cell_type": "code",
   "execution_count": 52,
   "id": "f893663a-b564-45e1-a3bc-e78d41584df8",
   "metadata": {},
   "outputs": [
    {
     "name": "stdout",
     "output_type": "stream",
     "text": [
      "['D_109', 'D_116', 'D_140', 'D_86', 'D_87', 'D_93', 'D_94', 'D_96']\n"
     ]
    }
   ],
   "source": [
    "sparse_delinquency_binary_features = train.loc[:, delinquency_binary_features].sum().sort_values().iloc[:8].index.tolist()\n",
    "print(sorted(sparse_delinquency_binary_features))"
   ]
  },
  {
   "cell_type": "code",
   "execution_count": null,
   "id": "be7c4201-4247-498d-8765-e6fe3c4e1f3f",
   "metadata": {},
   "outputs": [],
   "source": [
    "# for col in sparse_delinquency_binary_features:\n",
    "#     print(train.groupby(col)['target'].mean())"
   ]
  },
  {
   "cell_type": "code",
   "execution_count": null,
   "id": "06608afc-4b9b-4209-bfff-7fb628846e8c",
   "metadata": {},
   "outputs": [],
   "source": [
    "# %%time\n",
    "# train, test = combine_binary_features(\n",
    "#     train, \n",
    "#     test, \n",
    "#     final_col_name=\"D_binaries\", \n",
    "#     col_list=sparse_delinquency_binary_features, \n",
    "#     sufficient_count=500,\n",
    "#     drop_ori=True\n",
    "# )"
   ]
  },
  {
   "cell_type": "code",
   "execution_count": null,
   "id": "2b1829db-6146-4251-8eef-c8400b3534a1",
   "metadata": {},
   "outputs": [],
   "source": [
    "# plot_train_test_distribution([train, test], \"D_binaries\", without_drop_tail=True, is_category=True)"
   ]
  },
  {
   "cell_type": "code",
   "execution_count": 49,
   "id": "2c92bb1a-b1ce-46ff-8bc0-4be69c069c7c",
   "metadata": {},
   "outputs": [
    {
     "data": {
      "text/plain": [
       "((5531451, 184), (11363762, 183))"
      ]
     },
     "execution_count": 49,
     "metadata": {},
     "output_type": "execute_result"
    }
   ],
   "source": [
    "train.shape, test.shape"
   ]
  },
  {
   "cell_type": "code",
   "execution_count": 50,
   "id": "0b76eacd-15f6-4c28-9482-875f6086c3ac",
   "metadata": {},
   "outputs": [],
   "source": [
    "train.to_parquet(\"./merged_train.parquet\")\n",
    "test.to_parquet(\"./merged_test.parquet\")"
   ]
  },
  {
   "cell_type": "markdown",
   "id": "c929a838-d4e5-4ca6-9983-716958d4aee8",
   "metadata": {},
   "source": [
    "### Aggregation"
   ]
  },
  {
   "cell_type": "markdown",
   "id": "0f5d5f55-50cb-4d5d-af9f-b54426053b6b",
   "metadata": {},
   "source": [
    "#### Train"
   ]
  },
  {
   "cell_type": "code",
   "execution_count": 53,
   "id": "92da3f08-f492-41d6-8e01-7a00049d8424",
   "metadata": {},
   "outputs": [
    {
     "name": "stdout",
     "output_type": "stream",
     "text": [
      "Shape of data: (5531451, 184)\n",
      "CPU times: user 5.24 s, sys: 6.58 s, total: 11.8 s\n",
      "Wall time: 7.41 s\n"
     ]
    }
   ],
   "source": [
    "%%time\n",
    "train = read_file(\"./merged_train.parquet\")"
   ]
  },
  {
   "cell_type": "code",
   "execution_count": 54,
   "id": "3f1d89cd-f1d5-4b32-82f2-121fb785374b",
   "metadata": {},
   "outputs": [],
   "source": [
    "bin_cols = get_cols(train, \"_binaries\")"
   ]
  },
  {
   "cell_type": "code",
   "execution_count": 55,
   "id": "c7516a65-4f53-4d75-92c9-5f8958799543",
   "metadata": {},
   "outputs": [],
   "source": [
    "train.loc[:, bin_cols] = train.loc[:, bin_cols].astype(\"category\")"
   ]
  },
  {
   "cell_type": "code",
   "execution_count": 56,
   "id": "847d7a60-23e8-4353-8b86-2fa034ba1391",
   "metadata": {},
   "outputs": [
    {
     "name": "stdout",
     "output_type": "stream",
     "text": [
      "Done insertion\n",
      "Average done\n",
      "Minimum done\n",
      "Maximum done\n",
      "Standard Deviation done\n",
      "Skewness done\n",
      "Last entry done\n",
      "First entry done\n",
      "Second last entry done\n",
      "Third last entry done\n",
      "MA2 for Recency 1 done\n",
      "MA2 for Recency 2 done\n",
      "MA2 for Recency 3 done\n",
      "MA2 for least Recency done\n",
      "MA3 for Recency 1 done\n",
      "MA3 for Recency 2 done\n"
     ]
    },
    {
     "name": "stderr",
     "output_type": "stream",
     "text": [
      "100%|████████████████████████████████████████████████████████████████████████████████████████████████████████████████████████████████████| 167/167 [01:05<00:00,  2.56it/s]"
     ]
    },
    {
     "name": "stdout",
     "output_type": "stream",
     "text": [
      "CPU times: user 4min 6s, sys: 42.1 s, total: 4min 48s\n",
      "Wall time: 5min 7s\n"
     ]
    },
    {
     "name": "stderr",
     "output_type": "stream",
     "text": [
      "\n"
     ]
    }
   ],
   "source": [
    "%%time\n",
    "train_agg, keep_column = feature_gen_pipeline(train)"
   ]
  },
  {
   "cell_type": "code",
   "execution_count": 57,
   "id": "b96e7ed1-41b9-4950-beca-8fc587d69564",
   "metadata": {},
   "outputs": [
    {
     "name": "stdout",
     "output_type": "stream",
     "text": [
      "Size: 14.181277593 GB, Shape: (458913, 5068)\n"
     ]
    }
   ],
   "source": [
    "train_agg[\"target\"] = labels[\"target\"].values\n",
    "print(f\"Size: {sys.getsizeof(train_agg) / 1e9} GB, Shape: {train_agg.shape}\")"
   ]
  },
  {
   "cell_type": "code",
   "execution_count": 58,
   "id": "8b78478b-4ded-44eb-beae-f6d00d4d7386",
   "metadata": {},
   "outputs": [
    {
     "name": "stderr",
     "output_type": "stream",
     "text": [
      "100%|██████████████████████████████████████████████████████████████████████████████████████████████████████████████████████████████████| 2652/2652 [00:33<00:00, 79.68it/s]\n"
     ]
    }
   ],
   "source": [
    "float64_columns = train_agg.select_dtypes(\"float64\").columns.tolist()\n",
    "for col in tqdm(float64_columns):\n",
    "    temp = train_agg[col].astype(np.float32).values\n",
    "    if (temp - train_agg[col]).abs().max() < 1e-4:\n",
    "        train_agg[col] = train_agg[col].astype(np.float32)"
   ]
  },
  {
   "cell_type": "code",
   "execution_count": 59,
   "id": "105382fc-a51e-4d08-9db1-9f02fdc39b09",
   "metadata": {},
   "outputs": [
    {
     "name": "stdout",
     "output_type": "stream",
     "text": [
      "Size: 9.382883265 GB, Shape: (458913, 5068)\n"
     ]
    }
   ],
   "source": [
    "print(f\"Size: {sys.getsizeof(train_agg) / 1e9} GB, Shape: {train_agg.shape}\")"
   ]
  },
  {
   "cell_type": "code",
   "execution_count": 60,
   "id": "1984ce0c-7ccd-4eb4-a557-7fe4942f3922",
   "metadata": {},
   "outputs": [
    {
     "name": "stderr",
     "output_type": "stream",
     "text": [
      "100%|█████████████████████████████████████████████████████████████████████████████████████████████████████████████████████████████████| 5012/5012 [00:18<00:00, 276.18it/s]\n"
     ]
    }
   ],
   "source": [
    "number_columns = train_agg.select_dtypes(np.number).columns.tolist()\n",
    "for col in tqdm(number_columns):\n",
    "    temp = train_agg[col].round(3)\n",
    "    if (temp - train_agg[col]).abs().max() < 1e-4:\n",
    "        train_agg[col] = train_agg[col].round(3)"
   ]
  },
  {
   "cell_type": "code",
   "execution_count": 61,
   "id": "e280bf45-a9cd-43f6-b812-3228ee2fb52c",
   "metadata": {},
   "outputs": [
    {
     "name": "stdout",
     "output_type": "stream",
     "text": [
      "Size: 9.382883265 GB, Shape: (458913, 5068)\n"
     ]
    }
   ],
   "source": [
    "print(f\"Size: {sys.getsizeof(train_agg) / 1e9} GB, Shape: {train_agg.shape}\")"
   ]
  },
  {
   "cell_type": "code",
   "execution_count": 62,
   "id": "23b0f05d-c31a-492f-bd5b-5d1b140084c9",
   "metadata": {},
   "outputs": [],
   "source": [
    "train_agg = train_agg.loc[:, keep_column]"
   ]
  },
  {
   "cell_type": "code",
   "execution_count": 63,
   "id": "5bf09d80-ba7f-4510-833a-58f9daeb2372",
   "metadata": {},
   "outputs": [
    {
     "name": "stdout",
     "output_type": "stream",
     "text": [
      "Size: 8.760597237 GB, Shape: (458913, 4732)\n"
     ]
    }
   ],
   "source": [
    "print(f\"Size: {sys.getsizeof(train_agg) / 1e9} GB, Shape: {train_agg.shape}\")"
   ]
  },
  {
   "cell_type": "code",
   "execution_count": 64,
   "id": "b8845c94-6486-40a8-b8ee-d9e584eb7407",
   "metadata": {},
   "outputs": [],
   "source": [
    "train_agg.to_pickle(f\"./train_agg.pkl\")"
   ]
  },
  {
   "cell_type": "code",
   "execution_count": 65,
   "id": "3ca6c37c-0f0f-4db9-9be2-39bd8bd698f2",
   "metadata": {},
   "outputs": [],
   "source": [
    "del train_agg, train"
   ]
  },
  {
   "cell_type": "markdown",
   "id": "adeca3f3-ca21-4ff5-aee1-69b07c45179b",
   "metadata": {},
   "source": [
    "### Test 1"
   ]
  },
  {
   "cell_type": "code",
   "execution_count": 66,
   "id": "ce3bd597-2560-41ce-9b52-6ab690c150fb",
   "metadata": {},
   "outputs": [
    {
     "name": "stdout",
     "output_type": "stream",
     "text": [
      "Shape of data: (11363762, 183)\n",
      "CPU times: user 11.7 s, sys: 18.2 s, total: 29.8 s\n",
      "Wall time: 25.7 s\n"
     ]
    }
   ],
   "source": [
    "%%time\n",
    "test = read_file(\"./merged_test.parquet\")"
   ]
  },
  {
   "cell_type": "code",
   "execution_count": 67,
   "id": "25704c72-38f3-4117-9e69-38e8e94e756f",
   "metadata": {},
   "outputs": [],
   "source": [
    "bin_cols = get_cols(test, \"_binaries\")"
   ]
  },
  {
   "cell_type": "code",
   "execution_count": 68,
   "id": "99d50428-4556-4bd0-aadb-ea71d777f136",
   "metadata": {},
   "outputs": [],
   "source": [
    "test1 = test.iloc[:5681884]\n",
    "test2 = test.iloc[5681884:]"
   ]
  },
  {
   "cell_type": "code",
   "execution_count": 69,
   "id": "f2e9e9ef-4d64-47a2-9298-12dc9bfe2b1f",
   "metadata": {},
   "outputs": [],
   "source": [
    "del test\n",
    "del test2"
   ]
  },
  {
   "cell_type": "code",
   "execution_count": 70,
   "id": "fbc83568-01c8-45a2-8a49-a1568ee86685",
   "metadata": {},
   "outputs": [],
   "source": [
    "test1.loc[:, bin_cols] = test1.loc[:, bin_cols].astype(\"category\")"
   ]
  },
  {
   "cell_type": "code",
   "execution_count": 71,
   "id": "e1ee57ae-39d6-4ec6-b744-559088592c6f",
   "metadata": {},
   "outputs": [
    {
     "name": "stdout",
     "output_type": "stream",
     "text": [
      "Done insertion\n",
      "Average done\n",
      "Minimum done\n",
      "Maximum done\n",
      "Standard Deviation done\n",
      "Skewness done\n",
      "Last entry done\n",
      "First entry done\n",
      "Second last entry done\n",
      "Third last entry done\n",
      "MA2 for Recency 1 done\n",
      "MA2 for Recency 2 done\n",
      "MA2 for Recency 3 done\n",
      "MA2 for least Recency done\n",
      "MA3 for Recency 1 done\n",
      "MA3 for Recency 2 done\n"
     ]
    },
    {
     "name": "stderr",
     "output_type": "stream",
     "text": [
      "100%|████████████████████████████████████████████████████████████████████████████████████████████████████████████████████████████████████| 167/167 [01:06<00:00,  2.51it/s]"
     ]
    },
    {
     "name": "stdout",
     "output_type": "stream",
     "text": [
      "CPU times: user 4min 5s, sys: 44.5 s, total: 4min 50s\n",
      "Wall time: 5min 9s\n"
     ]
    },
    {
     "name": "stderr",
     "output_type": "stream",
     "text": [
      "\n"
     ]
    }
   ],
   "source": [
    "%%time\n",
    "test_agg, keep_column = feature_gen_pipeline(test1)"
   ]
  },
  {
   "cell_type": "code",
   "execution_count": 72,
   "id": "83554158-b8b2-48d5-999f-fe6a8d8f1e2c",
   "metadata": {},
   "outputs": [
    {
     "name": "stdout",
     "output_type": "stream",
     "text": [
      "Size: 17.136510259 GB, Shape: (462379, 5067)\n"
     ]
    }
   ],
   "source": [
    "print(f\"Size: {sys.getsizeof(test_agg) / 1e9} GB, Shape: {test_agg.shape}\")"
   ]
  },
  {
   "cell_type": "code",
   "execution_count": 73,
   "id": "e4767bcb-ac74-465c-ba61-080391f60ef1",
   "metadata": {},
   "outputs": [
    {
     "name": "stderr",
     "output_type": "stream",
     "text": [
      "100%|██████████████████████████████████████████████████████████████████████████████████████████████████████████████████████████████████| 4194/4194 [01:18<00:00, 53.32it/s]\n"
     ]
    }
   ],
   "source": [
    "float64_columns = test_agg.select_dtypes(\"float64\").columns.tolist()\n",
    "for col in tqdm(float64_columns):\n",
    "    temp = test_agg[col].astype(np.float32).values\n",
    "    if (temp - test_agg[col]).abs().max() < 1e-4:\n",
    "        test_agg[col] = test_agg[col].astype(np.float32)"
   ]
  },
  {
   "cell_type": "code",
   "execution_count": 74,
   "id": "3174d0c8-4c67-4f96-802b-918ad61d887d",
   "metadata": {},
   "outputs": [
    {
     "name": "stdout",
     "output_type": "stream",
     "text": [
      "Size: 9.490611115 GB, Shape: (462379, 5067)\n"
     ]
    }
   ],
   "source": [
    "print(f\"Size: {sys.getsizeof(test_agg) / 1e9} GB, Shape: {test_agg.shape}\")"
   ]
  },
  {
   "cell_type": "code",
   "execution_count": 75,
   "id": "3f4e782b-1d79-4093-9b0c-6d921d926a83",
   "metadata": {},
   "outputs": [],
   "source": [
    "test_agg = test_agg.loc[:, keep_column]"
   ]
  },
  {
   "cell_type": "code",
   "execution_count": 76,
   "id": "7195f8b2-f07b-4bac-99ca-10051e0123bd",
   "metadata": {},
   "outputs": [
    {
     "name": "stdout",
     "output_type": "stream",
     "text": [
      "Size: 8.865474707 GB, Shape: (462379, 4732)\n"
     ]
    }
   ],
   "source": [
    "print(f\"Size: {sys.getsizeof(test_agg) / 1e9} GB, Shape: {test_agg.shape}\")"
   ]
  },
  {
   "cell_type": "code",
   "execution_count": 77,
   "id": "4c54b253-9c42-48aa-afc0-dddae22af5ac",
   "metadata": {},
   "outputs": [],
   "source": [
    "test_agg.to_pickle(f\"./test_agg1.pkl\")"
   ]
  },
  {
   "cell_type": "code",
   "execution_count": 78,
   "id": "c322771c-9856-4113-9aa6-28fcf0502354",
   "metadata": {},
   "outputs": [],
   "source": [
    "del test_agg"
   ]
  },
  {
   "cell_type": "markdown",
   "id": "acf88d5a-6809-4f84-bf12-42b371946915",
   "metadata": {},
   "source": [
    "### Test 2"
   ]
  },
  {
   "cell_type": "code",
   "execution_count": 79,
   "id": "1ca3fd6e-56eb-46c3-a03b-d908e962c269",
   "metadata": {},
   "outputs": [
    {
     "name": "stdout",
     "output_type": "stream",
     "text": [
      "Shape of data: (11363762, 183)\n",
      "CPU times: user 11.7 s, sys: 18.4 s, total: 30.1 s\n",
      "Wall time: 26 s\n"
     ]
    }
   ],
   "source": [
    "%%time\n",
    "test = read_file(\"./merged_test.parquet\")"
   ]
  },
  {
   "cell_type": "code",
   "execution_count": 80,
   "id": "112dfb28-2320-453e-87d9-7f863d7438a4",
   "metadata": {},
   "outputs": [],
   "source": [
    "bin_cols = get_cols(test, \"_binaries\")"
   ]
  },
  {
   "cell_type": "code",
   "execution_count": 81,
   "id": "dd4ba274-9ab1-4844-b6cf-8a58335f2691",
   "metadata": {},
   "outputs": [],
   "source": [
    "test1 = test.iloc[:568184]\n",
    "test2 = test.iloc[5681884:]"
   ]
  },
  {
   "cell_type": "code",
   "execution_count": 82,
   "id": "abed8222-b56d-402b-9bfe-4ce0aafd3337",
   "metadata": {},
   "outputs": [],
   "source": [
    "del test\n",
    "del test1"
   ]
  },
  {
   "cell_type": "code",
   "execution_count": 83,
   "id": "fc56262e-2c10-43cf-b93a-a247879dc38c",
   "metadata": {},
   "outputs": [],
   "source": [
    "test = test2.copy()\n",
    "del test2"
   ]
  },
  {
   "cell_type": "code",
   "execution_count": 84,
   "id": "ad3cbafc-c786-4c05-a1a1-3dda72a30d5f",
   "metadata": {},
   "outputs": [],
   "source": [
    "test.loc[:, bin_cols] = test.loc[:, bin_cols].astype(\"category\")"
   ]
  },
  {
   "cell_type": "code",
   "execution_count": 85,
   "id": "478d859f-3453-42f0-bf24-ba4847d2a69a",
   "metadata": {},
   "outputs": [
    {
     "name": "stdout",
     "output_type": "stream",
     "text": [
      "Done insertion\n",
      "Average done\n",
      "Minimum done\n",
      "Maximum done\n",
      "Standard Deviation done\n",
      "Skewness done\n",
      "Last entry done\n",
      "First entry done\n",
      "Second last entry done\n",
      "Third last entry done\n",
      "MA2 for Recency 1 done\n",
      "MA2 for Recency 2 done\n",
      "MA2 for Recency 3 done\n",
      "MA2 for least Recency done\n",
      "MA3 for Recency 1 done\n",
      "MA3 for Recency 2 done\n"
     ]
    },
    {
     "name": "stderr",
     "output_type": "stream",
     "text": [
      "100%|████████████████████████████████████████████████████████████████████████████████████████████████████████████████████████████████████| 167/167 [01:06<00:00,  2.51it/s]"
     ]
    },
    {
     "name": "stdout",
     "output_type": "stream",
     "text": [
      "CPU times: user 4min 5s, sys: 39.5 s, total: 4min 44s\n",
      "Wall time: 5min\n"
     ]
    },
    {
     "name": "stderr",
     "output_type": "stream",
     "text": [
      "\n"
     ]
    }
   ],
   "source": [
    "%%time\n",
    "test_agg, keep_column = feature_gen_pipeline(test)"
   ]
  },
  {
   "cell_type": "code",
   "execution_count": 86,
   "id": "424878fa-30a9-4239-a518-b0b944f0b288",
   "metadata": {},
   "outputs": [
    {
     "name": "stdout",
     "output_type": "stream",
     "text": [
      "Size: 17.131437834 GB, Shape: (462242, 5067)\n"
     ]
    }
   ],
   "source": [
    "print(f\"Size: {sys.getsizeof(test_agg) / 1e9} GB, Shape: {test_agg.shape}\")"
   ]
  },
  {
   "cell_type": "code",
   "execution_count": 87,
   "id": "59e38e3f-af7b-4fb4-aa4d-28a4acffe227",
   "metadata": {},
   "outputs": [
    {
     "name": "stderr",
     "output_type": "stream",
     "text": [
      "100%|██████████████████████████████████████████████████████████████████████████████████████████████████████████████████████████████████| 4194/4194 [01:17<00:00, 54.23it/s]\n"
     ]
    }
   ],
   "source": [
    "float64_columns = test_agg.select_dtypes(\"float64\").columns.tolist()\n",
    "for col in tqdm(float64_columns):\n",
    "    temp = test_agg[col].astype(np.float32).values\n",
    "    if (temp - test_agg[col]).abs().max() < 1e-4:\n",
    "        test_agg[col] = test_agg[col].astype(np.float32)"
   ]
  },
  {
   "cell_type": "code",
   "execution_count": 88,
   "id": "c71c3d3a-6c9d-4d54-a254-79963c0e4da1",
   "metadata": {},
   "outputs": [
    {
     "name": "stdout",
     "output_type": "stream",
     "text": [
      "Size: 9.463767538 GB, Shape: (462242, 5067)\n"
     ]
    }
   ],
   "source": [
    "print(f\"Size: {sys.getsizeof(test_agg) / 1e9} GB, Shape: {test_agg.shape}\")"
   ]
  },
  {
   "cell_type": "code",
   "execution_count": 89,
   "id": "1b51418a-38f9-4222-8852-b12aa5556ccd",
   "metadata": {},
   "outputs": [
    {
     "name": "stdout",
     "output_type": "stream",
     "text": [
      "CPU times: user 1.48 s, sys: 10.5 s, total: 12 s\n",
      "Wall time: 19.7 s\n"
     ]
    }
   ],
   "source": [
    "%%time\n",
    "test_agg = test_agg.loc[:, keep_column]"
   ]
  },
  {
   "cell_type": "code",
   "execution_count": 90,
   "id": "f3a4da81-2fe1-426c-a3b2-12968c4b2dbe",
   "metadata": {},
   "outputs": [
    {
     "name": "stdout",
     "output_type": "stream",
     "text": [
      "Size: 8.84251429 GB, Shape: (462242, 4732)\n"
     ]
    }
   ],
   "source": [
    "print(f\"Size: {sys.getsizeof(test_agg) / 1e9} GB, Shape: {test_agg.shape}\")"
   ]
  },
  {
   "cell_type": "code",
   "execution_count": 91,
   "id": "d9aa366e-42b5-4a2f-86ca-1755f85d511d",
   "metadata": {},
   "outputs": [],
   "source": [
    "test_agg.to_pickle(f\"./test_agg2.pkl\")"
   ]
  },
  {
   "cell_type": "code",
   "execution_count": 92,
   "id": "d2c1e31c-b50e-4646-8238-5d96d10152c5",
   "metadata": {},
   "outputs": [],
   "source": [
    "del test_agg"
   ]
  },
  {
   "cell_type": "markdown",
   "id": "a3ebefbe-3cc1-429e-8ce9-8ad10c987bae",
   "metadata": {},
   "source": [
    "### END"
   ]
  },
  {
   "cell_type": "code",
   "execution_count": 93,
   "id": "bb7753c9-7e1d-4138-a75d-8b17fc6cce9e",
   "metadata": {
    "tags": []
   },
   "outputs": [],
   "source": [
    "END = time.time()"
   ]
  },
  {
   "cell_type": "code",
   "execution_count": 94,
   "id": "8e9d457c-3df8-4407-9267-6a4fa02ff08f",
   "metadata": {},
   "outputs": [
    {
     "name": "stdout",
     "output_type": "stream",
     "text": [
      "1451.30 seconds elapsed\n"
     ]
    }
   ],
   "source": [
    "print(f\"{END - START:.2f} seconds elapsed\")"
   ]
  },
  {
   "cell_type": "markdown",
   "id": "ca163041-9ec6-457f-bda1-1596211e3f30",
   "metadata": {},
   "source": [
    "### Prepare features for Kaggle training"
   ]
  },
  {
   "cell_type": "code",
   "execution_count": 9,
   "id": "830209a3-dc09-426f-a4aa-a0fe7480f842",
   "metadata": {},
   "outputs": [
    {
     "name": "stdout",
     "output_type": "stream",
     "text": [
      "Shape of data: (458913, 4733)\n",
      "CPU times: user 3.99 s, sys: 10.3 s, total: 14.3 s\n",
      "Wall time: 20.3 s\n"
     ]
    }
   ],
   "source": [
    "%%time\n",
    "train_agg = read_file(f\"./train_agg.pkl\")"
   ]
  },
  {
   "cell_type": "code",
   "execution_count": 10,
   "id": "e50a9bce-9270-47ae-adb1-fc94c503d6df",
   "metadata": {},
   "outputs": [
    {
     "data": {
      "text/html": [
       "<div>\n",
       "<style scoped>\n",
       "    .dataframe tbody tr th:only-of-type {\n",
       "        vertical-align: middle;\n",
       "    }\n",
       "\n",
       "    .dataframe tbody tr th {\n",
       "        vertical-align: top;\n",
       "    }\n",
       "\n",
       "    .dataframe thead th {\n",
       "        text-align: right;\n",
       "    }\n",
       "</style>\n",
       "<table border=\"1\" class=\"dataframe\">\n",
       "  <thead>\n",
       "    <tr style=\"text-align: right;\">\n",
       "      <th></th>\n",
       "      <th>customer_ID</th>\n",
       "      <th>D_52_ma3_r1</th>\n",
       "      <th>B_6_skew</th>\n",
       "      <th>D_51_acceleration</th>\n",
       "      <th>B_24_max</th>\n",
       "      <th>B_10_ma2_r3</th>\n",
       "      <th>D_137_sprint</th>\n",
       "      <th>B_16_last_first_ratio</th>\n",
       "      <th>S_8_general_trend</th>\n",
       "      <th>S_8_second_last</th>\n",
       "      <th>...</th>\n",
       "      <th>D_136_previous_sprint</th>\n",
       "      <th>D_60_avg</th>\n",
       "      <th>D_130_sprint</th>\n",
       "      <th>D_102_ma3_r1_r2</th>\n",
       "      <th>D_41_avg</th>\n",
       "      <th>S_3_last_minus_ma2_r2</th>\n",
       "      <th>P_2_ma2_r3</th>\n",
       "      <th>B_37_acceleration</th>\n",
       "      <th>D_138_first</th>\n",
       "      <th>D_110_max</th>\n",
       "    </tr>\n",
       "  </thead>\n",
       "  <tbody>\n",
       "    <tr>\n",
       "      <th>0</th>\n",
       "      <td>0000099d6bd597052cdcda90ffabf56573fe9d7c79be5f...</td>\n",
       "      <td>0.200000</td>\n",
       "      <td>1.061827</td>\n",
       "      <td>NaN</td>\n",
       "      <td>0.0</td>\n",
       "      <td>0.320</td>\n",
       "      <td>0.0</td>\n",
       "      <td>NaN</td>\n",
       "      <td>-0.230769</td>\n",
       "      <td>0.75</td>\n",
       "      <td>...</td>\n",
       "      <td>NaN</td>\n",
       "      <td>0.529231</td>\n",
       "      <td>0.0</td>\n",
       "      <td>1.053030</td>\n",
       "      <td>0.0</td>\n",
       "      <td>0.035</td>\n",
       "      <td>0.930</td>\n",
       "      <td>-1.0</td>\n",
       "      <td>NaN</td>\n",
       "      <td>NaN</td>\n",
       "    </tr>\n",
       "    <tr>\n",
       "      <th>1</th>\n",
       "      <td>00000fd6641609c6ece5454664794f0340ad84dddce9a2...</td>\n",
       "      <td>0.233333</td>\n",
       "      <td>-0.705558</td>\n",
       "      <td>NaN</td>\n",
       "      <td>0.0</td>\n",
       "      <td>0.295</td>\n",
       "      <td>0.0</td>\n",
       "      <td>0.0</td>\n",
       "      <td>-0.134615</td>\n",
       "      <td>0.31</td>\n",
       "      <td>...</td>\n",
       "      <td>NaN</td>\n",
       "      <td>0.321538</td>\n",
       "      <td>0.0</td>\n",
       "      <td>NaN</td>\n",
       "      <td>0.0</td>\n",
       "      <td>0.030</td>\n",
       "      <td>0.890</td>\n",
       "      <td>0.0</td>\n",
       "      <td>NaN</td>\n",
       "      <td>NaN</td>\n",
       "    </tr>\n",
       "    <tr>\n",
       "      <th>2</th>\n",
       "      <td>00001b22f846c82c51f6e3958ccd81970162bae8b007e8...</td>\n",
       "      <td>0.193333</td>\n",
       "      <td>-0.764551</td>\n",
       "      <td>NaN</td>\n",
       "      <td>0.0</td>\n",
       "      <td>0.295</td>\n",
       "      <td>0.0</td>\n",
       "      <td>0.0</td>\n",
       "      <td>NaN</td>\n",
       "      <td>NaN</td>\n",
       "      <td>...</td>\n",
       "      <td>NaN</td>\n",
       "      <td>0.000000</td>\n",
       "      <td>0.0</td>\n",
       "      <td>NaN</td>\n",
       "      <td>0.0</td>\n",
       "      <td>NaN</td>\n",
       "      <td>0.845</td>\n",
       "      <td>NaN</td>\n",
       "      <td>NaN</td>\n",
       "      <td>NaN</td>\n",
       "    </tr>\n",
       "    <tr>\n",
       "      <th>3</th>\n",
       "      <td>000041bdba6ecadd89a52d11886e8eaaec9325906c9723...</td>\n",
       "      <td>0.190000</td>\n",
       "      <td>-1.555918</td>\n",
       "      <td>NaN</td>\n",
       "      <td>0.0</td>\n",
       "      <td>0.225</td>\n",
       "      <td>0.0</td>\n",
       "      <td>1.0</td>\n",
       "      <td>-0.223077</td>\n",
       "      <td>0.17</td>\n",
       "      <td>...</td>\n",
       "      <td>NaN</td>\n",
       "      <td>0.668462</td>\n",
       "      <td>0.0</td>\n",
       "      <td>NaN</td>\n",
       "      <td>0.0</td>\n",
       "      <td>-0.050</td>\n",
       "      <td>0.610</td>\n",
       "      <td>0.5</td>\n",
       "      <td>NaN</td>\n",
       "      <td>NaN</td>\n",
       "    </tr>\n",
       "    <tr>\n",
       "      <th>4</th>\n",
       "      <td>00007889e4fcd2614b6cbe7f8f3d2e5c728eca32d9eb8a...</td>\n",
       "      <td>0.246667</td>\n",
       "      <td>1.867126</td>\n",
       "      <td>NaN</td>\n",
       "      <td>0.0</td>\n",
       "      <td>0.155</td>\n",
       "      <td>0.0</td>\n",
       "      <td>NaN</td>\n",
       "      <td>-0.007692</td>\n",
       "      <td>0.32</td>\n",
       "      <td>...</td>\n",
       "      <td>NaN</td>\n",
       "      <td>0.000000</td>\n",
       "      <td>0.0</td>\n",
       "      <td>1.097403</td>\n",
       "      <td>0.0</td>\n",
       "      <td>0.000</td>\n",
       "      <td>0.860</td>\n",
       "      <td>NaN</td>\n",
       "      <td>NaN</td>\n",
       "      <td>NaN</td>\n",
       "    </tr>\n",
       "  </tbody>\n",
       "</table>\n",
       "<p>5 rows × 4733 columns</p>\n",
       "</div>"
      ],
      "text/plain": [
       "                                         customer_ID  D_52_ma3_r1  B_6_skew  \\\n",
       "0  0000099d6bd597052cdcda90ffabf56573fe9d7c79be5f...     0.200000  1.061827   \n",
       "1  00000fd6641609c6ece5454664794f0340ad84dddce9a2...     0.233333 -0.705558   \n",
       "2  00001b22f846c82c51f6e3958ccd81970162bae8b007e8...     0.193333 -0.764551   \n",
       "3  000041bdba6ecadd89a52d11886e8eaaec9325906c9723...     0.190000 -1.555918   \n",
       "4  00007889e4fcd2614b6cbe7f8f3d2e5c728eca32d9eb8a...     0.246667  1.867126   \n",
       "\n",
       "   D_51_acceleration  B_24_max  B_10_ma2_r3  D_137_sprint  \\\n",
       "0                NaN       0.0        0.320           0.0   \n",
       "1                NaN       0.0        0.295           0.0   \n",
       "2                NaN       0.0        0.295           0.0   \n",
       "3                NaN       0.0        0.225           0.0   \n",
       "4                NaN       0.0        0.155           0.0   \n",
       "\n",
       "   B_16_last_first_ratio  S_8_general_trend  S_8_second_last  ...  \\\n",
       "0                    NaN          -0.230769             0.75  ...   \n",
       "1                    0.0          -0.134615             0.31  ...   \n",
       "2                    0.0                NaN              NaN  ...   \n",
       "3                    1.0          -0.223077             0.17  ...   \n",
       "4                    NaN          -0.007692             0.32  ...   \n",
       "\n",
       "   D_136_previous_sprint  D_60_avg  D_130_sprint  D_102_ma3_r1_r2  D_41_avg  \\\n",
       "0                    NaN  0.529231           0.0         1.053030       0.0   \n",
       "1                    NaN  0.321538           0.0              NaN       0.0   \n",
       "2                    NaN  0.000000           0.0              NaN       0.0   \n",
       "3                    NaN  0.668462           0.0              NaN       0.0   \n",
       "4                    NaN  0.000000           0.0         1.097403       0.0   \n",
       "\n",
       "   S_3_last_minus_ma2_r2  P_2_ma2_r3  B_37_acceleration  D_138_first  \\\n",
       "0                  0.035       0.930               -1.0          NaN   \n",
       "1                  0.030       0.890                0.0          NaN   \n",
       "2                    NaN       0.845                NaN          NaN   \n",
       "3                 -0.050       0.610                0.5          NaN   \n",
       "4                  0.000       0.860                NaN          NaN   \n",
       "\n",
       "   D_110_max  \n",
       "0        NaN  \n",
       "1        NaN  \n",
       "2        NaN  \n",
       "3        NaN  \n",
       "4        NaN  \n",
       "\n",
       "[5 rows x 4733 columns]"
      ]
     },
     "execution_count": 10,
     "metadata": {},
     "output_type": "execute_result"
    }
   ],
   "source": [
    "train_agg.head()"
   ]
  },
  {
   "cell_type": "code",
   "execution_count": 11,
   "id": "efec55b9-1b4b-4ced-8cbe-67481a7f3ee2",
   "metadata": {},
   "outputs": [
    {
     "data": {
      "image/png": "[encoded data removed]",
      "text/plain": [
       "<Figure size 1080x576 with 1 Axes>"
      ]
     },
     "metadata": {
      "needs_background": "light"
     },
     "output_type": "display_data"
    }
   ],
   "source": [
    "# train_agg = train_agg.loc[:, [c for c in train_agg.columns if c.endswith(\"_last\")]]\n",
    "# train_agg = train_agg.drop(columns=[c for c in train_agg.columns if c.endswith(\"_third_last\")])\n",
    "# train_agg = train_agg.drop(columns=[c for c in train_agg.columns if c.endswith(\"_second_last\")])\n",
    "m = plot_missing_proportion_barchart(train_agg)"
   ]
  },
  {
   "cell_type": "code",
   "execution_count": 13,
   "id": "b3c1d3e3-36ae-43e8-a909-b6e970681b65",
   "metadata": {},
   "outputs": [
    {
     "data": {
      "text/plain": [
       "187"
      ]
     },
     "execution_count": 13,
     "metadata": {},
     "output_type": "execute_result"
    }
   ],
   "source": [
    "high_missing_columns = m.loc[m[\"missing_proportion\"] > 99][\"column\"].tolist()\n",
    "len(high_missing_columns)"
   ]
  },
  {
   "cell_type": "code",
   "execution_count": 14,
   "id": "c421e650-5f8f-40e4-b3cc-d41eb07fd81d",
   "metadata": {},
   "outputs": [
    {
     "name": "stdout",
     "output_type": "stream",
     "text": [
      "CPU times: user 661 ms, sys: 1.74 s, total: 2.4 s\n",
      "Wall time: 3.96 s\n"
     ]
    }
   ],
   "source": [
    "%%time\n",
    "train_agg = train_agg.drop(columns=high_missing_columns, errors=\"ignore\")"
   ]
  },
  {
   "cell_type": "code",
   "execution_count": 15,
   "id": "0e4d5151-0212-4ee0-bc13-07ff4536064b",
   "metadata": {},
   "outputs": [
    {
     "data": {
      "text/plain": [
       "(458913, 4546)"
      ]
     },
     "execution_count": 15,
     "metadata": {},
     "output_type": "execute_result"
    }
   ],
   "source": [
    "train_agg.shape"
   ]
  },
  {
   "cell_type": "code",
   "execution_count": 16,
   "id": "a61e0c82-f6f8-4a1c-a126-6c3dd47228e3",
   "metadata": {},
   "outputs": [],
   "source": [
    "def select_bad_features(feature_imp_df, threshold):\n",
    "    bad_features = []\n",
    "    feature_imp_df = feature_imp_df.fillna(0)\n",
    "    for type_ in feature_imp_df.columns[1:]:\n",
    "        bad_features.extend(\n",
    "            (\n",
    "                feature_imp_df.loc[feature_imp_df[type_] < threshold][\"base_feature\"] + \"_\" + type_\n",
    "            ).tolist()\n",
    "        )\n",
    "    # print(len(good_features), feature_imp_df.shape[0] * (feature_imp_df.shape[1] - 1))\n",
    "    return bad_features"
   ]
  },
  {
   "cell_type": "code",
   "execution_count": 17,
   "id": "14468a4b-339d-460d-94a8-e2ec948a34fd",
   "metadata": {},
   "outputs": [],
   "source": [
    "def select_good_features(feature_imp_df, threshold):\n",
    "    good_features = []\n",
    "    for type_ in feature_imp_df.columns[1:]:\n",
    "        good_features.extend(\n",
    "            (\n",
    "                feature_imp_df.loc[feature_imp_df[type_] >= threshold][\"base_feature\"] + \"_\" + type_\n",
    "            ).tolist()\n",
    "        )\n",
    "    # print(len(good_features), feature_imp_df.shape[0] * (feature_imp_df.shape[1] - 1))\n",
    "    return good_features"
   ]
  },
  {
   "cell_type": "code",
   "execution_count": 18,
   "id": "dcf270fb-c8fd-48d4-b24c-b4b16d5cd16f",
   "metadata": {},
   "outputs": [
    {
     "name": "stdout",
     "output_type": "stream",
     "text": [
      "Shape of data: (166, 24)\n",
      "Shape of data: (181, 39)\n"
     ]
    }
   ],
   "source": [
    "summary_feature_imp3 = read_file(f\"../{EXP_PATH}/3.lgbm_dart_5197/feature_importance.csv\")\n",
    "summary_feature_imp5 = read_file(f\"../{EXP_PATH}/5.lgbm_dart_923_half_fix/feature_importance.csv\")"
   ]
  },
  {
   "cell_type": "code",
   "execution_count": 19,
   "id": "ab2cba12-53a8-49a3-97a1-d32bca504e3b",
   "metadata": {},
   "outputs": [
    {
     "data": {
      "text/plain": [
       "(130.2, 106.5)"
      ]
     },
     "execution_count": 19,
     "metadata": {},
     "output_type": "execute_result"
    }
   ],
   "source": [
    "median_fi3 = summary_feature_imp3.median().median()\n",
    "median_fi5 = summary_feature_imp5.median().median()\n",
    "median_fi3, median_fi5"
   ]
  },
  {
   "cell_type": "code",
   "execution_count": 22,
   "id": "b1e3d420-f21d-437d-951e-bd28df58081f",
   "metadata": {},
   "outputs": [
    {
     "data": {
      "text/plain": [
       "1633"
      ]
     },
     "execution_count": 22,
     "metadata": {},
     "output_type": "execute_result"
    }
   ],
   "source": [
    "bad_features = list(\n",
    "    set(select_bad_features(summary_feature_imp3, median_fi3))\n",
    "    .intersection(select_bad_features(summary_feature_imp5, median_fi5))\n",
    "    .intersection(train_agg.columns)\n",
    ")\n",
    "len(bad_features)"
   ]
  },
  {
   "cell_type": "code",
   "execution_count": 23,
   "id": "2823761a-8492-4240-aadf-0d5fa89d7207",
   "metadata": {},
   "outputs": [
    {
     "data": {
      "text/plain": [
       "(458913, 4546)"
      ]
     },
     "execution_count": 23,
     "metadata": {},
     "output_type": "execute_result"
    }
   ],
   "source": [
    "train_agg.shape"
   ]
  },
  {
   "cell_type": "code",
   "execution_count": 24,
   "id": "67f97829-1fce-4932-964b-a0690f787793",
   "metadata": {},
   "outputs": [
    {
     "name": "stdout",
     "output_type": "stream",
     "text": [
      "CPU times: user 331 ms, sys: 2.47 s, total: 2.8 s\n",
      "Wall time: 4.73 s\n"
     ]
    }
   ],
   "source": [
    "%%time\n",
    "train_agg = train_agg.drop(columns=bad_features)"
   ]
  },
  {
   "cell_type": "code",
   "execution_count": 25,
   "id": "9b49209e-31ff-4386-bb92-e89e99e1aadc",
   "metadata": {},
   "outputs": [
    {
     "data": {
      "text/plain": [
       "Index(['D_116_last', 'D_63_third_last', 'D_92_second_last', 'D_64_third_last',\n",
       "       'D_116_second_last', 'R_binaries_third_last', 'D_117_third_last',\n",
       "       'S_binaries_first', 'D_64_second_last', 'S_binaries_second_last',\n",
       "       'R_binaries_last', 'D_68_third_last', 'R_binaries_second_last',\n",
       "       'B_38_first', 'D_92_first', 'S_binaries_last', 'D_64_last',\n",
       "       'D_116_third_last', 'B_binaries_last', 'D_117_last', 'D_114_last',\n",
       "       'D_92_last', 'D_68_last', 'B_38_second_last', 'D_68_first',\n",
       "       'D_117_second_last', 'D_114_second_last', 'B_binaries_first',\n",
       "       'D_92_third_last', 'D_120_third_last', 'B_binaries_second_last',\n",
       "       'D_68_second_last', 'B_38_last', 'R_binaries_first', 'D_120_last',\n",
       "       'D_117_first', 'B_binaries_third_last', 'D_116_first',\n",
       "       'B_38_third_last', 'D_126_third_last', 'B_30_third_last',\n",
       "       'D_114_third_last', 'S_binaries_third_last'],\n",
       "      dtype='object')"
      ]
     },
     "execution_count": 25,
     "metadata": {},
     "output_type": "execute_result"
    }
   ],
   "source": [
    "train_agg.select_dtypes(\"category\").columns"
   ]
  },
  {
   "cell_type": "code",
   "execution_count": 26,
   "id": "44096ba8-cff8-4901-a8d0-a8941b0a2011",
   "metadata": {},
   "outputs": [
    {
     "data": {
      "text/plain": [
       "(458913, 2913)"
      ]
     },
     "execution_count": 26,
     "metadata": {},
     "output_type": "execute_result"
    }
   ],
   "source": [
    "train_agg.shape"
   ]
  },
  {
   "cell_type": "code",
   "execution_count": 27,
   "id": "16b7d4d0-fade-4e29-a14e-d8b5068bf9db",
   "metadata": {},
   "outputs": [],
   "source": [
    "train_agg.to_parquet(f\"./final_train_agg.parquet\")"
   ]
  },
  {
   "cell_type": "code",
   "execution_count": null,
   "id": "27b9b2b6-2142-46fc-a6f9-8fffb46abaa2",
   "metadata": {},
   "outputs": [],
   "source": []
  }
 ],
 "metadata": {
  "kernelspec": {
   "display_name": "amex",
   "language": "python",
   "name": "amex"
  },
  "language_info": {
   "codemirror_mode": {
    "name": "ipython",
    "version": 3
   },
   "file_extension": ".py",
   "mimetype": "text/x-python",
   "name": "python",
   "nbconvert_exporter": "python",
   "pygments_lexer": "ipython3",
   "version": "3.10.0"
  }
 },
 "nbformat": 4,
 "nbformat_minor": 5
}
