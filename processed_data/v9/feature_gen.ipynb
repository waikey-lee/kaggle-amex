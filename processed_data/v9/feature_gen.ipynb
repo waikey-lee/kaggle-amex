{
 "cells": [
  {
   "cell_type": "code",
   "execution_count": 31,
   "id": "4b5357f0",
   "metadata": {},
   "outputs": [],
   "source": [
    "import datetime\n",
    "import gc\n",
    "import joblib\n",
    "import matplotlib.pyplot as plt\n",
    "import pandas as pd\n",
    "import numpy as np\n",
    "import os\n",
    "import scipy.stats\n",
    "import seaborn as sns\n",
    "import sys\n",
    "sys.path.append(\"../../\")\n",
    "import time\n",
    "import warnings\n",
    "warnings.simplefilter(\"ignore\")\n",
    "from collections import defaultdict\n",
    "from itertools import repeat, combinations\n",
    "from pandarallel import pandarallel\n",
    "from sklearn.preprocessing import StandardScaler, LabelEncoder\n",
    "from tqdm import tqdm"
   ]
  },
  {
   "cell_type": "code",
   "execution_count": 32,
   "id": "c62e7cb9",
   "metadata": {},
   "outputs": [],
   "source": [
    "from utils.common import (\n",
    "    sigmoid, pad_column_name\n",
    ")\n",
    "from utils.constants import *\n",
    "from utils.eval_helpers import (\n",
    "    plot_roc_curves, plot_feature_importance, \n",
    "    amex_metric, get_final_metric_df, amex_metric_np, lgb_amex_metric\n",
    ")\n",
    "from utils.eda_helpers import (\n",
    "    plot_missing_proportion_barchart, plot_heatmap, plot_target_check,\n",
    "    get_cols, insert_row_number, plot_train_test_distribution\n",
    ")\n",
    "from utils.extraction_helpers import read_file\n",
    "from utils.feature_group import CATEGORY_COLUMNS\n",
    "from utils.preprocess_helpers import clip_col"
   ]
  },
  {
   "cell_type": "code",
   "execution_count": 33,
   "id": "91cb39c9",
   "metadata": {},
   "outputs": [],
   "source": [
    "from feature_engineering_helpers import feature_gen_pipeline, clip_all, round_all, convert_all"
   ]
  },
  {
   "cell_type": "code",
   "execution_count": 34,
   "id": "98a0981f",
   "metadata": {},
   "outputs": [
    {
     "name": "stdout",
     "output_type": "stream",
     "text": [
      "The autoreload extension is already loaded. To reload it, use:\n",
      "  %reload_ext autoreload\n"
     ]
    }
   ],
   "source": [
    "%load_ext autoreload\n",
    "%autoreload"
   ]
  },
  {
   "cell_type": "code",
   "execution_count": 35,
   "id": "5a2bf26a",
   "metadata": {},
   "outputs": [
    {
     "name": "stdout",
     "output_type": "stream",
     "text": [
      "INFO: Pandarallel will run on 16 workers.\n",
      "INFO: Pandarallel will use standard multiprocessing data transfer (pipe) to transfer data between the main process and workers.\n"
     ]
    }
   ],
   "source": [
    "pandarallel.initialize(nb_workers=16, progress_bar=False, use_memory_fs=False)"
   ]
  },
  {
   "cell_type": "code",
   "execution_count": 36,
   "id": "cccb9605",
   "metadata": {},
   "outputs": [],
   "source": [
    "START = time.time()"
   ]
  },
  {
   "cell_type": "markdown",
   "id": "58c6c1dc",
   "metadata": {},
   "source": [
    "### Read Data"
   ]
  },
  {
   "cell_type": "code",
   "execution_count": 16,
   "id": "70d34c6e",
   "metadata": {},
   "outputs": [
    {
     "name": "stdout",
     "output_type": "stream",
     "text": [
      "Shape of data: (458913, 2)\n"
     ]
    }
   ],
   "source": [
    "labels = read_file(f\"../{RAW_DATA_PATH}/train_labels.csv\")"
   ]
  },
  {
   "cell_type": "code",
   "execution_count": 62,
   "id": "131b1ef1",
   "metadata": {},
   "outputs": [
    {
     "data": {
      "text/plain": [
       "0.2589336105100531"
      ]
     },
     "execution_count": 62,
     "metadata": {},
     "output_type": "execute_result"
    }
   ],
   "source": [
    "labels[\"target\"].mean()"
   ]
  },
  {
   "cell_type": "code",
   "execution_count": 9,
   "id": "7c735e7d",
   "metadata": {},
   "outputs": [
    {
     "name": "stdout",
     "output_type": "stream",
     "text": [
      "Shape of data: (5531451, 182)\n",
      "Shape of data: (11363762, 181)\n",
      "CPU times: user 58.8 s, sys: 34.6 s, total: 1min 33s\n",
      "Wall time: 11.4 s\n"
     ]
    }
   ],
   "source": [
    "%%time\n",
    "train = read_file(f\"../{INTERIM_DATA_PATH}/v7/train_parquet/final_train.parquet\")\n",
    "test = read_file(f\"../{INTERIM_DATA_PATH}/v7/test_parquet/final_test.parquet\")"
   ]
  },
  {
   "cell_type": "code",
   "execution_count": 22,
   "id": "89f9db27",
   "metadata": {},
   "outputs": [],
   "source": [
    "split_indices = joblib.load(f\"../{INTERIM_DATA_PATH}/split_indices.pkl\")"
   ]
  },
  {
   "cell_type": "code",
   "execution_count": 23,
   "id": "46c10732",
   "metadata": {},
   "outputs": [
    {
     "data": {
      "text/plain": [
       "dict_keys(['held_out_ids', 'fold0', 'fold1', 'fold2', 'fold3', 'fold4'])"
      ]
     },
     "execution_count": 23,
     "metadata": {},
     "output_type": "execute_result"
    }
   ],
   "source": [
    "split_indices.keys()"
   ]
  },
  {
   "cell_type": "markdown",
   "id": "818c6608",
   "metadata": {},
   "source": [
    "### Transform Train Set"
   ]
  },
  {
   "cell_type": "code",
   "execution_count": 17,
   "id": "4e649979",
   "metadata": {},
   "outputs": [
    {
     "name": "stdout",
     "output_type": "stream",
     "text": [
      "Done insertion\n",
      "Average done\n",
      "Minimum done\n",
      "Maximum done\n",
      "Standard Deviation done\n",
      "Last entry done\n",
      "First entry done\n",
      "Second last entry done\n",
      "Third last entry done\n",
      "MA2 for Recency 1 done\n",
      "MA2 for Recency 2 done\n",
      "MA2 for Recency 3 done\n",
      "MA3 for Recency 1 done\n",
      "MA3 for Recency 2 done\n",
      "MA3 for least Recency done\n"
     ]
    },
    {
     "name": "stderr",
     "output_type": "stream",
     "text": [
      "100%|██████████| 168/168 [00:55<00:00,  3.03it/s]"
     ]
    },
    {
     "name": "stdout",
     "output_type": "stream",
     "text": [
      "CPU times: user 2min 6s, sys: 18.8 s, total: 2min 25s\n",
      "Wall time: 2min 25s\n"
     ]
    },
    {
     "name": "stderr",
     "output_type": "stream",
     "text": [
      "\n"
     ]
    }
   ],
   "source": [
    "%%time\n",
    "train_agg, keep_column = feature_gen_pipeline(train)"
   ]
  },
  {
   "cell_type": "code",
   "execution_count": 26,
   "id": "276966ac",
   "metadata": {},
   "outputs": [
    {
     "name": "stdout",
     "output_type": "stream",
     "text": [
      "CPU times: user 4.2 s, sys: 5.38 s, total: 9.57 s\n",
      "Wall time: 9.57 s\n"
     ]
    }
   ],
   "source": [
    "%%time\n",
    "train_agg = train_agg.reset_index()"
   ]
  },
  {
   "cell_type": "code",
   "execution_count": 38,
   "id": "bc9a48c9",
   "metadata": {},
   "outputs": [],
   "source": [
    "train_agg = train_agg.loc[:, keep_column]"
   ]
  },
  {
   "cell_type": "code",
   "execution_count": 42,
   "id": "69bc9d29",
   "metadata": {},
   "outputs": [
    {
     "name": "stdout",
     "output_type": "stream",
     "text": [
      "Size: 12.412678968 GB, Shape: (458913, 4369)\n"
     ]
    }
   ],
   "source": [
    "train_agg[\"target\"] = labels[\"target\"].values\n",
    "print(f\"Size: {sys.getsizeof(train_agg) / 1e9} GB, Shape: {train_agg.shape}\")"
   ]
  },
  {
   "cell_type": "code",
   "execution_count": 40,
   "id": "d828d624",
   "metadata": {},
   "outputs": [
    {
     "name": "stderr",
     "output_type": "stream",
     "text": [
      "100%|██████████| 217/217 [04:29<00:00,  1.24s/it]\n",
      "100%|██████████| 133/133 [00:21<00:00,  6.24it/s]\n"
     ]
    }
   ],
   "source": [
    "train_agg = clip_all(train_agg)"
   ]
  },
  {
   "cell_type": "code",
   "execution_count": 43,
   "id": "138596ed",
   "metadata": {},
   "outputs": [
    {
     "name": "stderr",
     "output_type": "stream",
     "text": [
      "100%|██████████| 4369/4369 [14:59<00:00,  4.86it/s] \n"
     ]
    }
   ],
   "source": [
    "train_agg = round_all(train_agg)"
   ]
  },
  {
   "cell_type": "code",
   "execution_count": 44,
   "id": "5c9cb5a3",
   "metadata": {},
   "outputs": [
    {
     "name": "stdout",
     "output_type": "stream",
     "text": [
      "Size: 12.412678968 GB, Shape: (458913, 4369)\n"
     ]
    }
   ],
   "source": [
    "print(f\"Size: {sys.getsizeof(train_agg) / 1e9} GB, Shape: {train_agg.shape}\")"
   ]
  },
  {
   "cell_type": "code",
   "execution_count": 47,
   "id": "3f9f3974",
   "metadata": {},
   "outputs": [],
   "source": [
    "train_agg[\"customer_ID\"] = labels[\"customer_ID\"].values"
   ]
  },
  {
   "cell_type": "code",
   "execution_count": 48,
   "id": "996044ab",
   "metadata": {},
   "outputs": [],
   "source": [
    "train_held_out = train_agg.loc[train_agg[\"customer_ID\"].isin(split_indices[\"held_out_ids\"])].reset_index(drop=True)\n",
    "train_held_out.to_parquet(f\"./held_out.parquet\")\n",
    "for i in range(5):\n",
    "    t = train_agg.loc[train_agg[\"customer_ID\"].isin(split_indices[f\"fold{i}\"])].reset_index(drop=True)\n",
    "    t.to_parquet(f\"./validation_fold{i}.parquet\")"
   ]
  },
  {
   "cell_type": "code",
   "execution_count": 49,
   "id": "0f7c2da1",
   "metadata": {},
   "outputs": [],
   "source": [
    "# train_agg.to_parquet(f\"./train_agg.parquet\")"
   ]
  },
  {
   "cell_type": "code",
   "execution_count": 50,
   "id": "0c4a585c",
   "metadata": {},
   "outputs": [],
   "source": [
    "del train_agg, train"
   ]
  },
  {
   "cell_type": "markdown",
   "id": "f10e12e2",
   "metadata": {},
   "source": [
    "### Transform Test"
   ]
  },
  {
   "cell_type": "code",
   "execution_count": 51,
   "id": "d7c51588",
   "metadata": {},
   "outputs": [
    {
     "name": "stdout",
     "output_type": "stream",
     "text": [
      "Done insertion\n",
      "Average done\n",
      "Minimum done\n",
      "Maximum done\n",
      "Standard Deviation done\n",
      "Last entry done\n",
      "First entry done\n",
      "Second last entry done\n",
      "Third last entry done\n",
      "MA2 for Recency 1 done\n",
      "MA2 for Recency 2 done\n",
      "MA2 for Recency 3 done\n",
      "MA3 for Recency 1 done\n",
      "MA3 for Recency 2 done\n",
      "MA3 for least Recency done\n"
     ]
    },
    {
     "name": "stderr",
     "output_type": "stream",
     "text": [
      "100%|██████████| 168/168 [02:16<00:00,  1.23it/s]"
     ]
    },
    {
     "name": "stdout",
     "output_type": "stream",
     "text": [
      "CPU times: user 4min 52s, sys: 43.3 s, total: 5min 35s\n",
      "Wall time: 5min 35s\n"
     ]
    },
    {
     "name": "stderr",
     "output_type": "stream",
     "text": [
      "\n"
     ]
    }
   ],
   "source": [
    "%%time\n",
    "test_agg, keep_column = feature_gen_pipeline(test)"
   ]
  },
  {
   "cell_type": "code",
   "execution_count": 53,
   "id": "66e6a1e3",
   "metadata": {},
   "outputs": [
    {
     "name": "stdout",
     "output_type": "stream",
     "text": [
      "CPU times: user 9.73 s, sys: 12.5 s, total: 22.2 s\n",
      "Wall time: 22.2 s\n"
     ]
    }
   ],
   "source": [
    "%%time\n",
    "test_agg = test_agg.loc[:, keep_column]"
   ]
  },
  {
   "cell_type": "code",
   "execution_count": 55,
   "id": "b4607e27",
   "metadata": {},
   "outputs": [
    {
     "name": "stdout",
     "output_type": "stream",
     "text": [
      "CPU times: user 2.88 s, sys: 3.76 s, total: 6.64 s\n",
      "Wall time: 6.64 s\n"
     ]
    }
   ],
   "source": [
    "%%time\n",
    "test_agg = test_agg.reset_index()"
   ]
  },
  {
   "cell_type": "code",
   "execution_count": 56,
   "id": "fcbdde74",
   "metadata": {},
   "outputs": [
    {
     "name": "stdout",
     "output_type": "stream",
     "text": [
      "Size: 25.243086369 GB, Shape: (924621, 4405)\n"
     ]
    }
   ],
   "source": [
    "print(f\"Size: {sys.getsizeof(test_agg) / 1e9} GB, Shape: {test_agg.shape}\")"
   ]
  },
  {
   "cell_type": "code",
   "execution_count": 57,
   "id": "4852f63a",
   "metadata": {},
   "outputs": [
    {
     "name": "stderr",
     "output_type": "stream",
     "text": [
      "100%|██████████| 216/216 [09:16<00:00,  2.57s/it]\n",
      "100%|██████████| 142/142 [01:00<00:00,  2.34it/s]\n"
     ]
    }
   ],
   "source": [
    "test_agg = clip_all(test_agg)"
   ]
  },
  {
   "cell_type": "code",
   "execution_count": 58,
   "id": "18751216",
   "metadata": {},
   "outputs": [
    {
     "name": "stderr",
     "output_type": "stream",
     "text": [
      "100%|██████████| 4368/4368 [44:06<00:00,  1.65it/s]  \n"
     ]
    }
   ],
   "source": [
    "test_agg = round_all(test_agg)"
   ]
  },
  {
   "cell_type": "code",
   "execution_count": 59,
   "id": "5cf994a1",
   "metadata": {},
   "outputs": [
    {
     "name": "stdout",
     "output_type": "stream",
     "text": [
      "Size: 25.097912568 GB, Shape: (924621, 4368)\n"
     ]
    }
   ],
   "source": [
    "print(f\"Size: {sys.getsizeof(test_agg) / 1e9} GB, Shape: {test_agg.shape}\")"
   ]
  },
  {
   "cell_type": "code",
   "execution_count": 60,
   "id": "fafeb1c5",
   "metadata": {},
   "outputs": [
    {
     "data": {
      "text/plain": [
       "(924621, 4368)"
      ]
     },
     "execution_count": 60,
     "metadata": {},
     "output_type": "execute_result"
    }
   ],
   "source": [
    "test_agg.shape"
   ]
  },
  {
   "cell_type": "code",
   "execution_count": 61,
   "id": "44145fef",
   "metadata": {},
   "outputs": [],
   "source": [
    "test_agg.to_parquet(f\"./test_agg.parquet\")"
   ]
  },
  {
   "cell_type": "code",
   "execution_count": null,
   "id": "89596048",
   "metadata": {},
   "outputs": [],
   "source": []
  },
  {
   "cell_type": "code",
   "execution_count": null,
   "id": "d1674de2",
   "metadata": {},
   "outputs": [],
   "source": []
  }
 ],
 "metadata": {
  "kernelspec": {
   "display_name": "amex",
   "language": "python",
   "name": "amex"
  },
  "language_info": {
   "codemirror_mode": {
    "name": "ipython",
    "version": 3
   },
   "file_extension": ".py",
   "mimetype": "text/x-python",
   "name": "python",
   "nbconvert_exporter": "python",
   "pygments_lexer": "ipython3",
   "version": "3.10.0"
  }
 },
 "nbformat": 4,
 "nbformat_minor": 5
}
