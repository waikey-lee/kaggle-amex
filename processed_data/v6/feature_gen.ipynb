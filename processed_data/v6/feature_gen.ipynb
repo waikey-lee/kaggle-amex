{
 "cells": [
  {
   "cell_type": "code",
   "execution_count": 67,
   "id": "5dd2ca34-3410-4078-aa48-7adbba211ed5",
   "metadata": {},
   "outputs": [],
   "source": [
    "import datetime\n",
    "import gc\n",
    "import joblib\n",
    "import matplotlib.pyplot as plt\n",
    "import pandas as pd\n",
    "import numpy as np\n",
    "import os\n",
    "import scipy.stats\n",
    "import seaborn as sns\n",
    "import sys\n",
    "sys.path.append(\"../../\")\n",
    "import time\n",
    "import warnings\n",
    "warnings.simplefilter(\"ignore\")\n",
    "from collections import defaultdict\n",
    "from itertools import repeat, combinations\n",
    "from pandarallel import pandarallel\n",
    "from sklearn.preprocessing import StandardScaler, LabelEncoder\n",
    "from tqdm import tqdm"
   ]
  },
  {
   "cell_type": "code",
   "execution_count": 95,
   "id": "ed180905-de83-4e97-9d86-3307ede6d42f",
   "metadata": {},
   "outputs": [],
   "source": [
    "from utils.common import (\n",
    "    sigmoid, pad_column_name\n",
    ")\n",
    "from utils.constants import *\n",
    "from utils.eval_helpers import (\n",
    "    plot_roc_curves, plot_feature_importance, \n",
    "    amex_metric, get_final_metric_df, amex_metric_np, lgb_amex_metric\n",
    ")\n",
    "from utils.eda_helpers import (\n",
    "    plot_missing_proportion_barchart, plot_heatmap,\n",
    "    get_cols, insert_row_number, plot_train_test_distribution\n",
    ")\n",
    "from utils.extraction_helpers import read_file\n",
    "from utils.feature_group import CATEGORY_COLUMNS\n",
    "from utils.preprocess_helpers import clip_col"
   ]
  },
  {
   "cell_type": "code",
   "execution_count": 96,
   "id": "93a23fd1-1dc1-4cdc-af7a-dfd41584887d",
   "metadata": {},
   "outputs": [],
   "source": [
    "from feature_engineering_helpers import feature_gen_pipeline"
   ]
  },
  {
   "cell_type": "code",
   "execution_count": 97,
   "id": "67194602-57fc-4e92-9801-8d600e52a5b2",
   "metadata": {},
   "outputs": [
    {
     "name": "stdout",
     "output_type": "stream",
     "text": [
      "The autoreload extension is already loaded. To reload it, use:\n",
      "  %reload_ext autoreload\n"
     ]
    }
   ],
   "source": [
    "%load_ext autoreload\n",
    "%autoreload"
   ]
  },
  {
   "cell_type": "code",
   "execution_count": 71,
   "id": "570eba73-bbc2-4a0c-8a53-0c16a8009661",
   "metadata": {},
   "outputs": [
    {
     "name": "stdout",
     "output_type": "stream",
     "text": [
      "INFO: Pandarallel will run on 16 workers.\n",
      "INFO: Pandarallel will use standard multiprocessing data transfer (pipe) to transfer data between the main process and workers.\n"
     ]
    }
   ],
   "source": [
    "pandarallel.initialize(nb_workers=16, progress_bar=False, use_memory_fs=False)"
   ]
  },
  {
   "cell_type": "code",
   "execution_count": 72,
   "id": "1f0163b6-0df1-4062-a177-b86c359dc4b7",
   "metadata": {},
   "outputs": [],
   "source": [
    "START = time.time()"
   ]
  },
  {
   "cell_type": "markdown",
   "id": "b4962ceb-f3e9-4522-9a30-129b6d25fae9",
   "metadata": {},
   "source": [
    "### Read Data"
   ]
  },
  {
   "cell_type": "code",
   "execution_count": 48,
   "id": "1cc3552e-35f1-44df-9d7d-2de736acc83c",
   "metadata": {},
   "outputs": [
    {
     "name": "stdout",
     "output_type": "stream",
     "text": [
      "Shape of data: (458913, 2)\n"
     ]
    }
   ],
   "source": [
    "labels = read_file(f\"../{RAW_DATA_PATH}/train_labels.csv\")"
   ]
  },
  {
   "cell_type": "code",
   "execution_count": 11,
   "id": "6735831d-0024-4122-9c7b-1280e519d03e",
   "metadata": {},
   "outputs": [
    {
     "name": "stdout",
     "output_type": "stream",
     "text": [
      "Shape of data: (5531451, 189)\n",
      "Shape of data: (5681079, 188)\n",
      "Shape of data: (5682683, 188)\n",
      "CPU times: user 16.3 s, sys: 17 s, total: 33.3 s\n",
      "Wall time: 18.6 s\n"
     ]
    }
   ],
   "source": [
    "%%time\n",
    "train = read_file(f\"../{INTERIM_DATA_PATH}/v5/train_parquet/train_all_variables.parquet\")\n",
    "test1 = read_file(f\"../{INTERIM_DATA_PATH}/v5/test_parquet/test_all_variables1.parquet\")\n",
    "test2 = read_file(f\"../{INTERIM_DATA_PATH}/v5/test_parquet/test_all_variables2.parquet\")"
   ]
  },
  {
   "cell_type": "code",
   "execution_count": 12,
   "id": "939b892e-d116-459f-8cb9-64703f631df4",
   "metadata": {},
   "outputs": [],
   "source": [
    "%%time\n",
    "test = pd.concat([test1, test2], ignore_index=True)\n",
    "del test1, test2"
   ]
  },
  {
   "cell_type": "code",
   "execution_count": 38,
   "id": "a302bc01-313a-4319-8360-ad248469c9e1",
   "metadata": {},
   "outputs": [
    {
     "data": {
      "text/plain": [
       "180"
      ]
     },
     "execution_count": 38,
     "metadata": {},
     "output_type": "execute_result"
    }
   ],
   "source": [
    "gc.collect()"
   ]
  },
  {
   "cell_type": "code",
   "execution_count": 39,
   "id": "defc9ba3-5c92-4d03-9dfa-309e5b4288e4",
   "metadata": {},
   "outputs": [],
   "source": [
    "df_list = [train, test]"
   ]
  },
  {
   "cell_type": "code",
   "execution_count": 40,
   "id": "f7c0d2f7-3ce5-4b98-8771-0e96fc8553c2",
   "metadata": {},
   "outputs": [],
   "source": [
    "# %%time\n",
    "# n = train.nunique()\n",
    "# binary_features = n[n == 2].index.tolist()"
   ]
  },
  {
   "cell_type": "markdown",
   "id": "eb238a95-3227-4a2c-b80f-173018484812",
   "metadata": {},
   "source": [
    "### Transform Train Set"
   ]
  },
  {
   "cell_type": "code",
   "execution_count": 73,
   "id": "847d7a60-23e8-4353-8b86-2fa034ba1391",
   "metadata": {},
   "outputs": [
    {
     "name": "stdout",
     "output_type": "stream",
     "text": [
      "Done insertion\n",
      "Average done\n",
      "Minimum done\n",
      "Maximum done\n",
      "Standard Deviation done\n",
      "Last entry done\n",
      "First entry done\n",
      "Second last entry done\n",
      "Third last entry done\n",
      "MA2 for Recency 1 done\n",
      "MA2 for Recency 2 done\n",
      "MA2 for Recency 3 done\n",
      "MA3 for Recency 1 done\n",
      "MA3 for Recency 2 done\n",
      "MA3 for least Recency done\n"
     ]
    },
    {
     "name": "stderr",
     "output_type": "stream",
     "text": [
      "100%|████████████████████████████████████████████████████████████████████████████████████████████████████████████████████████████████████| 173/173 [00:50<00:00,  3.40it/s]"
     ]
    },
    {
     "name": "stdout",
     "output_type": "stream",
     "text": [
      "CPU times: user 1min 15s, sys: 35.4 s, total: 1min 50s\n",
      "Wall time: 2min 6s\n"
     ]
    },
    {
     "name": "stderr",
     "output_type": "stream",
     "text": [
      "\n"
     ]
    }
   ],
   "source": [
    "%%time\n",
    "train_agg, keep_column = feature_gen_pipeline(train)"
   ]
  },
  {
   "cell_type": "code",
   "execution_count": 74,
   "id": "b96e7ed1-41b9-4950-beca-8fc587d69564",
   "metadata": {},
   "outputs": [
    {
     "name": "stdout",
     "output_type": "stream",
     "text": [
      "Size: 14.388695549 GB, Shape: (458913, 5063)\n"
     ]
    }
   ],
   "source": [
    "train_agg[\"target\"] = labels[\"target\"].values\n",
    "print(f\"Size: {sys.getsizeof(train_agg) / 1e9} GB, Shape: {train_agg.shape}\")"
   ]
  },
  {
   "cell_type": "markdown",
   "id": "bb9db062-b9a3-4a7e-b572-a8398a11d604",
   "metadata": {},
   "source": [
    "#### Reduce data size"
   ]
  },
  {
   "cell_type": "code",
   "execution_count": 75,
   "id": "cbb7ba69-cbd1-4341-88f0-f624665a386f",
   "metadata": {},
   "outputs": [
    {
     "data": {
      "text/plain": [
       "float64     2767\n",
       "float32     1992\n",
       "int32        258\n",
       "category      12\n",
       "category       8\n",
       "category       4\n",
       "category       4\n",
       "category       4\n",
       "category       4\n",
       "category       4\n",
       "category       4\n",
       "int64          2\n",
       "dtype: int64"
      ]
     },
     "execution_count": 75,
     "metadata": {},
     "output_type": "execute_result"
    }
   ],
   "source": [
    "train_agg.dtypes.value_counts()"
   ]
  },
  {
   "cell_type": "code",
   "execution_count": 76,
   "id": "8b78478b-4ded-44eb-beae-f6d00d4d7386",
   "metadata": {},
   "outputs": [
    {
     "name": "stderr",
     "output_type": "stream",
     "text": [
      "100%|██████████████████████████████████████████████████████████████████████████████████████████████████████████████████████████████████| 2767/2767 [00:32<00:00, 86.15it/s]\n"
     ]
    }
   ],
   "source": [
    "float64_columns = train_agg.select_dtypes(\"float64\").columns.tolist()\n",
    "for col in tqdm(float64_columns):\n",
    "    temp = train_agg[col].astype(np.float32).values\n",
    "    if (temp - train_agg[col]).abs().max() < 1e-4:\n",
    "        train_agg[col] = train_agg[col].astype(np.float32)"
   ]
  },
  {
   "cell_type": "code",
   "execution_count": 77,
   "id": "874d7868-c096-4d5c-bbba-7f77f6ce6f3c",
   "metadata": {},
   "outputs": [
    {
     "data": {
      "text/plain": [
       "float32     4723\n",
       "int32        258\n",
       "float64       36\n",
       "category      12\n",
       "category       8\n",
       "category       4\n",
       "category       4\n",
       "category       4\n",
       "category       4\n",
       "category       4\n",
       "category       4\n",
       "int64          2\n",
       "dtype: int64"
      ]
     },
     "execution_count": 77,
     "metadata": {},
     "output_type": "execute_result"
    }
   ],
   "source": [
    "train_agg.dtypes.value_counts()"
   ]
  },
  {
   "cell_type": "code",
   "execution_count": 78,
   "id": "105382fc-a51e-4d08-9db1-9f02fdc39b09",
   "metadata": {},
   "outputs": [
    {
     "name": "stdout",
     "output_type": "stream",
     "text": [
      "Size: 9.375529937 GB, Shape: (458913, 5063)\n"
     ]
    }
   ],
   "source": [
    "print(f\"Size: {sys.getsizeof(train_agg) / 1e9} GB, Shape: {train_agg.shape}\")"
   ]
  },
  {
   "cell_type": "markdown",
   "id": "b850a18b-1be0-4bc9-b2c6-d8e78110642d",
   "metadata": {},
   "source": [
    "#### Clipping"
   ]
  },
  {
   "cell_type": "code",
   "execution_count": 93,
   "id": "1a9932f1-22cf-48a3-a9a3-2fd0c010b438",
   "metadata": {},
   "outputs": [],
   "source": [
    "max_ = train_agg.max()\n",
    "max_columns = max_[max_ > 1e3].index.tolist()"
   ]
  },
  {
   "cell_type": "code",
   "execution_count": 98,
   "id": "1d89ac72-cbf9-4b16-87bd-ef28480a325c",
   "metadata": {},
   "outputs": [
    {
     "name": "stderr",
     "output_type": "stream",
     "text": [
      "100%|████████████████████████████████████████████████████████████████████████████████████████████████████████████████████████████████████| 349/349 [00:06<00:00, 51.17it/s]\n"
     ]
    }
   ],
   "source": [
    "for col in tqdm(max_columns):\n",
    "    max_threshold1 = np.percentile(train_agg[col].dropna(), 99.9)\n",
    "    max_threshold2 = np.percentile(train_agg[col].dropna(), 99)\n",
    "    if max_threshold1 <= 1e3:\n",
    "        train_agg = clip_col(train_agg, col, top_value=max_threshold1, add_new_col=False)\n",
    "    elif max_threshold2 <= 1e3:\n",
    "        train_agg = clip_col(train_agg, col, top_value=max_threshold2, add_new_col=False)\n",
    "    else:\n",
    "        train_agg = clip_col(train_agg, col, top_value=1e3, add_new_col=False)"
   ]
  },
  {
   "cell_type": "code",
   "execution_count": 99,
   "id": "3426b573-b0e5-4b73-afe0-84875476d25b",
   "metadata": {},
   "outputs": [],
   "source": [
    "min_ = train_agg.min()\n",
    "min_columns = min_[min_ < -1e3].index.tolist()"
   ]
  },
  {
   "cell_type": "code",
   "execution_count": 100,
   "id": "a009caaa-e696-4d1f-a40c-290841bcdbf2",
   "metadata": {},
   "outputs": [
    {
     "name": "stderr",
     "output_type": "stream",
     "text": [
      "100%|████████████████████████████████████████████████████████████████████████████████████████████████████████████████████████████████████| 107/107 [00:02<00:00, 43.63it/s]\n"
     ]
    }
   ],
   "source": [
    "for col in tqdm(min_columns):\n",
    "    min_threshold1 = np.percentile(train_agg[col].dropna(), 0.1)\n",
    "    min_threshold2 = np.percentile(train_agg[col].dropna(), 1)\n",
    "    if min_threshold1 >= -1e3:\n",
    "        train_agg = clip_col(train_agg, col, btm_value=min_threshold1, add_new_col=False)\n",
    "    elif min_threshold2 >= -1e3:\n",
    "        train_agg = clip_col(train_agg, col, btm_value=min_threshold2, add_new_col=False)\n",
    "    else:\n",
    "        train_agg = clip_col(train_agg, col, btm_value=-1e3, add_new_col=False)"
   ]
  },
  {
   "cell_type": "markdown",
   "id": "32f5ebf6-aacd-473c-bcec-c2d65ee2d777",
   "metadata": {},
   "source": [
    "#### Rounding"
   ]
  },
  {
   "cell_type": "code",
   "execution_count": 103,
   "id": "1984ce0c-7ccd-4eb4-a557-7fe4942f3922",
   "metadata": {},
   "outputs": [
    {
     "name": "stderr",
     "output_type": "stream",
     "text": [
      "100%|█████████████████████████████████████████████████████████████████████████████████████████████████████████████████████████████████| 5019/5019 [00:17<00:00, 293.54it/s]\n"
     ]
    }
   ],
   "source": [
    "number_columns = train_agg.select_dtypes(np.number).columns.tolist()\n",
    "for col in tqdm(number_columns):\n",
    "    temp = train_agg[col].round(3)\n",
    "    if (temp - train_agg[col]).abs().max() < 1e-4:\n",
    "        train_agg[col] = train_agg[col].round(3)"
   ]
  },
  {
   "cell_type": "code",
   "execution_count": 104,
   "id": "e280bf45-a9cd-43f6-b812-3228ee2fb52c",
   "metadata": {},
   "outputs": [
    {
     "name": "stdout",
     "output_type": "stream",
     "text": [
      "Size: 9.375529937 GB, Shape: (458913, 5063)\n"
     ]
    }
   ],
   "source": [
    "print(f\"Size: {sys.getsizeof(train_agg) / 1e9} GB, Shape: {train_agg.shape}\")"
   ]
  },
  {
   "cell_type": "code",
   "execution_count": 106,
   "id": "53bd3dce-5a74-4bea-9338-6f591db0129d",
   "metadata": {},
   "outputs": [
    {
     "data": {
      "text/plain": [
       "(458913, 5063)"
      ]
     },
     "execution_count": 106,
     "metadata": {},
     "output_type": "execute_result"
    }
   ],
   "source": [
    "train_agg.shape"
   ]
  },
  {
   "cell_type": "code",
   "execution_count": 108,
   "id": "b8845c94-6486-40a8-b8ee-d9e584eb7407",
   "metadata": {},
   "outputs": [],
   "source": [
    "train_agg.to_parquet(f\"./train_agg.parquet\")"
   ]
  },
  {
   "cell_type": "code",
   "execution_count": 109,
   "id": "3ca6c37c-0f0f-4db9-9be2-39bd8bd698f2",
   "metadata": {},
   "outputs": [],
   "source": [
    "del train_agg, train"
   ]
  },
  {
   "cell_type": "code",
   "execution_count": null,
   "id": "5861e72c-68a9-4b35-95e7-16c1d9b21688",
   "metadata": {},
   "outputs": [],
   "source": []
  }
 ],
 "metadata": {
  "kernelspec": {
   "display_name": "amex",
   "language": "python",
   "name": "amex"
  },
  "language_info": {
   "codemirror_mode": {
    "name": "ipython",
    "version": 3
   },
   "file_extension": ".py",
   "mimetype": "text/x-python",
   "name": "python",
   "nbconvert_exporter": "python",
   "pygments_lexer": "ipython3",
   "version": "3.10.0"
  }
 },
 "nbformat": 4,
 "nbformat_minor": 5
}
