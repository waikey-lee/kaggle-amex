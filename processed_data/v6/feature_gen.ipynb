{
 "cells": [
  {
   "cell_type": "code",
   "execution_count": 26,
   "id": "5dd2ca34-3410-4078-aa48-7adbba211ed5",
   "metadata": {},
   "outputs": [],
   "source": [
    "import datetime\n",
    "import gc\n",
    "import joblib\n",
    "import matplotlib.pyplot as plt\n",
    "import pandas as pd\n",
    "import numpy as np\n",
    "import os\n",
    "import scipy.stats\n",
    "import seaborn as sns\n",
    "import sys\n",
    "sys.path.append(\"../../\")\n",
    "import time\n",
    "import warnings\n",
    "warnings.simplefilter(\"ignore\")\n",
    "from collections import defaultdict\n",
    "from itertools import repeat, combinations\n",
    "from pandarallel import pandarallel\n",
    "from sklearn.preprocessing import StandardScaler, LabelEncoder\n",
    "from tqdm import tqdm"
   ]
  },
  {
   "cell_type": "code",
   "execution_count": 27,
   "id": "ed180905-de83-4e97-9d86-3307ede6d42f",
   "metadata": {},
   "outputs": [],
   "source": [
    "from utils.common import (\n",
    "    sigmoid, pad_column_name\n",
    ")\n",
    "from utils.constants import *\n",
    "from utils.eval_helpers import (\n",
    "    plot_roc_curves, plot_feature_importance, \n",
    "    amex_metric, get_final_metric_df, amex_metric_np, lgb_amex_metric\n",
    ")\n",
    "from utils.eda_helpers import (\n",
    "    plot_missing_proportion_barchart, plot_heatmap,\n",
    "    get_cols, insert_row_number, plot_train_test_distribution\n",
    ")\n",
    "from utils.extraction_helpers import read_file\n",
    "from utils.feature_group import CATEGORY_COLUMNS\n",
    "from utils.preprocess_helpers import clip_col"
   ]
  },
  {
   "cell_type": "code",
   "execution_count": 28,
   "id": "93a23fd1-1dc1-4cdc-af7a-dfd41584887d",
   "metadata": {},
   "outputs": [],
   "source": [
    "from feature_engineering_helpers import feature_gen_pipeline, clip_all, round_all, convert_all"
   ]
  },
  {
   "cell_type": "code",
   "execution_count": 29,
   "id": "67194602-57fc-4e92-9801-8d600e52a5b2",
   "metadata": {},
   "outputs": [
    {
     "name": "stdout",
     "output_type": "stream",
     "text": [
      "The autoreload extension is already loaded. To reload it, use:\n",
      "  %reload_ext autoreload\n"
     ]
    }
   ],
   "source": [
    "%load_ext autoreload\n",
    "%autoreload"
   ]
  },
  {
   "cell_type": "code",
   "execution_count": 30,
   "id": "570eba73-bbc2-4a0c-8a53-0c16a8009661",
   "metadata": {},
   "outputs": [
    {
     "name": "stdout",
     "output_type": "stream",
     "text": [
      "INFO: Pandarallel will run on 16 workers.\n",
      "INFO: Pandarallel will use standard multiprocessing data transfer (pipe) to transfer data between the main process and workers.\n"
     ]
    }
   ],
   "source": [
    "pandarallel.initialize(nb_workers=16, progress_bar=False, use_memory_fs=False)"
   ]
  },
  {
   "cell_type": "code",
   "execution_count": 31,
   "id": "1f0163b6-0df1-4062-a177-b86c359dc4b7",
   "metadata": {},
   "outputs": [],
   "source": [
    "START = time.time()"
   ]
  },
  {
   "cell_type": "markdown",
   "id": "b4962ceb-f3e9-4522-9a30-129b6d25fae9",
   "metadata": {},
   "source": [
    "### Read Data"
   ]
  },
  {
   "cell_type": "code",
   "execution_count": 10,
   "id": "1cc3552e-35f1-44df-9d7d-2de736acc83c",
   "metadata": {},
   "outputs": [
    {
     "name": "stdout",
     "output_type": "stream",
     "text": [
      "Shape of data: (458913, 2)\n"
     ]
    }
   ],
   "source": [
    "labels = read_file(f\"../{RAW_DATA_PATH}/train_labels.csv\")"
   ]
  },
  {
   "cell_type": "code",
   "execution_count": 11,
   "id": "6735831d-0024-4122-9c7b-1280e519d03e",
   "metadata": {},
   "outputs": [
    {
     "name": "stdout",
     "output_type": "stream",
     "text": [
      "Shape of data: (5531451, 189)\n",
      "Shape of data: (5681079, 188)\n",
      "Shape of data: (5682683, 188)\n",
      "CPU times: user 54.5 s, sys: 1min 9s, total: 2min 4s\n",
      "Wall time: 1min 4s\n"
     ]
    }
   ],
   "source": [
    "%%time\n",
    "train = read_file(f\"../{INTERIM_DATA_PATH}/v5/train_parquet/train_all_variables.parquet\")\n",
    "test1 = read_file(f\"../{INTERIM_DATA_PATH}/v5/test_parquet/test_all_variables1.parquet\")\n",
    "test2 = read_file(f\"../{INTERIM_DATA_PATH}/v5/test_parquet/test_all_variables2.parquet\")"
   ]
  },
  {
   "cell_type": "code",
   "execution_count": 12,
   "id": "939b892e-d116-459f-8cb9-64703f631df4",
   "metadata": {},
   "outputs": [
    {
     "name": "stdout",
     "output_type": "stream",
     "text": [
      "CPU times: user 11.3 s, sys: 33.1 s, total: 44.4 s\n",
      "Wall time: 59 s\n"
     ]
    }
   ],
   "source": [
    "%%time\n",
    "test = pd.concat([test1, test2], ignore_index=True)\n",
    "del test1, test2"
   ]
  },
  {
   "cell_type": "code",
   "execution_count": 32,
   "id": "a302bc01-313a-4319-8360-ad248469c9e1",
   "metadata": {},
   "outputs": [
    {
     "data": {
      "text/plain": [
       "12520"
      ]
     },
     "execution_count": 32,
     "metadata": {},
     "output_type": "execute_result"
    }
   ],
   "source": [
    "gc.collect()"
   ]
  },
  {
   "cell_type": "code",
   "execution_count": 14,
   "id": "defc9ba3-5c92-4d03-9dfa-309e5b4288e4",
   "metadata": {},
   "outputs": [],
   "source": [
    "df_list = [train, test]"
   ]
  },
  {
   "cell_type": "code",
   "execution_count": 15,
   "id": "f7c0d2f7-3ce5-4b98-8771-0e96fc8553c2",
   "metadata": {},
   "outputs": [],
   "source": [
    "# %%time\n",
    "# n = train.nunique()\n",
    "# binary_features = n[n == 2].index.tolist()"
   ]
  },
  {
   "cell_type": "markdown",
   "id": "eb238a95-3227-4a2c-b80f-173018484812",
   "metadata": {},
   "source": [
    "### Transform Train Set"
   ]
  },
  {
   "cell_type": "code",
   "execution_count": 33,
   "id": "847d7a60-23e8-4353-8b86-2fa034ba1391",
   "metadata": {},
   "outputs": [
    {
     "name": "stdout",
     "output_type": "stream",
     "text": [
      "Done insertion\n",
      "Average done\n",
      "Minimum done\n",
      "Maximum done\n",
      "Standard Deviation done\n",
      "Last entry done\n",
      "First entry done\n",
      "Second last entry done\n",
      "Third last entry done\n",
      "MA2 for Recency 1 done\n",
      "MA2 for Recency 2 done\n",
      "MA2 for Recency 3 done\n",
      "MA3 for Recency 1 done\n",
      "MA3 for Recency 2 done\n",
      "MA3 for least Recency done\n"
     ]
    },
    {
     "name": "stderr",
     "output_type": "stream",
     "text": [
      "100%|███████████████████████████████████████████████████████████████████████████████████████████████████████████████████████████| 173/173 [01:40<00:00,  1.72it/s]"
     ]
    },
    {
     "name": "stdout",
     "output_type": "stream",
     "text": [
      "CPU times: user 2min 38s, sys: 1min 21s, total: 3min 59s\n",
      "Wall time: 4min 22s\n"
     ]
    },
    {
     "name": "stderr",
     "output_type": "stream",
     "text": [
      "\n"
     ]
    }
   ],
   "source": [
    "%%time\n",
    "train_agg, keep_column = feature_gen_pipeline(train)"
   ]
  },
  {
   "cell_type": "code",
   "execution_count": 34,
   "id": "b96e7ed1-41b9-4950-beca-8fc587d69564",
   "metadata": {},
   "outputs": [
    {
     "name": "stdout",
     "output_type": "stream",
     "text": [
      "Size: 14.388695549 GB, Shape: (458913, 5063)\n"
     ]
    }
   ],
   "source": [
    "train_agg[\"target\"] = labels[\"target\"].values\n",
    "print(f\"Size: {sys.getsizeof(train_agg) / 1e9} GB, Shape: {train_agg.shape}\")"
   ]
  },
  {
   "cell_type": "code",
   "execution_count": 35,
   "id": "a1c9a196-6967-4bb6-bc37-fbcd3fc58e9c",
   "metadata": {},
   "outputs": [
    {
     "name": "stderr",
     "output_type": "stream",
     "text": [
      "100%|█████████████████████████████████████████████████████████████████████████████████████████████████████████████████████████| 2767/2767 [02:14<00:00, 20.57it/s]\n"
     ]
    }
   ],
   "source": [
    "train_agg = convert_all(train_agg)"
   ]
  },
  {
   "cell_type": "code",
   "execution_count": 36,
   "id": "f6b993bf-25e6-4d7b-a519-5e9b28aaf7ff",
   "metadata": {},
   "outputs": [
    {
     "name": "stderr",
     "output_type": "stream",
     "text": [
      "100%|███████████████████████████████████████████████████████████████████████████████████████████████████████████████████████████| 349/349 [00:11<00:00, 29.48it/s]\n",
      "100%|███████████████████████████████████████████████████████████████████████████████████████████████████████████████████████████| 107/107 [00:03<00:00, 30.12it/s]\n"
     ]
    }
   ],
   "source": [
    "train_agg = clip_all(train_agg)"
   ]
  },
  {
   "cell_type": "code",
   "execution_count": 37,
   "id": "bbb40518-a2b4-4866-835f-fb54d1d7b529",
   "metadata": {},
   "outputs": [
    {
     "name": "stderr",
     "output_type": "stream",
     "text": [
      "100%|████████████████████████████████████████████████████████████████████████████████████████████████████████████████████████| 5019/5019 [00:39<00:00, 125.59it/s]\n"
     ]
    }
   ],
   "source": [
    "train_agg = round_all(train_agg)"
   ]
  },
  {
   "cell_type": "code",
   "execution_count": 38,
   "id": "a9761e10-449d-4b5f-8631-2a47326fce92",
   "metadata": {},
   "outputs": [
    {
     "name": "stdout",
     "output_type": "stream",
     "text": [
      "Size: 9.375529937 GB, Shape: (458913, 5063)\n"
     ]
    }
   ],
   "source": [
    "print(f\"Size: {sys.getsizeof(train_agg) / 1e9} GB, Shape: {train_agg.shape}\")"
   ]
  },
  {
   "cell_type": "code",
   "execution_count": 25,
   "id": "53bd3dce-5a74-4bea-9338-6f591db0129d",
   "metadata": {},
   "outputs": [
    {
     "data": {
      "text/plain": [
       "(458913, 5063)"
      ]
     },
     "execution_count": 25,
     "metadata": {},
     "output_type": "execute_result"
    }
   ],
   "source": [
    "train_agg.shape"
   ]
  },
  {
   "cell_type": "code",
   "execution_count": 40,
   "id": "b8845c94-6486-40a8-b8ee-d9e584eb7407",
   "metadata": {},
   "outputs": [],
   "source": [
    "# train_agg.to_parquet(f\"./train_agg.parquet\")"
   ]
  },
  {
   "cell_type": "code",
   "execution_count": 44,
   "id": "3ca6c37c-0f0f-4db9-9be2-39bd8bd698f2",
   "metadata": {},
   "outputs": [],
   "source": [
    "# del train_agg, train"
   ]
  },
  {
   "cell_type": "markdown",
   "id": "df9a3004-ad6f-454f-9b69-9947455decde",
   "metadata": {},
   "source": [
    "### Transform Test"
   ]
  },
  {
   "cell_type": "code",
   "execution_count": 45,
   "id": "d3bddade-5f22-4e37-9378-76a542211dbd",
   "metadata": {},
   "outputs": [
    {
     "name": "stdout",
     "output_type": "stream",
     "text": [
      "Done insertion\n",
      "Average done\n",
      "Minimum done\n",
      "Maximum done\n",
      "Standard Deviation done\n",
      "Last entry done\n",
      "First entry done\n",
      "Second last entry done\n",
      "Third last entry done\n",
      "MA2 for Recency 1 done\n",
      "MA2 for Recency 2 done\n",
      "MA2 for Recency 3 done\n",
      "MA3 for Recency 1 done\n",
      "MA3 for Recency 2 done\n",
      "MA3 for least Recency done\n"
     ]
    },
    {
     "name": "stderr",
     "output_type": "stream",
     "text": [
      "100%|███████████████████████████████████████████████████████████████████████████████████████████████████████████████████████████| 173/173 [02:13<00:00,  1.30it/s]"
     ]
    },
    {
     "name": "stdout",
     "output_type": "stream",
     "text": [
      "CPU times: user 5min 10s, sys: 7min 2s, total: 12min 13s\n",
      "Wall time: 14min 55s\n"
     ]
    },
    {
     "name": "stderr",
     "output_type": "stream",
     "text": [
      "\n"
     ]
    }
   ],
   "source": [
    "%%time\n",
    "test_agg, keep_column = feature_gen_pipeline(test)"
   ]
  },
  {
   "cell_type": "code",
   "execution_count": 46,
   "id": "806726ad-3833-4b2a-974e-faa0c953d20d",
   "metadata": {},
   "outputs": [
    {
     "name": "stdout",
     "output_type": "stream",
     "text": [
      "Size: 29.004975209 GB, Shape: (924621, 5062)\n"
     ]
    }
   ],
   "source": [
    "print(f\"Size: {sys.getsizeof(test_agg) / 1e9} GB, Shape: {test_agg.shape}\")"
   ]
  },
  {
   "cell_type": "code",
   "execution_count": 47,
   "id": "aea79ada-aff5-4134-8ec0-a97ae12cc001",
   "metadata": {},
   "outputs": [
    {
     "name": "stderr",
     "output_type": "stream",
     "text": [
      "100%|█████████████████████████████████████████████████████████████████████████████████████████████████████████████████████████| 2773/2773 [05:13<00:00,  8.86it/s]\n"
     ]
    }
   ],
   "source": [
    "test_agg = convert_all(test_agg)"
   ]
  },
  {
   "cell_type": "code",
   "execution_count": 48,
   "id": "a78d9bb7-98fc-4b69-9e9e-bf4453a1df95",
   "metadata": {},
   "outputs": [
    {
     "name": "stderr",
     "output_type": "stream",
     "text": [
      "100%|███████████████████████████████████████████████████████████████████████████████████████████████████████████████████████████| 353/353 [00:27<00:00, 12.76it/s]\n",
      "100%|███████████████████████████████████████████████████████████████████████████████████████████████████████████████████████████| 108/108 [00:08<00:00, 13.30it/s]\n"
     ]
    }
   ],
   "source": [
    "test_agg = clip_all(test_agg)"
   ]
  },
  {
   "cell_type": "code",
   "execution_count": 49,
   "id": "9cdec895-2c50-4a36-a4a6-afb06b72dc96",
   "metadata": {},
   "outputs": [
    {
     "name": "stderr",
     "output_type": "stream",
     "text": [
      "100%|█████████████████████████████████████████████████████████████████████████████████████████████████████████████████████████| 5018/5018 [02:27<00:00, 33.96it/s]\n"
     ]
    }
   ],
   "source": [
    "test_agg = round_all(test_agg)"
   ]
  },
  {
   "cell_type": "code",
   "execution_count": 52,
   "id": "1dca533d-7229-41f2-9e27-e2988b49352f",
   "metadata": {},
   "outputs": [
    {
     "name": "stdout",
     "output_type": "stream",
     "text": [
      "Size: 18.889621469 GB, Shape: (924621, 5062)\n"
     ]
    }
   ],
   "source": [
    "print(f\"Size: {sys.getsizeof(test_agg) / 1e9} GB, Shape: {test_agg.shape}\")"
   ]
  },
  {
   "cell_type": "code",
   "execution_count": 53,
   "id": "f7536a09-4713-4e71-a96a-0a8394c4ee7b",
   "metadata": {},
   "outputs": [
    {
     "data": {
      "text/plain": [
       "(924621, 5062)"
      ]
     },
     "execution_count": 53,
     "metadata": {},
     "output_type": "execute_result"
    }
   ],
   "source": [
    "test_agg.shape"
   ]
  },
  {
   "cell_type": "code",
   "execution_count": 54,
   "id": "1b3a5065-c131-4872-ae61-6106468c49db",
   "metadata": {},
   "outputs": [],
   "source": [
    "test_agg.to_parquet(f\"./test_agg.parquet\")"
   ]
  },
  {
   "cell_type": "code",
   "execution_count": 55,
   "id": "fb5f1ee2-1c5f-495d-b2bf-017ac3caea38",
   "metadata": {},
   "outputs": [],
   "source": [
    "del test_agg, test"
   ]
  },
  {
   "cell_type": "code",
   "execution_count": null,
   "id": "9a85f1fd-fab7-45e9-885f-35cf65ebc409",
   "metadata": {},
   "outputs": [],
   "source": []
  },
  {
   "cell_type": "code",
   "execution_count": null,
   "id": "4696a411-f26c-44d6-a1e6-799f3d27dc24",
   "metadata": {},
   "outputs": [],
   "source": []
  }
 ],
 "metadata": {
  "kernelspec": {
   "display_name": "play",
   "language": "python",
   "name": "play"
  },
  "language_info": {
   "codemirror_mode": {
    "name": "ipython",
    "version": 3
   },
   "file_extension": ".py",
   "mimetype": "text/x-python",
   "name": "python",
   "nbconvert_exporter": "python",
   "pygments_lexer": "ipython3",
   "version": "3.10.0"
  }
 },
 "nbformat": 4,
 "nbformat_minor": 5
}
