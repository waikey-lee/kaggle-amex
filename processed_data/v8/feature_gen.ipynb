{
 "cells": [
  {
   "cell_type": "code",
   "execution_count": 1,
   "id": "5dd2ca34-3410-4078-aa48-7adbba211ed5",
   "metadata": {},
   "outputs": [],
   "source": [
    "import datetime\n",
    "import gc\n",
    "import joblib\n",
    "import matplotlib.pyplot as plt\n",
    "import pandas as pd\n",
    "import numpy as np\n",
    "import os\n",
    "import scipy.stats\n",
    "import seaborn as sns\n",
    "import sys\n",
    "sys.path.append(\"../../\")\n",
    "import time\n",
    "import warnings\n",
    "warnings.simplefilter(\"ignore\")\n",
    "from collections import defaultdict\n",
    "from itertools import repeat, combinations\n",
    "from pandarallel import pandarallel\n",
    "from sklearn.preprocessing import StandardScaler, LabelEncoder\n",
    "from tqdm import tqdm"
   ]
  },
  {
   "cell_type": "code",
   "execution_count": 2,
   "id": "ed180905-de83-4e97-9d86-3307ede6d42f",
   "metadata": {},
   "outputs": [],
   "source": [
    "from utils.common import (\n",
    "    sigmoid, pad_column_name\n",
    ")\n",
    "from utils.constants import *\n",
    "from utils.eval_helpers import (\n",
    "    plot_roc_curves, plot_feature_importance, \n",
    "    amex_metric, get_final_metric_df, amex_metric_np, lgb_amex_metric\n",
    ")\n",
    "from utils.eda_helpers import (\n",
    "    plot_missing_proportion_barchart, plot_heatmap, plot_target_check,\n",
    "    get_cols, insert_row_number, plot_train_test_distribution\n",
    ")\n",
    "from utils.extraction_helpers import read_file\n",
    "from utils.feature_group import CATEGORY_COLUMNS\n",
    "from utils.preprocess_helpers import clip_col"
   ]
  },
  {
   "cell_type": "code",
   "execution_count": 3,
   "id": "93a23fd1-1dc1-4cdc-af7a-dfd41584887d",
   "metadata": {},
   "outputs": [],
   "source": [
    "from feature_engineering_helpers import feature_gen_pipeline, clip_all, round_all, convert_all"
   ]
  },
  {
   "cell_type": "code",
   "execution_count": 4,
   "id": "67194602-57fc-4e92-9801-8d600e52a5b2",
   "metadata": {},
   "outputs": [],
   "source": [
    "%load_ext autoreload\n",
    "%autoreload"
   ]
  },
  {
   "cell_type": "code",
   "execution_count": 5,
   "id": "570eba73-bbc2-4a0c-8a53-0c16a8009661",
   "metadata": {},
   "outputs": [
    {
     "name": "stdout",
     "output_type": "stream",
     "text": [
      "INFO: Pandarallel will run on 16 workers.\n",
      "INFO: Pandarallel will use standard multiprocessing data transfer (pipe) to transfer data between the main process and workers.\n"
     ]
    }
   ],
   "source": [
    "pandarallel.initialize(nb_workers=16, progress_bar=False, use_memory_fs=False)"
   ]
  },
  {
   "cell_type": "code",
   "execution_count": 6,
   "id": "1f0163b6-0df1-4062-a177-b86c359dc4b7",
   "metadata": {},
   "outputs": [],
   "source": [
    "START = time.time()"
   ]
  },
  {
   "cell_type": "markdown",
   "id": "b4962ceb-f3e9-4522-9a30-129b6d25fae9",
   "metadata": {},
   "source": [
    "### Read Data"
   ]
  },
  {
   "cell_type": "code",
   "execution_count": 7,
   "id": "1cc3552e-35f1-44df-9d7d-2de736acc83c",
   "metadata": {},
   "outputs": [
    {
     "name": "stdout",
     "output_type": "stream",
     "text": [
      "Shape of data: (458913, 2)\n"
     ]
    }
   ],
   "source": [
    "labels = read_file(f\"../{RAW_DATA_PATH}/train_labels.csv\")"
   ]
  },
  {
   "cell_type": "code",
   "execution_count": 8,
   "id": "6735831d-0024-4122-9c7b-1280e519d03e",
   "metadata": {},
   "outputs": [
    {
     "name": "stdout",
     "output_type": "stream",
     "text": [
      "Shape of data: (5531451, 186)\n",
      "Shape of data: (5681079, 185)\n",
      "Shape of data: (5682683, 185)\n",
      "CPU times: user 16.8 s, sys: 18.8 s, total: 35.6 s\n",
      "Wall time: 20.8 s\n"
     ]
    }
   ],
   "source": [
    "%%time\n",
    "train = read_file(f\"../{INTERIM_DATA_PATH}/v6/train_parquet/train_all_variables.parquet\")\n",
    "test1 = read_file(f\"../{INTERIM_DATA_PATH}/v6/test_parquet/test_all_variables1.parquet\")\n",
    "test2 = read_file(f\"../{INTERIM_DATA_PATH}/v6/test_parquet/test_all_variables2.parquet\")"
   ]
  },
  {
   "cell_type": "code",
   "execution_count": 9,
   "id": "da140ede-0d19-47a3-8ef5-15e5297c65bf",
   "metadata": {},
   "outputs": [],
   "source": [
    "df_list = [train, test1, test2]"
   ]
  },
  {
   "cell_type": "markdown",
   "id": "209179b7-cbf8-4e9a-8ef0-6b9af6dadcf9",
   "metadata": {},
   "source": [
    "### Feature Crossing"
   ]
  },
  {
   "cell_type": "code",
   "execution_count": 10,
   "id": "635dc7ea-2199-4eb4-b092-42959a959d05",
   "metadata": {},
   "outputs": [],
   "source": [
    "for df in df_list:\n",
    "    df[\"DP_392\"] = (df[\"D_39\"] / -df[\"P_2\"]).round(1)\n",
    "    df[\"BP_92\"] = (-df[\"P_2\"] / df[\"B_9\"]).round(1)\n",
    "    df[\"PR_21\"] = (-df[\"P_2\"] / df[\"R_1\"]).round(1)\n",
    "    df[\"PR_21\"] = (-df[\"P_2\"] / df[\"R_1\"]).round(1)\n",
    "    df[\"B_9323\"] = (df[\"B_9\"] / df[[\"B_3\", \"B_23\"]].sum(axis=1).replace(0, 0.005)).round(2)\n",
    "    df[\"B_331825\"] = (-df[\"B_33\"] - df[\"B_18\"] + df[\"S_25\"]).round(1)\n",
    "    df[\"B_19204\"] = (df[\"B_19\"] - df[\"B_20\"] + df[\"B_4\"]).round(1)\n",
    "    df[\"R_324\"] = (df[\"R_3\"] / (df[\"R_2\"] + df[\"R_4\"]).replace(0, 0.005)).round(2)\n",
    "    df[\"DP_483\"] = (df[\"D_48\"] / df[\"P_3\"]).round(2)\n",
    "    df[\"DP_553\"] = (df[\"D_55\"] / df[\"P_3\"]).round(2)\n",
    "    df[\"DP_394\"] = (df[\"D_39\"] / df[\"P_4\"]).round(2)\n",
    "    df[\"BP_94\"] = (df[\"B_9\"] / df[\"P_4\"]).round(2)\n",
    "    df[\"PR_41\"] = (df[\"B_9\"] / df[\"P_4\"]).round(2)"
   ]
  },
  {
   "cell_type": "code",
   "execution_count": 13,
   "id": "39871057-cb41-4215-9ecd-32f6a92f9bc3",
   "metadata": {},
   "outputs": [
    {
     "data": {
      "text/plain": [
       "139"
      ]
     },
     "execution_count": 13,
     "metadata": {},
     "output_type": "execute_result"
    }
   ],
   "source": [
    "len(missing_columns)"
   ]
  },
  {
   "cell_type": "code",
   "execution_count": 14,
   "id": "589a9d55-972e-43a3-9973-90a2ce0f2c22",
   "metadata": {},
   "outputs": [],
   "source": [
    "# train.to_parquet(f\"./train_imputed.parquet\")"
   ]
  },
  {
   "cell_type": "code",
   "execution_count": 15,
   "id": "ee5ce0a9-7c06-47ef-ab87-3a44a42475c1",
   "metadata": {},
   "outputs": [
    {
     "data": {
      "text/plain": [
       "1064"
      ]
     },
     "execution_count": 15,
     "metadata": {},
     "output_type": "execute_result"
    }
   ],
   "source": [
    "gc.collect()"
   ]
  },
  {
   "cell_type": "code",
   "execution_count": 17,
   "id": "bc03ab58-7340-46aa-9cbf-6055fdd98d15",
   "metadata": {},
   "outputs": [],
   "source": [
    "temp = train.loc[:, get_cols(train, \"B_\")]"
   ]
  },
  {
   "cell_type": "code",
   "execution_count": 26,
   "id": "a781eb22-e96e-45f3-ba2b-7b279bd482dc",
   "metadata": {},
   "outputs": [],
   "source": [
    "more_unique_balance_cols = temp.nunique()[temp.nunique() > 150].index.tolist()"
   ]
  },
  {
   "cell_type": "code",
   "execution_count": 29,
   "id": "5d06f1d5-db2c-40bc-8c50-89bf6b95977b",
   "metadata": {},
   "outputs": [],
   "source": [
    "diff_cols = [col for col in more_unique_balance_cols if len(col) <= 4]"
   ]
  },
  {
   "cell_type": "markdown",
   "id": "7ea62866-43b8-4fc0-8694-edf84434caa4",
   "metadata": {},
   "source": [
    "### Calculate diff for each column"
   ]
  },
  {
   "cell_type": "code",
   "execution_count": 30,
   "id": "093442e2-84e7-4398-86a9-76541aa01d50",
   "metadata": {},
   "outputs": [
    {
     "name": "stderr",
     "output_type": "stream",
     "text": [
      "100%|██████████████████████████████████████████████████████████████████████████████████████████████████████████████████████████████████████| 16/16 [14:11<00:00, 53.24s/it]\n"
     ]
    }
   ],
   "source": [
    "for col in tqdm(diff_cols):\n",
    "    for df in df_list:\n",
    "        df[col + \"_diff\"] = df.groupby(\"customer_ID\")[col].diff()"
   ]
  },
  {
   "cell_type": "markdown",
   "id": "eb238a95-3227-4a2c-b80f-173018484812",
   "metadata": {},
   "source": [
    "### Transform Train Set"
   ]
  },
  {
   "cell_type": "code",
   "execution_count": 31,
   "id": "847d7a60-23e8-4353-8b86-2fa034ba1391",
   "metadata": {},
   "outputs": [
    {
     "name": "stdout",
     "output_type": "stream",
     "text": [
      "Done insertion\n",
      "Average done\n",
      "Minimum done\n",
      "Maximum done\n",
      "Standard Deviation done\n",
      "Last entry done\n",
      "First entry done\n",
      "Second last entry done\n",
      "Third last entry done\n",
      "MA2 for Recency 1 done\n",
      "MA2 for Recency 2 done\n",
      "MA2 for Recency 3 done\n",
      "MA3 for Recency 1 done\n",
      "MA3 for Recency 2 done\n",
      "MA3 for least Recency done\n"
     ]
    },
    {
     "name": "stderr",
     "output_type": "stream",
     "text": [
      "100%|████████████████████████████████████████████████████████████████████████████████████████████████████████████████████████████████████| 198/198 [01:01<00:00,  3.20it/s]"
     ]
    },
    {
     "name": "stdout",
     "output_type": "stream",
     "text": [
      "CPU times: user 1min 30s, sys: 44.4 s, total: 2min 14s\n",
      "Wall time: 2min 34s\n"
     ]
    },
    {
     "name": "stderr",
     "output_type": "stream",
     "text": [
      "\n"
     ]
    }
   ],
   "source": [
    "%%time\n",
    "train_agg, keep_column = feature_gen_pipeline(train)"
   ]
  },
  {
   "cell_type": "code",
   "execution_count": 32,
   "id": "b96e7ed1-41b9-4950-beca-8fc587d69564",
   "metadata": {},
   "outputs": [
    {
     "name": "stdout",
     "output_type": "stream",
     "text": [
      "Size: 16.268403197 GB, Shape: (458913, 5788)\n"
     ]
    }
   ],
   "source": [
    "train_agg[\"target\"] = labels[\"target\"].values\n",
    "print(f\"Size: {sys.getsizeof(train_agg) / 1e9} GB, Shape: {train_agg.shape}\")"
   ]
  },
  {
   "cell_type": "code",
   "execution_count": 33,
   "id": "7c160353-8067-4b32-a9d9-f0a7d5049ed1",
   "metadata": {},
   "outputs": [],
   "source": [
    "train_agg.to_parquet(\"./train_agg.parquet\")"
   ]
  },
  {
   "cell_type": "code",
   "execution_count": 34,
   "id": "a1c9a196-6967-4bb6-bc37-fbcd3fc58e9c",
   "metadata": {},
   "outputs": [
    {
     "name": "stderr",
     "output_type": "stream",
     "text": [
      "100%|██████████████████████████████████████████████████████████████████████████████████████████████████████████████████████████████████| 3066/3066 [00:39<00:00, 78.36it/s]\n"
     ]
    }
   ],
   "source": [
    "train_agg = convert_all(train_agg)"
   ]
  },
  {
   "cell_type": "code",
   "execution_count": 35,
   "id": "f6b993bf-25e6-4d7b-a519-5e9b28aaf7ff",
   "metadata": {},
   "outputs": [
    {
     "name": "stderr",
     "output_type": "stream",
     "text": [
      "100%|████████████████████████████████████████████████████████████████████████████████████████████████████████████████████████████████████| 579/579 [00:12<00:00, 44.64it/s]\n",
      "100%|████████████████████████████████████████████████████████████████████████████████████████████████████████████████████████████████████| 274/274 [00:05<00:00, 47.27it/s]\n"
     ]
    }
   ],
   "source": [
    "train_agg = clip_all(train_agg)"
   ]
  },
  {
   "cell_type": "code",
   "execution_count": 36,
   "id": "bbb40518-a2b4-4866-835f-fb54d1d7b529",
   "metadata": {},
   "outputs": [
    {
     "name": "stderr",
     "output_type": "stream",
     "text": [
      "100%|█████████████████████████████████████████████████████████████████████████████████████████████████████████████████████████████████| 5744/5744 [00:21<00:00, 265.05it/s]\n"
     ]
    }
   ],
   "source": [
    "train_agg = round_all(train_agg)"
   ]
  },
  {
   "cell_type": "code",
   "execution_count": 37,
   "id": "a9761e10-449d-4b5f-8631-2a47326fce92",
   "metadata": {},
   "outputs": [
    {
     "name": "stdout",
     "output_type": "stream",
     "text": [
      "Size: 10.833037625 GB, Shape: (458913, 5788)\n"
     ]
    }
   ],
   "source": [
    "print(f\"Size: {sys.getsizeof(train_agg) / 1e9} GB, Shape: {train_agg.shape}\")"
   ]
  },
  {
   "cell_type": "code",
   "execution_count": 38,
   "id": "53bd3dce-5a74-4bea-9338-6f591db0129d",
   "metadata": {},
   "outputs": [
    {
     "data": {
      "text/plain": [
       "(458913, 5788)"
      ]
     },
     "execution_count": 38,
     "metadata": {},
     "output_type": "execute_result"
    }
   ],
   "source": [
    "train_agg.shape"
   ]
  },
  {
   "cell_type": "code",
   "execution_count": 39,
   "id": "b8845c94-6486-40a8-b8ee-d9e584eb7407",
   "metadata": {},
   "outputs": [],
   "source": [
    "train_agg.to_parquet(f\"./train_agg.parquet\")"
   ]
  },
  {
   "cell_type": "code",
   "execution_count": 40,
   "id": "3ca6c37c-0f0f-4db9-9be2-39bd8bd698f2",
   "metadata": {},
   "outputs": [],
   "source": [
    "del train_agg, train"
   ]
  },
  {
   "cell_type": "markdown",
   "id": "df9a3004-ad6f-454f-9b69-9947455decde",
   "metadata": {},
   "source": [
    "### Transform Test"
   ]
  },
  {
   "cell_type": "code",
   "execution_count": 43,
   "id": "dd1cc67d-2978-40c0-8aff-a7faffb33c85",
   "metadata": {},
   "outputs": [],
   "source": [
    "test = pd.concat([test1, test2], ignore_index=True)"
   ]
  },
  {
   "cell_type": "code",
   "execution_count": 44,
   "id": "4a99edc9-7956-43d6-b05f-3b54b445ea12",
   "metadata": {},
   "outputs": [],
   "source": [
    "del test1, test2"
   ]
  },
  {
   "cell_type": "code",
   "execution_count": 45,
   "id": "d3bddade-5f22-4e37-9378-76a542211dbd",
   "metadata": {},
   "outputs": [
    {
     "name": "stdout",
     "output_type": "stream",
     "text": [
      "Done insertion\n",
      "Average done\n",
      "Minimum done\n",
      "Maximum done\n",
      "Standard Deviation done\n",
      "Last entry done\n",
      "First entry done\n",
      "Second last entry done\n",
      "Third last entry done\n",
      "MA2 for Recency 1 done\n",
      "MA2 for Recency 2 done\n",
      "MA2 for Recency 3 done\n",
      "MA3 for Recency 1 done\n",
      "MA3 for Recency 2 done\n",
      "MA3 for least Recency done\n"
     ]
    },
    {
     "name": "stderr",
     "output_type": "stream",
     "text": [
      "100%|████████████████████████████████████████████████████████████████████████████████████████████████████████████████████████████████████| 198/198 [01:14<00:00,  2.66it/s]"
     ]
    },
    {
     "name": "stdout",
     "output_type": "stream",
     "text": [
      "CPU times: user 2min 11s, sys: 1min 47s, total: 3min 58s\n",
      "Wall time: 5min\n"
     ]
    },
    {
     "name": "stderr",
     "output_type": "stream",
     "text": [
      "\n"
     ]
    }
   ],
   "source": [
    "%%time\n",
    "test_agg, keep_column = feature_gen_pipeline(test)"
   ]
  },
  {
   "cell_type": "code",
   "execution_count": 46,
   "id": "806726ad-3833-4b2a-974e-faa0c953d20d",
   "metadata": {},
   "outputs": [
    {
     "name": "stdout",
     "output_type": "stream",
     "text": [
      "Size: 32.792222825 GB, Shape: (924621, 5787)\n"
     ]
    }
   ],
   "source": [
    "print(f\"Size: {sys.getsizeof(test_agg) / 1e9} GB, Shape: {test_agg.shape}\")"
   ]
  },
  {
   "cell_type": "code",
   "execution_count": 47,
   "id": "5bd2bb61-d71e-4e03-b1d3-d93f2bf68b12",
   "metadata": {},
   "outputs": [],
   "source": [
    "test_agg.to_parquet(\"./test_agg.parquet\")"
   ]
  },
  {
   "cell_type": "code",
   "execution_count": 48,
   "id": "aea79ada-aff5-4134-8ec0-a97ae12cc001",
   "metadata": {},
   "outputs": [
    {
     "name": "stderr",
     "output_type": "stream",
     "text": [
      "100%|██████████████████████████████████████████████████████████████████████████████████████████████████████████████████████████████████| 3072/3072 [01:23<00:00, 36.74it/s]\n"
     ]
    }
   ],
   "source": [
    "test_agg = convert_all(test_agg)"
   ]
  },
  {
   "cell_type": "code",
   "execution_count": 49,
   "id": "a78d9bb7-98fc-4b69-9e9e-bf4453a1df95",
   "metadata": {},
   "outputs": [
    {
     "name": "stderr",
     "output_type": "stream",
     "text": [
      "100%|████████████████████████████████████████████████████████████████████████████████████████████████████████████████████████████████████| 590/590 [00:26<00:00, 22.68it/s]\n",
      "100%|████████████████████████████████████████████████████████████████████████████████████████████████████████████████████████████████████| 288/288 [00:11<00:00, 24.35it/s]\n"
     ]
    }
   ],
   "source": [
    "test_agg = clip_all(test_agg)"
   ]
  },
  {
   "cell_type": "code",
   "execution_count": 50,
   "id": "9cdec895-2c50-4a36-a4a6-afb06b72dc96",
   "metadata": {},
   "outputs": [
    {
     "name": "stderr",
     "output_type": "stream",
     "text": [
      "100%|█████████████████████████████████████████████████████████████████████████████████████████████████████████████████████████████████| 5743/5743 [00:47<00:00, 121.17it/s]\n"
     ]
    }
   ],
   "source": [
    "test_agg = round_all(test_agg)"
   ]
  },
  {
   "cell_type": "code",
   "execution_count": 51,
   "id": "1dca533d-7229-41f2-9e27-e2988b49352f",
   "metadata": {},
   "outputs": [
    {
     "name": "stdout",
     "output_type": "stream",
     "text": [
      "Size: 21.833614733 GB, Shape: (924621, 5787)\n"
     ]
    }
   ],
   "source": [
    "print(f\"Size: {sys.getsizeof(test_agg) / 1e9} GB, Shape: {test_agg.shape}\")"
   ]
  },
  {
   "cell_type": "code",
   "execution_count": 52,
   "id": "f7536a09-4713-4e71-a96a-0a8394c4ee7b",
   "metadata": {},
   "outputs": [
    {
     "data": {
      "text/plain": [
       "(924621, 5787)"
      ]
     },
     "execution_count": 52,
     "metadata": {},
     "output_type": "execute_result"
    }
   ],
   "source": [
    "test_agg.shape"
   ]
  },
  {
   "cell_type": "code",
   "execution_count": 53,
   "id": "1b3a5065-c131-4872-ae61-6106468c49db",
   "metadata": {},
   "outputs": [],
   "source": [
    "test_agg.to_parquet(f\"./test_agg.parquet\")"
   ]
  },
  {
   "cell_type": "code",
   "execution_count": null,
   "id": "9a85f1fd-fab7-45e9-885f-35cf65ebc409",
   "metadata": {},
   "outputs": [],
   "source": []
  },
  {
   "cell_type": "code",
   "execution_count": null,
   "id": "4696a411-f26c-44d6-a1e6-799f3d27dc24",
   "metadata": {},
   "outputs": [],
   "source": []
  }
 ],
 "metadata": {
  "kernelspec": {
   "display_name": "amex",
   "language": "python",
   "name": "amex"
  },
  "language_info": {
   "codemirror_mode": {
    "name": "ipython",
    "version": 3
   },
   "file_extension": ".py",
   "mimetype": "text/x-python",
   "name": "python",
   "nbconvert_exporter": "python",
   "pygments_lexer": "ipython3",
   "version": "3.10.0"
  }
 },
 "nbformat": 4,
 "nbformat_minor": 5
}
