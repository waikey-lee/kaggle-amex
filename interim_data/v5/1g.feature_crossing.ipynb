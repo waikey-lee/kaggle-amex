{
 "cells": [
  {
   "cell_type": "code",
   "execution_count": 1,
   "id": "5dd2ca34-3410-4078-aa48-7adbba211ed5",
   "metadata": {},
   "outputs": [],
   "source": [
    "import datetime\n",
    "import gc\n",
    "import joblib\n",
    "import matplotlib.pyplot as plt\n",
    "import pandas as pd\n",
    "import numpy as np\n",
    "import os\n",
    "import scipy.stats\n",
    "import seaborn as sns\n",
    "import sys\n",
    "sys.path.append(\"../../\")\n",
    "import time\n",
    "import warnings\n",
    "warnings.simplefilter(\"ignore\")\n",
    "from collections import defaultdict\n",
    "from itertools import repeat, combinations\n",
    "from pandarallel import pandarallel\n",
    "from sklearn.preprocessing import StandardScaler, LabelEncoder\n",
    "from tqdm import tqdm"
   ]
  },
  {
   "cell_type": "code",
   "execution_count": 2,
   "id": "ed180905-de83-4e97-9d86-3307ede6d42f",
   "metadata": {},
   "outputs": [],
   "source": [
    "from utils.common import (\n",
    "    sigmoid, pad_column_name\n",
    ")\n",
    "from utils.constants import *\n",
    "from utils.eval_helpers import (\n",
    "    plot_roc_curves, plot_feature_importance, \n",
    "    amex_metric, get_final_metric_df, amex_metric_np, lgb_amex_metric\n",
    ")\n",
    "from utils.eda_helpers import (\n",
    "    plot_missing_proportion_barchart, plot_heatmap,\n",
    "    get_cols, insert_row_number, plot_train_test_distribution\n",
    ")\n",
    "from utils.extraction_helpers import read_file\n",
    "from utils.feature_group import CATEGORY_COLUMNS"
   ]
  },
  {
   "cell_type": "code",
   "execution_count": 4,
   "id": "67194602-57fc-4e92-9801-8d600e52a5b2",
   "metadata": {},
   "outputs": [],
   "source": [
    "%load_ext autoreload\n",
    "%autoreload"
   ]
  },
  {
   "cell_type": "code",
   "execution_count": 5,
   "id": "570eba73-bbc2-4a0c-8a53-0c16a8009661",
   "metadata": {},
   "outputs": [
    {
     "name": "stdout",
     "output_type": "stream",
     "text": [
      "INFO: Pandarallel will run on 16 workers.\n",
      "INFO: Pandarallel will use standard multiprocessing data transfer (pipe) to transfer data between the main process and workers.\n"
     ]
    }
   ],
   "source": [
    "pandarallel.initialize(nb_workers=16, progress_bar=False, use_memory_fs=False)"
   ]
  },
  {
   "cell_type": "code",
   "execution_count": 6,
   "id": "1f0163b6-0df1-4062-a177-b86c359dc4b7",
   "metadata": {},
   "outputs": [],
   "source": [
    "START = time.time()"
   ]
  },
  {
   "cell_type": "code",
   "execution_count": 7,
   "id": "f07b3679-9446-42a0-aa02-16d4c08257a7",
   "metadata": {},
   "outputs": [],
   "source": [
    "def combine_binary_features(train, test, final_col_name, col_list, sufficient_count=500, drop_ori=False):\n",
    "    train[\"temp\"] = train[col_list].astype(str).parallel_apply(lambda x: ''.join(x), axis=1)\n",
    "    test[\"temp\"] = test[col_list].astype(str).parallel_apply(lambda x: ''.join(x), axis=1)\n",
    "    le = LabelEncoder()\n",
    "    le.fit(train[\"temp\"])\n",
    "    le_dict = dict(zip(le.classes_, le.transform(le.classes_)))\n",
    "    train_df = train.groupby(\"temp\").agg(\n",
    "        target_count=(\"target\", \"count\")\n",
    "    )\n",
    "    less_count_cat_codes = train_df.loc[train_df[\"target_count\"] < sufficient_count].index.tolist()\n",
    "    le_dict = {k: v if k not in less_count_cat_codes else np.nan for k, v in le_dict.items()}\n",
    "    train[final_col_name] = train[\"temp\"].map(le_dict).astype(\"category\")\n",
    "    test[final_col_name] = test[\"temp\"].map(le_dict).astype(\"category\")\n",
    "    if drop_ori:\n",
    "        train.drop(columns=col_list, inplace=True)\n",
    "        test.drop(columns=col_list, inplace=True)\n",
    "    return train, test"
   ]
  },
  {
   "cell_type": "markdown",
   "id": "b4962ceb-f3e9-4522-9a30-129b6d25fae9",
   "metadata": {},
   "source": [
    "### Read Data"
   ]
  },
  {
   "cell_type": "code",
   "execution_count": 8,
   "id": "1cc3552e-35f1-44df-9d7d-2de736acc83c",
   "metadata": {},
   "outputs": [
    {
     "name": "stdout",
     "output_type": "stream",
     "text": [
      "Shape of data: (458913, 2)\n"
     ]
    }
   ],
   "source": [
    "labels = read_file(f\"../{RAW_DATA_PATH}/train_labels.csv\")"
   ]
  },
  {
   "cell_type": "code",
   "execution_count": 9,
   "id": "6735831d-0024-4122-9c7b-1280e519d03e",
   "metadata": {},
   "outputs": [
    {
     "name": "stdout",
     "output_type": "stream",
     "text": [
      "Shape of data: (5531451, 192)\n",
      "Shape of data: (5681079, 191)\n",
      "Shape of data: (5682683, 191)\n",
      "CPU times: user 54.4 s, sys: 1min 44s, total: 2min 38s\n",
      "Wall time: 2min 27s\n"
     ]
    }
   ],
   "source": [
    "%%time\n",
    "train = read_file(f\"../{INTERIM_DATA_PATH}/v4/train_parquet/train_all_variables.parquet\")\n",
    "test1 = read_file(f\"../{INTERIM_DATA_PATH}/v4/test_parquet/test_all_variables1.parquet\")\n",
    "test2 = read_file(f\"../{INTERIM_DATA_PATH}/v4/test_parquet/test_all_variables2.parquet\")"
   ]
  },
  {
   "cell_type": "code",
   "execution_count": 10,
   "id": "939b892e-d116-459f-8cb9-64703f631df4",
   "metadata": {},
   "outputs": [],
   "source": [
    "test = pd.concat([test1, test2], ignore_index=True)\n",
    "del test1, test2"
   ]
  },
  {
   "cell_type": "code",
   "execution_count": 11,
   "id": "a302bc01-313a-4319-8360-ad248469c9e1",
   "metadata": {},
   "outputs": [
    {
     "data": {
      "text/plain": [
       "188"
      ]
     },
     "execution_count": 11,
     "metadata": {},
     "output_type": "execute_result"
    }
   ],
   "source": [
    "gc.collect()"
   ]
  },
  {
   "cell_type": "code",
   "execution_count": 12,
   "id": "e1dbe97e-6fc3-417f-8ea5-83908175a9ba",
   "metadata": {},
   "outputs": [],
   "source": [
    "# for df in df_list:\n",
    "#     df[\"D_135\"] = df[\"D_135\"].fillna(-1)\n",
    "#     df[\"D_137\"] = df[\"D_137\"].fillna(-1)"
   ]
  },
  {
   "cell_type": "code",
   "execution_count": 17,
   "id": "abc05d40-c65d-4422-814a-14845d200763",
   "metadata": {},
   "outputs": [
    {
     "name": "stdout",
     "output_type": "stream",
     "text": [
      "S_3 -0.6299999952316284 -0.6899999976158142\n",
      "P_3 -1.5199999809265137 -1.5099999904632568\n",
      "S_7 -0.47999998927116394 -0.5199999809265137\n",
      "P_4 0.7699999809265137 0.7799999713897705\n",
      "S_23 -206.08999633789062 -446.9599914550781\n",
      "B_1 -7.590000152587891 -7.059999942779541\n",
      "B_7 -2.6600000858306885 -6.679999828338623\n",
      "B_14 -8.470000267028809 -32.22999954223633\n",
      "B_15 -10.010000228881836 -38.099998474121094\n",
      "B_25 -11.260000228881836 -4.75\n",
      "B_37 -7.610000133514404 -7.079999923706055\n",
      "B_723 -2.6500000953674316 -6.670000076293945\n",
      "D_46 -17.290000915527344 -8.739999771118164\n",
      "D_66 0.0 1.0\n",
      "D_73 -0.05000000074505806 -0.12999999523162842\n"
     ]
    }
   ],
   "source": [
    "for col in train.columns[5:]:\n",
    "    if train[col].min() != test[col].min():\n",
    "        print(col, train[col].min(), test[col].min())"
   ]
  },
  {
   "cell_type": "code",
   "execution_count": 13,
   "id": "a4f3b8bd-2455-425d-aaec-b85617440bc1",
   "metadata": {},
   "outputs": [
    {
     "data": {
      "text/html": [
       "<div>\n",
       "<style scoped>\n",
       "    .dataframe tbody tr th:only-of-type {\n",
       "        vertical-align: middle;\n",
       "    }\n",
       "\n",
       "    .dataframe tbody tr th {\n",
       "        vertical-align: top;\n",
       "    }\n",
       "\n",
       "    .dataframe thead th {\n",
       "        text-align: right;\n",
       "    }\n",
       "</style>\n",
       "<table border=\"1\" class=\"dataframe\">\n",
       "  <thead>\n",
       "    <tr style=\"text-align: right;\">\n",
       "      <th></th>\n",
       "      <th>customer_ID</th>\n",
       "      <th>row_number</th>\n",
       "      <th>row_number_inv</th>\n",
       "      <th>S_2</th>\n",
       "      <th>P_2</th>\n",
       "      <th>S_3</th>\n",
       "      <th>P_3</th>\n",
       "      <th>S_5</th>\n",
       "      <th>S_6</th>\n",
       "      <th>S_7</th>\n",
       "      <th>...</th>\n",
       "      <th>D_136</th>\n",
       "      <th>D_137</th>\n",
       "      <th>D_138</th>\n",
       "      <th>D_139</th>\n",
       "      <th>D_140</th>\n",
       "      <th>D_141</th>\n",
       "      <th>D_142</th>\n",
       "      <th>D_143</th>\n",
       "      <th>D_144</th>\n",
       "      <th>D_145</th>\n",
       "    </tr>\n",
       "  </thead>\n",
       "  <tbody>\n",
       "    <tr>\n",
       "      <th>0</th>\n",
       "      <td>00000469ba478561f23a92a868bd366de6f6527a684c9a...</td>\n",
       "      <td>9</td>\n",
       "      <td>1</td>\n",
       "      <td>2019-02-19</td>\n",
       "      <td>0.63</td>\n",
       "      <td>0.16</td>\n",
       "      <td>NaN</td>\n",
       "      <td>0.0</td>\n",
       "      <td>1</td>\n",
       "      <td>0.10</td>\n",
       "      <td>...</td>\n",
       "      <td>NaN</td>\n",
       "      <td>NaN</td>\n",
       "      <td>NaN</td>\n",
       "      <td>NaN</td>\n",
       "      <td>0.0</td>\n",
       "      <td>NaN</td>\n",
       "      <td>NaN</td>\n",
       "      <td>NaN</td>\n",
       "      <td>NaN</td>\n",
       "      <td>NaN</td>\n",
       "    </tr>\n",
       "    <tr>\n",
       "      <th>1</th>\n",
       "      <td>00000469ba478561f23a92a868bd366de6f6527a684c9a...</td>\n",
       "      <td>8</td>\n",
       "      <td>2</td>\n",
       "      <td>2019-03-25</td>\n",
       "      <td>0.58</td>\n",
       "      <td>0.24</td>\n",
       "      <td>NaN</td>\n",
       "      <td>0.0</td>\n",
       "      <td>1</td>\n",
       "      <td>0.16</td>\n",
       "      <td>...</td>\n",
       "      <td>NaN</td>\n",
       "      <td>NaN</td>\n",
       "      <td>NaN</td>\n",
       "      <td>0.0</td>\n",
       "      <td>0.0</td>\n",
       "      <td>NaN</td>\n",
       "      <td>NaN</td>\n",
       "      <td>0.0</td>\n",
       "      <td>NaN</td>\n",
       "      <td>0.0</td>\n",
       "    </tr>\n",
       "    <tr>\n",
       "      <th>2</th>\n",
       "      <td>00000469ba478561f23a92a868bd366de6f6527a684c9a...</td>\n",
       "      <td>7</td>\n",
       "      <td>3</td>\n",
       "      <td>2019-04-25</td>\n",
       "      <td>0.60</td>\n",
       "      <td>0.26</td>\n",
       "      <td>NaN</td>\n",
       "      <td>0.0</td>\n",
       "      <td>0</td>\n",
       "      <td>0.21</td>\n",
       "      <td>...</td>\n",
       "      <td>NaN</td>\n",
       "      <td>NaN</td>\n",
       "      <td>NaN</td>\n",
       "      <td>0.0</td>\n",
       "      <td>0.0</td>\n",
       "      <td>NaN</td>\n",
       "      <td>NaN</td>\n",
       "      <td>0.0</td>\n",
       "      <td>NaN</td>\n",
       "      <td>0.0</td>\n",
       "    </tr>\n",
       "    <tr>\n",
       "      <th>3</th>\n",
       "      <td>00000469ba478561f23a92a868bd366de6f6527a684c9a...</td>\n",
       "      <td>6</td>\n",
       "      <td>4</td>\n",
       "      <td>2019-05-20</td>\n",
       "      <td>0.61</td>\n",
       "      <td>0.18</td>\n",
       "      <td>NaN</td>\n",
       "      <td>0.0</td>\n",
       "      <td>0</td>\n",
       "      <td>0.19</td>\n",
       "      <td>...</td>\n",
       "      <td>NaN</td>\n",
       "      <td>NaN</td>\n",
       "      <td>NaN</td>\n",
       "      <td>0.0</td>\n",
       "      <td>0.0</td>\n",
       "      <td>NaN</td>\n",
       "      <td>NaN</td>\n",
       "      <td>0.0</td>\n",
       "      <td>NaN</td>\n",
       "      <td>0.0</td>\n",
       "    </tr>\n",
       "    <tr>\n",
       "      <th>4</th>\n",
       "      <td>00000469ba478561f23a92a868bd366de6f6527a684c9a...</td>\n",
       "      <td>5</td>\n",
       "      <td>5</td>\n",
       "      <td>2019-06-15</td>\n",
       "      <td>0.59</td>\n",
       "      <td>0.18</td>\n",
       "      <td>0.59</td>\n",
       "      <td>0.0</td>\n",
       "      <td>0</td>\n",
       "      <td>0.20</td>\n",
       "      <td>...</td>\n",
       "      <td>NaN</td>\n",
       "      <td>NaN</td>\n",
       "      <td>NaN</td>\n",
       "      <td>0.0</td>\n",
       "      <td>0.0</td>\n",
       "      <td>NaN</td>\n",
       "      <td>NaN</td>\n",
       "      <td>0.0</td>\n",
       "      <td>NaN</td>\n",
       "      <td>0.0</td>\n",
       "    </tr>\n",
       "    <tr>\n",
       "      <th>...</th>\n",
       "      <td>...</td>\n",
       "      <td>...</td>\n",
       "      <td>...</td>\n",
       "      <td>...</td>\n",
       "      <td>...</td>\n",
       "      <td>...</td>\n",
       "      <td>...</td>\n",
       "      <td>...</td>\n",
       "      <td>...</td>\n",
       "      <td>...</td>\n",
       "      <td>...</td>\n",
       "      <td>...</td>\n",
       "      <td>...</td>\n",
       "      <td>...</td>\n",
       "      <td>...</td>\n",
       "      <td>...</td>\n",
       "      <td>...</td>\n",
       "      <td>...</td>\n",
       "      <td>...</td>\n",
       "      <td>...</td>\n",
       "      <td>...</td>\n",
       "    </tr>\n",
       "    <tr>\n",
       "      <th>11363757</th>\n",
       "      <td>fffffa7cf7e453e1acc6a1426475d5cb9400859f82ff61...</td>\n",
       "      <td>5</td>\n",
       "      <td>4</td>\n",
       "      <td>2018-12-19</td>\n",
       "      <td>0.44</td>\n",
       "      <td>NaN</td>\n",
       "      <td>0.61</td>\n",
       "      <td>NaN</td>\n",
       "      <td>1</td>\n",
       "      <td>NaN</td>\n",
       "      <td>...</td>\n",
       "      <td>NaN</td>\n",
       "      <td>NaN</td>\n",
       "      <td>NaN</td>\n",
       "      <td>0.0</td>\n",
       "      <td>0.0</td>\n",
       "      <td>NaN</td>\n",
       "      <td>NaN</td>\n",
       "      <td>0.0</td>\n",
       "      <td>NaN</td>\n",
       "      <td>0.0</td>\n",
       "    </tr>\n",
       "    <tr>\n",
       "      <th>11363758</th>\n",
       "      <td>fffffa7cf7e453e1acc6a1426475d5cb9400859f82ff61...</td>\n",
       "      <td>4</td>\n",
       "      <td>5</td>\n",
       "      <td>2019-01-19</td>\n",
       "      <td>0.44</td>\n",
       "      <td>NaN</td>\n",
       "      <td>0.61</td>\n",
       "      <td>NaN</td>\n",
       "      <td>1</td>\n",
       "      <td>NaN</td>\n",
       "      <td>...</td>\n",
       "      <td>NaN</td>\n",
       "      <td>NaN</td>\n",
       "      <td>NaN</td>\n",
       "      <td>0.0</td>\n",
       "      <td>0.0</td>\n",
       "      <td>NaN</td>\n",
       "      <td>NaN</td>\n",
       "      <td>0.0</td>\n",
       "      <td>NaN</td>\n",
       "      <td>0.0</td>\n",
       "    </tr>\n",
       "    <tr>\n",
       "      <th>11363759</th>\n",
       "      <td>fffffa7cf7e453e1acc6a1426475d5cb9400859f82ff61...</td>\n",
       "      <td>3</td>\n",
       "      <td>6</td>\n",
       "      <td>2019-02-17</td>\n",
       "      <td>0.46</td>\n",
       "      <td>NaN</td>\n",
       "      <td>0.62</td>\n",
       "      <td>NaN</td>\n",
       "      <td>1</td>\n",
       "      <td>NaN</td>\n",
       "      <td>...</td>\n",
       "      <td>NaN</td>\n",
       "      <td>NaN</td>\n",
       "      <td>NaN</td>\n",
       "      <td>0.0</td>\n",
       "      <td>0.0</td>\n",
       "      <td>NaN</td>\n",
       "      <td>NaN</td>\n",
       "      <td>0.0</td>\n",
       "      <td>NaN</td>\n",
       "      <td>0.0</td>\n",
       "    </tr>\n",
       "    <tr>\n",
       "      <th>11363760</th>\n",
       "      <td>fffffa7cf7e453e1acc6a1426475d5cb9400859f82ff61...</td>\n",
       "      <td>2</td>\n",
       "      <td>7</td>\n",
       "      <td>2019-03-19</td>\n",
       "      <td>0.46</td>\n",
       "      <td>NaN</td>\n",
       "      <td>0.62</td>\n",
       "      <td>NaN</td>\n",
       "      <td>1</td>\n",
       "      <td>NaN</td>\n",
       "      <td>...</td>\n",
       "      <td>NaN</td>\n",
       "      <td>NaN</td>\n",
       "      <td>NaN</td>\n",
       "      <td>0.0</td>\n",
       "      <td>0.0</td>\n",
       "      <td>NaN</td>\n",
       "      <td>NaN</td>\n",
       "      <td>0.0</td>\n",
       "      <td>NaN</td>\n",
       "      <td>0.0</td>\n",
       "    </tr>\n",
       "    <tr>\n",
       "      <th>11363761</th>\n",
       "      <td>fffffa7cf7e453e1acc6a1426475d5cb9400859f82ff61...</td>\n",
       "      <td>1</td>\n",
       "      <td>8</td>\n",
       "      <td>2019-04-18</td>\n",
       "      <td>0.45</td>\n",
       "      <td>NaN</td>\n",
       "      <td>0.61</td>\n",
       "      <td>NaN</td>\n",
       "      <td>1</td>\n",
       "      <td>NaN</td>\n",
       "      <td>...</td>\n",
       "      <td>NaN</td>\n",
       "      <td>NaN</td>\n",
       "      <td>NaN</td>\n",
       "      <td>0.0</td>\n",
       "      <td>0.0</td>\n",
       "      <td>NaN</td>\n",
       "      <td>NaN</td>\n",
       "      <td>0.0</td>\n",
       "      <td>NaN</td>\n",
       "      <td>0.0</td>\n",
       "    </tr>\n",
       "  </tbody>\n",
       "</table>\n",
       "<p>11363762 rows × 191 columns</p>\n",
       "</div>"
      ],
      "text/plain": [
       "                                                customer_ID  row_number  \\\n",
       "0         00000469ba478561f23a92a868bd366de6f6527a684c9a...           9   \n",
       "1         00000469ba478561f23a92a868bd366de6f6527a684c9a...           8   \n",
       "2         00000469ba478561f23a92a868bd366de6f6527a684c9a...           7   \n",
       "3         00000469ba478561f23a92a868bd366de6f6527a684c9a...           6   \n",
       "4         00000469ba478561f23a92a868bd366de6f6527a684c9a...           5   \n",
       "...                                                     ...         ...   \n",
       "11363757  fffffa7cf7e453e1acc6a1426475d5cb9400859f82ff61...           5   \n",
       "11363758  fffffa7cf7e453e1acc6a1426475d5cb9400859f82ff61...           4   \n",
       "11363759  fffffa7cf7e453e1acc6a1426475d5cb9400859f82ff61...           3   \n",
       "11363760  fffffa7cf7e453e1acc6a1426475d5cb9400859f82ff61...           2   \n",
       "11363761  fffffa7cf7e453e1acc6a1426475d5cb9400859f82ff61...           1   \n",
       "\n",
       "          row_number_inv        S_2   P_2   S_3   P_3  S_5  S_6   S_7  ...  \\\n",
       "0                      1 2019-02-19  0.63  0.16   NaN  0.0    1  0.10  ...   \n",
       "1                      2 2019-03-25  0.58  0.24   NaN  0.0    1  0.16  ...   \n",
       "2                      3 2019-04-25  0.60  0.26   NaN  0.0    0  0.21  ...   \n",
       "3                      4 2019-05-20  0.61  0.18   NaN  0.0    0  0.19  ...   \n",
       "4                      5 2019-06-15  0.59  0.18  0.59  0.0    0  0.20  ...   \n",
       "...                  ...        ...   ...   ...   ...  ...  ...   ...  ...   \n",
       "11363757               4 2018-12-19  0.44   NaN  0.61  NaN    1   NaN  ...   \n",
       "11363758               5 2019-01-19  0.44   NaN  0.61  NaN    1   NaN  ...   \n",
       "11363759               6 2019-02-17  0.46   NaN  0.62  NaN    1   NaN  ...   \n",
       "11363760               7 2019-03-19  0.46   NaN  0.62  NaN    1   NaN  ...   \n",
       "11363761               8 2019-04-18  0.45   NaN  0.61  NaN    1   NaN  ...   \n",
       "\n",
       "          D_136  D_137  D_138  D_139  D_140  D_141  D_142  D_143  D_144  D_145  \n",
       "0           NaN    NaN    NaN    NaN    0.0    NaN    NaN    NaN    NaN    NaN  \n",
       "1           NaN    NaN    NaN    0.0    0.0    NaN    NaN    0.0    NaN    0.0  \n",
       "2           NaN    NaN    NaN    0.0    0.0    NaN    NaN    0.0    NaN    0.0  \n",
       "3           NaN    NaN    NaN    0.0    0.0    NaN    NaN    0.0    NaN    0.0  \n",
       "4           NaN    NaN    NaN    0.0    0.0    NaN    NaN    0.0    NaN    0.0  \n",
       "...         ...    ...    ...    ...    ...    ...    ...    ...    ...    ...  \n",
       "11363757    NaN    NaN    NaN    0.0    0.0    NaN    NaN    0.0    NaN    0.0  \n",
       "11363758    NaN    NaN    NaN    0.0    0.0    NaN    NaN    0.0    NaN    0.0  \n",
       "11363759    NaN    NaN    NaN    0.0    0.0    NaN    NaN    0.0    NaN    0.0  \n",
       "11363760    NaN    NaN    NaN    0.0    0.0    NaN    NaN    0.0    NaN    0.0  \n",
       "11363761    NaN    NaN    NaN    0.0    0.0    NaN    NaN    0.0    NaN    0.0  \n",
       "\n",
       "[11363762 rows x 191 columns]"
      ]
     },
     "execution_count": 13,
     "metadata": {},
     "output_type": "execute_result"
    }
   ],
   "source": []
  },
  {
   "cell_type": "code",
   "execution_count": null,
   "id": "bccdf317-a5fe-47bc-867c-26ae150cb06d",
   "metadata": {},
   "outputs": [],
   "source": []
  },
  {
   "cell_type": "code",
   "execution_count": null,
   "id": "6e15a425-3ab6-4338-a8f8-831b221c7ddf",
   "metadata": {},
   "outputs": [],
   "source": []
  },
  {
   "cell_type": "code",
   "execution_count": null,
   "id": "3655bf87-5e2c-4dd5-ac4c-c05b5ccf029c",
   "metadata": {},
   "outputs": [],
   "source": []
  },
  {
   "cell_type": "markdown",
   "id": "0f5d5f55-50cb-4d5d-af9f-b54426053b6b",
   "metadata": {},
   "source": [
    "#### Train"
   ]
  },
  {
   "cell_type": "code",
   "execution_count": 13,
   "id": "847d7a60-23e8-4353-8b86-2fa034ba1391",
   "metadata": {},
   "outputs": [
    {
     "name": "stdout",
     "output_type": "stream",
     "text": [
      "Done insertion\n",
      "Average done\n",
      "Minimum done\n",
      "Maximum done\n",
      "Standard Deviation done\n",
      "Last entry done\n",
      "First entry done\n",
      "Second last entry done\n",
      "Third last entry done\n",
      "MA2 for Recency 1 done\n",
      "MA2 for Recency 2 done\n",
      "MA2 for Recency 3 done\n",
      "MA2 for least Recency done\n",
      "MA3 for Recency 1 done\n",
      "MA3 for Recency 2 done\n"
     ]
    },
    {
     "name": "stderr",
     "output_type": "stream",
     "text": [
      "100%|████████████████████████████████████████████████████████████████████████████████████████████████████████████████████████████████████| 176/176 [00:37<00:00,  4.71it/s]"
     ]
    },
    {
     "name": "stdout",
     "output_type": "stream",
     "text": [
      "CPU times: user 1min 3s, sys: 33.6 s, total: 1min 37s\n",
      "Wall time: 1min 48s\n"
     ]
    },
    {
     "name": "stderr",
     "output_type": "stream",
     "text": [
      "\n"
     ]
    }
   ],
   "source": [
    "%%time\n",
    "train_agg, keep_column = feature_gen_pipeline(train)"
   ]
  },
  {
   "cell_type": "code",
   "execution_count": 14,
   "id": "b96e7ed1-41b9-4950-beca-8fc587d69564",
   "metadata": {},
   "outputs": [
    {
     "name": "stdout",
     "output_type": "stream",
     "text": [
      "Size: 13.907754725 GB, Shape: (458913, 4974)\n"
     ]
    }
   ],
   "source": [
    "train_agg[\"target\"] = labels[\"target\"].values\n",
    "print(f\"Size: {sys.getsizeof(train_agg) / 1e9} GB, Shape: {train_agg.shape}\")"
   ]
  },
  {
   "cell_type": "code",
   "execution_count": 15,
   "id": "8b78478b-4ded-44eb-beae-f6d00d4d7386",
   "metadata": {},
   "outputs": [
    {
     "name": "stderr",
     "output_type": "stream",
     "text": [
      "100%|██████████████████████████████████████████████████████████████████████████████████████████████████████████████████████████████████| 2588/2588 [00:32<00:00, 79.97it/s]\n"
     ]
    }
   ],
   "source": [
    "float64_columns = train_agg.select_dtypes(\"float64\").columns.tolist()\n",
    "for col in tqdm(float64_columns):\n",
    "    temp = train_agg[col].astype(np.float32).values\n",
    "    if (temp - train_agg[col]).abs().max() < 1e-4:\n",
    "        train_agg[col] = train_agg[col].astype(np.float32)"
   ]
  },
  {
   "cell_type": "code",
   "execution_count": 16,
   "id": "105382fc-a51e-4d08-9db1-9f02fdc39b09",
   "metadata": {},
   "outputs": [
    {
     "name": "stdout",
     "output_type": "stream",
     "text": [
      "Size: 9.202978649 GB, Shape: (458913, 4974)\n"
     ]
    }
   ],
   "source": [
    "print(f\"Size: {sys.getsizeof(train_agg) / 1e9} GB, Shape: {train_agg.shape}\")"
   ]
  },
  {
   "cell_type": "code",
   "execution_count": 17,
   "id": "1984ce0c-7ccd-4eb4-a557-7fe4942f3922",
   "metadata": {},
   "outputs": [
    {
     "name": "stderr",
     "output_type": "stream",
     "text": [
      "100%|█████████████████████████████████████████████████████████████████████████████████████████████████████████████████████████████████| 4930/4930 [00:17<00:00, 278.48it/s]\n"
     ]
    }
   ],
   "source": [
    "number_columns = train_agg.select_dtypes(np.number).columns.tolist()\n",
    "for col in tqdm(number_columns):\n",
    "    temp = train_agg[col].round(3)\n",
    "    if (temp - train_agg[col]).abs().max() < 1e-4:\n",
    "        train_agg[col] = train_agg[col].round(3)"
   ]
  },
  {
   "cell_type": "code",
   "execution_count": 18,
   "id": "e280bf45-a9cd-43f6-b812-3228ee2fb52c",
   "metadata": {},
   "outputs": [
    {
     "name": "stdout",
     "output_type": "stream",
     "text": [
      "Size: 9.202978649 GB, Shape: (458913, 4974)\n"
     ]
    }
   ],
   "source": [
    "print(f\"Size: {sys.getsizeof(train_agg) / 1e9} GB, Shape: {train_agg.shape}\")"
   ]
  },
  {
   "cell_type": "code",
   "execution_count": 19,
   "id": "23b0f05d-c31a-492f-bd5b-5d1b140084c9",
   "metadata": {},
   "outputs": [
    {
     "name": "stdout",
     "output_type": "stream",
     "text": [
      "CPU times: user 1.37 s, sys: 9.09 s, total: 10.5 s\n",
      "Wall time: 17.4 s\n"
     ]
    }
   ],
   "source": [
    "%%time\n",
    "train_agg = train_agg.loc[:, keep_column]"
   ]
  },
  {
   "cell_type": "code",
   "execution_count": 20,
   "id": "5bf09d80-ba7f-4510-833a-58f9daeb2372",
   "metadata": {},
   "outputs": [
    {
     "name": "stdout",
     "output_type": "stream",
     "text": [
      "Size: 8.872561289 GB, Shape: (458913, 4796)\n"
     ]
    }
   ],
   "source": [
    "print(f\"Size: {sys.getsizeof(train_agg) / 1e9} GB, Shape: {train_agg.shape}\")"
   ]
  },
  {
   "cell_type": "code",
   "execution_count": 21,
   "id": "b8845c94-6486-40a8-b8ee-d9e584eb7407",
   "metadata": {},
   "outputs": [],
   "source": [
    "train_agg.to_parquet(f\"./train_agg.parquet\")"
   ]
  },
  {
   "cell_type": "code",
   "execution_count": 22,
   "id": "3ca6c37c-0f0f-4db9-9be2-39bd8bd698f2",
   "metadata": {},
   "outputs": [],
   "source": [
    "del train_agg, train"
   ]
  },
  {
   "cell_type": "markdown",
   "id": "adeca3f3-ca21-4ff5-aee1-69b07c45179b",
   "metadata": {},
   "source": [
    "### Test 1"
   ]
  },
  {
   "cell_type": "code",
   "execution_count": 12,
   "id": "e1ee57ae-39d6-4ec6-b744-559088592c6f",
   "metadata": {},
   "outputs": [
    {
     "name": "stdout",
     "output_type": "stream",
     "text": [
      "Done insertion\n",
      "Average done\n",
      "Minimum done\n",
      "Maximum done\n",
      "Standard Deviation done\n",
      "Last entry done\n",
      "First entry done\n",
      "Second last entry done\n",
      "Third last entry done\n",
      "MA2 for Recency 1 done\n",
      "MA2 for Recency 2 done\n",
      "MA2 for Recency 3 done\n",
      "MA2 for least Recency done\n",
      "MA3 for Recency 1 done\n",
      "MA3 for Recency 2 done\n"
     ]
    },
    {
     "name": "stderr",
     "output_type": "stream",
     "text": [
      "100%|████████████████████████████████████████████████████████████████████████████████████████████████████████████████████████████████████| 176/176 [00:37<00:00,  4.73it/s]"
     ]
    },
    {
     "name": "stdout",
     "output_type": "stream",
     "text": [
      "CPU times: user 1min 3s, sys: 38.8 s, total: 1min 42s\n",
      "Wall time: 1min 59s\n"
     ]
    },
    {
     "name": "stderr",
     "output_type": "stream",
     "text": [
      "\n"
     ]
    }
   ],
   "source": [
    "%%time\n",
    "test_agg, keep_column = feature_gen_pipeline(test1)"
   ]
  },
  {
   "cell_type": "code",
   "execution_count": 13,
   "id": "83554158-b8b2-48d5-999f-fe6a8d8f1e2c",
   "metadata": {},
   "outputs": [
    {
     "name": "stdout",
     "output_type": "stream",
     "text": [
      "Size: 14.018005763 GB, Shape: (462311, 4973)\n"
     ]
    }
   ],
   "source": [
    "print(f\"Size: {sys.getsizeof(test_agg) / 1e9} GB, Shape: {test_agg.shape}\")"
   ]
  },
  {
   "cell_type": "code",
   "execution_count": 25,
   "id": "e4767bcb-ac74-465c-ba61-080391f60ef1",
   "metadata": {},
   "outputs": [
    {
     "name": "stderr",
     "output_type": "stream",
     "text": [
      "100%|██████████████████████████████████████████████████████████████████████████████████████████████████████████████████████████████████| 2594/2594 [00:29<00:00, 89.01it/s]\n"
     ]
    }
   ],
   "source": [
    "float64_columns = test_agg.select_dtypes(\"float64\").columns.tolist()\n",
    "for col in tqdm(float64_columns):\n",
    "    temp = test_agg[col].astype(np.float32).values\n",
    "    if (temp - test_agg[col]).abs().max() < 1e-4:\n",
    "        test_agg[col] = test_agg[col].astype(np.float32)"
   ]
  },
  {
   "cell_type": "code",
   "execution_count": 26,
   "id": "3174d0c8-4c67-4f96-802b-918ad61d887d",
   "metadata": {},
   "outputs": [
    {
     "name": "stdout",
     "output_type": "stream",
     "text": [
      "Size: 9.265448683 GB, Shape: (462311, 4973)\n"
     ]
    }
   ],
   "source": [
    "print(f\"Size: {sys.getsizeof(test_agg) / 1e9} GB, Shape: {test_agg.shape}\")"
   ]
  },
  {
   "cell_type": "code",
   "execution_count": 27,
   "id": "3f4e782b-1d79-4093-9b0c-6d921d926a83",
   "metadata": {},
   "outputs": [],
   "source": [
    "test_agg = test_agg.loc[:, keep_column]"
   ]
  },
  {
   "cell_type": "code",
   "execution_count": 28,
   "id": "7195f8b2-f07b-4bac-99ca-10051e0123bd",
   "metadata": {},
   "outputs": [
    {
     "name": "stdout",
     "output_type": "stream",
     "text": [
      "Size: 8.936283251 GB, Shape: (462311, 4796)\n"
     ]
    }
   ],
   "source": [
    "print(f\"Size: {sys.getsizeof(test_agg) / 1e9} GB, Shape: {test_agg.shape}\")"
   ]
  },
  {
   "cell_type": "code",
   "execution_count": 29,
   "id": "4c54b253-9c42-48aa-afc0-dddae22af5ac",
   "metadata": {},
   "outputs": [],
   "source": [
    "test_agg.to_parquet(f\"./test_agg1.parquet\")"
   ]
  },
  {
   "cell_type": "code",
   "execution_count": 30,
   "id": "c322771c-9856-4113-9aa6-28fcf0502354",
   "metadata": {},
   "outputs": [],
   "source": [
    "del test_agg"
   ]
  },
  {
   "cell_type": "code",
   "execution_count": null,
   "id": "8f9f5dea-974f-4c1d-a105-76fc3b672250",
   "metadata": {},
   "outputs": [],
   "source": [
    "del test1"
   ]
  },
  {
   "cell_type": "markdown",
   "id": "acf88d5a-6809-4f84-bf12-42b371946915",
   "metadata": {},
   "source": [
    "### Test 2"
   ]
  },
  {
   "cell_type": "code",
   "execution_count": 31,
   "id": "478d859f-3453-42f0-bf24-ba4847d2a69a",
   "metadata": {},
   "outputs": [
    {
     "name": "stdout",
     "output_type": "stream",
     "text": [
      "Done insertion\n",
      "Average done\n",
      "Minimum done\n",
      "Maximum done\n",
      "Standard Deviation done\n",
      "Last entry done\n",
      "First entry done\n",
      "Second last entry done\n",
      "Third last entry done\n",
      "MA2 for Recency 1 done\n",
      "MA2 for Recency 2 done\n",
      "MA2 for Recency 3 done\n",
      "MA2 for least Recency done\n",
      "MA3 for Recency 1 done\n",
      "MA3 for Recency 2 done\n"
     ]
    },
    {
     "name": "stderr",
     "output_type": "stream",
     "text": [
      "100%|████████████████████████████████████████████████████████████████████████████████████████████████████████████████████████████████████| 176/176 [00:36<00:00,  4.78it/s]"
     ]
    },
    {
     "name": "stdout",
     "output_type": "stream",
     "text": [
      "CPU times: user 1min 2s, sys: 23.8 s, total: 1min 26s\n",
      "Wall time: 1min 32s\n"
     ]
    },
    {
     "name": "stderr",
     "output_type": "stream",
     "text": [
      "\n"
     ]
    }
   ],
   "source": [
    "%%time\n",
    "test_agg, keep_column = feature_gen_pipeline(test2)"
   ]
  },
  {
   "cell_type": "code",
   "execution_count": 32,
   "id": "424878fa-30a9-4239-a518-b0b944f0b288",
   "metadata": {},
   "outputs": [
    {
     "name": "stdout",
     "output_type": "stream",
     "text": [
      "Size: 14.017975478 GB, Shape: (462310, 4973)\n"
     ]
    }
   ],
   "source": [
    "print(f\"Size: {sys.getsizeof(test_agg) / 1e9} GB, Shape: {test_agg.shape}\")"
   ]
  },
  {
   "cell_type": "code",
   "execution_count": 33,
   "id": "59e38e3f-af7b-4fb4-aa4d-28a4acffe227",
   "metadata": {},
   "outputs": [
    {
     "name": "stderr",
     "output_type": "stream",
     "text": [
      "100%|██████████████████████████████████████████████████████████████████████████████████████████████████████████████████████████████████| 2594/2594 [00:30<00:00, 85.60it/s]\n"
     ]
    }
   ],
   "source": [
    "float64_columns = test_agg.select_dtypes(\"float64\").columns.tolist()\n",
    "for col in tqdm(float64_columns):\n",
    "    temp = test_agg[col].astype(np.float32).values\n",
    "    if (temp - test_agg[col]).abs().max() < 1e-4:\n",
    "        test_agg[col] = test_agg[col].astype(np.float32)"
   ]
  },
  {
   "cell_type": "code",
   "execution_count": 34,
   "id": "c71c3d3a-6c9d-4d54-a254-79963c0e4da1",
   "metadata": {},
   "outputs": [
    {
     "name": "stdout",
     "output_type": "stream",
     "text": [
      "Size: 9.265428678 GB, Shape: (462310, 4973)\n"
     ]
    }
   ],
   "source": [
    "print(f\"Size: {sys.getsizeof(test_agg) / 1e9} GB, Shape: {test_agg.shape}\")"
   ]
  },
  {
   "cell_type": "code",
   "execution_count": 35,
   "id": "1b51418a-38f9-4222-8852-b12aa5556ccd",
   "metadata": {},
   "outputs": [
    {
     "name": "stdout",
     "output_type": "stream",
     "text": [
      "CPU times: user 1.56 s, sys: 11 s, total: 12.6 s\n",
      "Wall time: 21 s\n"
     ]
    }
   ],
   "source": [
    "%%time\n",
    "test_agg = test_agg.loc[:, keep_column]"
   ]
  },
  {
   "cell_type": "code",
   "execution_count": 36,
   "id": "f3a4da81-2fe1-426c-a3b2-12968c4b2dbe",
   "metadata": {},
   "outputs": [
    {
     "name": "stdout",
     "output_type": "stream",
     "text": [
      "Size: 8.936263958 GB, Shape: (462310, 4796)\n"
     ]
    }
   ],
   "source": [
    "print(f\"Size: {sys.getsizeof(test_agg) / 1e9} GB, Shape: {test_agg.shape}\")"
   ]
  },
  {
   "cell_type": "code",
   "execution_count": 37,
   "id": "d9aa366e-42b5-4a2f-86ca-1755f85d511d",
   "metadata": {},
   "outputs": [],
   "source": [
    "test_agg.to_parquet(f\"./test_agg2.parquet\")"
   ]
  },
  {
   "cell_type": "code",
   "execution_count": 38,
   "id": "d2c1e31c-b50e-4646-8238-5d96d10152c5",
   "metadata": {},
   "outputs": [],
   "source": [
    "del test_agg"
   ]
  },
  {
   "cell_type": "markdown",
   "id": "a3ebefbe-3cc1-429e-8ce9-8ad10c987bae",
   "metadata": {},
   "source": [
    "### END"
   ]
  },
  {
   "cell_type": "code",
   "execution_count": 39,
   "id": "bb7753c9-7e1d-4138-a75d-8b17fc6cce9e",
   "metadata": {
    "tags": []
   },
   "outputs": [],
   "source": [
    "END = time.time()"
   ]
  },
  {
   "cell_type": "code",
   "execution_count": 41,
   "id": "8e9d457c-3df8-4407-9267-6a4fa02ff08f",
   "metadata": {},
   "outputs": [
    {
     "name": "stdout",
     "output_type": "stream",
     "text": [
      "609.93 seconds elapsed\n"
     ]
    }
   ],
   "source": [
    "print(f\"{END - START:.2f} seconds elapsed\")"
   ]
  },
  {
   "cell_type": "markdown",
   "id": "ca163041-9ec6-457f-bda1-1596211e3f30",
   "metadata": {},
   "source": [
    "### Prepare final features for training"
   ]
  },
  {
   "cell_type": "code",
   "execution_count": 17,
   "id": "a61e0c82-f6f8-4a1c-a126-6c3dd47228e3",
   "metadata": {},
   "outputs": [],
   "source": [
    "def select_bad_features(feature_imp_df, threshold):\n",
    "    bad_features = []\n",
    "    feature_imp_df = feature_imp_df.fillna(0)\n",
    "    for type_ in feature_imp_df.columns[1:]:\n",
    "        bad_features.extend(\n",
    "            (\n",
    "                feature_imp_df.loc[feature_imp_df[type_] < threshold][\"base_feature\"] + \"_\" + type_\n",
    "            ).tolist()\n",
    "        )\n",
    "    # print(len(good_features), feature_imp_df.shape[0] * (feature_imp_df.shape[1] - 1))\n",
    "    return bad_features"
   ]
  },
  {
   "cell_type": "code",
   "execution_count": 18,
   "id": "14468a4b-339d-460d-94a8-e2ec948a34fd",
   "metadata": {},
   "outputs": [],
   "source": [
    "def select_good_features(feature_imp_df, threshold):\n",
    "    good_features = []\n",
    "    for type_ in feature_imp_df.columns[1:]:\n",
    "        good_features.extend(\n",
    "            (\n",
    "                feature_imp_df.loc[feature_imp_df[type_] >= threshold][\"base_feature\"] + \"_\" + type_\n",
    "            ).tolist()\n",
    "        )\n",
    "    # print(len(good_features), feature_imp_df.shape[0] * (feature_imp_df.shape[1] - 1))\n",
    "    return good_features"
   ]
  },
  {
   "cell_type": "markdown",
   "id": "78f5a733-5ec4-41aa-9533-982b0a93b598",
   "metadata": {},
   "source": [
    "### Train"
   ]
  },
  {
   "cell_type": "code",
   "execution_count": 10,
   "id": "830209a3-dc09-426f-a4aa-a0fe7480f842",
   "metadata": {},
   "outputs": [
    {
     "name": "stdout",
     "output_type": "stream",
     "text": [
      "Shape of data: (458913, 4797)\n",
      "CPU times: user 17.3 s, sys: 25.3 s, total: 42.6 s\n",
      "Wall time: 26.1 s\n"
     ]
    }
   ],
   "source": [
    "%%time\n",
    "train_agg = read_file(f\"./train_agg.parquet\")"
   ]
  },
  {
   "cell_type": "code",
   "execution_count": 11,
   "id": "e50a9bce-9270-47ae-adb1-fc94c503d6df",
   "metadata": {},
   "outputs": [
    {
     "data": {
      "text/html": [
       "<div>\n",
       "<style scoped>\n",
       "    .dataframe tbody tr th:only-of-type {\n",
       "        vertical-align: middle;\n",
       "    }\n",
       "\n",
       "    .dataframe tbody tr th {\n",
       "        vertical-align: top;\n",
       "    }\n",
       "\n",
       "    .dataframe thead th {\n",
       "        text-align: right;\n",
       "    }\n",
       "</style>\n",
       "<table border=\"1\" class=\"dataframe\">\n",
       "  <thead>\n",
       "    <tr style=\"text-align: right;\">\n",
       "      <th></th>\n",
       "      <th>customer_ID</th>\n",
       "      <th>R_11_avg</th>\n",
       "      <th>D_96_last_minus_avg</th>\n",
       "      <th>B_7_min</th>\n",
       "      <th>B_723_displacement</th>\n",
       "      <th>R_22_ma2_r2</th>\n",
       "      <th>D_76_second_last</th>\n",
       "      <th>D_109_ma3_r1</th>\n",
       "      <th>D_128_ma3_r1_r2</th>\n",
       "      <th>D_62_min</th>\n",
       "      <th>...</th>\n",
       "      <th>D_62_ma3_r1_r2</th>\n",
       "      <th>D_74_ma3_r1</th>\n",
       "      <th>B_32_displacement</th>\n",
       "      <th>D_145_acceleration</th>\n",
       "      <th>B_12_max</th>\n",
       "      <th>D_103_last_minus_avg</th>\n",
       "      <th>D_135_avg</th>\n",
       "      <th>B_6_second_last</th>\n",
       "      <th>D_105_max</th>\n",
       "      <th>D_134_avg</th>\n",
       "    </tr>\n",
       "  </thead>\n",
       "  <tbody>\n",
       "    <tr>\n",
       "      <th>0</th>\n",
       "      <td>0000099d6bd597052cdcda90ffabf56573fe9d7c79be5f...</td>\n",
       "      <td>0.000000</td>\n",
       "      <td>0.0</td>\n",
       "      <td>0.00</td>\n",
       "      <td>-0.01</td>\n",
       "      <td>0.0</td>\n",
       "      <td>NaN</td>\n",
       "      <td>0.0</td>\n",
       "      <td>1.0</td>\n",
       "      <td>0.08</td>\n",
       "      <td>...</td>\n",
       "      <td>NaN</td>\n",
       "      <td>0.0</td>\n",
       "      <td>0</td>\n",
       "      <td>NaN</td>\n",
       "      <td>0.14</td>\n",
       "      <td>0.0</td>\n",
       "      <td>NaN</td>\n",
       "      <td>0.15</td>\n",
       "      <td>1.07</td>\n",
       "      <td>NaN</td>\n",
       "    </tr>\n",
       "    <tr>\n",
       "      <th>1</th>\n",
       "      <td>00000fd6641609c6ece5454664794f0340ad84dddce9a2...</td>\n",
       "      <td>0.076923</td>\n",
       "      <td>0.0</td>\n",
       "      <td>0.01</td>\n",
       "      <td>-0.01</td>\n",
       "      <td>0.0</td>\n",
       "      <td>NaN</td>\n",
       "      <td>0.0</td>\n",
       "      <td>1.0</td>\n",
       "      <td>0.23</td>\n",
       "      <td>...</td>\n",
       "      <td>0.985714</td>\n",
       "      <td>0.0</td>\n",
       "      <td>0</td>\n",
       "      <td>NaN</td>\n",
       "      <td>0.03</td>\n",
       "      <td>0.0</td>\n",
       "      <td>NaN</td>\n",
       "      <td>0.21</td>\n",
       "      <td>NaN</td>\n",
       "      <td>NaN</td>\n",
       "    </tr>\n",
       "    <tr>\n",
       "      <th>2</th>\n",
       "      <td>00001b22f846c82c51f6e3958ccd81970162bae8b007e8...</td>\n",
       "      <td>0.000000</td>\n",
       "      <td>0.0</td>\n",
       "      <td>0.02</td>\n",
       "      <td>0.00</td>\n",
       "      <td>0.0</td>\n",
       "      <td>NaN</td>\n",
       "      <td>0.0</td>\n",
       "      <td>NaN</td>\n",
       "      <td>0.15</td>\n",
       "      <td>...</td>\n",
       "      <td>1.287129</td>\n",
       "      <td>0.0</td>\n",
       "      <td>0</td>\n",
       "      <td>NaN</td>\n",
       "      <td>0.01</td>\n",
       "      <td>0.0</td>\n",
       "      <td>NaN</td>\n",
       "      <td>0.17</td>\n",
       "      <td>NaN</td>\n",
       "      <td>NaN</td>\n",
       "    </tr>\n",
       "  </tbody>\n",
       "</table>\n",
       "<p>3 rows × 4797 columns</p>\n",
       "</div>"
      ],
      "text/plain": [
       "                                         customer_ID  R_11_avg  \\\n",
       "0  0000099d6bd597052cdcda90ffabf56573fe9d7c79be5f...  0.000000   \n",
       "1  00000fd6641609c6ece5454664794f0340ad84dddce9a2...  0.076923   \n",
       "2  00001b22f846c82c51f6e3958ccd81970162bae8b007e8...  0.000000   \n",
       "\n",
       "   D_96_last_minus_avg  B_7_min  B_723_displacement  R_22_ma2_r2  \\\n",
       "0                  0.0     0.00               -0.01          0.0   \n",
       "1                  0.0     0.01               -0.01          0.0   \n",
       "2                  0.0     0.02                0.00          0.0   \n",
       "\n",
       "   D_76_second_last  D_109_ma3_r1  D_128_ma3_r1_r2  D_62_min  ...  \\\n",
       "0               NaN           0.0              1.0      0.08  ...   \n",
       "1               NaN           0.0              1.0      0.23  ...   \n",
       "2               NaN           0.0              NaN      0.15  ...   \n",
       "\n",
       "   D_62_ma3_r1_r2  D_74_ma3_r1  B_32_displacement  D_145_acceleration  \\\n",
       "0             NaN          0.0                  0                 NaN   \n",
       "1        0.985714          0.0                  0                 NaN   \n",
       "2        1.287129          0.0                  0                 NaN   \n",
       "\n",
       "   B_12_max  D_103_last_minus_avg  D_135_avg  B_6_second_last  D_105_max  \\\n",
       "0      0.14                   0.0        NaN             0.15       1.07   \n",
       "1      0.03                   0.0        NaN             0.21        NaN   \n",
       "2      0.01                   0.0        NaN             0.17        NaN   \n",
       "\n",
       "   D_134_avg  \n",
       "0        NaN  \n",
       "1        NaN  \n",
       "2        NaN  \n",
       "\n",
       "[3 rows x 4797 columns]"
      ]
     },
     "execution_count": 11,
     "metadata": {},
     "output_type": "execute_result"
    }
   ],
   "source": [
    "train_agg.head(3)"
   ]
  },
  {
   "cell_type": "code",
   "execution_count": 12,
   "id": "efec55b9-1b4b-4ced-8cbe-67481a7f3ee2",
   "metadata": {},
   "outputs": [
    {
     "data": {
      "image/png": "[encoded data removed]",
      "text/plain": [
       "<Figure size 1080x576 with 1 Axes>"
      ]
     },
     "metadata": {
      "needs_background": "light"
     },
     "output_type": "display_data"
    },
    {
     "name": "stdout",
     "output_type": "stream",
     "text": [
      "CPU times: user 2.81 s, sys: 1.35 s, total: 4.17 s\n",
      "Wall time: 3.94 s\n"
     ]
    }
   ],
   "source": [
    "%%time\n",
    "m = plot_missing_proportion_barchart(train_agg)"
   ]
  },
  {
   "cell_type": "code",
   "execution_count": 13,
   "id": "b3c1d3e3-36ae-43e8-a909-b6e970681b65",
   "metadata": {},
   "outputs": [
    {
     "data": {
      "text/plain": [
       "203"
      ]
     },
     "execution_count": 13,
     "metadata": {},
     "output_type": "execute_result"
    }
   ],
   "source": [
    "high_missing_columns = m.loc[m[\"missing_proportion\"] > 99][\"column\"].tolist()\n",
    "len(high_missing_columns)"
   ]
  },
  {
   "cell_type": "code",
   "execution_count": 95,
   "id": "c421e650-5f8f-40e4-b3cc-d41eb07fd81d",
   "metadata": {},
   "outputs": [
    {
     "name": "stdout",
     "output_type": "stream",
     "text": [
      "CPU times: user 754 ms, sys: 1.36 s, total: 2.11 s\n",
      "Wall time: 3.53 s\n"
     ]
    }
   ],
   "source": [
    "%%time\n",
    "train_agg = train_agg.drop(columns=high_missing_columns, errors=\"ignore\")"
   ]
  },
  {
   "cell_type": "code",
   "execution_count": 96,
   "id": "0e4d5151-0212-4ee0-bc13-07ff4536064b",
   "metadata": {},
   "outputs": [
    {
     "data": {
      "text/plain": [
       "(458913, 4594)"
      ]
     },
     "execution_count": 96,
     "metadata": {},
     "output_type": "execute_result"
    }
   ],
   "source": [
    "train_agg.shape"
   ]
  },
  {
   "cell_type": "code",
   "execution_count": 14,
   "id": "dcf270fb-c8fd-48d4-b24c-b4b16d5cd16f",
   "metadata": {},
   "outputs": [
    {
     "name": "stdout",
     "output_type": "stream",
     "text": [
      "Shape of data: (166, 24)\n",
      "Shape of data: (174, 24)\n",
      "Shape of data: (181, 39)\n"
     ]
    }
   ],
   "source": [
    "summary_feature_imp3 = read_file(f\"../{EXP_PATH}/3.lgbm_dart_5197/feature_importance.csv\")\n",
    "summary_feature_imp4 = read_file(f\"../{EXP_PATH}/4.lgbm_dart_6666/feature_importance.csv\")\n",
    "summary_feature_imp5 = read_file(f\"../{EXP_PATH}/5.lgbm_dart_923_half_fix/feature_importance.csv\")"
   ]
  },
  {
   "cell_type": "code",
   "execution_count": 15,
   "id": "ab2cba12-53a8-49a3-97a1-d32bca504e3b",
   "metadata": {},
   "outputs": [
    {
     "data": {
      "text/plain": [
       "(36.940000000000005, 33.2, 5.4)"
      ]
     },
     "execution_count": 15,
     "metadata": {},
     "output_type": "execute_result"
    }
   ],
   "source": [
    "median_fi3 = np.percentile(summary_feature_imp3.values[:, 1:].ravel(), 10)\n",
    "median_fi4 = np.percentile(summary_feature_imp4.values[:, 1:].ravel(), 15)\n",
    "median_fi5 = np.percentile(summary_feature_imp5.values[:, 1:].ravel(), 10)\n",
    "median_fi3, median_fi4, median_fi5"
   ]
  },
  {
   "cell_type": "code",
   "execution_count": 19,
   "id": "b1e3d420-f21d-437d-951e-bd28df58081f",
   "metadata": {},
   "outputs": [
    {
     "data": {
      "text/plain": [
       "414"
      ]
     },
     "execution_count": 19,
     "metadata": {},
     "output_type": "execute_result"
    }
   ],
   "source": [
    "bad_features = list(\n",
    "    set(select_bad_features(summary_feature_imp3, 12))\n",
    "    .intersection(select_bad_features(summary_feature_imp4, 12))\n",
    "    .intersection(select_bad_features(summary_feature_imp5, 10))\n",
    "    .intersection(train_agg.columns)\n",
    ")\n",
    "len(bad_features)"
   ]
  },
  {
   "cell_type": "code",
   "execution_count": 20,
   "id": "2823761a-8492-4240-aadf-0d5fa89d7207",
   "metadata": {},
   "outputs": [
    {
     "data": {
      "text/plain": [
       "(458913, 4797)"
      ]
     },
     "execution_count": 20,
     "metadata": {},
     "output_type": "execute_result"
    }
   ],
   "source": [
    "train_agg.shape"
   ]
  },
  {
   "cell_type": "code",
   "execution_count": 146,
   "id": "67f97829-1fce-4932-964b-a0690f787793",
   "metadata": {},
   "outputs": [
    {
     "name": "stdout",
     "output_type": "stream",
     "text": [
      "CPU times: user 412 ms, sys: 2.84 s, total: 3.25 s\n",
      "Wall time: 5.22 s\n"
     ]
    }
   ],
   "source": [
    "%%time\n",
    "train_agg = train_agg.drop(columns=bad_features)"
   ]
  },
  {
   "cell_type": "code",
   "execution_count": 147,
   "id": "44096ba8-cff8-4901-a8d0-a8941b0a2011",
   "metadata": {},
   "outputs": [
    {
     "data": {
      "text/plain": [
       "(458913, 4241)"
      ]
     },
     "execution_count": 147,
     "metadata": {},
     "output_type": "execute_result"
    }
   ],
   "source": [
    "train_agg.shape"
   ]
  },
  {
   "cell_type": "code",
   "execution_count": 148,
   "id": "16b7d4d0-fade-4e29-a14e-d8b5068bf9db",
   "metadata": {},
   "outputs": [],
   "source": [
    "train_agg.to_parquet(f\"./final_train_agg.parquet\")"
   ]
  },
  {
   "cell_type": "code",
   "execution_count": 149,
   "id": "7aaa7c17-44ff-4fa7-9f4d-7955af55620f",
   "metadata": {},
   "outputs": [],
   "source": [
    "final_columns = train_agg.columns.tolist()"
   ]
  },
  {
   "cell_type": "code",
   "execution_count": 21,
   "id": "87c60790-71eb-45c1-890d-856dfc2fd218",
   "metadata": {},
   "outputs": [
    {
     "name": "stdout",
     "output_type": "stream",
     "text": [
      "['D_68_third_last', 'B_38_third_last', 'D_117_last', 'D_120_first', 'D_68_last', 'B_38_last', 'D_126_third_last', 'D_114_last', 'D_68_second_last', 'D_63_first', 'D_92_last', 'D_126_second_last', 'D_64_last', 'D_116_second_last', 'D_120_second_last', 'D_68_first', 'D_116_third_last', 'B_30_first', 'D_64_third_last', 'B_30_last', 'D_114_first', 'D_114_second_last', 'D_126_last', 'D_63_last', 'D_117_second_last', 'B_30_second_last', 'D_116_last', 'D_92_second_last', 'D_117_third_last', 'D_116_first', 'D_120_third_last', 'D_117_first', 'D_64_second_last', 'D_92_first', 'D_120_last', 'D_92_third_last', 'B_38_first', 'D_126_first', 'D_63_second_last', 'D_114_third_last', 'B_30_third_last', 'D_64_first', 'B_38_second_last', 'D_63_third_last']\n"
     ]
    }
   ],
   "source": [
    "final_cat_columns = get_cols(train_agg, CATEGORY_COLUMNS)\n",
    "print(final_cat_columns)"
   ]
  },
  {
   "cell_type": "code",
   "execution_count": 24,
   "id": "15bc05a9-557b-4832-a33a-c7da88ba46c7",
   "metadata": {},
   "outputs": [],
   "source": [
    "del train_agg"
   ]
  },
  {
   "cell_type": "code",
   "execution_count": 23,
   "id": "b3c685ee-a213-4f2c-a4f9-73806356ea9d",
   "metadata": {},
   "outputs": [],
   "source": [
    "drop_features = bad_features + high_missing_columns"
   ]
  },
  {
   "cell_type": "markdown",
   "id": "576a68b6-48a6-4ea9-beb6-2201b78041ed",
   "metadata": {
    "tags": []
   },
   "source": [
    "### Test"
   ]
  },
  {
   "cell_type": "code",
   "execution_count": 9,
   "id": "d0a0f1a8-2c57-4da4-a3f6-c5a670fd0bfa",
   "metadata": {},
   "outputs": [
    {
     "name": "stdout",
     "output_type": "stream",
     "text": [
      "Shape of data: (462311, 4796)\n",
      "CPU times: user 16.1 s, sys: 16.1 s, total: 32.2 s\n",
      "Wall time: 18.7 s\n"
     ]
    }
   ],
   "source": [
    "%%time\n",
    "test_agg1 = read_file(f\"./test_agg1.parquet\")"
   ]
  },
  {
   "cell_type": "code",
   "execution_count": 28,
   "id": "76cda6b1-3a79-4aa3-80e8-7dc1184f6570",
   "metadata": {},
   "outputs": [
    {
     "data": {
      "text/plain": [
       "4240"
      ]
     },
     "execution_count": 28,
     "metadata": {},
     "output_type": "execute_result"
    }
   ],
   "source": [
    "final_columns = list(set(test_agg1.columns) - set(drop_features))\n",
    "len(final_columns)"
   ]
  },
  {
   "cell_type": "code",
   "execution_count": 30,
   "id": "ec4b97f6-19c8-4a8f-a4c6-3b738d70203f",
   "metadata": {},
   "outputs": [
    {
     "name": "stdout",
     "output_type": "stream",
     "text": [
      "CPU times: user 478 ms, sys: 3.78 s, total: 4.26 s\n",
      "Wall time: 10.2 s\n"
     ]
    }
   ],
   "source": [
    "%%time\n",
    "test_agg1 = test_agg1.loc[:, final_columns]"
   ]
  },
  {
   "cell_type": "code",
   "execution_count": 31,
   "id": "da3755cf-e10d-408c-ba3c-ba1f41e29f9e",
   "metadata": {},
   "outputs": [
    {
     "name": "stdout",
     "output_type": "stream",
     "text": [
      "Shape of data: (462310, 4796)\n",
      "CPU times: user 15.9 s, sys: 20.6 s, total: 36.5 s\n",
      "Wall time: 25.9 s\n"
     ]
    }
   ],
   "source": [
    "%%time\n",
    "test_agg2 = read_file(f\"./test_agg2.parquet\")"
   ]
  },
  {
   "cell_type": "code",
   "execution_count": 32,
   "id": "d684818a-87a1-4b32-9530-ea32f6ee24dd",
   "metadata": {},
   "outputs": [
    {
     "name": "stdout",
     "output_type": "stream",
     "text": [
      "CPU times: user 401 ms, sys: 2.75 s, total: 3.15 s\n",
      "Wall time: 4.73 s\n"
     ]
    }
   ],
   "source": [
    "%%time\n",
    "test_agg2 = test_agg2.loc[:, final_columns]"
   ]
  },
  {
   "cell_type": "code",
   "execution_count": 33,
   "id": "89e7d1f5-c36f-4c99-b432-3207fb00bda8",
   "metadata": {},
   "outputs": [],
   "source": [
    "test_agg = pd.concat([test_agg1, test_agg2], ignore_index=True)"
   ]
  },
  {
   "cell_type": "code",
   "execution_count": null,
   "id": "e900e68f-2487-4507-ae5b-3b3f96bf34df",
   "metadata": {},
   "outputs": [],
   "source": [
    "del test_agg1, test_agg2"
   ]
  },
  {
   "cell_type": "code",
   "execution_count": null,
   "id": "4b83a388-f350-46c4-a5ca-9e6efbe32239",
   "metadata": {},
   "outputs": [],
   "source": [
    "gc.collect()"
   ]
  },
  {
   "cell_type": "code",
   "execution_count": 36,
   "id": "3ddd086c-46c0-4759-b0ed-778ad9cd6c30",
   "metadata": {},
   "outputs": [
    {
     "data": {
      "text/plain": [
       "(924621, 4240)"
      ]
     },
     "execution_count": 36,
     "metadata": {},
     "output_type": "execute_result"
    }
   ],
   "source": [
    "test_agg.shape"
   ]
  },
  {
   "cell_type": "code",
   "execution_count": 35,
   "id": "1d0aef30-ca9e-4e37-a608-27d2622fac49",
   "metadata": {},
   "outputs": [
    {
     "name": "stdout",
     "output_type": "stream",
     "text": [
      "CPU times: user 1min 10s, sys: 15.7 s, total: 1min 26s\n",
      "Wall time: 1min 13s\n"
     ]
    }
   ],
   "source": [
    "%%time\n",
    "test_agg.to_parquet(f\"./final_test_agg.parquet\")"
   ]
  },
  {
   "cell_type": "code",
   "execution_count": null,
   "id": "5861e72c-68a9-4b35-95e7-16c1d9b21688",
   "metadata": {},
   "outputs": [],
   "source": []
  }
 ],
 "metadata": {
  "kernelspec": {
   "display_name": "play",
   "language": "python",
   "name": "play"
  },
  "language_info": {
   "codemirror_mode": {
    "name": "ipython",
    "version": 3
   },
   "file_extension": ".py",
   "mimetype": "text/x-python",
   "name": "python",
   "nbconvert_exporter": "python",
   "pygments_lexer": "ipython3",
   "version": "3.10.0"
  }
 },
 "nbformat": 4,
 "nbformat_minor": 5
}
