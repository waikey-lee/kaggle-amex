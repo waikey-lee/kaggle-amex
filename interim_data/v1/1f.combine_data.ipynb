{
 "cells": [
  {
   "cell_type": "code",
   "execution_count": 15,
   "id": "f557c870-6ed9-4bca-a399-1f0589f8a9b7",
   "metadata": {},
   "outputs": [],
   "source": [
    "import gc\n",
    "import math\n",
    "import matplotlib.pyplot as plt\n",
    "import numpy as np\n",
    "import os\n",
    "import pandas as pd\n",
    "pd.options.display.float_format = \"{:,.4f}\".format\n",
    "import random\n",
    "import sys\n",
    "import time\n",
    "import warnings\n",
    "warnings.simplefilter(\"ignore\")\n",
    "warnings.filterwarnings(\"ignore\")\n",
    "from pandarallel import pandarallel\n",
    "from tqdm import tqdm"
   ]
  },
  {
   "cell_type": "code",
   "execution_count": 16,
   "id": "3c0e6ed6-0dc8-452a-8af1-35cce7451003",
   "metadata": {},
   "outputs": [],
   "source": [
    "from pathlib import Path\n",
    "rootpath = Path.cwd().parent\n",
    "sys.path.append(os.path.join(rootpath))"
   ]
  },
  {
   "cell_type": "code",
   "execution_count": 17,
   "id": "a2d9bd4d-9e6d-4c34-93b4-79a7f4cee3c4",
   "metadata": {},
   "outputs": [],
   "source": [
    "from utils.constants import *\n",
    "from utils.eda_helpers import (\n",
    "    plot_missing_proportion_barchart, get_cols, plot_scatterplot, plot_target_check, \n",
    "    plot_int_feature_distribution, plot_train_test_distribution, check_overlap_missing,\n",
    "    insert_row_number, plot_sampled_time_series\n",
    ")\n",
    "from utils.eval_helpers import (\n",
    "    plot_roc_curves, plot_feature_importance, \n",
    "    amex_metric, get_final_metric_df, amex_metric_np, lgb_amex_metric\n",
    ")\n",
    "from utils.extraction_helpers import read_file\n",
    "from utils.feature_group import (\n",
    "    CATEGORY_COLUMNS, CONTINUOUS_COLUMNS, BINARY_COLUMNS,\n",
    "    MEAN_FEATURES, MIN_FEATURES, MAX_FEATURES, LAST_FEATURES, NON_FEATURE_COLUMNS\n",
    ")\n",
    "from utils.preprocess_helpers import *"
   ]
  },
  {
   "cell_type": "code",
   "execution_count": 18,
   "id": "c2f81f2c-1eb4-4d16-aec5-e52f8bac2d9d",
   "metadata": {},
   "outputs": [
    {
     "name": "stdout",
     "output_type": "stream",
     "text": [
      "The autoreload extension is already loaded. To reload it, use:\n",
      "  %reload_ext autoreload\n"
     ]
    }
   ],
   "source": [
    "%load_ext autoreload\n",
    "%autoreload"
   ]
  },
  {
   "cell_type": "code",
   "execution_count": 19,
   "id": "6b9d2eb3-f68f-4a6b-8709-5d7359bb282a",
   "metadata": {},
   "outputs": [
    {
     "data": {
      "text/plain": [
       "108"
      ]
     },
     "execution_count": 19,
     "metadata": {},
     "output_type": "execute_result"
    }
   ],
   "source": [
    "gc.collect()"
   ]
  },
  {
   "cell_type": "code",
   "execution_count": 20,
   "id": "e49ccd79-e954-4c60-930d-25941d0c3d00",
   "metadata": {},
   "outputs": [],
   "source": [
    "START = time.time()"
   ]
  },
  {
   "cell_type": "markdown",
   "id": "3885beac-e245-43b6-a2cc-73e9f871d132",
   "metadata": {},
   "source": [
    "### Combine Train Data"
   ]
  },
  {
   "cell_type": "code",
   "execution_count": 21,
   "id": "398175be-8971-410b-bc44-1f78ba1d779f",
   "metadata": {},
   "outputs": [
    {
     "name": "stdout",
     "output_type": "stream",
     "text": [
      "Shape of data: (5531451, 27)\n",
      "Shape of data: (5531451, 31)\n",
      "Shape of data: (5531451, 42)\n",
      "Shape of data: (5531451, 55)\n",
      "Shape of data: (5531451, 47)\n",
      "CPU times: user 4.71 s, sys: 2.44 s, total: 7.15 s\n",
      "Wall time: 2.94 s\n"
     ]
    }
   ],
   "source": [
    "%%time\n",
    "train_sp = read_file(f\"{INTERIM_TRAIN_PARQUET_PATH}/spend_payment.parquet\", replace_negative127=False)\n",
    "train_r = read_file(f\"{INTERIM_TRAIN_PARQUET_PATH}/risk.parquet\", replace_negative127=False)\n",
    "train_b = read_file(f\"{INTERIM_TRAIN_PARQUET_PATH}/balance.parquet\", replace_negative127=False)\n",
    "train_d1 = read_file(f\"{INTERIM_TRAIN_PARQUET_PATH}/delinquency_part1.parquet\", replace_negative127=False)\n",
    "train_d2 = read_file(f\"{INTERIM_TRAIN_PARQUET_PATH}/delinquency_part2.parquet\", replace_negative127=False)"
   ]
  },
  {
   "cell_type": "code",
   "execution_count": 22,
   "id": "2db2f92f-85a8-484f-9685-4e1af3162afc",
   "metadata": {},
   "outputs": [
    {
     "name": "stdout",
     "output_type": "stream",
     "text": [
      "CPU times: user 7.56 s, sys: 6.52 s, total: 14.1 s\n",
      "Wall time: 17.9 s\n"
     ]
    }
   ],
   "source": [
    "%%time\n",
    "train = pd.concat([\n",
    "    train_sp.set_index([\"customer_ID\", \"S_2\", \"target\"]),\n",
    "    train_r.set_index([\"customer_ID\", \"S_2\", \"target\"]),\n",
    "    train_b.set_index([\"customer_ID\", \"S_2\", \"target\"]),\n",
    "    train_d1.set_index([\"customer_ID\", \"S_2\", \"target\"]),\n",
    "    train_d2.set_index([\"customer_ID\", \"S_2\", \"target\"])\n",
    "], axis=1).reset_index()"
   ]
  },
  {
   "cell_type": "code",
   "execution_count": 23,
   "id": "6540ac34-7ae2-49ae-a194-c33fd9bf1d2e",
   "metadata": {},
   "outputs": [
    {
     "data": {
      "text/plain": [
       "(5531451, 190)"
      ]
     },
     "execution_count": 23,
     "metadata": {},
     "output_type": "execute_result"
    }
   ],
   "source": [
    "train.shape"
   ]
  },
  {
   "cell_type": "code",
   "execution_count": 24,
   "id": "f816ff4e-15df-4ed6-9a65-cb329a9ac9a8",
   "metadata": {},
   "outputs": [],
   "source": [
    "train = train.replace(-127, np.nan)"
   ]
  },
  {
   "cell_type": "code",
   "execution_count": 35,
   "id": "f2a17d5b-7233-4ff3-8ff4-20e7105b0724",
   "metadata": {},
   "outputs": [],
   "source": [
    "# train.to_parquet(f\"{INTERIM_TRAIN_PARQUET_PATH}/all_variables.parquet\")"
   ]
  },
  {
   "cell_type": "code",
   "execution_count": 36,
   "id": "db28ca60-e502-4efa-b388-6706ffd07776",
   "metadata": {},
   "outputs": [],
   "source": [
    "# train.head()"
   ]
  },
  {
   "cell_type": "code",
   "execution_count": 37,
   "id": "e726bd72-26c7-48e4-8022-fadf76dd9a5e",
   "metadata": {},
   "outputs": [],
   "source": [
    "# del train, train_sp, train_r, train_b, train_d1, train_d2"
   ]
  },
  {
   "cell_type": "markdown",
   "id": "edcced13-648f-45ff-96c4-51eb918140e8",
   "metadata": {},
   "source": [
    "### Combine Test Data"
   ]
  },
  {
   "cell_type": "code",
   "execution_count": 28,
   "id": "4644a2d0-a6e3-46b8-be9f-b8a71ce71aec",
   "metadata": {},
   "outputs": [
    {
     "name": "stdout",
     "output_type": "stream",
     "text": [
      "Shape of data: (11363762, 26)\n",
      "Shape of data: (11363762, 30)\n",
      "Shape of data: (11363762, 41)\n",
      "Shape of data: (11363762, 54)\n",
      "Shape of data: (11363762, 46)\n",
      "CPU times: user 10.4 s, sys: 10.1 s, total: 20.5 s\n",
      "Wall time: 10.8 s\n"
     ]
    }
   ],
   "source": [
    "%%time\n",
    "test_sp = read_file(f\"{INTERIM_TEST_PARQUET_PATH}/spend_payment.parquet\", replace_negative127=False)\n",
    "test_r = read_file(f\"{INTERIM_TEST_PARQUET_PATH}/risk.parquet\", replace_negative127=False)\n",
    "test_b = read_file(f\"{INTERIM_TEST_PARQUET_PATH}/balance.parquet\", replace_negative127=False)\n",
    "test_d1 = read_file(f\"{INTERIM_TEST_PARQUET_PATH}/delinquency_part1.parquet\", replace_negative127=False)\n",
    "test_d2 = read_file(f\"{INTERIM_TEST_PARQUET_PATH}/delinquency_part2.parquet\", replace_negative127=False)"
   ]
  },
  {
   "cell_type": "code",
   "execution_count": 29,
   "id": "0c584bee-21cb-447a-b8e3-0b0da176bf8d",
   "metadata": {},
   "outputs": [
    {
     "name": "stdout",
     "output_type": "stream",
     "text": [
      "CPU times: user 15.8 s, sys: 21.1 s, total: 36.9 s\n",
      "Wall time: 51.1 s\n"
     ]
    }
   ],
   "source": [
    "%%time\n",
    "test = pd.concat([\n",
    "    test_sp.set_index([\"customer_ID\", \"S_2\"]),\n",
    "    test_r.set_index([\"customer_ID\", \"S_2\"]),\n",
    "    test_b.set_index([\"customer_ID\", \"S_2\"]),\n",
    "    test_d1.set_index([\"customer_ID\", \"S_2\"]),\n",
    "    test_d2.set_index([\"customer_ID\", \"S_2\"])\n",
    "], axis=1).reset_index()"
   ]
  },
  {
   "cell_type": "code",
   "execution_count": 30,
   "id": "392f2d95-5121-47ee-9bf8-9809d01b04a5",
   "metadata": {},
   "outputs": [
    {
     "data": {
      "text/plain": [
       "(11363762, 189)"
      ]
     },
     "execution_count": 30,
     "metadata": {},
     "output_type": "execute_result"
    }
   ],
   "source": [
    "test.shape"
   ]
  },
  {
   "cell_type": "code",
   "execution_count": 31,
   "id": "b29327d2-d36f-4bc5-b85c-4af0bbb043e9",
   "metadata": {},
   "outputs": [],
   "source": [
    "test = test.replace(-127, np.nan)"
   ]
  },
  {
   "cell_type": "code",
   "execution_count": 38,
   "id": "54ee52e8-a993-442d-b3a6-9f82b817f0fc",
   "metadata": {},
   "outputs": [],
   "source": [
    "# test.to_parquet(f\"{INTERIM_TEST_PARQUET_PATH}/all_variables.parquet\")"
   ]
  },
  {
   "cell_type": "code",
   "execution_count": 39,
   "id": "89b5bee0-ab3c-40a0-93f9-f1c902c13251",
   "metadata": {},
   "outputs": [],
   "source": [
    "# test.head()"
   ]
  },
  {
   "cell_type": "code",
   "execution_count": 40,
   "id": "3086fd9d-bec0-41ba-8cc9-6ea660b6dc16",
   "metadata": {},
   "outputs": [],
   "source": [
    "# del test, test_sp, test_r, test_b, test_d1, test_d2"
   ]
  },
  {
   "cell_type": "code",
   "execution_count": null,
   "id": "ed8b900a-fc29-412d-869c-3d1087fc599e",
   "metadata": {},
   "outputs": [],
   "source": []
  }
 ],
 "metadata": {
  "kernelspec": {
   "display_name": "amex",
   "language": "python",
   "name": "amex"
  },
  "language_info": {
   "codemirror_mode": {
    "name": "ipython",
    "version": 3
   },
   "file_extension": ".py",
   "mimetype": "text/x-python",
   "name": "python",
   "nbconvert_exporter": "python",
   "pygments_lexer": "ipython3",
   "version": "3.10.0"
  }
 },
 "nbformat": 4,
 "nbformat_minor": 5
}
