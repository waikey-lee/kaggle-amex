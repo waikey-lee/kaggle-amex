{
 "cells": [
  {
   "cell_type": "code",
   "execution_count": 39,
   "id": "66d79392",
   "metadata": {},
   "outputs": [],
   "source": [
    "import datetime\n",
    "import gc\n",
    "import joblib\n",
    "import matplotlib.pyplot as plt\n",
    "import pandas as pd\n",
    "import numpy as np\n",
    "import os\n",
    "import scipy.stats\n",
    "import seaborn as sns\n",
    "import sys\n",
    "sys.path.append(\"../../\")\n",
    "import time\n",
    "import warnings\n",
    "warnings.simplefilter(\"ignore\")\n",
    "from collections import defaultdict\n",
    "from itertools import repeat, combinations\n",
    "from pandarallel import pandarallel\n",
    "from sklearn.preprocessing import StandardScaler, LabelEncoder\n",
    "from tqdm import tqdm"
   ]
  },
  {
   "cell_type": "code",
   "execution_count": 40,
   "id": "82378715",
   "metadata": {},
   "outputs": [],
   "source": [
    "from utils.common import (\n",
    "    sigmoid, pad_column_name\n",
    ")\n",
    "from utils.constants import *\n",
    "from utils.eval_helpers import (\n",
    "    plot_roc_curves, plot_feature_importance, \n",
    "    amex_metric, get_final_metric_df, amex_metric_np, lgb_amex_metric\n",
    ")\n",
    "from utils.eda_helpers import (\n",
    "    plot_missing_proportion_barchart, plot_heatmap, check_psi, describe_all,\n",
    "    get_cols, insert_row_number, plot_train_test_distribution, plot_target_check\n",
    ")\n",
    "from utils.extraction_helpers import read_file\n",
    "from utils.feature_group import CATEGORY_COLUMNS\n",
    "from utils.preprocess_helpers import split_public_private"
   ]
  },
  {
   "cell_type": "code",
   "execution_count": 41,
   "id": "bb9e67dd",
   "metadata": {},
   "outputs": [
    {
     "name": "stdout",
     "output_type": "stream",
     "text": [
      "The autoreload extension is already loaded. To reload it, use:\n",
      "  %reload_ext autoreload\n"
     ]
    }
   ],
   "source": [
    "%load_ext autoreload\n",
    "%autoreload"
   ]
  },
  {
   "cell_type": "code",
   "execution_count": 42,
   "id": "88358e6c",
   "metadata": {},
   "outputs": [
    {
     "name": "stdout",
     "output_type": "stream",
     "text": [
      "INFO: Pandarallel will run on 16 workers.\n",
      "INFO: Pandarallel will use standard multiprocessing data transfer (pipe) to transfer data between the main process and workers.\n"
     ]
    }
   ],
   "source": [
    "pandarallel.initialize(nb_workers=16, progress_bar=False, use_memory_fs=False)"
   ]
  },
  {
   "cell_type": "code",
   "execution_count": 43,
   "id": "43e10323",
   "metadata": {},
   "outputs": [],
   "source": [
    "START = time.time()"
   ]
  },
  {
   "cell_type": "markdown",
   "id": "f5b8d900",
   "metadata": {},
   "source": [
    "### Read Data"
   ]
  },
  {
   "cell_type": "code",
   "execution_count": 44,
   "id": "c08a94f2",
   "metadata": {},
   "outputs": [
    {
     "name": "stdout",
     "output_type": "stream",
     "text": [
      "Shape of data: (5531451, 158)\n",
      "Shape of data: (11363762, 157)\n",
      "CPU times: user 14.5 s, sys: 18.5 s, total: 33 s\n",
      "Wall time: 23.2 s\n"
     ]
    }
   ],
   "source": [
    "%%time\n",
    "train = read_file(f\"./train_parquet/train_all_variables.parquet\")\n",
    "test = read_file(f\"./test_parquet/test_all_variables.parquet\")"
   ]
  },
  {
   "cell_type": "code",
   "execution_count": 45,
   "id": "792b3214",
   "metadata": {},
   "outputs": [
    {
     "name": "stdout",
     "output_type": "stream",
     "text": [
      "Public size: 5719469, Private size: 5644293\n",
      "CPU times: user 4.16 s, sys: 8.46 s, total: 12.6 s\n",
      "Wall time: 18.4 s\n"
     ]
    }
   ],
   "source": [
    "%%time\n",
    "public_test, private_test = split_public_private(test)"
   ]
  },
  {
   "cell_type": "code",
   "execution_count": 46,
   "id": "93be4c13",
   "metadata": {},
   "outputs": [
    {
     "data": {
      "text/plain": [
       "((5531451, 158), (5719469, 157), (5644293, 157))"
      ]
     },
     "execution_count": 46,
     "metadata": {},
     "output_type": "execute_result"
    }
   ],
   "source": [
    "train.shape, public_test.shape, private_test.shape"
   ]
  },
  {
   "cell_type": "code",
   "execution_count": 47,
   "id": "572f665b",
   "metadata": {},
   "outputs": [
    {
     "data": {
      "text/plain": [
       "529"
      ]
     },
     "execution_count": 47,
     "metadata": {},
     "output_type": "execute_result"
    }
   ],
   "source": [
    "gc.collect()"
   ]
  },
  {
   "cell_type": "code",
   "execution_count": 48,
   "id": "bd8c9425",
   "metadata": {},
   "outputs": [],
   "source": [
    "df_list = [train, public_test, private_test]"
   ]
  },
  {
   "cell_type": "code",
   "execution_count": 49,
   "id": "81f855ba",
   "metadata": {},
   "outputs": [],
   "source": [
    "# for df in df_list:\n",
    "#     df[\"D_135\"] = df[\"D_135\"].fillna(-1)\n",
    "#     df[\"D_137\"] = df[\"D_137\"].fillna(-1)"
   ]
  },
  {
   "cell_type": "code",
   "execution_count": 50,
   "id": "ab66a04c",
   "metadata": {},
   "outputs": [],
   "source": [
    "wrong_cols = get_cols(train, \"temp\")\n",
    "if len(wrong_cols) > 0:\n",
    "    print(wrong_cols)\n",
    "    # train = train.drop(columns=\"temp\", errors=\"ignore\")"
   ]
  },
  {
   "cell_type": "code",
   "execution_count": 51,
   "id": "3b8b555c",
   "metadata": {},
   "outputs": [],
   "source": [
    "for col in train.columns[5:]:\n",
    "    if train[col].min() != public_test[col].min():\n",
    "        print(col, train[col].min(), public_test[col].min())"
   ]
  },
  {
   "cell_type": "code",
   "execution_count": 52,
   "id": "bf1188ea",
   "metadata": {},
   "outputs": [],
   "source": [
    "for col in train.columns[5:]:\n",
    "    if train[col].min() != private_test[col].min():\n",
    "        print(col, train[col].min(), private_test[col].min())"
   ]
  },
  {
   "cell_type": "code",
   "execution_count": 53,
   "id": "73e42b55",
   "metadata": {},
   "outputs": [],
   "source": [
    "for col in train.columns[5:]:\n",
    "    if train[col].max() != public_test[col].max():\n",
    "        print(col, train[col].max(), public_test[col].max())"
   ]
  },
  {
   "cell_type": "code",
   "execution_count": 54,
   "id": "13205b07",
   "metadata": {},
   "outputs": [],
   "source": [
    "for col in train.columns[5:]:\n",
    "    if train[col].max() != private_test[col].max():\n",
    "        print(col, train[col].max(), private_test[col].max())"
   ]
  },
  {
   "cell_type": "code",
   "execution_count": 55,
   "id": "96850d90",
   "metadata": {},
   "outputs": [],
   "source": [
    "# for col in train.columns[5:]:\n",
    "#     train_pub, train_private = check_psi(df_list, col)\n",
    "#     if train_pub > 0.1 or train_private > 0.1:\n",
    "#         print(col, train_pub, train_private)"
   ]
  },
  {
   "cell_type": "code",
   "execution_count": 56,
   "id": "54976fe4-df1a-462e-8529-6234eba7eee1",
   "metadata": {},
   "outputs": [
    {
     "data": {
      "text/plain": [
       "Index(['D_63', 'D_64', 'D_65', 'D_68', 'D_69', 'D_70', 'D_71', 'D_72', 'D_74',\n",
       "       'D_75', 'D_76', 'D_77', 'D_78', 'D_79', 'D_80', 'D_81', 'D_82', 'D_83',\n",
       "       'D_84', 'D_87', 'D_91', 'D_99', 'D_888', 'D_813', 'D_102', 'D_104',\n",
       "       'D_105', 'D_106', 'D_107', 'D_109', 'D_110', 'D_111', 'D_112', 'D_113',\n",
       "       'D_114', 'D_115', 'D_117', 'D_118', 'D_119', 'D_120', 'D_122', 'D_123',\n",
       "       'D_124', 'D_125', 'D_126', 'D_128', 'D_129', 'D_130', 'D_131', 'D_132',\n",
       "       'D_133', 'D_134', 'D_136', 'D_141', 'D_142', 'D_144', 'D_145', 'D_183',\n",
       "       'D_1314', 'D_1343'],\n",
       "      dtype='object')"
      ]
     },
     "execution_count": 56,
     "metadata": {},
     "output_type": "execute_result"
    }
   ],
   "source": [
    "train.columns[-60:]"
   ]
  },
  {
   "cell_type": "code",
   "execution_count": 57,
   "id": "fa19498b-e1c1-444b-b1a6-dff5fa2408f4",
   "metadata": {},
   "outputs": [
    {
     "name": "stdout",
     "output_type": "stream",
     "text": [
      "[0, 1, 2, 3, 4, 5, 6]\n",
      "[0, 1, 2, 3, 4, 5, 6]\n",
      "[0, 1, 2, 3, 4, 5, 6]\n"
     ]
    }
   ],
   "source": [
    "for df in df_list:\n",
    "    print(sorted(df[\"D_117\"].unique()))"
   ]
  },
  {
   "cell_type": "code",
   "execution_count": 58,
   "id": "6107c34d",
   "metadata": {},
   "outputs": [],
   "source": [
    "for col in CATEGORY_COLUMNS:\n",
    "    a = set(train[col].unique()) - set(private_test[col].unique())\n",
    "    if len(a) > 0:\n",
    "        print(col)\n",
    "        for df in df_list:\n",
    "            # df[col] = df[col].fillna(0)\n",
    "            pass"
   ]
  },
  {
   "cell_type": "markdown",
   "id": "fe08af5b",
   "metadata": {},
   "source": [
    "### Feature Crossing"
   ]
  },
  {
   "cell_type": "code",
   "execution_count": 59,
   "id": "32608071",
   "metadata": {},
   "outputs": [
    {
     "name": "stderr",
     "output_type": "stream",
     "text": [
      "100%|████████████████████████████████████████████████████████████████████████████████████████████████████████████████████████████████████████| 3/3 [00:14<00:00,  4.90s/it]\n"
     ]
    }
   ],
   "source": [
    "for df in tqdm(df_list):\n",
    "    df[\"DP_392\"] = (df[\"D_39\"] / -df[\"P_2\"]).round(1)\n",
    "    df[\"BP_92\"] = (-df[\"P_2\"] / df[\"B_9\"]).round(1)\n",
    "    df[\"PR_21\"] = (-df[\"P_2\"] / df[\"R_1\"]).round(1)\n",
    "    df[\"B_9323\"] = (df[\"B_9\"] / df[[\"B_3\", \"B_23\"]].sum(axis=1).replace(0, 0.005)).round(2)\n",
    "    df[\"B_19204\"] = (df[\"B_19\"] - df[\"B_20\"] + df[\"B_4\"]).round(1)\n",
    "    df[\"R_324\"] = (df[\"R_3\"] / (df[\"R_2\"] + df[\"R_4\"]).replace(0, 0.005)).round(2)\n",
    "    df[\"DP_483\"] = (df[\"D_48\"] / df[\"P_3\"]).round(2)\n",
    "    df[\"DP_553\"] = (df[\"D_55\"] / df[\"P_3\"]).round(2)\n",
    "    df[\"DP_394\"] = (df[\"D_39\"] / df[\"P_4\"]).round(2)\n",
    "    df[\"BP_94\"] = (df[\"B_9\"] / df[\"P_4\"]).round(2)\n",
    "    df[\"PR_41\"] = (df[\"B_9\"] / df[\"P_4\"]).round(2)"
   ]
  },
  {
   "cell_type": "code",
   "execution_count": 60,
   "id": "2b3db20a",
   "metadata": {},
   "outputs": [
    {
     "name": "stderr",
     "output_type": "stream",
     "text": [
      "100%|████████████████████████████████████████████████████████████████████████████████████████████████████████████████████████████████████████| 3/3 [00:00<00:00,  7.32it/s]\n"
     ]
    }
   ],
   "source": [
    "for df in tqdm(df_list):\n",
    "    df[\"RD_744\"] = df[\"R_7\"] - df[\"D_44\"]\n",
    "    df[\"PB_33\"] = df[\"P_3\"] / df[\"B_3\"].replace(0, 0.005)\n",
    "    df[\"SR_261\"] = df[\"S_26\"] - df[\"R_1\"]\n",
    "    df[\"RB_111\"] = df[\"R_10\"] * df[\"B_11\"]\n",
    "    df[\"R_30\"] = df[\"R_3\"] - df[\"R_10\"]\n",
    "    df[\"PB_320\"] = df[\"P_3\"] / df[\"B_20\"].replace(0, 0.005)"
   ]
  },
  {
   "cell_type": "markdown",
   "id": "6471a06f",
   "metadata": {},
   "source": [
    "### Calculate diff for each column"
   ]
  },
  {
   "cell_type": "code",
   "execution_count": 61,
   "id": "1d5647fe",
   "metadata": {},
   "outputs": [],
   "source": [
    "temp = train.loc[:, get_cols(train, \"B_\")]\n",
    "more_unique_balance_cols = temp.nunique()[temp.nunique() > 150].index.tolist()\n",
    "diff_cols = [col for col in more_unique_balance_cols if len(col) <= 3]"
   ]
  },
  {
   "cell_type": "code",
   "execution_count": 62,
   "id": "5b3ba66c",
   "metadata": {},
   "outputs": [
    {
     "data": {
      "text/plain": [
       "(4, ['B_4', 'B_5', 'B_6', 'B_9'])"
      ]
     },
     "execution_count": 62,
     "metadata": {},
     "output_type": "execute_result"
    }
   ],
   "source": [
    "len(diff_cols), diff_cols"
   ]
  },
  {
   "cell_type": "code",
   "execution_count": 63,
   "id": "f66e3ea1",
   "metadata": {},
   "outputs": [
    {
     "name": "stderr",
     "output_type": "stream",
     "text": [
      "100%|████████████████████████████████████████████████████████████████████████████████████████████████████████████████████████████████████████| 4/4 [03:32<00:00, 53.04s/it]\n"
     ]
    }
   ],
   "source": [
    "for col in tqdm(diff_cols):\n",
    "    for df in df_list:\n",
    "        df[col + \"_diff\"] = df.groupby(\"customer_ID\")[col].diff()"
   ]
  },
  {
   "cell_type": "code",
   "execution_count": 64,
   "id": "c4f9eb54",
   "metadata": {},
   "outputs": [
    {
     "name": "stdout",
     "output_type": "stream",
     "text": [
      "CPU times: user 8.68 s, sys: 20.1 s, total: 28.7 s\n",
      "Wall time: 43.5 s\n"
     ]
    }
   ],
   "source": [
    "%%time\n",
    "train = df_list[0]\n",
    "test = pd.concat(df_list[1:], axis=0)\n",
    "test = test.sort_values(by=[\"customer_ID\", \"S_2\"]).reset_index(drop=True)"
   ]
  },
  {
   "cell_type": "code",
   "execution_count": 65,
   "id": "5c812150",
   "metadata": {},
   "outputs": [],
   "source": [
    "train.drop(columns=\"temp\", errors=\"ignore\", inplace=True)"
   ]
  },
  {
   "cell_type": "code",
   "execution_count": 66,
   "id": "86f0ddfb",
   "metadata": {},
   "outputs": [
    {
     "data": {
      "text/plain": [
       "{'target'}"
      ]
     },
     "execution_count": 66,
     "metadata": {},
     "output_type": "execute_result"
    }
   ],
   "source": [
    "set(train.columns) - set(test.columns)"
   ]
  },
  {
   "cell_type": "code",
   "execution_count": 67,
   "id": "7ed2e17b",
   "metadata": {},
   "outputs": [],
   "source": [
    "train.to_parquet(f\"./train_parquet/final_train.parquet\")\n",
    "test.to_parquet(f\"./train_parquet/final_test.parquet\")"
   ]
  },
  {
   "cell_type": "code",
   "execution_count": null,
   "id": "a6734079",
   "metadata": {},
   "outputs": [],
   "source": []
  }
 ],
 "metadata": {
  "kernelspec": {
   "display_name": "amex",
   "language": "python",
   "name": "amex"
  },
  "language_info": {
   "codemirror_mode": {
    "name": "ipython",
    "version": 3
   },
   "file_extension": ".py",
   "mimetype": "text/x-python",
   "name": "python",
   "nbconvert_exporter": "python",
   "pygments_lexer": "ipython3",
   "version": "3.10.0"
  }
 },
 "nbformat": 4,
 "nbformat_minor": 5
}
