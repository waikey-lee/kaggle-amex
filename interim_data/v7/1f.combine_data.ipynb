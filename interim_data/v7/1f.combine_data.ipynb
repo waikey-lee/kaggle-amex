{
 "cells": [
  {
   "cell_type": "code",
   "execution_count": 1,
   "id": "4d815e24",
   "metadata": {},
   "outputs": [],
   "source": [
    "import gc\n",
    "import math\n",
    "import matplotlib.pyplot as plt\n",
    "import numpy as np\n",
    "import os\n",
    "import pandas as pd\n",
    "pd.options.display.float_format = \"{:,.4f}\".format\n",
    "import random\n",
    "import sys\n",
    "sys.path.append(\"../../\")\n",
    "import time\n",
    "import warnings\n",
    "warnings.simplefilter(\"ignore\")\n",
    "warnings.filterwarnings(\"ignore\")\n",
    "from pandarallel import pandarallel\n",
    "from tqdm import tqdm"
   ]
  },
  {
   "cell_type": "code",
   "execution_count": 2,
   "id": "76a4090e",
   "metadata": {},
   "outputs": [],
   "source": [
    "from pathlib import Path\n",
    "rootpath = Path.cwd().parent\n",
    "sys.path.append(os.path.join(rootpath))"
   ]
  },
  {
   "cell_type": "code",
   "execution_count": 3,
   "id": "87edb12a",
   "metadata": {},
   "outputs": [],
   "source": [
    "from utils.constants import *\n",
    "from utils.eda_helpers import (\n",
    "    plot_missing_proportion_barchart, get_cols, plot_scatterplot, plot_target_check, \n",
    "    plot_int_feature_distribution, plot_train_test_distribution, check_overlap_missing,\n",
    "    insert_row_number, plot_sampled_time_series\n",
    ")\n",
    "from utils.eval_helpers import (\n",
    "    plot_roc_curves, plot_feature_importance, \n",
    "    amex_metric, get_final_metric_df, amex_metric_np, lgb_amex_metric\n",
    ")\n",
    "from utils.extraction_helpers import read_file\n",
    "from utils.feature_group import (\n",
    "    CATEGORY_COLUMNS, CONTINUOUS_COLUMNS, NON_FEATURE_COLUMNS\n",
    ")\n",
    "from utils.preprocess_helpers import *"
   ]
  },
  {
   "cell_type": "code",
   "execution_count": 4,
   "id": "3861c4a3",
   "metadata": {},
   "outputs": [],
   "source": [
    "%load_ext autoreload\n",
    "%autoreload"
   ]
  },
  {
   "cell_type": "code",
   "execution_count": 5,
   "id": "d5f99aa8",
   "metadata": {},
   "outputs": [
    {
     "data": {
      "text/plain": [
       "36"
      ]
     },
     "execution_count": 5,
     "metadata": {},
     "output_type": "execute_result"
    }
   ],
   "source": [
    "gc.collect()"
   ]
  },
  {
   "cell_type": "code",
   "execution_count": 6,
   "id": "d16cbb67",
   "metadata": {},
   "outputs": [],
   "source": [
    "START = time.time()"
   ]
  },
  {
   "cell_type": "code",
   "execution_count": 7,
   "id": "8a8b2799",
   "metadata": {},
   "outputs": [
    {
     "data": {
      "text/plain": [
       "['customer_ID', 'target', 'row_number', 'row_number_inv', 'S_2']"
      ]
     },
     "execution_count": 7,
     "metadata": {},
     "output_type": "execute_result"
    }
   ],
   "source": [
    "NON_FEATURE_COLUMNS"
   ]
  },
  {
   "cell_type": "markdown",
   "id": "85f33e91",
   "metadata": {},
   "source": [
    "### Combine Train Data"
   ]
  },
  {
   "cell_type": "code",
   "execution_count": 8,
   "id": "b09ac4f7",
   "metadata": {},
   "outputs": [
    {
     "name": "stdout",
     "output_type": "stream",
     "text": [
      "Shape of data: (5531451, 24)\n",
      "Shape of data: (5531451, 26)\n",
      "Shape of data: (5531451, 39)\n",
      "Shape of data: (5531451, 49)\n",
      "Shape of data: (5531451, 41)\n",
      "CPU times: user 14.7 s, sys: 6.79 s, total: 21.5 s\n",
      "Wall time: 7.05 s\n"
     ]
    }
   ],
   "source": [
    "%%time\n",
    "train_sp = read_file(f\"./train_parquet/train_spend_payment.parquet\")\n",
    "train_r = read_file(f\"./train_parquet/train_risk.parquet\")\n",
    "train_b = read_file(f\"./train_parquet/train_balance.parquet\")\n",
    "train_d1 = read_file(f\"./train_parquet/train_delinquency_part1.parquet\")\n",
    "train_d2 = read_file(f\"./train_parquet/train_delinquency_part2.parquet\")"
   ]
  },
  {
   "cell_type": "code",
   "execution_count": 9,
   "id": "0ac7e8ad",
   "metadata": {},
   "outputs": [
    {
     "name": "stdout",
     "output_type": "stream",
     "text": [
      "CPU times: user 18.6 s, sys: 4.31 s, total: 23 s\n",
      "Wall time: 22.9 s\n"
     ]
    }
   ],
   "source": [
    "%%time\n",
    "train = pd.concat([\n",
    "    train_sp.set_index(NON_FEATURE_COLUMNS),\n",
    "    train_r.set_index(NON_FEATURE_COLUMNS),\n",
    "    train_b.set_index(NON_FEATURE_COLUMNS),\n",
    "    train_d1.set_index(NON_FEATURE_COLUMNS),\n",
    "    train_d2.set_index(NON_FEATURE_COLUMNS)\n",
    "], axis=1).reset_index()"
   ]
  },
  {
   "cell_type": "code",
   "execution_count": 10,
   "id": "d679486c",
   "metadata": {},
   "outputs": [
    {
     "data": {
      "text/plain": [
       "(5531451, 159)"
      ]
     },
     "execution_count": 10,
     "metadata": {},
     "output_type": "execute_result"
    }
   ],
   "source": [
    "train.shape"
   ]
  },
  {
   "cell_type": "code",
   "execution_count": 11,
   "id": "8ae7916d",
   "metadata": {},
   "outputs": [
    {
     "data": {
      "text/plain": [
       "Index(['customer_ID', 'target', 'row_number', 'row_number_inv', 'S_2', 'P_2',\n",
       "       'S_3', 'P_3', 'S_5', 'S_6',\n",
       "       ...\n",
       "       'D_133', 'D_134', 'D_136', 'D_141', 'D_142', 'D_144', 'D_145', 'D_183',\n",
       "       'D_1314', 'D_1343'],\n",
       "      dtype='object', length=159)"
      ]
     },
     "execution_count": 11,
     "metadata": {},
     "output_type": "execute_result"
    }
   ],
   "source": [
    "train.columns"
   ]
  },
  {
   "cell_type": "code",
   "execution_count": 12,
   "id": "5407dd35",
   "metadata": {},
   "outputs": [
    {
     "name": "stdout",
     "output_type": "stream",
     "text": [
      "CPU times: user 23.5 s, sys: 1.08 s, total: 24.6 s\n",
      "Wall time: 20.7 s\n"
     ]
    }
   ],
   "source": [
    "%%time\n",
    "train.to_parquet(f\"./train_parquet/train_all_variables.parquet\")"
   ]
  },
  {
   "cell_type": "code",
   "execution_count": 13,
   "id": "6ed68941",
   "metadata": {},
   "outputs": [
    {
     "data": {
      "text/html": [
       "<div>\n",
       "<style scoped>\n",
       "    .dataframe tbody tr th:only-of-type {\n",
       "        vertical-align: middle;\n",
       "    }\n",
       "\n",
       "    .dataframe tbody tr th {\n",
       "        vertical-align: top;\n",
       "    }\n",
       "\n",
       "    .dataframe thead th {\n",
       "        text-align: right;\n",
       "    }\n",
       "</style>\n",
       "<table border=\"1\" class=\"dataframe\">\n",
       "  <thead>\n",
       "    <tr style=\"text-align: right;\">\n",
       "      <th></th>\n",
       "      <th>customer_ID</th>\n",
       "      <th>target</th>\n",
       "      <th>row_number</th>\n",
       "      <th>row_number_inv</th>\n",
       "      <th>S_2</th>\n",
       "      <th>P_2</th>\n",
       "      <th>S_3</th>\n",
       "      <th>P_3</th>\n",
       "      <th>S_5</th>\n",
       "      <th>S_6</th>\n",
       "      <th>...</th>\n",
       "      <th>D_133</th>\n",
       "      <th>D_134</th>\n",
       "      <th>D_136</th>\n",
       "      <th>D_141</th>\n",
       "      <th>D_142</th>\n",
       "      <th>D_144</th>\n",
       "      <th>D_145</th>\n",
       "      <th>D_183</th>\n",
       "      <th>D_1314</th>\n",
       "      <th>D_1343</th>\n",
       "    </tr>\n",
       "  </thead>\n",
       "  <tbody>\n",
       "    <tr>\n",
       "      <th>0</th>\n",
       "      <td>0000099d6bd597052cdcda90ffabf56573fe9d7c79be5f...</td>\n",
       "      <td>0</td>\n",
       "      <td>13</td>\n",
       "      <td>1</td>\n",
       "      <td>2017-03-09</td>\n",
       "      <td>0.9300</td>\n",
       "      <td>0.1200</td>\n",
       "      <td>0.7300</td>\n",
       "      <td>0.0200</td>\n",
       "      <td>0</td>\n",
       "      <td>...</td>\n",
       "      <td>NaN</td>\n",
       "      <td>NaN</td>\n",
       "      <td>NaN</td>\n",
       "      <td>NaN</td>\n",
       "      <td>NaN</td>\n",
       "      <td>NaN</td>\n",
       "      <td>0.0000</td>\n",
       "      <td>NaN</td>\n",
       "      <td>0.0000</td>\n",
       "      <td>0</td>\n",
       "    </tr>\n",
       "    <tr>\n",
       "      <th>1</th>\n",
       "      <td>0000099d6bd597052cdcda90ffabf56573fe9d7c79be5f...</td>\n",
       "      <td>0</td>\n",
       "      <td>12</td>\n",
       "      <td>2</td>\n",
       "      <td>2017-04-07</td>\n",
       "      <td>0.9300</td>\n",
       "      <td>0.1200</td>\n",
       "      <td>0.7200</td>\n",
       "      <td>0.0300</td>\n",
       "      <td>0</td>\n",
       "      <td>...</td>\n",
       "      <td>NaN</td>\n",
       "      <td>NaN</td>\n",
       "      <td>NaN</td>\n",
       "      <td>NaN</td>\n",
       "      <td>NaN</td>\n",
       "      <td>NaN</td>\n",
       "      <td>0.0000</td>\n",
       "      <td>NaN</td>\n",
       "      <td>0.0000</td>\n",
       "      <td>0</td>\n",
       "    </tr>\n",
       "    <tr>\n",
       "      <th>2</th>\n",
       "      <td>0000099d6bd597052cdcda90ffabf56573fe9d7c79be5f...</td>\n",
       "      <td>0</td>\n",
       "      <td>11</td>\n",
       "      <td>3</td>\n",
       "      <td>2017-05-28</td>\n",
       "      <td>0.9500</td>\n",
       "      <td>0.1200</td>\n",
       "      <td>0.7300</td>\n",
       "      <td>0.0400</td>\n",
       "      <td>0</td>\n",
       "      <td>...</td>\n",
       "      <td>NaN</td>\n",
       "      <td>NaN</td>\n",
       "      <td>NaN</td>\n",
       "      <td>NaN</td>\n",
       "      <td>NaN</td>\n",
       "      <td>NaN</td>\n",
       "      <td>0.0000</td>\n",
       "      <td>NaN</td>\n",
       "      <td>0.0000</td>\n",
       "      <td>0</td>\n",
       "    </tr>\n",
       "    <tr>\n",
       "      <th>3</th>\n",
       "      <td>0000099d6bd597052cdcda90ffabf56573fe9d7c79be5f...</td>\n",
       "      <td>0</td>\n",
       "      <td>10</td>\n",
       "      <td>4</td>\n",
       "      <td>2017-06-13</td>\n",
       "      <td>0.9600</td>\n",
       "      <td>0.1100</td>\n",
       "      <td>0.7400</td>\n",
       "      <td>0.0300</td>\n",
       "      <td>0</td>\n",
       "      <td>...</td>\n",
       "      <td>NaN</td>\n",
       "      <td>NaN</td>\n",
       "      <td>NaN</td>\n",
       "      <td>NaN</td>\n",
       "      <td>NaN</td>\n",
       "      <td>NaN</td>\n",
       "      <td>0.0000</td>\n",
       "      <td>NaN</td>\n",
       "      <td>0.0000</td>\n",
       "      <td>0</td>\n",
       "    </tr>\n",
       "    <tr>\n",
       "      <th>4</th>\n",
       "      <td>0000099d6bd597052cdcda90ffabf56573fe9d7c79be5f...</td>\n",
       "      <td>0</td>\n",
       "      <td>9</td>\n",
       "      <td>5</td>\n",
       "      <td>2017-07-16</td>\n",
       "      <td>0.9400</td>\n",
       "      <td>0.1100</td>\n",
       "      <td>0.6900</td>\n",
       "      <td>0.0500</td>\n",
       "      <td>0</td>\n",
       "      <td>...</td>\n",
       "      <td>NaN</td>\n",
       "      <td>NaN</td>\n",
       "      <td>NaN</td>\n",
       "      <td>NaN</td>\n",
       "      <td>NaN</td>\n",
       "      <td>NaN</td>\n",
       "      <td>0.0000</td>\n",
       "      <td>NaN</td>\n",
       "      <td>0.0000</td>\n",
       "      <td>0</td>\n",
       "    </tr>\n",
       "  </tbody>\n",
       "</table>\n",
       "<p>5 rows × 159 columns</p>\n",
       "</div>"
      ],
      "text/plain": [
       "                                         customer_ID  target  row_number  \\\n",
       "0  0000099d6bd597052cdcda90ffabf56573fe9d7c79be5f...       0          13   \n",
       "1  0000099d6bd597052cdcda90ffabf56573fe9d7c79be5f...       0          12   \n",
       "2  0000099d6bd597052cdcda90ffabf56573fe9d7c79be5f...       0          11   \n",
       "3  0000099d6bd597052cdcda90ffabf56573fe9d7c79be5f...       0          10   \n",
       "4  0000099d6bd597052cdcda90ffabf56573fe9d7c79be5f...       0           9   \n",
       "\n",
       "   row_number_inv        S_2    P_2    S_3    P_3    S_5  S_6  ...  D_133  \\\n",
       "0               1 2017-03-09 0.9300 0.1200 0.7300 0.0200    0  ...    NaN   \n",
       "1               2 2017-04-07 0.9300 0.1200 0.7200 0.0300    0  ...    NaN   \n",
       "2               3 2017-05-28 0.9500 0.1200 0.7300 0.0400    0  ...    NaN   \n",
       "3               4 2017-06-13 0.9600 0.1100 0.7400 0.0300    0  ...    NaN   \n",
       "4               5 2017-07-16 0.9400 0.1100 0.6900 0.0500    0  ...    NaN   \n",
       "\n",
       "   D_134  D_136  D_141  D_142  D_144  D_145  D_183  D_1314  D_1343  \n",
       "0    NaN    NaN    NaN    NaN    NaN 0.0000    NaN  0.0000       0  \n",
       "1    NaN    NaN    NaN    NaN    NaN 0.0000    NaN  0.0000       0  \n",
       "2    NaN    NaN    NaN    NaN    NaN 0.0000    NaN  0.0000       0  \n",
       "3    NaN    NaN    NaN    NaN    NaN 0.0000    NaN  0.0000       0  \n",
       "4    NaN    NaN    NaN    NaN    NaN 0.0000    NaN  0.0000       0  \n",
       "\n",
       "[5 rows x 159 columns]"
      ]
     },
     "execution_count": 13,
     "metadata": {},
     "output_type": "execute_result"
    }
   ],
   "source": [
    "train.head()"
   ]
  },
  {
   "cell_type": "code",
   "execution_count": 14,
   "id": "3e7e201d",
   "metadata": {},
   "outputs": [],
   "source": [
    "del train, train_sp, train_r, train_b, train_d1, train_d2"
   ]
  },
  {
   "cell_type": "markdown",
   "id": "8c39e6bf",
   "metadata": {},
   "source": [
    "### Combine Test Data"
   ]
  },
  {
   "cell_type": "code",
   "execution_count": 15,
   "id": "fc84b3d1",
   "metadata": {},
   "outputs": [
    {
     "name": "stdout",
     "output_type": "stream",
     "text": [
      "Shape of data: (11363762, 23)\n",
      "Shape of data: (11363762, 25)\n",
      "Shape of data: (11363762, 37)\n",
      "Shape of data: (11363762, 48)\n",
      "Shape of data: (11363762, 40)\n",
      "CPU times: user 27.2 s, sys: 12.9 s, total: 40.1 s\n",
      "Wall time: 13.4 s\n"
     ]
    }
   ],
   "source": [
    "%%time\n",
    "test_sp = read_file(f\"./test_parquet/test_spend_payment.parquet\")\n",
    "test_r = read_file(f\"./test_parquet/test_risk.parquet\")\n",
    "test_b = read_file(f\"./test_parquet/test_balance.parquet\")\n",
    "test_d1 = read_file(f\"./test_parquet/test_delinquency_part1.parquet\")\n",
    "test_d2 = read_file(f\"./test_parquet/test_delinquency_part2.parquet\")"
   ]
  },
  {
   "cell_type": "code",
   "execution_count": 16,
   "id": "c2c70a24",
   "metadata": {},
   "outputs": [],
   "source": [
    "cols = [c for c in NON_FEATURE_COLUMNS if c not in \"target\"]"
   ]
  },
  {
   "cell_type": "code",
   "execution_count": 17,
   "id": "704af605",
   "metadata": {},
   "outputs": [
    {
     "name": "stdout",
     "output_type": "stream",
     "text": [
      "Done insertion\n"
     ]
    }
   ],
   "source": [
    "insert_row_number(test_r)"
   ]
  },
  {
   "cell_type": "code",
   "execution_count": 18,
   "id": "9137930b",
   "metadata": {},
   "outputs": [
    {
     "name": "stdout",
     "output_type": "stream",
     "text": [
      "CPU times: user 36 s, sys: 7.8 s, total: 43.8 s\n",
      "Wall time: 43.8 s\n"
     ]
    }
   ],
   "source": [
    "%%time\n",
    "test = pd.concat([\n",
    "    test_sp.set_index(cols),\n",
    "    test_r.set_index(cols),\n",
    "    test_b.set_index(cols),\n",
    "    test_d1.set_index(cols),\n",
    "    test_d2.set_index(cols)\n",
    "], axis=1).reset_index()"
   ]
  },
  {
   "cell_type": "code",
   "execution_count": 19,
   "id": "3a5e9300",
   "metadata": {},
   "outputs": [
    {
     "data": {
      "text/plain": [
       "(11363762, 157)"
      ]
     },
     "execution_count": 19,
     "metadata": {},
     "output_type": "execute_result"
    }
   ],
   "source": [
    "test.shape"
   ]
  },
  {
   "cell_type": "code",
   "execution_count": 20,
   "id": "480df74b",
   "metadata": {},
   "outputs": [],
   "source": [
    "# cid_list = test[\"customer_ID\"].unique().tolist()\n",
    "# len(cid_list)\n",
    "# split_index = 462311"
   ]
  },
  {
   "cell_type": "code",
   "execution_count": 21,
   "id": "f26a408b",
   "metadata": {},
   "outputs": [],
   "source": [
    "test.to_parquet(f\"./test_parquet/test_all_variables.parquet\")\n",
    "# test.loc[test[\"customer_ID\"].isin(cid_list[split_index:])].to_parquet(f\"./test_parquet/test_all_variables2_.parquet\")"
   ]
  },
  {
   "cell_type": "code",
   "execution_count": 22,
   "id": "ec8027f3",
   "metadata": {},
   "outputs": [
    {
     "data": {
      "text/html": [
       "<div>\n",
       "<style scoped>\n",
       "    .dataframe tbody tr th:only-of-type {\n",
       "        vertical-align: middle;\n",
       "    }\n",
       "\n",
       "    .dataframe tbody tr th {\n",
       "        vertical-align: top;\n",
       "    }\n",
       "\n",
       "    .dataframe thead th {\n",
       "        text-align: right;\n",
       "    }\n",
       "</style>\n",
       "<table border=\"1\" class=\"dataframe\">\n",
       "  <thead>\n",
       "    <tr style=\"text-align: right;\">\n",
       "      <th></th>\n",
       "      <th>customer_ID</th>\n",
       "      <th>row_number</th>\n",
       "      <th>row_number_inv</th>\n",
       "      <th>S_2</th>\n",
       "      <th>P_2</th>\n",
       "      <th>S_3</th>\n",
       "      <th>P_3</th>\n",
       "      <th>S_5</th>\n",
       "      <th>S_6</th>\n",
       "      <th>S_7</th>\n",
       "      <th>...</th>\n",
       "      <th>D_133</th>\n",
       "      <th>D_134</th>\n",
       "      <th>D_136</th>\n",
       "      <th>D_141</th>\n",
       "      <th>D_142</th>\n",
       "      <th>D_144</th>\n",
       "      <th>D_145</th>\n",
       "      <th>D_183</th>\n",
       "      <th>D_1314</th>\n",
       "      <th>D_1343</th>\n",
       "    </tr>\n",
       "  </thead>\n",
       "  <tbody>\n",
       "    <tr>\n",
       "      <th>0</th>\n",
       "      <td>00000469ba478561f23a92a868bd366de6f6527a684c9a...</td>\n",
       "      <td>9</td>\n",
       "      <td>1</td>\n",
       "      <td>2019-02-19</td>\n",
       "      <td>0.6300</td>\n",
       "      <td>0.1600</td>\n",
       "      <td>NaN</td>\n",
       "      <td>0.0000</td>\n",
       "      <td>1</td>\n",
       "      <td>0.1000</td>\n",
       "      <td>...</td>\n",
       "      <td>NaN</td>\n",
       "      <td>NaN</td>\n",
       "      <td>NaN</td>\n",
       "      <td>NaN</td>\n",
       "      <td>NaN</td>\n",
       "      <td>NaN</td>\n",
       "      <td>NaN</td>\n",
       "      <td>NaN</td>\n",
       "      <td>0.0000</td>\n",
       "      <td>2</td>\n",
       "    </tr>\n",
       "    <tr>\n",
       "      <th>1</th>\n",
       "      <td>00000469ba478561f23a92a868bd366de6f6527a684c9a...</td>\n",
       "      <td>8</td>\n",
       "      <td>2</td>\n",
       "      <td>2019-03-25</td>\n",
       "      <td>0.5800</td>\n",
       "      <td>0.2400</td>\n",
       "      <td>NaN</td>\n",
       "      <td>0.0000</td>\n",
       "      <td>1</td>\n",
       "      <td>0.1600</td>\n",
       "      <td>...</td>\n",
       "      <td>NaN</td>\n",
       "      <td>NaN</td>\n",
       "      <td>NaN</td>\n",
       "      <td>NaN</td>\n",
       "      <td>NaN</td>\n",
       "      <td>NaN</td>\n",
       "      <td>0.0000</td>\n",
       "      <td>NaN</td>\n",
       "      <td>0.0000</td>\n",
       "      <td>0</td>\n",
       "    </tr>\n",
       "    <tr>\n",
       "      <th>2</th>\n",
       "      <td>00000469ba478561f23a92a868bd366de6f6527a684c9a...</td>\n",
       "      <td>7</td>\n",
       "      <td>3</td>\n",
       "      <td>2019-04-25</td>\n",
       "      <td>0.6000</td>\n",
       "      <td>0.2600</td>\n",
       "      <td>NaN</td>\n",
       "      <td>0.0000</td>\n",
       "      <td>0</td>\n",
       "      <td>0.2100</td>\n",
       "      <td>...</td>\n",
       "      <td>NaN</td>\n",
       "      <td>NaN</td>\n",
       "      <td>NaN</td>\n",
       "      <td>NaN</td>\n",
       "      <td>NaN</td>\n",
       "      <td>NaN</td>\n",
       "      <td>0.0000</td>\n",
       "      <td>NaN</td>\n",
       "      <td>0.0000</td>\n",
       "      <td>0</td>\n",
       "    </tr>\n",
       "    <tr>\n",
       "      <th>3</th>\n",
       "      <td>00000469ba478561f23a92a868bd366de6f6527a684c9a...</td>\n",
       "      <td>6</td>\n",
       "      <td>4</td>\n",
       "      <td>2019-05-20</td>\n",
       "      <td>0.6100</td>\n",
       "      <td>0.1800</td>\n",
       "      <td>NaN</td>\n",
       "      <td>0.0000</td>\n",
       "      <td>0</td>\n",
       "      <td>0.1900</td>\n",
       "      <td>...</td>\n",
       "      <td>NaN</td>\n",
       "      <td>NaN</td>\n",
       "      <td>NaN</td>\n",
       "      <td>NaN</td>\n",
       "      <td>NaN</td>\n",
       "      <td>NaN</td>\n",
       "      <td>0.0000</td>\n",
       "      <td>NaN</td>\n",
       "      <td>0.0000</td>\n",
       "      <td>0</td>\n",
       "    </tr>\n",
       "    <tr>\n",
       "      <th>4</th>\n",
       "      <td>00000469ba478561f23a92a868bd366de6f6527a684c9a...</td>\n",
       "      <td>5</td>\n",
       "      <td>5</td>\n",
       "      <td>2019-06-15</td>\n",
       "      <td>0.5900</td>\n",
       "      <td>0.1800</td>\n",
       "      <td>0.5900</td>\n",
       "      <td>0.0000</td>\n",
       "      <td>0</td>\n",
       "      <td>0.2000</td>\n",
       "      <td>...</td>\n",
       "      <td>NaN</td>\n",
       "      <td>NaN</td>\n",
       "      <td>NaN</td>\n",
       "      <td>NaN</td>\n",
       "      <td>NaN</td>\n",
       "      <td>NaN</td>\n",
       "      <td>0.0000</td>\n",
       "      <td>NaN</td>\n",
       "      <td>0.0000</td>\n",
       "      <td>0</td>\n",
       "    </tr>\n",
       "  </tbody>\n",
       "</table>\n",
       "<p>5 rows × 157 columns</p>\n",
       "</div>"
      ],
      "text/plain": [
       "                                         customer_ID  row_number  \\\n",
       "0  00000469ba478561f23a92a868bd366de6f6527a684c9a...           9   \n",
       "1  00000469ba478561f23a92a868bd366de6f6527a684c9a...           8   \n",
       "2  00000469ba478561f23a92a868bd366de6f6527a684c9a...           7   \n",
       "3  00000469ba478561f23a92a868bd366de6f6527a684c9a...           6   \n",
       "4  00000469ba478561f23a92a868bd366de6f6527a684c9a...           5   \n",
       "\n",
       "   row_number_inv        S_2    P_2    S_3    P_3    S_5  S_6    S_7  ...  \\\n",
       "0               1 2019-02-19 0.6300 0.1600    NaN 0.0000    1 0.1000  ...   \n",
       "1               2 2019-03-25 0.5800 0.2400    NaN 0.0000    1 0.1600  ...   \n",
       "2               3 2019-04-25 0.6000 0.2600    NaN 0.0000    0 0.2100  ...   \n",
       "3               4 2019-05-20 0.6100 0.1800    NaN 0.0000    0 0.1900  ...   \n",
       "4               5 2019-06-15 0.5900 0.1800 0.5900 0.0000    0 0.2000  ...   \n",
       "\n",
       "   D_133  D_134  D_136  D_141  D_142  D_144  D_145  D_183  D_1314  D_1343  \n",
       "0    NaN    NaN    NaN    NaN    NaN    NaN    NaN    NaN  0.0000       2  \n",
       "1    NaN    NaN    NaN    NaN    NaN    NaN 0.0000    NaN  0.0000       0  \n",
       "2    NaN    NaN    NaN    NaN    NaN    NaN 0.0000    NaN  0.0000       0  \n",
       "3    NaN    NaN    NaN    NaN    NaN    NaN 0.0000    NaN  0.0000       0  \n",
       "4    NaN    NaN    NaN    NaN    NaN    NaN 0.0000    NaN  0.0000       0  \n",
       "\n",
       "[5 rows x 157 columns]"
      ]
     },
     "execution_count": 22,
     "metadata": {},
     "output_type": "execute_result"
    }
   ],
   "source": [
    "test.head()"
   ]
  },
  {
   "cell_type": "code",
   "execution_count": 23,
   "id": "3c1aa99e",
   "metadata": {},
   "outputs": [],
   "source": [
    "# del test, test_sp, test_r, test_b, test_d1, test_d2"
   ]
  },
  {
   "cell_type": "code",
   "execution_count": null,
   "id": "f022c3d1",
   "metadata": {},
   "outputs": [],
   "source": []
  }
 ],
 "metadata": {
  "kernelspec": {
   "display_name": "amex",
   "language": "python",
   "name": "amex"
  },
  "language_info": {
   "codemirror_mode": {
    "name": "ipython",
    "version": 3
   },
   "file_extension": ".py",
   "mimetype": "text/x-python",
   "name": "python",
   "nbconvert_exporter": "python",
   "pygments_lexer": "ipython3",
   "version": "3.10.0"
  }
 },
 "nbformat": 4,
 "nbformat_minor": 5
}
