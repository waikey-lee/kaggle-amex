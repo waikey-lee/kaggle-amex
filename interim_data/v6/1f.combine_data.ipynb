{
 "cells": [
  {
   "cell_type": "code",
   "execution_count": 11,
   "id": "f557c870-6ed9-4bca-a399-1f0589f8a9b7",
   "metadata": {},
   "outputs": [],
   "source": [
    "import gc\n",
    "import math\n",
    "import matplotlib.pyplot as plt\n",
    "import numpy as np\n",
    "import os\n",
    "import pandas as pd\n",
    "pd.options.display.float_format = \"{:,.4f}\".format\n",
    "import random\n",
    "import sys\n",
    "sys.path.append(\"../../\")\n",
    "import time\n",
    "import warnings\n",
    "warnings.simplefilter(\"ignore\")\n",
    "warnings.filterwarnings(\"ignore\")\n",
    "from pandarallel import pandarallel\n",
    "from tqdm import tqdm"
   ]
  },
  {
   "cell_type": "code",
   "execution_count": 12,
   "id": "3c0e6ed6-0dc8-452a-8af1-35cce7451003",
   "metadata": {},
   "outputs": [],
   "source": [
    "from pathlib import Path\n",
    "rootpath = Path.cwd().parent\n",
    "sys.path.append(os.path.join(rootpath))"
   ]
  },
  {
   "cell_type": "code",
   "execution_count": 13,
   "id": "a2d9bd4d-9e6d-4c34-93b4-79a7f4cee3c4",
   "metadata": {},
   "outputs": [],
   "source": [
    "from utils.constants import *\n",
    "from utils.eda_helpers import (\n",
    "    plot_missing_proportion_barchart, get_cols, plot_scatterplot, plot_target_check, \n",
    "    plot_int_feature_distribution, plot_train_test_distribution, check_overlap_missing,\n",
    "    insert_row_number, plot_sampled_time_series\n",
    ")\n",
    "from utils.eval_helpers import (\n",
    "    plot_roc_curves, plot_feature_importance, \n",
    "    amex_metric, get_final_metric_df, amex_metric_np, lgb_amex_metric\n",
    ")\n",
    "from utils.extraction_helpers import read_file\n",
    "from utils.feature_group import (\n",
    "    CATEGORY_COLUMNS, CONTINUOUS_COLUMNS, NON_FEATURE_COLUMNS\n",
    ")\n",
    "from utils.preprocess_helpers import *"
   ]
  },
  {
   "cell_type": "code",
   "execution_count": 14,
   "id": "c2f81f2c-1eb4-4d16-aec5-e52f8bac2d9d",
   "metadata": {},
   "outputs": [
    {
     "name": "stdout",
     "output_type": "stream",
     "text": [
      "The autoreload extension is already loaded. To reload it, use:\n",
      "  %reload_ext autoreload\n"
     ]
    }
   ],
   "source": [
    "%load_ext autoreload\n",
    "%autoreload"
   ]
  },
  {
   "cell_type": "code",
   "execution_count": 15,
   "id": "6b9d2eb3-f68f-4a6b-8709-5d7359bb282a",
   "metadata": {},
   "outputs": [
    {
     "data": {
      "text/plain": [
       "552"
      ]
     },
     "execution_count": 15,
     "metadata": {},
     "output_type": "execute_result"
    }
   ],
   "source": [
    "gc.collect()"
   ]
  },
  {
   "cell_type": "code",
   "execution_count": 16,
   "id": "e49ccd79-e954-4c60-930d-25941d0c3d00",
   "metadata": {},
   "outputs": [],
   "source": [
    "START = time.time()"
   ]
  },
  {
   "cell_type": "code",
   "execution_count": 17,
   "id": "fd928445-7b3a-476a-a5fb-3a1d85db1ffc",
   "metadata": {},
   "outputs": [
    {
     "data": {
      "text/plain": [
       "['customer_ID', 'target', 'row_number', 'row_number_inv', 'S_2']"
      ]
     },
     "execution_count": 17,
     "metadata": {},
     "output_type": "execute_result"
    }
   ],
   "source": [
    "NON_FEATURE_COLUMNS"
   ]
  },
  {
   "cell_type": "markdown",
   "id": "3885beac-e245-43b6-a2cc-73e9f871d132",
   "metadata": {},
   "source": [
    "### Combine Train Data"
   ]
  },
  {
   "cell_type": "code",
   "execution_count": 18,
   "id": "398175be-8971-410b-bc44-1f78ba1d779f",
   "metadata": {},
   "outputs": [
    {
     "name": "stdout",
     "output_type": "stream",
     "text": [
      "Shape of data: (5531451, 24)\n",
      "Shape of data: (5531451, 33)\n",
      "Shape of data: (5531451, 46)\n",
      "Shape of data: (5531451, 55)\n",
      "Shape of data: (5531451, 48)\n",
      "CPU times: user 7.75 s, sys: 7.52 s, total: 15.3 s\n",
      "Wall time: 13.2 s\n"
     ]
    }
   ],
   "source": [
    "%%time\n",
    "train_sp = read_file(f\"./train_parquet/train_spend_payment.parquet\")\n",
    "train_r = read_file(f\"./train_parquet/train_risk.parquet\")\n",
    "train_b = read_file(f\"./train_parquet/train_balance.parquet\")\n",
    "train_d1 = read_file(f\"./train_parquet/train_delinquency_part1.parquet\")\n",
    "train_d2 = read_file(f\"./train_parquet/train_delinquency_part2.parquet\")"
   ]
  },
  {
   "cell_type": "code",
   "execution_count": 19,
   "id": "2db2f92f-85a8-484f-9685-4e1af3162afc",
   "metadata": {},
   "outputs": [
    {
     "name": "stdout",
     "output_type": "stream",
     "text": [
      "CPU times: user 10.4 s, sys: 14 s, total: 24.4 s\n",
      "Wall time: 43.6 s\n"
     ]
    }
   ],
   "source": [
    "%%time\n",
    "train = pd.concat([\n",
    "    train_sp.set_index(NON_FEATURE_COLUMNS),\n",
    "    train_r.set_index(NON_FEATURE_COLUMNS),\n",
    "    train_b.set_index(NON_FEATURE_COLUMNS),\n",
    "    train_d1.set_index(NON_FEATURE_COLUMNS),\n",
    "    train_d2.set_index(NON_FEATURE_COLUMNS)\n",
    "], axis=1).reset_index()"
   ]
  },
  {
   "cell_type": "code",
   "execution_count": 20,
   "id": "6540ac34-7ae2-49ae-a194-c33fd9bf1d2e",
   "metadata": {},
   "outputs": [
    {
     "data": {
      "text/plain": [
       "(5531451, 186)"
      ]
     },
     "execution_count": 20,
     "metadata": {},
     "output_type": "execute_result"
    }
   ],
   "source": [
    "train.shape"
   ]
  },
  {
   "cell_type": "code",
   "execution_count": 21,
   "id": "afe731b9-43c0-4286-a2b5-95dc96ddf83e",
   "metadata": {},
   "outputs": [
    {
     "data": {
      "text/plain": [
       "Index(['customer_ID', 'target', 'row_number', 'row_number_inv', 'S_2', 'P_2',\n",
       "       'S_3', 'P_3', 'S_5', 'S_6',\n",
       "       ...\n",
       "       'D_136', 'D_137', 'D_138', 'D_139', 'D_140', 'D_141', 'D_142', 'D_143',\n",
       "       'D_144', 'D_145'],\n",
       "      dtype='object', length=186)"
      ]
     },
     "execution_count": 21,
     "metadata": {},
     "output_type": "execute_result"
    }
   ],
   "source": [
    "train.columns"
   ]
  },
  {
   "cell_type": "code",
   "execution_count": 22,
   "id": "f2a17d5b-7233-4ff3-8ff4-20e7105b0724",
   "metadata": {},
   "outputs": [
    {
     "name": "stdout",
     "output_type": "stream",
     "text": [
      "CPU times: user 15.9 s, sys: 3.68 s, total: 19.6 s\n",
      "Wall time: 19.4 s\n"
     ]
    }
   ],
   "source": [
    "%%time\n",
    "train.to_parquet(f\"./train_parquet/train_all_variables_.parquet\")"
   ]
  },
  {
   "cell_type": "code",
   "execution_count": 23,
   "id": "db28ca60-e502-4efa-b388-6706ffd07776",
   "metadata": {},
   "outputs": [
    {
     "data": {
      "text/html": [
       "<div>\n",
       "<style scoped>\n",
       "    .dataframe tbody tr th:only-of-type {\n",
       "        vertical-align: middle;\n",
       "    }\n",
       "\n",
       "    .dataframe tbody tr th {\n",
       "        vertical-align: top;\n",
       "    }\n",
       "\n",
       "    .dataframe thead th {\n",
       "        text-align: right;\n",
       "    }\n",
       "</style>\n",
       "<table border=\"1\" class=\"dataframe\">\n",
       "  <thead>\n",
       "    <tr style=\"text-align: right;\">\n",
       "      <th></th>\n",
       "      <th>customer_ID</th>\n",
       "      <th>target</th>\n",
       "      <th>row_number</th>\n",
       "      <th>row_number_inv</th>\n",
       "      <th>S_2</th>\n",
       "      <th>P_2</th>\n",
       "      <th>S_3</th>\n",
       "      <th>P_3</th>\n",
       "      <th>S_5</th>\n",
       "      <th>S_6</th>\n",
       "      <th>...</th>\n",
       "      <th>D_136</th>\n",
       "      <th>D_137</th>\n",
       "      <th>D_138</th>\n",
       "      <th>D_139</th>\n",
       "      <th>D_140</th>\n",
       "      <th>D_141</th>\n",
       "      <th>D_142</th>\n",
       "      <th>D_143</th>\n",
       "      <th>D_144</th>\n",
       "      <th>D_145</th>\n",
       "    </tr>\n",
       "  </thead>\n",
       "  <tbody>\n",
       "    <tr>\n",
       "      <th>0</th>\n",
       "      <td>0000099d6bd597052cdcda90ffabf56573fe9d7c79be5f...</td>\n",
       "      <td>0</td>\n",
       "      <td>13</td>\n",
       "      <td>1</td>\n",
       "      <td>2017-03-09</td>\n",
       "      <td>0.9300</td>\n",
       "      <td>0.1200</td>\n",
       "      <td>0.7300</td>\n",
       "      <td>0.0200</td>\n",
       "      <td>0</td>\n",
       "      <td>...</td>\n",
       "      <td>NaN</td>\n",
       "      <td>NaN</td>\n",
       "      <td>NaN</td>\n",
       "      <td>0.0000</td>\n",
       "      <td>0.0000</td>\n",
       "      <td>NaN</td>\n",
       "      <td>NaN</td>\n",
       "      <td>0.0000</td>\n",
       "      <td>NaN</td>\n",
       "      <td>0.0000</td>\n",
       "    </tr>\n",
       "    <tr>\n",
       "      <th>1</th>\n",
       "      <td>0000099d6bd597052cdcda90ffabf56573fe9d7c79be5f...</td>\n",
       "      <td>0</td>\n",
       "      <td>12</td>\n",
       "      <td>2</td>\n",
       "      <td>2017-04-07</td>\n",
       "      <td>0.9300</td>\n",
       "      <td>0.1200</td>\n",
       "      <td>0.7200</td>\n",
       "      <td>0.0300</td>\n",
       "      <td>0</td>\n",
       "      <td>...</td>\n",
       "      <td>NaN</td>\n",
       "      <td>NaN</td>\n",
       "      <td>NaN</td>\n",
       "      <td>0.0000</td>\n",
       "      <td>0.0000</td>\n",
       "      <td>NaN</td>\n",
       "      <td>NaN</td>\n",
       "      <td>0.0000</td>\n",
       "      <td>NaN</td>\n",
       "      <td>0.0000</td>\n",
       "    </tr>\n",
       "    <tr>\n",
       "      <th>2</th>\n",
       "      <td>0000099d6bd597052cdcda90ffabf56573fe9d7c79be5f...</td>\n",
       "      <td>0</td>\n",
       "      <td>11</td>\n",
       "      <td>3</td>\n",
       "      <td>2017-05-28</td>\n",
       "      <td>0.9500</td>\n",
       "      <td>0.1200</td>\n",
       "      <td>0.7300</td>\n",
       "      <td>0.0400</td>\n",
       "      <td>0</td>\n",
       "      <td>...</td>\n",
       "      <td>NaN</td>\n",
       "      <td>NaN</td>\n",
       "      <td>NaN</td>\n",
       "      <td>0.0000</td>\n",
       "      <td>0.0000</td>\n",
       "      <td>NaN</td>\n",
       "      <td>NaN</td>\n",
       "      <td>0.0000</td>\n",
       "      <td>NaN</td>\n",
       "      <td>0.0000</td>\n",
       "    </tr>\n",
       "    <tr>\n",
       "      <th>3</th>\n",
       "      <td>0000099d6bd597052cdcda90ffabf56573fe9d7c79be5f...</td>\n",
       "      <td>0</td>\n",
       "      <td>10</td>\n",
       "      <td>4</td>\n",
       "      <td>2017-06-13</td>\n",
       "      <td>0.9600</td>\n",
       "      <td>0.1100</td>\n",
       "      <td>0.7400</td>\n",
       "      <td>0.0300</td>\n",
       "      <td>0</td>\n",
       "      <td>...</td>\n",
       "      <td>NaN</td>\n",
       "      <td>NaN</td>\n",
       "      <td>NaN</td>\n",
       "      <td>0.0000</td>\n",
       "      <td>0.0000</td>\n",
       "      <td>NaN</td>\n",
       "      <td>NaN</td>\n",
       "      <td>0.0000</td>\n",
       "      <td>NaN</td>\n",
       "      <td>0.0000</td>\n",
       "    </tr>\n",
       "    <tr>\n",
       "      <th>4</th>\n",
       "      <td>0000099d6bd597052cdcda90ffabf56573fe9d7c79be5f...</td>\n",
       "      <td>0</td>\n",
       "      <td>9</td>\n",
       "      <td>5</td>\n",
       "      <td>2017-07-16</td>\n",
       "      <td>0.9400</td>\n",
       "      <td>0.1100</td>\n",
       "      <td>0.6900</td>\n",
       "      <td>0.0500</td>\n",
       "      <td>0</td>\n",
       "      <td>...</td>\n",
       "      <td>NaN</td>\n",
       "      <td>NaN</td>\n",
       "      <td>NaN</td>\n",
       "      <td>0.0000</td>\n",
       "      <td>0.0000</td>\n",
       "      <td>NaN</td>\n",
       "      <td>NaN</td>\n",
       "      <td>0.0000</td>\n",
       "      <td>NaN</td>\n",
       "      <td>0.0000</td>\n",
       "    </tr>\n",
       "  </tbody>\n",
       "</table>\n",
       "<p>5 rows × 186 columns</p>\n",
       "</div>"
      ],
      "text/plain": [
       "                                         customer_ID  target  row_number  \\\n",
       "0  0000099d6bd597052cdcda90ffabf56573fe9d7c79be5f...       0          13   \n",
       "1  0000099d6bd597052cdcda90ffabf56573fe9d7c79be5f...       0          12   \n",
       "2  0000099d6bd597052cdcda90ffabf56573fe9d7c79be5f...       0          11   \n",
       "3  0000099d6bd597052cdcda90ffabf56573fe9d7c79be5f...       0          10   \n",
       "4  0000099d6bd597052cdcda90ffabf56573fe9d7c79be5f...       0           9   \n",
       "\n",
       "   row_number_inv        S_2    P_2    S_3    P_3    S_5  S_6  ...  D_136  \\\n",
       "0               1 2017-03-09 0.9300 0.1200 0.7300 0.0200    0  ...    NaN   \n",
       "1               2 2017-04-07 0.9300 0.1200 0.7200 0.0300    0  ...    NaN   \n",
       "2               3 2017-05-28 0.9500 0.1200 0.7300 0.0400    0  ...    NaN   \n",
       "3               4 2017-06-13 0.9600 0.1100 0.7400 0.0300    0  ...    NaN   \n",
       "4               5 2017-07-16 0.9400 0.1100 0.6900 0.0500    0  ...    NaN   \n",
       "\n",
       "   D_137  D_138  D_139  D_140  D_141  D_142  D_143  D_144  D_145  \n",
       "0    NaN    NaN 0.0000 0.0000    NaN    NaN 0.0000    NaN 0.0000  \n",
       "1    NaN    NaN 0.0000 0.0000    NaN    NaN 0.0000    NaN 0.0000  \n",
       "2    NaN    NaN 0.0000 0.0000    NaN    NaN 0.0000    NaN 0.0000  \n",
       "3    NaN    NaN 0.0000 0.0000    NaN    NaN 0.0000    NaN 0.0000  \n",
       "4    NaN    NaN 0.0000 0.0000    NaN    NaN 0.0000    NaN 0.0000  \n",
       "\n",
       "[5 rows x 186 columns]"
      ]
     },
     "execution_count": 23,
     "metadata": {},
     "output_type": "execute_result"
    }
   ],
   "source": [
    "train.head()"
   ]
  },
  {
   "cell_type": "code",
   "execution_count": 24,
   "id": "e726bd72-26c7-48e4-8022-fadf76dd9a5e",
   "metadata": {},
   "outputs": [],
   "source": [
    "del train, train_sp, train_r, train_b, train_d1, train_d2"
   ]
  },
  {
   "cell_type": "markdown",
   "id": "edcced13-648f-45ff-96c4-51eb918140e8",
   "metadata": {},
   "source": [
    "### Combine Test Data"
   ]
  },
  {
   "cell_type": "code",
   "execution_count": 25,
   "id": "4644a2d0-a6e3-46b8-be9f-b8a71ce71aec",
   "metadata": {},
   "outputs": [
    {
     "name": "stdout",
     "output_type": "stream",
     "text": [
      "Shape of data: (11363762, 23)\n",
      "Shape of data: (11363762, 32)\n",
      "Shape of data: (11363762, 45)\n",
      "Shape of data: (11363762, 54)\n",
      "Shape of data: (11363762, 47)\n",
      "CPU times: user 15 s, sys: 18.3 s, total: 33.2 s\n",
      "Wall time: 32.9 s\n"
     ]
    }
   ],
   "source": [
    "%%time\n",
    "test_sp = read_file(f\"./test_parquet/test_spend_payment.parquet\")\n",
    "test_r = read_file(f\"./test_parquet/test_risk.parquet\")\n",
    "test_b = read_file(f\"./test_parquet/test_balance.parquet\")\n",
    "test_d1 = read_file(f\"./test_parquet/test_delinquency_part1.parquet\")\n",
    "test_d2 = read_file(f\"./test_parquet/test_delinquency_part2.parquet\")"
   ]
  },
  {
   "cell_type": "code",
   "execution_count": 26,
   "id": "cd69d9c7-1d69-425b-a5e4-eeca09526714",
   "metadata": {},
   "outputs": [],
   "source": [
    "cols = [c for c in NON_FEATURE_COLUMNS if c not in \"target\"]"
   ]
  },
  {
   "cell_type": "code",
   "execution_count": 27,
   "id": "132fb5f2-9874-41b0-b40f-a6e0e2d2c15a",
   "metadata": {},
   "outputs": [
    {
     "name": "stdout",
     "output_type": "stream",
     "text": [
      "Done insertion\n"
     ]
    }
   ],
   "source": [
    "insert_row_number(test_r)"
   ]
  },
  {
   "cell_type": "code",
   "execution_count": 28,
   "id": "0c584bee-21cb-447a-b8e3-0b0da176bf8d",
   "metadata": {},
   "outputs": [
    {
     "name": "stdout",
     "output_type": "stream",
     "text": [
      "CPU times: user 20.3 s, sys: 28.1 s, total: 48.4 s\n",
      "Wall time: 1min 32s\n"
     ]
    }
   ],
   "source": [
    "%%time\n",
    "test = pd.concat([\n",
    "    test_sp.set_index(cols),\n",
    "    test_r.set_index(cols),\n",
    "    test_b.set_index(cols),\n",
    "    test_d1.set_index(cols),\n",
    "    test_d2.set_index(cols)\n",
    "], axis=1).reset_index()"
   ]
  },
  {
   "cell_type": "code",
   "execution_count": 29,
   "id": "392f2d95-5121-47ee-9bf8-9809d01b04a5",
   "metadata": {},
   "outputs": [
    {
     "data": {
      "text/plain": [
       "(11363762, 185)"
      ]
     },
     "execution_count": 29,
     "metadata": {},
     "output_type": "execute_result"
    }
   ],
   "source": [
    "test.shape"
   ]
  },
  {
   "cell_type": "code",
   "execution_count": 30,
   "id": "a0418c56-f5a2-48c8-9e1d-3dc0886e8864",
   "metadata": {},
   "outputs": [
    {
     "data": {
      "text/plain": [
       "924621"
      ]
     },
     "execution_count": 30,
     "metadata": {},
     "output_type": "execute_result"
    }
   ],
   "source": [
    "cid_list = test[\"customer_ID\"].unique().tolist()\n",
    "len(cid_list)"
   ]
  },
  {
   "cell_type": "code",
   "execution_count": 31,
   "id": "7204dd8d-9c5d-4c75-ba4d-8fc661891387",
   "metadata": {},
   "outputs": [],
   "source": [
    "split_index = 462311"
   ]
  },
  {
   "cell_type": "code",
   "execution_count": 32,
   "id": "75a49f78-7855-48bb-b1d6-d391c66ba2a6",
   "metadata": {},
   "outputs": [],
   "source": [
    "test.loc[test[\"customer_ID\"].isin(cid_list[:split_index])].to_parquet(f\"./test_parquet/test_all_variables1_.parquet\")\n",
    "test.loc[test[\"customer_ID\"].isin(cid_list[split_index:])].to_parquet(f\"./test_parquet/test_all_variables2_.parquet\")"
   ]
  },
  {
   "cell_type": "code",
   "execution_count": 33,
   "id": "89b5bee0-ab3c-40a0-93f9-f1c902c13251",
   "metadata": {},
   "outputs": [
    {
     "data": {
      "text/html": [
       "<div>\n",
       "<style scoped>\n",
       "    .dataframe tbody tr th:only-of-type {\n",
       "        vertical-align: middle;\n",
       "    }\n",
       "\n",
       "    .dataframe tbody tr th {\n",
       "        vertical-align: top;\n",
       "    }\n",
       "\n",
       "    .dataframe thead th {\n",
       "        text-align: right;\n",
       "    }\n",
       "</style>\n",
       "<table border=\"1\" class=\"dataframe\">\n",
       "  <thead>\n",
       "    <tr style=\"text-align: right;\">\n",
       "      <th></th>\n",
       "      <th>customer_ID</th>\n",
       "      <th>row_number</th>\n",
       "      <th>row_number_inv</th>\n",
       "      <th>S_2</th>\n",
       "      <th>P_2</th>\n",
       "      <th>S_3</th>\n",
       "      <th>P_3</th>\n",
       "      <th>S_5</th>\n",
       "      <th>S_6</th>\n",
       "      <th>S_7</th>\n",
       "      <th>...</th>\n",
       "      <th>D_136</th>\n",
       "      <th>D_137</th>\n",
       "      <th>D_138</th>\n",
       "      <th>D_139</th>\n",
       "      <th>D_140</th>\n",
       "      <th>D_141</th>\n",
       "      <th>D_142</th>\n",
       "      <th>D_143</th>\n",
       "      <th>D_144</th>\n",
       "      <th>D_145</th>\n",
       "    </tr>\n",
       "  </thead>\n",
       "  <tbody>\n",
       "    <tr>\n",
       "      <th>0</th>\n",
       "      <td>00000469ba478561f23a92a868bd366de6f6527a684c9a...</td>\n",
       "      <td>9</td>\n",
       "      <td>1</td>\n",
       "      <td>2019-02-19</td>\n",
       "      <td>0.6300</td>\n",
       "      <td>0.1600</td>\n",
       "      <td>NaN</td>\n",
       "      <td>0.0000</td>\n",
       "      <td>1</td>\n",
       "      <td>0.1000</td>\n",
       "      <td>...</td>\n",
       "      <td>NaN</td>\n",
       "      <td>NaN</td>\n",
       "      <td>NaN</td>\n",
       "      <td>NaN</td>\n",
       "      <td>0.0000</td>\n",
       "      <td>NaN</td>\n",
       "      <td>NaN</td>\n",
       "      <td>NaN</td>\n",
       "      <td>NaN</td>\n",
       "      <td>NaN</td>\n",
       "    </tr>\n",
       "    <tr>\n",
       "      <th>1</th>\n",
       "      <td>00000469ba478561f23a92a868bd366de6f6527a684c9a...</td>\n",
       "      <td>8</td>\n",
       "      <td>2</td>\n",
       "      <td>2019-03-25</td>\n",
       "      <td>0.5800</td>\n",
       "      <td>0.2400</td>\n",
       "      <td>NaN</td>\n",
       "      <td>0.0000</td>\n",
       "      <td>1</td>\n",
       "      <td>0.1600</td>\n",
       "      <td>...</td>\n",
       "      <td>NaN</td>\n",
       "      <td>NaN</td>\n",
       "      <td>NaN</td>\n",
       "      <td>0.0000</td>\n",
       "      <td>0.0000</td>\n",
       "      <td>NaN</td>\n",
       "      <td>NaN</td>\n",
       "      <td>0.0000</td>\n",
       "      <td>NaN</td>\n",
       "      <td>0.0000</td>\n",
       "    </tr>\n",
       "    <tr>\n",
       "      <th>2</th>\n",
       "      <td>00000469ba478561f23a92a868bd366de6f6527a684c9a...</td>\n",
       "      <td>7</td>\n",
       "      <td>3</td>\n",
       "      <td>2019-04-25</td>\n",
       "      <td>0.6000</td>\n",
       "      <td>0.2600</td>\n",
       "      <td>NaN</td>\n",
       "      <td>0.0000</td>\n",
       "      <td>0</td>\n",
       "      <td>0.2100</td>\n",
       "      <td>...</td>\n",
       "      <td>NaN</td>\n",
       "      <td>NaN</td>\n",
       "      <td>NaN</td>\n",
       "      <td>0.0000</td>\n",
       "      <td>0.0000</td>\n",
       "      <td>NaN</td>\n",
       "      <td>NaN</td>\n",
       "      <td>0.0000</td>\n",
       "      <td>NaN</td>\n",
       "      <td>0.0000</td>\n",
       "    </tr>\n",
       "    <tr>\n",
       "      <th>3</th>\n",
       "      <td>00000469ba478561f23a92a868bd366de6f6527a684c9a...</td>\n",
       "      <td>6</td>\n",
       "      <td>4</td>\n",
       "      <td>2019-05-20</td>\n",
       "      <td>0.6100</td>\n",
       "      <td>0.1800</td>\n",
       "      <td>NaN</td>\n",
       "      <td>0.0000</td>\n",
       "      <td>0</td>\n",
       "      <td>0.1900</td>\n",
       "      <td>...</td>\n",
       "      <td>NaN</td>\n",
       "      <td>NaN</td>\n",
       "      <td>NaN</td>\n",
       "      <td>0.0000</td>\n",
       "      <td>0.0000</td>\n",
       "      <td>NaN</td>\n",
       "      <td>NaN</td>\n",
       "      <td>0.0000</td>\n",
       "      <td>NaN</td>\n",
       "      <td>0.0000</td>\n",
       "    </tr>\n",
       "    <tr>\n",
       "      <th>4</th>\n",
       "      <td>00000469ba478561f23a92a868bd366de6f6527a684c9a...</td>\n",
       "      <td>5</td>\n",
       "      <td>5</td>\n",
       "      <td>2019-06-15</td>\n",
       "      <td>0.5900</td>\n",
       "      <td>0.1800</td>\n",
       "      <td>0.5900</td>\n",
       "      <td>0.0000</td>\n",
       "      <td>0</td>\n",
       "      <td>0.2000</td>\n",
       "      <td>...</td>\n",
       "      <td>NaN</td>\n",
       "      <td>NaN</td>\n",
       "      <td>NaN</td>\n",
       "      <td>0.0000</td>\n",
       "      <td>0.0000</td>\n",
       "      <td>NaN</td>\n",
       "      <td>NaN</td>\n",
       "      <td>0.0000</td>\n",
       "      <td>NaN</td>\n",
       "      <td>0.0000</td>\n",
       "    </tr>\n",
       "  </tbody>\n",
       "</table>\n",
       "<p>5 rows × 185 columns</p>\n",
       "</div>"
      ],
      "text/plain": [
       "                                         customer_ID  row_number  \\\n",
       "0  00000469ba478561f23a92a868bd366de6f6527a684c9a...           9   \n",
       "1  00000469ba478561f23a92a868bd366de6f6527a684c9a...           8   \n",
       "2  00000469ba478561f23a92a868bd366de6f6527a684c9a...           7   \n",
       "3  00000469ba478561f23a92a868bd366de6f6527a684c9a...           6   \n",
       "4  00000469ba478561f23a92a868bd366de6f6527a684c9a...           5   \n",
       "\n",
       "   row_number_inv        S_2    P_2    S_3    P_3    S_5  S_6    S_7  ...  \\\n",
       "0               1 2019-02-19 0.6300 0.1600    NaN 0.0000    1 0.1000  ...   \n",
       "1               2 2019-03-25 0.5800 0.2400    NaN 0.0000    1 0.1600  ...   \n",
       "2               3 2019-04-25 0.6000 0.2600    NaN 0.0000    0 0.2100  ...   \n",
       "3               4 2019-05-20 0.6100 0.1800    NaN 0.0000    0 0.1900  ...   \n",
       "4               5 2019-06-15 0.5900 0.1800 0.5900 0.0000    0 0.2000  ...   \n",
       "\n",
       "   D_136  D_137  D_138  D_139  D_140  D_141  D_142  D_143  D_144  D_145  \n",
       "0    NaN    NaN    NaN    NaN 0.0000    NaN    NaN    NaN    NaN    NaN  \n",
       "1    NaN    NaN    NaN 0.0000 0.0000    NaN    NaN 0.0000    NaN 0.0000  \n",
       "2    NaN    NaN    NaN 0.0000 0.0000    NaN    NaN 0.0000    NaN 0.0000  \n",
       "3    NaN    NaN    NaN 0.0000 0.0000    NaN    NaN 0.0000    NaN 0.0000  \n",
       "4    NaN    NaN    NaN 0.0000 0.0000    NaN    NaN 0.0000    NaN 0.0000  \n",
       "\n",
       "[5 rows x 185 columns]"
      ]
     },
     "execution_count": 33,
     "metadata": {},
     "output_type": "execute_result"
    }
   ],
   "source": [
    "test.head()"
   ]
  },
  {
   "cell_type": "code",
   "execution_count": 34,
   "id": "3086fd9d-bec0-41ba-8cc9-6ea660b6dc16",
   "metadata": {},
   "outputs": [],
   "source": [
    "del test, test_sp, test_r, test_b, test_d1, test_d2"
   ]
  },
  {
   "cell_type": "code",
   "execution_count": null,
   "id": "ed8b900a-fc29-412d-869c-3d1087fc599e",
   "metadata": {},
   "outputs": [],
   "source": []
  }
 ],
 "metadata": {
  "kernelspec": {
   "display_name": "amex",
   "language": "python",
   "name": "amex"
  },
  "language_info": {
   "codemirror_mode": {
    "name": "ipython",
    "version": 3
   },
   "file_extension": ".py",
   "mimetype": "text/x-python",
   "name": "python",
   "nbconvert_exporter": "python",
   "pygments_lexer": "ipython3",
   "version": "3.10.0"
  }
 },
 "nbformat": 4,
 "nbformat_minor": 5
}
